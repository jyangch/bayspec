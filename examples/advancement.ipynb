{
 "cells": [
  {
   "cell_type": "code",
   "execution_count": 2,
   "id": "48405a8a-75f0-4a2c-939a-14bd87ec3b89",
   "metadata": {},
   "outputs": [],
   "source": [
    "import numpy as np\n",
    "from bayspec.model.local import *\n",
    "from bayspec.model.astro import *\n",
    "from bayspec import DataUnit, Data, Infer, Plot"
   ]
  },
  {
   "cell_type": "code",
   "execution_count": 3,
   "id": "05f33c9e",
   "metadata": {},
   "outputs": [],
   "source": [
    "savepath = 'advancement'"
   ]
  },
  {
   "cell_type": "code",
   "execution_count": 4,
   "id": "d21b52f6-3546-4423-bca9-ad837f15b033",
   "metadata": {},
   "outputs": [],
   "source": [
    "le = DataUnit(\n",
    "    src='./LE/le.src', \n",
    "    bkg='./LE/le.bkg', \n",
    "    rmf='./LE/le.rmf', \n",
    "    arf='./LE/le.arf', \n",
    "    notc=[0.5, 4], \n",
    "    stat='cstat', \n",
    "    grpg={'min_nevt': 10})\n",
    "\n",
    "me = DataUnit(\n",
    "    src='./ME/me.src', \n",
    "    bkg='./ME/me.bkg', \n",
    "    rsp='./ME/me.rsp', \n",
    "    notc=[8, 900], \n",
    "    stat='pgstat', \n",
    "    rebn={'min_sigma': 3, 'max_bin': 10})\n",
    "\n",
    "he = DataUnit(\n",
    "    src='./HE/he.src', \n",
    "    bkg='./HE/he.bkg', \n",
    "    rsp='./HE/he.rsp', \n",
    "    notc=[300, 38000], \n",
    "    stat='pgstat', \n",
    "    rebn={'min_sigma': 3, 'max_bin': 10})\n",
    "\n",
    "data1 = Data([('LE', le)])\n",
    "\n",
    "data2 = Data([('ME', me), ('HE', he)])"
   ]
  },
  {
   "cell_type": "code",
   "execution_count": 5,
   "id": "4573ec7a",
   "metadata": {},
   "outputs": [],
   "source": [
    "tbabs_ins = AS_TbAbs()\n",
    "\n",
    "ztbabs_ins = AS_TbAbs()\n",
    "ztbabs_ins.expr = 'AS_zTbAbs'\n",
    "\n",
    "cpl_ins = cpl()\n",
    "csbpl_ins = csbpl()\n",
    "\n",
    "model1 = tbabs_ins * ztbabs_ins * (cpl_ins + csbpl_ins)\n",
    "model2 = cpl_ins + csbpl_ins"
   ]
  },
  {
   "cell_type": "code",
   "execution_count": 6,
   "id": "ae57d6a0-d366-42e2-aaf6-46a0fdd15f9f",
   "metadata": {},
   "outputs": [
    {
     "name": "stdout",
     "output_type": "stream",
     "text": [
      "╒════════╤═════════╤════════════════════════════════════╤═════════════╤═════════════╤═════════╕\n",
      "│  cfg#  │  Class  │             Expression             │  Component  │  Parameter  │  Value  │\n",
      "╞════════╪═════════╪════════════════════════════════════╪═════════════╪═════════════╪═════════╡\n",
      "│   1    │  model  │ ((AS_TbAbs*AS_zTbAbs)*(cpl+csbpl)) │  AS_TbAbs   │  redshift   │    0    │\n",
      "├────────┼─────────┼────────────────────────────────────┼─────────────┼─────────────┼─────────┤\n",
      "│   2    │  model  │ ((AS_TbAbs*AS_zTbAbs)*(cpl+csbpl)) │  AS_zTbAbs  │  redshift   │    0    │\n",
      "├────────┼─────────┼────────────────────────────────────┼─────────────┼─────────────┼─────────┤\n",
      "│   3    │  model  │ ((AS_TbAbs*AS_zTbAbs)*(cpl+csbpl)) │     cpl     │  redshift   │    0    │\n",
      "├────────┼─────────┼────────────────────────────────────┼─────────────┼─────────────┼─────────┤\n",
      "│   4    │  model  │ ((AS_TbAbs*AS_zTbAbs)*(cpl+csbpl)) │    csbpl    │  redshift   │    0    │\n",
      "├────────┼─────────┼────────────────────────────────────┼─────────────┼─────────────┼─────────┤\n",
      "│   5    │  model  │ ((AS_TbAbs*AS_zTbAbs)*(cpl+csbpl)) │    csbpl    │ smoothness  │    2    │\n",
      "├────────┼─────────┼────────────────────────────────────┼─────────────┼─────────────┼─────────┤\n",
      "│   6    │  model  │            (cpl+csbpl)             │     cpl     │  redshift   │    0    │\n",
      "├────────┼─────────┼────────────────────────────────────┼─────────────┼─────────────┼─────────┤\n",
      "│   7    │  model  │            (cpl+csbpl)             │    csbpl    │  redshift   │    0    │\n",
      "├────────┼─────────┼────────────────────────────────────┼─────────────┼─────────────┼─────────┤\n",
      "│   8    │  model  │            (cpl+csbpl)             │    csbpl    │ smoothness  │    2    │\n",
      "╘════════╧═════════╧════════════════════════════════════╧═════════════╧═════════════╧═════════╛\n",
      "╒════════╤═════════╤════════════════════════════════════╤═════════════╤══════════════╤═════════╤══════════════════╕\n",
      "│  par#  │  Class  │             Expression             │  Component  │  Parameter   │  Value  │      Prior       │\n",
      "╞════════╪═════════╪════════════════════════════════════╪═════════════╪══════════════╪═════════╪══════════════════╡\n",
      "│   1*   │  model  │ ((AS_TbAbs*AS_zTbAbs)*(cpl+csbpl)) │  AS_TbAbs   │      NH      │    1    │ unif(0.0001, 20) │\n",
      "├────────┼─────────┼────────────────────────────────────┼─────────────┼──────────────┼─────────┼──────────────────┤\n",
      "│   2*   │  model  │ ((AS_TbAbs*AS_zTbAbs)*(cpl+csbpl)) │  AS_zTbAbs  │      NH      │    1    │ unif(0.0001, 20) │\n",
      "├────────┼─────────┼────────────────────────────────────┼─────────────┼──────────────┼─────────┼──────────────────┤\n",
      "│   3*   │  model  │ ((AS_TbAbs*AS_zTbAbs)*(cpl+csbpl)) │     cpl     │   $\\alpha$   │   -1    │   unif(-8, 4)    │\n",
      "├────────┼─────────┼────────────────────────────────────┼─────────────┼──────────────┼─────────┼──────────────────┤\n",
      "│   4*   │  model  │ ((AS_TbAbs*AS_zTbAbs)*(cpl+csbpl)) │     cpl     │  log$E_{c}$  │    2    │    unif(0, 4)    │\n",
      "├────────┼─────────┼────────────────────────────────────┼─────────────┼──────────────┼─────────┼──────────────────┤\n",
      "│   5*   │  model  │ ((AS_TbAbs*AS_zTbAbs)*(cpl+csbpl)) │     cpl     │    log$A$    │   -1    │   unif(-6, 5)    │\n",
      "├────────┼─────────┼────────────────────────────────────┼─────────────┼──────────────┼─────────┼──────────────────┤\n",
      "│   6*   │  model  │ ((AS_TbAbs*AS_zTbAbs)*(cpl+csbpl)) │    csbpl    │ $\\alpha_{1}$ │    1    │   unif(-2, 2)    │\n",
      "├────────┼─────────┼────────────────────────────────────┼─────────────┼──────────────┼─────────┼──────────────────┤\n",
      "│   7*   │  model  │ ((AS_TbAbs*AS_zTbAbs)*(cpl+csbpl)) │    csbpl    │ $\\alpha_{2}$ │   -1    │   unif(-2, 2)    │\n",
      "├────────┼─────────┼────────────────────────────────────┼─────────────┼──────────────┼─────────┼──────────────────┤\n",
      "│   8*   │  model  │ ((AS_TbAbs*AS_zTbAbs)*(cpl+csbpl)) │    csbpl    │  log$E_{b}$  │    1    │   unif(-1, 2)    │\n",
      "├────────┼─────────┼────────────────────────────────────┼─────────────┼──────────────┼─────────┼──────────────────┤\n",
      "│   9*   │  model  │ ((AS_TbAbs*AS_zTbAbs)*(cpl+csbpl)) │    csbpl    │  log$E_{p}$  │    3    │    unif(1, 4)    │\n",
      "├────────┼─────────┼────────────────────────────────────┼─────────────┼──────────────┼─────────┼──────────────────┤\n",
      "│  10*   │  model  │ ((AS_TbAbs*AS_zTbAbs)*(cpl+csbpl)) │    csbpl    │    log$A$    │    0    │   unif(-6, 6)    │\n",
      "├────────┼─────────┼────────────────────────────────────┼─────────────┼──────────────┼─────────┼──────────────────┤\n",
      "│   11   │  model  │            (cpl+csbpl)             │     cpl     │   $\\alpha$   │   -1    │     =par#{3}     │\n",
      "├────────┼─────────┼────────────────────────────────────┼─────────────┼──────────────┼─────────┼──────────────────┤\n",
      "│   12   │  model  │            (cpl+csbpl)             │     cpl     │  log$E_{c}$  │    2    │     =par#{4}     │\n",
      "├────────┼─────────┼────────────────────────────────────┼─────────────┼──────────────┼─────────┼──────────────────┤\n",
      "│   13   │  model  │            (cpl+csbpl)             │     cpl     │    log$A$    │   -1    │     =par#{5}     │\n",
      "├────────┼─────────┼────────────────────────────────────┼─────────────┼──────────────┼─────────┼──────────────────┤\n",
      "│   14   │  model  │            (cpl+csbpl)             │    csbpl    │ $\\alpha_{1}$ │    1    │     =par#{6}     │\n",
      "├────────┼─────────┼────────────────────────────────────┼─────────────┼──────────────┼─────────┼──────────────────┤\n",
      "│   15   │  model  │            (cpl+csbpl)             │    csbpl    │ $\\alpha_{2}$ │   -1    │     =par#{7}     │\n",
      "├────────┼─────────┼────────────────────────────────────┼─────────────┼──────────────┼─────────┼──────────────────┤\n",
      "│   16   │  model  │            (cpl+csbpl)             │    csbpl    │  log$E_{b}$  │    1    │     =par#{8}     │\n",
      "├────────┼─────────┼────────────────────────────────────┼─────────────┼──────────────┼─────────┼──────────────────┤\n",
      "│   17   │  model  │            (cpl+csbpl)             │    csbpl    │  log$E_{p}$  │    3    │     =par#{9}     │\n",
      "├────────┼─────────┼────────────────────────────────────┼─────────────┼──────────────┼─────────┼──────────────────┤\n",
      "│   18   │  model  │            (cpl+csbpl)             │    csbpl    │    log$A$    │    0    │    =par#{10}     │\n",
      "╘════════╧═════════╧════════════════════════════════════╧═════════════╧══════════════╧═════════╧══════════════════╛\n",
      "\n"
     ]
    }
   ],
   "source": [
    "infer = Infer([(data1, model1), (data2, model2)])\n",
    "print(infer)"
   ]
  },
  {
   "cell_type": "code",
   "execution_count": 7,
   "id": "8fe642b6-c5d3-4ba6-b777-62399a249f2b",
   "metadata": {},
   "outputs": [
    {
     "name": "stdout",
     "output_type": "stream",
     "text": [
      "╒════════╤═════════╤════════════════════════════════════╤═════════════╤═════════════╤═════════╕\n",
      "│  cfg#  │  Class  │             Expression             │  Component  │  Parameter  │  Value  │\n",
      "╞════════╪═════════╪════════════════════════════════════╪═════════════╪═════════════╪═════════╡\n",
      "│   1    │  model  │ ((AS_TbAbs*AS_zTbAbs)*(cpl+csbpl)) │  AS_TbAbs   │  redshift   │    0    │\n",
      "├────────┼─────────┼────────────────────────────────────┼─────────────┼─────────────┼─────────┤\n",
      "│   2    │  model  │ ((AS_TbAbs*AS_zTbAbs)*(cpl+csbpl)) │  AS_zTbAbs  │  redshift   │  0.065  │\n",
      "├────────┼─────────┼────────────────────────────────────┼─────────────┼─────────────┼─────────┤\n",
      "│   3    │  model  │ ((AS_TbAbs*AS_zTbAbs)*(cpl+csbpl)) │     cpl     │  redshift   │    0    │\n",
      "├────────┼─────────┼────────────────────────────────────┼─────────────┼─────────────┼─────────┤\n",
      "│   4    │  model  │ ((AS_TbAbs*AS_zTbAbs)*(cpl+csbpl)) │    csbpl    │  redshift   │    0    │\n",
      "├────────┼─────────┼────────────────────────────────────┼─────────────┼─────────────┼─────────┤\n",
      "│   5    │  model  │ ((AS_TbAbs*AS_zTbAbs)*(cpl+csbpl)) │    csbpl    │ smoothness  │    2    │\n",
      "├────────┼─────────┼────────────────────────────────────┼─────────────┼─────────────┼─────────┤\n",
      "│   6    │  model  │            (cpl+csbpl)             │     cpl     │  redshift   │    0    │\n",
      "├────────┼─────────┼────────────────────────────────────┼─────────────┼─────────────┼─────────┤\n",
      "│   7    │  model  │            (cpl+csbpl)             │    csbpl    │  redshift   │    0    │\n",
      "├────────┼─────────┼────────────────────────────────────┼─────────────┼─────────────┼─────────┤\n",
      "│   8    │  model  │            (cpl+csbpl)             │    csbpl    │ smoothness  │    2    │\n",
      "╘════════╧═════════╧════════════════════════════════════╧═════════════╧═════════════╧═════════╛\n",
      "\n"
     ]
    }
   ],
   "source": [
    "infer.cfg[2].val = 0.065\n",
    "print(infer.cfg_info)"
   ]
  },
  {
   "cell_type": "code",
   "execution_count": 8,
   "id": "15ee169b-85e6-43a0-aec6-474a5f4d2400",
   "metadata": {},
   "outputs": [
    {
     "name": "stdout",
     "output_type": "stream",
     "text": [
      "╒════════╤═════════╤════════════════════════════════════╤═════════════╤══════════════╤═════════╤═════════════╕\n",
      "│  par#  │  Class  │             Expression             │  Component  │  Parameter   │  Value  │    Prior    │\n",
      "╞════════╪═════════╪════════════════════════════════════╪═════════════╪══════════════╪═════════╪═════════════╡\n",
      "│   1    │  model  │ ((AS_TbAbs*AS_zTbAbs)*(cpl+csbpl)) │  AS_TbAbs   │      NH      │  0.126  │   frozen    │\n",
      "├────────┼─────────┼────────────────────────────────────┼─────────────┼──────────────┼─────────┼─────────────┤\n",
      "│   2    │  model  │ ((AS_TbAbs*AS_zTbAbs)*(cpl+csbpl)) │  AS_zTbAbs  │      NH      │  0.392  │   frozen    │\n",
      "├────────┼─────────┼────────────────────────────────────┼─────────────┼──────────────┼─────────┼─────────────┤\n",
      "│   3*   │  model  │ ((AS_TbAbs*AS_zTbAbs)*(cpl+csbpl)) │     cpl     │   $\\alpha$   │   -1    │ unif(-8, 4) │\n",
      "├────────┼─────────┼────────────────────────────────────┼─────────────┼──────────────┼─────────┼─────────────┤\n",
      "│   4    │  model  │ ((AS_TbAbs*AS_zTbAbs)*(cpl+csbpl)) │     cpl     │  log$E_{c}$  │  1.72   │   frozen    │\n",
      "├────────┼─────────┼────────────────────────────────────┼─────────────┼──────────────┼─────────┼─────────────┤\n",
      "│   5*   │  model  │ ((AS_TbAbs*AS_zTbAbs)*(cpl+csbpl)) │     cpl     │    log$A$    │   -1    │ unif(-6, 5) │\n",
      "├────────┼─────────┼────────────────────────────────────┼─────────────┼──────────────┼─────────┼─────────────┤\n",
      "│   6    │  model  │ ((AS_TbAbs*AS_zTbAbs)*(cpl+csbpl)) │    csbpl    │ $\\alpha_{1}$ │   1.5   │   frozen    │\n",
      "├────────┼─────────┼────────────────────────────────────┼─────────────┼──────────────┼─────────┼─────────────┤\n",
      "│   7*   │  model  │ ((AS_TbAbs*AS_zTbAbs)*(cpl+csbpl)) │    csbpl    │ $\\alpha_{2}$ │   -1    │ unif(-2, 2) │\n",
      "├────────┼─────────┼────────────────────────────────────┼─────────────┼──────────────┼─────────┼─────────────┤\n",
      "│   8    │  model  │ ((AS_TbAbs*AS_zTbAbs)*(cpl+csbpl)) │    csbpl    │  log$E_{b}$  │  0.87   │   frozen    │\n",
      "├────────┼─────────┼────────────────────────────────────┼─────────────┼──────────────┼─────────┼─────────────┤\n",
      "│   9*   │  model  │ ((AS_TbAbs*AS_zTbAbs)*(cpl+csbpl)) │    csbpl    │  log$E_{p}$  │    3    │ unif(1, 4)  │\n",
      "├────────┼─────────┼────────────────────────────────────┼─────────────┼──────────────┼─────────┼─────────────┤\n",
      "│  10*   │  model  │ ((AS_TbAbs*AS_zTbAbs)*(cpl+csbpl)) │    csbpl    │    log$A$    │    0    │ unif(-6, 6) │\n",
      "├────────┼─────────┼────────────────────────────────────┼─────────────┼──────────────┼─────────┼─────────────┤\n",
      "│   11   │  model  │            (cpl+csbpl)             │     cpl     │   $\\alpha$   │   -1    │  =par#{3}   │\n",
      "├────────┼─────────┼────────────────────────────────────┼─────────────┼──────────────┼─────────┼─────────────┤\n",
      "│   12   │  model  │            (cpl+csbpl)             │     cpl     │  log$E_{c}$  │  1.72   │   frozen    │\n",
      "├────────┼─────────┼────────────────────────────────────┼─────────────┼──────────────┼─────────┼─────────────┤\n",
      "│   13   │  model  │            (cpl+csbpl)             │     cpl     │    log$A$    │   -1    │  =par#{5}   │\n",
      "├────────┼─────────┼────────────────────────────────────┼─────────────┼──────────────┼─────────┼─────────────┤\n",
      "│   14   │  model  │            (cpl+csbpl)             │    csbpl    │ $\\alpha_{1}$ │   1.5   │   frozen    │\n",
      "├────────┼─────────┼────────────────────────────────────┼─────────────┼──────────────┼─────────┼─────────────┤\n",
      "│   15   │  model  │            (cpl+csbpl)             │    csbpl    │ $\\alpha_{2}$ │   -1    │  =par#{7}   │\n",
      "├────────┼─────────┼────────────────────────────────────┼─────────────┼──────────────┼─────────┼─────────────┤\n",
      "│   16   │  model  │            (cpl+csbpl)             │    csbpl    │  log$E_{b}$  │  0.87   │   frozen    │\n",
      "├────────┼─────────┼────────────────────────────────────┼─────────────┼──────────────┼─────────┼─────────────┤\n",
      "│   17   │  model  │            (cpl+csbpl)             │    csbpl    │  log$E_{p}$  │    3    │  =par#{9}   │\n",
      "├────────┼─────────┼────────────────────────────────────┼─────────────┼──────────────┼─────────┼─────────────┤\n",
      "│   18   │  model  │            (cpl+csbpl)             │    csbpl    │    log$A$    │    0    │  =par#{10}  │\n",
      "├────────┼─────────┼────────────────────────────────────┼─────────────┼──────────────┼─────────┼─────────────┤\n",
      "│   19   │  data   │               data1                │     LE      │      sf      │    1    │   frozen    │\n",
      "├────────┼─────────┼────────────────────────────────────┼─────────────┼──────────────┼─────────┼─────────────┤\n",
      "│   20   │  data   │               data1                │     LE      │      bf      │    1    │   frozen    │\n",
      "├────────┼─────────┼────────────────────────────────────┼─────────────┼──────────────┼─────────┼─────────────┤\n",
      "│   21   │  data   │               data1                │     LE      │      rf      │    1    │   frozen    │\n",
      "├────────┼─────────┼────────────────────────────────────┼─────────────┼──────────────┼─────────┼─────────────┤\n",
      "│   22   │  data   │               data1                │     LE      │      ra      │    0    │   frozen    │\n",
      "├────────┼─────────┼────────────────────────────────────┼─────────────┼──────────────┼─────────┼─────────────┤\n",
      "│   23   │  data   │               data1                │     LE      │     dec      │    0    │   frozen    │\n",
      "├────────┼─────────┼────────────────────────────────────┼─────────────┼──────────────┼─────────┼─────────────┤\n",
      "│   24   │  data   │               data2                │     ME      │      sf      │    1    │   frozen    │\n",
      "├────────┼─────────┼────────────────────────────────────┼─────────────┼──────────────┼─────────┼─────────────┤\n",
      "│   25   │  data   │               data2                │     ME      │      bf      │    1    │   frozen    │\n",
      "├────────┼─────────┼────────────────────────────────────┼─────────────┼──────────────┼─────────┼─────────────┤\n",
      "│   26   │  data   │               data2                │     ME      │      rf      │    1    │   frozen    │\n",
      "├────────┼─────────┼────────────────────────────────────┼─────────────┼──────────────┼─────────┼─────────────┤\n",
      "│   27   │  data   │               data2                │     ME      │      ra      │    0    │   frozen    │\n",
      "├────────┼─────────┼────────────────────────────────────┼─────────────┼──────────────┼─────────┼─────────────┤\n",
      "│   28   │  data   │               data2                │     ME      │     dec      │    0    │   frozen    │\n",
      "├────────┼─────────┼────────────────────────────────────┼─────────────┼──────────────┼─────────┼─────────────┤\n",
      "│   29   │  data   │               data2                │     HE      │      sf      │    1    │   frozen    │\n",
      "├────────┼─────────┼────────────────────────────────────┼─────────────┼──────────────┼─────────┼─────────────┤\n",
      "│   30   │  data   │               data2                │     HE      │      bf      │    1    │   frozen    │\n",
      "├────────┼─────────┼────────────────────────────────────┼─────────────┼──────────────┼─────────┼─────────────┤\n",
      "│   31   │  data   │               data2                │     HE      │      rf      │    1    │   frozen    │\n",
      "├────────┼─────────┼────────────────────────────────────┼─────────────┼──────────────┼─────────┼─────────────┤\n",
      "│   32   │  data   │               data2                │     HE      │      ra      │    0    │   frozen    │\n",
      "├────────┼─────────┼────────────────────────────────────┼─────────────┼──────────────┼─────────┼─────────────┤\n",
      "│   33   │  data   │               data2                │     HE      │     dec      │    0    │   frozen    │\n",
      "╘════════╧═════════╧════════════════════════════════════╧═════════════╧══════════════╧═════════╧═════════════╛\n",
      "\n"
     ]
    }
   ],
   "source": [
    "infer.par[1].val = 0.126\n",
    "infer.par[1].frozen = True\n",
    "\n",
    "infer.par[2].val = 0.392\n",
    "infer.par[2].frozen = True\n",
    "\n",
    "infer.par[4].frozen_at(1.72)\n",
    "infer.par[6].frozen_at(1.5)\n",
    "infer.par[8].frozen_at(0.87)\n",
    "\n",
    "print(infer.par_info)"
   ]
  },
  {
   "cell_type": "code",
   "execution_count": 9,
   "id": "45740497-ac7f-4f75-b2a1-8fe6e26bbe40",
   "metadata": {},
   "outputs": [
    {
     "name": "stdout",
     "output_type": "stream",
     "text": [
      "╒════════╤═════════╤════════════════════════════════════╤═════════════╤══════════════╤═════════╤═════════════╕\n",
      "│  par#  │  Class  │             Expression             │  Component  │  Parameter   │  Value  │    Prior    │\n",
      "╞════════╪═════════╪════════════════════════════════════╪═════════════╪══════════════╪═════════╪═════════════╡\n",
      "│   3    │  model  │ ((AS_TbAbs*AS_zTbAbs)*(cpl+csbpl)) │     cpl     │   $\\alpha$   │   -1    │ unif(-8, 4) │\n",
      "├────────┼─────────┼────────────────────────────────────┼─────────────┼──────────────┼─────────┼─────────────┤\n",
      "│   5    │  model  │ ((AS_TbAbs*AS_zTbAbs)*(cpl+csbpl)) │     cpl     │    log$A$    │   -1    │ unif(-6, 5) │\n",
      "├────────┼─────────┼────────────────────────────────────┼─────────────┼──────────────┼─────────┼─────────────┤\n",
      "│   7    │  model  │ ((AS_TbAbs*AS_zTbAbs)*(cpl+csbpl)) │    csbpl    │ $\\alpha_{2}$ │   -1    │ unif(-2, 2) │\n",
      "├────────┼─────────┼────────────────────────────────────┼─────────────┼──────────────┼─────────┼─────────────┤\n",
      "│   9    │  model  │ ((AS_TbAbs*AS_zTbAbs)*(cpl+csbpl)) │    csbpl    │  log$E_{p}$  │    3    │ unif(1, 4)  │\n",
      "├────────┼─────────┼────────────────────────────────────┼─────────────┼──────────────┼─────────┼─────────────┤\n",
      "│   10   │  model  │ ((AS_TbAbs*AS_zTbAbs)*(cpl+csbpl)) │    csbpl    │    log$A$    │    0    │ unif(-6, 6) │\n",
      "╘════════╧═════════╧════════════════════════════════════╧═════════════╧══════════════╧═════════╧═════════════╛\n",
      "\n"
     ]
    }
   ],
   "source": [
    "print(infer.free_par_info)"
   ]
  },
  {
   "cell_type": "code",
   "execution_count": 10,
   "id": "c277472b-8b72-4860-84cb-37ae593ddfb7",
   "metadata": {},
   "outputs": [
    {
     "name": "stdout",
     "output_type": "stream",
     "text": [
      " *****************************************************\n",
      " MultiNest v3.10\n",
      " Copyright Farhan Feroz & Mike Hobson\n",
      " Release Jul 2015\n",
      "\n",
      " no. of live points =  300\n",
      " dimensionality =    5\n",
      " resuming from previous job\n",
      " *****************************************************\n",
      "  analysing data from advancement/1-.txt\n",
      " ln(ev)=  -293.92900901117912      +/-  0.28509132141565613     \n",
      " Total Likelihood Evaluations:        22534\n",
      " Sampling finished. Exiting MultiNest\n",
      "╒════════╤═════════╤════════════════════════════════════╤═════════════╤══════════════╤════════╤══════════╤════════╤══════════════════╕\n",
      "│  par#  │  Class  │             Expression             │  Component  │  Parameter   │  Mean  │  Median  │  Best  │    1sigma CI     │\n",
      "╞════════╪═════════╪════════════════════════════════════╪═════════════╪══════════════╪════════╪══════════╪════════╪══════════════════╡\n",
      "│   3    │  model  │ ((AS_TbAbs*AS_zTbAbs)*(cpl+csbpl)) │     cpl     │   $\\alpha$   │ -1.293 │  -1.289  │ -1.277 │ [-1.331, -1.254] │\n",
      "├────────┼─────────┼────────────────────────────────────┼─────────────┼──────────────┼────────┼──────────┼────────┼──────────────────┤\n",
      "│   5    │  model  │ ((AS_TbAbs*AS_zTbAbs)*(cpl+csbpl)) │     cpl     │    log$A$    │ -0.917 │  -0.907  │ -0.88  │ [-0.987, -0.846] │\n",
      "├────────┼─────────┼────────────────────────────────────┼─────────────┼──────────────┼────────┼──────────┼────────┼──────────────────┤\n",
      "│   7    │  model  │ ((AS_TbAbs*AS_zTbAbs)*(cpl+csbpl)) │    csbpl    │ $\\alpha_{2}$ │ -1.406 │  -1.406  │ -1.398 │ [-1.429, -1.382] │\n",
      "├────────┼─────────┼────────────────────────────────────┼─────────────┼──────────────┼────────┼──────────┼────────┼──────────────────┤\n",
      "│   9    │  model  │ ((AS_TbAbs*AS_zTbAbs)*(cpl+csbpl)) │    csbpl    │  log$E_{p}$  │  2.43  │  2.431   │ 2.437  │  [2.414, 2.447]  │\n",
      "├────────┼─────────┼────────────────────────────────────┼─────────────┼──────────────┼────────┼──────────┼────────┼──────────────────┤\n",
      "│   10   │  model  │ ((AS_TbAbs*AS_zTbAbs)*(cpl+csbpl)) │    csbpl    │    log$A$    │ -0.549 │  -0.551  │ -0.566 │ [-0.583, -0.517] │\n",
      "╘════════╧═════════╧════════════════════════════════════╧═════════════╧══════════════╧════════╧══════════╧════════╧══════════════════╛\n",
      "╒════════╤════════════════════════════════════╤═════════════╤════════════╤════════╕\n",
      "│  Data  │               Model                │  Statistic  │   Value    │  Bins  │\n",
      "╞════════╪════════════════════════════════════╪═════════════╪════════════╪════════╡\n",
      "│   LE   │ ((AS_TbAbs*AS_zTbAbs)*(cpl+csbpl)) │    cstat    │   21.83    │   20   │\n",
      "├────────┼────────────────────────────────────┼─────────────┼────────────┼────────┤\n",
      "│   ME   │            (cpl+csbpl)             │   pgstat    │   363.15   │  119   │\n",
      "├────────┼────────────────────────────────────┼─────────────┼────────────┼────────┤\n",
      "│   HE   │            (cpl+csbpl)             │   pgstat    │   149.57   │  117   │\n",
      "├────────┼────────────────────────────────────┼─────────────┼────────────┼────────┤\n",
      "│ Total  │               Total                │  stat/dof   │ 534.55/251 │  256   │\n",
      "╘════════╧════════════════════════════════════╧═════════════╧════════════╧════════╛\n",
      "╒════════╤════════╤════════╤═════════╕\n",
      "│  AIC   │  AICc  │  BIC   │   lnZ   │\n",
      "╞════════╪════════╪════════╪═════════╡\n",
      "│ 544.55 │ 544.79 │ 562.28 │ -294.19 │\n",
      "╘════════╧════════╧════════╧═════════╛\n",
      "\n"
     ]
    }
   ],
   "source": [
    "post = infer.multinest(nlive=300, resume=True, savepath=savepath)\n",
    "post.save(savepath)\n",
    "print(post)"
   ]
  },
  {
   "cell_type": "code",
   "execution_count": 11,
   "id": "a0fd0758",
   "metadata": {},
   "outputs": [
    {
     "data": {
      "application/vnd.plotly.v1+json": {
       "config": {
        "plotlyServerURL": "https://plot.ly"
       },
       "data": [
        {
         "error_x": {
          "array": {
           "bdata": "AAAAgI/CtT8AAAAA4XqkPwAAAAD2KKw/AAAAAJqZmT8AAAAAheuhPwAAAADgepQ/AAAAAOB6lD8AAAAA5HqUPwAAAABQuJ4/AAAAAJyZmT8AAAAAhOuhPwAAAACamak/AAAAAOJ6pD8AAAAAmJmpPwAAAAA+Cqc/AAAAAFK4vj8AAAAAMzOzPwAAAACQwsU/AAAAgEfh2j8AAACAwvXYPw==",
           "dtype": "f8"
          },
          "arrayminus": {
           "bdata": "AAAAgI/CtT8AAAAA4XqkPwAAAAD2KKw/AAAAAJqZmT8AAAAAheuhPwAAAADgepQ/AAAAAOB6lD8AAAAA5HqUPwAAAABQuJ4/AAAAAJyZmT8AAAAAhOuhPwAAAACamak/AAAAAOJ6pD8AAAAAmJmpPwAAAAA+Cqc/AAAAAFK4vj8AAAAAMzOzPwAAAACQwsU/AAAAgEfh2j8AAACAwvXYPw==",
           "dtype": "f8"
          },
          "color": "#636EFA",
          "symmetric": false,
          "thickness": 1.5,
          "type": "data",
          "width": 0
         },
         "error_y": {
          "array": {
           "bdata": "p+AZ36D3AECs9T64bp8PQDVpx9SV/wZA/Puo1VdMGUAHmMSuv/MSQN7v0qVIlSBAYPaHQ3CfH0CaLatoRZUgQOQjPuR6CRhAB+0yF3CIGkDJjAQC9xESQPz7qNVXTAlAw9KIgGpdE0ASK+QRLdgMQD6vfZLvGwxAal3g/cLx+D/CvTVUkN0AQDsiS3ug9/A/bSsf6op42z9gMkt6UergPw==",
           "dtype": "f8"
          },
          "color": "#636EFA",
          "thickness": 1.5,
          "type": "data",
          "width": 0
         },
         "marker": {
          "color": "#636EFA",
          "size": 0,
          "symbol": "cross-thin"
         },
         "mode": "markers",
         "name": "obs of LE",
         "showlegend": false,
         "type": "scatter",
         "x": {
          "bdata": "AAAAAFK44j8AAAAAUrjmPwAAAGCPwuk/AAAAgOtR7D8AAADAcD3uPwAAAAAAAPA/AAAAANej8D8AAAAArkfxPwAAAOB6FPI/AAAAgML18j8AAAAghevzPwAAAACuR/U/AAAAAFK49j8AAADA9Sj4PwAAAIAUrvk/AAAAgOtR/D8AAADAo3D/PwAAAIAUrgFAAAAAgGZmBkAAAADAR+EMQA==",
          "dtype": "f8"
         },
         "xaxis": "x",
         "y": {
          "bdata": "WqpAt+HhGUAyAYBXAAApQFBbPXuLLiJAQAEAsP//M0BoXk4Rt20vQIEbALgBgDtAABkAkAEAOUAvfABZ/H87QAC9qnpWVTJAgDEA8P3/NUAA+LbtSpIsQEABALD//yNAswiACP9/K0AAFgBgAQAmQARf8wPjOCZA6jiOn6qqEEAvHcfxqqoaQIDoAB/h4QlAmeneYM/z9D+zQrRh7MT+Pw==",
          "dtype": "f8"
         },
         "yaxis": "y"
        },
        {
         "line": {
          "color": "#636EFA",
          "width": 2
         },
         "mode": "lines",
         "name": "LE",
         "showlegend": true,
         "type": "scatter",
         "x": {
          "bdata": "AAAAAFK44j8AAAAAUrjmPwAAAGCPwuk/AAAAgOtR7D8AAADAcD3uPwAAAAAAAPA/AAAAANej8D8AAAAArkfxPwAAAOB6FPI/AAAAgML18j8AAAAghevzPwAAAACuR/U/AAAAAFK49j8AAADA9Sj4PwAAAIAUrvk/AAAAgOtR/D8AAADAo3D/PwAAAIAUrgFAAAAAgGZmBkAAAADAR+EMQA==",
          "dtype": "f8"
         },
         "xaxis": "x",
         "y": {
          "bdata": "oSD4ycKDEUDnqX9VFPEiQIIkjYKE7ypAHGzQGcP9L0DnEhpkaKcxQMZr2HCQ2TJAKsMy4WJnM0Asu09EKrQzQOB8JoYBuDNAxUBLc+1SM0CmOirnKnUyQFXPwsEy3jBAIPlp3ff7LUA/lcOHBMcoQJ6EBGY+IyJAS8zi7HesG0CJBkbJrecVQLvuTO+FvQdAr0ZoW5cvBUAUq2nj/PL5Pw==",
          "dtype": "f8"
         },
         "yaxis": "y"
        },
        {
         "marker": {
          "color": "#636EFA",
          "line": {
           "color": "#636EFA",
           "width": 1.5
          },
          "size": 10,
          "symbol": "cross-thin"
         },
         "mode": "markers",
         "name": "res of LE",
         "showlegend": false,
         "type": "scatter",
         "x": {
          "bdata": "AAAAAFK44j8AAAAAUrjmPwAAAGCPwuk/AAAAgOtR7D8AAADAcD3uPwAAAAAAAPA/AAAAANej8D8AAAAArkfxPwAAAOB6FPI/AAAAgML18j8AAAAghevzPwAAAACuR/U/AAAAAFK49j8AAADA9Sj4PwAAAIAUrvk/AAAAgOtR/D8AAADAo3D/PwAAAIAUrgFAAAAAgGZmBkAAAADAR+EMQA==",
          "dtype": "f8"
         },
         "xaxis": "x2",
         "y": {
          "bdata": "solSZv+P7z82jA9usIXoPxl40oYwXPi/rvXLc7tC5D8Tg3E+QTPav2iJoRolsfA/JGAR+dSm5j9mdHOOkxbuP6xGeOCYgs2/3nZMb8LR2T99iRbIUo3tv1AUNnbuXwHAUeZ6TbVr0L/bLC5wX6bYv9C5Pn6GmeI/x+TjN6g9/L8lYpmlvBHiPz4BiTPCKNA/XeYs6WrzCMC6oeflqTziPw==",
          "dtype": "f8"
         },
         "yaxis": "y2"
        },
        {
         "error_x": {
          "array": {
           "bdata": "AAAAAMa52j8AAAAAzIvaPwAAAABW0N8/AAAAAMr+3z8AAAAAVzXgPwAAAAAEiuA/AAAAAA/94D8AAAAANXzhPwAAAADC7OE/AAAAAH5h5T8AAAAAWsnlPwAAAAAOGeY/AAAAANJl5j8AAAAAvLrmPwAAAADsF+c/AAAAACzh6j8AAAAAAHLrPwAAAAAiD+w/AAAAAJy47D8AAAAAZJnzPwAAAADwneg/AAAAAEgJ6T8AAAAAXLDpPwAAAABQT+o/AAAAADDs7T8AAAAAQJvuPwAAAAAcP+8/AAAAANzX7z8AAAAAENXxPwAAAABKI/I/AAAAABhq8j8AAAAAfKnyPwAAAABcm/Q/AAAAAFLU9D8AAAAApgP1PwAAAAAo7vY/AAAAACgO9z8AAAAA3CH3PwAAAABk8fg/AAAAAMDq+D8AAAAADNb4PwAAAADogfo/AAAAAPxp+j8AAAAAdFX6PwAAAAAMBPw/AAAAAKz0+z8AAAAAZOn7PwAAAAA8oP0/AAAAABSd/T8AAAAAGF3/PwAAAAD0ZP8/AAAAAC6ZAEAAAAAAlqIAQAAAAADojAFAAAAAAEyXAUAAAAAAnKEBQAAAAABMjgJAAAAAAICZAkAAAAAALIgDQAAAAABkeARAAAAAAISFBEAAAAAAzHcFQAAAAADUhQVAAAAAADh6BkAAAAAALIkGQAAAAACsfwdAAAAAANR3CEAAAAAAwIgIQAAAAAAUgwlAAAAAACB/CkAAAAAABJIKQAAAAAA4kAtAAAAAACyQDEAAAAAA4JENQAAAAAC8pw1AAAAAAJyrDkAAAAAAKLEPQAAAAABEXBBAAAAAAJxoEEAAAAAASO0QQAAAAADYchFAAAAAADj5EUAAAAAAcIASQAAAAAB8CBNAAAAAAFiRE0AAAAAA/BoUQAAAAABkpRRAAAAAAIwwFUAAAAAAbLwVQAAAAAAESRZAAAAAADzWFkAAAAAAGGQXQAAAAADYbxhAAAAAAIz/GEAAAAAAEtgpQAAAAABksRpAAAAAAMzBG0AAAAAADFQcQAAAAADEby1AAAAAADiMHkAAAAAAqOkvQAAAAADgoyBAAAAAAHztIEAAAAAAzLwxQAAAAACVEFRAAAAAALElQUA=",
           "dtype": "f8"
          },
          "arrayminus": {
           "bdata": "AAAAAMa52j8AAAAAzIvaPwAAAABW0N8/AAAAAMr+3z8AAAAAVzXgPwAAAAAEiuA/AAAAAA/94D8AAAAANXzhPwAAAADC7OE/AAAAAH5h5T8AAAAAWsnlPwAAAAAOGeY/AAAAANJl5j8AAAAAvLrmPwAAAADsF+c/AAAAACzh6j8AAAAAAHLrPwAAAAAiD+w/AAAAAJy47D8AAAAAZJnzPwAAAADwneg/AAAAAEgJ6T8AAAAAXLDpPwAAAABQT+o/AAAAADDs7T8AAAAAQJvuPwAAAAAcP+8/AAAAANzX7z8AAAAAENXxPwAAAABKI/I/AAAAABhq8j8AAAAAfKnyPwAAAABcm/Q/AAAAAFLU9D8AAAAApgP1PwAAAAAo7vY/AAAAACgO9z8AAAAA3CH3PwAAAABk8fg/AAAAAMDq+D8AAAAADNb4PwAAAADogfo/AAAAAPxp+j8AAAAAdFX6PwAAAAAMBPw/AAAAAKz0+z8AAAAAZOn7PwAAAAA8oP0/AAAAABSd/T8AAAAAGF3/PwAAAAD0ZP8/AAAAAC6ZAEAAAAAAlqIAQAAAAADojAFAAAAAAEyXAUAAAAAAnKEBQAAAAABMjgJAAAAAAICZAkAAAAAALIgDQAAAAABkeARAAAAAAISFBEAAAAAAzHcFQAAAAADUhQVAAAAAADh6BkAAAAAALIkGQAAAAACsfwdAAAAAANR3CEAAAAAAwIgIQAAAAAAUgwlAAAAAACB/CkAAAAAABJIKQAAAAAA4kAtAAAAAACyQDEAAAAAA4JENQAAAAAC8pw1AAAAAAJyrDkAAAAAAKLEPQAAAAABEXBBAAAAAAJxoEEAAAAAASO0QQAAAAADYchFAAAAAADj5EUAAAAAAcIASQAAAAAB8CBNAAAAAAFiRE0AAAAAA/BoUQAAAAABkpRRAAAAAAIwwFUAAAAAAbLwVQAAAAAAESRZAAAAAADzWFkAAAAAAGGQXQAAAAADYbxhAAAAAAIz/GEAAAAAAEtgpQAAAAABksRpAAAAAAMzBG0AAAAAADFQcQAAAAADEby1AAAAAADiMHkAAAAAAqOkvQAAAAADgoyBAAAAAAHztIEAAAAAAzLwxQAAAAACVEFRAAAAAALElQUA=",
           "dtype": "f8"
          },
          "color": "#EF553B",
          "symmetric": false,
          "thickness": 1.5,
          "type": "data",
          "width": 0
         },
         "error_y": {
          "array": {
           "bdata": "1o7YW7/WAkCMcv+q6n4EQN3OSS4GXQVAiYopBn1rB0CEASdXhtEJQAv1shD0pwpA+6AUsJk1C0Apv55rE9ULQIa+0T74UwxAVgDDr8l2CkDuyvPOUJQJQI7yohWQ/AhAZz927SRNCUD3niKMG5MIQLycCfkVcQdAtaNAJGNuBEBj9sOCiN8DQNVkwPYEwgJArzBpw6dpAUAkhvEMW4X3PwGVG4fvagJAhIPz1gAoAEDvWePC06H+P2pFgyEmN/s/EKtq13hk+D+RF1T5tCz4P1l4TGVhfPY//6aG1yKV9j8VA+aQmPnzP02yXnawbPM/1c3oFBLc8j+iTLnQwOjxP7bCbnohpvA/BoaP4Z1q8D/YKPr/N3HwPxaSlGb1pu4/hDTMobA17D/G6gJTcbfsPzKkL7a66Ok/F78CefTf6T9sk2z8EHrpP2ChXVnXXec/oW9QzDof5z+OuSbJBczmP+A1OVH8KOY/TQicZi5B5D/sBgAELi3jP1jaKWeai+M/G+l67NNf4z85p35KsIPhP7HDzIn07eA/HVizeKBp4D/ZOglCbKTeP1TRfaP1KN0/Fv9cR5Jl3D/Bomwnv5jaPx+AFVtvbNo/OZ89cSiS2D+Xbbio/W7YPwPFZGuVutY/Fim6fesJ1T+Jr8XryVTUP+NymEJ7TdM/e2MYD6Rw0z/VzhDopSfRP2bU6ziZItA/BnVZG3XDzz+7kKI4I3fNP38HIa+GX80/j50W52dgyD+RTHGYxvPIP2xz+tdOScc/YnG7HpLQxT/v2LYgLIbDP5qtH5/KUMQ/kZE6TH+MwT/ek1NRJojBP3tIqIJFnb8/3kVA2s0xvz8pGp2V5Hq7PxleK4wz/Lo/tR4NMR1/uj/AJC4sqkO2PwcnNlw1Vrg/5MT/kaCVsz+m0hX13jyzPzN8fZzmDrM/rw6qi1dUsD85uHR4oXyxP+f0ye+Ln7E/OFXH/KUPqz+WJKOWoW+qP2sTTOmZkak//JdDB13tqj8YGD0mFzaeP3mrjIoOHaY/JgUabiDooz91RSms5DCkP0cfKhS7Mps/CHaG0A5Loj9ZC2/eRFWVPwn5EUzqhZ4/pqmLxeg0nz+9HYVtaH+SP0ViI0SNX3o/DB4Ql5rIgj8=",
           "dtype": "f8"
          },
          "color": "#EF553B",
          "thickness": 1.5,
          "type": "data",
          "width": 0
         },
         "marker": {
          "color": "#EF553B",
          "size": 0,
          "symbol": "cross-thin"
         },
         "mode": "markers",
         "name": "obs of ME",
         "showlegend": false,
         "type": "scatter",
         "x": {
          "bdata": "AAAAwO3+IEAAAABAGqkiQAAAAED7eyRAAAAAQHR6JkAAAAAAwH0oQAAAAMC1iSpAAAAAACeiLEAAAABAu8kuQAAAAEAlgDBAAAAAQJe6MUAAAAAA7hMzQAAAAEABczRAAAAAQPjWNUAAAADA/D83QAAAAACSrjhAAAAAwFo+OkAAAAAg9PA7QAAAAED9rD1AAAAAIDtzP0AAAAAgS8lAQAAAAACOyEFAAAAA4CqPQkAAAACAEVpDQAAAACAQKkRAAAAAIP4KRUAAAADgG/1FQAAAAECF9EZAAAAAQOHwR0AAAAAg6f5IQAAAAACsHkpAAAAAABdDS0AAAACgs2tMQAAAAGDapU1AAAAAwFfxTkAAAADACyBQQAAAAADTz1BAAAAAQMSHUUAAAABAhEBSQAAAAEDRAFNAAAAA4EHIU0AAAAAARY9UQAAAAOCkXFVAAAAAgFQwVkAAAABAUgNXQAAAAEC43FdAAAAAAJu8WEAAAABAE5xZQAAAAMA5glpAAAAAAC9vW0AAAADAF2NcQAAAAAAgXl1AAAAAQH1gXkAAAABAW2pfQAAAAKDrPWBAAAAAgHzKYEAAAAAAYFdhQAAAAMAf6GFAAAAA4L58YkAAAACARRVjQAAAAMBHtWNAAAAAgD9ZZEAAAADANAFlQAAAAEArrWVAAAAAYCtdZkAAAAAAORFnQAAAAEBcyWdAAAAAQDqJaEAAAACgPE1pQAAAAABsFWpAAAAAwHTlakAAAABAublrQAAAAEBCkmxAAAAAwMNybUAAAAAATFtuQAAAAIAySG9AAAAA4L8ccEAAAACAeZlwQAAAAMBMGnFAAAAAQGCdcUAAAADgtyJyQAAAAGA4rHJAAAAAoOg5c0AAAABAz8tzQAAAAADzYXRAAAAAQFr8dEAAAACAC5t1QAAAAAANPnZAAAAAwGTldkAAAADAGJF3QAAAAIAuQXhAAAAAgKv1eEAAAADAlK55QAAAAIDkbXpAAAAAAKIze0AAAADAYGZ8QAAAAADnn31AAAAAwLN5fkAAAAAAC1p/QAAAAMBsW4BAAAAAQEQOgUAAAABAA8uBQAAAAGA5jYJAAAAAwH4Tg0AAAAAgG+WDQAAAACAU9YZAAAAAwIGJikA=",
          "dtype": "f8"
         },
         "xaxis": "x",
         "y": {
          "bdata": "BCE5aXgTQkA5MktLk0VEQLT8XfNf70pA6krrygokUEDjbU0iKzFUQIZTK75oB1ZAdeCTJwhsV0B+mi3lsdBZQAJGV2RVi1tAL2umB/tdXUDzBr8mhdlbQEajH93eB1tAd/EOw6ZmXEDeJN1DnRtbQOwsz05dZFlAmf0ORbAmVkDwQsWQDZhVQAYeSsLWa1NANGG6Xu/wUEB3iBTCJAtFQBwR00fBhlBAHxcm6cznSUAw8FjvCXxIQNHP+jkmN0NAwr31zUrJQUAKWWGiNRBCQMqxqRqi8D9A4YlN7qy6QEAMpM2eJb48QG02CQrUdDtA9cl6H9plOkBA6O4KaFU4QLA5Vf7eRjdA1AbRmimpNkACMbgnE7U2QKdjxopgQTVAvq0+JBfWMUAKPErWQEEzQK1WUtUE/jBAta5N6/E/MUBPr3P+288wQJkSEYw11C1AJbdZCPocLUCh1e4aNHosQG5xm3OVpSxAsifX2p1dJ0CCUXy5CSMlQG853Lr7wSdAhqdXN35/J0AJGNP5rgokQHqnMnZ29iJAmG1tN6HNIkBo4lGPbkggQJY6rpUP9B5AQUsibcfaHUCU0kFGh6IZQNY+zkAQLxtAqLtEQkZfF0BQr252dEgYQIAH326HUhZAov45wWCiEkBInXFPyVwSQLufkZaRfRBAzaxTUrKJEUD68Ty70tgJQL8VA7MWjQdAMrtBZqrsB0DIY1wriLgEQBCUpwhGUQZA3XZV0fPd/j8Zp/WORbwAQAkvnp2AW/0/aotUfi5A+j9CVBnlGiP1Px12UMopU/c/vxNnugN08T/AJ/mhFWHyPxg0dIWo9+0/eRHDAVsK7T+iuOOLKt3lP00clQdYKuY/xr8XShkj5j8CxiOHtHbeP72i6hrMMOU/ngC17RTZ2j9CF+09xHDaPxhnniUQlto/BImSYIyJ0j+N0qkyToHXP5vDER4fENk/YvIYZZ8AyT8QxxUaeQLGPxoIGnuQwMc/7lmjyIEx0D9HlLcmECS9P4Y1KNa5yME/9k9dM+tiuj/PcxJJgna6P3+mbP1HVrg/BL/b56Lzuz+whjp1VTOvP77dP5B9trU/M9+oOK81tz9ihwg9gLOpPwK+YP07NZI/bFkKZiA/kz8=",
          "dtype": "f8"
         },
         "yaxis": "y"
        },
        {
         "line": {
          "color": "#EF553B",
          "width": 2
         },
         "mode": "lines",
         "name": "ME",
         "showlegend": true,
         "type": "scatter",
         "x": {
          "bdata": "AAAAwO3+IEAAAABAGqkiQAAAAED7eyRAAAAAQHR6JkAAAAAAwH0oQAAAAMC1iSpAAAAAACeiLEAAAABAu8kuQAAAAEAlgDBAAAAAQJe6MUAAAAAA7hMzQAAAAEABczRAAAAAQPjWNUAAAADA/D83QAAAAACSrjhAAAAAwFo+OkAAAAAg9PA7QAAAAED9rD1AAAAAIDtzP0AAAAAgS8lAQAAAAACOyEFAAAAA4CqPQkAAAACAEVpDQAAAACAQKkRAAAAAIP4KRUAAAADgG/1FQAAAAECF9EZAAAAAQOHwR0AAAAAg6f5IQAAAAACsHkpAAAAAABdDS0AAAACgs2tMQAAAAGDapU1AAAAAwFfxTkAAAADACyBQQAAAAADTz1BAAAAAQMSHUUAAAABAhEBSQAAAAEDRAFNAAAAA4EHIU0AAAAAARY9UQAAAAOCkXFVAAAAAgFQwVkAAAABAUgNXQAAAAEC43FdAAAAAAJu8WEAAAABAE5xZQAAAAMA5glpAAAAAAC9vW0AAAADAF2NcQAAAAAAgXl1AAAAAQH1gXkAAAABAW2pfQAAAAKDrPWBAAAAAgHzKYEAAAAAAYFdhQAAAAMAf6GFAAAAA4L58YkAAAACARRVjQAAAAMBHtWNAAAAAgD9ZZEAAAADANAFlQAAAAEArrWVAAAAAYCtdZkAAAAAAORFnQAAAAEBcyWdAAAAAQDqJaEAAAACgPE1pQAAAAABsFWpAAAAAwHTlakAAAABAublrQAAAAEBCkmxAAAAAwMNybUAAAAAATFtuQAAAAIAySG9AAAAA4L8ccEAAAACAeZlwQAAAAMBMGnFAAAAAQGCdcUAAAADgtyJyQAAAAGA4rHJAAAAAoOg5c0AAAABAz8tzQAAAAADzYXRAAAAAQFr8dEAAAACAC5t1QAAAAAANPnZAAAAAwGTldkAAAADAGJF3QAAAAIAuQXhAAAAAgKv1eEAAAADAlK55QAAAAIDkbXpAAAAAAKIze0AAAADAYGZ8QAAAAADnn31AAAAAwLN5fkAAAAAAC1p/QAAAAMBsW4BAAAAAQEQOgUAAAABAA8uBQAAAAGA5jYJAAAAAwH4Tg0AAAAAgG+WDQAAAACAU9YZAAAAAwIGJikA=",
          "dtype": "f8"
         },
         "xaxis": "x",
         "y": {
          "bdata": "UYRtCst1O0ACLWMPALxDQONcbuvIOEtAD2fAzK1OUUD+0RATUb9UQMaSDspjBVhAlIqEu8lQWkBJbW+zy1JbQDvutUVO+1tA2plduKpKXEC2sJcnHwJcQKJP89RqOVtA8s0oC3AoWkBWwvhcpdpYQAHJnrNWa1dA0/omZcjzVUBH2cVlpztUQJO/Bl4fT1JA2ejmso5OUECXitkUYMFLQN5iVWex7UdAz2mCjUorRkDwk7HkCxRFQIJ6TYWrH0RA8mtMCRcQQ0Ag4CkH/BZCQLj48Xk4PEFAc/x2tFFTQEBY9HnZc9U+QFWuB0CCQz1A8ZX+aXrdO0BrCGTIb5g6QKcWWlgDTDlAjO2ppIT9N0C654OTfs82QI3bf8p3qzVAH1mOE5yGNEBAPvmDh3QzQNFvpfY2cTJA3DWoj5h7MUCdLfV4hZcwQFnqcxqeay9A0ogFHUi3LUCEHnFWACIsQJUPGkA9nipAWV1Om7MvKUB2udsCntEnQB6BDVOIaiZAoeFnkyUMJUAuTsdHm80jQCIq1A+iqyJAVxzQM6qUIUCEIYhce4QgQPNGrgvzBB9A2UhxiIYVHUBnIN1UqjkbQMACStcgbRlAfvg63cW9F0B14t/dDjIWQBaw3my1sBRAJz14t6E6E0D6CpXY88oRQF5+QG0TaRBA9E01wMk2DkAn8CwMiNELQO40BD7fmglAdKArYWl2B0B1XyPCJ2cFQBkt4S36dQNAhUsfZ86sAUAgRzHIVhYAQD/Dy/cXVP0/ZDUtlJKu+j/iLRa6wCr4P2BzbOnZ2/U/1DXgj27G8z8T2MGiqevxP6uC4C1+OvA/aM1rOFNj7T8ENg744pfqP0jxoPXSCOg/+Hp1vE7D5T+AmDCDkazjP0mUNSSpw+E/ccoCue333z/Mp6aAcIzcPyk46U+yl9k/K9w1dpn11j8qHtwLor7UPz2/RdScxNI/fR+veZXv0D/M9E0nNpbOPz81XPxbfcs/BEwVrFK2yD9EMooI9hDFP0VoIIdSz8E/kRUIUuDKvz92NAfN63i8P6Bw0hFLL7g/kDL/BfCPtD8RhtkZa6mxP8LB4rRjXK4/GdxFyu5hqz9OtrOtQyCnPxdX/rjCp5o/QFXHKgOPiz8=",
          "dtype": "f8"
         },
         "yaxis": "y"
        },
        {
         "marker": {
          "color": "#EF553B",
          "line": {
           "color": "#EF553B",
           "width": 1.5
          },
          "size": 10,
          "symbol": "cross-thin"
         },
         "mode": "markers",
         "name": "res of ME",
         "showlegend": false,
         "type": "scatter",
         "x": {
          "bdata": "AAAAwO3+IEAAAABAGqkiQAAAAED7eyRAAAAAQHR6JkAAAAAAwH0oQAAAAMC1iSpAAAAAACeiLEAAAABAu8kuQAAAAEAlgDBAAAAAQJe6MUAAAAAA7hMzQAAAAEABczRAAAAAQPjWNUAAAADA/D83QAAAAACSrjhAAAAAwFo+OkAAAAAg9PA7QAAAAED9rD1AAAAAIDtzP0AAAAAgS8lAQAAAAACOyEFAAAAA4CqPQkAAAACAEVpDQAAAACAQKkRAAAAAIP4KRUAAAADgG/1FQAAAAECF9EZAAAAAQOHwR0AAAAAg6f5IQAAAAACsHkpAAAAAABdDS0AAAACgs2tMQAAAAGDapU1AAAAAwFfxTkAAAADACyBQQAAAAADTz1BAAAAAQMSHUUAAAABAhEBSQAAAAEDRAFNAAAAA4EHIU0AAAAAARY9UQAAAAOCkXFVAAAAAgFQwVkAAAABAUgNXQAAAAEC43FdAAAAAAJu8WEAAAABAE5xZQAAAAMA5glpAAAAAAC9vW0AAAADAF2NcQAAAAAAgXl1AAAAAQH1gXkAAAABAW2pfQAAAAKDrPWBAAAAAgHzKYEAAAAAAYFdhQAAAAMAf6GFAAAAA4L58YkAAAACARRVjQAAAAMBHtWNAAAAAgD9ZZEAAAADANAFlQAAAAEArrWVAAAAAYCtdZkAAAAAAORFnQAAAAEBcyWdAAAAAQDqJaEAAAACgPE1pQAAAAABsFWpAAAAAwHTlakAAAABAublrQAAAAEBCkmxAAAAAwMNybUAAAAAATFtuQAAAAIAySG9AAAAA4L8ccEAAAACAeZlwQAAAAMBMGnFAAAAAQGCdcUAAAADgtyJyQAAAAGA4rHJAAAAAoOg5c0AAAABAz8tzQAAAAADzYXRAAAAAQFr8dEAAAACAC5t1QAAAAAANPnZAAAAAwGTldkAAAADAGJF3QAAAAIAuQXhAAAAAgKv1eEAAAADAlK55QAAAAIDkbXpAAAAAAKIze0AAAADAYGZ8QAAAAADnn31AAAAAwLN5fkAAAAAAC1p/QAAAAMBsW4BAAAAAQEQOgUAAAABAA8uBQAAAAGA5jYJAAAAAwH4Tg0AAAAAgG+WDQAAAACAU9YZAAAAAwIGJikA=",
          "dtype": "f8"
         },
         "xaxis": "x2",
         "y": {
          "bdata": "TSdJoViHDUCrZ1HrdtnaP5goiPlzfcu/6AY0fbqA+b9S9dB10QXmv4bbz8jCIQPAazAmlGs5C8CGVyxvqb77v/P6w5kin9+/+mjZa4DO9D+up5+QfmXJv5r5yQIaus+/HjnezuqxBkBW+CqEa3oHQKY7dP06iwVAfn0cHbzu0z9zS/ii94cBQNGiO7liW/4/Dvdg14Sm8j8UMIcKR0MiwIbXJOrDtB9AoqsMJxCaDUDP1BMgcncMQNpcuwthFvG/2YRaZIPL+r+gQLKAo++hv45iaANAz/y/9JiKM6pO4j9+9aQTfsz6v/WrkrXA0fe/EFn1Mbvq87/XvNcbbSoAwOQa5C3BD/+/C0R4mYm79L+IvrP4f7W5vwzP/JVesNu/y7xOkTtoCMAxxogXyZHMv+5AxB1Zp/y/fvOx12Nx0r+X5JNA1LDRPwO4C7l+b/G/nZhjeq6x2r9VaZvjx/POP6Zdevieb/c/ncyhb+QC979ODj/fzuYBwKSmSMlvkvE/2DjPMK0wAEAL/Oe/3eXLPx/ParMnrtE/elYByI0R8z+/lPnk+VrPv0SGbv+JiKK/kWTjlQzJ2z+/FTRbmp3uv5UIrZIdB/E/zMHDHn/Ezr9q6cMMFt/1Px7J0tgAYvI/+s0fXILy3L8ihoR2DrHcP+uYFa+M/LA/uHnb53YBAEBpwZ1Vsmvtv5pItt0IS/C/UEt3rZrIzT94JJgPoLTXv8J1wjeS5fg/ZXKjgkuK979ckttfnJnaPx7bbVm6XIQ/vaZa5tU9xL8ApUHgJN3zv+B289BdeeI/xHBrv6Tv8L8a8GtUYcrKP4PNPS/RKOS/3yxQWBPRtr+IEMy3cQf2vyqTzxoyu+G/IameewDsvD9CqHmZ+on5v8MueaNUBfI/NFVePLW78L8Dcwsxgg3cv2eP+gaTsco/V5WGE9hU8b+mmEbNsTTkP63ei/ZO3PY/MZa3NeD59L8OiBPfvcP0v4OitB3SteK/Xf2Vy6I98j+gNShFi4X7v2Jo925XF3O/IqToF2lh4b/2k/Y8MXrJvwNGfneG75Y/MT1r+jza6T9OwoWOF73YvwzS0arYZOs/UEj0nFOF8z+In29NxtHRP0x/dDbOf/S/4beDqNKg4j8=",
          "dtype": "f8"
         },
         "yaxis": "y2"
        },
        {
         "error_x": {
          "array": {
           "bdata": "AAAAADg1MUAAAAAA2jExQAAAAADCLjFAAAAAAO8rMUAAAAAAXykxQAAAAAAXJzFAAAAAALDbNkAAAAAAvNg2QAAAAABu1jZAAAAAAMDUNkAAAAAAttM2QAAAAABQ0zZAAAAAAIzTNkAAAAAAbtQ2QAAAAAAF10ZAAAAAALO4SUAAAACAqYdlQAAAAIA91nVAAAAAgNvzekAAAACAfZ2BQAAAAADRbIZAAAAAgDrJjUAAAABA13OUQAAAAADzL55AAAAAwM87qEAAAACA/b2/QA==",
           "dtype": "f8"
          },
          "arrayminus": {
           "bdata": "AAAAADg1MUAAAAAA2jExQAAAAADCLjFAAAAAAO8rMUAAAAAAXykxQAAAAAAXJzFAAAAAALDbNkAAAAAAvNg2QAAAAABu1jZAAAAAAMDUNkAAAAAAttM2QAAAAABQ0zZAAAAAAIzTNkAAAAAAbtQ2QAAAAAAF10ZAAAAAALO4SUAAAACAqYdlQAAAAIA91nVAAAAAgNvzekAAAACAfZ2BQAAAAADRbIZAAAAAgDrJjUAAAABA13OUQAAAAADzL55AAAAAwM87qEAAAACA/b2/QA==",
           "dtype": "f8"
          },
          "color": "#00CC96",
          "symmetric": false,
          "thickness": 1.5,
          "type": "data",
          "width": 0
         },
         "error_y": {
          "array": {
           "bdata": "24HDQ3ytuD+Nl/+uyIq3P7rju2VtvbU/xFGt5UqQsj8Ca3WkSz6yP3ClzA7bNLE/BY5NSEcKrD+OZjffyxipP6hroOfk2qU/2lBzr9FLoj/BALAwsY+iPwnNjohzrqE/MBLvPB7foT8CDEOMpDmiP6SFxetg15Y/93x6PKE4lz93Gz5GlA6FPxc4JO/gA3g/vP7iMsjGaz+5pqR5YIFdP+BAHzAaV0w/08Zqf1lHQj+0QkeWWZo4P0wo8GY2VC4/FY9sbB8FJT8PN1jS4BATPw==",
           "dtype": "f8"
          },
          "color": "#00CC96",
          "thickness": 1.5,
          "type": "data",
          "width": 0
         },
         "marker": {
          "color": "#00CC96",
          "size": 0,
          "symbol": "cross-thin"
         },
         "mode": "markers",
         "name": "obs of HE",
         "showlegend": false,
         "type": "scatter",
         "x": {
          "bdata": "AAAAoJ2SdEAAAADADrl2QAAAAIAY33hAAAAAgMMEe0AAAACAGCp9QAAAAMAfT39AAAAAIKbngEAAAACASVWCQAAAAMDCwoNAAAAAQBwwhUAAAAAAYJ2GQAAAACCYCohAAAAAAM93iUAAAADADuWKQAAAAIAiCY1AAAAAAA8JkEAAAADAyYeTQAAAAGBOrptAAAAAQGrwo0AAAAAgRbarQAAAAGBs3LJAAAAAwC1juUAAAACApRzBQAAAAMAeccdAAAAAgAij0EAAAADgAZrbQA==",
          "dtype": "f8"
         },
         "xaxis": "x",
         "y": {
          "bdata": "/qv8nngfAUBA2Dc8GLP7P2Ce1Y5TBfc//795fB3b8D/oSPj/iYTwP2JOwFOpf+g/YybDdSIj4j9SXZMycojgP+CTWPSE7Ng/MGwJhQ6nyT8Ijz3s7SnOP6Y4itb3ucQ/YDx5IW9IxD+4ZuPw1k7FP3yPfvwE3bQ/bI3LuhrttD/wIy/vtsSeP4BWZBY391Q/sK/6oEilcT/AUYsfO5NZP8A1xbzXr0I/AF9Xm1yWJD9AARsX16wCvzgWJOmxoDO/AFQUh5GNA7/sE/HYFssgvw==",
          "dtype": "f8"
         },
         "yaxis": "y"
        },
        {
         "line": {
          "color": "#00CC96",
          "width": 2
         },
         "mode": "lines",
         "name": "HE",
         "showlegend": true,
         "type": "scatter",
         "x": {
          "bdata": "AAAAoJ2SdEAAAADADrl2QAAAAIAY33hAAAAAgMMEe0AAAACAGCp9QAAAAMAfT39AAAAAIKbngEAAAACASVWCQAAAAMDCwoNAAAAAQBwwhUAAAAAAYJ2GQAAAACCYCohAAAAAAM93iUAAAADADuWKQAAAAIAiCY1AAAAAAA8JkEAAAADAyYeTQAAAAGBOrptAAAAAQGrwo0AAAAAgRbarQAAAAGBs3LJAAAAAwC1juUAAAACApRzBQAAAAMAeccdAAAAAgAij0EAAAADgAZrbQA==",
          "dtype": "f8"
         },
         "xaxis": "x",
         "y": {
          "bdata": "jqtbiCA1AEA1mC0xVsz5P7e1gpsPz/Q/CG1VFDYY8T8YxTQd8DTsP9G8+t/RQuc/NLETfXzy4j8x+bkxzUbeP9hms1uJR9g/5/UTqyzA0z++vMhLmyPQP96AFcC4f8o/jaKCXxDmxT9whgvSUzfCP7Vs+t9W2Ls/Sinfv4pPsz/AOqSuvi2iPwP8E9ebWn4/V+/muJuRST/ojm88ngQPP8wfzsuZvMU+p0ga8mMFbz4EqBJELj3+PRje/g41yWY9BSHnxiP+kDzhnZVPLZ06Ow==",
          "dtype": "f8"
         },
         "yaxis": "y"
        },
        {
         "marker": {
          "color": "#00CC96",
          "line": {
           "color": "#00CC96",
           "width": 1.5
          },
          "size": 10,
          "symbol": "cross-thin"
         },
         "mode": "markers",
         "name": "res of HE",
         "showlegend": false,
         "type": "scatter",
         "x": {
          "bdata": "AAAAoJ2SdEAAAADADrl2QAAAAIAY33hAAAAAgMMEe0AAAACAGCp9QAAAAMAfT39AAAAAIKbngEAAAACASVWCQAAAAMDCwoNAAAAAQBwwhUAAAAAAYJ2GQAAAACCYCohAAAAAAM93iUAAAADADuWKQAAAAIAiCY1AAAAAAA8JkEAAAADAyYeTQAAAAGBOrptAAAAAQGrwo0AAAAAgRbarQAAAAGBs3LJAAAAAwC1juUAAAACApRzBQAAAAMAeccdAAAAAgAij0EAAAADgAZrbQA==",
          "dtype": "f8"
         },
         "xaxis": "x2",
         "y": {
          "bdata": "seZFlQ3+8j99w20mEa30P9HBuBUXDPo/i7yk4k9Uyr9YEMkaivAAQIqHSnECauI/OZm07EmU3b9vVNf/EHTsP11S3OIgMs4/Z5msarc4CMAF51Fjdindv6xGjzbl5PS/coXI+wMl1788Uln8/bblP/lUCTv2j/O/r6Rbd0fP0T9lXy4Sqvzgv+bRE4Iqu/C/V9flWoql8D+EZWp5qa/qP30TBjIRAeU/zD5V/qID0j/UF2zAUEq4vxafzdWKtfS/4oL0h0XEzb+PoYKEiC/8vw==",
          "dtype": "f8"
         },
         "yaxis": "y2"
        }
       ],
       "layout": {
        "height": 700,
        "legend": {
         "x": 1,
         "xanchor": "right",
         "y": 1,
         "yanchor": "bottom"
        },
        "template": {
         "data": {
          "bar": [
           {
            "error_x": {
             "color": "#2a3f5f"
            },
            "error_y": {
             "color": "#2a3f5f"
            },
            "marker": {
             "line": {
              "color": "white",
              "width": 0.5
             },
             "pattern": {
              "fillmode": "overlay",
              "size": 10,
              "solidity": 0.2
             }
            },
            "type": "bar"
           }
          ],
          "barpolar": [
           {
            "marker": {
             "line": {
              "color": "white",
              "width": 0.5
             },
             "pattern": {
              "fillmode": "overlay",
              "size": 10,
              "solidity": 0.2
             }
            },
            "type": "barpolar"
           }
          ],
          "carpet": [
           {
            "aaxis": {
             "endlinecolor": "#2a3f5f",
             "gridcolor": "#C8D4E3",
             "linecolor": "#C8D4E3",
             "minorgridcolor": "#C8D4E3",
             "startlinecolor": "#2a3f5f"
            },
            "baxis": {
             "endlinecolor": "#2a3f5f",
             "gridcolor": "#C8D4E3",
             "linecolor": "#C8D4E3",
             "minorgridcolor": "#C8D4E3",
             "startlinecolor": "#2a3f5f"
            },
            "type": "carpet"
           }
          ],
          "choropleth": [
           {
            "colorbar": {
             "outlinewidth": 0,
             "ticks": ""
            },
            "type": "choropleth"
           }
          ],
          "contour": [
           {
            "colorbar": {
             "outlinewidth": 0,
             "ticks": ""
            },
            "colorscale": [
             [
              0,
              "#0d0887"
             ],
             [
              0.1111111111111111,
              "#46039f"
             ],
             [
              0.2222222222222222,
              "#7201a8"
             ],
             [
              0.3333333333333333,
              "#9c179e"
             ],
             [
              0.4444444444444444,
              "#bd3786"
             ],
             [
              0.5555555555555556,
              "#d8576b"
             ],
             [
              0.6666666666666666,
              "#ed7953"
             ],
             [
              0.7777777777777778,
              "#fb9f3a"
             ],
             [
              0.8888888888888888,
              "#fdca26"
             ],
             [
              1,
              "#f0f921"
             ]
            ],
            "type": "contour"
           }
          ],
          "contourcarpet": [
           {
            "colorbar": {
             "outlinewidth": 0,
             "ticks": ""
            },
            "type": "contourcarpet"
           }
          ],
          "heatmap": [
           {
            "colorbar": {
             "outlinewidth": 0,
             "ticks": ""
            },
            "colorscale": [
             [
              0,
              "#0d0887"
             ],
             [
              0.1111111111111111,
              "#46039f"
             ],
             [
              0.2222222222222222,
              "#7201a8"
             ],
             [
              0.3333333333333333,
              "#9c179e"
             ],
             [
              0.4444444444444444,
              "#bd3786"
             ],
             [
              0.5555555555555556,
              "#d8576b"
             ],
             [
              0.6666666666666666,
              "#ed7953"
             ],
             [
              0.7777777777777778,
              "#fb9f3a"
             ],
             [
              0.8888888888888888,
              "#fdca26"
             ],
             [
              1,
              "#f0f921"
             ]
            ],
            "type": "heatmap"
           }
          ],
          "histogram": [
           {
            "marker": {
             "pattern": {
              "fillmode": "overlay",
              "size": 10,
              "solidity": 0.2
             }
            },
            "type": "histogram"
           }
          ],
          "histogram2d": [
           {
            "colorbar": {
             "outlinewidth": 0,
             "ticks": ""
            },
            "colorscale": [
             [
              0,
              "#0d0887"
             ],
             [
              0.1111111111111111,
              "#46039f"
             ],
             [
              0.2222222222222222,
              "#7201a8"
             ],
             [
              0.3333333333333333,
              "#9c179e"
             ],
             [
              0.4444444444444444,
              "#bd3786"
             ],
             [
              0.5555555555555556,
              "#d8576b"
             ],
             [
              0.6666666666666666,
              "#ed7953"
             ],
             [
              0.7777777777777778,
              "#fb9f3a"
             ],
             [
              0.8888888888888888,
              "#fdca26"
             ],
             [
              1,
              "#f0f921"
             ]
            ],
            "type": "histogram2d"
           }
          ],
          "histogram2dcontour": [
           {
            "colorbar": {
             "outlinewidth": 0,
             "ticks": ""
            },
            "colorscale": [
             [
              0,
              "#0d0887"
             ],
             [
              0.1111111111111111,
              "#46039f"
             ],
             [
              0.2222222222222222,
              "#7201a8"
             ],
             [
              0.3333333333333333,
              "#9c179e"
             ],
             [
              0.4444444444444444,
              "#bd3786"
             ],
             [
              0.5555555555555556,
              "#d8576b"
             ],
             [
              0.6666666666666666,
              "#ed7953"
             ],
             [
              0.7777777777777778,
              "#fb9f3a"
             ],
             [
              0.8888888888888888,
              "#fdca26"
             ],
             [
              1,
              "#f0f921"
             ]
            ],
            "type": "histogram2dcontour"
           }
          ],
          "mesh3d": [
           {
            "colorbar": {
             "outlinewidth": 0,
             "ticks": ""
            },
            "type": "mesh3d"
           }
          ],
          "parcoords": [
           {
            "line": {
             "colorbar": {
              "outlinewidth": 0,
              "ticks": ""
             }
            },
            "type": "parcoords"
           }
          ],
          "pie": [
           {
            "automargin": true,
            "type": "pie"
           }
          ],
          "scatter": [
           {
            "fillpattern": {
             "fillmode": "overlay",
             "size": 10,
             "solidity": 0.2
            },
            "type": "scatter"
           }
          ],
          "scatter3d": [
           {
            "line": {
             "colorbar": {
              "outlinewidth": 0,
              "ticks": ""
             }
            },
            "marker": {
             "colorbar": {
              "outlinewidth": 0,
              "ticks": ""
             }
            },
            "type": "scatter3d"
           }
          ],
          "scattercarpet": [
           {
            "marker": {
             "colorbar": {
              "outlinewidth": 0,
              "ticks": ""
             }
            },
            "type": "scattercarpet"
           }
          ],
          "scattergeo": [
           {
            "marker": {
             "colorbar": {
              "outlinewidth": 0,
              "ticks": ""
             }
            },
            "type": "scattergeo"
           }
          ],
          "scattergl": [
           {
            "marker": {
             "colorbar": {
              "outlinewidth": 0,
              "ticks": ""
             }
            },
            "type": "scattergl"
           }
          ],
          "scattermap": [
           {
            "marker": {
             "colorbar": {
              "outlinewidth": 0,
              "ticks": ""
             }
            },
            "type": "scattermap"
           }
          ],
          "scattermapbox": [
           {
            "marker": {
             "colorbar": {
              "outlinewidth": 0,
              "ticks": ""
             }
            },
            "type": "scattermapbox"
           }
          ],
          "scatterpolar": [
           {
            "marker": {
             "colorbar": {
              "outlinewidth": 0,
              "ticks": ""
             }
            },
            "type": "scatterpolar"
           }
          ],
          "scatterpolargl": [
           {
            "marker": {
             "colorbar": {
              "outlinewidth": 0,
              "ticks": ""
             }
            },
            "type": "scatterpolargl"
           }
          ],
          "scatterternary": [
           {
            "marker": {
             "colorbar": {
              "outlinewidth": 0,
              "ticks": ""
             }
            },
            "type": "scatterternary"
           }
          ],
          "surface": [
           {
            "colorbar": {
             "outlinewidth": 0,
             "ticks": ""
            },
            "colorscale": [
             [
              0,
              "#0d0887"
             ],
             [
              0.1111111111111111,
              "#46039f"
             ],
             [
              0.2222222222222222,
              "#7201a8"
             ],
             [
              0.3333333333333333,
              "#9c179e"
             ],
             [
              0.4444444444444444,
              "#bd3786"
             ],
             [
              0.5555555555555556,
              "#d8576b"
             ],
             [
              0.6666666666666666,
              "#ed7953"
             ],
             [
              0.7777777777777778,
              "#fb9f3a"
             ],
             [
              0.8888888888888888,
              "#fdca26"
             ],
             [
              1,
              "#f0f921"
             ]
            ],
            "type": "surface"
           }
          ],
          "table": [
           {
            "cells": {
             "fill": {
              "color": "#EBF0F8"
             },
             "line": {
              "color": "white"
             }
            },
            "header": {
             "fill": {
              "color": "#C8D4E3"
             },
             "line": {
              "color": "white"
             }
            },
            "type": "table"
           }
          ]
         },
         "layout": {
          "annotationdefaults": {
           "arrowcolor": "#2a3f5f",
           "arrowhead": 0,
           "arrowwidth": 1
          },
          "autotypenumbers": "strict",
          "coloraxis": {
           "colorbar": {
            "outlinewidth": 0,
            "ticks": ""
           }
          },
          "colorscale": {
           "diverging": [
            [
             0,
             "#8e0152"
            ],
            [
             0.1,
             "#c51b7d"
            ],
            [
             0.2,
             "#de77ae"
            ],
            [
             0.3,
             "#f1b6da"
            ],
            [
             0.4,
             "#fde0ef"
            ],
            [
             0.5,
             "#f7f7f7"
            ],
            [
             0.6,
             "#e6f5d0"
            ],
            [
             0.7,
             "#b8e186"
            ],
            [
             0.8,
             "#7fbc41"
            ],
            [
             0.9,
             "#4d9221"
            ],
            [
             1,
             "#276419"
            ]
           ],
           "sequential": [
            [
             0,
             "#0d0887"
            ],
            [
             0.1111111111111111,
             "#46039f"
            ],
            [
             0.2222222222222222,
             "#7201a8"
            ],
            [
             0.3333333333333333,
             "#9c179e"
            ],
            [
             0.4444444444444444,
             "#bd3786"
            ],
            [
             0.5555555555555556,
             "#d8576b"
            ],
            [
             0.6666666666666666,
             "#ed7953"
            ],
            [
             0.7777777777777778,
             "#fb9f3a"
            ],
            [
             0.8888888888888888,
             "#fdca26"
            ],
            [
             1,
             "#f0f921"
            ]
           ],
           "sequentialminus": [
            [
             0,
             "#0d0887"
            ],
            [
             0.1111111111111111,
             "#46039f"
            ],
            [
             0.2222222222222222,
             "#7201a8"
            ],
            [
             0.3333333333333333,
             "#9c179e"
            ],
            [
             0.4444444444444444,
             "#bd3786"
            ],
            [
             0.5555555555555556,
             "#d8576b"
            ],
            [
             0.6666666666666666,
             "#ed7953"
            ],
            [
             0.7777777777777778,
             "#fb9f3a"
            ],
            [
             0.8888888888888888,
             "#fdca26"
            ],
            [
             1,
             "#f0f921"
            ]
           ]
          },
          "colorway": [
           "#636efa",
           "#EF553B",
           "#00cc96",
           "#ab63fa",
           "#FFA15A",
           "#19d3f3",
           "#FF6692",
           "#B6E880",
           "#FF97FF",
           "#FECB52"
          ],
          "font": {
           "color": "#2a3f5f"
          },
          "geo": {
           "bgcolor": "white",
           "lakecolor": "white",
           "landcolor": "white",
           "showlakes": true,
           "showland": true,
           "subunitcolor": "#C8D4E3"
          },
          "hoverlabel": {
           "align": "left"
          },
          "hovermode": "closest",
          "mapbox": {
           "style": "light"
          },
          "paper_bgcolor": "white",
          "plot_bgcolor": "white",
          "polar": {
           "angularaxis": {
            "gridcolor": "#EBF0F8",
            "linecolor": "#EBF0F8",
            "ticks": ""
           },
           "bgcolor": "white",
           "radialaxis": {
            "gridcolor": "#EBF0F8",
            "linecolor": "#EBF0F8",
            "ticks": ""
           }
          },
          "scene": {
           "xaxis": {
            "backgroundcolor": "white",
            "gridcolor": "#DFE8F3",
            "gridwidth": 2,
            "linecolor": "#EBF0F8",
            "showbackground": true,
            "ticks": "",
            "zerolinecolor": "#EBF0F8"
           },
           "yaxis": {
            "backgroundcolor": "white",
            "gridcolor": "#DFE8F3",
            "gridwidth": 2,
            "linecolor": "#EBF0F8",
            "showbackground": true,
            "ticks": "",
            "zerolinecolor": "#EBF0F8"
           },
           "zaxis": {
            "backgroundcolor": "white",
            "gridcolor": "#DFE8F3",
            "gridwidth": 2,
            "linecolor": "#EBF0F8",
            "showbackground": true,
            "ticks": "",
            "zerolinecolor": "#EBF0F8"
           }
          },
          "shapedefaults": {
           "line": {
            "color": "#2a3f5f"
           }
          },
          "ternary": {
           "aaxis": {
            "gridcolor": "#DFE8F3",
            "linecolor": "#A2B1C6",
            "ticks": ""
           },
           "baxis": {
            "gridcolor": "#DFE8F3",
            "linecolor": "#A2B1C6",
            "ticks": ""
           },
           "bgcolor": "white",
           "caxis": {
            "gridcolor": "#DFE8F3",
            "linecolor": "#A2B1C6",
            "ticks": ""
           }
          },
          "title": {
           "x": 0.05
          },
          "xaxis": {
           "automargin": true,
           "gridcolor": "#EBF0F8",
           "linecolor": "#EBF0F8",
           "ticks": "",
           "title": {
            "standoff": 15
           },
           "zerolinecolor": "#EBF0F8",
           "zerolinewidth": 2
          },
          "yaxis": {
           "automargin": true,
           "gridcolor": "#EBF0F8",
           "linecolor": "#EBF0F8",
           "ticks": "",
           "title": {
            "standoff": 15
           },
           "zerolinecolor": "#EBF0F8",
           "zerolinewidth": 2
          }
         }
        },
        "width": 600,
        "xaxis": {
         "anchor": "y",
         "domain": [
          0,
          1
         ],
         "matches": "x2",
         "showticklabels": false,
         "title": {
          "text": ""
         },
         "type": "log"
        },
        "xaxis2": {
         "anchor": "y2",
         "domain": [
          0,
          1
         ],
         "title": {
          "text": "Energy (keV)"
         },
         "type": "log"
        },
        "yaxis": {
         "anchor": "x",
         "domain": [
          0.265,
          1
         ],
         "range": [
          -4.104939462069068,
          2.3709512215322928
         ],
         "title": {
          "text": "Counts/s/keV"
         },
         "type": "log"
        },
        "yaxis2": {
         "anchor": "x2",
         "domain": [
          0,
          0.245
         ],
         "range": [
          -3.5,
          3.5
         ],
         "showgrid": false,
         "title": {
          "text": "Sigma"
         }
        }
       }
      }
     },
     "metadata": {},
     "output_type": "display_data"
    }
   ],
   "source": [
    "fig = Plot.infer(post, style='CE')\n",
    "fig.save(f'{savepath}/ctsspec')"
   ]
  },
  {
   "cell_type": "code",
   "execution_count": 12,
   "id": "a04faabd",
   "metadata": {},
   "outputs": [
    {
     "data": {
      "application/vnd.plotly.v1+json": {
       "config": {
        "plotlyServerURL": "https://plot.ly"
       },
       "data": [
        {
         "error_x": {
          "array": {
           "bdata": "AAAAgI/CtT8AAAAA4XqkPwAAAAD2KKw/AAAAAJqZmT8AAAAAheuhPwAAAADgepQ/AAAAAOB6lD8AAAAA5HqUPwAAAABQuJ4/AAAAAJyZmT8AAAAAhOuhPwAAAACamak/AAAAAOJ6pD8AAAAAmJmpPwAAAAA+Cqc/AAAAAFK4vj8AAAAAMzOzPwAAAACQwsU/AAAAgEfh2j8AAACAwvXYPw==",
           "dtype": "f8"
          },
          "arrayminus": {
           "bdata": "AAAAgI/CtT8AAAAA4XqkPwAAAAD2KKw/AAAAAJqZmT8AAAAAheuhPwAAAADgepQ/AAAAAOB6lD8AAAAA5HqUPwAAAABQuJ4/AAAAAJyZmT8AAAAAhOuhPwAAAACamak/AAAAAOJ6pD8AAAAAmJmpPwAAAAA+Cqc/AAAAAFK4vj8AAAAAMzOzPwAAAACQwsU/AAAAgEfh2j8AAACAwvXYPw==",
           "dtype": "f8"
          },
          "color": "#636EFA",
          "symmetric": false,
          "thickness": 1.5,
          "type": "data",
          "width": 0
         },
         "error_y": {
          "array": {
           "bdata": "F8ovCU88CEAp4UbKxmsTQHHS1ll15g1AyBBR6lm4HEBCi+UFU2IVQDS1E0XujyJAeMn24N6wIUCPm6at16kiQLGKJlXxgRtAcjOG17VGH0C6uQqDVugVQINayybcjBBA7Fy29836G0BK8vyeFoYYQMpqdiLVjh9A2UTHaX0GEUDEo2WQo8AaQBUnfoS3cxZAtcj+cU5TAEASSVB/dmYKQA==",
           "dtype": "f8"
          },
          "color": "#636EFA",
          "thickness": 1.5,
          "type": "data",
          "width": 0
         },
         "marker": {
          "color": "#636EFA",
          "size": 0,
          "symbol": "cross-thin"
         },
         "mode": "markers",
         "name": "obs of LE",
         "showlegend": false,
         "type": "scatter",
         "x": {
          "bdata": "AAAAAFK44j8AAAAAUrjmPwAAAGCPwuk/AAAAgOtR7D8AAADAcD3uPwAAAAAAAPA/AAAAANej8D8AAAAArkfxPwAAAOB6FPI/AAAAgML18j8AAAAghevzPwAAAACuR/U/AAAAAFK49j8AAADA9Sj4PwAAAIAUrvk/AAAAgOtR/D8AAADAo3D/PwAAAIAUrgFAAAAAgGZmBkAAAADAR+EMQA==",
          "dtype": "f8"
         },
         "xaxis": "x",
         "y": {
          "bdata": "nwH/ARt8IkDtpISkEbUuQLGlpXVhoydA1zZlRIu0NkDMXtDmEbsxQCs8vYYvyD5AGpsK8MX4O0AbhzPKJ/M+QOdswcj6+jRAClt9QNDuOUAQHRDLx1ExQHRU8VUQKypAKvE8ce3dM0D0rWjPYLQyQNu08r/g8jhAEN/F8EbAJkCX2zsQUyY1QMCWqWfbHzFALu/TgzjnGEBsk1RM4QIoQA==",
          "dtype": "f8"
         },
         "yaxis": "y"
        },
        {
         "line": {
          "color": "#636EFA",
          "width": 2
         },
         "mode": "lines",
         "name": "LE",
         "showlegend": true,
         "type": "scatter",
         "x": {
          "bdata": "AAAAAFK44j8AAAAAUrjmPwAAAGCPwuk/AAAAgOtR7D8AAADAcD3uPwAAAAAAAPA/AAAAANej8D8AAAAArkfxPwAAAOB6FPI/AAAAgML18j8AAAAghevzPwAAAACuR/U/AAAAAFK49j8AAADA9Sj4PwAAAIAUrvk/AAAAgOtR/D8AAADAo3D/PwAAAIAUrgFAAAAAgGZmBkAAAADAR+EMQA==",
          "dtype": "f8"
         },
         "xaxis": "x",
         "y": {
          "bdata": "mA7oQ3gEGUB1E8WVFUQnQGYb7rVvgjFA0fkcGsQoMkCgOyJfVuszQDwnZ8B2GTVA3Avjsdu1NUBl2ANH9Sw2QKmv/SjbkDZAxH3NAkjHNkCMMyN/m2A2QJGi8KH6ETZA+16a9V+pNUD693wF4xA1QGqrr+PwXDRA6FgaRmHjMkBbxacMh18xQDC5/aQZai9AvwkEPkYuKUAnES6Q9T8kQA==",
          "dtype": "f8"
         },
         "yaxis": "y"
        },
        {
         "marker": {
          "color": "#636EFA",
          "line": {
           "color": "#636EFA",
           "width": 1.5
          },
          "size": 10,
          "symbol": "cross-thin"
         },
         "mode": "markers",
         "name": "res of LE",
         "showlegend": false,
         "type": "scatter",
         "x": {
          "bdata": "AAAAAFK44j8AAAAAUrjmPwAAAGCPwuk/AAAAgOtR7D8AAADAcD3uPwAAAAAAAPA/AAAAANej8D8AAAAArkfxPwAAAOB6FPI/AAAAgML18j8AAAAghevzPwAAAACuR/U/AAAAAFK49j8AAADA9Sj4PwAAAIAUrvk/AAAAgOtR/D8AAADAo3D/PwAAAIAUrgFAAAAAgGZmBkAAAADAR+EMQA==",
          "dtype": "f8"
         },
         "xaxis": "x2",
         "y": {
          "bdata": "s4lSZv+P7z80jA9usIXoPxl40oYwXPi/sfXLc7tC5D8Xg3E+QTPav2mJoRolsfA/IGAR+dSm5j9ndHOOkxbuP7VGeOCYgs2/3nZMb8LR2T+BiRbIUo3tv1EUNnbuXwHATuZ6TbVr0L/gLC5wX6bYv9C5Pn6GmeI/yeTjN6g9/L8oYpmlvBHiP0QBiTPCKNA/XeYs6WrzCMC3oeflqTziPw==",
          "dtype": "f8"
         },
         "yaxis": "y2"
        },
        {
         "error_x": {
          "array": {
           "bdata": "AAAAAMa52j8AAAAAzIvaPwAAAABW0N8/AAAAAMr+3z8AAAAAVzXgPwAAAAAEiuA/AAAAAA/94D8AAAAANXzhPwAAAADC7OE/AAAAAH5h5T8AAAAAWsnlPwAAAAAOGeY/AAAAANJl5j8AAAAAvLrmPwAAAADsF+c/AAAAACzh6j8AAAAAAHLrPwAAAAAiD+w/AAAAAJy47D8AAAAAZJnzPwAAAADwneg/AAAAAEgJ6T8AAAAAXLDpPwAAAABQT+o/AAAAADDs7T8AAAAAQJvuPwAAAAAcP+8/AAAAANzX7z8AAAAAENXxPwAAAABKI/I/AAAAABhq8j8AAAAAfKnyPwAAAABcm/Q/AAAAAFLU9D8AAAAApgP1PwAAAAAo7vY/AAAAACgO9z8AAAAA3CH3PwAAAABk8fg/AAAAAMDq+D8AAAAADNb4PwAAAADogfo/AAAAAPxp+j8AAAAAdFX6PwAAAAAMBPw/AAAAAKz0+z8AAAAAZOn7PwAAAAA8oP0/AAAAABSd/T8AAAAAGF3/PwAAAAD0ZP8/AAAAAC6ZAEAAAAAAlqIAQAAAAADojAFAAAAAAEyXAUAAAAAAnKEBQAAAAABMjgJAAAAAAICZAkAAAAAALIgDQAAAAABkeARAAAAAAISFBEAAAAAAzHcFQAAAAADUhQVAAAAAADh6BkAAAAAALIkGQAAAAACsfwdAAAAAANR3CEAAAAAAwIgIQAAAAAAUgwlAAAAAACB/CkAAAAAABJIKQAAAAAA4kAtAAAAAACyQDEAAAAAA4JENQAAAAAC8pw1AAAAAAJyrDkAAAAAAKLEPQAAAAABEXBBAAAAAAJxoEEAAAAAASO0QQAAAAADYchFAAAAAADj5EUAAAAAAcIASQAAAAAB8CBNAAAAAAFiRE0AAAAAA/BoUQAAAAABkpRRAAAAAAIwwFUAAAAAAbLwVQAAAAAAESRZAAAAAADzWFkAAAAAAGGQXQAAAAADYbxhAAAAAAIz/GEAAAAAAEtgpQAAAAABksRpAAAAAAMzBG0AAAAAADFQcQAAAAADEby1AAAAAADiMHkAAAAAAqOkvQAAAAADgoyBAAAAAAHztIEAAAAAAzLwxQAAAAACVEFRAAAAAALElQUA=",
           "dtype": "f8"
          },
          "arrayminus": {
           "bdata": "AAAAAMa52j8AAAAAzIvaPwAAAABW0N8/AAAAAMr+3z8AAAAAVzXgPwAAAAAEiuA/AAAAAA/94D8AAAAANXzhPwAAAADC7OE/AAAAAH5h5T8AAAAAWsnlPwAAAAAOGeY/AAAAANJl5j8AAAAAvLrmPwAAAADsF+c/AAAAACzh6j8AAAAAAHLrPwAAAAAiD+w/AAAAAJy47D8AAAAAZJnzPwAAAADwneg/AAAAAEgJ6T8AAAAAXLDpPwAAAABQT+o/AAAAADDs7T8AAAAAQJvuPwAAAAAcP+8/AAAAANzX7z8AAAAAENXxPwAAAABKI/I/AAAAABhq8j8AAAAAfKnyPwAAAABcm/Q/AAAAAFLU9D8AAAAApgP1PwAAAAAo7vY/AAAAACgO9z8AAAAA3CH3PwAAAABk8fg/AAAAAMDq+D8AAAAADNb4PwAAAADogfo/AAAAAPxp+j8AAAAAdFX6PwAAAAAMBPw/AAAAAKz0+z8AAAAAZOn7PwAAAAA8oP0/AAAAABSd/T8AAAAAGF3/PwAAAAD0ZP8/AAAAAC6ZAEAAAAAAlqIAQAAAAADojAFAAAAAAEyXAUAAAAAAnKEBQAAAAABMjgJAAAAAAICZAkAAAAAALIgDQAAAAABkeARAAAAAAISFBEAAAAAAzHcFQAAAAADUhQVAAAAAADh6BkAAAAAALIkGQAAAAACsfwdAAAAAANR3CEAAAAAAwIgIQAAAAAAUgwlAAAAAACB/CkAAAAAABJIKQAAAAAA4kAtAAAAAACyQDEAAAAAA4JENQAAAAAC8pw1AAAAAAJyrDkAAAAAAKLEPQAAAAABEXBBAAAAAAJxoEEAAAAAASO0QQAAAAADYchFAAAAAADj5EUAAAAAAcIASQAAAAAB8CBNAAAAAAFiRE0AAAAAA/BoUQAAAAABkpRRAAAAAAIwwFUAAAAAAbLwVQAAAAAAESRZAAAAAADzWFkAAAAAAGGQXQAAAAADYbxhAAAAAAIz/GEAAAAAAEtgpQAAAAABksRpAAAAAAMzBG0AAAAAADFQcQAAAAADEby1AAAAAADiMHkAAAAAAqOkvQAAAAADgoyBAAAAAAHztIEAAAAAAzLwxQAAAAACVEFRAAAAAALElQUA=",
           "dtype": "f8"
          },
          "color": "#EF553B",
          "symmetric": false,
          "thickness": 1.5,
          "type": "data",
          "width": 0
         },
         "error_y": {
          "array": {
           "bdata": "5UEFTqFN4T8M8gCUDuTXPwvztg3JO9A/qBkF1GjpyD/CEHlSQm/EPwJnh0FPTsA/VeckRFdHuz81JelzETO4P8/agjj7ubU/9wzvSMYMsj9N2BQ8vpWvP73Xd4Cdlaw/1o7Lvk1Bqz9YeIrx80+pP19N0riCXac/sOF6mXa/oz8BJqi5/uOiP+kVVj6V6qE/f/HMU4gGoT8gMJQ8I1aYPwwaHCOpIqQ//GqY7PXIoT8kl/NzRY+gP75kgKnTzZw/Ct+aAUJlmT+/h3n8kqaYPyaKWCuQZJY/2tL5y20elj/ZNQaNHEKTP8g7oRiVTpI/KONP14VYkT80M9bWEBCQPxNxbIC9LY0/F/DUca0ojD9qf+5J3pWLPzV+xLfzJYk/07xPSRmwhj9SGC+vZq2GP+lw8wXSFIQ/PSN6tmeugz8lWwLT3QuDP4YAaZJRNoE/g9JDjFnOgD9TMshXwV+AP1ZGkodre38/dFhMyGd2fD+BkRodcbp6PwBJmccPKHs/yh0hV3fmej+XyoYqR0F4P5aeT+U8V3c/zvJynCiPdj+Ft/uNrgt1P3Lnvoy5B3Q/wNtryZOKcz97UepX1GVyP0GZzZxJa3I/TkUKbF1EcT/efIaW7UpxP3sg9O3ZOnA/U/Kj4YVqbj/0badzW+VtP+nMShMC+Ww/xbdp/MzZbT/5ogFVFvRqP2+XwfDb9Gk/YeKFcUhBaj8W3RK5myZpP4Hg/osD/Gk/YN5V3dNbZj+Vg4iXPbBnPyAby4bl2mY/upwjjSkqZj/gtsezbJ1kP9+l3nm/VGY//fxTD6UVZD9kZnhQPdhkPwWfrmUdh2M/lcy7EOMHZD9MMUlVWFxiP0/eyzk5xmI/9rGnd0QmYz+EihoC7btgP374/L2BCWM/j48YJw38Xz8g1ua7EoRgPzoKtQD2IGE/EOusHHSxXj+OaDboPg5hP95w41nfzmE/0Ecx4XVkXD9J3F+fc8RcP7z6Bk/G9lw/zAG+A3G2Xz/EI+VqbdVSP1SBXgUmcV0/78EfRbKyWz87Mo3xqTtdP3YlgHQ20VQ/NA88s9WSXT/S14XCBPdRP9oQlmsEvlo/a29UklkZXD9eLq7g341RP3SBkbcAqDw/RGV4aisPST8=",
           "dtype": "f8"
          },
          "color": "#EF553B",
          "thickness": 1.5,
          "type": "data",
          "width": 0
         },
         "marker": {
          "color": "#EF553B",
          "size": 0,
          "symbol": "cross-thin"
         },
         "mode": "markers",
         "name": "obs of ME",
         "showlegend": false,
         "type": "scatter",
         "x": {
          "bdata": "AAAAwO3+IEAAAABAGqkiQAAAAED7eyRAAAAAQHR6JkAAAAAAwH0oQAAAAMC1iSpAAAAAACeiLEAAAABAu8kuQAAAAEAlgDBAAAAAQJe6MUAAAAAA7hMzQAAAAEABczRAAAAAQPjWNUAAAADA/D83QAAAAACSrjhAAAAAwFo+OkAAAAAg9PA7QAAAAED9rD1AAAAAIDtzP0AAAAAgS8lAQAAAAACOyEFAAAAA4CqPQkAAAACAEVpDQAAAACAQKkRAAAAAIP4KRUAAAADgG/1FQAAAAECF9EZAAAAAQOHwR0AAAAAg6f5IQAAAAACsHkpAAAAAABdDS0AAAACgs2tMQAAAAGDapU1AAAAAwFfxTkAAAADACyBQQAAAAADTz1BAAAAAQMSHUUAAAABAhEBSQAAAAEDRAFNAAAAA4EHIU0AAAAAARY9UQAAAAOCkXFVAAAAAgFQwVkAAAABAUgNXQAAAAEC43FdAAAAAAJu8WEAAAABAE5xZQAAAAMA5glpAAAAAAC9vW0AAAADAF2NcQAAAAAAgXl1AAAAAQH1gXkAAAABAW2pfQAAAAKDrPWBAAAAAgHzKYEAAAAAAYFdhQAAAAMAf6GFAAAAA4L58YkAAAACARRVjQAAAAMBHtWNAAAAAgD9ZZEAAAADANAFlQAAAAEArrWVAAAAAYCtdZkAAAAAAORFnQAAAAEBcyWdAAAAAQDqJaEAAAACgPE1pQAAAAABsFWpAAAAAwHTlakAAAABAublrQAAAAEBCkmxAAAAAwMNybUAAAAAATFtuQAAAAIAySG9AAAAA4L8ccEAAAACAeZlwQAAAAMBMGnFAAAAAQGCdcUAAAADgtyJyQAAAAGA4rHJAAAAAoOg5c0AAAABAz8tzQAAAAADzYXRAAAAAQFr8dEAAAACAC5t1QAAAAAANPnZAAAAAwGTldkAAAADAGJF3QAAAAIAuQXhAAAAAgKv1eEAAAADAlK55QAAAAIDkbXpAAAAAAKIze0AAAADAYGZ8QAAAAADnn31AAAAAwLN5fkAAAAAAC1p/QAAAAMBsW4BAAAAAQEQOgUAAAABAA8uBQAAAAGA5jYJAAAAAwH4Tg0AAAAAgG+WDQAAAACAU9YZAAAAAwIGJikA=",
          "dtype": "f8"
         },
         "xaxis": "x",
         "y": {
          "bdata": "l+j5RkWaIED0DR6ZN6EXQP989ueidxRA0SWOVEIrEUDJpzA0g/YPQAsMkvtp8wpAsyXHkk17B0Bzw8yeFnIGQPP8K+QZIAVAepafKawHBECbRdS1szEBQOIGGGVG7P4/sK7dtBWY/j82/HAm7ev7P2o+dSEpT/k/WBkQCgpp9T/1cKkLvIb0P6uJj6TIjPI/Ov39I3+Q8D+l8oJm78XlPysC/QVTEfI/zuoG/lyE7D/1Uq+H+HjqPxRkH6tIVuQ/FNjce4iE4j+5OO7TRGviP0zqPlHNzt8/eSqdrLxi4D88n+jOH7bbP/+IJItr4Nk/eO2ht2ZH2D8i7nHOJ9PVPwK4UK21ZdQ/SW3hbFFv0z/dvFM0VwzTP7OQLJ1RcNE/mWLIHqCwzD/GSa7XN2nOP/O4xFQgV8o/qSYX49U9yj8seYkrFyPJP7hau8Lz+MU/+ljjkSQpxT+qvbmKOnTEP3ZzxLxJWcQ/begp7cpqwD9IJjZE73W9PxMCfQAwgcA/qAqy/hlQwD8RzBVdRsG7P0sKUf3cJLo/uz/II1zYuT/EHMgG5l22P1NJa5AVQ7U/uN2NtmaLtD8ReVQpg7uxP6rqIRP18rI/ilBaZLRssD9PUZyPpy+xP0qNzk8Z4a8/HS7uap/wqj9M3lDRPwCrP3PXsxJxwKg/dGcCzhTuqj8jDSeWH06kP/ygYt548aI/MplQYoPGoz/k6M1IzK+hP5QHrxslvqM/r/0v/dRPnD871zvnjcafP+4r8CRO0Jw/UBIDzP2rmj+7UD2fbVGWP4/pFdSLo5k/0z0e2p/5kz+8LNexKtqVPwLzjIKwgpI/mgsWscmlkj/M9D6pdjeNP0psWzWX144/z/lc82j/jz/5Pp79leWGP6pEVsR7k5A/VX5lFmvshT/CrUOYFbOGPxbWRm4E5Yc/Garbz+lrgT9tDOQu7uyGP/J3ZR9tU4k/Jz6P14E7ej8Vtn31XPN3P34i4Zz853o/6wm6ez0Sgz9unaFTmSpyPwri02uDrXc/Crb2aVxbcj/CNoWsKChzP8088S6aoHI/irmmZw6Ydj+8AxywQUZqP11effb3BXM/C11ea/7ldD+09Xh16GNoP9YJEnC8yFM/1+M9fkqtWT8=",
          "dtype": "f8"
         },
         "yaxis": "y"
        },
        {
         "line": {
          "color": "#EF553B",
          "width": 2
         },
         "mode": "lines",
         "name": "ME",
         "showlegend": true,
         "type": "scatter",
         "x": {
          "bdata": "AAAAwO3+IEAAAABAGqkiQAAAAED7eyRAAAAAQHR6JkAAAAAAwH0oQAAAAMC1iSpAAAAAACeiLEAAAABAu8kuQAAAAEAlgDBAAAAAQJe6MUAAAAAA7hMzQAAAAEABczRAAAAAQPjWNUAAAADA/D83QAAAAACSrjhAAAAAwFo+OkAAAAAg9PA7QAAAAED9rD1AAAAAIDtzP0AAAAAgS8lAQAAAAACOyEFAAAAA4CqPQkAAAACAEVpDQAAAACAQKkRAAAAAIP4KRUAAAADgG/1FQAAAAECF9EZAAAAAQOHwR0AAAAAg6f5IQAAAAACsHkpAAAAAABdDS0AAAACgs2tMQAAAAGDapU1AAAAAwFfxTkAAAADACyBQQAAAAADTz1BAAAAAQMSHUUAAAABAhEBSQAAAAEDRAFNAAAAA4EHIU0AAAAAARY9UQAAAAOCkXFVAAAAAgFQwVkAAAABAUgNXQAAAAEC43FdAAAAAAJu8WEAAAABAE5xZQAAAAMA5glpAAAAAAC9vW0AAAADAF2NcQAAAAAAgXl1AAAAAQH1gXkAAAABAW2pfQAAAAKDrPWBAAAAAgHzKYEAAAAAAYFdhQAAAAMAf6GFAAAAA4L58YkAAAACARRVjQAAAAMBHtWNAAAAAgD9ZZEAAAADANAFlQAAAAEArrWVAAAAAYCtdZkAAAAAAORFnQAAAAEBcyWdAAAAAQDqJaEAAAACgPE1pQAAAAABsFWpAAAAAwHTlakAAAABAublrQAAAAEBCkmxAAAAAwMNybUAAAAAATFtuQAAAAIAySG9AAAAA4L8ccEAAAACAeZlwQAAAAMBMGnFAAAAAQGCdcUAAAADgtyJyQAAAAGA4rHJAAAAAoOg5c0AAAABAz8tzQAAAAADzYXRAAAAAQFr8dEAAAACAC5t1QAAAAAANPnZAAAAAwGTldkAAAADAGJF3QAAAAIAuQXhAAAAAgKv1eEAAAADAlK55QAAAAIDkbXpAAAAAAKIze0AAAADAYGZ8QAAAAADnn31AAAAAwLN5fkAAAAAAC1p/QAAAAMBsW4BAAAAAQEQOgUAAAABAA8uBQAAAAGA5jYJAAAAAwH4Tg0AAAAAgG+WDQAAAACAU9YZAAAAAwIGJikA=",
          "dtype": "f8"
         },
         "xaxis": "x",
         "y": {
          "bdata": "AAAAwMU4GUAAAABg2gAXQAAAAEBrrxRAAAAAYOtoEkAAAABAw2sQQAAAAMBWYw1AAAAAIPJhCkAAAAAAy8EHQAAAAMD6dQVAAAAAwORLA0AAAADgxEoBQAAAAMD0JP8/AAAA4Ict/D8AAACAo5n5PwAAAEDIV/c/AAAAANY39T8AAACgjzvzPwAAAEDXfPE/AAAAoHXj7z8AAACAvrfsPwAAAAD9KOo/AAAAQG1n6D8AAABgLcrmPwAAAIBgTOU/AAAAAMXY4z8AAABgLXLiPwAAAAD3KeE/AAAAgAH73z8AAADgOLrdPwAAAOB6lNs/AAAAQOCg2T8AAADgfNrXPwAAAIDgKtY/AAAAoDiT1D8AAADAgCLTPwAAACBcx9E/AAAAQA+C0D8AAAAANLrOPwAAAOCHlsw/AAAAoJSYyj8AAADA2s7IPwAAAEAOJcc/AAAAYEyZxT8AAACA4DTEPwAAAGBh6MI/AAAAwEWywT8AAABAcpnAPwAAAEAuJb8/AAAAQCo5vT8AAAAgsWy7PwAAAACyvbk/AAAAIDAquD8AAACgYrC2PwAAAGCvTrU/AAAAIKkDtD8AAABgJNWyPwAAACBSubE/AAAA4ByvsD8AAACg4GqvPwAAAIBljK0/AAAAIL3Mqz8AAAAAzymqPwAAAMCuoag/AAAAwIMypz8AAABAntqlPwAAAEBimKQ/AAAAYMRkoz8AAAAA2kSiPwAAAIA3N6E/AAAAoD42oD8AAABgf4uePwAAAKAIyZw/AAAAQCccmz8AAACAaYSZPwAAACAAB5g/AAAAwO6hlj8AAACAjk6VPwAAAOBbDJQ/AAAA4Orekj8AAADgq8SRPwAAAOCvuJA/AAAAQPN0jz8AAABgEpONPwAAACC1yos/AAAAQNQaij8AAADAZoKIPwAAACBnAIc/AAAAgNOThT8AAADgrjuEPwAAAEAD94I/AAAAgODEgT8AAACAXqSAPwAAAADVI38/AAAAoKAafT8AAAAA8EN6PwAAAMBLtnc/AAAAQCwedj8AAACAjJx0PwAAAODCgnI/AAAAgPSecD8AAACgHL9tPwAAAKCimWo/AAAA4NynaD8AAADgS/JlPwAAAGB29lw/AAAA4A1iUj8=",
          "dtype": "f8"
         },
         "yaxis": "y"
        },
        {
         "marker": {
          "color": "#EF553B",
          "line": {
           "color": "#EF553B",
           "width": 1.5
          },
          "size": 10,
          "symbol": "cross-thin"
         },
         "mode": "markers",
         "name": "res of ME",
         "showlegend": false,
         "type": "scatter",
         "x": {
          "bdata": "AAAAwO3+IEAAAABAGqkiQAAAAED7eyRAAAAAQHR6JkAAAAAAwH0oQAAAAMC1iSpAAAAAACeiLEAAAABAu8kuQAAAAEAlgDBAAAAAQJe6MUAAAAAA7hMzQAAAAEABczRAAAAAQPjWNUAAAADA/D83QAAAAACSrjhAAAAAwFo+OkAAAAAg9PA7QAAAAED9rD1AAAAAIDtzP0AAAAAgS8lAQAAAAACOyEFAAAAA4CqPQkAAAACAEVpDQAAAACAQKkRAAAAAIP4KRUAAAADgG/1FQAAAAECF9EZAAAAAQOHwR0AAAAAg6f5IQAAAAACsHkpAAAAAABdDS0AAAACgs2tMQAAAAGDapU1AAAAAwFfxTkAAAADACyBQQAAAAADTz1BAAAAAQMSHUUAAAABAhEBSQAAAAEDRAFNAAAAA4EHIU0AAAAAARY9UQAAAAOCkXFVAAAAAgFQwVkAAAABAUgNXQAAAAEC43FdAAAAAAJu8WEAAAABAE5xZQAAAAMA5glpAAAAAAC9vW0AAAADAF2NcQAAAAAAgXl1AAAAAQH1gXkAAAABAW2pfQAAAAKDrPWBAAAAAgHzKYEAAAAAAYFdhQAAAAMAf6GFAAAAA4L58YkAAAACARRVjQAAAAMBHtWNAAAAAgD9ZZEAAAADANAFlQAAAAEArrWVAAAAAYCtdZkAAAAAAORFnQAAAAEBcyWdAAAAAQDqJaEAAAACgPE1pQAAAAABsFWpAAAAAwHTlakAAAABAublrQAAAAEBCkmxAAAAAwMNybUAAAAAATFtuQAAAAIAySG9AAAAA4L8ccEAAAACAeZlwQAAAAMBMGnFAAAAAQGCdcUAAAADgtyJyQAAAAGA4rHJAAAAAoOg5c0AAAABAz8tzQAAAAADzYXRAAAAAQFr8dEAAAACAC5t1QAAAAAANPnZAAAAAwGTldkAAAADAGJF3QAAAAIAuQXhAAAAAgKv1eEAAAADAlK55QAAAAIDkbXpAAAAAAKIze0AAAADAYGZ8QAAAAADnn31AAAAAwLN5fkAAAAAAC1p/QAAAAMBsW4BAAAAAQEQOgUAAAABAA8uBQAAAAGA5jYJAAAAAwH4Tg0AAAAAgG+WDQAAAACAU9YZAAAAAwIGJikA=",
          "dtype": "f8"
         },
         "xaxis": "x2",
         "y": {
          "bdata": "TCdJoViHDUCVZ1HrdtnaP9UoiPlzfcu/4AY0fbqA+b9Z9dB10QXmv4Hbz8jCIQPAdDAmlGs5C8CMVyxvqb77vz37w5kin9+/DWnZa4DO9D+8p5+QfmXJvx/6yQIaus+/HznezuqxBkBP+CqEa3oHQKY7dP06iwVAW30cHbzu0z91S/ii94cBQLuiO7liW/4/APdg14Sm8j8SMIcKR0MiwIPXJOrDtB9Am6sMJxCaDUDR1BMgcncMQOBcuwthFvG/3IRaZIPL+r90QLKAo++hv45iaANAz/y/+piKM6pO4j939aQTfsz6v/OrkrXA0fe/Dln1Mbvq87/YvNcbbSoAwPAa5C3BD/+/B0R4mYm79L83vrP4f7W5v9fO/JVesNu/zLxOkTtoCMCGxogXyZHMv+xAxB1Zp/y/bfOx12Nx0r+K5JNA1LDRPw24C7l+b/G/e5hjeq6x2r86aZvjx/POP6tdevieb/c/ncyhb+QC979MDj/fzuYBwKimSMlvkvE/3DjPMK0wAEAD/Oe/3eXLPyzParMnrtE/e1YByI0R8z/JlPnk+VrPv8yFbv+JiKK/jWTjlQzJ2z/CFTRbmp3uv5QIrZIdB/E/8sHDHn/Ezr9r6cMMFt/1PyLJ0tgAYvI/7M0fXILy3L8WhoR2DrHcP1WZFa+M/LA/tnnb53YBAEBuwZ1Vsmvtv5pItt0IS/C/WUt3rZrIzT+PJJgPoLTXv8N1wjeS5fg/Y3KjgkuK979dkttfnJnaP+zZbVm6XIQ/tqZa5tU9xL/6pEHgJN3zv9x289BdeeI/yXBrv6Tv8L8I8GtUYcrKP4fNPS/RKOS/Dy1QWBPRtr+HEMy3cQf2vyOTzxoyu+G/Q6meewDsvD9AqHmZ+on5v8AueaNUBfI/NVVePLW78L8Fcwsxgg3cv36P+gaTsco/VZWGE9hU8b+kmEbNsTTkP67ei/ZO3PY/MJa3NeD59L8PiBPfvcP0v36itB3SteK/XP2Vy6I98j+gNShFi4X7vwVp925XF3O/H6ToF2lh4b/tk/Y8MXrJv/xFfneG75Y/MD1r+jza6T9NwoWOF73Yvw3S0arYZOs/UUj0nFOF8z+Jn29NxtHRP05/dDbOf/S/4beDqNKg4j8=",
          "dtype": "f8"
         },
         "yaxis": "y2"
        },
        {
         "error_x": {
          "array": {
           "bdata": "AAAAADg1MUAAAAAA2jExQAAAAADCLjFAAAAAAO8rMUAAAAAAXykxQAAAAAAXJzFAAAAAALDbNkAAAAAAvNg2QAAAAABu1jZAAAAAAMDUNkAAAAAAttM2QAAAAABQ0zZAAAAAAIzTNkAAAAAAbtQ2QAAAAAAF10ZAAAAAALO4SUAAAACAqYdlQAAAAIA91nVAAAAAgNvzekAAAACAfZ2BQAAAAADRbIZAAAAAgDrJjUAAAABA13OUQAAAAADzL55AAAAAwM87qEAAAACA/b2/QA==",
           "dtype": "f8"
          },
          "arrayminus": {
           "bdata": "AAAAADg1MUAAAAAA2jExQAAAAADCLjFAAAAAAO8rMUAAAAAAXykxQAAAAAAXJzFAAAAAALDbNkAAAAAAvNg2QAAAAABu1jZAAAAAAMDUNkAAAAAAttM2QAAAAABQ0zZAAAAAAIzTNkAAAAAAbtQ2QAAAAAAF10ZAAAAAALO4SUAAAACAqYdlQAAAAIA91nVAAAAAgNvzekAAAACAfZ2BQAAAAADRbIZAAAAAgDrJjUAAAABA13OUQAAAAADzL55AAAAAwM87qEAAAACA/b2/QA==",
           "dtype": "f8"
          },
          "color": "#00CC96",
          "symmetric": false,
          "thickness": 1.5,
          "type": "data",
          "width": 0
         },
         "error_y": {
          "array": {
           "bdata": "atY+Odi9RD8mLbYHOwZEPwONrbH7tkI/bAmVAWAOQD+u6OlvX90/P6gcOozmmD4/izmVbcIrOT+4Qfi458M2P+Pk6NDOITQ/+496gFD/MD+h2ltLe2wxP3dtJZ98yTA/XuN5/9ohMT++KC2ZNpoxP+9T27gRTiY/jXdfvwf7Jj8B7MO7kYsUP8+TPczH4QU/TpNEA77m+T7+wntekqjpPlxvVA1Y0NU+b8DNK7cXxT411QQCTu2wPiGsCzNiOI0+u5th/8biUD7tJYd4iblIPQ==",
           "dtype": "f8"
          },
          "color": "#00CC96",
          "thickness": 1.5,
          "type": "data",
          "width": 0
         },
         "marker": {
          "color": "#00CC96",
          "size": 0,
          "symbol": "cross-thin"
         },
         "mode": "markers",
         "name": "obs of HE",
         "showlegend": false,
         "type": "scatter",
         "x": {
          "bdata": "AAAAoJ2SdEAAAADADrl2QAAAAIAY33hAAAAAgMMEe0AAAACAGCp9QAAAAMAfT39AAAAAIKbngEAAAACASVWCQAAAAMDCwoNAAAAAQBwwhUAAAAAAYJ2GQAAAACCYCohAAAAAAM93iUAAAADADuWKQAAAAIAiCY1AAAAAAA8JkEAAAADAyYeTQAAAAGBOrptAAAAAQGrwo0AAAAAgRbarQAAAAGBs3LJAAAAAwC1juUAAAACApRzBQAAAAMAeccdAAAAAgAij0EAAAADgAZrbQA==",
          "dtype": "f8"
         },
         "xaxis": "x",
         "y": {
          "bdata": "CltLypzIjD/b3+mpgY+HP8EV3xNB0YM/d+xrwX8ofT9n/URix9l8P6ssB0hEyHU/+YwbWgZIcD8YvTmgd/5tP6JHPBt/9WY/VXYFZtzUVz8PK/SZr1BcPyHZC6OSrVM/3fElaqJxUz+vA0dIcZRUP4yB3ryZX0Q/1CVPyZe1RD/hcqpqSAUuP2FHNQh2GuM+TJEJ4lN0AD9+/9hJmz3mPnaREFJexMw+Mif3IbbBpz5eY+0rf7J5vhvyChED6ZK+OcgOFixqL76RzUlGEsdVvQ==",
          "dtype": "f8"
         },
         "yaxis": "y"
        },
        {
         "line": {
          "color": "#00CC96",
          "width": 2
         },
         "mode": "lines",
         "name": "HE",
         "showlegend": true,
         "type": "scatter",
         "x": {
          "bdata": "AAAAoJ2SdEAAAADADrl2QAAAAIAY33hAAAAAgMMEe0AAAACAGCp9QAAAAMAfT39AAAAAIKbngEAAAACASVWCQAAAAMDCwoNAAAAAQBwwhUAAAAAAYJ2GQAAAACCYCohAAAAAAM93iUAAAADADuWKQAAAAIAiCY1AAAAAAA8JkEAAAADAyYeTQAAAAGBOrptAAAAAQGrwo0AAAAAgRbarQAAAAGBs3LJAAAAAwC1juUAAAACApRzBQAAAAMAeccdAAAAAgAij0EAAAADgAZrbQA==",
          "dtype": "f8"
         },
         "xaxis": "x",
         "y": {
          "bdata": "AAAAIK4+iz8AAACAe/GFPwAAAEDJ6YE/AAAAoC+SfT8AAAAAOqJ4PwAAAGCOrnQ/AAAAwCgCcT8AAAAAuHZrPwAAAECFXWY/AAAAgDxZYj8AAAAAzExePwAAAICTKFk/AAAAQCf+VD8AAAAg+pdRPwAAAEDzMEs/AAAA4FAcQz8AAACApLwxPwAAAEBeqAs/AAAAALnX1z4AAAAgU/maPgAAAMAku1A+AAAAgPfl8T0AAABA+810PQAAAOD388U8AAAAgCFNuzsAAACArEFxOQ==",
          "dtype": "f8"
         },
         "yaxis": "y"
        },
        {
         "marker": {
          "color": "#00CC96",
          "line": {
           "color": "#00CC96",
           "width": 1.5
          },
          "size": 10,
          "symbol": "cross-thin"
         },
         "mode": "markers",
         "name": "res of HE",
         "showlegend": false,
         "type": "scatter",
         "x": {
          "bdata": "AAAAoJ2SdEAAAADADrl2QAAAAIAY33hAAAAAgMMEe0AAAACAGCp9QAAAAMAfT39AAAAAIKbngEAAAACASVWCQAAAAMDCwoNAAAAAQBwwhUAAAAAAYJ2GQAAAACCYCohAAAAAAM93iUAAAADADuWKQAAAAIAiCY1AAAAAAA8JkEAAAADAyYeTQAAAAGBOrptAAAAAQGrwo0AAAAAgRbarQAAAAGBs3LJAAAAAwC1juUAAAACApRzBQAAAAMAeccdAAAAAgAij0EAAAADgAZrbQA==",
          "dtype": "f8"
         },
         "xaxis": "x2",
         "y": {
          "bdata": "suZFlQ3+8j94w20mEa30P87BuBUXDPo/l7yk4k9Uyr9aEMkaivAAQIyHSnECauI/OJm07EmU3b9qVNf/EHTsP1RS3OIgMs4/Z5msarc4CMAF51Fjdindv6tGjzbl5PS/aoXI+wMl1788Uln8/bblP/pUCTv2j/O/sqRbd0fP0T9lXy4Sqvzgv+bRE4Iqu/C/V9flWoql8D+EZWp5qa/qP30TBjIRAeU/zD5V/qID0j/UF2zAUEq4vxafzdWKtfS/44L0h0XEzb+PoYKEiC/8vw==",
          "dtype": "f8"
         },
         "yaxis": "y2"
        }
       ],
       "layout": {
        "height": 700,
        "legend": {
         "x": 1,
         "xanchor": "right",
         "y": 1,
         "yanchor": "bottom"
        },
        "template": {
         "data": {
          "bar": [
           {
            "error_x": {
             "color": "#2a3f5f"
            },
            "error_y": {
             "color": "#2a3f5f"
            },
            "marker": {
             "line": {
              "color": "white",
              "width": 0.5
             },
             "pattern": {
              "fillmode": "overlay",
              "size": 10,
              "solidity": 0.2
             }
            },
            "type": "bar"
           }
          ],
          "barpolar": [
           {
            "marker": {
             "line": {
              "color": "white",
              "width": 0.5
             },
             "pattern": {
              "fillmode": "overlay",
              "size": 10,
              "solidity": 0.2
             }
            },
            "type": "barpolar"
           }
          ],
          "carpet": [
           {
            "aaxis": {
             "endlinecolor": "#2a3f5f",
             "gridcolor": "#C8D4E3",
             "linecolor": "#C8D4E3",
             "minorgridcolor": "#C8D4E3",
             "startlinecolor": "#2a3f5f"
            },
            "baxis": {
             "endlinecolor": "#2a3f5f",
             "gridcolor": "#C8D4E3",
             "linecolor": "#C8D4E3",
             "minorgridcolor": "#C8D4E3",
             "startlinecolor": "#2a3f5f"
            },
            "type": "carpet"
           }
          ],
          "choropleth": [
           {
            "colorbar": {
             "outlinewidth": 0,
             "ticks": ""
            },
            "type": "choropleth"
           }
          ],
          "contour": [
           {
            "colorbar": {
             "outlinewidth": 0,
             "ticks": ""
            },
            "colorscale": [
             [
              0,
              "#0d0887"
             ],
             [
              0.1111111111111111,
              "#46039f"
             ],
             [
              0.2222222222222222,
              "#7201a8"
             ],
             [
              0.3333333333333333,
              "#9c179e"
             ],
             [
              0.4444444444444444,
              "#bd3786"
             ],
             [
              0.5555555555555556,
              "#d8576b"
             ],
             [
              0.6666666666666666,
              "#ed7953"
             ],
             [
              0.7777777777777778,
              "#fb9f3a"
             ],
             [
              0.8888888888888888,
              "#fdca26"
             ],
             [
              1,
              "#f0f921"
             ]
            ],
            "type": "contour"
           }
          ],
          "contourcarpet": [
           {
            "colorbar": {
             "outlinewidth": 0,
             "ticks": ""
            },
            "type": "contourcarpet"
           }
          ],
          "heatmap": [
           {
            "colorbar": {
             "outlinewidth": 0,
             "ticks": ""
            },
            "colorscale": [
             [
              0,
              "#0d0887"
             ],
             [
              0.1111111111111111,
              "#46039f"
             ],
             [
              0.2222222222222222,
              "#7201a8"
             ],
             [
              0.3333333333333333,
              "#9c179e"
             ],
             [
              0.4444444444444444,
              "#bd3786"
             ],
             [
              0.5555555555555556,
              "#d8576b"
             ],
             [
              0.6666666666666666,
              "#ed7953"
             ],
             [
              0.7777777777777778,
              "#fb9f3a"
             ],
             [
              0.8888888888888888,
              "#fdca26"
             ],
             [
              1,
              "#f0f921"
             ]
            ],
            "type": "heatmap"
           }
          ],
          "histogram": [
           {
            "marker": {
             "pattern": {
              "fillmode": "overlay",
              "size": 10,
              "solidity": 0.2
             }
            },
            "type": "histogram"
           }
          ],
          "histogram2d": [
           {
            "colorbar": {
             "outlinewidth": 0,
             "ticks": ""
            },
            "colorscale": [
             [
              0,
              "#0d0887"
             ],
             [
              0.1111111111111111,
              "#46039f"
             ],
             [
              0.2222222222222222,
              "#7201a8"
             ],
             [
              0.3333333333333333,
              "#9c179e"
             ],
             [
              0.4444444444444444,
              "#bd3786"
             ],
             [
              0.5555555555555556,
              "#d8576b"
             ],
             [
              0.6666666666666666,
              "#ed7953"
             ],
             [
              0.7777777777777778,
              "#fb9f3a"
             ],
             [
              0.8888888888888888,
              "#fdca26"
             ],
             [
              1,
              "#f0f921"
             ]
            ],
            "type": "histogram2d"
           }
          ],
          "histogram2dcontour": [
           {
            "colorbar": {
             "outlinewidth": 0,
             "ticks": ""
            },
            "colorscale": [
             [
              0,
              "#0d0887"
             ],
             [
              0.1111111111111111,
              "#46039f"
             ],
             [
              0.2222222222222222,
              "#7201a8"
             ],
             [
              0.3333333333333333,
              "#9c179e"
             ],
             [
              0.4444444444444444,
              "#bd3786"
             ],
             [
              0.5555555555555556,
              "#d8576b"
             ],
             [
              0.6666666666666666,
              "#ed7953"
             ],
             [
              0.7777777777777778,
              "#fb9f3a"
             ],
             [
              0.8888888888888888,
              "#fdca26"
             ],
             [
              1,
              "#f0f921"
             ]
            ],
            "type": "histogram2dcontour"
           }
          ],
          "mesh3d": [
           {
            "colorbar": {
             "outlinewidth": 0,
             "ticks": ""
            },
            "type": "mesh3d"
           }
          ],
          "parcoords": [
           {
            "line": {
             "colorbar": {
              "outlinewidth": 0,
              "ticks": ""
             }
            },
            "type": "parcoords"
           }
          ],
          "pie": [
           {
            "automargin": true,
            "type": "pie"
           }
          ],
          "scatter": [
           {
            "fillpattern": {
             "fillmode": "overlay",
             "size": 10,
             "solidity": 0.2
            },
            "type": "scatter"
           }
          ],
          "scatter3d": [
           {
            "line": {
             "colorbar": {
              "outlinewidth": 0,
              "ticks": ""
             }
            },
            "marker": {
             "colorbar": {
              "outlinewidth": 0,
              "ticks": ""
             }
            },
            "type": "scatter3d"
           }
          ],
          "scattercarpet": [
           {
            "marker": {
             "colorbar": {
              "outlinewidth": 0,
              "ticks": ""
             }
            },
            "type": "scattercarpet"
           }
          ],
          "scattergeo": [
           {
            "marker": {
             "colorbar": {
              "outlinewidth": 0,
              "ticks": ""
             }
            },
            "type": "scattergeo"
           }
          ],
          "scattergl": [
           {
            "marker": {
             "colorbar": {
              "outlinewidth": 0,
              "ticks": ""
             }
            },
            "type": "scattergl"
           }
          ],
          "scattermap": [
           {
            "marker": {
             "colorbar": {
              "outlinewidth": 0,
              "ticks": ""
             }
            },
            "type": "scattermap"
           }
          ],
          "scattermapbox": [
           {
            "marker": {
             "colorbar": {
              "outlinewidth": 0,
              "ticks": ""
             }
            },
            "type": "scattermapbox"
           }
          ],
          "scatterpolar": [
           {
            "marker": {
             "colorbar": {
              "outlinewidth": 0,
              "ticks": ""
             }
            },
            "type": "scatterpolar"
           }
          ],
          "scatterpolargl": [
           {
            "marker": {
             "colorbar": {
              "outlinewidth": 0,
              "ticks": ""
             }
            },
            "type": "scatterpolargl"
           }
          ],
          "scatterternary": [
           {
            "marker": {
             "colorbar": {
              "outlinewidth": 0,
              "ticks": ""
             }
            },
            "type": "scatterternary"
           }
          ],
          "surface": [
           {
            "colorbar": {
             "outlinewidth": 0,
             "ticks": ""
            },
            "colorscale": [
             [
              0,
              "#0d0887"
             ],
             [
              0.1111111111111111,
              "#46039f"
             ],
             [
              0.2222222222222222,
              "#7201a8"
             ],
             [
              0.3333333333333333,
              "#9c179e"
             ],
             [
              0.4444444444444444,
              "#bd3786"
             ],
             [
              0.5555555555555556,
              "#d8576b"
             ],
             [
              0.6666666666666666,
              "#ed7953"
             ],
             [
              0.7777777777777778,
              "#fb9f3a"
             ],
             [
              0.8888888888888888,
              "#fdca26"
             ],
             [
              1,
              "#f0f921"
             ]
            ],
            "type": "surface"
           }
          ],
          "table": [
           {
            "cells": {
             "fill": {
              "color": "#EBF0F8"
             },
             "line": {
              "color": "white"
             }
            },
            "header": {
             "fill": {
              "color": "#C8D4E3"
             },
             "line": {
              "color": "white"
             }
            },
            "type": "table"
           }
          ]
         },
         "layout": {
          "annotationdefaults": {
           "arrowcolor": "#2a3f5f",
           "arrowhead": 0,
           "arrowwidth": 1
          },
          "autotypenumbers": "strict",
          "coloraxis": {
           "colorbar": {
            "outlinewidth": 0,
            "ticks": ""
           }
          },
          "colorscale": {
           "diverging": [
            [
             0,
             "#8e0152"
            ],
            [
             0.1,
             "#c51b7d"
            ],
            [
             0.2,
             "#de77ae"
            ],
            [
             0.3,
             "#f1b6da"
            ],
            [
             0.4,
             "#fde0ef"
            ],
            [
             0.5,
             "#f7f7f7"
            ],
            [
             0.6,
             "#e6f5d0"
            ],
            [
             0.7,
             "#b8e186"
            ],
            [
             0.8,
             "#7fbc41"
            ],
            [
             0.9,
             "#4d9221"
            ],
            [
             1,
             "#276419"
            ]
           ],
           "sequential": [
            [
             0,
             "#0d0887"
            ],
            [
             0.1111111111111111,
             "#46039f"
            ],
            [
             0.2222222222222222,
             "#7201a8"
            ],
            [
             0.3333333333333333,
             "#9c179e"
            ],
            [
             0.4444444444444444,
             "#bd3786"
            ],
            [
             0.5555555555555556,
             "#d8576b"
            ],
            [
             0.6666666666666666,
             "#ed7953"
            ],
            [
             0.7777777777777778,
             "#fb9f3a"
            ],
            [
             0.8888888888888888,
             "#fdca26"
            ],
            [
             1,
             "#f0f921"
            ]
           ],
           "sequentialminus": [
            [
             0,
             "#0d0887"
            ],
            [
             0.1111111111111111,
             "#46039f"
            ],
            [
             0.2222222222222222,
             "#7201a8"
            ],
            [
             0.3333333333333333,
             "#9c179e"
            ],
            [
             0.4444444444444444,
             "#bd3786"
            ],
            [
             0.5555555555555556,
             "#d8576b"
            ],
            [
             0.6666666666666666,
             "#ed7953"
            ],
            [
             0.7777777777777778,
             "#fb9f3a"
            ],
            [
             0.8888888888888888,
             "#fdca26"
            ],
            [
             1,
             "#f0f921"
            ]
           ]
          },
          "colorway": [
           "#636efa",
           "#EF553B",
           "#00cc96",
           "#ab63fa",
           "#FFA15A",
           "#19d3f3",
           "#FF6692",
           "#B6E880",
           "#FF97FF",
           "#FECB52"
          ],
          "font": {
           "color": "#2a3f5f"
          },
          "geo": {
           "bgcolor": "white",
           "lakecolor": "white",
           "landcolor": "white",
           "showlakes": true,
           "showland": true,
           "subunitcolor": "#C8D4E3"
          },
          "hoverlabel": {
           "align": "left"
          },
          "hovermode": "closest",
          "mapbox": {
           "style": "light"
          },
          "paper_bgcolor": "white",
          "plot_bgcolor": "white",
          "polar": {
           "angularaxis": {
            "gridcolor": "#EBF0F8",
            "linecolor": "#EBF0F8",
            "ticks": ""
           },
           "bgcolor": "white",
           "radialaxis": {
            "gridcolor": "#EBF0F8",
            "linecolor": "#EBF0F8",
            "ticks": ""
           }
          },
          "scene": {
           "xaxis": {
            "backgroundcolor": "white",
            "gridcolor": "#DFE8F3",
            "gridwidth": 2,
            "linecolor": "#EBF0F8",
            "showbackground": true,
            "ticks": "",
            "zerolinecolor": "#EBF0F8"
           },
           "yaxis": {
            "backgroundcolor": "white",
            "gridcolor": "#DFE8F3",
            "gridwidth": 2,
            "linecolor": "#EBF0F8",
            "showbackground": true,
            "ticks": "",
            "zerolinecolor": "#EBF0F8"
           },
           "zaxis": {
            "backgroundcolor": "white",
            "gridcolor": "#DFE8F3",
            "gridwidth": 2,
            "linecolor": "#EBF0F8",
            "showbackground": true,
            "ticks": "",
            "zerolinecolor": "#EBF0F8"
           }
          },
          "shapedefaults": {
           "line": {
            "color": "#2a3f5f"
           }
          },
          "ternary": {
           "aaxis": {
            "gridcolor": "#DFE8F3",
            "linecolor": "#A2B1C6",
            "ticks": ""
           },
           "baxis": {
            "gridcolor": "#DFE8F3",
            "linecolor": "#A2B1C6",
            "ticks": ""
           },
           "bgcolor": "white",
           "caxis": {
            "gridcolor": "#DFE8F3",
            "linecolor": "#A2B1C6",
            "ticks": ""
           }
          },
          "title": {
           "x": 0.05
          },
          "xaxis": {
           "automargin": true,
           "gridcolor": "#EBF0F8",
           "linecolor": "#EBF0F8",
           "ticks": "",
           "title": {
            "standoff": 15
           },
           "zerolinecolor": "#EBF0F8",
           "zerolinewidth": 2
          },
          "yaxis": {
           "automargin": true,
           "gridcolor": "#EBF0F8",
           "linecolor": "#EBF0F8",
           "ticks": "",
           "title": {
            "standoff": 15
           },
           "zerolinecolor": "#EBF0F8",
           "zerolinewidth": 2
          }
         }
        },
        "width": 600,
        "xaxis": {
         "anchor": "y",
         "domain": [
          0,
          1
         ],
         "matches": "x2",
         "showticklabels": false,
         "title": {
          "text": ""
         },
         "type": "log"
        },
        "xaxis2": {
         "anchor": "y2",
         "domain": [
          0,
          1
         ],
         "title": {
          "text": "Energy (keV)"
         },
         "type": "log"
        },
        "yaxis": {
         "anchor": "x",
         "domain": [
          0.265,
          1
         ],
         "range": [
          -6.450994041196528,
          1.7916882059476462
         ],
         "title": {
          "text": "Photons/cm^2/s/keV"
         },
         "type": "log"
        },
        "yaxis2": {
         "anchor": "x2",
         "domain": [
          0,
          0.245
         ],
         "range": [
          -3.5,
          3.5
         ],
         "showgrid": false,
         "title": {
          "text": "Sigma"
         }
        }
       }
      }
     },
     "metadata": {},
     "output_type": "display_data"
    }
   ],
   "source": [
    "fig = Plot.infer(post, style='NE')\n",
    "fig.save(f'{savepath}/phtspec')"
   ]
  },
  {
   "cell_type": "code",
   "execution_count": 13,
   "id": "7c70c08b",
   "metadata": {},
   "outputs": [
    {
     "data": {
      "application/vnd.plotly.v1+json": {
       "config": {
        "plotlyServerURL": "https://plot.ly"
       },
       "data": [
        {
         "line": {
          "color": "#08519c",
          "width": 2
         },
         "mode": "lines",
         "name": "p3($\\alpha$)",
         "showlegend": false,
         "type": "scatter",
         "x": {
          "bdata": "WKyl9Foe+L9ZQXEbN/T3v1lBcRs39Pe/WtY8QhPK979a1jxCE8r3v1prCGnvn/e/WmsIae+f979bANSPy3X3v1sA1I/Ldfe/XJWftqdL979clZ+2p0v3v10qa92DIfe/XSpr3YMh979evzYEYPf2v16/NgRg9/a/XlQCKzzN9r9eVAIrPM32v1/pzVEYo/a/X+nNURij9r9gfpl49Hj2v2B+mXj0ePa/YRNln9BO9r9hE2Wf0E72v2KoMMasJPa/Yqgwxqwk9r9iPfzsiPr1v2I9/OyI+vW/Y9LHE2XQ9b9j0scTZdD1v2RnkzpBpvW/ZGeTOkGm9b9l/F5hHXz1v2X8XmEdfPW/ZpEqiPlR9b9mkSqI+VH1v2Ym9q7VJ/W/Zib2rtUn9b9nu8HVsf30v2e7wdWx/fS/aFCN/I3T9L9oUI38jdP0v2nlWCNqqfS/aeVYI2qp9L9qeiRKRn/0v2p6JEpGf/S/ag/wcCJV9L9qD/BwIlX0v2uku5f+KvS/a6S7l/4q9L9sOYe+2gD0v2w5h77aAPS/bc5S5bbW879tzlLlttbzv25jHgyTrPO/bmMeDJOs879u+Okyb4Lzv2746TJvgvO/b421WUtY879vjbVZS1jzv3AigYAnLvO/",
          "dtype": "f8"
         },
         "xaxis": "x",
         "y": {
          "bdata": "rqHbmw29pT+uodubDb2lPx7K3abhKqM/HsrdpuEqoz9tKPAbg8WgP20o8BuDxaA/a1UsISXaoj9rVSwhJdqiP+sPSZfkJ60/6w9Jl+QnrT9xuGeuXYO4P3G4Z65dg7g/Uq0ioEVgwz9SrSKgRWDDP6E/4+OsfMw/oT/j46x8zD+mYtcnOivUP6Zi1yc6K9Q/xCspKRuN3D/EKykpG43cP9wsYANBmuQ/3CxgA0Ga5D8cRf/kkyruPxxF/+STKu4/fjYvcFHz9T9+Ni9wUfP1Px1MeRYEI/8/HUx5FgQj/z9TUHj2cVkFQFNQePZxWQVAfrnfwl5dDEB+ud/CXl0MQJ7CIIIgWBJAnsIggiBYEkBznpCAyhkXQHOekIDKGRdASNaclZYgHEBI1pyVliAcQEpNo3rUYiBASk2jetRiIEC9qaqTmhoiQL2pqpOaGiJAuk7pvRvcIkC6Tum9G9wiQERcx5C7dyJARFzHkLt3IkC43qU8jPEgQLjepTyM8SBAX+LBPO/3HEBf4sE87/ccQA+6u/SW5BZAD7q79JbkFkAl3Pk9xZoQQCXc+T3FmhBA8ENYUW0iBkDwQ1hRbSIGQG46PppFHPw/bjo+mkUc/D/8PT9HbK3zP/w9P0dsrfM/",
          "dtype": "f8"
         },
         "yaxis": "y"
        },
        {
         "line": {
          "color": "#08519c",
          "width": 2
         },
         "mode": "lines",
         "name": "p5(log$A$)",
         "showlegend": false,
         "type": "scatter",
         "x": {
          "bdata": "bHCU3uju9L+MY+QUy6X0v4xj5BTLpfS/rVY0S61c9L+tVjRLrVz0v81JhIGPE/S/zUmEgY8T9L/tPNS3ccrzv+081LdxyvO/DTAk7lOB878NMCTuU4Hzvy4jdCQ2OPO/LiN0JDY4879OFsRaGO/yv04WxFoY7/K/bgkUkfql8r9uCRSR+qXyv478Y8fcXPK/jvxjx9xc8r+v77P9vhPyv6/vs/2+E/K/z+IDNKHK8b/P4gM0ocrxv+/VU2qDgfG/79VTaoOB8b8QyaOgZTjxvxDJo6BlOPG/MLzz1kfv8L8wvPPWR+/wv1CvQw0qpvC/UK9DDSqm8L9wopNDDF3wv3Cik0MMXfC/kJXjee4T8L+QleN57hPwv2IRZ2Chle+/YhFnYKGV77+i9wbNZQPvv6L3Bs1lA++/4t2mOSpx7r/i3aY5KnHuvyPERqbu3u2/I8RGpu7e7b9kquYSs0ztv2Sq5hKzTO2/pJCGf3e67L+kkIZ/d7rsv+V2Juw7KOy/5XYm7Dso7L8mXcZYAJbrvyZdxlgAluu/ZkNmxcQD679mQ2bFxAPrv6YpBjKJceq/pikGMolx6r/nD6aeTd/pv+cPpp5N3+m/J/ZFCxJN6b8n9kULEk3pv2jc5XfWuui/",
          "dtype": "f8"
         },
         "xaxis": "x7",
         "y": {
          "bdata": "e7zk9RmdoD97vOT1GZ2gP6lfKdywGaE/qV8p3LAZoT8pRY1va1SiPylFjW9rVKI/PS22rNiYpD89Lbas2JikPzmv+D3OW6g/Oa/4Pc5bqD8f/lIrO4SuPx/+Uis7hK4/pBiAJzo6tD+kGIAnOjq0P0+qsxrOFrw/T6qzGs4WvD9NCnCZzBzEP00KcJnMHMQ/LWv92mT6zD8ta/3aZPrMP1pth/4ggdQ/Wm2H/iCB1D/+V1MLc2bcP/5XUwtzZtw/NJrDPC6G4z80msM8LobjP0nGx2O22uo/ScbHY7ba6j89gvyiLkryPz2C/KIuSvI/lrb72v9X+D+Wtvva/1f4P/Lpylspk/8/8unKWymT/z+brsJvqAoEQJuuwm+oCgRAYKES73TpCEBgoRLvdOkIQLiVHbGhGQ5AuJUdsaEZDkBICpPRyH0RQEgKk9HIfRFAt8A4g+RkE0C3wDiD5GQTQM08flqgbxRAzTx+WqBvFECRwxYB2HEUQJHDFgHYcRRAg8+tQR1jE0CDz61BHWMTQOgEN7rHVBFA6AQ3usdUEUAFXUBm3PsMQAVdQGbc+wxAGhlh+R+tBkAaGWH5H60GQIFsor35KQFAgWyivfkpAUCC9KJbxd37P4L0olvF3fs/",
          "dtype": "f8"
         },
         "yaxis": "y7"
        },
        {
         "colorscale": [
          [
           0,
           "rgb(247,251,255)"
          ],
          [
           0.125,
           "rgb(222,235,247)"
          ],
          [
           0.25,
           "rgb(198,219,239)"
          ],
          [
           0.375,
           "rgb(158,202,225)"
          ],
          [
           0.5,
           "rgb(107,174,214)"
          ],
          [
           0.625,
           "rgb(66,146,198)"
          ],
          [
           0.75,
           "rgb(33,113,181)"
          ],
          [
           0.875,
           "rgb(8,81,156)"
          ],
          [
           1,
           "rgb(8,48,107)"
          ]
         ],
         "contours": {
          "end": 0.007537285865044319,
          "size": 0.005514326309779851,
          "start": 0.0020229595552644676
         },
         "line": {
          "width": 2
         },
         "name": "p3($\\alpha$)&p5(log$A$)",
         "ncontours": 2,
         "showlegend": false,
         "showscale": false,
         "type": "contour",
         "x": {
          "bdata": "1Ex0upBd+L/W4T/hbDP4v9h2CwhJCfi/2gvXLiXf97/aoKJVAbX3v9o1bnzdive/3Mo5o7lg97/cXwXKlTb3v9700PBxDPe/3omcF07i9r/eHmg+Krj2v+CzM2UGjva/4Ej/i+Jj9r/i3cqyvjn2v+JyltmaD/a/4gdiAHfl9b/knC0nU7v1v+Qx+U0vkfW/5sbEdAtn9b/mW5Cb5zz1v+bwW8LDEvW/6IUn6Z/o9L/oGvMPfL70v+qvvjZYlPS/6kSKXTRq9L/q2VWEEED0v+xuIavsFfS/7APt0cjr87/umLj4pMHzv+4thB+Bl/O/7sJPRl1t87/wVxttOUPzv/Ls5pMVGfO/9IGyuvHu8r8=",
          "dtype": "f8"
         },
         "xaxis": "x6",
         "y": {
          "bdata": "vIMcjZVc9b/cdmzDdxP1v/xpvPlZyvS/HF0MMDyB9L89UFxmHjj0v11DrJwA7/O/fTb80uKl87+eKUwJxVzzv74cnD+nE/O/3g/sdYnK8r/+Ajysa4Hyvx72i+JNOPK/P+nbGDDv8b9f3CtPEqbxv4DPe4X0XPG/oMLLu9YT8b/AtRvyuMrwv+CoayibgfC/AJy7Xn048L9BHhcqv97vv4IEt5aDTO+/wupWA0i67r8C0fZvDCjuv0S3ltzQle2/hJ02SZUD7b/Eg9a1WXHsvwZqdiIe3+u/RlAWj+JM67+GNrb7prrqv8YcVmhrKOq/BwP21C+W6b9I6ZVB9APpv4nPNa64cei/yrXVGn3f578=",
          "dtype": "f8"
         },
         "yaxis": "y6",
         "z": {
          "bdata": "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",
          "dtype": "f8",
          "shape": "34, 34"
         }
        },
        {
         "line": {
          "color": "#08519c",
          "width": 2
         },
         "mode": "lines",
         "name": "p7($\\alpha_{2}$)",
         "showlegend": false,
         "type": "scatter",
         "x": {
          "bdata": "3i6VxFSs97+fvbufYpr3v5+9u59imve/YUzienCI979hTOJ6cIj3vyLbCFZ+dve/ItsIVn5297/kaS8xjGT3v+RpLzGMZPe/pfhVDJpS97+l+FUMmlL3v2eHfOenQPe/Z4d856dA978oFqPCtS73vygWo8K1Lve/6aTJncMc97/ppMmdwxz3v6sz8HjRCve/qzPweNEK979swhZU3/j2v2zCFlTf+Pa/LlE9L+3m9r8uUT0v7eb2v+/fYwr71Pa/799jCvvU9r+xborlCMP2v7FuiuUIw/a/cv2wwBax9r9y/bDAFrH2vzSM15skn/a/NIzXmySf9r/1Gv52Mo32v/Ua/nYyjfa/tqkkUkB79r+2qSRSQHv2v3g4Sy1Oafa/eDhLLU5p9r85x3EIXFf2vznHcQhcV/a/+1WY42lF9r/7VZjjaUX2v7zkvr53M/a/vOS+vncz9r9+c+WZhSH2v35z5ZmFIfa/PwIMdZMP9r8/Agx1kw/2vwCRMlCh/fW/AJEyUKH99b/CH1krr+v1v8IfWSuv6/W/g65/Br3Z9b+Drn8Gvdn1v0U9puHKx/W/RT2m4crH9b8GzMy82LX1vwbMzLzYtfW/yFrzl+aj9b/IWvOX5qP1v4npGXP0kfW/",
          "dtype": "f8"
         },
         "xaxis": "x13",
         "y": {
          "bdata": "Sjqohu+F5j9KOqiG74XmP8X0QNjQW+k/xfRA2NBb6T8JdFrNj7vvPwl0Ws2Pu+8/rqtLBvEx9T+uq0sG8TH1P6Dk0vluq/w/oOTS+W6r/D8+DYiSSfcCQD4NiJJJ9wJAU/imeU1zCEBT+KZ5TXMIQBAgaxNMQw9AECBrE0xDD0DWrGnA8CgUQNasacDwKBRAYA+OOFsiGkBgD444WyIaQAg0YPl6rSBACDRg+XqtIEBcKWwxC4kkQFwpbDELiSRAsjiepAguKECyOJ6kCC4oQKX0J41/SCtApfQnjX9IK0Dq0Z7qsbEtQOrRnuqxsS1AZMgK+3BTL0BkyAr7cFMvQFijS2NzCDBAWKNLY3MIMECkIIOO1tAvQKQgg47W0C9AqiliSoSVLkCqKWJKhJUuQOoQclsggSxA6hByWyCBLEAcVOKSv8kpQBxU4pK/ySlACWUaeveyJkAJZRp697ImQFyqPdvthCNAXKo92+2EI0DXoRZdY3MgQNehFl1jcyBAaZcfiSYaG0Bplx+JJhobQKGPhkdbmhVAoY+GR1uaFUBfI8MdUXkQQF8jwx1ReRBAnSmIsfQDCECdKYix9AMIQDI5HxEDTAFAMjkfEQNMAUDx0BV8nFX7P/HQFXycVfs/",
          "dtype": "f8"
         },
         "yaxis": "y13"
        },
        {
         "colorscale": [
          [
           0,
           "rgb(247,251,255)"
          ],
          [
           0.125,
           "rgb(222,235,247)"
          ],
          [
           0.25,
           "rgb(198,219,239)"
          ],
          [
           0.375,
           "rgb(158,202,225)"
          ],
          [
           0.5,
           "rgb(107,174,214)"
          ],
          [
           0.625,
           "rgb(66,146,198)"
          ],
          [
           0.75,
           "rgb(33,113,181)"
          ],
          [
           0.875,
           "rgb(8,81,156)"
          ],
          [
           1,
           "rgb(8,48,107)"
          ]
         ],
         "contours": {
          "end": 0.004532601574604691,
          "size": 0.003480015450986843,
          "start": 0.0010525861236178478
         },
         "line": {
          "width": 2
         },
         "name": "p3($\\alpha$)&p7($\\alpha_{2}$)",
         "ncontours": 2,
         "showlegend": false,
         "showscale": false,
         "type": "contour",
         "x": {
          "bdata": "1Ex0upBd+L/W4T/hbDP4v9h2CwhJCfi/2gvXLiXf97/aoKJVAbX3v9o1bnzdive/3Mo5o7lg97/cXwXKlTb3v9700PBxDPe/3omcF07i9r/eHmg+Krj2v+CzM2UGjva/4Ej/i+Jj9r/i3cqyvjn2v+JyltmaD/a/4gdiAHfl9b/knC0nU7v1v+Qx+U0vkfW/5sbEdAtn9b/mW5Cb5zz1v+bwW8LDEvW/6IUn6Z/o9L/oGvMPfL70v+qvvjZYlPS/6kSKXTRq9L/q2VWEEED0v+xuIavsFfS/7APt0cjr87/umLj4pMHzv+4thB+Bl/O/7sJPRl1t87/wVxttOUPzv/Ls5pMVGfO/9IGyuvHu8r8=",
          "dtype": "f8"
         },
         "xaxis": "x11",
         "y": {
          "bdata": "uljb+z/H97985wHXTbX3vz52KLJbo/e/AAVPjWmR97/Ck3Vod3/3v4MinEOFbfe/RLHCHpNb978GQOn5oEn3v8jOD9WuN/e/iF02sLwl979K7FyLyhP3vwx7g2bYAfe/zQmqQebv9r+OmNAc9N32v1An9/cBzPa/ErYd0w+69r/TRESuHaj2v5TTaokrlva/VmKRZDmE9r8X8bc/R3L2v9h/3hpVYPa/mg4F9mJO9r9cnSvRcDz2vx0sUqx+Kva/3rp4h4wY9r+gSZ9imgb2v2HYxT2o9PW/ImfsGLbi9b/k9RL0w9D1v6aEOc/RvvW/ZxNgqt+s9b8oooaF7Zr1v+kwrWD7iPW/qr/TOwl39b8=",
          "dtype": "f8"
         },
         "yaxis": "y11",
         "z": {
          "bdata": "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",
          "dtype": "f8",
          "shape": "34, 34"
         }
        },
        {
         "colorscale": [
          [
           0,
           "rgb(247,251,255)"
          ],
          [
           0.125,
           "rgb(222,235,247)"
          ],
          [
           0.25,
           "rgb(198,219,239)"
          ],
          [
           0.375,
           "rgb(158,202,225)"
          ],
          [
           0.5,
           "rgb(107,174,214)"
          ],
          [
           0.625,
           "rgb(66,146,198)"
          ],
          [
           0.75,
           "rgb(33,113,181)"
          ],
          [
           0.875,
           "rgb(8,81,156)"
          ],
          [
           1,
           "rgb(8,48,107)"
          ]
         ],
         "contours": {
          "end": 0.005007718105683706,
          "size": 0.003692180434850572,
          "start": 0.0013155376708331341
         },
         "line": {
          "width": 2
         },
         "name": "p5(log$A$)&p7($\\alpha_{2}$)",
         "ncontours": 2,
         "showlegend": false,
         "showscale": false,
         "type": "contour",
         "x": {
          "bdata": "vIMcjZVc9b/cdmzDdxP1v/xpvPlZyvS/HF0MMDyB9L89UFxmHjj0v11DrJwA7/O/fTb80uKl87+eKUwJxVzzv74cnD+nE/O/3g/sdYnK8r/+Ajysa4Hyvx72i+JNOPK/P+nbGDDv8b9f3CtPEqbxv4DPe4X0XPG/oMLLu9YT8b/AtRvyuMrwv+CoayibgfC/AJy7Xn048L9BHhcqv97vv4IEt5aDTO+/wupWA0i67r8C0fZvDCjuv0S3ltzQle2/hJ02SZUD7b/Eg9a1WXHsvwZqdiIe3+u/RlAWj+JM67+GNrb7prrqv8YcVmhrKOq/BwP21C+W6b9I6ZVB9APpv4nPNa64cei/yrXVGn3f578=",
          "dtype": "f8"
         },
         "xaxis": "x12",
         "y": {
          "bdata": "uljb+z/H97985wHXTbX3vz52KLJbo/e/AAVPjWmR97/Ck3Vod3/3v4MinEOFbfe/RLHCHpNb978GQOn5oEn3v8jOD9WuN/e/iF02sLwl979K7FyLyhP3vwx7g2bYAfe/zQmqQebv9r+OmNAc9N32v1An9/cBzPa/ErYd0w+69r/TRESuHaj2v5TTaokrlva/VmKRZDmE9r8X8bc/R3L2v9h/3hpVYPa/mg4F9mJO9r9cnSvRcDz2vx0sUqx+Kva/3rp4h4wY9r+gSZ9imgb2v2HYxT2o9PW/ImfsGLbi9b/k9RL0w9D1v6aEOc/RvvW/ZxNgqt+s9b8oooaF7Zr1v+kwrWD7iPW/qr/TOwl39b8=",
          "dtype": "f8"
         },
         "yaxis": "y12",
         "z": {
          "bdata": "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",
          "dtype": "f8",
          "shape": "34, 34"
         }
        },
        {
         "line": {
          "color": "#08519c",
          "width": 2
         },
         "mode": "lines",
         "name": "p9(log$E_{p}$)",
         "showlegend": false,
         "type": "scatter",
         "x": {
          "bdata": "OBZJbOvyAkCtPQsBCfoCQK09CwEJ+gJAI2XNlSYBA0AjZc2VJgEDQJiMjypECANAmIyPKkQIA0ANtFG/YQ8DQA20Ub9hDwNAgtsTVH8WA0CC2xNUfxYDQPgC1uicHQNA+ALW6JwdA0BtKph9uiQDQG0qmH26JANA4lFaEtgrA0DiUVoS2CsDQFd5HKf1MgNAV3kcp/UyA0DNoN47EzoDQM2g3jsTOgNAQsig0DBBA0BCyKDQMEEDQLfvYmVOSANAt+9iZU5IA0AsFyX6a08DQCwXJfprTwNAoj7njolWA0CiPueOiVYDQBdmqSOnXQNAF2apI6ddA0CMjWu4xGQDQIyNa7jEZANAArUtTeJrA0ACtS1N4msDQHfc7+H/cgNAd9zv4f9yA0DsA7J2HXoDQOwDsnYdegNAYSt0CzuBA0BhK3QLO4EDQNdSNqBYiANA11I2oFiIA0BMevg0do8DQEx6+DR2jwNAwaG6yZOWA0DBobrJk5YDQDbJfF6xnQNANsl8XrGdA0Cs8D7zzqQDQKzwPvPOpANAIRgBiOyrA0AhGAGI7KsDQJY/wxwKswNAlj/DHAqzA0ALZ4WxJ7oDQAtnhbEnugNAgY5HRkXBA0CBjkdGRcEDQPa1CdtiyANA",
          "dtype": "f8"
         },
         "xaxis": "x19",
         "y": {
          "bdata": "IU0rqQji0j8hTSupCOLSP+LigxwqctM/4uKDHCpy0z+oaa1R21LWP6hprVHbUtY/B94KBKAQ3z8H3goEoBDfP1htP7WALOk/WG0/tYAs6T/ej78syg/1P96PvyzKD/U/HcDAD5TWAEAdwMAPlNYAQJ+529IdQwlAn7nb0h1DCUAMGcY8MvsRQAwZxjwy+xFAVOM899ivGEBU4zz32K8YQMXAVIlWdiBAxcBUiVZ2IEAvRq0C+D8lQC9GrQL4PyVAWFlnBAZhKkBYWWcEBmEqQDqX/ZzSbS9AOpf9nNJtL0BOmdiWzgAyQE6Z2JbOADJAS8FA5JfcM0BLwUDkl9wzQLhSNqndGjVAuFI2qd0aNUDT/nRxhKA1QNP+dHGEoDVAb9ANxM9xNUBv0A3Ez3E1QJau7LuTpTRAlq7su5OlNEA8uDHKe1AzQDy4Mcp7UDNAd8N4Sed8MUB3w3hJ53wxQNszg8BJci5A2zODwElyLkAG4HQCC18pQAbgdAILXylAzJRJkDFJJEDMlEmQMUkkQCxBOXGxTR9ALEE5cbFNH0By9t/AMlEXQHL238AyURdA7AAvKBi2EEDsAC8oGLYQQPa4jTQ4kQdA9riNNDiRB0AsHECR0S8CQCwcQJHRLwJA",
          "dtype": "f8"
         },
         "yaxis": "y19"
        },
        {
         "colorscale": [
          [
           0,
           "rgb(247,251,255)"
          ],
          [
           0.125,
           "rgb(222,235,247)"
          ],
          [
           0.25,
           "rgb(198,219,239)"
          ],
          [
           0.375,
           "rgb(158,202,225)"
          ],
          [
           0.5,
           "rgb(107,174,214)"
          ],
          [
           0.625,
           "rgb(66,146,198)"
          ],
          [
           0.75,
           "rgb(33,113,181)"
          ],
          [
           0.875,
           "rgb(8,81,156)"
          ],
          [
           1,
           "rgb(8,48,107)"
          ]
         ],
         "contours": {
          "end": 0.00545847120441514,
          "size": 0.004115250196469553,
          "start": 0.0013432210079455864
         },
         "line": {
          "width": 2
         },
         "name": "p3($\\alpha$)&p9(log$E_{p}$)",
         "ncontours": 2,
         "showlegend": false,
         "showscale": false,
         "type": "contour",
         "x": {
          "bdata": "1Ex0upBd+L/W4T/hbDP4v9h2CwhJCfi/2gvXLiXf97/aoKJVAbX3v9o1bnzdive/3Mo5o7lg97/cXwXKlTb3v9700PBxDPe/3omcF07i9r/eHmg+Krj2v+CzM2UGjva/4Ej/i+Jj9r/i3cqyvjn2v+JyltmaD/a/4gdiAHfl9b/knC0nU7v1v+Qx+U0vkfW/5sbEdAtn9b/mW5Cb5zz1v+bwW8LDEvW/6IUn6Z/o9L/oGvMPfL70v+qvvjZYlPS/6kSKXTRq9L/q2VWEEED0v+xuIavsFfS/7APt0cjr87/umLj4pMHzv+4thB+Bl/O/7sJPRl1t87/wVxttOUPzv/Ls5pMVGfO/9IGyuvHu8r8=",
          "dtype": "f8"
         },
         "xaxis": "x16",
         "y": {
          "bdata": "BtslDT/oAkB8AuihXO8CQPIpqjZ69gJAaFFsy5f9AkDeeC5gtQQDQFKg8PTSCwNAyMeyifASA0A973QeDhoDQLIWN7MrIQNAKD75R0koA0CcZbvcZi8DQBKNfXGENgNAiLQ/BqI9A0D82wGbv0QDQHIDxC/dSwNA5yqGxPpSA0BcUkhZGFoDQNJ5Cu41YQNAR6HMglNoA0C8yI4XcW8DQDLwUKyOdgNAphcTQax9A0AcP9XVyYQDQJJml2rniwNABo5Z/wSTA0B8tRuUIpoDQPHc3ShAoQNAZgSgvV2oA0DcK2JSe68DQFBTJOeYtgNAxnrme7a9A0A8oqgQ1MQDQLLJaqXxywNAKPEsOg/TA0A=",
          "dtype": "f8"
         },
         "yaxis": "y16",
         "z": {
          "bdata": "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",
          "dtype": "f8",
          "shape": "34, 34"
         }
        },
        {
         "colorscale": [
          [
           0,
           "rgb(247,251,255)"
          ],
          [
           0.125,
           "rgb(222,235,247)"
          ],
          [
           0.25,
           "rgb(198,219,239)"
          ],
          [
           0.375,
           "rgb(158,202,225)"
          ],
          [
           0.5,
           "rgb(107,174,214)"
          ],
          [
           0.625,
           "rgb(66,146,198)"
          ],
          [
           0.75,
           "rgb(33,113,181)"
          ],
          [
           0.875,
           "rgb(8,81,156)"
          ],
          [
           1,
           "rgb(8,48,107)"
          ]
         ],
         "contours": {
          "end": 0.005520317704140758,
          "size": 0.003991046956303877,
          "start": 0.0015292707478368809
         },
         "line": {
          "width": 2
         },
         "name": "p5(log$A$)&p9(log$E_{p}$)",
         "ncontours": 2,
         "showlegend": false,
         "showscale": false,
         "type": "contour",
         "x": {
          "bdata": "vIMcjZVc9b/cdmzDdxP1v/xpvPlZyvS/HF0MMDyB9L89UFxmHjj0v11DrJwA7/O/fTb80uKl87+eKUwJxVzzv74cnD+nE/O/3g/sdYnK8r/+Ajysa4Hyvx72i+JNOPK/P+nbGDDv8b9f3CtPEqbxv4DPe4X0XPG/oMLLu9YT8b/AtRvyuMrwv+CoayibgfC/AJy7Xn048L9BHhcqv97vv4IEt5aDTO+/wupWA0i67r8C0fZvDCjuv0S3ltzQle2/hJ02SZUD7b/Eg9a1WXHsvwZqdiIe3+u/RlAWj+JM67+GNrb7prrqv8YcVmhrKOq/BwP21C+W6b9I6ZVB9APpv4nPNa64cei/yrXVGn3f578=",
          "dtype": "f8"
         },
         "xaxis": "x17",
         "y": {
          "bdata": "BtslDT/oAkB8AuihXO8CQPIpqjZ69gJAaFFsy5f9AkDeeC5gtQQDQFKg8PTSCwNAyMeyifASA0A973QeDhoDQLIWN7MrIQNAKD75R0koA0CcZbvcZi8DQBKNfXGENgNAiLQ/BqI9A0D82wGbv0QDQHIDxC/dSwNA5yqGxPpSA0BcUkhZGFoDQNJ5Cu41YQNAR6HMglNoA0C8yI4XcW8DQDLwUKyOdgNAphcTQax9A0AcP9XVyYQDQJJml2rniwNABo5Z/wSTA0B8tRuUIpoDQPHc3ShAoQNAZgSgvV2oA0DcK2JSe68DQFBTJOeYtgNAxnrme7a9A0A8oqgQ1MQDQLLJaqXxywNAKPEsOg/TA0A=",
          "dtype": "f8"
         },
         "yaxis": "y17",
         "z": {
          "bdata": "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",
          "dtype": "f8",
          "shape": "34, 34"
         }
        },
        {
         "colorscale": [
          [
           0,
           "rgb(247,251,255)"
          ],
          [
           0.125,
           "rgb(222,235,247)"
          ],
          [
           0.25,
           "rgb(198,219,239)"
          ],
          [
           0.375,
           "rgb(158,202,225)"
          ],
          [
           0.5,
           "rgb(107,174,214)"
          ],
          [
           0.625,
           "rgb(66,146,198)"
          ],
          [
           0.75,
           "rgb(33,113,181)"
          ],
          [
           0.875,
           "rgb(8,81,156)"
          ],
          [
           1,
           "rgb(8,48,107)"
          ]
         ],
         "contours": {
          "end": 0.003527408027506226,
          "size": 0.0026728432837356047,
          "start": 0.0008545647437706212
         },
         "line": {
          "width": 2
         },
         "name": "p7($\\alpha_{2}$)&p9(log$E_{p}$)",
         "ncontours": 2,
         "showlegend": false,
         "showscale": false,
         "type": "contour",
         "x": {
          "bdata": "uljb+z/H97985wHXTbX3vz52KLJbo/e/AAVPjWmR97/Ck3Vod3/3v4MinEOFbfe/RLHCHpNb978GQOn5oEn3v8jOD9WuN/e/iF02sLwl979K7FyLyhP3vwx7g2bYAfe/zQmqQebv9r+OmNAc9N32v1An9/cBzPa/ErYd0w+69r/TRESuHaj2v5TTaokrlva/VmKRZDmE9r8X8bc/R3L2v9h/3hpVYPa/mg4F9mJO9r9cnSvRcDz2vx0sUqx+Kva/3rp4h4wY9r+gSZ9imgb2v2HYxT2o9PW/ImfsGLbi9b/k9RL0w9D1v6aEOc/RvvW/ZxNgqt+s9b8oooaF7Zr1v+kwrWD7iPW/qr/TOwl39b8=",
          "dtype": "f8"
         },
         "xaxis": "x18",
         "y": {
          "bdata": "BtslDT/oAkB8AuihXO8CQPIpqjZ69gJAaFFsy5f9AkDeeC5gtQQDQFKg8PTSCwNAyMeyifASA0A973QeDhoDQLIWN7MrIQNAKD75R0koA0CcZbvcZi8DQBKNfXGENgNAiLQ/BqI9A0D82wGbv0QDQHIDxC/dSwNA5yqGxPpSA0BcUkhZGFoDQNJ5Cu41YQNAR6HMglNoA0C8yI4XcW8DQDLwUKyOdgNAphcTQax9A0AcP9XVyYQDQJJml2rniwNABo5Z/wSTA0B8tRuUIpoDQPHc3ShAoQNAZgSgvV2oA0DcK2JSe68DQFBTJOeYtgNAxnrme7a9A0A8oqgQ1MQDQLLJaqXxywNAKPEsOg/TA0A=",
          "dtype": "f8"
         },
         "yaxis": "y18",
         "z": {
          "bdata": "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",
          "dtype": "f8",
          "shape": "34, 34"
         }
        },
        {
         "line": {
          "color": "#08519c",
          "width": 2
         },
         "mode": "lines",
         "name": "p10(log$A$)",
         "showlegend": false,
         "type": "scatter",
         "x": {
          "bdata": "ECL0WRwG5L/kxfGPF9Ljv+TF8Y8X0uO/t2nvxRKe47+3ae/FEp7jv4sN7fsNauO/iw3t+w1q479fseoxCTbjv1+x6jEJNuO/M1XoZwQC478zVehnBALjvwb55Z3/zeK/Bvnlnf/N4r/anOPT+pniv9qc49P6meK/rkDhCfZl4r+uQOEJ9mXiv4Lk3j/xMeK/guTeP/Ex4r9ViNx17P3hv1WI3HXs/eG/KSzaq+fJ4b8pLNqr58nhv/3P1+HileG//c/X4eKV4b/Qc9UX3mHhv9Bz1RfeYeG/pBfTTdkt4b+kF9NN2S3hv3i70IPU+eC/eLvQg9T54L9MX865z8Xgv0xfzrnPxeC/IAPM78qR4L8gA8zvypHgv/OmySXGXeC/86bJJcZd4L/HSsdbwSngv8dKx1vBKeC/Nt2JI3nr37823Ykjeevfv90khY9vg9+/3SSFj2+D37+EbID7ZRvfv4RsgPtlG9+/LLR7Z1yz3r8stHtnXLPev9P7dtNSS96/0/t201JL3r96Q3I/SePdv3pDcj9J492/Iottqz973b8ii22rP3vdv8rSaBc2E92/ytJoFzYT3b9xGmSDLKvcv3EaZIMsq9y/GGJf7yJD3L8YYl/vIkPcv8CpWlsZ29u/",
          "dtype": "f8"
         },
         "xaxis": "x25",
         "y": {
          "bdata": "/Nxk2io9/T/83GTaKj39Pz+oml8diwFAP6iaXx2LAUAsVANb30UHQCxUA1vfRQdAekms2kptD0B6SazaSm0PQIi/ne50mRRAiL+d7nSZFECatN6V0LgZQJq03pXQuBlAwGwVd2SNHkDAbBV3ZI0eQNlYOuXpZiFA2Vg65elmIUA7Ll7w/TIjQDsuXvD9MiNABXW9t5ieJEAFdb23mJ4kQJXtCe39iiVAle0J7f2KJUCLA4PG59klQIsDg8bn2SVAStbY3s+JJUBK1tjez4klQGusmK0gtiRAa6yYrSC2JEAh9XDia3sjQCH1cOJreyNA4al/ChLgIUDhqX8KEuAhQKVfUpWAvR9ApV9SlYC9H0B/8s4r5hIbQH/yzivmEhtANGoXgQcuFkA0aheBBy4WQBRS9q6ojxFAFFL2rqiPEUBGGGA11xULQEYYYDXXFQtAjQzXx4t1BECNDNfHi3UEQFjFsSIWZv4/WMWxIhZm/j8BdMfhy0/2PwF0x+HLT/Y/HXIWwhFK8D8dchbCEUrwP2xkdQwG6uc/bGR1DAbq5z8NMt+1POLhPw0y37U84uE/gjA2Tsye2z+CMDZOzJ7bPz/pDmkHeNY/P+kOaQd41j+MQQ9CG+7TP4xBD0Ib7tM/",
          "dtype": "f8"
         },
         "yaxis": "y25"
        },
        {
         "colorscale": [
          [
           0,
           "rgb(247,251,255)"
          ],
          [
           0.125,
           "rgb(222,235,247)"
          ],
          [
           0.25,
           "rgb(198,219,239)"
          ],
          [
           0.375,
           "rgb(158,202,225)"
          ],
          [
           0.5,
           "rgb(107,174,214)"
          ],
          [
           0.625,
           "rgb(66,146,198)"
          ],
          [
           0.75,
           "rgb(33,113,181)"
          ],
          [
           0.875,
           "rgb(8,81,156)"
          ],
          [
           1,
           "rgb(8,48,107)"
          ]
         ],
         "contours": {
          "end": 0.0052073759793027745,
          "size": 0.00390384399052253,
          "start": 0.0013035319887802447
         },
         "line": {
          "width": 2
         },
         "name": "p3($\\alpha$)&p10(log$A$)",
         "ncontours": 2,
         "showlegend": false,
         "showscale": false,
         "type": "contour",
         "x": {
          "bdata": "1Ex0upBd+L/W4T/hbDP4v9h2CwhJCfi/2gvXLiXf97/aoKJVAbX3v9o1bnzdive/3Mo5o7lg97/cXwXKlTb3v9700PBxDPe/3omcF07i9r/eHmg+Krj2v+CzM2UGjva/4Ej/i+Jj9r/i3cqyvjn2v+JyltmaD/a/4gdiAHfl9b/knC0nU7v1v+Qx+U0vkfW/5sbEdAtn9b/mW5Cb5zz1v+bwW8LDEvW/6IUn6Z/o9L/oGvMPfL70v+qvvjZYlPS/6kSKXTRq9L/q2VWEEED0v+xuIavsFfS/7APt0cjr87/umLj4pMHzv+4thB+Bl/O/7sJPRl1t87/wVxttOUPzv/Ls5pMVGfO/9IGyuvHu8r8=",
          "dtype": "f8"
         },
         "xaxis": "x21",
         "y": {
          "bdata": "Uqz3iCNU5L8mUPW+HiDkv/rz8vQZ7OO/zpfwKhW447+hO+5gEITjv3Xf65YLUOO/SYPpzAYc478cJ+cCAujiv/DK5Dj9s+K/xG7ibvh/4r+YEuCk80viv2y23druF+K/P1rbEOrj4b8T/thG5a/hv+ah1nzge+G/ukXUsttH4b+O6dHo1hPhv2KNzx7S3+C/NjHNVM2r4L8K1cqKyHfgv914yMDDQ+C/sRzG9r4P4L8KgYdZdLffv7DIgsVqT9+/WBB+MWHn3r8AWHmdV3/ev6afdAlOF96/TudvdUSv3b/2LmvhOkfdv552Zk0x39y/RL5huSd33L/sBV0lHg/cv5RNWJEUp9u/PJVT/Qo/278=",
          "dtype": "f8"
         },
         "yaxis": "y21",
         "z": {
          "bdata": "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",
          "dtype": "f8",
          "shape": "34, 34"
         }
        },
        {
         "colorscale": [
          [
           0,
           "rgb(247,251,255)"
          ],
          [
           0.125,
           "rgb(222,235,247)"
          ],
          [
           0.25,
           "rgb(198,219,239)"
          ],
          [
           0.375,
           "rgb(158,202,225)"
          ],
          [
           0.5,
           "rgb(107,174,214)"
          ],
          [
           0.625,
           "rgb(66,146,198)"
          ],
          [
           0.75,
           "rgb(33,113,181)"
          ],
          [
           0.875,
           "rgb(8,81,156)"
          ],
          [
           1,
           "rgb(8,48,107)"
          ]
         ],
         "contours": {
          "end": 0.006290418201037396,
          "size": 0.004616661898377148,
          "start": 0.0016737563026602478
         },
         "line": {
          "width": 2
         },
         "name": "p5(log$A$)&p10(log$A$)",
         "ncontours": 2,
         "showlegend": false,
         "showscale": false,
         "type": "contour",
         "x": {
          "bdata": "vIMcjZVc9b/cdmzDdxP1v/xpvPlZyvS/HF0MMDyB9L89UFxmHjj0v11DrJwA7/O/fTb80uKl87+eKUwJxVzzv74cnD+nE/O/3g/sdYnK8r/+Ajysa4Hyvx72i+JNOPK/P+nbGDDv8b9f3CtPEqbxv4DPe4X0XPG/oMLLu9YT8b/AtRvyuMrwv+CoayibgfC/AJy7Xn048L9BHhcqv97vv4IEt5aDTO+/wupWA0i67r8C0fZvDCjuv0S3ltzQle2/hJ02SZUD7b/Eg9a1WXHsvwZqdiIe3+u/RlAWj+JM67+GNrb7prrqv8YcVmhrKOq/BwP21C+W6b9I6ZVB9APpv4nPNa64cei/yrXVGn3f578=",
          "dtype": "f8"
         },
         "xaxis": "x22",
         "y": {
          "bdata": "Uqz3iCNU5L8mUPW+HiDkv/rz8vQZ7OO/zpfwKhW447+hO+5gEITjv3Xf65YLUOO/SYPpzAYc478cJ+cCAujiv/DK5Dj9s+K/xG7ibvh/4r+YEuCk80viv2y23druF+K/P1rbEOrj4b8T/thG5a/hv+ah1nzge+G/ukXUsttH4b+O6dHo1hPhv2KNzx7S3+C/NjHNVM2r4L8K1cqKyHfgv914yMDDQ+C/sRzG9r4P4L8KgYdZdLffv7DIgsVqT9+/WBB+MWHn3r8AWHmdV3/ev6afdAlOF96/TudvdUSv3b/2LmvhOkfdv552Zk0x39y/RL5huSd33L/sBV0lHg/cv5RNWJEUp9u/PJVT/Qo/278=",
          "dtype": "f8"
         },
         "yaxis": "y22",
         "z": {
          "bdata": "AAAAAAAAAAAAAAAAAAAAAAAAAAAAAAAAAAAAAAAAAAAAAAAAAAAAAAAAAAAAAAAAAAAAAAAAAAAAAAAAAAAAAAAAAAAAAAAAAAAAAAAAAAAAAAAAAAAAAAAAAAAAAAAAAAAAAAAAAAAAAAAAAAAAAAAAAAAAAAAAAAAAAAAAAAAAAAAAAAAAAAAAAAAAAAAAAAAAAAAAAAAAAAAAAAAAAAAAAAAAAAAAAAAAAAAAAAAAAAAAAAAAAAAAAAAAAAAAAAAAAAAAAAAAAAAAAAAAAAAAAAAAAAAAAAAAAAAAAAAAAAAAAAAAAAAAAAAAAAAAAAAAAAAAAAAAAAAAAAAAAAAAAAAAAAAAAAAAAAAAAAAAAAAAAAAAAAAAAAAAAAAAAAAAAAAAAAAAAAAAAAAAAAAAAAAAAAAAAAAAAAAAAAAAAAAAAAAAAAAAAAAAAAAAAAAAAAAAAAAAAAAAAAAAAAAAAAAAAAAAAAAAAAAAAAAAAAAAAAAAAKFwDrikIok9HTWCcOLpvT0fCzC3sWHrPfrBhnABERI+mlQfDssCNz4z/c8C47tiPr+EEujGHY4+0qMz2IzPsz6cHDCbs+DVPrXgCoWldvQ+9z6iTj73Dz+NXdAXkQ4lP9Km7Vnunjc/Orar51TKRj8gIF536xVTP3DWe/t97Vs/3mRzrw4AYj/jQ3o5rslkPzlz+qz6FWY/OXP6rPoVZj8AAAAAAAAAAAAAAAAAAAAAAAAAAAAAAAAAAAAAAAAAAAAAAAAAAAAAAAAAAAAAAAAAAAAAAAAAAAAAAAAAAAAAAAAAAAAAAAAAAAAAAAAAAAAAAAAAAAAAAAAAAAAAAAAAAAAAAAAAAAAAAAAAAAAAoXAOuKQiiT0dNYJw4um9PR8LMLexYes9+sGGcAEREj6aVB8OywI3PjP9zwLju2I+v4QS6MYdjj7SozPYjM+zPpwcMJuz4NU+teAKhaV29D73PqJOPvcPP41d0BeRDiU/0qbtWe6eNz86tqvnVMpGPyAgXnfrFVM/cNZ7+33tWz/eZHOvDgBiP+NDejmuyWQ/OXP6rPoVZj85c/qs+hVmPwAAAAAAAAAAAAAAAAAAAAAAAAAAAAAAAAAAAAAAAAAAAAAAAAAAAAAAAAAAAAAAAAAAAAAAAAAAAAAAAAAAAAAAAAAAAAAAAAAAAAAAAAAAAAAAAAAAAAAAAAAAAAAAAAAAAAAAAAAAAAAAAAAAAADhynyr5Hy0PYPJ6Qwg9Ok90eHUNvJHFj7Cn3yCc5Y8Plhtqq7UpmA+t9XrWRPOgz6XlI5dKz6nPnb4W8j0/8g+s8Bpa7gr6D65pHUgz2YEP2nPem5nWx0/c4bsgavtMT/KdJfI66RCP/UwmKeVolA/dExDpiu4WT//IzYpkmdhP4IDGMwu6GQ/CYgL/ZPUZj/89EctX31nP/z0Ry1ffWc/AAAAAAAAAAAAAAAAAAAAAAAAAAAAAAAAAAAAAAAAAAAAAAAAAAAAAAAAAAAAAAAAAAAAAAAAAAAAAAAAAAAAAAAAAAAAAAAAAAAAAAAAAAAAAAAAAAAAAAAAAAAAAAAAAAAAAAAAAAChcA64pCKJPSoysTsqWuA9Z3ifTdhqEz6bopk7yDE/PkB6qUP2RmM+Uyf83icKhT6X7Jb6gz+lPln28CzKXcQ+pd8mD/Jf4j4i42blieL+PvfBQ8kiUhc/Qrm3NIquLj/SrZcRL05BPx4HbfkKqFA/2KY1JT5sWz8RqgH+D3FjP2LTF9g+AGg/3rGHhHVHaj+pLF7jEm5qP4Ivk6wc02k/gi+TrBzTaT8AAAAAAAAAAAAAAAAAAAAAAAAAAAAAAAAAAAAAAAAAAAAAAAAAAAAAAAAAAAAAAAAAAAAAAAAAAAAAAAAAAAAAAAAAAAAAAAAAAAAAAAAAAAAAAAAAAAAAAAAAAAAAAAAAAAAAAAAAAPWYfkI5obc9Rk8WWPk/Az4L9qg9ugs2PsP2+OLT8mA+cwQIdvxohD6JGpOxO0OlPnA27xCbgcM+/yodPURl4D595zpRx7b5Ph3tnQlQ7RI/AO4P6gOFKT+fAdd78JU+P0v02FYy4E8/MLBL/JmOXD8w+7XJE+tlP0OAE43W42w/ydM+yAZ6cD+E+o/YE5FwP6mqWJW/pW4//xcgHhhCbD//FyAeGEJsPwAAAAAAAAAAAAAAAAAAAAAAAAAAAAAAAAAAAAAAAAAAAAAAAAAAAAAAAAAAAAAAAAAAAAAAAAAAAAAAAAAAAAAAAAAAAAAAAAAAAAAAAAAAAAAAAAAAAAAAAAAAAAAAAAAAAAAAAAAASn3hKyoi3z1q6np7uKUiPsIzH2DDd1Q+Su3FOUpHfj5nBx7Mc8mhPkiyJcVfz8E+y0IGdYKk3j7njEV7R4n3PlwuzSwOjRA/Pl2/67anJT89a06aOBw6P+ofG8ZfYEw/0lP5H1cyWz95uKoHS6VmP0LDD6+wQHA/LlHqpXQPdD9+hRFqFV51P3HcsgZ38nM/5GfsbvQUcT8D7fe6FrttPwPt97oWu20/AAAAAAAAAAAAAAAAAAAAAAAAAAAAAAAAAAAAAAAAAAAAAAAAAAAAAAAAAAAAAAAAAAAAAAAAAAAAAAAAAAAAAAAAAAAAAAAAAAAAAAAAAAAAAAAAAAAAAAAAAAAAAAAAoXAOuKQiiT1SRjgtwQsBPp3Db7VyQj8+rqpua9wgcD5n6YB7S+aWPlM09tV/J7o+cl14Z9k52T6MYWzqaq70PvEeOyRfxQ0/W5fqxlJEIz/AgskP+tg2P2huvc2i2kg/+za7Tfd+WD+w9oxXK4FlP7KiZORSknA/uNuynGAxdj+oFgeueqx5P0BkEksypHk/KL7i4FRcdj9SiXD5pdBxPzqi4tfIRm0/OqLi18hGbT8AAAAAAAAAAAAAAAAAAAAAAAAAAAAAAAAAAAAAAAAAAAAAAAAAAAAAAAAAAAAAAAAAAAAAAAAAAAAAAAAAAAAAAAAAAAAAAAAAAAAAAAAAAAAAAAAAAAAAoXAOuKQiiT0dNYJw4unNPasWagSWiSA+aNBbcZGvVz66G4C0tV2GPur9NEpGPK4+BvKfatiq0D6sRv/Kve7uPpBXHh1FVQg/YO9DVVqjID9yWIoSMC00Px6MJ8D6E0Y/5Euv0/HwVT9qj1AUDrZjP79zC0tDrG8/mLdHQkyAdj8WyXxTY/97Pw0fl+61Rn4/fesjwGFXfD8XIxfMCh93P90tBc6YJ3E/6rHZplCPaj/qsdmmUI9qPwAAAAAAAAAAAAAAAAAAAAAAAAAAAAAAAAAAAAAAAAAAAAAAAAAAAAAAAAAAAAAAAAAAAAAAAAAAAAAAAAAAAAAAAAAAAAAAAAAAAAAAAAAAAAAAAAAAAAAeNYJw4um9PeDTNHb8JPw9tspTTGIKPT6dsom9RsdwPpQHFUmRVpw+winkmXsHwj6I/HIGcv/iPqMsIgLx4QA/PBl6K9x8GT9h2lIKHaQwPxUt4OxjF0M/0lDDgCyGUz8X5V2mT/BhP952IZQSnG0/uYVN0DTUdT+lQuhZoot8P3innWVSb4A/Yf4DoYCLgD8a5pqNufN8P3qKooctEnY/62O9gnV1bj+Iej2AYR9mP4h6PYBhH2Y/AAAAAAAAAAAAAAAAAAAAAAAAAAAAAAAAAAAAAAAAAAAAAAAAAAAAAAAAAAAAAAAAAAAAAAAAAAAAAAAAAAAAAKFwDrikIok99Zh+Qjmhtz1x31H0yYfhPagyLC9BXgk+17xXLYSAMj4F2u/ytT9fPoKk2Pi4WYk+Hhl4v228sT4uovEAqHHUPk/ZeHmeHfQ+FN0ytvTnED9Iu5opRVMoP0uvl4f/RT4/ikP6J8N4UD8PQ8TeJ7JfP86XqR5RKGs/mjdfdi3BdD/NzBxtQzl8PzGo9OGxAYE//jWSJAsWgj9R6jMiu+KAP7YS8p19hHs/pUsZ86GOcz868GaWNw5pP2HvzHxsAGE/Ye/MfGwAYT8AAAAAAAAAAAAAAAAAAAAAAAAAAAAAAAAAAAAAAAAAAAAAAAAAAAAAAAAAAAAAAAAAAAAAAAAAAAAAAAAAAAAA4cp8q+R8tD1FI0q80QvkPULvxwg6Jw4+sOREJpBwND4ENASy3f9ZPlsN1/SeCIA+41hoiHXYoz511V17gq/GPmteGwwA8OY+dlyeKXZ+BD+8yQEqfvUfP0bVO9/SoDU/lm3JvRl1ST/7tTZeBjJaPzhUYbI0vGc/m+uDx90Kcz8ryIhbhBp7Pxhs/7lmFoE/uZMbqQcLgz/Vmdn3ObeCPz/C8theLIA//S2Q6Hd3eD/CDSm0BStwPxqu+wojMmM/L2EwGfZAWD8vYTAZ9kBYPwAAAAAAAAAAAAAAAAAAAAAAAAAAAAAAAAAAAAAAAAAAAAAAAAAAAAAAAAAAAAAAAAAAAAAAAAAAAAAAAAAAAACcMYNMG5XbPRTjHW/VHAs+/7k1/wV0ND5WdV00SWBaPpircG8sYX4+WLcwbFuYnz4olUab2dy/PnoTYJ41JN4+6BIT2MYy+j7TgcBg3rAUP4XYqVhdOi0/zX2UPiZDQj9mNmDfDxNUP4/3Ty9CY2M/CWx0qpp9cD+2lMuB58Z4P/cER7eydIA/pZeVFm9Ngz8xHU+FCfWDP2a+PsqFKYI/UPsuXWANfT9whrPBQFx0P5FgSMOF9Wg/As229/1oWz/+msd0pRFQP/6ax3SlEVA/AAAAAAAAAAAAAAAAAAAAAAAAAAAAAAAAAAAAAAAAAAAAAAAAAAAAAAAAAAAAAAAAAAAAAAAAAAChcA64pCKJPVuTn69iJv49El4VTKJeLT7jhr1legZWPsGZqvWHVXs+dDbywNVbnT60yfUEbKq7Ps820fgQTdg+oWuBXWLU8z6KokaI+u8NP6qFzOMwwCQ/LWo4hiUjOj/+WwGftaFNP2X3jCXy+l0/5nQHhy7oaj+QyqnSilx1PyWm1HLR+X0/Fv39LNGRgj/pk4dYxkaEPywNgaM+eYM/qbRSxMRtgD+/9Xa84VN4P354bFDKjm8/0ZNS1ZLnYT8GSXOyCyZSP17xK7eJq0M/XvErt4mrQz8AAAAAAAAAAAAAAAAAAAAAAAAAAAAAAAAAAAAAAAAAAKFwDrikIok99Zh+Qjmhtz1KfeErKiLfPVFGOC3BCwE+NMHZUPqyKj6i3UlU/y9RPlwcWzM9WnU+oRZdTi/zlz4s28uTA9a3Ple9/vVL39Q+/NnEhPyl8D6/8HmttlkIPy5b5hYzXiA/ruAB+XspND+LmQcYwaZGP9J9JKuqG1c/g8faJDVIZT92yIvFIJNxP1hasMAK3nk/4PlIVEfigD/RO6oAGHmDP22pfoZTxoM/M9WhGdmhgT+0d8ofy5B7P36YjoNp4HI/SHpMttmfZj+HZL78JLVXPzrtGCrKHkY/evLxAAoONj968vEACg42PwAAAAAAAAAAAAAAAAAAAAAAAAAAAAAAAAAAAAAAAAAA4cp8q+R8tD3Ar4mWvELjPf+F1LmieQk+qHSEma+3Kz7+sjQ2J/NPPk0c4TNYjXA+XqPU0PN3kT5jNCU4j6SxPsPRg373UdA+mv/aoeTh6j5gMS9n0PADP4gMdakG0xo/tWrpjHpuMD8d8xC3hFNCPyJLXvsdlVI/qZfe/M4eYT8+S0yYGJ5sP2KYoAHXm3U/KJULe7pMfT+g1dkdBbaBPyq5H1Hz9oI/KUvvTknigT8Ufp3hR5R9P8XQsk9PZnU//eoTg1IQaz98i3yxF+ZdP45ouP6k10w/mNE0OKKuOD/DdF9lyX8mP8N0X2XJfyY/AAAAAAAAAAAAAAAAAAAAAKFwDrikIok9oXAOuKQiiT1KfeErKiLfPeyvPkPc/ws+AUK9f3QJMj5c5/Ou8RJTPv2TDXxVWHI+VjEok5Fmjz5i9XmvExarPhhwMnB5csc+r0skTDiW4z5s2+XfRg3+PjZlAYiZ2hQ/MrOWBmMfKj//D/Vu8ZY9P1HqerA/U04/I7HmhWggXD/T2ypBkKJnP6xBAvXaAnI/iVhvER3eeD8GljSnlfh+P6zYURviRoE/uJk8yc8ggT81xC0Sr/J9P7b+L8zq8nY/7lRoioa2bj/tDG5uv+phP31Q95iTNlI/o5Vt8xIhQD/qiBdd+jgpP2LoofK63hQ/Yuih8rreFD8AAAAAAAAAAAAAAAAAAAAA4cp8q+R8tD3hynyr5Hy0Pe9w2vnbCAE+L2e47+v7LT5m6yUaNhJTPgyllA+Q2nM+CQUt38eckT5K0JZmUvaqPn5oxUXLw8M+/2tpVrD+3D4lnJH4Ekz1PvgoChiU3w0/PVvet8BJIz9+5u9ZVI02P3L53nvowkc/PJIHjUqMVj/Wjs+n8UpjP/wfqeX81G0/xgQdHTfidD+TR5lsT3x6PxY+Lnv1WH4/K3TGkYg6fz+CGA9Pj598Pz9jQ6uYKnc/t00l2W9vcD9eCw+Hr1ZkPyQmZ++n5FU/v0DywOJ5RD8VZ+JZMKIwPwqtvCrYuBc/yDC6lnm1AT/IMLqWebUBPwAAAAAAAAAAAAAAAAAAAAAqMrE7KlrgPSoysTsqWuA9MhiLchMtID6xDhjFdgRLPtkMakKLqXA+Il1UxHDdkD7HMpjJbWisPmj3wEopS8Q+Cj4uuf+L2j4FQUDda9nwPqugNqoAiwU/h5w3XjodGz/Ar8MZZhgwPxuQmwXme0E/DvzacRshUT8f4MVC2yReP/TclTVg2Wc/+TEgk2MGcT9lQa9ShgB2P5rUOUf7w3k/6dzllPNHez+uel0o1fd5P+79c+ocCXY/PiNzmPSDcD813uhKLLBlP4NK7fCfzlg/6FP9M7WiSD+j/+c3vzU1P2o9vwiXox8/Gl6SbCaZBD+U383TgKzrPpTfzdOArOs+AAAAAAAAAAAAAAAAAAAAAGUypg60DQM+ZTKmDrQNAz5qD/RmKPA5PmOkxlp2VmQ+NPhANXsXiD7SD3blw4anPkfIKUoLBMM+LnKjO0Lw2T4ec1Wm64LvPrKOQl4o+wE/9F1O/dJNFD+4UhbJscomP13pfe8bnzg/RI5IqrusSD+zCs2wWWdWP1N4/SeGP2I/KzlB5Rmpaj8b9qlKLI1xP8O6saMY8HQ/xR83U2Kvdj9uzmR0ukZ2P9WknTv+snM/PBvRJZ8Tbz8AuBYbRKJlPzEA/KIBVlo/DJZ8cnvZSz/8VZv4yn85P8qTvmllMSQ/JGRRxB2nCz9N5UslDnXwPuqGnYjg3dM+6oadiODd0z4AAAAAAAAAAAAAAAAAAAAA7MnciCptIj7sydyIKm0iPj+tP5ZJiFI+y2dIQHHQej7ePEAknQaePn7j8K8+5Ls+srljA6+M1T7ofk8reDbsPoAJKaSpQQA/fAQCTBA3ET8kEUZ6LpohP08l4u4gvzE/1l69i0deQT+hpAk9mexPP060e6T2w1o/plleJEQlZD/YwicrZyFrP3hZUKTGbXA/vFj9YokJcj+hFR1gxAtyP+W2Un6xcHA/C9C1s5cWaz+IImrO7/NjP9vJMg9i8Fk/aBMxsSJoTT/5SRuGWNQ8P8qlr/KmWCg/ooqXUx2zET9chs2vRC72Pu9NYDIAFNg+FWL6hjj5uT4VYvqGOPm5PgAAAAAAAAAAAAAAAAAAAACyTEWx+9tWPrJMRbH721Y+z7atijjjbz5cIldbbPaQPl1QF+pK8rA++PT1TaIzzT6/QLSS+UflPrBGaDJxmfo+iY4C7F1KDT/koU7nW1YdPyiEsFSxxis/3MEW0qB4OT+KKCBS6pdGPwnt5nTQ81I/byx7Xpw8XT/D/WkVIVBkP/7O9GHWOGk/zhxPtycVbD8XkVHrc09sPyjqUZbkEGo/dCb0Xij4ZT9Gz5xVYdpgP6c8SXibPlc/fQUVj1JeTD9kJ/xRUyk+P+npxeoPmSs/zCisoHaXFT/2gOPKldP8Pp52XkfWcuA+QqexQPwkwD69HMfKLnaePr0cx8oudp4+AAAAAAAAAAAAAAAAAAAAANkuIMPZYn4+2S4gw9lifj5M7jzWakCLPu1kxf3456Q+dwUvvmvzwT63oasEiA/cPkDnKvfd+fI+0B7mj6lfBj/O+Fyx6ngXP1mzRgozZyY/BdiYzf/sMz9n1gH37dBAP6b75MZuGUs/x21kgqimVD/VEVxspCddPxajUkMUqWI/54MfG65jZT+XwrpFhPJlPwR/YJ+sVmQ/xgHoymQ1YT/f+Gsn1L5aP4V8x30JClM/2osio2CPSD9P3Lhdvjg8P85eZTGrViw/vz/cst9wGD9aebn0x+YBP2a/dRXEHOY+mmHBzk4Cxz4zn3fZvEmkPgd4Z4pkK4A+B3hnimQrgD4AAAAAAAAAAAAAAAAAAAAAZ/jb1ghboj5n+NvWCFuiPimdfqBr9ag+n+62Lse+uj4XYx5IjZLSPiPbb4Ekluk+99jKycqK/z5WhHMFxkURP4bHMq7uFiE/FWv0vcAGLz9Ggr7OMRY6P/YdYTL9b0Q/zoNufcQDTj/3T1X5OLBUP3m8MsdgiVo/qAcEl/okXz9NUe9jVnlgP7xuyDlRQl8/hqpArvS9Wj/943UL8tdUP2o3gA151k0/zfHOzr6hQz9NqvSNYpQ3P8HEuCi1eCk/AN/sAuA+GD9JYGKkpuUDPwC51I7tres+9joRg2MT0D6CJ15I6PSuPlgqe/fAzYg+/kWmrPdkYD7+Raas92RgPgAAAAAAAAAAAAAAAAAAAAA81sERBiXCPjzWwREGJcI+kwHKwkx6xT4ryoFGlWnRPiAHEKrkAuM+LdzkQ9l39j6bxQOvXNkIP29IJsWK6xg/nllyx/LwJj8b2E6Te6IzP/wwxRQqMT8/UdqGC5/ORj/QEQpXrqpOPzdrrTB/FVM/KuO4vO8SVj/R/Tq7O5JXP+OeioK+7lY/MQJcntIkVD/3VX83OPdPP6aw+pdUEkc/FUz4GHCBPj/ck0qfUIUyP+osOaPrmCQ/S4c2dEHKFD9sWdxmSrcCP6uJb++CWu0+scNXovKc0z4oWled0si1Pq/WVmW0ypM+adgoWAp2bT5pdZI3zCJAPml1kjfMIkA+AAAAAAAAAAAAAAAAAAAAALejKSCXHd0+t6MpIJcd3T4m8CrQcBngPnufe5oMy+U+QwVUxLII8z6S/U/Eo/MCPxcqhrydixI/5Y07qm7YID8fcHs9eoAsP9qMMdUMvDY/fCXSSNj3QD+tSpfcsTVHP1FKrwZCvEw/s7LLXrYtUD92tepNAMpQPzWjPU/gKVA/jDdRXt61TD+oqD2LK0lHP5gdmxYMK0E/xJYdpowPNz9I92n8qE8sP77LywTByx8/+pwTx/RRED9jiZB93or+PuDjqY54yek+7S/rfXJA0z7mqXRB2c64Po23dEZEoZo+wp+01388dz6JYvOzn5BQPj3VUFwBsR8+PdVQXAGxHz4AAAAAAAAAAAAAAAAAAAAALEt3+XoW8z4sS3f5ehbzPqAsdpupY/Q+xB6Qvs3E+D62zINNKxsCP7s2x3iCTg4/Ehd6RAzsGT//SyxmNyQlP6dJbZ2lSjA/qmr+A1P6Nz/aEICIRLNAPy6+UyNHXkU/2915xGGASD8OD1VmuRpJP26PSmNsWUc/qSf9GSwXRD8yTwSkcxtAPyexDGEn7jc/XhT0KZFXMD+I0/KXS3MkPwChnzMNaRc/Qr/Ws/luCD9Y8qWsvi73PiJl+3gkAOQ+IH48+ftTzz7RoBQg8wm2Ph7IPoydSZs+hGE28ZJtfD570a+Dsi1YPgqD0LG0IzE+x+kLEKMbAD7H6QsQoxsAPgAAAAAAAAAAAAAAAAAAAAA7448bo7EEPzvjjxujsQQ/R2Ipq0WwBT9ltuaUc7EIP9m9yoKLsA8/CDjbNlGWFj/1ab2pQrwgP+1r+Ow8SCg/cSr9zNTvMD99RAVP9No2P2M3l9YUkT0/lxy8ErGyQT/9Lf6Zs+lCP/eCEc+SykE/94V/p93KPT90HkjK7cU2P6geUqt4PzA/Lrqusx7HJT+jZKaJEUIbPzMRBPLBnQ8/h8CgylrfAD8xmEO7um3wPhgoaRIR9Nw+oOoUoLAIxz5M1DwMHpewPhYo/Lz3rpU+UfF315l4eT7RufwC0YBZPpsYkk9kBzU+DxiqqcLqDT4hpUNyMF7cPSGlQ3IwXtw9AAAAAAAAAAAAAAAAAAAAAFN969pr4hI/U33r2mviEj93Xm8w048TP0B8UIvkXxU/MAQqBMj6GD8ZWb7BOvoeP6nm15x4zSM/UykareFAKT/ABqmzzqEvP/WX23E7fzM/Yk3jG0dnNz86fsJ4nks6P0PfZKZ8ajo/VWDXzEseNz8XB2nZKKQxP05q0raKAig/oJdnj1cVHj/HbBHe7sURPxTAiefL7wM/dxtuaeEZ9T5hYuHmjNPkPnE3iCoO5NI+w0N2w8oFvz6uLbqwEtGmPope1tN8CI4+9Jg6OtPqcT67aR0xQo5TPhS24AIgbTI+BDHIYo74DD7Klgri5tTkPeHKfKvkfLQ94cp8q+R8tD0AAAAAAAAAAAAAAAAAAAAAlqRHoE16HT+WpEegTXodP7qVDX1gSh4/zYZzZs8YID9rn0uP/pchPzM43WbCdiM/Bddb2m+RJT8iiPwBXt8nP//Kqspdeyo/XX1mMwmiLT9+qKw6QoUwP7Fymm8pijE/BwDosVbFMD9ymtz6WdIrP6PMYxzIyiM/63jcAV9rGD+BZziOlt0KP86dhd3GTvs+LO1aUoto6j5BmPvqh5bYPrxiM1Xp3MU+/X1/lRc7sj6PatVwJM+bPtpfjOAjAoM+us8a50ftZj6ZblplrdVIPgOGIJig4yg+wmrIPBCtBT7O8KFRP+vfPfWYfkI5obc9oXAOuKQiiT2hcA64pCKJPQAAAAAAAAAAAAAAAAAAAAC7CJD3/dcjP7sIkPf91yM/52tPIXlHJD+bSWsKbColP7Pl+QfwHiY/ibNnVcGCJj9qYL4wphcmP061vB68OiU/foKadAqSJD8mz4aoEaYkP/VRYEX7WyU/nREp+C6bJT8KYUugIvcjP8dQRG+/DCA/TOPnNQryFT83WMfuCnAJP4FTdws7Sfk+AG31kqAb5j4/1lJO3KvRPu3Q5Fh5+Lo+BZIVyPIZpD4c2UIeokiNPpMgJpDE63M+140TsE6kWD59ZEQOf405PozKWggotxU+togIEkRK7j0JZ4DZjcW6PQAAAAAAAAAAAAAAAAAAAAAAAAAAAAAAAAAAAAAAAAAAAAAAAAAAAAAAAAAAAAAAADysZkeqDSc/PKxmR6oNJz+6soLB0X0nP45XMtIVSyg/awD5RAfRKD+ojPsHSSUoP1rDoUx1CSY/tNMuA10xIz9I4pnVs6kgP9USEb81Wh4/ONptQPljHT84rNJ9RK4cP4vcgc3XBho/BJzm822yFD/Z9vT63/cLP7G4+CgBrf8+0udLi2fy7T7HgM2pL7rXPt/fo9hyBMA+ciX2hpsboz6bZRkDlw2FPttjyCvcOWc+03gSlXJZSD7Ekaywr8YrPot1tHFG8go+pZ5w+e3d5T0dNYJw4um9PaFwDrikIok9AAAAAAAAAAAAAAAAAAAAAAAAAAAAAAAAAAAAAAAAAAAAAAAAAAAAAAAAAAAAAAAAPKxmR6oNJz88rGZHqg0nP7qygsHRfSc/jlcy0hVLKD9rAPlEB9EoP6iM+wdJJSg/WsOhTHUJJj+00y4DXTEjP0jimdWzqSA/1RIRvzVaHj842m1A+WMdPzis0n1Erhw/i9yBzdcGGj8EnObzbbIUP9n29Prf9ws/sbj4KAGt/z7S50uLZ/LtPseAzakvutc+39+j2HIEwD5yJfaGmxujPptlGQOXDYU+22PIK9w5Zz7TeBKVcllIPsSRrLCvxis+i3W0cUbyCj6lnnD57d3lPR01gnDi6b09oXAOuKQiiT0AAAAAAAAAAAAAAAAAAAAAAAAAAAAAAAAAAAAAAAAAAAAAAAAAAAAAAAAAAAAAAAAAAAAAAAAAAAAAAAAAAAAAAAAAAAAAAAAAAAAAAAAAAAAAAAAAAAAAAAAAAAAAAAAAAAAAAAAAAAAAAAAAAAAAAAAAAAAAAAAAAAAAAAAAAAAAAAAAAAAAAAAAAAAAAAAAAAAAAAAAAAAAAAAAAAAAAAAAAAAAAAAAAAAAAAAAAAAAAAAAAAAAAAAAAAAAAAAAAAAAAAAAAAAAAAAAAAAAAAAAAAAAAAAAAAAAAAAAAAAAAAAAAAAAAAAAAAAAAAAAAAAAAAAAAAAAAAAAAAAAAAAAAAAAAAAAAAAAAAAAAAAAAAAAAAAAAAAAAAAAAAAAAAAAAAAAAAAAAAAAAAAAAAAAAAAAAAA=",
          "dtype": "f8",
          "shape": "34, 34"
         }
        },
        {
         "colorscale": [
          [
           0,
           "rgb(247,251,255)"
          ],
          [
           0.125,
           "rgb(222,235,247)"
          ],
          [
           0.25,
           "rgb(198,219,239)"
          ],
          [
           0.375,
           "rgb(158,202,225)"
          ],
          [
           0.5,
           "rgb(107,174,214)"
          ],
          [
           0.625,
           "rgb(66,146,198)"
          ],
          [
           0.75,
           "rgb(33,113,181)"
          ],
          [
           0.875,
           "rgb(8,81,156)"
          ],
          [
           1,
           "rgb(8,48,107)"
          ]
         ],
         "contours": {
          "end": 0.005269539695176153,
          "size": 0.003938380001978811,
          "start": 0.0013311596931973413
         },
         "line": {
          "width": 2
         },
         "name": "p7($\\alpha_{2}$)&p10(log$A$)",
         "ncontours": 2,
         "showlegend": false,
         "showscale": false,
         "type": "contour",
         "x": {
          "bdata": "uljb+z/H97985wHXTbX3vz52KLJbo/e/AAVPjWmR97/Ck3Vod3/3v4MinEOFbfe/RLHCHpNb978GQOn5oEn3v8jOD9WuN/e/iF02sLwl979K7FyLyhP3vwx7g2bYAfe/zQmqQebv9r+OmNAc9N32v1An9/cBzPa/ErYd0w+69r/TRESuHaj2v5TTaokrlva/VmKRZDmE9r8X8bc/R3L2v9h/3hpVYPa/mg4F9mJO9r9cnSvRcDz2vx0sUqx+Kva/3rp4h4wY9r+gSZ9imgb2v2HYxT2o9PW/ImfsGLbi9b/k9RL0w9D1v6aEOc/RvvW/ZxNgqt+s9b8oooaF7Zr1v+kwrWD7iPW/qr/TOwl39b8=",
          "dtype": "f8"
         },
         "xaxis": "x23",
         "y": {
          "bdata": "Uqz3iCNU5L8mUPW+HiDkv/rz8vQZ7OO/zpfwKhW447+hO+5gEITjv3Xf65YLUOO/SYPpzAYc478cJ+cCAujiv/DK5Dj9s+K/xG7ibvh/4r+YEuCk80viv2y23druF+K/P1rbEOrj4b8T/thG5a/hv+ah1nzge+G/ukXUsttH4b+O6dHo1hPhv2KNzx7S3+C/NjHNVM2r4L8K1cqKyHfgv914yMDDQ+C/sRzG9r4P4L8KgYdZdLffv7DIgsVqT9+/WBB+MWHn3r8AWHmdV3/ev6afdAlOF96/TudvdUSv3b/2LmvhOkfdv552Zk0x39y/RL5huSd33L/sBV0lHg/cv5RNWJEUp9u/PJVT/Qo/278=",
          "dtype": "f8"
         },
         "yaxis": "y23",
         "z": {
          "bdata": "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",
          "dtype": "f8",
          "shape": "34, 34"
         }
        },
        {
         "colorscale": [
          [
           0,
           "rgb(247,251,255)"
          ],
          [
           0.125,
           "rgb(222,235,247)"
          ],
          [
           0.25,
           "rgb(198,219,239)"
          ],
          [
           0.375,
           "rgb(158,202,225)"
          ],
          [
           0.5,
           "rgb(107,174,214)"
          ],
          [
           0.625,
           "rgb(66,146,198)"
          ],
          [
           0.75,
           "rgb(33,113,181)"
          ],
          [
           0.875,
           "rgb(8,81,156)"
          ],
          [
           1,
           "rgb(8,48,107)"
          ]
         ],
         "contours": {
          "end": 0.004119228426256854,
          "size": 0.0030160318151141036,
          "start": 0.0011031966111427509
         },
         "line": {
          "width": 2
         },
         "name": "p9(log$E_{p}$)&p10(log$A$)",
         "ncontours": 2,
         "showlegend": false,
         "showscale": false,
         "type": "contour",
         "x": {
          "bdata": "BtslDT/oAkB8AuihXO8CQPIpqjZ69gJAaFFsy5f9AkDeeC5gtQQDQFKg8PTSCwNAyMeyifASA0A973QeDhoDQLIWN7MrIQNAKD75R0koA0CcZbvcZi8DQBKNfXGENgNAiLQ/BqI9A0D82wGbv0QDQHIDxC/dSwNA5yqGxPpSA0BcUkhZGFoDQNJ5Cu41YQNAR6HMglNoA0C8yI4XcW8DQDLwUKyOdgNAphcTQax9A0AcP9XVyYQDQJJml2rniwNABo5Z/wSTA0B8tRuUIpoDQPHc3ShAoQNAZgSgvV2oA0DcK2JSe68DQFBTJOeYtgNAxnrme7a9A0A8oqgQ1MQDQLLJaqXxywNAKPEsOg/TA0A=",
          "dtype": "f8"
         },
         "xaxis": "x24",
         "y": {
          "bdata": "Uqz3iCNU5L8mUPW+HiDkv/rz8vQZ7OO/zpfwKhW447+hO+5gEITjv3Xf65YLUOO/SYPpzAYc478cJ+cCAujiv/DK5Dj9s+K/xG7ibvh/4r+YEuCk80viv2y23druF+K/P1rbEOrj4b8T/thG5a/hv+ah1nzge+G/ukXUsttH4b+O6dHo1hPhv2KNzx7S3+C/NjHNVM2r4L8K1cqKyHfgv914yMDDQ+C/sRzG9r4P4L8KgYdZdLffv7DIgsVqT9+/WBB+MWHn3r8AWHmdV3/ev6afdAlOF96/TudvdUSv3b/2LmvhOkfdv552Zk0x39y/RL5huSd33L/sBV0lHg/cv5RNWJEUp9u/PJVT/Qo/278=",
          "dtype": "f8"
         },
         "yaxis": "y24",
         "z": {
          "bdata": "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",
          "dtype": "f8",
          "shape": "34, 34"
         }
        },
        {
         "error_x": {
          "array": [
           0.034944600338308485
          ],
          "arrayminus": [
           0.042567285366737595
          ],
          "color": "#FF0092",
          "symmetric": false,
          "thickness": 1,
          "type": "data",
          "width": 0
         },
         "marker": {
          "color": "#FF0092",
          "size": 5,
          "symbol": "circle"
         },
         "mode": "markers",
         "name": "p3($\\alpha$)",
         "showlegend": false,
         "type": "scatter",
         "x": [
          -1.2888700670549298
         ],
         "xaxis": "x",
         "y": [
          0.01
         ],
         "yaxis": "y"
        },
        {
         "error_x": {
          "array": [
           0.06125592787358336
          ],
          "arrayminus": [
           0.0797912771474314
          ],
          "color": "#FF0092",
          "symmetric": false,
          "thickness": 1,
          "type": "data",
          "width": 0
         },
         "marker": {
          "color": "#FF0092",
          "size": 5,
          "symbol": "circle"
         },
         "mode": "markers",
         "name": "p5(log$A$)",
         "showlegend": false,
         "type": "scatter",
         "x": [
          -0.9074862308436193
         ],
         "xaxis": "x7",
         "y": [
          0.01
         ],
         "yaxis": "y7"
        },
        {
         "error_x": {
          "array": [
           0.023552480730502312
          ],
          "arrayminus": [
           0.023062900677882192
          ],
          "color": "#FF0092",
          "symmetric": false,
          "thickness": 1,
          "type": "data",
          "width": 0
         },
         "marker": {
          "color": "#FF0092",
          "size": 5,
          "symbol": "circle"
         },
         "mode": "markers",
         "name": "p7($\\alpha_{2}$)",
         "showlegend": false,
         "type": "scatter",
         "x": [
          -1.4058900446613638
         ],
         "xaxis": "x13",
         "y": [
          0.01
         ],
         "yaxis": "y13"
        },
        {
         "error_x": {
          "array": [
           0.01630903825521912
          ],
          "arrayminus": [
           0.017057017891836335
          ],
          "color": "#FF0092",
          "symmetric": false,
          "thickness": 1,
          "type": "data",
          "width": 0
         },
         "marker": {
          "color": "#FF0092",
          "size": 5,
          "symbol": "circle"
         },
         "mode": "markers",
         "name": "p9(log$E_{p}$)",
         "showlegend": false,
         "type": "scatter",
         "x": [
          2.4305882293210397
         ],
         "xaxis": "x19",
         "y": [
          0.01
         ],
         "yaxis": "y19"
        },
        {
         "error_x": {
          "array": [
           0.03383218554911649
          ],
          "arrayminus": [
           0.032682863331048306
          ],
          "color": "#FF0092",
          "symmetric": false,
          "thickness": 1,
          "type": "data",
          "width": 0
         },
         "marker": {
          "color": "#FF0092",
          "size": 5,
          "symbol": "circle"
         },
         "mode": "markers",
         "name": "p10(log$A$)",
         "showlegend": false,
         "type": "scatter",
         "x": [
          -0.5507218384650194
         ],
         "xaxis": "x25",
         "y": [
          0.01
         ],
         "yaxis": "y25"
        },
        {
         "marker": {
          "color": "#FF0092",
          "size": 5,
          "symbol": "square"
         },
         "mode": "markers",
         "name": "p3($\\alpha$)&p5(log$A$)",
         "showlegend": false,
         "type": "scatter",
         "x": [
          -1.277345214527549
         ],
         "xaxis": "x6",
         "y": [
          -0.8797790221924284
         ],
         "yaxis": "y6"
        },
        {
         "marker": {
          "color": "#FF0092",
          "size": 5,
          "symbol": "square"
         },
         "mode": "markers",
         "name": "p3($\\alpha$)&p7($\\alpha_{2}$)",
         "showlegend": false,
         "type": "scatter",
         "x": [
          -1.277345214527549
         ],
         "xaxis": "x11",
         "y": [
          -1.3976445756678089
         ],
         "yaxis": "y11"
        },
        {
         "marker": {
          "color": "#FF0092",
          "size": 5,
          "symbol": "square"
         },
         "mode": "markers",
         "name": "p5(log$A$)&p7($\\alpha_{2}$)",
         "showlegend": false,
         "type": "scatter",
         "x": [
          -0.8797790221924284
         ],
         "xaxis": "x12",
         "y": [
          -1.3976445756678089
         ],
         "yaxis": "y12"
        },
        {
         "marker": {
          "color": "#FF0092",
          "size": 5,
          "symbol": "square"
         },
         "mode": "markers",
         "name": "p3($\\alpha$)&p9(log$E_{p}$)",
         "showlegend": false,
         "type": "scatter",
         "x": [
          -1.277345214527549
         ],
         "xaxis": "x16",
         "y": [
          2.437375503931374
         ],
         "yaxis": "y16"
        },
        {
         "marker": {
          "color": "#FF0092",
          "size": 5,
          "symbol": "square"
         },
         "mode": "markers",
         "name": "p5(log$A$)&p9(log$E_{p}$)",
         "showlegend": false,
         "type": "scatter",
         "x": [
          -0.8797790221924284
         ],
         "xaxis": "x17",
         "y": [
          2.437375503931374
         ],
         "yaxis": "y17"
        },
        {
         "marker": {
          "color": "#FF0092",
          "size": 5,
          "symbol": "square"
         },
         "mode": "markers",
         "name": "p7($\\alpha_{2}$)&p9(log$E_{p}$)",
         "showlegend": false,
         "type": "scatter",
         "x": [
          -1.3976445756678089
         ],
         "xaxis": "x18",
         "y": [
          2.437375503931374
         ],
         "yaxis": "y18"
        },
        {
         "marker": {
          "color": "#FF0092",
          "size": 5,
          "symbol": "square"
         },
         "mode": "markers",
         "name": "p3($\\alpha$)&p10(log$A$)",
         "showlegend": false,
         "type": "scatter",
         "x": [
          -1.277345214527549
         ],
         "xaxis": "x21",
         "y": [
          -0.5657903567301705
         ],
         "yaxis": "y21"
        },
        {
         "marker": {
          "color": "#FF0092",
          "size": 5,
          "symbol": "square"
         },
         "mode": "markers",
         "name": "p5(log$A$)&p10(log$A$)",
         "showlegend": false,
         "type": "scatter",
         "x": [
          -0.8797790221924284
         ],
         "xaxis": "x22",
         "y": [
          -0.5657903567301705
         ],
         "yaxis": "y22"
        },
        {
         "marker": {
          "color": "#FF0092",
          "size": 5,
          "symbol": "square"
         },
         "mode": "markers",
         "name": "p7($\\alpha_{2}$)&p10(log$A$)",
         "showlegend": false,
         "type": "scatter",
         "x": [
          -1.3976445756678089
         ],
         "xaxis": "x23",
         "y": [
          -0.5657903567301705
         ],
         "yaxis": "y23"
        },
        {
         "marker": {
          "color": "#FF0092",
          "size": 5,
          "symbol": "square"
         },
         "mode": "markers",
         "name": "p9(log$E_{p}$)&p10(log$A$)",
         "showlegend": false,
         "type": "scatter",
         "x": [
          2.437375503931374
         ],
         "xaxis": "x24",
         "y": [
          -0.5657903567301705
         ],
         "yaxis": "y24"
        }
       ],
       "layout": {
        "height": 1000,
        "shapes": [
         {
          "line": {
           "color": "#FF0092",
           "width": 1
          },
          "type": "line",
          "x0": -1.277345214527549,
          "x1": -1.277345214527549,
          "xref": "x6",
          "y0": 0,
          "y1": 1,
          "yref": "y6 domain"
         },
         {
          "line": {
           "color": "#FF0092",
           "width": 1
          },
          "type": "line",
          "x0": 0,
          "x1": 1,
          "xref": "x6 domain",
          "y0": -0.8797790221924284,
          "y1": -0.8797790221924284,
          "yref": "y6"
         },
         {
          "line": {
           "color": "#FF0092",
           "width": 1
          },
          "type": "line",
          "x0": -1.277345214527549,
          "x1": -1.277345214527549,
          "xref": "x11",
          "y0": 0,
          "y1": 1,
          "yref": "y11 domain"
         },
         {
          "line": {
           "color": "#FF0092",
           "width": 1
          },
          "type": "line",
          "x0": 0,
          "x1": 1,
          "xref": "x11 domain",
          "y0": -1.3976445756678089,
          "y1": -1.3976445756678089,
          "yref": "y11"
         },
         {
          "line": {
           "color": "#FF0092",
           "width": 1
          },
          "type": "line",
          "x0": -0.8797790221924284,
          "x1": -0.8797790221924284,
          "xref": "x12",
          "y0": 0,
          "y1": 1,
          "yref": "y12 domain"
         },
         {
          "line": {
           "color": "#FF0092",
           "width": 1
          },
          "type": "line",
          "x0": 0,
          "x1": 1,
          "xref": "x12 domain",
          "y0": -1.3976445756678089,
          "y1": -1.3976445756678089,
          "yref": "y12"
         },
         {
          "line": {
           "color": "#FF0092",
           "width": 1
          },
          "type": "line",
          "x0": -1.277345214527549,
          "x1": -1.277345214527549,
          "xref": "x16",
          "y0": 0,
          "y1": 1,
          "yref": "y16 domain"
         },
         {
          "line": {
           "color": "#FF0092",
           "width": 1
          },
          "type": "line",
          "x0": 0,
          "x1": 1,
          "xref": "x16 domain",
          "y0": 2.437375503931374,
          "y1": 2.437375503931374,
          "yref": "y16"
         },
         {
          "line": {
           "color": "#FF0092",
           "width": 1
          },
          "type": "line",
          "x0": -0.8797790221924284,
          "x1": -0.8797790221924284,
          "xref": "x17",
          "y0": 0,
          "y1": 1,
          "yref": "y17 domain"
         },
         {
          "line": {
           "color": "#FF0092",
           "width": 1
          },
          "type": "line",
          "x0": 0,
          "x1": 1,
          "xref": "x17 domain",
          "y0": 2.437375503931374,
          "y1": 2.437375503931374,
          "yref": "y17"
         },
         {
          "line": {
           "color": "#FF0092",
           "width": 1
          },
          "type": "line",
          "x0": -1.3976445756678089,
          "x1": -1.3976445756678089,
          "xref": "x18",
          "y0": 0,
          "y1": 1,
          "yref": "y18 domain"
         },
         {
          "line": {
           "color": "#FF0092",
           "width": 1
          },
          "type": "line",
          "x0": 0,
          "x1": 1,
          "xref": "x18 domain",
          "y0": 2.437375503931374,
          "y1": 2.437375503931374,
          "yref": "y18"
         },
         {
          "line": {
           "color": "#FF0092",
           "width": 1
          },
          "type": "line",
          "x0": -1.277345214527549,
          "x1": -1.277345214527549,
          "xref": "x21",
          "y0": 0,
          "y1": 1,
          "yref": "y21 domain"
         },
         {
          "line": {
           "color": "#FF0092",
           "width": 1
          },
          "type": "line",
          "x0": 0,
          "x1": 1,
          "xref": "x21 domain",
          "y0": -0.5657903567301705,
          "y1": -0.5657903567301705,
          "yref": "y21"
         },
         {
          "line": {
           "color": "#FF0092",
           "width": 1
          },
          "type": "line",
          "x0": -0.8797790221924284,
          "x1": -0.8797790221924284,
          "xref": "x22",
          "y0": 0,
          "y1": 1,
          "yref": "y22 domain"
         },
         {
          "line": {
           "color": "#FF0092",
           "width": 1
          },
          "type": "line",
          "x0": 0,
          "x1": 1,
          "xref": "x22 domain",
          "y0": -0.5657903567301705,
          "y1": -0.5657903567301705,
          "yref": "y22"
         },
         {
          "line": {
           "color": "#FF0092",
           "width": 1
          },
          "type": "line",
          "x0": -1.3976445756678089,
          "x1": -1.3976445756678089,
          "xref": "x23",
          "y0": 0,
          "y1": 1,
          "yref": "y23 domain"
         },
         {
          "line": {
           "color": "#FF0092",
           "width": 1
          },
          "type": "line",
          "x0": 0,
          "x1": 1,
          "xref": "x23 domain",
          "y0": -0.5657903567301705,
          "y1": -0.5657903567301705,
          "yref": "y23"
         },
         {
          "line": {
           "color": "#FF0092",
           "width": 1
          },
          "type": "line",
          "x0": 2.437375503931374,
          "x1": 2.437375503931374,
          "xref": "x24",
          "y0": 0,
          "y1": 1,
          "yref": "y24 domain"
         },
         {
          "line": {
           "color": "#FF0092",
           "width": 1
          },
          "type": "line",
          "x0": 0,
          "x1": 1,
          "xref": "x24 domain",
          "y0": -0.5657903567301705,
          "y1": -0.5657903567301705,
          "yref": "y24"
         }
        ],
        "template": {
         "data": {
          "bar": [
           {
            "error_x": {
             "color": "#2a3f5f"
            },
            "error_y": {
             "color": "#2a3f5f"
            },
            "marker": {
             "line": {
              "color": "white",
              "width": 0.5
             },
             "pattern": {
              "fillmode": "overlay",
              "size": 10,
              "solidity": 0.2
             }
            },
            "type": "bar"
           }
          ],
          "barpolar": [
           {
            "marker": {
             "line": {
              "color": "white",
              "width": 0.5
             },
             "pattern": {
              "fillmode": "overlay",
              "size": 10,
              "solidity": 0.2
             }
            },
            "type": "barpolar"
           }
          ],
          "carpet": [
           {
            "aaxis": {
             "endlinecolor": "#2a3f5f",
             "gridcolor": "#C8D4E3",
             "linecolor": "#C8D4E3",
             "minorgridcolor": "#C8D4E3",
             "startlinecolor": "#2a3f5f"
            },
            "baxis": {
             "endlinecolor": "#2a3f5f",
             "gridcolor": "#C8D4E3",
             "linecolor": "#C8D4E3",
             "minorgridcolor": "#C8D4E3",
             "startlinecolor": "#2a3f5f"
            },
            "type": "carpet"
           }
          ],
          "choropleth": [
           {
            "colorbar": {
             "outlinewidth": 0,
             "ticks": ""
            },
            "type": "choropleth"
           }
          ],
          "contour": [
           {
            "colorbar": {
             "outlinewidth": 0,
             "ticks": ""
            },
            "colorscale": [
             [
              0,
              "#0d0887"
             ],
             [
              0.1111111111111111,
              "#46039f"
             ],
             [
              0.2222222222222222,
              "#7201a8"
             ],
             [
              0.3333333333333333,
              "#9c179e"
             ],
             [
              0.4444444444444444,
              "#bd3786"
             ],
             [
              0.5555555555555556,
              "#d8576b"
             ],
             [
              0.6666666666666666,
              "#ed7953"
             ],
             [
              0.7777777777777778,
              "#fb9f3a"
             ],
             [
              0.8888888888888888,
              "#fdca26"
             ],
             [
              1,
              "#f0f921"
             ]
            ],
            "type": "contour"
           }
          ],
          "contourcarpet": [
           {
            "colorbar": {
             "outlinewidth": 0,
             "ticks": ""
            },
            "type": "contourcarpet"
           }
          ],
          "heatmap": [
           {
            "colorbar": {
             "outlinewidth": 0,
             "ticks": ""
            },
            "colorscale": [
             [
              0,
              "#0d0887"
             ],
             [
              0.1111111111111111,
              "#46039f"
             ],
             [
              0.2222222222222222,
              "#7201a8"
             ],
             [
              0.3333333333333333,
              "#9c179e"
             ],
             [
              0.4444444444444444,
              "#bd3786"
             ],
             [
              0.5555555555555556,
              "#d8576b"
             ],
             [
              0.6666666666666666,
              "#ed7953"
             ],
             [
              0.7777777777777778,
              "#fb9f3a"
             ],
             [
              0.8888888888888888,
              "#fdca26"
             ],
             [
              1,
              "#f0f921"
             ]
            ],
            "type": "heatmap"
           }
          ],
          "histogram": [
           {
            "marker": {
             "pattern": {
              "fillmode": "overlay",
              "size": 10,
              "solidity": 0.2
             }
            },
            "type": "histogram"
           }
          ],
          "histogram2d": [
           {
            "colorbar": {
             "outlinewidth": 0,
             "ticks": ""
            },
            "colorscale": [
             [
              0,
              "#0d0887"
             ],
             [
              0.1111111111111111,
              "#46039f"
             ],
             [
              0.2222222222222222,
              "#7201a8"
             ],
             [
              0.3333333333333333,
              "#9c179e"
             ],
             [
              0.4444444444444444,
              "#bd3786"
             ],
             [
              0.5555555555555556,
              "#d8576b"
             ],
             [
              0.6666666666666666,
              "#ed7953"
             ],
             [
              0.7777777777777778,
              "#fb9f3a"
             ],
             [
              0.8888888888888888,
              "#fdca26"
             ],
             [
              1,
              "#f0f921"
             ]
            ],
            "type": "histogram2d"
           }
          ],
          "histogram2dcontour": [
           {
            "colorbar": {
             "outlinewidth": 0,
             "ticks": ""
            },
            "colorscale": [
             [
              0,
              "#0d0887"
             ],
             [
              0.1111111111111111,
              "#46039f"
             ],
             [
              0.2222222222222222,
              "#7201a8"
             ],
             [
              0.3333333333333333,
              "#9c179e"
             ],
             [
              0.4444444444444444,
              "#bd3786"
             ],
             [
              0.5555555555555556,
              "#d8576b"
             ],
             [
              0.6666666666666666,
              "#ed7953"
             ],
             [
              0.7777777777777778,
              "#fb9f3a"
             ],
             [
              0.8888888888888888,
              "#fdca26"
             ],
             [
              1,
              "#f0f921"
             ]
            ],
            "type": "histogram2dcontour"
           }
          ],
          "mesh3d": [
           {
            "colorbar": {
             "outlinewidth": 0,
             "ticks": ""
            },
            "type": "mesh3d"
           }
          ],
          "parcoords": [
           {
            "line": {
             "colorbar": {
              "outlinewidth": 0,
              "ticks": ""
             }
            },
            "type": "parcoords"
           }
          ],
          "pie": [
           {
            "automargin": true,
            "type": "pie"
           }
          ],
          "scatter": [
           {
            "fillpattern": {
             "fillmode": "overlay",
             "size": 10,
             "solidity": 0.2
            },
            "type": "scatter"
           }
          ],
          "scatter3d": [
           {
            "line": {
             "colorbar": {
              "outlinewidth": 0,
              "ticks": ""
             }
            },
            "marker": {
             "colorbar": {
              "outlinewidth": 0,
              "ticks": ""
             }
            },
            "type": "scatter3d"
           }
          ],
          "scattercarpet": [
           {
            "marker": {
             "colorbar": {
              "outlinewidth": 0,
              "ticks": ""
             }
            },
            "type": "scattercarpet"
           }
          ],
          "scattergeo": [
           {
            "marker": {
             "colorbar": {
              "outlinewidth": 0,
              "ticks": ""
             }
            },
            "type": "scattergeo"
           }
          ],
          "scattergl": [
           {
            "marker": {
             "colorbar": {
              "outlinewidth": 0,
              "ticks": ""
             }
            },
            "type": "scattergl"
           }
          ],
          "scattermap": [
           {
            "marker": {
             "colorbar": {
              "outlinewidth": 0,
              "ticks": ""
             }
            },
            "type": "scattermap"
           }
          ],
          "scattermapbox": [
           {
            "marker": {
             "colorbar": {
              "outlinewidth": 0,
              "ticks": ""
             }
            },
            "type": "scattermapbox"
           }
          ],
          "scatterpolar": [
           {
            "marker": {
             "colorbar": {
              "outlinewidth": 0,
              "ticks": ""
             }
            },
            "type": "scatterpolar"
           }
          ],
          "scatterpolargl": [
           {
            "marker": {
             "colorbar": {
              "outlinewidth": 0,
              "ticks": ""
             }
            },
            "type": "scatterpolargl"
           }
          ],
          "scatterternary": [
           {
            "marker": {
             "colorbar": {
              "outlinewidth": 0,
              "ticks": ""
             }
            },
            "type": "scatterternary"
           }
          ],
          "surface": [
           {
            "colorbar": {
             "outlinewidth": 0,
             "ticks": ""
            },
            "colorscale": [
             [
              0,
              "#0d0887"
             ],
             [
              0.1111111111111111,
              "#46039f"
             ],
             [
              0.2222222222222222,
              "#7201a8"
             ],
             [
              0.3333333333333333,
              "#9c179e"
             ],
             [
              0.4444444444444444,
              "#bd3786"
             ],
             [
              0.5555555555555556,
              "#d8576b"
             ],
             [
              0.6666666666666666,
              "#ed7953"
             ],
             [
              0.7777777777777778,
              "#fb9f3a"
             ],
             [
              0.8888888888888888,
              "#fdca26"
             ],
             [
              1,
              "#f0f921"
             ]
            ],
            "type": "surface"
           }
          ],
          "table": [
           {
            "cells": {
             "fill": {
              "color": "#EBF0F8"
             },
             "line": {
              "color": "white"
             }
            },
            "header": {
             "fill": {
              "color": "#C8D4E3"
             },
             "line": {
              "color": "white"
             }
            },
            "type": "table"
           }
          ]
         },
         "layout": {
          "annotationdefaults": {
           "arrowcolor": "#2a3f5f",
           "arrowhead": 0,
           "arrowwidth": 1
          },
          "autotypenumbers": "strict",
          "coloraxis": {
           "colorbar": {
            "outlinewidth": 0,
            "ticks": ""
           }
          },
          "colorscale": {
           "diverging": [
            [
             0,
             "#8e0152"
            ],
            [
             0.1,
             "#c51b7d"
            ],
            [
             0.2,
             "#de77ae"
            ],
            [
             0.3,
             "#f1b6da"
            ],
            [
             0.4,
             "#fde0ef"
            ],
            [
             0.5,
             "#f7f7f7"
            ],
            [
             0.6,
             "#e6f5d0"
            ],
            [
             0.7,
             "#b8e186"
            ],
            [
             0.8,
             "#7fbc41"
            ],
            [
             0.9,
             "#4d9221"
            ],
            [
             1,
             "#276419"
            ]
           ],
           "sequential": [
            [
             0,
             "#0d0887"
            ],
            [
             0.1111111111111111,
             "#46039f"
            ],
            [
             0.2222222222222222,
             "#7201a8"
            ],
            [
             0.3333333333333333,
             "#9c179e"
            ],
            [
             0.4444444444444444,
             "#bd3786"
            ],
            [
             0.5555555555555556,
             "#d8576b"
            ],
            [
             0.6666666666666666,
             "#ed7953"
            ],
            [
             0.7777777777777778,
             "#fb9f3a"
            ],
            [
             0.8888888888888888,
             "#fdca26"
            ],
            [
             1,
             "#f0f921"
            ]
           ],
           "sequentialminus": [
            [
             0,
             "#0d0887"
            ],
            [
             0.1111111111111111,
             "#46039f"
            ],
            [
             0.2222222222222222,
             "#7201a8"
            ],
            [
             0.3333333333333333,
             "#9c179e"
            ],
            [
             0.4444444444444444,
             "#bd3786"
            ],
            [
             0.5555555555555556,
             "#d8576b"
            ],
            [
             0.6666666666666666,
             "#ed7953"
            ],
            [
             0.7777777777777778,
             "#fb9f3a"
            ],
            [
             0.8888888888888888,
             "#fdca26"
            ],
            [
             1,
             "#f0f921"
            ]
           ]
          },
          "colorway": [
           "#636efa",
           "#EF553B",
           "#00cc96",
           "#ab63fa",
           "#FFA15A",
           "#19d3f3",
           "#FF6692",
           "#B6E880",
           "#FF97FF",
           "#FECB52"
          ],
          "font": {
           "color": "#2a3f5f"
          },
          "geo": {
           "bgcolor": "white",
           "lakecolor": "white",
           "landcolor": "white",
           "showlakes": true,
           "showland": true,
           "subunitcolor": "#C8D4E3"
          },
          "hoverlabel": {
           "align": "left"
          },
          "hovermode": "closest",
          "mapbox": {
           "style": "light"
          },
          "paper_bgcolor": "white",
          "plot_bgcolor": "white",
          "polar": {
           "angularaxis": {
            "gridcolor": "#EBF0F8",
            "linecolor": "#EBF0F8",
            "ticks": ""
           },
           "bgcolor": "white",
           "radialaxis": {
            "gridcolor": "#EBF0F8",
            "linecolor": "#EBF0F8",
            "ticks": ""
           }
          },
          "scene": {
           "xaxis": {
            "backgroundcolor": "white",
            "gridcolor": "#DFE8F3",
            "gridwidth": 2,
            "linecolor": "#EBF0F8",
            "showbackground": true,
            "ticks": "",
            "zerolinecolor": "#EBF0F8"
           },
           "yaxis": {
            "backgroundcolor": "white",
            "gridcolor": "#DFE8F3",
            "gridwidth": 2,
            "linecolor": "#EBF0F8",
            "showbackground": true,
            "ticks": "",
            "zerolinecolor": "#EBF0F8"
           },
           "zaxis": {
            "backgroundcolor": "white",
            "gridcolor": "#DFE8F3",
            "gridwidth": 2,
            "linecolor": "#EBF0F8",
            "showbackground": true,
            "ticks": "",
            "zerolinecolor": "#EBF0F8"
           }
          },
          "shapedefaults": {
           "line": {
            "color": "#2a3f5f"
           }
          },
          "ternary": {
           "aaxis": {
            "gridcolor": "#DFE8F3",
            "linecolor": "#A2B1C6",
            "ticks": ""
           },
           "baxis": {
            "gridcolor": "#DFE8F3",
            "linecolor": "#A2B1C6",
            "ticks": ""
           },
           "bgcolor": "white",
           "caxis": {
            "gridcolor": "#DFE8F3",
            "linecolor": "#A2B1C6",
            "ticks": ""
           }
          },
          "title": {
           "x": 0.05
          },
          "xaxis": {
           "automargin": true,
           "gridcolor": "#EBF0F8",
           "linecolor": "#EBF0F8",
           "ticks": "",
           "title": {
            "standoff": 15
           },
           "zerolinecolor": "#EBF0F8",
           "zerolinewidth": 2
          },
          "yaxis": {
           "automargin": true,
           "gridcolor": "#EBF0F8",
           "linecolor": "#EBF0F8",
           "ticks": "",
           "title": {
            "standoff": 15
           },
           "zerolinecolor": "#EBF0F8",
           "zerolinewidth": 2
          }
         }
        },
        "width": 1000,
        "xaxis": {
         "anchor": "y",
         "domain": [
          0,
          0.184
         ],
         "showticklabels": false,
         "tickangle": -45
        },
        "xaxis10": {
         "anchor": "y10",
         "domain": [
          0.816,
          1
         ]
        },
        "xaxis11": {
         "anchor": "y11",
         "domain": [
          0,
          0.184
         ],
         "showticklabels": false,
         "tickangle": -45
        },
        "xaxis12": {
         "anchor": "y12",
         "domain": [
          0.204,
          0.388
         ],
         "showticklabels": false,
         "tickangle": -45
        },
        "xaxis13": {
         "anchor": "y13",
         "domain": [
          0.408,
          0.592
         ],
         "showticklabels": false,
         "tickangle": -45
        },
        "xaxis14": {
         "anchor": "y14",
         "domain": [
          0.6120000000000001,
          0.796
         ]
        },
        "xaxis15": {
         "anchor": "y15",
         "domain": [
          0.816,
          1
         ]
        },
        "xaxis16": {
         "anchor": "y16",
         "domain": [
          0,
          0.184
         ],
         "showticklabels": false,
         "tickangle": -45
        },
        "xaxis17": {
         "anchor": "y17",
         "domain": [
          0.204,
          0.388
         ],
         "showticklabels": false,
         "tickangle": -45
        },
        "xaxis18": {
         "anchor": "y18",
         "domain": [
          0.408,
          0.592
         ],
         "showticklabels": false,
         "tickangle": -45
        },
        "xaxis19": {
         "anchor": "y19",
         "domain": [
          0.6120000000000001,
          0.796
         ],
         "showticklabels": false,
         "tickangle": -45
        },
        "xaxis2": {
         "anchor": "y2",
         "domain": [
          0.204,
          0.388
         ]
        },
        "xaxis20": {
         "anchor": "y20",
         "domain": [
          0.816,
          1
         ]
        },
        "xaxis21": {
         "anchor": "y21",
         "domain": [
          0,
          0.184
         ],
         "showticklabels": true,
         "tickangle": -45,
         "title": {
          "text": "p3($\\alpha$)"
         }
        },
        "xaxis22": {
         "anchor": "y22",
         "domain": [
          0.204,
          0.388
         ],
         "showticklabels": true,
         "tickangle": -45,
         "title": {
          "text": "p5(log$A$)"
         }
        },
        "xaxis23": {
         "anchor": "y23",
         "domain": [
          0.408,
          0.592
         ],
         "showticklabels": true,
         "tickangle": -45,
         "title": {
          "text": "p7($\\alpha_{2}$)"
         }
        },
        "xaxis24": {
         "anchor": "y24",
         "domain": [
          0.6120000000000001,
          0.796
         ],
         "showticklabels": true,
         "tickangle": -45,
         "title": {
          "text": "p9(log$E_{p}$)"
         }
        },
        "xaxis25": {
         "anchor": "y25",
         "domain": [
          0.816,
          1
         ],
         "showticklabels": true,
         "tickangle": -45,
         "title": {
          "text": "p10(log$A$)"
         }
        },
        "xaxis3": {
         "anchor": "y3",
         "domain": [
          0.408,
          0.592
         ]
        },
        "xaxis4": {
         "anchor": "y4",
         "domain": [
          0.6120000000000001,
          0.796
         ]
        },
        "xaxis5": {
         "anchor": "y5",
         "domain": [
          0.816,
          1
         ]
        },
        "xaxis6": {
         "anchor": "y6",
         "domain": [
          0,
          0.184
         ],
         "showticklabels": false,
         "tickangle": -45
        },
        "xaxis7": {
         "anchor": "y7",
         "domain": [
          0.204,
          0.388
         ],
         "showticklabels": false,
         "tickangle": -45
        },
        "xaxis8": {
         "anchor": "y8",
         "domain": [
          0.408,
          0.592
         ]
        },
        "xaxis9": {
         "anchor": "y9",
         "domain": [
          0.6120000000000001,
          0.796
         ]
        },
        "yaxis": {
         "anchor": "x",
         "domain": [
          0.816,
          1
         ],
         "showticklabels": false,
         "tickangle": -45
        },
        "yaxis10": {
         "anchor": "x10",
         "domain": [
          0.6120000000000001,
          0.796
         ]
        },
        "yaxis11": {
         "anchor": "x11",
         "domain": [
          0.408,
          0.592
         ],
         "showticklabels": true,
         "tickangle": -45,
         "title": {
          "text": "p7($\\alpha_{2}$)"
         }
        },
        "yaxis12": {
         "anchor": "x12",
         "domain": [
          0.408,
          0.592
         ],
         "showticklabels": false,
         "tickangle": -45
        },
        "yaxis13": {
         "anchor": "x13",
         "domain": [
          0.408,
          0.592
         ],
         "showticklabels": false,
         "tickangle": -45
        },
        "yaxis14": {
         "anchor": "x14",
         "domain": [
          0.408,
          0.592
         ]
        },
        "yaxis15": {
         "anchor": "x15",
         "domain": [
          0.408,
          0.592
         ]
        },
        "yaxis16": {
         "anchor": "x16",
         "domain": [
          0.204,
          0.388
         ],
         "showticklabels": true,
         "tickangle": -45,
         "title": {
          "text": "p9(log$E_{p}$)"
         }
        },
        "yaxis17": {
         "anchor": "x17",
         "domain": [
          0.204,
          0.388
         ],
         "showticklabels": false,
         "tickangle": -45
        },
        "yaxis18": {
         "anchor": "x18",
         "domain": [
          0.204,
          0.388
         ],
         "showticklabels": false,
         "tickangle": -45
        },
        "yaxis19": {
         "anchor": "x19",
         "domain": [
          0.204,
          0.388
         ],
         "showticklabels": false,
         "tickangle": -45
        },
        "yaxis2": {
         "anchor": "x2",
         "domain": [
          0.816,
          1
         ]
        },
        "yaxis20": {
         "anchor": "x20",
         "domain": [
          0.204,
          0.388
         ]
        },
        "yaxis21": {
         "anchor": "x21",
         "domain": [
          0,
          0.184
         ],
         "showticklabels": true,
         "tickangle": -45,
         "title": {
          "text": "p10(log$A$)"
         }
        },
        "yaxis22": {
         "anchor": "x22",
         "domain": [
          0,
          0.184
         ],
         "showticklabels": false,
         "tickangle": -45
        },
        "yaxis23": {
         "anchor": "x23",
         "domain": [
          0,
          0.184
         ],
         "showticklabels": false,
         "tickangle": -45
        },
        "yaxis24": {
         "anchor": "x24",
         "domain": [
          0,
          0.184
         ],
         "showticklabels": false,
         "tickangle": -45
        },
        "yaxis25": {
         "anchor": "x25",
         "domain": [
          0,
          0.184
         ],
         "showticklabels": false,
         "tickangle": -45
        },
        "yaxis3": {
         "anchor": "x3",
         "domain": [
          0.816,
          1
         ]
        },
        "yaxis4": {
         "anchor": "x4",
         "domain": [
          0.816,
          1
         ]
        },
        "yaxis5": {
         "anchor": "x5",
         "domain": [
          0.816,
          1
         ]
        },
        "yaxis6": {
         "anchor": "x6",
         "domain": [
          0.6120000000000001,
          0.796
         ],
         "showticklabels": true,
         "tickangle": -45,
         "title": {
          "text": "p5(log$A$)"
         }
        },
        "yaxis7": {
         "anchor": "x7",
         "domain": [
          0.6120000000000001,
          0.796
         ],
         "showticklabels": false,
         "tickangle": -45
        },
        "yaxis8": {
         "anchor": "x8",
         "domain": [
          0.6120000000000001,
          0.796
         ]
        },
        "yaxis9": {
         "anchor": "x9",
         "domain": [
          0.6120000000000001,
          0.796
         ]
        }
       }
      }
     },
     "metadata": {},
     "output_type": "display_data"
    }
   ],
   "source": [
    "fig = Plot.post_corner(post, ploter='plotly')\n",
    "fig.save(f'{savepath}/corner')"
   ]
  },
  {
   "cell_type": "code",
   "execution_count": 14,
   "id": "adc0a694",
   "metadata": {},
   "outputs": [
    {
     "data": {
      "application/vnd.plotly.v1+json": {
       "config": {
        "plotlyServerURL": "https://plot.ly"
       },
       "data": [
        {
         "line": {
          "color": "#636EFA",
          "width": 2
         },
         "mode": "lines",
         "name": "((AS_TbAbs*AS_zTbAbs)*(cpl+csbpl))",
         "showlegend": true,
         "type": "scatter",
         "x": {
          "bdata": "AAAAAAAA4D+pn9Rx3UbhP3ezgG/Qp+I/p68I2e0k5D+KiJQUdcDlPypRKXPTfOc/Whe22qdc6T+mPPy6xmLrP06QTFM+ku0/13eMT1vu7z8xHb3hVj3xP8nm2kWHnfI/JpRWjtIZ9D8EhBjkdrT1P4EdlUHgb/c/n3nUGqxO+T/TQyxQrVP7P4vKoXHwgf0/3P5jWcDc/z8rUCiS1TMBQCjnAshDkwJASERNY70OBEA0G19Qf6gFQP4G2TP0YgdAQh6oELhACUA2j5I4nEQLQETzP42rcQ1Ay4wpGC/LD0CV6zCAWSoRQH8/2PIFiRJAXGqMVK4DFEDZ/sJVjpwVQLtDBUYPVhdALs/wt8syGUCbEZhvkzUbQBA4MqFvYR1AZA6Dhqe5H0AgO/Oo4iAhQAI0PMPNfiJAPo21XqX4I0BO4qDwo5AlQIA1LHQxSSdAVa5wDOckKUCvRajwkiYrQByChqg8US1A0GMZnymoL0BYIo0JcRcxQFzBETabdDJAVQ9sfqLtM0BhelcdwIQ1QIJoYrpaPDdAVzTsCQoXOUCZLDG3mhc7QKV0TZ4SQT1A/F6YXLWWP0C+Gx6fBA5BQJSbPUhuakJAgC1VsKXiQ0BHfEfY4nhFQDySvhSLL0dAOy8qrDQJSUCSTKO+qghLQHZrmn3xME1A+sGuuUqFT0DnN8dmnQRRQDctpvZGYFJAIf4X8a7XU0BsnNMdDG1VQDuQWX/CIldALcHz7mb7WECKr3ECw/laQG15g0HZIF1AZj0OselzX0CiHKtdO/tgQGGWMz4lVmJAC3BdPb7MY0BujWDqO2FlQN9mTvYAFmdAIF8UzqDtaECv4RF+4+pqQOdmIeXJEG1AtG5rPZJib0AJBO6A3vFwQLyrzxsJTHJAjknQkdPBc0AG/1Q6clV1QFBAunVGCXdAr89ZReLfeEA38PssDNx6QHKwj2PDAH1AxN59WURRf0C/u7XNhuiAQK/1ZYzyQYJAWicd6+62g0DTnBkKr0mFQCRrvPmS/IZApSmUUCvSiEDCZ6oKPc2KQA2F7LfF8IxAAAAAAABAj0A=",
          "dtype": "f8"
         },
         "y": {
          "bdata": "MWdPVZZlJj74sh56Du0iPte/qsqLoyw+W1M9nxs4OT4uzVlTEIBAPkMFbUch2Uk+dQYAsLCKUj6/3LWbv3BWPms5bQNjclw+dDU5wngJYj4hIOjcyiBmPmgWYPEEdGo+HUhmSfVebj4drPfUtGNxPsJTztgNvnM+K1h8L4gZdj67OBplfIl4PmmgiGzlzHo+6Z54i7VOfT7R9FPAOQCAPuEIPdnVaoE+k1hKYiLTgj7essXPFnaEPuqer+UsQYY+bo/O48U7iD6M63Ch/nqKPn59uf8mD40+5xKlouoEkD4GT3Z+28SRPnTBlhyj1ZM+qioG1iFGlj6goC9I2iOZPka++YnSdZw+Bt0XbhocoD4cHPQ2OhuiPgrhmhgCQaQ+tspGVZ5wpj6HuuuXCZGoPqlxg8lqlao+4Y0J3/x5rD5N4/c5A0KuPjQV0CkV9K8+8jVpXKzLsD58zvBxBZmxPvgl0U18ZLI+DAJJ5r8vsz5Mmkzf5PuzPkNh08CEybQ+xCK1/ISYtT5IoxwoAmm2ProAgBP5Orc+Eqsu0vwNuD4DS4P+feG4PlQ5kS/TtLk+YxnXjT6Huj4AZLnK8le7PvmPR+0XJrw+Byv9QNDwvD5lGjKUPbe9PkeU8tiGeL4+6UPNId4zvz6cc1fbhui/PsqhAQXuSsA+vh1BHaudwD6c0BpdSOzAPkePbcumNsE+wxul6bt8wT4GWgWbkb7BPqXJ2IxE/ME+aIwv3QA2wj7aI5HR/GvCPqGj/I1xnsI+1PQI55HNwj5/xI6ef/nCPqMEoJU/IsM+ptoFu61Hwz6w7jazcWnDPl/HTFz1hsM+XL0vXF6fwz6e77vQi7HDPqhxefwYvMM+wRP6Z2W9wz43V7ZworPDPphYdbLlnMM+CFOINT93wz7hRYbp0UDDPkslx8Ts98I+3b7T7SKbwj402rOYYSnCPnasjqsCosE+VgNur9sEwT56MCHsSFLAPs174HNpFr8+1SyWEjZivT5Z1vHUEYy7PvUU0i0vmbk+soTdhcSPtz51Slrb63a1PjRCKh51VrM+Pho72ao2sT4=",
          "dtype": "f8"
         }
        },
        {
         "line": {
          "color": "rgba(0,0,0,0)"
         },
         "mode": "lines",
         "name": "((AS_TbAbs*AS_zTbAbs)*(cpl+csbpl)) lower",
         "showlegend": false,
         "type": "scatter",
         "x": {
          "bdata": "AAAAAAAA4D+pn9Rx3UbhP3ezgG/Qp+I/p68I2e0k5D+KiJQUdcDlPypRKXPTfOc/Whe22qdc6T+mPPy6xmLrP06QTFM+ku0/13eMT1vu7z8xHb3hVj3xP8nm2kWHnfI/JpRWjtIZ9D8EhBjkdrT1P4EdlUHgb/c/n3nUGqxO+T/TQyxQrVP7P4vKoXHwgf0/3P5jWcDc/z8rUCiS1TMBQCjnAshDkwJASERNY70OBEA0G19Qf6gFQP4G2TP0YgdAQh6oELhACUA2j5I4nEQLQETzP42rcQ1Ay4wpGC/LD0CV6zCAWSoRQH8/2PIFiRJAXGqMVK4DFEDZ/sJVjpwVQLtDBUYPVhdALs/wt8syGUCbEZhvkzUbQBA4MqFvYR1AZA6Dhqe5H0AgO/Oo4iAhQAI0PMPNfiJAPo21XqX4I0BO4qDwo5AlQIA1LHQxSSdAVa5wDOckKUCvRajwkiYrQByChqg8US1A0GMZnymoL0BYIo0JcRcxQFzBETabdDJAVQ9sfqLtM0BhelcdwIQ1QIJoYrpaPDdAVzTsCQoXOUCZLDG3mhc7QKV0TZ4SQT1A/F6YXLWWP0C+Gx6fBA5BQJSbPUhuakJAgC1VsKXiQ0BHfEfY4nhFQDySvhSLL0dAOy8qrDQJSUCSTKO+qghLQHZrmn3xME1A+sGuuUqFT0DnN8dmnQRRQDctpvZGYFJAIf4X8a7XU0BsnNMdDG1VQDuQWX/CIldALcHz7mb7WECKr3ECw/laQG15g0HZIF1AZj0OselzX0CiHKtdO/tgQGGWMz4lVmJAC3BdPb7MY0BujWDqO2FlQN9mTvYAFmdAIF8UzqDtaECv4RF+4+pqQOdmIeXJEG1AtG5rPZJib0AJBO6A3vFwQLyrzxsJTHJAjknQkdPBc0AG/1Q6clV1QFBAunVGCXdAr89ZReLfeEA38PssDNx6QHKwj2PDAH1AxN59WURRf0C/u7XNhuiAQK/1ZYzyQYJAWicd6+62g0DTnBkKr0mFQCRrvPmS/IZApSmUUCvSiEDCZ6oKPc2KQA2F7LfF8IxAAAAAAABAj0A=",
          "dtype": "f8"
         },
         "y": {
          "bdata": "RWF2BpFoJD6ArjaYvz4hPmdjETT0Gio+EdBURdMFNz4xWzRPyBk+Pr9AocHkk0c+QM0XzGXqUD4paYeuv3hUPvsNEG/x8Vk+wcS9bN96YD4ibYIZ2jZkPvQV9PF/LGg+mnCN2TTDaz4o37Ioss5vPlAXqhxhDnI+0BDw6bE4dD4jnAiZg3R2PuXt9lfShng+OuyaPLraej5r33sY5Fx9PpfbRiPB/n8+QarHkr9OgT6TBNyhFduCPiGfc9qPjIQ+ETe2BR50hj42n/BZRaWIPl671Q+cL4s+noNV9F0ljj6kGlf57NaQPoJKeX7m8JI+TiRtt5dulT6MivUNpWWYPuN+K9VS1Js+plS94dG0nz4N1dn+j96hPneqYGF7BaQ+pcGy3XMtpj7/F2nX+EeoPil6aNT5R6o+HnwVjMsrrD6zVjiWUPStPiOZgG4hqK8+sLDzc5umsD4hRsxQFHexPvwF8Re+RLI+QlllgEMRsz4jSmA6It6zPuy4lNGfq7Q+jy824vV5tT6rFWe1xEm2Pr8gwkNUGbc+kumZs2bqtz7lad9y47q4Pk/XTct/ibk+7VxYxDBXuj73s3D19yO7PrV9gjmx7Ls+mg/nadmyvD7+PoFirHa9Prcubu6TNr4+DIN+wlTxvj768gqZdqa/Pi5sZ9BpKsA+L/baBeR+wD6lhltnL87APniIuzSjGsE+VwHTyhFiwT68sn47uqbBPlPHOvdX5cE+gqkoB8gewj45oa44T1TCPhdiiOL5hsI+Z8QpFCS1wj59edO9A+DCPhHr9b5BBsM+cMvMQLcowz6af0jIw0nDPn/S3A+VZcM+L8GsJZV7wz6+DDnoq43DPhIlpQqQl8M+OxdFo5mXwz68NgdBWIzDPsSWN/FAdMM+fOalnF1Nwz51aWDF3BTDPu6gbJ+1x8I+LLZ0FTpmwj5UVsg+aO3BPlJOq53zXME+7EmqMIm1wD5Fpec5HPO/PldNoOHoTb4+HN9yaTOLvD4qv15I16e6Pg1q12aDprg+c7e2gdyOtj7ZrnEvrm+0Pk/gIH3kTLI+pMeoTzkvsD4=",
          "dtype": "f8"
         }
        },
        {
         "fill": "tonexty",
         "fillcolor": "rgba(99, 110, 250, 0.500000)",
         "line": {
          "color": "rgba(0,0,0,0)"
         },
         "mode": "lines",
         "name": "((AS_TbAbs*AS_zTbAbs)*(cpl+csbpl)) CI",
         "showlegend": true,
         "type": "scatter",
         "x": {
          "bdata": "AAAAAAAA4D+pn9Rx3UbhP3ezgG/Qp+I/p68I2e0k5D+KiJQUdcDlPypRKXPTfOc/Whe22qdc6T+mPPy6xmLrP06QTFM+ku0/13eMT1vu7z8xHb3hVj3xP8nm2kWHnfI/JpRWjtIZ9D8EhBjkdrT1P4EdlUHgb/c/n3nUGqxO+T/TQyxQrVP7P4vKoXHwgf0/3P5jWcDc/z8rUCiS1TMBQCjnAshDkwJASERNY70OBEA0G19Qf6gFQP4G2TP0YgdAQh6oELhACUA2j5I4nEQLQETzP42rcQ1Ay4wpGC/LD0CV6zCAWSoRQH8/2PIFiRJAXGqMVK4DFEDZ/sJVjpwVQLtDBUYPVhdALs/wt8syGUCbEZhvkzUbQBA4MqFvYR1AZA6Dhqe5H0AgO/Oo4iAhQAI0PMPNfiJAPo21XqX4I0BO4qDwo5AlQIA1LHQxSSdAVa5wDOckKUCvRajwkiYrQByChqg8US1A0GMZnymoL0BYIo0JcRcxQFzBETabdDJAVQ9sfqLtM0BhelcdwIQ1QIJoYrpaPDdAVzTsCQoXOUCZLDG3mhc7QKV0TZ4SQT1A/F6YXLWWP0C+Gx6fBA5BQJSbPUhuakJAgC1VsKXiQ0BHfEfY4nhFQDySvhSLL0dAOy8qrDQJSUCSTKO+qghLQHZrmn3xME1A+sGuuUqFT0DnN8dmnQRRQDctpvZGYFJAIf4X8a7XU0BsnNMdDG1VQDuQWX/CIldALcHz7mb7WECKr3ECw/laQG15g0HZIF1AZj0OselzX0CiHKtdO/tgQGGWMz4lVmJAC3BdPb7MY0BujWDqO2FlQN9mTvYAFmdAIF8UzqDtaECv4RF+4+pqQOdmIeXJEG1AtG5rPZJib0AJBO6A3vFwQLyrzxsJTHJAjknQkdPBc0AG/1Q6clV1QFBAunVGCXdAr89ZReLfeEA38PssDNx6QHKwj2PDAH1AxN59WURRf0C/u7XNhuiAQK/1ZYzyQYJAWicd6+62g0DTnBkKr0mFQCRrvPmS/IZApSmUUCvSiEDCZ6oKPc2KQA2F7LfF8IxAAAAAAABAj0A=",
          "dtype": "f8"
         },
         "y": {
          "bdata": "1zKLdZVeKD7XD/eM34skPhVNz/9B/y4+iLYcamk5Oz6ZCqEVZ8NBPswlX3Fquks+v3SsyfPRUz4G8uvubOpXPtaetM2jQV4+YbMUHvAmYz7IzMB16W5nPif6JCc67ms+aBRD5XYAcD54pqkoBElyPinmi2YuvXQ+5/n8WpEndz64qK28eqt5PtpsDjKsBnw+fNYXH86afj71DZCzN6+APvevq7YDIoI+7ZwbAfGQgz60/IaCETyFPv+KMvPzCYc+Yy6dahMLiT7Pdrfpb1GLPr38NJyA6I0+YMuo9RVykD5hcxFmnzGSPmK0Mb0eQZQ+lTY6cyGtlj5ECSk6BY6ZPmOZQTMY55w+QORtXEReoD7x6EZqeW+iPmBH/mtyrKQ+SPPYYGXvpj6F+0D9lCKpPmgu+N3EMqs++qa1f/kdrT51yJ7Z0+WuPoLxx8JHS7A+qb0uxZIasT76PA02T+SxPuGSpBrbq7I++qzLvBpysz412jPlUzi0PiK+RABwALU+xus4+rrKtT4zYzmh3pe2Ppa8mlaiZ7c+MkKcyBg6uD495ChWMw25PvZ67IzV4Lk+7Gk7Phq1uj41o3it3oe7Ppls8ExdWLw+3uRVPxYlvT6DMSLrTe69Pl+MNlz1s74+6RaMyulwvz5K95+ukBPAPhOcltSRbMA+jcwanlfAwD7lidBj1RDBPqFev9XKXME+HFveDXKlwT6NShpRtunBPsCpsp9ZK8I+HObxTYtqwj6hjS8KCabCPpeiKeb438I+2rDL1HkVwz7w/n7b2EbDPsyVLx/Zc8M+o7hcrsmdwz7pg+mNTMTDPtEoRFY85MM+znoVH+L+wz4iZJiXuhHEPrQFxEVNHMQ+cvG+wwkbxD51unwCHw3EPsLcKxev8cM+MTCBplTIwz7lDf2ZpY/DPsGSNfCKRMM+Fuw65cvkwj663mGKCXDCPqCSI96558E+vxaXCmZNwT5T7hcaUJ/APrbDs/xMtL8+9EbTTbIMvj7kpxbhbjy8PmI/30qUU7o+nS35PPpNuD450o/zGTu2PsRL782hH7Q+jngVSC39sT4=",
          "dtype": "f8"
         }
        },
        {
         "line": {
          "color": "#EF553B",
          "width": 2
         },
         "mode": "lines",
         "name": "(cpl+csbpl)",
         "showlegend": true,
         "type": "scatter",
         "x": {
          "bdata": "AAAAAAAA4D+pn9Rx3UbhP3ezgG/Qp+I/p68I2e0k5D+KiJQUdcDlPypRKXPTfOc/Whe22qdc6T+mPPy6xmLrP06QTFM+ku0/13eMT1vu7z8xHb3hVj3xP8nm2kWHnfI/JpRWjtIZ9D8EhBjkdrT1P4EdlUHgb/c/n3nUGqxO+T/TQyxQrVP7P4vKoXHwgf0/3P5jWcDc/z8rUCiS1TMBQCjnAshDkwJASERNY70OBEA0G19Qf6gFQP4G2TP0YgdAQh6oELhACUA2j5I4nEQLQETzP42rcQ1Ay4wpGC/LD0CV6zCAWSoRQH8/2PIFiRJAXGqMVK4DFEDZ/sJVjpwVQLtDBUYPVhdALs/wt8syGUCbEZhvkzUbQBA4MqFvYR1AZA6Dhqe5H0AgO/Oo4iAhQAI0PMPNfiJAPo21XqX4I0BO4qDwo5AlQIA1LHQxSSdAVa5wDOckKUCvRajwkiYrQByChqg8US1A0GMZnymoL0BYIo0JcRcxQFzBETabdDJAVQ9sfqLtM0BhelcdwIQ1QIJoYrpaPDdAVzTsCQoXOUCZLDG3mhc7QKV0TZ4SQT1A/F6YXLWWP0C+Gx6fBA5BQJSbPUhuakJAgC1VsKXiQ0BHfEfY4nhFQDySvhSLL0dAOy8qrDQJSUCSTKO+qghLQHZrmn3xME1A+sGuuUqFT0DnN8dmnQRRQDctpvZGYFJAIf4X8a7XU0BsnNMdDG1VQDuQWX/CIldALcHz7mb7WECKr3ECw/laQG15g0HZIF1AZj0OselzX0CiHKtdO/tgQGGWMz4lVmJAC3BdPb7MY0BujWDqO2FlQN9mTvYAFmdAIF8UzqDtaECv4RF+4+pqQOdmIeXJEG1AtG5rPZJib0AJBO6A3vFwQLyrzxsJTHJAjknQkdPBc0AG/1Q6clV1QFBAunVGCXdAr89ZReLfeEA38PssDNx6QHKwj2PDAH1AxN59WURRf0C/u7XNhuiAQK/1ZYzyQYJAWicd6+62g0DTnBkKr0mFQCRrvPmS/IZApSmUUCvSiEDCZ6oKPc2KQA2F7LfF8IxAAAAAAABAj0A=",
          "dtype": "f8"
         },
         "y": {
          "bdata": "uET6PcpxaD7n/xmuG9NpPlDnb1tJSGs+g0GwTHzSbD7QpLrl9HJuPmNLCmiHFXA+iYpc/iL+cD4Q/piLHvRxPp1et+5i+HI+KZHk+fULdD4wnN19ATB1PkofpXjcZXY+8sO0ERevdz6CJAtCig15PoY4S0psg3o+kHfMcGsTfD4fjfrx0MB9PnekIZyuj38+DvLFII3CgD42+iaBvdOBPji/lrF2/4I+v/xiDuJKhD4UHwcelryFPjJIvXX9XIc+9W5XUtQ2iT5pK7nnuleLPvJ8OlDR0I0+rK5NhJ9bkD6P4Jv6MRKSPh68UT+aGpQ+zDAdjfeDlj70ck79iluZPiTGyqRvqJw+gReCiAAzoD5GTCsZmT+iPuGD80NnZ6Q+a4coMrmTpj6H5/j5ULCoPtBdlJO6sKo+Enct2pGRrD5UsQFqMVauPnxJ3OScArA+KqMsXerSsD5OyBdPHZ+xPqkHGCOYabI+/7RkmwU0sz4LgqQxdf+zPsFVEB18zLQ+wITWQFKbtT7GWC/H6Gu2PlrETuD6Pbc+qruF7xkRuD5lD598tuS4Pl0/wAgnuLk+uQTVo62Kuj6qcq7kfFu7PostZ7a8Kbw+ifjHR4/0vD54u2VKFru9PpH+M5R4fL4+/XcZHeg3vz5le0I5qOy/PqIC4+sJTcA+RI3mudGfwD7fDtgmee7APn37kzXhOME+LVIqZv9+wT4bnyad3cDBPh+riYuY/sE+54oZVVw4wj4iL2RGX27CPiItzoraoMI+19SC/QDQwj7vdblk9PvCPq6xJaK5JMM+Tn7lnyxKwz5Njf/29GvDPoJbHnJ8icM+OpXmmuihwz7Ibc9pGLTDPr5vM/OmvsM+yrC7ifO/wz5FDv5OL7bDPrI2R59vn8M+dDC1QsR5wz5ZMB7rT0PDPnVOzFZh+sI+vhUOfYudwj49LlluuyvCPk6aVPtKpME+WPmKpw8HwT7ukr3GZVTAPp8qFJ9vGr8+m28dxwNmvT6+GhSuoo+7Pu2/DnN/nLk+7mqSTNGStz6hTjkks3m1PkCGxuz1WLM+0tznQ+U4sT4=",
          "dtype": "f8"
         }
        },
        {
         "line": {
          "color": "rgba(0,0,0,0)"
         },
         "mode": "lines",
         "name": "(cpl+csbpl) lower",
         "showlegend": false,
         "type": "scatter",
         "x": {
          "bdata": "AAAAAAAA4D+pn9Rx3UbhP3ezgG/Qp+I/p68I2e0k5D+KiJQUdcDlPypRKXPTfOc/Whe22qdc6T+mPPy6xmLrP06QTFM+ku0/13eMT1vu7z8xHb3hVj3xP8nm2kWHnfI/JpRWjtIZ9D8EhBjkdrT1P4EdlUHgb/c/n3nUGqxO+T/TQyxQrVP7P4vKoXHwgf0/3P5jWcDc/z8rUCiS1TMBQCjnAshDkwJASERNY70OBEA0G19Qf6gFQP4G2TP0YgdAQh6oELhACUA2j5I4nEQLQETzP42rcQ1Ay4wpGC/LD0CV6zCAWSoRQH8/2PIFiRJAXGqMVK4DFEDZ/sJVjpwVQLtDBUYPVhdALs/wt8syGUCbEZhvkzUbQBA4MqFvYR1AZA6Dhqe5H0AgO/Oo4iAhQAI0PMPNfiJAPo21XqX4I0BO4qDwo5AlQIA1LHQxSSdAVa5wDOckKUCvRajwkiYrQByChqg8US1A0GMZnymoL0BYIo0JcRcxQFzBETabdDJAVQ9sfqLtM0BhelcdwIQ1QIJoYrpaPDdAVzTsCQoXOUCZLDG3mhc7QKV0TZ4SQT1A/F6YXLWWP0C+Gx6fBA5BQJSbPUhuakJAgC1VsKXiQ0BHfEfY4nhFQDySvhSLL0dAOy8qrDQJSUCSTKO+qghLQHZrmn3xME1A+sGuuUqFT0DnN8dmnQRRQDctpvZGYFJAIf4X8a7XU0BsnNMdDG1VQDuQWX/CIldALcHz7mb7WECKr3ECw/laQG15g0HZIF1AZj0OselzX0CiHKtdO/tgQGGWMz4lVmJAC3BdPb7MY0BujWDqO2FlQN9mTvYAFmdAIF8UzqDtaECv4RF+4+pqQOdmIeXJEG1AtG5rPZJib0AJBO6A3vFwQLyrzxsJTHJAjknQkdPBc0AG/1Q6clV1QFBAunVGCXdAr89ZReLfeEA38PssDNx6QHKwj2PDAH1AxN59WURRf0C/u7XNhuiAQK/1ZYzyQYJAWicd6+62g0DTnBkKr0mFQCRrvPmS/IZApSmUUCvSiEDCZ6oKPc2KQA2F7LfF8IxAAAAAAABAj0A=",
          "dtype": "f8"
         },
         "y": {
          "bdata": "m809MDtGZj6/N+U884dnPpL1t0Bq3mg+I9p5w95Paj7Mc/KcAcZrPrUge6a0V20+9H2Jvj4Bbz6MYHU05GBwPhna5KFLTXE+Rc5c9/JQcj4Mc4gC5FpzPt5QI7/Ld3Q+OUhwsFymdT50urKAj+l2PuJC4c+yP3g+/XsWf46weT49PYVNizp7PtG8+dg04nw+jmnj0Nu2fj6/k+WFaFuAPng82cgFc4E+8V6a6zaogj48Fk6b9geEPhr+Wz+gkoU+yxuv6Ltchz6yRYEbtnKJPpIJXXXK5Is+ODgrd4nIjj734QfiNyCRPuqHo03CMpM+jk9JEheqlT5Vo8ppsJuYPlSAWbrQBZw+BP74VOPhnz45GiwFdQKiPv/k1rRvK6Q+51GcpyVQpj7H7wgy42aoPp7jlw76Yqo+gOV8xh9DrD5sZzz0SgiuPsPx0k4dua8+mz4iecmtsD5kr1ZtIH2xPtUxExzRSbI+MZGva4IVsz4tkBQ+reGzPppNxumSrrQ+K9VgL798tT5GBkFJp0y2PlxqsLVRHLc+/N+wNX/ttz7Lrr7xFr64PlEGxgjOjLk+AsPxoZlauj7VW+hUeye7Pjr2fZRO8Ls+S1pYa5C2vD428xm9fHq9PsQmSyB9Or4+VIDsIFb1vj6cLcVpj6q/PtwNxIGBLMA+Q7GZpgaBwD7VX7xLXNDAPr89kP7ZHME+6YO+01FkwT5AbJQnA6nBPs92RP6o58E+LamMfSAhwj5kfN6crlbCPj3DsdVficI+J4QeAZC3wj7cE4Q3deLCPths6Cu4CMM+c3ejIzIrwz5EXknyQkzDPj1IrNMXaMM+fmCGwhp+wz6DQH/cM5DDPvpfsEYZmsM+9FCO4CKawz7NGlYJ4I7DPnwoNJvFdsM+7Qz6Pd1Pwz43fFEWVRfDPuu7svMjysI+MHxiy5towj7MbQdRuu/BPqWg/vwyX8E+b2E55LK3wD4T24j2Pve/PpnlphjVUb4+lckISeWOvD6QgImWSqu6PnQOh0K0qbg+rwMlB8iRtj6ROSBlU3K0PsgpietCT7I+AFpuoFExsD4=",
          "dtype": "f8"
         }
        },
        {
         "fill": "tonexty",
         "fillcolor": "rgba(239, 85, 59, 0.500000)",
         "line": {
          "color": "rgba(0,0,0,0)"
         },
         "mode": "lines",
         "name": "(cpl+csbpl) CI",
         "showlegend": true,
         "type": "scatter",
         "x": {
          "bdata": "AAAAAAAA4D+pn9Rx3UbhP3ezgG/Qp+I/p68I2e0k5D+KiJQUdcDlPypRKXPTfOc/Whe22qdc6T+mPPy6xmLrP06QTFM+ku0/13eMT1vu7z8xHb3hVj3xP8nm2kWHnfI/JpRWjtIZ9D8EhBjkdrT1P4EdlUHgb/c/n3nUGqxO+T/TQyxQrVP7P4vKoXHwgf0/3P5jWcDc/z8rUCiS1TMBQCjnAshDkwJASERNY70OBEA0G19Qf6gFQP4G2TP0YgdAQh6oELhACUA2j5I4nEQLQETzP42rcQ1Ay4wpGC/LD0CV6zCAWSoRQH8/2PIFiRJAXGqMVK4DFEDZ/sJVjpwVQLtDBUYPVhdALs/wt8syGUCbEZhvkzUbQBA4MqFvYR1AZA6Dhqe5H0AgO/Oo4iAhQAI0PMPNfiJAPo21XqX4I0BO4qDwo5AlQIA1LHQxSSdAVa5wDOckKUCvRajwkiYrQByChqg8US1A0GMZnymoL0BYIo0JcRcxQFzBETabdDJAVQ9sfqLtM0BhelcdwIQ1QIJoYrpaPDdAVzTsCQoXOUCZLDG3mhc7QKV0TZ4SQT1A/F6YXLWWP0C+Gx6fBA5BQJSbPUhuakJAgC1VsKXiQ0BHfEfY4nhFQDySvhSLL0dAOy8qrDQJSUCSTKO+qghLQHZrmn3xME1A+sGuuUqFT0DnN8dmnQRRQDctpvZGYFJAIf4X8a7XU0BsnNMdDG1VQDuQWX/CIldALcHz7mb7WECKr3ECw/laQG15g0HZIF1AZj0OselzX0CiHKtdO/tgQGGWMz4lVmJAC3BdPb7MY0BujWDqO2FlQN9mTvYAFmdAIF8UzqDtaECv4RF+4+pqQOdmIeXJEG1AtG5rPZJib0AJBO6A3vFwQLyrzxsJTHJAjknQkdPBc0AG/1Q6clV1QFBAunVGCXdAr89ZReLfeEA38PssDNx6QHKwj2PDAH1AxN59WURRf0C/u7XNhuiAQK/1ZYzyQYJAWicd6+62g0DTnBkKr0mFQCRrvPmS/IZApSmUUCvSiEDCZ6oKPc2KQA2F7LfF8IxAAAAAAABAj0A=",
          "dtype": "f8"
         },
         "y": {
          "bdata": "2lN07fSYaj4xl7rAIAlsPqYo1EZnh20+LBDR5x8dbz7ZkEZw0WNwPvO5V60CQXE+WX5X7A4qcj5uYTszSCJzPrBvoZlQLXQ+EDuSADxJdT6h2ANf7G92PqFa0uEWpnc+MVM5ggj1eD5rxbGz51d6Pgli8dQM2ns+4VM5QHpqfT7ELREEdSB/PsWg72iZgIA+WYwJTHeAgT7Vv3NhtJaCPlykqA9Ex4M+DlOlS30XhT4xHRDw546GPkBPvwvFL4g+7tXTe4UOij73njS8JzWMPkrs2nTTr44+iwDIvBnLkD5sKEJGz4CSPt4jzJiLh5Q+uEKSGRXslj4hvBseocaZPtSYgb9+Gp0+CXnXgoh1oD7iJwGHgZSiPjhXBUOj06Q+ml5MkkYTpz7clgmvlUKpPvZWRlG2Tqs+WXzTRxY2rT6vvDRLb/quPmSqcqgFVLA+NJpsy/IhsT6qH78kgeqxPp1V1cIKsbI+qClkOG92sz6OooH+7ju0PiUZtTJvA7U+FisFwo7NtT47OStRy5q2Pm4hYeuparc+6p2gmzs9uD5cW6l8cRC5Pp6KeBgv5Lk+QzzbQ4+4uj6rzW77bou7PiEO7ZcIXLw+GL1YCtwovT5KoAXCLfK9PpZq5cjut74+JHTArPt0vz4vA9pqpRXAPmZONxaybsA+4tfCt4LCwD4+zMPoChPBPlBOyy8KX8E+EgV5z7qnwT6HhefoB+zBPudHlrazLcI+Mxvwku1swj5Rp5MCc6jCPvLxcl5q4sI+ql8ROvIXwz79g9CkV0nDPpPJu7tddsM+VXKxuFOgwz7ZS2qU28bDPulME3/P5sM+1aPuungBxD5MQfGjUxTEPif1ebDnHsQ+9pSUBKQdxD5q+yR2tw/EPpPSn/1D9MM+gjmbMuTKwz72ybjPLZLDPgONKm0JR8M+QCFh/T3nwj7GdWeFbHLCPrL8HzQL6sE+HlKGZqNPwT5E6jvtdqHAPmWC+JdnuL8+LYjWE5YQvj5bAn+OFkC8PuW3zbD8Vro+US/Koh9RuD5i3mGh+j22Pk4mAKc8IrQ+74bmZIH/sT4=",
          "dtype": "f8"
         }
        },
        {
         "line": {
          "color": "#00CC96",
          "width": 2
         },
         "mode": "lines",
         "name": "cpl",
         "showlegend": true,
         "type": "scatter",
         "x": {
          "bdata": "AAAAAAAA4D+pn9Rx3UbhP3ezgG/Qp+I/p68I2e0k5D+KiJQUdcDlPypRKXPTfOc/Whe22qdc6T+mPPy6xmLrP06QTFM+ku0/13eMT1vu7z8xHb3hVj3xP8nm2kWHnfI/JpRWjtIZ9D8EhBjkdrT1P4EdlUHgb/c/n3nUGqxO+T/TQyxQrVP7P4vKoXHwgf0/3P5jWcDc/z8rUCiS1TMBQCjnAshDkwJASERNY70OBEA0G19Qf6gFQP4G2TP0YgdAQh6oELhACUA2j5I4nEQLQETzP42rcQ1Ay4wpGC/LD0CV6zCAWSoRQH8/2PIFiRJAXGqMVK4DFEDZ/sJVjpwVQLtDBUYPVhdALs/wt8syGUCbEZhvkzUbQBA4MqFvYR1AZA6Dhqe5H0AgO/Oo4iAhQAI0PMPNfiJAPo21XqX4I0BO4qDwo5AlQIA1LHQxSSdAVa5wDOckKUCvRajwkiYrQByChqg8US1A0GMZnymoL0BYIo0JcRcxQFzBETabdDJAVQ9sfqLtM0BhelcdwIQ1QIJoYrpaPDdAVzTsCQoXOUCZLDG3mhc7QKV0TZ4SQT1A/F6YXLWWP0C+Gx6fBA5BQJSbPUhuakJAgC1VsKXiQ0BHfEfY4nhFQDySvhSLL0dAOy8qrDQJSUCSTKO+qghLQHZrmn3xME1A+sGuuUqFT0DnN8dmnQRRQDctpvZGYFJAIf4X8a7XU0BsnNMdDG1VQDuQWX/CIldALcHz7mb7WECKr3ECw/laQG15g0HZIF1AZj0OselzX0CiHKtdO/tgQGGWMz4lVmJAC3BdPb7MY0BujWDqO2FlQN9mTvYAFmdAIF8UzqDtaECv4RF+4+pqQOdmIeXJEG1AtG5rPZJib0AJBO6A3vFwQLyrzxsJTHJAjknQkdPBc0AG/1Q6clV1QFBAunVGCXdAr89ZReLfeEA38PssDNx6QHKwj2PDAH1AxN59WURRf0C/u7XNhuiAQK/1ZYzyQYJAWicd6+62g0DTnBkKr0mFQCRrvPmS/IZApSmUUCvSiEDCZ6oKPc2KQA2F7LfF8IxAAAAAAABAj0A=",
          "dtype": "f8"
         },
         "y": {
          "bdata": "veeSlYFsaD5hkK8rMsxpPm/34Iw+P2s+CWiCLajGbD6k29yue2NuPnE/cINoC3A+sH7BzOXwcD7NIWQgzeJxPvBwBqC74XI+UrVWD1Tucz5a7M2yPgl1PqYCbR0pM3Y+KaaS6sVsdz52Q7FgzLZ4Ptq/RPn3EXo+sYz1yQd/ez5sf1rKvf58Pt9aRPHdkX4+q6v2kZYcgD50Y2b4t/qAPgMcloe044E+Ier4zevXgj4rzLKFuteDPofjg2N544Q+hZ/xtnv7hT4AHpLWDSCHPtO4FVNzUYg+1Dlw6+SPiT7/3Vw8jtuKPjsSbiWLNIw+iF313eSajT7vAl20jg6PPmPVjDmxR5A+OMubM44OkT7mD+SCq9uRPtoamBfDrpI+nXXUCHmHkz5HZ6LXWGWUPsaHz4fSR5U+ywAPlTculj5EzsXNtxeXPjPxaiBeA5g+aGCWbA3wmD5XVcFtfdyZPpBxXts3x5o+u4JN4JWumz6WQLYSvpCcPv0A5xyja50+WSC5TwM9nj5w5OBeaQKfPiM6+o4uuZ8+byu6UT8voD75EHDvrnegPjwnx7RYtKA+zRjMN6XjoD5TanUf+gOhPqDjCs/CE6E+krXgvXoRoT4ZAZJ5ufugPpfDFjlA0aA+8EXLyAiRoD7DcclyVTqgPuQiALmCmZ8+sse0R6GQnj6L4ZSs/lqdPlY4cl2c+ps+TUGQxJdymj59X7JbM8eYPuazu67T/ZY+3DSc7O0clT5qcoM75iuTPlksbOvcMpE+cEf+w9V0jj4PgxhUnpaKPjPc7qki3IY+D7T6UTxVgz5/Yhpdyw+APlEWhR0LLno+7yQuHtPldD444WIvy09wPiNcaAT12mg+dSA3MNByYj73g0KD1J9aPlJe6XyfolI+sVznZBo+ST4iijC46X9APgbfmZ8RwjQ+/cBD31MOKT6+jlFZvuscPnuu40ngzg8+N6+o3l6aAD6QJq29N2LwPWKQ2qlObd49CyhgH1h1yj1kea26ym61PfCm4f8QFaA9zX1iB2A4hj3u4gHSRhRsPQfb0eiGHFA9Fs+xHl2pMD0=",
          "dtype": "f8"
         }
        },
        {
         "line": {
          "color": "rgba(0,0,0,0)"
         },
         "mode": "lines",
         "name": "cpl lower",
         "showlegend": false,
         "type": "scatter",
         "x": {
          "bdata": "AAAAAAAA4D+pn9Rx3UbhP3ezgG/Qp+I/p68I2e0k5D+KiJQUdcDlPypRKXPTfOc/Whe22qdc6T+mPPy6xmLrP06QTFM+ku0/13eMT1vu7z8xHb3hVj3xP8nm2kWHnfI/JpRWjtIZ9D8EhBjkdrT1P4EdlUHgb/c/n3nUGqxO+T/TQyxQrVP7P4vKoXHwgf0/3P5jWcDc/z8rUCiS1TMBQCjnAshDkwJASERNY70OBEA0G19Qf6gFQP4G2TP0YgdAQh6oELhACUA2j5I4nEQLQETzP42rcQ1Ay4wpGC/LD0CV6zCAWSoRQH8/2PIFiRJAXGqMVK4DFEDZ/sJVjpwVQLtDBUYPVhdALs/wt8syGUCbEZhvkzUbQBA4MqFvYR1AZA6Dhqe5H0AgO/Oo4iAhQAI0PMPNfiJAPo21XqX4I0BO4qDwo5AlQIA1LHQxSSdAVa5wDOckKUCvRajwkiYrQByChqg8US1A0GMZnymoL0BYIo0JcRcxQFzBETabdDJAVQ9sfqLtM0BhelcdwIQ1QIJoYrpaPDdAVzTsCQoXOUCZLDG3mhc7QKV0TZ4SQT1A/F6YXLWWP0C+Gx6fBA5BQJSbPUhuakJAgC1VsKXiQ0BHfEfY4nhFQDySvhSLL0dAOy8qrDQJSUCSTKO+qghLQHZrmn3xME1A+sGuuUqFT0DnN8dmnQRRQDctpvZGYFJAIf4X8a7XU0BsnNMdDG1VQDuQWX/CIldALcHz7mb7WECKr3ECw/laQG15g0HZIF1AZj0OselzX0CiHKtdO/tgQGGWMz4lVmJAC3BdPb7MY0BujWDqO2FlQN9mTvYAFmdAIF8UzqDtaECv4RF+4+pqQOdmIeXJEG1AtG5rPZJib0AJBO6A3vFwQLyrzxsJTHJAjknQkdPBc0AG/1Q6clV1QFBAunVGCXdAr89ZReLfeEA38PssDNx6QHKwj2PDAH1AxN59WURRf0C/u7XNhuiAQK/1ZYzyQYJAWicd6+62g0DTnBkKr0mFQCRrvPmS/IZApSmUUCvSiEDCZ6oKPc2KQA2F7LfF8IxAAAAAAABAj0A=",
          "dtype": "f8"
         },
         "y": {
          "bdata": "t+Kg+qRAZj6D9KnHO4BnPkalh+H91Gg+iwf7S0tEaj4M3aLSb7RrPn/1Xx/EP20+LJzftKXlbj6nxvmnm05wPrhxrrQNNnE+iXVn5Wcwcj6pWtw1YjBzPpaO/yNyQnQ+zcR7iathdT5Bh6zRIYx2PgACcqc0xHc+C95Ie84ReT672M7pimV6Ph9ql1nD0ns+DyDCLDZPfT5ucj7hKt1+PhQ2/uZ9OIA+m6wsUOcPgT7V1xSW1O+BPsbc4kaS3YI+QTDQH5fWgz7UFT+X09OEPicSpFCg3IU+IWJ6Pkbshj7KicA1IQeIPmNHRC9FJ4k+bz1Opk9dij7Qz59t/p+LPvzLKST96Iw+ae3Au+I8jj5qkPROzZOPPoEh9YbvdpA+AkLTyXYnkT7CY8/0+9ORPm/l5OaZiJI+cDfYdZdAkz5h6f9AXQKUPvXifPV4t5Q+3pNzIF94lT6rUJFmOTSWPpRGAcL/7ZY+xYRH+AWmlz7Xg0IMTFaYPkqHo9vP9Jg+okPlGyqRmT7/PQdoliCaPrlKvtvAoJo+j8HpOXoQmz7JodqAdnGbPg7J+bD0vps+xVr2bxj1mz502MjTDw2cPrVllu4bEJw+ysOsCH/tmz5rqMACqqebPpK8g7U0T5s+bcw0DBjUmj7cG2QUtDOaPtAqh7oyZ5k+1tirnWd7mD6xOWg02maXPpOSOCuEOJY+8lB/ZDbplD54areQqX+TPvwggMycA5I+Dh7mrQF8kD5kFkqOoNONPrJct5L1o4o+qeet02t9hz6EkOwbh2aEPkbk7Ulbe4E+u7Zh+0N0fT6SLoCCWmR4PuJTbKZU0XM+2tjU/GSCbz6nptc/V35oPuttH105k2I+dg7jJyh3Wz7T6dyiKcVTPquYefqIlEs+dfkACTiZQj4vZv4/9EA4Pn+8yEEYdC4+CMnkMRlTIj5rpBJ9HhgVPpnzMy+vGwc+G2UhsxUD+D1IBy13spjnPZFJ5AGG09U9MCJChM/lwj3Een9FyYKuPYBk649HzpY9y+ZihJVpfz0IVgHR18RjPWdhZWLkl0Y9VyevnblBJz0=",
          "dtype": "f8"
         }
        },
        {
         "fill": "tonexty",
         "fillcolor": "rgba(0, 204, 150, 0.500000)",
         "line": {
          "color": "rgba(0,0,0,0)"
         },
         "mode": "lines",
         "name": "cpl CI",
         "showlegend": true,
         "type": "scatter",
         "x": {
          "bdata": "AAAAAAAA4D+pn9Rx3UbhP3ezgG/Qp+I/p68I2e0k5D+KiJQUdcDlPypRKXPTfOc/Whe22qdc6T+mPPy6xmLrP06QTFM+ku0/13eMT1vu7z8xHb3hVj3xP8nm2kWHnfI/JpRWjtIZ9D8EhBjkdrT1P4EdlUHgb/c/n3nUGqxO+T/TQyxQrVP7P4vKoXHwgf0/3P5jWcDc/z8rUCiS1TMBQCjnAshDkwJASERNY70OBEA0G19Qf6gFQP4G2TP0YgdAQh6oELhACUA2j5I4nEQLQETzP42rcQ1Ay4wpGC/LD0CV6zCAWSoRQH8/2PIFiRJAXGqMVK4DFEDZ/sJVjpwVQLtDBUYPVhdALs/wt8syGUCbEZhvkzUbQBA4MqFvYR1AZA6Dhqe5H0AgO/Oo4iAhQAI0PMPNfiJAPo21XqX4I0BO4qDwo5AlQIA1LHQxSSdAVa5wDOckKUCvRajwkiYrQByChqg8US1A0GMZnymoL0BYIo0JcRcxQFzBETabdDJAVQ9sfqLtM0BhelcdwIQ1QIJoYrpaPDdAVzTsCQoXOUCZLDG3mhc7QKV0TZ4SQT1A/F6YXLWWP0C+Gx6fBA5BQJSbPUhuakJAgC1VsKXiQ0BHfEfY4nhFQDySvhSLL0dAOy8qrDQJSUCSTKO+qghLQHZrmn3xME1A+sGuuUqFT0DnN8dmnQRRQDctpvZGYFJAIf4X8a7XU0BsnNMdDG1VQDuQWX/CIldALcHz7mb7WECKr3ECw/laQG15g0HZIF1AZj0OselzX0CiHKtdO/tgQGGWMz4lVmJAC3BdPb7MY0BujWDqO2FlQN9mTvYAFmdAIF8UzqDtaECv4RF+4+pqQOdmIeXJEG1AtG5rPZJib0AJBO6A3vFwQLyrzxsJTHJAjknQkdPBc0AG/1Q6clV1QFBAunVGCXdAr89ZReLfeEA38PssDNx6QHKwj2PDAH1AxN59WURRf0C/u7XNhuiAQK/1ZYzyQYJAWicd6+62g0DTnBkKr0mFQCRrvPmS/IZApSmUUCvSiEDCZ6oKPc2KQA2F7LfF8IxAAAAAAABAj0A=",
          "dtype": "f8"
         },
         "y": {
          "bdata": "iT5PmPqTaj7mCCaSuQFsPirJBE8Nfm0+A/2goVcRbz4J1pIA5FpwPrPnQzPrNXE+7v3lkSIccj7QmXI0vg9zPh40YtKkFnQ+pMBJ024qdT5wFFyTnkZ2PpUP9W10c3c++jJkVsOxeD55VtWSkQN6Pk68jtEjYns+8izFUPTTfD6uAgJRvmZ+PmkyVlrzAYA+YWJtCv3bgD7l/oVKtL+BPh5VeCjgroI+v7fX8Eumgz5c9gBbYLGEPsLz/XIbxIU+GSWRjMHmhj7EsbfSKBiIPpToAMIoWIk+huJ1k7Ccij5knHdy2veLPi3S5HwdXY0+t8yRypfQjj6m45CFyy2QPkzijiBW+JA+MwBbPdrJkT71bm/FLaGSPol4nWg+fZM+wIjnDFRilD40KwlKQFGVPrAeCSulP5Y+AMVcUu8zlz46hNUSFC+YPrIvbn05Jpk+iYRcblEkmj4uH8wdSR6bPkjR5OHpE5w+v8WmqWMMnT7funNjBgeePh8o4K9j+J4+MpLFEZ3Wnz5cWX4WQlegPhc99krquqA+lD5iUvUUoT51AwuqkWihPhirsExaq6E+yRaWgDPioT5gZ8L9QQmiPsq7N16CHqI++QZYn9Yloj4FxlKadBaiPmw+vOHx76E+/6uLCIuyoT4Szx0SD16hPlBAEmWd7KA+78lY+4FloD7PIXOs/ISfPqJLPttrGZ4+LCRJZtZ5nD5T6jaq4LaaPqnHEaGqzZg+uGYuFfTOlj4EvUEcMbuUPl+/GAk7oZI+evU196KEkD6PNG3YdNyMPmMHO8mC14g+du0omQ8KhT6fVD/GdIOBPs0m4vzbkHw+bPvwF/rWdj4E/aiADNpxPg1N/CbnP2s+Sv5/mSpBZD5rM3QvgkddPlj/1mk9iFQ+MN5sGoPhSz7+VTVWeURCPjbXDeIOAjc+fnFjvaDOKz5FUsDD9Q8gPgmSqFamshE+L12Jm5iBAj5txrZqnUvyPVMND92vBOE9gQ89ma2ezT3pCpMNPwW4PSfj3jrQDaI9BvPC//n8iD2z4eaY25pvPZrBDNycKlI9JaUOsbnSMj0=",
          "dtype": "f8"
         }
        },
        {
         "line": {
          "color": "#AB63FA",
          "width": 2
         },
         "mode": "lines",
         "name": "csbpl",
         "showlegend": true,
         "type": "scatter",
         "x": {
          "bdata": "AAAAAAAA4D+pn9Rx3UbhP3ezgG/Qp+I/p68I2e0k5D+KiJQUdcDlPypRKXPTfOc/Whe22qdc6T+mPPy6xmLrP06QTFM+ku0/13eMT1vu7z8xHb3hVj3xP8nm2kWHnfI/JpRWjtIZ9D8EhBjkdrT1P4EdlUHgb/c/n3nUGqxO+T/TQyxQrVP7P4vKoXHwgf0/3P5jWcDc/z8rUCiS1TMBQCjnAshDkwJASERNY70OBEA0G19Qf6gFQP4G2TP0YgdAQh6oELhACUA2j5I4nEQLQETzP42rcQ1Ay4wpGC/LD0CV6zCAWSoRQH8/2PIFiRJAXGqMVK4DFEDZ/sJVjpwVQLtDBUYPVhdALs/wt8syGUCbEZhvkzUbQBA4MqFvYR1AZA6Dhqe5H0AgO/Oo4iAhQAI0PMPNfiJAPo21XqX4I0BO4qDwo5AlQIA1LHQxSSdAVa5wDOckKUCvRajwkiYrQByChqg8US1A0GMZnymoL0BYIo0JcRcxQFzBETabdDJAVQ9sfqLtM0BhelcdwIQ1QIJoYrpaPDdAVzTsCQoXOUCZLDG3mhc7QKV0TZ4SQT1A/F6YXLWWP0C+Gx6fBA5BQJSbPUhuakJAgC1VsKXiQ0BHfEfY4nhFQDySvhSLL0dAOy8qrDQJSUCSTKO+qghLQHZrmn3xME1A+sGuuUqFT0DnN8dmnQRRQDctpvZGYFJAIf4X8a7XU0BsnNMdDG1VQDuQWX/CIldALcHz7mb7WECKr3ECw/laQG15g0HZIF1AZj0OselzX0CiHKtdO/tgQGGWMz4lVmJAC3BdPb7MY0BujWDqO2FlQN9mTvYAFmdAIF8UzqDtaECv4RF+4+pqQOdmIeXJEG1AtG5rPZJib0AJBO6A3vFwQLyrzxsJTHJAjknQkdPBc0AG/1Q6clV1QFBAunVGCXdAr89ZReLfeEA38PssDNx6QHKwj2PDAH1AxN59WURRf0C/u7XNhuiAQK/1ZYzyQYJAWicd6+62g0DTnBkKr0mFQCRrvPmS/IZApSmUUCvSiEDCZ6oKPc2KQA2F7LfF8IxAAAAAAABAj0A=",
          "dtype": "f8"
         },
         "y": {
          "bdata": "DOhznaEixT3IGr6pCabLPW/B3x2dFdI9pfKyWz6o1z02V5K7bfLePdrjFzTJPeQ9CbEXNmN66j3EQtw0a1HxPXqt7bBOp/Y9l9bbjeqh/T1N69eHZWEDPvFRDpytWQk+N3KHyEmUED7FQnhWeK8VPgQrnkEUXRw+51vd2nSMIj5WtgH0ZEIoPgwzqVsVui8+W8zo2dG+ND432BIYsSA7PkozCqAivEE+3SmhBmQvRz6ZLkWFuU1OPlkly5EgzFM+hHsu28TaWT6jNZxEtN5gPnsQk/R3/WU+D46sdGidbD48xrVxq5FyPgXMarJSAXg+HwiKeBTafj784j9Gh6iDPoHhe9Z8wYg+lcfQuuWujj6liHKvhqOSPunsTnALIJY+OZl8W/mfmT7GZ08cSfucPu6ZrE/RDKA+rfalD3Z6oT4yyh6DVcqiPmAag7mKA6Q+IBYOBM4tpT7x5U7n+0+mPonWgFiUb6c+oKiiRsCQqD7M4+1Zi7apPgQrrasm46o+U3nQ2SIYrD5UP+7enFatPqNrIHlen64+50tRjfTyrz7qBucE36iwPr6rXK76XbE+UvjuB9sYsj6BvfPUf9myPru74U7bn7M+wJ3X6NFrtD7supyNOT21PsWcqHfYE7Y+BdWzuGPvtj6Ewt1/fc+3Pov8hSmzs7g+nejfIXubuT5b5YqiMoa6PuVoy1Mbc7s+CJQw21hhvD5WpmBj7k+9PkVpZCu8Pb4+mAgML30pvz7VwPN+4gjAPpenYO1+esA+YPBCobPowD6/7Xd/ilLBPuvDhnf3tsE+DdPF2tgUwj4l5y1B+GrCPs8yMhkMuMI+EiT1Abr6wj6+VlQQmjHDPk3OIR87W8M+SNT6SCh2wz49ifel74DDPvZjTWAqesM+GElQKIZgwz7P/2UB0DLDPoaB/E0A8MI+zkQW6EeXwj4LBI72HSjCPhT8Tw1OosE+zQ6dAQYGwT6Epf+04lPAPjSD2en1Gb8+2zBt3M5lvT4QYEk/jY+7Pvw/hmh3nLk+AWqGhc6Stz4RGJdDsnm1Pp1qVKz1WLM+s38+M+U4sT4=",
          "dtype": "f8"
         }
        },
        {
         "line": {
          "color": "rgba(0,0,0,0)"
         },
         "mode": "lines",
         "name": "csbpl lower",
         "showlegend": false,
         "type": "scatter",
         "x": {
          "bdata": "AAAAAAAA4D+pn9Rx3UbhP3ezgG/Qp+I/p68I2e0k5D+KiJQUdcDlPypRKXPTfOc/Whe22qdc6T+mPPy6xmLrP06QTFM+ku0/13eMT1vu7z8xHb3hVj3xP8nm2kWHnfI/JpRWjtIZ9D8EhBjkdrT1P4EdlUHgb/c/n3nUGqxO+T/TQyxQrVP7P4vKoXHwgf0/3P5jWcDc/z8rUCiS1TMBQCjnAshDkwJASERNY70OBEA0G19Qf6gFQP4G2TP0YgdAQh6oELhACUA2j5I4nEQLQETzP42rcQ1Ay4wpGC/LD0CV6zCAWSoRQH8/2PIFiRJAXGqMVK4DFEDZ/sJVjpwVQLtDBUYPVhdALs/wt8syGUCbEZhvkzUbQBA4MqFvYR1AZA6Dhqe5H0AgO/Oo4iAhQAI0PMPNfiJAPo21XqX4I0BO4qDwo5AlQIA1LHQxSSdAVa5wDOckKUCvRajwkiYrQByChqg8US1A0GMZnymoL0BYIo0JcRcxQFzBETabdDJAVQ9sfqLtM0BhelcdwIQ1QIJoYrpaPDdAVzTsCQoXOUCZLDG3mhc7QKV0TZ4SQT1A/F6YXLWWP0C+Gx6fBA5BQJSbPUhuakJAgC1VsKXiQ0BHfEfY4nhFQDySvhSLL0dAOy8qrDQJSUCSTKO+qghLQHZrmn3xME1A+sGuuUqFT0DnN8dmnQRRQDctpvZGYFJAIf4X8a7XU0BsnNMdDG1VQDuQWX/CIldALcHz7mb7WECKr3ECw/laQG15g0HZIF1AZj0OselzX0CiHKtdO/tgQGGWMz4lVmJAC3BdPb7MY0BujWDqO2FlQN9mTvYAFmdAIF8UzqDtaECv4RF+4+pqQOdmIeXJEG1AtG5rPZJib0AJBO6A3vFwQLyrzxsJTHJAjknQkdPBc0AG/1Q6clV1QFBAunVGCXdAr89ZReLfeEA38PssDNx6QHKwj2PDAH1AxN59WURRf0C/u7XNhuiAQK/1ZYzyQYJAWicd6+62g0DTnBkKr0mFQCRrvPmS/IZApSmUUCvSiEDCZ6oKPc2KQA2F7LfF8IxAAAAAAABAj0A=",
          "dtype": "f8"
         },
         "y": {
          "bdata": "+5HFCS1LxD1FbLBQK4zKPZRv5go8XdE9tDqu4gG31j0GBwUAzbbdPQ2X5AJOb+M9cp26rDps6T0ql0perqDwPYk7juYPwPU9RHd9qllz/D3MDSgEdJsCPtClOyeuVgg+86jKR7DVDz4Q1YPWwdEUPumPVkT4Ohs+RHfUoKbOIT6iwzwRB0onPgtaV+MUdS4+cJ3RkCzqMz56xbEqbAo6PuKyK24PBkE+UImROR9BRj5AVxbL7BVNPmsHrAkhAFM+j8eanN/PWD7irwGGLTBgPosqGe1gGWU+kp0J4KRzaz5fBrUFr89xPrsFynySBnc+JtjlABOYfT4pq81w49mCPqgAqs7nu4c+xwWTXXdqjT6uTMQ8st+RPil+cZxVOpU+pzrqK+uZmD7Y1T2jpdubPpm1zngi5Z4+Ur+wOLLVoD7BqQf/tR+iPskRLovdUaM+Rwkhrad4pD49N4qC2JelPgD8GJMAsaY+/pHnQa3Opz4CrLfSbvKoPsEVi/EZHKo+2ifHVBJOqz7HAdaxc4esPjkjNlDDzq0+p27+nZYirz6bb1nB/D6wPkU2V9U187A+Lod1FN2tsT4E2gFygW+yPhaE7TB5NrM+9qO5J8sDtD5KYLR/ctS0PsfsafTpqrU+4kdHROCEtj5plfAQ4GO3PkBVs9bXSLg+US0shu4xuT6fINvlzR26PseVl+4lDbs+3TWkgun+uz5JKTIi7e68PvtjflhY3b0+vddahtvJvj6MMwr42bK/Pv3g9CXBSsA+W/iXmsK6wD6afEGtVyXBPs+ic9kWi8E+5LNnr0HqwT6c4g4VHEHCPnlPdMQIkMI+ixMW75nQwj5Mij9b0wjDPi8vp4hlM8M+Ye0PjZ5Owz6zubtiuFnDPvpO4HokUcM+JoU4xj82wz6n0rBVbQfDPqv+FxjKwMI+dCwouBxiwj7xdCYkaezBPnftZWN2XcE+zvrEN9a2wD7/2zU4Sva/PqIS/0eFUb4+yQH4AK6OvD4tWPtDOau6Pkme3Fauqbg+kQfTi8WRtj4Aa52LUnK0Pg4FHKtCT7I+scRQk1ExsD4=",
          "dtype": "f8"
         }
        },
        {
         "fill": "tonexty",
         "fillcolor": "rgba(171, 99, 250, 0.500000)",
         "line": {
          "color": "rgba(0,0,0,0)"
         },
         "mode": "lines",
         "name": "csbpl CI",
         "showlegend": true,
         "type": "scatter",
         "x": {
          "bdata": "AAAAAAAA4D+pn9Rx3UbhP3ezgG/Qp+I/p68I2e0k5D+KiJQUdcDlPypRKXPTfOc/Whe22qdc6T+mPPy6xmLrP06QTFM+ku0/13eMT1vu7z8xHb3hVj3xP8nm2kWHnfI/JpRWjtIZ9D8EhBjkdrT1P4EdlUHgb/c/n3nUGqxO+T/TQyxQrVP7P4vKoXHwgf0/3P5jWcDc/z8rUCiS1TMBQCjnAshDkwJASERNY70OBEA0G19Qf6gFQP4G2TP0YgdAQh6oELhACUA2j5I4nEQLQETzP42rcQ1Ay4wpGC/LD0CV6zCAWSoRQH8/2PIFiRJAXGqMVK4DFEDZ/sJVjpwVQLtDBUYPVhdALs/wt8syGUCbEZhvkzUbQBA4MqFvYR1AZA6Dhqe5H0AgO/Oo4iAhQAI0PMPNfiJAPo21XqX4I0BO4qDwo5AlQIA1LHQxSSdAVa5wDOckKUCvRajwkiYrQByChqg8US1A0GMZnymoL0BYIo0JcRcxQFzBETabdDJAVQ9sfqLtM0BhelcdwIQ1QIJoYrpaPDdAVzTsCQoXOUCZLDG3mhc7QKV0TZ4SQT1A/F6YXLWWP0C+Gx6fBA5BQJSbPUhuakJAgC1VsKXiQ0BHfEfY4nhFQDySvhSLL0dAOy8qrDQJSUCSTKO+qghLQHZrmn3xME1A+sGuuUqFT0DnN8dmnQRRQDctpvZGYFJAIf4X8a7XU0BsnNMdDG1VQDuQWX/CIldALcHz7mb7WECKr3ECw/laQG15g0HZIF1AZj0OselzX0CiHKtdO/tgQGGWMz4lVmJAC3BdPb7MY0BujWDqO2FlQN9mTvYAFmdAIF8UzqDtaECv4RF+4+pqQOdmIeXJEG1AtG5rPZJib0AJBO6A3vFwQLyrzxsJTHJAjknQkdPBc0AG/1Q6clV1QFBAunVGCXdAr89ZReLfeEA38PssDNx6QHKwj2PDAH1AxN59WURRf0C/u7XNhuiAQK/1ZYzyQYJAWicd6+62g0DTnBkKr0mFQCRrvPmS/IZApSmUUCvSiEDCZ6oKPc2KQA2F7LfF8IxAAAAAAABAj0A=",
          "dtype": "f8"
         },
         "y": {
          "bdata": "Wh1R4b6nxz3Xi/Ft/PHOPSIH8O+kPdQ9yrVfZml62j1hXmlPlVHhPeQ+LOO7p+Y97cwTlcai7T39me+1LGLzPZjhO8QBW/k9b/pEDmKVAD5goXLKO7EFPtJB6yLhXww+2TM4l6mOEj7Fk8Cb3EUYPsheGmaMvx8+zNpJ9CjDJD6Pa9OMrCcrPkxega/ZwTE+DelVJvM4Nz4qJG6aG14+Pm+xHvuH2kM+xL63V730ST63hbkZqPZQPhZObV2BKlY+JZCAe1XzXD76gK0qauRiPjgkAG5QoWg+kIeDJ0sHcD7jQ0yCt850PtphidQ86Ho+T4nImfBLgT7IO6p0mAyGPmY/dI+FxYs+rpHcX7Q1kT5VSoOvVuaUPuJpvkFiyJg+Z1gRIVGnnD5O472TSCygPo8OKWlu3qE+eyy5Altqoz5mUfQxTNKkPn6Ht+ndIKY+ZUJfceZdpz4o+YOFh46oPkoDcnWzuqk+P9nUyqnnqj6LkDQyYBusPpWBaWfmUq0+CFrivGSVrj4Bw4xrWuGvPtdGQAEdm7A+8ORUQHBIsT6grHZXEPyxPnJPvC6BtrI+q0qzhGZ2sz5ofY1dYjy0PjGXPUzkB7U+aIFpGtXUtT6QOFPqV6u2Pm5eOutWhrc+MHgNfyZkuD7QgzooUUW5PnguIRadK7o+uWrX6UUUuz41PAAp+f27PvGWqrcK6Lw+mv3XyQ7XvT7Q8I0L4b6+Pnnjz4xrp78+nJz2SylIwD5cdCpeE7jAPhlUsbutJcE+YQGrVx6NwT7c83WZXPDBPqnJHtr5UMI+ye8UpGupwj4X/hl/4PrCPoZNLB9MQsM+ZXc3OxV9wz6QOeyGTKzDPhgka11Ez8M+6eYWERDhwz5sC+Urt+PDPv7wNK6618M+yQUgJX+2wz6Y3yC+VYTDPutRDu5oPsM+4voTsw/iwj6YQukVh2/CPkBBrlYh6ME+Hgr9uohOwT503Lyj7aDAPra+Mc3Zt78+y2UUYmgQvj7VFEzV/z+8PpcxYPv1Vro+n3NLWxxRuD78ZOus+T22PnVp+2k8IrQ+qdBwV4H/sT4=",
          "dtype": "f8"
         }
        }
       ],
       "layout": {
        "height": 600,
        "legend": {
         "x": 1,
         "xanchor": "right",
         "y": 1,
         "yanchor": "bottom"
        },
        "template": {
         "data": {
          "bar": [
           {
            "error_x": {
             "color": "#2a3f5f"
            },
            "error_y": {
             "color": "#2a3f5f"
            },
            "marker": {
             "line": {
              "color": "white",
              "width": 0.5
             },
             "pattern": {
              "fillmode": "overlay",
              "size": 10,
              "solidity": 0.2
             }
            },
            "type": "bar"
           }
          ],
          "barpolar": [
           {
            "marker": {
             "line": {
              "color": "white",
              "width": 0.5
             },
             "pattern": {
              "fillmode": "overlay",
              "size": 10,
              "solidity": 0.2
             }
            },
            "type": "barpolar"
           }
          ],
          "carpet": [
           {
            "aaxis": {
             "endlinecolor": "#2a3f5f",
             "gridcolor": "#C8D4E3",
             "linecolor": "#C8D4E3",
             "minorgridcolor": "#C8D4E3",
             "startlinecolor": "#2a3f5f"
            },
            "baxis": {
             "endlinecolor": "#2a3f5f",
             "gridcolor": "#C8D4E3",
             "linecolor": "#C8D4E3",
             "minorgridcolor": "#C8D4E3",
             "startlinecolor": "#2a3f5f"
            },
            "type": "carpet"
           }
          ],
          "choropleth": [
           {
            "colorbar": {
             "outlinewidth": 0,
             "ticks": ""
            },
            "type": "choropleth"
           }
          ],
          "contour": [
           {
            "colorbar": {
             "outlinewidth": 0,
             "ticks": ""
            },
            "colorscale": [
             [
              0,
              "#0d0887"
             ],
             [
              0.1111111111111111,
              "#46039f"
             ],
             [
              0.2222222222222222,
              "#7201a8"
             ],
             [
              0.3333333333333333,
              "#9c179e"
             ],
             [
              0.4444444444444444,
              "#bd3786"
             ],
             [
              0.5555555555555556,
              "#d8576b"
             ],
             [
              0.6666666666666666,
              "#ed7953"
             ],
             [
              0.7777777777777778,
              "#fb9f3a"
             ],
             [
              0.8888888888888888,
              "#fdca26"
             ],
             [
              1,
              "#f0f921"
             ]
            ],
            "type": "contour"
           }
          ],
          "contourcarpet": [
           {
            "colorbar": {
             "outlinewidth": 0,
             "ticks": ""
            },
            "type": "contourcarpet"
           }
          ],
          "heatmap": [
           {
            "colorbar": {
             "outlinewidth": 0,
             "ticks": ""
            },
            "colorscale": [
             [
              0,
              "#0d0887"
             ],
             [
              0.1111111111111111,
              "#46039f"
             ],
             [
              0.2222222222222222,
              "#7201a8"
             ],
             [
              0.3333333333333333,
              "#9c179e"
             ],
             [
              0.4444444444444444,
              "#bd3786"
             ],
             [
              0.5555555555555556,
              "#d8576b"
             ],
             [
              0.6666666666666666,
              "#ed7953"
             ],
             [
              0.7777777777777778,
              "#fb9f3a"
             ],
             [
              0.8888888888888888,
              "#fdca26"
             ],
             [
              1,
              "#f0f921"
             ]
            ],
            "type": "heatmap"
           }
          ],
          "histogram": [
           {
            "marker": {
             "pattern": {
              "fillmode": "overlay",
              "size": 10,
              "solidity": 0.2
             }
            },
            "type": "histogram"
           }
          ],
          "histogram2d": [
           {
            "colorbar": {
             "outlinewidth": 0,
             "ticks": ""
            },
            "colorscale": [
             [
              0,
              "#0d0887"
             ],
             [
              0.1111111111111111,
              "#46039f"
             ],
             [
              0.2222222222222222,
              "#7201a8"
             ],
             [
              0.3333333333333333,
              "#9c179e"
             ],
             [
              0.4444444444444444,
              "#bd3786"
             ],
             [
              0.5555555555555556,
              "#d8576b"
             ],
             [
              0.6666666666666666,
              "#ed7953"
             ],
             [
              0.7777777777777778,
              "#fb9f3a"
             ],
             [
              0.8888888888888888,
              "#fdca26"
             ],
             [
              1,
              "#f0f921"
             ]
            ],
            "type": "histogram2d"
           }
          ],
          "histogram2dcontour": [
           {
            "colorbar": {
             "outlinewidth": 0,
             "ticks": ""
            },
            "colorscale": [
             [
              0,
              "#0d0887"
             ],
             [
              0.1111111111111111,
              "#46039f"
             ],
             [
              0.2222222222222222,
              "#7201a8"
             ],
             [
              0.3333333333333333,
              "#9c179e"
             ],
             [
              0.4444444444444444,
              "#bd3786"
             ],
             [
              0.5555555555555556,
              "#d8576b"
             ],
             [
              0.6666666666666666,
              "#ed7953"
             ],
             [
              0.7777777777777778,
              "#fb9f3a"
             ],
             [
              0.8888888888888888,
              "#fdca26"
             ],
             [
              1,
              "#f0f921"
             ]
            ],
            "type": "histogram2dcontour"
           }
          ],
          "mesh3d": [
           {
            "colorbar": {
             "outlinewidth": 0,
             "ticks": ""
            },
            "type": "mesh3d"
           }
          ],
          "parcoords": [
           {
            "line": {
             "colorbar": {
              "outlinewidth": 0,
              "ticks": ""
             }
            },
            "type": "parcoords"
           }
          ],
          "pie": [
           {
            "automargin": true,
            "type": "pie"
           }
          ],
          "scatter": [
           {
            "fillpattern": {
             "fillmode": "overlay",
             "size": 10,
             "solidity": 0.2
            },
            "type": "scatter"
           }
          ],
          "scatter3d": [
           {
            "line": {
             "colorbar": {
              "outlinewidth": 0,
              "ticks": ""
             }
            },
            "marker": {
             "colorbar": {
              "outlinewidth": 0,
              "ticks": ""
             }
            },
            "type": "scatter3d"
           }
          ],
          "scattercarpet": [
           {
            "marker": {
             "colorbar": {
              "outlinewidth": 0,
              "ticks": ""
             }
            },
            "type": "scattercarpet"
           }
          ],
          "scattergeo": [
           {
            "marker": {
             "colorbar": {
              "outlinewidth": 0,
              "ticks": ""
             }
            },
            "type": "scattergeo"
           }
          ],
          "scattergl": [
           {
            "marker": {
             "colorbar": {
              "outlinewidth": 0,
              "ticks": ""
             }
            },
            "type": "scattergl"
           }
          ],
          "scattermap": [
           {
            "marker": {
             "colorbar": {
              "outlinewidth": 0,
              "ticks": ""
             }
            },
            "type": "scattermap"
           }
          ],
          "scattermapbox": [
           {
            "marker": {
             "colorbar": {
              "outlinewidth": 0,
              "ticks": ""
             }
            },
            "type": "scattermapbox"
           }
          ],
          "scatterpolar": [
           {
            "marker": {
             "colorbar": {
              "outlinewidth": 0,
              "ticks": ""
             }
            },
            "type": "scatterpolar"
           }
          ],
          "scatterpolargl": [
           {
            "marker": {
             "colorbar": {
              "outlinewidth": 0,
              "ticks": ""
             }
            },
            "type": "scatterpolargl"
           }
          ],
          "scatterternary": [
           {
            "marker": {
             "colorbar": {
              "outlinewidth": 0,
              "ticks": ""
             }
            },
            "type": "scatterternary"
           }
          ],
          "surface": [
           {
            "colorbar": {
             "outlinewidth": 0,
             "ticks": ""
            },
            "colorscale": [
             [
              0,
              "#0d0887"
             ],
             [
              0.1111111111111111,
              "#46039f"
             ],
             [
              0.2222222222222222,
              "#7201a8"
             ],
             [
              0.3333333333333333,
              "#9c179e"
             ],
             [
              0.4444444444444444,
              "#bd3786"
             ],
             [
              0.5555555555555556,
              "#d8576b"
             ],
             [
              0.6666666666666666,
              "#ed7953"
             ],
             [
              0.7777777777777778,
              "#fb9f3a"
             ],
             [
              0.8888888888888888,
              "#fdca26"
             ],
             [
              1,
              "#f0f921"
             ]
            ],
            "type": "surface"
           }
          ],
          "table": [
           {
            "cells": {
             "fill": {
              "color": "#EBF0F8"
             },
             "line": {
              "color": "white"
             }
            },
            "header": {
             "fill": {
              "color": "#C8D4E3"
             },
             "line": {
              "color": "white"
             }
            },
            "type": "table"
           }
          ]
         },
         "layout": {
          "annotationdefaults": {
           "arrowcolor": "#2a3f5f",
           "arrowhead": 0,
           "arrowwidth": 1
          },
          "autotypenumbers": "strict",
          "coloraxis": {
           "colorbar": {
            "outlinewidth": 0,
            "ticks": ""
           }
          },
          "colorscale": {
           "diverging": [
            [
             0,
             "#8e0152"
            ],
            [
             0.1,
             "#c51b7d"
            ],
            [
             0.2,
             "#de77ae"
            ],
            [
             0.3,
             "#f1b6da"
            ],
            [
             0.4,
             "#fde0ef"
            ],
            [
             0.5,
             "#f7f7f7"
            ],
            [
             0.6,
             "#e6f5d0"
            ],
            [
             0.7,
             "#b8e186"
            ],
            [
             0.8,
             "#7fbc41"
            ],
            [
             0.9,
             "#4d9221"
            ],
            [
             1,
             "#276419"
            ]
           ],
           "sequential": [
            [
             0,
             "#0d0887"
            ],
            [
             0.1111111111111111,
             "#46039f"
            ],
            [
             0.2222222222222222,
             "#7201a8"
            ],
            [
             0.3333333333333333,
             "#9c179e"
            ],
            [
             0.4444444444444444,
             "#bd3786"
            ],
            [
             0.5555555555555556,
             "#d8576b"
            ],
            [
             0.6666666666666666,
             "#ed7953"
            ],
            [
             0.7777777777777778,
             "#fb9f3a"
            ],
            [
             0.8888888888888888,
             "#fdca26"
            ],
            [
             1,
             "#f0f921"
            ]
           ],
           "sequentialminus": [
            [
             0,
             "#0d0887"
            ],
            [
             0.1111111111111111,
             "#46039f"
            ],
            [
             0.2222222222222222,
             "#7201a8"
            ],
            [
             0.3333333333333333,
             "#9c179e"
            ],
            [
             0.4444444444444444,
             "#bd3786"
            ],
            [
             0.5555555555555556,
             "#d8576b"
            ],
            [
             0.6666666666666666,
             "#ed7953"
            ],
            [
             0.7777777777777778,
             "#fb9f3a"
            ],
            [
             0.8888888888888888,
             "#fdca26"
            ],
            [
             1,
             "#f0f921"
            ]
           ]
          },
          "colorway": [
           "#636efa",
           "#EF553B",
           "#00cc96",
           "#ab63fa",
           "#FFA15A",
           "#19d3f3",
           "#FF6692",
           "#B6E880",
           "#FF97FF",
           "#FECB52"
          ],
          "font": {
           "color": "#2a3f5f"
          },
          "geo": {
           "bgcolor": "white",
           "lakecolor": "white",
           "landcolor": "white",
           "showlakes": true,
           "showland": true,
           "subunitcolor": "#C8D4E3"
          },
          "hoverlabel": {
           "align": "left"
          },
          "hovermode": "closest",
          "mapbox": {
           "style": "light"
          },
          "paper_bgcolor": "white",
          "plot_bgcolor": "white",
          "polar": {
           "angularaxis": {
            "gridcolor": "#EBF0F8",
            "linecolor": "#EBF0F8",
            "ticks": ""
           },
           "bgcolor": "white",
           "radialaxis": {
            "gridcolor": "#EBF0F8",
            "linecolor": "#EBF0F8",
            "ticks": ""
           }
          },
          "scene": {
           "xaxis": {
            "backgroundcolor": "white",
            "gridcolor": "#DFE8F3",
            "gridwidth": 2,
            "linecolor": "#EBF0F8",
            "showbackground": true,
            "ticks": "",
            "zerolinecolor": "#EBF0F8"
           },
           "yaxis": {
            "backgroundcolor": "white",
            "gridcolor": "#DFE8F3",
            "gridwidth": 2,
            "linecolor": "#EBF0F8",
            "showbackground": true,
            "ticks": "",
            "zerolinecolor": "#EBF0F8"
           },
           "zaxis": {
            "backgroundcolor": "white",
            "gridcolor": "#DFE8F3",
            "gridwidth": 2,
            "linecolor": "#EBF0F8",
            "showbackground": true,
            "ticks": "",
            "zerolinecolor": "#EBF0F8"
           }
          },
          "shapedefaults": {
           "line": {
            "color": "#2a3f5f"
           }
          },
          "ternary": {
           "aaxis": {
            "gridcolor": "#DFE8F3",
            "linecolor": "#A2B1C6",
            "ticks": ""
           },
           "baxis": {
            "gridcolor": "#DFE8F3",
            "linecolor": "#A2B1C6",
            "ticks": ""
           },
           "bgcolor": "white",
           "caxis": {
            "gridcolor": "#DFE8F3",
            "linecolor": "#A2B1C6",
            "ticks": ""
           }
          },
          "title": {
           "x": 0.05
          },
          "xaxis": {
           "automargin": true,
           "gridcolor": "#EBF0F8",
           "linecolor": "#EBF0F8",
           "ticks": "",
           "title": {
            "standoff": 15
           },
           "zerolinecolor": "#EBF0F8",
           "zerolinewidth": 2
          },
          "yaxis": {
           "automargin": true,
           "gridcolor": "#EBF0F8",
           "linecolor": "#EBF0F8",
           "ticks": "",
           "title": {
            "standoff": 15
           },
           "zerolinecolor": "#EBF0F8",
           "zerolinewidth": 2
          }
         }
        },
        "width": 600,
        "xaxis": {
         "title": {
          "text": "Energy (keV)"
         },
         "type": "log"
        },
        "yaxis": {
         "title": {
          "text": "erg/cm^2/s"
         },
         "type": "log"
        }
       }
      }
     },
     "metadata": {},
     "output_type": "display_data"
    }
   ],
   "source": [
    "earr = np.logspace(np.log10(0.5), 3, 100)\n",
    "\n",
    "modelplot = Plot.model(ploter='plotly', style='vFv', post=True)\n",
    "modelplot.add_model(model1, E=earr)\n",
    "modelplot.add_model(model2, E=earr)\n",
    "modelplot.add_model(cpl_ins, E=earr)\n",
    "modelplot.add_model(csbpl_ins, E=earr)\n",
    "fig = modelplot.get_fig()\n",
    "fig.save(f'{savepath}/model')"
   ]
  }
 ],
 "metadata": {
  "kernelspec": {
   "display_name": "base",
   "language": "python",
   "name": "python3"
  },
  "language_info": {
   "codemirror_mode": {
    "name": "ipython",
    "version": 3
   },
   "file_extension": ".py",
   "mimetype": "text/x-python",
   "name": "python",
   "nbconvert_exporter": "python",
   "pygments_lexer": "ipython3",
   "version": "3.12.8"
  }
 },
 "nbformat": 4,
 "nbformat_minor": 5
}
