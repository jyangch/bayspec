{
 "cells": [
  {
   "cell_type": "code",
   "execution_count": 2,
   "id": "822c3e76",
   "metadata": {},
   "outputs": [],
   "source": [
    "from bayspec.model.local import *\n",
    "from bayspec.util.param import Par\n",
    "from bayspec.util.prior import unif\n",
    "from bayspec import Source, Background, BalrogResponse\n",
    "from bayspec import DataUnit, Data, Infer, Plot\n",
    "\n",
    "from heapy.util.time import fermi_utc_to_met\n",
    "from heapy.data.retrieve import gbmRetrieve\n",
    "from gbm_drm_gen.drmgen_tte import DRMGenTTE"
   ]
  },
  {
   "cell_type": "code",
   "execution_count": 3,
   "id": "cd56cb31",
   "metadata": {},
   "outputs": [],
   "source": [
    "savepath = './balrog'"
   ]
  },
  {
   "cell_type": "code",
   "execution_count": 4,
   "id": "4af82104",
   "metadata": {},
   "outputs": [],
   "source": [
    "utc = '2013-03-05T11:39:12.37'\n",
    "fermi_met = fermi_utc_to_met(utc)\n",
    "gbm_rtv = gbmRetrieve.from_utc(utc=utc, t1=-200, t2=200)\n",
    "\n",
    "ref_time = (2 + 9) / 2"
   ]
  },
  {
   "cell_type": "code",
   "execution_count": 5,
   "id": "0cde034b",
   "metadata": {},
   "outputs": [
    {
     "name": "stdout",
     "output_type": "stream",
     "text": [
      "╒════════╤════════════════╤═════════════╤════════════╤════════╕\n",
      "│  Name  │    Noticing    │  Statistic  │  Grouping  │  Time  │\n",
      "╞════════╪════════════════╪═════════════╪════════════╪════════╡\n",
      "│   n6   │   [[8, 900]]   │   pgstat    │    None    │  None  │\n",
      "├────────┼────────────────┼─────────────┼────────────┼────────┤\n",
      "│   n7   │   [[8, 900]]   │   pgstat    │    None    │  None  │\n",
      "├────────┼────────────────┼─────────────┼────────────┼────────┤\n",
      "│   n8   │   [[8, 900]]   │   pgstat    │    None    │  None  │\n",
      "├────────┼────────────────┼─────────────┼────────────┼────────┤\n",
      "│   n9   │   [[8, 900]]   │   pgstat    │    None    │  None  │\n",
      "├────────┼────────────────┼─────────────┼────────────┼────────┤\n",
      "│   na   │   [[8, 900]]   │   pgstat    │    None    │  None  │\n",
      "├────────┼────────────────┼─────────────┼────────────┼────────┤\n",
      "│   nb   │   [[8, 900]]   │   pgstat    │    None    │  None  │\n",
      "├────────┼────────────────┼─────────────┼────────────┼────────┤\n",
      "│   b1   │ [[300, 38000]] │   pgstat    │    None    │  None  │\n",
      "╘════════╧════════════════╧═════════════╧════════════╧════════╛\n",
      "╒════════╤═════════════╤═════════════╤═════════╤═══════════════╤══════════╕\n",
      "│  par#  │  Component  │  Parameter  │  Value  │     Prior     │  Frozen  │\n",
      "╞════════╪═════════════╪═════════════╪═════════╪═══════════════╪══════════╡\n",
      "│   1    │     n6      │     sf      │    1    │     None      │   True   │\n",
      "├────────┼─────────────┼─────────────┼─────────┼───────────────┼──────────┤\n",
      "│   2    │     n6      │     bf      │    1    │     None      │   True   │\n",
      "├────────┼─────────────┼─────────────┼─────────┼───────────────┼──────────┤\n",
      "│   3    │     n6      │     rf      │    1    │     None      │   True   │\n",
      "├────────┼─────────────┼─────────────┼─────────┼───────────────┼──────────┤\n",
      "│   4    │     n6      │     ra      │   115   │ unif(0, 360)  │  False   │\n",
      "├────────┼─────────────┼─────────────┼─────────┼───────────────┼──────────┤\n",
      "│   5    │     n6      │     dec     │   52    │ unif(-90, 90) │  False   │\n",
      "├────────┼─────────────┼─────────────┼─────────┼───────────────┼──────────┤\n",
      "│   6    │     n7      │     sf      │    1    │     None      │   True   │\n",
      "├────────┼─────────────┼─────────────┼─────────┼───────────────┼──────────┤\n",
      "│   7    │     n7      │     bf      │    1    │     None      │   True   │\n",
      "├────────┼─────────────┼─────────────┼─────────┼───────────────┼──────────┤\n",
      "│   8    │     n7      │     rf      │    1    │     None      │   True   │\n",
      "├────────┼─────────────┼─────────────┼─────────┼───────────────┼──────────┤\n",
      "│   9    │     n7      │     ra      │   115   │ unif(0, 360)  │  False   │\n",
      "├────────┼─────────────┼─────────────┼─────────┼───────────────┼──────────┤\n",
      "│   10   │     n7      │     dec     │   52    │ unif(-90, 90) │  False   │\n",
      "├────────┼─────────────┼─────────────┼─────────┼───────────────┼──────────┤\n",
      "│   11   │     n8      │     sf      │    1    │     None      │   True   │\n",
      "├────────┼─────────────┼─────────────┼─────────┼───────────────┼──────────┤\n",
      "│   12   │     n8      │     bf      │    1    │     None      │   True   │\n",
      "├────────┼─────────────┼─────────────┼─────────┼───────────────┼──────────┤\n",
      "│   13   │     n8      │     rf      │    1    │     None      │   True   │\n",
      "├────────┼─────────────┼─────────────┼─────────┼───────────────┼──────────┤\n",
      "│   14   │     n8      │     ra      │   115   │ unif(0, 360)  │  False   │\n",
      "├────────┼─────────────┼─────────────┼─────────┼───────────────┼──────────┤\n",
      "│   15   │     n8      │     dec     │   52    │ unif(-90, 90) │  False   │\n",
      "├────────┼─────────────┼─────────────┼─────────┼───────────────┼──────────┤\n",
      "│   16   │     n9      │     sf      │    1    │     None      │   True   │\n",
      "├────────┼─────────────┼─────────────┼─────────┼───────────────┼──────────┤\n",
      "│   17   │     n9      │     bf      │    1    │     None      │   True   │\n",
      "├────────┼─────────────┼─────────────┼─────────┼───────────────┼──────────┤\n",
      "│   18   │     n9      │     rf      │    1    │     None      │   True   │\n",
      "├────────┼─────────────┼─────────────┼─────────┼───────────────┼──────────┤\n",
      "│   19   │     n9      │     ra      │   115   │ unif(0, 360)  │  False   │\n",
      "├────────┼─────────────┼─────────────┼─────────┼───────────────┼──────────┤\n",
      "│   20   │     n9      │     dec     │   52    │ unif(-90, 90) │  False   │\n",
      "├────────┼─────────────┼─────────────┼─────────┼───────────────┼──────────┤\n",
      "│   21   │     na      │     sf      │    1    │     None      │   True   │\n",
      "├────────┼─────────────┼─────────────┼─────────┼───────────────┼──────────┤\n",
      "│   22   │     na      │     bf      │    1    │     None      │   True   │\n",
      "├────────┼─────────────┼─────────────┼─────────┼───────────────┼──────────┤\n",
      "│   23   │     na      │     rf      │    1    │     None      │   True   │\n",
      "├────────┼─────────────┼─────────────┼─────────┼───────────────┼──────────┤\n",
      "│   24   │     na      │     ra      │   115   │ unif(0, 360)  │  False   │\n",
      "├────────┼─────────────┼─────────────┼─────────┼───────────────┼──────────┤\n",
      "│   25   │     na      │     dec     │   52    │ unif(-90, 90) │  False   │\n",
      "├────────┼─────────────┼─────────────┼─────────┼───────────────┼──────────┤\n",
      "│   26   │     nb      │     sf      │    1    │     None      │   True   │\n",
      "├────────┼─────────────┼─────────────┼─────────┼───────────────┼──────────┤\n",
      "│   27   │     nb      │     bf      │    1    │     None      │   True   │\n",
      "├────────┼─────────────┼─────────────┼─────────┼───────────────┼──────────┤\n",
      "│   28   │     nb      │     rf      │    1    │     None      │   True   │\n",
      "├────────┼─────────────┼─────────────┼─────────┼───────────────┼──────────┤\n",
      "│   29   │     nb      │     ra      │   115   │ unif(0, 360)  │  False   │\n",
      "├────────┼─────────────┼─────────────┼─────────┼───────────────┼──────────┤\n",
      "│   30   │     nb      │     dec     │   52    │ unif(-90, 90) │  False   │\n",
      "├────────┼─────────────┼─────────────┼─────────┼───────────────┼──────────┤\n",
      "│   31   │     b1      │     sf      │    1    │     None      │   True   │\n",
      "├────────┼─────────────┼─────────────┼─────────┼───────────────┼──────────┤\n",
      "│   32   │     b1      │     bf      │    1    │     None      │   True   │\n",
      "├────────┼─────────────┼─────────────┼─────────┼───────────────┼──────────┤\n",
      "│   33   │     b1      │     rf      │    1    │     None      │   True   │\n",
      "├────────┼─────────────┼─────────────┼─────────┼───────────────┼──────────┤\n",
      "│   34   │     b1      │     ra      │   115   │ unif(0, 360)  │  False   │\n",
      "├────────┼─────────────┼─────────────┼─────────┼───────────────┼──────────┤\n",
      "│   35   │     b1      │     dec     │   52    │ unif(-90, 90) │  False   │\n",
      "╘════════╧═════════════╧═════════════╧═════════╧═══════════════╧══════════╛\n",
      "\n"
     ]
    }
   ],
   "source": [
    "ra = Par(115, unif(0, 360))\n",
    "dec = Par(52, unif(-90, 90))\n",
    "\n",
    "n6_src = Source.from_src('./GBM/n6.src')\n",
    "n6_bkg = Background.from_bkg('./GBM/n6.bkg')\n",
    "\n",
    "n6_balrog = DRMGenTTE(\n",
    "    tte_file=gbm_rtv.rtv_res['tte']['n6'][0],\n",
    "    time=ref_time,\n",
    "    poshist=gbm_rtv.rtv_res['poshist'][0],\n",
    "    T0=fermi_met, mat_type=2, occult=False)\n",
    "n6_rsp = BalrogResponse(n6_balrog, ra=ra, dec=dec)\n",
    "\n",
    "n6 = DataUnit(src=n6_src, bkg=n6_bkg, rsp=n6_rsp, \n",
    "              notc=[8, 900], stat='pgstat', \n",
    "              rebn={'min_sigma': 2, 'max_bin': 10})\n",
    "\n",
    "n7_src = Source.from_src('./GBM/n7.src')\n",
    "n7_bkg = Background.from_bkg('./GBM/n7.bkg')\n",
    "\n",
    "n7_balrog = DRMGenTTE(\n",
    "    tte_file=gbm_rtv.rtv_res['tte']['n7'][0],\n",
    "    time=ref_time,\n",
    "    poshist=gbm_rtv.rtv_res['poshist'][0],\n",
    "    T0=fermi_met, mat_type=2, occult=False)\n",
    "n7_rsp = BalrogResponse(n7_balrog, ra=ra, dec=dec)\n",
    "\n",
    "n7 = DataUnit(src=n7_src, bkg=n7_bkg, rsp=n7_rsp, \n",
    "              notc=[8, 900], stat='pgstat', \n",
    "              rebn={'min_sigma': 2, 'max_bin': 10})\n",
    "\n",
    "n8_src = Source.from_src('./GBM/n8.src')\n",
    "n8_bkg = Background.from_bkg('./GBM/n8.bkg')\n",
    "\n",
    "n8_balrog = DRMGenTTE(\n",
    "    tte_file=gbm_rtv.rtv_res['tte']['n8'][0],\n",
    "    time=ref_time,\n",
    "    poshist=gbm_rtv.rtv_res['poshist'][0],\n",
    "    T0=fermi_met, mat_type=2, occult=False)\n",
    "n8_rsp = BalrogResponse(n8_balrog, ra=ra, dec=dec)\n",
    "\n",
    "n8 = DataUnit(src=n8_src, bkg=n8_bkg, rsp=n8_rsp, \n",
    "              notc=[8, 900], stat='pgstat', \n",
    "              rebn={'min_sigma': 2, 'max_bin': 10})\n",
    "\n",
    "n9_src = Source.from_src('./GBM/n9.src')\n",
    "n9_bkg = Background.from_bkg('./GBM/n9.bkg')\n",
    "\n",
    "n9_balrog = DRMGenTTE(\n",
    "    tte_file=gbm_rtv.rtv_res['tte']['n9'][0],\n",
    "    time=ref_time,\n",
    "    poshist=gbm_rtv.rtv_res['poshist'][0],\n",
    "    T0=fermi_met, mat_type=2, occult=False)\n",
    "n9_rsp = BalrogResponse(n9_balrog, ra=ra, dec=dec)\n",
    "\n",
    "n9 = DataUnit(src=n9_src, bkg=n9_bkg, rsp=n9_rsp, \n",
    "              notc=[8, 900], stat='pgstat', \n",
    "              rebn={'min_sigma': 2, 'max_bin': 10})\n",
    "\n",
    "na_src = Source.from_src('./GBM/na.src')\n",
    "na_bkg = Background.from_bkg('./GBM/na.bkg')\n",
    "\n",
    "na_balrog = DRMGenTTE(\n",
    "    tte_file=gbm_rtv.rtv_res['tte']['na'][0],\n",
    "    time=ref_time,\n",
    "    poshist=gbm_rtv.rtv_res['poshist'][0],\n",
    "    T0=fermi_met, mat_type=2, occult=False)\n",
    "na_rsp = BalrogResponse(na_balrog, ra=ra, dec=dec)\n",
    "\n",
    "na = DataUnit(src=na_src, bkg=na_bkg, rsp=na_rsp, \n",
    "              notc=[8, 900], stat='pgstat', \n",
    "              rebn={'min_sigma': 2, 'max_bin': 10})\n",
    "\n",
    "nb_src = Source.from_src('./GBM/nb.src')\n",
    "nb_bkg = Background.from_bkg('./GBM/nb.bkg')\n",
    "\n",
    "nb_balrog = DRMGenTTE(\n",
    "    tte_file=gbm_rtv.rtv_res['tte']['nb'][0],\n",
    "    time=ref_time,\n",
    "    poshist=gbm_rtv.rtv_res['poshist'][0],\n",
    "    T0=fermi_met, mat_type=2, occult=False)\n",
    "nb_rsp = BalrogResponse(nb_balrog, ra=ra, dec=dec)\n",
    "\n",
    "nb = DataUnit(src=nb_src, bkg=nb_bkg, rsp=nb_rsp, \n",
    "              notc=[8, 900], stat='pgstat', \n",
    "              rebn={'min_sigma': 2, 'max_bin': 10})\n",
    "\n",
    "b1_src = Source.from_src('./GBM/b1.src')\n",
    "b1_bkg = Background.from_bkg('./GBM/b1.bkg')\n",
    "\n",
    "b1_balrog = DRMGenTTE(\n",
    "    tte_file=gbm_rtv.rtv_res['tte']['b1'][0],\n",
    "    time=ref_time,\n",
    "    poshist=gbm_rtv.rtv_res['poshist'][0],\n",
    "    T0=fermi_met, mat_type=2, occult=False)\n",
    "b1_rsp = BalrogResponse(b1_balrog, ra=ra, dec=dec)\n",
    "\n",
    "b1 = DataUnit(src=b1_src, bkg=b1_bkg, rsp=b1_rsp, \n",
    "              notc=[300, 38000], stat='pgstat', \n",
    "              rebn={'min_sigma': 2, 'max_bin': 10})\n",
    "\n",
    "data = Data([('n6', n6), ('n7', n7), ('n8', n8), ('n9', n9), ('na', na), ('nb', nb), ('b1', b1)])\n",
    "data.save(savepath)\n",
    "print(data)"
   ]
  },
  {
   "cell_type": "code",
   "execution_count": 6,
   "id": "1fd81af5",
   "metadata": {},
   "outputs": [
    {
     "name": "stdout",
     "output_type": "stream",
     "text": [
      "cpl [add]\n",
      "cutoff power law model\n",
      "╒════════╤═════════════╤═════════════╤═════════╕\n",
      "│  cfg#  │  Component  │  Parameter  │  Value  │\n",
      "╞════════╪═════════════╪═════════════╪═════════╡\n",
      "│   1    │     cpl     │  redshift   │    0    │\n",
      "╘════════╧═════════════╧═════════════╧═════════╛\n",
      "╒════════╤═════════════╤═════════════╤═════════╤═════════════╤══════════╕\n",
      "│  par#  │  Component  │  Parameter  │  Value  │    Prior    │  Frozen  │\n",
      "╞════════╪═════════════╪═════════════╪═════════╪═════════════╪══════════╡\n",
      "│   1    │     cpl     │  $\\alpha$   │   -1    │ unif(-8, 4) │  False   │\n",
      "├────────┼─────────────┼─────────────┼─────────┼─────────────┼──────────┤\n",
      "│   2    │     cpl     │ log$E_{c}$  │    2    │ unif(0, 4)  │  False   │\n",
      "├────────┼─────────────┼─────────────┼─────────┼─────────────┼──────────┤\n",
      "│   3    │     cpl     │   log$A$    │   -1    │ unif(-6, 5) │  False   │\n",
      "╘════════╧═════════════╧═════════════╧═════════╧═════════════╧══════════╛\n",
      "\n"
     ]
    }
   ],
   "source": [
    "model = cpl()\n",
    "model.save(savepath)\n",
    "print(model)"
   ]
  },
  {
   "cell_type": "code",
   "execution_count": 7,
   "id": "b0e17cf7",
   "metadata": {},
   "outputs": [
    {
     "name": "stdout",
     "output_type": "stream",
     "text": [
      "╒════════╤═════════╤══════════════╤═════════════╤═════════════╤═════════╕\n",
      "│  cfg#  │  Class  │  Expression  │  Component  │  Parameter  │  Value  │\n",
      "╞════════╪═════════╪══════════════╪═════════════╪═════════════╪═════════╡\n",
      "│   1    │  model  │     cpl      │     cpl     │  redshift   │    0    │\n",
      "╘════════╧═════════╧══════════════╧═════════════╧═════════════╧═════════╛\n",
      "╒════════╤═════════╤══════════════╤═════════════╤═════════════╤═════════╤═════════════════════════╕\n",
      "│  par#  │  Class  │  Expression  │  Component  │  Parameter  │  Value  │          Prior          │\n",
      "╞════════╪═════════╪══════════════╪═════════════╪═════════════╪═════════╪═════════════════════════╡\n",
      "│   1*   │  model  │     cpl      │     cpl     │  $\\alpha$   │   -1    │       unif(-8, 4)       │\n",
      "├────────┼─────────┼──────────────┼─────────────┼─────────────┼─────────┼─────────────────────────┤\n",
      "│   2*   │  model  │     cpl      │     cpl     │ log$E_{c}$  │    2    │       unif(0, 4)        │\n",
      "├────────┼─────────┼──────────────┼─────────────┼─────────────┼─────────┼─────────────────────────┤\n",
      "│   3*   │  model  │     cpl      │     cpl     │   log$A$    │   -1    │       unif(-6, 5)       │\n",
      "├────────┼─────────┼──────────────┼─────────────┼─────────────┼─────────┼─────────────────────────┤\n",
      "│   7*   │  data   │     data     │     n6      │     ra      │   115   │      unif(0, 360)       │\n",
      "├────────┼─────────┼──────────────┼─────────────┼─────────────┼─────────┼─────────────────────────┤\n",
      "│   8*   │  data   │     data     │     n6      │     dec     │   52    │      unif(-90, 90)      │\n",
      "├────────┼─────────┼──────────────┼─────────────┼─────────────┼─────────┼─────────────────────────┤\n",
      "│   12   │  data   │     data     │     n7      │     ra      │   115   │ =par#{22,37,17,32,27,7} │\n",
      "├────────┼─────────┼──────────────┼─────────────┼─────────────┼─────────┼─────────────────────────┤\n",
      "│   13   │  data   │     data     │     n7      │     dec     │   52    │ =par#{18,8,33,38,28,23} │\n",
      "├────────┼─────────┼──────────────┼─────────────┼─────────────┼─────────┼─────────────────────────┤\n",
      "│   17   │  data   │     data     │     n8      │     ra      │   115   │ =par#{22,37,32,27,7,12} │\n",
      "├────────┼─────────┼──────────────┼─────────────┼─────────────┼─────────┼─────────────────────────┤\n",
      "│   18   │  data   │     data     │     n8      │     dec     │   52    │ =par#{8,33,38,28,13,23} │\n",
      "├────────┼─────────┼──────────────┼─────────────┼─────────────┼─────────┼─────────────────────────┤\n",
      "│   22   │  data   │     data     │     n9      │     ra      │   115   │ =par#{37,17,32,27,7,12} │\n",
      "├────────┼─────────┼──────────────┼─────────────┼─────────────┼─────────┼─────────────────────────┤\n",
      "│   23   │  data   │     data     │     n9      │     dec     │   52    │ =par#{18,8,33,38,28,13} │\n",
      "├────────┼─────────┼──────────────┼─────────────┼─────────────┼─────────┼─────────────────────────┤\n",
      "│   27   │  data   │     data     │     na      │     ra      │   115   │ =par#{22,37,17,32,7,12} │\n",
      "├────────┼─────────┼──────────────┼─────────────┼─────────────┼─────────┼─────────────────────────┤\n",
      "│   28   │  data   │     data     │     na      │     dec     │   52    │ =par#{18,8,33,38,13,23} │\n",
      "├────────┼─────────┼──────────────┼─────────────┼─────────────┼─────────┼─────────────────────────┤\n",
      "│   32   │  data   │     data     │     nb      │     ra      │   115   │ =par#{22,37,17,27,7,12} │\n",
      "├────────┼─────────┼──────────────┼─────────────┼─────────────┼─────────┼─────────────────────────┤\n",
      "│   33   │  data   │     data     │     nb      │     dec     │   52    │ =par#{18,8,38,28,13,23} │\n",
      "├────────┼─────────┼──────────────┼─────────────┼─────────────┼─────────┼─────────────────────────┤\n",
      "│   37   │  data   │     data     │     b1      │     ra      │   115   │ =par#{22,17,32,27,7,12} │\n",
      "├────────┼─────────┼──────────────┼─────────────┼─────────────┼─────────┼─────────────────────────┤\n",
      "│   38   │  data   │     data     │     b1      │     dec     │   52    │ =par#{18,8,33,28,13,23} │\n",
      "╘════════╧═════════╧══════════════╧═════════════╧═════════════╧═════════╧═════════════════════════╛\n",
      "\n"
     ]
    }
   ],
   "source": [
    "infer = Infer([(data, model)])\n",
    "infer.save(savepath)\n",
    "print(infer)"
   ]
  },
  {
   "cell_type": "code",
   "execution_count": 8,
   "id": "ff8296c9",
   "metadata": {},
   "outputs": [
    {
     "name": "stdout",
     "output_type": "stream",
     "text": [
      " *****************************************************\n",
      " MultiNest v3.10\n",
      " Copyright Farhan Feroz & Mike Hobson\n",
      " Release Jul 2015\n",
      "\n",
      " no. of live points =  100\n",
      " dimensionality =    5\n",
      " resuming from previous job\n",
      " *****************************************************\n",
      "  analysing data from ./balrog/1-.txt\n",
      " ln(ev)=  -549.84192463416275      +/-  0.50959955678803703     \n",
      " Total Likelihood Evaluations:         6655\n",
      " Sampling finished. Exiting MultiNest\n",
      "╒════════╤═════════╤══════════════╤═════════════╤═════════════╤═════════╤══════════╤═════════╤════════════════════╕\n",
      "│  par#  │  Class  │  Expression  │  Component  │  Parameter  │  Mean   │  Median  │  Best   │     1sigma CI      │\n",
      "╞════════╪═════════╪══════════════╪═════════════╪═════════════╪═════════╪══════════╪═════════╪════════════════════╡\n",
      "│   1    │  model  │     cpl      │     cpl     │  $\\alpha$   │ -0.513  │  -0.513  │ -0.516  │  [-0.531, -0.496]  │\n",
      "├────────┼─────────┼──────────────┼─────────────┼─────────────┼─────────┼──────────┼─────────┼────────────────────┤\n",
      "│   2    │  model  │     cpl      │     cpl     │ log$E_{c}$  │  2.626  │  2.626   │  2.629  │   [2.612, 2.640]   │\n",
      "├────────┼─────────┼──────────────┼─────────────┼─────────────┼─────────┼──────────┼─────────┼────────────────────┤\n",
      "│   3    │  model  │     cpl      │     cpl     │   log$A$    │ -1.264  │  -1.264  │ -1.265  │  [-1.270, -1.257]  │\n",
      "├────────┼─────────┼──────────────┼─────────────┼─────────────┼─────────┼──────────┼─────────┼────────────────────┤\n",
      "│   7    │  data   │     data     │     n6      │     ra      │ 115.082 │ 115.095  │ 115.137 │ [114.515, 115.626] │\n",
      "├────────┼─────────┼──────────────┼─────────────┼─────────────┼─────────┼──────────┼─────────┼────────────────────┤\n",
      "│   8    │  data   │     data     │     n6      │     dec     │ 52.185  │  52.211  │ 52.067  │  [51.555, 52.811]  │\n",
      "╘════════╧═════════╧══════════════╧═════════════╧═════════════╧═════════╧══════════╧═════════╧════════════════════╛\n",
      "╒════════╤═════════╤═════════════╤═════════════╤════════╕\n",
      "│  Data  │  Model  │  Statistic  │    Value    │  Bins  │\n",
      "╞════════╪═════════╪═════════════╪═════════════╪════════╡\n",
      "│   n6   │   cpl   │   pgstat    │   157.82    │  121   │\n",
      "├────────┼─────────┼─────────────┼─────────────┼────────┤\n",
      "│   n7   │   cpl   │   pgstat    │   125.95    │  119   │\n",
      "├────────┼─────────┼─────────────┼─────────────┼────────┤\n",
      "│   n8   │   cpl   │   pgstat    │   159.88    │  120   │\n",
      "├────────┼─────────┼─────────────┼─────────────┼────────┤\n",
      "│   n9   │   cpl   │   pgstat    │   143.89    │  119   │\n",
      "├────────┼─────────┼─────────────┼─────────────┼────────┤\n",
      "│   na   │   cpl   │   pgstat    │   138.87    │  119   │\n",
      "├────────┼─────────┼─────────────┼─────────────┼────────┤\n",
      "│   nb   │   cpl   │   pgstat    │   167.44    │  119   │\n",
      "├────────┼─────────┼─────────────┼─────────────┼────────┤\n",
      "│   b1   │   cpl   │   pgstat    │   149.12    │  117   │\n",
      "├────────┼─────────┼─────────────┼─────────────┼────────┤\n",
      "│ Total  │  Total  │  stat/dof   │ 1042.97/829 │  834   │\n",
      "╘════════╧═════════╧═════════════╧═════════════╧════════╛\n",
      "╒═════════╤═════════╤════════╤═════════╕\n",
      "│   AIC   │  AICc   │  BIC   │   lnZ   │\n",
      "╞═════════╪═════════╪════════╪═════════╡\n",
      "│ 1052.97 │ 1053.04 │ 1076.6 │ -550.58 │\n",
      "╘═════════╧═════════╧════════╧═════════╛\n",
      "\n"
     ]
    }
   ],
   "source": [
    "post = infer.multinest(nlive=100, resume=True, savepath=savepath)\n",
    "post.save(savepath)\n",
    "print(post)"
   ]
  },
  {
   "cell_type": "code",
   "execution_count": 9,
   "id": "79cff7de",
   "metadata": {},
   "outputs": [
    {
     "data": {
      "application/vnd.plotly.v1+json": {
       "config": {
        "plotlyServerURL": "https://plot.ly"
       },
       "data": [
        {
         "error_x": {
          "array": {
           "bdata": "AAAAADSK3T8AAAAA6ILtPwAAAABSid0/AAAAAPHB4T8AAAAAhNHhPwAAAABf5+E/AAAAAC8H4j8AAAAAJDPiPwAAAABGa+I/AAAAAJKv4j8AAAAASDPmPwAAAAD0suY/AAAAAGJE5z8AAAAAlOfnPwAAAACInOg/AAAAAERj6T8AAAAA2g3uPwAAAAAiQ+8/AAAAAAjS7j8AAAAAdDDnPwAAAAAoKec/AAAAAAR36j8AAAAAMOHqPwAAAAB0Rus/AAAAANim6z8AAAAAfCTvPwAAAAC8ju8/AAAAAEjy7z8AAAAAkifwPwAAAAC+9vE/AAAAAGYm8j8AAAAAllHyPwAAAABQePI/AAAAABhN9D8AAAAAFHD0PwAAAABEjfQ/AAAAAOxd9j8AAAAACHL2PwAAAADEfvY/AAAAAIg/+D8AAAAAwDz4PwAAAADoNfg/AAAAAFzq+T8AAAAAkOX5PwAAAAB84vk/AAAAAMya+z8AAAAAWJv7PwAAAAD8nfs/AAAAABhd/T8AAAAA9GT9PwAAAADsKv8/AAAAAIg5/z8AAAAAEoQAQAAAAADWjQBAAAAAAFh3AUAAAAAAAIIBQAAAAACYjAFAAAAAAIh4AkAAAAAADIQCQAAAAAAAcgNAAAAAAJRhBEAAAAAACG8EQAAAAAC8YAVAAAAAAChvBUAAAAAA+GIGQAAAAABYcgZAAAAAAFhoB0AAAAAAEGAIQAAAAAB0cQhAAAAAAGBrCUAAAAAAFGcKQAAAAAB8egpAAAAAAGh4C0AAAAAAIHgMQAAAAACgeQ1AAAAAABiQDUAAAAAA0JMOQAAAAABImQ9AAAAAAFBQEEAAAAAA+FwQQAAAAACs4RBAAAAAAEBnEUAAAAAArO0RQAAAAAD4dBJAAAAAACD9EkAAAAAAFIYTQAAAAADYDxRAAAAAAGyaFEAAAAAAxCUVQAAAAADUsRVAAAAAAKA+FkAAAAAAFMwWQAAAAAAwWhdAAAAAAPxlGEAAAAAAAPYYQAAAAACAhhlAAAAAAHAXGkAAAAAAxKgaQAAAAABYuRtAAAAAAPRLHEAAAAAAvN4cQAAAAACQ8R1AAAAAABCFHkAAAAAACJkfQAAAAACYWzBAAAAAAIjqIEAAAAAA4HQhQAAAAADIIzJAAAAAAB4JPUAAAAAA3I80QAAAAABcOSVAAAAAALi+JUAAAAAA5SNBQA==",
           "dtype": "f8"
          },
          "arrayminus": {
           "bdata": "AAAAADSK3T8AAAAA6ILtPwAAAABSid0/AAAAAPHB4T8AAAAAhNHhPwAAAABf5+E/AAAAAC8H4j8AAAAAJDPiPwAAAABGa+I/AAAAAJKv4j8AAAAASDPmPwAAAAD0suY/AAAAAGJE5z8AAAAAlOfnPwAAAACInOg/AAAAAERj6T8AAAAA2g3uPwAAAAAiQ+8/AAAAAAjS7j8AAAAAdDDnPwAAAAAoKec/AAAAAAR36j8AAAAAMOHqPwAAAAB0Rus/AAAAANim6z8AAAAAfCTvPwAAAAC8ju8/AAAAAEjy7z8AAAAAkifwPwAAAAC+9vE/AAAAAGYm8j8AAAAAllHyPwAAAABQePI/AAAAABhN9D8AAAAAFHD0PwAAAABEjfQ/AAAAAOxd9j8AAAAACHL2PwAAAADEfvY/AAAAAIg/+D8AAAAAwDz4PwAAAADoNfg/AAAAAFzq+T8AAAAAkOX5PwAAAAB84vk/AAAAAMya+z8AAAAAWJv7PwAAAAD8nfs/AAAAABhd/T8AAAAA9GT9PwAAAADsKv8/AAAAAIg5/z8AAAAAEoQAQAAAAADWjQBAAAAAAFh3AUAAAAAAAIIBQAAAAACYjAFAAAAAAIh4AkAAAAAADIQCQAAAAAAAcgNAAAAAAJRhBEAAAAAACG8EQAAAAAC8YAVAAAAAAChvBUAAAAAA+GIGQAAAAABYcgZAAAAAAFhoB0AAAAAAEGAIQAAAAAB0cQhAAAAAAGBrCUAAAAAAFGcKQAAAAAB8egpAAAAAAGh4C0AAAAAAIHgMQAAAAACgeQ1AAAAAABiQDUAAAAAA0JMOQAAAAABImQ9AAAAAAFBQEEAAAAAA+FwQQAAAAACs4RBAAAAAAEBnEUAAAAAArO0RQAAAAAD4dBJAAAAAACD9EkAAAAAAFIYTQAAAAADYDxRAAAAAAGyaFEAAAAAAxCUVQAAAAADUsRVAAAAAAKA+FkAAAAAAFMwWQAAAAAAwWhdAAAAAAPxlGEAAAAAAAPYYQAAAAACAhhlAAAAAAHAXGkAAAAAAxKgaQAAAAABYuRtAAAAAAPRLHEAAAAAAvN4cQAAAAACQ8R1AAAAAABCFHkAAAAAACJkfQAAAAACYWzBAAAAAAIjqIEAAAAAA4HQhQAAAAADIIzJAAAAAAB4JPUAAAAAA3I80QAAAAABcOSVAAAAAALi+JUAAAAAA5SNBQA==",
           "dtype": "f8"
          },
          "color": "#636EFA",
          "symmetric": false,
          "thickness": 1.5,
          "type": "data",
          "width": 0
         },
         "error_y": {
          "array": {
           "bdata": "OoCbEUkx9T8Ipi/ENpXwP42AFhsn7Ps/1I4XU0FP+z/X03ge8aP+P//WeIQxtP0/82VudPvk/j8r1bnTYHX+P9f+ifs6j/4/yb0I7TNT/z+Sl4ULQPP6P1rT7ZDZU/s/bvEwy05t+j9+O01rjbn4P3EZUhU87fY/srWKn5+u9T8KFVKznJvzP9sgFSasbvM/25Zsyu6w8z930v+EBlL3P7wmbv6JtfU/1LDz+tcX8z8vZvMQ9JzxP1ZKPjVs4e8/M7m9Jcxg8D9Q+uL9/ALwPys1GNg5Uuw/nt4IwC5v7D/6D65aJUnrP1wL9Qnf5eo/E/VlUIRx6T+uGTtHxjjoP1pe2Rg3eOk/dpkgXBaf6D+o3OfjaQ7qP92wDXnR5ug/JsU6CF2W5z+alQTRV77mP2qEXKLiieU/xtXbtuMb5T+1UPrB+lPlP1CEPAlC9OM/Z2ERb6S+4z+VOTPhlmXjPxieewzFq+Q/e331bDD24j90d7XBQkvhP067WTij7uI/KD+rEQ8y4T+FxRD17M7gPxCZISLytN8/EQSixHXv3j/jL2NjQpPeP4MHkr/QLd0/XEYQ7j1V2z99AYM6EL/bPwW8LoGIE9w/3477ujAY2D9BlokN+trZP58J4KOV+tg/gmpfU21r1z9mE/puzVrXP55aAWmpU9Y/MDI3vOjm1D8eK7kzj9/UP7IfEnHMbNQ/xNOcYklh0T9xDPchzGDSPy/9W8wWBdA/SKEWpLYy0D/BW3Rla7jMP8wla0wJFsw/gzyyqHS9yz94xGKEfZLHP9u+/83gGMg/vhheoO88xz9w5h1JNCPFP9K1o0DApMM/X6ph254Fwz94sopT7J/DPzBeQDwWo8I/g2Vze6o1wj+e2+Zzane8P/o95YaKErs/4g1X0B1KvT81jY0m3AC2P8Arzd8Fu7k/I1uFOGRAuD9tygvVjMSxP9VVs07e/7U/KmaXC/AytT/B6BmsbdmyP7BE+3vvr7Q/c28IRVtVsz+GfnQrPvSwPwZB2/FMkLE/c1jaOyjjrT9456MeAFSyPxHzpgsHIa0/a/Y1ZQYWrD/nDeit4YqpP+Xq7IbHsaw/L4oFzd2PqT+Q022DNd6lP6PgAxpbp5o/ymY3FDgNpz/2o2kKq2aiP9ODc1YARJY/Pc+OHiqmkD9yKiNZgfaSP/pcHxWE6Zo/WQqbHlNEmj8JYr3iE4iKPw==",
           "dtype": "f8"
          },
          "color": "#636EFA",
          "thickness": 1.5,
          "type": "data",
          "width": 0
         },
         "marker": {
          "color": "#636EFA",
          "size": 0,
          "symbol": "cross-thin"
         },
         "mode": "markers",
         "name": "obs of n6",
         "showlegend": false,
         "type": "scatter",
         "x": {
          "bdata": "AAAAoKUaIUAAAADAJd8jQAAAAMCeoyZAAAAAgAisKEAAAADAP+UqQAAAAADOIC1AAAAAwLZfL0AAAAAArtEwQAAAAECh9jFAAAAAAHgfM0AAAADgjmY0QAAAAMDAzTVAAAAAgHs9N0AAAAAg27Y4QAAAAAD8OjpAAAAAYPrKO0AAAABAg4Y9QAAAAEALcT9AAAAAQNqwQEAAAABA5IhBQAAAAKBKQkJAAAAAQMsIQ0AAAAAgLN5DQAAAAMDKtkRAAAAA4H+SRUAAAABArX1GQAAAAAB6eEdAAAAAIH52SEAAAADAg3dJQAAAAEB2iEpAAAAAgF+pS0AAAABAH81MQAAAAIBu801AAAAAwJkpT0AAAACAwTdQQAAAAAC321BAAAAAwGOHUUAAAACAozpSQAAAAMBm7lJAAAAA4F+pU0AAAAAAUWtUQAAAAKAbLVVAAAAAwJz1VUAAAABg3MRWQAAAAID8k1dAAAAAwPFpWEAAAABAykZZQAAAAICvI1pAAAAA4JsHW0AAAAAApPJbQAAAAIDj5FxAAAAAYHXeXUAAAAAAfN9eQAAAAEAL6F9AAAAAYBp8YEAAAADA/wdhQAAAACA6lGFAAAAAoE4kYkAAAAAAQbhiQAAAACAZUGNAAAAAgGfvY0AAAADgqZJkQAAAAADpOWVAAAAAgCjlZUAAAAAAcZRmQAAAAEDGR2dAAAAAADH/Z0AAAACgUr5oQAAAAMCYgWlAAAAAAAxJakAAAADAVRhrQAAAAADc62tAAAAAoKfDbEAAAADAaaNtQAAAAMAwi25AAAAAoFd3b0AAAACg8zNwQAAAAMBNsHBAAAAAoMEwcUAAAADAdrNxQAAAAEBxOHJAAAAAAJXBckAAAADA6E5zQAAAAEBz4HNAAAAAoDt2dEAAAACASBB1QAAAACCgrnVAAAAAQElRdkAAAAAASvh2QAAAAECoo3dAAAAAIGpTeEAAAAAAlQd5QAAAAAAuwHlAAAAAwC5/ekAAAACgnkR7QAAAAKCQDnxAAAAAYAjdfEAAAABACbB9QAAAAKCRiX5AAAAAwKZpf0AAAADAKCeAQAAAAGDJnIBAAAAAoLYVgUAAAADA8pGBQAAAAKABVIJAAAAAgIgag0AAAAAgBqSDQAAAAOD3eoRAAAAAAF/0hUAAAADgJoGHQAAAAECLeohAAAAAgGsmiUAAAADApI+KQA==",
          "dtype": "f8"
         },
         "xaxis": "x",
         "y": {
          "bdata": "WKTH+XqUB0A4QPKBGSACQJCWeAKuqxJA+ERSYQ2/FEDW9a5W+1QgQMCdxxEKsRZAdC6VeiiPHUDgNNYdw6ccQKD/0n3tlR1AmLVn5TCBJUBQnq1PvGocQCSe1KukpCVAFLLJS6yII0CQz/QdbQYiQJBu+CIxtx1ABkxzcFxjG0DcWiz9ZRAXQBb3o3f8qh5AoQNzSGxEIkCrYno3Sk0hQFjbR59rRyJAvuYSr5LHIEBlISDBMvkcQKyeNO+qUxRAiXrZgWiJGEDqgo31LlwdQN9Oc+6ArxdAyw5VvHfMF0BCyJeFk04VQIJfGApOpBlAEEWtq+YBFUDjUpa+qwkUQD1/HN79QhhAXszVSMejGUDjqq1w9IkdQCcGUxfF2RlAMGMTvujlGUDLJk9I2DoZQCDQ4cUeiRdAB49hCjZGGUCJZF3EfbQaQFVObdVmqxZAfifCsrxLGECEHAcTzWYXQGaVnOjaTBxAYlerrlsUGUAKTMw/kTAUQOa0JmBEKxdAx0zv9GRcFkBPJYkA43sVQGlyDC4v4RNAVSs0BF3lEkBw2NuYhAYUQB8MTeH3ABJAcBBwgH+XEEBxcHefd6QRQDdoK95RYhJAHrae4V8YC0DSMGmxUDEQQDwN12SGOBBAlxAGzpl7DUBLOlnekB8OQLiiQyJ+ZgxAFtieixxhCED41aOQYlUJQHARAjkFTAhAQOEnX1efAEB6b14wYlMFQLoVnKET2P4/jpKtLj6xAUCYKqPSfYn7P9DmyrkNMvs/giKlZvz8+z+mu9sI823zP5zVOwkFjvU/lj+an6EF9D+LDqL4v4DwP8Jfs+fRdu0/+Uyd7prr7D8v1mI5Lq/uPx95yMdRtu0/wonKXgmC7T+p4H9PwoXfP+zB9XYHtt4/Mw8ZyVwM5D963yc8stPTP+4bTy3b/+A/ilakop923D/k23iXdKTIP65JwNcCgtk/or/JLnNx2D/qrHUiqhXRPzUyjNvY2Nk/JOSWLJnD1T8t2WstOmXQP4hUuntk89E/wSp9LdI+xj+KDG9eatPUP/nQDKHbYMQ/wnZR9kQtwT+KOVuHCdW6P52DS/M8Vco/Bsg8f7GUxD9eIcqy31W9P3tQhhqCL7I/9nbNKh3YxD/Tq74Ef9eyP4gRUbJHpqg/WkJruHDypT9xQ7jbTn2nPxUnUzz1Kak/PNXFaeR8pj8o2gM6A2WePw==",
          "dtype": "f8"
         },
         "yaxis": "y"
        },
        {
         "line": {
          "color": "#636EFA",
          "width": 2
         },
         "mode": "lines",
         "name": "n6",
         "showlegend": true,
         "type": "scatter",
         "x": {
          "bdata": "AAAAoKUaIUAAAADAJd8jQAAAAMCeoyZAAAAAgAisKEAAAADAP+UqQAAAAADOIC1AAAAAwLZfL0AAAAAArtEwQAAAAECh9jFAAAAAAHgfM0AAAADgjmY0QAAAAMDAzTVAAAAAgHs9N0AAAAAg27Y4QAAAAAD8OjpAAAAAYPrKO0AAAABAg4Y9QAAAAEALcT9AAAAAQNqwQEAAAABA5IhBQAAAAKBKQkJAAAAAQMsIQ0AAAAAgLN5DQAAAAMDKtkRAAAAA4H+SRUAAAABArX1GQAAAAAB6eEdAAAAAIH52SEAAAADAg3dJQAAAAEB2iEpAAAAAgF+pS0AAAABAH81MQAAAAIBu801AAAAAwJkpT0AAAACAwTdQQAAAAAC321BAAAAAwGOHUUAAAACAozpSQAAAAMBm7lJAAAAA4F+pU0AAAAAAUWtUQAAAAKAbLVVAAAAAwJz1VUAAAABg3MRWQAAAAID8k1dAAAAAwPFpWEAAAABAykZZQAAAAICvI1pAAAAA4JsHW0AAAAAApPJbQAAAAIDj5FxAAAAAYHXeXUAAAAAAfN9eQAAAAEAL6F9AAAAAYBp8YEAAAADA/wdhQAAAACA6lGFAAAAAoE4kYkAAAAAAQbhiQAAAACAZUGNAAAAAgGfvY0AAAADgqZJkQAAAAADpOWVAAAAAgCjlZUAAAAAAcZRmQAAAAEDGR2dAAAAAADH/Z0AAAACgUr5oQAAAAMCYgWlAAAAAAAxJakAAAADAVRhrQAAAAADc62tAAAAAoKfDbEAAAADAaaNtQAAAAMAwi25AAAAAoFd3b0AAAACg8zNwQAAAAMBNsHBAAAAAoMEwcUAAAADAdrNxQAAAAEBxOHJAAAAAAJXBckAAAADA6E5zQAAAAEBz4HNAAAAAoDt2dEAAAACASBB1QAAAACCgrnVAAAAAQElRdkAAAAAASvh2QAAAAECoo3dAAAAAIGpTeEAAAAAAlQd5QAAAAAAuwHlAAAAAwC5/ekAAAACgnkR7QAAAAKCQDnxAAAAAYAjdfEAAAABACbB9QAAAAKCRiX5AAAAAwKZpf0AAAADAKCeAQAAAAGDJnIBAAAAAoLYVgUAAAADA8pGBQAAAAKABVIJAAAAAgIgag0AAAAAgBqSDQAAAAOD3eoRAAAAAAF/0hUAAAADgJoGHQAAAAECLeohAAAAAgGsmiUAAAADApI+KQA==",
          "dtype": "f8"
         },
         "xaxis": "x",
         "y": {
          "bdata": "Gqj6wP6DCUB6Pua2xrwRQLHCwubj2BVAO84Ccm9iGUAGQenbT1odQPY/YJsv/h9A9tgT3Zz5IEBjesNGAuIhQD+ID408tCJABXb25tsWI0B+ZFylKzcjQFCOv24lfCNAhnORlR6PI0CPAkfCdUcjQMB2lduI3iJALp58y5F7IkBNNVCVqtchQIaiRz3Y0SBANXtej+wKH0BsUY/a6h4dQK5wwDE6CRxAube8ELlEG0AGPZg68d8aQLNybF+/oBpA0axsJspeGkBN0XMQzfcZQDd8GKHfiRlAsV4QSAE5GUCoYh4K+QcZQBtf3C1T2hhA72t51/OmGEAoO5AKbocYQGMmOn4zdxhASev6NQFXGEDsyi79GCoYQHs0dYNyIBhAt+UiIJEqGECwzq3xgRIYQIKURNQQvxdARmrqgC5TF0BPdPiqXu0WQDkXCmdPkBZA9cWaVrMgFkDDLiiwY5YVQOP25kT5EBVA0eVQw1SeFEDUhFxxy0sUQMjMNiRx+xNAsN8FbtOlE0AzirQeBT0TQBX6dm6R0hJAUF/e2W9fEkAXH29BZvMRQB0XGaCHgxFApZwrkmMOEUD/aUXrsIsQQC1wQ243BxBARCbjSjIGD0Do1aUtv/4NQK5Ejov16gxA67VPh77EC0BP7sjynpMKQBDFYWxlYAlAaJ7v3b0mCEADUlNjOuoGQEScablOqgVAxc3fDtdqBEAY2MTQkioDQHDCFHzX8AFAOrBkOE7FAEAbY2vX2k3/P13SfL/TOP0/Z2UBaWxG+z8QnE16X2L5PxIfSNarkfc/LPwDxprj9T8rhc2dvln0P0/bJQeO6fI/nWJ35cqA8T8VPFjVfSLwP/x6ajKWte0/ydy39jZk6z9/0jYIyWPpP6iq+d9hiuc/i40xLfe65T9njiBENPnjP5PzcSzKSuI/70LkGK3I4D/sPKwr7NneP/3AOcQCYdw/09HEXIYm2j9DgpIf+gjYP3tQynPIG9Y/lnOu+B1T1D/ZrL1yY7LSPy2tLXeCPNE/FQVOmTe/zz/VhYmHhR7NP5xkSMTbnco/NaSscYFKyD9rfRao7DfGP2uOJjzzasQ/+CfEilTRwj+ISKf4cmTBP+vGYudmwL4/PB9w1DTRuj9fU9biU2e4Px6JyO8/RLU/pEgwyTvJsD/jFYn2rK2qP+7+qAU2Dac/nXZIOJbspD9nUkAytQyhPw==",
          "dtype": "f8"
         },
         "yaxis": "y"
        },
        {
         "marker": {
          "color": "#636EFA",
          "line": {
           "color": "#636EFA",
           "width": 1.5
          },
          "size": 10,
          "symbol": "cross-thin"
         },
         "mode": "markers",
         "name": "res of n6",
         "showlegend": false,
         "type": "scatter",
         "x": {
          "bdata": "AAAAoKUaIUAAAADAJd8jQAAAAMCeoyZAAAAAgAisKEAAAADAP+UqQAAAAADOIC1AAAAAwLZfL0AAAAAArtEwQAAAAECh9jFAAAAAAHgfM0AAAADgjmY0QAAAAMDAzTVAAAAAgHs9N0AAAAAg27Y4QAAAAAD8OjpAAAAAYPrKO0AAAABAg4Y9QAAAAEALcT9AAAAAQNqwQEAAAABA5IhBQAAAAKBKQkJAAAAAQMsIQ0AAAAAgLN5DQAAAAMDKtkRAAAAA4H+SRUAAAABArX1GQAAAAAB6eEdAAAAAIH52SEAAAADAg3dJQAAAAEB2iEpAAAAAgF+pS0AAAABAH81MQAAAAIBu801AAAAAwJkpT0AAAACAwTdQQAAAAAC321BAAAAAwGOHUUAAAACAozpSQAAAAMBm7lJAAAAA4F+pU0AAAAAAUWtUQAAAAKAbLVVAAAAAwJz1VUAAAABg3MRWQAAAAID8k1dAAAAAwPFpWEAAAABAykZZQAAAAICvI1pAAAAA4JsHW0AAAAAApPJbQAAAAIDj5FxAAAAAYHXeXUAAAAAAfN9eQAAAAEAL6F9AAAAAYBp8YEAAAADA/wdhQAAAACA6lGFAAAAAoE4kYkAAAAAAQbhiQAAAACAZUGNAAAAAgGfvY0AAAADgqZJkQAAAAADpOWVAAAAAgCjlZUAAAAAAcZRmQAAAAEDGR2dAAAAAADH/Z0AAAACgUr5oQAAAAMCYgWlAAAAAAAxJakAAAADAVRhrQAAAAADc62tAAAAAoKfDbEAAAADAaaNtQAAAAMAwi25AAAAAoFd3b0AAAACg8zNwQAAAAMBNsHBAAAAAoMEwcUAAAADAdrNxQAAAAEBxOHJAAAAAAJXBckAAAADA6E5zQAAAAEBz4HNAAAAAoDt2dEAAAACASBB1QAAAACCgrnVAAAAAQElRdkAAAAAASvh2QAAAAECoo3dAAAAAIGpTeEAAAAAAlQd5QAAAAAAuwHlAAAAAwC5/ekAAAACgnkR7QAAAAKCQDnxAAAAAYAjdfEAAAABACbB9QAAAAKCRiX5AAAAAwKZpf0AAAADAKCeAQAAAAGDJnIBAAAAAoLYVgUAAAADA8pGBQAAAAKABVIJAAAAAgIgag0AAAAAgBqSDQAAAAOD3eoRAAAAAAF/0hUAAAADgJoGHQAAAAECLeohAAAAAgGsmiUAAAADApI+KQA==",
          "dtype": "f8"
         },
         "xaxis": "x2",
         "y": {
          "bdata": "LlPvn69hx7/YDNNhV70AwB2/9yC2H92/t7ZaIUO95b87rt9oHarbPzcdLIhrCvS/zuafYiox4r8dzG39guHtv7QtSbnhYfC/bmh8CD+94z+pRJWL7Mf3v0h4qhy0N+Q/eUXFOTo5f7/ts5e98vfZvw4GgcpoZfa/DvjsGANF/L+qC5pZ4ZgEwKGoO+a5kuO/fivcKoTZ8T8sYAOCWxjuP+QrDzCLH/k/8iDd9h4W9T/IxoT80YDePzCX+U5+TPm/FpefTLio3L9zzkOi/h3rP2JC3p3ov+C/1awXswKk2b8x8ajieXjxv+HaDMZXCc4/ynCJbPdV8r/XtBYQ57v3v2LNNM4kZrC/d1hiGv4H2z8cemuQ0Gb6P8LW0Zz+uOE/RJDZyrbL4j9rN3FSHQ/aPzEBvrxpCbS/Z4bLkAKk5z9y7VDtKqz2P7sIdj4ZuaU/7qaqlFQc7D9YZsi+UfHnP5p7qMKpZQZAFmAdmjQd/j9Boea+qTCpv3PonCrGi/U/ajZctTgy9D96urr3xRnxP2Jka1DlEeE/to5RtyFR0T90Yeyl8V7xP94UzCUcMtE//B7q+h1m0b+ffwVWIT3kP08ovQYae/U/aramd1jf9L/jR+1BZqrnP8/7qsmdDvI/Uwib1CO94j+mkvGzK3DzP7liChLpVfE/ETzBLSRXtj81q1f8o6ntP4zDSY8LfvA/HsdK9t7y+78PcT7lbRTuP1IUC6sGIPS/YqknD6kh3T8/i+Cn8Mnwvx8ayBOJeOK/BDtKDSJTyj9rMcOW5ioAwPRWjgAaZuW/wrUKRo6R5L91OsDFt0z3v/IcWC40Pfu/O5CeDOB59L+S3XBRm63Uvwy1HRBSIUQ/mPhHGjPB3T/c1A1Hv6UFwA4i65KCWQPA2jSnjDln3b/BvcMTzUINwF36RowWudm/A8DJ+u/w6r/fRCynuq8QwJMT/Tp2tOC/tz0+FSSe1L/yl5K8YZn3vxzYQLa5Iec/lZZqYi0P0z+iXEPUDWDhv8SQcpk708Q/s3hMZaxY9L9+/TWNjOH1P0zTyECcaeu/87976RI28L/vVt/yMQ72v9zmrcDsYuo/yb6ORFio0T95QVA9f+Xfv7dEvIdKLP6/7k7bUNyk9D85hs7wLFjjvyKgQ4jIs/m/8TRxzwFY9r+w9NoOf4bVv9cpG3bQF8Q/K9tdPtd6vj8w8uJwhN/Rvw==",
          "dtype": "f8"
         },
         "yaxis": "y2"
        },
        {
         "error_x": {
          "array": {
           "bdata": "AAAAAGjE/D8AAAAAAo/5PwAAAADYHvI/AAAAAISG4j8AAAAAzLjlPwAAAACSqOU/AAAAAHLO9T8AAAAAVHzmPwAAAACaS+c/AAAAAEb16z8AAAAAzMPtPwAAAACe+O8/AAAAAIhL8D8AAAAAvIHmPwAAAAA4Ouk/AAAAALzl6T8AAAAASIjqPwAAAADgIes/AAAAAOjO7j8AAAAANHXvPwAAAACaB/A/AAAAAHhO8D8AAAAAbjryPwAAAACSgPI/AAAAAIi+8j8AAAAAVPTyPwAAAAAu4fQ/AAAAANwM9T8AAAAA7C31PwAAAADACvc/AAAAAJwX9z8AAAAA+Bb3PwAAAAB0zfg/AAAAADis+D8AAAAAsH74PwAAAABsDvo/AAAAAHTi+T8AAAAAdLz5PwAAAACIUPs/AAAAAFQz+z8AAAAAZB37PwAAAABEv/w/AAAAAGC3/D8AAAAA3Gj+PwAAAAAUdP4/AAAAABoeAEAAAAAANiwAQAAAAABMFQFAAAAAAMAkAUAAAAAAHDQBQAAAAAC4IAJAAAAAAGQxAkAAAAAA6CADQAAAAADEEgRAAAAAAEwmBEAAAAAAMBsFQAAAAAAUMAVAAAAAABQoBkAAAAAAVD4GQAAAAAB0OQdAAAAAABQ3CEAAAAAAOFAIQAAAAAAMUQlAAAAAAGRUCkAAAAAAcHAKQAAAAAD8dgtAAAAAAByADEAAAAAA1IsNQAAAAABArA1AAAAAACC7DkAAAAAAkMwPQAAAAABMcBBAAAAAAIyCEEAAAAAADA4RQAAAAADQmhFAAAAAAMwoEkAAAAAAALgSQAAAAABoSBNAAAAAAATaE0AAAAAAvGwUQAAAAACcABVAAAAAAIiVFUAAAAAAiCsWQAAAAACAwhZAAAAAAGxaF0AAAAAAPPMXQAAAAABoDRlAAAAAAOCoGUAAAAAAAEUaQAAAAADA4RpAAAAAAPx+G0AAAAAAvJ8cQAAAAABCji1AAAAAAJRRL0AAAAAAaGMgQAAAAACIsyBAAAAAAIBGIUAAAAAAxt8xQAAAAAD0uyJAAAAAALAKI0AAAAAAeJwjQAAAAACoLSRAAAAAAAy+JEAAAAAAXE0lQAAAAAAolyVAAAAAAOxoNkAAAAAACno3QA==",
           "dtype": "f8"
          },
          "arrayminus": {
           "bdata": "AAAAAGjE/D8AAAAAAo/5PwAAAADYHvI/AAAAAISG4j8AAAAAzLjlPwAAAACSqOU/AAAAAHLO9T8AAAAAVHzmPwAAAACaS+c/AAAAAEb16z8AAAAAzMPtPwAAAACe+O8/AAAAAIhL8D8AAAAAvIHmPwAAAAA4Ouk/AAAAALzl6T8AAAAASIjqPwAAAADgIes/AAAAAOjO7j8AAAAANHXvPwAAAACaB/A/AAAAAHhO8D8AAAAAbjryPwAAAACSgPI/AAAAAIi+8j8AAAAAVPTyPwAAAAAu4fQ/AAAAANwM9T8AAAAA7C31PwAAAADACvc/AAAAAJwX9z8AAAAA+Bb3PwAAAAB0zfg/AAAAADis+D8AAAAAsH74PwAAAABsDvo/AAAAAHTi+T8AAAAAdLz5PwAAAACIUPs/AAAAAFQz+z8AAAAAZB37PwAAAABEv/w/AAAAAGC3/D8AAAAA3Gj+PwAAAAAUdP4/AAAAABoeAEAAAAAANiwAQAAAAABMFQFAAAAAAMAkAUAAAAAAHDQBQAAAAAC4IAJAAAAAAGQxAkAAAAAA6CADQAAAAADEEgRAAAAAAEwmBEAAAAAAMBsFQAAAAAAUMAVAAAAAABQoBkAAAAAAVD4GQAAAAAB0OQdAAAAAABQ3CEAAAAAAOFAIQAAAAAAMUQlAAAAAAGRUCkAAAAAAcHAKQAAAAAD8dgtAAAAAAByADEAAAAAA1IsNQAAAAABArA1AAAAAACC7DkAAAAAAkMwPQAAAAABMcBBAAAAAAIyCEEAAAAAADA4RQAAAAADQmhFAAAAAAMwoEkAAAAAAALgSQAAAAABoSBNAAAAAAATaE0AAAAAAvGwUQAAAAACcABVAAAAAAIiVFUAAAAAAiCsWQAAAAACAwhZAAAAAAGxaF0AAAAAAPPMXQAAAAABoDRlAAAAAAOCoGUAAAAAAAEUaQAAAAADA4RpAAAAAAPx+G0AAAAAAvJ8cQAAAAABCji1AAAAAAJRRL0AAAAAAaGMgQAAAAACIsyBAAAAAAIBGIUAAAAAAxt8xQAAAAAD0uyJAAAAAALAKI0AAAAAAeJwjQAAAAACoLSRAAAAAAAy+JEAAAAAAXE0lQAAAAAAolyVAAAAAAOxoNkAAAAAACno3QA==",
           "dtype": "f8"
          },
          "color": "#EF553B",
          "symmetric": false,
          "thickness": 1.5,
          "type": "data",
          "width": 0
         },
         "error_y": {
          "array": {
           "bdata": "8Ymy6fLs7D9HIv2IIBDzP3qQEiLPoPc/Ff4eZ5FTAECJRgiVUQP/P1qufMIll/w/s4U1ShEn8z8uSlrOlXr7P2lrBUmKH/k/kNQ2ePet9j99+NyLiSfzPw+oFS6h8fE/YUIVqsJq8T8qySfCthf2P2hcxhD5//I/DE0wMlBL8D+w7cMoR2HwP1+aFZXwS/A/n5bsyqMZ7D8EgB/Vo+LpP8eJVi/26Ok/2VT1OC+S6T/VfuF0QBjoP2j+hsx3Dec/OGOamEfA5j8xkllhsaXlP0BzwFEW6+E/z6gSjGPI5T/mkVyPeF3lP3yWYqBMuuQ/nYZro04+5D8WKtFPQYnjP9izmyRN4uE/SjPtVidH4T94yfYiVRriP4RvBl0PG98/9jHjoc6n4D/o9Jsd1q/gP8Gd398/Nd8/D10LLtRo4D/4DajjvOLcPypIzLo7KN8/CMYADPqQ3T9mdFSrXYHbPyaSuyc5fto/sRCEsp4t2D+4CL3Y73/bPwersX0Tttc/dD8xV7ZU1z8xxIGovWbVP4rR8DJuStY/S1+UQBqE1T+SHKK8CRnUPy2HeBRnhtI/tdKk7D8q0z8lDznBlp7RP00PQEhLRdM/QkOimPYb0T+GjNZs8mLQPyEfaymj/9A/R1lwk4dOzz86YiNy/YPQP6TmxZZ2Lco/pL+d3VDvyT/GbugdsB7IPymt4/zsqso/dS6Xk1XFxT+ZfWAi/D3HP8upYFmxDcY/9Ws3sk6/xD9py7q1DyLDP5j/tpVxdcA/VSAVC7CKwD+SdzbFJorBPx7sZQp2kr8/s94aWCKauj8WzmhXl9K7P8osrZYtdro/5cwz8OGZuD+2mmSO9+e3PzL55AZFJrQ/Gp0iLX4utD+7o4mhxYa2P+LOSYCm8bM/tcy+x0+xsz+wCw3b6Y6wP/FpTLuQlrI/Ck2IG6m7sD+zNY0V8UaxP8HMWt9O2Ko/K6O+uk31pz+JWdUMv0CqP3jin1A9GKE/dxRoF/fCnT9NF0LgQwamP2CNtuUGNaQ/UzqaQ6jipD+tcADxnvWWP0tVYDd7eJ8/WEG/9olqoD+Gp+ZGu2SiPwdhrz1E/Z4/62vPGNVEoD++32qhY6abP8/YfHRoR5s/v44nrSnGkD+mgm0V05uQPw==",
           "dtype": "f8"
          },
          "color": "#EF553B",
          "thickness": 1.5,
          "type": "data",
          "width": 0
         },
         "marker": {
          "color": "#EF553B",
          "size": 0,
          "symbol": "cross-thin"
         },
         "mode": "markers",
         "name": "obs of n7",
         "showlegend": false,
         "type": "scatter",
         "x": {
          "bdata": "AAAAgP6sI0AAAADAa3cqQAAAAAAn7S9AAAAAILWsMUAAAACgr+4yQAAAAIC6STRAAAAAQOZTNkAAAAAAsGQ4QAAAAIDv0jlAAAAAgPZsO0AAAAAAvzo9QAAAAECiKD9AAAAA4I+WQEAAAAAA83JBQAAAAODiMUJAAAAAwGL+QkAAAADAGtBDQAAAAGDDpkRAAAAAgIaORUAAAAAAl4dGQAAAAICohUdAAAAAIFmISEAAAABAoJxJQAAAAEB4wkpAAAAAIHHsS0AAAAAACBpNQAAAAAC0WE5AAAAAYCSoT0AAAABA/XxQQAAAAADgLVFAAAAAgGnmUUAAAADAI59SQAAAAIC1XlNAAAAAIJwkVEAAAADAR+lUQAAAAEB8s1VAAAAAwD+DVkAAAABAu1FXQAAAAEDvJVhAAAAAwP7/WEAAAACAQdlZQAAAAEC0uFpAAAAAwI6eW0AAAADAD4tcQAAAAICDfl1AAAAAgER5XkAAAAAAl3tfQAAAAIDRQmBAAAAAwLnLYEAAAABAHVVhQAAAAIBw4mFAAAAAALlzYkAAAAAgAgljQAAAAMDQpWNAAAAAALVGZEAAAAAAu+tkQAAAAADolGVAAAAAwEhCZkAAAABA4vNmQAAAAIDBqWdAAAAAgINnaEAAAADAoClpQAAAAMAl8GlAAAAAgLu+akAAAADgzpFrQAAAAIBsaWxAAAAAAElJbUAAAADAeDFuQAAAAABZHm9AAAAAQPsHcEAAAACgCoVwQAAAAABlBnFAAAAAQDCKcUAAAADAchByQAAAACAWm3JAAAAAgCQqc0AAAADAp71zQAAAAGCpVXRAAAAAADPydEAAAAAATpN1QAAAAIADOXZAAAAAAFzjdkAAAABAYJJ3QAAAAGAYRnhAAAAAAIz+eEAAAADAwrt5QAAAAEDFf3pAAAAAYJ5Ke0AAAADgVRp8QAAAAODw7nxAAAAAwHPIfUAAAADA7qh+QAAAAODvA4BAAAAAQG/3gEAAAAAgQ7aBQAAAAOCeOoJAAAAAAIfCgkAAAABAn5aDQAAAAECNcIRAAAAAwKcHhUAAAABgRKKFQAAAAOBsQYZAAAAAwBvlhkAAAABASY2HQAAAAGDbOIhAAAAAYH9CiUAAAAAAl7GKQA==",
          "dtype": "f8"
         },
         "xaxis": "x",
         "y": {
          "bdata": "qLhqAv9JAEDg5tQ5m1kMQPj8rk27vxNAQPJxQpGiFUCon0SmX+EgQBiOvSqL3RVAwKFIFHr4CkDwBCoSdWcfQFCcL8GoDBlADEq3gPJhHkBMkcVqrVYEQKw9uL8LZwxAfoQjG7zhEUA+tu69tWISQLAMpahG8w1AbMqvhXqHA0CX/7qDk4ARQFmS+MwixRNAECCPXlLDD0B63umFhREHQMwhISun2g1Ah/DotGQhEEByQ+Y1ue0PQNrvSTquOQxAqqnyKNQBDkC2zea3CXsKQDhZSPNA1vU/QW/b8uN9EUAEVKvRE5YPQLRiEoos1A5ApCoxg/xZEEBsWUSd72IQQDJM10yzwA1AfL0HNQs1C0DEQF2Fnp4QQCsz0c1kIQZAb7W5gp9YDEARO0rxT2oOQFkpW7mhngtAcp98lNlzEEB9EEDsVGwHQMzcFsesXxBAxJVYde8tDEBgM9irFSYJQMTlFzw1kgZAZvMqPaJTA0DNyX9C8+gNQIw5aLickAVAPxw5jJT5BEDvuPBDtC4BQJhEaX+YmgRAWOH4buYsA0DCNOJjy0sBQGB9vNt4ff0/bRYWqPJZAUCnr3zlJsr9P0CPg/U5mgNAMjVQZYC1/T/bU+nAdIL6Px72sPAj5v8/5DTd1vaQ+j83JcAjKaQAQF/Mjr2t6vM/kOg+MQib9D+tUCoRO4XxP7hAdYhCkvk/BoIPRpR27j/s4+PksrLzP8pEoL9WrfE/iFqtXqFx7z/bJRa97inpP0r63pCoyOE/9mXeXSkB5D9AscRLFxjpP71boWogzuM/rFcwz4LI2T8g3hbR8nTgP6T1IMr+AeA/stSL4vuh2z8RAMDX8F/cP98M8oIdBNE/hnZnQPhC0j8vs0HLpyfbPxbumqVcR9U/wKW4gZ+S1D9jLGGOyZ7KP31yrCRvMtQ/w9/BYfBg0D9R0CPaswLTP7a88ZI+WcE/bARboUlBtT8MJNitkbq/P/bh7gVw/bg/0m7Fgfmssz9QSSwdmhvAPwmjsWU1aro/KEbG6N8kwD+GI8zzChSrPx7VcI5Nz60/pDBAUu1xsj99x0mYS827P1Vxt3hYFbA/WZlEHWrMtT+H+Svc+5asP3F11K5A66s/O4OlxpRxoD9hiEanGlalPw==",
          "dtype": "f8"
         },
         "yaxis": "y"
        },
        {
         "line": {
          "color": "#EF553B",
          "width": 2
         },
         "mode": "lines",
         "name": "n7",
         "showlegend": true,
         "type": "scatter",
         "x": {
          "bdata": "AAAAgP6sI0AAAADAa3cqQAAAAAAn7S9AAAAAILWsMUAAAACgr+4yQAAAAIC6STRAAAAAQOZTNkAAAAAAsGQ4QAAAAIDv0jlAAAAAgPZsO0AAAAAAvzo9QAAAAECiKD9AAAAA4I+WQEAAAAAA83JBQAAAAODiMUJAAAAAwGL+QkAAAADAGtBDQAAAAGDDpkRAAAAAgIaORUAAAAAAl4dGQAAAAICohUdAAAAAIFmISEAAAABAoJxJQAAAAEB4wkpAAAAAIHHsS0AAAAAACBpNQAAAAAC0WE5AAAAAYCSoT0AAAABA/XxQQAAAAADgLVFAAAAAgGnmUUAAAADAI59SQAAAAIC1XlNAAAAAIJwkVEAAAADAR+lUQAAAAEB8s1VAAAAAwD+DVkAAAABAu1FXQAAAAEDvJVhAAAAAwP7/WEAAAACAQdlZQAAAAEC0uFpAAAAAwI6eW0AAAADAD4tcQAAAAICDfl1AAAAAgER5XkAAAAAAl3tfQAAAAIDRQmBAAAAAwLnLYEAAAABAHVVhQAAAAIBw4mFAAAAAALlzYkAAAAAgAgljQAAAAMDQpWNAAAAAALVGZEAAAAAAu+tkQAAAAADolGVAAAAAwEhCZkAAAABA4vNmQAAAAIDBqWdAAAAAgINnaEAAAADAoClpQAAAAMAl8GlAAAAAgLu+akAAAADgzpFrQAAAAIBsaWxAAAAAAElJbUAAAADAeDFuQAAAAABZHm9AAAAAQPsHcEAAAACgCoVwQAAAAABlBnFAAAAAQDCKcUAAAADAchByQAAAACAWm3JAAAAAgCQqc0AAAADAp71zQAAAAGCpVXRAAAAAADPydEAAAAAATpN1QAAAAIADOXZAAAAAAFzjdkAAAABAYJJ3QAAAAGAYRnhAAAAAAIz+eEAAAADAwrt5QAAAAEDFf3pAAAAAYJ5Ke0AAAADgVRp8QAAAAODw7nxAAAAAwHPIfUAAAADA7qh+QAAAAODvA4BAAAAAQG/3gEAAAAAgQ7aBQAAAAOCeOoJAAAAAAIfCgkAAAABAn5aDQAAAAECNcIRAAAAAwKcHhUAAAABgRKKFQAAAAOBsQYZAAAAAwBvlhkAAAABASY2HQAAAAGDbOIhAAAAAYH9CiUAAAAAAl7GKQA==",
          "dtype": "f8"
         },
         "xaxis": "x",
         "y": {
          "bdata": "lUsaa5QIAkBQLg5zSNwMQOHxR9CLWxJAJrisiwJiFEAxbd5LNEsVQMKEqpSbpxVADQoTR7zRFUAsmghqCd8VQEU9euHukRVAPkgixIs1FUCCn1V9zZoUQBwsJIJQkxNAZFwATvATEkADrKrXaeQQQB3otdWROhBAkoWfpvi7D0A9XUZISUMPQGC1WMQm9Q5Ae6Axo0mwDkBr1R1uJDwOQIzi1HBt1Q1A87LtUVS3DUC6/LDGvJENQGnkd2gvRw1AIT+340soDUAm9Z6piS8NQAjZK5IFLA1AazJEw88aDUDxtlT5CgUNQJHv7eUh9QxAHIBtqZreDEDdU5SPE74MQCxs/wRghgxAi/v8b1hKDEC3fFYyFvcLQHv7OU34iwtARLvcPCEMC0DfTxp5KaIKQNU1OtLjTgpAKUY7uwsDCkAyEnymv64JQNdzLdr8RglAlfoWLyHUCEDSFo4DC2gIQBf60RStAghAYCOczROHB0Bn9bU5WekGQD20Q0kUNQZAKvCy0lmTBUC/EhxCkRAFQCCunWiumQRATUG17/YUBEBqcAJ01G8DQOQCyYtWrwJAVCTa8zzjAUAsRM5j3x8BQDuxOrkyZQBAg6PLgMpb/z9QMRJ8ttz9P8GkcQ/iTvw/8iNsR6G7+j8vPH7ClTj5PwYcZljSxPc/1AWJzspT9j/HgiOXAuj0PyoutqatiPM/EZGM+hs08j9RGEqnAO3wP5e5nSx1gu8/wCoAlkFf7T+ivs0BtmbrP0Vps/pOgOk/co3JV3vA5z/4cfDv9irmP8u2um+rtOQ/YMe5RZI94z92G5MotsHhP3af6UdUSOA/n1lidHf33T8mPkW1ybHbP8UfJ7m4ttk/tdqsYzvB1z9uChicTN7VP2cSi7WAC9Q/It9eof1d0j8Wwwg4DN3QPzBY2XwZCc8/GgPz4QaTzD9UhzhPY0rKP9MQEkpbHcg/UVDO4JElxj+E0hyub1TEP8M4KUF44cE/XnwwJ9PdvT8ZmpBZgPa5P86alxnAwLc/TFN9FEy4tT/MQPIDiP2yP3S/jYDljrA/jdqeVyYvrj9/l1DKBYerPxAetAv2aKk/GfhInzNNpz9iC9Q/CRGlP9N9eBjvA6M/tLnGS9yDoD/MEwmPtUqbPw==",
          "dtype": "f8"
         },
         "yaxis": "y"
        },
        {
         "marker": {
          "color": "#EF553B",
          "line": {
           "color": "#EF553B",
           "width": 1.5
          },
          "size": 10,
          "symbol": "cross-thin"
         },
         "mode": "markers",
         "name": "res of n7",
         "showlegend": false,
         "type": "scatter",
         "x": {
          "bdata": "AAAAgP6sI0AAAADAa3cqQAAAAAAn7S9AAAAAILWsMUAAAACgr+4yQAAAAIC6STRAAAAAQOZTNkAAAAAAsGQ4QAAAAIDv0jlAAAAAgPZsO0AAAAAAvzo9QAAAAECiKD9AAAAA4I+WQEAAAAAA83JBQAAAAODiMUJAAAAAwGL+QkAAAADAGtBDQAAAAGDDpkRAAAAAgIaORUAAAAAAl4dGQAAAAICohUdAAAAAIFmISEAAAABAoJxJQAAAAEB4wkpAAAAAIHHsS0AAAAAACBpNQAAAAAC0WE5AAAAAYCSoT0AAAABA/XxQQAAAAADgLVFAAAAAgGnmUUAAAADAI59SQAAAAIC1XlNAAAAAIJwkVEAAAADAR+lUQAAAAEB8s1VAAAAAwD+DVkAAAABAu1FXQAAAAEDvJVhAAAAAwP7/WEAAAACAQdlZQAAAAEC0uFpAAAAAwI6eW0AAAADAD4tcQAAAAICDfl1AAAAAgER5XkAAAAAAl3tfQAAAAIDRQmBAAAAAwLnLYEAAAABAHVVhQAAAAIBw4mFAAAAAALlzYkAAAAAgAgljQAAAAMDQpWNAAAAAALVGZEAAAAAAu+tkQAAAAADolGVAAAAAwEhCZkAAAABA4vNmQAAAAIDBqWdAAAAAgINnaEAAAADAoClpQAAAAMAl8GlAAAAAgLu+akAAAADgzpFrQAAAAIBsaWxAAAAAAElJbUAAAADAeDFuQAAAAABZHm9AAAAAQPsHcEAAAACgCoVwQAAAAABlBnFAAAAAQDCKcUAAAADAchByQAAAACAWm3JAAAAAgCQqc0AAAADAp71zQAAAAGCpVXRAAAAAADPydEAAAAAATpN1QAAAAIADOXZAAAAAAFzjdkAAAABAYJJ3QAAAAGAYRnhAAAAAAIz+eEAAAADAwrt5QAAAAEDFf3pAAAAAYJ5Ke0AAAADgVRp8QAAAAODw7nxAAAAAwHPIfUAAAADA7qh+QAAAAODvA4BAAAAAQG/3gEAAAAAgQ7aBQAAAAOCeOoJAAAAAAIfCgkAAAABAn5aDQAAAAECNcIRAAAAAwKcHhUAAAABgRKKFQAAAAOBsQYZAAAAAwBvlhkAAAABASY2HQAAAAGDbOIhAAAAAYH9CiUAAAAAAl7GKQA==",
          "dtype": "f8"
         },
         "xaxis": "x2",
         "y": {
          "bdata": "wm6qvsvgzr/OVSOPgmurv/RS3GU0Js4/H0wNs16iwz9KMj/bPLr5P465fbIcL54/LFx5GEHZ+79Xo0lb5TP2Py6NyhsnuuE/9Aum6ALj+T//pi+gB28BwPtbkJABK/O/n8H8NEcPp78f8zd4403RP64qD+wn5NC/syZR3ij49791XyAmKT3dP0feuTJB2vA/H0ynGEWTwz9I8dmA/7fxvz2BAV6c0Gk/dpPPJPR52T/qgIQfMBHZP22zAyy3Yce/be0i4m8fwz8x4k2yfv3fv9BBPAufTBDAfQCA4cBF8T+wzp8ar8DePxnWJNpzHNc/87/bwT496D/vwJ9LR2jqP43gLTpnk9E/V6A2cqkM0L8e88k2Q6XyP6uf0ibDSfa/X3CYfIX20z9GbFlXZQLtP4gSLh0yhNU/oaCUHXni+j9MU+z9OgbkvwKAFxBgsP4/r4AKF1AD7T9LMkwoFqPLP6Jmep/y0Nu/tKVCx2w99r8OCo5IlUkAQBNuo1S4vsu/dro03Qhdyr9cndyYOzj3v9D2RAzVAFU/mL+ilkGS1b8gM3U8t0Trv1/GyJsDOfu/zFIIpYCnzL/rEaoqqDLwvxNJoT5yTfU/BCcZXpWu2L/AabNtGjDqv7rssToLCus/kjQRnCbOpb9ttKDSPT3/P7G/Gwzs1fK/I89dzbL+4L+zUIEg2ffxv6i80Y+C+vw/bEo7pS558b+pTJK474juP3gqFId7UOY/LlRPuEOQ2T8cAPaKxO/dv93ruppTAv6/z3UFhTf/7L+gxjnO71rlP3UHRFJcNc2/I+UYm3SM/r+UGEZOmuvXv2UEVUyAQ7W/kcwbV21J2L+TUVSzsyO9P2pmsjNHoPu/mQqxMItr8b+byC1FDQruP75xoEC4rM8/14ubPxqs3D/GKF8W4nfrvyDDKZdhHPA/e317lIL/3z+UtAY3Err1P87zc+x1IfC/5fGKXoTF/r+bF2VHm8Xlv1Jk43jXKfS/TzZF0iHq9b8q08JKaiviP9Fnljqg3NA//xpV+zcx8D/R4HbIB2Tuv+BVwcvU5cq/jBuqZbwk2j8IIZsQRmz4P++aRHSS6Ns/7QbkSsL18z8DscCH5WnhP5/MtWCV4+Q/SJ2x+5Jvgb/dYeRmY6LtPw==",
          "dtype": "f8"
         },
         "yaxis": "y2"
        },
        {
         "error_x": {
          "array": {
           "bdata": "AAAAANdSFUAAAAAA7UEgQAAAAACsIwNAAAAAAFHfEkAAAAAAFYwKQAAAAACOpvI/AAAAABEwDkAAAAAADPr0PwAAAABY1fY/AAAAALjp9j8AAAAASPX2PwAAAABEvPg/AAAAABS1+D8AAAAAnKr4PwAAAACsY/o/AAAAAERb+j8AAAAAxFT6PwAAAAAkEfw/AAAAAEQO/D8AAAAAvA38PwAAAACY0P0/AAAAAGjV/T8AAAAABJ//PwAAAADkqv8/AAAAAEy+AEAAAAAARMYAQAAAAADYsAFAAAAAAIy5AUAAAAAANMIBQAAAAADErgJAAAAAACi4AkAAAAAAXKYDQAAAAADklQRAAAAAAOigBEAAAAAAJJIFQAAAAADwnQVAAAAAAPCQBkAAAAAAgJ0GQAAAAABIkgdAAAAAAHSICEAAAAAAsJYIQAAAAACwjglAAAAAACCICkAAAAAAAJgKQAAAAACiERxAAAAAADSODUAAAAAAkKANQAAAAACYoA5AAAAAABCiD0AAAAAAhFIQQAAAAADgXBBAAAAAADjfEEAAAAAARGIRQAAAAAAI5hFAAAAAAHxqEkAAAAAAqO8SQAAAAADAuCNAAAAAACiDFEAAAAAAJk8lQAAAAABYHBZAAAAAAOClFkAAAAAA9C8XQAAAAACkNhhAAAAAAEjCGEAAAAAAkJQpQAAAAACIZxpAAAAAAHb4QUAAAAAASXREQAAAAAC84jFAAAAAAKicPEAAAAAA+kA0QAAAAADSKDVAAAAAAIDsJUAAAAAAas02QA==",
           "dtype": "f8"
          },
          "arrayminus": {
           "bdata": "AAAAANdSFUAAAAAA7UEgQAAAAACsIwNAAAAAAFHfEkAAAAAAFYwKQAAAAACOpvI/AAAAABEwDkAAAAAADPr0PwAAAABY1fY/AAAAALjp9j8AAAAASPX2PwAAAABEvPg/AAAAABS1+D8AAAAAnKr4PwAAAACsY/o/AAAAAERb+j8AAAAAxFT6PwAAAAAkEfw/AAAAAEQO/D8AAAAAvA38PwAAAACY0P0/AAAAAGjV/T8AAAAABJ//PwAAAADkqv8/AAAAAEy+AEAAAAAARMYAQAAAAADYsAFAAAAAAIy5AUAAAAAANMIBQAAAAADErgJAAAAAACi4AkAAAAAAXKYDQAAAAADklQRAAAAAAOigBEAAAAAAJJIFQAAAAADwnQVAAAAAAPCQBkAAAAAAgJ0GQAAAAABIkgdAAAAAAHSICEAAAAAAsJYIQAAAAACwjglAAAAAACCICkAAAAAAAJgKQAAAAACiERxAAAAAADSODUAAAAAAkKANQAAAAACYoA5AAAAAABCiD0AAAAAAhFIQQAAAAADgXBBAAAAAADjfEEAAAAAARGIRQAAAAAAI5hFAAAAAAHxqEkAAAAAAqO8SQAAAAADAuCNAAAAAACiDFEAAAAAAJk8lQAAAAABYHBZAAAAAAOClFkAAAAAA9C8XQAAAAACkNhhAAAAAAEjCGEAAAAAAkJQpQAAAAACIZxpAAAAAAHb4QUAAAAAASXREQAAAAAC84jFAAAAAAKicPEAAAAAA+kA0QAAAAADSKDVAAAAAAIDsJUAAAAAAas02QA==",
           "dtype": "f8"
          },
          "color": "#00CC96",
          "symmetric": false,
          "thickness": 1.5,
          "type": "data",
          "width": 0
         },
         "error_y": {
          "array": {
           "bdata": "DiEjVlKR5T+21sg/5aLbP0rJSkWEB+M/Vdh0ASV+1T8cV6m9rS3XPy+FHvi6i+M/BxkRphtY1D8VHXBk7n7iP5PDrhT4GeI/AY8L5QYI4j+hGoy2lFngP029R+SdAt0/xnR1LMw93j9oJlWqLXncPya7pLc8A9o/yqqOudOd3D8yvBtNC2HbP0wWp+uZN9o/+cGkjn1b2j8X9y23Z8HaP6IkAcmICds/dkvyZUsn2T/DKzUF4DLTP/h9iPsZY9o/fyfkX0De1z+Uf/DOoTnUP4/s9jsdDtQ/h7U3/hMG0z9TqLrD4YfSP4xcqFMNlNI/lcv5Aas/0T8BX0pUG2/QP/QvcHl5X88/mZZWwYsZzz+5NnHl30vLP7CvrLV9o84/2IfdfRJJyz/e7+WajUjNP+PTt+dOZ8g/tZ7KrJkoyj82MwomjP3FP7Jv+M7nkcc/KZXxqEcxxD+CNE5nqvTDP+BjIDUSF7o/wgQOUc9twT/QiknLQrXDP/eTa8iapMA/EQs9N42Juz+wfCRMAzS8P2bU5n5avLs/MJ5rbOTsuz9FSrb10bK8P1tNioSFqrk/hucuYFRntD/y/XQiJ0m1P7ozvTRubKw/H5n40xZRsz9DamO+bN2lP+f3c+dr+7A/3koRVZqRsD9Vctjw7r2vP1oQQo/Y/K4/vVvmKJg9qz8llMwtLISjPy7zpKbNjqk/oAzGBxNHlD/jRRngD8+MP03C0PDu6pY/eBoSsrbejj+AiVooQ4qSP76TecEsaJI/LUrvCBlCnT8YcpDgva2RPw==",
           "dtype": "f8"
          },
          "color": "#00CC96",
          "thickness": 1.5,
          "type": "data",
          "width": 0
         },
         "marker": {
          "color": "#00CC96",
          "size": 0,
          "symbol": "cross-thin"
         },
         "mode": "markers",
         "name": "obs of n8",
         "showlegend": false,
         "type": "scatter",
         "x": {
          "bdata": "AAAAAIG/K0AAAADAbFU7QAAAAGBs7UJAAAAAQJF7RkAAAADAPIBKQAAAAIAyvkxAAAAAAGg2T0AAAADAnOBQQAAAAEDaj1FAAAAAgNZGUkAAAACAUv5SQAAAAMAYvVNAAAAAAN6CVEAAAADAXEhVQAAAAACWFFZAAAAAwJHnVkAAAADAUbpXQAAAAIDpk1hAAAAAAGd0WUAAAAAA11RaQAAAAGBQPFtAAAAAYOgqXEAAAAAAuiBdQAAAAMDhHV5AAAAAoH8iX0AAAAAAUhdgQAAAAIAuoWBAAAAAANguYUAAAAAAx7xhQAAAAACLTmJAAAAAoCbkYkAAAADAoH1jQAAAAMCRHmRAAAAA4GzDZEAAAAAAOWxlQAAAAGD5GGZAAAAA4LTJZkAAAACgbn5nQAAAAMAtN2hAAAAAwJj3aEAAAABAFbxpQAAAAMCqhGpAAAAAAAZVa0AAAACAhilsQAAAAIBzdG1AAAAAgDnLbkAAAACA9LdvQAAAAIB8VHBAAAAA4AHRcEAAAAAAkFFxQAAAAKBN1HFAAAAAAD5ZckAAAAAAROJyQAAAACBlb3NAAAAAQKcAdEAAAADAD5Z0QAAAAGCUf3VAAAAAAGdvdkAAAADA7Gt3QAAAAGDXbnhAAAAAQOAheUAAAACAN9l5QAAAAADSlnpAAAAAoLVae0AAAABAY4p8QAAAAOClwH1AAAAAYKk0gEAAAABAdZuCQAAAAMDPcYRAAAAA4MrlhUAAAAAAuGyHQAAAAEAGuIhAAAAA4P64iUAAAABAHMeKQA==",
          "dtype": "f8"
         },
         "xaxis": "x",
         "y": {
          "bdata": "ACzN512ltb+AoEoSc57aP8AcC8SwWfU/aPcaYXen5T+4X+t8lMPmP3QwUESe9fM/OMaUtG3l5z98OcTxbmz3P7S3QesEPf0/wXvdGhqeA0B0GVmj4cL9P2SuZs0X8vY/+OCbgnzN/T8WIBoQ2Qf4P6JfxA/gmvQ/aF+y1PulAUBgnmZmuK3+Py4oHKCMTf8/tu2OxBfwAUBGQgLur4sCQH5BPMCsDAZAVZ+gb1rhAECE7LpPmCDqP9gSRPZxmAhAnOsC2E4LBUCqISAL7Nr3P53HNLO64/o/Ei20cLgT9j934Nnhj071PzcQz2I/D/g/Vv64SnwD8z+RK+c+PxXzPwYWM9zJr/E/lbR+x0Xn8j+ciJGrL/rnP75U631RRPM/CbGtCTi46j+8E58ZHSnyP1o4KeAqP+I//MrTtT787j8noqxTgPvhP5UIzNiHQes/OjA4cP+g4j9ZvMaFBfPiPwCksYxeu98/gmPIQqjQ3T87iLRsgDfpP+JV5eBpvt4/OGOQ8vMzzD9w3jIG/GXQPwvTbR9EDdQ/4s3bec0J1z8GmDqG+x3cP6EygRLAHdU/v0jAitN9xD/WUD3IK9nJP4VK9fBIzck/MypQCGSgzD+iLeOLuZO2P8rF2cT+wcQ/eGVrF84exT91HS0zqOTEP5O+41b9o8M/4MLUUq97uz9YpbNc+Ja9P/bNS2uYGrY/sEfqGccNrz/QD+7M8IebPxIQV1vQF6Y/BJuKU/aInT82qnh/T7ShP49DomHc/aQ/biOf08zdsj/3LyZ3elilPw==",
          "dtype": "f8"
         },
         "yaxis": "y"
        },
        {
         "line": {
          "color": "#00CC96",
          "width": 2
         },
         "mode": "lines",
         "name": "n8",
         "showlegend": true,
         "type": "scatter",
         "x": {
          "bdata": "AAAAAIG/K0AAAADAbFU7QAAAAGBs7UJAAAAAQJF7RkAAAADAPIBKQAAAAIAyvkxAAAAAAGg2T0AAAADAnOBQQAAAAEDaj1FAAAAAgNZGUkAAAACAUv5SQAAAAMAYvVNAAAAAAN6CVEAAAADAXEhVQAAAAACWFFZAAAAAwJHnVkAAAADAUbpXQAAAAIDpk1hAAAAAAGd0WUAAAAAA11RaQAAAAGBQPFtAAAAAYOgqXEAAAAAAuiBdQAAAAMDhHV5AAAAAoH8iX0AAAAAAUhdgQAAAAIAuoWBAAAAAANguYUAAAAAAx7xhQAAAAACLTmJAAAAAoCbkYkAAAADAoH1jQAAAAMCRHmRAAAAA4GzDZEAAAAAAOWxlQAAAAGD5GGZAAAAA4LTJZkAAAACgbn5nQAAAAMAtN2hAAAAAwJj3aEAAAABAFbxpQAAAAMCqhGpAAAAAAAZVa0AAAACAhilsQAAAAIBzdG1AAAAAgDnLbkAAAACA9LdvQAAAAIB8VHBAAAAA4AHRcEAAAAAAkFFxQAAAAKBN1HFAAAAAAD5ZckAAAAAAROJyQAAAACBlb3NAAAAAQKcAdEAAAADAD5Z0QAAAAGCUf3VAAAAAAGdvdkAAAADA7Gt3QAAAAGDXbnhAAAAAQOAheUAAAACAN9l5QAAAAADSlnpAAAAAoLVae0AAAABAY4p8QAAAAOClwH1AAAAAYKk0gEAAAABAdZuCQAAAAMDPcYRAAAAA4MrlhUAAAAAAuGyHQAAAAEAGuIhAAAAA4P64iUAAAABAHMeKQA==",
          "dtype": "f8"
         },
         "xaxis": "x",
         "y": {
          "bdata": "Y7fYhC3r1D+x74T+lM/fPxoSUPXAuOE/LyMk2D1j4z9f88gIB2zqPznUesvv4O8/UPrqYEyZ8j86Rlz0OH31P7fofhsn3/Y/u88eZDMP+D+SVunUEQf5P0w2VFz8zvk/7zdS+Rxn+j9CA0+R4NT6P+bGoBnnKPs/hxhtamd0+z8FnOI4u6z7P+5R/BiXz/s/Gytb1v/x+z9mm2CD/O37P7CWOyK+svs/SGXOLYE++z8nR/TO6sD6P+Vwn9mTP/o/Ahe2hbO1+T/R28tTERb5P2oo1TbaZPg/dR+JuA6r9z9kYvSWUen2P/tkseBeMPY/WuXCvoyB9T+7PrHKUtP0PweQRL91DfQ/Xyznavkm8z+XW8PHbzPyP039cBueQPE/rnfjIh5X8D+5QFV3ZuTuPw14V4v0LO0/6i6mbcCN6z93861mjA3qP5vH06+2lOg/qkReaQ0S5z+8xFrmLZXlP4qsk+gdguM/uu7e7iyj4T9g+607ZH/gPzCkwYHP194/2mp0vNbA3D8pcayKUsXaPx8/5hJW39g/3QXNf04W1z86rfwRHVHVPxBfvctypdM//478o6o50j/hzKwYQArRPzA8qLAQ384/prM8WBeWyz8YjOn1VW3IPzfag3jouMU/cb02mhUhxD/b/74ig5zCP5NJ2BeMO8E/UUekxbnHvz+4wvzy6x28P3iteCpT97g/FL/bLvK2sz8dKIdKCCOqP5SN9//9IKM/QAgDwakZnz8vBDzM1dCYP6ater9trZQ/PVslxxsEkj8ofAfjjgqPPw==",
          "dtype": "f8"
         },
         "yaxis": "y"
        },
        {
         "marker": {
          "color": "#00CC96",
          "line": {
           "color": "#00CC96",
           "width": 1.5
          },
          "size": 10,
          "symbol": "cross-thin"
         },
         "mode": "markers",
         "name": "res of n8",
         "showlegend": false,
         "type": "scatter",
         "x": {
          "bdata": "AAAAAIG/K0AAAADAbFU7QAAAAGBs7UJAAAAAQJF7RkAAAADAPIBKQAAAAIAyvkxAAAAAAGg2T0AAAADAnOBQQAAAAEDaj1FAAAAAgNZGUkAAAACAUv5SQAAAAMAYvVNAAAAAAN6CVEAAAADAXEhVQAAAAACWFFZAAAAAwJHnVkAAAADAUbpXQAAAAIDpk1hAAAAAAGd0WUAAAAAA11RaQAAAAGBQPFtAAAAAYOgqXEAAAAAAuiBdQAAAAMDhHV5AAAAAoH8iX0AAAAAAUhdgQAAAAIAuoWBAAAAAANguYUAAAAAAx7xhQAAAAACLTmJAAAAAoCbkYkAAAADAoH1jQAAAAMCRHmRAAAAA4GzDZEAAAAAAOWxlQAAAAGD5GGZAAAAA4LTJZkAAAACgbn5nQAAAAMAtN2hAAAAAwJj3aEAAAABAFbxpQAAAAMCqhGpAAAAAAAZVa0AAAACAhilsQAAAAIBzdG1AAAAAgDnLbkAAAACA9LdvQAAAAIB8VHBAAAAA4AHRcEAAAAAAkFFxQAAAAKBN1HFAAAAAAD5ZckAAAAAAROJyQAAAACBlb3NAAAAAQKcAdEAAAADAD5Z0QAAAAGCUf3VAAAAAAGdvdkAAAADA7Gt3QAAAAGDXbnhAAAAAQOAheUAAAACAN9l5QAAAAADSlnpAAAAAoLVae0AAAABAY4p8QAAAAOClwH1AAAAAYKk0gEAAAABAdZuCQAAAAMDPcYRAAAAA4MrlhUAAAAAAuGyHQAAAAEAGuIhAAAAA4P64iUAAAABAHMeKQA==",
          "dtype": "f8"
         },
         "xaxis": "x2",
         "y": {
          "bdata": "gvu+r3aI479VIUd1/gvIv+3tKO6jAPU/OMfUZQ3/yj9E74EGajPUv8MUtMKbU9o/HxKXIBns9L9plsTkMcbKP/iG8s2aguY/R5cKg6nu+j8nFO1BgYfiP7n2HBRlQ9m/dyUm+eXH3D+EnuJAti7Zv55DTXOFIPC/tvMPh9uJ8T9HvzphNBbcPwC209iRDOE/bX2XDZ9B8z9CTsmdPur1P5ELN6xFaQNAeEU1VYmU8D+2KHFGa9EGwGP59a6k0gtAcdgwWW71BUD/iHQ/7SnPv2g4dKck298/ccT+GHtp1b8PAdFSiirWv1HjKfiuxtk/rdgsUvp+4r8zUJSKuyTbvyaA71U3TuO/Uf1xXOtisL9TzS4SiyH9v0AskRjr1OA/MyhKjcT2678IcrIGCrvnP5+b7pJkqfy/x7ChQ6vK4D8jRRL973z3v81XHCX/Dd0/nvvhTMYn7L8b1ESbLuTgv2BRwiuU3vG/P2AIqWcM5L+I9G0pkFD8P2fEZJ1xaoi/QvJD37kGAcAVbYHUnon3vwWGL/U1P+a/LDnKNi6ofL+z055AjlTuP2R5q6SnUs0/yxCBYH8H+b9waf/lHsDov5umDYtN1Oa/gNq2VWaSuz/fNhp1izoDwGwC82dEFL2/TSSEA1ugvj++G40TJ2fSPzcmPxWl5NM/OerYWPIw1L/aGAT+1VHDP/lFetFiq8y/wpwvpTlv6r9UYiLSwXv7vx0uheYrjtA/N/0GH+f1ub/Sima/g0jiP2EN1b0ThfI/uTMP3KZq/z+KT8WSM5f4Pw==",
          "dtype": "f8"
         },
         "yaxis": "y2"
        },
        {
         "error_x": {
          "array": {
           "bdata": "AAAAAGhB2z8AAAAAsjLbPwAAAADlZOA/AAAAAIab4D8AAAAAu/XgPwAAAAA6c+E/AAAAADj84T8AAAAAkmfiPwAAAAAuseI/AAAAALz+5T8AAAAAvgPmPwAAAABYFuY/AAAAACpm5j8AAAAAWvTmPwAAAADwwOc/AAAAAC5w7D8AAAAA/CnuPwAAAAB3IPA/AAAAAKBs7z8AAAAADC/nPwAAAADkOOo/AAAAAIix6j8AAAAAuCTrPwAAAAB8kus/AAAAAOAc7z8AAAAAOJbvPwAAAAAQBPA/AAAAAEY58D8AAAAAoBHyPwAAAACOSPI/AAAAAIZ68j8AAAAAiKfyPwAAAAAsh/Q/AAAAAGaw9D8AAAAALNP0PwAAAAA4r/Y/AAAAAFDI9j8AAAAAMNn2PwAAAACgpPg/AAAAAICk+D8AAAAADJ34PwAAAAAUV/o/AAAAAHBQ+j8AAAAAeEv6PwAAAAC0CPw/AAAAABAH/D8AAAAAfAf8PwAAAAC4yv0/AAAAAAjQ/T8AAAAAeJn/PwAAAAAgpf8/AAAAAGC7AEAAAAAAzsMAQAAAAADArgFAAAAAAPS3AUAAAAAAHMEBQAAAAAAkrgJAAAAAABi4AkAAAAAA3KYDQAAAAAAMlwRAAAAAALCiBEAAAAAAsJQFQAAAAAAooQVAAAAAAACVBkAAAAAATKIGQAAAAAAImAdAAAAAAECPCEAAAAAASJ4IQAAAAABslwlAAAAAABiSCkAAAAAA4KIKQAAAAAB0nwtAAAAAAJidDEAAAAAATJ0NQAAAAAC4sA1AAAAAAFiyDkAAAAAAeLUPQAAAAAAYXRBAAAAAABBoEEAAAAAAVOsQQAAAAABcbxFAAAAAABz0EUAAAAAApHkSQAAAAADg/xJAAAAAANyGE0AAAAAAhA4UQAAAAADglhRAAAAAAOQfFUAAAAAAkKkVQAAAAADYMxZAAAAAALi+FkAAAAAAKEoXQAAAAADQUhhAAAAAAOTfGEAAAAAAaG0ZQAAAAABQ+xlAAAAAAJSJGkAAAAAAZJYbQAAAAADEJRxAAAAAAEy1HEAAAAAACMQdQAAAAABAVB5AAAAAAEysL0AAAAAAeIIgQAAAAACcyiBAAAAAANhSIUAAAAAAFNshQAAAAACYZjJAAAAAAPgxI0AAAAAAELkjQAAAAAAgYjRAAAAAAJgJJUAAAAAA6GBGQA==",
           "dtype": "f8"
          },
          "arrayminus": {
           "bdata": "AAAAAGhB2z8AAAAAsjLbPwAAAADlZOA/AAAAAIab4D8AAAAAu/XgPwAAAAA6c+E/AAAAADj84T8AAAAAkmfiPwAAAAAuseI/AAAAALz+5T8AAAAAvgPmPwAAAABYFuY/AAAAACpm5j8AAAAAWvTmPwAAAADwwOc/AAAAAC5w7D8AAAAA/CnuPwAAAAB3IPA/AAAAAKBs7z8AAAAADC/nPwAAAADkOOo/AAAAAIix6j8AAAAAuCTrPwAAAAB8kus/AAAAAOAc7z8AAAAAOJbvPwAAAAAQBPA/AAAAAEY58D8AAAAAoBHyPwAAAACOSPI/AAAAAIZ68j8AAAAAiKfyPwAAAAAsh/Q/AAAAAGaw9D8AAAAALNP0PwAAAAA4r/Y/AAAAAFDI9j8AAAAAMNn2PwAAAACgpPg/AAAAAICk+D8AAAAADJ34PwAAAAAUV/o/AAAAAHBQ+j8AAAAAeEv6PwAAAAC0CPw/AAAAABAH/D8AAAAAfAf8PwAAAAC4yv0/AAAAAAjQ/T8AAAAAeJn/PwAAAAAgpf8/AAAAAGC7AEAAAAAAzsMAQAAAAADArgFAAAAAAPS3AUAAAAAAHMEBQAAAAAAkrgJAAAAAABi4AkAAAAAA3KYDQAAAAAAMlwRAAAAAALCiBEAAAAAAsJQFQAAAAAAooQVAAAAAAACVBkAAAAAATKIGQAAAAAAImAdAAAAAAECPCEAAAAAASJ4IQAAAAABslwlAAAAAABiSCkAAAAAA4KIKQAAAAAB0nwtAAAAAAJidDEAAAAAATJ0NQAAAAAC4sA1AAAAAAFiyDkAAAAAAeLUPQAAAAAAYXRBAAAAAABBoEEAAAAAAVOsQQAAAAABcbxFAAAAAABz0EUAAAAAApHkSQAAAAADg/xJAAAAAANyGE0AAAAAAhA4UQAAAAADglhRAAAAAAOQfFUAAAAAAkKkVQAAAAADYMxZAAAAAALi+FkAAAAAAKEoXQAAAAADQUhhAAAAAAOTfGEAAAAAAaG0ZQAAAAABQ+xlAAAAAAJSJGkAAAAAAZJYbQAAAAADEJRxAAAAAAEy1HEAAAAAACMQdQAAAAABAVB5AAAAAAEysL0AAAAAAeIIgQAAAAACcyiBAAAAAANhSIUAAAAAAFNshQAAAAACYZjJAAAAAAPgxI0AAAAAAELkjQAAAAAAgYjRAAAAAAJgJJUAAAAAA6GBGQA==",
           "dtype": "f8"
          },
          "color": "#AB63FA",
          "symmetric": false,
          "thickness": 1.5,
          "type": "data",
          "width": 0
         },
         "error_y": {
          "array": {
           "bdata": "AFL8x85y9z909hvDI0X7P0v9wW7+z/w/aFmFdurO/T8qI3ELQzn/P9WdYiZay/4/eL+RQUn7/z8hmXmIx38AQLlXBu3AXQBAA2FQpVxf/D9inyd28ab9PxofSvs/9/s/9g5tdV7D/D9pyO5idir6Py9ok024ePk/lLMmTYCz9j9AsS7lq532P32X5XRMhfM/3bqxlNWa8z9ZN+7ovOX5PwyyQcj+6vQ//2ZCkJ5+9D/OCMpZ+xHzP4V/6qQtV/I/3MilGXqk8D+2qL8iq8nsP8m5q49zpO4/9Jnyz94m8D/tu9UfHXruP43ldn3VKuw/Vyq2HAy27D8uAYB6/ensP3/qfTJR1+k/aclYTWRh6j93guq/XYzpP4Fg2uBqdeo/xSmYgrwF6T8kM13RGKnnPxZv7+Ct4+c/ilQf5r525z8c6nC92unmP7fdIa9qOeU/ooSfEWVX5T/SebKQMMDkPwnhnpD88OM/cFd6q6hU5D9k4fDEJwjkPxNsMc2iXeM/ejbs4J6/4T/T+jcgCjnhP2D0+yFkHuE/NHBBbHGr4D+OWI4oD9HgP3DhoUshr98/ztG62Py/3z8uFHDkl6fePywTtd/j3do/qy7EomtU3D94oj9aaULaP6Vi+DcYe9g/WGxijUTR2D/D2itqQNrWP9Aj5Mb5Ldc/Ua58M4c41T/lVxXc8EvVP8xdfmUC09M/spq45LHP0j8hA+cKq6fRP02GTblACtA//odmJJoEzj9gNoRVUivNP5+S7SQLwMw/3xgs5z/EyT8ZdqnB9n/HP7kv3kUafcY/t/YbARkTyT+UcRbVAPDFP1E6KhhlQcU/CEAcGDbYwz++60UrP5LBP+8k81g8scE/Uvo8RSeLwT8zlui1gG2/P2e0T9JqSr8/UxBtRcVBvD/1HZscNAC6PxjOsnnWkrk/dVYbZs3utz+g2i/KetS2P09YVAzOe7c/355Zxffqsj9Om5k4Q8K0P1EK5bnf4rM/8Cn87/RKsT+xZmY/uha0PyAWcJbCBrE/4lUwyWnzrz90QJ9vPR+xPzQHfFb6kq4/MERtqFdGrz9CxSRiiSiuPxaVrUG4U6g/UDFmYeWXnz9LcTCM0v6jP0AAt6THIqQ/RzJHixW0pz8yRBauZdOjP46RNkT3C5k/pF+L82VOoD+JegFbU7ygP8D54Lv9e5Q/TwWpmRDfoj9tbyOeRdSHPw==",
           "dtype": "f8"
          },
          "color": "#AB63FA",
          "thickness": 1.5,
          "type": "data",
          "width": 0
         },
         "marker": {
          "color": "#AB63FA",
          "size": 0,
          "symbol": "cross-thin"
         },
         "mode": "markers",
         "name": "obs of n9",
         "showlegend": false,
         "type": "scatter",
         "x": {
          "bdata": "AAAAYAeJIkAAAABAqDwkQAAAAACMHCZAAAAAwJIsKEAAAADApkUqQAAAACA2bCxAAAAAQC2jLkAAAAAAtXQwQAAAAAB7nTFAAAAAQPriMkAAAAAADkM0QAAAAMDeozVAAAAAwMIHN0AAAAAAl3I4QAAAAEBB6DlAAAAAQMqJO0AAAACAm149QAAAAMDyUT9AAAAAoK+nQEAAAABAHoJBQAAAAAC+R0JAAAAAwGcbQ0AAAADAwPJDQAAAAICdzURAAAAAAFu4RUAAAABgJ7NGQAAAAMCgsUdAAAAAgIuzSEAAAACg4sVJQAAAAAC06EpAAAAAwMwOTEAAAAAg3TdNQAAAAMBScU5AAAAAQA+7T0AAAAAAloNQQAAAAICfMVFAAAAAoH3nUUAAAACgA55SQAAAAOD6W1NAAAAAYB8hVEAAAACAJeZUQAAAAAD2sVVAAAAAIJSEVkAAAADAA1dXQAAAAIBUMFhAAAAAgJMQWUAAAADAzfBZQAAAAIAW2FpAAAAAgIHGW0AAAACAJ7xcQAAAAOAhuV1AAAAAYJG9XkAAAADAislfQAAAAKCPbmBAAAAAgCr8YEAAAADADophQAAAAMDLG2JAAAAAoGSxYkAAAACA4EpjQAAAAADY62NAAAAAAL+QZEAAAACAnDllQAAAAOBz5mVAAAAAgEyXZkAAAADAKUxnQAAAAAATBWhAAAAAILDFaEAAAABAZoppQAAAAAA9U2pAAAAAIOMja0AAAAAAt/hrQAAAAEDA0WxAAAAAgLSybUAAAAAAoJtuQAAAACDYiG9AAAAAQDI9cEAAAADAAbpwQAAAACDhOnFAAAAAwPW9cUAAAABAQ0NyQAAAAACuzHJAAAAAADxac0AAAAAA8+tzQAAAAADZgXRAAAAAAPQbdUAAAACASbp1QAAAAADfXHZAAAAAALoDd0AAAADg3653QAAAAIBVXnhAAAAAwB8SeUAAAABAQ8p5QAAAACC3iHpAAAAAAIJNe0AAAAAgtxZ8QAAAAABa5HxAAAAAgG22fUAAAACA7Y5+QAAAAADebX9AAAAAIKUogEAAAADAl52AQAAAAGDIFYFAAAAAACLRgUAAAAAg3ZGCQAAAAIARF4NAAAAAQIefg0AAAAAAPyyEQAAAAADgBoVAAAAAoNzmhUAAAADAiIKGQAAAAAB+dIdAAAAAYLVriEAAAABA6iWKQA==",
          "dtype": "f8"
         },
         "xaxis": "x",
         "y": {
          "bdata": "fGnc1TWBEkAAbqYGXpsbQCm1a89P3iRALHEroc8hJEA8lYzxqzImQIp3YKxMYyVAQoZgnMpOKUCy49sbfDEwQFT1jMbDUjBAOriIlQrjJ0Dgig6J8a8vQKqPgVMT4ilAikPOgisELUDYOLLTYFMnQLJBSq8fdilAzwc0edZVJ0AVAjrN8qkqQHVMW4bfEiNAnMG64/IuJEDMa4R61vYsQCWuzaG3KyRAyqLnulMXJ0BG6Tz0f7cjQKQYyyeKKiJAx0fLKuqSH0CevxDkyT4WQLcuDk1Ewx5AWhw+KZaEIkDvF4verDoiQG1wqIkfIx1ATD58IJxuIEBIbOlf/8ohQGsLdWR/cBtAR1w384XbHkD4rSQrfq8aQHoH8iLZ8SFAeddEPwikH0DQdbqtOT8dQCb0oLfqsiFAyklYB87xIEC4kZe61hsgQLzKE0Hx8B1A/yws1L5mHkA+kTKqcVgcQHA2a0JxMxxAqY1vwrdoHkC2W9N+YogdQFgKY86eZB1AGGwuJU4RGEBdcUpM0T0YQHaH5DQSSBhA2oU5rl6SGEA0CUBTsFcZQIiT83s8hBdAor9hs5VEGECviLgBXxwWQBbaHc1ywBBATd9IsGMWFEDYh1s8QBISQCYI5w06ChBA6jrBiNS6EEDeuGo28DINQNarii5XGg9AHjlxiGlxCUDm58/XFtwJQF2nu+expAZAfyWy4zukBEDEIMIwtWcDQHi2I+c1JgBAFSTsC3yR/T9cYgBtdRb8PyIAdwYTEfw/klMDf+Xf9j+C9X2s5aryP33eSykmSfE/FdFETpO0+D+cAIZaFbHxP6vn+xQkxfE/zklHYolW7j9b9yu/fMHmP8pd9CuOv+k/XAq223An6j8xdICgv2DlP9YFefEQaeY/1oij7i4j4j8vNTrHGlHfP740SeKYiN4/iP0iWxHg2D886q/f+AfZP3aCYyWxvtw/tTzc1pdczj9dLj1epdLXPwA6WWcFu9U/s7qvVCDwzT9mxiJD8xDZP/D0vXpP8s4/ErKFaravxj+ZV3qevOLPPwvgBr+xCsU/H4LFOxn3xj8iwJlcM8LIP0wNH/qMdLs/pYlfVYoquz/U+gd407mxP8SD1IhKd7Y/mh1gVV62xD8pcZfc8SS6P70uA4gs1bI/KOg2Pxq8rz+GtnBSFqizP8TuC1mGk6U/5zOsY4RkwT9keqfMnNCTPw==",
          "dtype": "f8"
         },
         "yaxis": "y"
        },
        {
         "line": {
          "color": "#AB63FA",
          "width": 2
         },
         "mode": "lines",
         "name": "n9",
         "showlegend": true,
         "type": "scatter",
         "x": {
          "bdata": "AAAAYAeJIkAAAABAqDwkQAAAAACMHCZAAAAAwJIsKEAAAADApkUqQAAAACA2bCxAAAAAQC2jLkAAAAAAtXQwQAAAAAB7nTFAAAAAQPriMkAAAAAADkM0QAAAAMDeozVAAAAAwMIHN0AAAAAAl3I4QAAAAEBB6DlAAAAAQMqJO0AAAACAm149QAAAAMDyUT9AAAAAoK+nQEAAAABAHoJBQAAAAAC+R0JAAAAAwGcbQ0AAAADAwPJDQAAAAICdzURAAAAAAFu4RUAAAABgJ7NGQAAAAMCgsUdAAAAAgIuzSEAAAACg4sVJQAAAAAC06EpAAAAAwMwOTEAAAAAg3TdNQAAAAMBScU5AAAAAQA+7T0AAAAAAloNQQAAAAICfMVFAAAAAoH3nUUAAAACgA55SQAAAAOD6W1NAAAAAYB8hVEAAAACAJeZUQAAAAAD2sVVAAAAAIJSEVkAAAADAA1dXQAAAAIBUMFhAAAAAgJMQWUAAAADAzfBZQAAAAIAW2FpAAAAAgIHGW0AAAACAJ7xcQAAAAOAhuV1AAAAAYJG9XkAAAADAislfQAAAAKCPbmBAAAAAgCr8YEAAAADADophQAAAAMDLG2JAAAAAoGSxYkAAAACA4EpjQAAAAADY62NAAAAAAL+QZEAAAACAnDllQAAAAOBz5mVAAAAAgEyXZkAAAADAKUxnQAAAAAATBWhAAAAAILDFaEAAAABAZoppQAAAAAA9U2pAAAAAIOMja0AAAAAAt/hrQAAAAEDA0WxAAAAAgLSybUAAAAAAoJtuQAAAACDYiG9AAAAAQDI9cEAAAADAAbpwQAAAACDhOnFAAAAAwPW9cUAAAABAQ0NyQAAAAACuzHJAAAAAADxac0AAAAAA8+tzQAAAAADZgXRAAAAAAPQbdUAAAACASbp1QAAAAADfXHZAAAAAALoDd0AAAADg3653QAAAAIBVXnhAAAAAwB8SeUAAAABAQ8p5QAAAACC3iHpAAAAAAIJNe0AAAAAgtxZ8QAAAAABa5HxAAAAAgG22fUAAAACA7Y5+QAAAAADebX9AAAAAIKUogEAAAADAl52AQAAAAGDIFYFAAAAAACLRgUAAAAAg3ZGCQAAAAIARF4NAAAAAQIefg0AAAAAAPyyEQAAAAADgBoVAAAAAoNzmhUAAAADAiIKGQAAAAAB+dIdAAAAAYLVriEAAAABA6iWKQA==",
          "dtype": "f8"
         },
         "xaxis": "x",
         "y": {
          "bdata": "qNeLLR1FG0AR7ktUeGcgQAhDMlSlsCJAMGuh940ZJUD71SFVmucnQIKNciFf7ilA/xOK06H+KkDtjBgkDLkrQKUPwfdWnSxAumRhijknLUAIxGhrWe4sQM2DWRsauCxAt44U62eGLEBBag/MjiosQMGQK+e9iytA0DAQeMy9KkDMNDO4kMApQJkAfqymJChAWekE47A9JkDGUASUT9UkQKCoOc8s4iNANFSEGTlKI0DfcbwzWPQiQKT+HSblrSJAhFw/CPxhIkCca1bCOBAiQCLCFWymySFAAafOvcqQIUA0UCefSmMhQC5LEfm4MiFA+q0Y8YH2IEA6bx2nWLUgQAVUfH7UcyBARUlL/OI3IED9DE7bAwIgQP/lm8bInh9AmKtXXUM7H0DmjdZLCNIeQE3SPDP5Vx5A68Kd9W3VHUC9GkHlWVQdQHYoK5EuzhxAzLw4jqA9HEBJ3zkZ5bMbQGPA0xmwMhtAzP39tHLAGkBT4S7LAVIaQCvMVxB+0xlA/g0wWbNKGUB1n1hYq7kYQDpJzusJIxhAGm0dmD99F0AZ98ucZMoWQD8ml71hEhZAHpqv97dcFUBopcmMC6IUQPF7ATTd2xNAAH2YWgQME0DKsvRM/DoSQC8BqHOUXxFAvaHdevZ5EEDnAOhVryIPQAUpSKk/WQ1A+VTDSJ+UC0BXmWEalMYJQOQbnz0/9wdAFfnAh28xBkAkCVTIM48EQIduyZ1WDwNA0+09Tp2kAUCDNqVbRksAQJhEMaLVDP4/TlRguyaq+z98TFT9H235P1eaa3Z9WPc/PfpA+a9t9T/h9fUQRKrzPxoyP0zTGvI//effbgS88D/aGdUPdevuPxSFPT7oaew/W+qqw4EM6j9gBFRINNbnPz61Ujgz4eU/2KCg+JYh5D86QxTupZ3iPyOHdH9/KeE/VDnUkk2S3z+M2ya2K/DcP2ne6k+gkto/f6NOeNaP2D9mVvroy8jWPzIG7WR6E9U/AU0Zbpda0z8GwXSyrqbRP0rdsAOgEdA/ZNmQ9yxnzT9/ZlEwTQvLP/eM+8Jo2cg/BuPXLDzNxj/eTXmF0+LEP/KtJbmdH8M/uHQf0KnLwD9eSfAMclC9PwlJ2Q4onLo/d3KOtw8puD+po7+e2u+1P6N2uiuiEbM/1vrQIuzJsD9OrDQgGMGuP4z/4R1V0Ko/7g6fRMNZpz+FEeYoMnmiPw==",
          "dtype": "f8"
         },
         "yaxis": "y"
        },
        {
         "marker": {
          "color": "#AB63FA",
          "line": {
           "color": "#AB63FA",
           "width": 1.5
          },
          "size": 10,
          "symbol": "cross-thin"
         },
         "mode": "markers",
         "name": "res of n9",
         "showlegend": false,
         "type": "scatter",
         "x": {
          "bdata": "AAAAYAeJIkAAAABAqDwkQAAAAACMHCZAAAAAwJIsKEAAAADApkUqQAAAACA2bCxAAAAAQC2jLkAAAAAAtXQwQAAAAAB7nTFAAAAAQPriMkAAAAAADkM0QAAAAMDeozVAAAAAwMIHN0AAAAAAl3I4QAAAAEBB6DlAAAAAQMqJO0AAAACAm149QAAAAMDyUT9AAAAAoK+nQEAAAABAHoJBQAAAAAC+R0JAAAAAwGcbQ0AAAADAwPJDQAAAAICdzURAAAAAAFu4RUAAAABgJ7NGQAAAAMCgsUdAAAAAgIuzSEAAAACg4sVJQAAAAAC06EpAAAAAwMwOTEAAAAAg3TdNQAAAAMBScU5AAAAAQA+7T0AAAAAAloNQQAAAAICfMVFAAAAAoH3nUUAAAACgA55SQAAAAOD6W1NAAAAAYB8hVEAAAACAJeZUQAAAAAD2sVVAAAAAIJSEVkAAAADAA1dXQAAAAIBUMFhAAAAAgJMQWUAAAADAzfBZQAAAAIAW2FpAAAAAgIHGW0AAAACAJ7xcQAAAAOAhuV1AAAAAYJG9XkAAAADAislfQAAAAKCPbmBAAAAAgCr8YEAAAADADophQAAAAMDLG2JAAAAAoGSxYkAAAACA4EpjQAAAAADY62NAAAAAAL+QZEAAAACAnDllQAAAAOBz5mVAAAAAgEyXZkAAAADAKUxnQAAAAAATBWhAAAAAILDFaEAAAABAZoppQAAAAAA9U2pAAAAAIOMja0AAAAAAt/hrQAAAAEDA0WxAAAAAgLSybUAAAAAAoJtuQAAAACDYiG9AAAAAQDI9cEAAAADAAbpwQAAAACDhOnFAAAAAwPW9cUAAAABAQ0NyQAAAAACuzHJAAAAAADxac0AAAAAA8+tzQAAAAADZgXRAAAAAAPQbdUAAAACASbp1QAAAAADfXHZAAAAAALoDd0AAAADg3653QAAAAIBVXnhAAAAAwB8SeUAAAABAQ8p5QAAAACC3iHpAAAAAAIJNe0AAAAAgtxZ8QAAAAABa5HxAAAAAgG22fUAAAACA7Y5+QAAAAADebX9AAAAAIKUogEAAAADAl52AQAAAAGDIFYFAAAAAACLRgUAAAAAg3ZGCQAAAAIARF4NAAAAAQIefg0AAAAAAPyyEQAAAAADgBoVAAAAAoNzmhUAAAADAiIKGQAAAAAB+dIdAAAAAYLVriEAAAABA6iWKQA==",
          "dtype": "f8"
         },
         "xaxis": "x2",
         "y": {
          "bdata": "UZ2Yq3zs97+RJMtPH2rov7UKR1jiWuM/WNJgPVqf0L9BIzspt/zbvzkb6CFv4vK/00sq2W0B27+16UVzNhfyP7hAiKC9iO8/zhCpIDXC97+W5ZSotcvnP83f6sMR9um/l2YdXFZ9wT8PCF9r5633v5G7imkW8+S/wGXde4c087+ydh22i6PUPxTSO4PbngDA8eaTsDTe6r+txCsfDhgEQBXiNlhBILw/cqvtwJC99z/N5LkQjXfUPzJm1GPqpcy/YFYTqPv2879BMGbBXdwOwKNSNXx5GvS/Uzki1BYw3j/YF6J9s0TcP2/KVP4N5ve/D4MJWODu0r8O6aGPjjTjP+FKmaGLEvu/S8bTytCl3r/DbkfQfbT6v7HcfCM4p/Q/pI7Cj3+/wD8b9qX8QAbhvysqbjaLFPs/Rq215Xof9j8hCja+CyLwP0YihBUbZts/5PyII+rq6T8WdV67G7jPP7jlFhE/wNk/RmyllKgG9z+fH3Xv2Ib0PyGi+XJpk/c/Ve54H1Wo4b/tM/nFu8PMv0eGglRfTrE/pYVbjs+f4D9iLq0kkWzzP32crA6sWOc/ewclxMtt9z/4nx1/367oP+c2oOAem/2/ZbZwoxzO4j/Bqi2o39G4v/Vd/8Uq4+u/uTMjUAbpxD8VvQiJerHlv5atSAPcX+M/nBVeblbJ6b/b8vCNKymgP6yuoy/iE+G/gkLT8nMd5b+YlSItubzgv+1nfWkjOve/pahkupFh+L96ne8Pl7/zv7u3kSA/qeG/aPZNhKHL97+BHYtVI2gCwLK9aJPsPgHAgtsLAFS68D/wtdc5Owfnv+kDg2DsH8C/KuIXMcMx5L8zjwx3ULz9v33Qdm2pSOO/m4ziIW6QmD8Nd0RkVgfkv8sqsFRFXsE/MUoLwyQQ4r9xBjEeQR7tvzhT2YcB+eK/qSv+FiDo8b8+h1qKxeflv5qCh2HLrdc/W1sBZoi8/7+QumdO9pzJP8Jmos+j2cA/wJjRZm868L8TQf2knJ/3P6PMURHp6MG/jhiwrW/o6r9r2ZRt2hjiP20MGHhg4d+/reHzfslqlT89esy1p2/gP11BvQ4dZOy/XCO9RNQH6r9Fzqvcrovyv+E/f3S6V9q/FfyB/Z9O9z+frQbb9SnbP3uy3wuaT6O/BSIDNx/uvL/N3zvAiF3gP7U1u94iXeC/8/Nc4PyXA0CCIN6ZnwH3vw==",
          "dtype": "f8"
         },
         "yaxis": "y2"
        },
        {
         "error_x": {
          "array": {
           "bdata": "AAAAAMa52j8AAAAAzIvaPwAAAABW0N8/AAAAAMr+3z8AAAAAVzXgPwAAAAAEiuA/AAAAAA/94D8AAAAANXzhPwAAAADC7OE/AAAAAH5h5T8AAAAAWsnlPwAAAAAOGeY/AAAAANJl5j8AAAAAvLrmPwAAAADsF+c/AAAAACzh6j8AAAAAAHLrPwAAAAAiD+w/AAAAAJy47D8AAAAAZJnzPwAAAADwneg/AAAAAEgJ6T8AAAAAXLDpPwAAAABQT+o/AAAAADDs7T8AAAAAQJvuPwAAAAAcP+8/AAAAANzX7z8AAAAAENXxPwAAAABKI/I/AAAAABhq8j8AAAAAfKnyPwAAAABcm/Q/AAAAAFLU9D8AAAAApgP1PwAAAAAo7vY/AAAAACgO9z8AAAAA3CH3PwAAAABk8fg/AAAAAMDq+D8AAAAADNb4PwAAAADogfo/AAAAAPxp+j8AAAAAdFX6PwAAAAAMBPw/AAAAAKz0+z8AAAAAZOn7PwAAAAA8oP0/AAAAABSd/T8AAAAAGF3/PwAAAAD0ZP8/AAAAAC6ZAEAAAAAAlqIAQAAAAADojAFAAAAAAEyXAUAAAAAAnKEBQAAAAABMjgJAAAAAAICZAkAAAAAALIgDQAAAAABkeARAAAAAAISFBEAAAAAAzHcFQAAAAADUhQVAAAAAADh6BkAAAAAALIkGQAAAAACsfwdAAAAAANR3CEAAAAAAwIgIQAAAAAAUgwlAAAAAACB/CkAAAAAABJIKQAAAAAA4kAtAAAAAACyQDEAAAAAA4JENQAAAAAC8pw1AAAAAAJyrDkAAAAAAKLEPQAAAAABEXBBAAAAAAJxoEEAAAAAASO0QQAAAAADYchFAAAAAADj5EUAAAAAAcIASQAAAAAB8CBNAAAAAAFiRE0AAAAAA/BoUQAAAAABkpRRAAAAAAIwwFUAAAAAAbLwVQAAAAAAESRZAAAAAADzWFkAAAAAAGGQXQAAAAADYbxhAAAAAAIz/GEAAAAAAwI8ZQAAAAABkIBpAAAAAAGSxGkAAAAAAzMEbQAAAAABCnSxAAAAAABD5HUAAAAAAOIweQAAAAADonx9AAAAAALQZIEAAAAAA4KMgQAAAAAB87SBAAAAAALB3IUAAAAAA6AEiQAAAAAALGUNAAAAAAAhvJEAAAAAADLUkQAAAAAA0fjVAAAAAALElQUA=",
           "dtype": "f8"
          },
          "arrayminus": {
           "bdata": "AAAAAMa52j8AAAAAzIvaPwAAAABW0N8/AAAAAMr+3z8AAAAAVzXgPwAAAAAEiuA/AAAAAA/94D8AAAAANXzhPwAAAADC7OE/AAAAAH5h5T8AAAAAWsnlPwAAAAAOGeY/AAAAANJl5j8AAAAAvLrmPwAAAADsF+c/AAAAACzh6j8AAAAAAHLrPwAAAAAiD+w/AAAAAJy47D8AAAAAZJnzPwAAAADwneg/AAAAAEgJ6T8AAAAAXLDpPwAAAABQT+o/AAAAADDs7T8AAAAAQJvuPwAAAAAcP+8/AAAAANzX7z8AAAAAENXxPwAAAABKI/I/AAAAABhq8j8AAAAAfKnyPwAAAABcm/Q/AAAAAFLU9D8AAAAApgP1PwAAAAAo7vY/AAAAACgO9z8AAAAA3CH3PwAAAABk8fg/AAAAAMDq+D8AAAAADNb4PwAAAADogfo/AAAAAPxp+j8AAAAAdFX6PwAAAAAMBPw/AAAAAKz0+z8AAAAAZOn7PwAAAAA8oP0/AAAAABSd/T8AAAAAGF3/PwAAAAD0ZP8/AAAAAC6ZAEAAAAAAlqIAQAAAAADojAFAAAAAAEyXAUAAAAAAnKEBQAAAAABMjgJAAAAAAICZAkAAAAAALIgDQAAAAABkeARAAAAAAISFBEAAAAAAzHcFQAAAAADUhQVAAAAAADh6BkAAAAAALIkGQAAAAACsfwdAAAAAANR3CEAAAAAAwIgIQAAAAAAUgwlAAAAAACB/CkAAAAAABJIKQAAAAAA4kAtAAAAAACyQDEAAAAAA4JENQAAAAAC8pw1AAAAAAJyrDkAAAAAAKLEPQAAAAABEXBBAAAAAAJxoEEAAAAAASO0QQAAAAADYchFAAAAAADj5EUAAAAAAcIASQAAAAAB8CBNAAAAAAFiRE0AAAAAA/BoUQAAAAABkpRRAAAAAAIwwFUAAAAAAbLwVQAAAAAAESRZAAAAAADzWFkAAAAAAGGQXQAAAAADYbxhAAAAAAIz/GEAAAAAAwI8ZQAAAAABkIBpAAAAAAGSxGkAAAAAAzMEbQAAAAABCnSxAAAAAABD5HUAAAAAAOIweQAAAAADonx9AAAAAALQZIEAAAAAA4KMgQAAAAAB87SBAAAAAALB3IUAAAAAA6AEiQAAAAAALGUNAAAAAAAhvJEAAAAAADLUkQAAAAAA0fjVAAAAAALElQUA=",
           "dtype": "f8"
          },
          "color": "#FFA15A",
          "symmetric": false,
          "thickness": 1.5,
          "type": "data",
          "width": 0
         },
         "error_y": {
          "array": {
           "bdata": "AObA7wbh8z9h0swyzCT1P7KQcV+S9fI/DuIKxdH+8j8uTM2e2hT1P5V1aMp0D/Q/12CRp/Zb9z+DSBgFnF/3P/talYUNkPU/jq++lauo9T+0yBKjQWT1P9DdBVZZNvU/eTeXGGeI8z8I8QF8Zk70P1zqnH7izPQ/68sSN2du8z87WOIqMCDzPz00iuCf+vI/+qZEESgc8z8JKbSn21zpP9AMiEhw6PM/LMq/NobW8T93L8NQgQbxP+gsH98cbfE//NmQP59w7T/iABoDf+nrP2agSeqinu0/putYBv7a6z9mF8zcleHpP2GBY12T9Og/12Mvjm2U6D+GZvDKqdfnPyGnrqyfBuc/8st4N9aw6D/T++1B24LnP+1MsjR3t+Y/DmD42iCI5j/pjF5LszDkP9J4rYAqIeQ/umhm1rxg4z9osiHEN+PjP2fmdl3xiuM/s8MuRz1/4j/kC/mb4pLjP3FqtYdGZeI/NW9ufY4R4T9ikDigWbHhP4XNObgAlOA/uppBjqNZ4D/vxvFAX6rfP/NHoHsZw94/rZeksruW3T9vIBuSQZXeP1BSueauSN0/TiVkj7NK3T9pTgOwZMbcP4rdH53stdk/APv5pUaA1z+Az6Sr62HWP3vUY7GpUdY/oPE+Rk7V1j+HnLUl+ePVP+XQOo2UvNQ/8rDRlBUq1T9xBHhPzM/TP7LnjMxK3dE/AVhGJRTN0T+A8doRJdjQP+tanq1LANA/egDnWJ+Ozz8Th9Fd36nMP5x3CbJfWMk/1j9YlHYKyD/nYG9GyEPIP8ZAnnJFWcY/DbZ3eL0Bxj/vsUZiKjrHP/e9MqtrgMQ//BUqunUswz+GJmv/3lTCP20f+1iJx8E/pimuUG3tvj921sgx6I++P5hzBPprs74/k2HIXOffuj8cbz5MoAO4Py2g1FUOt7k/kGWfbaD2sz9OdDYtbW+1PwA1OZHE5LY/HChzQab2sT+y/8iycs+xPy1v5N9RVbI/QoBL9D+Ksz9lVYpPfMKxP3iAUBJdZK8/wSyiEUxUsD9wXKEc+QuuP8NE0hxbZKI/phv/y5Vfqz83j3ungCKnP/d82Bs3v6c//DadWCZUpz9nL0dwSzylPzKgiQYPdaM/p3cz3D5/pT/2CdBvq52jP/yWnRIHQpA/aTWPuJoGoj+bVUDxgFOdP5pl73lEk5Q/ndkbb5aFiz8=",
           "dtype": "f8"
          },
          "color": "#FFA15A",
          "thickness": 1.5,
          "type": "data",
          "width": 0
         },
         "marker": {
          "color": "#FFA15A",
          "size": 0,
          "symbol": "cross-thin"
         },
         "mode": "markers",
         "name": "obs of na",
         "showlegend": false,
         "type": "scatter",
         "x": {
          "bdata": "AAAAwO3+IEAAAABAGqkiQAAAAED7eyRAAAAAQHR6JkAAAAAAwH0oQAAAAMC1iSpAAAAAACeiLEAAAABAu8kuQAAAAEAlgDBAAAAAQJe6MUAAAAAA7hMzQAAAAEABczRAAAAAQPjWNUAAAADA/D83QAAAAACSrjhAAAAAwFo+OkAAAAAg9PA7QAAAAED9rD1AAAAAIDtzP0AAAAAgS8lAQAAAAACOyEFAAAAA4CqPQkAAAACAEVpDQAAAACAQKkRAAAAAIP4KRUAAAADgG/1FQAAAAECF9EZAAAAAQOHwR0AAAAAg6f5IQAAAAACsHkpAAAAAABdDS0AAAACgs2tMQAAAAGDapU1AAAAAwFfxTkAAAADACyBQQAAAAADTz1BAAAAAQMSHUUAAAABAhEBSQAAAAEDRAFNAAAAA4EHIU0AAAAAARY9UQAAAAOCkXFVAAAAAgFQwVkAAAABAUgNXQAAAAEC43FdAAAAAAJu8WEAAAABAE5xZQAAAAMA5glpAAAAAAC9vW0AAAADAF2NcQAAAAAAgXl1AAAAAQH1gXkAAAABAW2pfQAAAAKDrPWBAAAAAgHzKYEAAAAAAYFdhQAAAAMAf6GFAAAAA4L58YkAAAACARRVjQAAAAMBHtWNAAAAAgD9ZZEAAAADANAFlQAAAAEArrWVAAAAAYCtdZkAAAAAAORFnQAAAAEBcyWdAAAAAQDqJaEAAAACgPE1pQAAAAABsFWpAAAAAwHTlakAAAABAublrQAAAAEBCkmxAAAAAwMNybUAAAAAATFtuQAAAAIAySG9AAAAA4L8ccEAAAACAeZlwQAAAAMBMGnFAAAAAQGCdcUAAAADgtyJyQAAAAGA4rHJAAAAAoOg5c0AAAABAz8tzQAAAAADzYXRAAAAAQFr8dEAAAACAC5t1QAAAAAANPnZAAAAAwGTldkAAAADAGJF3QAAAAIAuQXhAAAAAgKv1eEAAAADAlK55QAAAAIDkbXpAAAAAAKIze0AAAABA3/17QAAAAMCfzHxAAAAAAOeffUAAAADAs3l+QAAAAAClzX9AAAAAoDmVgEAAAABARA6BQAAAAICcioFAAAAAAEMKgkAAAABgOY2CQAAAAMB+E4NAAAAAgBOdg0AAAADg+SqEQAAAAECSpIVAAAAAAN8nh0AAAABAb8yHQAAAACA1y4hAAAAAwIGJikA=",
          "dtype": "f8"
         },
         "xaxis": "x",
         "y": {
          "bdata": "nNPssT9HEUCyKzM43C4SQPri3ETfBw1AlE+ha+0nCkBjiV+tVFIUQOAi4Y5zrA1AVt6FHgtfHUB6aQyvo/EeQEChmXYNuxVApEROmMt/IUDvn+aImDkgQJGS0l2zvCBAlgg8Y5KjFkBUPJdgt6AcQHgpEHcMuiBAA+4/kvcyIUAIuGCclVkfQGxmGI79GR5AeJOosn4RIUD4owA0SsESQKjRhbKjeCBA08d/JQftGUAqeinWilgbQJNVPcL2yB9A42f/o2rTFEDxcLUu7NQWQGuj8mxgeB1AvNjkkH3MGEC/RKLJtIEWQDsF/uJ7CxVA46td0k6iFECKEWzMOxAUQMz2WRBvABZAKM6a41OMGkD0c3qpVQkWQIMh9UsnxRVAjX7J4/gbF0AiRAAHnaYTQJTbmZh9RhZANdu+a3VaFEAvTOZna3wWQESPTlh3zRdAtr2oQdM7FEAu09u+OnEYQAgx0PQhFBdANiA8ji7rEkAJWgrunu4UQI6j7xGOgBNAAl4Qd1QHE0BPflRz1koTQK0AxoJhLBJA6PbXU9SkEUAcSAFW168TQAkoALYhgRNAAqHZ1fa7E0BET7f8mc4SQAKv9Kxx4g5AbdG+jwBmCEDGdMUNyDYHQMyNSKAKOwlA+HBWL1zFCkAsiqfC+B4KQGHc2t6iawZA5zrrikPcCED5v9QyCPwDQMZp540TOABAWtbrBBNsAkCNYv1nzyUBQHMufrtBxQBAJxIpz/jMAEBG47bUThn6P1mavJT+lfM/Ig21PvRR8j/Ow0e7otL0P04IuMwpefA//GdRNhw28T8aDYrA7rH1Py1MgbPSJvA/7V6n4r/L6j9ED40Oo/TpP+QVQIdlsuk/2orLpUjE4j902vU/1V7kP5aUiFKgOuY/+ssfJmQa4D/736IcFnvXPzKQjU128t8/asU1j4Zszz/cQYPp3RvTPwyteibYOdo/Xmq6ox/Myz/Gi6/kr6TMPzJWFkkoBNE/tU25PRio1T+oP2NPIyPSP8GOn9Jeh8U/MkxWU4GkyT8zGMjhtenBPypdZ4FcD7U/QZZ5RLD1wz8LIeYLf1C5P+puvckSOcE/MFD5l7yRwD+pbNuGNYe5PzGcYoNlBLU/ZbO9gmy6wD9okAQjFUS2P8bFk5bJHqs/Xrtea38Iuz+24IjYeLOsP7pKomgHE68/AB25kcQfnD8=",
          "dtype": "f8"
         },
         "yaxis": "y"
        },
        {
         "line": {
          "color": "#FFA15A",
          "width": 2
         },
         "mode": "lines",
         "name": "na",
         "showlegend": true,
         "type": "scatter",
         "x": {
          "bdata": "AAAAwO3+IEAAAABAGqkiQAAAAED7eyRAAAAAQHR6JkAAAAAAwH0oQAAAAMC1iSpAAAAAACeiLEAAAABAu8kuQAAAAEAlgDBAAAAAQJe6MUAAAAAA7hMzQAAAAEABczRAAAAAQPjWNUAAAADA/D83QAAAAACSrjhAAAAAwFo+OkAAAAAg9PA7QAAAAED9rD1AAAAAIDtzP0AAAAAgS8lAQAAAAACOyEFAAAAA4CqPQkAAAACAEVpDQAAAACAQKkRAAAAAIP4KRUAAAADgG/1FQAAAAECF9EZAAAAAQOHwR0AAAAAg6f5IQAAAAACsHkpAAAAAABdDS0AAAACgs2tMQAAAAGDapU1AAAAAwFfxTkAAAADACyBQQAAAAADTz1BAAAAAQMSHUUAAAABAhEBSQAAAAEDRAFNAAAAA4EHIU0AAAAAARY9UQAAAAOCkXFVAAAAAgFQwVkAAAABAUgNXQAAAAEC43FdAAAAAAJu8WEAAAABAE5xZQAAAAMA5glpAAAAAAC9vW0AAAADAF2NcQAAAAAAgXl1AAAAAQH1gXkAAAABAW2pfQAAAAKDrPWBAAAAAgHzKYEAAAAAAYFdhQAAAAMAf6GFAAAAA4L58YkAAAACARRVjQAAAAMBHtWNAAAAAgD9ZZEAAAADANAFlQAAAAEArrWVAAAAAYCtdZkAAAAAAORFnQAAAAEBcyWdAAAAAQDqJaEAAAACgPE1pQAAAAABsFWpAAAAAwHTlakAAAABAublrQAAAAEBCkmxAAAAAwMNybUAAAAAATFtuQAAAAIAySG9AAAAA4L8ccEAAAACAeZlwQAAAAMBMGnFAAAAAQGCdcUAAAADgtyJyQAAAAGA4rHJAAAAAoOg5c0AAAABAz8tzQAAAAADzYXRAAAAAQFr8dEAAAACAC5t1QAAAAAANPnZAAAAAwGTldkAAAADAGJF3QAAAAIAuQXhAAAAAgKv1eEAAAADAlK55QAAAAIDkbXpAAAAAAKIze0AAAABA3/17QAAAAMCfzHxAAAAAAOeffUAAAADAs3l+QAAAAAClzX9AAAAAoDmVgEAAAABARA6BQAAAAICcioFAAAAAAEMKgkAAAABgOY2CQAAAAMB+E4NAAAAAgBOdg0AAAADg+SqEQAAAAECSpIVAAAAAAN8nh0AAAABAb8yHQAAAACA1y4hAAAAAwIGJikA=",
          "dtype": "f8"
         },
         "xaxis": "x",
         "y": {
          "bdata": "nbdXA3iQBUCgpWcm3OcKQNbtqgdS7g9AXPmZcc0/EkB2TP44gj0VQLddB9ZDqBhAdtsYbY+jG0B5lErGKYodQCuKCzxHEh9AKAm3HMtxIECr5k/QcgYhQMA1rYDJMCFAPj//tFRHIUBYI6aBKj4hQFbv4rc88yBACvupmaW2IEAe+cStcIEgQM3tEojY5x9AsmYLju0uHkCPzQe1HNkbQDDy0gLb2BlA4BEzGUjeGEDTiUucQGEYQGI6rZSQHhhArqqK+KrVF0AhrzkraYkXQAsCJCJ/ShdAQ0WdAPgKF0DQlEN6S8YWQN88BK50gBZAyjmVVgFQFkAkpyaXNi8WQGgoPFg9FhZA/rcfmvL/FUBy5rKF4uwVQMSMS8ayzxVAr1X+UminFUCeSlY+qn4VQHx571uIVhVAxFhPEmgvFUAkszhjdP8UQITQACRkxBRAO6J565x6FECOO35hjSgUQFpUXpKU0BNA47i2F5Z6E0Cz2ZNspC4TQBI3DV2v3RJAlZ8CUO2GEkDeQXGKHSYSQP8qKCKbxBFAP6PgzU9dEUBMXmDFOu8QQGoL59yneRBAQyn2u57+D0BRzN1ZOgAPQNOoZT+P7A1AFFYt1h7ODEB2UOeM6bQLQFh1S0DxoQpARPXKnPmMCUC724WL4GoIQOty5ZIfPQdAO0w69YENBkChPoy0cN0EQJw8y0wGrgNAOT9N6ph0AkD4S2vQR0UBQNHZK7XdJQBAuKm4cV4q/j9ke+AG5B38Pz4QwdJSIPo/YfbYaSor+D+ZH9GoMFv2P8yOrjpdtPQ/9CCXZWI38z8I7Hakj9HxP8hrIBFDfPA/C9hYSPGH7j980jtRpkPsPwxvV8NQNuo/LJow7mos6D/h1x4mOkbmP6JiqY0yeeQ/UXnSPA/Y4j9WoWx4C1vhP+58LHtT8d8/E+6WN+Bd3T+HAKPr6QLbP9C8YMTD1Ng/bobkFcXb1j+6qnT5lvDUP3Hxbx5wJ9M/v3tGwoeO0T/uldqJeSjQPwaBTaz87c0/03ASJ0rIyz83xOlcjrfJP4R0X6Z2o8Y/lsIg3dXDwz+vjt3f0RHCP7UW/0wSmsA/LzIVkAKXvj934x12xBy8PwToVkEesrk/GH17o/ldtz+ODOGnYz21P3V/DpzoxbA/S8TLV/xPqj/rbGjVQQqoP5PI1wI8FaU/j6UIfQuroD8=",
          "dtype": "f8"
         },
         "yaxis": "y"
        },
        {
         "marker": {
          "color": "#FFA15A",
          "line": {
           "color": "#FFA15A",
           "width": 1.5
          },
          "size": 10,
          "symbol": "cross-thin"
         },
         "mode": "markers",
         "name": "res of na",
         "showlegend": false,
         "type": "scatter",
         "x": {
          "bdata": "AAAAwO3+IEAAAABAGqkiQAAAAED7eyRAAAAAQHR6JkAAAAAAwH0oQAAAAMC1iSpAAAAAACeiLEAAAABAu8kuQAAAAEAlgDBAAAAAQJe6MUAAAAAA7hMzQAAAAEABczRAAAAAQPjWNUAAAADA/D83QAAAAACSrjhAAAAAwFo+OkAAAAAg9PA7QAAAAED9rD1AAAAAIDtzP0AAAAAgS8lAQAAAAACOyEFAAAAA4CqPQkAAAACAEVpDQAAAACAQKkRAAAAAIP4KRUAAAADgG/1FQAAAAECF9EZAAAAAQOHwR0AAAAAg6f5IQAAAAACsHkpAAAAAABdDS0AAAACgs2tMQAAAAGDapU1AAAAAwFfxTkAAAADACyBQQAAAAADTz1BAAAAAQMSHUUAAAABAhEBSQAAAAEDRAFNAAAAA4EHIU0AAAAAARY9UQAAAAOCkXFVAAAAAgFQwVkAAAABAUgNXQAAAAEC43FdAAAAAAJu8WEAAAABAE5xZQAAAAMA5glpAAAAAAC9vW0AAAADAF2NcQAAAAAAgXl1AAAAAQH1gXkAAAABAW2pfQAAAAKDrPWBAAAAAgHzKYEAAAAAAYFdhQAAAAMAf6GFAAAAA4L58YkAAAACARRVjQAAAAMBHtWNAAAAAgD9ZZEAAAADANAFlQAAAAEArrWVAAAAAYCtdZkAAAAAAORFnQAAAAEBcyWdAAAAAQDqJaEAAAACgPE1pQAAAAABsFWpAAAAAwHTlakAAAABAublrQAAAAEBCkmxAAAAAwMNybUAAAAAATFtuQAAAAIAySG9AAAAA4L8ccEAAAACAeZlwQAAAAMBMGnFAAAAAQGCdcUAAAADgtyJyQAAAAGA4rHJAAAAAoOg5c0AAAABAz8tzQAAAAADzYXRAAAAAQFr8dEAAAACAC5t1QAAAAAANPnZAAAAAwGTldkAAAADAGJF3QAAAAIAuQXhAAAAAgKv1eEAAAADAlK55QAAAAIDkbXpAAAAAAKIze0AAAABA3/17QAAAAMCfzHxAAAAAAOeffUAAAADAs3l+QAAAAAClzX9AAAAAoDmVgEAAAABARA6BQAAAAICcioFAAAAAAEMKgkAAAABgOY2CQAAAAMB+E4NAAAAAgBOdg0AAAADg+SqEQAAAAECSpIVAAAAAAN8nh0AAAABAb8yHQAAAACA1y4hAAAAAwIGJikA=",
          "dtype": "f8"
         },
         "xaxis": "x2",
         "y": {
          "bdata": "/BdK5wjq9D9KWVIWu6LsP7r5V+SAlNO/SbkMQFRs8b8euDqLtE/GvzHSZn22VP+/0jCL0j/80j8Y2Ut1Y8LOP/iQU/tdufu/l7jgSabu2D8js8/oECfTvwxMtajx48W/L3LJz4CGA8AxotCtZXbyvzuI9unG/rW/vVoNlX+XyT+rSrR3oTzWv/jMvkPHVdi/29y0Itx66j9xAUux//EGwD/Ih0dtz/Y/35+Fpixbzj8x5h1TeUzmP6Kp1JooJ/w/Jg9Abtop6r+UPuQegN3Jv+j6cdQEtPo/70wQAT4j4D+5VAeFeTO1vxLqDncf5N2/J2aUjVJ74b9vFoYDD8bmv2FQl5rsTZ6/pKB1RkqU9z/u3mdOYVyjPyGLmrlHtY2/C9l+KfyI4D/dDfxgVGHnv8ujCDZj19c/s0kRZXv61b9xc1ka6yfjPxBsLauk4fM/3/unzeMnu79N0dApkgP8Pw4nKvHstfY/wDJxn6bN0L/NusVG4lHpPz35onMVptM/L5a8Jsxpzz9938GJB33iP68CZojb/Mo/InBGTx9Wwz+ldXNuDwr3P99Qpd81e/o/qMar4GhUAEAHZOe24Gr9P2NPePWGINM/EmY+v1wA+L+6vehpULH5v/0pmXGcFOC/SaIgNcFc2z8ziU8s7+vjPxabE4lcNNS/3juJGPb68D8EBjfiSsHWv6Rwx5njy/i/W/xbJIqkjr/8hGxMleStvygyOo8i7NM/JdU/S1rf6z8x6IYqtAXivwDXTt7mgwDAJe4nkY0j/7+20nNiji3gv7whbE/sO/i/DYcXysxS579JQPZKvVz1P8BcGMpvq8C/3NFShV/v6L8at0z6vx7gv6aCIVDRrb2/xFsdVYpg9r9TpiLaMeXfv0pyquUlR90/hfCgY+Qb6r/Z5I8zJ+79v47Tdf5onkY/Bh5FJj3jBcDl05oPSJj3v2UrG23WMc8/mSfNNP3r/7/VX3tBIsj3v+1+Up0M2t2/arec3FTb6j+TrghYX4fcPxEtYHyIIPG/48kJ3ufF0L/B5x+8b5/wv3gEYlxEEQXAp0qz/L4jnT/4hWH5FfLtv/Jw36VgyLo/MxDzvN/3yz9Hj3utQyfPv68WdLk8x96/PJiJ4ZoJ7j9b6zJzoci6P2SiZPS6S+m/LHCVg4ai+D/DYxZbBljUPzSOQIgZFO8/BWW6ibw92L8=",
          "dtype": "f8"
         },
         "yaxis": "y2"
        },
        {
         "error_x": {
          "array": {
           "bdata": "AAAAgCPs/T8AAACAm/7wPwAAAACZDvs/AAAAAEqN5T8AAAAAVorlPwAAAADKiOU/AAAAAFDF5T8AAAAAaqP2PwAAAAAajOs/AAAAAHI+7T8AAAAA0FLvPwAAAAADvPA/AAAAAJCU5z8AAAAAgLnoPwAAAADEcOk/AAAAAHge6j8AAAAAmMLqPwAAAACscO4/AAAAAGQi7z8AAAAAAMfvPwAAAABCL/A/AAAAAD4d8j8AAAAAPmjyPwAAAACCqvI/AAAAAA7k8j8AAAAAENP0PwAAAADUAfU/AAAAAEQl9T8AAAAAOAP3PwAAAAAcEfc/AAAAAJQQ9z8AAAAArMX4PwAAAABgovg/AAAAAAxv+D8AAAAAsPP5PwAAAAAgvvk/AAAAAFSP+T8AAAAAnBf7PwAAAABM8vo/AAAAADjV+j8AAAAA4Gv8PwAAAAAwXvw/AAAAAHAF/j8AAAAA4Az+PwAAAAAQzf8/AAAAALDp/z8AAAAAbNsAQAAAAABM6wBAAAAAABD7AEAAAAAAROUBQAAAAABg9gFAAAAAAJTjAkAAAAAAKNMDQAAAAAA45wNAAAAAAOzZBEAAAAAAZO8EQAAAAABM5QVAAAAAACT8BUAAAAAARPUGQAAAAAD08AdAAAAAAMwKCEAAAAAAxAkJQAAAAABcCwpAAAAAACwoCkAAAAAAEC0LQAAAAACQNAxAAAAAAMg+DUAAAAAAHGANQAAAAACQbQ5AAAAAAKB9D0AAAAAANEgQQAAAAAD8WhBAAAAAAOTlEEAAAAAAHHIRQAAAAACY/xFAAAAAAFCOEkAAAAAAUB4TQAAAAACErxNAAAAAAORBFEAAAAAAdNUUQAAAAAAcahVAAAAAAOD/FUAAAAAApJYWQAAAAABsLhdAAAAAABzHF0AAAAAATOAYQAAAAADEexlAAAAAAOgXGkAAAAAAXAMrQAAAAAAYchxAAAAAADgRHUAAAAAAkLAdQAAAAADI0x5AAAAAABh0H0AAAAAAdEwgQAAAAAAs5jBAAAAAAALJMUAAAAAADKUiQAAAAABaSD1AAAAAAEKvP0AAAAAAf/ZMQA==",
           "dtype": "f8"
          },
          "arrayminus": {
           "bdata": "AAAAgCPs/T8AAACAm/7wPwAAAACZDvs/AAAAAEqN5T8AAAAAVorlPwAAAADKiOU/AAAAAFDF5T8AAAAAaqP2PwAAAAAajOs/AAAAAHI+7T8AAAAA0FLvPwAAAAADvPA/AAAAAJCU5z8AAAAAgLnoPwAAAADEcOk/AAAAAHge6j8AAAAAmMLqPwAAAACscO4/AAAAAGQi7z8AAAAAAMfvPwAAAABCL/A/AAAAAD4d8j8AAAAAPmjyPwAAAACCqvI/AAAAAA7k8j8AAAAAENP0PwAAAADUAfU/AAAAAEQl9T8AAAAAOAP3PwAAAAAcEfc/AAAAAJQQ9z8AAAAArMX4PwAAAABgovg/AAAAAAxv+D8AAAAAsPP5PwAAAAAgvvk/AAAAAFSP+T8AAAAAnBf7PwAAAABM8vo/AAAAADjV+j8AAAAA4Gv8PwAAAAAwXvw/AAAAAHAF/j8AAAAA4Az+PwAAAAAQzf8/AAAAALDp/z8AAAAAbNsAQAAAAABM6wBAAAAAABD7AEAAAAAAROUBQAAAAABg9gFAAAAAAJTjAkAAAAAAKNMDQAAAAAA45wNAAAAAAOzZBEAAAAAAZO8EQAAAAABM5QVAAAAAACT8BUAAAAAARPUGQAAAAAD08AdAAAAAAMwKCEAAAAAAxAkJQAAAAABcCwpAAAAAACwoCkAAAAAAEC0LQAAAAACQNAxAAAAAAMg+DUAAAAAAHGANQAAAAACQbQ5AAAAAAKB9D0AAAAAANEgQQAAAAAD8WhBAAAAAAOTlEEAAAAAAHHIRQAAAAACY/xFAAAAAAFCOEkAAAAAAUB4TQAAAAACErxNAAAAAAORBFEAAAAAAdNUUQAAAAAAcahVAAAAAAOD/FUAAAAAApJYWQAAAAABsLhdAAAAAABzHF0AAAAAATOAYQAAAAADEexlAAAAAAOgXGkAAAAAAXAMrQAAAAAAYchxAAAAAADgRHUAAAAAAkLAdQAAAAADI0x5AAAAAABh0H0AAAAAAdEwgQAAAAAAs5jBAAAAAAALJMUAAAAAADKUiQAAAAABaSD1AAAAAAEKvP0AAAAAAf/ZMQA==",
           "dtype": "f8"
          },
          "color": "#19D3F3",
          "symmetric": false,
          "thickness": 1.5,
          "type": "data",
          "width": 0
         },
         "error_y": {
          "array": {
           "bdata": "cm6H/yXP5j9cO8Sxr0HyPzIrJ/vAD+4/q32oAFZD+T99UGp6Mvn3P9oLe4DSlPg/GpdRNRkP+T+AP6CMhzDtPzW9dwij1vI/IRu6bjzy8j/rnPZoa6bxP8qqhqWLCfA/t5Kuu9pR9D/rCbML5UXzP23gb5iXIvA/xU38GU7t7z+OVO8YesvtPzl/+vcvwOk//aCuFFZl6T+1Pqt9eaPrPzNZDy5l8Og/192k9KmR5j8YPDRZFsbnPwPx/3eDa+Y/uHwDlEsT5z/xqx0rahDjP/sY9CY3xuU/WAnHiyn55T9POGnfl7flP52gILaFFeQ/8CgIvev34j/BEMX7YwvjP0KASPjlkeE/ow0ijGt44j+uFFODeYHiP7y3+w+uLOE/indpcf104j9PF4YILdHgP4JgCmhe2uA/WIXmSMQy4T+HgyvaRYzgPylTRDepD+A/ubMjP1co3j/u1BjvyXDgPw5KFVtwVd8/72HGeXfp3T//DWqMHU/aP4TtJp58Nto/nPDGs6ZD2z8yGxrehvzaP5H9Sl63Btk/5aGhxsCk2T+KC3zVEufVP019UAcxhtQ/ni72c5a/0z/3qIlJMJfTPwJ2bTeM+dM/amRCsNIe0j99pmovwMHQPy/Zl7mF/tA/w35XALlt0D95AeQ6BrfOP98L9ergQM0/Wc/OaQG4yD+sZaoZCv/JPyOWXZlkx8g/uJC55JAXxz+yNeCp47TGP8Bxt0ni98Q/1CEFT9kMxT+f41KDILjDP8CHfYOYBMQ/Q93wNi4qwT9Qb1zvu1vAP+0SAEs8zr0/oSArmR6Dvz9A5DX+tpS+PztG3IYLf7s/D1i0fvlstj+GNa9GFrm3P2x7a1cffLU/yxa/sfb1tj/TjkQ4x0yzPwn4dkDPE7M/0SpJ/Zx1tT9ft1F+xIWxP61c/6glSrI/+aPIhAItsT+2ssKZ0E+lP7fpd9rwfrI/4VR+BdFgsT8KRdvK+l+tP5Fr0xOCMKo/v2ExNDl5pj/EkhdL07OlP9AKl5mq7ps/AzYOv9nPlz9JRlclh1qmP2bl7vtpQ5E/RSC+nfbijj/KqYPgge+GPw==",
           "dtype": "f8"
          },
          "color": "#19D3F3",
          "thickness": 1.5,
          "type": "data",
          "width": 0
         },
         "marker": {
          "color": "#19D3F3",
          "size": 0,
          "symbol": "cross-thin"
         },
         "mode": "markers",
         "name": "obs of nb",
         "showlegend": false,
         "type": "scatter",
         "x": {
          "bdata": "AAAAgC0/JUAAAABAhRwrQAAAAAAWTzBAAAAAwGmsMkAAAADAJgU0QAAAAMC/XTVAAAAAoDC4NkAAAADAkdA4QAAAAEApFztAAAAAgH3dPEAAAACgB8I+QAAAACAvZEBAAAAAgGFIQUAAAADAmQlCQAAAAMBC0kJAAAAAwH+gQ0AAAAAABHREQAAAAADRWEVAAAAAQB1PRkAAAADgwkpHQAAAAABZS0hAAAAAAL1dSUAAAADA6IFKQAAAAMB+qktAAAAAQPPWTEAAAABArBROQAAAAGBTY09AAAAAAEZaUEAAAAAA6ApRQAAAAEA5w1FAAAAAAMB7UkAAAAAAGTtTQAAAAEC5AFRAAAAAAP/EVEAAAADgiY5VQAAAACBRXVZAAAAAAIcqV0AAAADAIv1XQAAAAEBK1VhAAAAAYGisWUAAAADAbIlaQAAAAACVbFtAAAAAgCNWXEAAAADAbEZdQAAAAIDUPV5AAAAAgK88X0AAAADAmCFgQAAAAMCzqGBAAAAAIE0wYUAAAACAzrthQAAAAAA9S2JAAAAAwKTeYkAAAADAf3ljQAAAAEBpGGRAAAAAwG27ZEAAAAAAk2JlQAAAAMDlDWZAAAAAgGu9ZkAAAABAMXFnQAAAAADKLGhAAAAAALnsaEAAAABAC7FpQAAAAMBffWpAAAAAAC5Oa0AAAADggiNsQAAAAGAJAW1AAAAAwNbmbUAAAABAUtFuQAAAAACJwG9AAAAA4BpccEAAAAAAN9xwQAAAAMDDXnFAAAAAQMfjcUAAAABAJ21yQAAAAADu+nJAAAAAoCWNc0AAAAAg2CN0QAAAAIAPv3RAAAAAANVedUAAAACAMgN2QAAAAMAwrHZAAAAAoNhZd0AAAADAMgx4QAAAAABHw3hAAAAAAB1/eUAAAADAukF6QAAAAAArC3tAAAAAoHnZe0AAAAAg9Bl9QAAAAGDXY35AAAAAoORJf0AAAADgdRqAQAAAAIB+k4BAAAAAQA4QgUAAAABAKJCBQAAAAICLWIJAAAAAAAVug0AAAABA4UaEQAAAAEC4e4VAAAAAAHVjh0AAAAAAVzCKQA==",
          "dtype": "f8"
         },
         "xaxis": "x",
         "y": {
          "bdata": "GH5dOQVV+D/gSFqOkkYEQGiF2QjBuwJAPCWJoV9DGEAUwL41O+oSQBzcipeH5BVALE0Fn1SPHUBg10Xmq0ABQJwizqpFnA5AILYTi8NZFUAMVrg6/YYWQJ5cdTXzdxNAcsFAUEnSFkCyA39QtFoWQLIN/wCOUQ1Amy6+MXBuEkAyEKbKxegOQDBQzo8JcgdAqkWo625FCkCIP/7rjXgWQG7G4nFo5g9AtjDVqN55CUAW0ipiUQgSQALRtmwQFQ5A8uqebMu8EkCpTandESkGQA7CbWHN6hFA6Ky9ajCpEkBCqWGgHbQTQID7xVatmxBA0yUpo1EMDUBE8NaW4BMTQPFMtAI0WA1ANDFI8tevEUBnhLlXE78TQFOEzvHBIg5AqqXDixlaE0Bbv61Wfi0QQARS8cC4jBBAyZXpdwNFEkD75yHG8QASQGBEO9PnoRBAnJ0mdlrjDUC/XeBP0AQUQOhoADIb+hJAA6Z6cGsdEUCQ52mJKzoJQCNFmnhI1glAPNWGMrx3DUCUa/YetyAQQEQk9fWaVwpAjoYxKPhED0AYFuQwfswFQDldzku1XAJA2EQMdq4DAkAOKm3LEyACQIhZcc73pwRAGdJ7UnlI/j+xekWOgnH5P/vR0neErv0/TPH3KcvO/D+XOYTVDzn6PzeT3V3ykPk/tiHOFrAn7z9XIGaTx+3zPwgWhA9HxPI/AnzVU2h58D+Pb0QJSzvwP/7ALVIHeOw/JL7xgOLZ7z9UFRgsxLDrP4TjG4Ruau4/gdwHdN/i4z/WZUdsJJDiP83Ubpz9d94/qDliC8y85D8OgWB5l9vkP6Q43YM8HOA/3oGc8LpO0z/nHtSO/t/XP0KFiwSTudI/Vm6ZqojV2T8uOHtOEJnPP0KXmXmM584/DkRz6SBR2D8agBCKrqLLPwgPbAY5Z9I/4XcJYPGvzD8l5D/LRdXDP6Zhp45RvdQ/zXZoWC1m0T+dwMHCeyLCPy6Bx0jHib0/ZPIK0nuRsz/9LEITAmq0PzhLKaq2mLQ/EKVZjsjxpj92HPUVS4bEP+L5308z5aI/6Jv7zKIPoD8IQKu5iqyhPw==",
          "dtype": "f8"
         },
         "yaxis": "y"
        },
        {
         "line": {
          "color": "#19D3F3",
          "width": 2
         },
         "mode": "lines",
         "name": "nb",
         "showlegend": true,
         "type": "scatter",
         "x": {
          "bdata": "AAAAgC0/JUAAAABAhRwrQAAAAAAWTzBAAAAAwGmsMkAAAADAJgU0QAAAAMC/XTVAAAAAoDC4NkAAAADAkdA4QAAAAEApFztAAAAAgH3dPEAAAACgB8I+QAAAACAvZEBAAAAAgGFIQUAAAADAmQlCQAAAAMBC0kJAAAAAwH+gQ0AAAAAABHREQAAAAADRWEVAAAAAQB1PRkAAAADgwkpHQAAAAABZS0hAAAAAAL1dSUAAAADA6IFKQAAAAMB+qktAAAAAQPPWTEAAAABArBROQAAAAGBTY09AAAAAAEZaUEAAAAAA6ApRQAAAAEA5w1FAAAAAAMB7UkAAAAAAGTtTQAAAAEC5AFRAAAAAAP/EVEAAAADgiY5VQAAAACBRXVZAAAAAAIcqV0AAAADAIv1XQAAAAEBK1VhAAAAAYGisWUAAAADAbIlaQAAAAACVbFtAAAAAgCNWXEAAAADAbEZdQAAAAIDUPV5AAAAAgK88X0AAAADAmCFgQAAAAMCzqGBAAAAAIE0wYUAAAACAzrthQAAAAAA9S2JAAAAAwKTeYkAAAADAf3ljQAAAAEBpGGRAAAAAwG27ZEAAAAAAk2JlQAAAAMDlDWZAAAAAgGu9ZkAAAABAMXFnQAAAAADKLGhAAAAAALnsaEAAAABAC7FpQAAAAMBffWpAAAAAAC5Oa0AAAADggiNsQAAAAGAJAW1AAAAAwNbmbUAAAABAUtFuQAAAAACJwG9AAAAA4BpccEAAAAAAN9xwQAAAAMDDXnFAAAAAQMfjcUAAAABAJ21yQAAAAADu+nJAAAAAoCWNc0AAAAAg2CN0QAAAAIAPv3RAAAAAANVedUAAAACAMgN2QAAAAMAwrHZAAAAAoNhZd0AAAADAMgx4QAAAAABHw3hAAAAAAB1/eUAAAADAukF6QAAAAAArC3tAAAAAoHnZe0AAAAAg9Bl9QAAAAGDXY35AAAAAoORJf0AAAADgdRqAQAAAAIB+k4BAAAAAQA4QgUAAAABAKJCBQAAAAICLWIJAAAAAAAVug0AAAABA4UaEQAAAAEC4e4VAAAAAAHVjh0AAAAAAVzCKQA==",
          "dtype": "f8"
         },
         "xaxis": "x",
         "y": {
          "bdata": "H7DFSGBTA0APBdl/GfoLQKTtcqX5zBFAj2VIKG5JFEC+waBRSkEVQLhTcj874RVATaX2Q6ofFkA7JW2cCwcWQCyZp+bI7RVABt4SCFGuFUAIu6e4SuMUQKkBJ/mlVRNA89CCNooBEkCnj2dHOT0RQLXeKPbQvRBAazbMJO9uEEC+zSGRmkAQQN8ZTxR4GhBAjgk6s/sSEEAArehcCg4QQF1+0ESmFBBA258RC2UiEEB8pAyoEycQQD01kA5uLxBANBXo/sBJEEC7RkrO83sQQCUZ9gp9txBA238DRJ3gEECq9jOOqAARQDdWBjvbJxFA8kMxwxBAEUAuSyJmAjkRQBE3vSMnHBFAZzXLsXbuEEBVnY3+GLkQQPpN6mKwjRBAMOSM5gFvEEBSn8QGYEwQQJ+utsTwGBBADWIpOq+rD0DOUx/rjxoPQEuERBCLhA5A71Cx5evyDUDow0jL2lQNQIinf9HosgxAQqCx0woNDEBch5cW914LQOLdyG7HqgpAbYJj77/fCUDADVVq8AUJQOwA51qRGQhAsUtI63gyB0BZ1H/Cl0wGQBCiQ0T4awVA0imeTPuBBEAi5HhjjI8DQKk2x/U/ngJAt/TZ6Xy0AUDFvcr3RNMAQKqwg7j/3f8/xt/O87QZ/j8JZEsO11D8P54QmteJfvo/A8hNSnO5+D9Ne4rTZA73P9SUktMjevU/qoGpEQX88z8ZOnPoP47yP6wQkg/HM/E/S8AMhz3f7z91/vfuTortPwXMQ6TLZOs/5Hjx9RxZ6T8T3k4JInDnP4Yhf5zwp+U/AZV61YcJ5D/KnyHYZXfiPwhrEBcLDOE/Rb9W+aZ83z8dFDlbwSHdP1Pt81Aq19o/fAddfZak2D//Y7ForJbWP5WzavHNudQ/JMeeYUwV0z8cFUCVwo7RP7Q1Yy7tLdA/GZOUG/u2zT8FD3T3HBbKP2KOI+kQ3MY/e5Gv3gEKxT8DjoCyc2vDPwMxLFGX3cE/ZRdTKztYwD+uYsTweMe9P/raFmLS5bk/4w9I/NSRtT9QkUZ6etGyPziJZFQWZa8/0iQMMMDCpz8hWVIpSCWgPw==",
          "dtype": "f8"
         },
         "yaxis": "y"
        },
        {
         "marker": {
          "color": "#19D3F3",
          "line": {
           "color": "#19D3F3",
           "width": 1.5
          },
          "size": 10,
          "symbol": "cross-thin"
         },
         "mode": "markers",
         "name": "res of nb",
         "showlegend": false,
         "type": "scatter",
         "x": {
          "bdata": "AAAAgC0/JUAAAABAhRwrQAAAAAAWTzBAAAAAwGmsMkAAAADAJgU0QAAAAMC/XTVAAAAAoDC4NkAAAADAkdA4QAAAAEApFztAAAAAgH3dPEAAAACgB8I+QAAAACAvZEBAAAAAgGFIQUAAAADAmQlCQAAAAMBC0kJAAAAAwH+gQ0AAAAAABHREQAAAAADRWEVAAAAAQB1PRkAAAADgwkpHQAAAAABZS0hAAAAAAL1dSUAAAADA6IFKQAAAAMB+qktAAAAAQPPWTEAAAABArBROQAAAAGBTY09AAAAAAEZaUEAAAAAA6ApRQAAAAEA5w1FAAAAAAMB7UkAAAAAAGTtTQAAAAEC5AFRAAAAAAP/EVEAAAADgiY5VQAAAACBRXVZAAAAAAIcqV0AAAADAIv1XQAAAAEBK1VhAAAAAYGisWUAAAADAbIlaQAAAAACVbFtAAAAAgCNWXEAAAADAbEZdQAAAAIDUPV5AAAAAgK88X0AAAADAmCFgQAAAAMCzqGBAAAAAIE0wYUAAAACAzrthQAAAAAA9S2JAAAAAwKTeYkAAAADAf3ljQAAAAEBpGGRAAAAAwG27ZEAAAAAAk2JlQAAAAMDlDWZAAAAAgGu9ZkAAAABAMXFnQAAAAADKLGhAAAAAALnsaEAAAABAC7FpQAAAAMBffWpAAAAAAC5Oa0AAAADggiNsQAAAAGAJAW1AAAAAwNbmbUAAAABAUtFuQAAAAACJwG9AAAAA4BpccEAAAAAAN9xwQAAAAMDDXnFAAAAAQMfjcUAAAABAJ21yQAAAAADu+nJAAAAAoCWNc0AAAAAg2CN0QAAAAIAPv3RAAAAAANVedUAAAACAMgN2QAAAAMAwrHZAAAAAoNhZd0AAAADAMgx4QAAAAABHw3hAAAAAAB1/eUAAAADAukF6QAAAAAArC3tAAAAAoHnZe0AAAAAg9Bl9QAAAAGDXY35AAAAAoORJf0AAAADgdRqAQAAAAIB+k4BAAAAAQA4QgUAAAABAKJCBQAAAAICLWIJAAAAAAAVug0AAAABA4UaEQAAAAEC4e4VAAAAAAHVjh0AAAAAAVzCKQA==",
          "dtype": "f8"
         },
         "xaxis": "x2",
         "y": {
          "bdata": "GwDvStEW9L958k6dWv/qvzgr96Wl9AHA2M9m5Zol5D8WvTS+C/3YvxVh+ryrLGE/lMRu5On98j+p81QADWINwJEaYp+lgPa/P12uZODZsb/gSv0rXsfXP3tQYtRoHKE/tBMxGm5V7j/VBi1+ZfzwPyPxiWaZhOC/WOMUgWQF4D+VetVsn2rLv9p7ugtuxvW/uTbzxiOf7b+c/9om07b9P4AQ3msadaW/fIaEYyND8792d/+bFT7kPywpycfXINq/UK98gXAs6z8+xQNnQiQCwCxXyekrOtw/RI4ZIFTH5D+WR3Oh1tbvP8qK9IEi68u/md/MWIFl8r9ek46qRe/oPz8CA4VTwvG/dVHhnn/w1D9f3SlwbOn0Pxf5nEDTJOa/p5mcwx099D80PLfWkmGtv8pdOsvxess/S04eogIe8j9LoAQgCvfyP3Iy17q25OU/JB6oC+uEkL9kIS8eptYEQITKCx9d5wJAxrI1Ydxw+j+Uh7AxDNzkv05woP2ONtC/zNc8giPf8D/sSypP7SYBQPv1FWj77+Y/JBGPKnclBEA/vmYw+WTHv1JiFZHYFPO/Jcm/MCsp8L99Eu4L7sHiv0SXTCprHuo/oBkIZqob8r/WZcQMiVj/v8ftxz3/deC/wJL5L3sk1L//PEvbjXHhv+P7b9hhPtC/bQeAdrauB8Aj61XkG8zuvwu6XTCOAOy/1o+LYgl187+CroknsTPqv69bG5/wHfK/KuOUUGVIcL+78Ej/ogPYv1pW3d/UUuM/2XObAW9d9L8tEcGSnBLzv8Xq+u3ok/u/M+SUK1TBxj/VrQpd0QTkP9saCPRfcdG/2XWJxxJhAcD335z6Ml3sv1Px8yXRLPi/FQ7LOfSPyj+7EdClz4P2vxR+n0QGsfG/3Jqetb437z9ZwuFq1VHrv9fr6S9wIN8/+2Z59f2gvr+FLCMWYcfyvzQOLq5cGwBACHk+cgJW+T+E3mDT3WXGv8skQ/eXRN6/ahjQRteu8r/FXhINEZ7rv4DholH2Sui/rACQDZ8j+78Yov2DBdP/P5cMb7BvK/e/rVCEQK/o778K2GJuIA/RPw==",
          "dtype": "f8"
         },
         "yaxis": "y2"
        },
        {
         "error_x": {
          "array": {
           "bdata": "AAAAADg1MUAAAAAA2jExQAAAAADCLjFAAAAAAO8rMUAAAAAAXykxQAAAAAAXJzFAAAAAALDbNkAAAAAAvNg2QAAAAABu1jZAAAAAAMDUNkAAAAAAttM2QAAAAABQ0zZAAAAAAIzTNkAAAAAAbtQ2QAAAAADy1TZAAAAAABjYNkAAAAAA5No2QAAAAACCljxAAAAAABydPEAAAAAA9KQ8QAAAAAAMrjxAAAAAAGS4PEAAAAAA/MM8QAAAAABg10xAAAAAAGRXQUAAAAAAclZRQAAAAAA4S0FAAAAAAOQ8QUAAAAAAbilBQAAAAACRRlxAAAAAAMCPXUAAAAAA0PxlQAAAAMDpI4BAAAAAAMdtc0AAAAAAtdWHQAAAAAAYh49AAAAAgALslUAAAABAQYKgQAAAAAC+9apAAAAAwG1qvEA=",
           "dtype": "f8"
          },
          "arrayminus": {
           "bdata": "AAAAADg1MUAAAAAA2jExQAAAAADCLjFAAAAAAO8rMUAAAAAAXykxQAAAAAAXJzFAAAAAALDbNkAAAAAAvNg2QAAAAABu1jZAAAAAAMDUNkAAAAAAttM2QAAAAABQ0zZAAAAAAIzTNkAAAAAAbtQ2QAAAAADy1TZAAAAAABjYNkAAAAAA5No2QAAAAACCljxAAAAAABydPEAAAAAA9KQ8QAAAAAAMrjxAAAAAAGS4PEAAAAAA/MM8QAAAAABg10xAAAAAAGRXQUAAAAAAclZRQAAAAAA4S0FAAAAAAOQ8QUAAAAAAbilBQAAAAACRRlxAAAAAAMCPXUAAAAAA0PxlQAAAAMDpI4BAAAAAAMdtc0AAAAAAtdWHQAAAAAAYh49AAAAAgALslUAAAABAQYKgQAAAAAC+9apAAAAAwG1qvEA=",
           "dtype": "f8"
          },
          "color": "#FF6692",
          "symmetric": false,
          "thickness": 1.5,
          "type": "data",
          "width": 0
         },
         "error_y": {
          "array": {
           "bdata": "NdM5U6ZmwD8x2jr0bsq/P0wNNNa6L74/OcO7Dcyuuj9CgnXhVa65P/WH5+4QFLo/Nl32sOE5tD/j2/jg/q6yP8ZvaomJPLA/jCHtxHFerz+GVWy3ZlCuP6NvF0CLZK0/Ybi/OCiJrD+TYhpZHfqrPxhEjWu4q6o/oSP22T/qqT+iRxPQ7ZqqP9cl9OPD3aY/BqQLXd9Ipj/1g3OahASkPxo0lL3OKqI/qStnSltuoT++dYZnmNShP32XyeiUhZk/BEX+MCs6oD/RYogyboSTP52HcAzKlZs/Qubf950UnD/I2bE2XwibPzNpnvqtiIg/8jA92KyZhz8614p8RI19P9EoNomZd2s/EJ29iVYvZz/WzGEfB8VVP58NCqRxK00/1MYdZtugQz/0brDmN8k4P14OhgLNbTA/1x6Dl9rBIj8=",
           "dtype": "f8"
          },
          "color": "#FF6692",
          "thickness": 1.5,
          "type": "data",
          "width": 0
         },
         "marker": {
          "color": "#FF6692",
          "size": 0,
          "symbol": "cross-thin"
         },
         "mode": "markers",
         "name": "obs of b1",
         "showlegend": false,
         "type": "scatter",
         "x": {
          "bdata": "AAAAoJ2SdEAAAADADrl2QAAAAIAY33hAAAAAgMMEe0AAAACAGCp9QAAAAMAfT39AAAAAIKbngEAAAACASVWCQAAAAMDCwoNAAAAAQBwwhUAAAAAAYJ2GQAAAACCYCohAAAAAAM93iUAAAADADuWKQAAAAMBhUoxAAAAAINK/jUAAAAAAai2PQAAAAKB6ZJBAAAAAAElJkUAAAABAUS6SQAAAAECdE5NAAAAAADf5k0AAAACAKN+UQAAAAIDzOJZAAAAAoGmql0AAAADgi0qZQAAAAMBM6ppAAAAAoI3+m0AAAABAwBGdQAAAAMB0X59AAAAA4Gx+oUAAAADgt8qjQAAAAEB/M6lAAAAAoDKqr0AAAABgrAa0QAAAAABG8rpAAAAAwBQvwkAAAACAJQ3JQAAAAKCS9dFAAAAAwOVu3EA=",
          "dtype": "f8"
         },
         "xaxis": "x",
         "y": {
          "bdata": "FHikc4L0A0CU1tBYCbIAQP/iN662wv4/7WwbtOxV+D8n8u5TDKz1PxWBx1OyJfU/zG2aWNh16z+OYk69p7zuP19zoY8JjOU/47Dr2XHN5D9lHPPsF7vjP6kWay1YvOA/QCVDFuQe3D/W+s9yZPzZPyqFICqYVdc/+7MhIHhi1D823hmqiKfUPzYZJmVqDdA/9PJLWnhZzz+QYvmpcmrEP1zhW+Dybb4/WCG1o/8duD9cZDlQRxi6PyD9bRLMTLE/XEhooGpctz9QanELBfmmP8hJRssagas/OHBiHEHAtT9ciXLWYguzP/jrV0ZI1J0/2Cp7tH70lj+gY7E2+KKNP8CAmnPSznk/AEPuYHOtdz8g2ciwV/5KPwCrUzjliUC/AHGoUZIRND8AEaQsB3cJv/ABv+o9wCM/OPX2f/2TLz8=",
          "dtype": "f8"
         },
         "yaxis": "y"
        },
        {
         "line": {
          "color": "#FF6692",
          "width": 2
         },
         "mode": "lines",
         "name": "b1",
         "showlegend": true,
         "type": "scatter",
         "x": {
          "bdata": "AAAAoJ2SdEAAAADADrl2QAAAAIAY33hAAAAAgMMEe0AAAACAGCp9QAAAAMAfT39AAAAAIKbngEAAAACASVWCQAAAAMDCwoNAAAAAQBwwhUAAAAAAYJ2GQAAAACCYCohAAAAAAM93iUAAAADADuWKQAAAAMBhUoxAAAAAINK/jUAAAAAAai2PQAAAAKB6ZJBAAAAAAElJkUAAAABAUS6SQAAAAECdE5NAAAAAADf5k0AAAACAKN+UQAAAAIDzOJZAAAAAoGmql0AAAADgi0qZQAAAAMBM6ppAAAAAoI3+m0AAAABAwBGdQAAAAMB0X59AAAAA4Gx+oUAAAADgt8qjQAAAAEB/M6lAAAAAoDKqr0AAAABgrAa0QAAAAABG8rpAAAAAwBQvwkAAAACAJQ3JQAAAAKCS9dFAAAAAwOVu3EA=",
          "dtype": "f8"
         },
         "xaxis": "x",
         "y": {
          "bdata": "ZMB+OtZ1A0BYJQC5TaYAQNVZLbjaufw/wfnhqfPG+D9xcdnrlHf1PwqMAIzfzfI/AfSDcBwh8D+mYrQrShnrP3wb9EB7Dec/A/yj8Z6m4z/SjqdYm8ngP6ETyN1Yr9w/9v2f2dyh2D8P/l5djCvVP+gzJIqATNI//ugryRHXzz+G945l+bDLP9mGuCcKpsc/pPMsURbUwz9EAyN2wr/APy3b0f+EbLw/ovjuIpoVuD8HkuOCayq0Pw7oviVXZa8/L6GoWksAqD+g8kEDM/WhP37igjMjupo/mihvH78qlj+d967Ls06SP5TLB0Gg5og/MJZcjr2wej/SsKWMHgtpP5EvVeUUZUU/uvP6L1rjET8jXjyGBgjfPmgL38y3joI+N6RByM2ZCj7ysHi7Oe5mPfOFhpTpa3Y8vDVyNgxg9To=",
          "dtype": "f8"
         },
         "yaxis": "y"
        },
        {
         "marker": {
          "color": "#FF6692",
          "line": {
           "color": "#FF6692",
           "width": 1.5
          },
          "size": 10,
          "symbol": "cross-thin"
         },
         "mode": "markers",
         "name": "res of b1",
         "showlegend": false,
         "type": "scatter",
         "x": {
          "bdata": "AAAAoJ2SdEAAAADADrl2QAAAAIAY33hAAAAAgMMEe0AAAACAGCp9QAAAAMAfT39AAAAAIKbngEAAAACASVWCQAAAAMDCwoNAAAAAQBwwhUAAAAAAYJ2GQAAAACCYCohAAAAAAM93iUAAAADADuWKQAAAAMBhUoxAAAAAINK/jUAAAAAAai2PQAAAAKB6ZJBAAAAAAElJkUAAAABAUS6SQAAAAECdE5NAAAAAADf5k0AAAACAKN+UQAAAAIDzOJZAAAAAoGmql0AAAADgi0qZQAAAAMBM6ppAAAAAoI3+m0AAAABAwBGdQAAAAMB0X59AAAAA4Gx+oUAAAADgt8qjQAAAAEB/M6lAAAAAoDKqr0AAAABgrAa0QAAAAABG8rpAAAAAwBQvwkAAAACAJQ3JQAAAAKCS9dFAAAAAwOVu3EA=",
          "dtype": "f8"
         },
         "xaxis": "x2",
         "y": {
          "bdata": "ktpbM9rk3j94Vp+vyZ6nP/MKzJI2QfE/E10KnJ7x0L9lFsqCE1jAP1qhKaAzAPc/8fQ7Nbtd/r/jjBbfuez4P1ZzCTJJvee/5nmy2RTM4j/z0ak0I9v4P5X+lBwj2PQ/BmTgNohL7z9IN9ZkfQj2P+VAgyKwKvg/YQcfszMN9j/06NB2+mAAQNKb0C7/qvc/5eWqTDaLAEBHJdz6TnLnPyK1bK7kQsw/PQQ37x7Ubj/pH8EiJkjlP3QqbNzVEdA/MjeJthdn9j/fXZIH1HHgP97b2HFoZ/A/NnugDMN4AkCSlY/DRSABQKMyaUreqvY/f0ZjDeAT9j8JIwm88E/5P8CS5y2B8/o/N1uj+qYlAEDt2GskRanjP8jXIxv6JeK/OPe8Tt5b4D+4TJ7YMnDAv7HB0BM9POM/m8un0Kzv+j8=",
          "dtype": "f8"
         },
         "yaxis": "y2"
        }
       ],
       "layout": {
        "height": 700,
        "legend": {
         "x": 1,
         "xanchor": "right",
         "y": 1,
         "yanchor": "bottom"
        },
        "template": {
         "data": {
          "bar": [
           {
            "error_x": {
             "color": "#2a3f5f"
            },
            "error_y": {
             "color": "#2a3f5f"
            },
            "marker": {
             "line": {
              "color": "white",
              "width": 0.5
             },
             "pattern": {
              "fillmode": "overlay",
              "size": 10,
              "solidity": 0.2
             }
            },
            "type": "bar"
           }
          ],
          "barpolar": [
           {
            "marker": {
             "line": {
              "color": "white",
              "width": 0.5
             },
             "pattern": {
              "fillmode": "overlay",
              "size": 10,
              "solidity": 0.2
             }
            },
            "type": "barpolar"
           }
          ],
          "carpet": [
           {
            "aaxis": {
             "endlinecolor": "#2a3f5f",
             "gridcolor": "#C8D4E3",
             "linecolor": "#C8D4E3",
             "minorgridcolor": "#C8D4E3",
             "startlinecolor": "#2a3f5f"
            },
            "baxis": {
             "endlinecolor": "#2a3f5f",
             "gridcolor": "#C8D4E3",
             "linecolor": "#C8D4E3",
             "minorgridcolor": "#C8D4E3",
             "startlinecolor": "#2a3f5f"
            },
            "type": "carpet"
           }
          ],
          "choropleth": [
           {
            "colorbar": {
             "outlinewidth": 0,
             "ticks": ""
            },
            "type": "choropleth"
           }
          ],
          "contour": [
           {
            "colorbar": {
             "outlinewidth": 0,
             "ticks": ""
            },
            "colorscale": [
             [
              0,
              "#0d0887"
             ],
             [
              0.1111111111111111,
              "#46039f"
             ],
             [
              0.2222222222222222,
              "#7201a8"
             ],
             [
              0.3333333333333333,
              "#9c179e"
             ],
             [
              0.4444444444444444,
              "#bd3786"
             ],
             [
              0.5555555555555556,
              "#d8576b"
             ],
             [
              0.6666666666666666,
              "#ed7953"
             ],
             [
              0.7777777777777778,
              "#fb9f3a"
             ],
             [
              0.8888888888888888,
              "#fdca26"
             ],
             [
              1,
              "#f0f921"
             ]
            ],
            "type": "contour"
           }
          ],
          "contourcarpet": [
           {
            "colorbar": {
             "outlinewidth": 0,
             "ticks": ""
            },
            "type": "contourcarpet"
           }
          ],
          "heatmap": [
           {
            "colorbar": {
             "outlinewidth": 0,
             "ticks": ""
            },
            "colorscale": [
             [
              0,
              "#0d0887"
             ],
             [
              0.1111111111111111,
              "#46039f"
             ],
             [
              0.2222222222222222,
              "#7201a8"
             ],
             [
              0.3333333333333333,
              "#9c179e"
             ],
             [
              0.4444444444444444,
              "#bd3786"
             ],
             [
              0.5555555555555556,
              "#d8576b"
             ],
             [
              0.6666666666666666,
              "#ed7953"
             ],
             [
              0.7777777777777778,
              "#fb9f3a"
             ],
             [
              0.8888888888888888,
              "#fdca26"
             ],
             [
              1,
              "#f0f921"
             ]
            ],
            "type": "heatmap"
           }
          ],
          "histogram": [
           {
            "marker": {
             "pattern": {
              "fillmode": "overlay",
              "size": 10,
              "solidity": 0.2
             }
            },
            "type": "histogram"
           }
          ],
          "histogram2d": [
           {
            "colorbar": {
             "outlinewidth": 0,
             "ticks": ""
            },
            "colorscale": [
             [
              0,
              "#0d0887"
             ],
             [
              0.1111111111111111,
              "#46039f"
             ],
             [
              0.2222222222222222,
              "#7201a8"
             ],
             [
              0.3333333333333333,
              "#9c179e"
             ],
             [
              0.4444444444444444,
              "#bd3786"
             ],
             [
              0.5555555555555556,
              "#d8576b"
             ],
             [
              0.6666666666666666,
              "#ed7953"
             ],
             [
              0.7777777777777778,
              "#fb9f3a"
             ],
             [
              0.8888888888888888,
              "#fdca26"
             ],
             [
              1,
              "#f0f921"
             ]
            ],
            "type": "histogram2d"
           }
          ],
          "histogram2dcontour": [
           {
            "colorbar": {
             "outlinewidth": 0,
             "ticks": ""
            },
            "colorscale": [
             [
              0,
              "#0d0887"
             ],
             [
              0.1111111111111111,
              "#46039f"
             ],
             [
              0.2222222222222222,
              "#7201a8"
             ],
             [
              0.3333333333333333,
              "#9c179e"
             ],
             [
              0.4444444444444444,
              "#bd3786"
             ],
             [
              0.5555555555555556,
              "#d8576b"
             ],
             [
              0.6666666666666666,
              "#ed7953"
             ],
             [
              0.7777777777777778,
              "#fb9f3a"
             ],
             [
              0.8888888888888888,
              "#fdca26"
             ],
             [
              1,
              "#f0f921"
             ]
            ],
            "type": "histogram2dcontour"
           }
          ],
          "mesh3d": [
           {
            "colorbar": {
             "outlinewidth": 0,
             "ticks": ""
            },
            "type": "mesh3d"
           }
          ],
          "parcoords": [
           {
            "line": {
             "colorbar": {
              "outlinewidth": 0,
              "ticks": ""
             }
            },
            "type": "parcoords"
           }
          ],
          "pie": [
           {
            "automargin": true,
            "type": "pie"
           }
          ],
          "scatter": [
           {
            "fillpattern": {
             "fillmode": "overlay",
             "size": 10,
             "solidity": 0.2
            },
            "type": "scatter"
           }
          ],
          "scatter3d": [
           {
            "line": {
             "colorbar": {
              "outlinewidth": 0,
              "ticks": ""
             }
            },
            "marker": {
             "colorbar": {
              "outlinewidth": 0,
              "ticks": ""
             }
            },
            "type": "scatter3d"
           }
          ],
          "scattercarpet": [
           {
            "marker": {
             "colorbar": {
              "outlinewidth": 0,
              "ticks": ""
             }
            },
            "type": "scattercarpet"
           }
          ],
          "scattergeo": [
           {
            "marker": {
             "colorbar": {
              "outlinewidth": 0,
              "ticks": ""
             }
            },
            "type": "scattergeo"
           }
          ],
          "scattergl": [
           {
            "marker": {
             "colorbar": {
              "outlinewidth": 0,
              "ticks": ""
             }
            },
            "type": "scattergl"
           }
          ],
          "scattermap": [
           {
            "marker": {
             "colorbar": {
              "outlinewidth": 0,
              "ticks": ""
             }
            },
            "type": "scattermap"
           }
          ],
          "scattermapbox": [
           {
            "marker": {
             "colorbar": {
              "outlinewidth": 0,
              "ticks": ""
             }
            },
            "type": "scattermapbox"
           }
          ],
          "scatterpolar": [
           {
            "marker": {
             "colorbar": {
              "outlinewidth": 0,
              "ticks": ""
             }
            },
            "type": "scatterpolar"
           }
          ],
          "scatterpolargl": [
           {
            "marker": {
             "colorbar": {
              "outlinewidth": 0,
              "ticks": ""
             }
            },
            "type": "scatterpolargl"
           }
          ],
          "scatterternary": [
           {
            "marker": {
             "colorbar": {
              "outlinewidth": 0,
              "ticks": ""
             }
            },
            "type": "scatterternary"
           }
          ],
          "surface": [
           {
            "colorbar": {
             "outlinewidth": 0,
             "ticks": ""
            },
            "colorscale": [
             [
              0,
              "#0d0887"
             ],
             [
              0.1111111111111111,
              "#46039f"
             ],
             [
              0.2222222222222222,
              "#7201a8"
             ],
             [
              0.3333333333333333,
              "#9c179e"
             ],
             [
              0.4444444444444444,
              "#bd3786"
             ],
             [
              0.5555555555555556,
              "#d8576b"
             ],
             [
              0.6666666666666666,
              "#ed7953"
             ],
             [
              0.7777777777777778,
              "#fb9f3a"
             ],
             [
              0.8888888888888888,
              "#fdca26"
             ],
             [
              1,
              "#f0f921"
             ]
            ],
            "type": "surface"
           }
          ],
          "table": [
           {
            "cells": {
             "fill": {
              "color": "#EBF0F8"
             },
             "line": {
              "color": "white"
             }
            },
            "header": {
             "fill": {
              "color": "#C8D4E3"
             },
             "line": {
              "color": "white"
             }
            },
            "type": "table"
           }
          ]
         },
         "layout": {
          "annotationdefaults": {
           "arrowcolor": "#2a3f5f",
           "arrowhead": 0,
           "arrowwidth": 1
          },
          "autotypenumbers": "strict",
          "coloraxis": {
           "colorbar": {
            "outlinewidth": 0,
            "ticks": ""
           }
          },
          "colorscale": {
           "diverging": [
            [
             0,
             "#8e0152"
            ],
            [
             0.1,
             "#c51b7d"
            ],
            [
             0.2,
             "#de77ae"
            ],
            [
             0.3,
             "#f1b6da"
            ],
            [
             0.4,
             "#fde0ef"
            ],
            [
             0.5,
             "#f7f7f7"
            ],
            [
             0.6,
             "#e6f5d0"
            ],
            [
             0.7,
             "#b8e186"
            ],
            [
             0.8,
             "#7fbc41"
            ],
            [
             0.9,
             "#4d9221"
            ],
            [
             1,
             "#276419"
            ]
           ],
           "sequential": [
            [
             0,
             "#0d0887"
            ],
            [
             0.1111111111111111,
             "#46039f"
            ],
            [
             0.2222222222222222,
             "#7201a8"
            ],
            [
             0.3333333333333333,
             "#9c179e"
            ],
            [
             0.4444444444444444,
             "#bd3786"
            ],
            [
             0.5555555555555556,
             "#d8576b"
            ],
            [
             0.6666666666666666,
             "#ed7953"
            ],
            [
             0.7777777777777778,
             "#fb9f3a"
            ],
            [
             0.8888888888888888,
             "#fdca26"
            ],
            [
             1,
             "#f0f921"
            ]
           ],
           "sequentialminus": [
            [
             0,
             "#0d0887"
            ],
            [
             0.1111111111111111,
             "#46039f"
            ],
            [
             0.2222222222222222,
             "#7201a8"
            ],
            [
             0.3333333333333333,
             "#9c179e"
            ],
            [
             0.4444444444444444,
             "#bd3786"
            ],
            [
             0.5555555555555556,
             "#d8576b"
            ],
            [
             0.6666666666666666,
             "#ed7953"
            ],
            [
             0.7777777777777778,
             "#fb9f3a"
            ],
            [
             0.8888888888888888,
             "#fdca26"
            ],
            [
             1,
             "#f0f921"
            ]
           ]
          },
          "colorway": [
           "#636efa",
           "#EF553B",
           "#00cc96",
           "#ab63fa",
           "#FFA15A",
           "#19d3f3",
           "#FF6692",
           "#B6E880",
           "#FF97FF",
           "#FECB52"
          ],
          "font": {
           "color": "#2a3f5f"
          },
          "geo": {
           "bgcolor": "white",
           "lakecolor": "white",
           "landcolor": "white",
           "showlakes": true,
           "showland": true,
           "subunitcolor": "#C8D4E3"
          },
          "hoverlabel": {
           "align": "left"
          },
          "hovermode": "closest",
          "mapbox": {
           "style": "light"
          },
          "paper_bgcolor": "white",
          "plot_bgcolor": "white",
          "polar": {
           "angularaxis": {
            "gridcolor": "#EBF0F8",
            "linecolor": "#EBF0F8",
            "ticks": ""
           },
           "bgcolor": "white",
           "radialaxis": {
            "gridcolor": "#EBF0F8",
            "linecolor": "#EBF0F8",
            "ticks": ""
           }
          },
          "scene": {
           "xaxis": {
            "backgroundcolor": "white",
            "gridcolor": "#DFE8F3",
            "gridwidth": 2,
            "linecolor": "#EBF0F8",
            "showbackground": true,
            "ticks": "",
            "zerolinecolor": "#EBF0F8"
           },
           "yaxis": {
            "backgroundcolor": "white",
            "gridcolor": "#DFE8F3",
            "gridwidth": 2,
            "linecolor": "#EBF0F8",
            "showbackground": true,
            "ticks": "",
            "zerolinecolor": "#EBF0F8"
           },
           "zaxis": {
            "backgroundcolor": "white",
            "gridcolor": "#DFE8F3",
            "gridwidth": 2,
            "linecolor": "#EBF0F8",
            "showbackground": true,
            "ticks": "",
            "zerolinecolor": "#EBF0F8"
           }
          },
          "shapedefaults": {
           "line": {
            "color": "#2a3f5f"
           }
          },
          "ternary": {
           "aaxis": {
            "gridcolor": "#DFE8F3",
            "linecolor": "#A2B1C6",
            "ticks": ""
           },
           "baxis": {
            "gridcolor": "#DFE8F3",
            "linecolor": "#A2B1C6",
            "ticks": ""
           },
           "bgcolor": "white",
           "caxis": {
            "gridcolor": "#DFE8F3",
            "linecolor": "#A2B1C6",
            "ticks": ""
           }
          },
          "title": {
           "x": 0.05
          },
          "xaxis": {
           "automargin": true,
           "gridcolor": "#EBF0F8",
           "linecolor": "#EBF0F8",
           "ticks": "",
           "title": {
            "standoff": 15
           },
           "zerolinecolor": "#EBF0F8",
           "zerolinewidth": 2
          },
          "yaxis": {
           "automargin": true,
           "gridcolor": "#EBF0F8",
           "linecolor": "#EBF0F8",
           "ticks": "",
           "title": {
            "standoff": 15
           },
           "zerolinecolor": "#EBF0F8",
           "zerolinewidth": 2
          }
         }
        },
        "width": 600,
        "xaxis": {
         "anchor": "y",
         "domain": [
          0,
          1
         ],
         "matches": "x2",
         "showticklabels": false,
         "title": {
          "text": ""
         },
         "type": "log"
        },
        "xaxis2": {
         "anchor": "y2",
         "domain": [
          0,
          1
         ],
         "title": {
          "text": "Energy (keV)"
         },
         "type": "log"
        },
        "yaxis": {
         "anchor": "x",
         "domain": [
          0.265,
          1
         ],
         "range": [
          -4.122952047199394,
          1.513837952739825
         ],
         "title": {
          "text": "Counts/s/keV"
         },
         "type": "log"
        },
        "yaxis2": {
         "anchor": "x2",
         "domain": [
          0,
          0.245
         ],
         "range": [
          -3.5,
          3.5
         ],
         "showgrid": false,
         "title": {
          "text": "Sigma"
         }
        }
       }
      }
     },
     "metadata": {},
     "output_type": "display_data"
    }
   ],
   "source": [
    "fig = Plot.infer(post, style='CE')\n",
    "fig.save(f'{savepath}/ctsspec')"
   ]
  },
  {
   "cell_type": "code",
   "execution_count": 10,
   "id": "5605042b",
   "metadata": {},
   "outputs": [
    {
     "data": {
      "application/vnd.plotly.v1+json": {
       "config": {
        "plotlyServerURL": "https://plot.ly"
       },
       "data": [
        {
         "error_x": {
          "array": {
           "bdata": "AAAAADSK3T8AAAAA6ILtPwAAAABSid0/AAAAAPHB4T8AAAAAhNHhPwAAAABf5+E/AAAAAC8H4j8AAAAAJDPiPwAAAABGa+I/AAAAAJKv4j8AAAAASDPmPwAAAAD0suY/AAAAAGJE5z8AAAAAlOfnPwAAAACInOg/AAAAAERj6T8AAAAA2g3uPwAAAAAiQ+8/AAAAAAjS7j8AAAAAdDDnPwAAAAAoKec/AAAAAAR36j8AAAAAMOHqPwAAAAB0Rus/AAAAANim6z8AAAAAfCTvPwAAAAC8ju8/AAAAAEjy7z8AAAAAkifwPwAAAAC+9vE/AAAAAGYm8j8AAAAAllHyPwAAAABQePI/AAAAABhN9D8AAAAAFHD0PwAAAABEjfQ/AAAAAOxd9j8AAAAACHL2PwAAAADEfvY/AAAAAIg/+D8AAAAAwDz4PwAAAADoNfg/AAAAAFzq+T8AAAAAkOX5PwAAAAB84vk/AAAAAMya+z8AAAAAWJv7PwAAAAD8nfs/AAAAABhd/T8AAAAA9GT9PwAAAADsKv8/AAAAAIg5/z8AAAAAEoQAQAAAAADWjQBAAAAAAFh3AUAAAAAAAIIBQAAAAACYjAFAAAAAAIh4AkAAAAAADIQCQAAAAAAAcgNAAAAAAJRhBEAAAAAACG8EQAAAAAC8YAVAAAAAAChvBUAAAAAA+GIGQAAAAABYcgZAAAAAAFhoB0AAAAAAEGAIQAAAAAB0cQhAAAAAAGBrCUAAAAAAFGcKQAAAAAB8egpAAAAAAGh4C0AAAAAAIHgMQAAAAACgeQ1AAAAAABiQDUAAAAAA0JMOQAAAAABImQ9AAAAAAFBQEEAAAAAA+FwQQAAAAACs4RBAAAAAAEBnEUAAAAAArO0RQAAAAAD4dBJAAAAAACD9EkAAAAAAFIYTQAAAAADYDxRAAAAAAGyaFEAAAAAAxCUVQAAAAADUsRVAAAAAAKA+FkAAAAAAFMwWQAAAAAAwWhdAAAAAAPxlGEAAAAAAAPYYQAAAAACAhhlAAAAAAHAXGkAAAAAAxKgaQAAAAABYuRtAAAAAAPRLHEAAAAAAvN4cQAAAAACQ8R1AAAAAABCFHkAAAAAACJkfQAAAAACYWzBAAAAAAIjqIEAAAAAA4HQhQAAAAADIIzJAAAAAAB4JPUAAAAAA3I80QAAAAABcOSVAAAAAALi+JUAAAAAA5SNBQA==",
           "dtype": "f8"
          },
          "arrayminus": {
           "bdata": "AAAAADSK3T8AAAAA6ILtPwAAAABSid0/AAAAAPHB4T8AAAAAhNHhPwAAAABf5+E/AAAAAC8H4j8AAAAAJDPiPwAAAABGa+I/AAAAAJKv4j8AAAAASDPmPwAAAAD0suY/AAAAAGJE5z8AAAAAlOfnPwAAAACInOg/AAAAAERj6T8AAAAA2g3uPwAAAAAiQ+8/AAAAAAjS7j8AAAAAdDDnPwAAAAAoKec/AAAAAAR36j8AAAAAMOHqPwAAAAB0Rus/AAAAANim6z8AAAAAfCTvPwAAAAC8ju8/AAAAAEjy7z8AAAAAkifwPwAAAAC+9vE/AAAAAGYm8j8AAAAAllHyPwAAAABQePI/AAAAABhN9D8AAAAAFHD0PwAAAABEjfQ/AAAAAOxd9j8AAAAACHL2PwAAAADEfvY/AAAAAIg/+D8AAAAAwDz4PwAAAADoNfg/AAAAAFzq+T8AAAAAkOX5PwAAAAB84vk/AAAAAMya+z8AAAAAWJv7PwAAAAD8nfs/AAAAABhd/T8AAAAA9GT9PwAAAADsKv8/AAAAAIg5/z8AAAAAEoQAQAAAAADWjQBAAAAAAFh3AUAAAAAAAIIBQAAAAACYjAFAAAAAAIh4AkAAAAAADIQCQAAAAAAAcgNAAAAAAJRhBEAAAAAACG8EQAAAAAC8YAVAAAAAAChvBUAAAAAA+GIGQAAAAABYcgZAAAAAAFhoB0AAAAAAEGAIQAAAAAB0cQhAAAAAAGBrCUAAAAAAFGcKQAAAAAB8egpAAAAAAGh4C0AAAAAAIHgMQAAAAACgeQ1AAAAAABiQDUAAAAAA0JMOQAAAAABImQ9AAAAAAFBQEEAAAAAA+FwQQAAAAACs4RBAAAAAAEBnEUAAAAAArO0RQAAAAAD4dBJAAAAAACD9EkAAAAAAFIYTQAAAAADYDxRAAAAAAGyaFEAAAAAAxCUVQAAAAADUsRVAAAAAAKA+FkAAAAAAFMwWQAAAAAAwWhdAAAAAAPxlGEAAAAAAAPYYQAAAAACAhhlAAAAAAHAXGkAAAAAAxKgaQAAAAABYuRtAAAAAAPRLHEAAAAAAvN4cQAAAAACQ8R1AAAAAABCFHkAAAAAACJkfQAAAAACYWzBAAAAAAIjqIEAAAAAA4HQhQAAAAADIIzJAAAAAAB4JPUAAAAAA3I80QAAAAABcOSVAAAAAALi+JUAAAAAA5SNBQA==",
           "dtype": "f8"
          },
          "color": "#636EFA",
          "symmetric": false,
          "thickness": 1.5,
          "type": "data",
          "width": 0
         },
         "error_y": {
          "array": {
           "bdata": "ioit1SQotD8ChOE0Ce6kP5q11OeSqao/VuRBv9ZqpT+eq/AKx9KjP4px8qI74KA/1EL7oJPAnz9v0DRQsJacP33aKdq1b5o/XxqFkUejmT9hzH4pCyGVPyn8C0YZWZQ/6ysc/Vfnkj9iZ7TAaFKRP7mmVmYWt48/C+BkVk+cjT/J1U7l08aKPyNQVPX3IIs/oZ298lnAjD+YeWlQWZ+RPy7VACNnoZA/0qI4445UjT+39UvmSL+KP12CZIDb0Ic/s+kK518ZiD9PNMNXelCHPyAUwB89aoQ/KgaO8T84hD8hP4MUNw+DPyZE3lIqb4I/rnAFKkIdgT/WbVkM2uZ/P+cjM+8OZIA/aic3WvEHfz8FG2cElxqAP6f1nMJtCX4/MIwvPempez9aXzaI6hF6P4xg2CDyYXg/0qEVhKKxdz92NWDb/7Z3P2IrhrbQ93U/5AcU8S2YdT8B2tbjNS51P2onWHN+i3Y/qaTleEKXdD91qZdigZZyP+lwAycvJnQ/0uydrBIkcj8cv5N1r6VxP8A9XA8Kk3A/0o4DmBUjcD9zIotWXMtvP/LsVcGlR24/cxDj+BFabD9SGuwmEuBsP4qZpLSDXm0/C7UtiUxaaT9nVhSkVWNrP0la/lEctWo/+8hqAONaaT9T+ACW265pP0Nf4L9Q/mg/+bMv333kZz9gTGR2IG9oP9sZBHQ0kWg/SbFjWcWLZT9DRRzZiI5nP9afSdXHSWU/P7XQdqhXZj+R9WyN5JNkP2mF6Yb75WQ/jbwuZmFvZT+zl2OZEfViP7bBlQomNGQ/nmUwv85NZD8Z7QnlFTljPzWUu4ftlmI/+Dc6uTTMYj8T8oaZKlRkP/vOOwVeQmQ/Pm/F0be6ZD9JiK5O5d1gPwcO0rvzrmA/Aj2nnwLYYj/EKAW/sapdP4cxZOsZO2I/4bEHmb4DYj+RnySFnZxbP/V31p7Z2mE/RzikRM7tYT+dvuSLMqVgPwIkwsdLDGM/4EBcupGNYj/bhYStse1gPxK1Jc2bMmI/hyPDbOMSYD+gB38XgYlkPy6yBn0RC2E/4Owc1N8rYT8knQ22t0VgPyCvmQTx8GI/SMSPuHRqYT+OYGcEsaNeP2KHi5qEhVM/kMyXirjgYT+RRs+GQbJdP58zsLBH8VI/QaybxYT+Tj+lrVZgABZTP9Sdf+UFiFw/qON4AMbDXD/q6/uU4i1PPw==",
           "dtype": "f8"
          },
          "color": "#636EFA",
          "thickness": 1.5,
          "type": "data",
          "width": 0
         },
         "marker": {
          "color": "#636EFA",
          "size": 0,
          "symbol": "cross-thin"
         },
         "mode": "markers",
         "name": "obs of n6",
         "showlegend": false,
         "type": "scatter",
         "x": {
          "bdata": "AAAAoKUaIUAAAADAJd8jQAAAAMCeoyZAAAAAgAisKEAAAADAP+UqQAAAAADOIC1AAAAAwLZfL0AAAAAArtEwQAAAAECh9jFAAAAAAHgfM0AAAADgjmY0QAAAAMDAzTVAAAAAgHs9N0AAAAAg27Y4QAAAAAD8OjpAAAAAYPrKO0AAAABAg4Y9QAAAAEALcT9AAAAAQNqwQEAAAABA5IhBQAAAAKBKQkJAAAAAQMsIQ0AAAAAgLN5DQAAAAMDKtkRAAAAA4H+SRUAAAABArX1GQAAAAAB6eEdAAAAAIH52SEAAAADAg3dJQAAAAEB2iEpAAAAAgF+pS0AAAABAH81MQAAAAIBu801AAAAAwJkpT0AAAACAwTdQQAAAAAC321BAAAAAwGOHUUAAAACAozpSQAAAAMBm7lJAAAAA4F+pU0AAAAAAUWtUQAAAAKAbLVVAAAAAwJz1VUAAAABg3MRWQAAAAID8k1dAAAAAwPFpWEAAAABAykZZQAAAAICvI1pAAAAA4JsHW0AAAAAApPJbQAAAAIDj5FxAAAAAYHXeXUAAAAAAfN9eQAAAAEAL6F9AAAAAYBp8YEAAAADA/wdhQAAAACA6lGFAAAAAoE4kYkAAAAAAQbhiQAAAACAZUGNAAAAAgGfvY0AAAADgqZJkQAAAAADpOWVAAAAAgCjlZUAAAAAAcZRmQAAAAEDGR2dAAAAAADH/Z0AAAACgUr5oQAAAAMCYgWlAAAAAAAxJakAAAADAVRhrQAAAAADc62tAAAAAoKfDbEAAAADAaaNtQAAAAMAwi25AAAAAoFd3b0AAAACg8zNwQAAAAMBNsHBAAAAAoMEwcUAAAADAdrNxQAAAAEBxOHJAAAAAAJXBckAAAADA6E5zQAAAAEBz4HNAAAAAoDt2dEAAAACASBB1QAAAACCgrnVAAAAAQElRdkAAAAAASvh2QAAAAECoo3dAAAAAIGpTeEAAAAAAlQd5QAAAAAAuwHlAAAAAwC5/ekAAAACgnkR7QAAAAKCQDnxAAAAAYAjdfEAAAABACbB9QAAAAKCRiX5AAAAAwKZpf0AAAADAKCeAQAAAAGDJnIBAAAAAoLYVgUAAAADA8pGBQAAAAKABVIJAAAAAgIgag0AAAAAgBqSDQAAAAOD3eoRAAAAAAF/0hUAAAADgJoGHQAAAAECLeohAAAAAgGsmiUAAAADApI+KQA==",
          "dtype": "f8"
         },
         "xaxis": "x",
         "y": {
          "bdata": "AX3PBnhtxj/VmBRwb+C2P/lj9fr708E/E6gHCCdFwD8fJVS96yHFPz3j7bGsyLk/GX4xAUNhvj8UnEFqaeW6P/9qkjwLmLk/0nyru7KZwT9vM3MGbUe2PwUN1N6NHcA/4VAkiiPyuz+OUmHVn0G5P3RAzbegjbQ/ImDnqpizsj+kuzGRGX+vP3CyJ9g+aLU/mwi42h+suj8hmccIIia6P0pGqqJsAbw/2wM50rrGuT/6Xf5v3v+1P5a0nDyhXq4/YdkrIU0Nsj/+BL51GmC1P8EIi93NErE/jlfugF/ssD8YgAJLL8StP+tPD2zIkrE/di5dHstCrD9S3Zk4ImSqPxHg9BUeOq8/nV5Mzj8osD9KSp1amUGyPwCSkVB7Lq8/t0L4ArBfrj99K4Atg+usP1mzOFKvpKo/JJbEAolerD+OGocVjrGtP/7G9QUe9ag/2wHerWySqj+BuJubso2pP0NuIMii3a4/b+2iT/47qz9wTR6tRrOlPzUZYeWIqKg/QlrAaxuXpz8/GAoVY46mPxIMbcefyKQ/X6uAVLK2oz/xX7RQ7tKkP8xFIbXcrqI/PHVUxtM1oT8a+vloO1yiP4SWePMKO6M/YEdyM5mCnD8FQp88CiehP1HGbKvkV6E/3Xga3FTrnz/qFKAuL5CgP23/jz3Zyp8/InsLWw/emz9P8q4QvaedPy+aHZZyOZ0/fXsoVlablD8byupIwFWbP/Blz7hlfpQ/ceKuMUpnmD+ltSKB2bqTP3tU6zFYPJQ/vSu3lniglT/M/XUxUUCPP5RmoqxzEpI/nR8/nnR+kT/kYxAlMASOP79tQAga4os/wzcCZFCUjD8LUso1AMmPP/5DmdQwJpA/afZVjajLkD/idRvsca2CP9jtQX/77II/BMxojvHLiT8R13O8ert6P16BNqfWFog/iupBfa4khT9q4tRiySVzPxK9ImzJs4Q/wu5mFjWshD+Nt+76gyx+P0sLU4yKzIc/TE1jhrHihD9CoHvt5F6APzqqgQ9HmYI/RYEyEn7tdz8c8KYf/FWHP8DgVJq22Hc/CtRDptkAdT/f3zSsDBhxPw5DNmbiYYE/to05fFALfD97HZPIEY10PxTqN6GDo2o/BBtDX3MqgD+Zw5eXV2huPxZ1SKB5+GQ/MqsSRbFtZD8wf8GVUqRnP/0aJKqJrWo/MdLr11egaD/v8VJaB9xhPw==",
          "dtype": "f8"
         },
         "yaxis": "y"
        },
        {
         "line": {
          "color": "#636EFA",
          "width": 2
         },
         "mode": "lines",
         "name": "n6",
         "showlegend": true,
         "type": "scatter",
         "x": {
          "bdata": "AAAAoKUaIUAAAADAJd8jQAAAAMCeoyZAAAAAgAisKEAAAADAP+UqQAAAAADOIC1AAAAAwLZfL0AAAAAArtEwQAAAAECh9jFAAAAAAHgfM0AAAADgjmY0QAAAAMDAzTVAAAAAgHs9N0AAAAAg27Y4QAAAAAD8OjpAAAAAYPrKO0AAAABAg4Y9QAAAAEALcT9AAAAAQNqwQEAAAABA5IhBQAAAAKBKQkJAAAAAQMsIQ0AAAAAgLN5DQAAAAMDKtkRAAAAA4H+SRUAAAABArX1GQAAAAAB6eEdAAAAAIH52SEAAAADAg3dJQAAAAEB2iEpAAAAAgF+pS0AAAABAH81MQAAAAIBu801AAAAAwJkpT0AAAACAwTdQQAAAAAC321BAAAAAwGOHUUAAAACAozpSQAAAAMBm7lJAAAAA4F+pU0AAAAAAUWtUQAAAAKAbLVVAAAAAwJz1VUAAAABg3MRWQAAAAID8k1dAAAAAwPFpWEAAAABAykZZQAAAAICvI1pAAAAA4JsHW0AAAAAApPJbQAAAAIDj5FxAAAAAYHXeXUAAAAAAfN9eQAAAAEAL6F9AAAAAYBp8YEAAAADA/wdhQAAAACA6lGFAAAAAoE4kYkAAAAAAQbhiQAAAACAZUGNAAAAAgGfvY0AAAADgqZJkQAAAAADpOWVAAAAAgCjlZUAAAAAAcZRmQAAAAEDGR2dAAAAAADH/Z0AAAACgUr5oQAAAAMCYgWlAAAAAAAxJakAAAADAVRhrQAAAAADc62tAAAAAoKfDbEAAAADAaaNtQAAAAMAwi25AAAAAoFd3b0AAAACg8zNwQAAAAMBNsHBAAAAAoMEwcUAAAADAdrNxQAAAAEBxOHJAAAAAAJXBckAAAADA6E5zQAAAAEBz4HNAAAAAoDt2dEAAAACASBB1QAAAACCgrnVAAAAAQElRdkAAAAAASvh2QAAAAECoo3dAAAAAIGpTeEAAAAAAlQd5QAAAAAAuwHlAAAAAwC5/ekAAAACgnkR7QAAAAKCQDnxAAAAAYAjdfEAAAABACbB9QAAAAKCRiX5AAAAAwKZpf0AAAADAKCeAQAAAAGDJnIBAAAAAoLYVgUAAAADA8pGBQAAAAKABVIJAAAAAgIgag0AAAAAgBqSDQAAAAOD3eoRAAAAAAF/0hUAAAADgJoGHQAAAAECLeohAAAAAgGsmiUAAAADApI+KQA==",
          "dtype": "f8"
         },
         "xaxis": "x",
         "y": {
          "bdata": "AAAAYMREyD8AAABgE2PGPwAAACB/3MQ/AAAAQFnowz8AAACAhP3CPwAAAGAoLcI/AAAAAEVywT8AAADA9cjAPwAAAKAzLsA/AAAAIEE/vz8AAADgTSG+PwAAAOBUBL0/AAAAgFz7uz8AAAAAcwO7PwAAAAA5Gro/AAAAAME9uT8AAACApV24PwAAAMA9e7c/AAAAILiptj8AAACgbgG2PwAAAAAuerU/AAAAwMnxtD8AAABg7me0PwAAAABX5LM/AAAAYKFmsz8AAABA4ueyPwAAAIC/aLI/AAAAwJjvsT8AAABgDXyxPwAAAKBbCLE/AAAAYAGVsD8AAAAgOSewPwAAAOBQfa8/AAAAYBitrj8AAACAht6tPwAAAGAmGq0/AAAAILpXrD8AAABA1ZerPwAAAODA4ao/AAAAYGUuqj8AAABANH6pPwAAAKBK16g/AAAA4GMzqD8AAACAlJKnPwAAAGDf+aY/AAAAANhjpj8AAABgitClPwAAAIBERKU/AAAAYFq6pD8AAAAg1DKkPwAAAICzraM/AAAAgPkqoz8AAACAoqqiPwAAAOCwLKI/AAAAYCaxoT8AAAAgCDihPwAAAMAqxKA/AAAAAHlSoD8AAADg7MWfPwAAAKBE654/AAAAQDUQnj8AAAAA6DmdPwAAACBMaJw/AAAAwFabmz8AAABg9dKaPwAAAOAaD5o/AAAAwLNPmT8AAAAAK5GYPwAAAIBA15c/AAAAINshlz8AAAAAzW2WPwAAAOBavpU/AAAAIGcTlT8AAAAgImqUPwAAAKDJwpM/AAAAIBQgkz8AAACA34GSPwAAAKDG5ZE/AAAAYPZLkT8AAABgrraQPwAAAODKJZA/AAAAYIUujz8AAABgbRaOPwAAAOCGA40/AAAAAAP2iz8AAAAADe6KPwAAAIDK64k/AAAAAFrviD8AAAAA1fiHPwAAAOBQCIc/AAAAgNwdhj8AAACAhDmFPwAAACBQW4Q/AAAAIBaBgz8AAACgKquCPwAAAADL24E/AAAAYOsSgT8AAABAfVCAPwAAAMCBJX8/AAAAwM2zfT8AAADgMk98PwAAAOCb9Ho/AAAAQEWkeT8AAADgW154PwAAAIDahXY/AAAAoFjMdD8AAACAFrFzPwAAAACzF3I/AAAAwM0/bz8AAACg/NlqPwAAAMBBcGg/AAAAgPjpZj8AAACATAlkPw==",
          "dtype": "f8"
         },
         "yaxis": "y"
        },
        {
         "marker": {
          "color": "#636EFA",
          "line": {
           "color": "#636EFA",
           "width": 1.5
          },
          "size": 10,
          "symbol": "cross-thin"
         },
         "mode": "markers",
         "name": "res of n6",
         "showlegend": false,
         "type": "scatter",
         "x": {
          "bdata": "AAAAoKUaIUAAAADAJd8jQAAAAMCeoyZAAAAAgAisKEAAAADAP+UqQAAAAADOIC1AAAAAwLZfL0AAAAAArtEwQAAAAECh9jFAAAAAAHgfM0AAAADgjmY0QAAAAMDAzTVAAAAAgHs9N0AAAAAg27Y4QAAAAAD8OjpAAAAAYPrKO0AAAABAg4Y9QAAAAEALcT9AAAAAQNqwQEAAAABA5IhBQAAAAKBKQkJAAAAAQMsIQ0AAAAAgLN5DQAAAAMDKtkRAAAAA4H+SRUAAAABArX1GQAAAAAB6eEdAAAAAIH52SEAAAADAg3dJQAAAAEB2iEpAAAAAgF+pS0AAAABAH81MQAAAAIBu801AAAAAwJkpT0AAAACAwTdQQAAAAAC321BAAAAAwGOHUUAAAACAozpSQAAAAMBm7lJAAAAA4F+pU0AAAAAAUWtUQAAAAKAbLVVAAAAAwJz1VUAAAABg3MRWQAAAAID8k1dAAAAAwPFpWEAAAABAykZZQAAAAICvI1pAAAAA4JsHW0AAAAAApPJbQAAAAIDj5FxAAAAAYHXeXUAAAAAAfN9eQAAAAEAL6F9AAAAAYBp8YEAAAADA/wdhQAAAACA6lGFAAAAAoE4kYkAAAAAAQbhiQAAAACAZUGNAAAAAgGfvY0AAAADgqZJkQAAAAADpOWVAAAAAgCjlZUAAAAAAcZRmQAAAAEDGR2dAAAAAADH/Z0AAAACgUr5oQAAAAMCYgWlAAAAAAAxJakAAAADAVRhrQAAAAADc62tAAAAAoKfDbEAAAADAaaNtQAAAAMAwi25AAAAAoFd3b0AAAACg8zNwQAAAAMBNsHBAAAAAoMEwcUAAAADAdrNxQAAAAEBxOHJAAAAAAJXBckAAAADA6E5zQAAAAEBz4HNAAAAAoDt2dEAAAACASBB1QAAAACCgrnVAAAAAQElRdkAAAAAASvh2QAAAAECoo3dAAAAAIGpTeEAAAAAAlQd5QAAAAAAuwHlAAAAAwC5/ekAAAACgnkR7QAAAAKCQDnxAAAAAYAjdfEAAAABACbB9QAAAAKCRiX5AAAAAwKZpf0AAAADAKCeAQAAAAGDJnIBAAAAAoLYVgUAAAADA8pGBQAAAAKABVIJAAAAAgIgag0AAAAAgBqSDQAAAAOD3eoRAAAAAAF/0hUAAAADgJoGHQAAAAECLeohAAAAAgGsmiUAAAADApI+KQA==",
          "dtype": "f8"
         },
         "xaxis": "x2",
         "y": {
          "bdata": "NFPvn69hx7/YDNNhV70AwB6/9yC2H92/ubZaIUO95b9Brt9oHarbPzcdLIhrCvS/zOafYiox4r8bzG39guHtv7UtSbnhYfC/cGh8CD+94z+pRJWL7Mf3v0t4qhy0N+Q/YEbFOTo5f7/zs5e98vfZvw4GgcpoZfa/DvjsGANF/L+rC5pZ4ZgEwJyoO+a5kuO/fSvcKoTZ8T8uYAOCWxjuP+crDzCLH/k/7yDd9h4W9T/NxoT80YDePzCX+U5+TPm/IZefTLio3L92zkOi/h3rP1hC3p3ov+C/3KwXswKk2b8w8ajieXjxv+raDMZXCc4/zHCJbPdV8r/ZtBYQ57v3vybNNM4kZrC/elhiGv4H2z8bemuQ0Gb6P8DW0Zz+uOE/QpDZyrbL4j9tN3FSHQ/aP/IAvrxpCbS/Y4bLkAKk5z9z7VDtKqz2P9YIdj4ZuaU/7qaqlFQc7D9WZsi+UfHnP5l7qMKpZQZAEmAdmjQd/j/foOa+qTCpv27onCrGi/U/aTZctTgy9D90urr3xRnxP29ka1DlEeE/xY5RtyFR0T93Yeyl8V7xP+oUzCUcMtE/6x7q+h1m0b+ifwVWIT3kP04ovQYae/U/cLamd1jf9L/eR+1BZqrnP8v7qsmdDvI/Tgib1CO94j+nkvGzK3DzP7piChLpVfE/ITzBLSRXtj81q1f8o6ntP43DSY8LfvA/GsdK9t7y+78QcT7lbRTuP1EUC6sGIPS/aqknD6kh3T89i+Cn8MnwvygayBOJeOK/+DpKDSJTyj9pMcOW5ioAwPFWjgAaZuW/vLUKRo6R5L9zOsDFt0z3v/QcWC40Pfu/PJCeDOB59L+P3XBRm63Uv83KHRBSIUQ/j/hHGjPB3T/c1A1Hv6UFwA0i65KCWQPA2zSnjDln3b/CvcMTzUINwFP6RowWudm/BMDJ+u/w6r/fRCynuq8QwJIT/Tp2tOC/vz0+FSSe1L/xl5K8YZn3vxvYQLa5Iec/lJZqYi0P0z+lXEPUDWDhv9aQcpk708Q/s3hMZaxY9L9+/TWNjOH1P0rTyECcaeu/9b976RI28L/wVt/yMQ72v9vmrcDsYuo/wr6ORFio0T93QVA9f+Xfv7hEvIdKLP6/7k7bUNyk9D86hs7wLFjjvyKgQ4jIs/m/8DRxzwFY9r+v9NoOf4bVv9IpG3bQF8Q/IttdPtd6vj8t8uJwhN/Rvw==",
          "dtype": "f8"
         },
         "yaxis": "y2"
        },
        {
         "error_x": {
          "array": {
           "bdata": "AAAAAGjE/D8AAAAAAo/5PwAAAADYHvI/AAAAAISG4j8AAAAAzLjlPwAAAACSqOU/AAAAAHLO9T8AAAAAVHzmPwAAAACaS+c/AAAAAEb16z8AAAAAzMPtPwAAAACe+O8/AAAAAIhL8D8AAAAAvIHmPwAAAAA4Ouk/AAAAALzl6T8AAAAASIjqPwAAAADgIes/AAAAAOjO7j8AAAAANHXvPwAAAACaB/A/AAAAAHhO8D8AAAAAbjryPwAAAACSgPI/AAAAAIi+8j8AAAAAVPTyPwAAAAAu4fQ/AAAAANwM9T8AAAAA7C31PwAAAADACvc/AAAAAJwX9z8AAAAA+Bb3PwAAAAB0zfg/AAAAADis+D8AAAAAsH74PwAAAABsDvo/AAAAAHTi+T8AAAAAdLz5PwAAAACIUPs/AAAAAFQz+z8AAAAAZB37PwAAAABEv/w/AAAAAGC3/D8AAAAA3Gj+PwAAAAAUdP4/AAAAABoeAEAAAAAANiwAQAAAAABMFQFAAAAAAMAkAUAAAAAAHDQBQAAAAAC4IAJAAAAAAGQxAkAAAAAA6CADQAAAAADEEgRAAAAAAEwmBEAAAAAAMBsFQAAAAAAUMAVAAAAAABQoBkAAAAAAVD4GQAAAAAB0OQdAAAAAABQ3CEAAAAAAOFAIQAAAAAAMUQlAAAAAAGRUCkAAAAAAcHAKQAAAAAD8dgtAAAAAAByADEAAAAAA1IsNQAAAAABArA1AAAAAACC7DkAAAAAAkMwPQAAAAABMcBBAAAAAAIyCEEAAAAAADA4RQAAAAADQmhFAAAAAAMwoEkAAAAAAALgSQAAAAABoSBNAAAAAAATaE0AAAAAAvGwUQAAAAACcABVAAAAAAIiVFUAAAAAAiCsWQAAAAACAwhZAAAAAAGxaF0AAAAAAPPMXQAAAAABoDRlAAAAAAOCoGUAAAAAAAEUaQAAAAADA4RpAAAAAAPx+G0AAAAAAvJ8cQAAAAABCji1AAAAAAJRRL0AAAAAAaGMgQAAAAACIsyBAAAAAAIBGIUAAAAAAxt8xQAAAAAD0uyJAAAAAALAKI0AAAAAAeJwjQAAAAACoLSRAAAAAAAy+JEAAAAAAXE0lQAAAAAAolyVAAAAAAOxoNkAAAAAACno3QA==",
           "dtype": "f8"
          },
          "arrayminus": {
           "bdata": "AAAAAGjE/D8AAAAAAo/5PwAAAADYHvI/AAAAAISG4j8AAAAAzLjlPwAAAACSqOU/AAAAAHLO9T8AAAAAVHzmPwAAAACaS+c/AAAAAEb16z8AAAAAzMPtPwAAAACe+O8/AAAAAIhL8D8AAAAAvIHmPwAAAAA4Ouk/AAAAALzl6T8AAAAASIjqPwAAAADgIes/AAAAAOjO7j8AAAAANHXvPwAAAACaB/A/AAAAAHhO8D8AAAAAbjryPwAAAACSgPI/AAAAAIi+8j8AAAAAVPTyPwAAAAAu4fQ/AAAAANwM9T8AAAAA7C31PwAAAADACvc/AAAAAJwX9z8AAAAA+Bb3PwAAAAB0zfg/AAAAADis+D8AAAAAsH74PwAAAABsDvo/AAAAAHTi+T8AAAAAdLz5PwAAAACIUPs/AAAAAFQz+z8AAAAAZB37PwAAAABEv/w/AAAAAGC3/D8AAAAA3Gj+PwAAAAAUdP4/AAAAABoeAEAAAAAANiwAQAAAAABMFQFAAAAAAMAkAUAAAAAAHDQBQAAAAAC4IAJAAAAAAGQxAkAAAAAA6CADQAAAAADEEgRAAAAAAEwmBEAAAAAAMBsFQAAAAAAUMAVAAAAAABQoBkAAAAAAVD4GQAAAAAB0OQdAAAAAABQ3CEAAAAAAOFAIQAAAAAAMUQlAAAAAAGRUCkAAAAAAcHAKQAAAAAD8dgtAAAAAAByADEAAAAAA1IsNQAAAAABArA1AAAAAACC7DkAAAAAAkMwPQAAAAABMcBBAAAAAAIyCEEAAAAAADA4RQAAAAADQmhFAAAAAAMwoEkAAAAAAALgSQAAAAABoSBNAAAAAAATaE0AAAAAAvGwUQAAAAACcABVAAAAAAIiVFUAAAAAAiCsWQAAAAACAwhZAAAAAAGxaF0AAAAAAPPMXQAAAAABoDRlAAAAAAOCoGUAAAAAAAEUaQAAAAADA4RpAAAAAAPx+G0AAAAAAvJ8cQAAAAABCji1AAAAAAJRRL0AAAAAAaGMgQAAAAACIsyBAAAAAAIBGIUAAAAAAxt8xQAAAAAD0uyJAAAAAALAKI0AAAAAAeJwjQAAAAACoLSRAAAAAAAy+JEAAAAAAXE0lQAAAAAAolyVAAAAAAOxoNkAAAAAACno3QA==",
           "dtype": "f8"
          },
          "color": "#EF553B",
          "symmetric": false,
          "thickness": 1.5,
          "type": "data",
          "width": 0
         },
         "error_y": {
          "array": {
           "bdata": "XK/vpO8Msj+vl6yVGU+pP5Tos2xFPaY/9PHzfwUoqj/8mCPABOKmP0E7LavP86M/nOxQwBAhmT/sWvZ/+xihP8wRYOx4rZ4/T9ZdIF4zmz9kQqRe6ciWP6/S/dWqo5U/KsT5qC7qlT9JiOB+Xd2cP7dzJ5qlMpk/ekW+ZDyJlT/2LOC+WWuVP7dON+Vc+5Q/gwnxuLzFkT8p4pPeLiuQP3cszSeh7o8//2NKignQjj+GX1qtYWSMP89dL44NrYo/xh9GOFq4iT+6PDfY3MyHP8xgNmTwLIM/WoF6smC4hj83GsFdjb+FP8sIaNk3kYQ/lyvID3WXgz9e79uLPXuCPz2t4+tPloA/uetU3Kxwfz9xuj4sxjmAP6xy10HKj3s/5HMnWqdFfT+lFsT+mQZ9P2/ao1j/xno/Jlxu5YjAez/SnXmQkx94P3y2ZFWdxnk/gjcIWFlGeD9Wq2amI2R2P4Pr8GD6XHU/K29ZOXdicz853MuriA12P7MGV9GhGnM/u0hy4lLWcj/xbPAJET1xP9FZpTbk4HE/FcXINhA8cT/nfZAVgDBwPw7RnQVqMW4/XwCZA7S5bz9rz/MaFJ5tPxUd97sncXA/Com3V3eqbT+bved5tvxsP53pC8Owz24/cRPZBUYpbT+3SqT/iaVvPwwvATLn0Wk/pITvUL9maj8D3K8FBGtpP77ufesWJm0/RJg8s7G6aD9MikTuSnprP97RLIAXGms/a6PPfsx1aj/AhDtUL0lpPyyw3dMnlGY/e1YUbEqIZz/XV5vfUNFpP3u2VxjYAWg/9qqhXDT+ZD+OKdJQk+1mP87D3mso52Y/EfQkxCZFZj9JQmp0wYVmP/eZPQ7wpmM/L6dc3Gd3ZD/zSaQuLdJnP+BEj0WaEmY/8pk1L5zNZj/TtpzrFQJkP1XnW3U+XGc/HJX10+3VZT+foEEKXGlnP+Jmlij37mI/lRKrUH2OYT9k294PEfpjPzuQevWWd1s/pJbDQVDfWT9J5pJRPV5kP+bSg2quW2M/y1ZSWDm3ZD852uK+Ke9XP6CoFuyIQ2E/busa/J6gYj9PLyOggI1lP4h4O96sf2I/Hd1MFN7kYz8r4oHwXIphP8q+yBTX92E/CRZCIs4HVz8z8/n8MhVYPw==",
           "dtype": "f8"
          },
          "color": "#EF553B",
          "thickness": 1.5,
          "type": "data",
          "width": 0
         },
         "marker": {
          "color": "#EF553B",
          "size": 0,
          "symbol": "cross-thin"
         },
         "mode": "markers",
         "name": "obs of n7",
         "showlegend": false,
         "type": "scatter",
         "x": {
          "bdata": "AAAAgP6sI0AAAADAa3cqQAAAAAAn7S9AAAAAILWsMUAAAACgr+4yQAAAAIC6STRAAAAAQOZTNkAAAAAAsGQ4QAAAAIDv0jlAAAAAgPZsO0AAAAAAvzo9QAAAAECiKD9AAAAA4I+WQEAAAAAA83JBQAAAAODiMUJAAAAAwGL+QkAAAADAGtBDQAAAAGDDpkRAAAAAgIaORUAAAAAAl4dGQAAAAICohUdAAAAAIFmISEAAAABAoJxJQAAAAEB4wkpAAAAAIHHsS0AAAAAACBpNQAAAAAC0WE5AAAAAYCSoT0AAAABA/XxQQAAAAADgLVFAAAAAgGnmUUAAAADAI59SQAAAAIC1XlNAAAAAIJwkVEAAAADAR+lUQAAAAEB8s1VAAAAAwD+DVkAAAABAu1FXQAAAAEDvJVhAAAAAwP7/WEAAAACAQdlZQAAAAEC0uFpAAAAAwI6eW0AAAADAD4tcQAAAAICDfl1AAAAAgER5XkAAAAAAl3tfQAAAAIDRQmBAAAAAwLnLYEAAAABAHVVhQAAAAIBw4mFAAAAAALlzYkAAAAAgAgljQAAAAMDQpWNAAAAAALVGZEAAAAAAu+tkQAAAAADolGVAAAAAwEhCZkAAAABA4vNmQAAAAIDBqWdAAAAAgINnaEAAAADAoClpQAAAAMAl8GlAAAAAgLu+akAAAADgzpFrQAAAAIBsaWxAAAAAAElJbUAAAADAeDFuQAAAAABZHm9AAAAAQPsHcEAAAACgCoVwQAAAAABlBnFAAAAAQDCKcUAAAADAchByQAAAACAWm3JAAAAAgCQqc0AAAADAp71zQAAAAGCpVXRAAAAAADPydEAAAAAATpN1QAAAAIADOXZAAAAAAFzjdkAAAABAYJJ3QAAAAGAYRnhAAAAAAIz+eEAAAADAwrt5QAAAAEDFf3pAAAAAYJ5Ke0AAAADgVRp8QAAAAODw7nxAAAAAwHPIfUAAAADA7qh+QAAAAODvA4BAAAAAQG/3gEAAAAAgQ7aBQAAAAOCeOoJAAAAAAIfCgkAAAABAn5aDQAAAAECNcIRAAAAAwKcHhUAAAABgRKKFQAAAAOBsQYZAAAAAwBvlhkAAAABASY2HQAAAAGDbOIhAAAAAYH9CiUAAAAAAl7GKQA==",
          "dtype": "f8"
         },
         "xaxis": "x",
         "y": {
          "bdata": "rfFHO29UxD8pcqaqx9HCPyZRK6SQlsI//Ld7dKBUwT8RxCTrCunIP3x4uEq2hL4/fbngooGxsT8rvy0SOYrDPxc5oMJqlr4/ipZ9aTo4wj/R0m2cgTGoP9gjQSo+ILE/aTCzX+F/tj/jDGRQdgW4P1DU7Pw03LM/H01gAtPPqT/P5GNwCeO2P+lApm0zdLk/dw2NLMoWtD9BOoBMgdGsP2T3INN/ZbI/Bnvdsthvsz9cwF2lxM+yPzwD86ezVLA/T1mwECj2sD9vPyfERR2tP8E4wxN+Xpc/YFlsiJo+sj9wzptdihOwPwPWZrUSl64/O8LHm22mrz/oubFt6ACvPzrBzc5imKs/s65bbQnBqD/FHrvZ3sqtP8hA63Xom6M/T1b4rsToqD+EV5L86HOqP6ww7UXMsqc/6sK6gizTqz9LNCxMuY+jP26UjHBqF6s/3zIwitkipz/cSVg9B3mkP7IWkuZeM6I/Uw0jeG79nj/LRlnLVfynP35NV3ruX6E/zqh6BFzvoD+MvAykN66bP2a6zOCIhqA/AwXePzC4nj8DY2sqed2bPxuHssdCCJg/Ecx3jhu5nD/EYm3zlwmZP8uHkOOeuaA/LxrFkaHBmT+KKFEXgHKXP6Dwdhvk6Jw/uE9UeuC+mD8otKT4LuOfP5oUy1QEpZM/5b9/COz5lD/nappXoXaSPx8Wt6NP85s/looy5ylNkT/lKrZaqkmXP40XMuBEuZU/fX+lvRANlD8H0UGTxKCQPxtet7SAZYg/0KMTv2R1jD9LHv1H/3eSP4IykP2SHo4/BN1q4sdYhD+tpJQbmh+LP2SDSk3CtYs/zi2JYrcDiT9xCrzAhLuKPzVKyKSVmIA/kzrrJPKEgj98jq4aJ7eMP805gmjJjIc/B+alsILShz8M9r3YURWAP5fdpVfaYYk/TNrd54pfhT9ZOZ7QrsKJPzpLNHe5eHg/r5KGYsImbz+pulsSxCR4P3x98xyXE3Q/fEPVQL0acT9XpgQk+cp9P0DcjdwXTnk/oJ3LLE0DgD/j/ioUWjpsP9CH35RLWnA/dGChgvjtdD8/undd4UmAP5QjonqbM3M/Y29q+uCnej9hTaaY/SJyPwb9g/XCY3I/CwlEG62TZj/RMzSrHvBuPw==",
          "dtype": "f8"
         },
         "yaxis": "y"
        },
        {
         "line": {
          "color": "#EF553B",
          "width": 2
         },
         "mode": "lines",
         "name": "n7",
         "showlegend": true,
         "type": "scatter",
         "x": {
          "bdata": "AAAAgP6sI0AAAADAa3cqQAAAAAAn7S9AAAAAILWsMUAAAACgr+4yQAAAAIC6STRAAAAAQOZTNkAAAAAAsGQ4QAAAAIDv0jlAAAAAgPZsO0AAAAAAvzo9QAAAAECiKD9AAAAA4I+WQEAAAAAA83JBQAAAAODiMUJAAAAAwGL+QkAAAADAGtBDQAAAAGDDpkRAAAAAgIaORUAAAAAAl4dGQAAAAICohUdAAAAAIFmISEAAAABAoJxJQAAAAEB4wkpAAAAAIHHsS0AAAAAACBpNQAAAAAC0WE5AAAAAYCSoT0AAAABA/XxQQAAAAADgLVFAAAAAgGnmUUAAAADAI59SQAAAAIC1XlNAAAAAIJwkVEAAAADAR+lUQAAAAEB8s1VAAAAAwD+DVkAAAABAu1FXQAAAAEDvJVhAAAAAwP7/WEAAAACAQdlZQAAAAEC0uFpAAAAAwI6eW0AAAADAD4tcQAAAAICDfl1AAAAAgER5XkAAAAAAl3tfQAAAAIDRQmBAAAAAwLnLYEAAAABAHVVhQAAAAIBw4mFAAAAAALlzYkAAAAAgAgljQAAAAMDQpWNAAAAAALVGZEAAAAAAu+tkQAAAAADolGVAAAAAwEhCZkAAAABA4vNmQAAAAIDBqWdAAAAAgINnaEAAAADAoClpQAAAAMAl8GlAAAAAgLu+akAAAADgzpFrQAAAAIBsaWxAAAAAAElJbUAAAADAeDFuQAAAAABZHm9AAAAAQPsHcEAAAACgCoVwQAAAAABlBnFAAAAAQDCKcUAAAADAchByQAAAACAWm3JAAAAAgCQqc0AAAADAp71zQAAAAGCpVXRAAAAAADPydEAAAAAATpN1QAAAAIADOXZAAAAAAFzjdkAAAABAYJJ3QAAAAGAYRnhAAAAAAIz+eEAAAADAwrt5QAAAAEDFf3pAAAAAYJ5Ke0AAAADgVRp8QAAAAODw7nxAAAAAwHPIfUAAAADA7qh+QAAAAODvA4BAAAAAQG/3gEAAAAAgQ7aBQAAAAOCeOoJAAAAAAIfCgkAAAABAn5aDQAAAAECNcIRAAAAAwKcHhUAAAABgRKKFQAAAAOBsQYZAAAAAwBvlhkAAAABASY2HQAAAAGDbOIhAAAAAYH9CiUAAAAAAl7GKQA==",
          "dtype": "f8"
         },
         "xaxis": "x",
         "y": {
          "bdata": "AAAAAM2Bxj8AAADAhijDPwAAAMBQR8E/AAAAwNhTwD8AAADgVGy/PwAAAIBuOb4/AAAAYMKgvD8AAADgije7PwAAAEDDVro/AAAAoOhvuT8AAAAgi4K4PwAAAGBfm7c/AAAAgAy/tj8AAADg+hG2PwAAAGDUhbU/AAAAwLz4tD8AAABAwnC0PwAAAKDO7bM/AAAAANdosz8AAAAgteKyPwAAAIBHYrI/AAAAYFnnsT8AAADg6WuxPwAAAGCi8LA/AAAAQDJ7sD8AAADgUguwPwAAAIADOK8/AAAAIHhbrj8AAACgQ4qtPwAAAIC9u6w/AAAA4Kfwqz8AAACA0TCrPwAAAIDadKo/AAAA4FW9qT8AAAAguRCpPwAAAECBaKg/AAAA4JbEpz8AAAAA5CmnPwAAAOC4kqY/AAAAgPb+pT8AAAAgx3KlPwAAACBZ6aQ/AAAAAJFipD8AAABgUt6jPwAAAAB+XKM/AAAAIPHcoj8AAADAmF+iPwAAACBx5KE/AAAAQINroT8AAACgp/egPwAAACDNhaA/AAAAIPsVoD8AAAAgZVCfPwAAAAAidJ4/AAAAAGCcnT8AAAAgE8mcPwAAAEA3+ps/AAAAwLwvmz8AAAAAnWmaPwAAAADHp5k/AAAAYJ7mmD8AAABg8ymYPwAAAMCvcZc/AAAAYJy6lj8AAACADwiWPwAAAIDuWZU/AAAAAF+tlD8AAADgogKUPwAAAKCBXJM/AAAAoNu6kj8AAAAgQRuSPwAAAMDifZE/AAAAYBDlkD8AAADgp1CQPwAAAEAufY8/AAAAwAJejj8AAABADESNPwAAAGCCL4w/AAAAQJYgiz8AAAAAcheKPwAAACA6FIk/AAAA4A0XiD8AAACgBSCHPwAAAOA2L4Y/AAAAILFEhT8AAADAf2CEPwAAAMBugIM/AAAA4Nekgj8AAADAC9CBPwAAAKAAAoE/AAAAQKo6gD8AAADgf/B+PwAAAGDrunw/AAAAwKn2eT8AAADApgJ4PwAAAEBEwXY/AAAA4CCLdT8AAAAg78tzPwAAAECnKnI/AAAAoP8fcT8AAACAtSBwPwAAAOAgVm4/AAAAIGh+bD8AAAAAbrpqPwAAAIDVDGk/AAAAAMasZj8AAACAaMljPw==",
          "dtype": "f8"
         },
         "yaxis": "y"
        },
        {
         "marker": {
          "color": "#EF553B",
          "line": {
           "color": "#EF553B",
           "width": 1.5
          },
          "size": 10,
          "symbol": "cross-thin"
         },
         "mode": "markers",
         "name": "res of n7",
         "showlegend": false,
         "type": "scatter",
         "x": {
          "bdata": "AAAAgP6sI0AAAADAa3cqQAAAAAAn7S9AAAAAILWsMUAAAACgr+4yQAAAAIC6STRAAAAAQOZTNkAAAAAAsGQ4QAAAAIDv0jlAAAAAgPZsO0AAAAAAvzo9QAAAAECiKD9AAAAA4I+WQEAAAAAA83JBQAAAAODiMUJAAAAAwGL+QkAAAADAGtBDQAAAAGDDpkRAAAAAgIaORUAAAAAAl4dGQAAAAICohUdAAAAAIFmISEAAAABAoJxJQAAAAEB4wkpAAAAAIHHsS0AAAAAACBpNQAAAAAC0WE5AAAAAYCSoT0AAAABA/XxQQAAAAADgLVFAAAAAgGnmUUAAAADAI59SQAAAAIC1XlNAAAAAIJwkVEAAAADAR+lUQAAAAEB8s1VAAAAAwD+DVkAAAABAu1FXQAAAAEDvJVhAAAAAwP7/WEAAAACAQdlZQAAAAEC0uFpAAAAAwI6eW0AAAADAD4tcQAAAAICDfl1AAAAAgER5XkAAAAAAl3tfQAAAAIDRQmBAAAAAwLnLYEAAAABAHVVhQAAAAIBw4mFAAAAAALlzYkAAAAAgAgljQAAAAMDQpWNAAAAAALVGZEAAAAAAu+tkQAAAAADolGVAAAAAwEhCZkAAAABA4vNmQAAAAIDBqWdAAAAAgINnaEAAAADAoClpQAAAAMAl8GlAAAAAgLu+akAAAADgzpFrQAAAAIBsaWxAAAAAAElJbUAAAADAeDFuQAAAAABZHm9AAAAAQPsHcEAAAACgCoVwQAAAAABlBnFAAAAAQDCKcUAAAADAchByQAAAACAWm3JAAAAAgCQqc0AAAADAp71zQAAAAGCpVXRAAAAAADPydEAAAAAATpN1QAAAAIADOXZAAAAAAFzjdkAAAABAYJJ3QAAAAGAYRnhAAAAAAIz+eEAAAADAwrt5QAAAAEDFf3pAAAAAYJ5Ke0AAAADgVRp8QAAAAODw7nxAAAAAwHPIfUAAAADA7qh+QAAAAODvA4BAAAAAQG/3gEAAAAAgQ7aBQAAAAOCeOoJAAAAAAIfCgkAAAABAn5aDQAAAAECNcIRAAAAAwKcHhUAAAABgRKKFQAAAAOBsQYZAAAAAwBvlhkAAAABASY2HQAAAAGDbOIhAAAAAYH9CiUAAAAAAl7GKQA==",
          "dtype": "f8"
         },
         "xaxis": "x2",
         "y": {
          "bdata": "wW6qvsvgzr+tVSOPgmurvwJT3GU0Js4/I0wNs16iwz9IMj/bPLr5P4y5fbIcL54/LFx5GEHZ+79Yo0lb5TP2Py6NyhsnuuE/9Aum6ALj+T8Apy+gB28BwPhbkJABK/O/2sH8NEcPp78e8zd4403RP7AqD+wn5NC/tiZR3ij49795XyAmKT3dP0feuTJB2vA/GEynGEWTwz9H8dmA/7fxvwiFAV6c0Gk/f5PPJPR52T/rgIQfMBHZP1qzAyy3Yce/a+0i4m8fwz8y4k2yfv3fv9FBPAufTBDAfQCA4cBF8T+qzp8ar8DePxXWJNpzHNc/8b/bwT496D/0wJ9LR2jqP4ngLTpnk9E/VKA2cqkM0L8f88k2Q6XyP6uf0ibDSfa/XnCYfIX20z9FbFlXZQLtP5MSLh0yhNU/nqCUHXni+j9NU+z9OgbkvwWAFxBgsP4/roAKF1AD7T9DMkwoFqPLP6Jmep/y0Nu/s6VCx2w99r8NCo5IlUkAQCFuo1S4vsu/X7o03Qhdyr9bndyYOzj3v0DhRAzVAFU/n7+ilkGS1b8iM3U8t0Trv1/GyJsDOfu/xVIIpYCnzL/uEaoqqDLwvxNJoT5yTfU/+iYZXpWu2L/CabNtGjDqv7/ssToLCus/NzQRnCbOpb9utKDSPT3/P66/Gwzs1fK/Kc9dzbL+4L+zUIEg2ffxv6q80Y+C+vw/aUo7pS558b+rTJK474juP3IqFId7UOY/KlRPuEOQ2T8dAPaKxO/dv93ruppTAv6/0HUFhTf/7L+lxjnO71rlP3AHRFJcNc2/JeUYm3SM/r+XGEZOmuvXv1MEVUyAQ7W/jcwbV21J2L+KUVSzsyO9P2pmsjNHoPu/mAqxMItr8b+dyC1FDQruP8xxoEC4rM8/04ubPxqs3D/JKF8W4nfrvx/DKZdhHPA/dn17lIL/3z+TtAY3Err1P9Dzc+x1IfC/5fGKXoTF/r+cF2VHm8Xlv1Fk43jXKfS/TzZF0iHq9b8r08JKaiviP9Fnljqg3NA/ARtV+zcx8D/Q4HbIB2Tuv+NVwcvU5cq/iRuqZbwk2j8IIZsQRmz4P+yaRHSS6Ns/7AbkSsL18z8EscCH5WnhP6LMtWCV4+Q/UZ2x+5Jvgb/cYeRmY6LtPw==",
          "dtype": "f8"
         },
         "yaxis": "y2"
        },
        {
         "error_x": {
          "array": {
           "bdata": "AAAAANdSFUAAAAAA7UEgQAAAAACsIwNAAAAAAFHfEkAAAAAAFYwKQAAAAACOpvI/AAAAABEwDkAAAAAADPr0PwAAAABY1fY/AAAAALjp9j8AAAAASPX2PwAAAABEvPg/AAAAABS1+D8AAAAAnKr4PwAAAACsY/o/AAAAAERb+j8AAAAAxFT6PwAAAAAkEfw/AAAAAEQO/D8AAAAAvA38PwAAAACY0P0/AAAAAGjV/T8AAAAABJ//PwAAAADkqv8/AAAAAEy+AEAAAAAARMYAQAAAAADYsAFAAAAAAIy5AUAAAAAANMIBQAAAAADErgJAAAAAACi4AkAAAAAAXKYDQAAAAADklQRAAAAAAOigBEAAAAAAJJIFQAAAAADwnQVAAAAAAPCQBkAAAAAAgJ0GQAAAAABIkgdAAAAAAHSICEAAAAAAsJYIQAAAAACwjglAAAAAACCICkAAAAAAAJgKQAAAAACiERxAAAAAADSODUAAAAAAkKANQAAAAACYoA5AAAAAABCiD0AAAAAAhFIQQAAAAADgXBBAAAAAADjfEEAAAAAARGIRQAAAAAAI5hFAAAAAAHxqEkAAAAAAqO8SQAAAAADAuCNAAAAAACiDFEAAAAAAJk8lQAAAAABYHBZAAAAAAOClFkAAAAAA9C8XQAAAAACkNhhAAAAAAEjCGEAAAAAAkJQpQAAAAACIZxpAAAAAAHb4QUAAAAAASXREQAAAAAC84jFAAAAAAKicPEAAAAAA+kA0QAAAAADSKDVAAAAAAIDsJUAAAAAAas02QA==",
           "dtype": "f8"
          },
          "arrayminus": {
           "bdata": "AAAAANdSFUAAAAAA7UEgQAAAAACsIwNAAAAAAFHfEkAAAAAAFYwKQAAAAACOpvI/AAAAABEwDkAAAAAADPr0PwAAAABY1fY/AAAAALjp9j8AAAAASPX2PwAAAABEvPg/AAAAABS1+D8AAAAAnKr4PwAAAACsY/o/AAAAAERb+j8AAAAAxFT6PwAAAAAkEfw/AAAAAEQO/D8AAAAAvA38PwAAAACY0P0/AAAAAGjV/T8AAAAABJ//PwAAAADkqv8/AAAAAEy+AEAAAAAARMYAQAAAAADYsAFAAAAAAIy5AUAAAAAANMIBQAAAAADErgJAAAAAACi4AkAAAAAAXKYDQAAAAADklQRAAAAAAOigBEAAAAAAJJIFQAAAAADwnQVAAAAAAPCQBkAAAAAAgJ0GQAAAAABIkgdAAAAAAHSICEAAAAAAsJYIQAAAAACwjglAAAAAACCICkAAAAAAAJgKQAAAAACiERxAAAAAADSODUAAAAAAkKANQAAAAACYoA5AAAAAABCiD0AAAAAAhFIQQAAAAADgXBBAAAAAADjfEEAAAAAARGIRQAAAAAAI5hFAAAAAAHxqEkAAAAAAqO8SQAAAAADAuCNAAAAAACiDFEAAAAAAJk8lQAAAAABYHBZAAAAAAOClFkAAAAAA9C8XQAAAAACkNhhAAAAAAEjCGEAAAAAAkJQpQAAAAACIZxpAAAAAAHb4QUAAAAAASXREQAAAAAC84jFAAAAAAKicPEAAAAAA+kA0QAAAAADSKDVAAAAAAIDsJUAAAAAAas02QA==",
           "dtype": "f8"
          },
          "color": "#00CC96",
          "symmetric": false,
          "thickness": 1.5,
          "type": "data",
          "width": 0
         },
         "error_y": {
          "array": {
           "bdata": "lXIfLUc/0z9210TxYyS2PwSUyAkakbY/0GEkkp32pD9ab6SQG+idPzT4/gWT1aM/Ct63bHXCkD+vtqVdegeZP+chEQQRZ5Y/Fu6wB4KklD9faEGfc4WRP/KSmsE5WY0/aXmgzUAbjT9wg9sIO0SKP+XmBccvFoc/wyn0S7Z2iD8qhAWL5J+GP2UwAeFzAIU/gHovel13hD8OdlmgW0KEP036PqOAHYQ/3jvVFvOIgj/ZoMjpbhB8PxvtnruAJIM/xl6yGDE2gT9tF0lQpRl9P/KD6u1w4Xw/3nIr3px5ez+9k9MgaOp6P7seZsDnHns/pKns0zNIeT/eoJF58TN4Px9p8stBU3c/0qT/4zKIdz8JEuY0VR91P//M2EQCTng/o94gD/Uzdj+IJLOKwnx4Pz0jOrFp/HQ/d0HVOh4edz9FjD4E7vFzP6HUbRvS+3U/Hr467bt0cz8kXZRF0+xzP5ZJcoUDfGs/mSsHGadacz/tswUwOaV2P4DTy8lMzHM/yA7tINj9cD+ubx6ItRByP4tgQNSjenI/SeUfQBpecz9vVHrj9NB0P6MCCRZtfnM/35kxCJcccD8+9PfoBVRxP9w7C2cQI2g/LM7cNQpWcT9a8WpnreJkPyZbVsmSLnE/bRsYL8xdcT+sOWHPBUNxPw0v1xO2cXE/GCM+WCrZbz92TuK1oyFoP6DxLzdCpHA/lWJ+PjH0XD+MsCINCh9YP0VX3tAMwWU/Om3vEVIxXz/pyHaWlzdkPwEABNMvQmU/wCrhT+idcT9YE01eGVxmPw==",
           "dtype": "f8"
          },
          "color": "#00CC96",
          "thickness": 1.5,
          "type": "data",
          "width": 0
         },
         "marker": {
          "color": "#00CC96",
          "size": 0,
          "symbol": "cross-thin"
         },
         "mode": "markers",
         "name": "obs of n8",
         "showlegend": false,
         "type": "scatter",
         "x": {
          "bdata": "AAAAAIG/K0AAAADAbFU7QAAAAGBs7UJAAAAAQJF7RkAAAADAPIBKQAAAAIAyvkxAAAAAAGg2T0AAAADAnOBQQAAAAEDaj1FAAAAAgNZGUkAAAACAUv5SQAAAAMAYvVNAAAAAAN6CVEAAAADAXEhVQAAAAACWFFZAAAAAwJHnVkAAAADAUbpXQAAAAIDpk1hAAAAAAGd0WUAAAAAA11RaQAAAAGBQPFtAAAAAYOgqXEAAAAAAuiBdQAAAAMDhHV5AAAAAoH8iX0AAAAAAUhdgQAAAAIAuoWBAAAAAANguYUAAAAAAx7xhQAAAAACLTmJAAAAAoCbkYkAAAADAoH1jQAAAAMCRHmRAAAAA4GzDZEAAAAAAOWxlQAAAAGD5GGZAAAAA4LTJZkAAAACgbn5nQAAAAMAtN2hAAAAAwJj3aEAAAABAFbxpQAAAAMCqhGpAAAAAAAZVa0AAAACAhilsQAAAAIBzdG1AAAAAgDnLbkAAAACA9LdvQAAAAIB8VHBAAAAA4AHRcEAAAAAAkFFxQAAAAKBN1HFAAAAAAD5ZckAAAAAAROJyQAAAACBlb3NAAAAAQKcAdEAAAADAD5Z0QAAAAGCUf3VAAAAAAGdvdkAAAADA7Gt3QAAAAGDXbnhAAAAAQOAheUAAAACAN9l5QAAAAADSlnpAAAAAoLVae0AAAABAY4p8QAAAAOClwH1AAAAAYKk0gEAAAABAdZuCQAAAAMDPcYRAAAAA4MrlhUAAAAAAuGyHQAAAAEAGuIhAAAAA4P64iUAAAABAHMeKQA==",
          "dtype": "f8"
         },
         "xaxis": "x",
         "y": {
          "bdata": "fKKuoipRo7+cd6y9uFO1P8xRfJG6Uck/Tv2oYOsetT8wnK7wNV+tP2ZRWV0GQbQ/wPcNcY+voz8QkPN2lrKvP9sPB5LIF7I/pftXw2N1tj920bcHuuSvP0EoeKuYNqc/TDWSKyivrD8qsVyGDCumP8z8p7KKSaI/LL8/1K0srj/lv+od41mpP5QF1vxmE6k/3hwb2G/bqz8d59qh4RWsP1XMcX2KZ7A/VMmvPZbgqD/9HCXWmhiTP5tebQfF17E//uZburtZrj8QLPY5XCmhPx9+gVV/XKM/jzJSCoDinz8QPgdNqPKeP6ZWKumlj6E/c8TtkXLemz/5IS2fqRqcP4qIMqqoTJo/dqbvAmObnD8PKAt21I2SP0x8P+BSkZ4/vqXE+xW+lT+MASqkWl+eP7G+lkEAYo8/9dqCXR5imz8OYv6OUU+QP3DzzH/wa5k/hoKWTg3zkT9pGLKdk+uSPxnrYcG/tpA/iR3rd9+NkD9z8ueupvmcP9V6Xys3SZI/Jq7KB/1mgT/ASYPS9AGFP8IPaqEeuIo/g6QFn9L0jz8771eY/2SUPxGlOQ/DCZA/nkuBvlougD/eij/Z4AqFP1Tiznsi6YU/P4PLqfewiT9K33uWz5B1P4I5MBKFAIU/n3Pb/Bcjhj/3S+VEYrmGP+dAvxLoHIY/Q+/SEuEQgD8IqZ3bIEuCPxL9eHoJyXw/8ad+cqIrdj9qAa4cJQ1nPzFVW1qm+HQ/icm1L//XbT/4Qht7SU5zP9Mh4KphPng/S9U1EzO4hj/OSsWnZv96Pw==",
          "dtype": "f8"
         },
         "yaxis": "y"
        },
        {
         "line": {
          "color": "#00CC96",
          "width": 2
         },
         "mode": "lines",
         "name": "n8",
         "showlegend": true,
         "type": "scatter",
         "x": {
          "bdata": "AAAAAIG/K0AAAADAbFU7QAAAAGBs7UJAAAAAQJF7RkAAAADAPIBKQAAAAIAyvkxAAAAAAGg2T0AAAADAnOBQQAAAAEDaj1FAAAAAgNZGUkAAAACAUv5SQAAAAMAYvVNAAAAAAN6CVEAAAADAXEhVQAAAAACWFFZAAAAAwJHnVkAAAADAUbpXQAAAAIDpk1hAAAAAAGd0WUAAAAAA11RaQAAAAGBQPFtAAAAAYOgqXEAAAAAAuiBdQAAAAMDhHV5AAAAAoH8iX0AAAAAAUhdgQAAAAIAuoWBAAAAAANguYUAAAAAAx7xhQAAAAACLTmJAAAAAoCbkYkAAAADAoH1jQAAAAMCRHmRAAAAA4GzDZEAAAAAAOWxlQAAAAGD5GGZAAAAA4LTJZkAAAACgbn5nQAAAAMAtN2hAAAAAwJj3aEAAAABAFbxpQAAAAMCqhGpAAAAAAAZVa0AAAACAhilsQAAAAIBzdG1AAAAAgDnLbkAAAACA9LdvQAAAAIB8VHBAAAAA4AHRcEAAAAAAkFFxQAAAAKBN1HFAAAAAAD5ZckAAAAAAROJyQAAAACBlb3NAAAAAQKcAdEAAAADAD5Z0QAAAAGCUf3VAAAAAAGdvdkAAAADA7Gt3QAAAAGDXbnhAAAAAQOAheUAAAACAN9l5QAAAAADSlnpAAAAAoLVae0AAAABAY4p8QAAAAOClwH1AAAAAYKk0gEAAAABAdZuCQAAAAMDPcYRAAAAA4MrlhUAAAAAAuGyHQAAAAEAGuIhAAAAA4P64iUAAAABAHMeKQA==",
          "dtype": "f8"
         },
         "xaxis": "x",
         "y": {
          "bdata": "AAAAgAKrwj8AAACgnny5PwAAAMAbBLU/AAAAoPzosj8AAADAvguxPwAAAOCvLLA/AAAAIMCkrj8AAABgcxStPwAAAMBrTqw/AAAAACmLqz8AAACgGNKqPwAAAEAJHKo/AAAAwHJpqT8AAABAgcCoPwAAAODRGqg/AAAAYHN4pz8AAADAb96mPwAAAKBHR6Y/AAAAAASzpT8AAAAg9SWlPwAAAABkm6Q/AAAAAFUTpD8AAABAyI2jPwAAAGC7CqM/AAAAQCmKoj8AAAAAFAyiPwAAAIB8kKE/AAAAAGYXoT8AAAAgo6OgPwAAAGAdMqA/AAAAYK6Fnz8AAAAgnauePwAAAEBF0Z0/AAAAwMn7nD8AAAAgGSucPwAAAMAkX5s/AAAAoNmXmj8AAACAJ9WZPwAAAOD5Fpk/AAAAIMBZmD8AAACgMqGXPwAAAAA27ZY/AAAAIKI6lj8AAAAgs4yVPwAAACADjZQ/AAAAwOmVkz8AAAAg3PSSPwAAAEBSWJI/AAAAoOu9kT8AAABA1CWRPwAAAKBDkpA/AAAAYBUDkD8AAADgi+yOPwAAAIDo140/AAAAIHfIjD8AAACAZ76LPwAAAAAyN4o/AAAAIPnBiD8AAACgNFWHPwAAAIBW+oU/AAAAoCgZhT8AAABADD6EPwAAAADeZoM/AAAAQO+Tgj8AAADgBWKBPwAAACCgQYA/AAAAQGUmfD8AAACAT+J1PwAAACBbKHI/AAAA4OJsbz8AAABgfQ9rPwAAACB94Wc/AAAAYAyyZT8AAAAAWqFjPw==",
          "dtype": "f8"
         },
         "yaxis": "y"
        },
        {
         "marker": {
          "color": "#00CC96",
          "line": {
           "color": "#00CC96",
           "width": 1.5
          },
          "size": 10,
          "symbol": "cross-thin"
         },
         "mode": "markers",
         "name": "res of n8",
         "showlegend": false,
         "type": "scatter",
         "x": {
          "bdata": "AAAAAIG/K0AAAADAbFU7QAAAAGBs7UJAAAAAQJF7RkAAAADAPIBKQAAAAIAyvkxAAAAAAGg2T0AAAADAnOBQQAAAAEDaj1FAAAAAgNZGUkAAAACAUv5SQAAAAMAYvVNAAAAAAN6CVEAAAADAXEhVQAAAAACWFFZAAAAAwJHnVkAAAADAUbpXQAAAAIDpk1hAAAAAAGd0WUAAAAAA11RaQAAAAGBQPFtAAAAAYOgqXEAAAAAAuiBdQAAAAMDhHV5AAAAAoH8iX0AAAAAAUhdgQAAAAIAuoWBAAAAAANguYUAAAAAAx7xhQAAAAACLTmJAAAAAoCbkYkAAAADAoH1jQAAAAMCRHmRAAAAA4GzDZEAAAAAAOWxlQAAAAGD5GGZAAAAA4LTJZkAAAACgbn5nQAAAAMAtN2hAAAAAwJj3aEAAAABAFbxpQAAAAMCqhGpAAAAAAAZVa0AAAACAhilsQAAAAIBzdG1AAAAAgDnLbkAAAACA9LdvQAAAAIB8VHBAAAAA4AHRcEAAAAAAkFFxQAAAAKBN1HFAAAAAAD5ZckAAAAAAROJyQAAAACBlb3NAAAAAQKcAdEAAAADAD5Z0QAAAAGCUf3VAAAAAAGdvdkAAAADA7Gt3QAAAAGDXbnhAAAAAQOAheUAAAACAN9l5QAAAAADSlnpAAAAAoLVae0AAAABAY4p8QAAAAOClwH1AAAAAYKk0gEAAAABAdZuCQAAAAMDPcYRAAAAA4MrlhUAAAAAAuGyHQAAAAEAGuIhAAAAA4P64iUAAAABAHMeKQA==",
          "dtype": "f8"
         },
         "xaxis": "x2",
         "y": {
          "bdata": "gvu+r3aI479ZIUd1/gvIv+7tKO6jAPU/OsfUZQ3/yj9C74EGajPUv8UUtMKbU9o/HxKXIBns9L9ulsTkMcbKP/qG8s2aguY/SJcKg6nu+j8rFO1BgYfiP772HBRlQ9m/cyUm+eXH3D+InuJAti7Zv51DTXOFIPC/tvMPh9uJ8T9GvzphNBbcP/y109iRDOE/bn2XDZ9B8z9ATsmdPur1P5ALN6xFaQNAd0U1VYmU8D+3KHFGa9EGwGL59a6k0gtActgwWW71BUAJiXQ/7SnPv2w4dKck298/csT+GHtp1b8KAdFSiirWv1LjKfiuxtk/qdgsUvp+4r8tUJSKuyTbvyqA71U3TuO/WP1xXOtisL9TzS4SiyH9v0EskRjr1OA/MyhKjcT2678LcrIGCrvnP5+b7pJkqfy/xrChQ6vK4D8kRRL973z3v9JXHCX/Dd0/ofvhTMYn7L8d1ESbLuTgv2BRwiuU3vG/QWAIqWcM5L+G9G0pkFD8P0TEZJ1xaoi/Q/JD37kGAcAVbYHUnon3vwGGL/U1P+a/4TjKNi6ofL+1055AjlTuP115q6SnUs0/yhCBYH8H+b9yaf/lHsDov5umDYtN1Oa/i9q2VWaSuz/gNhp1izoDwHYC82dEFL2/USSEA1ugvj+9G40TJ2fSPzUmPxWl5NM/OurYWPIw1L/eGAT+1VHDP/RFetFiq8y/xpwvpTlv6r9VYiLSwXv7vx0uheYrjtA/KP0GH+f1ub/Tima/g0jiP2EN1b0ThfI/uTMP3KZq/z+KT8WSM5f4Pw==",
          "dtype": "f8"
         },
         "yaxis": "y2"
        },
        {
         "error_x": {
          "array": {
           "bdata": "AAAAAGhB2z8AAAAAsjLbPwAAAADlZOA/AAAAAIab4D8AAAAAu/XgPwAAAAA6c+E/AAAAADj84T8AAAAAkmfiPwAAAAAuseI/AAAAALz+5T8AAAAAvgPmPwAAAABYFuY/AAAAACpm5j8AAAAAWvTmPwAAAADwwOc/AAAAAC5w7D8AAAAA/CnuPwAAAAB3IPA/AAAAAKBs7z8AAAAADC/nPwAAAADkOOo/AAAAAIix6j8AAAAAuCTrPwAAAAB8kus/AAAAAOAc7z8AAAAAOJbvPwAAAAAQBPA/AAAAAEY58D8AAAAAoBHyPwAAAACOSPI/AAAAAIZ68j8AAAAAiKfyPwAAAAAsh/Q/AAAAAGaw9D8AAAAALNP0PwAAAAA4r/Y/AAAAAFDI9j8AAAAAMNn2PwAAAACgpPg/AAAAAICk+D8AAAAADJ34PwAAAAAUV/o/AAAAAHBQ+j8AAAAAeEv6PwAAAAC0CPw/AAAAABAH/D8AAAAAfAf8PwAAAAC4yv0/AAAAAAjQ/T8AAAAAeJn/PwAAAAAgpf8/AAAAAGC7AEAAAAAAzsMAQAAAAADArgFAAAAAAPS3AUAAAAAAHMEBQAAAAAAkrgJAAAAAABi4AkAAAAAA3KYDQAAAAAAMlwRAAAAAALCiBEAAAAAAsJQFQAAAAAAooQVAAAAAAACVBkAAAAAATKIGQAAAAAAImAdAAAAAAECPCEAAAAAASJ4IQAAAAABslwlAAAAAABiSCkAAAAAA4KIKQAAAAAB0nwtAAAAAAJidDEAAAAAATJ0NQAAAAAC4sA1AAAAAAFiyDkAAAAAAeLUPQAAAAAAYXRBAAAAAABBoEEAAAAAAVOsQQAAAAABcbxFAAAAAABz0EUAAAAAApHkSQAAAAADg/xJAAAAAANyGE0AAAAAAhA4UQAAAAADglhRAAAAAAOQfFUAAAAAAkKkVQAAAAADYMxZAAAAAALi+FkAAAAAAKEoXQAAAAADQUhhAAAAAAOTfGEAAAAAAaG0ZQAAAAABQ+xlAAAAAAJSJGkAAAAAAZJYbQAAAAADEJRxAAAAAAEy1HEAAAAAACMQdQAAAAABAVB5AAAAAAEysL0AAAAAAeIIgQAAAAACcyiBAAAAAANhSIUAAAAAAFNshQAAAAACYZjJAAAAAAPgxI0AAAAAAELkjQAAAAAAgYjRAAAAAAJgJJUAAAAAA6GBGQA==",
           "dtype": "f8"
          },
          "arrayminus": {
           "bdata": "AAAAAGhB2z8AAAAAsjLbPwAAAADlZOA/AAAAAIab4D8AAAAAu/XgPwAAAAA6c+E/AAAAADj84T8AAAAAkmfiPwAAAAAuseI/AAAAALz+5T8AAAAAvgPmPwAAAABYFuY/AAAAACpm5j8AAAAAWvTmPwAAAADwwOc/AAAAAC5w7D8AAAAA/CnuPwAAAAB3IPA/AAAAAKBs7z8AAAAADC/nPwAAAADkOOo/AAAAAIix6j8AAAAAuCTrPwAAAAB8kus/AAAAAOAc7z8AAAAAOJbvPwAAAAAQBPA/AAAAAEY58D8AAAAAoBHyPwAAAACOSPI/AAAAAIZ68j8AAAAAiKfyPwAAAAAsh/Q/AAAAAGaw9D8AAAAALNP0PwAAAAA4r/Y/AAAAAFDI9j8AAAAAMNn2PwAAAACgpPg/AAAAAICk+D8AAAAADJ34PwAAAAAUV/o/AAAAAHBQ+j8AAAAAeEv6PwAAAAC0CPw/AAAAABAH/D8AAAAAfAf8PwAAAAC4yv0/AAAAAAjQ/T8AAAAAeJn/PwAAAAAgpf8/AAAAAGC7AEAAAAAAzsMAQAAAAADArgFAAAAAAPS3AUAAAAAAHMEBQAAAAAAkrgJAAAAAABi4AkAAAAAA3KYDQAAAAAAMlwRAAAAAALCiBEAAAAAAsJQFQAAAAAAooQVAAAAAAACVBkAAAAAATKIGQAAAAAAImAdAAAAAAECPCEAAAAAASJ4IQAAAAABslwlAAAAAABiSCkAAAAAA4KIKQAAAAAB0nwtAAAAAAJidDEAAAAAATJ0NQAAAAAC4sA1AAAAAAFiyDkAAAAAAeLUPQAAAAAAYXRBAAAAAABBoEEAAAAAAVOsQQAAAAABcbxFAAAAAABz0EUAAAAAApHkSQAAAAADg/xJAAAAAANyGE0AAAAAAhA4UQAAAAADglhRAAAAAAOQfFUAAAAAAkKkVQAAAAADYMxZAAAAAALi+FkAAAAAAKEoXQAAAAADQUhhAAAAAAOTfGEAAAAAAaG0ZQAAAAABQ+xlAAAAAAJSJGkAAAAAAZJYbQAAAAADEJRxAAAAAAEy1HEAAAAAACMQdQAAAAABAVB5AAAAAAEysL0AAAAAAeIIgQAAAAACcyiBAAAAAANhSIUAAAAAAFNshQAAAAACYZjJAAAAAAPgxI0AAAAAAELkjQAAAAAAgYjRAAAAAAJgJJUAAAAAA6GBGQA==",
           "dtype": "f8"
          },
          "color": "#AB63FA",
          "symmetric": false,
          "thickness": 1.5,
          "type": "data",
          "width": 0
         },
         "error_y": {
          "array": {
           "bdata": "IJyS4F78oz8HyXfHAW2iPwfTrH13SaA/JfaCXTNwnD/fla9qESCZP003Yt7e4JU/whLuQU3xlD+f4xxECTmUP0M/6Q1btpI/8vXRqIifjj/tyhnSBwCPP+Edavd1YIw/0zNV16dcjD8p/lGSc0CJP0Sge6VuT4g/CAaDy+mKhT+2hW30+3aFP/0HMDtwB4M/ZrALLpgAhD9RfEK7JWGLP4stPiUrlIY/XKlK4X0zhj/Z8reR6HqEP2YCdejTeoM/d2V8lIB9gT/3msf6GvV9P4LlrlZ3hn8/7JTD5D1kgD/ArS8+DGp+P5PT0yo+pXs/9o0cFC/Pez/3YDIQO7F7P6ip9ftBd3g/Yi7RWa2meD/aOTCLTYx3P8/Kvax1B3g/Km7kQ7lhdj8hdQACn+B0PxX2xuZG1nQ/MSyWBOhAdD91kvhyHpdzP9+Hle7o/HE/b7+m2FL1cT8OSZew5lZxP9a4Eqmfh3A/h8Z9/BWvcD8MwkuVp0dwP8ruNPBBQG8/2qUdQ0h8bD8GBDAVw4hrP/wVNjiSS2s/mc38jhWWaj9Y1kM7M+dqP4mr9hfgdmk/Kutb1GumaT/jA4z2I/VoP7nuGdfjHWY/mlns95WoZz9ailjt8UlmP5srk2++MWU/hyah06AEZj/O+oNp7NlkP9HIpmGZzGU/1NH2phChZD+Gysvv/oNlPztjsGj66mQ/YjDSk77MZD9KpX97BHJkP1WbGk36b2M/5SIo2j0MYz+Xsf0TEW1jP3Mc54iSH2Q/o/oKWw/5Yj/6NwDQ0DhiP8rghtUFYWI/5UOgximaZT82+fwp+uljPx3mBm6pQGQ/e6mjrAbEYz8EauTNSk1iP4OI7qx3XGM/sZCJKcE0ZD+tOcUlfhJjPxiIblfe72M/jveYu7TYYj/16XCGLw1iPz6Ysq/vhmI/Aw6CX5MfYj9CskHJph9iP5ZYetsgf2M/2tVc+fFOYD9xxHfDRIFiP01pXkk0XWI/+L+mstilYD+jFTom6UlkP5PFzg4NEGI/DX3lBCq0YT/j16wqY7JjP4PO6YGkQWI/puzjzghnYz8/ZCNqZHRjP8h0GOAWT2A/d218gTRWVj/l9DQGRPhdP+fD3XgMhV8/WEwlVZBaYz+96YUJY91gP3Vo0/wTgFY/gQnYu3OCXj/3oDa/3xlgP9N330mmnFQ/Hlz/+GrcYz/RYD6lV+BKPw==",
           "dtype": "f8"
          },
          "color": "#AB63FA",
          "thickness": 1.5,
          "type": "data",
          "width": 0
         },
         "marker": {
          "color": "#AB63FA",
          "size": 0,
          "symbol": "cross-thin"
         },
         "mode": "markers",
         "name": "obs of n9",
         "showlegend": false,
         "type": "scatter",
         "x": {
          "bdata": "AAAAYAeJIkAAAABAqDwkQAAAAACMHCZAAAAAwJIsKEAAAADApkUqQAAAACA2bCxAAAAAQC2jLkAAAAAAtXQwQAAAAAB7nTFAAAAAQPriMkAAAAAADkM0QAAAAMDeozVAAAAAwMIHN0AAAAAAl3I4QAAAAEBB6DlAAAAAQMqJO0AAAACAm149QAAAAMDyUT9AAAAAoK+nQEAAAABAHoJBQAAAAAC+R0JAAAAAwGcbQ0AAAADAwPJDQAAAAICdzURAAAAAAFu4RUAAAABgJ7NGQAAAAMCgsUdAAAAAgIuzSEAAAACg4sVJQAAAAAC06EpAAAAAwMwOTEAAAAAg3TdNQAAAAMBScU5AAAAAQA+7T0AAAAAAloNQQAAAAICfMVFAAAAAoH3nUUAAAACgA55SQAAAAOD6W1NAAAAAYB8hVEAAAACAJeZUQAAAAAD2sVVAAAAAIJSEVkAAAADAA1dXQAAAAIBUMFhAAAAAgJMQWUAAAADAzfBZQAAAAIAW2FpAAAAAgIHGW0AAAACAJ7xcQAAAAOAhuV1AAAAAYJG9XkAAAADAislfQAAAAKCPbmBAAAAAgCr8YEAAAADADophQAAAAMDLG2JAAAAAoGSxYkAAAACA4EpjQAAAAADY62NAAAAAAL+QZEAAAACAnDllQAAAAOBz5mVAAAAAgEyXZkAAAADAKUxnQAAAAAATBWhAAAAAILDFaEAAAABAZoppQAAAAAA9U2pAAAAAIOMja0AAAAAAt/hrQAAAAEDA0WxAAAAAgLSybUAAAAAAoJtuQAAAACDYiG9AAAAAQDI9cEAAAADAAbpwQAAAACDhOnFAAAAAwPW9cUAAAABAQ0NyQAAAAACuzHJAAAAAADxac0AAAAAA8+tzQAAAAADZgXRAAAAAAPQbdUAAAACASbp1QAAAAADfXHZAAAAAALoDd0AAAADg3653QAAAAIBVXnhAAAAAwB8SeUAAAABAQ8p5QAAAACC3iHpAAAAAAIJNe0AAAAAgtxZ8QAAAAABa5HxAAAAAgG22fUAAAACA7Y5+QAAAAADebX9AAAAAIKUogEAAAADAl52AQAAAAGDIFYFAAAAAACLRgUAAAAAg3ZGCQAAAAIARF4NAAAAAQIefg0AAAAAAPyyEQAAAAADgBoVAAAAAoNzmhUAAAADAiIKGQAAAAAB+dIdAAAAAYLVriEAAAABA6iWKQA==",
          "dtype": "f8"
         },
         "xaxis": "x",
         "y": {
          "bdata": "TtTCNVSLvz+QZz3jRKfCPwCLntHAl8c/3Zf+afE0wz85CVGPxNzBP4xA2UANZL4/X14eFoaSwD/uf4RHEtnDP1zKa6PKqcI/3nyrMB/IuT8XwMGcW5DAP9iKW3FzQ7o/ZG8lfY2cvD9qTwKYxIK2P+b/MVT0TLg/m4t0D/cktj+6hjIUhE65P9rRqA/ll7I/lQFwSbaXtD9tCEFjLZ++P+jFGyC0xbU/Bia+QYwDuT+zYEPLqSy1PxoBiJRqS7M/ganGc1OXsD84MgJrLCanPwnbgl4rpq8/AytOwfLKsj9FVUjVEDGyP3xz4qLumKw/lez7WfbUrz8KpwWHiAqxPzLKLX+p+qk/Qetks6zVrD9MnFntopioP9z+OJQGTLA/ABwhaTdNrD9YhmFAh86pP4ZaTxkA4K4/oe4wK55ArT+30I5+gIurP/82lB4qYKk/ijGeQQGVqT/kHINxiK+nP2U03nBWYKc/MkyTYVr0qD//nSMqVACoPwfS1dFUt6c/XD6t1UpQoz/5gVxJpGCjPxdrZb6nW6M/1uU77zWYoz9qxNEXekWkPwDRQS5v5qI/BU+cdgKboz/Aw75DaACiP4hCjNmDlJs/2qPTDHnGoD/s1UWveK2eP7ng0MPwxZs/v1x6VHevnT8qON+TVKSaP9cDRgssQJ0/l2ueMtC7mD+irr6bJyCaPwrwIPN55Jc/grCUoM/Slj/OSP0S33iWP33wFmjbkZM/X1GesDHDkj/zN3eqrrSSPzXQ19YapZM/2uxnLunXkD8MWoFFLPOMP2zBDQv0QIw/BBS2CrtIlT+pl/bkUA+QPxocV3iB7pA/KXFBhq03jj8Z4U7MuLOHP4yYXhhSLYw/Fj+eh5Mfjj+2ttUHYvKJPzLm2L7Jjow/bGhctbkxiD8pxXLVA76FPzN0TzTUHoY/vbgarkbWgj86Ya4r+96DPx3bKLpX3Yc/UVdUxXcsej+5YnDlfDyFP/uyEkM2EYQ/tXgj2UfSfD+C022x0FCJP1EQLRI/aoA//GwssQkkeT+dA0bhHleCP0KpAKMAIXk/L28EVaN+fD+KR6rzVvF/P+5Bn0L4Z3I/JuEN9Ok0cz/zomnQcpFqP2dieU9mlXE/xBEpQFzpgD8ghVaSWj12PzpDf44E63A/9ajAKz+wbT9ZqUdASOlyP0HG8JDstWU/c5qppwROgj+tUI9yRVlWPw==",
          "dtype": "f8"
         },
         "yaxis": "y"
        },
        {
         "line": {
          "color": "#AB63FA",
          "width": 2
         },
         "mode": "lines",
         "name": "n9",
         "showlegend": true,
         "type": "scatter",
         "x": {
          "bdata": "AAAAYAeJIkAAAABAqDwkQAAAAACMHCZAAAAAwJIsKEAAAADApkUqQAAAACA2bCxAAAAAQC2jLkAAAAAAtXQwQAAAAAB7nTFAAAAAQPriMkAAAAAADkM0QAAAAMDeozVAAAAAwMIHN0AAAAAAl3I4QAAAAEBB6DlAAAAAQMqJO0AAAACAm149QAAAAMDyUT9AAAAAoK+nQEAAAABAHoJBQAAAAAC+R0JAAAAAwGcbQ0AAAADAwPJDQAAAAICdzURAAAAAAFu4RUAAAABgJ7NGQAAAAMCgsUdAAAAAgIuzSEAAAACg4sVJQAAAAAC06EpAAAAAwMwOTEAAAAAg3TdNQAAAAMBScU5AAAAAQA+7T0AAAAAAloNQQAAAAICfMVFAAAAAoH3nUUAAAACgA55SQAAAAOD6W1NAAAAAYB8hVEAAAACAJeZUQAAAAAD2sVVAAAAAIJSEVkAAAADAA1dXQAAAAIBUMFhAAAAAgJMQWUAAAADAzfBZQAAAAIAW2FpAAAAAgIHGW0AAAACAJ7xcQAAAAOAhuV1AAAAAYJG9XkAAAADAislfQAAAAKCPbmBAAAAAgCr8YEAAAADADophQAAAAMDLG2JAAAAAoGSxYkAAAACA4EpjQAAAAADY62NAAAAAAL+QZEAAAACAnDllQAAAAOBz5mVAAAAAgEyXZkAAAADAKUxnQAAAAAATBWhAAAAAILDFaEAAAABAZoppQAAAAAA9U2pAAAAAIOMja0AAAAAAt/hrQAAAAEDA0WxAAAAAgLSybUAAAAAAoJtuQAAAACDYiG9AAAAAQDI9cEAAAADAAbpwQAAAACDhOnFAAAAAwPW9cUAAAABAQ0NyQAAAAACuzHJAAAAAADxac0AAAAAA8+tzQAAAAADZgXRAAAAAAPQbdUAAAACASbp1QAAAAADfXHZAAAAAALoDd0AAAADg3653QAAAAIBVXnhAAAAAwB8SeUAAAABAQ8p5QAAAACC3iHpAAAAAAIJNe0AAAAAgtxZ8QAAAAABa5HxAAAAAgG22fUAAAACA7Y5+QAAAAADebX9AAAAAIKUogEAAAADAl52AQAAAAGDIFYFAAAAAACLRgUAAAAAg3ZGCQAAAAIARF4NAAAAAQIefg0AAAAAAPyyEQAAAAADgBoVAAAAAoNzmhUAAAADAiIKGQAAAAAB+dIdAAAAAYLVriEAAAABA6iWKQA==",
          "dtype": "f8"
         },
         "xaxis": "x",
         "y": {
          "bdata": "AAAAwDU+xz8AAAAA/CrGPwAAAKBIIcU/AAAA4EwhxD8AAABAXDzDPwAAAABabMI/AAAAoE6twT8AAAAgYv3APwAAAOC2W8A/AAAAQEB3vz8AAACACz++PwAAAKAlJL0/AAAAAIsgvD8AAAAgqC67PwAAAIA+Sro/AAAAAG1guT8AAAAAA3G4PwAAAMD8iLc/AAAAYCKxtj8AAAAghwa2PwAAAIBSdrU/AAAAgGrltD8AAACAFFu0PwAAAGDu1rM/AAAAILRRsz8AAADAG8yyPwAAAKDZTLI/AAAAAInTsT8AAAAgIFqxPwAAAOAn4bA/AAAAQBxusD8AAAAgnQCwPwAAAOBcJ68/AAAAoGxPrj8AAAAgV4KtPwAAAIB+t6w/AAAAAIHvqz8AAABg9DGrPwAAAAB1d6o/AAAAIHvAqT8AAADAZhOpPwAAAIC9aag/AAAAgJHDpz8AAADgCCanPwAAAECCi6Y/AAAAQAb0pT8AAABg+2OlPwAAACCQ1qQ/AAAAwMhLpD8AAACgpMOjPwAAAMAhPqM/AAAA4Di7oj8AAACA6DqiPwAAACAvvaE/AAAAgA5CoT8AAABgZMygPwAAAIALWaA/AAAAQAvQnz8AAABAn/KePwAAAID+FJ4/AAAAgF08nT8AAACgqWicPwAAAADTmZs/AAAAQMTPmj8AAABAbAqaPwAAAIC0SZk/AAAA4P+JmD8AAADgEc+XPwAAAIDOGJc/AAAAQAJklj8AAADg8rOVPwAAAGCBCJU/AAAA4NhelD8AAABAN7eTPwAAAIBRFJM/AAAAoAN2kj8AAABg5tmRPwAAAMAlQJE/AAAA4P6qkD8AAABgTBqQPwAAAIAJGI8/AAAAAI4Ajj8AAACgXe6MPwAAACCn4Ys/AAAAoJPaij8AAADgRNmJPwAAAKDY3Yg/AAAAYGXohz8AAACg/fiGPwAAAGCvD4Y/AAAAwIMshT8AAADAgE+EPwAAAEB+doM/AAAAYM2hgj8AAACgp9OBPwAAAAD/C4E/AAAAYMNKgD8AAADAaxx/PwAAAKALrX0/AAAA4LFKfD8AAAAATfJ6PwAAAEAVpHk/AAAAYMq/dz8AAACg9fd1PwAAAMC203Q/AAAAQBO6cz8AAABgIKlyPwAAAKBUIXE/AAAAAJJpbz8AAACgkJZtPwAAAAAV+2o/AAAAYECTaD8AAADA8NVkPw==",
          "dtype": "f8"
         },
         "yaxis": "y"
        },
        {
         "marker": {
          "color": "#AB63FA",
          "line": {
           "color": "#AB63FA",
           "width": 1.5
          },
          "size": 10,
          "symbol": "cross-thin"
         },
         "mode": "markers",
         "name": "res of n9",
         "showlegend": false,
         "type": "scatter",
         "x": {
          "bdata": "AAAAYAeJIkAAAABAqDwkQAAAAACMHCZAAAAAwJIsKEAAAADApkUqQAAAACA2bCxAAAAAQC2jLkAAAAAAtXQwQAAAAAB7nTFAAAAAQPriMkAAAAAADkM0QAAAAMDeozVAAAAAwMIHN0AAAAAAl3I4QAAAAEBB6DlAAAAAQMqJO0AAAACAm149QAAAAMDyUT9AAAAAoK+nQEAAAABAHoJBQAAAAAC+R0JAAAAAwGcbQ0AAAADAwPJDQAAAAICdzURAAAAAAFu4RUAAAABgJ7NGQAAAAMCgsUdAAAAAgIuzSEAAAACg4sVJQAAAAAC06EpAAAAAwMwOTEAAAAAg3TdNQAAAAMBScU5AAAAAQA+7T0AAAAAAloNQQAAAAICfMVFAAAAAoH3nUUAAAACgA55SQAAAAOD6W1NAAAAAYB8hVEAAAACAJeZUQAAAAAD2sVVAAAAAIJSEVkAAAADAA1dXQAAAAIBUMFhAAAAAgJMQWUAAAADAzfBZQAAAAIAW2FpAAAAAgIHGW0AAAACAJ7xcQAAAAOAhuV1AAAAAYJG9XkAAAADAislfQAAAAKCPbmBAAAAAgCr8YEAAAADADophQAAAAMDLG2JAAAAAoGSxYkAAAACA4EpjQAAAAADY62NAAAAAAL+QZEAAAACAnDllQAAAAOBz5mVAAAAAgEyXZkAAAADAKUxnQAAAAAATBWhAAAAAILDFaEAAAABAZoppQAAAAAA9U2pAAAAAIOMja0AAAAAAt/hrQAAAAEDA0WxAAAAAgLSybUAAAAAAoJtuQAAAACDYiG9AAAAAQDI9cEAAAADAAbpwQAAAACDhOnFAAAAAwPW9cUAAAABAQ0NyQAAAAACuzHJAAAAAADxac0AAAAAA8+tzQAAAAADZgXRAAAAAAPQbdUAAAACASbp1QAAAAADfXHZAAAAAALoDd0AAAADg3653QAAAAIBVXnhAAAAAwB8SeUAAAABAQ8p5QAAAACC3iHpAAAAAAIJNe0AAAAAgtxZ8QAAAAABa5HxAAAAAgG22fUAAAACA7Y5+QAAAAADebX9AAAAAIKUogEAAAADAl52AQAAAAGDIFYFAAAAAACLRgUAAAAAg3ZGCQAAAAIARF4NAAAAAQIefg0AAAAAAPyyEQAAAAADgBoVAAAAAoNzmhUAAAADAiIKGQAAAAAB+dIdAAAAAYLVriEAAAABA6iWKQA==",
          "dtype": "f8"
         },
         "xaxis": "x2",
         "y": {
          "bdata": "UZ2Yq3zs97+PJMtPH2rov7UKR1jiWuM/StJgPVqf0L9HIzspt/zbvzgb6CFv4vK/zksq2W0B27+16UVzNhfyP7hAiKC9iO8/yhCpIDXC97+N5ZSotcvnP8/f6sMR9um/l2YdXFZ9wT8PCF9r5633v427imkW8+S/wGXde4c087+zdh22i6PUPxPSO4PbngDA/OaTsDTe6r+rxCsfDhgEQEDiNlhBILw/cavtwJC99z/L5LkQjXfUPxtm1GPqpcy/WVYTqPv2879BMGbBXdwOwJ9SNXx5GvS/WDki1BYw3j/rF6J9s0TcP2zKVP4N5ve/HYMJWODu0r8O6aGPjjTjP+JKmaGLEvu/ScbTytCl3r/BbkfQfbT6v7XcfCM4p/Q/go7Cj3+/wD8U9qX8QAbhvygqbjaLFPs/RK215Xof9j8fCja+CyLwPz0ihBUbZts/3/yII+rq6T8kdV67G7jPP7TlFhE/wNk/SGyllKgG9z+kH3Xv2Ib0PyOi+XJpk/c/VO54H1Wo4b/oM/nFu8PMv/mFglRfTrE/p4Vbjs+f4D9gLq0kkWzzP4qcrA6sWOc/fQclxMtt9z/xnx1/367oP+I2oOAem/2/YLZwoxzO4j+iqi2o39G4v/Rd/8Uq4+u/wTMjUAbpxD8NvQiJerHlv5qtSAPcX+M/nBVeblbJ6b+c8vCNKymgP6euoy/iE+G/dELT8nMd5b+XlSItubzgv+9nfWkjOve/pqhkupFh+L95ne8Pl7/zv7+3kSA/qeG/afZNhKHL97+CHYtVI2gCwLG9aJPsPgHAg9sLAFS68D/ptdc5Owfnvw0Eg2DsH8C/KOIXMcMx5L8zjwx3ULz9v33Qdm2pSOO/wIziIW6QmD8Ld0RkVgfkv9cqsFRFXsE/M0oLwyQQ4r95BjEeQR7tvzRT2YcB+eK/qCv+FiDo8b8+h1qKxeflv5iCh2HLrdc/WlsBZoi8/7+LumdO9pzJP9Vmos+j2cA/wJjRZm868L8RQf2knJ/3P53MURHp6MG/jRiwrW/o6r9t2ZRt2hjiP2oMGHhg4d+/p+HzfslqlT87esy1p2/gP15BvQ4dZOy/WyO9RNQH6r9Ezqvcrovyv9w/f3S6V9q/FvyB/Z9O9z+erQbb9SnbP2Ky3wuaT6O/ECIDNx/uvL/M3zvAiF3gP7M1u94iXeC/9PNc4PyXA0CCIN6ZnwH3vw==",
          "dtype": "f8"
         },
         "yaxis": "y2"
        },
        {
         "error_x": {
          "array": {
           "bdata": "AAAAAMa52j8AAAAAzIvaPwAAAABW0N8/AAAAAMr+3z8AAAAAVzXgPwAAAAAEiuA/AAAAAA/94D8AAAAANXzhPwAAAADC7OE/AAAAAH5h5T8AAAAAWsnlPwAAAAAOGeY/AAAAANJl5j8AAAAAvLrmPwAAAADsF+c/AAAAACzh6j8AAAAAAHLrPwAAAAAiD+w/AAAAAJy47D8AAAAAZJnzPwAAAADwneg/AAAAAEgJ6T8AAAAAXLDpPwAAAABQT+o/AAAAADDs7T8AAAAAQJvuPwAAAAAcP+8/AAAAANzX7z8AAAAAENXxPwAAAABKI/I/AAAAABhq8j8AAAAAfKnyPwAAAABcm/Q/AAAAAFLU9D8AAAAApgP1PwAAAAAo7vY/AAAAACgO9z8AAAAA3CH3PwAAAABk8fg/AAAAAMDq+D8AAAAADNb4PwAAAADogfo/AAAAAPxp+j8AAAAAdFX6PwAAAAAMBPw/AAAAAKz0+z8AAAAAZOn7PwAAAAA8oP0/AAAAABSd/T8AAAAAGF3/PwAAAAD0ZP8/AAAAAC6ZAEAAAAAAlqIAQAAAAADojAFAAAAAAEyXAUAAAAAAnKEBQAAAAABMjgJAAAAAAICZAkAAAAAALIgDQAAAAABkeARAAAAAAISFBEAAAAAAzHcFQAAAAADUhQVAAAAAADh6BkAAAAAALIkGQAAAAACsfwdAAAAAANR3CEAAAAAAwIgIQAAAAAAUgwlAAAAAACB/CkAAAAAABJIKQAAAAAA4kAtAAAAAACyQDEAAAAAA4JENQAAAAAC8pw1AAAAAAJyrDkAAAAAAKLEPQAAAAABEXBBAAAAAAJxoEEAAAAAASO0QQAAAAADYchFAAAAAADj5EUAAAAAAcIASQAAAAAB8CBNAAAAAAFiRE0AAAAAA/BoUQAAAAABkpRRAAAAAAIwwFUAAAAAAbLwVQAAAAAAESRZAAAAAADzWFkAAAAAAGGQXQAAAAADYbxhAAAAAAIz/GEAAAAAAwI8ZQAAAAABkIBpAAAAAAGSxGkAAAAAAzMEbQAAAAABCnSxAAAAAABD5HUAAAAAAOIweQAAAAADonx9AAAAAALQZIEAAAAAA4KMgQAAAAAB87SBAAAAAALB3IUAAAAAA6AEiQAAAAAALGUNAAAAAAAhvJEAAAAAADLUkQAAAAAA0fjVAAAAAALElQUA=",
           "dtype": "f8"
          },
          "arrayminus": {
           "bdata": "AAAAAMa52j8AAAAAzIvaPwAAAABW0N8/AAAAAMr+3z8AAAAAVzXgPwAAAAAEiuA/AAAAAA/94D8AAAAANXzhPwAAAADC7OE/AAAAAH5h5T8AAAAAWsnlPwAAAAAOGeY/AAAAANJl5j8AAAAAvLrmPwAAAADsF+c/AAAAACzh6j8AAAAAAHLrPwAAAAAiD+w/AAAAAJy47D8AAAAAZJnzPwAAAADwneg/AAAAAEgJ6T8AAAAAXLDpPwAAAABQT+o/AAAAADDs7T8AAAAAQJvuPwAAAAAcP+8/AAAAANzX7z8AAAAAENXxPwAAAABKI/I/AAAAABhq8j8AAAAAfKnyPwAAAABcm/Q/AAAAAFLU9D8AAAAApgP1PwAAAAAo7vY/AAAAACgO9z8AAAAA3CH3PwAAAABk8fg/AAAAAMDq+D8AAAAADNb4PwAAAADogfo/AAAAAPxp+j8AAAAAdFX6PwAAAAAMBPw/AAAAAKz0+z8AAAAAZOn7PwAAAAA8oP0/AAAAABSd/T8AAAAAGF3/PwAAAAD0ZP8/AAAAAC6ZAEAAAAAAlqIAQAAAAADojAFAAAAAAEyXAUAAAAAAnKEBQAAAAABMjgJAAAAAAICZAkAAAAAALIgDQAAAAABkeARAAAAAAISFBEAAAAAAzHcFQAAAAADUhQVAAAAAADh6BkAAAAAALIkGQAAAAACsfwdAAAAAANR3CEAAAAAAwIgIQAAAAAAUgwlAAAAAACB/CkAAAAAABJIKQAAAAAA4kAtAAAAAACyQDEAAAAAA4JENQAAAAAC8pw1AAAAAAJyrDkAAAAAAKLEPQAAAAABEXBBAAAAAAJxoEEAAAAAASO0QQAAAAADYchFAAAAAADj5EUAAAAAAcIASQAAAAAB8CBNAAAAAAFiRE0AAAAAA/BoUQAAAAABkpRRAAAAAAIwwFUAAAAAAbLwVQAAAAAAESRZAAAAAADzWFkAAAAAAGGQXQAAAAADYbxhAAAAAAIz/GEAAAAAAwI8ZQAAAAABkIBpAAAAAAGSxGkAAAAAAzMEbQAAAAABCnSxAAAAAABD5HUAAAAAAOIweQAAAAADonx9AAAAAALQZIEAAAAAA4KMgQAAAAAB87SBAAAAAALB3IUAAAAAA6AEiQAAAAAALGUNAAAAAAAhvJEAAAAAADLUkQAAAAAA0fjVAAAAAALElQUA=",
           "dtype": "f8"
          },
          "color": "#FFA15A",
          "symmetric": false,
          "thickness": 1.5,
          "type": "data",
          "width": 0
         },
         "error_y": {
          "array": {
           "bdata": "B8yZrcNytj/dDg8bBjOyP5LG5mQLJ6o/12b04mjMpT8OatpwktajP+A5cVuPIJ8/cZKASM4Dnz+DB17k+uWbPxTnc6egi5c/0JXf/9J3lT95oJ+ZEaiTP3ZXIViGkJI/Hiii88likD8RtOjP/3iQPxyLHotVlpA/6ksg55JWjj8HZEEYVyiNP0uy7bHa5ow/2h1wr5W6jT+QWWxpB5KEPwOvRDCEzpA/WxFLBXuCjj9DrtYQ7PWMP7dTXy+gOI0/15a84FRViD/FsurxoLyGP0KlEW0fvYc/lPLhBIL6hT9bSsfqRhuEP6PCWTOkFIM/ujNvFXpwgj+UYeCy6oKBPyatv7AohoA/jLoymYlLgT9CgpwDhBOAP519iPTXXX4/m+3KQW59fT+hp2qFYOV5P9SJXlvuSnk/kIXZr1zYdz8FG8reKAd4P+vnSeMNO3c/Q7llTuKxdT8fRdulD7Z2P6Is/214JHU/cx1l24Ztcz8tZ1YFOuxzP36dxa4TfXI/gwypQHIVcj/LzA5rVGhxP7jJvBlK0XA/pgAKc7occD8oxB2YpJ5wP0XBWLBl1W8/uIaMPIjnbz/zt46CFnxvP+f8fWHGXGw/pH9NHVw0aj9dxkYyuj1pPxLPot+rc2k/0TzoYoFgaj/CzswVbrZpPymCeGZF3Wg/qjKcHAb6aT8xE+A1BPZoPwYAMDQpLGc/b8ufBGLkZz9qPgk9aHBnPw8EHA7HGWc/rD9t+R2kZz/5hmbDQlRmP7MT6KJml2Q/3KxVA3VyZD+WLa50f5dlP+La60hLx2Q/B3/7oStUZT8N4bk8KXlnP6e0s7uDo2U/yZB/2iQdZT+eDzSjQxBlP4KrM/b6Q2U/eEV5qU5ZYz+TFz8FxgFkPxtgSGGuEWU/svOto9xLYz9zDyxEbgRiPyRYSbJYKmQ/8EJx/FZeYD/3w7gLUFtiPzHRraYAemQ//a6YFmW/YD9Zzs+kFGJhPzHy7SCWvWI/5I44IgfbZD/zgnVHVbNjP8qxXSnS+GE/Xjyal48+Yz/7ynYdukFiPw1BZAvJoFc/WcJQuX65Yj+ANyyvEHdgP37dmrr/emE/2dkr+FCyYT/6lnQ1KaBgP0iV5OkLll8/EFsw6nAqYj+hgankFz5hP13votGsPE8/FogAN6AHYz/iwGIow9VfP+4yq0+DI1c/+ARJSESUUD8=",
           "dtype": "f8"
          },
          "color": "#FFA15A",
          "thickness": 1.5,
          "type": "data",
          "width": 0
         },
         "marker": {
          "color": "#FFA15A",
          "size": 0,
          "symbol": "cross-thin"
         },
         "mode": "markers",
         "name": "obs of na",
         "showlegend": false,
         "type": "scatter",
         "x": {
          "bdata": "AAAAwO3+IEAAAABAGqkiQAAAAED7eyRAAAAAQHR6JkAAAAAAwH0oQAAAAMC1iSpAAAAAACeiLEAAAABAu8kuQAAAAEAlgDBAAAAAQJe6MUAAAAAA7hMzQAAAAEABczRAAAAAQPjWNUAAAADA/D83QAAAAACSrjhAAAAAwFo+OkAAAAAg9PA7QAAAAED9rD1AAAAAIDtzP0AAAAAgS8lAQAAAAACOyEFAAAAA4CqPQkAAAACAEVpDQAAAACAQKkRAAAAAIP4KRUAAAADgG/1FQAAAAECF9EZAAAAAQOHwR0AAAAAg6f5IQAAAAACsHkpAAAAAABdDS0AAAACgs2tMQAAAAGDapU1AAAAAwFfxTkAAAADACyBQQAAAAADTz1BAAAAAQMSHUUAAAABAhEBSQAAAAEDRAFNAAAAA4EHIU0AAAAAARY9UQAAAAOCkXFVAAAAAgFQwVkAAAABAUgNXQAAAAEC43FdAAAAAAJu8WEAAAABAE5xZQAAAAMA5glpAAAAAAC9vW0AAAADAF2NcQAAAAAAgXl1AAAAAQH1gXkAAAABAW2pfQAAAAKDrPWBAAAAAgHzKYEAAAAAAYFdhQAAAAMAf6GFAAAAA4L58YkAAAACARRVjQAAAAMBHtWNAAAAAgD9ZZEAAAADANAFlQAAAAEArrWVAAAAAYCtdZkAAAAAAORFnQAAAAEBcyWdAAAAAQDqJaEAAAACgPE1pQAAAAABsFWpAAAAAwHTlakAAAABAublrQAAAAEBCkmxAAAAAwMNybUAAAAAATFtuQAAAAIAySG9AAAAA4L8ccEAAAACAeZlwQAAAAMBMGnFAAAAAQGCdcUAAAADgtyJyQAAAAGA4rHJAAAAAoOg5c0AAAABAz8tzQAAAAADzYXRAAAAAQFr8dEAAAACAC5t1QAAAAAANPnZAAAAAwGTldkAAAADAGJF3QAAAAIAuQXhAAAAAgKv1eEAAAADAlK55QAAAAIDkbXpAAAAAAKIze0AAAABA3/17QAAAAMCfzHxAAAAAAOeffUAAAADAs3l+QAAAAAClzX9AAAAAoDmVgEAAAABARA6BQAAAAICcioFAAAAAAEMKgkAAAABgOY2CQAAAAMB+E4NAAAAAgBOdg0AAAADg+SqEQAAAAECSpIVAAAAAAN8nh0AAAABAb8yHQAAAACA1y4hAAAAAwIGJikA=",
          "dtype": "f8"
         },
         "xaxis": "x",
         "y": {
          "bdata": "Kncr0e+C0z+L4LkmRU3PP3gUE4rIBcQ/HWA7AQYEvj/fsLlahR/DPzTd99GcBbc/cxTN3aV/wz+KHmfhmHfCP6xDm8mUurc/qdYFkFRYwT+RY4nqYdG9P7dTrYbBS70/QYEdNNn9sj+3vS6KIjm3P+Lf0Xtyrbo/MlX14WLauj880b+1leW3P6xWzexz67Y/82mHz36Nuj8mihDCKmyuP16fpVaLz7s/z9anZ+krtj8aJCulC0K3P2UFNvA9pro/29FvM6M2sT/kGBjEMpmyP1VRqJt1nrc/AajX0hiRsz+gs4jGJXyxP/LAyHU3F7A/SyVjD2f1rj+N0WEYwHitP0VGttkBlK8/vgDRaZqYsj/s7IA9wSKuP2lGtpbuGa0/0d7vcu4+rj9crl1BRDSpP3WI2rIn/as/K3ZYDqcLqT/IlM6Q2SqrP3pu4SBfS6w/O/9C11S7pz9xEbtfLVysP3kSR6hXhqo//HYWHJ6IpT9RVO6kBJKnP5RIrC7kv6U/rSJhg9cLpT+Vo/dDEjalP1Ky433h3qM/8hBpHSs3oz+o2B/ZlmWlP/Y9wm7eM6U/gP0XPZB+pT9ymS5R/pOkP6yfcrHzCKE/TFu4PYM0mz/uvz0rxi2aP+NU0CqtxZw/gnYU3gLtnj+0VHBIha6eP3RBiFIh4po/SuEBaVeDnj/YLYNOvy2ZPwVFtujJCZU/F6NARci5mD/aOY3GetyXP0gW89MgNpg/bE8QFiosmT/PcACyylSUP8RJIlMe048/Is/aP74pjz8yJPfkaoeSP2abkdK6oY4/tV+PzlyukD+sPEDQxeyVPwvMEkYnDJE/686YKuKBjT9s7Elk6NKNP6f2lu9BvI4/GQBz7VF7hz/Yi9eplauKPyc61yabgo4/hDAQ4Nwfhz9qSdfl/J2BP9anA29xDYk/qWq7E+zDeT9P5nnSSV2AP8bOgmoDdYc/cYfk/nnqeT/NYrxMzPR7P06oBQDvZIE/VrXWRFodhz8qfxw8jB6EP+d5heCFpng/sEfEZ2U4fj+9RDDdp8R1P0OcrJc8Dms/8CfvVYBOez9Xyk/yMARyPxJ5GJUqW3k/T1uwLVcjeT/csRC3hPxzP5rZR1koD3E/CJDL+5pFfD+OmtmnbJJzP6/++1G7DWo/LNWFkvOJfD844idJCihvP6D1YAcSeXE/e7xMHiXxYD8=",
          "dtype": "f8"
         },
         "yaxis": "y"
        },
        {
         "line": {
          "color": "#FFA15A",
          "width": 2
         },
         "mode": "lines",
         "name": "na",
         "showlegend": true,
         "type": "scatter",
         "x": {
          "bdata": "AAAAwO3+IEAAAABAGqkiQAAAAED7eyRAAAAAQHR6JkAAAAAAwH0oQAAAAMC1iSpAAAAAACeiLEAAAABAu8kuQAAAAEAlgDBAAAAAQJe6MUAAAAAA7hMzQAAAAEABczRAAAAAQPjWNUAAAADA/D83QAAAAACSrjhAAAAAwFo+OkAAAAAg9PA7QAAAAED9rD1AAAAAIDtzP0AAAAAgS8lAQAAAAACOyEFAAAAA4CqPQkAAAACAEVpDQAAAACAQKkRAAAAAIP4KRUAAAADgG/1FQAAAAECF9EZAAAAAQOHwR0AAAAAg6f5IQAAAAACsHkpAAAAAABdDS0AAAACgs2tMQAAAAGDapU1AAAAAwFfxTkAAAADACyBQQAAAAADTz1BAAAAAQMSHUUAAAABAhEBSQAAAAEDRAFNAAAAA4EHIU0AAAAAARY9UQAAAAOCkXFVAAAAAgFQwVkAAAABAUgNXQAAAAEC43FdAAAAAAJu8WEAAAABAE5xZQAAAAMA5glpAAAAAAC9vW0AAAADAF2NcQAAAAAAgXl1AAAAAQH1gXkAAAABAW2pfQAAAAKDrPWBAAAAAgHzKYEAAAAAAYFdhQAAAAMAf6GFAAAAA4L58YkAAAACARRVjQAAAAMBHtWNAAAAAgD9ZZEAAAADANAFlQAAAAEArrWVAAAAAYCtdZkAAAAAAORFnQAAAAEBcyWdAAAAAQDqJaEAAAACgPE1pQAAAAABsFWpAAAAAwHTlakAAAABAublrQAAAAEBCkmxAAAAAwMNybUAAAAAATFtuQAAAAIAySG9AAAAA4L8ccEAAAACAeZlwQAAAAMBMGnFAAAAAQGCdcUAAAADgtyJyQAAAAGA4rHJAAAAAoOg5c0AAAABAz8tzQAAAAADzYXRAAAAAQFr8dEAAAACAC5t1QAAAAAANPnZAAAAAwGTldkAAAADAGJF3QAAAAIAuQXhAAAAAgKv1eEAAAADAlK55QAAAAIDkbXpAAAAAAKIze0AAAABA3/17QAAAAMCfzHxAAAAAAOeffUAAAADAs3l+QAAAAAClzX9AAAAAoDmVgEAAAABARA6BQAAAAICcioFAAAAAAEMKgkAAAABgOY2CQAAAAMB+E4NAAAAAgBOdg0AAAADg+SqEQAAAAECSpIVAAAAAAN8nh0AAAABAb8yHQAAAACA1y4hAAAAAwIGJikA=",
          "dtype": "f8"
         },
         "xaxis": "x",
         "y": {
          "bdata": "AAAA4PdZyD8AAAAgrCjHPwAAACDaBcY/AAAAgDTxxD8AAABA1PzDPwAAAOBKIcM/AAAA4DtZwj8AAABAEKHBPwAAAGDX9sA/AAAAALVMwD8AAAAg20m/PwAAAODyFr4/AAAAwGD9vD8AAADAo/m7PwAAAECoCLs/AAAAwEgYuj8AAABgxSm5PwAAAMAdS7g/AAAAIEd6tz8AAAAAEJa2PwAAAEAV0rU/AAAAYF9EtT8AAACgQry0PwAAAGDqOLQ/AAAAQEizsz8AAADAOCyzPwAAAGCoqrI/AAAAIGousj8AAADAbrGxPwAAACBjNLE/AAAAoA29sD8AAACALEuwPwAAAOBNs68/AAAAoPzRrj8AAABA2futPwAAACAHKK0/AAAA4E9XrD8AAABguJGrPwAAACCmz6o/AAAAQLERqj8AAABgkl6pPwAAAGCnr6g/AAAAYPkEqD8AAADAt2OnPwAAAEAGxqY/AAAAANgrpj8AAACgk5mlPwAAAKBACqU/AAAAANN9pD8AAADgO/SjPwAAAABqbaM/AAAAwEfpoj8AAADgxmeiPwAAAODf6KE/AAAAIJVsoT8AAADAyvWgPwAAAGBUgaA/AAAAwDMPoD8AAADAyz6fPwAAAID0Xp4/AAAAwCSEnT8AAACgSK6cPwAAAABR3Zs/AAAAYCgRmz8AAADgvUmaPwAAAOD6hpk/AAAAwDjFmD8AAABgRQiYPwAAAIAEUJc/AAAAoDqZlj8AAADANueVPwAAAADZOZU/AAAAYEWOlD8AAACAuuSTPwAAAMD1P5M/AAAAwNKfkj8AAABA4wGSPwAAAMBUZpE/AAAAoGrPkD8AAAAgAD2QPwAAAOAKWo8/AAAAwDQ/jj8AAAAgtimNPwAAAGC/GYw/AAAAIHoPiz8AAABgCguKPwAAAGCNDIk/AAAAoBsUiD8AAAAgyCGHPwAAACCiNYY/AAAAALNPhT8AAABgAXCEPwAAAGBflIM/AAAAQCC9gj8AAAAAhOyBPwAAAIB9IoE/AAAAQPxegD8AAABAe0B/PwAAACBiFX0/AAAAQEwKez8AAABgbLh5PwAAAEAUcXg/AAAAIGY0dz8AAACAdgJ2PwAAAOBS23Q/AAAAIPy+cz8AAADAg6tyPwAAACAIHXA/AAAAoCnHaz8AAABAvxhqPwAAACCstWc/AAAAAPEUZD8=",
          "dtype": "f8"
         },
         "yaxis": "y"
        },
        {
         "marker": {
          "color": "#FFA15A",
          "line": {
           "color": "#FFA15A",
           "width": 1.5
          },
          "size": 10,
          "symbol": "cross-thin"
         },
         "mode": "markers",
         "name": "res of na",
         "showlegend": false,
         "type": "scatter",
         "x": {
          "bdata": "AAAAwO3+IEAAAABAGqkiQAAAAED7eyRAAAAAQHR6JkAAAAAAwH0oQAAAAMC1iSpAAAAAACeiLEAAAABAu8kuQAAAAEAlgDBAAAAAQJe6MUAAAAAA7hMzQAAAAEABczRAAAAAQPjWNUAAAADA/D83QAAAAACSrjhAAAAAwFo+OkAAAAAg9PA7QAAAAED9rD1AAAAAIDtzP0AAAAAgS8lAQAAAAACOyEFAAAAA4CqPQkAAAACAEVpDQAAAACAQKkRAAAAAIP4KRUAAAADgG/1FQAAAAECF9EZAAAAAQOHwR0AAAAAg6f5IQAAAAACsHkpAAAAAABdDS0AAAACgs2tMQAAAAGDapU1AAAAAwFfxTkAAAADACyBQQAAAAADTz1BAAAAAQMSHUUAAAABAhEBSQAAAAEDRAFNAAAAA4EHIU0AAAAAARY9UQAAAAOCkXFVAAAAAgFQwVkAAAABAUgNXQAAAAEC43FdAAAAAAJu8WEAAAABAE5xZQAAAAMA5glpAAAAAAC9vW0AAAADAF2NcQAAAAAAgXl1AAAAAQH1gXkAAAABAW2pfQAAAAKDrPWBAAAAAgHzKYEAAAAAAYFdhQAAAAMAf6GFAAAAA4L58YkAAAACARRVjQAAAAMBHtWNAAAAAgD9ZZEAAAADANAFlQAAAAEArrWVAAAAAYCtdZkAAAAAAORFnQAAAAEBcyWdAAAAAQDqJaEAAAACgPE1pQAAAAABsFWpAAAAAwHTlakAAAABAublrQAAAAEBCkmxAAAAAwMNybUAAAAAATFtuQAAAAIAySG9AAAAA4L8ccEAAAACAeZlwQAAAAMBMGnFAAAAAQGCdcUAAAADgtyJyQAAAAGA4rHJAAAAAoOg5c0AAAABAz8tzQAAAAADzYXRAAAAAQFr8dEAAAACAC5t1QAAAAAANPnZAAAAAwGTldkAAAADAGJF3QAAAAIAuQXhAAAAAgKv1eEAAAADAlK55QAAAAIDkbXpAAAAAAKIze0AAAABA3/17QAAAAMCfzHxAAAAAAOeffUAAAADAs3l+QAAAAAClzX9AAAAAoDmVgEAAAABARA6BQAAAAICcioFAAAAAAEMKgkAAAABgOY2CQAAAAMB+E4NAAAAAgBOdg0AAAADg+SqEQAAAAECSpIVAAAAAAN8nh0AAAABAb8yHQAAAACA1y4hAAAAAwIGJikA=",
          "dtype": "f8"
         },
         "xaxis": "x2",
         "y": {
          "bdata": "/BdK5wjq9D9IWVIWu6LsP7P5V+SAlNO/SLkMQFRs8b8XuDqLtE/GvzHSZn22VP+/zzCL0j/80j8j2Ut1Y8LOP/qQU/tdufu/lbjgSabu2D8is8/oECfTvxdMtajx48W/L3LJz4CGA8A0otCtZXbyv1OI9unG/rW/yloNlX+XyT+tSrR3oTzWv+jMvkPHVdi/29y0Itx66j9wAUux//EGwD7Ih0dtz/Y/0Z+Fpixbzj8r5h1TeUzmP6Cp1JooJ/w/Jg9Abtop6r+EPuQegN3Jv+f6cdQEtPo/7UwQAT4j4D+IVAeFeTO1vwjqDncf5N2/ImaUjVJ74b90FoYDD8bmv3RQl5rsTZ6/oqB1RkqU9z8832dOYVyjP6WMmrlHtY2/Ctl+KfyI4D/dDfxgVGHnv8KjCDZj19c/oUkRZXv61b9qc1ka6yfjPw1sLauk4fM/0funzeMnu79T0dApkgP8PwsnKvHstfY/vzJxn6bN0L/ausVG4lHpPzP5onMVptM/Spa8Jsxpzz9938GJB33iP8wCZojb/Mo/A3BGTx9Wwz+sdXNuDwr3P+BQpd81e/o/qsar4GhUAEAHZOe24Gr9P15PePWGINM/EWY+v1wA+L++vehpULH5vwEqmXGcFOC/UaIgNcFc2z80iU8s7+vjPwubE4lcNNS/2zuJGPb68D8DBjfiSsHWv6Rwx5njy/i/rvxbJIqkjr8GhWxMleStvzEyOo8i7NM/INU/S1rf6z8n6IYqtAXivwDXTt7mgwDAJO4nkY0j/7+v0nNiji3gv78hbE/sO/i/DocXysxS579FQPZKvVz1P7pcGMpvq8C/29FShV/v6L8dt0z6vx7gv62CIVDRrb2/yFsdVYpg9r9OpiLaMeXfvz5yquUlR90/hPCgY+Qb6r/Z5I8zJ+79v4rcdf5onkY/Bx5FJj3jBcDo05oPSJj3v1orG23WMc8/mSfNNP3r/7/UX3tBIsj3v+5+Up0M2t2/a7ec3FTb6j+XrghYX4fcPxAtYHyIIPG/4MkJ3ufF0L+/5x+8b5/wv3oEYlxEEQXAoUqz/L4jnT/6hWH5FfLtv+5w36VgyLo/MhDzvN/3yz9Kj3utQyfPv68WdLk8x96/PpiJ4ZoJ7j9Q6zJzoci6P2SiZPS6S+m/LXCVg4ai+D/AYxZbBljUPzOOQIgZFO8/CmW6ibw92L8=",
          "dtype": "f8"
         },
         "yaxis": "y2"
        },
        {
         "error_x": {
          "array": {
           "bdata": "AAAAgCPs/T8AAACAm/7wPwAAAACZDvs/AAAAAEqN5T8AAAAAVorlPwAAAADKiOU/AAAAAFDF5T8AAAAAaqP2PwAAAAAajOs/AAAAAHI+7T8AAAAA0FLvPwAAAAADvPA/AAAAAJCU5z8AAAAAgLnoPwAAAADEcOk/AAAAAHge6j8AAAAAmMLqPwAAAACscO4/AAAAAGQi7z8AAAAAAMfvPwAAAABCL/A/AAAAAD4d8j8AAAAAPmjyPwAAAACCqvI/AAAAAA7k8j8AAAAAENP0PwAAAADUAfU/AAAAAEQl9T8AAAAAOAP3PwAAAAAcEfc/AAAAAJQQ9z8AAAAArMX4PwAAAABgovg/AAAAAAxv+D8AAAAAsPP5PwAAAAAgvvk/AAAAAFSP+T8AAAAAnBf7PwAAAABM8vo/AAAAADjV+j8AAAAA4Gv8PwAAAAAwXvw/AAAAAHAF/j8AAAAA4Az+PwAAAAAQzf8/AAAAALDp/z8AAAAAbNsAQAAAAABM6wBAAAAAABD7AEAAAAAAROUBQAAAAABg9gFAAAAAAJTjAkAAAAAAKNMDQAAAAAA45wNAAAAAAOzZBEAAAAAAZO8EQAAAAABM5QVAAAAAACT8BUAAAAAARPUGQAAAAAD08AdAAAAAAMwKCEAAAAAAxAkJQAAAAABcCwpAAAAAACwoCkAAAAAAEC0LQAAAAACQNAxAAAAAAMg+DUAAAAAAHGANQAAAAACQbQ5AAAAAAKB9D0AAAAAANEgQQAAAAAD8WhBAAAAAAOTlEEAAAAAAHHIRQAAAAACY/xFAAAAAAFCOEkAAAAAAUB4TQAAAAACErxNAAAAAAORBFEAAAAAAdNUUQAAAAAAcahVAAAAAAOD/FUAAAAAApJYWQAAAAABsLhdAAAAAABzHF0AAAAAATOAYQAAAAADEexlAAAAAAOgXGkAAAAAAXAMrQAAAAAAYchxAAAAAADgRHUAAAAAAkLAdQAAAAADI0x5AAAAAABh0H0AAAAAAdEwgQAAAAAAs5jBAAAAAAALJMUAAAAAADKUiQAAAAABaSD1AAAAAAEKvP0AAAAAAf/ZMQA==",
           "dtype": "f8"
          },
          "arrayminus": {
           "bdata": "AAAAgCPs/T8AAACAm/7wPwAAAACZDvs/AAAAAEqN5T8AAAAAVorlPwAAAADKiOU/AAAAAFDF5T8AAAAAaqP2PwAAAAAajOs/AAAAAHI+7T8AAAAA0FLvPwAAAAADvPA/AAAAAJCU5z8AAAAAgLnoPwAAAADEcOk/AAAAAHge6j8AAAAAmMLqPwAAAACscO4/AAAAAGQi7z8AAAAAAMfvPwAAAABCL/A/AAAAAD4d8j8AAAAAPmjyPwAAAACCqvI/AAAAAA7k8j8AAAAAENP0PwAAAADUAfU/AAAAAEQl9T8AAAAAOAP3PwAAAAAcEfc/AAAAAJQQ9z8AAAAArMX4PwAAAABgovg/AAAAAAxv+D8AAAAAsPP5PwAAAAAgvvk/AAAAAFSP+T8AAAAAnBf7PwAAAABM8vo/AAAAADjV+j8AAAAA4Gv8PwAAAAAwXvw/AAAAAHAF/j8AAAAA4Az+PwAAAAAQzf8/AAAAALDp/z8AAAAAbNsAQAAAAABM6wBAAAAAABD7AEAAAAAAROUBQAAAAABg9gFAAAAAAJTjAkAAAAAAKNMDQAAAAAA45wNAAAAAAOzZBEAAAAAAZO8EQAAAAABM5QVAAAAAACT8BUAAAAAARPUGQAAAAAD08AdAAAAAAMwKCEAAAAAAxAkJQAAAAABcCwpAAAAAACwoCkAAAAAAEC0LQAAAAACQNAxAAAAAAMg+DUAAAAAAHGANQAAAAACQbQ5AAAAAAKB9D0AAAAAANEgQQAAAAAD8WhBAAAAAAOTlEEAAAAAAHHIRQAAAAACY/xFAAAAAAFCOEkAAAAAAUB4TQAAAAACErxNAAAAAAORBFEAAAAAAdNUUQAAAAAAcahVAAAAAAOD/FUAAAAAApJYWQAAAAABsLhdAAAAAABzHF0AAAAAATOAYQAAAAADEexlAAAAAAOgXGkAAAAAAXAMrQAAAAAAYchxAAAAAADgRHUAAAAAAkLAdQAAAAADI0x5AAAAAABh0H0AAAAAAdEwgQAAAAAAs5jBAAAAAAALJMUAAAAAADKUiQAAAAABaSD1AAAAAAEKvP0AAAAAAf/ZMQA==",
           "dtype": "f8"
          },
          "color": "#19D3F3",
          "symmetric": false,
          "thickness": 1.5,
          "type": "data",
          "width": 0
         },
         "error_y": {
          "array": {
           "bdata": "fTzDO9R7qT/azmuLGa2oP/KxAH/U1Zw/WLbvGpS3oz9L2Cf3USyhP0Y5+boAfaA/5MRkPagNoD+UqguETtuRP6nOUehBApY/h/LmqXaTlT/lqsg3sxmUP+9K9PpZAJM/R8kGy5kMmT8SSuvAJTCYP9qdFzPrUpQ/iyXFy2z4kz/8JR4/NGCSP8a6YTq2OY8/lxyJWlAFjj9FTxMN8NePP5mPx5ca8Is/bmCxHfeEiD/CB7W+oRWJP520b2Cd94Y/AO8G4krdhj85xg2XQSiCPx96H0wY4oM/6PmioyFWgz+4AMw+KHOCP4xKOwvrcIA/OWbP+6ENfj/bIB8uCWd9P1qDKIXcj3o/z/Rbaet5ez/O0zuJ5CN7P2/jfD5Cx3g/iOw96FEkej/pu3RkCWh3Py8erCT2JHc/8CkkoTdqdz/VPICTlF52P5VF3QA7k3U/l8QM0wMfdD/AiLD/QNV1P7bcx2G2uHQ/w5+ZbaC3cz/2wLeQx09xP44dqH9tPXE/jOnuWTYBcj/XgNzqqvJxP2MheAMZ1HA/6T4naMpwcT96tgtlniVuP0VcVIFDmWw/YacnL87yaz8TW18kykFsP1zkeT11a20/nWuIgXJFaz/NDMFCKshpP6hP5KGxzWo/zDndkhmgaj/wZTCkvqxpPxBbfTuBV2k/LE9g3hE/Zj/PYwhal1FoP4HtTBdiGmg/EvDNBZxdZz/5LUD1V/JnP5pGgQ9WFGc/SX1SxLQuaD9FX5YuuJ1nP0C17vJ8+Wg/GOBwaltaZj+wXcZ+sDxmP8+f8lXsJWU/jYN3xANLZz9U+QoZWaBnP1k9hz7dJmY/rJbx5LXRYj+pV/MLk69kPzeFZuAAiWM/RHc5Z/fUZT8d9avtfjVjP4F4Lx/I12M/zaDd19M6Zz/mzS9c7LtjP8BWLkOKX2U/JG2VzfviZD8a1XegTohbP1Rlir1zZ2k/Lt4XcfOyaD/N1plzYoZlP27Mwwdo1WM/H/NpKGKrYT8f1l/dtcVhP5L43EpyP1g//jS1Rqc1Vj9mSFsFeu9lP0+SzQHSAFI/PxnzJGGmUT9FXY2+4XtNPw==",
           "dtype": "f8"
          },
          "color": "#19D3F3",
          "thickness": 1.5,
          "type": "data",
          "width": 0
         },
         "marker": {
          "color": "#19D3F3",
          "size": 0,
          "symbol": "cross-thin"
         },
         "mode": "markers",
         "name": "obs of nb",
         "showlegend": false,
         "type": "scatter",
         "x": {
          "bdata": "AAAAgC0/JUAAAABAhRwrQAAAAAAWTzBAAAAAwGmsMkAAAADAJgU0QAAAAMC/XTVAAAAAoDC4NkAAAADAkdA4QAAAAEApFztAAAAAgH3dPEAAAACgB8I+QAAAACAvZEBAAAAAgGFIQUAAAADAmQlCQAAAAMBC0kJAAAAAwH+gQ0AAAAAABHREQAAAAADRWEVAAAAAQB1PRkAAAADgwkpHQAAAAABZS0hAAAAAAL1dSUAAAADA6IFKQAAAAMB+qktAAAAAQPPWTEAAAABArBROQAAAAGBTY09AAAAAAEZaUEAAAAAA6ApRQAAAAEA5w1FAAAAAAMB7UkAAAAAAGTtTQAAAAEC5AFRAAAAAAP/EVEAAAADgiY5VQAAAACBRXVZAAAAAAIcqV0AAAADAIv1XQAAAAEBK1VhAAAAAYGisWUAAAADAbIlaQAAAAACVbFtAAAAAgCNWXEAAAADAbEZdQAAAAIDUPV5AAAAAgK88X0AAAADAmCFgQAAAAMCzqGBAAAAAIE0wYUAAAACAzrthQAAAAAA9S2JAAAAAwKTeYkAAAADAf3ljQAAAAEBpGGRAAAAAwG27ZEAAAAAAk2JlQAAAAMDlDWZAAAAAgGu9ZkAAAABAMXFnQAAAAADKLGhAAAAAALnsaEAAAABAC7FpQAAAAMBffWpAAAAAAC5Oa0AAAADggiNsQAAAAGAJAW1AAAAAwNbmbUAAAABAUtFuQAAAAACJwG9AAAAA4BpccEAAAAAAN9xwQAAAAMDDXnFAAAAAQMfjcUAAAABAJ21yQAAAAADu+nJAAAAAoCWNc0AAAAAg2CN0QAAAAIAPv3RAAAAAANVedUAAAACAMgN2QAAAAMAwrHZAAAAAoNhZd0AAAADAMgx4QAAAAABHw3hAAAAAAB1/eUAAAADAukF6QAAAAAArC3tAAAAAoHnZe0AAAAAg9Bl9QAAAAGDXY35AAAAAoORJf0AAAADgdRqAQAAAAIB+k4BAAAAAQA4QgUAAAABAKJCBQAAAAICLWIJAAAAAAAVug0AAAABA4UaEQAAAAEC4e4VAAAAAAHVjh0AAAAAAVzCKQA==",
          "dtype": "f8"
         },
         "xaxis": "x",
         "y": {
          "bdata": "7Q1OjGovuz89s4E9vWe7Py5EImQg+LE/d7M5kc7vwj9oGlJUXhm7P2XYYBakXr0/YPlbmc3vwj/JeDMtyBulPxH6sd+I4bE/AmFnrW1QuD81Zzf5mqe5Pwg6bVkbEbc/E76qVRgivD8u1I0AHw68P2I+q1sFd7I/hTnx28oOtz+2qRKbKBCzP400KfgXbqw/Oj2PzTgOrz+YQ+mTv+O5P4jPMyMz3rE/bKmkIXytqz9HuiFe1AazP0HmpvQL0a4/3vwWm/GQsj+kUsODNBulP1eYe0VwXLA/RKuer+prsD9RkiWbO72wP5/OWkv1MKs/nGov+PsCpz/AP0FuI3StP9azM1dsLqY/Zpa7kYtPqj8yRIQprvWsP0zf0zYwvaU/gzmAz9Joqz8oinFROISmP/G71ftTuqY/g7IDU5jfqD+muW5MW1aoPyr6CZ6uV6Y/lJpbivzwoz+uwqosu5WqPzNzP6R+Gak/ZUQ4VUOQpj8Dtxfmi5mgP1uo4sgn/qA/IzKVprh1oz9jWrIoyXOlPyeycjCitqE/h9Xh3k1EpT+qkLBuCAGeP0z1NEUIlpk//b7ZxZN+mT8B15DpvCSaP7IEwhBabJ4/AlmokcDJlj/By/cLz5KTP03bVgo8aJc/kTaCNhBYlz+f/M4cfOuVP79vs2XKJZY/UWfq3fIJjD/leosYkKSSP5tnQ+I+QZI/WgL0r2CrkD+QAlD3OB6RP/p/AU/OVY8/TbP9u5ZLkj9m/I6sz5SQP73sf1Q1+ZI/nsyfXKHliT/Ft80h7juJP9kqzNhenoU/0uKmJEOojj/FOdjpSR2QP56Sphk39Yk/k2CyA9czgD/6X3YngNGEP2fAQoSSBoE/4gRMFV+QiD9BAWcX8nJ/P/upv+CBEoA/4dqWEbFSij/DqZOjlh9/P7mRN42EgYU/voAL+kxxgT+HL0bKRZ95P7D1IHxcfIw/GMT74JG6iD/ORXD+tJN6P8EM2bKgXnY/1rLmSULFbj9oe3vRnrdwP2ygfDo14XE/5t9giYdmZT9vhNRUACSEP2NfZh6DtGM/9M43vSFbYj+aYhQcWLhmPw==",
          "dtype": "f8"
         },
         "yaxis": "y"
        },
        {
         "line": {
          "color": "#19D3F3",
          "width": 2
         },
         "mode": "lines",
         "name": "nb",
         "showlegend": true,
         "type": "scatter",
         "x": {
          "bdata": "AAAAgC0/JUAAAABAhRwrQAAAAAAWTzBAAAAAwGmsMkAAAADAJgU0QAAAAMC/XTVAAAAAoDC4NkAAAADAkdA4QAAAAEApFztAAAAAgH3dPEAAAACgB8I+QAAAACAvZEBAAAAAgGFIQUAAAADAmQlCQAAAAMBC0kJAAAAAwH+gQ0AAAAAABHREQAAAAADRWEVAAAAAQB1PRkAAAADgwkpHQAAAAABZS0hAAAAAAL1dSUAAAADA6IFKQAAAAMB+qktAAAAAQPPWTEAAAABArBROQAAAAGBTY09AAAAAAEZaUEAAAAAA6ApRQAAAAEA5w1FAAAAAAMB7UkAAAAAAGTtTQAAAAEC5AFRAAAAAAP/EVEAAAADgiY5VQAAAACBRXVZAAAAAAIcqV0AAAADAIv1XQAAAAEBK1VhAAAAAYGisWUAAAADAbIlaQAAAAACVbFtAAAAAgCNWXEAAAADAbEZdQAAAAIDUPV5AAAAAgK88X0AAAADAmCFgQAAAAMCzqGBAAAAAIE0wYUAAAACAzrthQAAAAAA9S2JAAAAAwKTeYkAAAADAf3ljQAAAAEBpGGRAAAAAwG27ZEAAAAAAk2JlQAAAAMDlDWZAAAAAgGu9ZkAAAABAMXFnQAAAAADKLGhAAAAAALnsaEAAAABAC7FpQAAAAMBffWpAAAAAAC5Oa0AAAADggiNsQAAAAGAJAW1AAAAAwNbmbUAAAABAUtFuQAAAAACJwG9AAAAA4BpccEAAAAAAN9xwQAAAAMDDXnFAAAAAQMfjcUAAAABAJ21yQAAAAADu+nJAAAAAoCWNc0AAAAAg2CN0QAAAAIAPv3RAAAAAANVedUAAAACAMgN2QAAAAMAwrHZAAAAAoNhZd0AAAADAMgx4QAAAAABHw3hAAAAAAB1/eUAAAADAukF6QAAAAAArC3tAAAAAoHnZe0AAAAAg9Bl9QAAAAGDXY35AAAAAoORJf0AAAADgdRqAQAAAAIB+k4BAAAAAQA4QgUAAAABAKJCBQAAAAICLWIJAAAAAAAVug0AAAABA4UaEQAAAAEC4e4VAAAAAAHVjh0AAAAAAVzCKQA==",
          "dtype": "f8"
         },
         "xaxis": "x",
         "y": {
          "bdata": "AAAAgH2XxT8AAAAgQujCPwAAAIAWE8E/AAAAAKmqvz8AAADgoHO+PwAAAGA3Wr0/AAAAQItYvD8AAAAgWvO6PwAAAACNnrk/AAAAoLewuD8AAACApMm3PwAAACB36LY/AAAAYGwytj8AAACgsaK1PwAAAKBwFrU/AAAA4OWOtD8AAAAADwy0PwAAAADshrM/AAAAAGAAsz8AAACgV3+yPwAAAMCqA7I/AAAAIFeHsT8AAABgDguxPwAAACCSlLA/AAAAoKIjsD8AAABgbGavPwAAAEChh64/AAAAgEO0rT8AAAAAnOOsPwAAAKB2Fqw/AAAA4LtUqz8AAABg/5aqPwAAAADb3ak/AAAAYOAvqT8AAAAglIaoPwAAAGDg4ac/AAAAoKpGpz8AAACgM6+mPwAAACBTG6Y/AAAAICuPpT8AAAAg4gWlPwAAAEBUf6Q/AAAAoF/7oz8AAAAg3XmjPwAAAICi+qI/AAAAIJR9oj8AAADgqAKiPwAAAIDpiaE/AAAAwC4WoT8AAAAgaaSgPwAAAIChNKA/AAAA4LGNnz8AAADAWbGePwAAAKBw2Z0/AAAAwOoFnT8AAAAAxTacPwAAAEDxa5s/AAAAoGmlmj8AAACAHuOZPwAAAOBxIZk/AAAA4DZkmD8AAABAWKuXPwAAAOCc85Y/AAAAwF5Alj8AAACAg5GVPwAAAAAv5JQ/AAAAIKM4lD8AAADAq5GTPwAAAEAp75I/AAAAQKpOkj8AAABAX7CRPwAAAGCcFpE/AAAAAECBkD8AAAAAatyPPwAAAKA+u44/AAAAYD6fjT8AAABAooiMPwAAAECbd4s/AAAAYFZsij8AAAAg+GaJPwAAAOCgZ4g/AAAAIGtuhz8AAACAbHuGPwAAAMC1joU/AAAA4FOohD8AAAAADcaDPwAAAIA96II/AAAAADwRgj8AAADAsNmAPwAAAIDTZX8/AAAAwPLmfT8AAAAg0nV8PwAAAABGD3s/AAAAIJOzeT8AAABg7GJ4PwAAAABOe3Y/AAAA4EIedD8AAACgW3dyPwAAAADFXnA/AAAAQOQnaz8AAAAgYMFkPw==",
          "dtype": "f8"
         },
         "yaxis": "y"
        },
        {
         "marker": {
          "color": "#19D3F3",
          "line": {
           "color": "#19D3F3",
           "width": 1.5
          },
          "size": 10,
          "symbol": "cross-thin"
         },
         "mode": "markers",
         "name": "res of nb",
         "showlegend": false,
         "type": "scatter",
         "x": {
          "bdata": "AAAAgC0/JUAAAABAhRwrQAAAAAAWTzBAAAAAwGmsMkAAAADAJgU0QAAAAMC/XTVAAAAAoDC4NkAAAADAkdA4QAAAAEApFztAAAAAgH3dPEAAAACgB8I+QAAAACAvZEBAAAAAgGFIQUAAAADAmQlCQAAAAMBC0kJAAAAAwH+gQ0AAAAAABHREQAAAAADRWEVAAAAAQB1PRkAAAADgwkpHQAAAAABZS0hAAAAAAL1dSUAAAADA6IFKQAAAAMB+qktAAAAAQPPWTEAAAABArBROQAAAAGBTY09AAAAAAEZaUEAAAAAA6ApRQAAAAEA5w1FAAAAAAMB7UkAAAAAAGTtTQAAAAEC5AFRAAAAAAP/EVEAAAADgiY5VQAAAACBRXVZAAAAAAIcqV0AAAADAIv1XQAAAAEBK1VhAAAAAYGisWUAAAADAbIlaQAAAAACVbFtAAAAAgCNWXEAAAADAbEZdQAAAAIDUPV5AAAAAgK88X0AAAADAmCFgQAAAAMCzqGBAAAAAIE0wYUAAAACAzrthQAAAAAA9S2JAAAAAwKTeYkAAAADAf3ljQAAAAEBpGGRAAAAAwG27ZEAAAAAAk2JlQAAAAMDlDWZAAAAAgGu9ZkAAAABAMXFnQAAAAADKLGhAAAAAALnsaEAAAABAC7FpQAAAAMBffWpAAAAAAC5Oa0AAAADggiNsQAAAAGAJAW1AAAAAwNbmbUAAAABAUtFuQAAAAACJwG9AAAAA4BpccEAAAAAAN9xwQAAAAMDDXnFAAAAAQMfjcUAAAABAJ21yQAAAAADu+nJAAAAAoCWNc0AAAAAg2CN0QAAAAIAPv3RAAAAAANVedUAAAACAMgN2QAAAAMAwrHZAAAAAoNhZd0AAAADAMgx4QAAAAABHw3hAAAAAAB1/eUAAAADAukF6QAAAAAArC3tAAAAAoHnZe0AAAAAg9Bl9QAAAAGDXY35AAAAAoORJf0AAAADgdRqAQAAAAIB+k4BAAAAAQA4QgUAAAABAKJCBQAAAAICLWIJAAAAAAAVug0AAAABA4UaEQAAAAEC4e4VAAAAAAHVjh0AAAAAAVzCKQA==",
          "dtype": "f8"
         },
         "xaxis": "x2",
         "y": {
          "bdata": "GgDvStEW9L968k6dWv/qvzgr96Wl9AHA189m5Zol5D8ZvTS+C/3Yv9te+ryrLGE/k8Ru5On98j+r81QADWINwJAaYp+lgPa/LV2uZODZsb/lSv0rXsfXPzpQYtRoHKE/shMxGm5V7j/TBi1+ZfzwPyHxiWaZhOC/VeMUgWQF4D+aetVsn2rLv9l7ugtuxvW/uzbzxiOf7b+c/9om07b9PzcQ3msadaW/fIaEYyND8791d/+bFT7kPzIpycfXINq/U698gXAs6z9AxQNnQiQCwCxXyekrOtw/PY4ZIFTH5D+aR3Oh1tbvP8GK9IEi68u/lt/MWIFl8r9kk46qRe/oPz4CA4VTwvG/e1Hhnn/w1D9h3SlwbOn0PxL5nEDTJOa/ppmcwx099D/SO7fWkmGtv8BdOsvxess/SE4eogIe8j9KoAQgCvfyP3Ey17q25OU/Nh6oC+uEkL9iIS8eptYEQIXKCx9d5wJAx7I1Ydxw+j+Zh7AxDNzkv01woP2ONtC/ytc8giPf8D/tSypP7SYBQPX1FWj77+Y/JhGPKnclBEA/vmYw+WTHv1FiFZHYFPO/Icm/MCsp8L94Eu4L7sHiv0uXTCprHuo/oBkIZqob8r/WZcQMiVj/v8Xtxz3/deC/u5L5L3sk1L//PEvbjXHhv+P7b9hhPtC/bQeAdrauB8Aq61XkG8zuvwu6XTCOAOy/1Y+LYgl187+BroknsTPqv6xbG5/wHfK/2OOUUGVIcL+68Ej/ogPYv15W3d/UUuM/2XObAW9d9L8sEcGSnBLzv8Xq+u3ok/u/POSUK1TBxj/VrQpd0QTkP9QaCPRfcdG/2XWJxxJhAcD335z6Ml3sv1Lx8yXRLPi/Ig7LOfSPyj+7EdClz4P2vxN+n0QGsfG/25qetb437z9YwuFq1VHrv+Hr6S9wIN8/Cmd59f2gvr+GLCMWYcfyvzMOLq5cGwBACHk+cgJW+T943mDT3WXGv9AkQ/eXRN6/ahjQRteu8r/EXhINEZ7rv4LholH2Sui/rQCQDZ8j+78Yov2DBdP/P5UMb7BvK/e/rlCEQK/o778N2GJuIA/RPw==",
          "dtype": "f8"
         },
         "yaxis": "y2"
        },
        {
         "error_x": {
          "array": {
           "bdata": "AAAAADg1MUAAAAAA2jExQAAAAADCLjFAAAAAAO8rMUAAAAAAXykxQAAAAAAXJzFAAAAAALDbNkAAAAAAvNg2QAAAAABu1jZAAAAAAMDUNkAAAAAAttM2QAAAAABQ0zZAAAAAAIzTNkAAAAAAbtQ2QAAAAADy1TZAAAAAABjYNkAAAAAA5No2QAAAAACCljxAAAAAABydPEAAAAAA9KQ8QAAAAAAMrjxAAAAAAGS4PEAAAAAA/MM8QAAAAABg10xAAAAAAGRXQUAAAAAAclZRQAAAAAA4S0FAAAAAAOQ8QUAAAAAAbilBQAAAAACRRlxAAAAAAMCPXUAAAAAA0PxlQAAAAMDpI4BAAAAAAMdtc0AAAAAAtdWHQAAAAAAYh49AAAAAgALslUAAAABAQYKgQAAAAAC+9apAAAAAwG1qvEA=",
           "dtype": "f8"
          },
          "arrayminus": {
           "bdata": "AAAAADg1MUAAAAAA2jExQAAAAADCLjFAAAAAAO8rMUAAAAAAXykxQAAAAAAXJzFAAAAAALDbNkAAAAAAvNg2QAAAAABu1jZAAAAAAMDUNkAAAAAAttM2QAAAAABQ0zZAAAAAAIzTNkAAAAAAbtQ2QAAAAADy1TZAAAAAABjYNkAAAAAA5No2QAAAAACCljxAAAAAABydPEAAAAAA9KQ8QAAAAAAMrjxAAAAAAGS4PEAAAAAA/MM8QAAAAABg10xAAAAAAGRXQUAAAAAAclZRQAAAAAA4S0FAAAAAAOQ8QUAAAAAAbilBQAAAAACRRlxAAAAAAMCPXUAAAAAA0PxlQAAAAMDpI4BAAAAAAMdtc0AAAAAAtdWHQAAAAAAYh49AAAAAgALslUAAAABAQYKgQAAAAAC+9apAAAAAwG1qvEA=",
           "dtype": "f8"
          },
          "color": "#FF6692",
          "symmetric": false,
          "thickness": 1.5,
          "type": "data",
          "width": 0
         },
         "error_y": {
          "array": {
           "bdata": "yu6eS+VmRz/MUgCejDpHP29iYZ2dgkY/bVPOmedjRD/P2JolfBZEPxByLrk6tkQ/yZp9VatiQD8a1HcGkAo/P63HYMw0Zzs/mfrK1/PoOj89CDwv9nA6P3qH0NyzHjo/sab4ikLAOT9ynK7MQag5P7KpHZAswDg/BeIDnIE1OD/mirCEUg45P3vQELNIxjU/IofhQ7GHNT+2yMp/MoAzPw1+qjuzyDE/61SZK7IvMT97Hojq9O4xPxakRT9bDyo/1QwQ2h3kMD9pmjMLHo0kPzNxescHnS0/wfeXyPxILj/J4OpFDHUtP36SGXlNvBo/rXrYwqRZGj/7E5rhA4oQPxLgYu6nAfk+6AgBC6G7+T4LLxnmYr/fPtB+4aruf84+uP32cMfPtT4oK9PqHNWMPr8vdUN4DkI+9subt/guaz0=",
           "dtype": "f8"
          },
          "color": "#FF6692",
          "thickness": 1.5,
          "type": "data",
          "width": 0
         },
         "marker": {
          "color": "#FF6692",
          "size": 0,
          "symbol": "cross-thin"
         },
         "mode": "markers",
         "name": "obs of b1",
         "showlegend": false,
         "type": "scatter",
         "x": {
          "bdata": "AAAAoJ2SdEAAAADADrl2QAAAAIAY33hAAAAAgMMEe0AAAACAGCp9QAAAAMAfT39AAAAAIKbngEAAAACASVWCQAAAAMDCwoNAAAAAQBwwhUAAAAAAYJ2GQAAAACCYCohAAAAAAM93iUAAAADADuWKQAAAAMBhUoxAAAAAINK/jUAAAAAAai2PQAAAAKB6ZJBAAAAAAElJkUAAAABAUS6SQAAAAECdE5NAAAAAADf5k0AAAACAKN+UQAAAAIDzOJZAAAAAoGmql0AAAADgi0qZQAAAAMBM6ppAAAAAoI3+m0AAAABAwBGdQAAAAMB0X59AAAAA4Gx+oUAAAADgt8qjQAAAAEB/M6lAAAAAoDKqr0AAAABgrAa0QAAAAABG8rpAAAAAwBQvwkAAAACAJQ3JQAAAAKCS9dFAAAAAwOVu3EA=",
          "dtype": "f8"
         },
         "xaxis": "x",
         "y": {
          "bdata": "SkhZ/SN5jD94G4/Y3GWIP2Yb7u048IY/iyrRFbyYgj8Do56At/OAPxUi5hOjy4A/ypuDEPg+dj96NhCnkYh5P4aY71zaLnI/28BI3HTYcT/ZLerpyDVxPzyCP5SVvm0/L037NV1gaT96c9GVzNRnP8aMjviJp2U/Atks3e0KYz/As2nLonNjP77WbMNukl4/TQKAlLVJXj8x80bIfuNTP/WfmTufyU0/tDjRkU3HRz8M/hrA2z5KP76uOh4wqkE/wjhQmhNRSD8torphkTA4P+nFeyzThj0/8lt9bWl1Rz+XmNKhpsBEPwPerCvHQDA/HANQfjehKT+7/yE6KZYgP6zYdt/ufgc/77sr+ZlHCj+Ct/0w067TPgkeFRjySsG+kdR37wdNpj6Bc+hOTJ9dvutpnwAqtTU++p6CtMPhdj0=",
          "dtype": "f8"
         },
         "yaxis": "y"
        },
        {
         "line": {
          "color": "#FF6692",
          "width": 2
         },
         "mode": "lines",
         "name": "b1",
         "showlegend": true,
         "type": "scatter",
         "x": {
          "bdata": "AAAAoJ2SdEAAAADADrl2QAAAAIAY33hAAAAAgMMEe0AAAACAGCp9QAAAAMAfT39AAAAAIKbngEAAAACASVWCQAAAAMDCwoNAAAAAQBwwhUAAAAAAYJ2GQAAAACCYCohAAAAAAM93iUAAAADADuWKQAAAAMBhUoxAAAAAINK/jUAAAAAAai2PQAAAAKB6ZJBAAAAAAElJkUAAAABAUS6SQAAAAECdE5NAAAAAADf5k0AAAACAKN+UQAAAAIDzOJZAAAAAoGmql0AAAADgi0qZQAAAAMBM6ppAAAAAoI3+m0AAAABAwBGdQAAAAMB0X59AAAAA4Gx+oUAAAADgt8qjQAAAAEB/M6lAAAAAoDKqr0AAAABgrAa0QAAAAABG8rpAAAAAwBQvwkAAAACAJQ3JQAAAAKCS9dFAAAAAwOVu3EA=",
          "dtype": "f8"
         },
         "xaxis": "x",
         "y": {
          "bdata": "AAAAYGXEiz8AAACAt1SIPwAAAIDQa4U/AAAAYBvvgj8AAABgrcqAPwAAAEB/3n0/AAAA4Bciej8AAADg34J2PwAAAMAedHM/AAAAYIrbcD8AAAAgH0ltPwAAAICufWk/AAAAIHw6Zj8AAACgLWpjPwAAAIBA+2A/AAAAwHi+XT8AAABALRRaPwAAACD/hFY/AAAAADMoUz8AAACAC1FQPwAAAAAG00s/AAAAQAa/Rz8AAADgO0hEPwAAAKBpB0A/AAAAoKj7OD8AAACgvOgyPwAAAGA6sSw/AAAAwEPoJz8AAABgC/MjPwAAAACuIhs/AAAAAOLMDT8AAABgKAj8PgAAAEBnetM+AAAAAJ/aoz4AAACgjqBmPgAAAGBVZwM+AAAAoESPfT0AAAAgk6y6PAAAAOCQpIg7AAAA4Dv6Pjk=",
          "dtype": "f8"
         },
         "yaxis": "y"
        },
        {
         "marker": {
          "color": "#FF6692",
          "line": {
           "color": "#FF6692",
           "width": 1.5
          },
          "size": 10,
          "symbol": "cross-thin"
         },
         "mode": "markers",
         "name": "res of b1",
         "showlegend": false,
         "type": "scatter",
         "x": {
          "bdata": "AAAAoJ2SdEAAAADADrl2QAAAAIAY33hAAAAAgMMEe0AAAACAGCp9QAAAAMAfT39AAAAAIKbngEAAAACASVWCQAAAAMDCwoNAAAAAQBwwhUAAAAAAYJ2GQAAAACCYCohAAAAAAM93iUAAAADADuWKQAAAAMBhUoxAAAAAINK/jUAAAAAAai2PQAAAAKB6ZJBAAAAAAElJkUAAAABAUS6SQAAAAECdE5NAAAAAADf5k0AAAACAKN+UQAAAAIDzOJZAAAAAoGmql0AAAADgi0qZQAAAAMBM6ppAAAAAoI3+m0AAAABAwBGdQAAAAMB0X59AAAAA4Gx+oUAAAADgt8qjQAAAAEB/M6lAAAAAoDKqr0AAAABgrAa0QAAAAABG8rpAAAAAwBQvwkAAAACAJQ3JQAAAAKCS9dFAAAAAwOVu3EA=",
          "dtype": "f8"
         },
         "xaxis": "x2",
         "y": {
          "bdata": "etpbM9rk3j8kVp+vyZ6nP/YKzJI2QfE/HF0KnJ7x0L8nFsqCE1jAP12hKaAzAPc/7vQ7Nbtd/r/kjBbfuez4P05zCTJJvee/5Xmy2RTM4j/v0ak0I9v4P5T+lBwj2PQ/AGTgNohL7z9FN9ZkfQj2P+RAgyKwKvg/YAcfszMN9j/16NB2+mAAQNOb0C7/qvc/5uWqTDaLAEBFJdz6TnLnPx+1bK7kQsw/mQU37x7Ubj/qH8EiJkjlP3oqbNzVEdA/MjeJthdn9j/hXZIH1HHgP97b2HFoZ/A/NXugDMN4AkCTlY/DRSABQKIyaUreqvY/fkZjDeAT9j8JIwm88E/5P8CS5y2B8/o/N1uj+qYlAEDt2GskRanjP8jXIxv6JeK/Ofe8Tt5b4D+4TJ7YMnDAv7HB0BM9POM/m8un0Kzv+j8=",
          "dtype": "f8"
         },
         "yaxis": "y2"
        }
       ],
       "layout": {
        "height": 700,
        "legend": {
         "x": 1,
         "xanchor": "right",
         "y": 1,
         "yanchor": "bottom"
        },
        "template": {
         "data": {
          "bar": [
           {
            "error_x": {
             "color": "#2a3f5f"
            },
            "error_y": {
             "color": "#2a3f5f"
            },
            "marker": {
             "line": {
              "color": "white",
              "width": 0.5
             },
             "pattern": {
              "fillmode": "overlay",
              "size": 10,
              "solidity": 0.2
             }
            },
            "type": "bar"
           }
          ],
          "barpolar": [
           {
            "marker": {
             "line": {
              "color": "white",
              "width": 0.5
             },
             "pattern": {
              "fillmode": "overlay",
              "size": 10,
              "solidity": 0.2
             }
            },
            "type": "barpolar"
           }
          ],
          "carpet": [
           {
            "aaxis": {
             "endlinecolor": "#2a3f5f",
             "gridcolor": "#C8D4E3",
             "linecolor": "#C8D4E3",
             "minorgridcolor": "#C8D4E3",
             "startlinecolor": "#2a3f5f"
            },
            "baxis": {
             "endlinecolor": "#2a3f5f",
             "gridcolor": "#C8D4E3",
             "linecolor": "#C8D4E3",
             "minorgridcolor": "#C8D4E3",
             "startlinecolor": "#2a3f5f"
            },
            "type": "carpet"
           }
          ],
          "choropleth": [
           {
            "colorbar": {
             "outlinewidth": 0,
             "ticks": ""
            },
            "type": "choropleth"
           }
          ],
          "contour": [
           {
            "colorbar": {
             "outlinewidth": 0,
             "ticks": ""
            },
            "colorscale": [
             [
              0,
              "#0d0887"
             ],
             [
              0.1111111111111111,
              "#46039f"
             ],
             [
              0.2222222222222222,
              "#7201a8"
             ],
             [
              0.3333333333333333,
              "#9c179e"
             ],
             [
              0.4444444444444444,
              "#bd3786"
             ],
             [
              0.5555555555555556,
              "#d8576b"
             ],
             [
              0.6666666666666666,
              "#ed7953"
             ],
             [
              0.7777777777777778,
              "#fb9f3a"
             ],
             [
              0.8888888888888888,
              "#fdca26"
             ],
             [
              1,
              "#f0f921"
             ]
            ],
            "type": "contour"
           }
          ],
          "contourcarpet": [
           {
            "colorbar": {
             "outlinewidth": 0,
             "ticks": ""
            },
            "type": "contourcarpet"
           }
          ],
          "heatmap": [
           {
            "colorbar": {
             "outlinewidth": 0,
             "ticks": ""
            },
            "colorscale": [
             [
              0,
              "#0d0887"
             ],
             [
              0.1111111111111111,
              "#46039f"
             ],
             [
              0.2222222222222222,
              "#7201a8"
             ],
             [
              0.3333333333333333,
              "#9c179e"
             ],
             [
              0.4444444444444444,
              "#bd3786"
             ],
             [
              0.5555555555555556,
              "#d8576b"
             ],
             [
              0.6666666666666666,
              "#ed7953"
             ],
             [
              0.7777777777777778,
              "#fb9f3a"
             ],
             [
              0.8888888888888888,
              "#fdca26"
             ],
             [
              1,
              "#f0f921"
             ]
            ],
            "type": "heatmap"
           }
          ],
          "histogram": [
           {
            "marker": {
             "pattern": {
              "fillmode": "overlay",
              "size": 10,
              "solidity": 0.2
             }
            },
            "type": "histogram"
           }
          ],
          "histogram2d": [
           {
            "colorbar": {
             "outlinewidth": 0,
             "ticks": ""
            },
            "colorscale": [
             [
              0,
              "#0d0887"
             ],
             [
              0.1111111111111111,
              "#46039f"
             ],
             [
              0.2222222222222222,
              "#7201a8"
             ],
             [
              0.3333333333333333,
              "#9c179e"
             ],
             [
              0.4444444444444444,
              "#bd3786"
             ],
             [
              0.5555555555555556,
              "#d8576b"
             ],
             [
              0.6666666666666666,
              "#ed7953"
             ],
             [
              0.7777777777777778,
              "#fb9f3a"
             ],
             [
              0.8888888888888888,
              "#fdca26"
             ],
             [
              1,
              "#f0f921"
             ]
            ],
            "type": "histogram2d"
           }
          ],
          "histogram2dcontour": [
           {
            "colorbar": {
             "outlinewidth": 0,
             "ticks": ""
            },
            "colorscale": [
             [
              0,
              "#0d0887"
             ],
             [
              0.1111111111111111,
              "#46039f"
             ],
             [
              0.2222222222222222,
              "#7201a8"
             ],
             [
              0.3333333333333333,
              "#9c179e"
             ],
             [
              0.4444444444444444,
              "#bd3786"
             ],
             [
              0.5555555555555556,
              "#d8576b"
             ],
             [
              0.6666666666666666,
              "#ed7953"
             ],
             [
              0.7777777777777778,
              "#fb9f3a"
             ],
             [
              0.8888888888888888,
              "#fdca26"
             ],
             [
              1,
              "#f0f921"
             ]
            ],
            "type": "histogram2dcontour"
           }
          ],
          "mesh3d": [
           {
            "colorbar": {
             "outlinewidth": 0,
             "ticks": ""
            },
            "type": "mesh3d"
           }
          ],
          "parcoords": [
           {
            "line": {
             "colorbar": {
              "outlinewidth": 0,
              "ticks": ""
             }
            },
            "type": "parcoords"
           }
          ],
          "pie": [
           {
            "automargin": true,
            "type": "pie"
           }
          ],
          "scatter": [
           {
            "fillpattern": {
             "fillmode": "overlay",
             "size": 10,
             "solidity": 0.2
            },
            "type": "scatter"
           }
          ],
          "scatter3d": [
           {
            "line": {
             "colorbar": {
              "outlinewidth": 0,
              "ticks": ""
             }
            },
            "marker": {
             "colorbar": {
              "outlinewidth": 0,
              "ticks": ""
             }
            },
            "type": "scatter3d"
           }
          ],
          "scattercarpet": [
           {
            "marker": {
             "colorbar": {
              "outlinewidth": 0,
              "ticks": ""
             }
            },
            "type": "scattercarpet"
           }
          ],
          "scattergeo": [
           {
            "marker": {
             "colorbar": {
              "outlinewidth": 0,
              "ticks": ""
             }
            },
            "type": "scattergeo"
           }
          ],
          "scattergl": [
           {
            "marker": {
             "colorbar": {
              "outlinewidth": 0,
              "ticks": ""
             }
            },
            "type": "scattergl"
           }
          ],
          "scattermap": [
           {
            "marker": {
             "colorbar": {
              "outlinewidth": 0,
              "ticks": ""
             }
            },
            "type": "scattermap"
           }
          ],
          "scattermapbox": [
           {
            "marker": {
             "colorbar": {
              "outlinewidth": 0,
              "ticks": ""
             }
            },
            "type": "scattermapbox"
           }
          ],
          "scatterpolar": [
           {
            "marker": {
             "colorbar": {
              "outlinewidth": 0,
              "ticks": ""
             }
            },
            "type": "scatterpolar"
           }
          ],
          "scatterpolargl": [
           {
            "marker": {
             "colorbar": {
              "outlinewidth": 0,
              "ticks": ""
             }
            },
            "type": "scatterpolargl"
           }
          ],
          "scatterternary": [
           {
            "marker": {
             "colorbar": {
              "outlinewidth": 0,
              "ticks": ""
             }
            },
            "type": "scatterternary"
           }
          ],
          "surface": [
           {
            "colorbar": {
             "outlinewidth": 0,
             "ticks": ""
            },
            "colorscale": [
             [
              0,
              "#0d0887"
             ],
             [
              0.1111111111111111,
              "#46039f"
             ],
             [
              0.2222222222222222,
              "#7201a8"
             ],
             [
              0.3333333333333333,
              "#9c179e"
             ],
             [
              0.4444444444444444,
              "#bd3786"
             ],
             [
              0.5555555555555556,
              "#d8576b"
             ],
             [
              0.6666666666666666,
              "#ed7953"
             ],
             [
              0.7777777777777778,
              "#fb9f3a"
             ],
             [
              0.8888888888888888,
              "#fdca26"
             ],
             [
              1,
              "#f0f921"
             ]
            ],
            "type": "surface"
           }
          ],
          "table": [
           {
            "cells": {
             "fill": {
              "color": "#EBF0F8"
             },
             "line": {
              "color": "white"
             }
            },
            "header": {
             "fill": {
              "color": "#C8D4E3"
             },
             "line": {
              "color": "white"
             }
            },
            "type": "table"
           }
          ]
         },
         "layout": {
          "annotationdefaults": {
           "arrowcolor": "#2a3f5f",
           "arrowhead": 0,
           "arrowwidth": 1
          },
          "autotypenumbers": "strict",
          "coloraxis": {
           "colorbar": {
            "outlinewidth": 0,
            "ticks": ""
           }
          },
          "colorscale": {
           "diverging": [
            [
             0,
             "#8e0152"
            ],
            [
             0.1,
             "#c51b7d"
            ],
            [
             0.2,
             "#de77ae"
            ],
            [
             0.3,
             "#f1b6da"
            ],
            [
             0.4,
             "#fde0ef"
            ],
            [
             0.5,
             "#f7f7f7"
            ],
            [
             0.6,
             "#e6f5d0"
            ],
            [
             0.7,
             "#b8e186"
            ],
            [
             0.8,
             "#7fbc41"
            ],
            [
             0.9,
             "#4d9221"
            ],
            [
             1,
             "#276419"
            ]
           ],
           "sequential": [
            [
             0,
             "#0d0887"
            ],
            [
             0.1111111111111111,
             "#46039f"
            ],
            [
             0.2222222222222222,
             "#7201a8"
            ],
            [
             0.3333333333333333,
             "#9c179e"
            ],
            [
             0.4444444444444444,
             "#bd3786"
            ],
            [
             0.5555555555555556,
             "#d8576b"
            ],
            [
             0.6666666666666666,
             "#ed7953"
            ],
            [
             0.7777777777777778,
             "#fb9f3a"
            ],
            [
             0.8888888888888888,
             "#fdca26"
            ],
            [
             1,
             "#f0f921"
            ]
           ],
           "sequentialminus": [
            [
             0,
             "#0d0887"
            ],
            [
             0.1111111111111111,
             "#46039f"
            ],
            [
             0.2222222222222222,
             "#7201a8"
            ],
            [
             0.3333333333333333,
             "#9c179e"
            ],
            [
             0.4444444444444444,
             "#bd3786"
            ],
            [
             0.5555555555555556,
             "#d8576b"
            ],
            [
             0.6666666666666666,
             "#ed7953"
            ],
            [
             0.7777777777777778,
             "#fb9f3a"
            ],
            [
             0.8888888888888888,
             "#fdca26"
            ],
            [
             1,
             "#f0f921"
            ]
           ]
          },
          "colorway": [
           "#636efa",
           "#EF553B",
           "#00cc96",
           "#ab63fa",
           "#FFA15A",
           "#19d3f3",
           "#FF6692",
           "#B6E880",
           "#FF97FF",
           "#FECB52"
          ],
          "font": {
           "color": "#2a3f5f"
          },
          "geo": {
           "bgcolor": "white",
           "lakecolor": "white",
           "landcolor": "white",
           "showlakes": true,
           "showland": true,
           "subunitcolor": "#C8D4E3"
          },
          "hoverlabel": {
           "align": "left"
          },
          "hovermode": "closest",
          "mapbox": {
           "style": "light"
          },
          "paper_bgcolor": "white",
          "plot_bgcolor": "white",
          "polar": {
           "angularaxis": {
            "gridcolor": "#EBF0F8",
            "linecolor": "#EBF0F8",
            "ticks": ""
           },
           "bgcolor": "white",
           "radialaxis": {
            "gridcolor": "#EBF0F8",
            "linecolor": "#EBF0F8",
            "ticks": ""
           }
          },
          "scene": {
           "xaxis": {
            "backgroundcolor": "white",
            "gridcolor": "#DFE8F3",
            "gridwidth": 2,
            "linecolor": "#EBF0F8",
            "showbackground": true,
            "ticks": "",
            "zerolinecolor": "#EBF0F8"
           },
           "yaxis": {
            "backgroundcolor": "white",
            "gridcolor": "#DFE8F3",
            "gridwidth": 2,
            "linecolor": "#EBF0F8",
            "showbackground": true,
            "ticks": "",
            "zerolinecolor": "#EBF0F8"
           },
           "zaxis": {
            "backgroundcolor": "white",
            "gridcolor": "#DFE8F3",
            "gridwidth": 2,
            "linecolor": "#EBF0F8",
            "showbackground": true,
            "ticks": "",
            "zerolinecolor": "#EBF0F8"
           }
          },
          "shapedefaults": {
           "line": {
            "color": "#2a3f5f"
           }
          },
          "ternary": {
           "aaxis": {
            "gridcolor": "#DFE8F3",
            "linecolor": "#A2B1C6",
            "ticks": ""
           },
           "baxis": {
            "gridcolor": "#DFE8F3",
            "linecolor": "#A2B1C6",
            "ticks": ""
           },
           "bgcolor": "white",
           "caxis": {
            "gridcolor": "#DFE8F3",
            "linecolor": "#A2B1C6",
            "ticks": ""
           }
          },
          "title": {
           "x": 0.05
          },
          "xaxis": {
           "automargin": true,
           "gridcolor": "#EBF0F8",
           "linecolor": "#EBF0F8",
           "ticks": "",
           "title": {
            "standoff": 15
           },
           "zerolinecolor": "#EBF0F8",
           "zerolinewidth": 2
          },
          "yaxis": {
           "automargin": true,
           "gridcolor": "#EBF0F8",
           "linecolor": "#EBF0F8",
           "ticks": "",
           "title": {
            "standoff": 15
           },
           "zerolinecolor": "#EBF0F8",
           "zerolinewidth": 2
          }
         }
        },
        "width": 600,
        "xaxis": {
         "anchor": "y",
         "domain": [
          0,
          1
         ],
         "matches": "x2",
         "showticklabels": false,
         "title": {
          "text": ""
         },
         "type": "log"
        },
        "xaxis2": {
         "anchor": "y2",
         "domain": [
          0,
          1
         ],
         "title": {
          "text": "Energy (keV)"
         },
         "type": "log"
        },
        "yaxis": {
         "anchor": "x",
         "domain": [
          0.265,
          1
         ],
         "range": [
          -12.186857864450356,
          -0.21485994734876673
         ],
         "title": {
          "text": "Photons/cm^2/s/keV"
         },
         "type": "log"
        },
        "yaxis2": {
         "anchor": "x2",
         "domain": [
          0,
          0.245
         ],
         "range": [
          -3.5,
          3.5
         ],
         "showgrid": false,
         "title": {
          "text": "Sigma"
         }
        }
       }
      }
     },
     "metadata": {},
     "output_type": "display_data"
    }
   ],
   "source": [
    "fig = Plot.infer(post, style='NE')\n",
    "fig.save(f'{savepath}/phtspec')"
   ]
  },
  {
   "cell_type": "code",
   "execution_count": 11,
   "id": "9357672c",
   "metadata": {},
   "outputs": [
    {
     "data": {
      "application/vnd.plotly.v1+json": {
       "config": {
        "plotlyServerURL": "https://plot.ly"
       },
       "data": [
        {
         "line": {
          "color": "#08519c",
          "width": 2
         },
         "mode": "lines",
         "name": "p1($\\alpha$)",
         "showlegend": false,
         "type": "scatter",
         "x": {
          "bdata": "AGoy7tgn4r8ejhTJEgvivx6OFMkSC+K/PLL2o0zu4b88svajTO7hv1rW2H6G0eG/WtbYfobR4b93+rpZwLThv3f6ulnAtOG/lR6dNPqX4b+VHp00+pfhv7NCfw80e+G/s0J/DzR74b/RZmHqbV7hv9FmYeptXuG/74pDxadB4b/vikPFp0Hhvw2vJaDhJOG/Da8loOEk4b8r0wd7GwjhvyvTB3sbCOG/SffpVVXr4L9J9+lVVevgv2YbzDCPzuC/ZhvMMI/O4L+EP64LybHgv4Q/rgvJseC/omOQ5gKV4L+iY5DmApXgv8CHcsE8eOC/wIdywTx44L/eq1Scdlvgv96rVJx2W+C//M82d7A+4L/8zzZ3sD7gvxr0GFLqIeC/GvQYUuoh4L84GPssJAXgvzgY+ywkBeC/q3i6D7zQ37+reLoPvNDfv+bAfsUvl9+/5sB+xS+X378iCUN7o13fvyIJQ3ujXd+/XlEHMRck379eUQcxFyTfv5qZy+aK6t6/mpnL5orq3r/V4Y+c/rDev9Xhj5z+sN6/ESpUUnJ33r8RKlRScnfev01yGAjmPd6/TXIYCOY93r+Iuty9WQTev4i63L1ZBN6/xAKhc83K3b/EAqFzzcrdvwBLZSlBkd2/",
          "dtype": "f8"
         },
         "xaxis": "x",
         "y": {
          "bdata": "3mvCKnPT3z/ea8Iqc9PfP3Uv8Q5Vn+I/dS/xDlWf4j/vrs4RY5/oP++uzhFjn+g/8MWz4h3P8T/wxbPiHc/xP9RF8TOlnfs/1EXxM6Wd+z+iYNXg1DYGQKJg1eDUNgZAHlPzBBGUEUAeU/MEEZQRQIZvFxXFCBpAhm8XFcUIGkDcEQmuD6EhQNwRCa4PoSFA5YK4EwMOJkDlgrgTAw4mQIk99N1zYSpAiT303XNhKkAdL5FRBy0vQB0vkVEHLS9A2er0CB9DMkDZ6vQIH0MyQDNGDWFSvDRAM0YNYVK8NEAcCOZqw1Y2QBwI5mrDVjZAxqn2rfq+NkDGqfat+r42QKgu8KdWGjZAqC7wp1YaNkBSTjC/d7w0QFJOML93vDRAmJtEac7eMkCYm0Rpzt4yQC1MWDhqlzBALUxYOGqXMEDwS5NYQvwrQPBLk1hC/CtAcRscNiGdJkBxGxw2IZ0mQFeLH7LBrSFAV4sfssGtIUDhjBeDngobQOGMF4OeChtAsbifntUkFECxuJ+e1SQUQN1YAAUbogxA3VgABRuiDEAvzY8XtCYDQC/Njxe0JgNAY61uUnC1+D9jrW5ScLX4Pya4GllDufA/JrgaWUO58D/GecV11J/qP8Z5xXXUn+o/",
          "dtype": "f8"
         },
         "yaxis": "y"
        },
        {
         "line": {
          "color": "#08519c",
          "width": 2
         },
         "mode": "lines",
         "name": "p2(log$E_{c}$)",
         "showlegend": false,
         "type": "scatter",
         "x": {
          "bdata": "n3nNfr+sBECFaHYq7rIEQIVodirusgRAalcf1hy5BEBqVx/WHLkEQFBGyIFLvwRAUEbIgUu/BEA2NXEtesUEQDY1cS16xQRAGyQa2ajLBEAbJBrZqMsEQAETw4TX0QRAARPDhNfRBEDnAWwwBtgEQOcBbDAG2ARAzPAU3DTeBEDM8BTcNN4EQLLfvYdj5ARAst+9h2PkBECYzmYzkuoEQJjOZjOS6gRAfb0P38DwBEB9vQ/fwPAEQGOsuIrv9gRAY6y4iu/2BEBJm2E2Hv0EQEmbYTYe/QRALooK4kwDBUAuigriTAMFQBR5s417CQVAFHmzjXsJBUD6Z1w5qg8FQPpnXDmqDwVA31YF5dgVBUDfVgXl2BUFQMVFrpAHHAVAxUWukAccBUCrNFc8NiIFQKs0Vzw2IgVAkCMA6GQoBUCQIwDoZCgFQHYSqZOTLgVAdhKpk5MuBUBcAVI/wjQFQFwBUj/CNAVAQfD66vA6BUBB8Prq8DoFQCffo5YfQQVAJ9+jlh9BBUANzkxCTkcFQA3OTEJORwVA8rz17XxNBUDyvPXtfE0FQNirnpmrUwVA2KuematTBUC+mkdF2lkFQL6aR0XaWQVAo4nw8AhgBUCjifDwCGAFQIl4mZw3ZgVA",
          "dtype": "f8"
         },
         "xaxis": "x7",
         "y": {
          "bdata": "KMEkhF5f9z8owSSEXl/3P8TVKl44i/s/xNUqXjiL+z84JvO5sRACQDgm87mxEAJA1ro5ixH7CEDWujmLEfsIQNpVB/F7sBFA2lUH8XuwEUBPzc3h4x8ZQE/NzeHjHxlAmrnC2e15IUCaucLZ7XkhQG6tMuYiYSdAbq0y5iJhJ0A2M95gdectQDYz3mB15y1AWUlBLOdZMkBZSUEs51kyQPp/iorMsjVA+n+KisyyNUCRZ+aDEKk4QJFn5oMQqThAfB/z7xi0OkB8H/PvGLQ6QFK8779VTDtAUrzvv1VMO0D2e0x2zE46QPZ7THbMTjpAtkQ30rcoOEC2RDfStyg4QMvGvHDChDVAy8a8cMKENUA8zXeWfMwyQDzNd5Z8zDJADtarZuANMEAO1qtm4A0wQP04Lgq9kCpA/TguCr2QKkD7Zi7gTT8lQPtmLuBNPyVAaP3ZJuF5IEBo/dkm4XkgQPePUDpQsxhA949QOlCzGEDGS2D4xLYRQMZLYPjEthFA9BXIXpYqCED0FchelioIQIgaSbQOqf8/iBpJtA6p/z/GPMX3m4H0P8Y8xfebgfQ/8+r6zLqR6z/z6vrMupHrP+7iJ8awZeQ/7uInxrBl5D9N8ZTU8mHhP03xlNTyYeE/",
          "dtype": "f8"
         },
         "yaxis": "y7"
        },
        {
         "colorscale": [
          [
           0,
           "rgb(247,251,255)"
          ],
          [
           0.125,
           "rgb(222,235,247)"
          ],
          [
           0.25,
           "rgb(198,219,239)"
          ],
          [
           0.375,
           "rgb(158,202,225)"
          ],
          [
           0.5,
           "rgb(107,174,214)"
          ],
          [
           0.625,
           "rgb(66,146,198)"
          ],
          [
           0.75,
           "rgb(33,113,181)"
          ],
          [
           0.875,
           "rgb(8,81,156)"
          ],
          [
           1,
           "rgb(8,48,107)"
          ]
         ],
         "contours": {
          "end": 0.005681758887199475,
          "size": 0.0043981746438527605,
          "start": 0.0012835842433467147
         },
         "line": {
          "width": 2
         },
         "name": "p1($\\alpha$)&p2(log$E_{c}$)",
         "ncontours": 2,
         "showlegend": false,
         "showscale": false,
         "type": "contour",
         "x": {
          "bdata": "0zPfJQJT4r/xV8EAPDbivw98o9t1GeK/LaCFtq/84b9LxGeR6d/hv2joSWwjw+G/hgwsR12m4b+kMA4il4nhv8JU8PzQbOG/4HjS1wpQ4b/+nLSyRDPhvxzBlo1+FuG/OuV4aLj54L9YCVtD8tzgv3UtPR4swOC/k1Ef+WWj4L+xdQHUn4bgv8+Z467ZaeC/7b3FiRNN4L8L4qdkTTDgvykGij+HE+C/jlTYNILt37/InJzq9bPfvwTlYKBpet+/QC0lVt1A3798dekLUQffv7i9rcHEzd6/8wVydziU3r8vTjYtrFrev2qW+uIfId6/pt6+mJPn3b/iJoNOB67dvx5vRwR7dN2/WrcLuu463b8=",
          "dtype": "f8"
         },
         "xaxis": "x6",
         "y": {
          "bdata": "RhNQfXmjBEAsAvkoqKkEQBLxodTWrwRA+N9KgAW2BEDdzvMrNLwEQMO9nNdiwgRAqKxFg5HIBECOm+4uwM4EQHSKl9ru1ARAWnlAhh3bBEA/aOkxTOEEQCVXkt165wRACkY7iantBEDwNOQ02PMEQNYjjeAG+gRAvBI2jDUABUChAd83ZAYFQIfwh+OSDAVAbN8wj8ESBUBSztk68BgFQDi9guYeHwVAHqwrkk0lBUADm9Q9fCsFQOmJfemqMQVAzngmldk3BUC0Z89ACD4FQJpWeOw2RAVAgEUhmGVKBUBlNMpDlFAFQEsjc+/CVgVAMBIcm/FcBUAWAcVGIGMFQPzvbfJOaQVA4t4Wnn1vBUA=",
          "dtype": "f8"
         },
         "yaxis": "y6",
         "z": {
          "bdata": "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",
          "dtype": "f8",
          "shape": "34, 34"
         }
        },
        {
         "line": {
          "color": "#08519c",
          "width": 2
         },
         "mode": "lines",
         "name": "p3(log$A$)",
         "showlegend": false,
         "type": "scatter",
         "x": {
          "bdata": "BDnMNLmH9L8DANHTyIL0vwMA0dPIgvS/A8fVcth99L8Dx9Vy2H30vwKO2hHoePS/Ao7aEeh49L8CVd+w93P0vwJV37D3c/S/ARzkTwdv9L8BHORPB2/0vwHj6O4WavS/AePo7hZq9L8Aqu2NJmX0vwCq7Y0mZfS/AHHyLDZg9L8AcfIsNmD0v/8398tFW/S//zf3y0Vb9L///vtqVVb0v//++2pVVvS//sUACmVR9L/+xQAKZVH0v/6MBal0TPS//owFqXRM9L/9UwpIhEf0v/1TCkiER/S//RoP55NC9L/9Gg/nk0L0v/zhE4ajPfS//OEThqM99L/7qBglszj0v/uoGCWzOPS/+28dxMIz9L/7bx3EwjP0v/o2ImPSLvS/+jYiY9Iu9L/6/SYC4in0v/r9JgLiKfS/+cQrofEk9L/5xCuh8ST0v/mLMEABIPS/+YswQAEg9L/4UjXfEBv0v/hSNd8QG/S/+Bk6fiAW9L/4GTp+IBb0v/fgPh0wEfS/9+A+HTAR9L/3p0O8Pwz0v/enQ7w/DPS/9m5IW08H9L/2bkhbTwf0v/Y1TfpeAvS/9jVN+l4C9L/1/FGZbv3zv/X8UZlu/fO/9cNWOH7487/1w1Y4fvjzv/SKW9eN8/O/",
          "dtype": "f8"
         },
         "xaxis": "x13",
         "y": {
          "bdata": "PA0ZtXTKBkA8DRm1dMoGQKxZk2AKSQlArFmTYApJCUAnh98oFY8OQCeH3ygVjw5APuPrGHqME0A+4+sYeowTQDZVpPHB7hlANlWk8cHuGUDcdSZh9KshQNx1JmH0qyFAyFAhiuptKEDIUCGK6m0oQINqtYequDBAg2q1h6q4MEAQzNUouh02QBDM1Si6HTZAZt6j9UzkO0Bm3qP1TOQ7QP9EUd0/0kBA/0RR3T/SQEAnaXQZartDQCdpdBlqu0NA9gkNCmjwRkD2CQ0KaPBGQOCamvj4fkpA4Jqa+Ph+SkBUGrRtncxNQFQatG2dzE1Ak8V7oDrFT0CTxXugOsVPQBR72K0TtE9AFHvYrRO0T0CcDt0Uh+FNQJwO3RSH4U1AdVBt57U+S0B1UG3ntT5LQIn23wNqg0hAifbfA2qDSECWvgI0S7dFQJa+AjRLt0VA9LQtPouLQkD0tC0+i4tCQM+5IjG59j1Az7kiMbn2PUD9kajJCvg2QP2RqMkK+DZAEq/4X09CMUASr/hfT0IxQJWcHNGZqSpAlZwc0ZmpKkC3aRGC36klQLdpEYLfqSVAv6OGaWIoIkC/o4ZpYigiQH/vE9jl1h5Af+8T2OXWHkCGazyNLn8bQIZrPI0ufxtA",
          "dtype": "f8"
         },
         "yaxis": "y13"
        },
        {
         "colorscale": [
          [
           0,
           "rgb(247,251,255)"
          ],
          [
           0.125,
           "rgb(222,235,247)"
          ],
          [
           0.25,
           "rgb(198,219,239)"
          ],
          [
           0.375,
           "rgb(158,202,225)"
          ],
          [
           0.5,
           "rgb(107,174,214)"
          ],
          [
           0.625,
           "rgb(66,146,198)"
          ],
          [
           0.75,
           "rgb(33,113,181)"
          ],
          [
           0.875,
           "rgb(8,81,156)"
          ],
          [
           1,
           "rgb(8,48,107)"
          ]
         ],
         "contours": {
          "end": 0.004130041007721434,
          "size": 0.003243272295488149,
          "start": 0.0008867687122332848
         },
         "line": {
          "width": 2
         },
         "name": "p1($\\alpha$)&p3(log$A$)",
         "ncontours": 2,
         "showlegend": false,
         "showscale": false,
         "type": "contour",
         "x": {
          "bdata": "0zPfJQJT4r/xV8EAPDbivw98o9t1GeK/LaCFtq/84b9LxGeR6d/hv2joSWwjw+G/hgwsR12m4b+kMA4il4nhv8JU8PzQbOG/4HjS1wpQ4b/+nLSyRDPhvxzBlo1+FuG/OuV4aLj54L9YCVtD8tzgv3UtPR4swOC/k1Ef+WWj4L+xdQHUn4bgv8+Z467ZaeC/7b3FiRNN4L8L4qdkTTDgvykGij+HE+C/jlTYNILt37/InJzq9bPfvwTlYKBpet+/QC0lVt1A3798dekLUQffv7i9rcHEzd6/8wVydziU3r8vTjYtrFrev2qW+uIfId6/pt6+mJPn3b/iJoNOB67dvx5vRwR7dN2/WrcLuu463b8=",
          "dtype": "f8"
         },
         "xaxis": "x11",
         "y": {
          "bdata": "hg5FxiGP9L+F1UllMYr0v4ScTgRBhfS/g2NTo1CA9L+CKlhCYHv0v4LxXOFvdvS/grhhgH9x9L+Bf2Yfj2z0v4BGa76eZ/S/gA1wXa5i9L+A1HT8vV30v3+beZvNWPS/fmJ+Ot1T9L9+KYPZ7E70v37wh3j8SfS/fbeMFwxF9L98fpG2G0D0v3xFllUrO/S/ewyb9Do29L9605+TSjH0v3qapDJaLPS/emGp0Wkn9L95KK5weSL0v3jvsg+JHfS/eLa3rpgY9L94fbxNqBP0v3dEwey3DvS/dgvGi8cJ9L920soq1wT0v3aZz8nm//O/dWDUaPb68790J9kHBvbzv3Pu3aYV8fO/crXiRSXs878=",
          "dtype": "f8"
         },
         "yaxis": "y11",
         "z": {
          "bdata": "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",
          "dtype": "f8",
          "shape": "34, 34"
         }
        },
        {
         "colorscale": [
          [
           0,
           "rgb(247,251,255)"
          ],
          [
           0.125,
           "rgb(222,235,247)"
          ],
          [
           0.25,
           "rgb(198,219,239)"
          ],
          [
           0.375,
           "rgb(158,202,225)"
          ],
          [
           0.5,
           "rgb(107,174,214)"
          ],
          [
           0.625,
           "rgb(66,146,198)"
          ],
          [
           0.75,
           "rgb(33,113,181)"
          ],
          [
           0.875,
           "rgb(8,81,156)"
          ],
          [
           1,
           "rgb(8,48,107)"
          ]
         ],
         "contours": {
          "end": 0.004862523126391547,
          "size": 0.0038416842845459547,
          "start": 0.0010208388418455924
         },
         "line": {
          "width": 2
         },
         "name": "p2(log$E_{c}$)&p3(log$A$)",
         "ncontours": 2,
         "showlegend": false,
         "showscale": false,
         "type": "contour",
         "x": {
          "bdata": "RhNQfXmjBEAsAvkoqKkEQBLxodTWrwRA+N9KgAW2BEDdzvMrNLwEQMO9nNdiwgRAqKxFg5HIBECOm+4uwM4EQHSKl9ru1ARAWnlAhh3bBEA/aOkxTOEEQCVXkt165wRACkY7iantBEDwNOQ02PMEQNYjjeAG+gRAvBI2jDUABUChAd83ZAYFQIfwh+OSDAVAbN8wj8ESBUBSztk68BgFQDi9guYeHwVAHqwrkk0lBUADm9Q9fCsFQOmJfemqMQVAzngmldk3BUC0Z89ACD4FQJpWeOw2RAVAgEUhmGVKBUBlNMpDlFAFQEsjc+/CVgVAMBIcm/FcBUAWAcVGIGMFQPzvbfJOaQVA4t4Wnn1vBUA=",
          "dtype": "f8"
         },
         "xaxis": "x12",
         "y": {
          "bdata": "hg5FxiGP9L+F1UllMYr0v4ScTgRBhfS/g2NTo1CA9L+CKlhCYHv0v4LxXOFvdvS/grhhgH9x9L+Bf2Yfj2z0v4BGa76eZ/S/gA1wXa5i9L+A1HT8vV30v3+beZvNWPS/fmJ+Ot1T9L9+KYPZ7E70v37wh3j8SfS/fbeMFwxF9L98fpG2G0D0v3xFllUrO/S/ewyb9Do29L9605+TSjH0v3qapDJaLPS/emGp0Wkn9L95KK5weSL0v3jvsg+JHfS/eLa3rpgY9L94fbxNqBP0v3dEwey3DvS/dgvGi8cJ9L920soq1wT0v3aZz8nm//O/dWDUaPb68790J9kHBvbzv3Pu3aYV8fO/crXiRSXs878=",
          "dtype": "f8"
         },
         "yaxis": "y12",
         "z": {
          "bdata": "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",
          "dtype": "f8",
          "shape": "34, 34"
         }
        },
        {
         "line": {
          "color": "#08519c",
          "width": 2
         },
         "mode": "lines",
         "name": "p7(ra)",
         "showlegend": false,
         "type": "scatter",
         "x": {
          "bdata": "SYUwW1JXXEAlt1b5tV5cQCW3Vvm1XlxAAel8lxlmXEAB6XyXGWZcQN0aozV9bVxA3RqjNX1tXEC5TMnT4HRcQLlMydPgdFxAlX7vcUR8XECVfu9xRHxcQHGwFRCog1xAcbAVEKiDXEBN4juuC4tcQE3iO64Li1xAKRRiTG+SXEApFGJMb5JcQAVGiOrSmVxABUaI6tKZXEDhd66INqFcQOF3rog2oVxAvanUJpqoXEC9qdQmmqhcQJnb+sT9r1xAmdv6xP2vXEB1DSFjYbdcQHUNIWNht1xAUT9HAcW+XEBRP0cBxb5cQCxxbZ8oxlxALHFtnyjGXEAIo5M9jM1cQAijkz2MzVxA5NS52+/UXEDk1Lnb79RcQMAG4HlT3FxAwAbgeVPcXECcOAYYt+NcQJw4Bhi341xAeGosthrrXEB4aiy2GutcQFScUlR+8lxAVJxSVH7yXEAwznjy4flcQDDOePLh+VxADACfkEUBXUAMAJ+QRQFdQOgxxS6pCF1A6DHFLqkIXUDEY+vMDBBdQMRj68wMEF1AoJURa3AXXUCglRFrcBddQHzHNwnUHl1AfMc3CdQeXUBY+V2nNyZdQFj5Xac3Jl1ANCuERZstXUA0K4RFmy1dQBBdquP+NF1A",
          "dtype": "f8"
         },
         "xaxis": "x19",
         "y": {
          "bdata": "/l1Y/Z4toj/+XVj9ni2iP4WhLogPY6M/haEuiA9joz+JoTNIcsWmP4mhM0hyxaY/xukHZSXfrT/G6QdlJd+tPyC0QoF8QLU/ILRCgXxAtT9yRgSaSj+/P3JGBJpKP78/jsprLdG7xj+Oymst0bvGPyOa2kNfws8/I5raQ1/Czz/MDP+0RfXUP8wM/7RF9dQ/8Sp6PqUN2j/xKno+pQ3aP7QYowAbtt4/tBijABu23j9VLVES4F7hP1UtURLgXuE//tM+4REV4z/+0z7hERXjPyyIWeile+Q/LIhZ6KV75D+EAULrUWblP4QBQutRZuU/08Nqejx+5T/Tw2p6PH7lP9lWF8B9gOQ/2VYXwH2A5D8kHnx/oYTiPyQefH+hhOI/oVViuiPu3z+hVWK6I+7fPxWBkFt7mto/FYGQW3ua2j/l+H5gv5XVP+X4fmC/ldU/a+k2A3MP0T9r6TYDcw/RP4WRNFfZRMo/hZE0V9lEyj8imE6Q9N7DPyKYTpD03sM/7R9EyB4Yvj/tH0TIHhi+P+YJlTo2L7c/5gmVOjYvtz8em2YefyyyPx6bZh5/LLI/iJYRo3/XrD+IlhGjf9esP501B9bSjqc/nTUH1tKOpz+XESWyIcmkP5cRJbIhyaQ/",
          "dtype": "f8"
         },
         "yaxis": "y19"
        },
        {
         "colorscale": [
          [
           0,
           "rgb(247,251,255)"
          ],
          [
           0.125,
           "rgb(222,235,247)"
          ],
          [
           0.25,
           "rgb(198,219,239)"
          ],
          [
           0.375,
           "rgb(158,202,225)"
          ],
          [
           0.5,
           "rgb(107,174,214)"
          ],
          [
           0.625,
           "rgb(66,146,198)"
          ],
          [
           0.75,
           "rgb(33,113,181)"
          ],
          [
           0.875,
           "rgb(8,81,156)"
          ],
          [
           1,
           "rgb(8,48,107)"
          ]
         ],
         "contours": {
          "end": 0.003702178769271947,
          "size": 0.0029549992388697007,
          "start": 0.0007471795304022464
         },
         "line": {
          "width": 2
         },
         "name": "p1($\\alpha$)&p7(ra)",
         "ncontours": 2,
         "showlegend": false,
         "showscale": false,
         "type": "contour",
         "x": {
          "bdata": "0zPfJQJT4r/xV8EAPDbivw98o9t1GeK/LaCFtq/84b9LxGeR6d/hv2joSWwjw+G/hgwsR12m4b+kMA4il4nhv8JU8PzQbOG/4HjS1wpQ4b/+nLSyRDPhvxzBlo1+FuG/OuV4aLj54L9YCVtD8tzgv3UtPR4swOC/k1Ef+WWj4L+xdQHUn4bgv8+Z467ZaeC/7b3FiRNN4L8L4qdkTTDgvykGij+HE+C/jlTYNILt37/InJzq9bPfvwTlYKBpet+/QC0lVt1A3798dekLUQffv7i9rcHEzd6/8wVydziU3r8vTjYtrFrev2qW+uIfId6/pt6+mJPn3b/iJoNOB67dvx5vRwR7dN2/WrcLuu463b8=",
          "dtype": "f8"
         },
         "xaxis": "x16",
         "y": {
          "bdata": "fzr37TxMXEBbbB2MoFNcQDeeQyoEW1xAE9BpyGdiXEDvAZBmy2lcQMsztgQvcVxAp2XcopJ4XECDlwJB9n9cQF/JKN9Zh1xAO/tOfb2OXEAXLXUbIZZcQPNem7mEnVxAz5DBV+ikXECrwuf1S6xcQIf0DZSvs1xAYyY0MhO7XEA+WFrQdsJcQBqKgG7ayVxA9rumDD7RXEDS7cyqodhcQK4f80gF4FxAilEZ52jnXEBmgz+FzO5cQEK1ZSMw9lxAHueLwZP9XED6GLJf9wRdQNZK2P1aDF1Asnz+m74TXUCOriQ6IhtdQGrgStiFIl1ARhJxdukpXUAiRJcUTTFdQP51vbKwOF1A2qfjUBRAXUA=",
          "dtype": "f8"
         },
         "yaxis": "y16",
         "z": {
          "bdata": "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",
          "dtype": "f8",
          "shape": "34, 34"
         }
        },
        {
         "colorscale": [
          [
           0,
           "rgb(247,251,255)"
          ],
          [
           0.125,
           "rgb(222,235,247)"
          ],
          [
           0.25,
           "rgb(198,219,239)"
          ],
          [
           0.375,
           "rgb(158,202,225)"
          ],
          [
           0.5,
           "rgb(107,174,214)"
          ],
          [
           0.625,
           "rgb(66,146,198)"
          ],
          [
           0.75,
           "rgb(33,113,181)"
          ],
          [
           0.875,
           "rgb(8,81,156)"
          ],
          [
           1,
           "rgb(8,48,107)"
          ]
         ],
         "contours": {
          "end": 0.0037446545690145673,
          "size": 0.00301680057609408,
          "start": 0.0007278539929204871
         },
         "line": {
          "width": 2
         },
         "name": "p2(log$E_{c}$)&p7(ra)",
         "ncontours": 2,
         "showlegend": false,
         "showscale": false,
         "type": "contour",
         "x": {
          "bdata": "RhNQfXmjBEAsAvkoqKkEQBLxodTWrwRA+N9KgAW2BEDdzvMrNLwEQMO9nNdiwgRAqKxFg5HIBECOm+4uwM4EQHSKl9ru1ARAWnlAhh3bBEA/aOkxTOEEQCVXkt165wRACkY7iantBEDwNOQ02PMEQNYjjeAG+gRAvBI2jDUABUChAd83ZAYFQIfwh+OSDAVAbN8wj8ESBUBSztk68BgFQDi9guYeHwVAHqwrkk0lBUADm9Q9fCsFQOmJfemqMQVAzngmldk3BUC0Z89ACD4FQJpWeOw2RAVAgEUhmGVKBUBlNMpDlFAFQEsjc+/CVgVAMBIcm/FcBUAWAcVGIGMFQPzvbfJOaQVA4t4Wnn1vBUA=",
          "dtype": "f8"
         },
         "xaxis": "x17",
         "y": {
          "bdata": "fzr37TxMXEBbbB2MoFNcQDeeQyoEW1xAE9BpyGdiXEDvAZBmy2lcQMsztgQvcVxAp2XcopJ4XECDlwJB9n9cQF/JKN9Zh1xAO/tOfb2OXEAXLXUbIZZcQPNem7mEnVxAz5DBV+ikXECrwuf1S6xcQIf0DZSvs1xAYyY0MhO7XEA+WFrQdsJcQBqKgG7ayVxA9rumDD7RXEDS7cyqodhcQK4f80gF4FxAilEZ52jnXEBmgz+FzO5cQEK1ZSMw9lxAHueLwZP9XED6GLJf9wRdQNZK2P1aDF1Asnz+m74TXUCOriQ6IhtdQGrgStiFIl1ARhJxdukpXUAiRJcUTTFdQP51vbKwOF1A2qfjUBRAXUA=",
          "dtype": "f8"
         },
         "yaxis": "y17",
         "z": {
          "bdata": "tswGWWMGpj62zAZZYwamPrbMBlljBqY+tswGWWMGpj62zAZZYwamPrbMBlljBqY+tswGWWMGpj62zAZZYwamPrbMBlljBqY+tswGWWMGpj62zAZZYwamPrbMBlljBqY+tswGWWMGpj62zAZZYwamPrbMBlljBqY+tswGWWMGpj62zAZZYwamPrbMBlljBqY+tswGWWMGpj62zAZZYwamPrbMBlljBqY+tswGWWMGpj62zAZZYwamPrbMBlljBqY+tswGWWMGpj62zAZZYwamPrbMBlljBqY+tswGWWMGpj62zAZZYwamPrbMBlljBqY+tswGWWMGpj62zAZZYwamPrbMBlljBqY+tswGWWMGpj62zAZZYwamPrbMBlljBqY+tswGWWMGpj6dU5ukOHvEPk+SQG7+9+I+ijRCCuYz/T4dsEHIb1YSP2qcXbh5vCI/cDjxtJ9OLz9wlEWej5E1P+SDBYnbtDg/q9KR4CSqNz/qXubSAwwzPwfXzG8ADSo/I2Ov6YCKHz9q2EbUNsoTP3buz0PfkxI//ST8GjTFGz8iPwlqzSUmP+5vaBNNJi4/BPEy+cOYMD8paR/4NM4tP234ZuXzUSc/IKZMa9ZmIj/wYgBAqXsgPzb2miJC1R4/mZN5jLjCGT8E0SeTjsYRPwLPeHA2GgQ//j4dST+C8z6KWVZ70F7iPm6keqoAaNU+bqR6qgBo1T62zAZZYwamPrbMBlljBqY+tswGWWMGpj62zAZZYwamPp1Tm6Q4e8Q+T5JAbv734j6KNEIK5jP9Ph2wQchvVhI/apxduHm8Ij9wOPG0n04vP3CURZ6PkTU/5IMFidu0OD+r0pHgJKo3P+pe5tIDDDM/B9fMbwANKj8jY6/pgIofP2rYRtQ2yhM/du7PQ9+TEj/9JPwaNMUbPyI/CWrNJSY/7m9oE00mLj8E8TL5w5gwPylpH/g0zi0/bfhm5fNRJz8gpkxr1mYiP/BiAECpeyA/NvaaIkLVHj+Zk3mMuMIZPwTRJ5OOxhE/As94cDYaBD/+Ph1JP4LzPopZVnvQXuI+bqR6qgBo1T5upHqqAGjVPrbMBlljBqY+tswGWWMGpj4xKsbSAvOzPjEqxtIC87M++BFglV6SzD4VRpZeYVTmPg1cb/n5IP8+vzP+uQ6QEj/Vd5XGWooiP7uZa3xOzi4/XUnlp7xaNT+FOmBTqec4P3wNOga8rjg/67LZJ3cNNT+v7EYCzoovPxtFfe5SqiU/ntNrctV0Hj+H/tZOBV8bP2Ll3o4AdiE/qvBzOvAWKT+zKAzuWDkwP3UXwZYoXDE/zpJSYJ2DLj/2XJgoDkgnPxhSImYNtyE/BN2DOAycHj96JCAugiUcP8TIYHW5pBc/G/OwGkrkED+n7S2gquYEPxz9AoYWVvg+t0gbFEvt7T4ZmoC3kPHlPhmagLeQ8eU+tswGWWMGpj62zAZZYwamPtdZAH7dbck+11kAft1tyT6qQpFQ03PcPl4q7ix0c/E+DfBNUmjnAz9UlqIW+68UP+aN1NNUIiM/MJBzibDPLj97RzHDs2k1PzIjgNX20jk/E70a9fpiOz/lvXYQAvU5P7LoSieaXDY/ah+qzzXuMT/uSbez5T4sP90fE8SHiig//UzreElBKj/bphfX8B0wP7ZtD4PwCzM/FdOvvcRhMz8W3Ru+2HIwP3aPoQXPFyg/Ew7V4igbIT8TcWcH6SUbP2FpIAA3whc/ArlO1s8rFD9Kdn2z+XsPPwQavMLEmQc/OsOKn6wDAj8sAoLrU1T8Pih43A660Pc+KHjcDrrQ9z62zAZZYwamPrbMBlljBqY+ExNgnzEq4D4TE2CfMSrgPvD8v+Kg8e8+gSDdBEq1AD/6uXmhIZUPP4JF61y2SBs/P8Ks4KnpJT9EwjTfkU8wP6v7xBVzTTY/7l3P2l39Oz8/TW+stTNAP2lx/VLcUUE/bN+edMEEQT80TbXNXso+P/cjEqNnVTo/H0ArECrPNj/AzMHJadI1PxUBQQilMjc/+jbPSs64OD+wInVk2rY3P+FL5EPEdzM/z5g8ddynKz9PjsD2HmMiP01MNwWd5Rk/Ls9LPf1sFD8QFMqmqU0RP31YZDhW3w4/81dj21oQDT/hxbabylwLPytB58+PZQg/Rfia/7CgBT9F+Jr/sKAFP7bMBlljBqY+tswGWWMGpj54GoyTQYLyPngajJNBgvI+VM4mmJXAAD9ndesxBQIQP18iN2WwFBs/WziZAlhWJD+PdHX0YUQsP8rMgPCA5zI//bkZmfbZOD8C31QEQBZAPz8y97SUL0Q/qwZFjK7ZRz+oV23QxNZJP6XvNfQPckk/h6DFO5UuRz9rh1jUoXhEP3sqJK/0pEI/DAKom5v/QT+lKTJepI9BP1zqw3DF8z8/MYh7D0u+OT8cA8tnylcyP6/Zx715Mig/ApPtLsm9Hz8ZTMqg6RsWP1k9GsuzhBE/YQccgee4ED/JqTMDLOsRPwpBW5Y9ixI/DwOOFCNVET9q/toxn04PP2r+2jGfTg8/tswGWWMGpj62zAZZYwamPjXhbmVSNQM/NeFuZVI1Az/gfY98WEwPPzJrDwXRpRs/pzn01Yn1JT8VY9BaIKsuPxyo+w1DjjM/9OgDoowyOD/00FAAdp8+P68bYqolFkQ/2NqDX15wSj+0bh8UTJZQP52oEPMSGVM/sEz2mn/sUz8H8zXZ/g5TP4Uv4LewRFE/oa8GAOP7Tj/AfHAZVFtMP9evx7pQDEo/XNEhjW/RRj90CQo74U9CP2oeeUKn2Do/RtOG+UlzMj+r3XboN3IoP1pWJPs9BCA/QqVbw/mEFj9RtzTUWHwTPzC2frFCQRQ/iVOjH0QGFT9PiDkEVdMTP4O28W9jBxI/g7bxb2MHEj+2zAZZYwamPrbMBlljBqY+AB7wjFOyEj8AHvCMU7ISP2bKrA9ZoRo/6V8ByQlHJT+Bq3XY4gwwP4M+IodWwDU/FKQcsiMcOz/y+e8mK3xAP25amETsskQ/BilGzx44Sz+JSCTZTxxSP2sHbLexKVc/upk6bShoWz8mo7dlrYxdP0cYzSn7L10/s4zKHGH9Wj98e4CkSCNYP4uj7a3WeVU/xU84VBMEUz9ICuBUnEhQP5ygWkhcQEo/s6Ljux7gQz9LM0lHt6M8P6CsLmGMrzM/25OK6yqtKT/iPQZVYoEgP5KTgRLBvxc/Jf/pdprnFD9+o1FfrioUP9GTjrZ1yxI/yBxKsxxAET/IHEqzHEARP7bMBlljBqY+tswGWWMGpj6uvfznFCYhP669/OcUJiE/iRqGDulSJT8hTpMO5BouP6wGqVJxZDU/RvdD2z6mPD+kikIFWiVCPymTE3tWrEY/RppVfuIDTT/fguBYlRdTP2wpQ+Z7I1k/0xHkwwfiXz+zK5gbVuRiP95dsk1LmmQ/e2swWnqtZD9exXM5YFtjP8I21kroT2E/Wl4LA7VYXj+wg8LwgE9aP8SKe1HhRVY/+D4euqYZUj/LPzEwDCdMPy5VdXK2A0U/YHLzo4TTPT8ta/TzksAzP6oMvLzchSg/b/AzisqWHj/A5KtlRb4VPxIBiiDPXRI/kzi1BX7jED+L4Wrm7AoQP4vhaubsChA/tswGWWMGpj62zAZZYwamPvp1Y4iJsSw/+nVjiImxLD9HKdzUlikwP93QeuMOUjQ/OosVTI0KOz8mLoxYa/pBP8EL9aDYfkc/XNANdN+TTj/glMkI4ghUP2vDxAcIS1o/nU68nd33YD+/9ik1BQ1lP3/LIknPmGg/u4a+ES28aj8Pny25HvdqPyC3Pbb+bGk/H4m40mLKZj/mw7Np5tdjP7a95+7tBWE/PVa8ga63XD+dJy/2JJNXP04xRZfIuFI/WdcV8WefTD8NDoT3r8NEPyY4ORSOAzw/HzRtdbFrMT/ERb4QqZskP88iLqiFzBk/5sxr2RW/Ez+hg5pqvJQSPzho5Und2xI/OGjlSd3bEj+2zAZZYwamPrbMBlljBqY+ZIkVApcaNT9kiRUClxo1P6/fWfkjsDY/CU1waU6QOj8Z7irGzslAP52fKfChMUY/aLQ3m1PYTT8kskyRpRFUP/ihUkZrqFo/daL4hKNPYT/C0CD4RcdlPyChvi/SQWo/CmiyNAgCbj9Ph1k/fCBwPyOt6wSCQXA/q046u+rRbj/A2utViMBrPwhe2M4RJWg/SlbLnGujZD9czUwIYW9hP3JqpOB481w/zW+hpEJjVz82pB2nDitSP8uAIDmIuUo/Rszj+ohMQj9Ch1H8lyY3P7wnHx8ltCs/schJol5OIT9JqgbEvrsaPxxg5s1BVxo/bVL5+dLrGz9tUvn50usbP7bMBlljBqY+tswGWWMGpj7ttbC7Pdk6P+21sLs92To/gT/MKCrLPD9naWsN8pVAP3XOSUs2iUQ/LUZcIQwYSz8r0lboqY1SP24Bi8c6bVk/o0eTXzLwYD8qBkG+d6llP7Znwrc6hGo/xKlgUuEGbz/0gVHJK05xP+6jByg1WXI/YtyiLIVxcj9TxhocVI5xP7F55ZAMyG8/mRDzTJy1az+X4NPKNrFnP1Og3A02GWQ/fS8hfKPfYD9wJBr8fadbPzwpwVVcvFU/2W4DFQYfUD+K+VzN2UtGP8D0XaPavTw/ymD9hHvQMT/8PU3/KXUnP4WLNjUF+yI/Hlc+eikKIz+g+yhj2jokP6D7KGPaOiQ/tswGWWMGpj62zAZZYwamPiCglj8vwz0/IKCWPy/DPT96iT+TYF5AP8LlCKXCSkM/lkEqhnsOSD/zGOVT/91PP7C0INpSDlY/GxgMRHGKXj+vrPYDiFlkP6l2kluLsmk/yLUncI7Gbj9Lotn2CpRxP0jjDYb9PHM/sIZBzAMwdD9+jq/qDj90Pw/EbDbHUXM/vcEcOXWMcT92WhQdHK1uP8lvSDl6R2o/xh3NfJliZj9h5uHT6/FiP6hTNOKbXF8/ml08Zo/cWD/d+mthCoxSP7bpentEy0k/nlEmsmfUQD9qzquCJng1P7pOHgLwfy0/hXZsYHFgKD86JtO3+AUoPwba8IxK+ig/BtrwjEr6KD+2zAZZYwamPrbMBlljBqY+jNNDENh5PT+M00MQ2Hk9P3R3QFfSwkA/vha/o4V9RD+Isa60vRpKPxinmfiXelE/JO6Vw/FwWD/C74Bu4BZhPw14z0C532Y/0lEhIxjFbD8V3N3CmwxxP26uXjWsQnM/X9v0o5fxdD/R+LeJy/Z1P5cNN9FjFHY/ElgY1WoedT+wXD74/ThzPzQ4IOYZ2HA/WESXRm/vbD8todaVca9oP2pjJoG76GQ/IY6p1F5XYT/9EmrZM5lbP/wq3WBiqlQ/3jl9yx/HTD+xoEu4C8ZCP2z/Oaa4Bzg/e1SWCdOTMD8CFOzR8ecqP/oJUq8GXik/b2guDHFzKT9vaC4McXMpP7bMBlljBqY+tswGWWMGpj7xB/nMuvY6P/EH+cy69jo/Y3NKGwNfPz+nH1iBo8RDP6fQ7s7W1kk/HM8ZoHeeUT9+ZN/BAAFZP6IFuxqnuWE/7VAsvFT6Zz+PrRJy0FFuP3hKxg1qAHI/vhIcmfVodD8CJYW4TGR2P2qcyrDZw3c/tMSPit4feD9R2qkcJTN3P4VNqbkXMXU/tuBcHvamcj+zAZb6ixNwPy37IGhKXms/Lmky7238Zj9nk6LJueViP8AGXGGn9l0/WtUqPMRuVj9IpDXO3SBPP1oQnrtQCEQ/mTzpXcj3OD+IE/7urYowPwypCzZCXCk/Z1tjQ7phJj8rUHta+G8lPytQe1r4byU/tswGWWMGpj62zAZZYwamPpfJgY+YbTc/l8mBj5htNz/T+JRLlGE7P0v55GPBkEE/4lzTAlqVRz/F3n/Ha3tQP5RIHVnl2Fc/C5mPrJwwYT8h1NCXSphnP2Z/GUw6MG4/Rvniy5ofcj/Ibns+6tl0P0j/JFiTUnc/Ec314kY9eT8r2MiB+vx5P3fj1WpQNHk/gR38e9Ardz99C75saol0P6WIchj2xnE/Nx3Z5kAgbj9J4ojcvPBoP3owKbyGKWQ/RawlCU+fXz+Uk6AYdY9XP5rGkdiYPFA/AYBFv+p9RD/fMbWp/nE4P+B/zXoMDS4/X0AYy9jnJD9IPxnmBskgPzWRNT2SPB4/NZE1PZI8Hj+2zAZZYwamPrbMBlljBqY+h0gA8uiHMz+HSADy6IczP5x0u96OwzY/t4H2eoSiPT+JrHBUX3xEP8dH0obwa00/q5hfAKquVT/+f/rMabZfP9QmZgtqEmY/jxbkVdambD/KUft5EHtxP8jFrpKEf3Q/lD/0Gulkdz/r36Tt7795P/59U+d20Xo/c6vtKxs1ej/KvWhEXkR4P8D1J0RerXU/6R0fYgnbcj++0V0VP9dvP2HTNMRUBGo/xyWQAsCtZD8opwDgFQJgPyAUDJHDslc/nRQgoNtAUD9TMlBxuEVEP2Kx7E+LYjc/+BHqviyZKj+lf85WDUUgPwVLE8hWoxY/8UulF8l7Ej/xS6UXyXsSP7bMBlljBqY+tswGWWMGpj7fWUYMxDEvP99ZRgzEMS8/NL0TT29cMj9wSr+8m4g4P8Vrjje7hkE/n331ol/LST8sNGGawDxTP1jgsAGbUVw/7MMjzvPgYz+iVlnehiZqP89JjZt1OnA/CXy1k+tacz9VACFafV52P/de4ol7yXg/Jw7vtqXleT9Rjv07nWN5P0lfo/bAo3c/atO8W7pEdT95e7UavppyP3a11VOecG8/eovcrw+OaT9HtvpgFyJkP65+VRfq7l4/k4Pdp1fVVj8SvdQMfm9PP0/uvJ9Tx0M/g2DvrdjjNj9Pl7Wv/icpPwqkJe+idhs/QdODHTWZDz95NkgX6bgFP3k2SBfpuAU/tswGWWMGpj62zAZZYwamPoIA9uUSIig/ggD25RIiKD/NxGe6KkctP5lit0JJVjQ/61smZg8HPj/BAO0MsYxGP4AqA2pF51A/aM3DIfXJWD8lDqJavWBhPxo6xP/HB2c/P2/5ZNT4bD+RcabSDnlxP1pyPXTuQHQ/jmI2Iwpbdj/ptoOpST93P52Dst3+xXY/7PxReVJJdT/4jhX/TEZzP9Qvv8U3+nA/Cejj7KnhbD/5FigbAJxnP5rVXW9hq2I/TtSj1XO/XD8XC52kM1RVP4HR3tdt000/nfgO4rtdQz+cEbduvFY3P7RoNb1MKSo/qmajxXM0Gz/iPBC8X8sKP2vjoyVHv/0+a+OjJUe//T62zAZZYwamPrbMBlljBqY+RLkli0mYIj9EuSWLSZgiPy37CsHAZCc/5/sQAwrcMD8Tlv5o+Zg5P+JU3h2KlkM/dcCCgoVxTT8nN5XDvVRVPyKT2f+JhV0/ceXsJs+CYz/5O0QTcrVoP9Di1Vt//G0/4Te9dVNacT8y80xtVQRzPwAtImRcqHM/8JS+/7Q/cz80a1YuVxFyPyKq/23RdHA/dciV584zbT9SBJV9TBxpP7gm+HpA0mQ/AJkD1LawYD9Y3NGgDPZZP8LG/CrNelM/MKwEcWzfSz8FrabUTdlCP9sZlqYN4Dc/cNEJ/RO+Kz8i2/rdZLgcP73/U/gXVgo/+hFCnbdl+T76EUKdt2X5PrbMBlljBqY+tswGWWMGpj4xZFW1yZQcPzFkVbXJlBw/OfpScp93Ij8t82gB5VgrP1a5JKyQSzU/xNVRd6WjQD+xKWjpmxlJP665cEZw51E/PCppn8pCWD8x8iiIOrBfPwr/12GyEWQ/aY8SHKJ3aD9VlbmsKmBsP3ns/LXnFm8/Wh+g0tsXcD8JAxwwe6tvP55Pe21F420/S/KmTnRRaz/TcFYwvFZoP41mv0JbIGU/akTpx27GYT8GyzVt+eVcP3SyXZEDsFY/24qTl/svUT/EqaKBOBNJP8PDnXZHgkE/pJp6pEP3Nj/EnHI3RE8rP/E3DPE/UBw/CSCYpVZBCT/rKWyapOn2PuspbJqk6fY+tswGWWMGpj62zAZZYwamPrkSvu5m3RQ/uRK+7mbdFD8hA7gSnKUbPxVvodnAKiU/3kkCwucRMT8IF9gKjFo7PzW6VMiWuEQ/XT8vlFAgTT8n9PVxzk5TPwYjyVHZ11g/lW8ZQdJiXz9C5YmK2j9jP27neQejimY/4o8w83j5aD+B1v0RbCdqP7Tj0kAg92k/RE9MqH2UaD8thVa772hmP7GY9rYi6GM/zRrwALFPYT8lMdvAgkxdPypAsnCE6Vc/AWL/7KXDUj+MN+Dq7m1MP5ZpWn/U50Q/EGhX8NSyPT8nkIv7m9czP3XX0LLW3ic/+gJ6jj7GGD92BsK9a9wFP3xZ7zJJYPM+fFnvMklg8z62zAZZYwamPrbMBlljBqY+Sej2hZB8Cz9J6PaFkHwLPxgRERZsNhM/A3VUDwuXHz9Sw/yy8/wqP46xU2r8OjY/AZK535TYQD8mqz4Y/VFHP8PwhoF+VU4/b8qnELtAUz8WbWOQoTxYP0r9mn6s510/oYvGMvS7YT/oj+t2NvVjP0SoLVteK2U//L0PD/YcZT9u2JguP+NjPxUyLr2y8GE/YlMoQUiMXz+Z6eo3eD1bPxLPvkZJ5VY/fLnTtAl9Uj+vU0LIgJtMPzXBUvGibUU//1PlW/KAPz/HhVcFkKk2PyiPej0v5i4/IH2WB375Ij/mubvU6woUP/DBlH4U7gE/tL1pnK8O8D60vWmcrw7wPrbMBlljBqY+tswGWWMGpj5A5iENbIYAP0DmIQ1shgA/prCeALgJCj/bfCtC6kwYP2Tj6iRxYiY/Uy8AWJnXMj+yW4alJ0I8P1/X+PEfH0M/jXGvHP9OSD8zACFylFJOP3T0IXmo51I/qlOWtLdOVz8MxmHJg9JbP52xafQOk18/BUBjHCfLYD94vpOK+qBgPwyi0WVy2V4/SqAV3c9aWz/n5cXEa7VXPzb7xT1NM1Q/XPRqaa+vUD/TOy538lRKP5WP7CLr5EM/U4KPi2BuPT9fS6T8LOA1P0ynpFMUVTA/qDYJl3d6Jz9dl1wb2X8eP0FW+Goe+xA/E+cqWT3n/z5LvbepHe7tPku9t6kd7u0+tswGWWMGpj62zAZZYwamPhdC1o2Ua/Q+F0LWjZRr9D6xXn0HlyMDPyouEkggdRQ/M2Ho95wEJD/iHsg3yv8wP3smZsouCDk/T4Cz8GBwQD+m5Z5iWzhEP+Nvr8Q7ekg/+Dh+Eh3eTT/G9scNfTVSP1MLi4uCqFU/e4MNqqR+WD/+zmRDUslZP13LIFv4Clk/Bm5C8BuvVj/5VIjiV7NTPwFZSsd0zlA/LwUJETcoTD9unVV/fbZGP44DIb8ccUE/XZOwldnvOT/OQ8APToIzP8BXI2wT2y4/iojIPW9BKT+7veuNfusjP/ZMBRMx+Rs/oU117IyRED8l+v4GiV8AP+hLnO6TDPA+6Euc7pMM8D62zAZZYwamPrbMBlljBqY+wT/+sClf8D7BP/6wKV/wPi4WFfRscwA/yklKcphYEj8LCXETODQiP+dlYmaM0S4/vBPrP8FcNj87M/wKsqg8P1hoRtIdC0E/iRZ55tDkQz8DieWGkZhHPzRCNHypV0w/KCoLv/67UD9/7OF/TMBSP9asuy0WZVM/BOile3xbUj8y5/6z9CxQP7C667kNeks/PQph9lcJRz//3Kyc/+hCPy4Fi7WDwT0/K/WLhhqDNj+VwcpxvSkxP8qu46EpKiw/1LIVju04KT+uEK2VDwUnP83MhWyfeiM/Ls03ruJ2HD96aynzeT4RPyWPuC3cRwE/4/VfElMb8T7j9V8SUxvxPrbMBlljBqY+tswGWWMGpj50xb+hUO70PnTFv6FQ7vQ+k/B4ppiKAT8ddG2P/BsRP/e3kbCUuB8/J+diKhMRKj9x/XnE66gyP0f5ElqnnDc/fRN1EdOGOz/bRYBuqFg/P/wWyuQvRUI/QAUR2sjdRT8R+Lj4beRJPwBdPRqe9Uw/ObO0IoOaTT8dKnLY2HFLP+S+SYD1mEc/1fE8fKiZQz+hz4UnyhtAP+5sNHjj3Tk/fYHVi7f3Mz+xlQsqk5UuP93BoWkxQSk/WlWzQ2ehJz/mF4u2U54nPyHCc7YwtCY/qvH8iU1kIz+Ja3++PQ0cP2c2FTM5uBA/lB4wgPJ2AD9yooopQwbwPnKiiilDBvA+tswGWWMGpj62zAZZYwamPsjfFtKdswI/yN8W0p2zAj8iugAP35AIP3/iCxZ9LBI/ub8MF6uFGz943f97WkMkP5EZuojcvis/1Too0BJPMT9yNy0NEBM0P2rxwqcE2jY/NheaFCnyOj+U2dB9L4ZAP5mls0RLGkQ/CaY/GsnsRj9Yu4Wq2J1HP3NKeoU/zEU/WEC+NLV2Qj92zpKwjws+P01hsogQMzg/aawXWvMaMz/lnaD5QEotP1RBzDj8BCc/GwdPxFmCJD+LaOSvE+IkP0UkMF8bwyU/wEO2+8LiJD/aOo0zeWYhPyS8LbSiWRg/okToyg4ODD+NfzFjWrr6PsYj3vTwMuk+xiPe9PAy6T62zAZZYwamPrbMBlljBqY+Y2LVfmP/ED9jYtV+Y/8QPxWEUpz+txM/xFZ017ZfFz/6hitqvPAaP+RxBJMtRx8/aIogtHyeIj9wDk+TFQYmP/BpRQkscik/r595ofnBLT/x8bqKsHoyPzirMS0pKDg/+NdFSVIrPz+fYicdxJhCPyg/QsFWu0M/IoewB4hvQj/P1QkrAgs/PzumhByvyzg/R2VGyESnMz/E0E7jaOQuP0k6jEKwuic/ZxhrB72zIj+6u0qVNb0gP8cImnu4EiE/fxMczzSbIT9MwNQO7n8gP+Ws4E6amxo/GEvJDN/xET9SqWkQUOgDPymO18mLQPI+nlIAPiGM4D6eUgA+IYzgPrbMBlljBqY+tswGWWMGpj4VJ7wBwmUaPxUnvAHCZRo/vtR2tJ1fHT/J97j2dZkfP12GgFw3Yh4/H8TT97gVGz8IXqQpUuQYP0APhtJTVxk/f609ApprHD98QpoXc40hP5DB92DjGCg/xB3lTNx5MT8NKqaUQYY4P2yH6LTHFj8/V3fek9YlQT/U9Hz8fE9AP/umXlr6YTs/yCYifFWENT93k0rP6d4wP1pxn3cWpSo/1XMbxB6GJD/QKPa7l2MfPzuyJaXyNho/6XN7hAX5GD+no1kzKKAYPxdscLelVhY/r1MxJRJ1ET9t1+kEEscGP0KOFaPkY/g+B97vBJyG5T6CFUiYvrbSPoIVSJi+ttI+tswGWWMGpj62zAZZYwamPj6TrxuokCA/PpOvG6iQID8qAxUNTzkiP4o1DFlsCCM/EUK2l9QWIT9nl5AOTGwaP2f2sBJnZxM/sx1VFmwKED+MbdrjyM4QPx5cQQeMPBY/lRWp3VM1IT88FkiENrMrP3aoohoA5jQ/eyghOK7FOz/gJViWLIM/P4+yHBcDVz4/fp8MZoBoOT8MvYvz+L4zP3lEYPJUxy4/JoUpzFdwKD8lQ7BVYdUiP5Zdx/xq1Bs/x2++7q9jFT/cLLJe0pgSP3Z13gD/SxE/adLGA4tZDj/zuvarZh4HP2+L9f+0Zv0+b0qCBAKc7j4CcyZu/SnaPl5xEyN/5sU+XnETI3/mxT62zAZZYwamPrbMBlljBqY+PpOvG6iQID8+k68bqJAgPyoDFQ1POSI/ijUMWWwIIz8RQraX1BYhP2eXkA5MbBo/Z/awEmdnEz+zHVUWbAoQP4xt2uPIzhA/HlxBB4w8Fj+VFandUzUhPzwWSIQ2sys/dqiiGgDmND97KCE4rsU7P+AlWJYsgz8/j7IcFwNXPj9+nwxmgGg5Pwy9i/P4vjM/eURg8lTHLj8mhSnMV3AoPyVDsFVh1SI/ll3H/GrUGz/Hb77ur2MVP9wssl7SmBI/dnXeAP9LET9p0sYDi1kOP/O69qtmHgc/b4v1/7Rm/T5vSoIEApzuPgJzJm79Kdo+XnETI3/mxT5ecRMjf+bFPrbMBlljBqY+tswGWWMGpj62zAZZYwamPrbMBlljBqY+tswGWWMGpj62zAZZYwamPrbMBlljBqY+tswGWWMGpj62zAZZYwamPrbMBlljBqY+tswGWWMGpj62zAZZYwamPrbMBlljBqY+tswGWWMGpj62zAZZYwamPrbMBlljBqY+tswGWWMGpj62zAZZYwamPrbMBlljBqY+tswGWWMGpj62zAZZYwamPrbMBlljBqY+tswGWWMGpj62zAZZYwamPrbMBlljBqY+tswGWWMGpj62zAZZYwamPrbMBlljBqY+tswGWWMGpj62zAZZYwamPrbMBlljBqY+tswGWWMGpj62zAZZYwamPrbMBlljBqY+tswGWWMGpj4=",
          "dtype": "f8",
          "shape": "34, 34"
         }
        },
        {
         "colorscale": [
          [
           0,
           "rgb(247,251,255)"
          ],
          [
           0.125,
           "rgb(222,235,247)"
          ],
          [
           0.25,
           "rgb(198,219,239)"
          ],
          [
           0.375,
           "rgb(158,202,225)"
          ],
          [
           0.5,
           "rgb(107,174,214)"
          ],
          [
           0.625,
           "rgb(66,146,198)"
          ],
          [
           0.75,
           "rgb(33,113,181)"
          ],
          [
           0.875,
           "rgb(8,81,156)"
          ],
          [
           1,
           "rgb(8,48,107)"
          ]
         ],
         "contours": {
          "end": 0.0035031682750533643,
          "size": 0.0027690068912853225,
          "start": 0.0007341613837680418
         },
         "line": {
          "width": 2
         },
         "name": "p3(log$A$)&p7(ra)",
         "ncontours": 2,
         "showlegend": false,
         "showscale": false,
         "type": "contour",
         "x": {
          "bdata": "hg5FxiGP9L+F1UllMYr0v4ScTgRBhfS/g2NTo1CA9L+CKlhCYHv0v4LxXOFvdvS/grhhgH9x9L+Bf2Yfj2z0v4BGa76eZ/S/gA1wXa5i9L+A1HT8vV30v3+beZvNWPS/fmJ+Ot1T9L9+KYPZ7E70v37wh3j8SfS/fbeMFwxF9L98fpG2G0D0v3xFllUrO/S/ewyb9Do29L9605+TSjH0v3qapDJaLPS/emGp0Wkn9L95KK5weSL0v3jvsg+JHfS/eLa3rpgY9L94fbxNqBP0v3dEwey3DvS/dgvGi8cJ9L920soq1wT0v3aZz8nm//O/dWDUaPb68790J9kHBvbzv3Pu3aYV8fO/crXiRSXs878=",
          "dtype": "f8"
         },
         "xaxis": "x18",
         "y": {
          "bdata": "fzr37TxMXEBbbB2MoFNcQDeeQyoEW1xAE9BpyGdiXEDvAZBmy2lcQMsztgQvcVxAp2XcopJ4XECDlwJB9n9cQF/JKN9Zh1xAO/tOfb2OXEAXLXUbIZZcQPNem7mEnVxAz5DBV+ikXECrwuf1S6xcQIf0DZSvs1xAYyY0MhO7XEA+WFrQdsJcQBqKgG7ayVxA9rumDD7RXEDS7cyqodhcQK4f80gF4FxAilEZ52jnXEBmgz+FzO5cQEK1ZSMw9lxAHueLwZP9XED6GLJf9wRdQNZK2P1aDF1Asnz+m74TXUCOriQ6IhtdQGrgStiFIl1ARhJxdukpXUAiRJcUTTFdQP51vbKwOF1A2qfjUBRAXUA=",
          "dtype": "f8"
         },
         "yaxis": "y18",
         "z": {
          "bdata": "AAAAAAAAAAAAAAAAAAAAAAAAAAAAAAAAAAAAAAAAAAAAAAAAAAAAAAAAAAAAAAAAAAAAAAAAAAAAAAAAAAAAAAAAAAAAAAAAAAAAAAAAAAAAAAAAAAAAAAAAAAAAAAAAAAAAAAAAAAAAAAAAAAAAAAAAAAAAAAAAAAAAAAAAAAAAAAAAAAAAAAAAAAAAAAAAAAAAAAAAAAAAAAAAAAAAAAAAAAAAAAAAAAAAAAAAAAAAAAAAAAAAAAAAAAAAAAAAAAAAAAAAAAAAAAAAAAAAAAAAAAAAAAAAAAAAAAAAAAAAAAAAAAAAAAAAAAAAAAAAAAAAAAAAAAAAAAAAAAAAAAAAAAAAAAAAAAAAAAAAAAAAAAAAAAAAAIw6bv7wNY0+jDpu/vA1jT5VMRDL3T6iPjNjeC5WK7Y+CNl3SJ8bxj5OBJdBG6/TPlW6hsp8ROI+pAyiz6sJ8z7ENUSmbMEDPy2Zf55gwhE/3cO3PlkWGj8zh0xb3F8fP+RmmDHrRiA/xpvS/fMZID/2Himd84kgP9MFqWfRbSE/V1pWJ8oJIj+gtxxuL+kiPw0i+1FKYyU/TQxHLlFtKT8za5nepFstP6W57B5MBTA/Lcz9bZfhMD/IfHcG7U4xP20BbKk+9TA/lUbhU7H9Lz+AG3MFi5kuPzQ/yvPbbi4/7jhZVd3oLT+sY8UdgsQrP95I5dJ+eSk/3kjl0n55KT8AAAAAAAAAAAAAAAAAAAAAjDpu/vA1jT6MOm7+8DWNPlUxEMvdPqI+M2N4LlYrtj4I2XdInxvGPk4El0Ebr9M+VbqGynxE4j6kDKLPqwnzPsQ1RKZswQM/LZl/nmDCET/dw7c+WRYaPzOHTFvcXx8/5GaYMetGID/Gm9L98xkgP/YeKZ3ziSA/0wWpZ9FtIT9XWlYnygkiP6C3HG4v6SI/DSL7UUpjJT9NDEcuUW0pPzNrmd6kWy0/pbnsHkwFMD8tzP1tl+EwP8h8dwbtTjE/bQFsqT71MD+VRuFTsf0vP4AbcwWLmS4/ND/K89tuLj/uOFlV3egtP6xjxR2CxCs/3kjl0n55KT/eSOXSfnkpPwAAAAAAAAAAAAAAAAAAAADL1nUk6T+iPsvWdSTpP6I+tQXGB+zNtj7MLtPVSj3LPqLCBmZYGNo+mxOq/bWr5D4IdTut/gfuPrDktUp1Z/c+NgoKWhNABD/LCcsRUfgQP4wahmMcixg/69yv5anxHT+Nmxsa7UggP57tiAi+giE/U6oarc+0Iz/ls+t5chwmP3fFFwXlbSc/SyEXo0oVKD/iVxI9JcopP5dIbzcdBS0/i4a5s60uMD9jvHOlp0gxP+735tbeyzE/FI/rIdu1MT8pPyic1tkwP9/v6EzSOS8/e29F7JbTLT9guAV31u8tPzShzSwozS0/+DNHx4wbLD/KsE39aCcqP8qwTf1oJyo/AAAAAAAAAAAAAAAAAAAAAGm1+iKRpbU+abX6IpGltT4RYvM1MQrLPswyUHVTDOA+gABTeyJM7j6cdmq/1Nv2Pn4BtR1N+vw+gSjknUBmAT+UmIVRTe4GP034W1mWhhA/OygR4PngFj8CPxnE7occPxSNxSqAxiA/zsfEOX5GJD+QWSdpiVopP3sRPwx5aS4/815+JGK0MD92EveJYFIxP+LxeIlxJTI/IGtJ0n+jMz8OSff5gBc1PwIjCG/rsTU/ZNPW2sNENT9RNpWnx+QzPx8uJyWmzDE/pX/8ieyaLz9Gza3rQsktPzzRdBpKHi4/Bj0IyaV0Lj9JqmeEVFMtPwnu8kx2yys/Ce7yTHbLKz8AAAAAAAAAAAAAAAAAAAAAzZeYMeSVxD7Nl5gx5JXEPswF9tyaj9k+otgjfGM77j4/uSUWfnP8Ph45UqDKPgU/pOjqQFLtCT9p7Xpm1AAMP0MBZFTY3g4/l47rSIUWEz99U+fkotwYP9hPS9wqiB8/TUPj5CXaIz82LrHcNwIqP8slLJzhNjE/hylvQkVpNT/AIs7nB084P2Cvuas/Djo/q/CDyqbbOz8WdxmMbxQ+PzOihRaUoz8/fgaFBCJgPz8z1Tg43hw9P/Wj0kxaYDk/NVw5gO4YNT8M7dJb2aYxP9iR9EESHTA/4c2I2f0pMD+/WxYRx2gwP4l4za4r7C8/65Kg+9CQLj/rkqD70JAuPwAAAAAAAAAAAAAAAAAAAAAgp4Wyzt/PPiCnhbLO388+VT/zIgtj4z5vspG1AsD2PpdzLICpbgU/J6TyK5YiED9yThEolPYTP+V+nnt3xxU/5KvpGKauFz/plz1aPT4cP9F0Xmtp9iE///aRiyznJj8sBLZIQmUtP3vZREJbbTM/aK3ijXWhOT/thM7fIeo/P/dBe+x0aEI/CNk8wtc9RD9GargZ7QZGPwVJxmNPvUc/v4MiQ9aDSD+m2TkD65JHP+WdoT7+8kQ/Zc95R0hSQT/ObfHkrkk7PwXMZEixzzU/R/CcmndIMz8nq77O+fMyPzLudoJS+zI/tIGhDKpNMj/u6PcThXMxP+7o9xOFczE/AAAAAAAAAAAAAAAAAAAAADXbKcmaW9Y+NdspyZpb1j6m5piczknpPjfOHt2Puvw+yWFCCcr4Cj/z9P0eYL4UP5H8DpRG/ho/FJ2dCNDjHz8K76YfndgiP4Uz2VM2kCc/3m64hTBXLj8LRShLHFozP87zS6cLnzg/jb4hQHHRPz9898VspXZEP7dn79NhJEk/KZ5vVxIHTT9/QY5baQVQP9zzaOG0TVE/Yvcmg3BAUj8SiIFbmVVSP3qeFZ/bIFE/NWYW3SKHTT9T26wdma5HPz5VpE4oN0I/xDd/fE+9PD8jO2G5zSA5P7ufFFqeODg/obClbJqnNz/WK3XQikQ2P1DRr6wj5TQ/UNGvrCPlND8AAAAAAAAAAAAAAAAAAAAAzYAjoSeI4T7NgCOhJ4jhPvQzp3EjxPA+PYcVmilLAT8snRXEkYAPP3UqfQH9yRg/rSVr6C1TIT/L4tmc/7EmP/1znmTAcC0/GJlNTtJNMz/S9mcs8Cg5P8ptIHchCkA/UHrOYbQ6RD9bK1KGpatJPyDr0U0XNFA/TG5Crmm2Uz++Qvm7pq1WP+VQWPvpzVg/0cCFJkAoWj/8QP96GKpaP81IcSji7Vk/nynlldOjVz8C71uRcwlUP1r2pyN51k8/xpny+t+GSD8rBb9BB5BDP1qivb+3J0E/oRrI51M+QD9FQ235G84+P1ZysuKqLTw/xhiZwhPzOT/GGJnCE/M5PwAAAAAAAAAAAAAAAAAAAAA/7H9xbODwPj/sf3Fs4PA+evhkhdey+j4ECODb2ZkHPyvgrfEs3RM/06EADhkNHz8gHtAGWswmP4LxQAP2BDA/nooxbNziNT+cmCzjkkg9P/VHiog8JUM/7DYmLL9rSD863D1Wy7NOP+1bYkaKSlM/Ru1aajMZWD89IIQ9SSldP+J4dTMltWA/lWhNErsKYj8e0HdFoYViP1zrqnpXQGI/M1rxvC9EYT/CPZ03UBFfP8a5RhxyU1o/gbgRTZEZVT/BJbIejYBQP44Rf5lLs0o/7iyHbbBeRz8ApuLl1aVFP/WO1ZkQ8kM/sC27otjRQT8JPTBUUzJAPwk9MFRTMkA/AAAAAAAAAAAAAAAAAAAAABbEhVAovAA/FsSFUCi8AD94OiH0lZ8HP/nq6g8zZRI/kscSsuIlHD8kIDykDwElP2XEu+qbxC4/smNovGj1NT/fVy+kV08+P9pBUMfhSkQ/cJTnAOuGSj/xMCaw3vhQP25R/TcaYFU/r70BhlK/Wj8zRRJ1H5dgP/C2R8DW+GM/2ARAHHq/Zj82N194tzpoP2kiIrK7SWg/4QdgZfpOZz/BJjvyPbJlP1C1D1/0iGM/Dm+0Ft/IYD9P5bQlNmZbPyZ3PsGxvlU/9LjKXjumUT9cEpW/BnhOP8TYTaHngks/44LDOsW/SD/ZIMxXvs5FPxxA6FHgvEM/HEDoUeC8Qz8AAAAAAAAAAAAAAAAAAAAAH3PsDwbwDD8fc+wPBvAMPx9HIDXeWRM/3Vbs1S0NHD9RgpjANgckPw2n1pnnYSw/spnSjFY0ND8ltMUhrng8P3uI+7wwgkM/Bjpol+T/ST8WYVafxf1QP4sAFYF71lU/L/EV8kycWz9BAYWfPkBhP2fHXQS2RmU/7wAqOPRtaT/zRI8lrbJsP0DDy4KPIW4/EZEwrbahbT/Y/g0t6vhrP7c5LP3l8Wk/p19TAyikZz9cZhenrLZkP8y0EBk5L2E/H1X+plZrWz9Oj6c7JwlWPyf7m6YUl1I/inQkiJRbUD9oI2B7UOlMPySK5bsSVkk/ILm6O6j6Rj8gubo7qPpGPwAAAAAAAAAAAAAAAAAAAADu7mrlnJ0UP+7uauWcnRQ/F7RDLPvuGj8G33s76OMiPwiX3yDlESo/tB+VNOnyMT/4T8l97BE5P6yB4pJEe0E/RlNCHdzURz+p/FiXcahPPwtNSCrrpVQ/imNdvdSJWj+7Q4fE2MpgPzNuQWLi9GQ/ymkU9sy2aT/MOQPyeHpuP9BGR5loAnE/WBe5X6qecT+xce+gihlxP7Ituq22CXA/xgsGSrPtbT+EozdxVLNrP5NXgGjhp2g/zKu8hHybZD8bsQq1OllgP87LgGSvxVk/4BDYeUAmVT+CQsiSWSZSPzRqBUDNn08/ONOtz0ajSz8vx/FQwSJJPy/H8VDBIkk/AAAAAAAAAAAAAAAAAAAAAN1bu0enPhg/3Vu7R6c+GD/UNgHOJ68fP5hw8xu6OiY/wAfj2fu6Lj8Awgl1xTk1P3M3Y/kxvj0/DrtTADTNRD+zml6FimpMPwtQKdsl11I/482wxHFnWD8ml5W9qxhfP3aQStwBkGM/Ih3Sg6ZVaD+NImlvr7ttPxt3CNt0fXE/lRyqfQBTcz/papnvPc9zP1D7zjqPF3M/vyBH8FPqcT+BmbMtp9lwP4o+iLF7gG8/WLEgBVMwbD82EQOWDX1nPze3L+7zYWI/+QO6V/tHXD/lTUkKxIdWPyM+AAvB21I/CxOTQhYxUD867Rpa7yNMP5Iek42yj0k/kh6TjbKPST8AAAAAAAAAAAAAAAAAAAAANPwEliRVGD80/ASWJFUYP7gNxxtMXSA/ekKhr5TVJz+GudDYMBgxP5nnqG0LUzg/bv1/8ZJZQT9jm4ZkvX9IP5Wm4LM3z1A/WWNiQYM8Vj8tr9eZe3tcP8B07FKV32E/Eq1C+J88Zj+s5xNXK4ZrP+TV60yEw3A/lO43NOWccz9zWNn9TH91P9xACC314HU/UqJoLUIEdT9BQepK5rtzPw3rWmjJknI/ASHxZ1ZOcT+NvlDDZLtuPzGVPuZJTGk/+/cTfL5wYz+1B1K6ryNdP+epiOW2hlY/onozRkphUj/sS6DpTwdPP5MSqGL2qUo/fPwOkZcOSD98/A6Rlw5IPwAAAAAAAAAAAAAAAAAAAADNgpoO6xoWP82Cmg7rGhY/kQjbfMORHz+xggm4OqgoP1/cl5NwxTI/W9FwPenIOz8UpdOyTjBEP+b1Zs7LtEw/2+Th9H+9Uz+QaubzzwVaP7isP0w6emA/9r89JA1cZD8XlBamcQVpPwoVOJIry24/kV6V3M+ycj+ESPEwTcV1P9s5AuaAsnc/dPFQndL1dz+FkJnfkOZ2P59IhIjKXXU/nEJ6/33ecz8y2G9L0TByP8ZVwGxYsW8/VNFa6VCcaT99pKDU/khjP7WQoi+aK1w/zDE1sSUjVT/akrRgV8tQP71mLPvoyUs/lyyWsjOARz8sguDHOfhEPyyC4Mc5+EQ/AAAAAAAAAAAAAAAAAAAAADmFWgiawBM/OYVaCJrAEz9iZ5rlClwePyKMx+2AmCk/+AR94nmiND8KGmFyz5I/P1NL7pC2Pkc/EzOxxGSUUD8v2D5jCctWPyqHki1e610/H9f47fXDYj8/OZzTTORmPxgHyHaBz2s/DhEhR5f6cD9skC3gE390Pxc1qHPTtHc/pCQ5L6ObeT+sKhS+Pa95P9gICkYYUHg/aihfNAZZdj8QEQuhMlJ0P3nazSS5HnI/KR1HwbLPbj+MfXXFpGhoPy2c4U7NCmI/0HBds6HBWT+aXxgCT8ZSP00Dh3MG+kw/PoApxWRkRz8ooEayvmJDPwIKmbnQD0E/AgqZudAPQT8AAAAAAAAAAAAAAAAAAAAAL8N5D/JtEz8vw3kP8m0TP9x10X+HFh8/G704wNFNKz8ScXHGSas2P01utX2vnkE/vrXQcyUUSj9vZaNPYpdSP3oAnC5yeFk/5q6Rd/adYD8EqLoVN6pkP3fcof5e7mg/LkMV9rDnbT/WmDGGlgVyP/ZO5GqMf3U/+a6NHFOdeD+ZMYRDGlx6P3MRpGBRNXo/KiyvgReDeD/ws4gouRx2PwMEklLbmnM/aEbM2H4HcT9+c3vfNV1sP3YxP561LGY/grSM+No6YD8nwzyEuNRWP/Bak2QAN1A/xR4ObWwuSD+t0dQMrd9CP3hSVPtobD4/aV0dn0ZPOj9pXR2fRk86PwAAAAAAAAAAAAAAAAAAAACQZArHNGcXP5BkCsc0Zxc/GNWmTxUKIj+TmlHWRs0uP/h/OeJ1Hzk/EeQQxZBGQz/SoNTT2ztMP4btGeyQ8FM/aiT+g98OWz90zMKSIHxhPxvaMAuzimU/0GD0uZq1aT+PB3+kf2JuP1YzSxsC+nE/agR0wdMPdT/dLqZ/GMh3P+OYgLGgOXk/YMvTOc7geD/O/ws7fwN3PwCkA5/ZaHQ/Q0JGSRa3cT8cZm0hgDduP/ORTjkF8mg/8GSb48OJYz8JgFqghctcP2pa6enWQVQ/DWlD/jA6TD9wa/fBazVEP0wYvxjrBj4/B7T/a2oqNz9HauQEWn0zP0dq5ARafTM/AAAAAAAAAAAAAAAAAAAAANB6/FMvnyA/0Hr8Uy+fID9Lowgm23MnP7QYi8X6ZDI/FS9LG6gvPD9CeiKssaxEP2aPeaWKWE0/G+YYJf1CVD9qj+aOJANbPzz8jXUwN2E/isW6ctr9ZD9X0wIx2M1oPw7uPSZQ5mw/VU6crAfEcD9eb3e3oT1zP5XIfBk1XXU/HsQFA4Jmdj/UhNa4rOV1P6ofvWhMDHQ/qBlQuVeHcT8xrz2KJPltP28zgsDNXGk/EMrs3pwQZT/j1yG/bNJgP/1x4IeiaVk/bVMN3YEqUj/RSAMH3BJJPxKZa6V6MUE/aa7PUCDsNz9bMyyEmkIxP1XHcFADvis/VcdwUAO+Kz8AAAAAAAAAAAAAAAAAAAAAOxSWdpm4Jz87FJZ2mbgnP7IByr+Qvy4/+BOZ/U7tNT/k9KrdKwc/P54AsmvXY0U/WdGADp0GTT9KoG9of2xTP0qOzYqOVFk/w8QaoeXMXz8gQum5yzNjP2tt8Ok7hmY/cCvVktz8aT+NB7ZCZrdtP8xw3SpqwXA/3w974AFKcj+Iwxa/xeNyPwpFEZ6WNnI/L/QQGNBvcD82390gfktsP1tohEAS4Wc/NSHN9HoqZD+IbyXhJv9gPzwd+0vX7ls/UZ9b5gTNVT9fepS6WudPP4G2oTvt+kU/tZEz9SAEPT+UFEBHWckyP6ZHDRMP2Sg/DGiVXgaoIj8MaJVeBqgiPwAAAAAAAAAAAAAAAAAAAAAJhwzO7zUuPwmHDM7vNS4/9s49dHNZMj+KdRQkxiQ4P0skJywDxj8/fQEbvNOlRD/uJjdqhddKPzFxRbU/elE/9av+eLtuVj+trrCePexbP4dhcWdnymA/I7YDKQ+kYz/15ZSuCJJmPxF0YMmLo2k/2dLM+BihbD9mKdidJdRuP92GlvAcTG8/QR/obO6RbT+C/c6q3xZqPwddSZI88GU/XibX7AQpYj+yF7jZAHBeP2nk0RLJ31k/Poji+z24VT9gLlBJCmNRPyMpcQJa7kk/sMXudSzhQT8btc5Y9u02P/FOpN3j1Ss/gpsf+PnEID9OxM35Rx4XP07EzflHHhc/AAAAAAAAAAAAAAAAAAAAAOHt/qk3jzA/4e3+qTePMD+X+gFFmQ4zP4rcKj0JZzc/AcL4GQz4PD9y/24Q9vRBP4HWX4KBqUY/8nuiuq0vTT9j00Tf18dSP+Ias7CHlFc/8CCY976TXD9yfUO84sNgPw/vGfeMP2M/OHp/eozQZT+QMBBib0ZoP9ZaebYm82k/7JNb71r8aT/vI0G7qQxoPzD2zaDSp2Q/ZPSu6aPTYD9Eu3YndfJaP35cynnh9FU/35UjcI5cUj+McQF+0bZOP5UdbjDvskg/jPLmkdqFQj9Gb5ASZnw5Pw3fU2rEADA/UYIrHJ55Ij9twdS4cHUUP4w0UlVquwk/jDRSVWq7CT8AAAAAAAAAAAAAAAAAAAAAoJUrOSAmMD+glSs5ICYwPwFSzlsLfzE/GX0dnlHlMz9/xYmFJCA3PyEk69ymiDs/MEJ5Lf0gQT8b5QaKR1ZGPzDN9HjCn00/IbB3ed42Uz8YDbb2u9JXP7hlQOjVLlw/eDadWFEiYD9/Br2R9y1iP14TR8/+J2Q/pkxKN/l+ZT8xx2cpEmxlPyLBi9HAnWM/Z7LlA0CHYD/wMqptAB5aPz5AlywUAlQ/RPAEaCTcTj+cNamq5GlIPzc4GpHHh0M/m6rDPaOEPj+tEeRrRIU2P+fN09DNoS4/uzcOKuPkIj8WqXOlbwYVP75ocT0KwgU/aFdMZxcc+T5oV0xnFxz5PgAAAAAAAAAAAAAAAAAAAABG1Xu1OeQuP0bVe7U55C4/lgiKZYXhLj9BHeI5YWovP52M8TyFoTA/B9okOq7GMj8an2BvaD03P9Vzm2sUgT8/v0Tn3BwvRj+jpxSVqWVOP97k4LBTflM/NcdoFsZGVz8FvHN3D2NaP9GmyKg3OF0/O4h9CUD9Xz8xn43zfAFhP5zmqjJUAmE/GyacSyRKXz/Qc6qqUlZaP4OgSFJ0hlQ/x0uy0PVdTj86mvOpgfxFP6HgmRcq3j8/S8egVTwwNz8ulm1wQrQwPypw6PnXSyc/0/fJ8zObHj+lJco38msSPx/9Hkqc5gM/s1eLvPaR8z603i+W3wLlPrTeL5bfAuU+AAAAAAAAAAAAAAAAAAAAAPl0tt6m8S8/+XS23qbxLz+vvFJD72gtPxZf36kmFyo/BMuIi8D5Jz+LA0Uy85ooP5Taaru9/y0/CPMyG5mGNT9pUOFfkGhAP9iXNavU70c/EVE6fQG/Tz+nmfNW4gVTP8El487/F1U/MaTEVoCFVj8E69xFg+FXP9JzWgHyDlk/JN/9EAs2WT9cFSCbC5ZXP/kEPFOlP1Q/Sru31MkFUD/zi9cr2bxHP4OEAA4TuEA/Wb+ei8CJNj/ZlL0YTBYtP2Ay8eqAFyI/WF+FlacBFj8tpvdAUzIKP4sx4Ifmuf0+PTTLRU7l7j5q1/Bd5B/dPl7+ZRFrhM0+Xv5lEWuEzT4AAAAAAAAAAAAAAAAAAAAA49TPpfZ6MT/j1M+l9noxP5phd/rOvS4/JupW4eDaKD/5ZkDdCRgkP3aj18xrRCI/FrUfWiVBJT8oat6al7cvP/ORMH74tDk/BosF8maVQz9C5/kh8nRKP8Lp0ckLeE8/sBbZFUbWUD92kvR17/BQP1g5ISI+4lA/KEV9iIYSUT+b2e8MUCFRP59muM1iZFA/a8V8JL43TT+EJiVqfjhIP55usdR91UI/AdKUMnhwOz90mb8dVF8yPym9il8JFCY/9jTuJ+ioFz+2sodOGUEHP0BNpwF/J/Y+R4KD5dY/5T6CgMbGAAXUPhANM6hSwcE+o4loWVv8sD6jiWhZW/ywPgAAAAAAAAAAAAAAAAAAAAADtdnMIzQyPwO12cwjNDI/dGgEzXi9Lz+GyH0nwh8pPwHFSNvMfCM/eEjkhNWtID//ffq6IoMiPxeORuC+ZCs/eRoTPh1hNj8RVQD/mSJBPytNCDXGEEc/o0TDCDXvSj/L/hBYlZtLPzw4sz+dxEk/09Glq+pYRz/x0Rqmfd1FP7jXK/UIV0U/Hb1gqKXJRD/RHITOEXRDP2vf24GhUEE/QvDi3lQ/PT9sTWqzSvI2P0kXNpZ3EDA/UcG3HAxJIz+HxsnQgWQTP/dysKGXXwA/tI5hfHUi6D69Xn93u+PQPhgaXVetc7g+cNxQpBJ2oj4cSkeTntCPPhxKR5Oe0I8+AAAAAAAAAAAAAAAAAAAAAMLhAqi2mjA/wuECqLaaMD9YtsYd+DItPx/yU6Y9gCc/H/8TflycIj82gjJsSjUgP/LAEZqcDyI/5y8IXMdWKj/PK3+j3A81P6K2tYWCpj8/jI/DxUvvRD/eUFL9++BHPxXWgac2ekc/JXMNZG9URD9h1qznt21AP2hS9/AuNzs/52Kqq/WzOD/NUfsAOgw4P5QM4vF0wzc/RroLyaYeNz8v4AhVSZQ1PzxtDa/DczI/6BZce/dlKz8/3G9jaO8gP01SZj0XARE/J/JvLa13+z7uGYConfLhPm+oowlLnMM+P4fj/nlwoz7bk8qjUY+DPi6DJlL5b2Y+LoMmUvlvZj4AAAAAAAAAAAAAAAAAAAAAprIt42+PKT+msi3jb48pPw5NApFTwiY/+4lInkTQIj+iNiWrixYfP5fHh/hfuBw/dMqI1ZTxID/imchNYkEpP3lToHHsETQ/GawPIsS+PT9uee+ADlxDPyiTLPFHmEU/d0JdSzt3RD+G0j8n2ZtAP835+3JdBTg/KO+w8egOMT+4i+23qTUrP/EIUSH+tCk/aDSx/HMhKz+LhtoKdp4tP5RAQglBEy8/DurV+10XLT+5GN/9/u8mP8ge/HkUaR0//dCokMYYDj8Qy/9V5lz4PhyFyl9SG98+crSFduVzvz5e3u2BqayZPiOQLz6bf3E+TqgQu1pfOj5OqBC7Wl86PgAAAAAAAAAAAAAAAAAAAACpvpz9JdEgP6m+nP0l0SA/GHkKmbFQHj8p30jfo8IZPw4tgd/XZBY/ZMlOVGCFFj843sk+qUUdP3Bz+oBRJCc/fkJ7hUHIMj9Z9B/bA+47PwYLzFEhDkI/YIqMuJTLQz8zKSamJy9CP6Qqt7+I/Ds/4p1wkzlwMj87gxXQTXImP5wBRvHMGB4/4MDlCh71Gj+7nAjcgY4fP5/iH4NUJiQ/txN8e9cUKD8YWYE6+JUoP6i49b1kdCQ/Mn0f2ccdGz9rk6kw81YMP/JZc61lO/c+FI7PGuHL3T5M1YKXjtq9Pvt+5yEbWZc+IONG5O76az787NwRIcahPfzs3BEhxqE9AAAAAAAAAAAAAAAAAAAAAKVsHOWtSBY/pWwc5a1IFj+RhSUVgkgUP5YtFlGLpxE/3C12dDghED+oE9Wh1LMRP5rNRzBoVRk/uP79MyJFJT/wCUwbBr4xP8Noz8AFqjo/CE/0pNA8QT+iP/11NbhCPy4M9Fdy20A/eRGV5vwUOT/GqJ9Q/CgvP7sXb4XfBiE/odJYdSKbEz+7cXWrkMgQPyCDQ8xdTBY/sSdnT4tpID9eXkO6eoMlP6RrH+gGKCc/j0sW/ZncIz9QEqM1gNMaPwzqd+mSYQw/0o7vEr929z4K2L/Tj0fePpd30xBqer4+UERbm1Hrlz5VdLbsHv1sPgAAAAAAAAAAAAAAAAAAAAAAAAAAAAAAAAAAAAAAAAAApWwc5a1IFj+lbBzlrUgWP5GFJRWCSBQ/li0WUYunET/cLXZ0OCEQP6gT1aHUsxE/ms1HMGhVGT+4/v0zIkUlP/AJTBsGvjE/w2jPwAWqOj8IT/Sk0DxBP6I//XU1uEI/Lgz0V3LbQD95EZXm/BQ5P8aon1D8KC8/uxdvhd8GIT+h0lh1IpsTP7txdauQyBA/IINDzF1MFj+xJ2dPi2kgP15eQ7p6gyU/pGsf6AYoJz+PSxb9mdwjP1ASozWA0xo/DOp36ZJhDD/Sju8Sv3b3PgrYv9OPR94+l3fTEGp6vj5QRFubUeuXPlV0tuwe/Ww+AAAAAAAAAAAAAAAAAAAAAAAAAAAAAAAAAAAAAAAAAAAAAAAAAAAAAAAAAAAAAAAAAAAAAAAAAAAAAAAAAAAAAAAAAAAAAAAAAAAAAAAAAAAAAAAAAAAAAAAAAAAAAAAAAAAAAAAAAAAAAAAAAAAAAAAAAAAAAAAAAAAAAAAAAAAAAAAAAAAAAAAAAAAAAAAAAAAAAAAAAAAAAAAAAAAAAAAAAAAAAAAAAAAAAAAAAAAAAAAAAAAAAAAAAAAAAAAAAAAAAAAAAAAAAAAAAAAAAAAAAAAAAAAAAAAAAAAAAAAAAAAAAAAAAAAAAAAAAAAAAAAAAAAAAAAAAAAAAAAAAAAAAAAAAAAAAAAAAAAAAAAAAAAAAAAAAAAAAAAAAAAAAAAAAAAAAAA=",
          "dtype": "f8",
          "shape": "34, 34"
         }
        },
        {
         "line": {
          "color": "#08519c",
          "width": 2
         },
         "mode": "lines",
         "name": "p8(dec)",
         "showlegend": false,
         "type": "scatter",
         "x": {
          "bdata": "XCGffq49SUCHTsNOQExJQIdOw05ATElAsnvnHtJaSUCye+ce0lpJQN2oC+9jaUlA3agL72NpSUAI1i+/9XdJQAjWL7/1d0lAMwNUj4eGSUAzA1SPh4ZJQF4weF8ZlUlAXjB4XxmVSUCJXZwvq6NJQIldnC+ro0lAs4rA/zyySUCzisD/PLJJQN635M/OwElA3rfkz87ASUAJ5QigYM9JQAnlCKBgz0lANBItcPLdSUA0Ei1w8t1JQF8/UUCE7ElAXz9RQITsSUCKbHUQFvtJQIpsdRAW+0lAtZmZ4KcJSkC1mZngpwlKQODGvbA5GEpA4Ma9sDkYSkAL9OGAyyZKQAv04YDLJkpANiEGUV01SkA2IQZRXTVKQGFOKiHvQ0pAYU4qIe9DSkCMe07xgFJKQIx7TvGAUkpAt6hywRJhSkC3qHLBEmFKQOLVlpGkb0pA4tWWkaRvSkANA7thNn5KQA0Du2E2fkpAODDfMciMSkA4MN8xyIxKQGJdAwJam0pAYl0DAlqbSkCNiifS66lKQI2KJ9LrqUpAuLdLon24SkC4t0uifbhKQOPkb3IPx0pA4+Rvcg/HSkAOEpRCodVKQA4SlEKh1UpAOT+4EjPkSkA5P7gSM+RKQGRs3OLE8kpA",
          "dtype": "f8"
         },
         "xaxis": "x25",
         "y": {
          "bdata": "9+jTngSIrD/36NOeBIisP3b1q8cij7A/dvWrxyKPsD+jq5vBIy20P6Orm8EjLbQ/PZg8tXhyuD89mDy1eHK4P8e5R10FDL4/x7lHXQUMvj/OvX7ElETDP869fsSURMM/WefyGzJbyT9Z5/IbMlvJP90jIFQoWNA/3SMgVChY0D+nyogMv/3TP6fKiAy//dM/BeFq7hQ21z8F4WruFDbXP/8LCf/VONo//wsJ/9U42j+TY5EcQ4vdP5NjkRxDi90/a0S7kMel4D9rRLuQx6XgP4v1wJe2dOI/i/XAl7Z04j/vvruLWsPjP+++u4taw+M/ynwZpDlA5D/KfBmkOUDkPzq/r1FA1uM/Or+vUUDW4z8+9xaA36jiPz73FoDfqOI/bhe+FD8D4T9uF74UPwPhP+CiSz4sa94/4KJLPixr3j9J+NlyJMnaP0n42XIkydo/N41xJAHy1j83jXEkAfLWP9MlHUk8nNI/0yUdSTyc0j/IyJQLM87LP8jIlAszzss/9g9QM3Tjwj/2D1AzdOPCP9xSAEM6rbc/3FIAQzqttz+rfjFQ1dKsP6t+MVDV0qw/FASmWx92oj8UBKZbH3aiP3Hpr/P4spo/cemv8/iymj9A2WsIPI6WP0DZawg8jpY/",
          "dtype": "f8"
         },
         "yaxis": "y25"
        },
        {
         "colorscale": [
          [
           0,
           "rgb(247,251,255)"
          ],
          [
           0.125,
           "rgb(222,235,247)"
          ],
          [
           0.25,
           "rgb(198,219,239)"
          ],
          [
           0.375,
           "rgb(158,202,225)"
          ],
          [
           0.5,
           "rgb(107,174,214)"
          ],
          [
           0.625,
           "rgb(66,146,198)"
          ],
          [
           0.75,
           "rgb(33,113,181)"
          ],
          [
           0.875,
           "rgb(8,81,156)"
          ],
          [
           1,
           "rgb(8,48,107)"
          ]
         ],
         "contours": {
          "end": 0.0033859019696897185,
          "size": 0.002617046421505862,
          "start": 0.0007688555481838566
         },
         "line": {
          "width": 2
         },
         "name": "p1($\\alpha$)&p8(dec)",
         "ncontours": 2,
         "showlegend": false,
         "showscale": false,
         "type": "contour",
         "x": {
          "bdata": "0zPfJQJT4r/xV8EAPDbivw98o9t1GeK/LaCFtq/84b9LxGeR6d/hv2joSWwjw+G/hgwsR12m4b+kMA4il4nhv8JU8PzQbOG/4HjS1wpQ4b/+nLSyRDPhvxzBlo1+FuG/OuV4aLj54L9YCVtD8tzgv3UtPR4swOC/k1Ef+WWj4L+xdQHUn4bgv8+Z467ZaeC/7b3FiRNN4L8L4qdkTTDgvykGij+HE+C/jlTYNILt37/InJzq9bPfvwTlYKBpet+/QC0lVt1A3798dekLUQffv7i9rcHEzd6/8wVydziU3r8vTjYtrFrev2qW+uIfId6/pt6+mJPn3b/iJoNOB67dvx5vRwR7dN2/WrcLuu463b8=",
          "dtype": "f8"
         },
         "xaxis": "x21",
         "y": {
          "bdata": "nt1oxtMnSUDICo2WZTZJQPI3sWb3RElAHGXVNolTSUBIkvkGG2JJQHK/HdescElAnuxBpz5/SUDIGWZ30I1JQPRGikdinElAHnSuF/SqSUBIodLnhblJQHTO9rcXyElAnvsaiKnWSUDKKD9YO+VJQPRVYyjN80lAIIOH+F4CSkBKsKvI8BBKQHbdz5iCH0pAoAr0aBQuSkDMNxg5pjxKQPZkPAk4S0pAIpJg2clZSkBMv4SpW2hKQHjsqHntdkpAohnNSX+FSkDNRvEZEZRKQPhzFeqiokpAIqE5ujSxSkBOzl2Kxr9KQHj7gVpYzkpApCimKurcSkDOVcr6e+tKQPiC7soN+kpAIrASm58IS0A=",
          "dtype": "f8"
         },
         "yaxis": "y21",
         "z": {
          "bdata": "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",
          "dtype": "f8",
          "shape": "34, 34"
         }
        },
        {
         "colorscale": [
          [
           0,
           "rgb(247,251,255)"
          ],
          [
           0.125,
           "rgb(222,235,247)"
          ],
          [
           0.25,
           "rgb(198,219,239)"
          ],
          [
           0.375,
           "rgb(158,202,225)"
          ],
          [
           0.5,
           "rgb(107,174,214)"
          ],
          [
           0.625,
           "rgb(66,146,198)"
          ],
          [
           0.75,
           "rgb(33,113,181)"
          ],
          [
           0.875,
           "rgb(8,81,156)"
          ],
          [
           1,
           "rgb(8,48,107)"
          ]
         ],
         "contours": {
          "end": 0.003314779643425742,
          "size": 0.002547257136661143,
          "start": 0.0007675225067645989
         },
         "line": {
          "width": 2
         },
         "name": "p2(log$E_{c}$)&p8(dec)",
         "ncontours": 2,
         "showlegend": false,
         "showscale": false,
         "type": "contour",
         "x": {
          "bdata": "RhNQfXmjBEAsAvkoqKkEQBLxodTWrwRA+N9KgAW2BEDdzvMrNLwEQMO9nNdiwgRAqKxFg5HIBECOm+4uwM4EQHSKl9ru1ARAWnlAhh3bBEA/aOkxTOEEQCVXkt165wRACkY7iantBEDwNOQ02PMEQNYjjeAG+gRAvBI2jDUABUChAd83ZAYFQIfwh+OSDAVAbN8wj8ESBUBSztk68BgFQDi9guYeHwVAHqwrkk0lBUADm9Q9fCsFQOmJfemqMQVAzngmldk3BUC0Z89ACD4FQJpWeOw2RAVAgEUhmGVKBUBlNMpDlFAFQEsjc+/CVgVAMBIcm/FcBUAWAcVGIGMFQPzvbfJOaQVA4t4Wnn1vBUA=",
          "dtype": "f8"
         },
         "xaxis": "x22",
         "y": {
          "bdata": "nt1oxtMnSUDICo2WZTZJQPI3sWb3RElAHGXVNolTSUBIkvkGG2JJQHK/HdescElAnuxBpz5/SUDIGWZ30I1JQPRGikdinElAHnSuF/SqSUBIodLnhblJQHTO9rcXyElAnvsaiKnWSUDKKD9YO+VJQPRVYyjN80lAIIOH+F4CSkBKsKvI8BBKQHbdz5iCH0pAoAr0aBQuSkDMNxg5pjxKQPZkPAk4S0pAIpJg2clZSkBMv4SpW2hKQHjsqHntdkpAohnNSX+FSkDNRvEZEZRKQPhzFeqiokpAIqE5ujSxSkBOzl2Kxr9KQHj7gVpYzkpApCimKurcSkDOVcr6e+tKQPiC7soN+kpAIrASm58IS0A=",
          "dtype": "f8"
         },
         "yaxis": "y22",
         "z": {
          "bdata": "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",
          "dtype": "f8",
          "shape": "34, 34"
         }
        },
        {
         "colorscale": [
          [
           0,
           "rgb(247,251,255)"
          ],
          [
           0.125,
           "rgb(222,235,247)"
          ],
          [
           0.25,
           "rgb(198,219,239)"
          ],
          [
           0.375,
           "rgb(158,202,225)"
          ],
          [
           0.5,
           "rgb(107,174,214)"
          ],
          [
           0.625,
           "rgb(66,146,198)"
          ],
          [
           0.75,
           "rgb(33,113,181)"
          ],
          [
           0.875,
           "rgb(8,81,156)"
          ],
          [
           1,
           "rgb(8,48,107)"
          ]
         ],
         "contours": {
          "end": 0.003143613875787074,
          "size": 0.0024534386350611994,
          "start": 0.0006901752407258745
         },
         "line": {
          "width": 2
         },
         "name": "p3(log$A$)&p8(dec)",
         "ncontours": 2,
         "showlegend": false,
         "showscale": false,
         "type": "contour",
         "x": {
          "bdata": "hg5FxiGP9L+F1UllMYr0v4ScTgRBhfS/g2NTo1CA9L+CKlhCYHv0v4LxXOFvdvS/grhhgH9x9L+Bf2Yfj2z0v4BGa76eZ/S/gA1wXa5i9L+A1HT8vV30v3+beZvNWPS/fmJ+Ot1T9L9+KYPZ7E70v37wh3j8SfS/fbeMFwxF9L98fpG2G0D0v3xFllUrO/S/ewyb9Do29L9605+TSjH0v3qapDJaLPS/emGp0Wkn9L95KK5weSL0v3jvsg+JHfS/eLa3rpgY9L94fbxNqBP0v3dEwey3DvS/dgvGi8cJ9L920soq1wT0v3aZz8nm//O/dWDUaPb68790J9kHBvbzv3Pu3aYV8fO/crXiRSXs878=",
          "dtype": "f8"
         },
         "xaxis": "x23",
         "y": {
          "bdata": "nt1oxtMnSUDICo2WZTZJQPI3sWb3RElAHGXVNolTSUBIkvkGG2JJQHK/HdescElAnuxBpz5/SUDIGWZ30I1JQPRGikdinElAHnSuF/SqSUBIodLnhblJQHTO9rcXyElAnvsaiKnWSUDKKD9YO+VJQPRVYyjN80lAIIOH+F4CSkBKsKvI8BBKQHbdz5iCH0pAoAr0aBQuSkDMNxg5pjxKQPZkPAk4S0pAIpJg2clZSkBMv4SpW2hKQHjsqHntdkpAohnNSX+FSkDNRvEZEZRKQPhzFeqiokpAIqE5ujSxSkBOzl2Kxr9KQHj7gVpYzkpApCimKurcSkDOVcr6e+tKQPiC7soN+kpAIrASm58IS0A=",
          "dtype": "f8"
         },
         "yaxis": "y23",
         "z": {
          "bdata": "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",
          "dtype": "f8",
          "shape": "34, 34"
         }
        },
        {
         "colorscale": [
          [
           0,
           "rgb(247,251,255)"
          ],
          [
           0.125,
           "rgb(222,235,247)"
          ],
          [
           0.25,
           "rgb(198,219,239)"
          ],
          [
           0.375,
           "rgb(158,202,225)"
          ],
          [
           0.5,
           "rgb(107,174,214)"
          ],
          [
           0.625,
           "rgb(66,146,198)"
          ],
          [
           0.75,
           "rgb(33,113,181)"
          ],
          [
           0.875,
           "rgb(8,81,156)"
          ],
          [
           1,
           "rgb(8,48,107)"
          ]
         ],
         "contours": {
          "end": 0.0035216758871099672,
          "size": 0.002766353593332352,
          "start": 0.0007553222937776154
         },
         "line": {
          "width": 2
         },
         "name": "p7(ra)&p8(dec)",
         "ncontours": 2,
         "showlegend": false,
         "showscale": false,
         "type": "contour",
         "x": {
          "bdata": "fzr37TxMXEBbbB2MoFNcQDeeQyoEW1xAE9BpyGdiXEDvAZBmy2lcQMsztgQvcVxAp2XcopJ4XECDlwJB9n9cQF/JKN9Zh1xAO/tOfb2OXEAXLXUbIZZcQPNem7mEnVxAz5DBV+ikXECrwuf1S6xcQIf0DZSvs1xAYyY0MhO7XEA+WFrQdsJcQBqKgG7ayVxA9rumDD7RXEDS7cyqodhcQK4f80gF4FxAilEZ52jnXEBmgz+FzO5cQEK1ZSMw9lxAHueLwZP9XED6GLJf9wRdQNZK2P1aDF1Asnz+m74TXUCOriQ6IhtdQGrgStiFIl1ARhJxdukpXUAiRJcUTTFdQP51vbKwOF1A2qfjUBRAXUA=",
          "dtype": "f8"
         },
         "xaxis": "x24",
         "y": {
          "bdata": "nt1oxtMnSUDICo2WZTZJQPI3sWb3RElAHGXVNolTSUBIkvkGG2JJQHK/HdescElAnuxBpz5/SUDIGWZ30I1JQPRGikdinElAHnSuF/SqSUBIodLnhblJQHTO9rcXyElAnvsaiKnWSUDKKD9YO+VJQPRVYyjN80lAIIOH+F4CSkBKsKvI8BBKQHbdz5iCH0pAoAr0aBQuSkDMNxg5pjxKQPZkPAk4S0pAIpJg2clZSkBMv4SpW2hKQHjsqHntdkpAohnNSX+FSkDNRvEZEZRKQPhzFeqiokpAIqE5ujSxSkBOzl2Kxr9KQHj7gVpYzkpApCimKurcSkDOVcr6e+tKQPiC7soN+kpAIrASm58IS0A=",
          "dtype": "f8"
         },
         "yaxis": "y24",
         "z": {
          "bdata": "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",
          "dtype": "f8",
          "shape": "34, 34"
         }
        },
        {
         "error_x": {
          "array": [
           0.016551252358842028
          ],
          "arrayminus": [
           0.018222098247235086
          ],
          "color": "#FF0092",
          "symmetric": false,
          "thickness": 1,
          "type": "data",
          "width": 0
         },
         "marker": {
          "color": "#FF0092",
          "size": 5,
          "symbol": "circle"
         },
         "mode": "markers",
         "name": "p1($\\alpha$)",
         "showlegend": false,
         "type": "scatter",
         "x": [
          -0.5125426485197044
         ],
         "xaxis": "x",
         "y": [
          0.01
         ],
         "yaxis": "y"
        },
        {
         "error_x": {
          "array": [
           0.0140150608051961
          ],
          "arrayminus": [
           0.013490383157223285
          ],
          "color": "#FF0092",
          "symmetric": false,
          "thickness": 1,
          "type": "data",
          "width": 0
         },
         "marker": {
          "color": "#FF0092",
          "size": 5,
          "symbol": "circle"
         },
         "mode": "markers",
         "name": "p2(log$E_{c}$)",
         "showlegend": false,
         "type": "scatter",
         "x": [
          2.625802793565313
         ],
         "xaxis": "x7",
         "y": [
          0.01
         ],
         "yaxis": "y7"
        },
        {
         "error_x": {
          "array": [
           0.006349132895624887
          ],
          "arrayminus": [
           0.00602704042822344
          ],
          "color": "#FF0092",
          "symmetric": false,
          "thickness": 1,
          "type": "data",
          "width": 0
         },
         "marker": {
          "color": "#FF0092",
          "size": 5,
          "symbol": "circle"
         },
         "mode": "markers",
         "name": "p3(log$A$)",
         "showlegend": false,
         "type": "scatter",
         "x": [
          -1.2637928379398375
         ],
         "xaxis": "x13",
         "y": [
          0.01
         ],
         "yaxis": "y13"
        },
        {
         "error_x": {
          "array": [
           0.5310619009431861
          ],
          "arrayminus": [
           0.5803248418541074
          ],
          "color": "#FF0092",
          "symmetric": false,
          "thickness": 1,
          "type": "data",
          "width": 0
         },
         "marker": {
          "color": "#FF0092",
          "size": 5,
          "symbol": "circle"
         },
         "mode": "markers",
         "name": "p7(ra)",
         "showlegend": false,
         "type": "scatter",
         "x": [
          115.09506886426622
         ],
         "xaxis": "x19",
         "y": [
          0.01
         ],
         "yaxis": "y19"
        },
        {
         "error_x": {
          "array": [
           0.5996097127991931
          ],
          "arrayminus": [
           0.6561380135443571
          ],
          "color": "#FF0092",
          "symmetric": false,
          "thickness": 1,
          "type": "data",
          "width": 0
         },
         "marker": {
          "color": "#FF0092",
          "size": 5,
          "symbol": "circle"
         },
         "mode": "markers",
         "name": "p8(dec)",
         "showlegend": false,
         "type": "scatter",
         "x": [
          52.21137400284262
         ],
         "xaxis": "x25",
         "y": [
          0.01
         ],
         "yaxis": "y25"
        },
        {
         "marker": {
          "color": "#FF0092",
          "size": 5,
          "symbol": "square"
         },
         "mode": "markers",
         "name": "p1($\\alpha$)&p2(log$E_{c}$)",
         "showlegend": false,
         "type": "scatter",
         "x": [
          -0.5164389867225747
         ],
         "xaxis": "x6",
         "y": [
          2.6293468376265614
         ],
         "yaxis": "y6"
        },
        {
         "marker": {
          "color": "#FF0092",
          "size": 5,
          "symbol": "square"
         },
         "mode": "markers",
         "name": "p1($\\alpha$)&p3(log$A$)",
         "showlegend": false,
         "type": "scatter",
         "x": [
          -0.5164389867225747
         ],
         "xaxis": "x11",
         "y": [
          -1.2649657125748757
         ],
         "yaxis": "y11"
        },
        {
         "marker": {
          "color": "#FF0092",
          "size": 5,
          "symbol": "square"
         },
         "mode": "markers",
         "name": "p2(log$E_{c}$)&p3(log$A$)",
         "showlegend": false,
         "type": "scatter",
         "x": [
          2.6293468376265614
         ],
         "xaxis": "x12",
         "y": [
          -1.2649657125748757
         ],
         "yaxis": "y12"
        },
        {
         "marker": {
          "color": "#FF0092",
          "size": 5,
          "symbol": "square"
         },
         "mode": "markers",
         "name": "p1($\\alpha$)&p7(ra)",
         "showlegend": false,
         "type": "scatter",
         "x": [
          -0.5164389867225747
         ],
         "xaxis": "x16",
         "y": [
          115.13665427787406
         ],
         "yaxis": "y16"
        },
        {
         "marker": {
          "color": "#FF0092",
          "size": 5,
          "symbol": "square"
         },
         "mode": "markers",
         "name": "p2(log$E_{c}$)&p7(ra)",
         "showlegend": false,
         "type": "scatter",
         "x": [
          2.6293468376265614
         ],
         "xaxis": "x17",
         "y": [
          115.13665427787406
         ],
         "yaxis": "y17"
        },
        {
         "marker": {
          "color": "#FF0092",
          "size": 5,
          "symbol": "square"
         },
         "mode": "markers",
         "name": "p3(log$A$)&p7(ra)",
         "showlegend": false,
         "type": "scatter",
         "x": [
          -1.2649657125748757
         ],
         "xaxis": "x18",
         "y": [
          115.13665427787406
         ],
         "yaxis": "y18"
        },
        {
         "marker": {
          "color": "#FF0092",
          "size": 5,
          "symbol": "square"
         },
         "mode": "markers",
         "name": "p1($\\alpha$)&p8(dec)",
         "showlegend": false,
         "type": "scatter",
         "x": [
          -0.5164389867225747
         ],
         "xaxis": "x21",
         "y": [
          52.06664889164705
         ],
         "yaxis": "y21"
        },
        {
         "marker": {
          "color": "#FF0092",
          "size": 5,
          "symbol": "square"
         },
         "mode": "markers",
         "name": "p2(log$E_{c}$)&p8(dec)",
         "showlegend": false,
         "type": "scatter",
         "x": [
          2.6293468376265614
         ],
         "xaxis": "x22",
         "y": [
          52.06664889164705
         ],
         "yaxis": "y22"
        },
        {
         "marker": {
          "color": "#FF0092",
          "size": 5,
          "symbol": "square"
         },
         "mode": "markers",
         "name": "p3(log$A$)&p8(dec)",
         "showlegend": false,
         "type": "scatter",
         "x": [
          -1.2649657125748757
         ],
         "xaxis": "x23",
         "y": [
          52.06664889164705
         ],
         "yaxis": "y23"
        },
        {
         "marker": {
          "color": "#FF0092",
          "size": 5,
          "symbol": "square"
         },
         "mode": "markers",
         "name": "p7(ra)&p8(dec)",
         "showlegend": false,
         "type": "scatter",
         "x": [
          115.13665427787406
         ],
         "xaxis": "x24",
         "y": [
          52.06664889164705
         ],
         "yaxis": "y24"
        }
       ],
       "layout": {
        "height": 1000,
        "shapes": [
         {
          "line": {
           "color": "#FF0092",
           "width": 1
          },
          "type": "line",
          "x0": -0.5164389867225747,
          "x1": -0.5164389867225747,
          "xref": "x6",
          "y0": 0,
          "y1": 1,
          "yref": "y6 domain"
         },
         {
          "line": {
           "color": "#FF0092",
           "width": 1
          },
          "type": "line",
          "x0": 0,
          "x1": 1,
          "xref": "x6 domain",
          "y0": 2.6293468376265614,
          "y1": 2.6293468376265614,
          "yref": "y6"
         },
         {
          "line": {
           "color": "#FF0092",
           "width": 1
          },
          "type": "line",
          "x0": -0.5164389867225747,
          "x1": -0.5164389867225747,
          "xref": "x11",
          "y0": 0,
          "y1": 1,
          "yref": "y11 domain"
         },
         {
          "line": {
           "color": "#FF0092",
           "width": 1
          },
          "type": "line",
          "x0": 0,
          "x1": 1,
          "xref": "x11 domain",
          "y0": -1.2649657125748757,
          "y1": -1.2649657125748757,
          "yref": "y11"
         },
         {
          "line": {
           "color": "#FF0092",
           "width": 1
          },
          "type": "line",
          "x0": 2.6293468376265614,
          "x1": 2.6293468376265614,
          "xref": "x12",
          "y0": 0,
          "y1": 1,
          "yref": "y12 domain"
         },
         {
          "line": {
           "color": "#FF0092",
           "width": 1
          },
          "type": "line",
          "x0": 0,
          "x1": 1,
          "xref": "x12 domain",
          "y0": -1.2649657125748757,
          "y1": -1.2649657125748757,
          "yref": "y12"
         },
         {
          "line": {
           "color": "#FF0092",
           "width": 1
          },
          "type": "line",
          "x0": -0.5164389867225747,
          "x1": -0.5164389867225747,
          "xref": "x16",
          "y0": 0,
          "y1": 1,
          "yref": "y16 domain"
         },
         {
          "line": {
           "color": "#FF0092",
           "width": 1
          },
          "type": "line",
          "x0": 0,
          "x1": 1,
          "xref": "x16 domain",
          "y0": 115.13665427787406,
          "y1": 115.13665427787406,
          "yref": "y16"
         },
         {
          "line": {
           "color": "#FF0092",
           "width": 1
          },
          "type": "line",
          "x0": 2.6293468376265614,
          "x1": 2.6293468376265614,
          "xref": "x17",
          "y0": 0,
          "y1": 1,
          "yref": "y17 domain"
         },
         {
          "line": {
           "color": "#FF0092",
           "width": 1
          },
          "type": "line",
          "x0": 0,
          "x1": 1,
          "xref": "x17 domain",
          "y0": 115.13665427787406,
          "y1": 115.13665427787406,
          "yref": "y17"
         },
         {
          "line": {
           "color": "#FF0092",
           "width": 1
          },
          "type": "line",
          "x0": -1.2649657125748757,
          "x1": -1.2649657125748757,
          "xref": "x18",
          "y0": 0,
          "y1": 1,
          "yref": "y18 domain"
         },
         {
          "line": {
           "color": "#FF0092",
           "width": 1
          },
          "type": "line",
          "x0": 0,
          "x1": 1,
          "xref": "x18 domain",
          "y0": 115.13665427787406,
          "y1": 115.13665427787406,
          "yref": "y18"
         },
         {
          "line": {
           "color": "#FF0092",
           "width": 1
          },
          "type": "line",
          "x0": -0.5164389867225747,
          "x1": -0.5164389867225747,
          "xref": "x21",
          "y0": 0,
          "y1": 1,
          "yref": "y21 domain"
         },
         {
          "line": {
           "color": "#FF0092",
           "width": 1
          },
          "type": "line",
          "x0": 0,
          "x1": 1,
          "xref": "x21 domain",
          "y0": 52.06664889164705,
          "y1": 52.06664889164705,
          "yref": "y21"
         },
         {
          "line": {
           "color": "#FF0092",
           "width": 1
          },
          "type": "line",
          "x0": 2.6293468376265614,
          "x1": 2.6293468376265614,
          "xref": "x22",
          "y0": 0,
          "y1": 1,
          "yref": "y22 domain"
         },
         {
          "line": {
           "color": "#FF0092",
           "width": 1
          },
          "type": "line",
          "x0": 0,
          "x1": 1,
          "xref": "x22 domain",
          "y0": 52.06664889164705,
          "y1": 52.06664889164705,
          "yref": "y22"
         },
         {
          "line": {
           "color": "#FF0092",
           "width": 1
          },
          "type": "line",
          "x0": -1.2649657125748757,
          "x1": -1.2649657125748757,
          "xref": "x23",
          "y0": 0,
          "y1": 1,
          "yref": "y23 domain"
         },
         {
          "line": {
           "color": "#FF0092",
           "width": 1
          },
          "type": "line",
          "x0": 0,
          "x1": 1,
          "xref": "x23 domain",
          "y0": 52.06664889164705,
          "y1": 52.06664889164705,
          "yref": "y23"
         },
         {
          "line": {
           "color": "#FF0092",
           "width": 1
          },
          "type": "line",
          "x0": 115.13665427787406,
          "x1": 115.13665427787406,
          "xref": "x24",
          "y0": 0,
          "y1": 1,
          "yref": "y24 domain"
         },
         {
          "line": {
           "color": "#FF0092",
           "width": 1
          },
          "type": "line",
          "x0": 0,
          "x1": 1,
          "xref": "x24 domain",
          "y0": 52.06664889164705,
          "y1": 52.06664889164705,
          "yref": "y24"
         }
        ],
        "template": {
         "data": {
          "bar": [
           {
            "error_x": {
             "color": "#2a3f5f"
            },
            "error_y": {
             "color": "#2a3f5f"
            },
            "marker": {
             "line": {
              "color": "white",
              "width": 0.5
             },
             "pattern": {
              "fillmode": "overlay",
              "size": 10,
              "solidity": 0.2
             }
            },
            "type": "bar"
           }
          ],
          "barpolar": [
           {
            "marker": {
             "line": {
              "color": "white",
              "width": 0.5
             },
             "pattern": {
              "fillmode": "overlay",
              "size": 10,
              "solidity": 0.2
             }
            },
            "type": "barpolar"
           }
          ],
          "carpet": [
           {
            "aaxis": {
             "endlinecolor": "#2a3f5f",
             "gridcolor": "#C8D4E3",
             "linecolor": "#C8D4E3",
             "minorgridcolor": "#C8D4E3",
             "startlinecolor": "#2a3f5f"
            },
            "baxis": {
             "endlinecolor": "#2a3f5f",
             "gridcolor": "#C8D4E3",
             "linecolor": "#C8D4E3",
             "minorgridcolor": "#C8D4E3",
             "startlinecolor": "#2a3f5f"
            },
            "type": "carpet"
           }
          ],
          "choropleth": [
           {
            "colorbar": {
             "outlinewidth": 0,
             "ticks": ""
            },
            "type": "choropleth"
           }
          ],
          "contour": [
           {
            "colorbar": {
             "outlinewidth": 0,
             "ticks": ""
            },
            "colorscale": [
             [
              0,
              "#0d0887"
             ],
             [
              0.1111111111111111,
              "#46039f"
             ],
             [
              0.2222222222222222,
              "#7201a8"
             ],
             [
              0.3333333333333333,
              "#9c179e"
             ],
             [
              0.4444444444444444,
              "#bd3786"
             ],
             [
              0.5555555555555556,
              "#d8576b"
             ],
             [
              0.6666666666666666,
              "#ed7953"
             ],
             [
              0.7777777777777778,
              "#fb9f3a"
             ],
             [
              0.8888888888888888,
              "#fdca26"
             ],
             [
              1,
              "#f0f921"
             ]
            ],
            "type": "contour"
           }
          ],
          "contourcarpet": [
           {
            "colorbar": {
             "outlinewidth": 0,
             "ticks": ""
            },
            "type": "contourcarpet"
           }
          ],
          "heatmap": [
           {
            "colorbar": {
             "outlinewidth": 0,
             "ticks": ""
            },
            "colorscale": [
             [
              0,
              "#0d0887"
             ],
             [
              0.1111111111111111,
              "#46039f"
             ],
             [
              0.2222222222222222,
              "#7201a8"
             ],
             [
              0.3333333333333333,
              "#9c179e"
             ],
             [
              0.4444444444444444,
              "#bd3786"
             ],
             [
              0.5555555555555556,
              "#d8576b"
             ],
             [
              0.6666666666666666,
              "#ed7953"
             ],
             [
              0.7777777777777778,
              "#fb9f3a"
             ],
             [
              0.8888888888888888,
              "#fdca26"
             ],
             [
              1,
              "#f0f921"
             ]
            ],
            "type": "heatmap"
           }
          ],
          "histogram": [
           {
            "marker": {
             "pattern": {
              "fillmode": "overlay",
              "size": 10,
              "solidity": 0.2
             }
            },
            "type": "histogram"
           }
          ],
          "histogram2d": [
           {
            "colorbar": {
             "outlinewidth": 0,
             "ticks": ""
            },
            "colorscale": [
             [
              0,
              "#0d0887"
             ],
             [
              0.1111111111111111,
              "#46039f"
             ],
             [
              0.2222222222222222,
              "#7201a8"
             ],
             [
              0.3333333333333333,
              "#9c179e"
             ],
             [
              0.4444444444444444,
              "#bd3786"
             ],
             [
              0.5555555555555556,
              "#d8576b"
             ],
             [
              0.6666666666666666,
              "#ed7953"
             ],
             [
              0.7777777777777778,
              "#fb9f3a"
             ],
             [
              0.8888888888888888,
              "#fdca26"
             ],
             [
              1,
              "#f0f921"
             ]
            ],
            "type": "histogram2d"
           }
          ],
          "histogram2dcontour": [
           {
            "colorbar": {
             "outlinewidth": 0,
             "ticks": ""
            },
            "colorscale": [
             [
              0,
              "#0d0887"
             ],
             [
              0.1111111111111111,
              "#46039f"
             ],
             [
              0.2222222222222222,
              "#7201a8"
             ],
             [
              0.3333333333333333,
              "#9c179e"
             ],
             [
              0.4444444444444444,
              "#bd3786"
             ],
             [
              0.5555555555555556,
              "#d8576b"
             ],
             [
              0.6666666666666666,
              "#ed7953"
             ],
             [
              0.7777777777777778,
              "#fb9f3a"
             ],
             [
              0.8888888888888888,
              "#fdca26"
             ],
             [
              1,
              "#f0f921"
             ]
            ],
            "type": "histogram2dcontour"
           }
          ],
          "mesh3d": [
           {
            "colorbar": {
             "outlinewidth": 0,
             "ticks": ""
            },
            "type": "mesh3d"
           }
          ],
          "parcoords": [
           {
            "line": {
             "colorbar": {
              "outlinewidth": 0,
              "ticks": ""
             }
            },
            "type": "parcoords"
           }
          ],
          "pie": [
           {
            "automargin": true,
            "type": "pie"
           }
          ],
          "scatter": [
           {
            "fillpattern": {
             "fillmode": "overlay",
             "size": 10,
             "solidity": 0.2
            },
            "type": "scatter"
           }
          ],
          "scatter3d": [
           {
            "line": {
             "colorbar": {
              "outlinewidth": 0,
              "ticks": ""
             }
            },
            "marker": {
             "colorbar": {
              "outlinewidth": 0,
              "ticks": ""
             }
            },
            "type": "scatter3d"
           }
          ],
          "scattercarpet": [
           {
            "marker": {
             "colorbar": {
              "outlinewidth": 0,
              "ticks": ""
             }
            },
            "type": "scattercarpet"
           }
          ],
          "scattergeo": [
           {
            "marker": {
             "colorbar": {
              "outlinewidth": 0,
              "ticks": ""
             }
            },
            "type": "scattergeo"
           }
          ],
          "scattergl": [
           {
            "marker": {
             "colorbar": {
              "outlinewidth": 0,
              "ticks": ""
             }
            },
            "type": "scattergl"
           }
          ],
          "scattermap": [
           {
            "marker": {
             "colorbar": {
              "outlinewidth": 0,
              "ticks": ""
             }
            },
            "type": "scattermap"
           }
          ],
          "scattermapbox": [
           {
            "marker": {
             "colorbar": {
              "outlinewidth": 0,
              "ticks": ""
             }
            },
            "type": "scattermapbox"
           }
          ],
          "scatterpolar": [
           {
            "marker": {
             "colorbar": {
              "outlinewidth": 0,
              "ticks": ""
             }
            },
            "type": "scatterpolar"
           }
          ],
          "scatterpolargl": [
           {
            "marker": {
             "colorbar": {
              "outlinewidth": 0,
              "ticks": ""
             }
            },
            "type": "scatterpolargl"
           }
          ],
          "scatterternary": [
           {
            "marker": {
             "colorbar": {
              "outlinewidth": 0,
              "ticks": ""
             }
            },
            "type": "scatterternary"
           }
          ],
          "surface": [
           {
            "colorbar": {
             "outlinewidth": 0,
             "ticks": ""
            },
            "colorscale": [
             [
              0,
              "#0d0887"
             ],
             [
              0.1111111111111111,
              "#46039f"
             ],
             [
              0.2222222222222222,
              "#7201a8"
             ],
             [
              0.3333333333333333,
              "#9c179e"
             ],
             [
              0.4444444444444444,
              "#bd3786"
             ],
             [
              0.5555555555555556,
              "#d8576b"
             ],
             [
              0.6666666666666666,
              "#ed7953"
             ],
             [
              0.7777777777777778,
              "#fb9f3a"
             ],
             [
              0.8888888888888888,
              "#fdca26"
             ],
             [
              1,
              "#f0f921"
             ]
            ],
            "type": "surface"
           }
          ],
          "table": [
           {
            "cells": {
             "fill": {
              "color": "#EBF0F8"
             },
             "line": {
              "color": "white"
             }
            },
            "header": {
             "fill": {
              "color": "#C8D4E3"
             },
             "line": {
              "color": "white"
             }
            },
            "type": "table"
           }
          ]
         },
         "layout": {
          "annotationdefaults": {
           "arrowcolor": "#2a3f5f",
           "arrowhead": 0,
           "arrowwidth": 1
          },
          "autotypenumbers": "strict",
          "coloraxis": {
           "colorbar": {
            "outlinewidth": 0,
            "ticks": ""
           }
          },
          "colorscale": {
           "diverging": [
            [
             0,
             "#8e0152"
            ],
            [
             0.1,
             "#c51b7d"
            ],
            [
             0.2,
             "#de77ae"
            ],
            [
             0.3,
             "#f1b6da"
            ],
            [
             0.4,
             "#fde0ef"
            ],
            [
             0.5,
             "#f7f7f7"
            ],
            [
             0.6,
             "#e6f5d0"
            ],
            [
             0.7,
             "#b8e186"
            ],
            [
             0.8,
             "#7fbc41"
            ],
            [
             0.9,
             "#4d9221"
            ],
            [
             1,
             "#276419"
            ]
           ],
           "sequential": [
            [
             0,
             "#0d0887"
            ],
            [
             0.1111111111111111,
             "#46039f"
            ],
            [
             0.2222222222222222,
             "#7201a8"
            ],
            [
             0.3333333333333333,
             "#9c179e"
            ],
            [
             0.4444444444444444,
             "#bd3786"
            ],
            [
             0.5555555555555556,
             "#d8576b"
            ],
            [
             0.6666666666666666,
             "#ed7953"
            ],
            [
             0.7777777777777778,
             "#fb9f3a"
            ],
            [
             0.8888888888888888,
             "#fdca26"
            ],
            [
             1,
             "#f0f921"
            ]
           ],
           "sequentialminus": [
            [
             0,
             "#0d0887"
            ],
            [
             0.1111111111111111,
             "#46039f"
            ],
            [
             0.2222222222222222,
             "#7201a8"
            ],
            [
             0.3333333333333333,
             "#9c179e"
            ],
            [
             0.4444444444444444,
             "#bd3786"
            ],
            [
             0.5555555555555556,
             "#d8576b"
            ],
            [
             0.6666666666666666,
             "#ed7953"
            ],
            [
             0.7777777777777778,
             "#fb9f3a"
            ],
            [
             0.8888888888888888,
             "#fdca26"
            ],
            [
             1,
             "#f0f921"
            ]
           ]
          },
          "colorway": [
           "#636efa",
           "#EF553B",
           "#00cc96",
           "#ab63fa",
           "#FFA15A",
           "#19d3f3",
           "#FF6692",
           "#B6E880",
           "#FF97FF",
           "#FECB52"
          ],
          "font": {
           "color": "#2a3f5f"
          },
          "geo": {
           "bgcolor": "white",
           "lakecolor": "white",
           "landcolor": "white",
           "showlakes": true,
           "showland": true,
           "subunitcolor": "#C8D4E3"
          },
          "hoverlabel": {
           "align": "left"
          },
          "hovermode": "closest",
          "mapbox": {
           "style": "light"
          },
          "paper_bgcolor": "white",
          "plot_bgcolor": "white",
          "polar": {
           "angularaxis": {
            "gridcolor": "#EBF0F8",
            "linecolor": "#EBF0F8",
            "ticks": ""
           },
           "bgcolor": "white",
           "radialaxis": {
            "gridcolor": "#EBF0F8",
            "linecolor": "#EBF0F8",
            "ticks": ""
           }
          },
          "scene": {
           "xaxis": {
            "backgroundcolor": "white",
            "gridcolor": "#DFE8F3",
            "gridwidth": 2,
            "linecolor": "#EBF0F8",
            "showbackground": true,
            "ticks": "",
            "zerolinecolor": "#EBF0F8"
           },
           "yaxis": {
            "backgroundcolor": "white",
            "gridcolor": "#DFE8F3",
            "gridwidth": 2,
            "linecolor": "#EBF0F8",
            "showbackground": true,
            "ticks": "",
            "zerolinecolor": "#EBF0F8"
           },
           "zaxis": {
            "backgroundcolor": "white",
            "gridcolor": "#DFE8F3",
            "gridwidth": 2,
            "linecolor": "#EBF0F8",
            "showbackground": true,
            "ticks": "",
            "zerolinecolor": "#EBF0F8"
           }
          },
          "shapedefaults": {
           "line": {
            "color": "#2a3f5f"
           }
          },
          "ternary": {
           "aaxis": {
            "gridcolor": "#DFE8F3",
            "linecolor": "#A2B1C6",
            "ticks": ""
           },
           "baxis": {
            "gridcolor": "#DFE8F3",
            "linecolor": "#A2B1C6",
            "ticks": ""
           },
           "bgcolor": "white",
           "caxis": {
            "gridcolor": "#DFE8F3",
            "linecolor": "#A2B1C6",
            "ticks": ""
           }
          },
          "title": {
           "x": 0.05
          },
          "xaxis": {
           "automargin": true,
           "gridcolor": "#EBF0F8",
           "linecolor": "#EBF0F8",
           "ticks": "",
           "title": {
            "standoff": 15
           },
           "zerolinecolor": "#EBF0F8",
           "zerolinewidth": 2
          },
          "yaxis": {
           "automargin": true,
           "gridcolor": "#EBF0F8",
           "linecolor": "#EBF0F8",
           "ticks": "",
           "title": {
            "standoff": 15
           },
           "zerolinecolor": "#EBF0F8",
           "zerolinewidth": 2
          }
         }
        },
        "width": 1000,
        "xaxis": {
         "anchor": "y",
         "domain": [
          0,
          0.184
         ],
         "showticklabels": false,
         "tickangle": -45
        },
        "xaxis10": {
         "anchor": "y10",
         "domain": [
          0.816,
          1
         ]
        },
        "xaxis11": {
         "anchor": "y11",
         "domain": [
          0,
          0.184
         ],
         "showticklabels": false,
         "tickangle": -45
        },
        "xaxis12": {
         "anchor": "y12",
         "domain": [
          0.204,
          0.388
         ],
         "showticklabels": false,
         "tickangle": -45
        },
        "xaxis13": {
         "anchor": "y13",
         "domain": [
          0.408,
          0.592
         ],
         "showticklabels": false,
         "tickangle": -45
        },
        "xaxis14": {
         "anchor": "y14",
         "domain": [
          0.6120000000000001,
          0.796
         ]
        },
        "xaxis15": {
         "anchor": "y15",
         "domain": [
          0.816,
          1
         ]
        },
        "xaxis16": {
         "anchor": "y16",
         "domain": [
          0,
          0.184
         ],
         "showticklabels": false,
         "tickangle": -45
        },
        "xaxis17": {
         "anchor": "y17",
         "domain": [
          0.204,
          0.388
         ],
         "showticklabels": false,
         "tickangle": -45
        },
        "xaxis18": {
         "anchor": "y18",
         "domain": [
          0.408,
          0.592
         ],
         "showticklabels": false,
         "tickangle": -45
        },
        "xaxis19": {
         "anchor": "y19",
         "domain": [
          0.6120000000000001,
          0.796
         ],
         "showticklabels": false,
         "tickangle": -45
        },
        "xaxis2": {
         "anchor": "y2",
         "domain": [
          0.204,
          0.388
         ]
        },
        "xaxis20": {
         "anchor": "y20",
         "domain": [
          0.816,
          1
         ]
        },
        "xaxis21": {
         "anchor": "y21",
         "domain": [
          0,
          0.184
         ],
         "showticklabels": true,
         "tickangle": -45,
         "title": {
          "text": "p1($\\alpha$)"
         }
        },
        "xaxis22": {
         "anchor": "y22",
         "domain": [
          0.204,
          0.388
         ],
         "showticklabels": true,
         "tickangle": -45,
         "title": {
          "text": "p2(log$E_{c}$)"
         }
        },
        "xaxis23": {
         "anchor": "y23",
         "domain": [
          0.408,
          0.592
         ],
         "showticklabels": true,
         "tickangle": -45,
         "title": {
          "text": "p3(log$A$)"
         }
        },
        "xaxis24": {
         "anchor": "y24",
         "domain": [
          0.6120000000000001,
          0.796
         ],
         "showticklabels": true,
         "tickangle": -45,
         "title": {
          "text": "p7(ra)"
         }
        },
        "xaxis25": {
         "anchor": "y25",
         "domain": [
          0.816,
          1
         ],
         "showticklabels": true,
         "tickangle": -45,
         "title": {
          "text": "p8(dec)"
         }
        },
        "xaxis3": {
         "anchor": "y3",
         "domain": [
          0.408,
          0.592
         ]
        },
        "xaxis4": {
         "anchor": "y4",
         "domain": [
          0.6120000000000001,
          0.796
         ]
        },
        "xaxis5": {
         "anchor": "y5",
         "domain": [
          0.816,
          1
         ]
        },
        "xaxis6": {
         "anchor": "y6",
         "domain": [
          0,
          0.184
         ],
         "showticklabels": false,
         "tickangle": -45
        },
        "xaxis7": {
         "anchor": "y7",
         "domain": [
          0.204,
          0.388
         ],
         "showticklabels": false,
         "tickangle": -45
        },
        "xaxis8": {
         "anchor": "y8",
         "domain": [
          0.408,
          0.592
         ]
        },
        "xaxis9": {
         "anchor": "y9",
         "domain": [
          0.6120000000000001,
          0.796
         ]
        },
        "yaxis": {
         "anchor": "x",
         "domain": [
          0.816,
          1
         ],
         "showticklabels": false,
         "tickangle": -45
        },
        "yaxis10": {
         "anchor": "x10",
         "domain": [
          0.6120000000000001,
          0.796
         ]
        },
        "yaxis11": {
         "anchor": "x11",
         "domain": [
          0.408,
          0.592
         ],
         "showticklabels": true,
         "tickangle": -45,
         "title": {
          "text": "p3(log$A$)"
         }
        },
        "yaxis12": {
         "anchor": "x12",
         "domain": [
          0.408,
          0.592
         ],
         "showticklabels": false,
         "tickangle": -45
        },
        "yaxis13": {
         "anchor": "x13",
         "domain": [
          0.408,
          0.592
         ],
         "showticklabels": false,
         "tickangle": -45
        },
        "yaxis14": {
         "anchor": "x14",
         "domain": [
          0.408,
          0.592
         ]
        },
        "yaxis15": {
         "anchor": "x15",
         "domain": [
          0.408,
          0.592
         ]
        },
        "yaxis16": {
         "anchor": "x16",
         "domain": [
          0.204,
          0.388
         ],
         "showticklabels": true,
         "tickangle": -45,
         "title": {
          "text": "p7(ra)"
         }
        },
        "yaxis17": {
         "anchor": "x17",
         "domain": [
          0.204,
          0.388
         ],
         "showticklabels": false,
         "tickangle": -45
        },
        "yaxis18": {
         "anchor": "x18",
         "domain": [
          0.204,
          0.388
         ],
         "showticklabels": false,
         "tickangle": -45
        },
        "yaxis19": {
         "anchor": "x19",
         "domain": [
          0.204,
          0.388
         ],
         "showticklabels": false,
         "tickangle": -45
        },
        "yaxis2": {
         "anchor": "x2",
         "domain": [
          0.816,
          1
         ]
        },
        "yaxis20": {
         "anchor": "x20",
         "domain": [
          0.204,
          0.388
         ]
        },
        "yaxis21": {
         "anchor": "x21",
         "domain": [
          0,
          0.184
         ],
         "showticklabels": true,
         "tickangle": -45,
         "title": {
          "text": "p8(dec)"
         }
        },
        "yaxis22": {
         "anchor": "x22",
         "domain": [
          0,
          0.184
         ],
         "showticklabels": false,
         "tickangle": -45
        },
        "yaxis23": {
         "anchor": "x23",
         "domain": [
          0,
          0.184
         ],
         "showticklabels": false,
         "tickangle": -45
        },
        "yaxis24": {
         "anchor": "x24",
         "domain": [
          0,
          0.184
         ],
         "showticklabels": false,
         "tickangle": -45
        },
        "yaxis25": {
         "anchor": "x25",
         "domain": [
          0,
          0.184
         ],
         "showticklabels": false,
         "tickangle": -45
        },
        "yaxis3": {
         "anchor": "x3",
         "domain": [
          0.816,
          1
         ]
        },
        "yaxis4": {
         "anchor": "x4",
         "domain": [
          0.816,
          1
         ]
        },
        "yaxis5": {
         "anchor": "x5",
         "domain": [
          0.816,
          1
         ]
        },
        "yaxis6": {
         "anchor": "x6",
         "domain": [
          0.6120000000000001,
          0.796
         ],
         "showticklabels": true,
         "tickangle": -45,
         "title": {
          "text": "p2(log$E_{c}$)"
         }
        },
        "yaxis7": {
         "anchor": "x7",
         "domain": [
          0.6120000000000001,
          0.796
         ],
         "showticklabels": false,
         "tickangle": -45
        },
        "yaxis8": {
         "anchor": "x8",
         "domain": [
          0.6120000000000001,
          0.796
         ]
        },
        "yaxis9": {
         "anchor": "x9",
         "domain": [
          0.6120000000000001,
          0.796
         ]
        }
       }
      }
     },
     "metadata": {},
     "output_type": "display_data"
    }
   ],
   "source": [
    "fig = Plot.post_corner(post)\n",
    "fig.save(f'{savepath}/corner')"
   ]
  },
  {
   "cell_type": "code",
   "execution_count": null,
   "id": "8aa6d27b",
   "metadata": {},
   "outputs": [],
   "source": []
  }
 ],
 "metadata": {
  "kernelspec": {
   "display_name": "base",
   "language": "python",
   "name": "python3"
  },
  "language_info": {
   "codemirror_mode": {
    "name": "ipython",
    "version": 3
   },
   "file_extension": ".py",
   "mimetype": "text/x-python",
   "name": "python",
   "nbconvert_exporter": "python",
   "pygments_lexer": "ipython3",
   "version": "3.12.8"
  }
 },
 "nbformat": 4,
 "nbformat_minor": 5
}
