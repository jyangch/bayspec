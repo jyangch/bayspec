{
 "cells": [
  {
   "cell_type": "markdown",
   "id": "9b5d5b59",
   "metadata": {},
   "source": [
    "# A Quick Start Tutorial\n",
    "\n",
    "This tutorial offers a quick-start guide for using _BaySpec_ to fit a spectral model to gamma-ray data. It can be broadly divided into the following three sections:\n",
    "\n",
    "- Data: The spectra from Fermi/GBM's NaI detector and BGO detector.\n",
    "- Model: A simple cutoff power-law function.\n",
    "- Fitting: Bayesian inference implemented using _emcee_(or _multinest_)."
   ]
  },
  {
   "cell_type": "code",
   "execution_count": 1,
   "id": "48405a8a-75f0-4a2c-939a-14bd87ec3b89",
   "metadata": {},
   "outputs": [],
   "source": [
    "import numpy as np\n",
    "from bayspec.model.local import *\n",
    "from bayspec import DataUnit, Data, Infer, Plot"
   ]
  },
  {
   "cell_type": "markdown",
   "id": "89bbf706",
   "metadata": {},
   "source": [
    "1. Load spectra and response data."
   ]
  },
  {
   "cell_type": "code",
   "execution_count": 2,
   "id": "d21b52f6-3546-4423-bca9-ad837f15b033",
   "metadata": {},
   "outputs": [
    {
     "name": "stdout",
     "output_type": "stream",
     "text": [
      "╒════════╤════════════════╤═════════════╤═════════════════════════════════╤════════╕\n",
      "│  Name  │    Noticing    │  Statistic  │            Grouping             │  Time  │\n",
      "╞════════╪════════════════╪═════════════╪═════════════════════════════════╪════════╡\n",
      "│  nai   │   [[8, 900]]   │   pgstat    │ {'min_sigma': 3, 'max_bin': 10} │  None  │\n",
      "├────────┼────────────────┼─────────────┼─────────────────────────────────┼────────┤\n",
      "│  bgo   │ [[300, 38000]] │   pgstat    │ {'min_sigma': 3, 'max_bin': 10} │  None  │\n",
      "╘════════╧════════════════╧═════════════╧═════════════════════════════════╧════════╛\n",
      "\n"
     ]
    }
   ],
   "source": [
    "nai = DataUnit(\n",
    "    src='./ME/me.src', \n",
    "    bkg='./ME/me.bkg', \n",
    "    rsp='./ME/me.rsp', \n",
    "    notc=[8, 900], \n",
    "    stat='pgstat', \n",
    "    grpg={'min_sigma': 3, 'max_bin': 10})\n",
    "\n",
    "bgo = DataUnit(\n",
    "    src='./HE/he.src', \n",
    "    bkg='./HE/he.bkg', \n",
    "    rsp='./HE/he.rsp', \n",
    "    notc=[300, 38000], \n",
    "    stat='pgstat', \n",
    "    grpg={'min_sigma': 3, 'max_bin': 10})\n",
    "\n",
    "data = Data([('nai', nai), \n",
    "             ('bgo', bgo)])\n",
    "\n",
    "print(data)"
   ]
  },
  {
   "cell_type": "markdown",
   "id": "707e5bda",
   "metadata": {},
   "source": [
    "2.Define spectral model."
   ]
  },
  {
   "cell_type": "code",
   "execution_count": 3,
   "id": "78047e9a",
   "metadata": {},
   "outputs": [
    {
     "name": "stdout",
     "output_type": "stream",
     "text": [
      "cpl [add]\n",
      "cutoff power law model\n",
      "╒════════╤═════════════╤═════════════╤═════════╕\n",
      "│  cfg#  │  Component  │  Parameter  │  Value  │\n",
      "╞════════╪═════════════╪═════════════╪═════════╡\n",
      "│   1    │     cpl     │  redshift   │    0    │\n",
      "╘════════╧═════════════╧═════════════╧═════════╛\n",
      "╒════════╤═════════════╤═════════════╤═════════╤═════════════╤══════════╕\n",
      "│  par#  │  Component  │  Parameter  │  Value  │    Prior    │  Frozen  │\n",
      "╞════════╪═════════════╪═════════════╪═════════╪═════════════╪══════════╡\n",
      "│   1    │     cpl     │  $\\alpha$   │   -1    │ unif(-8, 4) │  False   │\n",
      "├────────┼─────────────┼─────────────┼─────────┼─────────────┼──────────┤\n",
      "│   2    │     cpl     │ log$E_{c}$  │    2    │ unif(0, 4)  │  False   │\n",
      "├────────┼─────────────┼─────────────┼─────────┼─────────────┼──────────┤\n",
      "│   3    │     cpl     │   log$A$    │   -1    │ unif(-6, 5) │  False   │\n",
      "╘════════╧═════════════╧═════════════╧═════════╧═════════════╧══════════╛\n",
      "\n"
     ]
    }
   ],
   "source": [
    "model = cpl()\n",
    "print(model)"
   ]
  },
  {
   "cell_type": "markdown",
   "id": "ca1f97a8",
   "metadata": {},
   "source": [
    "3.Run Bayesian inference."
   ]
  },
  {
   "cell_type": "code",
   "execution_count": 4,
   "id": "ae57d6a0-d366-42e2-aaf6-46a0fdd15f9f",
   "metadata": {},
   "outputs": [
    {
     "name": "stdout",
     "output_type": "stream",
     "text": [
      "╒════════╤══════════════╤═════════════╤═════════════╤═════════╕\n",
      "│  cfg#  │  Expression  │  Component  │  Parameter  │  Value  │\n",
      "╞════════╪══════════════╪═════════════╪═════════════╪═════════╡\n",
      "│   1    │     cpl      │     cpl     │  redshift   │    0    │\n",
      "╘════════╧══════════════╧═════════════╧═════════════╧═════════╛\n",
      "╒════════╤══════════════╤═════════════╤═════════════╤═════════╤═════════════╕\n",
      "│  par#  │  Expression  │  Component  │  Parameter  │  Value  │    Prior    │\n",
      "╞════════╪══════════════╪═════════════╪═════════════╪═════════╪═════════════╡\n",
      "│   1*   │     cpl      │     cpl     │  $\\alpha$   │   -1    │ unif(-8, 4) │\n",
      "├────────┼──────────────┼─────────────┼─────────────┼─────────┼─────────────┤\n",
      "│   2*   │     cpl      │     cpl     │ log$E_{c}$  │    2    │ unif(0, 4)  │\n",
      "├────────┼──────────────┼─────────────┼─────────────┼─────────┼─────────────┤\n",
      "│   3*   │     cpl      │     cpl     │   log$A$    │   -1    │ unif(-6, 5) │\n",
      "╘════════╧══════════════╧═════════════╧═════════════╧═════════╧═════════════╛\n",
      "\n"
     ]
    }
   ],
   "source": [
    "infer = Infer([(data, model)])\n",
    "print(infer)"
   ]
  },
  {
   "cell_type": "code",
   "execution_count": 5,
   "id": "c277472b-8b72-4860-84cb-37ae593ddfb7",
   "metadata": {},
   "outputs": [
    {
     "name": "stdout",
     "output_type": "stream",
     "text": [
      "╒════════╤══════════════╤═════════════╤═════════════╤════════╤══════════╤════════╤══════════════════╕\n",
      "│  par#  │  Expression  │  Component  │  Parameter  │  Mean  │  Median  │  Best  │    1sigma CI     │\n",
      "╞════════╪══════════════╪═════════════╪═════════════╪════════╪══════════╪════════╪══════════════════╡\n",
      "│   1    │     cpl      │     cpl     │  $\\alpha$   │ -1.561 │  -1.561  │ -1.562 │ [-1.572, -1.551] │\n",
      "├────────┼──────────────┼─────────────┼─────────────┼────────┼──────────┼────────┼──────────────────┤\n",
      "│   2    │     cpl      │     cpl     │ log$E_{c}$  │ 2.688  │  2.688   │ 2.689  │  [2.670, 2.706]  │\n",
      "├────────┼──────────────┼─────────────┼─────────────┼────────┼──────────┼────────┼──────────────────┤\n",
      "│   3    │     cpl      │     cpl     │   log$A$    │ -0.77  │  -0.77   │ -0.771 │ [-0.777, -0.764] │\n",
      "╘════════╧══════════════╧═════════════╧═════════════╧════════╧══════════╧════════╧══════════════════╛\n",
      "╒════════╤═════════╤═════════════╤════════════╤════════╕\n",
      "│  Data  │  Model  │  Statistic  │   Value    │  Bins  │\n",
      "╞════════╪═════════╪═════════════╪════════════╪════════╡\n",
      "│  nai   │   cpl   │   pgstat    │   388.18   │  106   │\n",
      "├────────┼─────────┼─────────────┼────────────┼────────┤\n",
      "│  bgo   │   cpl   │   pgstat    │   32.43    │   26   │\n",
      "├────────┼─────────┼─────────────┼────────────┼────────┤\n",
      "│ Total  │  Total  │  stat/dof   │ 420.61/129 │  132   │\n",
      "╘════════╧═════════╧═════════════╧════════════╧════════╛\n",
      "╒════════╤════════╤════════╤═══════╕\n",
      "│  AIC   │  AICc  │  BIC   │  lnZ  │\n",
      "╞════════╪════════╪════════╪═══════╡\n",
      "│ 426.61 │ 426.8  │ 435.26 │ None  │\n",
      "╘════════╧════════╧════════╧═══════╛\n",
      "\n"
     ]
    }
   ],
   "source": [
    "post = infer.emcee(nstep=1000, resume=True, savepath='./quickstart')\n",
    "print(post)"
   ]
  },
  {
   "cell_type": "code",
   "execution_count": 6,
   "id": "f94202be",
   "metadata": {},
   "outputs": [
    {
     "data": {
      "image/png": "[encoded data removed]",
      "text/plain": [
       "<Figure size 1000x600 with 3 Axes>"
      ]
     },
     "metadata": {},
     "output_type": "display_data"
    }
   ],
   "source": [
    "fig = Plot.emcee_walker(post)"
   ]
  },
  {
   "cell_type": "code",
   "execution_count": 7,
   "id": "44e91f83-276a-4fcf-a89f-898a6e025481",
   "metadata": {},
   "outputs": [
    {
     "data": {
      "application/vnd.plotly.v1+json": {
       "config": {
        "plotlyServerURL": "https://plot.ly"
       },
       "data": [
        {
         "error_x": {
          "array": [
           0.4175887107849121,
           0.4147825241088867,
           0.49709081649780273,
           0.4999260902404785,
           0.5065112113952637,
           0.5168476104736328,
           0.530890941619873,
           0.5464119911193848,
           0.5601511001586914,
           0.6681509017944336,
           0.6808290481567383,
           0.6905584335327148,
           0.6999292373657227,
           0.7102947235107422,
           0.7216701507568359,
           0.8399868011474609,
           0.857666015625,
           0.8768472671508789,
           0.8975353240966797,
           1.2249488830566406,
           0.7692794799804688,
           0.7823829650878906,
           0.8027782440185547,
           0.8221817016601562,
           0.9350814819335938,
           0.956451416015625,
           0.9764537811279297,
           0.9951000213623047,
           1.1145172119140625,
           1.133615493774414,
           1.1509017944335938,
           1.1663780212402344,
           1.2879295349121094,
           1.3018360137939453,
           1.3133907318115234,
           1.4331436157226562,
           1.4409561157226562,
           1.4457664489746094,
           1.5589332580566406,
           1.55731201171875,
           1.5522575378417969,
           1.6567153930664062,
           1.6508750915527344,
           1.6458625793457031,
           1.7509880065917969,
           1.7472343444824219,
           1.7444801330566406,
           1.8516197204589844,
           1.8508491516113281,
           1.9602279663085938,
           1.9621467590332031,
           2.0747947692871094,
           2.079387664794922,
           2.1938018798828125,
           2.1988754272460938,
           2.2039108276367188,
           2.3194808959960938,
           2.324951171875,
           2.4414901733398438,
           2.5587844848632812,
           2.5651931762695312,
           2.6834945678710938,
           2.6903457641601562,
           2.8096771240234375,
           2.8169784545898438,
           2.9373397827148438,
           3.0585098266601562,
           3.0667724609375,
           3.1890029907226562,
           3.31207275390625,
           3.3212966918945312,
           3.4454193115234375,
           3.5703964233398438,
           3.69622802734375,
           3.7069015502929688,
           3.8337936401367188,
           3.9615020751953125,
           4.0901031494140625,
           4.1021575927734375,
           4.231719970703125,
           4.362152099609375,
           4.493377685546875,
           4.62542724609375,
           4.7582855224609375,
           4.891937255859375,
           5.0263519287109375,
           5.1615142822265625,
           5.2974090576171875,
           5.4340057373046875,
           5.5713043212890625,
           5.7092132568359375,
           5.847747802734375,
           6.109222412109375,
           6.2495574951171875,
           12.922012329101562,
           6.6732330322265625,
           6.9392547607421875,
           7.0820770263671875,
           14.718292236328125,
           7.636932373046875,
           15.95635986328125,
           8.320068359375,
           8.463836669921875,
           17.73748779296875,
           80.25909423828125,
           34.294464111328125
          ],
          "arrayminus": [
           0.4175887107849121,
           0.4147825241088867,
           0.49709081649780273,
           0.4999260902404785,
           0.5065112113952637,
           0.5168476104736328,
           0.530890941619873,
           0.5464119911193848,
           0.5601511001586914,
           0.6681509017944336,
           0.6808290481567383,
           0.6905584335327148,
           0.6999292373657227,
           0.7102947235107422,
           0.7216701507568359,
           0.8399868011474609,
           0.857666015625,
           0.8768472671508789,
           0.8975353240966797,
           1.2249488830566406,
           0.7692794799804688,
           0.7823829650878906,
           0.8027782440185547,
           0.8221817016601562,
           0.9350814819335938,
           0.956451416015625,
           0.9764537811279297,
           0.9951000213623047,
           1.1145172119140625,
           1.133615493774414,
           1.1509017944335938,
           1.1663780212402344,
           1.2879295349121094,
           1.3018360137939453,
           1.3133907318115234,
           1.4331436157226562,
           1.4409561157226562,
           1.4457664489746094,
           1.5589332580566406,
           1.55731201171875,
           1.5522575378417969,
           1.6567153930664062,
           1.6508750915527344,
           1.6458625793457031,
           1.7509880065917969,
           1.7472343444824219,
           1.7444801330566406,
           1.8516197204589844,
           1.8508491516113281,
           1.9602279663085938,
           1.9621467590332031,
           2.0747947692871094,
           2.079387664794922,
           2.1938018798828125,
           2.1988754272460938,
           2.2039108276367188,
           2.3194808959960938,
           2.324951171875,
           2.4414901733398438,
           2.5587844848632812,
           2.5651931762695312,
           2.6834945678710938,
           2.6903457641601562,
           2.8096771240234375,
           2.8169784545898438,
           2.9373397827148438,
           3.0585098266601562,
           3.0667724609375,
           3.1890029907226562,
           3.31207275390625,
           3.3212966918945312,
           3.4454193115234375,
           3.5703964233398438,
           3.69622802734375,
           3.7069015502929688,
           3.8337936401367188,
           3.9615020751953125,
           4.0901031494140625,
           4.1021575927734375,
           4.231719970703125,
           4.362152099609375,
           4.493377685546875,
           4.62542724609375,
           4.7582855224609375,
           4.891937255859375,
           5.0263519287109375,
           5.1615142822265625,
           5.2974090576171875,
           5.4340057373046875,
           5.5713043212890625,
           5.7092132568359375,
           5.847747802734375,
           6.109222412109375,
           6.2495574951171875,
           12.922012329101562,
           6.6732330322265625,
           6.9392547607421875,
           7.0820770263671875,
           14.718292236328125,
           7.636932373046875,
           15.95635986328125,
           8.320068359375,
           8.463836669921875,
           17.73748779296875,
           80.25909423828125,
           34.294464111328125
          ],
          "color": "#636EFA",
          "symmetric": false,
          "thickness": 1.5,
          "type": "data",
          "width": 0
         },
         "error_y": {
          "array": [
           2.3548571753943675,
           2.561971031113279,
           2.6704219452166016,
           2.927484558241592,
           3.2273070153025305,
           3.332008486234036,
           3.4011720424933833,
           3.479040947706285,
           3.541000834251295,
           3.308001874102085,
           3.197419754805529,
           3.1233216944077133,
           3.1626680900298427,
           3.071829886251972,
           2.930217691045611,
           2.5539000351168064,
           2.484147092442798,
           2.344736030336757,
           2.176589514396333,
           1.4700575357059131,
           2.302214675454366,
           2.01953285151143,
           1.9145085919204765,
           1.70096409884385,
           1.5245293059076064,
           1.5109147776979381,
           1.4053663212758016,
           1.4114101809486246,
           1.2484365139100158,
           1.214035475141958,
           1.178728181531249,
           1.1193245080255956,
           1.0405592710996365,
           1.0260294733965383,
           1.0276412963017318,
           0.9578806880495587,
           0.8815539512740007,
           0.8973929044071489,
           0.8096593435594797,
           0.80858825335415,
           0.7961506776961047,
           0.730205225508185,
           0.722562216807538,
           0.7124051026092286,
           0.6925031267543851,
           0.6329566959468704,
           0.5992651060225548,
           0.6107913985168336,
           0.6054477328064282,
           0.5473252730346082,
           0.5290472690013466,
           0.5128939015801334,
           0.47878557633241314,
           0.4556249710651817,
           0.44369942635602067,
           0.4155729184154034,
           0.41286834616585494,
           0.3839207750192944,
           0.3817743442211507,
           0.35513816344889926,
           0.3287304618649108,
           0.3176750948393808,
           0.30160409453837483,
           0.30375005220553647,
           0.2680449262872866,
           0.2521117263671107,
           0.24815238795682923,
           0.23019829049474663,
           0.22947772551748,
           0.19044207366571891,
           0.19493944591031373,
           0.18192468210045476,
           0.17042757511706755,
           0.1525321159112489,
           0.15871556062425668,
           0.137100136014067,
           0.13696745844859454,
           0.12349352302433832,
           0.1218537004317782,
           0.1073439469592833,
           0.10541078731636681,
           0.10350210616627006,
           0.08696998194331512,
           0.09506543637521868,
           0.07650188030653815,
           0.07514756663824328,
           0.07444611855088194,
           0.06378695640346874,
           0.06830796423739256,
           0.06884073833676378,
           0.05285376272846993,
           0.05163292850336021,
           0.04993897412171952,
           0.05259218896553265,
           0.029503213604833656,
           0.04319043580320335,
           0.03888036102308455,
           0.03943552590920675,
           0.026560710054155296,
           0.035728896097891205,
           0.02083308799388931,
           0.029807721035913996,
           0.030475270325874278,
           0.018064147648401144,
           0.006438781567532397,
           0.00917168401248558
          ],
          "color": "#636EFA",
          "thickness": 1.5,
          "type": "data",
          "width": 0
         },
         "marker": {
          "color": "#636EFA",
          "size": 0,
          "symbol": "cross-thin"
         },
         "mode": "markers",
         "name": "obs of nai",
         "showlegend": false,
         "type": "scatter",
         "x": [
          8.497907638549805,
          9.330278396606445,
          10.242151260375977,
          11.239168167114258,
          12.24560546875,
          13.268964767456055,
          14.316703796386719,
          15.394006729125977,
          16.500568389892578,
          17.728870391845703,
          19.077850341796875,
          20.449237823486328,
          21.839725494384766,
          23.249950408935547,
          24.681915283203125,
          26.243572235107422,
          27.941225051879883,
          29.675739288330078,
          31.45012092590332,
          33.57260513305664,
          35.56683349609375,
          37.11849594116211,
          38.70365905761719,
          40.328617095947266,
          42.085880279541016,
          43.977413177490234,
          45.910316467285156,
          47.881874084472656,
          49.99148941040039,
          52.2396240234375,
          54.524139404296875,
          56.8414192199707,
          59.29572677612305,
          61.88549041748047,
          64.50071716308594,
          67.24725341796875,
          70.12135314941406,
          73.00807189941406,
          76.01277160644531,
          79.12902069091797,
          82.23858642578125,
          85.44756317138672,
          88.75515747070312,
          92.05189514160156,
          95.44874572753906,
          98.94696044921875,
          102.43867492675781,
          106.03477478027344,
          109.73724365234375,
          113.54832458496094,
          117.470703125,
          121.50764465332031,
          125.66181945800781,
          129.9350128173828,
          134.32769775390625,
          138.73046875,
          143.25387573242188,
          147.89830017089844,
          152.66473388671875,
          157.66500854492188,
          162.78900146484375,
          168.03768920898438,
          173.41152954101562,
          178.9115447998047,
          184.5382080078125,
          190.29251098632812,
          196.28836059570312,
          202.4136505126953,
          208.66943359375,
          215.17050170898438,
          221.80386352539062,
          228.57058715820312,
          235.58639526367188,
          242.85302734375,
          250.25616455078125,
          257.7968444824219,
          265.5921630859375,
          273.64373779296875,
          281.83599853515625,
          290.1698913574219,
          298.7637634277344,
          307.6192932128906,
          316.73809814453125,
          326.121826171875,
          335.77203369140625,
          345.6903076171875,
          355.878173828125,
          366.33709716796875,
          377.06854248046875,
          388.0738525390625,
          399.3543701171875,
          410.91131591796875,
          422.8682861328125,
          435.22705078125,
          454.39862060546875,
          473.993896484375,
          487.60638427734375,
          501.627685546875,
          523.4281005859375,
          545.7833251953125,
          569.3765869140625,
          593.6530151367188,
          610.4368896484375,
          636.6382446289062,
          734.6348266601562,
          849.1883544921875
         ],
         "xaxis": "x",
         "y": [
          36.15211215295315,
          40.54355755969704,
          53.8701156815454,
          64.56315873124882,
          80.76825769006204,
          88.11576799613076,
          93.68799771729557,
          103.26085786298242,
          110.17708691141891,
          117.46844664813828,
          111.39875191359515,
          108.12297752465847,
          113.60392834147738,
          108.43147369953246,
          101.56819505912762,
          88.60450865234306,
          86.3758279730207,
          77.68498284566894,
          67.76460998726981,
          42.08705926897613,
          66.10554690944667,
          51.81094087943915,
          48.96905319063842,
          38.43085407969159,
          35.57259535311779,
          36.12663678887664,
          31.939973513058966,
          33.45840243135513,
          28.74276154060867,
          27.456360461472674,
          26.39785954234863,
          24.33361881573387,
          23.27684011059472,
          22.660791088134673,
          22.707323534458745,
          21.25537936538208,
          17.836290612509167,
          19.254895585178055,
          16.99226125011653,
          17.24978514334244,
          16.811950591319427,
          14.914471032222808,
          14.55659509749564,
          14.23867878118,
          14.323405850148188,
          11.682844961895032,
          10.568433567452988,
          11.878873671896796,
          11.749009828042983,
          10.020866210001275,
          9.481372541125655,
          9.40162060938637,
          8.141468504663138,
          7.738340700873456,
          7.463651375978601,
          6.408719156043521,
          6.795960438335632,
          5.843041453786022,
          6.0707567696625375,
          5.580594761240604,
          4.658572215237344,
          4.590611687955352,
          4.122625687254124,
          4.384469305379025,
          3.2308706882452016,
          2.9438909516636325,
          2.9905593861398296,
          2.5901034724779244,
          2.789684360136114,
          1.9291876008132285,
          2.091929547187544,
          1.834839454359953,
          1.640669339635418,
          1.3210705708672923,
          1.4578035262014801,
          1.0908238679269144,
          1.148702271183069,
          0.9364817244073746,
          0.90751409858835,
          0.6832478267877102,
          0.69266892891836,
          0.6917845198749937,
          0.475995189640429,
          0.6622066999162467,
          0.41949961865976515,
          0.41313272521471245,
          0.4154091231699666,
          0.2896452849473834,
          0.3672671789893592,
          0.39160898148025475,
          0.19533150135420657,
          0.17195047162709232,
          0.18556409846138494,
          0.25302166551173755,
          0.11383152909509518,
          0.13893816906822226,
          0.10307188037887713,
          0.10337080272661513,
          0.09506654679412384,
          0.10918634567837776,
          0.06093852096570396,
          0.08481583377567056,
          0.09066290982525231,
          0.05019760842357247,
          0.017781197872123407,
          0.01879549620442715
         ],
         "yaxis": "y"
        },
        {
         "line": {
          "color": "#636EFA",
          "width": 2
         },
         "mode": "lines",
         "name": "nai",
         "showlegend": true,
         "type": "scatter",
         "x": [
          8.497907638549805,
          9.330278396606445,
          10.242151260375977,
          11.239168167114258,
          12.24560546875,
          13.268964767456055,
          14.316703796386719,
          15.394006729125977,
          16.500568389892578,
          17.728870391845703,
          19.077850341796875,
          20.449237823486328,
          21.839725494384766,
          23.249950408935547,
          24.681915283203125,
          26.243572235107422,
          27.941225051879883,
          29.675739288330078,
          31.45012092590332,
          33.57260513305664,
          35.56683349609375,
          37.11849594116211,
          38.70365905761719,
          40.328617095947266,
          42.085880279541016,
          43.977413177490234,
          45.910316467285156,
          47.881874084472656,
          49.99148941040039,
          52.2396240234375,
          54.524139404296875,
          56.8414192199707,
          59.29572677612305,
          61.88549041748047,
          64.50071716308594,
          67.24725341796875,
          70.12135314941406,
          73.00807189941406,
          76.01277160644531,
          79.12902069091797,
          82.23858642578125,
          85.44756317138672,
          88.75515747070312,
          92.05189514160156,
          95.44874572753906,
          98.94696044921875,
          102.43867492675781,
          106.03477478027344,
          109.73724365234375,
          113.54832458496094,
          117.470703125,
          121.50764465332031,
          125.66181945800781,
          129.9350128173828,
          134.32769775390625,
          138.73046875,
          143.25387573242188,
          147.89830017089844,
          152.66473388671875,
          157.66500854492188,
          162.78900146484375,
          168.03768920898438,
          173.41152954101562,
          178.9115447998047,
          184.5382080078125,
          190.29251098632812,
          196.28836059570312,
          202.4136505126953,
          208.66943359375,
          215.17050170898438,
          221.80386352539062,
          228.57058715820312,
          235.58639526367188,
          242.85302734375,
          250.25616455078125,
          257.7968444824219,
          265.5921630859375,
          273.64373779296875,
          281.83599853515625,
          290.1698913574219,
          298.7637634277344,
          307.6192932128906,
          316.73809814453125,
          326.121826171875,
          335.77203369140625,
          345.6903076171875,
          355.878173828125,
          366.33709716796875,
          377.06854248046875,
          388.0738525390625,
          399.3543701171875,
          410.91131591796875,
          422.8682861328125,
          435.22705078125,
          454.39862060546875,
          473.993896484375,
          487.60638427734375,
          501.627685546875,
          523.4281005859375,
          545.7833251953125,
          569.3765869140625,
          593.6530151367188,
          610.4368896484375,
          636.6382446289062,
          734.6348266601562,
          849.1883544921875
         ],
         "xaxis": "x",
         "y": [
          29.73223299641831,
          42.601323387511144,
          58.39080707803942,
          73.69297625061179,
          87.42872223291977,
          100.10148914449613,
          108.6177503509304,
          111.8894656783597,
          113.74302930001848,
          114.15919095864533,
          112.25505955949177,
          108.48612825243063,
          103.719359402496,
          98.13003292671483,
          92.1368183649791,
          86.08915470276975,
          79.12755799925162,
          71.45248859281958,
          63.54150399146356,
          54.01180758547712,
          46.5293247851004,
          43.0945343769857,
          40.971031161353,
          39.12265882840275,
          37.077600933129965,
          35.2115187071333,
          33.58113757766812,
          31.84587705023879,
          30.116331424202112,
          28.631753485086087,
          27.315788644761923,
          26.12505788992994,
          24.90744798130818,
          23.682132352203272,
          22.577553458194572,
          21.50891898191386,
          20.433882751580402,
          19.424753907735447,
          18.46777575469931,
          17.559032116986156,
          16.711762927237608,
          15.867772031525309,
          15.048056970587139,
          14.283338653829986,
          13.548733580946454,
          12.85140177034059,
          12.18127705260821,
          11.488423674462327,
          10.80856460638502,
          10.18842011025877,
          9.621895542092258,
          9.073855400264794,
          8.536258593131478,
          8.024458242736422,
          7.530999782081371,
          7.055056252324033,
          6.592862401124821,
          6.158720252746511,
          5.759380875279853,
          5.369509587093897,
          4.990261250276997,
          4.616794335076001,
          4.256765067357945,
          3.9169125334860095,
          3.604478185053874,
          3.315739973373116,
          3.036191891833909,
          2.7673579552490715,
          2.513827721672698,
          2.280695126881325,
          2.0733921731738354,
          1.8875548231291202,
          1.7147072371234608,
          1.5505302744839604,
          1.3999973584289214,
          1.264253509870274,
          1.1434976467157643,
          1.0333818630333382,
          0.9336148021875473,
          0.8429170776520746,
          0.7600282162731047,
          0.6865439227365463,
          0.6191304701414881,
          0.557635903734141,
          0.5005048612724876,
          0.4458129762639898,
          0.39862685568831746,
          0.35667705978070097,
          0.321433272453532,
          0.29005655856094126,
          0.26107783972648285,
          0.2351793880603863,
          0.2108400707358482,
          0.18906177312167005,
          0.1605796186056987,
          0.13525454016952596,
          0.12043998717178218,
          0.10762090446988062,
          0.09112121077094248,
          0.07723072999399165,
          0.06614934744647266,
          0.05670026698297771,
          0.051050373763873065,
          0.04301038311632477,
          0.02464029510413021,
          0.01267147241192503
         ],
         "yaxis": "y"
        },
        {
         "marker": {
          "color": "#636EFA",
          "line": {
           "color": "#636EFA",
           "width": 1.5
          },
          "size": 10,
          "symbol": "cross-thin"
         },
         "mode": "markers",
         "name": "res of nai",
         "showlegend": false,
         "type": "scatter",
         "x": [
          8.497907638549805,
          9.330278396606445,
          10.242151260375977,
          11.239168167114258,
          12.24560546875,
          13.268964767456055,
          14.316703796386719,
          15.394006729125977,
          16.500568389892578,
          17.728870391845703,
          19.077850341796875,
          20.449237823486328,
          21.839725494384766,
          23.249950408935547,
          24.681915283203125,
          26.243572235107422,
          27.941225051879883,
          29.675739288330078,
          31.45012092590332,
          33.57260513305664,
          35.56683349609375,
          37.11849594116211,
          38.70365905761719,
          40.328617095947266,
          42.085880279541016,
          43.977413177490234,
          45.910316467285156,
          47.881874084472656,
          49.99148941040039,
          52.2396240234375,
          54.524139404296875,
          56.8414192199707,
          59.29572677612305,
          61.88549041748047,
          64.50071716308594,
          67.24725341796875,
          70.12135314941406,
          73.00807189941406,
          76.01277160644531,
          79.12902069091797,
          82.23858642578125,
          85.44756317138672,
          88.75515747070312,
          92.05189514160156,
          95.44874572753906,
          98.94696044921875,
          102.43867492675781,
          106.03477478027344,
          109.73724365234375,
          113.54832458496094,
          117.470703125,
          121.50764465332031,
          125.66181945800781,
          129.9350128173828,
          134.32769775390625,
          138.73046875,
          143.25387573242188,
          147.89830017089844,
          152.66473388671875,
          157.66500854492188,
          162.78900146484375,
          168.03768920898438,
          173.41152954101562,
          178.9115447998047,
          184.5382080078125,
          190.29251098632812,
          196.28836059570312,
          202.4136505126953,
          208.66943359375,
          215.17050170898438,
          221.80386352539062,
          228.57058715820312,
          235.58639526367188,
          242.85302734375,
          250.25616455078125,
          257.7968444824219,
          265.5921630859375,
          273.64373779296875,
          281.83599853515625,
          290.1698913574219,
          298.7637634277344,
          307.6192932128906,
          316.73809814453125,
          326.121826171875,
          335.77203369140625,
          345.6903076171875,
          355.878173828125,
          366.33709716796875,
          377.06854248046875,
          388.0738525390625,
          399.3543701171875,
          410.91131591796875,
          422.8682861328125,
          435.22705078125,
          454.39862060546875,
          473.993896484375,
          487.60638427734375,
          501.627685546875,
          523.4281005859375,
          545.7833251953125,
          569.3765869140625,
          593.6530151367188,
          610.4368896484375,
          636.6382446289062,
          734.6348266601562,
          849.1883544921875
         ],
         "xaxis": "x2",
         "y": [
          2.7262286747644064,
          -0.8031963682742814,
          -1.6928753167984258,
          -3.1186560809211725,
          -2.0637839880980047,
          -3.597146045060676,
          -4.389590543232234,
          -2.480168513413468,
          -1.0070436454312626,
          1.0003790249941176,
          -0.2678120833555375,
          -0.1162706769598483,
          3.1253892781673835,
          3.3535192879403595,
          3.2186607578575654,
          0.9849069716850787,
          2.9178103002916234,
          2.658079277245651,
          1.9402399799658638,
          -8.111756191076426,
          8.50321315951246,
          4.316050860935509,
          4.177584818912966,
          -0.40671331580800446,
          -0.9871936040719078,
          0.6056715410101624,
          -1.1677838295707104,
          1.1424923830665197,
          -1.1002320648981332,
          -0.9681702451701205,
          -0.7787453602923449,
          -1.6004644420374876,
          -1.5670494857926516,
          -0.9954307264562108,
          0.12627954591858861,
          -0.26468809706148333,
          -2.946605973822994,
          -0.1892797700128983,
          -1.8223892755884494,
          -0.38245296337278223,
          0.12584007888022058,
          -1.3055247566039434,
          -0.6801654745565043,
          -0.06268887250584784,
          1.1186552656194606,
          -1.8461876079807604,
          -2.691368926617461,
          0.6392526128930229,
          1.553305381620183,
          -0.30613221883306013,
          -0.2656152090754769,
          0.6390507044669298,
          -0.8245655424553646,
          -0.6279672099491537,
          -0.15178835513916183,
          -1.555291665166783,
          0.4919196133510894,
          -0.8222498481480305,
          0.8156019363163738,
          0.5943747979568533,
          -1.008999997012622,
          -0.08241957756835537,
          -0.44475317985695756,
          1.5392812890008571,
          -1.3938241696402984,
          -1.474937429796575,
          -0.1838890452346484,
          -0.770007815393365,
          1.20210638240095,
          -1.8457451092718846,
          0.09509298606623326,
          -0.28976479805010075,
          -0.4344244024899486,
          -1.5043369866460101,
          0.3642123528732581,
          -1.2649851924695763,
          0.037998985498136385,
          -0.7846576585791171,
          -0.21419705357089477,
          -1.4874546296022502,
          -0.6390170215936339,
          0.05063275842936632,
          -1.6458009683657426,
          1.099987547202433,
          -1.0588660342483038,
          -0.43488102823872515,
          0.22542837435075802,
          -1.0508696230828845,
          0.6709892037850718,
          1.475179165315261,
          -1.243929192137946,
          -1.2245851294136672,
          -0.506137194826159,
          1.2161481324153458,
          -1.5845083907383073,
          0.08528806968933382,
          -0.44670641773601427,
          -0.10777342625151232,
          0.14854030690960857,
          0.8943913519419425,
          -0.25012261659419505,
          0.9432310091340984,
          1.299825584409901,
          0.3978723738943667,
          -1.0652787581106729,
          0.6677098539554324
         ],
         "yaxis": "y2"
        },
        {
         "error_x": {
          "array": [
           17.2078857421875,
           17.194732666015625,
           17.182647705078125,
           17.171615600585938,
           17.161605834960938,
           17.152694702148438,
           22.858154296875,
           22.84661865234375,
           22.837615966796875,
           22.8310546875,
           22.826995849609375,
           22.825439453125,
           22.82635498046875,
           22.829803466796875,
           45.679840087890625,
           51.442962646484375,
           172.23944091796875,
           349.3900146484375,
           431.2410888671875,
           563.686279296875,
           717.60205078125,
           953.153564453125,
           1308.960205078125,
           1931.9873046875,
           3101.90576171875,
           8125.990234375
          ],
          "arrayminus": [
           17.2078857421875,
           17.194732666015625,
           17.182647705078125,
           17.171615600585938,
           17.161605834960938,
           17.152694702148438,
           22.858154296875,
           22.84661865234375,
           22.837615966796875,
           22.8310546875,
           22.826995849609375,
           22.825439453125,
           22.82635498046875,
           22.829803466796875,
           45.679840087890625,
           51.442962646484375,
           172.23944091796875,
           349.3900146484375,
           431.2410888671875,
           563.686279296875,
           717.60205078125,
           953.153564453125,
           1308.960205078125,
           1931.9873046875,
           3101.90576171875,
           8125.990234375
          ],
          "color": "#EF553B",
          "symmetric": false,
          "thickness": 1.5,
          "type": "data",
          "width": 0
         },
         "error_y": {
          "array": [
           0.09639717726123058,
           0.09196142456457164,
           0.08492168172587258,
           0.07251422984456385,
           0.07126305356124976,
           0.06721276389420949,
           0.05476591832737302,
           0.04901730632600475,
           0.04268565490220705,
           0.035734703700343665,
           0.03625253409700369,
           0.03453408281293419,
           0.034905381143776684,
           0.035596029397787346,
           0.022305979147295634,
           0.022676963154137444,
           0.010281713861116655,
           0.005863073967942637,
           0.0033906850941035445,
           0.001800865377456543,
           0.0008648755904179311,
           0.0005578219414330068,
           0.00037541091140005906,
           0.00023139156425627154,
           0.0001603699549487165,
           0.00007273075296884204
          ],
          "color": "#EF553B",
          "thickness": 1.5,
          "type": "data",
          "width": 0
         },
         "marker": {
          "color": "#EF553B",
          "size": 0,
          "symbol": "cross-thin"
         },
         "mode": "markers",
         "name": "obs of bgo",
         "showlegend": false,
         "type": "scatter",
         "x": [
          329.1634826660156,
          363.56610107421875,
          397.9434814453125,
          432.2977294921875,
          466.6309814453125,
          500.94525146484375,
          540.9561157226562,
          586.660888671875,
          632.3450927734375,
          678.0137939453125,
          723.671875,
          769.3242797851562,
          814.97607421875,
          860.6322021484375,
          929.141845703125,
          1026.2646484375,
          1249.947021484375,
          1771.5765380859375,
          2552.20751953125,
          3547.135009765625,
          4828.42333984375,
          6499.1787109375,
          8761.29296875,
          12002.240234375,
          17036.1328125,
          28264.029296875
         ],
         "xaxis": "x",
         "y": [
          2.1403667851313903,
          1.7312242843886594,
          1.4388003901930446,
          1.0534949171378682,
          1.032358169443393,
          0.7655836711659953,
          0.5667888927502641,
          0.5166560161405107,
          0.3894359956923932,
          0.20041066642701955,
          0.235654583312787,
          0.16192529655058258,
          0.15846051344348933,
          0.16646849405406328,
          0.0814974895898199,
          0.08174292622020624,
          0.03004728159774922,
          0.0012796438182411107,
          0.004308017450664822,
          0.0015609815001670219,
          0.0005702784924694268,
          0.000157069019833804,
          -0.00003562003520363394,
          -0.0002994951584159608,
          -0.00003729439129977058,
          -0.00012812284373545037
         ],
         "yaxis": "y"
        },
        {
         "line": {
          "color": "#EF553B",
          "width": 2
         },
         "mode": "lines",
         "name": "bgo",
         "showlegend": true,
         "type": "scatter",
         "x": [
          329.1634826660156,
          363.56610107421875,
          397.9434814453125,
          432.2977294921875,
          466.6309814453125,
          500.94525146484375,
          540.9561157226562,
          586.660888671875,
          632.3450927734375,
          678.0137939453125,
          723.671875,
          769.3242797851562,
          814.97607421875,
          860.6322021484375,
          929.141845703125,
          1026.2646484375,
          1249.947021484375,
          1771.5765380859375,
          2552.20751953125,
          3547.135009765625,
          4828.42333984375,
          6499.1787109375,
          8761.29296875,
          12002.240234375,
          17036.1328125,
          28264.029296875
         ],
         "xaxis": "x",
         "y": [
          2.036222973231033,
          1.6074338067860083,
          1.2866984956755458,
          1.0496747834901117,
          0.8605704862946831,
          0.7057098856150185,
          0.5715242934365715,
          0.4539892128432009,
          0.362289348627978,
          0.29349806870103745,
          0.2390051888560315,
          0.19566264055858926,
          0.16132977509299806,
          0.13396188502233625,
          0.10220698053076924,
          0.0707958805614028,
          0.0333919577872145,
          0.007094192432982531,
          0.0007877983431702788,
          0.00006513414558083159,
          0.0000032432143300643646,
          8.625416464443078e-8,
          8.379286103011271e-10,
          1.739370433294764e-12,
          2.6483264654855183e-16,
          2.263145384074244e-22
         ],
         "yaxis": "y"
        },
        {
         "marker": {
          "color": "#EF553B",
          "line": {
           "color": "#EF553B",
           "width": 1.5
          },
          "size": 10,
          "symbol": "cross-thin"
         },
         "mode": "markers",
         "name": "res of bgo",
         "showlegend": false,
         "type": "scatter",
         "x": [
          329.1634826660156,
          363.56610107421875,
          397.9434814453125,
          432.2977294921875,
          466.6309814453125,
          500.94525146484375,
          540.9561157226562,
          586.660888671875,
          632.3450927734375,
          678.0137939453125,
          723.671875,
          769.3242797851562,
          814.97607421875,
          860.6322021484375,
          929.141845703125,
          1026.2646484375,
          1249.947021484375,
          1771.5765380859375,
          2552.20751953125,
          3547.135009765625,
          4828.42333984375,
          6499.1787109375,
          8761.29296875,
          12002.240234375,
          17036.1328125,
          28264.029296875
         ],
         "xaxis": "x2",
         "y": [
          1.0803616335998487,
          1.3461130924057219,
          1.7910843429653702,
          0.05268115866286011,
          2.410613558694343,
          0.8908097522252783,
          -0.0864661970607468,
          1.278462812308063,
          0.6359665120895581,
          -2.604957999781111,
          -0.0924240367384812,
          -0.9769289136982927,
          -0.08220112645927374,
          0.913208848898963,
          -0.928427790781834,
          0.4827386094158788,
          -0.32530337204910603,
          -0.9917235645556345,
          1.0382029028930646,
          0.8306269715168016,
          0.6556264096496882,
          0.2814209230742726,
          -0.09488502345176811,
          -1.2943218613779426,
          -0.23255223406380265,
          -1.7616048027213245
         ],
         "yaxis": "y2"
        }
       ],
       "layout": {
        "height": 700,
        "legend": {
         "x": 1,
         "xanchor": "right",
         "y": 1,
         "yanchor": "bottom"
        },
        "template": {
         "data": {
          "bar": [
           {
            "error_x": {
             "color": "#2a3f5f"
            },
            "error_y": {
             "color": "#2a3f5f"
            },
            "marker": {
             "line": {
              "color": "white",
              "width": 0.5
             },
             "pattern": {
              "fillmode": "overlay",
              "size": 10,
              "solidity": 0.2
             }
            },
            "type": "bar"
           }
          ],
          "barpolar": [
           {
            "marker": {
             "line": {
              "color": "white",
              "width": 0.5
             },
             "pattern": {
              "fillmode": "overlay",
              "size": 10,
              "solidity": 0.2
             }
            },
            "type": "barpolar"
           }
          ],
          "carpet": [
           {
            "aaxis": {
             "endlinecolor": "#2a3f5f",
             "gridcolor": "#C8D4E3",
             "linecolor": "#C8D4E3",
             "minorgridcolor": "#C8D4E3",
             "startlinecolor": "#2a3f5f"
            },
            "baxis": {
             "endlinecolor": "#2a3f5f",
             "gridcolor": "#C8D4E3",
             "linecolor": "#C8D4E3",
             "minorgridcolor": "#C8D4E3",
             "startlinecolor": "#2a3f5f"
            },
            "type": "carpet"
           }
          ],
          "choropleth": [
           {
            "colorbar": {
             "outlinewidth": 0,
             "ticks": ""
            },
            "type": "choropleth"
           }
          ],
          "contour": [
           {
            "colorbar": {
             "outlinewidth": 0,
             "ticks": ""
            },
            "colorscale": [
             [
              0,
              "#0d0887"
             ],
             [
              0.1111111111111111,
              "#46039f"
             ],
             [
              0.2222222222222222,
              "#7201a8"
             ],
             [
              0.3333333333333333,
              "#9c179e"
             ],
             [
              0.4444444444444444,
              "#bd3786"
             ],
             [
              0.5555555555555556,
              "#d8576b"
             ],
             [
              0.6666666666666666,
              "#ed7953"
             ],
             [
              0.7777777777777778,
              "#fb9f3a"
             ],
             [
              0.8888888888888888,
              "#fdca26"
             ],
             [
              1,
              "#f0f921"
             ]
            ],
            "type": "contour"
           }
          ],
          "contourcarpet": [
           {
            "colorbar": {
             "outlinewidth": 0,
             "ticks": ""
            },
            "type": "contourcarpet"
           }
          ],
          "heatmap": [
           {
            "colorbar": {
             "outlinewidth": 0,
             "ticks": ""
            },
            "colorscale": [
             [
              0,
              "#0d0887"
             ],
             [
              0.1111111111111111,
              "#46039f"
             ],
             [
              0.2222222222222222,
              "#7201a8"
             ],
             [
              0.3333333333333333,
              "#9c179e"
             ],
             [
              0.4444444444444444,
              "#bd3786"
             ],
             [
              0.5555555555555556,
              "#d8576b"
             ],
             [
              0.6666666666666666,
              "#ed7953"
             ],
             [
              0.7777777777777778,
              "#fb9f3a"
             ],
             [
              0.8888888888888888,
              "#fdca26"
             ],
             [
              1,
              "#f0f921"
             ]
            ],
            "type": "heatmap"
           }
          ],
          "heatmapgl": [
           {
            "colorbar": {
             "outlinewidth": 0,
             "ticks": ""
            },
            "colorscale": [
             [
              0,
              "#0d0887"
             ],
             [
              0.1111111111111111,
              "#46039f"
             ],
             [
              0.2222222222222222,
              "#7201a8"
             ],
             [
              0.3333333333333333,
              "#9c179e"
             ],
             [
              0.4444444444444444,
              "#bd3786"
             ],
             [
              0.5555555555555556,
              "#d8576b"
             ],
             [
              0.6666666666666666,
              "#ed7953"
             ],
             [
              0.7777777777777778,
              "#fb9f3a"
             ],
             [
              0.8888888888888888,
              "#fdca26"
             ],
             [
              1,
              "#f0f921"
             ]
            ],
            "type": "heatmapgl"
           }
          ],
          "histogram": [
           {
            "marker": {
             "pattern": {
              "fillmode": "overlay",
              "size": 10,
              "solidity": 0.2
             }
            },
            "type": "histogram"
           }
          ],
          "histogram2d": [
           {
            "colorbar": {
             "outlinewidth": 0,
             "ticks": ""
            },
            "colorscale": [
             [
              0,
              "#0d0887"
             ],
             [
              0.1111111111111111,
              "#46039f"
             ],
             [
              0.2222222222222222,
              "#7201a8"
             ],
             [
              0.3333333333333333,
              "#9c179e"
             ],
             [
              0.4444444444444444,
              "#bd3786"
             ],
             [
              0.5555555555555556,
              "#d8576b"
             ],
             [
              0.6666666666666666,
              "#ed7953"
             ],
             [
              0.7777777777777778,
              "#fb9f3a"
             ],
             [
              0.8888888888888888,
              "#fdca26"
             ],
             [
              1,
              "#f0f921"
             ]
            ],
            "type": "histogram2d"
           }
          ],
          "histogram2dcontour": [
           {
            "colorbar": {
             "outlinewidth": 0,
             "ticks": ""
            },
            "colorscale": [
             [
              0,
              "#0d0887"
             ],
             [
              0.1111111111111111,
              "#46039f"
             ],
             [
              0.2222222222222222,
              "#7201a8"
             ],
             [
              0.3333333333333333,
              "#9c179e"
             ],
             [
              0.4444444444444444,
              "#bd3786"
             ],
             [
              0.5555555555555556,
              "#d8576b"
             ],
             [
              0.6666666666666666,
              "#ed7953"
             ],
             [
              0.7777777777777778,
              "#fb9f3a"
             ],
             [
              0.8888888888888888,
              "#fdca26"
             ],
             [
              1,
              "#f0f921"
             ]
            ],
            "type": "histogram2dcontour"
           }
          ],
          "mesh3d": [
           {
            "colorbar": {
             "outlinewidth": 0,
             "ticks": ""
            },
            "type": "mesh3d"
           }
          ],
          "parcoords": [
           {
            "line": {
             "colorbar": {
              "outlinewidth": 0,
              "ticks": ""
             }
            },
            "type": "parcoords"
           }
          ],
          "pie": [
           {
            "automargin": true,
            "type": "pie"
           }
          ],
          "scatter": [
           {
            "fillpattern": {
             "fillmode": "overlay",
             "size": 10,
             "solidity": 0.2
            },
            "type": "scatter"
           }
          ],
          "scatter3d": [
           {
            "line": {
             "colorbar": {
              "outlinewidth": 0,
              "ticks": ""
             }
            },
            "marker": {
             "colorbar": {
              "outlinewidth": 0,
              "ticks": ""
             }
            },
            "type": "scatter3d"
           }
          ],
          "scattercarpet": [
           {
            "marker": {
             "colorbar": {
              "outlinewidth": 0,
              "ticks": ""
             }
            },
            "type": "scattercarpet"
           }
          ],
          "scattergeo": [
           {
            "marker": {
             "colorbar": {
              "outlinewidth": 0,
              "ticks": ""
             }
            },
            "type": "scattergeo"
           }
          ],
          "scattergl": [
           {
            "marker": {
             "colorbar": {
              "outlinewidth": 0,
              "ticks": ""
             }
            },
            "type": "scattergl"
           }
          ],
          "scattermapbox": [
           {
            "marker": {
             "colorbar": {
              "outlinewidth": 0,
              "ticks": ""
             }
            },
            "type": "scattermapbox"
           }
          ],
          "scatterpolar": [
           {
            "marker": {
             "colorbar": {
              "outlinewidth": 0,
              "ticks": ""
             }
            },
            "type": "scatterpolar"
           }
          ],
          "scatterpolargl": [
           {
            "marker": {
             "colorbar": {
              "outlinewidth": 0,
              "ticks": ""
             }
            },
            "type": "scatterpolargl"
           }
          ],
          "scatterternary": [
           {
            "marker": {
             "colorbar": {
              "outlinewidth": 0,
              "ticks": ""
             }
            },
            "type": "scatterternary"
           }
          ],
          "surface": [
           {
            "colorbar": {
             "outlinewidth": 0,
             "ticks": ""
            },
            "colorscale": [
             [
              0,
              "#0d0887"
             ],
             [
              0.1111111111111111,
              "#46039f"
             ],
             [
              0.2222222222222222,
              "#7201a8"
             ],
             [
              0.3333333333333333,
              "#9c179e"
             ],
             [
              0.4444444444444444,
              "#bd3786"
             ],
             [
              0.5555555555555556,
              "#d8576b"
             ],
             [
              0.6666666666666666,
              "#ed7953"
             ],
             [
              0.7777777777777778,
              "#fb9f3a"
             ],
             [
              0.8888888888888888,
              "#fdca26"
             ],
             [
              1,
              "#f0f921"
             ]
            ],
            "type": "surface"
           }
          ],
          "table": [
           {
            "cells": {
             "fill": {
              "color": "#EBF0F8"
             },
             "line": {
              "color": "white"
             }
            },
            "header": {
             "fill": {
              "color": "#C8D4E3"
             },
             "line": {
              "color": "white"
             }
            },
            "type": "table"
           }
          ]
         },
         "layout": {
          "annotationdefaults": {
           "arrowcolor": "#2a3f5f",
           "arrowhead": 0,
           "arrowwidth": 1
          },
          "autotypenumbers": "strict",
          "coloraxis": {
           "colorbar": {
            "outlinewidth": 0,
            "ticks": ""
           }
          },
          "colorscale": {
           "diverging": [
            [
             0,
             "#8e0152"
            ],
            [
             0.1,
             "#c51b7d"
            ],
            [
             0.2,
             "#de77ae"
            ],
            [
             0.3,
             "#f1b6da"
            ],
            [
             0.4,
             "#fde0ef"
            ],
            [
             0.5,
             "#f7f7f7"
            ],
            [
             0.6,
             "#e6f5d0"
            ],
            [
             0.7,
             "#b8e186"
            ],
            [
             0.8,
             "#7fbc41"
            ],
            [
             0.9,
             "#4d9221"
            ],
            [
             1,
             "#276419"
            ]
           ],
           "sequential": [
            [
             0,
             "#0d0887"
            ],
            [
             0.1111111111111111,
             "#46039f"
            ],
            [
             0.2222222222222222,
             "#7201a8"
            ],
            [
             0.3333333333333333,
             "#9c179e"
            ],
            [
             0.4444444444444444,
             "#bd3786"
            ],
            [
             0.5555555555555556,
             "#d8576b"
            ],
            [
             0.6666666666666666,
             "#ed7953"
            ],
            [
             0.7777777777777778,
             "#fb9f3a"
            ],
            [
             0.8888888888888888,
             "#fdca26"
            ],
            [
             1,
             "#f0f921"
            ]
           ],
           "sequentialminus": [
            [
             0,
             "#0d0887"
            ],
            [
             0.1111111111111111,
             "#46039f"
            ],
            [
             0.2222222222222222,
             "#7201a8"
            ],
            [
             0.3333333333333333,
             "#9c179e"
            ],
            [
             0.4444444444444444,
             "#bd3786"
            ],
            [
             0.5555555555555556,
             "#d8576b"
            ],
            [
             0.6666666666666666,
             "#ed7953"
            ],
            [
             0.7777777777777778,
             "#fb9f3a"
            ],
            [
             0.8888888888888888,
             "#fdca26"
            ],
            [
             1,
             "#f0f921"
            ]
           ]
          },
          "colorway": [
           "#636efa",
           "#EF553B",
           "#00cc96",
           "#ab63fa",
           "#FFA15A",
           "#19d3f3",
           "#FF6692",
           "#B6E880",
           "#FF97FF",
           "#FECB52"
          ],
          "font": {
           "color": "#2a3f5f"
          },
          "geo": {
           "bgcolor": "white",
           "lakecolor": "white",
           "landcolor": "white",
           "showlakes": true,
           "showland": true,
           "subunitcolor": "#C8D4E3"
          },
          "hoverlabel": {
           "align": "left"
          },
          "hovermode": "closest",
          "mapbox": {
           "style": "light"
          },
          "paper_bgcolor": "white",
          "plot_bgcolor": "white",
          "polar": {
           "angularaxis": {
            "gridcolor": "#EBF0F8",
            "linecolor": "#EBF0F8",
            "ticks": ""
           },
           "bgcolor": "white",
           "radialaxis": {
            "gridcolor": "#EBF0F8",
            "linecolor": "#EBF0F8",
            "ticks": ""
           }
          },
          "scene": {
           "xaxis": {
            "backgroundcolor": "white",
            "gridcolor": "#DFE8F3",
            "gridwidth": 2,
            "linecolor": "#EBF0F8",
            "showbackground": true,
            "ticks": "",
            "zerolinecolor": "#EBF0F8"
           },
           "yaxis": {
            "backgroundcolor": "white",
            "gridcolor": "#DFE8F3",
            "gridwidth": 2,
            "linecolor": "#EBF0F8",
            "showbackground": true,
            "ticks": "",
            "zerolinecolor": "#EBF0F8"
           },
           "zaxis": {
            "backgroundcolor": "white",
            "gridcolor": "#DFE8F3",
            "gridwidth": 2,
            "linecolor": "#EBF0F8",
            "showbackground": true,
            "ticks": "",
            "zerolinecolor": "#EBF0F8"
           }
          },
          "shapedefaults": {
           "line": {
            "color": "#2a3f5f"
           }
          },
          "ternary": {
           "aaxis": {
            "gridcolor": "#DFE8F3",
            "linecolor": "#A2B1C6",
            "ticks": ""
           },
           "baxis": {
            "gridcolor": "#DFE8F3",
            "linecolor": "#A2B1C6",
            "ticks": ""
           },
           "bgcolor": "white",
           "caxis": {
            "gridcolor": "#DFE8F3",
            "linecolor": "#A2B1C6",
            "ticks": ""
           }
          },
          "title": {
           "x": 0.05
          },
          "xaxis": {
           "automargin": true,
           "gridcolor": "#EBF0F8",
           "linecolor": "#EBF0F8",
           "ticks": "",
           "title": {
            "standoff": 15
           },
           "zerolinecolor": "#EBF0F8",
           "zerolinewidth": 2
          },
          "yaxis": {
           "automargin": true,
           "gridcolor": "#EBF0F8",
           "linecolor": "#EBF0F8",
           "ticks": "",
           "title": {
            "standoff": 15
           },
           "zerolinecolor": "#EBF0F8",
           "zerolinewidth": 2
          }
         }
        },
        "width": 600,
        "xaxis": {
         "anchor": "y",
         "domain": [
          0,
          1
         ],
         "matches": "x2",
         "showticklabels": false,
         "title": {
          "text": ""
         },
         "type": "log"
        },
        "xaxis2": {
         "anchor": "y2",
         "domain": [
          0,
          1
         ],
         "title": {
          "text": "Energy (keV)"
         },
         "type": "log"
        },
        "yaxis": {
         "anchor": "x",
         "domain": [
          0.265,
          1
         ],
         "title": {
          "text": "Counts/s/keV"
         },
         "type": "log"
        },
        "yaxis2": {
         "anchor": "x2",
         "domain": [
          0,
          0.245
         ],
         "range": [
          -3.5,
          3.5
         ],
         "showgrid": false,
         "title": {
          "text": "Sigma"
         }
        }
       }
      }
     },
     "metadata": {},
     "output_type": "display_data"
    }
   ],
   "source": [
    "fig = Plot.infer_ctsspec(post, style='CE', show=True)\n",
    "fig.write_html('quickstart/ctsspec.html')"
   ]
  },
  {
   "cell_type": "code",
   "execution_count": 8,
   "id": "e1363099-45d7-424f-b5bf-b171ada18230",
   "metadata": {},
   "outputs": [
    {
     "data": {
      "application/vnd.plotly.v1+json": {
       "config": {
        "plotlyServerURL": "https://plot.ly"
       },
       "data": [
        {
         "line": {
          "color": "#205295",
          "width": 2
         },
         "mode": "lines",
         "name": "par#1",
         "showlegend": false,
         "type": "scatter",
         "x": [
          -1.598692697855102,
          -1.5952917069128254,
          -1.5952917069128254,
          -1.591890715970549,
          -1.591890715970549,
          -1.5884897250282726,
          -1.5884897250282726,
          -1.5850887340859963,
          -1.5850887340859963,
          -1.5816877431437197,
          -1.5816877431437197,
          -1.5782867522014432,
          -1.5782867522014432,
          -1.574885761259167,
          -1.574885761259167,
          -1.5714847703168904,
          -1.5714847703168904,
          -1.568083779374614,
          -1.568083779374614,
          -1.5646827884323375,
          -1.5646827884323375,
          -1.561281797490061,
          -1.561281797490061,
          -1.5578808065477847,
          -1.5578808065477847,
          -1.5544798156055082,
          -1.5544798156055082,
          -1.5510788246632319,
          -1.5510788246632319,
          -1.5476778337209554,
          -1.5476778337209554,
          -1.5442768427786788,
          -1.5442768427786788,
          -1.5408758518364025,
          -1.5408758518364025,
          -1.537474860894126,
          -1.537474860894126,
          -1.5340738699518497,
          -1.5340738699518497,
          -1.5306728790095732,
          -1.5306728790095732,
          -1.5272718880672966,
          -1.5272718880672966,
          -1.5238708971250203,
          -1.5238708971250203,
          -1.5204699061827438,
          -1.5204699061827438,
          -1.5170689152404675,
          -1.5170689152404675,
          -1.513667924298191,
          -1.513667924298191,
          -1.5102669333559144,
          -1.5102669333559144,
          -1.5068659424136381,
          -1.5068659424136381,
          -1.5034649514713616,
          -1.5034649514713616,
          -1.5000639605290853,
          -1.5000639605290853,
          -1.4966629695868088
         ],
         "xaxis": "x",
         "y": [
          0.7019886593716986,
          0.7019886593716986,
          1.1749660543027436,
          1.1749660543027436,
          2.2345836281266926,
          2.2345836281266926,
          4.058854146845871,
          4.058854146845871,
          6.806184786182174,
          6.806184786182174,
          10.526105507616423,
          10.526105507616423,
          15.087883717801668,
          15.087883717801668,
          20.13078795533328,
          20.13078795533328,
          25.052975468482295,
          25.052975468482295,
          29.085580015838786,
          29.085580015838786,
          31.470684901827376,
          31.470684901827376,
          31.684362395646815,
          31.684362395646815,
          29.613749237839812,
          29.613749237839812,
          25.623654487056243,
          25.623654487056243,
          20.473128852380675,
          20.473128852380675,
          15.083677609393103,
          15.083677609393103,
          10.250686887361688,
          10.250686887361688,
          6.441528794836515,
          6.441528794836515,
          3.762467159121278,
          3.762467159121278,
          2.0629954447082675,
          2.0629954447082675,
          1.0825741712732109,
          1.0825741712732109,
          0.5635454904456938,
          0.5635454904456938,
          0.3070382770857653,
          0.3070382770857653,
          0.1848169148419435,
          0.1848169148419435,
          0.12692212384240512,
          0.12692212384240512,
          0.10014186289542679,
          0.10014186289542679,
          0.08886716984306671,
          0.08886716984306671,
          0.08472900769524185,
          0.08472900769524185,
          0.08339967239466084,
          0.08339967239466084,
          0.08306998482666827,
          0.08306998482666827
         ],
         "yaxis": "y"
        },
        {
         "error_x": {
          "array": [
           0.010988580975464624
          ],
          "arrayminus": [
           0.009926357715407397
          ],
          "color": "#FF0092",
          "symmetric": false,
          "thickness": 2,
          "type": "data",
          "width": 0
         },
         "marker": {
          "color": "#FF0092",
          "size": 5,
          "symbol": "circle"
         },
         "mode": "markers",
         "name": "par#1 value",
         "showlegend": false,
         "type": "scatter",
         "x": [
          -1.5619117351913692
         ],
         "xaxis": "x",
         "y": [
          0.01
         ],
         "yaxis": "y"
        },
        {
         "line": {
          "color": "#205295",
          "width": 2
         },
         "mode": "lines",
         "name": "par#2",
         "showlegend": false,
         "type": "scatter",
         "x": [
          2.5897811880455572,
          2.5954414875073266,
          2.5954414875073266,
          2.601101786969096,
          2.601101786969096,
          2.6067620864308654,
          2.6067620864308654,
          2.6124223858926348,
          2.6124223858926348,
          2.618082685354404,
          2.618082685354404,
          2.6237429848161735,
          2.6237429848161735,
          2.629403284277943,
          2.629403284277943,
          2.6350635837397123,
          2.6350635837397123,
          2.6407238832014817,
          2.6407238832014817,
          2.646384182663251,
          2.646384182663251,
          2.6520444821250204,
          2.6520444821250204,
          2.65770478158679,
          2.65770478158679,
          2.663365081048559,
          2.663365081048559,
          2.6690253805103286,
          2.6690253805103286,
          2.674685679972098,
          2.674685679972098,
          2.6803459794338673,
          2.6803459794338673,
          2.6860062788956367,
          2.6860062788956367,
          2.691666578357406,
          2.691666578357406,
          2.6973268778191755,
          2.6973268778191755,
          2.702987177280945,
          2.702987177280945,
          2.708647476742714,
          2.708647476742714,
          2.7143077762044836,
          2.7143077762044836,
          2.719968075666253,
          2.719968075666253,
          2.7256283751280224,
          2.7256283751280224,
          2.7312886745897917,
          2.7312886745897917,
          2.736948974051561,
          2.736948974051561,
          2.7426092735133305,
          2.7426092735133305,
          2.7482695729751,
          2.7482695729751,
          2.7539298724368693,
          2.7539298724368693,
          2.7595901718986386
         ],
         "xaxis": "x5",
         "y": [
          0.07275243115827136,
          0.07275243115827136,
          0.07859723236656732,
          0.07859723236656732,
          0.08728204927534247,
          0.08728204927534247,
          0.09820017146630142,
          0.09820017146630142,
          0.11892556786397582,
          0.11892556786397582,
          0.168415564302885,
          0.168415564302885,
          0.2821918814155668,
          0.2821918814155668,
          0.5251448462495902,
          0.5251448462495902,
          1.0077981615148877,
          1.0077981615148877,
          1.8884778456007065,
          1.8884778456007065,
          3.3395731223350307,
          3.3395731223350307,
          5.470176129122016,
          5.470176129122016,
          8.22923766879022,
          8.22923766879022,
          11.3466138635705,
          11.3466138635705,
          14.372364482916442,
          14.372364482916442,
          16.814782429934322,
          16.814782429934322,
          18.290678046075243,
          18.290678046075243,
          18.59577526683896,
          18.59577526683896,
          17.70584073687924,
          17.70584073687924,
          15.775908821904629,
          15.775908821904629,
          13.132430546466608,
          13.132430546466608,
          10.201252718815711,
          10.201252718815711,
          7.384972655839074,
          7.384972655839074,
          4.969631519782178,
          4.969631519782178,
          3.098960424833498,
          3.098960424833498,
          1.7892209362102112,
          1.7892209362102112,
          0.9606357638785379,
          0.9606357638785379,
          0.4853432763546928,
          0.4853432763546928,
          0.23990143179917256,
          0.23990143179917256,
          0.1380123497850574,
          0.1380123497850574
         ],
         "yaxis": "y5"
        },
        {
         "error_x": {
          "array": [
           0.01695462107982859
          ],
          "arrayminus": [
           0.018662746284501264
          ],
          "color": "#FF0092",
          "symmetric": false,
          "thickness": 2,
          "type": "data",
          "width": 0
         },
         "marker": {
          "color": "#FF0092",
          "size": 5,
          "symbol": "circle"
         },
         "mode": "markers",
         "name": "par#2 value",
         "showlegend": false,
         "type": "scatter",
         "x": [
          2.689005625602019
         ],
         "xaxis": "x5",
         "y": [
          0.01
         ],
         "yaxis": "y5"
        },
        {
         "colorscale": [
          [
           0,
           "rgb(247,251,255)"
          ],
          [
           0.125,
           "rgb(222,235,247)"
          ],
          [
           0.25,
           "rgb(198,219,239)"
          ],
          [
           0.375,
           "rgb(158,202,225)"
          ],
          [
           0.5,
           "rgb(107,174,214)"
          ],
          [
           0.625,
           "rgb(66,146,198)"
          ],
          [
           0.75,
           "rgb(33,113,181)"
          ],
          [
           0.875,
           "rgb(8,81,156)"
          ],
          [
           1,
           "rgb(8,48,107)"
          ]
         ],
         "contours": {
          "end": 0.008896501008508625,
          "size": 0.006935219639027207,
          "start": 0.001961281369481418
         },
         "line": {
          "width": 2
         },
         "name": "par#1&par#2",
         "ncontours": 2,
         "showlegend": false,
         "showscale": false,
         "type": "contour",
         "x": [
          -1.6037941842685162,
          -1.6003931933262399,
          -1.5969922023839636,
          -1.5935912114416872,
          -1.590190220499411,
          -1.5867892295571344,
          -1.583388238614858,
          -1.5799872476725816,
          -1.576586256730305,
          -1.5731852657880285,
          -1.5697842748457522,
          -1.566383283903476,
          -1.5629822929611992,
          -1.5595813020189229,
          -1.5561803110766466,
          -1.55277932013437,
          -1.5493783291920935,
          -1.5459773382498172,
          -1.5425763473075407,
          -1.5391753563652641,
          -1.5357743654229878,
          -1.5323733744807115,
          -1.5289723835384348,
          -1.5255713925961585,
          -1.5221704016538822,
          -1.5187694107116056,
          -1.5153684197693291,
          -1.5119674288270528,
          -1.5085664378847763,
          -1.5051654469424998,
          -1.5017644560002235,
          -1.4983634650579472,
          -1.4949624741156708,
          -1.4915614831733945
         ],
         "xaxis": "x4",
         "y": [
          2.5812907388529043,
          2.586951038314673,
          2.592611337776442,
          2.598271637238211,
          2.603931936699981,
          2.60959223616175,
          2.6152525356235197,
          2.6209128350852886,
          2.6265731345470584,
          2.6322334340088274,
          2.637893733470597,
          2.643554032932366,
          2.649214332394136,
          2.654874631855905,
          2.6605349313176747,
          2.6661952307794436,
          2.6718555302412135,
          2.6775158297029824,
          2.6831761291647522,
          2.688836428626521,
          2.694496728088291,
          2.70015702755006,
          2.7058173270118298,
          2.7114776264735987,
          2.7171379259353685,
          2.7227982253971375,
          2.7284585248589073,
          2.734118824320676,
          2.739779123782446,
          2.745439423244215,
          2.751099722705985,
          2.7567600221677537,
          2.7624203216295227,
          2.7680806210912916
         ],
         "yaxis": "y4",
         "z": [
          [
           0,
           0,
           0,
           0,
           0,
           0,
           0,
           0,
           0,
           0,
           0,
           0,
           0,
           0,
           0,
           0,
           0,
           0,
           0,
           0,
           0,
           0,
           0,
           0,
           0,
           0,
           0,
           0,
           0,
           0,
           0,
           0,
           0,
           0
          ],
          [
           0,
           0,
           0,
           0,
           0,
           0,
           0,
           0,
           2.649613682729566e-12,
           1.945435494377441e-11,
           1.055940326729064e-10,
           4.529365281344356e-10,
           1.5816005316112441e-9,
           4.769910253252077e-9,
           1.3557000037590401e-8,
           3.9857681771468456e-8,
           1.2143651968652998e-7,
           3.6703738062798425e-7,
           0.0000010064162339516,
           0.0000023953644029702265,
           0.00000486799681278675,
           0.000008454220254629384,
           0.000012715181145379446,
           0.000016955773645900008,
           0.000020747787926279608,
           0.000024457053777809625,
           0.000029296224267644906,
           0.00003657086128915362,
           0.000046695381025215386,
           0.00005877742217854551,
           0.00007042977053339486,
           0.00007788227270653807,
           0.00007788227270653807,
           0
          ],
          [
           0,
           0,
           0,
           0,
           0,
           0,
           0,
           0,
           2.649613682729566e-12,
           1.945435494377441e-11,
           1.055940326729064e-10,
           4.529365281344356e-10,
           1.5816005316112441e-9,
           4.769910253252077e-9,
           1.3557000037590401e-8,
           3.9857681771468456e-8,
           1.2143651968652998e-7,
           3.6703738062798425e-7,
           0.0000010064162339516,
           0.0000023953644029702265,
           0.00000486799681278675,
           0.000008454220254629384,
           0.000012715181145379446,
           0.000016955773645900008,
           0.000020747787926279608,
           0.000024457053777809625,
           0.000029296224267644906,
           0.00003657086128915362,
           0.000046695381025215386,
           0.00005877742217854551,
           0.00007042977053339486,
           0.00007788227270653807,
           0.00007788227270653807,
           0
          ],
          [
           0,
           0,
           0,
           0,
           0,
           0,
           0,
           3.1095762570616744e-13,
           1.4819335616455325e-11,
           1.1039100467730571e-10,
           5.977410224257734e-10,
           2.561927147602532e-9,
           8.903407353792402e-9,
           2.5927812700531282e-8,
           6.584418510154824e-8,
           1.5575072013976763e-7,
           3.6432204726800994e-7,
           8.615158270727284e-7,
           0.0000019667442725885382,
           0.00000410768970398706,
           0.0000075950411630093805,
           0.000012318179967765953,
           0.000017663454986736844,
           0.000022805910804430604,
           0.00002720719451288794,
           0.00003110226641153662,
           0.0000355600743214896,
           0.000041646812496587846,
           0.000049369457126209527,
           0.00005766448608219654,
           0.00006497460169726455,
           0.00006941640932531316,
           0.00006941640932531316,
           0
          ],
          [
           0,
           0,
           0,
           0,
           0,
           0,
           4.664364385592511e-13,
           6.624034206823914e-12,
           9.800426282837652e-11,
           6.613530281599522e-10,
           3.3711398890065045e-9,
           1.3874943670985204e-8,
           4.679351975229582e-8,
           1.3162646450409187e-7,
           3.152602333392856e-7,
           6.682674674388596e-7,
           0.0000013176451051011841,
           0.000002523757369368936,
           0.000004718030235173944,
           0.000008369487884553648,
           0.000013635118512560565,
           0.000020078135975125873,
           0.000026796132340480885,
           0.00003283320256551415,
           0.00003753904426213601,
           0.0000409317738053,
           0.000043854193285488266,
           0.0000471715981902513,
           0.000050629333304710376,
           0.00005319355035134862,
           0.000054443488953012987,
           0.000054828084178938435,
           0.000054828084178938435,
           0
          ],
          [
           0,
           0,
           0,
           0,
           0,
           0,
           5.062772214065935e-12,
           6.184527222127144e-11,
           5.839589193327089e-10,
           3.5425036614750647e-9,
           1.6774990406760517e-8,
           6.523167013963933e-8,
           2.1058800174004378e-7,
           5.697185450107434e-7,
           0.000001305940605924007,
           0.0000025909938518245528,
           0.0000045929189714068435,
           0.000007551934116598312,
           0.000011836830727819193,
           0.000017750411682659935,
           0.0000250822901139248,
           0.00003291844213524267,
           0.000040068961259647235,
           0.00004559565924382204,
           0.00004891322311735032,
           0.00004993842728623716,
           0.00004941025316773168,
           0.000048315499520358156,
           0.00004670331130064859,
           0.00004396893523020481,
           0.00004048096341457931,
           0.00003795087537254589,
           0.00003795087537254589,
           0
          ],
          [
           0,
           0,
           0,
           0,
           9.328728771185023e-13,
           8.570756299601034e-12,
           8.771225626246453e-11,
           6.402020419155835e-10,
           3.947519674087722e-9,
           1.9631108868431104e-8,
           8.13938014308966e-8,
           2.8668225205372146e-7,
           8.589344438975006e-7,
           0.0000021905391057455143,
           0.000004770020709572307,
           0.000008952482036166904,
           0.000014735096629647542,
           0.0000218060958748314,
           0.00002982625549102988,
           0.000038474031883974225,
           0.00004706969321215716,
           0.00005441778214191663,
           0.00005935976672828395,
           0.00006131938892586611,
           0.00006017153063371578,
           0.000056164493870738575,
           0.000050291884678904824,
           0.000043947938629723735,
           0.000037790932054637655,
           0.00003171727408267593,
           0.000026185036916839276,
           0.00002271275762089936,
           0.00002271275762089936,
           0
          ],
          [
           0,
           7.773940642654185e-13,
           7.773940642654185e-13,
           5.380203703999245e-12,
           3.63422105190723e-11,
           1.985300213806912e-10,
           1.0783012001794133e-9,
           5.4055435305354275e-9,
           2.501952387787569e-8,
           1.0346480641275602e-7,
           3.749773704719796e-7,
           0.000001185099129237303,
           0.0000032477559639310913,
           0.000007691235521565214,
           0.000015728177255767396,
           0.000027855539114645318,
           0.000043082053037667294,
           0.00005903802824053825,
           0.00007312900704849502,
           0.00008363541443693305,
           0.00008977585793944999,
           0.00009123762914118864,
           0.00008814055845310348,
           0.00008116803886454905,
           0.0000712761760503349,
           0.00005951874600408013,
           0.00004732454916969379,
           0.00003627182074118687,
           0.000027189778377089197,
           0.000019999055885654732,
           0.000014637225983297398,
           0.000011640595043614827,
           0.000011640595043614827,
           0
          ],
          [
           0,
           6.002118955411579e-12,
           6.002118955411579e-12,
           4.7230104179531135e-11,
           3.138762740860963e-10,
           1.690101419113213e-9,
           8.219305007224434e-9,
           3.582700851163915e-8,
           1.420746137291206e-7,
           5.104708264991338e-7,
           0.0000016380069699253994,
           0.0000046498499594431215,
           0.0000115889487180001,
           0.000025244961231673367,
           0.000047979075655564566,
           0.00007959488669096029,
           0.00011568832943611133,
           0.0001484871220694229,
           0.00017038919363596564,
           0.00017752951837518222,
           0.00017065499118482674,
           0.00015347812319691398,
           0.00013053679838376204,
           0.00010574870171767479,
           0.00008177039824647749,
           0.00006016355957164879,
           0.00004198437461137126,
           0.000027927271023022864,
           0.000017953038188427974,
           0.000011306648227422731,
           0.000007161011082037358,
           0.000005117097352954539,
           0.000005117097352954539,
           0
          ],
          [
           0,
           4.577133722147886e-11,
           4.577133722147886e-11,
           3.480961953903464e-10,
           2.1748381053055142e-9,
           1.1137500735360479e-8,
           4.9726506264749016e-8,
           1.9627179176210874e-7,
           6.983777779783089e-7,
           0.0000022510988684104667,
           0.000006523812988696882,
           0.000016844969202114977,
           0.000038449080819084454,
           0.0000772104285141777,
           0.00013614552545140635,
           0.00021080910762016924,
           0.00028725747177417183,
           0.0003460898916527324,
           0.0003714094041201585,
           0.0003584174246094494,
           0.0003143868712204239,
           0.0002535929389791343,
           0.00019048016203565126,
           0.00013485537004580893,
           0.00009074165230340861,
           0.00005812391958370611,
           0.00003532641488130221,
           0.000020348171211468287,
           0.000011179489934127274,
           0.000005941931702594387,
           0.0000031671092637976344,
           0.000001966761513561165,
           0.000001966761513561165,
           0
          ],
          [
           0,
           2.6555347156232443e-10,
           2.6555347156232443e-10,
           1.9455313504940882e-9,
           1.1637473303173888e-8,
           5.735921359183149e-8,
           2.422368676983947e-7,
           8.944901688601983e-7,
           0.00000294778079635799,
           0.000008743059888445347,
           0.00002329190475779162,
           0.000055380124944852894,
           0.00011675231468325661,
           0.00021730153318717628,
           0.0003564176006754215,
           0.0005151963902029954,
           0.0006573959926592012,
           0.0007429487855200769,
           0.0007472192225924578,
           0.00067257100647821,
           0.0005449990668400447,
           0.0004002645818572691,
           0.00026889543549756,
           0.0001672918738985629,
           0.00009765747585329437,
           0.000053974330688296186,
           0.000028310277322385276,
           0.000014071241771249323,
           0.000006626748603543377,
           0.0000029749541576356406,
           0.0000013154690680647861,
           6.842844431883026e-7,
           6.842844431883026e-7,
           0
          ],
          [
           0,
           1.7720710764723091e-9,
           1.7720710764723091e-9,
           1.0503466399794589e-8,
           5.625973871479449e-8,
           2.5724444219003185e-7,
           0.000001016756155980342,
           0.000003522053011327654,
           0.000010850745462399391,
           0.000029945949092665297,
           0.00007404491612938204,
           0.00016335272519806497,
           0.00031993621692041706,
           0.0005543113108329151,
           0.0008482185895269339,
           0.0011463698357736263,
           0.001370112302772892,
           0.001451620810226675,
           0.0013679182239770078,
           0.001150606017339528,
           0.0008665896426839424,
           0.0005861949078831212,
           0.0003578499521901822,
           0.00019886397649605364,
           0.00010185461985925731,
           0.00004868989041732347,
           0.000021912351719641357,
           0.000009319336328538082,
           0.0000037483650222601153,
           0.0000014262610966315765,
           5.249947570846489e-7,
           2.2360242597415967e-7,
           2.2360242597415967e-7,
           0
          ],
          [
           0,
           1.0260490131191991e-8,
           1.0260490131191991e-8,
           5.002646419221805e-8,
           2.386990228708234e-7,
           0.000001003156864537948,
           0.000003701040879192788,
           0.000012051393546340285,
           0.0000348930757580417,
           0.00009020834053137717,
           0.00020832590769005645,
           0.0004286328557072153,
           0.000782955538183193,
           0.0012662816968467966,
           0.001811116815685949,
           0.0022909257486581546,
           0.0025653092655405826,
           0.002547204233095742,
           0.0022478351966770675,
           0.0017671762749645926,
           0.0012400333861996616,
           0.0007777059856072671,
           0.0004368464965193829,
           0.0002208416504240182,
           0.00010134153906914795,
           0.00004265616857173975,
           0.00001662082239428787,
           0.0000060356805659025485,
           0.000002053926997442643,
           6.568679652650744e-7,
           2.0199019207290093e-7,
           6.99057817248117e-8,
           6.99057817248117e-8,
           0
          ],
          [
           0,
           4.987015148813641e-8,
           4.987015148813641e-8,
           2.1060285114976626e-7,
           9.034691650871759e-7,
           0.0000034730008820317875,
           0.000011887679819354567,
           0.000036241690610796016,
           0.00009853518277855598,
           0.00023903584481039405,
           0.0005170441503072241,
           0.0009950799137196605,
           0.0016994137994772371,
           0.0025701422416181965,
           0.0034391737002529453,
           0.004072565048540194,
           0.004271283108080608,
           0.003972342989694436,
           0.0032807412670489535,
           0.0024099872290964273,
           0.0015766997173070688,
           0.0009195678021550074,
           0.0004786845479804706,
           0.00022305099003826445,
           0.00009353594952880761,
           0.000035526349928149755,
           0.000012279806955443786,
           0.000003871414336912696,
           0.000001117089526213029,
           2.958235807366208e-7,
           7.462329345795114e-8,
           2.0095919339934304e-8,
           2.0095919339934304e-8,
           0
          ],
          [
           0,
           2.1338483214015402e-7,
           2.1338483214015402e-7,
           7.970503882540016e-7,
           0.000003090083196594671,
           0.000010831017239333444,
           0.00003416790100534657,
           0.00009687515353926217,
           0.00024618725183974804,
           0.0005591777557268546,
           0.0011324305538393932,
           0.00203978260691182,
           0.003260000351813595,
           0.004614282305253554,
           0.005779259060584362,
           0.006405868239005202,
           0.006288446641177049,
           0.00547254593047466,
           0.00422626913397213,
           0.002899245777977161,
           0.001768420159861792,
           0.0009599868374053054,
           0.0004644297268668351,
           0.0002007753594258579,
           0.0000778873299346722,
           0.000027217383653761565,
           0.000008568993286366111,
           0.000002417440011627057,
           6.076746333414281e-7,
           1.3491127147401434e-7,
           2.7941052416212828e-8,
           5.591246842590927e-9,
           5.591246842590927e-9,
           0
          ],
          [
           0,
           7.774784626008308e-7,
           7.774784626008308e-7,
           0.0000026507215632074933,
           0.000009442539300815606,
           0.000030396082499848815,
           0.00008834655798416744,
           0.0002319527399349931,
           0.0005482246988254382,
           0.0011612483788119832,
           0.0021961093654414322,
           0.0036968335448707033,
           0.00552526559131219,
           0.007317470416484117,
           0.008577284353009241,
           0.008896501008508625,
           0.008169087166981108,
           0.00664592577320414,
           0.00479423530723549,
           0.0030689093265390075,
           0.0017444300788897736,
           0.0008812968355399284,
           0.00039637750939953325,
           0.00015922034147655426,
           0.000057387208985467865,
           0.00001862499857851125,
           0.0000054325434873109364,
           0.0000014081385621932944,
           3.194665692795271e-7,
           6.184358144947991e-8,
           1.0841145362150066e-8,
           1.4876889850646762e-9,
           1.4876889850646762e-9,
           0
          ],
          [
           0,
           0.0000024458931504010863,
           0.0000024458931504010863,
           0.000007730605263182162,
           0.00002561686746815319,
           0.00007642530649305052,
           0.00020546023208095317,
           0.0004992422601428332,
           0.0010941966853051694,
           0.0021537037276079096,
           0.0037909990778484622,
           0.005947875354460362,
           0.00829621082025393,
           0.010265566952393952,
           0.011250973773244945,
           0.010912966304418507,
           0.009367097284422404,
           0.007118121841242315,
           0.004791910767569229,
           0.002859719184374447,
           0.0015138402654057042,
           0.0007114309004850684,
           0.0002972922333645506,
           0.00011084607833895644,
           0.00003707826005329281,
           0.000011181421956965046,
           0.000003036567389590314,
           7.328842936723032e-7,
           1.5379531054854028e-7,
           2.7045310908794276e-8,
           4.207562540093574e-9,
           3.4979269673281543e-10,
           3.4979269673281543e-10,
           0
          ],
          [
           0,
           0.000006672548307524831,
           0.000006672548307524831,
           0.000019722015105113695,
           0.0000613248622210184,
           0.0001710197560222466,
           0.0004278516131208926,
           0.0009648836946453492,
           0.001961281369481418,
           0.003581749402965572,
           0.005854651202191267,
           0.008539146701705889,
           0.011086894899847936,
           0.012788569106433948,
           0.013082225423763107,
           0.011851767942852878,
           0.009501101159367007,
           0.0067387134256611594,
           0.004229960931284737,
           0.0023514003269819736,
           0.0011584255393509752,
           0.0005062064794462801,
           0.0001964611309825694,
           0.00006791141490602177,
           0.00002101892425729238,
           0.000005860412620444002,
           0.0000014748612176138404,
           3.315418970791533e-7,
           6.493409307744902e-8,
           1.0676867729151786e-8,
           1.5622384955923616e-9,
           7.808847405106762e-11,
           7.808847405106762e-11,
           0
          ],
          [
           0,
           0.00001595314767729987,
           0.00001595314767729987,
           0.000044210863702196553,
           0.0001295177444078948,
           0.00033946694548084777,
           0.0007944069373733765,
           0.0016690982234329392,
           0.003153217584992913,
           0.005346359151927575,
           0.008111466038014256,
           0.010983553011580825,
           0.013248538562045142,
           0.014213818248150815,
           0.013542233313730112,
           0.01143901059033515,
           0.008553967130777254,
           0.00565738409326892,
           0.003308496036194061,
           0.0017116620532174602,
           0.0007841605320897331,
           0.000318510629651764,
           0.00011484677279386253,
           0.00003682212076854551,
           0.000010532683850696614,
           0.0000027014756367304427,
           6.241936816646595e-7,
           1.294137262536392e-7,
           2.347079394988968e-8,
           3.604806852147248e-9,
           5.109773750601402e-10,
           1.4508377990749159e-11,
           1.4508377990749159e-11,
           0
          ],
          [
           0,
           0.0000337563969175612,
           0.0000337563969175612,
           0.00008766031901002183,
           0.00024210450683930456,
           0.0005977925641492234,
           0.0013125445040400741,
           0.0025768947752539974,
           0.004535463264217009,
           0.007151781574632566,
           0.010081438188246496,
           0.012676483770355733,
           0.014197013538588966,
           0.014147825986581923,
           0.012532094904530285,
           0.009852754388132306,
           0.0068628568126627865,
           0.004228028984219944,
           0.0023015798495716437,
           0.0011071418373497846,
           0.0004711887217716093,
           0.00017778273895588032,
           0.00005959215029977137,
           0.000017763531203705124,
           0.000004711780251857828,
           0.0000011133765198155594,
           2.352079184734774e-7,
           4.4533968113004025e-8,
           7.362803364301438e-9,
           1.018918926899797e-9,
           1.4351012718387561e-10,
           2.649613682729566e-12,
           2.649613682729566e-12,
           0
          ],
          [
           0,
           0.0000637692557108736,
           0.0000637692557108736,
           0.00015477115976089004,
           0.0004023630165295856,
           0.0009360954244178907,
           0.0019305759923068113,
           0.0035471340342108134,
           0.005825614837103157,
           0.008555949000121306,
           0.011221050321441047,
           0.013116819650417777,
           0.013648164025501784,
           0.012632275219132155,
           0.010395148484196398,
           0.007597800696108209,
           0.004923698657799936,
           0.0028229486600403328,
           0.0014293537479425178,
           0.0006387646419606761,
           0.00025223914911985716,
           0.00008828359970813907,
           0.00002749837965405838,
           0.000007638154542631983,
           0.0000018910990968164562,
           4.160639758012914e-7,
           8.112024600609494e-8,
           1.4054030275444865e-8,
           2.0852579326714315e-9,
           2.301921297146128e-10,
           3.2293287520664975e-11,
           3.1095762570616744e-13,
           3.1095762570616744e-13,
           0
          ],
          [
           0,
           0.00010821629619854947,
           0.00010821629619854947,
           0.00024463091139988554,
           0.0005969701079250044,
           0.001307236174088159,
           0.002532289733047795,
           0.00435635638996483,
           0.0066805593168067275,
           0.009145040783552742,
           0.011167980255815224,
           0.012148635360479191,
           0.011756245247250531,
           0.010113745931308525,
           0.007733190258202764,
           0.0052527673393471435,
           0.003165110573467374,
           0.0016879428021388974,
           0.000794709418769639,
           0.0003298210972033743,
           0.00012073039052229463,
           0.00003911997312517268,
           0.000011296292861443357,
           0.000002922198653563374,
           6.789340783344292e-7,
           1.4141163054566967e-7,
           2.6116775544953416e-8,
           4.271176341069242e-9,
           5.812182625616997e-10,
           4.0848998988327555e-11,
           5.691161329705412e-12,
           0,
           0,
           0
          ],
          [
           0,
           0.00016557950537430708,
           0.00016557950537430708,
           0.00034740441161226586,
           0.0007929475528911292,
           0.0016315323453850678,
           0.00296701267716203,
           0.004779579478877291,
           0.006845680754353189,
           0.008736199463469872,
           0.009936124356414406,
           0.010061966886037343,
           0.009061216964825846,
           0.007250786993205883,
           0.005154367040932429,
           0.003254340271870185,
           0.0018231400938644548,
           0.0009042944612788638,
           0.00039596116681157314,
           0.00015266596477728388,
           0.00005179245491158186,
           0.000015507277577131425,
           0.000004132853943592564,
           9.895461062380147e-7,
           2.150877215618905e-7,
           4.285376612971592e-8,
           7.683006539619838e-9,
           1.23813298489263e-9,
           1.6342076088792076e-10,
           5.380203703999245e-12,
           7.773940642654185e-13,
           0,
           0,
           0
          ],
          [
           0,
           0.00022847448697719188,
           0.00022847448697719188,
           0.00044378796906279963,
           0.000943924008652637,
           0.0018211101233560844,
           0.0031068288343834944,
           0.0046871146299388485,
           0.006272656597045476,
           0.00746472543613463,
           0.007907156793569611,
           0.007453255335033314,
           0.006245913638844638,
           0.0046496053862286404,
           0.0030736385604135416,
           0.001804051305979605,
           0.0009395665501145067,
           0.0004334099533297247,
           0.00017653374376112288,
           0.0000632729251642249,
           0.00001990452402856379,
           0.000005500872810674523,
           0.0000013459696873475776,
           2.949740196796743e-7,
           5.9123258186217635e-8,
           1.1215026605009675e-8,
           1.958249672398258e-9,
           3.171095546883544e-10,
           4.150480577557738e-11,
           0,
           0,
           0,
           0,
           0
          ],
          [
           0,
           0.0002835645493993246,
           0.0002835645493993246,
           0.0005094517195142062,
           0.0010063546817139185,
           0.0018163925721860286,
           0.002904356110597358,
           0.004104121482406672,
           0.005135698172720655,
           0.005703646742189042,
           0.005629463586187459,
           0.00493934243699974,
           0.003850862099385976,
           0.002665930283020362,
           0.0016382263604124443,
           0.0008934778724149944,
           0.00043232776523325397,
           0.00018533069328639267,
           0.0000701813931793974,
           0.000023382202812938634,
           0.000006822404635441698,
           0.000001739942310628167,
           3.893084002476546e-7,
           7.728249463257815e-8,
           1.404462391186657e-8,
           2.5241787051661857e-9,
           4.345045485451962e-10,
           7.392118914445137e-11,
           1.0297502315261612e-11,
           0,
           0,
           0,
           0,
           0
          ],
          [
           0,
           0.0003155466409233155,
           0.0003155466409233155,
           0.0005247374536375912,
           0.0009600046787902731,
           0.0016170086108433087,
           0.002419836153850833,
           0.003201764023488515,
           0.0037483123897795595,
           0.003888808345911379,
           0.003580016181230144,
           0.0029260275961675167,
           0.0021228885327362786,
           0.0013665207699158184,
           0.0007801656341895983,
           0.0003950036945408526,
           0.00017733283015496716,
           0.00007051910945851587,
           0.00002477692139211689,
           0.000007658414332482227,
           0.0000020686694601485835,
           4.861432029504121e-7,
           9.890141047645976e-8,
           1.7558651063493047e-8,
           2.8072868838811036e-9,
           4.6312856924053764e-10,
           7.641532401432786e-11,
           1.3688691139756028e-11,
           2.027698431317231e-12,
           0,
           0,
           0,
           0,
           0
          ],
          [
           0,
           0.0003142030099084221,
           0.0003142030099084221,
           0.0004847692178295063,
           0.000819915560370015,
           0.0012855358459758007,
           0.0017964918506820013,
           0.002222265322847002,
           0.002432377143409927,
           0.0023579564549336646,
           0.002026442539236978,
           0.0015446667616125476,
           0.0010441072198160658,
           0.0006254212370463427,
           0.00033177933371492324,
           0.00015583431989798352,
           0.00006480105586247977,
           0.000023837284078836286,
           0.000007739772026556465,
           0.0000022079790130282124,
           5.484405615859128e-7,
           1.1810477408692944e-7,
           2.16239784689025e-8,
           3.400218674822537e-9,
           4.6566053618851655e-10,
           6.832690804365348e-11,
           1.0608459940967781e-11,
           2.027698431317231e-12,
           3.1095762570616744e-13,
           0,
           0,
           0,
           0,
           0
          ],
          [
           0,
           0.0002796806815802559,
           0.0002796806815802559,
           0.00040206960966436675,
           0.0006287500538363412,
           0.0009160246743094552,
           0.00119232925685314,
           0.0013748703073455883,
           0.001403165504961732,
           0.0012685000994985796,
           0.0010168386755766057,
           0.0007231197034916721,
           0.0004559876864329122,
           0.00025461296401037455,
           0.00012569190215335748,
           0.00005479471679185684,
           0.000021084895297687542,
           0.000007154554024204673,
           0.0000021366771258719507,
           5.587419189075175e-7,
           1.2630265698356242e-7,
           2.4723017061828407e-8,
           3.982259958108612e-9,
           5.331815226800092e-10,
           5.225419284178466e-11,
           3.974420524094349e-12,
           0,
           0,
           0,
           0,
           0,
           0,
           0,
           0
          ],
          [
           0,
           0.0002225057633014983,
           0.0002225057633014983,
           0.0002998467764114339,
           0.0004347112341910808,
           0.000588726690851963,
           0.0007126891464906324,
           0.0007634989231824306,
           0.0007231775807200409,
           0.0006066298787030517,
           0.00045163355371258,
           0.00029885330585639654,
           0.00017571264417103654,
           0.00009158094382835541,
           0.00004216651082606214,
           0.00001709319237468506,
           0.000006087645246746212,
           0.0000019005084315632136,
           5.188997046149167e-7,
           1.2305710143901361e-7,
           2.480652647395187e-8,
           4.354779636250435e-9,
           6.019785769113273e-10,
           7.206823118999131e-11,
           6.313076581117747e-12,
           4.664364385592511e-13,
           0,
           0,
           0,
           0,
           0,
           0,
           0,
           0
          ],
          [
           0,
           0.0001594607930965981,
           0.0001594607930965981,
           0.00020249028626994579,
           0.0002731686052429998,
           0.00034475456480623283,
           0.000388431313801323,
           0.00038579742960737946,
           0.00033737014639899176,
           0.00026055395597297294,
           0.00017856519152877263,
           0.00010906092274955082,
           0.00005945701318572076,
           0.000028861493528346862,
           0.000012403018247767617,
           0.000004684906420113536,
           0.0000015465358839363974,
           4.438085374403423e-7,
           1.101938762674061e-7,
           2.3385221761098942e-8,
           4.042879494409298e-9,
           6.102670114887696e-10,
           6.240555098236755e-11,
           5.68468746547827e-12,
           3.1095762570616744e-13,
           0,
           0,
           0,
           0,
           0,
           0,
           0,
           0,
           0
          ],
          [
           0,
           0.0001076007898023413,
           0.0001076007898023413,
           0.00012893832944206024,
           0.00016198210164256426,
           0.0001908466522463175,
           0.00020045831595542132,
           0.00018443432719670165,
           0.00014813282517065477,
           0.00010424561408059768,
           0.00006478948278284546,
           0.00003590014361746227,
           0.000017858774988661414,
           0.000007978571594786621,
           0.0000031787270225198217,
           0.000001115225395204041,
           3.403565927801193e-7,
           8.941391049549355e-8,
           1.9992364416615787e-8,
           3.7219609212648367e-9,
           5.13580871343608e-10,
           6.275236840280307e-11,
           3.0350737827487037e-12,
           1.5547881285308372e-13,
           0,
           0,
           0,
           0,
           0,
           0,
           0,
           0,
           0,
           0
          ],
          [
           0,
           0.00007897422966706134,
           0.00007897422966706134,
           0.00009010600950996718,
           0.00010639788241030894,
           0.00011812704298927005,
           0.00011678884745519661,
           0.0001003584521723183,
           0.00007434283557009936,
           0.00004752953710086121,
           0.000026441362824130962,
           0.00001297675078500106,
           0.000005706231609342056,
           0.0000022707216882882436,
           8.161583251023087e-7,
           2.608957459890421e-7,
           7.268952381983574e-8,
           1.742810862202033e-8,
           3.5111864992760055e-9,
           5.76886265763322e-10,
           5.934113214134545e-11,
           6.306602716890604e-12,
           0,
           0,
           0,
           0,
           0,
           0,
           0,
           0,
           0,
           0,
           0,
           0
          ],
          [
           0,
           0.00007897422966706134,
           0.00007897422966706134,
           0.00009010600950996718,
           0.00010639788241030894,
           0.00011812704298927005,
           0.00011678884745519661,
           0.0001003584521723183,
           0.00007434283557009936,
           0.00004752953710086121,
           0.000026441362824130962,
           0.00001297675078500106,
           0.000005706231609342056,
           0.0000022707216882882436,
           8.161583251023087e-7,
           2.608957459890421e-7,
           7.268952381983574e-8,
           1.742810862202033e-8,
           3.5111864992760055e-9,
           5.76886265763322e-10,
           5.934113214134545e-11,
           6.306602716890604e-12,
           0,
           0,
           0,
           0,
           0,
           0,
           0,
           0,
           0,
           0,
           0,
           0
          ],
          [
           0,
           0,
           0,
           0,
           0,
           0,
           0,
           0,
           0,
           0,
           0,
           0,
           0,
           0,
           0,
           0,
           0,
           0,
           0,
           0,
           0,
           0,
           0,
           0,
           0,
           0,
           0,
           0,
           0,
           0,
           0,
           0,
           0,
           0
          ]
         ]
        },
        {
         "error_x": {
          "array": [
           0.010988580975464624
          ],
          "arrayminus": [
           0.009926357715407397
          ],
          "color": "#FF0092",
          "symmetric": false,
          "thickness": 2,
          "type": "data",
          "width": 0
         },
         "error_y": {
          "array": [
           0.01695462107982859
          ],
          "arrayminus": [
           0.018662746284501264
          ],
          "color": "#FF0092",
          "symmetric": false,
          "thickness": 2,
          "type": "data",
          "width": 0
         },
         "marker": {
          "color": "#FF0092",
          "size": 5,
          "symbol": "circle"
         },
         "mode": "markers",
         "name": "par#1&par#2",
         "showlegend": false,
         "type": "scatter",
         "x": [
          -1.5619117351913692
         ],
         "xaxis": "x4",
         "y": [
          2.689005625602019
         ],
         "yaxis": "y4"
        },
        {
         "line": {
          "color": "#205295",
          "width": 2
         },
         "mode": "lines",
         "name": "par#3",
         "showlegend": false,
         "type": "scatter",
         "x": [
          -0.7971658543040483,
          -0.7950213126406488,
          -0.7950213126406488,
          -0.7928767709772493,
          -0.7928767709772493,
          -0.7907322293138497,
          -0.7907322293138497,
          -0.7885876876504502,
          -0.7885876876504502,
          -0.7864431459870507,
          -0.7864431459870507,
          -0.7842986043236512,
          -0.7842986043236512,
          -0.7821540626602517,
          -0.7821540626602517,
          -0.7800095209968521,
          -0.7800095209968521,
          -0.7778649793334526,
          -0.7778649793334526,
          -0.775720437670053,
          -0.775720437670053,
          -0.7735758960066536,
          -0.7735758960066536,
          -0.771431354343254,
          -0.771431354343254,
          -0.7692868126798544,
          -0.7692868126798544,
          -0.7671422710164549,
          -0.7671422710164549,
          -0.7649977293530554,
          -0.7649977293530554,
          -0.7628531876896559,
          -0.7628531876896559,
          -0.7607086460262564,
          -0.7607086460262564,
          -0.7585641043628568,
          -0.7585641043628568,
          -0.7564195626994573,
          -0.7564195626994573,
          -0.7542750210360578,
          -0.7542750210360578,
          -0.7521304793726583,
          -0.7521304793726583,
          -0.7499859377092588,
          -0.7499859377092588,
          -0.7478413960458592,
          -0.7478413960458592,
          -0.7456968543824597,
          -0.7456968543824597,
          -0.7435523127190602,
          -0.7435523127190602,
          -0.7414077710556607,
          -0.7414077710556607,
          -0.7392632293922612,
          -0.7392632293922612,
          -0.7371186877288616,
          -0.7371186877288616,
          -0.7349741460654621,
          -0.7349741460654621,
          -0.7328296044020626
         ],
         "xaxis": "x9",
         "y": [
          0.31653262428012985,
          0.31653262428012985,
          0.5927164064226988,
          0.5927164064226988,
          1.2701941122789198,
          1.2701941122789198,
          2.5924173954627463,
          2.5924173954627463,
          4.888321608098165,
          4.888321608098165,
          8.494613251158679,
          8.494613251158679,
          13.632787050372798,
          13.632787050372798,
          20.26343913533754,
          20.26343913533754,
          27.964486421236522,
          27.964486421236522,
          35.90873352211049,
          35.90873352211049,
          42.985585246772814,
          42.985585246772814,
          48.02684074329487,
          48.02684074329487,
          50.07456724397987,
          50.07456724397987,
          48.64896892971675,
          48.64896892971675,
          43.93200023914548,
          43.93200023914548,
          36.76205886738916,
          36.76205886738916,
          28.41558060201672,
          28.41558060201672,
          20.241699657931644,
          20.241699657931644,
          13.28122317094631,
          13.28122317094631,
          8.038771369701934,
          8.038771369701934,
          4.50530893041715,
          4.50530893041715,
          2.359686399444295,
          2.359686399444295,
          1.1868004011732198,
          1.1868004011732198,
          0.6136105133148102,
          0.6136105133148102,
          0.3630910234828241,
          0.3630910234828241,
          0.2601481530568709,
          0.2601481530568709,
          0.2120747172683617,
          0.2120747172683617,
          0.17953268316702684,
          0.17953268316702684,
          0.15259732879966653,
          0.15259732879966653,
          0.1357159372214485,
          0.1357159372214485
         ],
         "yaxis": "y9"
        },
        {
         "error_x": {
          "array": [
           0.006820555530434369
          ],
          "arrayminus": [
           0.006485281419058131
          ],
          "color": "#FF0092",
          "symmetric": false,
          "thickness": 2,
          "type": "data",
          "width": 0
         },
         "marker": {
          "color": "#FF0092",
          "size": 5,
          "symbol": "circle"
         },
         "mode": "markers",
         "name": "par#3 value",
         "showlegend": false,
         "type": "scatter",
         "x": [
          -0.770585882640384
         ],
         "xaxis": "x9",
         "y": [
          0.01
         ],
         "yaxis": "y9"
        },
        {
         "colorscale": [
          [
           0,
           "rgb(247,251,255)"
          ],
          [
           0.125,
           "rgb(222,235,247)"
          ],
          [
           0.25,
           "rgb(198,219,239)"
          ],
          [
           0.375,
           "rgb(158,202,225)"
          ],
          [
           0.5,
           "rgb(107,174,214)"
          ],
          [
           0.625,
           "rgb(66,146,198)"
          ],
          [
           0.75,
           "rgb(33,113,181)"
          ],
          [
           0.875,
           "rgb(8,81,156)"
          ],
          [
           1,
           "rgb(8,48,107)"
          ]
         ],
         "contours": {
          "end": 0.009435353672804337,
          "size": 0.007436527848959465,
          "start": 0.0019988258238448717
         },
         "line": {
          "width": 2
         },
         "name": "par#1&par#3",
         "ncontours": 2,
         "showlegend": false,
         "showscale": false,
         "type": "contour",
         "x": [
          -1.6037941842685162,
          -1.6003931933262399,
          -1.5969922023839636,
          -1.5935912114416872,
          -1.590190220499411,
          -1.5867892295571344,
          -1.583388238614858,
          -1.5799872476725816,
          -1.576586256730305,
          -1.5731852657880285,
          -1.5697842748457522,
          -1.566383283903476,
          -1.5629822929611992,
          -1.5595813020189229,
          -1.5561803110766466,
          -1.55277932013437,
          -1.5493783291920935,
          -1.5459773382498172,
          -1.5425763473075407,
          -1.5391753563652641,
          -1.5357743654229878,
          -1.5323733744807115,
          -1.5289723835384348,
          -1.5255713925961585,
          -1.5221704016538822,
          -1.5187694107116056,
          -1.5153684197693291,
          -1.5119674288270528,
          -1.5085664378847763,
          -1.5051654469424998,
          -1.5017644560002235,
          -1.4983634650579472,
          -1.4949624741156708,
          -1.4915614831733945
         ],
         "xaxis": "x7",
         "y": [
          -0.8003826667991478,
          -0.7982381251357482,
          -0.7960935834723486,
          -0.793949041808949,
          -0.7918045001455495,
          -0.78965995848215,
          -0.7875154168187504,
          -0.785370875155351,
          -0.7832263334919514,
          -0.7810817918285519,
          -0.7789372501651524,
          -0.7767927085017527,
          -0.7746481668383534,
          -0.7725036251749537,
          -0.7703590835115542,
          -0.7682145418481547,
          -0.7660700001847551,
          -0.7639254585213557,
          -0.7617809168579561,
          -0.7596363751945566,
          -0.7574918335311571,
          -0.7553472918677575,
          -0.7532027502043581,
          -0.7510582085409585,
          -0.748913666877559,
          -0.7467691252141595,
          -0.7446245835507599,
          -0.7424800418873605,
          -0.7403355002239609,
          -0.7381909585605614,
          -0.7360464168971619,
          -0.7339018752337623,
          -0.7317573335703627,
          -0.729612791906963
         ],
         "yaxis": "y7",
         "z": [
          [
           0,
           0,
           0,
           0,
           0,
           0,
           0,
           0,
           0,
           0,
           0,
           0,
           0,
           0,
           0,
           0,
           0,
           0,
           0,
           0,
           0,
           0,
           0,
           0,
           0,
           0,
           0,
           0,
           0,
           0,
           0,
           0,
           0,
           0
          ],
          [
           0,
           0.00008324653029667762,
           0.00008324653029667762,
           0.00009075202447903427,
           0.00009971822876565556,
           0.00010243077920310369,
           0.00009463771649110648,
           0.00007759142557357991,
           0.0000562962042888803,
           0.000036163069618346196,
           0.00002056561141341557,
           0.00001032581918257414,
           0.00000454975380910015,
           0.0000017450155742272216,
           5.792073778413163e-7,
           1.6546520053748356e-7,
           4.0455896205570564e-8,
           8.502882737355135e-9,
           1.3765057371294253e-9,
           1.938780999523158e-10,
           1.969072835071007e-11,
           4.664364385592511e-13,
           0,
           0,
           0,
           0,
           0,
           0,
           0,
           0,
           0,
           0,
           0,
           0
          ],
          [
           0,
           0.00008324653029667762,
           0.00008324653029667762,
           0.00009075202447903427,
           0.00009971822876565556,
           0.00010243077920310369,
           0.00009463771649110648,
           0.00007759142557357991,
           0.0000562962042888803,
           0.000036163069618346196,
           0.00002056561141341557,
           0.00001032581918257414,
           0.00000454975380910015,
           0.0000017450155742272216,
           5.792073778413163e-7,
           1.6546520053748356e-7,
           4.0455896205570564e-8,
           8.502882737355135e-9,
           1.3765057371294253e-9,
           1.938780999523158e-10,
           1.969072835071007e-11,
           4.664364385592511e-13,
           0,
           0,
           0,
           0,
           0,
           0,
           0,
           0,
           0,
           0,
           0,
           0
          ],
          [
           0,
           0.00011541709477902843,
           0.00011541709477902843,
           0.0001344573445780149,
           0.00016169945433420975,
           0.00018176330033236804,
           0.00018316272125411032,
           0.00016355854657311653,
           0.0001292642806056353,
           0.00009050187797875564,
           0.00005611804856608729,
           0.00003074197186761494,
           0.000014818790338962533,
           0.000006262592350337806,
           0.0000023167892588219203,
           7.487801350068681e-7,
           2.1038367559726715e-7,
           5.0978466333457043e-8,
           1.0152821256923828e-8,
           1.6926237040326598e-9,
           2.1477195603964702e-10,
           1.2532229095241098e-11,
           3.1095762570616744e-13,
           0,
           0,
           0,
           0,
           0,
           0,
           0,
           0,
           0,
           0,
           0
          ],
          [
           0,
           0.00017460148652277628,
           0.00017460148652277628,
           0.00021889195415793325,
           0.000288932129318712,
           0.00035520344276065177,
           0.00038971875067654886,
           0.00037792742751414015,
           0.0003237642432797829,
           0.0002452588677018108,
           0.00016428168482370415,
           0.0000971833247830612,
           0.00005069894970439543,
           0.000023307586551933914,
           0.000009441027471761641,
           0.000003362529486504036,
           0.0000010473517613704013,
           2.830699625406512e-7,
           6.509803539389379e-8,
           1.2842834608785889e-8,
           2.125584978629109e-9,
           2.644375407185122e-10,
           3.26572659413827e-11,
           4.04892299840732e-12,
           3.1095762570616744e-13,
           0,
           0,
           0,
           0,
           0,
           0,
           0,
           0,
           0
          ],
          [
           0,
           0.0002469074602546074,
           0.0002469074602546074,
           0.0003318351415114688,
           0.0004768855185942739,
           0.000636349529170106,
           0.0007556813866805729,
           0.0007917804796235496,
           0.0007317515204197057,
           0.0005971821669052575,
           0.0004307130777256057,
           0.0002746537379585133,
           0.00015490763589895467,
           0.0000772957789850813,
           0.00003408896648645233,
           0.00001323977282423585,
           0.0000045027284348067274,
           0.0000013339936070198558,
           3.425946984304665e-7,
           7.711335391998189e-8,
           1.5330989342922936e-8,
           2.638431018030154e-9,
           4.5372434049392956e-10,
           7.583268084701866e-11,
           1.0138492156586155e-11,
           1.2438305028246698e-12,
           0,
           0,
           0,
           0,
           0,
           0,
           0,
           0
          ],
          [
           0,
           0.0003097259156322749,
           0.0003097259156322749,
           0.0004473214504077033,
           0.0006992930806048294,
           0.001011065808612489,
           0.0012973439370354014,
           0.001466385325199,
           0.001460322561620445,
           0.001283594818316336,
           0.000997667410744953,
           0.0006867361446929667,
           0.0004190320901183938,
           0.00022657131551525044,
           0.00010830153877293049,
           0.00004557178565754929,
           0.000016810391947429343,
           0.000005429568996878185,
           0.000001539861426302169,
           3.876613886919436e-7,
           8.73701812427202e-8,
           1.742734288528126e-8,
           3.254337828797558e-9,
           5.519183143215141e-10,
           7.346107049680653e-11,
           8.73270897668126e-12,
           0,
           0,
           0,
           0,
           0,
           0,
           0,
           0
          ],
          [
           0,
           0.00034005157485976175,
           0.00034005157485976175,
           0.000530960701560536,
           0.0009045126408188663,
           0.0014166634113212937,
           0.001962808157942723,
           0.0023921463466165475,
           0.0025675141790738403,
           0.002433220699303933,
           0.0020412263002474724,
           0.0015184676819933135,
           0.0010020548807372714,
           0.0005857401884006736,
           0.0003023170893948632,
           0.0001372762213441919,
           0.00005474098283344207,
           0.000019208096209066294,
           0.000005965512156361891,
           0.000001654086839307248,
           4.1113949244028505e-7,
           9.060407503886718e-8,
           1.7956883455029245e-8,
           3.1122078019492375e-9,
           4.187544417729065e-10,
           4.851046119359567e-11,
           0,
           0,
           0,
           0,
           0,
           0,
           0,
           0
          ],
          [
           0,
           0.0003265918505737174,
           0.0003265918505737174,
           0.0005549822265915281,
           0.0010318027745709964,
           0.0017500620999315903,
           0.002617179697701288,
           0.0034394755522441545,
           0.003981540013635326,
           0.004072926632258364,
           0.0036914631273125397,
           0.0029680830646843146,
           0.002115988062439416,
           0.0013346181115217706,
           0.0007425487166852754,
           0.00036366359251919844,
           0.00015683594002513122,
           0.0000597757569012499,
           0.000020250278833824293,
           0.000006130707213977975,
           0.0000016593430044541124,
           3.9769786484306995e-7,
           8.430317208046846e-8,
           1.5608450207513716e-8,
           2.5521174235028193e-9,
           6.998670498048228e-10,
           4.761019621524015e-10,
           4.10570753985242e-10,
           2.8111228818765187e-10,
           1.506240437624177e-10,
           6.373847909866093e-11,
           2.5512457013286787e-11,
           2.5512457013286787e-11,
           0
          ],
          [
           0,
           0.00027587348451274096,
           0.00027587348451274096,
           0.0005130469846597182,
           0.0010411910728060712,
           0.00191088037659933,
           0.0030828660201708347,
           0.0043688241391711515,
           0.005456974886446697,
           0.006028756374098035,
           0.005904340677851736,
           0.005128671755193742,
           0.003946532755863541,
           0.0026844104160688256,
           0.001610715332298832,
           0.0008520271065984341,
           0.000397929709406234,
           0.0001646339700761064,
           0.000060562058678098486,
           0.000019849953676004814,
           0.000005786110954977509,
           0.0000014883841391726793,
           3.359285928488493e-7,
           6.633081487998447e-8,
           1.2297744551034218e-8,
           4.129619777061167e-9,
           3.135191397811675e-9,
           2.6806846305823116e-9,
           1.8333933413994953e-9,
           9.82192144547413e-10,
           4.156270932073095e-10,
           1.6636211749884056e-10,
           1.6636211749884056e-10,
           0
          ],
          [
           0,
           0.00020690943640921708,
           0.00020690943640921708,
           0.00042236407246421393,
           0.0009338424521480172,
           0.0018507499968778627,
           0.0032169600749872964,
           0.004912968612352415,
           0.006620650991916936,
           0.007899286784973966,
           0.008358113414862808,
           0.007841146568976099,
           0.0065129560123645645,
           0.004781309791250502,
           0.0030989872530604754,
           0.0017737160419549736,
           0.0008977375476297339,
           0.00040256085328416636,
           0.00016014511029422877,
           0.00005651727168451006,
           0.000017657859046539528,
           0.000004863138935285377,
           0.0000011783455617344578,
           2.549974329264312e-7,
           5.659588797798676e-8,
           2.3042226794238407e-8,
           1.7762762651151885e-8,
           1.446959148375192e-8,
           9.64586776078664e-9,
           5.093465277214979e-9,
           2.1369387347385337e-9,
           8.507031847142598e-10,
           8.507031847142598e-10,
           0
          ],
          [
           0,
           0.00013928674346879222,
           0.00013928674346879222,
           0.0003116263290499228,
           0.0007470669045585004,
           0.001593244417000964,
           0.0029774736195299295,
           0.004895627296311085,
           0.0071156004227375435,
           0.009168812858407847,
           0.01048233246646204,
           0.01062464026697353,
           0.009533726926096114,
           0.0075643648858090135,
           0.005304293137638254,
           0.003288003644047955,
           0.0018027154043186396,
           0.0008744836389676649,
           0.00037524534119229367,
           0.00014234008083771944,
           0.000047685057273190566,
           0.000014099597392355725,
           0.000003692203636890199,
           8.807545077500027e-7,
           2.2565566231467828e-7,
           1.0037150918705763e-7,
           7.59301692200031e-8,
           5.972754959828716e-8,
           3.9097096643534195e-8,
           2.04365915386643e-8,
           8.523060646374692e-9,
           3.3802192517253444e-9,
           3.3802192517253444e-9,
           0
          ],
          [
           0,
           0.00008472029643927256,
           0.00008472029643927256,
           0.00020640142194306194,
           0.0005328412427213487,
           0.0012179522629737441,
           0.0024426357244719463,
           0.004322017422144412,
           0.006777114584377286,
           0.009435353672804337,
           0.011661496753222918,
           0.012779259352652266,
           0.01240053983698574,
           0.01064575540884252,
           0.008082401862416672,
           0.005425486552349592,
           0.0032188701690108353,
           0.001686734176648261,
           0.000780127178404861,
           0.0003183760508290981,
           0.00011471759638301667,
           0.00003658232512852542,
           0.000010409932107788232,
           0.0000027442014562695794,
           7.913713675286509e-7,
           3.643914793144335e-7,
           2.617513948954839e-7,
           1.9632365572600446e-7,
           1.2512529888448626e-7,
           6.440055333499034e-8,
           2.6609121986813172e-8,
           1.049012927952885e-8,
           1.049012927952885e-8,
           0
          ],
          [
           0,
           0.000046440534550884056,
           0.000046440534550884056,
           0.00012211163783199582,
           0.0003373454338953901,
           0.0008243901323720885,
           0.0017738239053797311,
           0.0033801769778291496,
           0.005723470267428658,
           0.008615859118803052,
           0.011518256709689766,
           0.013654667696414064,
           0.01433740667086659,
           0.013323625759130419,
           0.010951278569431563,
           0.007955283324608969,
           0.005102207393013002,
           0.002886371400699759,
           0.0014395267239828147,
           0.0006331850551216954,
           0.00024605372652503006,
           0.00008483385183864197,
           0.000026258419493999198,
           0.0000076191441937070135,
           0.0000024168084162754343,
           0.0000011165569426480923,
           7.430615759571201e-7,
           5.216404571942339e-7,
           3.192984407493438e-7,
           1.6036857761452963e-7,
           6.526891643803021e-8,
           2.5479019815484493e-8,
           2.5479019815484493e-8,
           0
          ],
          [
           0,
           0.00002268450421308976,
           0.00002268450421308976,
           0.00006395996039292605,
           0.00018857810296876075,
           0.000492968199342614,
           0.001140036307564163,
           0.002343606726833744,
           0.00428957035287502,
           0.006984869716509511,
           0.010101810752601893,
           0.012956659957010062,
           0.014722703111690584,
           0.014808495944445783,
           0.013171121303607394,
           0.010346148070480045,
           0.007168654105815642,
           0.0043775293579499264,
           0.0023555464603992726,
           0.001117844354653056,
           0.00046887706588904344,
           0.00017473989675901964,
           0.00005868560653549319,
           0.00001859471499431247,
           0.000006358618112323081,
           0.000002900175340493825,
           0.0000017639643072475735,
           0.0000011377149723122371,
           6.574632648538533e-7,
           3.181841932766681e-7,
           1.264543687929753e-7,
           4.8583323089888975e-8,
           4.8583323089888975e-8,
           0
          ],
          [
           0,
           0.000009738371653617347,
           0.000009738371653617347,
           0.00002943898654307762,
           0.00009284174851071023,
           0.0002605276727125218,
           0.0006494047909021864,
           0.0014423153856766222,
           0.0028544362915764224,
           0.005026149123113144,
           0.007860936142159762,
           0.010906491891709424,
           0.01340988964869278,
           0.014594406262123796,
           0.01403860208019566,
           0.011916711923095354,
           0.008915479954666579,
           0.00587514069939961,
           0.003410541773219829,
           0.0017457560932301727,
           0.0007898455944614978,
           0.00031770888749896737,
           0.00011541348034771614,
           0.0000396237660573302,
           0.000014385154121194917,
           0.000006431049160314801,
           0.0000035588469341578708,
           0.0000020763063745029347,
           0.000001111049742573704,
           5.094661902945439e-7,
           1.9520601615287816e-7,
           7.31051183476309e-8,
           7.31051183476309e-8,
           0
          ],
          [
           0,
           0.000003640019108375721,
           0.000003640019108375721,
           0.000011881460510174924,
           0.00004032148765329479,
           0.00012201155782788895,
           0.00032851528425949976,
           0.0007883814588430144,
           0.001685640727892135,
           0.003206732480832388,
           0.005421012721924238,
           0.008134681315350672,
           0.010821228094673523,
           0.01273873200295128,
           0.013244059576493696,
           0.01213953150668447,
           0.009799087077616085,
           0.006963124247583915,
           0.004356978917243386,
           0.0024033548346273164,
           0.0011717926862876422,
           0.0005081864458984074,
           0.0001992253890011115,
           0.00007361527597063985,
           0.000028032019863195204,
           0.000012245092778824749,
           0.0000061815246144531226,
           0.0000032346626129930153,
           0.0000015748045241027462,
           6.70944534670903e-7,
           2.436085000649471e-7,
           8.764266179908247e-8,
           8.764266179908247e-8,
           0
          ],
          [
           0,
           0.0000011816097906295816,
           0.0000011816097906295816,
           0.000004216475276417213,
           0.000015504548516981303,
           0.000050755185988711165,
           0.00014764210434253246,
           0.0003823233462189181,
           0.000881840340109713,
           0.0018109630200871837,
           0.0033086098964082798,
           0.0053705847814013155,
           0.007729316480566075,
           0.009837433735703416,
           0.011045120675541696,
           0.010920484627622445,
           0.009500096236210776,
           0.007271185973194764,
           0.004899430053444493,
           0.002910655253538806,
           0.0015291532112478488,
           0.0007150842270068893,
           0.0003022294471081268,
           0.00011960075154080028,
           0.000047370300811781045,
           0.000020210811438264672,
           0.000009369688760777917,
           0.000004394687179179604,
           0.0000019242636203335126,
           7.476979953749244e-7,
           2.520784386414147e-7,
           8.536434904953718e-8,
           8.536434904953718e-8,
           0
          ],
          [
           0,
           3.3527143652069374e-7,
           3.3527143652069374e-7,
           0.0000013232707096189205,
           0.000005291561911197078,
           0.000018742155494207704,
           0.00005880003273406704,
           0.00016397838243400925,
           0.00040758082886944665,
           0.0009035454357976781,
           0.0017850748877843983,
           0.003135872922283069,
           0.004882287193513994,
           0.006713319540612455,
           0.00813043270752833,
           0.008659660322111145,
           0.0081087076818229,
           0.006678686789021913,
           0.004844395042644441,
           0.0031006942221610974,
           0.0017570511974135284,
           0.0008869807032247753,
           0.000404144594855627,
           0.00017079969112005072,
           0.00007012930229679237,
           0.000029365284428400748,
           0.000012655421432794136,
           0.000005370816460125223,
           0.00000211904069467879,
           7.467931501628335e-7,
           2.3189814384183226e-7,
           7.349861967793736e-8,
           7.349861967793736e-8,
           0
          ],
          [
           0,
           8.333610878888017e-8,
           8.333610878888017e-8,
           3.6705831900837715e-7,
           0.000001596132186955601,
           0.00000610609217173201,
           0.000020627437845199622,
           0.00006190496791981218,
           0.00016590644195905698,
           0.0003975736635118245,
           0.0008505279345898966,
           0.001618028659920554,
           0.0027242234648534643,
           0.004042544889152996,
           0.005273625664136165,
           0.006042943664530774,
           0.006085476869176166,
           0.005392991810509432,
           0.004213714292891057,
           0.0029095688403626696,
           0.0017812291509096741,
           0.0009719190607774455,
           0.0004774783348707592,
           0.00021531021769824362,
           0.00009186591211570344,
           0.000038265444542092184,
           0.00001571133890028551,
           0.000006214297066336651,
           0.0000022862191696514863,
           7.636060684343616e-7,
           2.3423578477337286e-7,
           7.921640460643548e-8,
           7.921640460643548e-8,
           0
          ],
          [
           0,
           1.7783225286327077e-8,
           1.7783225286327077e-8,
           8.847999399153495e-8,
           4.1901378405568893e-7,
           0.0000017329568133002737,
           0.000006316315755318385,
           0.00002045503066414187,
           0.000059301585425020554,
           0.00015408715045955296,
           0.0003576462802199566,
           0.0007371347965089086,
           0.0013410833662105951,
           0.0021446480506663312,
           0.003009479964083852,
           0.0037069582568172777,
           0.004014691673619154,
           0.00383130547720189,
           0.0032292210086446492,
           0.002409386767388471,
           0.0015955283455525093,
           0.0009413724738312188,
           0.0004983804385423635,
           0.00023990700580516606,
           0.00010719339503744284,
           0.000045494432663445675,
           0.00001860694903898116,
           0.000007331707057481936,
           0.0000027734776456485027,
           0.0000010159318291272195,
           3.8028461072296926e-7,
           1.7803190525082765e-7,
           1.7803190525082765e-7,
           0
          ],
          [
           0,
           3.178215591598193e-9,
           3.178215591598193e-9,
           1.8192562270517503e-8,
           9.414839643019468e-8,
           4.2262690369814855e-7,
           0.0000016731371728746395,
           0.000005888074832104741,
           0.00001858084986045443,
           0.00005258599996117242,
           0.0001327052610772229,
           0.0002963142380721109,
           0.000581763546126525,
           0.0010010705156044994,
           0.0015095816110912582,
           0.0019988258238448717,
           0.002330396497204169,
           0.0023986955190888003,
           0.002184418440343624,
           0.0017629247264890377,
           0.001262854552278138,
           0.0008048822394095327,
           0.00045874901296064086,
           0.0002362927838269558,
           0.00011200090219329044,
           0.00005007913660044292,
           0.000021713240972117952,
           0.000009380524455923077,
           0.000004141752845364207,
           0.0000019027684671480388,
           9.428393948999589e-7,
           5.779846176924634e-7,
           5.779846176924634e-7,
           0
          ],
          [
           0,
           5.25567753610419e-10,
           5.25567753610419e-10,
           3.2587081578946925e-9,
           1.801923693529224e-8,
           8.751551111718618e-8,
           3.8005557594795705e-7,
           0.000001470461671506067,
           0.0000050980365579450165,
           0.000015805469551672086,
           0.00004344817360148236,
           0.00010502188051953262,
           0.00022213689418821382,
           0.0004107605489970612,
           0.0006655346065364447,
           0.0009482980085116043,
           0.0011923125592081486,
           0.001325937029449141,
           0.001305884639690973,
           0.0011398150585041093,
           0.0008822734507367036,
           0.0006067042089387188,
           0.0003725473408777055,
           0.00020671252973939776,
           0.00010594109153419588,
           0.00005187978275399367,
           0.000025377510601659482,
           0.000012963411400920435,
           0.000007063362744466513,
           0.000004062418162933547,
           0.000002489131242993965,
           0.0000017957274439840964,
           0.0000017957274439840964,
           0
          ],
          [
           0,
           5.926662966703248e-11,
           5.926662966703248e-11,
           4.3242501100620465e-10,
           2.6739186771197452e-9,
           1.4623766214946349e-8,
           7.255300804207495e-8,
           3.1683385444021633e-7,
           0.0000012243324227231888,
           0.000004185846674292504,
           0.000012546604853850033,
           0.0000327778089559023,
           0.00007456002538592022,
           0.00014807714271037196,
           0.00025804626600275064,
           0.0003964450182496535,
           0.0005385796873086689,
           0.0006477707691603665,
           0.0006899222408521067,
           0.0006508121260468981,
           0.0005442107565931317,
           0.0004046060598067676,
           0.0002695388012567823,
           0.00016350764880442335,
           0.00009290021233229694,
           0.00005160284547869785,
           0.00002956765434838304,
           0.000018209454630343,
           0.000012017437490932763,
           0.000008240900685016789,
           0.000005909024671324205,
           0.0000047799552048200495,
           0.0000047799552048200495,
           0
          ],
          [
           0,
           5.218251026919018e-12,
           5.218251026919018e-12,
           4.240235287452018e-11,
           2.9423180751891293e-10,
           1.884936350971735e-9,
           1.1437277032338986e-8,
           5.8496587817987474e-8,
           2.56404845359456e-7,
           9.736231183164681e-7,
           0.0000031838607791790922,
           0.000008976632917327402,
           0.000021945033491595528,
           0.000046858424835265055,
           0.00008803109412380018,
           0.0001461673300114708,
           0.00021483689742370193,
           0.0002795032271803453,
           0.00032190733953577815,
           0.0003286525136845722,
           0.00029843986600331697,
           0.00024259806287348578,
           0.00017855989879903697,
           0.00012125143253540686,
           0.00007823537316646489,
           0.000050145505891222754,
           0.00003369181881174652,
           0.000024468826467871157,
           0.00001882624588800814,
           0.000014829290471683625,
           0.000012067023199372609,
           0.000010665019747263397,
           0.000010665019747263397,
           0
          ],
          [
           0,
           0,
           0,
           1.088351689971586e-12,
           1.4255443765079302e-11,
           1.524871608580097e-10,
           1.45041861585281e-9,
           9.275591462449015e-9,
           4.690510850382542e-8,
           1.9839011427473747e-7,
           7.060845440705773e-7,
           0.000002144333816022172,
           0.000005638180972013391,
           0.00001298106608989861,
           0.000026379470816731074,
           0.00004744151259239244,
           0.00007549802866920498,
           0.00010632715023324895,
           0.00013287350345579977,
           0.00014819072990042773,
           0.00014872313407258235,
           0.00013560368534475714,
           0.00011349271680594879,
           0.00008833206209782239,
           0.00006541009538004,
           0.00004804875141846553,
           0.000036938942880148305,
           0.00003050154133933077,
           0.000026395190962475417,
           0.000023234764081630752,
           0.000020960389741473275,
           0.000019835786625261723,
           0.000019835786625261723,
           0
          ],
          [
           0,
           0,
           0,
           0,
           3.1095762570616744e-13,
           7.867864709648583e-12,
           1.6530710200190742e-10,
           1.294429796854391e-9,
           7.400149466962924e-9,
           3.460100135009016e-8,
           1.3375897813104418e-7,
           4.387586858010079e-7,
           0.0000012486700811063302,
           0.0000031215456627589817,
           0.0000068987330803562335,
           0.000013476307586100915,
           0.000023274268381638834,
           0.00003568679130601778,
           0.00004905733155677923,
           0.00006125835131539799,
           0.00007027165250321608,
           0.00007437855220193592,
           0.00007253610214562944,
           0.00006528981808947971,
           0.00005519031046346183,
           0.00004564273567807992,
           0.000038933536670980525,
           0.0000351819202343188,
           0.000033106197382207114,
           0.00003172922803007048,
           0.00003097525888610757,
           0.00003079052947916622,
           0.00003079052947916622,
           0
          ],
          [
           0,
           0,
           0,
           0,
           0,
           4.664364385592511e-13,
           2.197783487192432e-11,
           1.8058491528998412e-10,
           1.0787405822015272e-9,
           5.343958688375685e-9,
           2.190906230986372e-8,
           7.681118381037919e-8,
           2.3654373206469888e-7,
           6.446213297333904e-7,
           0.000001557221513602474,
           0.0000033207637969700043,
           0.000006280403925578717,
           0.00001068412918285141,
           0.000016683815487328875,
           0.00002430590094170691,
           0.00003307120005912418,
           0.00004147312196130528,
           0.00004728457706102268,
           0.000048979924428010804,
           0.00004693523965856799,
           0.00004313178496626076,
           0.00003977052456924287,
           0.000037994229348275725,
           0.00003766232457277261,
           0.00003822691532613415,
           0.000039303368993971676,
           0.00004024659605778649,
           0.00004024659605778649,
           0
          ],
          [
           0,
           0,
           0,
           0,
           0,
           0,
           2.494134869876482e-12,
           1.9528857418087382e-11,
           1.1875612214298937e-10,
           6.285752753879022e-10,
           2.7891233142350403e-9,
           1.0705829430210014e-8,
           3.6601732341685745e-8,
           1.1089684835793959e-7,
           2.9775664620421255e-7,
           7.045799072260763e-7,
           0.0000014968122631481434,
           0.000002943432330859594,
           0.000005481743052417151,
           0.00000967107747314266,
           0.000015800222518510302,
           0.000023325037109262167,
           0.000030802801305598786,
           0.000036584804549599246,
           0.00003965023719210576,
           0.00004010055407762417,
           0.000039222372159429194,
           0.00003873126453660844,
           0.00003954284586633083,
           0.00004144256297352575,
           0.00004365625675359691,
           0.000045186943332648816,
           0.000045186943332648816,
           0
          ],
          [
           0,
           0,
           0,
           0,
           0,
           0,
           3.1095762570616744e-13,
           2.027698431317231e-12,
           1.1385854005233198e-11,
           6.14514108703621e-11,
           2.916576037015923e-10,
           1.2215720871138092e-9,
           4.6553636420516375e-9,
           1.5737439614142653e-8,
           4.7816194265171286e-8,
           1.2947838008270294e-7,
           3.24435462230142e-7,
           7.832932469706479e-7,
           0.0000018082895303206374,
           0.000003879863350940241,
           0.000007496645004302177,
           0.000012863517170512186,
           0.000019616233878658112,
           0.000026689329726917012,
           0.00003245604267662645,
           0.00003563334649211123,
           0.000036589555548455835,
           0.00003720532871661494,
           0.00003892363369413971,
           0.000041504788109831784,
           0.000043857176178981245,
           0.000045184564422765056,
           0.000045184564422765056,
           0
          ],
          [
           0,
           0,
           0,
           0,
           0,
           0,
           0,
           0,
           0,
           1.088351689971586e-12,
           1.2626153162235496e-11,
           8.041758102550221e-11,
           4.023559675514263e-10,
           1.6440799333300193e-9,
           6.219594991287486e-9,
           2.1193030644601975e-8,
           6.789306826609144e-8,
           2.1249810860805705e-7,
           6.074876426865377e-7,
           0.0000015541324215439079,
           0.0000035132882068629285,
           0.000007022517588249215,
           0.000012391812576344389,
           0.000019127961410634018,
           0.00002559834558297718,
           0.000030003581614141706,
           0.000032233828792976354,
           0.000034038301952489286,
           0.000036759786361605665,
           0.00003977651200721904,
           0.000041783468898011256,
           0.0000425303599081214,
           0.0000425303599081214,
           0
          ],
          [
           0,
           0,
           0,
           0,
           0,
           0,
           0,
           0,
           0,
           0,
           4.664364385592511e-13,
           3.1970264598289297e-12,
           1.949517647129974e-11,
           1.0014247730023724e-10,
           6.672556888627048e-10,
           3.614517659843889e-9,
           1.624720923473855e-8,
           6.872491259545904e-8,
           2.395893639436022e-7,
           7.23529280873453e-7,
           0.000001908815148332928,
           0.000004404181425046867,
           0.000008767531434802554,
           0.000014808609307858792,
           0.000021076062901341924,
           0.00002577108790226662,
           0.000028672157022578655,
           0.0000313513213350145,
           0.00003485606202219322,
           0.000038188383439095926,
           0.000039930809175961566,
           0.000040260964803103346,
           0.000040260964803103346,
           0
          ],
          [
           0,
           0,
           0,
           0,
           0,
           0,
           0,
           0,
           0,
           0,
           4.664364385592511e-13,
           3.1970264598289297e-12,
           1.949517647129974e-11,
           1.0014247730023724e-10,
           6.672556888627048e-10,
           3.614517659843889e-9,
           1.624720923473855e-8,
           6.872491259545904e-8,
           2.395893639436022e-7,
           7.23529280873453e-7,
           0.000001908815148332928,
           0.000004404181425046867,
           0.000008767531434802554,
           0.000014808609307858792,
           0.000021076062901341924,
           0.00002577108790226662,
           0.000028672157022578655,
           0.0000313513213350145,
           0.00003485606202219322,
           0.000038188383439095926,
           0.000039930809175961566,
           0.000040260964803103346,
           0.000040260964803103346,
           0
          ],
          [
           0,
           0,
           0,
           0,
           0,
           0,
           0,
           0,
           0,
           0,
           0,
           0,
           0,
           0,
           0,
           0,
           0,
           0,
           0,
           0,
           0,
           0,
           0,
           0,
           0,
           0,
           0,
           0,
           0,
           0,
           0,
           0,
           0,
           0
          ]
         ]
        },
        {
         "error_x": {
          "array": [
           0.010988580975464624
          ],
          "arrayminus": [
           0.009926357715407397
          ],
          "color": "#FF0092",
          "symmetric": false,
          "thickness": 2,
          "type": "data",
          "width": 0
         },
         "error_y": {
          "array": [
           0.006820555530434369
          ],
          "arrayminus": [
           0.006485281419058131
          ],
          "color": "#FF0092",
          "symmetric": false,
          "thickness": 2,
          "type": "data",
          "width": 0
         },
         "marker": {
          "color": "#FF0092",
          "size": 5,
          "symbol": "circle"
         },
         "mode": "markers",
         "name": "par#1&par#3",
         "showlegend": false,
         "type": "scatter",
         "x": [
          -1.5619117351913692
         ],
         "xaxis": "x7",
         "y": [
          -0.770585882640384
         ],
         "yaxis": "y7"
        },
        {
         "colorscale": [
          [
           0,
           "rgb(247,251,255)"
          ],
          [
           0.125,
           "rgb(222,235,247)"
          ],
          [
           0.25,
           "rgb(198,219,239)"
          ],
          [
           0.375,
           "rgb(158,202,225)"
          ],
          [
           0.5,
           "rgb(107,174,214)"
          ],
          [
           0.625,
           "rgb(66,146,198)"
          ],
          [
           0.75,
           "rgb(33,113,181)"
          ],
          [
           0.875,
           "rgb(8,81,156)"
          ],
          [
           1,
           "rgb(8,48,107)"
          ]
         ],
         "contours": {
          "end": 0.009072312360135486,
          "size": 0.006930670535013076,
          "start": 0.00214164182512241
         },
         "line": {
          "width": 2
         },
         "name": "par#2&par#3",
         "ncontours": 2,
         "showlegend": false,
         "showscale": false,
         "type": "contour",
         "x": [
          2.5812907388529043,
          2.586951038314673,
          2.592611337776442,
          2.598271637238211,
          2.603931936699981,
          2.60959223616175,
          2.6152525356235197,
          2.6209128350852886,
          2.6265731345470584,
          2.6322334340088274,
          2.637893733470597,
          2.643554032932366,
          2.649214332394136,
          2.654874631855905,
          2.6605349313176747,
          2.6661952307794436,
          2.6718555302412135,
          2.6775158297029824,
          2.6831761291647522,
          2.688836428626521,
          2.694496728088291,
          2.70015702755006,
          2.7058173270118298,
          2.7114776264735987,
          2.7171379259353685,
          2.7227982253971375,
          2.7284585248589073,
          2.734118824320676,
          2.739779123782446,
          2.745439423244215,
          2.751099722705985,
          2.7567600221677537,
          2.7624203216295227,
          2.7680806210912916
         ],
         "xaxis": "x8",
         "y": [
          -0.8003826667991478,
          -0.7982381251357482,
          -0.7960935834723486,
          -0.793949041808949,
          -0.7918045001455495,
          -0.78965995848215,
          -0.7875154168187504,
          -0.785370875155351,
          -0.7832263334919514,
          -0.7810817918285519,
          -0.7789372501651524,
          -0.7767927085017527,
          -0.7746481668383534,
          -0.7725036251749537,
          -0.7703590835115542,
          -0.7682145418481547,
          -0.7660700001847551,
          -0.7639254585213557,
          -0.7617809168579561,
          -0.7596363751945566,
          -0.7574918335311571,
          -0.7553472918677575,
          -0.7532027502043581,
          -0.7510582085409585,
          -0.748913666877559,
          -0.7467691252141595,
          -0.7446245835507599,
          -0.7424800418873605,
          -0.7403355002239609,
          -0.7381909585605614,
          -0.7360464168971619,
          -0.7339018752337623,
          -0.7317573335703627,
          -0.729612791906963
         ],
         "yaxis": "y8",
         "z": [
          [
           0,
           0,
           0,
           0,
           0,
           0,
           0,
           0,
           0,
           0,
           0,
           0,
           0,
           0,
           0,
           0,
           0,
           0,
           0,
           0,
           0,
           0,
           0,
           0,
           0,
           0,
           0,
           0,
           0,
           0,
           0,
           0,
           0,
           0
          ],
          [
           0,
           0,
           0,
           0,
           0,
           0,
           0,
           0,
           0,
           0,
           0,
           1.946722092777118e-12,
           3.5965966295905825e-11,
           3.070104596760392e-10,
           2.2909092303701095e-9,
           1.2475914633306533e-8,
           5.887496900865511e-8,
           2.3287578877955266e-7,
           7.936306423043877e-7,
           0.0000023422837453346176,
           0.000005997739171588429,
           0.000013293902382015515,
           0.000025490747238932946,
           0.0000423830023530651,
           0.00006153258771222319,
           0.00007882147317113056,
           0.00008998627649204686,
           0.00009213978280511365,
           0.00008504632727032199,
           0.00007192544738209738,
           0.0000584967956399691,
           0.000050260542083080995,
           0.000050260542083080995,
           0
          ],
          [
           0,
           0,
           0,
           0,
           0,
           0,
           0,
           0,
           0,
           0,
           0,
           1.946722092777118e-12,
           3.5965966295905825e-11,
           3.070104596760392e-10,
           2.2909092303701095e-9,
           1.2475914633306533e-8,
           5.887496900865511e-8,
           2.3287578877955266e-7,
           7.936306423043877e-7,
           0.0000023422837453346176,
           0.000005997739171588429,
           0.000013293902382015515,
           0.000025490747238932946,
           0.0000423830023530651,
           0.00006153258771222319,
           0.00007882147317113056,
           0.00008998627649204686,
           0.00009213978280511365,
           0.00008504632727032199,
           0.00007192544738209738,
           0.0000584967956399691,
           0.000050260542083080995,
           0.000050260542083080995,
           0
          ],
          [
           0,
           0,
           0,
           0,
           0,
           0,
           0,
           0,
           0,
           0,
           4.664364385592511e-13,
           2.709715922682415e-11,
           3.593002508337781e-10,
           2.6623062238543517e-9,
           1.6063309341323178e-8,
           7.626699714432726e-8,
           3.083965979816433e-7,
           0.0000010655797287353779,
           0.0000031937181025555526,
           0.000008358996732170084,
           0.000019173637741213924,
           0.000038538043770528024,
           0.00006778523444798029,
           0.00010421632952663895,
           0.00014025512647030023,
           0.0001660957215734547,
           0.00017444969804136928,
           0.00016372927291617877,
           0.00013817023892899488,
           0.00010622112705499455,
           0.00007790392547276201,
           0.00006154460157169036,
           0.00006154460157169036,
           0
          ],
          [
           0,
           2.3386560570233985e-12,
           2.3386560570233985e-12,
           1.0297502315261612e-11,
           4.072741171131196e-11,
           1.2544925976600464e-10,
           3.0093712989912923e-10,
           5.622245763753037e-10,
           8.183428893391284e-10,
           9.319334138558578e-10,
           8.636943370528326e-10,
           1.0001086152803467e-9,
           3.7120092610026454e-9,
           2.0316260338807963e-8,
           1.0156847765901385e-7,
           4.2591920383733396e-7,
           0.000001537454300987151,
           0.000004796361849961885,
           0.000013038147489250972,
           0.000031049973027620046,
           0.00006501154059602234,
           0.00011981566832594895,
           0.0001942589043441347,
           0.00027658920334752327,
           0.0003454868200919677,
           0.00037922375576268847,
           0.00036762830510198935,
           0.00031692287873475903,
           0.00024455777339624837,
           0.00017069194947304256,
           0.0001122929003347995,
           0.00008052638620546361,
           0.00008052638620546361,
           0
          ],
          [
           0,
           1.649378363533868e-11,
           1.649378363533868e-11,
           7.525894371427044e-11,
           3.06766094269726e-10,
           9.8094157855867e-10,
           2.464153629727527e-9,
           4.869913287144095e-9,
           7.587030011044231e-9,
           9.380697992994021e-9,
           9.593429085711601e-9,
           1.0963846274585344e-8,
           2.892352675170049e-8,
           1.2645571302121484e-7,
           5.424818912865109e-7,
           0.0000020299178591802523,
           0.000006620390299566811,
           0.00001882085650171024,
           0.000046805540441432244,
           0.00010219394748558815,
           0.0001964975480027883,
           0.0003333072142508248,
           0.0004988119707476502,
           0.0006576564538769454,
           0.0007624943520719856,
           0.0007772009470246487,
           0.0006984062203035912,
           0.0005564491921261619,
           0.0003957329649946546,
           0.0002536193771524193,
           0.00015204765001883118,
           0.00010010847067254622,
           0.00010010847067254622,
           0
          ],
          [
           0,
           8.617836128094441e-11,
           8.617836128094441e-11,
           3.9795085888299036e-10,
           1.6382052081400691e-9,
           5.300095796923299e-9,
           1.3499148295275174e-8,
           2.7113228578086006e-8,
           4.306046948566301e-8,
           5.460620889371772e-8,
           5.8315097944776656e-8,
           7.053904395797119e-8,
           1.7250269492062436e-7,
           6.553308888053765e-7,
           0.000002476872269916731,
           0.000008340172937389875,
           0.00002473637376600018,
           0.00006439697869618407,
           0.00014712893488815263,
           0.0002954755955983985,
           0.0005228725526109358,
           0.0008170290419698639,
           0.001128259243645432,
           0.0013757212250727915,
           0.0014783051864488206,
           0.0013981067596804423,
           0.0011651297346643964,
           0.000859405953085327,
           0.000564823463327358,
           0.0003339562831246791,
           0.00018395135068198203,
           0.00011199124098469474,
           0.00011199124098469474,
           0
          ],
          [
           0,
           3.5154890284367246e-10,
           3.5154890284367246e-10,
           1.6437437552862335e-9,
           6.834743511441909e-9,
           2.2370825426422024e-8,
           5.7743461857914496e-8,
           1.1775251051016808e-7,
           1.9035007626879745e-7,
           2.4714939610301696e-7,
           2.7534430527985574e-7,
           3.551452764094839e-7,
           8.445748328992507e-7,
           0.000002889162124235909,
           0.000009794818648080201,
           0.000029864828389063594,
           0.00008077658798583626,
           0.00019287987481807084,
           0.00040554088441655,
           0.0007504106933455607,
           0.0012236600044874125,
           0.001762117528236648,
           0.0022442959612612627,
           0.002527983145783835,
           0.0025143747580071538,
           0.0022041962124841837,
           0.00170293800524142,
           0.0011632287113482243,
           0.0007070199201085993,
           0.00038622795531770244,
           0.0001960850966603531,
           0.00011064862219197978,
           0.00011064862219197978,
           0
          ],
          [
           0,
           1.5585666960924144e-9,
           1.5585666960924144e-9,
           5.822650170787074e-9,
           2.3002756384108543e-8,
           7.513547987500389e-8,
           1.9614147019306998e-7,
           4.064977096969966e-7,
           6.703397514351181e-7,
           8.951427891762713e-7,
           0.0000010510496306271525,
           0.0000014696854625977879,
           0.0000034904112199212748,
           0.000010984219003011222,
           0.000033807794509377393,
           0.00009379168392305224,
           0.00023163467821064084,
           0.0005072246680280203,
           0.0009814848219975648,
           0.0016745716395027456,
           0.0025187779644367963,
           0.003344842612318368,
           0.003928732366627434,
           0.0040848465178581145,
           0.003756457849637573,
           0.003049609596338575,
           0.002183260189789142,
           0.0013808787659527252,
           0.0007760535830690558,
           0.000391601468772839,
           0.0001833459078740103,
           0.00009588870244386985,
           0.00009588870244386985,
           0
          ],
          [
           0,
           5.660806262154824e-9,
           5.660806262154824e-9,
           1.6845084061167852e-8,
           6.193295407120495e-8,
           2.0083276231115575e-7,
           5.302785612045708e-7,
           0.000001118663525934399,
           0.000001887269677380678,
           0.000002609476892646068,
           0.0000032824521398027785,
           0.000005086928630010693,
           0.000012317786146942989,
           0.00003625357095596456,
           0.00010227428763168556,
           0.0002593154584400096,
           0.0005854244491179122,
           0.0011746531317881558,
           0.0020895522507052393,
           0.00328608175581962,
           0.004561482555205331,
           0.0055905620074368275,
           0.006058567069113584,
           0.005813530493234303,
           0.004939518530599459,
           0.003710818203249296,
           0.0024607026446057225,
           0.001440813574543661,
           0.0007482709336644891,
           0.000348262252930704,
           0.00015006955749025385,
           0.000072518615780189,
           0.000072518615780189,
           0
          ],
          [
           0,
           2.011624368406272e-8,
           2.011624368406272e-8,
           4.409207401185893e-8,
           1.3890153201142934e-7,
           4.340551852335176e-7,
           0.0000011502916521571649,
           0.0000024687846928960634,
           0.000004277865895063152,
           0.0000062008720382762655,
           0.000008586813545984534,
           0.000015098258949581741,
           0.00003759812541568059,
           0.00010437691861391614,
           0.0002715836394789721,
           0.0006318581828412806,
           0.001306395314160503,
           0.002401517941681702,
           0.003922497007580714,
           0.0056796388503613385,
           0.007273896636480566,
           0.008231662189698731,
           0.00823660071170043,
           0.007296705135617032,
           0.005727143923607368,
           0.00397966633329289,
           0.0024437030963806337,
           0.0013246763599120467,
           0.0006355305605741104,
           0.0002723156630330466,
           0.00010754987768199574,
           0.00004766970599043512,
           0.00004766970599043512,
           0
          ],
          [
           0,
           6.645042127323767e-8,
           6.645042127323767e-8,
           1.0986020350636241e-7,
           2.7132974915732755e-7,
           7.732067823485396e-7,
           0.000002020867488340998,
           0.00000440337383788335,
           0.000007897669220063143,
           0.000012279497588935976,
           0.0000194398836155871,
           0.00003929093356640169,
           0.00010013384807951705,
           0.0002628712059043173,
           0.0006332848979251001,
           0.0013566059575288829,
           0.002575115129989255,
           0.004340899787826096,
           0.006506716604969149,
           0.008664630688093995,
           0.010228886214696795,
           0.01068679553396075,
           0.009877401692227426,
           0.008082899728837313,
           0.005861871866087445,
           0.0037670089718033475,
           0.00214164182512241,
           0.0010750639395196568,
           0.00047664218504014303,
           0.0001878415433790726,
           0.00006769025999724812,
           0.000027220164614931028,
           0.000027220164614931028,
           0
          ],
          [
           0,
           1.9016269620105967e-7,
           1.9016269620105967e-7,
           2.6187111727116953e-7,
           4.937028473342605e-7,
           0.0000011879606441029317,
           0.0000029502152571063745,
           0.000006482723702802865,
           0.000012216482408475945,
           0.000021174535840781825,
           0.00003979286479631361,
           0.00009136973539534694,
           0.00023420535203234538,
           0.0005802540291375733,
           0.0012968080767589833,
           0.0025645341950561572,
           0.004480893174664716,
           0.006938868924542055,
           0.00954958523341671,
           0.011688114109719702,
           0.012706730748209685,
           0.012247950230378554,
           0.010455864540241479,
           0.007906244862617515,
           0.005299329140274055,
           0.00314929757721872,
           0.0016573791451284584,
           0.0007705501254310522,
           0.00031595100545473933,
           0.00011457008184077025,
           0.00003757436666932636,
           0.00001355331381634449,
           0.00001355331381634449,
           0
          ],
          [
           0,
           4.4785301479292073e-7,
           4.4785301479292073e-7,
           5.67207867589146e-7,
           8.767155114879099e-7,
           0.0000017025715096416324,
           0.0000038010514949920733,
           0.000008305749265227154,
           0.000016864638180780634,
           0.00003412109119360742,
           0.00007663509323313957,
           0.0001916818548332584,
           0.0004826600631670053,
           0.0011239226086428346,
           0.002332081990880314,
           0.0042655832650395015,
           0.006876130351209474,
           0.009802015348842388,
           0.012401357495731253,
           0.013953374638052804,
           0.01396110828407325,
           0.012405540443118373,
           0.009776838073095952,
           0.006830759918293947,
           0.004232155315275271,
           0.002325773466471315,
           0.0011326039260048319,
           0.00048755177581640187,
           0.00018495721686211808,
           0.00006178103761681356,
           0.000018443166705124842,
           0.000005918724444141721,
           0.000005918724444141721,
           0
          ],
          [
           0,
           8.47805636632137e-7,
           8.47805636632137e-7,
           0.0000010569972524751247,
           0.000001505399627605647,
           0.000002486127427048686,
           0.00000484617562599629,
           0.000010358766296678994,
           0.000023163338609629988,
           0.00005524926416266554,
           0.00014092571305311647,
           0.0003625673245880266,
           0.0008771134491264179,
           0.0019114373535750475,
           0.0036832362551227835,
           0.0062396802469992085,
           0.009297147805081264,
           0.012224565081891183,
           0.014241006113899324,
           0.014741535301395822,
           0.013573596182283883,
           0.011111502199154053,
           0.008078332782073486,
           0.005212605796455947,
           0.002984935379357568,
           0.0015167789441538457,
           0.0006832450863789603,
           0.00027214031260266476,
           0.00009547092533163818,
           0.000029388080408142273,
           0.000007997205714053388,
           0.000002274318128550325,
           0.000002274318128550325,
           0
          ],
          [
           0,
           0.0000012838678501143763,
           0.0000012838678501143763,
           0.000001650114974800613,
           0.000002397207857043692,
           0.0000038030198841501654,
           0.000006850388016152086,
           0.000014377571538419212,
           0.00003474461953357354,
           0.00009156899806432024,
           0.0002438424429849858,
           0.0006142521127857265,
           0.0014046283787252714,
           0.0028549908386537324,
           0.0051093131856062915,
           0.008024886601849128,
           0.011068812286833533,
           0.013448037921013185,
           0.014449023126777157,
           0.013776194636945745,
           0.011677484670596526,
           0.00880306111725312,
           0.005898931261375822,
           0.0035122180581811623,
           0.001857780746687779,
           0.000872672112037307,
           0.0003635317023030595,
           0.00013389471839168096,
           0.00004339041070873565,
           0.000012297584625944578,
           0.0000030527320793070994,
           7.683170705166929e-7,
           7.683170705166929e-7,
           0
          ],
          [
           0,
           0.0000015673041832624458,
           0.0000015673041832624458,
           0.0000021591105149654384,
           0.000003431589846452936,
           0.000005787935292982127,
           0.00001059289563098679,
           0.00002244112591623558,
           0.00005567518205488249,
           0.00014855118708708218,
           0.00038654330652644023,
           0.0009250174149561702,
           0.0019802871896665757,
           0.0037459045224014624,
           0.006225708323474486,
           0.009072312360135486,
           0.011597550765172892,
           0.013039311716439062,
           0.012942127307273317,
           0.011380996647241728,
           0.008888094652871902,
           0.00617005051015989,
           0.003807704672883382,
           0.002089173211221872,
           0.0010193974482016663,
           0.00044225076663248275,
           0.0001702937241301599,
           0.00005797604319396447,
           0.000017334919237157293,
           0.000004515275013239153,
           0.0000010211065511760458,
           2.2665541186036016e-7,
           2.2665541186036016e-7,
           0
          ],
          [
           0,
           0.0000015772718975476118,
           0.0000015772718975476118,
           0.000002425528747393372,
           0.000004404560460376843,
           0.00000827798223039537,
           0.00001622514174117436,
           0.000035375640228510566,
           0.00008698894788392736,
           0.00022340713240741642,
           0.0005495937185147448,
           0.001231442827463018,
           0.002456262116345093,
           0.004318783450861334,
           0.006665155291741267,
           0.009014344740209514,
           0.01068812734783878,
           0.011133830962196821,
           0.010224017965202767,
           0.008305225694785886,
           0.0059831542986044615,
           0.003827011416773804,
           0.0021742238802820463,
           0.0010977571346462737,
           0.0004930745558873745,
           0.00019713287493532404,
           0.0000700530314548242,
           0.000022023364898957813,
           0.000006066482468663759,
           0.0000014488917736569316,
           2.97214888010579e-7,
           5.740609082471081e-8,
           5.740609082471081e-8,
           0
          ],
          [
           0,
           0.0000013775807366916904,
           0.0000013775807366916904,
           0.000002463719196868493,
           0.000005204503927688152,
           0.000010961018668919896,
           0.000023172187970810098,
           0.00005191982540534122,
           0.0001245099920643049,
           0.00030194942113189,
           0.000693287474526636,
           0.0014455339922752244,
           0.002680434932972292,
           0.004377963028170045,
           0.006272373469075434,
           0.007872320887918923,
           0.008659172484148523,
           0.00836334710766446,
           0.007114008203869197,
           0.005346698927574127,
           0.003559079132130304,
           0.002100438764392775,
           0.0010991766560946904,
           0.0005103015003108806,
           0.00021050673886519768,
           0.00007728926403955313,
           0.000025253548384461376,
           0.000007309934918401296,
           0.0000018495813274626242,
           4.046115547286097e-7,
           7.530515523085001e-8,
           1.2696239864401545e-8,
           1.2696239864401545e-8,
           0
          ],
          [
           0,
           0.0000011750114833555239,
           0.0000011750114833555239,
           0.000002468801967260134,
           0.000005942124304245467,
           0.000013680423187758698,
           0.00003054883906045704,
           0.00006911960809757377,
           0.00015968607689925604,
           0.00036278379367057337,
           0.0007733521239880596,
           0.00149591911705492,
           0.002575198332595746,
           0.0039052490119664087,
           0.005192510570353196,
           0.006044976212540033,
           0.0061657954376014,
           0.005521287181181441,
           0.004353103785384538,
           0.003030876844512791,
           0.0018675414784935667,
           0.0010189521541676164,
           0.0004919916040844373,
           0.00021014266084630923,
           0.00007949373423980792,
           0.000026694019230230742,
           0.00000796939895925959,
           0.0000021088020216789427,
           4.857885678387243e-7,
           9.674717824343065e-8,
           1.6216861284291707e-8,
           2.35395427173079e-9,
           2.35395427173079e-9,
           0
          ],
          [
           0,
           0.00000124131612536807,
           0.00000124131612536807,
           0.0000027537840627792748,
           0.0000069349681116746886,
           0.000016513475000475655,
           0.00003743371450781689,
           0.00008324234885590215,
           0.0001827381948828625,
           0.0003866687913876469,
           0.0007628670741902403,
           0.0013659981281196878,
           0.002180302213057355,
           0.0030681841238131527,
           0.0037847349182977006,
           0.004084634157428878,
           0.003860022035966307,
           0.0032020506341260534,
           0.002339255880719202,
           0.0015096320073078836,
           0.0008622374425831755,
           0.00043584535566817213,
           0.0001946387077943924,
           0.00007663016487539824,
           0.000026583106590917102,
           0.00000813603210114522,
           0.000002201298338305896,
           5.258358452064372e-7,
           1.0821577497670406e-7,
           1.9306970372633877e-8,
           2.8544360918035127e-9,
           3.440619772657558e-10,
           3.440619772657558e-10,
           0
          ],
          [
           0,
           0.000002014108746643821,
           0.000002014108746643821,
           0.000003825030699949653,
           0.000008717423274064573,
           0.000019718633235797216,
           0.00004300868503162734,
           0.0000909934911075442,
           0.00018677450935930106,
           0.00036565502428200197,
           0.0006656783527340666,
           0.0011013153710194377,
           0.0016277464652930808,
           0.0021243021154203436,
           0.0024306313244347125,
           0.002431100282795608,
           0.0021266871300192037,
           0.001632069430796909,
           0.0011033363783358422,
           0.00065954768323985,
           0.0003493230382457594,
           0.00016382867411385299,
           0.00006782114924478523,
           0.000024670566606259157,
           0.000007858244951653513,
           0.000002188059725630558,
           5.321740182683429e-7,
           1.129467707625787e-7,
           2.0207269751097367e-8,
           3.1712478330767403e-9,
           4.09834066335586e-10,
           4.3014262915882996e-11,
           4.3014262915882996e-11,
           0
          ],
          [
           0,
           0.0000043736429786461224,
           0.0000043736429786461224,
           0.000006617715195360887,
           0.000012196471181811622,
           0.000023868815148551952,
           0.00004703606746898796,
           0.00009117086401577827,
           0.00017142665616596826,
           0.0003073587723977459,
           0.0005138545570799913,
           0.0007836328230712875,
           0.0010711513631790916,
           0.001295807639324762,
           0.001375514580944342,
           0.0012754072167724872,
           0.0010325124413860986,
           0.0007321022743355357,
           0.00045706188306913543,
           0.00025256945578173913,
           0.00012389468145686185,
           0.00005390511830994415,
           0.000020704088892683386,
           0.000006965912361370984,
           0.0000020383908622531467,
           5.154954226331302e-7,
           1.1168810742209853e-7,
           2.0591559099934312e-8,
           3.051300130539767e-9,
           4.023414587526375e-10,
           4.337533969042468e-11,
           4.2789042855733735e-12,
           4.2789042855733735e-12,
           0
          ],
          [
           0,
           0.000009696162233463829,
           0.000009696162233463829,
           0.000012463273065342575,
           0.000018519519596710052,
           0.00002974464718116452,
           0.00005006015991259897,
           0.00008538222669536432,
           0.00014328388157013033,
           0.00023139076673348285,
           0.00035178323162541643,
           0.000492043594367466,
           0.0006206690804561166,
           0.0006955813780590771,
           0.0006853243377946455,
           0.0005897130834450343,
           0.00044216481148811557,
           0.00028954943680071913,
           0.00016659300982036705,
           0.00008482321617019017,
           0.00003840672320470211,
           0.00001546147851261497,
           0.000005499400523172503,
           0.0000017074912945984111,
           4.574532244910148e-7,
           1.04380131169962e-7,
           1.97312581538041e-8,
           2.982484198709367e-9,
           3.1117037234132383e-10,
           2.602175526530688e-11,
           1.1693280285116993e-12,
           1.5547881285308372e-13,
           1.5547881285308372e-13,
           0
          ],
          [
           0,
           0.000019181033075647793,
           0.000019181033075647793,
           0.00002232449868505334,
           0.000028238835756865677,
           0.00003753780187417539,
           0.00005260607595050286,
           0.00007655425298860232,
           0.00011172626413000226,
           0.0001589600639213471,
           0.00021593544115014403,
           0.00027389103953977836,
           0.0003169693810194236,
           0.0003283337133454583,
           0.0003002182913298657,
           0.00024004586108396792,
           0.00016699442846108726,
           0.00010108808585437312,
           0.000053531241750906985,
           0.000025016849414498827,
           0.000010398168383891504,
           0.000003853121073093601,
           0.0000012650521561823914,
           3.6204978370503015e-7,
           8.916225951319091e-8,
           1.8620181483818614e-8,
           3.1424830957013564e-9,
           3.9894561959866973e-10,
           3.014665199722954e-11,
           1.710266941383921e-12,
           0,
           0,
           0,
           0
          ],
          [
           0,
           0.00003250381481650568,
           0.00003250381481650568,
           0.00003557780361005826,
           0.000040368050609667814,
           0.000046212760433659656,
           0.00005443625298331183,
           0.00006686109830625201,
           0.00008355237783238487,
           0.00010275054804780143,
           0.00012193160645437654,
           0.00013741992881660854,
           0.00014391723153940402,
           0.0001367820301310114,
           0.00011571439612205275,
           0.00008594235694240506,
           0.0000555481081955812,
           0.00003113408854199669,
           0.0000151715420308833,
           0.0000064815669587576664,
           0.0000024520463494191063,
           8.266661906731747e-7,
           2.4737194470264404e-7,
           6.424723597685147e-8,
           1.4300887427084829e-8,
           2.6882744848691196e-9,
           3.900320482563729e-10,
           3.637227837558001e-11,
           1.2438305028246698e-12,
           0,
           0,
           0,
           0,
           0
          ],
          [
           0,
           0.000046906717864185225,
           0.000046906717864185225,
           0.00004947901814292814,
           0.000052410300646391884,
           0.00005398301793312567,
           0.00005499367983795684,
           0.00005732501843598113,
           0.00006110536459539898,
           0.00006449313974969784,
           0.00006578158909812599,
           0.00006428916063213041,
           0.00005951913196480259,
           0.00005104972589799974,
           0.00003955965285223451,
           0.00002714083548433372,
           0.00001625585880319694,
           0.000008428351965031211,
           0.0000037741708146483847,
           0.000001466995885611189,
           4.996207877980371e-7,
           1.5064962439387127e-7,
           4.033695725471133e-8,
           9.299321309297405e-9,
           1.8379385909177653e-9,
           3.1147704110792064e-10,
           3.873388737110725e-11,
           2.021224567090088e-12,
           0,
           0,
           0,
           0,
           0,
           0
          ],
          [
           0,
           0.00005808127641750828,
           0.00005808127641750828,
           0.00006017310047353911,
           0.00006142592286883595,
           0.000059223739953854034,
           0.000054063886224799994,
           0.00004853710304002577,
           0.00004406828635825536,
           0.00003988816944508058,
           0.00003491766691815584,
           0.0000292021514648581,
           0.000023327633534087243,
           0.000017613710408520702,
           0.000012264112705962528,
           0.000007664596037821256,
           0.000004211522967060868,
           0.000002006352681053924,
           8.220268726692182e-7,
           2.8948946310670354e-7,
           8.790718966945145e-8,
           2.3209221609896644e-8,
           5.416537802386985e-9,
           1.0623698451794671e-9,
           1.7890903688412716e-10,
           2.7863158566295216e-11,
           2.9605713084357334e-12,
           0,
           0,
           0,
           0,
           0,
           0,
           0
          ],
          [
           0,
           0.00006269766666701247,
           0.00006269766666701247,
           0.00006474451211792412,
           0.00006524367951218873,
           0.00006075087843783876,
           0.000051485200893787776,
           0.000040773600074197964,
           0.00003152623602356116,
           0.00002426147941139786,
           0.000018239153701865477,
           0.000013097607720277383,
           0.00000895589209883417,
           0.000005836352857141979,
           0.000003569785220885695,
           0.0000019901155791550973,
           9.842198458057792e-7,
           4.234864528217017e-7,
           1.5659156154621714e-7,
           4.95628080144666e-8,
           1.3318013547674775e-8,
           3.0111035079891663e-9,
           6.033014774699758e-10,
           9.700327959671467e-11,
           1.3879988875109681e-11,
           2.3386560570233985e-12,
           3.1095762570616744e-13,
           0,
           0,
           0,
           0,
           0,
           0,
           0
          ],
          [
           0,
           0.000060640881826070175,
           0.000060640881826070175,
           0.00006294528255310205,
           0.00006343743697322012,
           0.000058088413408965904,
           0.00004694823394575765,
           0.00003381357048551909,
           0.000022558242860190396,
           0.000014570260161134299,
           0.00000925684469977151,
           0.000005700074523085767,
           0.000003353641899061645,
           0.0000018813608820909888,
           9.99570817290547e-7,
           4.895339863578493e-7,
           2.1416532120146195e-7,
           8.153918744542059e-8,
           2.6643417142082636e-8,
           7.486776531914318e-9,
           1.761766336954684e-9,
           3.1923143130834527e-10,
           4.998650791325185e-11,
           4.285378149800517e-12,
           0,
           0,
           0,
           0,
           0,
           0,
           0,
           0,
           0,
           0
          ],
          [
           0,
           0.000055135653198710134,
           0.000055135653198710134,
           0.00005758179166021677,
           0.0000581431935605032,
           0.00005264791880937689,
           0.000041197768204168266,
           0.00002776038680594949,
           0.000016470127752277835,
           0.000008975170214218017,
           0.000004695581890476674,
           0.0000024080643209891672,
           0.000001204459464486302,
           5.811558549975438e-7,
           2.6874959657351604e-7,
           1.1575052067113758e-7,
           4.489869919653839e-8,
           1.5049720976694927e-8,
           4.282373764073184e-9,
           1.0642314196945638e-9,
           2.2433193913088774e-10,
           3.2594239936321626e-11,
           5.062772214065934e-12,
           4.664364385592511e-13,
           0,
           0,
           0,
           0,
           0,
           0,
           0,
           0,
           0,
           0
          ],
          [
           0,
           0.00005076717288165811,
           0.00005076717288165811,
           0.00005316596289342046,
           0.00005364694262740245,
           0.00004815322991263291,
           0.000036926121139378664,
           0.000023939939072077284,
           0.000013236174864692255,
           0.000006402423722605062,
           0.0000028212381044606635,
           0.0000011843261431750765,
           4.873595653307671e-7,
           1.9670127128795884e-7,
           7.79492469943841e-8,
           2.918101416225217e-8,
           1.0023903351143755e-8,
           2.9069838738955226e-9,
           6.760412245554211e-10,
           1.3209193724835894e-10,
           2.0123565586939213e-11,
           1.5547881285308372e-13,
           0,
           0,
           0,
           0,
           0,
           0,
           0,
           0,
           0,
           0,
           0,
           0
          ],
          [
           0,
           0.00005076717288165811,
           0.00005076717288165811,
           0.00005316596289342046,
           0.00005364694262740245,
           0.00004815322991263291,
           0.000036926121139378664,
           0.000023939939072077284,
           0.000013236174864692255,
           0.000006402423722605062,
           0.0000028212381044606635,
           0.0000011843261431750765,
           4.873595653307671e-7,
           1.9670127128795884e-7,
           7.79492469943841e-8,
           2.918101416225217e-8,
           1.0023903351143755e-8,
           2.9069838738955226e-9,
           6.760412245554211e-10,
           1.3209193724835894e-10,
           2.0123565586939213e-11,
           1.5547881285308372e-13,
           0,
           0,
           0,
           0,
           0,
           0,
           0,
           0,
           0,
           0,
           0,
           0
          ],
          [
           0,
           0,
           0,
           0,
           0,
           0,
           0,
           0,
           0,
           0,
           0,
           0,
           0,
           0,
           0,
           0,
           0,
           0,
           0,
           0,
           0,
           0,
           0,
           0,
           0,
           0,
           0,
           0,
           0,
           0,
           0,
           0,
           0,
           0
          ]
         ]
        },
        {
         "error_x": {
          "array": [
           0.01695462107982859
          ],
          "arrayminus": [
           0.018662746284501264
          ],
          "color": "#FF0092",
          "symmetric": false,
          "thickness": 2,
          "type": "data",
          "width": 0
         },
         "error_y": {
          "array": [
           0.006820555530434369
          ],
          "arrayminus": [
           0.006485281419058131
          ],
          "color": "#FF0092",
          "symmetric": false,
          "thickness": 2,
          "type": "data",
          "width": 0
         },
         "marker": {
          "color": "#FF0092",
          "size": 5,
          "symbol": "circle"
         },
         "mode": "markers",
         "name": "par#2&par#3",
         "showlegend": false,
         "type": "scatter",
         "x": [
          2.689005625602019
         ],
         "xaxis": "x8",
         "y": [
          -0.770585882640384
         ],
         "yaxis": "y8"
        }
       ],
       "layout": {
        "height": 600,
        "template": {
         "data": {
          "bar": [
           {
            "error_x": {
             "color": "#2a3f5f"
            },
            "error_y": {
             "color": "#2a3f5f"
            },
            "marker": {
             "line": {
              "color": "white",
              "width": 0.5
             },
             "pattern": {
              "fillmode": "overlay",
              "size": 10,
              "solidity": 0.2
             }
            },
            "type": "bar"
           }
          ],
          "barpolar": [
           {
            "marker": {
             "line": {
              "color": "white",
              "width": 0.5
             },
             "pattern": {
              "fillmode": "overlay",
              "size": 10,
              "solidity": 0.2
             }
            },
            "type": "barpolar"
           }
          ],
          "carpet": [
           {
            "aaxis": {
             "endlinecolor": "#2a3f5f",
             "gridcolor": "#C8D4E3",
             "linecolor": "#C8D4E3",
             "minorgridcolor": "#C8D4E3",
             "startlinecolor": "#2a3f5f"
            },
            "baxis": {
             "endlinecolor": "#2a3f5f",
             "gridcolor": "#C8D4E3",
             "linecolor": "#C8D4E3",
             "minorgridcolor": "#C8D4E3",
             "startlinecolor": "#2a3f5f"
            },
            "type": "carpet"
           }
          ],
          "choropleth": [
           {
            "colorbar": {
             "outlinewidth": 0,
             "ticks": ""
            },
            "type": "choropleth"
           }
          ],
          "contour": [
           {
            "colorbar": {
             "outlinewidth": 0,
             "ticks": ""
            },
            "colorscale": [
             [
              0,
              "#0d0887"
             ],
             [
              0.1111111111111111,
              "#46039f"
             ],
             [
              0.2222222222222222,
              "#7201a8"
             ],
             [
              0.3333333333333333,
              "#9c179e"
             ],
             [
              0.4444444444444444,
              "#bd3786"
             ],
             [
              0.5555555555555556,
              "#d8576b"
             ],
             [
              0.6666666666666666,
              "#ed7953"
             ],
             [
              0.7777777777777778,
              "#fb9f3a"
             ],
             [
              0.8888888888888888,
              "#fdca26"
             ],
             [
              1,
              "#f0f921"
             ]
            ],
            "type": "contour"
           }
          ],
          "contourcarpet": [
           {
            "colorbar": {
             "outlinewidth": 0,
             "ticks": ""
            },
            "type": "contourcarpet"
           }
          ],
          "heatmap": [
           {
            "colorbar": {
             "outlinewidth": 0,
             "ticks": ""
            },
            "colorscale": [
             [
              0,
              "#0d0887"
             ],
             [
              0.1111111111111111,
              "#46039f"
             ],
             [
              0.2222222222222222,
              "#7201a8"
             ],
             [
              0.3333333333333333,
              "#9c179e"
             ],
             [
              0.4444444444444444,
              "#bd3786"
             ],
             [
              0.5555555555555556,
              "#d8576b"
             ],
             [
              0.6666666666666666,
              "#ed7953"
             ],
             [
              0.7777777777777778,
              "#fb9f3a"
             ],
             [
              0.8888888888888888,
              "#fdca26"
             ],
             [
              1,
              "#f0f921"
             ]
            ],
            "type": "heatmap"
           }
          ],
          "heatmapgl": [
           {
            "colorbar": {
             "outlinewidth": 0,
             "ticks": ""
            },
            "colorscale": [
             [
              0,
              "#0d0887"
             ],
             [
              0.1111111111111111,
              "#46039f"
             ],
             [
              0.2222222222222222,
              "#7201a8"
             ],
             [
              0.3333333333333333,
              "#9c179e"
             ],
             [
              0.4444444444444444,
              "#bd3786"
             ],
             [
              0.5555555555555556,
              "#d8576b"
             ],
             [
              0.6666666666666666,
              "#ed7953"
             ],
             [
              0.7777777777777778,
              "#fb9f3a"
             ],
             [
              0.8888888888888888,
              "#fdca26"
             ],
             [
              1,
              "#f0f921"
             ]
            ],
            "type": "heatmapgl"
           }
          ],
          "histogram": [
           {
            "marker": {
             "pattern": {
              "fillmode": "overlay",
              "size": 10,
              "solidity": 0.2
             }
            },
            "type": "histogram"
           }
          ],
          "histogram2d": [
           {
            "colorbar": {
             "outlinewidth": 0,
             "ticks": ""
            },
            "colorscale": [
             [
              0,
              "#0d0887"
             ],
             [
              0.1111111111111111,
              "#46039f"
             ],
             [
              0.2222222222222222,
              "#7201a8"
             ],
             [
              0.3333333333333333,
              "#9c179e"
             ],
             [
              0.4444444444444444,
              "#bd3786"
             ],
             [
              0.5555555555555556,
              "#d8576b"
             ],
             [
              0.6666666666666666,
              "#ed7953"
             ],
             [
              0.7777777777777778,
              "#fb9f3a"
             ],
             [
              0.8888888888888888,
              "#fdca26"
             ],
             [
              1,
              "#f0f921"
             ]
            ],
            "type": "histogram2d"
           }
          ],
          "histogram2dcontour": [
           {
            "colorbar": {
             "outlinewidth": 0,
             "ticks": ""
            },
            "colorscale": [
             [
              0,
              "#0d0887"
             ],
             [
              0.1111111111111111,
              "#46039f"
             ],
             [
              0.2222222222222222,
              "#7201a8"
             ],
             [
              0.3333333333333333,
              "#9c179e"
             ],
             [
              0.4444444444444444,
              "#bd3786"
             ],
             [
              0.5555555555555556,
              "#d8576b"
             ],
             [
              0.6666666666666666,
              "#ed7953"
             ],
             [
              0.7777777777777778,
              "#fb9f3a"
             ],
             [
              0.8888888888888888,
              "#fdca26"
             ],
             [
              1,
              "#f0f921"
             ]
            ],
            "type": "histogram2dcontour"
           }
          ],
          "mesh3d": [
           {
            "colorbar": {
             "outlinewidth": 0,
             "ticks": ""
            },
            "type": "mesh3d"
           }
          ],
          "parcoords": [
           {
            "line": {
             "colorbar": {
              "outlinewidth": 0,
              "ticks": ""
             }
            },
            "type": "parcoords"
           }
          ],
          "pie": [
           {
            "automargin": true,
            "type": "pie"
           }
          ],
          "scatter": [
           {
            "fillpattern": {
             "fillmode": "overlay",
             "size": 10,
             "solidity": 0.2
            },
            "type": "scatter"
           }
          ],
          "scatter3d": [
           {
            "line": {
             "colorbar": {
              "outlinewidth": 0,
              "ticks": ""
             }
            },
            "marker": {
             "colorbar": {
              "outlinewidth": 0,
              "ticks": ""
             }
            },
            "type": "scatter3d"
           }
          ],
          "scattercarpet": [
           {
            "marker": {
             "colorbar": {
              "outlinewidth": 0,
              "ticks": ""
             }
            },
            "type": "scattercarpet"
           }
          ],
          "scattergeo": [
           {
            "marker": {
             "colorbar": {
              "outlinewidth": 0,
              "ticks": ""
             }
            },
            "type": "scattergeo"
           }
          ],
          "scattergl": [
           {
            "marker": {
             "colorbar": {
              "outlinewidth": 0,
              "ticks": ""
             }
            },
            "type": "scattergl"
           }
          ],
          "scattermapbox": [
           {
            "marker": {
             "colorbar": {
              "outlinewidth": 0,
              "ticks": ""
             }
            },
            "type": "scattermapbox"
           }
          ],
          "scatterpolar": [
           {
            "marker": {
             "colorbar": {
              "outlinewidth": 0,
              "ticks": ""
             }
            },
            "type": "scatterpolar"
           }
          ],
          "scatterpolargl": [
           {
            "marker": {
             "colorbar": {
              "outlinewidth": 0,
              "ticks": ""
             }
            },
            "type": "scatterpolargl"
           }
          ],
          "scatterternary": [
           {
            "marker": {
             "colorbar": {
              "outlinewidth": 0,
              "ticks": ""
             }
            },
            "type": "scatterternary"
           }
          ],
          "surface": [
           {
            "colorbar": {
             "outlinewidth": 0,
             "ticks": ""
            },
            "colorscale": [
             [
              0,
              "#0d0887"
             ],
             [
              0.1111111111111111,
              "#46039f"
             ],
             [
              0.2222222222222222,
              "#7201a8"
             ],
             [
              0.3333333333333333,
              "#9c179e"
             ],
             [
              0.4444444444444444,
              "#bd3786"
             ],
             [
              0.5555555555555556,
              "#d8576b"
             ],
             [
              0.6666666666666666,
              "#ed7953"
             ],
             [
              0.7777777777777778,
              "#fb9f3a"
             ],
             [
              0.8888888888888888,
              "#fdca26"
             ],
             [
              1,
              "#f0f921"
             ]
            ],
            "type": "surface"
           }
          ],
          "table": [
           {
            "cells": {
             "fill": {
              "color": "#EBF0F8"
             },
             "line": {
              "color": "white"
             }
            },
            "header": {
             "fill": {
              "color": "#C8D4E3"
             },
             "line": {
              "color": "white"
             }
            },
            "type": "table"
           }
          ]
         },
         "layout": {
          "annotationdefaults": {
           "arrowcolor": "#2a3f5f",
           "arrowhead": 0,
           "arrowwidth": 1
          },
          "autotypenumbers": "strict",
          "coloraxis": {
           "colorbar": {
            "outlinewidth": 0,
            "ticks": ""
           }
          },
          "colorscale": {
           "diverging": [
            [
             0,
             "#8e0152"
            ],
            [
             0.1,
             "#c51b7d"
            ],
            [
             0.2,
             "#de77ae"
            ],
            [
             0.3,
             "#f1b6da"
            ],
            [
             0.4,
             "#fde0ef"
            ],
            [
             0.5,
             "#f7f7f7"
            ],
            [
             0.6,
             "#e6f5d0"
            ],
            [
             0.7,
             "#b8e186"
            ],
            [
             0.8,
             "#7fbc41"
            ],
            [
             0.9,
             "#4d9221"
            ],
            [
             1,
             "#276419"
            ]
           ],
           "sequential": [
            [
             0,
             "#0d0887"
            ],
            [
             0.1111111111111111,
             "#46039f"
            ],
            [
             0.2222222222222222,
             "#7201a8"
            ],
            [
             0.3333333333333333,
             "#9c179e"
            ],
            [
             0.4444444444444444,
             "#bd3786"
            ],
            [
             0.5555555555555556,
             "#d8576b"
            ],
            [
             0.6666666666666666,
             "#ed7953"
            ],
            [
             0.7777777777777778,
             "#fb9f3a"
            ],
            [
             0.8888888888888888,
             "#fdca26"
            ],
            [
             1,
             "#f0f921"
            ]
           ],
           "sequentialminus": [
            [
             0,
             "#0d0887"
            ],
            [
             0.1111111111111111,
             "#46039f"
            ],
            [
             0.2222222222222222,
             "#7201a8"
            ],
            [
             0.3333333333333333,
             "#9c179e"
            ],
            [
             0.4444444444444444,
             "#bd3786"
            ],
            [
             0.5555555555555556,
             "#d8576b"
            ],
            [
             0.6666666666666666,
             "#ed7953"
            ],
            [
             0.7777777777777778,
             "#fb9f3a"
            ],
            [
             0.8888888888888888,
             "#fdca26"
            ],
            [
             1,
             "#f0f921"
            ]
           ]
          },
          "colorway": [
           "#636efa",
           "#EF553B",
           "#00cc96",
           "#ab63fa",
           "#FFA15A",
           "#19d3f3",
           "#FF6692",
           "#B6E880",
           "#FF97FF",
           "#FECB52"
          ],
          "font": {
           "color": "#2a3f5f"
          },
          "geo": {
           "bgcolor": "white",
           "lakecolor": "white",
           "landcolor": "white",
           "showlakes": true,
           "showland": true,
           "subunitcolor": "#C8D4E3"
          },
          "hoverlabel": {
           "align": "left"
          },
          "hovermode": "closest",
          "mapbox": {
           "style": "light"
          },
          "paper_bgcolor": "white",
          "plot_bgcolor": "white",
          "polar": {
           "angularaxis": {
            "gridcolor": "#EBF0F8",
            "linecolor": "#EBF0F8",
            "ticks": ""
           },
           "bgcolor": "white",
           "radialaxis": {
            "gridcolor": "#EBF0F8",
            "linecolor": "#EBF0F8",
            "ticks": ""
           }
          },
          "scene": {
           "xaxis": {
            "backgroundcolor": "white",
            "gridcolor": "#DFE8F3",
            "gridwidth": 2,
            "linecolor": "#EBF0F8",
            "showbackground": true,
            "ticks": "",
            "zerolinecolor": "#EBF0F8"
           },
           "yaxis": {
            "backgroundcolor": "white",
            "gridcolor": "#DFE8F3",
            "gridwidth": 2,
            "linecolor": "#EBF0F8",
            "showbackground": true,
            "ticks": "",
            "zerolinecolor": "#EBF0F8"
           },
           "zaxis": {
            "backgroundcolor": "white",
            "gridcolor": "#DFE8F3",
            "gridwidth": 2,
            "linecolor": "#EBF0F8",
            "showbackground": true,
            "ticks": "",
            "zerolinecolor": "#EBF0F8"
           }
          },
          "shapedefaults": {
           "line": {
            "color": "#2a3f5f"
           }
          },
          "ternary": {
           "aaxis": {
            "gridcolor": "#DFE8F3",
            "linecolor": "#A2B1C6",
            "ticks": ""
           },
           "baxis": {
            "gridcolor": "#DFE8F3",
            "linecolor": "#A2B1C6",
            "ticks": ""
           },
           "bgcolor": "white",
           "caxis": {
            "gridcolor": "#DFE8F3",
            "linecolor": "#A2B1C6",
            "ticks": ""
           }
          },
          "title": {
           "x": 0.05
          },
          "xaxis": {
           "automargin": true,
           "gridcolor": "#EBF0F8",
           "linecolor": "#EBF0F8",
           "ticks": "",
           "title": {
            "standoff": 15
           },
           "zerolinecolor": "#EBF0F8",
           "zerolinewidth": 2
          },
          "yaxis": {
           "automargin": true,
           "gridcolor": "#EBF0F8",
           "linecolor": "#EBF0F8",
           "ticks": "",
           "title": {
            "standoff": 15
           },
           "zerolinecolor": "#EBF0F8",
           "zerolinewidth": 2
          }
         }
        },
        "width": 600,
        "xaxis": {
         "anchor": "y",
         "domain": [
          0,
          0.32
         ],
         "showticklabels": false,
         "tickangle": -45
        },
        "xaxis2": {
         "anchor": "y2",
         "domain": [
          0.34,
          0.66
         ]
        },
        "xaxis3": {
         "anchor": "y3",
         "domain": [
          0.68,
          1
         ]
        },
        "xaxis4": {
         "anchor": "y4",
         "domain": [
          0,
          0.32
         ],
         "showticklabels": false,
         "tickangle": -45
        },
        "xaxis5": {
         "anchor": "y5",
         "domain": [
          0.34,
          0.66
         ],
         "showticklabels": false,
         "tickangle": -45
        },
        "xaxis6": {
         "anchor": "y6",
         "domain": [
          0.68,
          1
         ]
        },
        "xaxis7": {
         "anchor": "y7",
         "domain": [
          0,
          0.32
         ],
         "showticklabels": true,
         "tickangle": -45,
         "title": {
          "text": "par#1"
         }
        },
        "xaxis8": {
         "anchor": "y8",
         "domain": [
          0.34,
          0.66
         ],
         "showticklabels": true,
         "tickangle": -45,
         "title": {
          "text": "par#2"
         }
        },
        "xaxis9": {
         "anchor": "y9",
         "domain": [
          0.68,
          1
         ],
         "showticklabels": true,
         "tickangle": -45,
         "title": {
          "text": "par#3"
         }
        },
        "yaxis": {
         "anchor": "x",
         "domain": [
          0.68,
          1
         ],
         "showticklabels": false,
         "tickangle": -45
        },
        "yaxis2": {
         "anchor": "x2",
         "domain": [
          0.68,
          1
         ]
        },
        "yaxis3": {
         "anchor": "x3",
         "domain": [
          0.68,
          1
         ]
        },
        "yaxis4": {
         "anchor": "x4",
         "domain": [
          0.34,
          0.66
         ],
         "showticklabels": true,
         "tickangle": -45,
         "title": {
          "text": "par#2"
         }
        },
        "yaxis5": {
         "anchor": "x5",
         "domain": [
          0.34,
          0.66
         ],
         "showticklabels": false,
         "tickangle": -45
        },
        "yaxis6": {
         "anchor": "x6",
         "domain": [
          0.34,
          0.66
         ]
        },
        "yaxis7": {
         "anchor": "x7",
         "domain": [
          0,
          0.32
         ],
         "showticklabels": true,
         "tickangle": -45,
         "title": {
          "text": "par#3"
         }
        },
        "yaxis8": {
         "anchor": "x8",
         "domain": [
          0,
          0.32
         ],
         "showticklabels": false,
         "tickangle": -45
        },
        "yaxis9": {
         "anchor": "x9",
         "domain": [
          0,
          0.32
         ],
         "showticklabels": false,
         "tickangle": -45
        }
       }
      }
     },
     "metadata": {},
     "output_type": "display_data"
    }
   ],
   "source": [
    "fig = Plot.post_corner(post, show=True)\n",
    "fig.write_html('quickstart/corner.html')"
   ]
  },
  {
   "cell_type": "code",
   "execution_count": 9,
   "id": "7c737961-cc18-481f-9fd3-c7dd0e1f8bdf",
   "metadata": {},
   "outputs": [
    {
     "data": {
      "application/vnd.plotly.v1+json": {
       "config": {
        "plotlyServerURL": "https://plot.ly"
       },
       "data": [
        {
         "line": {
          "color": "#636EFA",
          "width": 2
         },
         "mode": "lines",
         "name": "cpl",
         "showlegend": true,
         "type": "scatter",
         "x": [
          0.5,
          0.5399005149129056,
          0.5829851320064411,
          0.6295079459136915,
          0.6797433282811352,
          0.7339875458951941,
          0.7925605079369504,
          0.855807652669587,
          0.9241019846854301,
          0.9978462747274034,
          1.0774754350584994,
          1.1634590843881816,
          1.2563043174825537,
          1.3565586957922742,
          1.4648134767356569,
          1.581707100681889,
          1.7079289561991018,
          1.8442234457731128,
          1.9913943759747132,
          2.1503096979668235,
          2.321906626309005,
          2.5071971662478383,
          2.7072740820907715,
          2.923317341862343,
          3.1566010762506105,
          3.4085010928846726,
          3.6805029902592725,
          3.97421091915894,
          4.291357043252806,
          4.633811754654629,
          5.003594704695015,
          5.402886714960652,
          5.834042638846706,
          6.299605249474366,
          6.802320235878507,
          7.345152395906567,
          7.931303121327435,
          8.564229278270034,
          9.247663594340342,
          9.985636672651363,
          10.78250076259533,
          11.642955427548031,
          12.57207526088238,
          13.575339813748398,
          14.658665911120856,
          15.828442546700813,
          17.09156856246622,
          18.455493335089486,
          19.92826070917302,
          21.518556436402267,
          23.235759400392006,
          25.089996929328063,
          27.09220452261488,
          29.254190343771047,
          31.588704859924277,
          34.10951603860984,
          36.83149054535093,
          39.77068142088956,
          42.9444227551508,
          46.37143191628681,
          50.07191993770399,
          54.067710714088335,
          58.38236970939663,
          63.04134293587772,
          68.07210702376288,
          73.504331266672,
          79.37005259841,
          85.70386453309192,
          92.54312118288446,
          99.92815755657348,
          107.90252743818397,
          116.5132602485589,
          125.81113840475663,
          135.85099681301386,
          146.69204626155536,
          158.39822262048287,
          171.0385639081755,
          184.68761744797573,
          199.42587951639962,
          215.34027007572647,
          232.52464539073773,
          251.08035155280015,
          271.1168221757403,
          292.7522237884657,
          316.1141527305816,
          341.3403876609958,
          368.5797021174849,
          397.99274191935086,
          429.7529725877134,
          464.04770237091645,
          501.0791869084171,
          541.065822047989,
          584.2434318509676,
          630.8666593816408,
          681.210468483065,
          735.5717653961369,
          794.2711497855386,
          857.6548054993548,
          926.0965422132591,
          1000
         ],
         "y": [
          2.6552301901935015e-7,
          2.746075159246586e-7,
          2.8400542251281114e-7,
          2.937224403398075e-7,
          3.03762906055398e-7,
          3.141339848620729e-7,
          3.248464041593517e-7,
          3.3591468841987837e-7,
          3.4736567515377126e-7,
          3.5922092782812266e-7,
          3.7147165833863203e-7,
          3.8412157417735077e-7,
          3.972098575111367e-7,
          4.1075006796042745e-7,
          4.2473133782842236e-7,
          4.39173427166934e-7,
          4.54124026155884e-7,
          4.695725022414079e-7,
          4.855158093207721e-7,
          5.019869320074072e-7,
          5.19011729668016e-7,
          5.366149315241335e-7,
          5.548065016043752e-7,
          5.735388078307014e-7,
          5.928947701807192e-7,
          6.129141468096462e-7,
          6.335717083671909e-7,
          6.548827525057983e-7,
          6.76888003540784e-7,
          6.995832818582422e-7,
          7.230405849159261e-7,
          7.471827451163841e-7,
          7.72112447947376e-7,
          7.978264055849825e-7,
          8.243113334638684e-7,
          8.516484838095588e-7,
          8.797800386634015e-7,
          9.087170698427717e-7,
          9.385838469393723e-7,
          9.692402422650104e-7,
          0.0000010008047347144946,
          0.0000010332557192858066,
          0.0000010665744174049837,
          0.0000011008541214401126,
          0.000001136070984438208,
          0.0000011721699960389245,
          0.0000012092304059230767,
          0.0000012472107006919903,
          0.000001286084989506694,
          0.000001325801812271479,
          0.0000013664185189588716,
          0.0000014077970594702432,
          0.0000014500055688029971,
          0.000001492996691391369,
          0.0000015368417273860752,
          0.0000015813424338113471,
          0.000001626415124090711,
          0.000001671990212432719,
          0.0000017179701823753927,
          0.0000017644088819332955,
          0.0000018110801442085563,
          0.0000018578021648541955,
          0.0000019045186620152257,
          0.0000019509863566892533,
          0.0000019971246353509147,
          0.00000204271602877178,
          0.0000020873959395020795,
          0.0000021310621577889,
          0.0000021733530911165945,
          0.000002213982159682511,
          0.000002252609065757959,
          0.0000022889013559435796,
          0.0000023226119481384058,
          0.0000023531356079453164,
          0.000002380117518542411,
          0.0000024032903375799354,
          0.0000024218237534479995,
          0.000002435620024858544,
          0.000002444135085204934,
          0.000002446584928999651,
          0.0000024427685574338277,
          0.00000243196243173796,
          0.0000024138241030399066,
          0.0000023880171864645338,
          0.0000023541983464114352,
          0.0000023117168471966625,
          0.0000022608002230644635,
          0.0000022012277363530146,
          0.0000021331412869474568,
          0.0000020562402229098797,
          0.00000197111323807776,
          0.0000018780847656734301,
          0.0000017776242164277198,
          0.0000016709477744198954,
          0.0000015586806294851906,
          0.0000014419818770256932,
          0.0000013222938332262832,
          0.000001200784132323368,
          0.0000010795502830817365,
          9.59592840106802e-7
         ]
        },
        {
         "line": {
          "color": "rgba(0,0,0,0)"
         },
         "mode": "lines",
         "name": "cpl lower",
         "showlegend": false,
         "type": "scatter",
         "x": [
          0.5,
          0.5399005149129056,
          0.5829851320064411,
          0.6295079459136915,
          0.6797433282811352,
          0.7339875458951941,
          0.7925605079369504,
          0.855807652669587,
          0.9241019846854301,
          0.9978462747274034,
          1.0774754350584994,
          1.1634590843881816,
          1.2563043174825537,
          1.3565586957922742,
          1.4648134767356569,
          1.581707100681889,
          1.7079289561991018,
          1.8442234457731128,
          1.9913943759747132,
          2.1503096979668235,
          2.321906626309005,
          2.5071971662478383,
          2.7072740820907715,
          2.923317341862343,
          3.1566010762506105,
          3.4085010928846726,
          3.6805029902592725,
          3.97421091915894,
          4.291357043252806,
          4.633811754654629,
          5.003594704695015,
          5.402886714960652,
          5.834042638846706,
          6.299605249474366,
          6.802320235878507,
          7.345152395906567,
          7.931303121327435,
          8.564229278270034,
          9.247663594340342,
          9.985636672651363,
          10.78250076259533,
          11.642955427548031,
          12.57207526088238,
          13.575339813748398,
          14.658665911120856,
          15.828442546700813,
          17.09156856246622,
          18.455493335089486,
          19.92826070917302,
          21.518556436402267,
          23.235759400392006,
          25.089996929328063,
          27.09220452261488,
          29.254190343771047,
          31.588704859924277,
          34.10951603860984,
          36.83149054535093,
          39.77068142088956,
          42.9444227551508,
          46.37143191628681,
          50.07191993770399,
          54.067710714088335,
          58.38236970939663,
          63.04134293587772,
          68.07210702376288,
          73.504331266672,
          79.37005259841,
          85.70386453309192,
          92.54312118288446,
          99.92815755657348,
          107.90252743818397,
          116.5132602485589,
          125.81113840475663,
          135.85099681301386,
          146.69204626155536,
          158.39822262048287,
          171.0385639081755,
          184.68761744797573,
          199.42587951639962,
          215.34027007572647,
          232.52464539073773,
          251.08035155280015,
          271.1168221757403,
          292.7522237884657,
          316.1141527305816,
          341.3403876609958,
          368.5797021174849,
          397.99274191935086,
          429.7529725877134,
          464.04770237091645,
          501.0791869084171,
          541.065822047989,
          584.2434318509676,
          630.8666593816408,
          681.210468483065,
          735.5717653961369,
          794.2711497855386,
          857.6548054993548,
          926.0965422132591,
          1000
         ],
         "y": [
          2.5492777434914994e-7,
          2.6383855076878515e-7,
          2.730775206937145e-7,
          2.82621065408004e-7,
          2.924844432426796e-7,
          3.0272407157876734e-7,
          3.1329652947042245e-7,
          3.242583614842887e-7,
          3.3557101376659727e-7,
          3.472881353231862e-7,
          3.59385983491584e-7,
          3.7189842313732674e-7,
          3.84844449360333e-7,
          3.982545148615153e-7,
          4.121202633250414e-7,
          4.2644663837534046e-7,
          4.4126734277784706e-7,
          4.566174239867917e-7,
          4.725011866121962e-7,
          4.888895331125438e-7,
          5.058246889206815e-7,
          5.233390621456292e-7,
          5.414613538060999e-7,
          5.601640208319769e-7,
          5.795076727982553e-7,
          5.995061545359549e-7,
          6.201510869959757e-7,
          6.414693826855693e-7,
          6.634910530888936e-7,
          6.862501148408228e-7,
          7.097238624806795e-7,
          7.33967973721258e-7,
          7.589496702406377e-7,
          7.847188440734678e-7,
          8.113226789562363e-7,
          8.387878244630741e-7,
          8.671017536408645e-7,
          8.963048472062269e-7,
          9.26310062955505e-7,
          9.571849854512197e-7,
          9.88991329960741e-7,
          0.0000010216861392180092,
          0.000001055370341511939,
          0.0000010898787846743486,
          0.0000011253053948209222,
          0.0000011617400752013972,
          0.0000011990493627761462,
          0.0000012372741422305363,
          0.000001276369003148613,
          0.0000013163485925166262,
          0.000001357184425771788,
          0.000001398774988776577,
          0.000001441116463729681,
          0.0000014841194200628452,
          0.0000015278041258968944,
          0.0000015720758071109814,
          0.0000016168843314648675,
          0.0000016621178690459726,
          0.00000170773033491106,
          0.0000017536068901818226,
          0.0000017997164724785913,
          0.000001845655889190919,
          0.000001891599006066873,
          0.00000193726784457695,
          0.000001982561620674073,
          0.000002027294985925896,
          0.0000020711535717699606,
          0.0000021138751477706013,
          0.0000021553907461443427,
          0.0000021952460668906727,
          0.0000022332192466547965,
          0.0000022689695958951602,
          0.000002302092556711454,
          0.0000023320682767752344,
          0.0000023585801076668755,
          0.0000023812105659907963,
          0.00000239956588426231,
          0.0000024131587212539973,
          0.0000024212372340029205,
          0.000002423374770283899,
          0.0000024190070125031724,
          0.000002408113747294873,
          0.0000023896869610532125,
          0.000002363287129040561,
          0.000002328729093741999,
          0.000002285428240849262,
          0.0000022330330998186298,
          0.000002171738300603185,
          0.0000021014239296000083,
          0.0000020224271507788353,
          0.0000019348823008696496,
          0.000001839204115164555,
          0.0000017366279456058368,
          0.0000016275358822383276,
          0.0000015131724616506053,
          0.0000013947185275765327,
          0.0000012737388229384125,
          0.00000115118268533613,
          0.0000010293912947526195,
          9.09806770509185e-7
         ]
        },
        {
         "fill": "tonexty",
         "fillcolor": "rgba(99, 110, 250, 0.500000)",
         "line": {
          "color": "rgba(0,0,0,0)"
         },
         "mode": "lines",
         "name": "cpl CI",
         "showlegend": true,
         "type": "scatter",
         "x": [
          0.5,
          0.5399005149129056,
          0.5829851320064411,
          0.6295079459136915,
          0.6797433282811352,
          0.7339875458951941,
          0.7925605079369504,
          0.855807652669587,
          0.9241019846854301,
          0.9978462747274034,
          1.0774754350584994,
          1.1634590843881816,
          1.2563043174825537,
          1.3565586957922742,
          1.4648134767356569,
          1.581707100681889,
          1.7079289561991018,
          1.8442234457731128,
          1.9913943759747132,
          2.1503096979668235,
          2.321906626309005,
          2.5071971662478383,
          2.7072740820907715,
          2.923317341862343,
          3.1566010762506105,
          3.4085010928846726,
          3.6805029902592725,
          3.97421091915894,
          4.291357043252806,
          4.633811754654629,
          5.003594704695015,
          5.402886714960652,
          5.834042638846706,
          6.299605249474366,
          6.802320235878507,
          7.345152395906567,
          7.931303121327435,
          8.564229278270034,
          9.247663594340342,
          9.985636672651363,
          10.78250076259533,
          11.642955427548031,
          12.57207526088238,
          13.575339813748398,
          14.658665911120856,
          15.828442546700813,
          17.09156856246622,
          18.455493335089486,
          19.92826070917302,
          21.518556436402267,
          23.235759400392006,
          25.089996929328063,
          27.09220452261488,
          29.254190343771047,
          31.588704859924277,
          34.10951603860984,
          36.83149054535093,
          39.77068142088956,
          42.9444227551508,
          46.37143191628681,
          50.07191993770399,
          54.067710714088335,
          58.38236970939663,
          63.04134293587772,
          68.07210702376288,
          73.504331266672,
          79.37005259841,
          85.70386453309192,
          92.54312118288446,
          99.92815755657348,
          107.90252743818397,
          116.5132602485589,
          125.81113840475663,
          135.85099681301386,
          146.69204626155536,
          158.39822262048287,
          171.0385639081755,
          184.68761744797573,
          199.42587951639962,
          215.34027007572647,
          232.52464539073773,
          251.08035155280015,
          271.1168221757403,
          292.7522237884657,
          316.1141527305816,
          341.3403876609958,
          368.5797021174849,
          397.99274191935086,
          429.7529725877134,
          464.04770237091645,
          501.0791869084171,
          541.065822047989,
          584.2434318509676,
          630.8666593816408,
          681.210468483065,
          735.5717653961369,
          794.2711497855386,
          857.6548054993548,
          926.0965422132591,
          1000
         ],
         "y": [
          2.7723858049253044e-7,
          2.8648007438514023e-7,
          2.960339765274457e-7,
          3.059012362083256e-7,
          3.161125505962993e-7,
          3.2662490025192034e-7,
          3.3749659620955064e-7,
          3.48741823438848e-7,
          3.6034908874599594e-7,
          3.723350359726781e-7,
          3.8472702442311724e-7,
          3.974957921542618e-7,
          4.1070546540773113e-7,
          4.243957959057689e-7,
          4.3848053838440683e-7,
          4.53068737155327e-7,
          4.6808887395293466e-7,
          4.836234933659971e-7,
          4.996440058115663e-7,
          5.161954570658609e-7,
          5.332986440141466e-7,
          5.509413872679156e-7,
          5.691364879338021e-7,
          5.879456794710903e-7,
          6.07307298072672e-7,
          6.273056777655014e-7,
          6.47943215817042e-7,
          6.692687517326207e-7,
          6.912505080276545e-7,
          7.138918670675841e-7,
          7.372238232034613e-7,
          7.612631727147862e-7,
          7.861130508312979e-7,
          8.116941595241966e-7,
          8.380191088871976e-7,
          8.651690467678967e-7,
          8.931041949077391e-7,
          9.218653140131732e-7,
          9.51428352018028e-7,
          9.817967083694656e-7,
          0.000001013166151592112,
          0.000001045309771055621,
          0.000001078346963712904,
          0.000001112265309540086,
          0.0000011471784364759782,
          0.000001182896094997101,
          0.0000012195044681533206,
          0.0000012570544378221046,
          0.0000012956342120775926,
          0.0000013351097551625112,
          0.000001375518878714079,
          0.0000014167476635219907,
          0.0000014588740160463353,
          0.0000015019265816955578,
          0.0000015456961996104011,
          0.000001590379787834972,
          0.000001635822060291014,
          0.000001681791151324837,
          0.000001728245210133649,
          0.0000017751611502371155,
          0.0000018224263106192747,
          0.0000018698122717705474,
          0.0000019172351947760063,
          0.0000019644968712607402,
          0.000002011352808082651,
          0.000002057723233501126,
          0.0000021032460718665448,
          0.000002147692224972465,
          0.0000021908282804803735,
          0.0000022322210026879535,
          0.000002271673925552485,
          0.0000023086893299056567,
          0.0000023430547344533345,
          0.0000023741134455796533,
          0.0000024016720612345756,
          0.0000024251460391583915,
          0.0000024442410742033306,
          0.0000024583549685527743,
          0.0000024670405907673643,
          0.000002469607150282872,
          0.0000024657864425267405,
          0.000002455480342486031,
          0.0000024378910165442526,
          0.0000024125845021229823,
          0.0000023795649915819826,
          0.0000023386716317174283,
          0.0000022896835300526584,
          0.0000022316840132933572,
          0.0000021655995901474808,
          0.0000020909515215144473,
          0.0000020082903251735417,
          0.000001917910961101608,
          0.0000018199579202124396,
          0.000001715548085867841,
          0.00000160537517252358,
          0.0000014906487882796038,
          0.00000137253780791736,
          0.0000012517554820291834,
          0.0000011303312102221716,
          0.000001010156076789494
         ]
        }
       ],
       "layout": {
        "height": 600,
        "legend": {
         "x": 1,
         "xanchor": "right",
         "y": 1,
         "yanchor": "bottom"
        },
        "template": {
         "data": {
          "bar": [
           {
            "error_x": {
             "color": "#2a3f5f"
            },
            "error_y": {
             "color": "#2a3f5f"
            },
            "marker": {
             "line": {
              "color": "white",
              "width": 0.5
             },
             "pattern": {
              "fillmode": "overlay",
              "size": 10,
              "solidity": 0.2
             }
            },
            "type": "bar"
           }
          ],
          "barpolar": [
           {
            "marker": {
             "line": {
              "color": "white",
              "width": 0.5
             },
             "pattern": {
              "fillmode": "overlay",
              "size": 10,
              "solidity": 0.2
             }
            },
            "type": "barpolar"
           }
          ],
          "carpet": [
           {
            "aaxis": {
             "endlinecolor": "#2a3f5f",
             "gridcolor": "#C8D4E3",
             "linecolor": "#C8D4E3",
             "minorgridcolor": "#C8D4E3",
             "startlinecolor": "#2a3f5f"
            },
            "baxis": {
             "endlinecolor": "#2a3f5f",
             "gridcolor": "#C8D4E3",
             "linecolor": "#C8D4E3",
             "minorgridcolor": "#C8D4E3",
             "startlinecolor": "#2a3f5f"
            },
            "type": "carpet"
           }
          ],
          "choropleth": [
           {
            "colorbar": {
             "outlinewidth": 0,
             "ticks": ""
            },
            "type": "choropleth"
           }
          ],
          "contour": [
           {
            "colorbar": {
             "outlinewidth": 0,
             "ticks": ""
            },
            "colorscale": [
             [
              0,
              "#0d0887"
             ],
             [
              0.1111111111111111,
              "#46039f"
             ],
             [
              0.2222222222222222,
              "#7201a8"
             ],
             [
              0.3333333333333333,
              "#9c179e"
             ],
             [
              0.4444444444444444,
              "#bd3786"
             ],
             [
              0.5555555555555556,
              "#d8576b"
             ],
             [
              0.6666666666666666,
              "#ed7953"
             ],
             [
              0.7777777777777778,
              "#fb9f3a"
             ],
             [
              0.8888888888888888,
              "#fdca26"
             ],
             [
              1,
              "#f0f921"
             ]
            ],
            "type": "contour"
           }
          ],
          "contourcarpet": [
           {
            "colorbar": {
             "outlinewidth": 0,
             "ticks": ""
            },
            "type": "contourcarpet"
           }
          ],
          "heatmap": [
           {
            "colorbar": {
             "outlinewidth": 0,
             "ticks": ""
            },
            "colorscale": [
             [
              0,
              "#0d0887"
             ],
             [
              0.1111111111111111,
              "#46039f"
             ],
             [
              0.2222222222222222,
              "#7201a8"
             ],
             [
              0.3333333333333333,
              "#9c179e"
             ],
             [
              0.4444444444444444,
              "#bd3786"
             ],
             [
              0.5555555555555556,
              "#d8576b"
             ],
             [
              0.6666666666666666,
              "#ed7953"
             ],
             [
              0.7777777777777778,
              "#fb9f3a"
             ],
             [
              0.8888888888888888,
              "#fdca26"
             ],
             [
              1,
              "#f0f921"
             ]
            ],
            "type": "heatmap"
           }
          ],
          "heatmapgl": [
           {
            "colorbar": {
             "outlinewidth": 0,
             "ticks": ""
            },
            "colorscale": [
             [
              0,
              "#0d0887"
             ],
             [
              0.1111111111111111,
              "#46039f"
             ],
             [
              0.2222222222222222,
              "#7201a8"
             ],
             [
              0.3333333333333333,
              "#9c179e"
             ],
             [
              0.4444444444444444,
              "#bd3786"
             ],
             [
              0.5555555555555556,
              "#d8576b"
             ],
             [
              0.6666666666666666,
              "#ed7953"
             ],
             [
              0.7777777777777778,
              "#fb9f3a"
             ],
             [
              0.8888888888888888,
              "#fdca26"
             ],
             [
              1,
              "#f0f921"
             ]
            ],
            "type": "heatmapgl"
           }
          ],
          "histogram": [
           {
            "marker": {
             "pattern": {
              "fillmode": "overlay",
              "size": 10,
              "solidity": 0.2
             }
            },
            "type": "histogram"
           }
          ],
          "histogram2d": [
           {
            "colorbar": {
             "outlinewidth": 0,
             "ticks": ""
            },
            "colorscale": [
             [
              0,
              "#0d0887"
             ],
             [
              0.1111111111111111,
              "#46039f"
             ],
             [
              0.2222222222222222,
              "#7201a8"
             ],
             [
              0.3333333333333333,
              "#9c179e"
             ],
             [
              0.4444444444444444,
              "#bd3786"
             ],
             [
              0.5555555555555556,
              "#d8576b"
             ],
             [
              0.6666666666666666,
              "#ed7953"
             ],
             [
              0.7777777777777778,
              "#fb9f3a"
             ],
             [
              0.8888888888888888,
              "#fdca26"
             ],
             [
              1,
              "#f0f921"
             ]
            ],
            "type": "histogram2d"
           }
          ],
          "histogram2dcontour": [
           {
            "colorbar": {
             "outlinewidth": 0,
             "ticks": ""
            },
            "colorscale": [
             [
              0,
              "#0d0887"
             ],
             [
              0.1111111111111111,
              "#46039f"
             ],
             [
              0.2222222222222222,
              "#7201a8"
             ],
             [
              0.3333333333333333,
              "#9c179e"
             ],
             [
              0.4444444444444444,
              "#bd3786"
             ],
             [
              0.5555555555555556,
              "#d8576b"
             ],
             [
              0.6666666666666666,
              "#ed7953"
             ],
             [
              0.7777777777777778,
              "#fb9f3a"
             ],
             [
              0.8888888888888888,
              "#fdca26"
             ],
             [
              1,
              "#f0f921"
             ]
            ],
            "type": "histogram2dcontour"
           }
          ],
          "mesh3d": [
           {
            "colorbar": {
             "outlinewidth": 0,
             "ticks": ""
            },
            "type": "mesh3d"
           }
          ],
          "parcoords": [
           {
            "line": {
             "colorbar": {
              "outlinewidth": 0,
              "ticks": ""
             }
            },
            "type": "parcoords"
           }
          ],
          "pie": [
           {
            "automargin": true,
            "type": "pie"
           }
          ],
          "scatter": [
           {
            "fillpattern": {
             "fillmode": "overlay",
             "size": 10,
             "solidity": 0.2
            },
            "type": "scatter"
           }
          ],
          "scatter3d": [
           {
            "line": {
             "colorbar": {
              "outlinewidth": 0,
              "ticks": ""
             }
            },
            "marker": {
             "colorbar": {
              "outlinewidth": 0,
              "ticks": ""
             }
            },
            "type": "scatter3d"
           }
          ],
          "scattercarpet": [
           {
            "marker": {
             "colorbar": {
              "outlinewidth": 0,
              "ticks": ""
             }
            },
            "type": "scattercarpet"
           }
          ],
          "scattergeo": [
           {
            "marker": {
             "colorbar": {
              "outlinewidth": 0,
              "ticks": ""
             }
            },
            "type": "scattergeo"
           }
          ],
          "scattergl": [
           {
            "marker": {
             "colorbar": {
              "outlinewidth": 0,
              "ticks": ""
             }
            },
            "type": "scattergl"
           }
          ],
          "scattermapbox": [
           {
            "marker": {
             "colorbar": {
              "outlinewidth": 0,
              "ticks": ""
             }
            },
            "type": "scattermapbox"
           }
          ],
          "scatterpolar": [
           {
            "marker": {
             "colorbar": {
              "outlinewidth": 0,
              "ticks": ""
             }
            },
            "type": "scatterpolar"
           }
          ],
          "scatterpolargl": [
           {
            "marker": {
             "colorbar": {
              "outlinewidth": 0,
              "ticks": ""
             }
            },
            "type": "scatterpolargl"
           }
          ],
          "scatterternary": [
           {
            "marker": {
             "colorbar": {
              "outlinewidth": 0,
              "ticks": ""
             }
            },
            "type": "scatterternary"
           }
          ],
          "surface": [
           {
            "colorbar": {
             "outlinewidth": 0,
             "ticks": ""
            },
            "colorscale": [
             [
              0,
              "#0d0887"
             ],
             [
              0.1111111111111111,
              "#46039f"
             ],
             [
              0.2222222222222222,
              "#7201a8"
             ],
             [
              0.3333333333333333,
              "#9c179e"
             ],
             [
              0.4444444444444444,
              "#bd3786"
             ],
             [
              0.5555555555555556,
              "#d8576b"
             ],
             [
              0.6666666666666666,
              "#ed7953"
             ],
             [
              0.7777777777777778,
              "#fb9f3a"
             ],
             [
              0.8888888888888888,
              "#fdca26"
             ],
             [
              1,
              "#f0f921"
             ]
            ],
            "type": "surface"
           }
          ],
          "table": [
           {
            "cells": {
             "fill": {
              "color": "#EBF0F8"
             },
             "line": {
              "color": "white"
             }
            },
            "header": {
             "fill": {
              "color": "#C8D4E3"
             },
             "line": {
              "color": "white"
             }
            },
            "type": "table"
           }
          ]
         },
         "layout": {
          "annotationdefaults": {
           "arrowcolor": "#2a3f5f",
           "arrowhead": 0,
           "arrowwidth": 1
          },
          "autotypenumbers": "strict",
          "coloraxis": {
           "colorbar": {
            "outlinewidth": 0,
            "ticks": ""
           }
          },
          "colorscale": {
           "diverging": [
            [
             0,
             "#8e0152"
            ],
            [
             0.1,
             "#c51b7d"
            ],
            [
             0.2,
             "#de77ae"
            ],
            [
             0.3,
             "#f1b6da"
            ],
            [
             0.4,
             "#fde0ef"
            ],
            [
             0.5,
             "#f7f7f7"
            ],
            [
             0.6,
             "#e6f5d0"
            ],
            [
             0.7,
             "#b8e186"
            ],
            [
             0.8,
             "#7fbc41"
            ],
            [
             0.9,
             "#4d9221"
            ],
            [
             1,
             "#276419"
            ]
           ],
           "sequential": [
            [
             0,
             "#0d0887"
            ],
            [
             0.1111111111111111,
             "#46039f"
            ],
            [
             0.2222222222222222,
             "#7201a8"
            ],
            [
             0.3333333333333333,
             "#9c179e"
            ],
            [
             0.4444444444444444,
             "#bd3786"
            ],
            [
             0.5555555555555556,
             "#d8576b"
            ],
            [
             0.6666666666666666,
             "#ed7953"
            ],
            [
             0.7777777777777778,
             "#fb9f3a"
            ],
            [
             0.8888888888888888,
             "#fdca26"
            ],
            [
             1,
             "#f0f921"
            ]
           ],
           "sequentialminus": [
            [
             0,
             "#0d0887"
            ],
            [
             0.1111111111111111,
             "#46039f"
            ],
            [
             0.2222222222222222,
             "#7201a8"
            ],
            [
             0.3333333333333333,
             "#9c179e"
            ],
            [
             0.4444444444444444,
             "#bd3786"
            ],
            [
             0.5555555555555556,
             "#d8576b"
            ],
            [
             0.6666666666666666,
             "#ed7953"
            ],
            [
             0.7777777777777778,
             "#fb9f3a"
            ],
            [
             0.8888888888888888,
             "#fdca26"
            ],
            [
             1,
             "#f0f921"
            ]
           ]
          },
          "colorway": [
           "#636efa",
           "#EF553B",
           "#00cc96",
           "#ab63fa",
           "#FFA15A",
           "#19d3f3",
           "#FF6692",
           "#B6E880",
           "#FF97FF",
           "#FECB52"
          ],
          "font": {
           "color": "#2a3f5f"
          },
          "geo": {
           "bgcolor": "white",
           "lakecolor": "white",
           "landcolor": "white",
           "showlakes": true,
           "showland": true,
           "subunitcolor": "#C8D4E3"
          },
          "hoverlabel": {
           "align": "left"
          },
          "hovermode": "closest",
          "mapbox": {
           "style": "light"
          },
          "paper_bgcolor": "white",
          "plot_bgcolor": "white",
          "polar": {
           "angularaxis": {
            "gridcolor": "#EBF0F8",
            "linecolor": "#EBF0F8",
            "ticks": ""
           },
           "bgcolor": "white",
           "radialaxis": {
            "gridcolor": "#EBF0F8",
            "linecolor": "#EBF0F8",
            "ticks": ""
           }
          },
          "scene": {
           "xaxis": {
            "backgroundcolor": "white",
            "gridcolor": "#DFE8F3",
            "gridwidth": 2,
            "linecolor": "#EBF0F8",
            "showbackground": true,
            "ticks": "",
            "zerolinecolor": "#EBF0F8"
           },
           "yaxis": {
            "backgroundcolor": "white",
            "gridcolor": "#DFE8F3",
            "gridwidth": 2,
            "linecolor": "#EBF0F8",
            "showbackground": true,
            "ticks": "",
            "zerolinecolor": "#EBF0F8"
           },
           "zaxis": {
            "backgroundcolor": "white",
            "gridcolor": "#DFE8F3",
            "gridwidth": 2,
            "linecolor": "#EBF0F8",
            "showbackground": true,
            "ticks": "",
            "zerolinecolor": "#EBF0F8"
           }
          },
          "shapedefaults": {
           "line": {
            "color": "#2a3f5f"
           }
          },
          "ternary": {
           "aaxis": {
            "gridcolor": "#DFE8F3",
            "linecolor": "#A2B1C6",
            "ticks": ""
           },
           "baxis": {
            "gridcolor": "#DFE8F3",
            "linecolor": "#A2B1C6",
            "ticks": ""
           },
           "bgcolor": "white",
           "caxis": {
            "gridcolor": "#DFE8F3",
            "linecolor": "#A2B1C6",
            "ticks": ""
           }
          },
          "title": {
           "x": 0.05
          },
          "xaxis": {
           "automargin": true,
           "gridcolor": "#EBF0F8",
           "linecolor": "#EBF0F8",
           "ticks": "",
           "title": {
            "standoff": 15
           },
           "zerolinecolor": "#EBF0F8",
           "zerolinewidth": 2
          },
          "yaxis": {
           "automargin": true,
           "gridcolor": "#EBF0F8",
           "linecolor": "#EBF0F8",
           "ticks": "",
           "title": {
            "standoff": 15
           },
           "zerolinecolor": "#EBF0F8",
           "zerolinewidth": 2
          }
         }
        },
        "width": 600,
        "xaxis": {
         "title": {
          "text": "Energy (keV)"
         },
         "type": "log"
        },
        "yaxis": {
         "title": {
          "text": "erg/cm^2/s"
         },
         "type": "log"
        }
       }
      }
     },
     "metadata": {},
     "output_type": "display_data"
    }
   ],
   "source": [
    "earr = np.logspace(np.log10(0.5), 3, 100)\n",
    "\n",
    "modelplot = Plot.model(ploter='plotly', style='vFv', CI=True)\n",
    "fig = modelplot.add_model(model, E=earr, show=True)\n",
    "fig.write_html('quickstart/model.html')"
   ]
  },
  {
   "cell_type": "code",
   "execution_count": null,
   "id": "0eab7004-7a1a-48a9-a50e-90780fa44cfe",
   "metadata": {},
   "outputs": [],
   "source": []
  }
 ],
 "metadata": {
  "kernelspec": {
   "display_name": "base",
   "language": "python",
   "name": "python3"
  },
  "language_info": {
   "codemirror_mode": {
    "name": "ipython",
    "version": 3
   },
   "file_extension": ".py",
   "mimetype": "text/x-python",
   "name": "python",
   "nbconvert_exporter": "python",
   "pygments_lexer": "ipython3",
   "version": "3.10.12"
  }
 },
 "nbformat": 4,
 "nbformat_minor": 5
}
