{
 "cells": [
  {
   "cell_type": "markdown",
   "id": "9b5d5b59",
   "metadata": {},
   "source": [
    "# A Quick Start Tutorial\n",
    "\n",
    "This tutorial offers a quick-start guide for using _BaySpec_ to fit a spectral model to gamma-ray data. It can be broadly divided into the following three sections:\n",
    "\n",
    "- Data: The spectra from Fermi/GBM's NaI detector and BGO detector.\n",
    "- Model: A simple cutoff power-law function.\n",
    "- Fitting: Bayesian inference implemented using _emcee_(or _multinest_)."
   ]
  },
  {
   "cell_type": "code",
   "execution_count": 1,
   "id": "48405a8a-75f0-4a2c-939a-14bd87ec3b89",
   "metadata": {},
   "outputs": [],
   "source": [
    "import numpy as np\n",
    "from bayspec.model.local import *\n",
    "from bayspec import DataUnit, Data, Infer, Plot"
   ]
  },
  {
   "cell_type": "markdown",
   "id": "89bbf706",
   "metadata": {},
   "source": [
    "1. Load spectra and response data."
   ]
  },
  {
   "cell_type": "code",
   "execution_count": 2,
   "id": "d21b52f6-3546-4423-bca9-ad837f15b033",
   "metadata": {},
   "outputs": [
    {
     "name": "stdout",
     "output_type": "stream",
     "text": [
      "╒════════╤════════════════╤═════════════╤═════════════════════════════════╤════════╕\n",
      "│  Name  │    Noticing    │  Statistic  │            Grouping             │  Time  │\n",
      "╞════════╪════════════════╪═════════════╪═════════════════════════════════╪════════╡\n",
      "│  nai   │   [[8, 900]]   │   pgstat    │ {'min_sigma': 2, 'max_bin': 10} │  None  │\n",
      "├────────┼────────────────┼─────────────┼─────────────────────────────────┼────────┤\n",
      "│  bgo   │ [[300, 38000]] │   pgstat    │ {'min_sigma': 2, 'max_bin': 10} │  None  │\n",
      "╘════════╧════════════════╧═════════════╧═════════════════════════════════╧════════╛\n",
      "\n"
     ]
    }
   ],
   "source": [
    "nai = DataUnit(\n",
    "    src='./ME/me.src', \n",
    "    bkg='./ME/me.bkg', \n",
    "    rsp='./ME/me.rsp', \n",
    "    notc=[8, 900], \n",
    "    stat='pgstat', \n",
    "    grpg={'min_sigma': 2, 'max_bin': 10})\n",
    "\n",
    "bgo = DataUnit(\n",
    "    src='./HE/he.src', \n",
    "    bkg='./HE/he.bkg', \n",
    "    rsp='./HE/he.rsp', \n",
    "    notc=[300, 38000], \n",
    "    stat='pgstat', \n",
    "    grpg={'min_sigma': 2, 'max_bin': 10})\n",
    "\n",
    "data = Data([('nai', nai), \n",
    "             ('bgo', bgo)])\n",
    "\n",
    "print(data)"
   ]
  },
  {
   "cell_type": "markdown",
   "id": "707e5bda",
   "metadata": {},
   "source": [
    "2.Define spectral model."
   ]
  },
  {
   "cell_type": "code",
   "execution_count": 3,
   "id": "78047e9a",
   "metadata": {},
   "outputs": [
    {
     "name": "stdout",
     "output_type": "stream",
     "text": [
      "cpl [add]\n",
      "cutoff power law model\n",
      "╒════════╤═════════════╤═════════════╤═════════╕\n",
      "│  cfg#  │  Component  │  Parameter  │  Value  │\n",
      "╞════════╪═════════════╪═════════════╪═════════╡\n",
      "│   1    │     cpl     │  redshift   │    0    │\n",
      "╘════════╧═════════════╧═════════════╧═════════╛\n",
      "╒════════╤═════════════╤═════════════╤═════════╤═════════════╤══════════╕\n",
      "│  par#  │  Component  │  Parameter  │  Value  │    Prior    │  Frozen  │\n",
      "╞════════╪═════════════╪═════════════╪═════════╪═════════════╪══════════╡\n",
      "│   1    │     cpl     │  $\\alpha$   │   -1    │ unif(-8, 4) │  False   │\n",
      "├────────┼─────────────┼─────────────┼─────────┼─────────────┼──────────┤\n",
      "│   2    │     cpl     │ log$E_{c}$  │    2    │ unif(0, 4)  │  False   │\n",
      "├────────┼─────────────┼─────────────┼─────────┼─────────────┼──────────┤\n",
      "│   3    │     cpl     │   log$A$    │   -1    │ unif(-6, 5) │  False   │\n",
      "╘════════╧═════════════╧═════════════╧═════════╧═════════════╧══════════╛\n",
      "\n"
     ]
    }
   ],
   "source": [
    "model = cpl()\n",
    "print(model)"
   ]
  },
  {
   "cell_type": "markdown",
   "id": "ca1f97a8",
   "metadata": {},
   "source": [
    "3.Run Bayesian inference."
   ]
  },
  {
   "cell_type": "code",
   "execution_count": 4,
   "id": "ae57d6a0-d366-42e2-aaf6-46a0fdd15f9f",
   "metadata": {},
   "outputs": [
    {
     "name": "stdout",
     "output_type": "stream",
     "text": [
      "╒════════╤══════════════╤═════════════╤═════════════╤═════════╕\n",
      "│  cfg#  │  Expression  │  Component  │  Parameter  │  Value  │\n",
      "╞════════╪══════════════╪═════════════╪═════════════╪═════════╡\n",
      "│   1    │     cpl      │     cpl     │  redshift   │    0    │\n",
      "╘════════╧══════════════╧═════════════╧═════════════╧═════════╛\n",
      "╒════════╤══════════════╤═════════════╤═════════════╤═════════╤═════════════╕\n",
      "│  par#  │  Expression  │  Component  │  Parameter  │  Value  │    Prior    │\n",
      "╞════════╪══════════════╪═════════════╪═════════════╪═════════╪═════════════╡\n",
      "│   1*   │     cpl      │     cpl     │  $\\alpha$   │   -1    │ unif(-8, 4) │\n",
      "├────────┼──────────────┼─────────────┼─────────────┼─────────┼─────────────┤\n",
      "│   2*   │     cpl      │     cpl     │ log$E_{c}$  │    2    │ unif(0, 4)  │\n",
      "├────────┼──────────────┼─────────────┼─────────────┼─────────┼─────────────┤\n",
      "│   3*   │     cpl      │     cpl     │   log$A$    │   -1    │ unif(-6, 5) │\n",
      "╘════════╧══════════════╧═════════════╧═════════════╧═════════╧═════════════╛\n",
      "\n"
     ]
    }
   ],
   "source": [
    "infer = Infer([(data, model)])\n",
    "print(infer)"
   ]
  },
  {
   "cell_type": "code",
   "execution_count": 5,
   "id": "c277472b-8b72-4860-84cb-37ae593ddfb7",
   "metadata": {},
   "outputs": [
    {
     "name": "stdout",
     "output_type": "stream",
     "text": [
      "╒════════╤══════════════╤═════════════╤═════════════╤════════╤══════════╤════════╤══════════════════╕\n",
      "│  par#  │  Expression  │  Component  │  Parameter  │  Mean  │  Median  │  Best  │    1sigma CI     │\n",
      "╞════════╪══════════════╪═════════════╪═════════════╪════════╪══════════╪════════╪══════════════════╡\n",
      "│   1    │     cpl      │     cpl     │  $\\alpha$   │ -1.562 │  -1.563  │ -1.562 │ [-1.573, -1.552] │\n",
      "├────────┼──────────────┼─────────────┼─────────────┼────────┼──────────┼────────┼──────────────────┤\n",
      "│   2    │     cpl      │     cpl     │ log$E_{c}$  │ 2.691  │  2.691   │  2.69  │  [2.673, 2.708]  │\n",
      "├────────┼──────────────┼─────────────┼─────────────┼────────┼──────────┼────────┼──────────────────┤\n",
      "│   3    │     cpl      │     cpl     │   log$A$    │ -0.771 │  -0.771  │ -0.771 │ [-0.778, -0.765] │\n",
      "╘════════╧══════════════╧═════════════╧═════════════╧════════╧══════════╧════════╧══════════════════╛\n",
      "╒════════╤═════════╤═════════════╤════════════╤════════╕\n",
      "│  Data  │  Model  │  Statistic  │   Value    │  Bins  │\n",
      "╞════════╪═════════╪═════════════╪════════════╪════════╡\n",
      "│  nai   │   cpl   │   pgstat    │   388.80   │  109   │\n",
      "├────────┼─────────┼─────────────┼────────────┼────────┤\n",
      "│  bgo   │   cpl   │   pgstat    │   30.77    │   28   │\n",
      "├────────┼─────────┼─────────────┼────────────┼────────┤\n",
      "│ Total  │  Total  │  stat/dof   │ 419.56/134 │  137   │\n",
      "╘════════╧═════════╧═════════════╧════════════╧════════╛\n",
      "╒════════╤════════╤════════╤═══════╕\n",
      "│  AIC   │  AICc  │  BIC   │  lnZ  │\n",
      "╞════════╪════════╪════════╪═══════╡\n",
      "│ 425.56 │ 425.74 │ 434.32 │ None  │\n",
      "╘════════╧════════╧════════╧═══════╛\n",
      "\n"
     ]
    }
   ],
   "source": [
    "post = infer.emcee(nstep=1000, resume=True, savepath='./quickstart')\n",
    "print(post)"
   ]
  },
  {
   "cell_type": "code",
   "execution_count": 6,
   "id": "f94202be",
   "metadata": {},
   "outputs": [
    {
     "data": {
      "image/png": "[encoded data removed]",
      "text/plain": [
       "<Figure size 1000x600 with 3 Axes>"
      ]
     },
     "metadata": {},
     "output_type": "display_data"
    }
   ],
   "source": [
    "fig = Plot.emcee_walker(post)"
   ]
  },
  {
   "cell_type": "code",
   "execution_count": 7,
   "id": "44e91f83-276a-4fcf-a89f-898a6e025481",
   "metadata": {},
   "outputs": [
    {
     "data": {
      "application/vnd.plotly.v1+json": {
       "config": {
        "plotlyServerURL": "https://plot.ly"
       },
       "data": [
        {
         "error_x": {
          "array": [
           0.4175887107849121,
           0.4147825241088867,
           0.49709081649780273,
           0.4999260902404785,
           0.5065112113952637,
           0.5168476104736328,
           0.530890941619873,
           0.5464119911193848,
           0.5601511001586914,
           0.6681509017944336,
           0.6808290481567383,
           0.6905584335327148,
           0.6999292373657227,
           0.7102947235107422,
           0.7216701507568359,
           0.8399868011474609,
           0.857666015625,
           0.8768472671508789,
           0.8975353240966797,
           1.2249488830566406,
           0.7692794799804688,
           0.7823829650878906,
           0.8027782440185547,
           0.8221817016601562,
           0.9350814819335938,
           0.956451416015625,
           0.9764537811279297,
           0.9951000213623047,
           1.1145172119140625,
           1.133615493774414,
           1.1509017944335938,
           1.1663780212402344,
           1.2879295349121094,
           1.3018360137939453,
           1.3133907318115234,
           1.4331436157226562,
           1.4409561157226562,
           1.4457664489746094,
           1.5589332580566406,
           1.55731201171875,
           1.5522575378417969,
           1.6567153930664062,
           1.6508750915527344,
           1.6458625793457031,
           1.7509880065917969,
           1.7472343444824219,
           1.7444801330566406,
           1.8516197204589844,
           1.8508491516113281,
           1.9602279663085938,
           1.9621467590332031,
           2.0747947692871094,
           2.079387664794922,
           2.1938018798828125,
           2.1988754272460938,
           2.2039108276367188,
           2.3194808959960938,
           2.324951171875,
           2.4414901733398438,
           2.5587844848632812,
           2.5651931762695312,
           2.6834945678710938,
           2.6903457641601562,
           2.8096771240234375,
           2.8169784545898438,
           2.9373397827148438,
           3.0585098266601562,
           3.0667724609375,
           3.1890029907226562,
           3.31207275390625,
           3.3212966918945312,
           3.4454193115234375,
           3.5703964233398438,
           3.69622802734375,
           3.7069015502929688,
           3.8337936401367188,
           3.9615020751953125,
           4.0901031494140625,
           4.1021575927734375,
           4.231719970703125,
           4.362152099609375,
           4.493377685546875,
           4.62542724609375,
           4.7582855224609375,
           4.891937255859375,
           5.0263519287109375,
           5.1615142822265625,
           5.2974090576171875,
           5.4340057373046875,
           5.5713043212890625,
           5.7092132568359375,
           5.847747802734375,
           6.109222412109375,
           6.2495574951171875,
           6.390380859375,
           6.5316314697265625,
           6.6732330322265625,
           6.9392547607421875,
           7.0820770263671875,
           7.225067138671875,
           7.49322509765625,
           7.636932373046875,
           7.906158447265625,
           8.050201416015625,
           8.320068359375,
           8.463836669921875,
           17.73748779296875,
           38.195648193359375,
           76.35791015625
          ],
          "arrayminus": [
           0.4175887107849121,
           0.4147825241088867,
           0.49709081649780273,
           0.4999260902404785,
           0.5065112113952637,
           0.5168476104736328,
           0.530890941619873,
           0.5464119911193848,
           0.5601511001586914,
           0.6681509017944336,
           0.6808290481567383,
           0.6905584335327148,
           0.6999292373657227,
           0.7102947235107422,
           0.7216701507568359,
           0.8399868011474609,
           0.857666015625,
           0.8768472671508789,
           0.8975353240966797,
           1.2249488830566406,
           0.7692794799804688,
           0.7823829650878906,
           0.8027782440185547,
           0.8221817016601562,
           0.9350814819335938,
           0.956451416015625,
           0.9764537811279297,
           0.9951000213623047,
           1.1145172119140625,
           1.133615493774414,
           1.1509017944335938,
           1.1663780212402344,
           1.2879295349121094,
           1.3018360137939453,
           1.3133907318115234,
           1.4331436157226562,
           1.4409561157226562,
           1.4457664489746094,
           1.5589332580566406,
           1.55731201171875,
           1.5522575378417969,
           1.6567153930664062,
           1.6508750915527344,
           1.6458625793457031,
           1.7509880065917969,
           1.7472343444824219,
           1.7444801330566406,
           1.8516197204589844,
           1.8508491516113281,
           1.9602279663085938,
           1.9621467590332031,
           2.0747947692871094,
           2.079387664794922,
           2.1938018798828125,
           2.1988754272460938,
           2.2039108276367188,
           2.3194808959960938,
           2.324951171875,
           2.4414901733398438,
           2.5587844848632812,
           2.5651931762695312,
           2.6834945678710938,
           2.6903457641601562,
           2.8096771240234375,
           2.8169784545898438,
           2.9373397827148438,
           3.0585098266601562,
           3.0667724609375,
           3.1890029907226562,
           3.31207275390625,
           3.3212966918945312,
           3.4454193115234375,
           3.5703964233398438,
           3.69622802734375,
           3.7069015502929688,
           3.8337936401367188,
           3.9615020751953125,
           4.0901031494140625,
           4.1021575927734375,
           4.231719970703125,
           4.362152099609375,
           4.493377685546875,
           4.62542724609375,
           4.7582855224609375,
           4.891937255859375,
           5.0263519287109375,
           5.1615142822265625,
           5.2974090576171875,
           5.4340057373046875,
           5.5713043212890625,
           5.7092132568359375,
           5.847747802734375,
           6.109222412109375,
           6.2495574951171875,
           6.390380859375,
           6.5316314697265625,
           6.6732330322265625,
           6.9392547607421875,
           7.0820770263671875,
           7.225067138671875,
           7.49322509765625,
           7.636932373046875,
           7.906158447265625,
           8.050201416015625,
           8.320068359375,
           8.463836669921875,
           17.73748779296875,
           38.195648193359375,
           76.35791015625
          ],
          "color": "#636EFA",
          "symmetric": false,
          "thickness": 1.5,
          "type": "data",
          "width": 0
         },
         "error_y": {
          "array": [
           2.3548571753943675,
           2.561971031113279,
           2.6704219452166016,
           2.927484558241592,
           3.2273070153025305,
           3.332008486234036,
           3.4011720424933833,
           3.479040947706285,
           3.541000834251295,
           3.308001874102085,
           3.197419754805529,
           3.1233216944077133,
           3.1626680900298427,
           3.071829886251972,
           2.930217691045611,
           2.5539000351168064,
           2.484147092442798,
           2.344736030336757,
           2.176589514396333,
           1.4700575357059131,
           2.302214675454366,
           2.01953285151143,
           1.9145085919204765,
           1.70096409884385,
           1.5245293059076064,
           1.5109147776979381,
           1.4053663212758016,
           1.4114101809486246,
           1.2484365139100158,
           1.214035475141958,
           1.178728181531249,
           1.1193245080255956,
           1.0405592710996365,
           1.0260294733965383,
           1.0276412963017318,
           0.9578806880495587,
           0.8815539512740007,
           0.8973929044071489,
           0.8096593435594797,
           0.80858825335415,
           0.7961506776961047,
           0.730205225508185,
           0.722562216807538,
           0.7124051026092286,
           0.6925031267543851,
           0.6329566959468704,
           0.5992651060225548,
           0.6107913985168336,
           0.6054477328064282,
           0.5473252730346082,
           0.5290472690013466,
           0.5128939015801334,
           0.47878557633241314,
           0.4556249710651817,
           0.44369942635602067,
           0.4155729184154034,
           0.41286834616585494,
           0.3839207750192944,
           0.3817743442211507,
           0.35513816344889926,
           0.3287304618649108,
           0.3176750948393808,
           0.30160409453837483,
           0.30375005220553647,
           0.2680449262872866,
           0.2521117263671107,
           0.24815238795682923,
           0.23019829049474663,
           0.22947772551748,
           0.19044207366571891,
           0.19493944591031373,
           0.18192468210045476,
           0.17042757511706755,
           0.1525321159112489,
           0.15871556062425668,
           0.137100136014067,
           0.13696745844859454,
           0.12349352302433832,
           0.1218537004317782,
           0.1073439469592833,
           0.10541078731636681,
           0.10350210616627006,
           0.08696998194331512,
           0.09506543637521868,
           0.07650188030653815,
           0.07514756663824328,
           0.07444611855088194,
           0.06378695640346874,
           0.06830796423739256,
           0.06884073833676378,
           0.05285376272846993,
           0.05163292850336021,
           0.04993897412171952,
           0.05259218896553265,
           0.03984371226022159,
           0.04344270677748983,
           0.04319043580320335,
           0.03888036102308455,
           0.03943552590920675,
           0.03796629203346899,
           0.03717103913607522,
           0.035728896097891205,
           0.03077380360603083,
           0.028137267173207605,
           0.029807721035913996,
           0.030475270325874278,
           0.018064147648401144,
           0.010080926629168084,
           0.006110822944271208
          ],
          "color": "#636EFA",
          "thickness": 1.5,
          "type": "data",
          "width": 0
         },
         "marker": {
          "color": "#636EFA",
          "size": 0,
          "symbol": "cross-thin"
         },
         "mode": "markers",
         "name": "obs of nai",
         "showlegend": false,
         "type": "scatter",
         "x": [
          8.497907638549805,
          9.330278396606445,
          10.242151260375977,
          11.239168167114258,
          12.24560546875,
          13.268964767456055,
          14.316703796386719,
          15.394006729125977,
          16.500568389892578,
          17.728870391845703,
          19.077850341796875,
          20.449237823486328,
          21.839725494384766,
          23.249950408935547,
          24.681915283203125,
          26.243572235107422,
          27.941225051879883,
          29.675739288330078,
          31.45012092590332,
          33.57260513305664,
          35.56683349609375,
          37.11849594116211,
          38.70365905761719,
          40.328617095947266,
          42.085880279541016,
          43.977413177490234,
          45.910316467285156,
          47.881874084472656,
          49.99148941040039,
          52.2396240234375,
          54.524139404296875,
          56.8414192199707,
          59.29572677612305,
          61.88549041748047,
          64.50071716308594,
          67.24725341796875,
          70.12135314941406,
          73.00807189941406,
          76.01277160644531,
          79.12902069091797,
          82.23858642578125,
          85.44756317138672,
          88.75515747070312,
          92.05189514160156,
          95.44874572753906,
          98.94696044921875,
          102.43867492675781,
          106.03477478027344,
          109.73724365234375,
          113.54832458496094,
          117.470703125,
          121.50764465332031,
          125.66181945800781,
          129.9350128173828,
          134.32769775390625,
          138.73046875,
          143.25387573242188,
          147.89830017089844,
          152.66473388671875,
          157.66500854492188,
          162.78900146484375,
          168.03768920898438,
          173.41152954101562,
          178.9115447998047,
          184.5382080078125,
          190.29251098632812,
          196.28836059570312,
          202.4136505126953,
          208.66943359375,
          215.17050170898438,
          221.80386352539062,
          228.57058715820312,
          235.58639526367188,
          242.85302734375,
          250.25616455078125,
          257.7968444824219,
          265.5921630859375,
          273.64373779296875,
          281.83599853515625,
          290.1698913574219,
          298.7637634277344,
          307.6192932128906,
          316.73809814453125,
          326.121826171875,
          335.77203369140625,
          345.6903076171875,
          355.878173828125,
          366.33709716796875,
          377.06854248046875,
          388.0738525390625,
          399.3543701171875,
          410.91131591796875,
          422.8682861328125,
          435.22705078125,
          447.86700439453125,
          460.78900146484375,
          473.993896484375,
          487.60638427734375,
          501.627685546875,
          515.934814453125,
          530.6531372070312,
          545.7833251953125,
          561.326416015625,
          577.28271484375,
          593.6530151367188,
          610.4368896484375,
          636.6382446289062,
          692.5714111328125,
          807.1249389648438
         ],
         "xaxis": "x",
         "y": [
          36.15211215295315,
          40.54355755969704,
          53.8701156815454,
          64.56315873124882,
          80.76825769006204,
          88.11576799613076,
          93.68799771729557,
          103.26085786298242,
          110.17708691141891,
          117.46844664813828,
          111.39875191359515,
          108.12297752465847,
          113.60392834147738,
          108.43147369953246,
          101.56819505912762,
          88.60450865234306,
          86.3758279730207,
          77.68498284566894,
          67.76460998726981,
          42.08705926897613,
          66.10554690944667,
          51.81094087943915,
          48.96905319063842,
          38.43085407969159,
          35.57259535311779,
          36.12663678887664,
          31.939973513058966,
          33.45840243135513,
          28.74276154060867,
          27.456360461472674,
          26.39785954234863,
          24.33361881573387,
          23.27684011059472,
          22.660791088134673,
          22.707323534458745,
          21.25537936538208,
          17.836290612509167,
          19.254895585178055,
          16.99226125011653,
          17.24978514334244,
          16.811950591319427,
          14.914471032222808,
          14.55659509749564,
          14.23867878118,
          14.323405850148188,
          11.682844961895032,
          10.568433567452988,
          11.878873671896796,
          11.749009828042983,
          10.020866210001275,
          9.481372541125655,
          9.40162060938637,
          8.141468504663138,
          7.738340700873456,
          7.463651375978601,
          6.408719156043521,
          6.795960438335632,
          5.843041453786022,
          6.0707567696625375,
          5.580594761240604,
          4.658572215237344,
          4.590611687955352,
          4.122625687254124,
          4.384469305379025,
          3.2308706882452016,
          2.9438909516636325,
          2.9905593861398296,
          2.5901034724779244,
          2.789684360136114,
          1.9291876008132285,
          2.091929547187544,
          1.834839454359953,
          1.640669339635418,
          1.3210705708672923,
          1.4578035262014801,
          1.0908238679269144,
          1.148702271183069,
          0.9364817244073746,
          0.90751409858835,
          0.6832478267877102,
          0.69266892891836,
          0.6917845198749937,
          0.475995189640429,
          0.6622066999162467,
          0.41949961865976515,
          0.41313272521471245,
          0.4154091231699666,
          0.2896452849473834,
          0.3672671789893592,
          0.39160898148025475,
          0.19533150135420657,
          0.17195047162709232,
          0.18556409846138494,
          0.25302166551173755,
          0.08368173278616821,
          0.14332931722653236,
          0.13893816906822226,
          0.10307188037887713,
          0.10337080272661513,
          0.09142537352124488,
          0.09857741441350402,
          0.10918634567837776,
          0.0653781518002992,
          0.056578328839846745,
          0.08481583377567056,
          0.09066290982525231,
          0.05019760842357247,
          0.024490006906322317,
          0.014880876327726153
         ],
         "yaxis": "y"
        },
        {
         "line": {
          "color": "#636EFA",
          "width": 2
         },
         "mode": "lines",
         "name": "nai",
         "showlegend": true,
         "type": "scatter",
         "x": [
          8.497907638549805,
          9.330278396606445,
          10.242151260375977,
          11.239168167114258,
          12.24560546875,
          13.268964767456055,
          14.316703796386719,
          15.394006729125977,
          16.500568389892578,
          17.728870391845703,
          19.077850341796875,
          20.449237823486328,
          21.839725494384766,
          23.249950408935547,
          24.681915283203125,
          26.243572235107422,
          27.941225051879883,
          29.675739288330078,
          31.45012092590332,
          33.57260513305664,
          35.56683349609375,
          37.11849594116211,
          38.70365905761719,
          40.328617095947266,
          42.085880279541016,
          43.977413177490234,
          45.910316467285156,
          47.881874084472656,
          49.99148941040039,
          52.2396240234375,
          54.524139404296875,
          56.8414192199707,
          59.29572677612305,
          61.88549041748047,
          64.50071716308594,
          67.24725341796875,
          70.12135314941406,
          73.00807189941406,
          76.01277160644531,
          79.12902069091797,
          82.23858642578125,
          85.44756317138672,
          88.75515747070312,
          92.05189514160156,
          95.44874572753906,
          98.94696044921875,
          102.43867492675781,
          106.03477478027344,
          109.73724365234375,
          113.54832458496094,
          117.470703125,
          121.50764465332031,
          125.66181945800781,
          129.9350128173828,
          134.32769775390625,
          138.73046875,
          143.25387573242188,
          147.89830017089844,
          152.66473388671875,
          157.66500854492188,
          162.78900146484375,
          168.03768920898438,
          173.41152954101562,
          178.9115447998047,
          184.5382080078125,
          190.29251098632812,
          196.28836059570312,
          202.4136505126953,
          208.66943359375,
          215.17050170898438,
          221.80386352539062,
          228.57058715820312,
          235.58639526367188,
          242.85302734375,
          250.25616455078125,
          257.7968444824219,
          265.5921630859375,
          273.64373779296875,
          281.83599853515625,
          290.1698913574219,
          298.7637634277344,
          307.6192932128906,
          316.73809814453125,
          326.121826171875,
          335.77203369140625,
          345.6903076171875,
          355.878173828125,
          366.33709716796875,
          377.06854248046875,
          388.0738525390625,
          399.3543701171875,
          410.91131591796875,
          422.8682861328125,
          435.22705078125,
          447.86700439453125,
          460.78900146484375,
          473.993896484375,
          487.60638427734375,
          501.627685546875,
          515.934814453125,
          530.6531372070312,
          545.7833251953125,
          561.326416015625,
          577.28271484375,
          593.6530151367188,
          610.4368896484375,
          636.6382446289062,
          692.5714111328125,
          807.1249389648438
         ],
         "xaxis": "x",
         "y": [
          29.717478063201153,
          42.57998326668967,
          58.36132536933865,
          73.65549409523027,
          87.38375123012587,
          100.04930738077239,
          108.56043982569503,
          111.82981674009505,
          113.68177974053712,
          114.09707993191404,
          112.1933998274097,
          108.42605534129653,
          103.6615341221759,
          98.07501737719775,
          92.08493529581501,
          86.0405064797077,
          79.0827470573074,
          71.41200315414144,
          63.505536017918494,
          53.981327764090906,
          46.50316699687987,
          43.07036852131619,
          40.948110657197674,
          39.100836895165486,
          37.05700427888778,
          35.192056169759766,
          33.56267893124758,
          31.828482141124482,
          30.100003533868204,
          28.616368817544725,
          27.30126194366137,
          26.11132233530938,
          24.894526976930734,
          23.67003753460663,
          22.566217019929613,
          21.4983246764096,
          20.424033268748413,
          19.415599146646716,
          18.45927814140711,
          17.551160799205455,
          16.70447630061323,
          15.861059481324776,
          15.041898193587853,
          14.277694222234048,
          13.543581668144306,
          12.846713727781692,
          12.177025562989792,
          11.484607165614387,
          10.805166200049664,
          10.18540397276294,
          9.619231356645122,
          9.071525371017714,
          8.534244464681727,
          8.022734150085919,
          7.529543904373143,
          7.053846573527892,
          6.591882579117205,
          6.157951074884551,
          5.7588006096850615,
          5.3691029958158,
          4.990009037559573,
          4.616680525728916,
          4.256774019766156,
          3.9170270450525977,
          3.6046793099715555,
          3.3160105336094077,
          3.03651962148928,
          2.7677315410775156,
          2.5142359823060496,
          2.2811284871362667,
          2.0738430508091916,
          1.8880178551223634,
          1.715178466099571,
          1.5510051926677713,
          1.4004711905359142,
          1.2647227004088322,
          1.1439606065202372,
          1.0338373514974897,
          0.9340616951239404,
          0.8433536062586792,
          0.7604527070792401,
          0.6869561319235529,
          0.6195289469269026,
          0.5580199610049651,
          0.5008728930855896,
          0.44616272793470557,
          0.3989594140091104,
          0.356993288046412,
          0.32173548528218315,
          0.29034543225126364,
          0.26135257734982514,
          0.2354400073657207,
          0.21108634802817114,
          0.18929469314941094,
          0.16981753570136454,
          0.15196448324869455,
          0.13544942787038874,
          0.12062228360756944,
          0.10779161536218075,
          0.09646011636014001,
          0.08627788743753147,
          0.07737151669834842,
          0.0696968660676781,
          0.06292025722953104,
          0.05681748428074605,
          0.05116033418034713,
          0.04310903508107168,
          0.030685290521465302,
          0.016331797203875797
         ],
         "yaxis": "y"
        },
        {
         "marker": {
          "color": "#636EFA",
          "line": {
           "color": "#636EFA",
           "width": 1.5
          },
          "size": 10,
          "symbol": "cross-thin"
         },
         "mode": "markers",
         "name": "res of nai",
         "showlegend": false,
         "type": "scatter",
         "x": [
          8.497907638549805,
          9.330278396606445,
          10.242151260375977,
          11.239168167114258,
          12.24560546875,
          13.268964767456055,
          14.316703796386719,
          15.394006729125977,
          16.500568389892578,
          17.728870391845703,
          19.077850341796875,
          20.449237823486328,
          21.839725494384766,
          23.249950408935547,
          24.681915283203125,
          26.243572235107422,
          27.941225051879883,
          29.675739288330078,
          31.45012092590332,
          33.57260513305664,
          35.56683349609375,
          37.11849594116211,
          38.70365905761719,
          40.328617095947266,
          42.085880279541016,
          43.977413177490234,
          45.910316467285156,
          47.881874084472656,
          49.99148941040039,
          52.2396240234375,
          54.524139404296875,
          56.8414192199707,
          59.29572677612305,
          61.88549041748047,
          64.50071716308594,
          67.24725341796875,
          70.12135314941406,
          73.00807189941406,
          76.01277160644531,
          79.12902069091797,
          82.23858642578125,
          85.44756317138672,
          88.75515747070312,
          92.05189514160156,
          95.44874572753906,
          98.94696044921875,
          102.43867492675781,
          106.03477478027344,
          109.73724365234375,
          113.54832458496094,
          117.470703125,
          121.50764465332031,
          125.66181945800781,
          129.9350128173828,
          134.32769775390625,
          138.73046875,
          143.25387573242188,
          147.89830017089844,
          152.66473388671875,
          157.66500854492188,
          162.78900146484375,
          168.03768920898438,
          173.41152954101562,
          178.9115447998047,
          184.5382080078125,
          190.29251098632812,
          196.28836059570312,
          202.4136505126953,
          208.66943359375,
          215.17050170898438,
          221.80386352539062,
          228.57058715820312,
          235.58639526367188,
          242.85302734375,
          250.25616455078125,
          257.7968444824219,
          265.5921630859375,
          273.64373779296875,
          281.83599853515625,
          290.1698913574219,
          298.7637634277344,
          307.6192932128906,
          316.73809814453125,
          326.121826171875,
          335.77203369140625,
          345.6903076171875,
          355.878173828125,
          366.33709716796875,
          377.06854248046875,
          388.0738525390625,
          399.3543701171875,
          410.91131591796875,
          422.8682861328125,
          435.22705078125,
          447.86700439453125,
          460.78900146484375,
          473.993896484375,
          487.60638427734375,
          501.627685546875,
          515.934814453125,
          530.6531372070312,
          545.7833251953125,
          561.326416015625,
          577.28271484375,
          593.6530151367188,
          610.4368896484375,
          636.6382446289062,
          692.5714111328125,
          807.1249389648438
         ],
         "xaxis": "x2",
         "y": [
          2.73249441918888,
          -0.7948667967989173,
          -1.6818352230208935,
          -3.10585254442565,
          -2.0498494592227945,
          -3.581485291512381,
          -4.372740314981695,
          -2.4630232888641648,
          -0.9897464002883356,
          1.0191550200192554,
          -0.24852786770340357,
          -0.09703701580939436,
          3.143672979989397,
          3.371428987225239,
          3.2363669744716552,
          1.0039555728022405,
          2.93584906380951,
          2.6753458002803647,
          1.9567649026980392,
          -8.091022430222925,
          8.514575170405458,
          4.328016923112425,
          4.1895568227222215,
          -0.39388416012382804,
          -0.9736834313501566,
          0.6185528349526231,
          -1.1546494274286525,
          1.1548168719706717,
          -1.0871533939749554,
          -0.9554979074531663,
          -0.766421313639212,
          -1.588193152950118,
          -1.5546321206926397,
          -0.9836427438394911,
          0.13731105886552453,
          -0.25362794558704954,
          -2.9354331093400496,
          -0.17907826179529282,
          -1.8118939810429167,
          -0.3727183206197499,
          0.13499239995273896,
          -1.2963320667052085,
          -0.6716419497222049,
          -0.05476580798081178,
          1.1260948173024892,
          -1.8387810308974968,
          -2.6842744210710987,
          0.6455010781746359,
          1.5589184282156385,
          -0.30062153324182544,
          -0.2605793916670152,
          0.6435936113720453,
          -0.8203587982481146,
          -0.624183192917618,
          -0.1485071300084814,
          -1.5523807950341626,
          0.4942928202503711,
          -0.8202463674509487,
          0.8171218540467691,
          0.5955196799209544,
          -1.0082327644416185,
          -0.08206132050340446,
          -0.44478286250508237,
          1.538904296253838,
          -1.3945745099674496,
          -1.4760106057261133,
          -0.18520972426606588,
          -0.7716307024601683,
          1.200327296293874,
          -1.8480206581913017,
          0.09278007482730595,
          -0.2923099831668052,
          -0.43718938330826096,
          -1.5074505485406553,
          0.3612269360361871,
          -1.2684074395380251,
          0.034618913985407486,
          -0.7883460177172855,
          -0.21786450835322457,
          -1.49152126418175,
          -0.6430440364461212,
          0.04665014201434976,
          -1.6503827421744828,
          1.0959476218050648,
          -1.0636767893778154,
          -0.4395352264564726,
          0.22096127348282446,
          -1.055827192522486,
          0.6665649344919499,
          1.4709829045356448,
          -1.249127263366171,
          -1.2296326700604745,
          -0.5110687597342138,
          1.2117193373352715,
          -2.1618418071247585,
          -0.19877136262228867,
          0.08077578132644737,
          -0.45139506853529615,
          -0.11210228679956634,
          -0.13261086530274743,
          0.3308900493996582,
          0.8904509362075453,
          -0.14033735714530093,
          -0.22539247861722334,
          0.9392985616441641,
          1.2962173993044614,
          0.39241117159093863,
          -0.6145549752557065,
          -0.23743461222515982
         ],
         "yaxis": "y2"
        },
        {
         "error_x": {
          "array": [
           17.2078857421875,
           17.194732666015625,
           17.182647705078125,
           17.171615600585938,
           17.161605834960938,
           17.152694702148438,
           22.858154296875,
           22.84661865234375,
           22.837615966796875,
           22.8310546875,
           22.826995849609375,
           22.825439453125,
           22.82635498046875,
           22.829803466796875,
           22.835723876953125,
           22.8441162109375,
           51.442962646484375,
           28.61370849609375,
           114.81005859375,
           338.80523681640625,
           424.86920166015625,
           546.12939453125,
           700.7430419921875,
           925.203857421875,
           1264.62744140625,
           1849.54150390625,
           2949.263671875,
           8513.548828125
          ],
          "arrayminus": [
           17.2078857421875,
           17.194732666015625,
           17.182647705078125,
           17.171615600585938,
           17.161605834960938,
           17.152694702148438,
           22.858154296875,
           22.84661865234375,
           22.837615966796875,
           22.8310546875,
           22.826995849609375,
           22.825439453125,
           22.82635498046875,
           22.829803466796875,
           22.835723876953125,
           22.8441162109375,
           51.442962646484375,
           28.61370849609375,
           114.81005859375,
           338.80523681640625,
           424.86920166015625,
           546.12939453125,
           700.7430419921875,
           925.203857421875,
           1264.62744140625,
           1849.54150390625,
           2949.263671875,
           8513.548828125
          ],
          "color": "#EF553B",
          "symmetric": false,
          "thickness": 1.5,
          "type": "data",
          "width": 0
         },
         "error_y": {
          "array": [
           0.09639717726123058,
           0.09196142456457164,
           0.08492168172587258,
           0.07251422984456385,
           0.07126305356124976,
           0.06721276389420949,
           0.05476591832737302,
           0.04901730632600475,
           0.04268565490220705,
           0.035734703700343665,
           0.03625253409700369,
           0.03453408281293419,
           0.034905381143776684,
           0.035596029397787346,
           0.03135182545305904,
           0.03173768818781654,
           0.022676963154137444,
           0.028649945321806643,
           0.012175849314709514,
           0.006258462975286,
           0.00349594003717996,
           0.0019496399614870237,
           0.0009048583152737268,
           0.0005797401424871358,
           0.00037834845485288184,
           0.00025226149625875164,
           0.00016036153657798626,
           0.00007285854311251023
          ],
          "color": "#EF553B",
          "thickness": 1.5,
          "type": "data",
          "width": 0
         },
         "marker": {
          "color": "#EF553B",
          "size": 0,
          "symbol": "cross-thin"
         },
         "mode": "markers",
         "name": "obs of bgo",
         "showlegend": false,
         "type": "scatter",
         "x": [
          329.1634826660156,
          363.56610107421875,
          397.9434814453125,
          432.2977294921875,
          466.6309814453125,
          500.94525146484375,
          540.9561157226562,
          586.660888671875,
          632.3450927734375,
          678.0137939453125,
          723.671875,
          769.3242797851562,
          814.97607421875,
          860.6322021484375,
          906.2977294921875,
          951.9776000976562,
          1026.2646484375,
          1106.3212890625,
          1249.7451171875,
          1703.3603515625,
          2467.034912109375,
          3438.033447265625,
          4684.90576171875,
          6310.8525390625,
          8500.68359375,
          11614.853515625,
          16413.658203125,
          27876.470703125
         ],
         "xaxis": "x",
         "y": [
          2.1403667851313903,
          1.7312242843886594,
          1.4388003901930446,
          1.0534949171378682,
          1.032358169443393,
          0.7655836711659953,
          0.5667888927502641,
          0.5166560161405107,
          0.3894359956923932,
          0.20041066642701955,
          0.235654583312787,
          0.16192529655058258,
          0.15846051344348933,
          0.16646849405406328,
          0.08528689384288424,
          0.07770947746529316,
          0.08174292622020624,
          0.060378666926085955,
          0.02561855217176362,
          0.004657221209819179,
          0.0024202165123952957,
          0.0023143367328456385,
          0.0004954498981887615,
          0.0002201508171493522,
          -0.0002775374531570284,
          -0.00017283591100578305,
          -0.00013061537925515847,
          -0.0001053625731929186
         ],
         "yaxis": "y"
        },
        {
         "line": {
          "color": "#EF553B",
          "width": 2
         },
         "mode": "lines",
         "name": "bgo",
         "showlegend": true,
         "type": "scatter",
         "x": [
          329.1634826660156,
          363.56610107421875,
          397.9434814453125,
          432.2977294921875,
          466.6309814453125,
          500.94525146484375,
          540.9561157226562,
          586.660888671875,
          632.3450927734375,
          678.0137939453125,
          723.671875,
          769.3242797851562,
          814.97607421875,
          860.6322021484375,
          906.2977294921875,
          951.9776000976562,
          1026.2646484375,
          1106.3212890625,
          1249.7451171875,
          1703.3603515625,
          2467.034912109375,
          3438.033447265625,
          4684.90576171875,
          6310.8525390625,
          8500.68359375,
          11614.853515625,
          16413.658203125,
          27876.470703125
         ],
         "xaxis": "x",
         "y": [
          2.037571145802729,
          1.6087336964776937,
          1.2879318112910554,
          1.050839028282017,
          0.8616566127871454,
          0.7067098969840591,
          0.5724364953563938,
          0.45480778872247013,
          0.3630184807272136,
          0.29415102527541004,
          0.2395879168179972,
          0.19618150571985615,
          0.16179231684246195,
          0.13437481142623456,
          0.11171712477511145,
          0.09339504946877361,
          0.07106937862472895,
          0.05243283900306078,
          0.032384304064802194,
          0.008750137375032803,
          0.000999605077876671,
          0.00008590061504166495,
          0.000004591510784879118,
          1.318287362930085e-7,
          1.4564189366716298e-9,
          3.703002397774496e-12,
          8.141603748066983e-16,
          1.1518822686728982e-21
         ],
         "yaxis": "y"
        },
        {
         "marker": {
          "color": "#EF553B",
          "line": {
           "color": "#EF553B",
           "width": 1.5
          },
          "size": 10,
          "symbol": "cross-thin"
         },
         "mode": "markers",
         "name": "res of bgo",
         "showlegend": false,
         "type": "scatter",
         "x": [
          329.1634826660156,
          363.56610107421875,
          397.9434814453125,
          432.2977294921875,
          466.6309814453125,
          500.94525146484375,
          540.9561157226562,
          586.660888671875,
          632.3450927734375,
          678.0137939453125,
          723.671875,
          769.3242797851562,
          814.97607421875,
          860.6322021484375,
          906.2977294921875,
          951.9776000976562,
          1026.2646484375,
          1106.3212890625,
          1249.7451171875,
          1703.3603515625,
          2467.034912109375,
          3438.033447265625,
          4684.90576171875,
          6310.8525390625,
          8500.68359375,
          11614.853515625,
          16413.658203125,
          27876.470703125
         ],
         "xaxis": "x2",
         "y": [
          1.0663760314276787,
          1.3319779297781287,
          1.7765613661419637,
          0.03662576106157627,
          2.3953724703858157,
          0.8759314566293022,
          -0.10312257656979623,
          1.261763080302696,
          0.6188850803789276,
          -2.6232303375021124,
          -0.1084981671815133,
          -0.9919536405479243,
          -0.09545242853097044,
          0.9016084987789021,
          -0.8430204796782694,
          -0.49422541146213106,
          0.4706779970019875,
          0.2773418180654355,
          -0.5556698114574184,
          -0.6539810463649162,
          0.40636035498611617,
          1.1429987904558065,
          0.5424698862997063,
          0.37951311680636524,
          -0.7335537016634154,
          -0.6851458398213212,
          -0.8145056604172184,
          -1.4461251720366508
         ],
         "yaxis": "y2"
        }
       ],
       "layout": {
        "height": 700,
        "legend": {
         "x": 1,
         "xanchor": "right",
         "y": 1,
         "yanchor": "bottom"
        },
        "template": {
         "data": {
          "bar": [
           {
            "error_x": {
             "color": "#2a3f5f"
            },
            "error_y": {
             "color": "#2a3f5f"
            },
            "marker": {
             "line": {
              "color": "white",
              "width": 0.5
             },
             "pattern": {
              "fillmode": "overlay",
              "size": 10,
              "solidity": 0.2
             }
            },
            "type": "bar"
           }
          ],
          "barpolar": [
           {
            "marker": {
             "line": {
              "color": "white",
              "width": 0.5
             },
             "pattern": {
              "fillmode": "overlay",
              "size": 10,
              "solidity": 0.2
             }
            },
            "type": "barpolar"
           }
          ],
          "carpet": [
           {
            "aaxis": {
             "endlinecolor": "#2a3f5f",
             "gridcolor": "#C8D4E3",
             "linecolor": "#C8D4E3",
             "minorgridcolor": "#C8D4E3",
             "startlinecolor": "#2a3f5f"
            },
            "baxis": {
             "endlinecolor": "#2a3f5f",
             "gridcolor": "#C8D4E3",
             "linecolor": "#C8D4E3",
             "minorgridcolor": "#C8D4E3",
             "startlinecolor": "#2a3f5f"
            },
            "type": "carpet"
           }
          ],
          "choropleth": [
           {
            "colorbar": {
             "outlinewidth": 0,
             "ticks": ""
            },
            "type": "choropleth"
           }
          ],
          "contour": [
           {
            "colorbar": {
             "outlinewidth": 0,
             "ticks": ""
            },
            "colorscale": [
             [
              0,
              "#0d0887"
             ],
             [
              0.1111111111111111,
              "#46039f"
             ],
             [
              0.2222222222222222,
              "#7201a8"
             ],
             [
              0.3333333333333333,
              "#9c179e"
             ],
             [
              0.4444444444444444,
              "#bd3786"
             ],
             [
              0.5555555555555556,
              "#d8576b"
             ],
             [
              0.6666666666666666,
              "#ed7953"
             ],
             [
              0.7777777777777778,
              "#fb9f3a"
             ],
             [
              0.8888888888888888,
              "#fdca26"
             ],
             [
              1,
              "#f0f921"
             ]
            ],
            "type": "contour"
           }
          ],
          "contourcarpet": [
           {
            "colorbar": {
             "outlinewidth": 0,
             "ticks": ""
            },
            "type": "contourcarpet"
           }
          ],
          "heatmap": [
           {
            "colorbar": {
             "outlinewidth": 0,
             "ticks": ""
            },
            "colorscale": [
             [
              0,
              "#0d0887"
             ],
             [
              0.1111111111111111,
              "#46039f"
             ],
             [
              0.2222222222222222,
              "#7201a8"
             ],
             [
              0.3333333333333333,
              "#9c179e"
             ],
             [
              0.4444444444444444,
              "#bd3786"
             ],
             [
              0.5555555555555556,
              "#d8576b"
             ],
             [
              0.6666666666666666,
              "#ed7953"
             ],
             [
              0.7777777777777778,
              "#fb9f3a"
             ],
             [
              0.8888888888888888,
              "#fdca26"
             ],
             [
              1,
              "#f0f921"
             ]
            ],
            "type": "heatmap"
           }
          ],
          "heatmapgl": [
           {
            "colorbar": {
             "outlinewidth": 0,
             "ticks": ""
            },
            "colorscale": [
             [
              0,
              "#0d0887"
             ],
             [
              0.1111111111111111,
              "#46039f"
             ],
             [
              0.2222222222222222,
              "#7201a8"
             ],
             [
              0.3333333333333333,
              "#9c179e"
             ],
             [
              0.4444444444444444,
              "#bd3786"
             ],
             [
              0.5555555555555556,
              "#d8576b"
             ],
             [
              0.6666666666666666,
              "#ed7953"
             ],
             [
              0.7777777777777778,
              "#fb9f3a"
             ],
             [
              0.8888888888888888,
              "#fdca26"
             ],
             [
              1,
              "#f0f921"
             ]
            ],
            "type": "heatmapgl"
           }
          ],
          "histogram": [
           {
            "marker": {
             "pattern": {
              "fillmode": "overlay",
              "size": 10,
              "solidity": 0.2
             }
            },
            "type": "histogram"
           }
          ],
          "histogram2d": [
           {
            "colorbar": {
             "outlinewidth": 0,
             "ticks": ""
            },
            "colorscale": [
             [
              0,
              "#0d0887"
             ],
             [
              0.1111111111111111,
              "#46039f"
             ],
             [
              0.2222222222222222,
              "#7201a8"
             ],
             [
              0.3333333333333333,
              "#9c179e"
             ],
             [
              0.4444444444444444,
              "#bd3786"
             ],
             [
              0.5555555555555556,
              "#d8576b"
             ],
             [
              0.6666666666666666,
              "#ed7953"
             ],
             [
              0.7777777777777778,
              "#fb9f3a"
             ],
             [
              0.8888888888888888,
              "#fdca26"
             ],
             [
              1,
              "#f0f921"
             ]
            ],
            "type": "histogram2d"
           }
          ],
          "histogram2dcontour": [
           {
            "colorbar": {
             "outlinewidth": 0,
             "ticks": ""
            },
            "colorscale": [
             [
              0,
              "#0d0887"
             ],
             [
              0.1111111111111111,
              "#46039f"
             ],
             [
              0.2222222222222222,
              "#7201a8"
             ],
             [
              0.3333333333333333,
              "#9c179e"
             ],
             [
              0.4444444444444444,
              "#bd3786"
             ],
             [
              0.5555555555555556,
              "#d8576b"
             ],
             [
              0.6666666666666666,
              "#ed7953"
             ],
             [
              0.7777777777777778,
              "#fb9f3a"
             ],
             [
              0.8888888888888888,
              "#fdca26"
             ],
             [
              1,
              "#f0f921"
             ]
            ],
            "type": "histogram2dcontour"
           }
          ],
          "mesh3d": [
           {
            "colorbar": {
             "outlinewidth": 0,
             "ticks": ""
            },
            "type": "mesh3d"
           }
          ],
          "parcoords": [
           {
            "line": {
             "colorbar": {
              "outlinewidth": 0,
              "ticks": ""
             }
            },
            "type": "parcoords"
           }
          ],
          "pie": [
           {
            "automargin": true,
            "type": "pie"
           }
          ],
          "scatter": [
           {
            "fillpattern": {
             "fillmode": "overlay",
             "size": 10,
             "solidity": 0.2
            },
            "type": "scatter"
           }
          ],
          "scatter3d": [
           {
            "line": {
             "colorbar": {
              "outlinewidth": 0,
              "ticks": ""
             }
            },
            "marker": {
             "colorbar": {
              "outlinewidth": 0,
              "ticks": ""
             }
            },
            "type": "scatter3d"
           }
          ],
          "scattercarpet": [
           {
            "marker": {
             "colorbar": {
              "outlinewidth": 0,
              "ticks": ""
             }
            },
            "type": "scattercarpet"
           }
          ],
          "scattergeo": [
           {
            "marker": {
             "colorbar": {
              "outlinewidth": 0,
              "ticks": ""
             }
            },
            "type": "scattergeo"
           }
          ],
          "scattergl": [
           {
            "marker": {
             "colorbar": {
              "outlinewidth": 0,
              "ticks": ""
             }
            },
            "type": "scattergl"
           }
          ],
          "scattermapbox": [
           {
            "marker": {
             "colorbar": {
              "outlinewidth": 0,
              "ticks": ""
             }
            },
            "type": "scattermapbox"
           }
          ],
          "scatterpolar": [
           {
            "marker": {
             "colorbar": {
              "outlinewidth": 0,
              "ticks": ""
             }
            },
            "type": "scatterpolar"
           }
          ],
          "scatterpolargl": [
           {
            "marker": {
             "colorbar": {
              "outlinewidth": 0,
              "ticks": ""
             }
            },
            "type": "scatterpolargl"
           }
          ],
          "scatterternary": [
           {
            "marker": {
             "colorbar": {
              "outlinewidth": 0,
              "ticks": ""
             }
            },
            "type": "scatterternary"
           }
          ],
          "surface": [
           {
            "colorbar": {
             "outlinewidth": 0,
             "ticks": ""
            },
            "colorscale": [
             [
              0,
              "#0d0887"
             ],
             [
              0.1111111111111111,
              "#46039f"
             ],
             [
              0.2222222222222222,
              "#7201a8"
             ],
             [
              0.3333333333333333,
              "#9c179e"
             ],
             [
              0.4444444444444444,
              "#bd3786"
             ],
             [
              0.5555555555555556,
              "#d8576b"
             ],
             [
              0.6666666666666666,
              "#ed7953"
             ],
             [
              0.7777777777777778,
              "#fb9f3a"
             ],
             [
              0.8888888888888888,
              "#fdca26"
             ],
             [
              1,
              "#f0f921"
             ]
            ],
            "type": "surface"
           }
          ],
          "table": [
           {
            "cells": {
             "fill": {
              "color": "#EBF0F8"
             },
             "line": {
              "color": "white"
             }
            },
            "header": {
             "fill": {
              "color": "#C8D4E3"
             },
             "line": {
              "color": "white"
             }
            },
            "type": "table"
           }
          ]
         },
         "layout": {
          "annotationdefaults": {
           "arrowcolor": "#2a3f5f",
           "arrowhead": 0,
           "arrowwidth": 1
          },
          "autotypenumbers": "strict",
          "coloraxis": {
           "colorbar": {
            "outlinewidth": 0,
            "ticks": ""
           }
          },
          "colorscale": {
           "diverging": [
            [
             0,
             "#8e0152"
            ],
            [
             0.1,
             "#c51b7d"
            ],
            [
             0.2,
             "#de77ae"
            ],
            [
             0.3,
             "#f1b6da"
            ],
            [
             0.4,
             "#fde0ef"
            ],
            [
             0.5,
             "#f7f7f7"
            ],
            [
             0.6,
             "#e6f5d0"
            ],
            [
             0.7,
             "#b8e186"
            ],
            [
             0.8,
             "#7fbc41"
            ],
            [
             0.9,
             "#4d9221"
            ],
            [
             1,
             "#276419"
            ]
           ],
           "sequential": [
            [
             0,
             "#0d0887"
            ],
            [
             0.1111111111111111,
             "#46039f"
            ],
            [
             0.2222222222222222,
             "#7201a8"
            ],
            [
             0.3333333333333333,
             "#9c179e"
            ],
            [
             0.4444444444444444,
             "#bd3786"
            ],
            [
             0.5555555555555556,
             "#d8576b"
            ],
            [
             0.6666666666666666,
             "#ed7953"
            ],
            [
             0.7777777777777778,
             "#fb9f3a"
            ],
            [
             0.8888888888888888,
             "#fdca26"
            ],
            [
             1,
             "#f0f921"
            ]
           ],
           "sequentialminus": [
            [
             0,
             "#0d0887"
            ],
            [
             0.1111111111111111,
             "#46039f"
            ],
            [
             0.2222222222222222,
             "#7201a8"
            ],
            [
             0.3333333333333333,
             "#9c179e"
            ],
            [
             0.4444444444444444,
             "#bd3786"
            ],
            [
             0.5555555555555556,
             "#d8576b"
            ],
            [
             0.6666666666666666,
             "#ed7953"
            ],
            [
             0.7777777777777778,
             "#fb9f3a"
            ],
            [
             0.8888888888888888,
             "#fdca26"
            ],
            [
             1,
             "#f0f921"
            ]
           ]
          },
          "colorway": [
           "#636efa",
           "#EF553B",
           "#00cc96",
           "#ab63fa",
           "#FFA15A",
           "#19d3f3",
           "#FF6692",
           "#B6E880",
           "#FF97FF",
           "#FECB52"
          ],
          "font": {
           "color": "#2a3f5f"
          },
          "geo": {
           "bgcolor": "white",
           "lakecolor": "white",
           "landcolor": "white",
           "showlakes": true,
           "showland": true,
           "subunitcolor": "#C8D4E3"
          },
          "hoverlabel": {
           "align": "left"
          },
          "hovermode": "closest",
          "mapbox": {
           "style": "light"
          },
          "paper_bgcolor": "white",
          "plot_bgcolor": "white",
          "polar": {
           "angularaxis": {
            "gridcolor": "#EBF0F8",
            "linecolor": "#EBF0F8",
            "ticks": ""
           },
           "bgcolor": "white",
           "radialaxis": {
            "gridcolor": "#EBF0F8",
            "linecolor": "#EBF0F8",
            "ticks": ""
           }
          },
          "scene": {
           "xaxis": {
            "backgroundcolor": "white",
            "gridcolor": "#DFE8F3",
            "gridwidth": 2,
            "linecolor": "#EBF0F8",
            "showbackground": true,
            "ticks": "",
            "zerolinecolor": "#EBF0F8"
           },
           "yaxis": {
            "backgroundcolor": "white",
            "gridcolor": "#DFE8F3",
            "gridwidth": 2,
            "linecolor": "#EBF0F8",
            "showbackground": true,
            "ticks": "",
            "zerolinecolor": "#EBF0F8"
           },
           "zaxis": {
            "backgroundcolor": "white",
            "gridcolor": "#DFE8F3",
            "gridwidth": 2,
            "linecolor": "#EBF0F8",
            "showbackground": true,
            "ticks": "",
            "zerolinecolor": "#EBF0F8"
           }
          },
          "shapedefaults": {
           "line": {
            "color": "#2a3f5f"
           }
          },
          "ternary": {
           "aaxis": {
            "gridcolor": "#DFE8F3",
            "linecolor": "#A2B1C6",
            "ticks": ""
           },
           "baxis": {
            "gridcolor": "#DFE8F3",
            "linecolor": "#A2B1C6",
            "ticks": ""
           },
           "bgcolor": "white",
           "caxis": {
            "gridcolor": "#DFE8F3",
            "linecolor": "#A2B1C6",
            "ticks": ""
           }
          },
          "title": {
           "x": 0.05
          },
          "xaxis": {
           "automargin": true,
           "gridcolor": "#EBF0F8",
           "linecolor": "#EBF0F8",
           "ticks": "",
           "title": {
            "standoff": 15
           },
           "zerolinecolor": "#EBF0F8",
           "zerolinewidth": 2
          },
          "yaxis": {
           "automargin": true,
           "gridcolor": "#EBF0F8",
           "linecolor": "#EBF0F8",
           "ticks": "",
           "title": {
            "standoff": 15
           },
           "zerolinecolor": "#EBF0F8",
           "zerolinewidth": 2
          }
         }
        },
        "width": 600,
        "xaxis": {
         "anchor": "y",
         "domain": [
          0,
          1
         ],
         "matches": "x2",
         "showticklabels": false,
         "title": {
          "text": ""
         },
         "type": "log"
        },
        "xaxis2": {
         "anchor": "y2",
         "domain": [
          0,
          1
         ],
         "title": {
          "text": "Energy (keV)"
         },
         "type": "log"
        },
        "yaxis": {
         "anchor": "x",
         "domain": [
          0.265,
          1
         ],
         "range": [
          -3.958309693863913,
          2.3709512215322928
         ],
         "title": {
          "text": "Counts/s/keV"
         },
         "type": "log"
        },
        "yaxis2": {
         "anchor": "x2",
         "domain": [
          0,
          0.245
         ],
         "range": [
          -3.5,
          3.5
         ],
         "showgrid": false,
         "title": {
          "text": "Sigma"
         }
        }
       }
      }
     },
     "metadata": {},
     "output_type": "display_data"
    }
   ],
   "source": [
    "fig = Plot.infer(post, style='CE', show=True)\n",
    "fig.write_html('quickstart/ctsspec.html')"
   ]
  },
  {
   "cell_type": "code",
   "execution_count": 8,
   "id": "0ea80bfc",
   "metadata": {},
   "outputs": [
    {
     "data": {
      "application/vnd.plotly.v1+json": {
       "config": {
        "plotlyServerURL": "https://plot.ly"
       },
       "data": [
        {
         "error_x": {
          "array": [
           0.4175887107849121,
           0.4147825241088867,
           0.49709081649780273,
           0.4999260902404785,
           0.5065112113952637,
           0.5168476104736328,
           0.530890941619873,
           0.5464119911193848,
           0.5601511001586914,
           0.6681509017944336,
           0.6808290481567383,
           0.6905584335327148,
           0.6999292373657227,
           0.7102947235107422,
           0.7216701507568359,
           0.8399868011474609,
           0.857666015625,
           0.8768472671508789,
           0.8975353240966797,
           1.2249488830566406,
           0.7692794799804688,
           0.7823829650878906,
           0.8027782440185547,
           0.8221817016601562,
           0.9350814819335938,
           0.956451416015625,
           0.9764537811279297,
           0.9951000213623047,
           1.1145172119140625,
           1.133615493774414,
           1.1509017944335938,
           1.1663780212402344,
           1.2879295349121094,
           1.3018360137939453,
           1.3133907318115234,
           1.4331436157226562,
           1.4409561157226562,
           1.4457664489746094,
           1.5589332580566406,
           1.55731201171875,
           1.5522575378417969,
           1.6567153930664062,
           1.6508750915527344,
           1.6458625793457031,
           1.7509880065917969,
           1.7472343444824219,
           1.7444801330566406,
           1.8516197204589844,
           1.8508491516113281,
           1.9602279663085938,
           1.9621467590332031,
           2.0747947692871094,
           2.079387664794922,
           2.1938018798828125,
           2.1988754272460938,
           2.2039108276367188,
           2.3194808959960938,
           2.324951171875,
           2.4414901733398438,
           2.5587844848632812,
           2.5651931762695312,
           2.6834945678710938,
           2.6903457641601562,
           2.8096771240234375,
           2.8169784545898438,
           2.9373397827148438,
           3.0585098266601562,
           3.0667724609375,
           3.1890029907226562,
           3.31207275390625,
           3.3212966918945312,
           3.4454193115234375,
           3.5703964233398438,
           3.69622802734375,
           3.7069015502929688,
           3.8337936401367188,
           3.9615020751953125,
           4.0901031494140625,
           4.1021575927734375,
           4.231719970703125,
           4.362152099609375,
           4.493377685546875,
           4.62542724609375,
           4.7582855224609375,
           4.891937255859375,
           5.0263519287109375,
           5.1615142822265625,
           5.2974090576171875,
           5.4340057373046875,
           5.5713043212890625,
           5.7092132568359375,
           5.847747802734375,
           6.109222412109375,
           6.2495574951171875,
           6.390380859375,
           6.5316314697265625,
           6.6732330322265625,
           6.9392547607421875,
           7.0820770263671875,
           7.225067138671875,
           7.49322509765625,
           7.636932373046875,
           7.906158447265625,
           8.050201416015625,
           8.320068359375,
           8.463836669921875,
           17.73748779296875,
           38.195648193359375,
           76.35791015625
          ],
          "arrayminus": [
           0.4175887107849121,
           0.4147825241088867,
           0.49709081649780273,
           0.4999260902404785,
           0.5065112113952637,
           0.5168476104736328,
           0.530890941619873,
           0.5464119911193848,
           0.5601511001586914,
           0.6681509017944336,
           0.6808290481567383,
           0.6905584335327148,
           0.6999292373657227,
           0.7102947235107422,
           0.7216701507568359,
           0.8399868011474609,
           0.857666015625,
           0.8768472671508789,
           0.8975353240966797,
           1.2249488830566406,
           0.7692794799804688,
           0.7823829650878906,
           0.8027782440185547,
           0.8221817016601562,
           0.9350814819335938,
           0.956451416015625,
           0.9764537811279297,
           0.9951000213623047,
           1.1145172119140625,
           1.133615493774414,
           1.1509017944335938,
           1.1663780212402344,
           1.2879295349121094,
           1.3018360137939453,
           1.3133907318115234,
           1.4331436157226562,
           1.4409561157226562,
           1.4457664489746094,
           1.5589332580566406,
           1.55731201171875,
           1.5522575378417969,
           1.6567153930664062,
           1.6508750915527344,
           1.6458625793457031,
           1.7509880065917969,
           1.7472343444824219,
           1.7444801330566406,
           1.8516197204589844,
           1.8508491516113281,
           1.9602279663085938,
           1.9621467590332031,
           2.0747947692871094,
           2.079387664794922,
           2.1938018798828125,
           2.1988754272460938,
           2.2039108276367188,
           2.3194808959960938,
           2.324951171875,
           2.4414901733398438,
           2.5587844848632812,
           2.5651931762695312,
           2.6834945678710938,
           2.6903457641601562,
           2.8096771240234375,
           2.8169784545898438,
           2.9373397827148438,
           3.0585098266601562,
           3.0667724609375,
           3.1890029907226562,
           3.31207275390625,
           3.3212966918945312,
           3.4454193115234375,
           3.5703964233398438,
           3.69622802734375,
           3.7069015502929688,
           3.8337936401367188,
           3.9615020751953125,
           4.0901031494140625,
           4.1021575927734375,
           4.231719970703125,
           4.362152099609375,
           4.493377685546875,
           4.62542724609375,
           4.7582855224609375,
           4.891937255859375,
           5.0263519287109375,
           5.1615142822265625,
           5.2974090576171875,
           5.4340057373046875,
           5.5713043212890625,
           5.7092132568359375,
           5.847747802734375,
           6.109222412109375,
           6.2495574951171875,
           6.390380859375,
           6.5316314697265625,
           6.6732330322265625,
           6.9392547607421875,
           7.0820770263671875,
           7.225067138671875,
           7.49322509765625,
           7.636932373046875,
           7.906158447265625,
           8.050201416015625,
           8.320068359375,
           8.463836669921875,
           17.73748779296875,
           38.195648193359375,
           76.35791015625
          ],
          "color": "#636EFA",
          "symmetric": false,
          "thickness": 1.5,
          "type": "data",
          "width": 0
         },
         "error_y": {
          "array": [
           0.6207719296874378,
           0.4066461767474775,
           0.266830249158192,
           0.2000629521387645,
           0.162260536570113,
           0.12880676510497202,
           0.10737831545686628,
           0.09499202067933916,
           0.08514255290467472,
           0.07066502070319888,
           0.06177314594519732,
           0.055865197517709526,
           0.053239325518915255,
           0.04942372974671872,
           0.04560282298785487,
           0.038527999411134065,
           0.03684190301515495,
           0.03492796840057561,
           0.03317763175079741,
           0.02370196640429024,
           0.039214139235752454,
           0.03463433994754765,
           0.032246497957743855,
           0.02804313770491981,
           0.024722385339750783,
           0.023994842439373703,
           0.021795210654709643,
           0.02152744494752349,
           0.01874281239256216,
           0.017816254983783225,
           0.016879821449314863,
           0.01563051081577956,
           0.01419565612532253,
           0.013697979493191645,
           0.013417764563925016,
           0.012231501372828359,
           0.011034180771353295,
           0.011029010667844473,
           0.009767139974204607,
           0.009573733384480877,
           0.009266509604346395,
           0.008376320487803937,
           0.00818117589914659,
           0.00797346622145137,
           0.007667813234003129,
           0.0069349743096470745,
           0.00651504741667446,
           0.006622492178050725,
           0.006563315491854362,
           0.005921147636542535,
           0.005701330876998059,
           0.005514018097755827,
           0.005147636218118135,
           0.004902780982001761,
           0.0047866042987479655,
           0.004509683763253778,
           0.004518035612966163,
           0.004238280286660863,
           0.004247315588300648,
           0.003988764379639653,
           0.003739741515196784,
           0.003677686852356282,
           0.003565807807921189,
           0.003675381066666343,
           0.0033196186953140193,
           0.003197360634264212,
           0.0032344113429910635,
           0.0030985173356834015,
           0.0032012147301530842,
           0.0027543337990458463,
           0.002917749134768386,
           0.00281464220425433,
           0.0027292169253245735,
           0.002538072588584766,
           0.002748946271929035,
           0.002471941960468828,
           0.0025649628650600085,
           0.0024025233795800403,
           0.002464131229398406,
           0.0022584490057768474,
           0.002309062418655647,
           0.0023549176604716403,
           0.002057599874481585,
           0.0023404533051618335,
           0.0019657697225680957,
           0.0020298660765464766,
           0.0021048552493965833,
           0.001885634698520614,
           0.0020953478952481517,
           0.0021874610570688027,
           0.0017434885316963446,
           0.001766104935074852,
           0.0017778275323674922,
           0.0019462245270317263,
           0.001531649129280507,
           0.001738616590270528,
           0.0018061940990799993,
           0.0016989462237247935,
           0.0017927340590515035,
           0.001792671940783601,
           0.0018223185637024633,
           0.0018124705996419316,
           0.0016068308313255566,
           0.0015077578101243873,
           0.0016375820489460313,
           0.0017201895869156576,
           0.0010741632235730324,
           0.0006586784033147263,
           0.00046748292808488685
          ],
          "color": "#636EFA",
          "thickness": 1.5,
          "type": "data",
          "width": 0
         },
         "marker": {
          "color": "#636EFA",
          "size": 0,
          "symbol": "cross-thin"
         },
         "mode": "markers",
         "name": "obs of nai",
         "showlegend": false,
         "type": "scatter",
         "x": [
          8.497907638549805,
          9.330278396606445,
          10.242151260375977,
          11.239168167114258,
          12.24560546875,
          13.268964767456055,
          14.316703796386719,
          15.394006729125977,
          16.500568389892578,
          17.728870391845703,
          19.077850341796875,
          20.449237823486328,
          21.839725494384766,
          23.249950408935547,
          24.681915283203125,
          26.243572235107422,
          27.941225051879883,
          29.675739288330078,
          31.45012092590332,
          33.57260513305664,
          35.56683349609375,
          37.11849594116211,
          38.70365905761719,
          40.328617095947266,
          42.085880279541016,
          43.977413177490234,
          45.910316467285156,
          47.881874084472656,
          49.99148941040039,
          52.2396240234375,
          54.524139404296875,
          56.8414192199707,
          59.29572677612305,
          61.88549041748047,
          64.50071716308594,
          67.24725341796875,
          70.12135314941406,
          73.00807189941406,
          76.01277160644531,
          79.12902069091797,
          82.23858642578125,
          85.44756317138672,
          88.75515747070312,
          92.05189514160156,
          95.44874572753906,
          98.94696044921875,
          102.43867492675781,
          106.03477478027344,
          109.73724365234375,
          113.54832458496094,
          117.470703125,
          121.50764465332031,
          125.66181945800781,
          129.9350128173828,
          134.32769775390625,
          138.73046875,
          143.25387573242188,
          147.89830017089844,
          152.66473388671875,
          157.66500854492188,
          162.78900146484375,
          168.03768920898438,
          173.41152954101562,
          178.9115447998047,
          184.5382080078125,
          190.29251098632812,
          196.28836059570312,
          202.4136505126953,
          208.66943359375,
          215.17050170898438,
          221.80386352539062,
          228.57058715820312,
          235.58639526367188,
          242.85302734375,
          250.25616455078125,
          257.7968444824219,
          265.5921630859375,
          273.64373779296875,
          281.83599853515625,
          290.1698913574219,
          298.7637634277344,
          307.6192932128906,
          316.73809814453125,
          326.121826171875,
          335.77203369140625,
          345.6903076171875,
          355.878173828125,
          366.33709716796875,
          377.06854248046875,
          388.0738525390625,
          399.3543701171875,
          410.91131591796875,
          422.8682861328125,
          435.22705078125,
          447.86700439453125,
          460.78900146484375,
          473.993896484375,
          487.60638427734375,
          501.627685546875,
          515.934814453125,
          530.6531372070312,
          545.7833251953125,
          561.326416015625,
          577.28271484375,
          593.6530151367188,
          610.4368896484375,
          636.6382446289062,
          692.5714111328125,
          807.1249389648438
         ],
         "xaxis": "x",
         "y": [
          9.530181557489577,
          6.435233838779153,
          5.382736018641231,
          4.412216658432441,
          4.060816268325839,
          3.406325967419707,
          2.957821376784854,
          2.8194429709008535,
          2.649182784850116,
          2.509342657678053,
          2.15218891724458,
          1.9339383152344025,
          1.9123715638280483,
          1.7445913512817952,
          1.580700449195812,
          1.3366828811783007,
          1.2810231273005883,
          1.157221363482473,
          1.0329321450018991,
          0.6785762057738975,
          1.1259906160797084,
          0.8885410000029568,
          0.8247967548270804,
          0.6335946383624446,
          0.5768596290323488,
          0.573727234923423,
          0.4953430578804586,
          0.5103221771356216,
          0.4315158850269008,
          0.4029285213853099,
          0.37802706569727035,
          0.33980037903153626,
          0.3175504049326542,
          0.3025322952928498,
          0.29648625659432604,
          0.27141710354036014,
          0.22325219531305424,
          0.2366437797471273,
          0.20498225016277952,
          0.20423849000637004,
          0.19567665516919114,
          0.1710866820831398,
          0.16481634690426614,
          0.159363856159955,
          0.15859740799801184,
          0.12800280049669074,
          0.11489713837825018,
          0.12879642406100636,
          0.1273643520984128,
          0.10840907810903544,
          0.1021769607223956,
          0.10107491243058021,
          0.08753254111016724,
          0.08326889883097507,
          0.0805174486115956,
          0.06954566922085481,
          0.07436847985525909,
          0.06450405661553209,
          0.06753837771150287,
          0.06267892299905728,
          0.052997388243334505,
          0.05314496642427251,
          0.048741018875248676,
          0.053052157046102,
          0.04001291457890037,
          0.03733535593941274,
          0.03897886810624528,
          0.034863336706098494,
          0.0389161024060488,
          0.02790153725666208,
          0.0313108801443451,
          0.028387662996826536,
          0.026273580009093543,
          0.02198207887875388,
          0.025249090591966197,
          0.019667765248116018,
          0.021511523262297178,
          0.018218925028114483,
          0.018351792547349758,
          0.014375103755903467,
          0.01517316996727818,
          0.01573973364829379,
          0.011261444702798013,
          0.016303126757889717,
          0.010779338307580807,
          0.011159431256923345,
          0.01174508611827658,
          0.008562333592232284,
          0.011265926588217923,
          0.012443640455973437,
          0.0064434056330041544,
          0.005881567932163537,
          0.006606082104520473,
          0.00936331004613802,
          0.00321684516546867,
          0.0057361694813021806,
          0.005810297961600794,
          0.004503908331456496,
          0.004699223719905619,
          0.00431687407457948,
          0.004832779938970701,
          0.005538851267114319,
          0.003413670645094256,
          0.0030317946894748127,
          0.004659627842399718,
          0.005117506480933838,
          0.0029849415499376693,
          0.0016001543548139284,
          0.0011383991487883235
         ],
         "yaxis": "y"
        },
        {
         "line": {
          "color": "#636EFA",
          "width": 2
         },
         "mode": "lines",
         "name": "nai",
         "showlegend": true,
         "type": "scatter",
         "x": [
          8.497907638549805,
          9.330278396606445,
          10.242151260375977,
          11.239168167114258,
          12.24560546875,
          13.268964767456055,
          14.316703796386719,
          15.394006729125977,
          16.500568389892578,
          17.728870391845703,
          19.077850341796875,
          20.449237823486328,
          21.839725494384766,
          23.249950408935547,
          24.681915283203125,
          26.243572235107422,
          27.941225051879883,
          29.675739288330078,
          31.45012092590332,
          33.57260513305664,
          35.56683349609375,
          37.11849594116211,
          38.70365905761719,
          40.328617095947266,
          42.085880279541016,
          43.977413177490234,
          45.910316467285156,
          47.881874084472656,
          49.99148941040039,
          52.2396240234375,
          54.524139404296875,
          56.8414192199707,
          59.29572677612305,
          61.88549041748047,
          64.50071716308594,
          67.24725341796875,
          70.12135314941406,
          73.00807189941406,
          76.01277160644531,
          79.12902069091797,
          82.23858642578125,
          85.44756317138672,
          88.75515747070312,
          92.05189514160156,
          95.44874572753906,
          98.94696044921875,
          102.43867492675781,
          106.03477478027344,
          109.73724365234375,
          113.54832458496094,
          117.470703125,
          121.50764465332031,
          125.66181945800781,
          129.9350128173828,
          134.32769775390625,
          138.73046875,
          143.25387573242188,
          147.89830017089844,
          152.66473388671875,
          157.66500854492188,
          162.78900146484375,
          168.03768920898438,
          173.41152954101562,
          178.9115447998047,
          184.5382080078125,
          190.29251098632812,
          196.28836059570312,
          202.4136505126953,
          208.66943359375,
          215.17050170898438,
          221.80386352539062,
          228.57058715820312,
          235.58639526367188,
          242.85302734375,
          250.25616455078125,
          257.7968444824219,
          265.5921630859375,
          273.64373779296875,
          281.83599853515625,
          290.1698913574219,
          298.7637634277344,
          307.6192932128906,
          316.73809814453125,
          326.121826171875,
          335.77203369140625,
          345.6903076171875,
          355.878173828125,
          366.33709716796875,
          377.06854248046875,
          388.0738525390625,
          399.3543701171875,
          410.91131591796875,
          422.8682861328125,
          435.22705078125,
          447.86700439453125,
          460.78900146484375,
          473.993896484375,
          487.60638427734375,
          501.627685546875,
          515.934814453125,
          530.6531372070312,
          545.7833251953125,
          561.326416015625,
          577.28271484375,
          593.6530151367188,
          610.4368896484375,
          636.6382446289062,
          692.5714111328125,
          807.1249389648438
         ],
         "xaxis": "x",
         "y": [
          7.833925724029541,
          6.758463382720947,
          5.83150053024292,
          5.03358268737793,
          4.393425941467285,
          3.867645502090454,
          3.427358865737915,
          3.053410530090332,
          2.733452320098877,
          2.437324047088623,
          2.167541265487671,
          1.9393593072891235,
          1.7450045347213745,
          1.5779627561569214,
          1.4331129789352417,
          1.2980024814605713,
          1.172860860824585,
          1.063776969909668,
          0.9680113196372986,
          0.8703493475914001,
          0.792098879814148,
          0.7386429905891418,
          0.6896982192993164,
          0.6446403861045837,
          0.6009314060211182,
          0.5588851571083069,
          0.520508885383606,
          0.48546192049980164,
          0.4518921971321106,
          0.4199519157409668,
          0.3909641206264496,
          0.36462464928627014,
          0.3396194279193878,
          0.31600621342658997,
          0.2946438491344452,
          0.2745193541049957,
          0.255642294883728,
          0.23861883580684662,
          0.2226792722940445,
          0.207806795835495,
          0.19442574679851532,
          0.18194517493247986,
          0.17031116783618927,
          0.15980052947998047,
          0.14996272325515747,
          0.14075469970703125,
          0.13238531351089478,
          0.12452159821987152,
          0.11713267862796783,
          0.11018910259008408,
          0.10366261005401611,
          0.09752612560987473,
          0.0917554497718811,
          0.0863291323184967,
          0.08122829347848892,
          0.07654641568660736,
          0.07213524729013443,
          0.06798049062490463,
          0.06406780332326889,
          0.06030353531241417,
          0.056767918169498444,
          0.05344676226377487,
          0.05032702907919884,
          0.04739609733223915,
          0.0446423701941967,
          0.04205469414591789,
          0.0395779125392437,
          0.037254247814416885,
          0.035073596984148026,
          0.03299160301685333,
          0.031040171161293983,
          0.0292104110121727,
          0.02746676467359066,
          0.025808097794651985,
          0.02425609715282917,
          0.02280319482088089,
          0.021422727033495903,
          0.02011294476687908,
          0.01888863928616047,
          0.017743628472089767,
          0.01665799878537655,
          0.015629876405000687,
          0.014657272025942802,
          0.013738112524151802,
          0.01287028193473816,
          0.012051628902554512,
          0.011279994621872902,
          0.010553237982094288,
          0.009869241155683994,
          0.009225922636687756,
          0.008621244691312313,
          0.008053228259086609,
          0.007514674216508865,
          0.007005032151937485,
          0.006528028286993504,
          0.006081756670027971,
          0.005664401222020388,
          0.005270804278552532,
          0.004900193307548761,
          0.004554601851850748,
          0.004229792859405279,
          0.00392493512481451,
          0.0036391690373420715,
          0.003371631959453225,
          0.0031214493792504072,
          0.002887766808271408,
          0.0025634279008954763,
          0.0020049484446644783,
          0.001249395776540041
         ],
         "yaxis": "y"
        },
        {
         "marker": {
          "color": "#636EFA",
          "line": {
           "color": "#636EFA",
           "width": 1.5
          },
          "size": 10,
          "symbol": "cross-thin"
         },
         "mode": "markers",
         "name": "res of nai",
         "showlegend": false,
         "type": "scatter",
         "x": [
          8.497907638549805,
          9.330278396606445,
          10.242151260375977,
          11.239168167114258,
          12.24560546875,
          13.268964767456055,
          14.316703796386719,
          15.394006729125977,
          16.500568389892578,
          17.728870391845703,
          19.077850341796875,
          20.449237823486328,
          21.839725494384766,
          23.249950408935547,
          24.681915283203125,
          26.243572235107422,
          27.941225051879883,
          29.675739288330078,
          31.45012092590332,
          33.57260513305664,
          35.56683349609375,
          37.11849594116211,
          38.70365905761719,
          40.328617095947266,
          42.085880279541016,
          43.977413177490234,
          45.910316467285156,
          47.881874084472656,
          49.99148941040039,
          52.2396240234375,
          54.524139404296875,
          56.8414192199707,
          59.29572677612305,
          61.88549041748047,
          64.50071716308594,
          67.24725341796875,
          70.12135314941406,
          73.00807189941406,
          76.01277160644531,
          79.12902069091797,
          82.23858642578125,
          85.44756317138672,
          88.75515747070312,
          92.05189514160156,
          95.44874572753906,
          98.94696044921875,
          102.43867492675781,
          106.03477478027344,
          109.73724365234375,
          113.54832458496094,
          117.470703125,
          121.50764465332031,
          125.66181945800781,
          129.9350128173828,
          134.32769775390625,
          138.73046875,
          143.25387573242188,
          147.89830017089844,
          152.66473388671875,
          157.66500854492188,
          162.78900146484375,
          168.03768920898438,
          173.41152954101562,
          178.9115447998047,
          184.5382080078125,
          190.29251098632812,
          196.28836059570312,
          202.4136505126953,
          208.66943359375,
          215.17050170898438,
          221.80386352539062,
          228.57058715820312,
          235.58639526367188,
          242.85302734375,
          250.25616455078125,
          257.7968444824219,
          265.5921630859375,
          273.64373779296875,
          281.83599853515625,
          290.1698913574219,
          298.7637634277344,
          307.6192932128906,
          316.73809814453125,
          326.121826171875,
          335.77203369140625,
          345.6903076171875,
          355.878173828125,
          366.33709716796875,
          377.06854248046875,
          388.0738525390625,
          399.3543701171875,
          410.91131591796875,
          422.8682861328125,
          435.22705078125,
          447.86700439453125,
          460.78900146484375,
          473.993896484375,
          487.60638427734375,
          501.627685546875,
          515.934814453125,
          530.6531372070312,
          545.7833251953125,
          561.326416015625,
          577.28271484375,
          593.6530151367188,
          610.4368896484375,
          636.6382446289062,
          692.5714111328125,
          807.1249389648438
         ],
         "xaxis": "x2",
         "y": [
          2.7324944191888805,
          -0.7948667967989185,
          -1.6818352230208948,
          -3.1058525444256504,
          -2.0498494592227927,
          -3.5814852915123794,
          -4.372740314981693,
          -2.463023288864163,
          -0.9897464002883335,
          1.0191550200192594,
          -0.24852786770340035,
          -0.09703701580939617,
          3.1436729799893954,
          3.371428987225239,
          3.236366974471657,
          1.0039555728022385,
          2.935849063809508,
          2.6753458002803603,
          1.9567649026980412,
          -8.091022430222926,
          8.514575170405461,
          4.328016923112425,
          4.1895568227222215,
          -0.3938841601238275,
          -0.9736834313501582,
          0.6185528349526245,
          -1.1546494274286514,
          1.154816871970672,
          -1.0871533939749547,
          -0.9554979074531663,
          -0.7664213136392115,
          -1.5881931529501194,
          -1.5546321206926403,
          -0.9836427438394947,
          0.1373110588655237,
          -0.253627945587046,
          -2.9354331093400496,
          -0.17907826179529154,
          -1.8118939810429149,
          -0.37271832061975096,
          0.1349923999527382,
          -1.2963320667052096,
          -0.6716419497222056,
          -0.05476580798080956,
          1.1260948173024894,
          -1.8387810308974972,
          -2.6842744210710996,
          0.6455010781746363,
          1.5589184282156392,
          -0.30062153324182694,
          -0.26057939166701344,
          0.6435936113720453,
          -0.8203587982481143,
          -0.6241831929176171,
          -0.14850713000848204,
          -1.5523807950341615,
          0.4942928202503707,
          -0.8202463674509503,
          0.8171218540467707,
          0.5955196799209543,
          -1.008232764441618,
          -0.08206132050340403,
          -0.44478286250508287,
          1.538904296253838,
          -1.3945745099674494,
          -1.4760106057261133,
          -0.18520972426606716,
          -0.7716307024601681,
          1.2003272962938738,
          -1.848020658191301,
          0.09278007482730463,
          -0.29230998316680545,
          -0.43718938330826046,
          -1.5074505485406544,
          0.36122693603618783,
          -1.2684074395380251,
          0.034618913985406854,
          -0.7883460177172852,
          -0.21786450835322477,
          -1.4915212641817504,
          -0.6430440364461206,
          0.04665014201434978,
          -1.6503827421744826,
          1.095947621805065,
          -1.0636767893778158,
          -0.43953522645647275,
          0.2209612734828247,
          -1.0558271925224858,
          0.6665649344919496,
          1.4709829045356457,
          -1.249127263366171,
          -1.2296326700604747,
          -0.511068759734214,
          1.2117193373352715,
          -2.161841807124758,
          -0.19877136262228895,
          0.08077578132644757,
          -0.45139506853529643,
          -0.1121022867995662,
          -0.13261086530274704,
          0.3308900493996581,
          0.8904509362075453,
          -0.14033735714530102,
          -0.2253924786172233,
          0.9392985616441644,
          1.2962173993044617,
          0.3924111715909385,
          -0.6145549752557066,
          -0.23743461222516007
         ],
         "yaxis": "y2"
        },
        {
         "error_x": {
          "array": [
           17.2078857421875,
           17.194732666015625,
           17.182647705078125,
           17.171615600585938,
           17.161605834960938,
           17.152694702148438,
           22.858154296875,
           22.84661865234375,
           22.837615966796875,
           22.8310546875,
           22.826995849609375,
           22.825439453125,
           22.82635498046875,
           22.829803466796875,
           22.835723876953125,
           22.8441162109375,
           51.442962646484375,
           28.61370849609375,
           114.81005859375,
           338.80523681640625,
           424.86920166015625,
           546.12939453125,
           700.7430419921875,
           925.203857421875,
           1264.62744140625,
           1849.54150390625,
           2949.263671875,
           8513.548828125
          ],
          "arrayminus": [
           17.2078857421875,
           17.194732666015625,
           17.182647705078125,
           17.171615600585938,
           17.161605834960938,
           17.152694702148438,
           22.858154296875,
           22.84661865234375,
           22.837615966796875,
           22.8310546875,
           22.826995849609375,
           22.825439453125,
           22.82635498046875,
           22.829803466796875,
           22.835723876953125,
           22.8441162109375,
           51.442962646484375,
           28.61370849609375,
           114.81005859375,
           338.80523681640625,
           424.86920166015625,
           546.12939453125,
           700.7430419921875,
           925.203857421875,
           1264.62744140625,
           1849.54150390625,
           2949.263671875,
           8513.548828125
          ],
          "color": "#EF553B",
          "symmetric": false,
          "thickness": 1.5,
          "type": "data",
          "width": 0
         },
         "error_y": {
          "array": [
           0.0006366253465692098,
           0.0006139245453758716,
           0.0005732545610020649,
           0.0004914460527547888,
           0.0004873409471090367,
           0.0004676838861297626,
           0.00038452285731701397,
           0.0003476280155497289,
           0.00030730591513322816,
           0.0002593829453547948,
           0.00026582955289896373,
           0.00025606113693182783,
           0.0002612802433107973,
           0.00026841006251832126,
           0.00023894494642224287,
           0.00024408849115247362,
           0.00017513031630127712,
           0.00022648739006770084,
           0.00009612437445971363,
           0.00004465551564571025,
           0.000025751545430532785,
           0.000013708843892243191,
           0.000005758075290618973,
           0.0000029189001965030706,
           0.0000012389278908994896,
           3.4593956021398755e-7,
           3.2428459693554265e-8,
           3.1297027827564253e-13
          ],
          "color": "#EF553B",
          "thickness": 1.5,
          "type": "data",
          "width": 0
         },
         "marker": {
          "color": "#EF553B",
          "size": 0,
          "symbol": "cross-thin"
         },
         "mode": "markers",
         "name": "obs of bgo",
         "showlegend": false,
         "type": "scatter",
         "x": [
          329.1634826660156,
          363.56610107421875,
          397.9434814453125,
          432.2977294921875,
          466.6309814453125,
          500.94525146484375,
          540.9561157226562,
          586.660888671875,
          632.3450927734375,
          678.0137939453125,
          723.671875,
          769.3242797851562,
          814.97607421875,
          860.6322021484375,
          906.2977294921875,
          951.9776000976562,
          1026.2646484375,
          1106.3212890625,
          1249.7451171875,
          1703.3603515625,
          2467.034912109375,
          3438.033447265625,
          4684.90576171875,
          6310.8525390625,
          8500.68359375,
          11614.853515625,
          16413.658203125,
          27876.470703125
         ],
         "xaxis": "x",
         "y": [
          0.014135390527846065,
          0.011557466478683047,
          0.009712465289043222,
          0.007139783732577995,
          0.007059905279246517,
          0.005327130231572723,
          0.003979542226117407,
          0.003664095787276473,
          0.002803658168446725,
          0.0014546953956654097,
          0.0017279882380913988,
          0.0012006334657087326,
          0.0011861380724401706,
          0.0012552472748311458,
          0.0006500059242266257,
          0.0005976487320217605,
          0.000631286668635115,
          0.00047731353530534003,
          0.00020225014604109093,
          0.00003323030198019349,
          0.00001782762713543213,
          0.000016273199981224412,
          0.0000031528005747920735,
          0.0000011084246481203684,
          -9.088153713199552e-7,
          -2.3701904543210755e-7,
          -2.6413163978846926e-8,
          -4.52594197513722e-13
         ],
         "yaxis": "y"
        },
        {
         "line": {
          "color": "#EF553B",
          "width": 2
         },
         "mode": "lines",
         "name": "bgo",
         "showlegend": true,
         "type": "scatter",
         "x": [
          329.1634826660156,
          363.56610107421875,
          397.9434814453125,
          432.2977294921875,
          466.6309814453125,
          500.94525146484375,
          540.9561157226562,
          586.660888671875,
          632.3450927734375,
          678.0137939453125,
          723.671875,
          769.3242797851562,
          814.97607421875,
          860.6322021484375,
          906.2977294921875,
          951.9776000976562,
          1026.2646484375,
          1106.3212890625,
          1249.7451171875,
          1703.3603515625,
          2467.034912109375,
          3438.033447265625,
          4684.90576171875,
          6310.8525390625,
          8500.68359375,
          11614.853515625,
          16413.658203125,
          27876.470703125
         ],
         "xaxis": "x",
         "y": [
          0.01345650851726532,
          0.010739732533693314,
          0.008694043383002281,
          0.007121784146875143,
          0.005892542190849781,
          0.004917471203953028,
          0.0040191952139139175,
          0.003225471591576934,
          0.002613471122458577,
          0.00213511660695076,
          0.0017568302573636174,
          0.0014546342426910996,
          0.001211077906191349,
          0.001013246481306851,
          0.0008514414075762033,
          0.0007182834669947624,
          0.0005488566821441054,
          0.0004144991107750684,
          0.0002556635590735823,
          0.00006243416282813996,
          0.000007363219992839731,
          6.040079938429699e-7,
          2.9218126584851234e-8,
          6.637368987760794e-10,
          4.7691434135188615e-12,
          5.078123455049509e-15,
          1.6464027136375295e-19,
          4.948011568260889e-30
         ],
         "yaxis": "y"
        },
        {
         "marker": {
          "color": "#EF553B",
          "line": {
           "color": "#EF553B",
           "width": 1.5
          },
          "size": 10,
          "symbol": "cross-thin"
         },
         "mode": "markers",
         "name": "res of bgo",
         "showlegend": false,
         "type": "scatter",
         "x": [
          329.1634826660156,
          363.56610107421875,
          397.9434814453125,
          432.2977294921875,
          466.6309814453125,
          500.94525146484375,
          540.9561157226562,
          586.660888671875,
          632.3450927734375,
          678.0137939453125,
          723.671875,
          769.3242797851562,
          814.97607421875,
          860.6322021484375,
          906.2977294921875,
          951.9776000976562,
          1026.2646484375,
          1106.3212890625,
          1249.7451171875,
          1703.3603515625,
          2467.034912109375,
          3438.033447265625,
          4684.90576171875,
          6310.8525390625,
          8500.68359375,
          11614.853515625,
          16413.658203125,
          27876.470703125
         ],
         "xaxis": "x2",
         "y": [
          1.0663760314276796,
          1.3319779297781305,
          1.7765613661419641,
          0.03662576106157685,
          2.3953724703858157,
          0.8759314566293015,
          -0.10312257656979634,
          1.2617630803026958,
          0.6188850803789276,
          -2.623230337502112,
          -0.1084981671815131,
          -0.9919536405479237,
          -0.09545242853097034,
          0.9016084987789021,
          -0.8430204796782697,
          -0.4942254114621308,
          0.47067799700198737,
          0.27734181806543556,
          -0.5556698114574183,
          -0.6539810463649162,
          0.40636035498611617,
          1.1429987904558068,
          0.5424698862997063,
          0.37951311680636524,
          -0.7335537016634155,
          -0.6851458398213212,
          -0.8145056604172184,
          -1.4461251720366508
         ],
         "yaxis": "y2"
        }
       ],
       "layout": {
        "height": 700,
        "legend": {
         "x": 1,
         "xanchor": "right",
         "y": 1,
         "yanchor": "bottom"
        },
        "template": {
         "data": {
          "bar": [
           {
            "error_x": {
             "color": "#2a3f5f"
            },
            "error_y": {
             "color": "#2a3f5f"
            },
            "marker": {
             "line": {
              "color": "white",
              "width": 0.5
             },
             "pattern": {
              "fillmode": "overlay",
              "size": 10,
              "solidity": 0.2
             }
            },
            "type": "bar"
           }
          ],
          "barpolar": [
           {
            "marker": {
             "line": {
              "color": "white",
              "width": 0.5
             },
             "pattern": {
              "fillmode": "overlay",
              "size": 10,
              "solidity": 0.2
             }
            },
            "type": "barpolar"
           }
          ],
          "carpet": [
           {
            "aaxis": {
             "endlinecolor": "#2a3f5f",
             "gridcolor": "#C8D4E3",
             "linecolor": "#C8D4E3",
             "minorgridcolor": "#C8D4E3",
             "startlinecolor": "#2a3f5f"
            },
            "baxis": {
             "endlinecolor": "#2a3f5f",
             "gridcolor": "#C8D4E3",
             "linecolor": "#C8D4E3",
             "minorgridcolor": "#C8D4E3",
             "startlinecolor": "#2a3f5f"
            },
            "type": "carpet"
           }
          ],
          "choropleth": [
           {
            "colorbar": {
             "outlinewidth": 0,
             "ticks": ""
            },
            "type": "choropleth"
           }
          ],
          "contour": [
           {
            "colorbar": {
             "outlinewidth": 0,
             "ticks": ""
            },
            "colorscale": [
             [
              0,
              "#0d0887"
             ],
             [
              0.1111111111111111,
              "#46039f"
             ],
             [
              0.2222222222222222,
              "#7201a8"
             ],
             [
              0.3333333333333333,
              "#9c179e"
             ],
             [
              0.4444444444444444,
              "#bd3786"
             ],
             [
              0.5555555555555556,
              "#d8576b"
             ],
             [
              0.6666666666666666,
              "#ed7953"
             ],
             [
              0.7777777777777778,
              "#fb9f3a"
             ],
             [
              0.8888888888888888,
              "#fdca26"
             ],
             [
              1,
              "#f0f921"
             ]
            ],
            "type": "contour"
           }
          ],
          "contourcarpet": [
           {
            "colorbar": {
             "outlinewidth": 0,
             "ticks": ""
            },
            "type": "contourcarpet"
           }
          ],
          "heatmap": [
           {
            "colorbar": {
             "outlinewidth": 0,
             "ticks": ""
            },
            "colorscale": [
             [
              0,
              "#0d0887"
             ],
             [
              0.1111111111111111,
              "#46039f"
             ],
             [
              0.2222222222222222,
              "#7201a8"
             ],
             [
              0.3333333333333333,
              "#9c179e"
             ],
             [
              0.4444444444444444,
              "#bd3786"
             ],
             [
              0.5555555555555556,
              "#d8576b"
             ],
             [
              0.6666666666666666,
              "#ed7953"
             ],
             [
              0.7777777777777778,
              "#fb9f3a"
             ],
             [
              0.8888888888888888,
              "#fdca26"
             ],
             [
              1,
              "#f0f921"
             ]
            ],
            "type": "heatmap"
           }
          ],
          "heatmapgl": [
           {
            "colorbar": {
             "outlinewidth": 0,
             "ticks": ""
            },
            "colorscale": [
             [
              0,
              "#0d0887"
             ],
             [
              0.1111111111111111,
              "#46039f"
             ],
             [
              0.2222222222222222,
              "#7201a8"
             ],
             [
              0.3333333333333333,
              "#9c179e"
             ],
             [
              0.4444444444444444,
              "#bd3786"
             ],
             [
              0.5555555555555556,
              "#d8576b"
             ],
             [
              0.6666666666666666,
              "#ed7953"
             ],
             [
              0.7777777777777778,
              "#fb9f3a"
             ],
             [
              0.8888888888888888,
              "#fdca26"
             ],
             [
              1,
              "#f0f921"
             ]
            ],
            "type": "heatmapgl"
           }
          ],
          "histogram": [
           {
            "marker": {
             "pattern": {
              "fillmode": "overlay",
              "size": 10,
              "solidity": 0.2
             }
            },
            "type": "histogram"
           }
          ],
          "histogram2d": [
           {
            "colorbar": {
             "outlinewidth": 0,
             "ticks": ""
            },
            "colorscale": [
             [
              0,
              "#0d0887"
             ],
             [
              0.1111111111111111,
              "#46039f"
             ],
             [
              0.2222222222222222,
              "#7201a8"
             ],
             [
              0.3333333333333333,
              "#9c179e"
             ],
             [
              0.4444444444444444,
              "#bd3786"
             ],
             [
              0.5555555555555556,
              "#d8576b"
             ],
             [
              0.6666666666666666,
              "#ed7953"
             ],
             [
              0.7777777777777778,
              "#fb9f3a"
             ],
             [
              0.8888888888888888,
              "#fdca26"
             ],
             [
              1,
              "#f0f921"
             ]
            ],
            "type": "histogram2d"
           }
          ],
          "histogram2dcontour": [
           {
            "colorbar": {
             "outlinewidth": 0,
             "ticks": ""
            },
            "colorscale": [
             [
              0,
              "#0d0887"
             ],
             [
              0.1111111111111111,
              "#46039f"
             ],
             [
              0.2222222222222222,
              "#7201a8"
             ],
             [
              0.3333333333333333,
              "#9c179e"
             ],
             [
              0.4444444444444444,
              "#bd3786"
             ],
             [
              0.5555555555555556,
              "#d8576b"
             ],
             [
              0.6666666666666666,
              "#ed7953"
             ],
             [
              0.7777777777777778,
              "#fb9f3a"
             ],
             [
              0.8888888888888888,
              "#fdca26"
             ],
             [
              1,
              "#f0f921"
             ]
            ],
            "type": "histogram2dcontour"
           }
          ],
          "mesh3d": [
           {
            "colorbar": {
             "outlinewidth": 0,
             "ticks": ""
            },
            "type": "mesh3d"
           }
          ],
          "parcoords": [
           {
            "line": {
             "colorbar": {
              "outlinewidth": 0,
              "ticks": ""
             }
            },
            "type": "parcoords"
           }
          ],
          "pie": [
           {
            "automargin": true,
            "type": "pie"
           }
          ],
          "scatter": [
           {
            "fillpattern": {
             "fillmode": "overlay",
             "size": 10,
             "solidity": 0.2
            },
            "type": "scatter"
           }
          ],
          "scatter3d": [
           {
            "line": {
             "colorbar": {
              "outlinewidth": 0,
              "ticks": ""
             }
            },
            "marker": {
             "colorbar": {
              "outlinewidth": 0,
              "ticks": ""
             }
            },
            "type": "scatter3d"
           }
          ],
          "scattercarpet": [
           {
            "marker": {
             "colorbar": {
              "outlinewidth": 0,
              "ticks": ""
             }
            },
            "type": "scattercarpet"
           }
          ],
          "scattergeo": [
           {
            "marker": {
             "colorbar": {
              "outlinewidth": 0,
              "ticks": ""
             }
            },
            "type": "scattergeo"
           }
          ],
          "scattergl": [
           {
            "marker": {
             "colorbar": {
              "outlinewidth": 0,
              "ticks": ""
             }
            },
            "type": "scattergl"
           }
          ],
          "scattermapbox": [
           {
            "marker": {
             "colorbar": {
              "outlinewidth": 0,
              "ticks": ""
             }
            },
            "type": "scattermapbox"
           }
          ],
          "scatterpolar": [
           {
            "marker": {
             "colorbar": {
              "outlinewidth": 0,
              "ticks": ""
             }
            },
            "type": "scatterpolar"
           }
          ],
          "scatterpolargl": [
           {
            "marker": {
             "colorbar": {
              "outlinewidth": 0,
              "ticks": ""
             }
            },
            "type": "scatterpolargl"
           }
          ],
          "scatterternary": [
           {
            "marker": {
             "colorbar": {
              "outlinewidth": 0,
              "ticks": ""
             }
            },
            "type": "scatterternary"
           }
          ],
          "surface": [
           {
            "colorbar": {
             "outlinewidth": 0,
             "ticks": ""
            },
            "colorscale": [
             [
              0,
              "#0d0887"
             ],
             [
              0.1111111111111111,
              "#46039f"
             ],
             [
              0.2222222222222222,
              "#7201a8"
             ],
             [
              0.3333333333333333,
              "#9c179e"
             ],
             [
              0.4444444444444444,
              "#bd3786"
             ],
             [
              0.5555555555555556,
              "#d8576b"
             ],
             [
              0.6666666666666666,
              "#ed7953"
             ],
             [
              0.7777777777777778,
              "#fb9f3a"
             ],
             [
              0.8888888888888888,
              "#fdca26"
             ],
             [
              1,
              "#f0f921"
             ]
            ],
            "type": "surface"
           }
          ],
          "table": [
           {
            "cells": {
             "fill": {
              "color": "#EBF0F8"
             },
             "line": {
              "color": "white"
             }
            },
            "header": {
             "fill": {
              "color": "#C8D4E3"
             },
             "line": {
              "color": "white"
             }
            },
            "type": "table"
           }
          ]
         },
         "layout": {
          "annotationdefaults": {
           "arrowcolor": "#2a3f5f",
           "arrowhead": 0,
           "arrowwidth": 1
          },
          "autotypenumbers": "strict",
          "coloraxis": {
           "colorbar": {
            "outlinewidth": 0,
            "ticks": ""
           }
          },
          "colorscale": {
           "diverging": [
            [
             0,
             "#8e0152"
            ],
            [
             0.1,
             "#c51b7d"
            ],
            [
             0.2,
             "#de77ae"
            ],
            [
             0.3,
             "#f1b6da"
            ],
            [
             0.4,
             "#fde0ef"
            ],
            [
             0.5,
             "#f7f7f7"
            ],
            [
             0.6,
             "#e6f5d0"
            ],
            [
             0.7,
             "#b8e186"
            ],
            [
             0.8,
             "#7fbc41"
            ],
            [
             0.9,
             "#4d9221"
            ],
            [
             1,
             "#276419"
            ]
           ],
           "sequential": [
            [
             0,
             "#0d0887"
            ],
            [
             0.1111111111111111,
             "#46039f"
            ],
            [
             0.2222222222222222,
             "#7201a8"
            ],
            [
             0.3333333333333333,
             "#9c179e"
            ],
            [
             0.4444444444444444,
             "#bd3786"
            ],
            [
             0.5555555555555556,
             "#d8576b"
            ],
            [
             0.6666666666666666,
             "#ed7953"
            ],
            [
             0.7777777777777778,
             "#fb9f3a"
            ],
            [
             0.8888888888888888,
             "#fdca26"
            ],
            [
             1,
             "#f0f921"
            ]
           ],
           "sequentialminus": [
            [
             0,
             "#0d0887"
            ],
            [
             0.1111111111111111,
             "#46039f"
            ],
            [
             0.2222222222222222,
             "#7201a8"
            ],
            [
             0.3333333333333333,
             "#9c179e"
            ],
            [
             0.4444444444444444,
             "#bd3786"
            ],
            [
             0.5555555555555556,
             "#d8576b"
            ],
            [
             0.6666666666666666,
             "#ed7953"
            ],
            [
             0.7777777777777778,
             "#fb9f3a"
            ],
            [
             0.8888888888888888,
             "#fdca26"
            ],
            [
             1,
             "#f0f921"
            ]
           ]
          },
          "colorway": [
           "#636efa",
           "#EF553B",
           "#00cc96",
           "#ab63fa",
           "#FFA15A",
           "#19d3f3",
           "#FF6692",
           "#B6E880",
           "#FF97FF",
           "#FECB52"
          ],
          "font": {
           "color": "#2a3f5f"
          },
          "geo": {
           "bgcolor": "white",
           "lakecolor": "white",
           "landcolor": "white",
           "showlakes": true,
           "showland": true,
           "subunitcolor": "#C8D4E3"
          },
          "hoverlabel": {
           "align": "left"
          },
          "hovermode": "closest",
          "mapbox": {
           "style": "light"
          },
          "paper_bgcolor": "white",
          "plot_bgcolor": "white",
          "polar": {
           "angularaxis": {
            "gridcolor": "#EBF0F8",
            "linecolor": "#EBF0F8",
            "ticks": ""
           },
           "bgcolor": "white",
           "radialaxis": {
            "gridcolor": "#EBF0F8",
            "linecolor": "#EBF0F8",
            "ticks": ""
           }
          },
          "scene": {
           "xaxis": {
            "backgroundcolor": "white",
            "gridcolor": "#DFE8F3",
            "gridwidth": 2,
            "linecolor": "#EBF0F8",
            "showbackground": true,
            "ticks": "",
            "zerolinecolor": "#EBF0F8"
           },
           "yaxis": {
            "backgroundcolor": "white",
            "gridcolor": "#DFE8F3",
            "gridwidth": 2,
            "linecolor": "#EBF0F8",
            "showbackground": true,
            "ticks": "",
            "zerolinecolor": "#EBF0F8"
           },
           "zaxis": {
            "backgroundcolor": "white",
            "gridcolor": "#DFE8F3",
            "gridwidth": 2,
            "linecolor": "#EBF0F8",
            "showbackground": true,
            "ticks": "",
            "zerolinecolor": "#EBF0F8"
           }
          },
          "shapedefaults": {
           "line": {
            "color": "#2a3f5f"
           }
          },
          "ternary": {
           "aaxis": {
            "gridcolor": "#DFE8F3",
            "linecolor": "#A2B1C6",
            "ticks": ""
           },
           "baxis": {
            "gridcolor": "#DFE8F3",
            "linecolor": "#A2B1C6",
            "ticks": ""
           },
           "bgcolor": "white",
           "caxis": {
            "gridcolor": "#DFE8F3",
            "linecolor": "#A2B1C6",
            "ticks": ""
           }
          },
          "title": {
           "x": 0.05
          },
          "xaxis": {
           "automargin": true,
           "gridcolor": "#EBF0F8",
           "linecolor": "#EBF0F8",
           "ticks": "",
           "title": {
            "standoff": 15
           },
           "zerolinecolor": "#EBF0F8",
           "zerolinewidth": 2
          },
          "yaxis": {
           "automargin": true,
           "gridcolor": "#EBF0F8",
           "linecolor": "#EBF0F8",
           "ticks": "",
           "title": {
            "standoff": 15
           },
           "zerolinecolor": "#EBF0F8",
           "zerolinewidth": 2
          }
         }
        },
        "width": 600,
        "xaxis": {
         "anchor": "y",
         "domain": [
          0,
          1
         ],
         "matches": "x2",
         "showticklabels": false,
         "title": {
          "text": ""
         },
         "type": "log"
        },
        "xaxis2": {
         "anchor": "y2",
         "domain": [
          0,
          1
         ],
         "title": {
          "text": "Energy (keV)"
         },
         "type": "log"
        },
        "yaxis": {
         "anchor": "x",
         "domain": [
          0.265,
          1
         ],
         "range": [
          -6.2563238210080945,
          1.2801311700341853
         ],
         "title": {
          "text": "Photons/cm^2/s/keV"
         },
         "type": "log"
        },
        "yaxis2": {
         "anchor": "x2",
         "domain": [
          0,
          0.245
         ],
         "range": [
          -3.5,
          3.5
         ],
         "showgrid": false,
         "title": {
          "text": "Sigma"
         }
        }
       }
      }
     },
     "metadata": {},
     "output_type": "display_data"
    }
   ],
   "source": [
    "fig = Plot.infer(post, style='NE', show=True)\n",
    "fig.write_html('quickstart/phtspec.html')"
   ]
  },
  {
   "cell_type": "code",
   "execution_count": 9,
   "id": "e1363099-45d7-424f-b5bf-b171ada18230",
   "metadata": {},
   "outputs": [
    {
     "data": {
      "application/vnd.plotly.v1+json": {
       "config": {
        "plotlyServerURL": "https://plot.ly"
       },
       "data": [
        {
         "line": {
          "color": "#205295",
          "width": 2
         },
         "mode": "lines",
         "name": "$\\alpha$",
         "showlegend": false,
         "type": "scatter",
         "x": [
          -1.5998360411831272,
          -1.596394801709482,
          -1.596394801709482,
          -1.5929535622358366,
          -1.5929535622358366,
          -1.5895123227621915,
          -1.5895123227621915,
          -1.5860710832885463,
          -1.5860710832885463,
          -1.582629843814901,
          -1.582629843814901,
          -1.5791886043412557,
          -1.5791886043412557,
          -1.5757473648676106,
          -1.5757473648676106,
          -1.5723061253939654,
          -1.5723061253939654,
          -1.56886488592032,
          -1.56886488592032,
          -1.5654236464466749,
          -1.5654236464466749,
          -1.5619824069730297,
          -1.5619824069730297,
          -1.5585411674993843,
          -1.5585411674993843,
          -1.5550999280257392,
          -1.5550999280257392,
          -1.551658688552094,
          -1.551658688552094,
          -1.5482174490784488,
          -1.5482174490784488,
          -1.5447762096048034,
          -1.5447762096048034,
          -1.5413349701311583,
          -1.5413349701311583,
          -1.5378937306575131,
          -1.5378937306575131,
          -1.5344524911838677,
          -1.5344524911838677,
          -1.5310112517102226,
          -1.5310112517102226,
          -1.5275700122365774,
          -1.5275700122365774,
          -1.524128772762932,
          -1.524128772762932,
          -1.5206875332892869,
          -1.5206875332892869,
          -1.5172462938156417,
          -1.5172462938156417,
          -1.5138050543419963,
          -1.5138050543419963,
          -1.5103638148683511,
          -1.5103638148683511,
          -1.506922575394706,
          -1.506922575394706,
          -1.5034813359210608,
          -1.5034813359210608,
          -1.5000400964474154,
          -1.5000400964474154,
          -1.4965988569737703
         ],
         "xaxis": "x",
         "y": [
          0.7494666675942201,
          0.7494666675942201,
          1.2047898517939306,
          1.2047898517939306,
          2.2298187402714142,
          2.2298187402714142,
          4.029848099414374,
          4.029848099414374,
          6.837289606331462,
          6.837289606331462,
          10.79201201208102,
          10.79201201208102,
          15.782502634938673,
          15.782502634938673,
          21.319844014104984,
          21.319844014104984,
          26.549544637433325,
          26.549544637433325,
          30.46030535995436,
          30.46030535995436,
          32.21893492287131,
          32.21893492287131,
          31.459712630348314,
          31.459712630348314,
          28.39812751652667,
          28.39812751652667,
          23.7444276151329,
          23.7444276151329,
          18.448789478697073,
          18.448789478697073,
          13.37643171921786,
          13.37643171921786,
          9.081932419755484,
          9.081932419755484,
          5.781643124878046,
          5.781643124878046,
          3.4551242543483287,
          3.4551242543483287,
          1.9518956953562687,
          1.9518956953562687,
          1.0626499579532733,
          1.0626499579532733,
          0.5761114418109679,
          0.5761114418109679,
          0.32345663278293274,
          0.32345663278293274,
          0.19491042345615928,
          0.19491042345615928,
          0.13025654174932133,
          0.13025654174932133,
          0.09953178045336226,
          0.09953178045336226,
          0.08693446120081941,
          0.08693446120081941,
          0.08286890741678091,
          0.08286890741678091,
          0.08194043124225953,
          0.08194043124225953,
          0.08186867433834219,
          0.08186867433834219
         ],
         "yaxis": "y"
        },
        {
         "error_x": {
          "array": [
           0.009648697993003275
          ],
          "arrayminus": [
           0.01067790151685899
          ],
          "color": "#FF0092",
          "symmetric": false,
          "thickness": 2,
          "type": "data",
          "width": 0
         },
         "marker": {
          "color": "#FF0092",
          "size": 5,
          "symbol": "circle"
         },
         "mode": "markers",
         "name": "$\\alpha$",
         "showlegend": false,
         "type": "scatter",
         "x": [
          -1.5620867142999515
         ],
         "xaxis": "x",
         "y": [
          0.01
         ],
         "yaxis": "y"
        },
        {
         "line": {
          "color": "#205295",
          "width": 2
         },
         "mode": "lines",
         "name": "log$E_{c}$",
         "showlegend": false,
         "type": "scatter",
         "x": [
          2.5897811880455572,
          2.595296947249643,
          2.595296947249643,
          2.600812706453729,
          2.600812706453729,
          2.606328465657815,
          2.606328465657815,
          2.611844224861901,
          2.611844224861901,
          2.617359984065987,
          2.617359984065987,
          2.6228757432700727,
          2.6228757432700727,
          2.628391502474159,
          2.628391502474159,
          2.6339072616782446,
          2.6339072616782446,
          2.639423020882331,
          2.639423020882331,
          2.6449387800864166,
          2.6449387800864166,
          2.6504545392905023,
          2.6504545392905023,
          2.6559702984945885,
          2.6559702984945885,
          2.6614860576986743,
          2.6614860576986743,
          2.6670018169027605,
          2.6670018169027605,
          2.6725175761068463,
          2.6725175761068463,
          2.678033335310932,
          2.678033335310932,
          2.683549094515018,
          2.683549094515018,
          2.689064853719104,
          2.689064853719104,
          2.69458061292319,
          2.69458061292319,
          2.700096372127276,
          2.700096372127276,
          2.7056121313313617,
          2.7056121313313617,
          2.711127890535448,
          2.711127890535448,
          2.7166436497395337,
          2.7166436497395337,
          2.72215940894362,
          2.72215940894362,
          2.7276751681477056,
          2.7276751681477056,
          2.7331909273517914,
          2.7331909273517914,
          2.7387066865558776,
          2.7387066865558776,
          2.7442224457599633,
          2.7442224457599633,
          2.7497382049640495,
          2.7497382049640495,
          2.7552539641681353
         ],
         "xaxis": "x5",
         "y": [
          0.07224209978476208,
          0.07224209978476208,
          0.0777896969502059,
          0.0777896969502059,
          0.08562991587226389,
          0.08562991587226389,
          0.0946352504037876,
          0.0946352504037876,
          0.1112933474360354,
          0.1112933474360354,
          0.1507649789312001,
          0.1507649789312001,
          0.23681892693153253,
          0.23681892693153253,
          0.40763572012204813,
          0.40763572012204813,
          0.7269534051931225,
          0.7269534051931225,
          1.2908330254308449,
          1.2908330254308449,
          2.221367426934087,
          2.221367426934087,
          3.6452385482590195,
          3.6452385482590195,
          5.654268059920362,
          5.654268059920362,
          8.243097010216413,
          8.243097010216413,
          11.24060766009108,
          11.24060766009108,
          14.286932344844669,
          14.286932344844669,
          16.90203970520801,
          16.90203970520801,
          18.62228301396652,
          18.62228301396652,
          19.128931087418568,
          19.128931087418568,
          18.3220969165145,
          18.3220969165145,
          16.343685559819328,
          16.343685559819328,
          13.552697283878407,
          13.552697283878407,
          10.438206589945397,
          10.438206589945397,
          7.478415879780461,
          7.478415879780461,
          5.0049466805719796,
          5.0049466805719796,
          3.144935329185484,
          3.144935329185484,
          1.861018851821452,
          1.861018851821452,
          1.0397938155113307,
          1.0397938155113307,
          0.5644732874839941,
          0.5644732874839941,
          0.3490734378738794,
          0.3490734378738794
         ],
         "yaxis": "y5"
        },
        {
         "error_x": {
          "array": [
           0.01817327816148584
          ],
          "arrayminus": [
           0.01665305683303009
          ],
          "color": "#FF0092",
          "symmetric": false,
          "thickness": 2,
          "type": "data",
          "width": 0
         },
         "marker": {
          "color": "#FF0092",
          "size": 5,
          "symbol": "circle"
         },
         "mode": "markers",
         "name": "log$E_{c}$",
         "showlegend": false,
         "type": "scatter",
         "x": [
          2.6900632043825765
         ],
         "xaxis": "x5",
         "y": [
          0.01
         ],
         "yaxis": "y5"
        },
        {
         "colorscale": [
          [
           0,
           "rgb(247,251,255)"
          ],
          [
           0.125,
           "rgb(222,235,247)"
          ],
          [
           0.25,
           "rgb(198,219,239)"
          ],
          [
           0.375,
           "rgb(158,202,225)"
          ],
          [
           0.5,
           "rgb(107,174,214)"
          ],
          [
           0.625,
           "rgb(66,146,198)"
          ],
          [
           0.75,
           "rgb(33,113,181)"
          ],
          [
           0.875,
           "rgb(8,81,156)"
          ],
          [
           1,
           "rgb(8,48,107)"
          ]
         ],
         "contours": {
          "end": 0.009074769761234157,
          "size": 0.007148897147235573,
          "start": 0.001925872613998584
         },
         "line": {
          "width": 2
         },
         "name": "$\\alpha$&log$E_{c}$",
         "ncontours": 2,
         "showlegend": false,
         "showscale": false,
         "type": "contour",
         "x": [
          -1.6049979003935948,
          -1.6015566609199496,
          -1.5981154214463045,
          -1.5946741819726593,
          -1.5912329424990141,
          -1.5877917030253688,
          -1.5843504635517236,
          -1.5809092240780784,
          -1.577467984604433,
          -1.574026745130788,
          -1.5705855056571427,
          -1.5671442661834973,
          -1.5637030267098524,
          -1.560261787236207,
          -1.5568205477625616,
          -1.5533793082889167,
          -1.5499380688152713,
          -1.5464968293416261,
          -1.543055589867981,
          -1.5396143503943356,
          -1.5361731109206904,
          -1.5327318714470453,
          -1.5292906319733999,
          -1.5258493924997547,
          -1.5224081530261095,
          -1.5189669135524642,
          -1.515525674078819,
          -1.5120844346051738,
          -1.5086431951315284,
          -1.5052019556578835,
          -1.5017607161842381,
          -1.4983194767105927,
          -1.4948782372369473,
          -1.491436997763302
         ],
         "xaxis": "x4",
         "y": [
          2.5815075492394275,
          2.5870233084435137,
          2.5925390676476,
          2.598054826851686,
          2.6035705860557723,
          2.609086345259858,
          2.614602104463944,
          2.62011786366803,
          2.6256336228721158,
          2.6311493820762015,
          2.6366651412802877,
          2.642180900484374,
          2.6476966596884592,
          2.6532124188925454,
          2.6587281780966316,
          2.6642439373007174,
          2.669759696504803,
          2.6752754557088894,
          2.680791214912975,
          2.686306974117061,
          2.691822733321147,
          2.6973384925252333,
          2.7028542517293186,
          2.708370010933405,
          2.713885770137491,
          2.7194015293415768,
          2.7249172885456625,
          2.7304330477497487,
          2.7359488069538345,
          2.7414645661579202,
          2.7469803253620064,
          2.7524960845660926,
          2.758011843770179,
          2.763527602974265
         ],
         "yaxis": "y4",
         "z": [
          [
           0,
           0,
           0,
           0,
           0,
           0,
           0,
           0,
           0,
           0,
           0,
           0,
           0,
           0,
           0,
           0,
           0,
           0,
           0,
           0,
           0,
           0,
           0,
           0,
           0,
           0,
           0,
           0,
           0,
           0,
           0,
           0,
           0,
           0
          ],
          [
           0,
           0,
           0,
           0,
           0,
           0,
           0,
           0,
           2.3386560570233985e-12,
           1.6493783635338677e-11,
           8.680027653235673e-11,
           3.665137120629313e-10,
           1.2199629827751879e-9,
           3.3487033485439393e-9,
           8.711770282964639e-9,
           2.3731416636156266e-8,
           7.256642341562275e-8,
           2.3718249608556556e-7,
           7.125142329012958e-7,
           0.0000018335828263776262,
           0.0000039540302371808086,
           0.0000071726482391989,
           0.000011147552904525519,
           0.000015257360524255423,
           0.000019075340302415664,
           0.000022917832508481193,
           0.000027972191262990793,
           0.000035548505633763835,
           0.0000460241142580739,
           0.00005841725011039998,
           0.00007027318361863024,
           0.00007781668723197387,
           0.00007781668723197387,
           0
          ],
          [
           0,
           0,
           0,
           0,
           0,
           0,
           0,
           0,
           2.3386560570233985e-12,
           1.6493783635338677e-11,
           8.680027653235673e-11,
           3.665137120629313e-10,
           1.2199629827751879e-9,
           3.3487033485439393e-9,
           8.711770282964639e-9,
           2.3731416636156266e-8,
           7.256642341562275e-8,
           2.3718249608556556e-7,
           7.125142329012958e-7,
           0.0000018335828263776262,
           0.0000039540302371808086,
           0.0000071726482391989,
           0.000011147552904525519,
           0.000015257360524255423,
           0.000019075340302415664,
           0.000022917832508481193,
           0.000027972191262990793,
           0.000035548505633763835,
           0.0000460241142580739,
           0.00005841725011039998,
           0.00007027318361863024,
           0.00007781668723197387,
           0.00007781668723197387,
           0
          ],
          [
           0,
           0,
           0,
           0,
           0,
           0,
           0,
           0,
           1.0297502315261612e-11,
           7.588085896568278e-11,
           4.066835678596716e-10,
           1.749743180295038e-9,
           5.956342999670126e-9,
           1.670230465147107e-8,
           4.082989091295324e-8,
           9.262152565982622e-8,
           2.1345169594311163e-7,
           5.270817900437805e-7,
           0.0000013110739367828246,
           0.000003016343238804413,
           0.000006079404540651209,
           0.000010553134821614495,
           0.000015892392966412438,
           0.000021187655378362188,
           0.00002574494311703155,
           0.00002972006500195462,
           0.000034251941069634404,
           0.00004052995867408738,
           0.00004857578371622044,
           0.00005721277280894604,
           0.00006476867142197747,
           0.00006932621008841256,
           0.00006932621008841256,
           0
          ],
          [
           0,
           0,
           0,
           0,
           0,
           0,
           0,
           0,
           4.150480577557738e-11,
           3.2226536853763e-10,
           1.7671842519397873e-9,
           7.758062198107713e-9,
           2.703577864726672e-8,
           7.751085311242108e-8,
           1.8834708699430927e-7,
           4.026400013495317e-7,
           8.011497760679831e-7,
           0.0000015736585607967083,
           0.0000031087013828997185,
           0.000005994175829450143,
           0.000010728047271237971,
           0.000017221499132334974,
           0.000024569761868527807,
           0.00003139845373987206,
           0.0000365737210125206,
           0.00003996624410623488,
           0.00004267708212883361,
           0.00004594051152295035,
           0.00004963565912779168,
           0.000052580379382167766,
           0.00005414746781429662,
           0.00005469206122489963,
           0.00005469206122489963,
           0
          ],
          [
           0,
           0,
           0,
           0,
           0,
           0,
           3.1095762570616744e-13,
           3.116050121288817e-12,
           1.59729342446004e-10,
           1.2375997098187719e-9,
           6.768992528367243e-9,
           2.9742329417636406e-8,
           1.0456939493287554e-7,
           3.027804597416543e-7,
           7.357303264799523e-7,
           0.0000015378277948896926,
           0.0000028603112064756566,
           0.000004923240917550931,
           0.000008111292229083326,
           0.000012970908823925238,
           0.0000198587868109858,
           0.000028372987775442887,
           0.00003716844776773955,
           0.00004443742635107453,
           0.00004870330061139482,
           0.00004966274327860519,
           0.00004855671142814105,
           0.00004706218974047261,
           0.000045533462239606386,
           0.000043191321231861464,
           0.00004008848686669695,
           0.000037764816112638196,
           0.000037764816112638196,
           0
          ],
          [
           0,
           0,
           0,
           0,
           0,
           0,
           4.6708382498196545e-12,
           5.061485615666255e-11,
           7.097528593607701e-10,
           4.907514355959325e-9,
           2.5270536094316347e-8,
           1.0647874380192657e-7,
           3.662652433033154e-7,
           0.000001047317721955682,
           0.000002516672754367446,
           0.000005160914115265258,
           0.000009217788308900253,
           0.00001469092561552133,
           0.000021469329700266058,
           0.000029503580783446928,
           0.00003861955805171234,
           0.00004798583633013057,
           0.0000559631432003351,
           0.000060698682541804475,
           0.00006094778371910025,
           0.00005680274802745667,
           0.00005001017340168452,
           0.00004291992195167371,
           0.0000366427311576196,
           0.00003089969728750676,
           0.000025759053189825972,
           0.0000225077605392551,
           0.0000225077605392551,
           0
          ],
          [
           0,
           0,
           0,
           1.088351689971586e-12,
           7.718859761022645e-12,
           4.336171003596487e-11,
           2.3155504854989262e-10,
           1.0935199574624074e-9,
           5.539711268511249e-9,
           2.5950488154911272e-8,
           1.085100684838683e-7,
           4.000068343371923e-7,
           0.0000012656781903520234,
           0.0000034221243739973496,
           0.000007895978941475884,
           0.000015623297808984344,
           0.00002676649532365203,
           0.00004024670673053882,
           0.0000540885934691775,
           0.00006644654826089142,
           0.00007622777000645084,
           0.00008265775552849638,
           0.00008474103591975505,
           0.0000816341588748051,
           0.00007338717625749861,
           0.0000613201932295595,
           0.000047920363371931417,
           0.000035842207302017105,
           0.000026405156093697425,
           0.000019373926947157096,
           0.000014299498413840344,
           0.000011477270803262822,
           0.000011477270803262822,
           0
          ],
          [
           0,
           0,
           0,
           8.651732638141147e-12,
           6.731284823894503e-11,
           4.0108421519600793e-10,
           2.0809200820609505e-9,
           9.210469191441435e-9,
           3.782777801696349e-8,
           1.434050832850071e-7,
           4.997957858245599e-7,
           0.0000015806938163966515,
           0.000004440752329820988,
           0.000010950472795972032,
           0.000023516827014747557,
           0.000043866330582536744,
           0.00007117096762473327,
           0.00010094298482170986,
           0.00012638453642065264,
           0.00014191414430260956,
           0.00014586276674071247,
           0.000139827381920408,
           0.00012623701926773218,
           0.00010729206407196156,
           0.00008538555445101345,
           0.00006327911039651042,
           0.00004364875454530539,
           0.00002835371519733345,
           0.00001778666687859172,
           0.000011053947197070699,
           0.0000070065846859662725,
           0.000005042103777567775,
           0.000005042103777567775,
           0
          ],
          [
           0,
           7.773940642654185e-13,
           7.773940642654185e-13,
           5.917841579380215e-11,
           4.6073142497472106e-10,
           2.752433285361387e-9,
           1.37575671056572e-8,
           5.7862968095053676e-8,
           2.1556141680563859e-7,
           7.244676166880807e-7,
           0.000002219964518893672,
           0.000006172876105922026,
           0.000015400733002117355,
           0.000034172383408478764,
           0.00006699673808208687,
           0.00011558876005688722,
           0.0001750793653055835,
           0.0002326742663228484,
           0.0002720327053270518,
           0.00028214258588595085,
           0.00026354757065958164,
           0.00022596308968571467,
           0.00018061656302293956,
           0.00013542439285147345,
           0.00009506087035281455,
           0.00006219587248301759,
           0.000037845840311426366,
           0.000021503203822834554,
           0.000011570034321938979,
           0.000006037374174980466,
           0.000003185895551161973,
           0.0000019744672347976148,
           0.0000019744672347976148,
           0
          ],
          [
           0,
           2.8280906242992552e-11,
           2.8280906242992552e-11,
           4.222296368240221e-10,
           2.9362374852787653e-9,
           1.6311221121399406e-8,
           7.598712366527608e-8,
           2.9994632938685054e-7,
           0.0000010360627033222696,
           0.000003191937359393033,
           0.00000887777173663256,
           0.000022273826141954307,
           0.00005011078894645413,
           0.00010054916452601657,
           0.00017934043613262383,
           0.00028380581391069593,
           0.0003977012247747674,
           0.0004922141974962199,
           0.0005370407165350195,
           0.0005175058888706829,
           0.00044413129076446666,
           0.00034458355648956957,
           0.00024580154592457744,
           0.0001630533139716205,
           0.00010085470807042718,
           0.000058048189753817874,
           0.00003106019782725561,
           0.000015492848913103546,
           0.000007254782676261623,
           0.0000032311334407565656,
           0.0000014152979483802322,
           7.296092999308431e-7,
           7.296092999308431e-7,
           0
          ],
          [
           0,
           2.5898346936607067e-10,
           2.5898346936607067e-10,
           2.4747774502606525e-9,
           1.5596920506744672e-8,
           8.056114816073719e-8,
           3.5092055970670287e-7,
           0.0000013048668696310635,
           0.00000423195797712778,
           0.00001215947747413542,
           0.000031263019747173876,
           0.00007200294737322873,
           0.00014809541209911888,
           0.00027121226698302564,
           0.0004418414358130252,
           0.0006408344214023098,
           0.0008277118894545392,
           0.0009503234184430414,
           0.0009664648974624382,
           0.0008684674104701116,
           0.0006911453638210461,
           0.0004915908907610661,
           0.00031693917052223416,
           0.00018764072919428336,
           0.00010265365175311312,
           0.000051908040829169633,
           0.000024275787134682596,
           0.000010554906179816807,
           0.000004305119995061394,
           0.000001663176241186683,
           6.187756508580962e-7,
           2.6529491849594675e-7,
           2.6529491849594675e-7,
           0
          ],
          [
           0,
           1.863508647434983e-9,
           1.863508647434983e-9,
           1.309691486143529e-8,
           7.379736749385477e-8,
           3.493401365865117e-7,
           0.0000014106208159796282,
           0.000004912453198536451,
           0.000014962191530160977,
           0.00004029147275929585,
           0.0000965672907682283,
           0.00020620365727173874,
           0.00039155506603186295,
           0.000660038559813891,
           0.0009881589061815689,
           0.0013172964347061874,
           0.0015677843451991926,
           0.0016663102518667328,
           0.001576983805033173,
           0.0013233318947607853,
           0.0009828756264055195,
           0.0006485753894851327,
           0.00038384486454307775,
           0.00020599151588641503,
           0.00010090963551182415,
           0.000045149404540321906,
           0.00001844459225020382,
           0.000006918588048062778,
           0.000002418929411458901,
           8.040955402294023e-7,
           2.5676914064624764e-7,
           9.337214190901243e-8,
           9.337214190901243e-8,
           0
          ],
          [
           0,
           1.0255400193440236e-8,
           1.0255400193440236e-8,
           6.00426686321708e-8,
           3.0753342238189547e-7,
           0.0000013386508395277901,
           0.000005007460577690324,
           0.000016274482905173416,
           0.00004642967161225158,
           0.00011714414143339145,
           0.0002624264359176301,
           0.0005221507498124969,
           0.0009211585119843086,
           0.0014388436926526136,
           0.0019915367865827706,
           0.002450711288311769,
           0.0026923630495566185,
           0.0026471539527596353,
           0.0023269798815401623,
           0.001821936923908149,
           0.0012661585224402348,
           0.0007812169428300551,
           0.00043017700252295197,
           0.00021299265063005605,
           0.00009524833644668467,
           0.000038403074899796805,
           0.000013893475068891255,
           0.000004508216153857907,
           0.0000013302670627466618,
           3.6904353615318463e-7,
           9.766303362467646e-8,
           2.936713968018721e-8,
           2.936713968018721e-8,
           0
          ],
          [
           0,
           4.782970829054221e-8,
           4.782970829054221e-8,
           2.425915879705029e-7,
           0.0000011370832930859473,
           0.000004566034614135123,
           0.000015839007079658503,
           0.0000479510866192963,
           0.00012776208723750627,
           0.0003013032766042841,
           0.0006305936656389652,
           0.0011710177151731788,
           0.001925872613998584,
           0.002800483695247333,
           0.003602161616446641,
           0.004110974041616705,
           0.00418192471569295,
           0.0038066566738242115,
           0.003103930099042925,
           0.002262551015157465,
           0.0014698384177962006,
           0.0008501340428909651,
           0.0004389602705866064,
           0.000203283287135262,
           0.00008458577977875596,
           0.000031465686865766654,
           0.00001035168319586261,
           0.0000029801424520456634,
           7.516849645546838e-7,
           1.713984344375682e-7,
           3.5630323470562724e-8,
           8.220869197524957e-9,
           8.220869197524957e-9,
           0
          ],
          [
           0,
           1.9091863759124895e-7,
           1.9091863759124895e-7,
           8.602065784410101e-7,
           0.0000037168146793171212,
           0.000013841913377257407,
           0.00004467666933464788,
           0.00012608414543499553,
           0.0003134006030421402,
           0.0006895657821325735,
           0.001346355469160248,
           0.002332724888023547,
           0.003580493562164603,
           0.0048594481285719375,
           0.005830019746457849,
           0.006196337517643517,
           0.005858141994328753,
           0.00494762232801221,
           0.003742138621752279,
           0.0025345019949366315,
           0.001534897656668655,
           0.0008307991349692288,
           0.00040280452032936015,
           0.00017555015192471582,
           0.00006879819377744955,
           0.0000240683742660734,
           0.00000739757825894638,
           0.000001959604136598049,
           4.409696162945875e-7,
           8.513944504700499e-8,
           1.3579057791164148e-8,
           1.997556624566269e-9,
           1.997556624566269e-9,
           0
          ],
          [
           0,
           6.693280972683089e-7,
           6.693280972683089e-7,
           0.0000026975708671244767,
           0.000010765711112627819,
           0.000037292840580746625,
           0.00011229673201193522,
           0.00029592400971774916,
           0.0006865687651047169,
           0.001408825046379643,
           0.002563811020627208,
           0.004140882551668138,
           0.005929817927814001,
           0.007516298057136139,
           0.008426024437289644,
           0.00836345933915064,
           0.007372527365743316,
           0.0057936932048580515,
           0.0040707047130907024,
           0.002560279348792444,
           0.0014417755537743484,
           0.0007276808804234299,
           0.00033019201697508235,
           0.00013525728292907455,
           0.000050058888475767324,
           0.000016610876322134624,
           0.000004849428992792852,
           0.0000012163105860365441,
           2.55474718900349e-7,
           4.429235296911977e-8,
           5.777534920796509e-9,
           4.075387645890245e-10,
           4.075387645890245e-10,
           0
          ],
          [
           0,
           0.000002079579622176488,
           0.000002079579622176488,
           0.000007524469622676378,
           0.000027731027878397388,
           0.00008942839268537753,
           0.0002515303563780316,
           0.0006197127132161859,
           0.0013435322915358943,
           0.0025729601652056556,
           0.004364751693856878,
           0.006568380595791375,
           0.008768483045594912,
           0.010373605353152642,
           0.010866694900334244,
           0.010082868089533239,
           0.00830302501332781,
           0.006085602526478464,
           0.003980340509281656,
           0.0023269904892902872,
           0.0012173701488123435,
           0.0005711418595893722,
           0.0002413357130159749,
           0.00009236127473928629,
           0.00003210894595314525,
           0.000010080867783555385,
           0.000002803837180940027,
           6.742587784000975e-7,
           1.3568188794947208e-7,
           2.2109530510822214e-8,
           2.610202068169146e-9,
           5.896991618593752e-11,
           5.896991618593752e-11,
           0
          ],
          [
           0,
           0.000005765817125989435,
           0.000005765817125989435,
           0.000018750925578747318,
           0.00006372825216876934,
           0.00019124969154984698,
           0.0005024822114976669,
           0.001158093917580454,
           0.002348417379756046,
           0.004202131767665339,
           0.006651037136670267,
           0.009328308592589816,
           0.011603100722135993,
           0.0127988420176129,
           0.01251434036001063,
           0.010847540477385322,
           0.008345582429863801,
           0.005710354925021928,
           0.0034820118039107675,
           0.001894876643840803,
           0.0009214015891897468,
           0.0004013027028687568,
           0.0001572762210110881,
           0.000055834534557091125,
           0.000018055965770724256,
           0.000005306680282537834,
           0.000001394344302476912,
           3.2086715685601784e-7,
           6.222697740773765e-8,
           9.736942961016253e-9,
           1.1235486278051306e-9,
           7.252423322463393e-12,
           7.252423322463393e-12,
           0
          ],
          [
           0,
           0.000014323218419604423,
           0.000014323218419604423,
           0.00004187570362279595,
           0.00013097468512916289,
           0.000365382474837606,
           0.0008962651295602922,
           0.001932312251675429,
           0.0036671471377737,
           0.00613747669047741,
           0.009074769761234157,
           0.011873109910970573,
           0.013763268188394951,
           0.014145199915061999,
           0.012892299198386033,
           0.010423530754254276,
           0.007482586536473238,
           0.004776363573387033,
           0.002715377662455273,
           0.0013763223364098235,
           0.000622486086584856,
           0.0002516749588930332,
           0.00009130491501130555,
           0.000029906829191157758,
           0.000008908512021081973,
           0.000002415937093940837,
           5.902984028386604e-7,
           1.284554959616078e-7,
           2.3806655146458685e-8,
           3.5891906108622255e-9,
           4.172257055100696e-10,
           1.088351689971586e-12,
           1.088351689971586e-12,
           0
          ],
          [
           0,
           0.00003183283454557674,
           0.00003183283454557674,
           0.00008385180216532765,
           0.0002409669985729477,
           0.0006241795765227053,
           0.0014284426452232165,
           0.0028801508420791106,
           0.0051167989087987755,
           0.008016182009202493,
           0.011085444262359198,
           0.013546746717863212,
           0.014646504471062732,
           0.014025683439955793,
           0.011905832660797745,
           0.008964898970095796,
           0.005993781072522891,
           0.0035630505768769007,
           0.0018858900194309634,
           0.0008895496366596537,
           0.00037406798254355363,
           0.00014035768909870293,
           0.000047093275203269175,
           0.000014188349772435508,
           0.000003865373060695084,
           9.536607447185663e-7,
           2.1246121900156506e-7,
           4.2861748525530597e-8,
           7.421618935701019e-9,
           1.06518103068882e-9,
           1.248266924401395e-10,
           0,
           0,
           0
          ],
          [
           0,
           0.00006309850745825829,
           0.00006309850745825829,
           0.0001504836223715219,
           0.0003970928872753785,
           0.0009540216531357572,
           0.002035190882890454,
           0.003836041618446604,
           0.006379830190489978,
           0.009360598993584488,
           0.012118535406280462,
           0.013849678962238113,
           0.013983430545620805,
           0.012486314591495781,
           0.009871524611275417,
           0.00691713414175177,
           0.004301075113741187,
           0.0023766827353323703,
           0.0011688264678945486,
           0.0005120456990285227,
           0.00019983669826327484,
           0.00006947496721473557,
           0.00002152302340478868,
           0.000005949889442006822,
           0.0000014762361277368372,
           3.277388052917482e-7,
           6.538483451334275e-8,
           1.197569815489799e-8,
           1.8785524450439853e-9,
           2.5280835891222613e-10,
           2.995463146364158e-11,
           0,
           0,
           0
          ],
          [
           0,
           0.00011118703549223811,
           0.00011118703549223811,
           0.00024185159179798135,
           0.0005865566222234967,
           0.001305956039865162,
           0.0025940356868793726,
           0.004566875995226651,
           0.007107784766025382,
           0.009768254671252972,
           0.011847063721227638,
           0.01267650364443369,
           0.011968954149424062,
           0.009978729231106782,
           0.007353782210665146,
           0.004796158673772423,
           0.0027721996504562908,
           0.00142234308860465,
           0.0006488552878613899,
           0.00026345093530995837,
           0.00009518649088530439,
           0.00003057299695276261,
           0.00000871594673329563,
           0.0000022017306070486055,
           4.953896241555966e-7,
           9.801842778681528e-8,
           1.723076711750816e-8,
           2.8132260839572913e-9,
           3.8347497203146763e-10,
           4.724305190798542e-11,
           5.691161329705412e-12,
           0,
           0,
           0
          ],
          [
           0,
           0.0001739357329297304,
           0.0001739357329297304,
           0.0003480141392794235,
           0.0007776941324878811,
           0.001604268991902891,
           0.0029628732400696295,
           0.004864757689879432,
           0.007077740556098904,
           0.009106628806355238,
           0.010348338982373346,
           0.01037553931417306,
           0.009173573298451468,
           0.007152626249108531,
           0.00492103201238127,
           0.002990675762756994,
           0.0016077336466356717,
           0.0007658294485178102,
           0.0003238202608991307,
           0.00012167853617226087,
           0.00004061074362635792,
           0.000012011703989741967,
           0.000003136944929914505,
           7.192557581057713e-7,
           1.4560246979577707e-7,
           2.5298508116258113e-8,
           3.822597584346995e-9,
           5.444043929745298e-10,
           5.989425511220888e-11,
           6.313076581117748e-12,
           7.773940642654185e-13,
           0,
           0,
           0
          ],
          [
           0,
           0.00024201817160312853,
           0.00024201817160312853,
           0.0004488335027009802,
           0.0009273516203486853,
           0.0017736031659031266,
           0.0030417357069714105,
           0.00464762633189438,
           0.006307705375796107,
           0.00758695493315947,
           0.00807254288527602,
           0.007585713657713275,
           0.006287166935557575,
           0.0045922962576868485,
           0.002955585627839223,
           0.0016768948158282708,
           0.0008396383849726272,
           0.0003716212498354792,
           0.00014565729595219699,
           0.000050615333317353484,
           0.000015580804608121364,
           0.0000042320846038580815,
           0.0000010081434198018473,
           2.0813047704451672e-7,
           3.7387519673811175e-8,
           5.527708164849982e-9,
           6.639278134142227e-10,
           7.41268276832419e-11,
           3.893444185554236e-12,
           0,
           0,
           0,
           0,
           0
          ],
          [
           0,
           0.00030093657391960733,
           0.00030093657391960733,
           0.0005199897972396939,
           0.0009965071336944453,
           0.0017698008441210849,
           0.0028171386727024413,
           0.003997005501377929,
           0.005045767548629326,
           0.005658409299086573,
           0.005626751942027554,
           0.004951756655995447,
           0.0038487909167296513,
           0.0026373795266008268,
           0.0015912737339761475,
           0.0008448955485968033,
           0.00039489438796686416,
           0.0001626508054944068,
           0.000059130320034675516,
           0.000018990369733435687,
           0.000005381436578749834,
           0.0000013375877909204018,
           2.8945666474148965e-7,
           5.3507563362993834e-8,
           8.48018199352403e-9,
           1.0640139856157745e-9,
           9.979831592674843e-11,
           1.00510419538189e-11,
           3.1095762570616744e-13,
           0,
           0,
           0,
           0,
           0
          ],
          [
           0,
           0.0003362707813220861,
           0.0003362707813220861,
           0.000542560492071466,
           0.0009660147930607081,
           0.0015962550700658839,
           0.002360264775673429,
           0.0031062646931646525,
           0.0036377387562129687,
           0.0037907377815475734,
           0.00351226523396966,
           0.002888815703844945,
           0.002104263769313981,
           0.0013537391329433116,
           0.0007671347820005253,
           0.0003821409227775653,
           0.000167161327184947,
           0.00006421109392005318,
           0.000021674488904143667,
           0.0000064292467705453455,
           0.0000016722489008032466,
           3.7797117829590003e-7,
           7.375676456887978e-8,
           1.206314967672815e-8,
           1.6541540412273848e-9,
           1.6976161428175458e-10,
           9.889089276738673e-12,
           7.773940642654185e-13,
           0,
           0,
           0,
           0,
           0,
           0
          ],
          [
           0,
           0.0003392449103646528,
           0.0003392449103646528,
           0.0005108975194111897,
           0.0008444641129229634,
           0.0012998296945153742,
           0.0017886018986332196,
           0.002185291780548853,
           0.002371926588978826,
           0.002290983471668172,
           0.0019713302911639674,
           0.0015108503213754013,
           0.0010294317844017388,
           0.0006215017187215588,
           0.0003311111389597004,
           0.00015505380273665663,
           0.00006363196892699681,
           0.000022844999249725817,
           0.000007168435644890991,
           0.0000019619795932385524,
           4.66020530058451e-7,
           9.460909957031897e-8,
           1.6367706111788633e-8,
           2.2933930552709092e-9,
           2.595516374639994e-10,
           2.0112089117687315e-11,
           0,
           0,
           0,
           0,
           0,
           0,
           0,
           0
          ],
          [
           0,
           0.00031045004284100135,
           0.00031045004284100135,
           0.000435343190749842,
           0.0006653883994365306,
           0.0009529123478696025,
           0.001221914513243773,
           0.0013891037815713207,
           0.0013996206997310275,
           0.0012529703303254499,
           0.0009995821713843012,
           0.000712031903599301,
           0.0004527390447313762,
           0.00025615556049231303,
           0.0001282764398794033,
           0.00005651272217924693,
           0.000021786921407997794,
           0.000007321595695393473,
           0.0000021391167584917924,
           5.408646595542681e-7,
           1.1721907373827422e-7,
           2.1284846383859657e-8,
           3.2747009044325327e-9,
           3.939948995077545e-10,
           3.8779044787146795e-11,
           2.9605713084357334e-12,
           0,
           0,
           0,
           0,
           0,
           0,
           0,
           0
          ],
          [
           0,
           0.00026085481586596054,
           0.00026085481586596054,
           0.0003392991412017637,
           0.00047577049962677716,
           0.0006303395305065601,
           0.0007518017326097168,
           0.0007961279167024722,
           0.0007465911059318951,
           0.0006210238284940147,
           0.00045989328658575026,
           0.00030440309595441853,
           0.00018042915826888117,
           0.00009556636866942161,
           0.00004494855714652629,
           0.000018616134549152262,
           0.000006734659123406813,
           0.0000021143143314133472,
           5.738329915145461e-7,
           1.3348530318698622e-7,
           2.609229287607678e-8,
           4.144657068519153e-9,
           5.513170589836976e-10,
           5.192393238471877e-11,
           3.893444185554236e-12,
           3.1095762570616744e-13,
           0,
           0,
           0,
           0,
           0,
           0,
           0,
           0
          ],
          [
           0,
           0.00020939734553871106,
           0.00020939734553871106,
           0.00025217127179548817,
           0.0003213735120646107,
           0.0003896816747050442,
           0.00042882758915742874,
           0.0004212132008844592,
           0.00036735394133303713,
           0.0002843247887675266,
           0.00019583349675012546,
           0.00012061241680768643,
           0.000066687237203687,
           0.00003307556356708597,
           0.000014608613577102632,
           0.000005680540730039996,
           0.000001921937818967472,
           5.600233405072194e-7,
           1.4011601226499195e-7,
           2.9637804461927708e-8,
           5.068508748455641e-9,
           6.770005188500502e-10,
           7.363949839279882e-11,
           3.893444185554236e-12,
           0,
           0,
           0,
           0,
           0,
           0,
           0,
           0,
           0,
           0
          ],
          [
           0,
           0.00017677843026447603,
           0.00017677843026447603,
           0.0002006467512895207,
           0.000235705582410018,
           0.0002632743555175121,
           0.0002679723720362505,
           0.0002445002900172702,
           0.00019876462143336064,
           0.0001436697394198042,
           0.00009244349831543152,
           0.000053197682997243735,
           0.000027531295213771266,
           0.00001282380136002126,
           0.000005329339479916896,
           0.000001945251314010938,
           6.128642243658554e-7,
           1.6381809050883887e-7,
           3.724065302808652e-8,
           7.0031188197919875e-9,
           9.740248432073717e-10,
           1.0623160035340752e-10,
           1.0132018292359013e-11,
           3.1095762570616744e-13,
           0,
           0,
           0,
           0,
           0,
           0,
           0,
           0,
           0,
           0
          ],
          [
           0,
           0.00017677843026447603,
           0.00017677843026447603,
           0.0002006467512895207,
           0.000235705582410018,
           0.0002632743555175121,
           0.0002679723720362505,
           0.0002445002900172702,
           0.00019876462143336064,
           0.0001436697394198042,
           0.00009244349831543152,
           0.000053197682997243735,
           0.000027531295213771266,
           0.00001282380136002126,
           0.000005329339479916896,
           0.000001945251314010938,
           6.128642243658554e-7,
           1.6381809050883887e-7,
           3.724065302808652e-8,
           7.0031188197919875e-9,
           9.740248432073717e-10,
           1.0623160035340752e-10,
           1.0132018292359013e-11,
           3.1095762570616744e-13,
           0,
           0,
           0,
           0,
           0,
           0,
           0,
           0,
           0,
           0
          ],
          [
           0,
           0,
           0,
           0,
           0,
           0,
           0,
           0,
           0,
           0,
           0,
           0,
           0,
           0,
           0,
           0,
           0,
           0,
           0,
           0,
           0,
           0,
           0,
           0,
           0,
           0,
           0,
           0,
           0,
           0,
           0,
           0,
           0,
           0
          ]
         ]
        },
        {
         "error_x": {
          "array": [
           0.009648697993003275
          ],
          "arrayminus": [
           0.01067790151685899
          ],
          "color": "#FF0092",
          "symmetric": false,
          "thickness": 2,
          "type": "data",
          "width": 0
         },
         "error_y": {
          "array": [
           0.01817327816148584
          ],
          "arrayminus": [
           0.01665305683303009
          ],
          "color": "#FF0092",
          "symmetric": false,
          "thickness": 2,
          "type": "data",
          "width": 0
         },
         "marker": {
          "color": "#FF0092",
          "size": 5,
          "symbol": "circle"
         },
         "mode": "markers",
         "name": "$\\alpha$&log$E_{c}$",
         "showlegend": false,
         "type": "scatter",
         "x": [
          -1.5620867142999515
         ],
         "xaxis": "x4",
         "y": [
          2.6900632043825765
         ],
         "yaxis": "y4"
        },
        {
         "line": {
          "color": "#205295",
          "width": 2
         },
         "mode": "lines",
         "name": "log$A$",
         "showlegend": false,
         "type": "scatter",
         "x": [
          -0.7968495990085456,
          -0.7947155991883295,
          -0.7947155991883295,
          -0.7925815993681133,
          -0.7925815993681133,
          -0.7904475995478972,
          -0.7904475995478972,
          -0.7883135997276812,
          -0.7883135997276812,
          -0.7861795999074651,
          -0.7861795999074651,
          -0.784045600087249,
          -0.784045600087249,
          -0.7819116002670329,
          -0.7819116002670329,
          -0.7797776004468168,
          -0.7797776004468168,
          -0.7776436006266007,
          -0.7776436006266007,
          -0.7755096008063845,
          -0.7755096008063845,
          -0.7733756009861684,
          -0.7733756009861684,
          -0.7712416011659524,
          -0.7712416011659524,
          -0.7691076013457363,
          -0.7691076013457363,
          -0.7669736015255202,
          -0.7669736015255202,
          -0.7648396017053041,
          -0.7648396017053041,
          -0.762705601885088,
          -0.762705601885088,
          -0.7605716020648718,
          -0.7605716020648718,
          -0.7584376022446557,
          -0.7584376022446557,
          -0.7563036024244396,
          -0.7563036024244396,
          -0.7541696026042236,
          -0.7541696026042236,
          -0.7520356027840075,
          -0.7520356027840075,
          -0.7499016029637914,
          -0.7499016029637914,
          -0.7477676031435753,
          -0.7477676031435753,
          -0.7456336033233592,
          -0.7456336033233592,
          -0.743499603503143,
          -0.743499603503143,
          -0.7413656036829269,
          -0.7413656036829269,
          -0.7392316038627109,
          -0.7392316038627109,
          -0.7370976040424948,
          -0.7370976040424948,
          -0.7349636042222787,
          -0.7349636042222787,
          -0.7328296044020626
         ],
         "xaxis": "x9",
         "y": [
          0.45742741281728183,
          0.45742741281728183,
          0.8452274983848502,
          0.8452274983848502,
          1.760848102234574,
          1.760848102234574,
          3.4601537014378403,
          3.4601537014378403,
          6.275281345200867,
          6.275281345200867,
          10.551615815529734,
          10.551615815529734,
          16.525345892691636,
          16.525345892691636,
          24.1193662807435,
          24.1193662807435,
          32.71576173051029,
          32.71576173051029,
          41.080209170712386,
          41.080209170712386,
          47.62847123506621,
          47.62847123506621,
          50.9948596316109,
          50.9948596316109,
          50.54961367606002,
          50.54961367606002,
          46.53174772415181,
          46.53174772415181,
          39.83415517609145,
          39.83415517609145,
          31.69323467600147,
          31.69323467600147,
          23.400690419540467,
          23.400690419540467,
          16.026569147221608,
          16.026569147221608,
          10.202523557005385,
          10.202523557005385,
          6.0663785416482146,
          6.0663785416482146,
          3.3921045298574404,
          3.3921045298574404,
          1.803579076774894,
          1.803579076774894,
          0.9381074567883709,
          0.9381074567883709,
          0.5112025170045198,
          0.5112025170045198,
          0.3220607281426884,
          0.3220607281426884,
          0.24339917164361902,
          0.24339917164361902,
          0.20568557231090803,
          0.20568557231090803,
          0.17801766934161223,
          0.17801766934161223,
          0.15312375959150915,
          0.15312375959150915,
          0.13683964957456324,
          0.13683964957456324
         ],
         "yaxis": "y9"
        },
        {
         "error_x": {
          "array": [
           0.006208233692108656
          ],
          "arrayminus": [
           0.006711509070196464
          ],
          "color": "#FF0092",
          "symmetric": false,
          "thickness": 2,
          "type": "data",
          "width": 0
         },
         "marker": {
          "color": "#FF0092",
          "size": 5,
          "symbol": "circle"
         },
         "mode": "markers",
         "name": "log$A$",
         "showlegend": false,
         "type": "scatter",
         "x": [
          -0.7709938409899931
         ],
         "xaxis": "x9",
         "y": [
          0.01
         ],
         "yaxis": "y9"
        },
        {
         "colorscale": [
          [
           0,
           "rgb(247,251,255)"
          ],
          [
           0.125,
           "rgb(222,235,247)"
          ],
          [
           0.25,
           "rgb(198,219,239)"
          ],
          [
           0.375,
           "rgb(158,202,225)"
          ],
          [
           0.5,
           "rgb(107,174,214)"
          ],
          [
           0.625,
           "rgb(66,146,198)"
          ],
          [
           0.75,
           "rgb(33,113,181)"
          ],
          [
           0.875,
           "rgb(8,81,156)"
          ],
          [
           1,
           "rgb(8,48,107)"
          ]
         ],
         "contours": {
          "end": 0.00935391225128763,
          "size": 0.007313989701085189,
          "start": 0.0020399225502024413
         },
         "line": {
          "width": 2
         },
         "name": "$\\alpha$&log$A$",
         "ncontours": 2,
         "showlegend": false,
         "showscale": false,
         "type": "contour",
         "x": [
          -1.6049979003935948,
          -1.6015566609199496,
          -1.5981154214463045,
          -1.5946741819726593,
          -1.5912329424990141,
          -1.5877917030253688,
          -1.5843504635517236,
          -1.5809092240780784,
          -1.577467984604433,
          -1.574026745130788,
          -1.5705855056571427,
          -1.5671442661834973,
          -1.5637030267098524,
          -1.560261787236207,
          -1.5568205477625616,
          -1.5533793082889167,
          -1.5499380688152713,
          -1.5464968293416261,
          -1.543055589867981,
          -1.5396143503943356,
          -1.5361731109206904,
          -1.5327318714470453,
          -1.5292906319733999,
          -1.5258493924997547,
          -1.5224081530261095,
          -1.5189669135524642,
          -1.515525674078819,
          -1.5120844346051738,
          -1.5086431951315284,
          -1.5052019556578835,
          -1.5017607161842381,
          -1.4983194767105927,
          -1.4948782372369473,
          -1.491436997763302
         ],
         "xaxis": "x7",
         "y": [
          -0.8000505987388697,
          -0.7979165989186536,
          -0.7957825990984375,
          -0.7936485992782214,
          -0.7915145994580053,
          -0.7893805996377892,
          -0.7872465998175732,
          -0.785112599997357,
          -0.7829786001771409,
          -0.7808446003569248,
          -0.7787106005367087,
          -0.7765766007164926,
          -0.7744426008962765,
          -0.7723086010760605,
          -0.7701746012558444,
          -0.7680406014356282,
          -0.7659066016154121,
          -0.763772601795196,
          -0.7616386019749799,
          -0.7595046021547638,
          -0.7573706023345477,
          -0.7552366025143316,
          -0.7531026026941156,
          -0.7509686028738994,
          -0.7488346030536833,
          -0.7467006032334672,
          -0.7445666034132511,
          -0.742432603593035,
          -0.740298603772819,
          -0.7381646039526029,
          -0.7360306041323867,
          -0.7338966043121706,
          -0.7317626044919545,
          -0.7296286046717384
         ],
         "yaxis": "y7",
         "z": [
          [
           0,
           0,
           0,
           0,
           0,
           0,
           0,
           0,
           0,
           0,
           0,
           0,
           0,
           0,
           0,
           0,
           0,
           0,
           0,
           0,
           0,
           0,
           0,
           0,
           0,
           0,
           0,
           0,
           0,
           0,
           0,
           0,
           0,
           0
          ],
          [
           0,
           0.00011324448802977373,
           0.00011324448802977373,
           0.00012410766434434438,
           0.00013802310552844913,
           0.00014449969737370972,
           0.00013674070119744562,
           0.00011506652109550897,
           0.00008569801302126365,
           0.000056475740839574295,
           0.000032944085249591764,
           0.000016991306123558164,
           0.000007728554663775777,
           0.0000030928673359962664,
           0.0000010864084817843481,
           3.346110428004714e-7,
           9.01732317777887e-8,
           2.108561504426136e-8,
           4.175635817283674e-9,
           7.148986516833216e-10,
           9.225780617262516e-11,
           1.0281023240984953e-11,
           4.664364385592511e-13,
           0,
           0,
           0,
           0,
           0,
           0,
           0,
           0,
           0,
           0,
           0
          ],
          [
           0,
           0.00011324448802977373,
           0.00011324448802977373,
           0.00012410766434434438,
           0.00013802310552844913,
           0.00014449969737370972,
           0.00013674070119744562,
           0.00011506652109550897,
           0.00008569801302126365,
           0.000056475740839574295,
           0.000032944085249591764,
           0.000016991306123558164,
           0.000007728554663775777,
           0.0000030928673359962664,
           0.0000010864084817843481,
           3.346110428004714e-7,
           9.01732317777887e-8,
           2.108561504426136e-8,
           4.175635817283674e-9,
           7.148986516833216e-10,
           9.225780617262516e-11,
           1.0281023240984953e-11,
           4.664364385592511e-13,
           0,
           0,
           0,
           0,
           0,
           0,
           0,
           0,
           0,
           0,
           0
          ],
          [
           0,
           0.00015567184681467269,
           0.00015567184681467269,
           0.00018104939073419887,
           0.00021887553116163575,
           0.00024964306601949404,
           0.0002569246438865207,
           0.00023511973878741587,
           0.00019074662286442483,
           0.00013720688087113934,
           0.00008749096025795746,
           0.00004938256830212807,
           0.000024618472307697513,
           0.000010818874294991685,
           0.000004183781693934834,
           0.0000014211679907680295,
           4.2275762817379685e-7,
           1.0940215124260225e-7,
           2.424707332040888e-8,
           4.59568592058256e-9,
           6.881103684833413e-10,
           8.649067110940438e-11,
           6.157597768264663e-12,
           3.1095762570616744e-13,
           0,
           0,
           0,
           0,
           0,
           0,
           0,
           0,
           0,
           0
          ],
          [
           0,
           0.00022932688664585786,
           0.00022932688664585786,
           0.000285468093681435,
           0.00037680730735544594,
           0.0004680816234428882,
           0.0005229264368849344,
           0.000519056314710103,
           0.00045688047377676007,
           0.0003565793112101131,
           0.0002465718680756387,
           0.0001508274492321502,
           0.00008146619515835695,
           0.00003878857023624329,
           0.000016253093082418338,
           0.000005981817639348458,
           0.0000019283496913239094,
           5.418227262366874e-7,
           1.313145209992483e-7,
           2.72577763106872e-8,
           4.621271645253864e-9,
           6.573790425333615e-10,
           6.411144501837308e-11,
           4.677312114046797e-12,
           3.1095762570616744e-13,
           0,
           0,
           0,
           0,
           0,
           0,
           0,
           0,
           0
          ],
          [
           0,
           0.00031009599090747335,
           0.00031009599090747335,
           0.0004125844269321975,
           0.0005910792989846599,
           0.0007948131152321561,
           0.0009597403045936053,
           0.0010300515624290549,
           0.0009807992806953607,
           0.0008279336680307107,
           0.0006188525398833548,
           0.0004089431057895728,
           0.00023849023655266795,
           0.00012252902428771726,
           0.000055359518152661887,
           0.00002195722549100784,
           0.000007631642741299849,
           0.0000023188927504976845,
           6.133286708569592e-7,
           1.4093495033294696e-7,
           2.7678410123821235e-8,
           4.796695900628155e-9,
           6.973555694574174e-10,
           9.338260648474367e-11,
           1.2626153162235496e-11,
           1.2438305028246698e-12,
           0,
           0,
           0,
           0,
           0,
           0,
           0,
           0
          ],
          [
           0,
           0.00036663341491870535,
           0.00036663341491870535,
           0.0005235444428419367,
           0.0008153178953063158,
           0.0011881345851032532,
           0.0015529698229393989,
           0.0018042592418504612,
           0.0018594481091841503,
           0.001697906234780834,
           0.001371827441728646,
           0.0009791046709913026,
           0.0006161270856478115,
           0.00034113307096830786,
           0.00016587382435056752,
           0.00007074383647535897,
           0.00002645174630603661,
           0.000008672731901474932,
           0.0000024949326177646417,
           6.316206379522195e-7,
           1.4050260405664458e-7,
           2.812803155361207e-8,
           4.985589362516089e-9,
           8.017748567709908e-10,
           1.2141705622165808e-10,
           1.3876457529287307e-11,
           6.219152514123349e-13,
           0,
           0,
           0,
           0,
           0,
           0,
           0
          ],
          [
           0,
           0.00037593622590877243,
           0.00037593622590877243,
           0.0005809628674851681,
           0.000988398841070945,
           0.0015659314884813869,
           0.002220476337672792,
           0.002796236470938632,
           0.003121058629988468,
           0.0030839438314477653,
           0.0026939637136896774,
           0.0020767227902586615,
           0.0014096267896445038,
           0.000840591413165736,
           0.0004396454345168211,
           0.00020158356306604767,
           0.000081107655283724,
           0.000028706291042679566,
           0.000008973560783973071,
           0.0000024923952685251132,
           6.171405110350953e-7,
           1.3780636423005577e-7,
           2.7387162826807658e-8,
           4.783495219815027e-9,
           7.459342430925673e-10,
           8.609436423977971e-11,
           4.055396862634462e-12,
           0,
           0,
           0,
           0,
           0,
           0,
           0
          ],
          [
           0,
           0.00033634976894876415,
           0.00033634976894876415,
           0.0005677100553208688,
           0.001059720498859975,
           0.0018290533257258928,
           0.0028167478436216353,
           0.003846507012074319,
           0.004650514121640957,
           0.004972543867704717,
           0.004695425238764739,
           0.003907597516771481,
           0.0028591715552437765,
           0.0018354698496810139,
           0.0010327096285231456,
           0.0005095263097544884,
           0.00022094920054816994,
           0.0000845460597331712,
           0.000028715335679036944,
           0.000008716375658253339,
           0.00000237346009892446,
           5.812829982085136e-7,
           1.263937782680708e-7,
           2.3952771106034204e-8,
           4.189911752574021e-9,
           8.939000659955618e-10,
           4.952102072644797e-10,
           4.1010431754668267e-10,
           2.8111228818765187e-10,
           1.506240437624177e-10,
           6.373847909866093e-11,
           2.5512457013286787e-11,
           2.5512457013286787e-11,
           0
          ],
          [
           0,
           0.00026544218624714955,
           0.00026544218624714955,
           0.0004927596603600913,
           0.0010106850004725446,
           0.001900646790104565,
           0.003178445230656024,
           0.004705398159959408,
           0.006159532223380849,
           0.007122270468522413,
           0.007263189305554539,
           0.006518416254284439,
           0.005136751332716247,
           0.0035489481721648762,
           0.002149363760952107,
           0.0011427938733808585,
           0.0005350740476276313,
           0.0002216374522564001,
           0.00008170181226266531,
           0.000026957659772562057,
           0.00000797586673099442,
           0.0000021093969211665744,
           4.92081288513752e-7,
           9.957308159521592e-8,
           1.880209081123743e-8,
           4.9175498560070925e-9,
           3.2045281675977035e-9,
           2.67670373619399e-9,
           1.8330823837737891e-9,
           9.82192144547413e-10,
           4.156270932073095e-10,
           1.6636211749884056e-10,
           1.6636211749884056e-10,
           0
          ],
          [
           0,
           0.00018658346626435388,
           0.00018658346626435388,
           0.00038214398102792517,
           0.0008600774277403271,
           0.0017601373900912305,
           0.003193468760911727,
           0.005120470795450035,
           0.007249235768129428,
           0.009052163519229595,
           0.009954073074421935,
           0.009620468886303468,
           0.008158713788038537,
           0.006067309536042083,
           0.003959518650937143,
           0.002272332650813286,
           0.0011505300074083076,
           0.0005161369572477649,
           0.0002061479301321405,
           0.00007358939734823414,
           0.00002347859089480404,
           0.000006662859026814202,
           0.000001665494077170585,
           3.656965548990008e-7,
           7.878161516770677e-8,
           2.599454419206688e-8,
           1.805312039163766e-8,
           1.4466410265794492e-8,
           9.646097742073805e-9,
           5.093620756027833e-9,
           2.1369387347385337e-9,
           8.507031847142598e-10,
           8.507031847142598e-10,
           0
          ],
          [
           0,
           0.00011736889710633229,
           0.00011736889710633229,
           0.0002652167505875329,
           0.0006532484696277982,
           0.0014523695521400225,
           0.002854999161486487,
           0.004950653968931488,
           0.007566731321501901,
           0.010184321004875424,
           0.012055181851911276,
           0.01253329230745392,
           0.011436286102764572,
           0.009161148892996651,
           0.006451097546886656,
           0.004001914691659644,
           0.002193095137637559,
           0.0010651909375375345,
           0.00046007806438698977,
           0.0001770849491023633,
           0.000060685851640235525,
           0.000018443764048360648,
           0.000004949900700460383,
           0.0000011879123010679567,
           2.917336921070358e-7,
           1.1120671668311119e-7,
           7.757175453750347e-8,
           5.994133615407673e-8,
           3.91443433046771e-8,
           2.0445398750115295e-8,
           8.52399351925181e-9,
           3.3802192517253444e-9,
           3.3802192517253444e-9,
           0
          ],
          [
           0,
           0.00006601534084377158,
           0.00006601534084377158,
           0.0001644413585221806,
           0.0004421316803364867,
           0.001066081419710484,
           0.002266609748674041,
           0.004242085198550626,
           0.006985255762906612,
           0.010114872197546311,
           0.01287230814077696,
           0.014391698317277669,
           0.014139056536470322,
           0.01221698231256456,
           0.009296730585239487,
           0.006240589624976177,
           0.003702347347090743,
           0.0019455714745326227,
           0.0009075645606333575,
           0.000376265863645061,
           0.00013856998834611484,
           0.000045269856389799864,
           0.000013147237571909903,
           0.000003484865766597794,
           9.719909272867583e-7,
           4.025250230875115e-7,
           2.6989410829252364e-7,
           1.9806704417940915e-7,
           1.255463944254997e-7,
           6.449373414538535e-8,
           2.6624725190358122e-8,
           1.0492467935585873e-8,
           1.0492467935585873e-8,
           0
          ],
          [
           0,
           0.00003307043613402082,
           0.00003307043613402082,
           0.00009081573222201363,
           0.0002660435613284597,
           0.0006945044226917079,
           0.0015938340449817938,
           0.0032126742852056707,
           0.005688718913783842,
           0.008851555986305338,
           0.012107656218149002,
           0.014568317017742754,
           0.015432814207994123,
           0.01440686393789557,
           0.01186122613147179,
           0.008619000349771783,
           0.005533650036895887,
           0.003143880130117481,
           0.0015833516437996338,
           0.000707824069939584,
           0.00028108579010101135,
           0.00009932689562708158,
           0.00003148767107894537,
           0.000009282643038774767,
           0.000002905772585842149,
           0.0000012492858835365674,
           7.783858760198868e-7,
           5.305539008335453e-7,
           3.214645069116757e-7,
           1.6085199864077998e-7,
           6.535252969331279e-8,
           2.5492242070185688e-8,
           2.5492242070185688e-8,
           0
          ],
          [
           0,
           0.000014696506498407194,
           0.000014696506498407194,
           0.00004456280376101972,
           0.00014204334926355233,
           0.00040072595646897964,
           0.0009906069252737656,
           0.0021465291617784594,
           0.004082357071482655,
           0.006824260288359977,
           0.010041770767502145,
           0.01302420431535835,
           0.014903215268590125,
           0.01505003722310325,
           0.013411162152131983,
           0.010545054399522105,
           0.007321037937313806,
           0.004494852486111863,
           0.0024455863976448103,
           0.001181619059118402,
           0.0005080819316514131,
           0.0001952240616084883,
           0.00006784941153664155,
           0.00002219323025182489,
           0.0000076454373043848,
           0.000003322186000415652,
           0.0000018925710650013358,
           0.0000011733810905212157,
           6.664752844996398e-7,
           3.2026235535269256e-7,
           1.2683172374861636e-7,
           4.864754648749204e-8,
           4.864754648749204e-8,
           0
          ],
          [
           0,
           0.000005783441678459937,
           0.000005783441678459937,
           0.00001941283879022407,
           0.0000672442900373764,
           0.0002046400514907597,
           0.0005438698233285076,
           0.0012651563793950663,
           0.0025833489220422404,
           0.004642971210983143,
           0.007361425374516209,
           0.01031057729626597,
           0.012760501044943022,
           0.013944325450131521,
           0.013440937315693903,
           0.011423762874191144,
           0.008569359281949702,
           0.005685959406592076,
           0.0033465547982918092,
           0.0017519865053676103,
           0.0008181605938693266,
           0.00034254724554039884,
           0.00013035236025132194,
           0.000046860763055139814,
           0.000017408707866848467,
           0.000007551538915902146,
           0.000003930784714777874,
           0.000002186474855501352,
           0.0000011401923259725136,
           5.164409662939155e-7,
           1.9652551009526401e-7,
           7.334411821554903e-8,
           7.334411821554903e-8,
           0
          ],
          [
           0,
           0.0000020192287339051547,
           0.0000020192287339051547,
           0.000007518904479263065,
           0.000028255229047089197,
           0.00009256736431365388,
           0.0002640041648103128,
           0.0006586600274230916,
           0.0014443977457121954,
           0.0027947362216514597,
           0.004782473213427345,
           0.00724247760999398,
           0.00969639155172576,
           0.01145613827060826,
           0.011927953804620152,
           0.010945021103046439,
           0.008867227042633161,
           0.00636251880676796,
           0.004056913687366977,
           0.002305093473566495,
           0.0011699736756666567,
           0.000532969028210668,
           0.0002208418073880301,
           0.0000861742468642462,
           0.00003393001809856402,
           0.000014627537728541193,
           0.000007025518243100361,
           0.0000034987491087152934,
           0.0000016477322656719097,
           6.889094284097255e-7,
           2.4704481092199626e-7,
           8.826649675876236e-8,
           8.826649675876236e-8,
           0
          ],
          [
           0,
           6.279381308880546e-7,
           6.279381308880546e-7,
           0.0000025948059277768035,
           0.000010550617462771396,
           0.00003712155609924831,
           0.00011340918282199746,
           0.0003032940468473729,
           0.0007148182707110368,
           0.001491082435804076,
           0.002757056135333714,
           0.004514758267483612,
           0.006531908561094801,
           0.008329824750083053,
           0.00935391225128763,
           0.00925959937375215,
           0.008104377529132886,
           0.006295186735231489,
           0.004353581416580128,
           0.0026855520232011375,
           0.0014794638444633069,
           0.0007305838600509221,
           0.0003273624662288408,
           0.00013708308115813818,
           0.00005648723444938413,
           0.000024181897081631382,
           0.000010861804820381946,
           0.00000488486029578556,
           0.0000020643806021812115,
           7.827247204091374e-7,
           2.5859130451687354e-7,
           8.645849156754639e-8,
           8.645849156754639e-8,
           0
          ],
          [
           0,
           1.741717069996196e-7,
           1.741717069996196e-7,
           7.974081340235104e-7,
           0.000003495633560544181,
           0.000013176691774947154,
           0.00004306598126008122,
           0.00012348428513649976,
           0.00031316355622745335,
           0.0007050835974330537,
           0.0014089829791414325,
           0.002492292874872336,
           0.003889633650281218,
           0.005344819257334533,
           0.0064674547850164495,
           0.006908297217839202,
           0.006539147955664236,
           0.0055056202938783645,
           0.0041320544706736646,
           0.0027650333649592274,
           0.0016493629142919576,
           0.0008794943833647151,
           0.00042378262093706754,
           0.0001889906842094853,
           0.00008095481657651898,
           0.000034502078402401165,
           0.000014705085639785642,
           0.000006070201076751128,
           0.000002320095772557125,
           7.949519285203766e-7,
           2.391538319427299e-7,
           7.398730545188298e-8,
           7.398730545188298e-8,
           0
          ],
          [
           0,
           4.2818153151866535e-8,
           4.2818153151866535e-8,
           2.1629628536543502e-7,
           0.0000010189505173552798,
           0.000004111890611544156,
           0.000014388170559752115,
           0.00004432012066126164,
           0.00012118137988434142,
           0.000294753891871845,
           0.0006362022275768589,
           0.0012136887798087264,
           0.0020399225502024413,
           0.0030179046087729653,
           0.0039364155102370344,
           0.004543315014557073,
           0.0046592245644492564,
           0.004257572027010851,
           0.0034681903325388505,
           0.0025145465937721516,
           0.0016206267344682078,
           0.0009307713395598124,
           0.0004809767046090872,
           0.00022786020675892634,
           0.00010150906191196916,
           0.00004345603188946075,
           0.000017920823082200535,
           0.000006972374631934672,
           0.000002484208304374166,
           7.970138233600775e-7,
           2.3097475276807255e-7,
           7.447758855982832e-8,
           7.447758855982832e-8,
           0
          ],
          [
           0,
           9.263103834611078e-9,
           9.263103834611078e-9,
           5.098723470261361e-8,
           2.5745100667176395e-7,
           0.0000011150681714076403,
           0.0000041954627475819036,
           0.000013946220686554387,
           0.00004123117252441632,
           0.00010843170554512675,
           0.0002526046026864094,
           0.0005191321124652816,
           0.0009392395704114886,
           0.0014971241840961648,
           0.002108978364619175,
           0.0026367318799660508,
           0.0029361779621991284,
           0.0029156096456273853,
           0.002577462667641553,
           0.002022401348223508,
           0.0014063789761454718,
           0.0008693243458232294,
           0.00048202326121442866,
           0.0002433134893303547,
           0.00011372102992799325,
           0.00004986827307589876,
           0.000020582576995743296,
           0.000007943582629655803,
           0.0000028543467312242733,
           9.759479663276662e-7,
           3.4100040834663716e-7,
           1.5693719469233187e-7,
           1.5693719469233187e-7,
           0
          ],
          [
           0,
           1.6767576776641972e-9,
           1.6767576776641972e-9,
           1.0064120107959984e-8,
           5.4889084269145794e-8,
           2.5795442277026974e-7,
           0.0000010546410734416072,
           0.000003814437367036129,
           0.000012248700629194046,
           0.000034884417302905596,
           0.00008774609794899157,
           0.00019437442248213224,
           0.00037916614276627646,
           0.0006529820734276758,
           0.0009968603736206394,
           0.001354543154252946,
           0.0016416509377149193,
           0.0017726968030288158,
           0.0016994148974774266,
           0.0014411298489200085,
           0.0010804386044669053,
           0.0007194356685689911,
           0.0004296442419827546,
           0.00023302562386274755,
           0.00011619827130320714,
           0.00005383562678469243,
           0.000023418386719989577,
           0.000009722889039330379,
           0.0000039840916163813315,
           0.0000017081567431577884,
           8.268288353115051e-7,
           5.207949192405676e-7,
           5.207949192405676e-7,
           0
          ],
          [
           0,
           2.5693988454325894e-10,
           2.5693988454325894e-10,
           1.6462548625549542e-9,
           9.747122418208777e-9,
           5.0321326814741566e-8,
           2.2641341242227945e-7,
           8.994653854703238e-7,
           0.0000031541163465243776,
           0.000009757415385108146,
           0.00002657218716113343,
           0.00006366380183876103,
           0.00013447653800807298,
           0.0002514211794934317,
           0.00041783439622890517,
           0.0006190313526103947,
           0.0008174833777823301,
           0.0009590653971027171,
           0.000994890619954916,
           0.0009099974832656838,
           0.0007353936169846376,
           0.0005291522626556718,
           0.000342944126744765,
           0.00020253998048054748,
           0.00011013057023344646,
           0.000055843931979309265,
           0.000027036231848512238,
           0.000013023561512301185,
           0.000006583918235928505,
           0.00000363754853228003,
           0.0000022515703090677223,
           0.0000016774217335687087,
           0.0000016774217335687087,
           0
          ],
          [
           0,
           2.992314457429064e-11,
           2.992314457429064e-11,
           2.0814047243822323e-10,
           1.3843003486500156e-9,
           8.07796454331364e-9,
           4.085205913790362e-8,
           1.8071548133391027e-7,
           6.982729520667335e-7,
           0.0000023621283494816945,
           0.000007013658933023378,
           0.000018307774195940185,
           0.00004217226677013228,
           0.00008611540159554153,
           0.00015641005414741707,
           0.0002529346760184314,
           0.0003633309026932532,
           0.00046142794136553645,
           0.0005159894301379701,
           0.0005081641502643519,
           0.00044373134655333404,
           0.0003477599556402615,
           0.0002478211553163794,
           0.0001621226363486284,
           0.00009817320279079893,
           0.000055985915409173844,
           0.00003121997555811396,
           0.00001799857319313477,
           0.000011203345555380216,
           0.000007558569392021816,
           0.000005524395620304889,
           0.000004580428913415897,
           0.000004580428913415897,
           0
          ],
          [
           0,
           3.1095762570616744e-13,
           3.1095762570616744e-13,
           7.942367183961555e-12,
           1.0137093177207199e-10,
           8.60311258040493e-10,
           5.554777633193083e-9,
           2.9245225569556323e-8,
           1.2934957875384678e-7,
           4.895910150028234e-7,
           0.0000016133472290405587,
           0.000004651208912082862,
           0.000011797515836278202,
           0.00002645450492490401,
           0.0000525646005958339,
           0.00009250340005052124,
           0.00014373084627784203,
           0.0001964405110194501,
           0.00023601782881151314,
           0.00025083827780873394,
           0.00023902578316289976,
           0.00020747868326553463,
           0.00016573676707775896,
           0.00012215248485493373,
           0.00008346970564457807,
           0.00005412485978934005,
           0.00003502592754893465,
           0.000023987160549802012,
           0.000017762711446409025,
           0.000013949410240634404,
           0.000011555780137048471,
           0.00001038511841318157,
           0.00001038511841318157,
           0
          ],
          [
           0,
           0,
           0,
           3.1095762570616744e-13,
           7.39495440686219e-12,
           8.070344388162706e-11,
           6.352125245105477e-10,
           3.959990616581586e-9,
           2.0372489655541568e-8,
           8.768978186429348e-8,
           3.2660484257415034e-7,
           0.0000010542808995848573,
           0.0000029659536322995934,
           0.0000073100029390677746,
           0.0000158230493778199,
           0.000030077972357926155,
           0.00005016588799974812,
           0.00007346413343251969,
           0.00009511372045742571,
           0.00011057739788716103,
           0.0001177472832030557,
           0.00011628963337701984,
           0.0001062858944902663,
           0.00008913150279300695,
           0.00006886148194854867,
           0.00005063103632939774,
           0.00003762921708679999,
           0.000029822316876555347,
           0.000025277608457632716,
           0.00002231518392251001,
           0.00002040689108817064,
           0.0000195162800985376,
           0.0000195162800985376,
           0
          ],
          [
           0,
           0,
           0,
           0,
           1.5547881285308372e-13,
           2.7241161570425363e-12,
           3.9655283778973825e-11,
           3.6762429759508005e-10,
           2.5370941844506014e-9,
           1.3266692141967852e-8,
           5.807616761436818e-8,
           2.1354405139968994e-7,
           6.683389110251933e-7,
           0.0000018010450439972358,
           0.000004210814474904824,
           0.00000857143435167367,
           0.00001527682360621102,
           0.000024083538817866846,
           0.00003423559392121892,
           0.00004500713747685307,
           0.00005561993923687193,
           0.00006421902117324526,
           0.0000678458587582253,
           0.0000647113917413756,
           0.000056333144836531045,
           0.00004663148082021678,
           0.000039020011623925234,
           0.00003451778107372945,
           0.000032203703767036784,
           0.000030992817241547504,
           0.00003052094412516367,
           0.00003051888078901746,
           0.00003051888078901746,
           0
          ],
          [
           0,
           0,
           0,
           0,
           0,
           0,
           1.554788128530837e-12,
           3.039311235867227e-11,
           3.081655309349495e-10,
           1.9161094618427404e-9,
           9.611432796272714e-9,
           3.926274842911039e-8,
           1.3383658067805823e-7,
           3.876451770645429e-7,
           9.685121949597138e-7,
           0.0000021026477696438792,
           0.0000040350719181885924,
           0.000007025856276713884,
           0.000011467867723663204,
           0.000017924815161576443,
           0.000026560044503726835,
           0.00003611906277243836,
           0.00004390092140171862,
           0.000047488973349900595,
           0.00004660492412633786,
           0.000043138417257055174,
           0.00003961781165221178,
           0.00003760554128243249,
           0.000037205089041067393,
           0.00003786760078291676,
           0.000039087346664845607,
           0.00004012067248696486,
           0.00004012067248696486,
           0
          ],
          [
           0,
           0,
           0,
           0,
           0,
           0,
           0,
           2.3386560570233985e-12,
           3.778167464576483e-11,
           2.64744115945823e-10,
           1.461361173101124e-9,
           6.4141197684080034e-9,
           2.3205838427218574e-8,
           7.087470124541809e-8,
           1.883395353579585e-7,
           4.404180254648214e-7,
           9.399365284915985e-7,
           0.0000019160678698588266,
           0.000003823241527058709,
           0.000007353296252925617,
           0.00001304603995832805,
           0.00002059742512716796,
           0.00002859902744943964,
           0.00003517210838560452,
           0.00003896195532092747,
           0.00003986122813223306,
           0.00003916754387509423,
           0.00003873226280706709,
           0.000039574848385452254,
           0.00004149851070948598,
           0.00004371710334579808,
           0.000045241360211700016,
           0.000045241360211700016,
           0
          ],
          [
           0,
           0,
           0,
           0,
           0,
           0,
           0,
           3.1095762570616744e-13,
           5.454706178312215e-12,
           3.825458494855123e-11,
           2.133870685912576e-10,
           9.477522700761975e-10,
           3.4819673271750926e-9,
           1.0857037107369979e-8,
           3.073580884531506e-8,
           8.015803453501476e-8,
           2.0360021287229719e-7,
           5.258584907311216e-7,
           0.0000013272282097461233,
           0.000003099589938558778,
           0.000006420333332999255,
           0.000011628434324629043,
           0.00001846285553315759,
           0.00002583772148363241,
           0.000031993132072077826,
           0.00003551258940938847,
           0.00003671428296285855,
           0.00003748538079164265,
           0.000039269730461037746,
           0.000041825850808771336,
           0.000044097988238588965,
           0.00004535866009218937,
           0.00004535866009218937,
           0
          ],
          [
           0,
           0,
           0,
           0,
           0,
           0,
           0,
           0,
           3.1095762570616744e-13,
           2.649613682729566e-12,
           1.6529602557839247e-11,
           8.018066974664832e-11,
           3.1899168398550275e-10,
           1.0696679007558165e-9,
           3.677699559668052e-9,
           1.2589876046062385e-8,
           4.336272034174665e-8,
           1.5164836379714996e-7,
           4.7597186691699203e-7,
           0.0000013110642875050423,
           0.0000031383382570595,
           0.000006550206250852668,
           0.000011916403012191421,
           0.000018760118234235045,
           0.000025411506013699256,
           0.000030020417860803925,
           0.00003244323715062373,
           0.000034396900125744856,
           0.00003718125574483405,
           0.000040156899854990055,
           0.00004206238585263763,
           0.000042728603936822246,
           0.000042728603936822246,
           0
          ],
          [
           0,
           0,
           0,
           0,
           0,
           0,
           0,
           0,
           0,
           0,
           0,
           0,
           1.6357644670709504e-12,
           1.3316137895962416e-11,
           2.859010166400274e-10,
           2.2000219916751454e-9,
           1.1472174787828603e-8,
           5.445409161168819e-8,
           2.0326281821740105e-7,
           6.472797039847627e-7,
           0.0000017796992190815194,
           0.000004230357730211657,
           0.000008585178705617824,
           0.000014668864460820082,
           0.000021025381207788093,
           0.000025843471324295883,
           0.000028884553305290186,
           0.000031684585338201246,
           0.00003524064996963495,
           0.00003853293835500069,
           0.000040182172366381065,
           0.00004043896594471303,
           0.00004043896594471303,
           0
          ],
          [
           0,
           0,
           0,
           0,
           0,
           0,
           0,
           0,
           0,
           0,
           0,
           0,
           1.6357644670709504e-12,
           1.3316137895962416e-11,
           2.859010166400274e-10,
           2.2000219916751454e-9,
           1.1472174787828603e-8,
           5.445409161168819e-8,
           2.0326281821740105e-7,
           6.472797039847627e-7,
           0.0000017796992190815194,
           0.000004230357730211657,
           0.000008585178705617824,
           0.000014668864460820082,
           0.000021025381207788093,
           0.000025843471324295883,
           0.000028884553305290186,
           0.000031684585338201246,
           0.00003524064996963495,
           0.00003853293835500069,
           0.000040182172366381065,
           0.00004043896594471303,
           0.00004043896594471303,
           0
          ],
          [
           0,
           0,
           0,
           0,
           0,
           0,
           0,
           0,
           0,
           0,
           0,
           0,
           0,
           0,
           0,
           0,
           0,
           0,
           0,
           0,
           0,
           0,
           0,
           0,
           0,
           0,
           0,
           0,
           0,
           0,
           0,
           0,
           0,
           0
          ]
         ]
        },
        {
         "error_x": {
          "array": [
           0.009648697993003275
          ],
          "arrayminus": [
           0.01067790151685899
          ],
          "color": "#FF0092",
          "symmetric": false,
          "thickness": 2,
          "type": "data",
          "width": 0
         },
         "error_y": {
          "array": [
           0.006208233692108656
          ],
          "arrayminus": [
           0.006711509070196464
          ],
          "color": "#FF0092",
          "symmetric": false,
          "thickness": 2,
          "type": "data",
          "width": 0
         },
         "marker": {
          "color": "#FF0092",
          "size": 5,
          "symbol": "circle"
         },
         "mode": "markers",
         "name": "$\\alpha$&log$A$",
         "showlegend": false,
         "type": "scatter",
         "x": [
          -1.5620867142999515
         ],
         "xaxis": "x7",
         "y": [
          -0.7709938409899931
         ],
         "yaxis": "y7"
        },
        {
         "colorscale": [
          [
           0,
           "rgb(247,251,255)"
          ],
          [
           0.125,
           "rgb(222,235,247)"
          ],
          [
           0.25,
           "rgb(198,219,239)"
          ],
          [
           0.375,
           "rgb(158,202,225)"
          ],
          [
           0.5,
           "rgb(107,174,214)"
          ],
          [
           0.625,
           "rgb(66,146,198)"
          ],
          [
           0.75,
           "rgb(33,113,181)"
          ],
          [
           0.875,
           "rgb(8,81,156)"
          ],
          [
           1,
           "rgb(8,48,107)"
          ]
         ],
         "contours": {
          "end": 0.009205869863435748,
          "size": 0.0072618957490976155,
          "start": 0.001943974114338133
         },
         "line": {
          "width": 2
         },
         "name": "log$E_{c}$&log$A$",
         "ncontours": 2,
         "showlegend": false,
         "showscale": false,
         "type": "contour",
         "x": [
          2.5815075492394275,
          2.5870233084435137,
          2.5925390676476,
          2.598054826851686,
          2.6035705860557723,
          2.609086345259858,
          2.614602104463944,
          2.62011786366803,
          2.6256336228721158,
          2.6311493820762015,
          2.6366651412802877,
          2.642180900484374,
          2.6476966596884592,
          2.6532124188925454,
          2.6587281780966316,
          2.6642439373007174,
          2.669759696504803,
          2.6752754557088894,
          2.680791214912975,
          2.686306974117061,
          2.691822733321147,
          2.6973384925252333,
          2.7028542517293186,
          2.708370010933405,
          2.713885770137491,
          2.7194015293415768,
          2.7249172885456625,
          2.7304330477497487,
          2.7359488069538345,
          2.7414645661579202,
          2.7469803253620064,
          2.7524960845660926,
          2.758011843770179,
          2.763527602974265
         ],
         "xaxis": "x8",
         "y": [
          -0.8000505987388697,
          -0.7979165989186536,
          -0.7957825990984375,
          -0.7936485992782214,
          -0.7915145994580053,
          -0.7893805996377892,
          -0.7872465998175732,
          -0.785112599997357,
          -0.7829786001771409,
          -0.7808446003569248,
          -0.7787106005367087,
          -0.7765766007164926,
          -0.7744426008962765,
          -0.7723086010760605,
          -0.7701746012558444,
          -0.7680406014356282,
          -0.7659066016154121,
          -0.763772601795196,
          -0.7616386019749799,
          -0.7595046021547638,
          -0.7573706023345477,
          -0.7552366025143316,
          -0.7531026026941156,
          -0.7509686028738994,
          -0.7488346030536833,
          -0.7467006032334672,
          -0.7445666034132511,
          -0.742432603593035,
          -0.740298603772819,
          -0.7381646039526029,
          -0.7360306041323867,
          -0.7338966043121706,
          -0.7317626044919545,
          -0.7296286046717384
         ],
         "yaxis": "y8",
         "z": [
          [
           0,
           0,
           0,
           0,
           0,
           0,
           0,
           0,
           0,
           0,
           0,
           0,
           0,
           0,
           0,
           0,
           0,
           0,
           0,
           0,
           0,
           0,
           0,
           0,
           0,
           0,
           0,
           0,
           0,
           0,
           0,
           0,
           0,
           0
          ],
          [
           0,
           0,
           0,
           0,
           0,
           0,
           0,
           0,
           0,
           0,
           0,
           6.219152514123349e-13,
           2.7652517127353075e-11,
           2.172015196115317e-10,
           1.361144531434829e-9,
           7.184205695282386e-9,
           3.275010608450546e-8,
           1.298690575657648e-7,
           4.5666190866260645e-7,
           0.0000014331551488174059,
           0.000003957192853405401,
           0.0000095726371195434,
           0.000020292189926071616,
           0.000037878013297674735,
           0.00006260918244336618,
           0.00009184611582010249,
           0.00011943798618466028,
           0.00013758964202478398,
           0.0001411269293967073,
           0.0001311519481883771,
           0.00011516675770812057,
           0.00010346019470401088,
           0.00010346019470401088,
           0
          ],
          [
           0,
           0,
           0,
           0,
           0,
           0,
           0,
           0,
           0,
           0,
           0,
           6.219152514123349e-13,
           2.7652517127353075e-11,
           2.172015196115317e-10,
           1.361144531434829e-9,
           7.184205695282386e-9,
           3.275010608450546e-8,
           1.298690575657648e-7,
           4.5666190866260645e-7,
           0.0000014331551488174059,
           0.000003957192853405401,
           0.0000095726371195434,
           0.000020292189926071616,
           0.000037878013297674735,
           0.00006260918244336618,
           0.00009184611582010249,
           0.00011943798618466028,
           0.00013758964202478398,
           0.0001411269293967073,
           0.0001311519481883771,
           0.00011516675770812057,
           0.00010346019470401088,
           0.00010346019470401088,
           0
          ],
          [
           0,
           0,
           0,
           0,
           0,
           0,
           0,
           0,
           0,
           0,
           6.219152514123349e-13,
           1.3708030987979936e-11,
           2.3491616174633167e-10,
           1.7099822109519842e-9,
           9.820138703226819e-9,
           4.674977369169106e-8,
           1.8886138116752328e-7,
           6.614862561381884e-7,
           0.0000020489318080499383,
           0.0000056678579522195055,
           0.00001394450959378142,
           0.000030372082329949424,
           0.00005840566647974435,
           0.00009931438024720546,
           0.0001499224992253896,
           0.00020147288957596875,
           0.00024089020976617078,
           0.0002556531913124527,
           0.00024102035613129177,
           0.0002044645940743576,
           0.00016321728805418096,
           0.00013641199626644962,
           0.00013641199626644962,
           0
          ],
          [
           0,
           2.338656057023398e-12,
           2.338656057023398e-12,
           1.0297502315261612e-11,
           4.072741171131196e-11,
           1.2544925976600464e-10,
           3.0093712989912923e-10,
           5.622245763753037e-10,
           8.180319317134223e-10,
           9.272625756060381e-10,
           8.362423744099145e-10,
           7.836497929187264e-10,
           2.4033374813238646e-9,
           1.3144303005935394e-8,
           6.583207010915771e-8,
           2.798377417856923e-7,
           0.000001018267461261779,
           0.0000032272073917200572,
           0.000009046980990371556,
           0.000022638663631674813,
           0.00005056990296764647,
           0.00010049439840047396,
           0.00017705043161496658,
           0.00027641497524762745,
           0.00038334025810068343,
           0.0004735678766746118,
           0.0005213815673445562,
           0.0005103436806344154,
           0.00044321671883423624,
           0.0003440623824142288,
           0.00024906915333870554,
           0.0001918414439361925,
           0.0001918414439361925,
           0
          ],
          [
           0,
           1.6493783635338674e-11,
           1.6493783635338674e-11,
           7.525894371427046e-11,
           3.06766094269726e-10,
           9.812525361843761e-10,
           2.4661813281588446e-9,
           4.8802107894593565e-9,
           7.624019457382841e-9,
           9.458784503944824e-9,
           9.58911654667987e-9,
           9.63511224579637e-9,
           1.9972702593643445e-8,
           8.285379637036043e-8,
           3.606040023376176e-7,
           0.0000013813007377856578,
           0.000004592894025466401,
           0.000013371171839326425,
           0.000034422378907231475,
           0.00007891338374670181,
           0.0001613982176846028,
           0.0002940246444994771,
           0.0004758224282727583,
           0.0006833412664603927,
           0.0008721551174490873,
           0.0009918964792594736,
           0.0010066718556850072,
           0.0009105021593370843,
           0.0007319354544880738,
           0.0005249143280960926,
           0.00034883744746489745,
           0.00024927838513838014,
           0.00024927838513838014,
           0
          ],
          [
           0,
           8.617836128094438e-11,
           8.617836128094438e-11,
           3.9795085888299036e-10,
           1.637894250514363e-9,
           5.300095796923299e-9,
           1.3501917568848257e-8,
           2.7137547115458064e-8,
           4.31597487461597e-8,
           5.472285485426168e-8,
           5.729526558637935e-8,
           6.054567248887382e-8,
           1.1870542455369478e-7,
           4.308168495861266e-7,
           0.0000016724297677814988,
           0.000005818357593317819,
           0.000017764165505170015,
           0.000047732904269262344,
           0.00011348984010747418,
           0.00023981178984201334,
           0.0004511948963911234,
           0.0007554770198760194,
           0.0011239263275078567,
           0.0014843905510026935,
           0.0017422202163004771,
           0.0018217764223730603,
           0.001700997477054799,
           0.0014183014269267672,
           0.0010539068813873338,
           0.0006992079879598194,
           0.00042835616063405734,
           0.0002845911005667381,
           0.0002845911005667381,
           0
          ],
          [
           0,
           3.515489028436724e-10,
           3.515489028436724e-10,
           1.6437437552862335e-9,
           6.832560334197739e-9,
           2.236704230363328e-8,
           5.773675831862834e-8,
           1.1778685812509306e-7,
           1.9051939595547123e-7,
           2.4667000215838265e-7,
           2.6695581481677165e-7,
           2.986012186600805e-7,
           5.8018465531676e-7,
           0.0000019084402762698374,
           0.0000066933613431370264,
           0.000021264862831637313,
           0.00005973767873711389,
           0.00014830377344415973,
           0.00032616992160173103,
           0.0006369330127465135,
           0.0011055356651553327,
           0.0017052308023937218,
           0.002335078395005517,
           0.002837191470408089,
           0.0030614068692747893,
           0.002940597168494544,
           0.002521514630784986,
           0.001933051154353836,
           0.0013238964569973952,
           0.0008109674166628008,
           0.0004577375993604848,
           0.00028213792386087985,
           0.00028213792386087985,
           0
          ],
          [
           0,
           1.3401790377877647e-9,
           1.3401790377877647e-9,
           5.652385569090668e-9,
           2.292161475593329e-8,
           7.515059624718714e-8,
           1.961285382135502e-7,
           4.062452016272294e-7,
           6.690667703442061e-7,
           8.864921249875044e-7,
           9.971852586647892e-7,
           0.0000011957831126802303,
           0.0000023753883115957964,
           0.000007268245220171007,
           0.00002328283314324823,
           0.00006785198913437846,
           0.00017561094220970415,
           0.00040278048892655765,
           0.0008194589573390896,
           0.0014801565576842673,
           0.0023741563934348534,
           0.003380065705586386,
           0.0042676334016475215,
           0.004776215085029038,
           0.004741335319142407,
           0.004183815727526032,
           0.0032920155167796045,
           0.002315986977839581,
           0.0014580150357728875,
           0.0008225263412372886,
           0.0004268929501386074,
           0.00024318534212916727,
           0.00024318534212916727,
           0
          ],
          [
           0,
           4.236739844237746e-9,
           4.236739844237746e-9,
           1.573481939091054e-8,
           6.143048347471289e-8,
           2.009608110509135e-7,
           5.301520662451896e-7,
           0.0000011159031170269384,
           0.0000018739373983227616,
           0.0000025492287049074218,
           0.0000030103059562853732,
           0.000003950910869160502,
           0.000008232828639044542,
           0.000023897933079380222,
           0.00007054813153407907,
           0.00018929149010305735,
           0.00045192540227936297,
           0.000957667216257002,
           0.0018019287237916442,
           0.0030111867843035838,
           0.004467479544857669,
           0.005879474048669184,
           0.00685663926142532,
           0.0070807512765371314,
           0.006476806219969882,
           0.005256436595947793,
           0.003796604010108695,
           0.002449009336035898,
           0.001414340589664969,
           0.0007330425410106798,
           0.0003490885847780983,
           0.00018305998687575935,
           0.00018305998687575935,
           0
          ],
          [
           0,
           1.2884237677103786e-8,
           1.2884237677103786e-8,
           3.8453684774115726e-8,
           1.3643499160179196e-7,
           4.349048318122432e-7,
           0.0000011502157759802778,
           0.000002454846444574113,
           0.000004207645199479007,
           0.000005914115941744153,
           0.000007474306021752488,
           0.000011056793805404474,
           0.000024555288566381454,
           0.00006828641929558544,
           0.0001867108990249363,
           0.00046219641957656436,
           0.0010186133708551246,
           0.0019942562344034817,
           0.0034693682111400876,
           0.005363310050973363,
           0.007363081215445679,
           0.00896665773510629,
           0.009673077792290397,
           0.009234272490447542,
           0.007798889861319081,
           0.005833040137994384,
           0.003873294033439894,
           0.0022918154590208166,
           0.0012128495080841754,
           0.0005762701619635288,
           0.00025122966812418624,
           0.00012077409313534716,
           0.00012077409313534716,
           0
          ],
          [
           0,
           3.784666073984119e-8,
           3.784666073984119e-8,
           8.755448677122008e-8,
           2.6174975732765706e-7,
           7.770750875676258e-7,
           0.000002022485400347873,
           0.000004352113623908182,
           0.000007628633446834237,
           0.000011223343346156481,
           0.00001567642457942178,
           0.000026918260916804352,
           0.00006375685534145952,
           0.00017023800911450095,
           0.00043240858087710825,
           0.0009889612042296274,
           0.002012771511884213,
           0.003640177003468649,
           0.005852618655661784,
           0.008366433194576419,
           0.010627458469895953,
           0.011980370126455071,
           0.011966841084047998,
           0.01057625510076941,
           0.008263546635387035,
           0.005709296390526231,
           0.003493773337450562,
           0.0018996013788853798,
           0.0009214442278178761,
           0.00040075407681257157,
           0.0001595217864609875,
           0.00006994586776989179,
           0.00006994586776989179,
           0
          ],
          [
           0,
           1.020564880414542e-7,
           1.020564880414542e-7,
           1.9315136999331254e-7,
           4.644797800426914e-7,
           0.0000012006702847957229,
           0.000002958089166772763,
           0.0000063293647108587,
           0.000011393061897101601,
           0.000018010449949883984,
           0.00002911297992277048,
           0.00005878315407472054,
           0.00014576397509965316,
           0.0003718558087579705,
           0.0008781989558824429,
           0.0018575248596048686,
           0.0034926917499704512,
           0.005834121769078576,
           0.008663776929927237,
           0.011443844895705277,
           0.013441094498693127,
           0.01402183210291724,
           0.012970717347653767,
           0.010620765261800795,
           0.00768761418216604,
           0.0049163484132577605,
           0.0027797265373061646,
           0.001392495586833894,
           0.0006202316958747265,
           0.0002468920107149194,
           0.00008952619638362422,
           0.00003557881752295911,
           0.00003557881752295911,
           0
          ],
          [
           0,
           2.363908225662539e-7,
           2.363908225662539e-7,
           4.020422066695734e-7,
           8.061154813904059e-7,
           0.0000017311094321054858,
           0.0000038126236120457404,
           0.000007901213470417923,
           0.000014745717455892075,
           0.000026173009185303348,
           0.000050922135803268016,
           0.00011780070015934275,
           0.00029563720028138253,
           0.0007139560209718701,
           0.0015666644684308136,
           0.003066876330037911,
           0.005331236195127119,
           0.00822666982451048,
           0.01127972711096781,
           0.013755088143603463,
           0.014921827202183813,
           0.014390287000705545,
           0.012318603226964533,
           0.00934302271944541,
           0.006267371714926813,
           0.0037140642894521476,
           0.001943974114338133,
           0.0008995976769147697,
           0.0003689263321455196,
           0.00013462396059244004,
           0.00004443414058304383,
           0.000015902555987847722,
           0.000015902555987847722,
           0
          ],
          [
           0,
           4.522597397349979e-7,
           4.522597397349979e-7,
           7.470439934501019e-7,
           0.0000013697317951393954,
           0.00000252544885586991,
           0.0000048138544079956365,
           0.000009388692917347551,
           0.000018446941867203282,
           0.000038170469814415645,
           0.00008788910460851648,
           0.0002180867032302525,
           0.0005335968974045365,
           0.0012075142022099803,
           0.0024576783409077396,
           0.004454199287430658,
           0.0071644903310251655,
           0.010221214196270983,
           0.012943230103581092,
           0.01456561411923071,
           0.014579105192807173,
           0.012978922481088999,
           0.01026643314134411,
           0.007203340718307209,
           0.0044744873806921845,
           0.002456639454767505,
           0.001191068907779658,
           0.0005099769709528842,
           0.00019302870508767765,
           0.00006472760132131864,
           0.000019465713700686282,
           0.000006242499562286048,
           0.000006242499562286048,
           0
          ],
          [
           0,
           7.05942226463387e-7,
           7.05942226463387e-7,
           0.0000011927128824099347,
           0.000002182098231080072,
           0.000003803883536018654,
           0.000006607478287784784,
           0.00001226119626896734,
           0.00002552496215323549,
           0.000059776062520870376,
           0.00014942371190560278,
           0.00036994162178090355,
           0.0008568612149524847,
           0.001801554069257398,
           0.003393207672724903,
           0.005691729220514953,
           0.008476721903860394,
           0.011193102793894133,
           0.013104221788827593,
           0.013615534793365547,
           0.012570144842928375,
           0.010318506550260504,
           0.007529122964116537,
           0.004877542437875422,
           0.0028003848949241083,
           0.0014223477406018752,
           0.0006382133796641814,
           0.00025281178451213877,
           0.00008839709942119541,
           0.000027283578790685728,
           0.000007487839457001256,
           0.0000021450379358135077,
           0.0000021450379358135077,
           0
          ],
          [
           0,
           9.029313503487526e-7,
           9.029313503487526e-7,
           0.0000016166921101689234,
           0.0000031251496997551527,
           0.000005616838684076494,
           0.000009791844096926621,
           0.000018316481387338512,
           0.00003975939663643887,
           0.00009686182003675289,
           0.00024053603799527784,
           0.0005665147824227975,
           0.0012211179371037898,
           0.002372300560505591,
           0.004125999256452808,
           0.006399655142283051,
           0.008825394558369323,
           0.010796072135872702,
           0.011702433040317838,
           0.011242168127633656,
           0.009581123705617077,
           0.007251189399160863,
           0.004875191432306988,
           0.0029103501891108957,
           0.001540732550732731,
           0.0007221571869800433,
           0.00029920992138337394,
           0.00010945225754684046,
           0.00003531072591115531,
           0.000010026046802654451,
           0.0000025121159806993917,
           6.417197458401003e-7,
           6.417197458401003e-7,
           0
          ],
          [
           0,
           9.616342781378219e-7,
           9.616342781378219e-7,
           0.000001874542061120374,
           0.0000039554861517803595,
           0.000007693350930033223,
           0.000014362131505590474,
           0.00002830110381677718,
           0.00006270195781882556,
           0.0001496086189583504,
           0.00035231371571684076,
           0.0007727797858202235,
           0.0015390274063897913,
           0.0027560162667176883,
           0.004420157395550229,
           0.006332514565643519,
           0.008081575297348166,
           0.009161557857843786,
           0.009205869863435748,
           0.00819185887861449,
           0.006456687234917215,
           0.004510862458224275,
           0.0027949881748739096,
           0.0015359583865268548,
           0.0007481766880536351,
           0.0003226907113525368,
           0.00012305941310329508,
           0.00004142803842015071,
           0.000012287188197867634,
           0.000003196031664205748,
           7.281685765228079e-7,
           1.6474814128124058e-7,
           1.6474814128124058e-7,
           0
          ],
          [
           0,
           8.831098503345442e-7,
           8.831098503345442e-7,
           0.0000019119725821006876,
           0.000004482379128571269,
           0.000009643729265212612,
           0.000019743904677763205,
           0.00004132196254265588,
           0.00009181083661900463,
           0.0002091719792041172,
           0.00045934026403610605,
           0.0009316080476020429,
           0.0017106413139289154,
           0.0028223172852733926,
           0.004171979971860422,
           0.00551583886753073,
           0.006508319257348824,
           0.006834381402097015,
           0.006369429346877695,
           0.005257969166122039,
           0.0038411815246165238,
           0.002483042921799302,
           0.0014204149019298351,
           0.0007190042490946949,
           0.0003219750684212617,
           0.00012748726467923154,
           0.00004458969140367105,
           0.000013751763600642247,
           0.0000037286814690879504,
           8.814623291606639e-7,
           1.8105667250891328e-7,
           3.576566856274058e-8,
           3.576566856274058e-8,
           0
          ],
          [
           0,
           7.721556280664214e-7,
           7.721556280664214e-7,
           0.0000018412599091610603,
           0.0000047769618926434515,
           0.000011356021355321622,
           0.00002530471177528161,
           0.00005527459642870044,
           0.00012095183960580643,
           0.00026008314181959273,
           0.0005294129487863248,
           0.0009903537931474375,
           0.0016756434734310282,
           0.002547102900561626,
           0.003469929364679607,
           0.0042313286889985886,
           0.004611567943085952,
           0.00448141004612425,
           0.0038720945181023973,
           0.002967004079770218,
           0.002012426772473322,
           0.0012067655855541874,
           0.0006391702468322517,
           0.00029874124049976885,
           0.00012311770187266335,
           0.000044712247576788085,
           0.00001429580111400355,
           0.00000401596284476493,
           9.873855528808003e-7,
           2.0943237062574968e-7,
           3.834181694572447e-8,
           6.515241282661247e-9,
           6.515241282661247e-9,
           0
          ],
          [
           0,
           8.55831806323785e-7,
           8.55831806323785e-7,
           0.000001972056510855623,
           0.00000524080379021493,
           0.000013126807417000283,
           0.00003057739977431179,
           0.00006740418700001475,
           0.00014242117877593494,
           0.0002867169495334884,
           0.0005393692132373506,
           0.0009295574786770522,
           0.0014486197900908735,
           0.0020284459857676574,
           0.0025460999215099057,
           0.002862144532055432,
           0.0028784754648708936,
           0.0025852595606059123,
           0.002068391931583132,
           0.0014702417246409594,
           0.0009262636693158876,
           0.0005161309269787361,
           0.00025383061391651227,
           0.00010991300099526265,
           0.000041807611936132586,
           0.000013940336801607766,
           0.000004065474230218511,
           0.0000010334077487358312,
           2.2762244946709173e-7,
           4.2288886146358696e-8,
           6.7286086388635446e-9,
           9.368851501876314e-10,
           9.368851501876314e-10,
           0
          ],
          [
           0,
           0.0000015926848539186524,
           0.0000015926848539186524,
           0.0000028775509144145377,
           0.000006569914087727534,
           0.0000154994216028522,
           0.00003515502773440516,
           0.00007494965493752086,
           0.00014980748786148614,
           0.00028022109388066234,
           0.000486068656915377,
           0.0007714360518264375,
           0.0011074842854578591,
           0.0014287177027941672,
           0.001652020725743571,
           0.001710967531075586,
           0.001586227192668862,
           0.0013146841388432398,
           0.0009721512051533371,
           0.0006398507993941332,
           0.00037396274066599434,
           0.00019360310761446132,
           0.00008851800979715353,
           0.000035600942228602586,
           0.000012534918950818761,
           0.000003844015152227594,
           0.0000010203479736589091,
           2.3256498198081267e-7,
           4.498168376525805e-8,
           6.968431511907627e-9,
           9.066559547414143e-10,
           8.73582573890626e-11,
           8.73582573890626e-11,
           0
          ],
          [
           0,
           0.000003875811907406939,
           0.000003875811907406939,
           0.00000552854818909144,
           0.000009759232008513417,
           0.00001919449822607968,
           0.00003892569090731922,
           0.00007651337033296897,
           0.00014136187033392115,
           0.00024322639374520526,
           0.00038746406733481986,
           0.0005658083683195265,
           0.000748894440632927,
           0.0008912034381143031,
           0.0009500649095724779,
           0.0009065290646245614,
           0.000774070420391366,
           0.0005910529844820988,
           0.0004029819590276866,
           0.0002448851133317793,
           0.00013237673928963187,
           0.00006350968327567429,
           0.00002695475087862905,
           0.00001006980753637302,
           0.000003287680920872303,
           9.303521888140187e-7,
           2.257545987599058e-7,
           4.6403328833913764e-8,
           7.951952833988696e-9,
           1.0260337721746422e-9,
           1.1611646664090442e-10,
           9.267174025326338e-12,
           9.267174025326338e-12,
           0
          ],
          [
           0,
           0.000009035074912034525,
           0.000009035074912034525,
           0.000011206732180234632,
           0.000015915465960174975,
           0.00002496964917575639,
           0.00004232451965205181,
           0.00007306489885967266,
           0.00012137359672903536,
           0.00018908931046335352,
           0.0002740508562427031,
           0.0003665476145923981,
           0.0004470724312960903,
           0.0004917232005535523,
           0.00048447408381951734,
           0.0004265698540424949,
           0.0003355165632593383,
           0.000235690121452795,
           0.00014776046295477996,
           0.00008258575463477774,
           0.000041100588493174665,
           0.000018182296563987804,
           0.000007129306484552252,
           0.000002464601035377168,
           7.44252457787145e-7,
           1.9408734549422495e-7,
           4.2935511917134097e-8,
           7.88341712108655e-9,
           1.1643045996585498e-9,
           1.0991612612058322e-10,
           9.116697817498012e-12,
           1.5547881285308372e-13,
           1.5547881285308372e-13,
           0
          ],
          [
           0,
           0.000018212570183653836,
           0.000018212570183653836,
           0.00002081722931363254,
           0.00002554619003351118,
           0.000032996025232325697,
           0.000045780191307082276,
           0.00006693868990872477,
           0.00009721260417731552,
           0.00013433051628059097,
           0.00017417151928908323,
           0.00021076793108321058,
           0.00023547410698666307,
           0.00023930845206069493,
           0.000218567614606068,
           0.00017820629094820133,
           0.00012937745098245623,
           0.00008358155183514214,
           0.00004804320692165229,
           0.000024571256057707615,
           0.000011178945205155128,
           0.000004520418524919413,
           0.000001621178743178706,
           5.131913584339903e-7,
           1.4196024031571364e-7,
           3.391941438783336e-8,
           6.838938484865799e-9,
           1.133232324915487e-9,
           1.49590913236696e-10,
           1.0660050349005706e-11,
           1.0138492156586155e-12,
           0,
           0,
           0
          ],
          [
           0,
           0.000031131364712385716,
           0.000031131364712385716,
           0.000033797054126664375,
           0.00003773942232947534,
           0.00004230358494010204,
           0.00004902588408252632,
           0.00005995755424983538,
           0.0000746319066751885,
           0.00008980290382333127,
           0.00010208288263032086,
           0.00010944068751079529,
           0.00011021625994607785,
           0.00010273129654058067,
           0.00008698052504238842,
           0.00006592626129999209,
           0.00004435473219005173,
           0.000026390713244472906,
           0.00001387589291135692,
           0.000006454058038885314,
           0.000002659130465659858,
           9.712587589766707e-7,
           3.1437173807479336e-7,
           8.984320935500322e-8,
           2.2508967134034096e-8,
           4.912180993329956e-9,
           9.098752535323425e-10,
           1.4033856729212637e-10,
           1.8072914217118184e-11,
           1.324806841364783e-12,
           1.5547881285308372e-13,
           0,
           0,
           0
          ],
          [
           0,
           0.00004523847248013519,
           0.00004523847248013519,
           0.00004759994790653537,
           0.0000501401440654784,
           0.000051117444166503184,
           0.00005136130170495717,
           0.000052932216448869333,
           0.00005593407861186047,
           0.00005800273556643547,
           0.00005701906656351902,
           0.00005295499346551526,
           0.000046835994396109286,
           0.00003926546079905418,
           0.00003056435964306025,
           0.00002154746520274099,
           0.000013493622424955719,
           0.000007419304355406556,
           0.0000035638921119203756,
           0.000001495786890840608,
           5.493438772520963e-7,
           1.7682711328380777e-7,
           4.9840256106467155e-8,
           1.215640760611507e-8,
           2.552037216200393e-9,
           4.563454241242276e-10,
           6.532747961121967e-11,
           7.1649731196961366e-12,
           6.219152514123349e-13,
           0,
           0,
           0,
           0,
           0
          ],
          [
           0,
           0.000056454707440347776,
           0.000056454707440347776,
           0.000058544924363549294,
           0.00005983584031496446,
           0.00005761479644917013,
           0.0000522139938521317,
           0.00004624693695507596,
           0.00004130185918008266,
           0.00003661855562392106,
           0.00003101122054178486,
           0.000024681363038127775,
           0.00001869067826475597,
           0.000013665115392738554,
           0.000009565764657186908,
           0.000006219985376154254,
           0.0000036307197899990965,
           0.000001854403410792528,
           8.169306683566271e-7,
           3.091927407310092e-7,
           1.0043696549581544e-7,
           2.8066280375245457e-8,
           6.728883026878041e-9,
           1.3225968761845468e-9,
           2.1575140536564822e-10,
           2.78144698044333e-11,
           2.176703379943172e-12,
           0,
           0,
           0,
           0,
           0,
           0,
           0
          ],
          [
           0,
           0.00006147367538553518,
           0.00006147367538553518,
           0.00006366335235674678,
           0.00006445604786326062,
           0.00006024802478228328,
           0.00005099812275417012,
           0.000039969956567645674,
           0.000030277994508606917,
           0.000022659771505523917,
           0.00001643160364626012,
           0.000011223852138808315,
           0.000007214786082532242,
           0.000004472835211136673,
           0.0000027227023699320596,
           0.0000015981660846643531,
           8.646245132885399e-7,
           4.1181513794614155e-7,
           1.6738924278532575e-7,
           5.7258614358761665e-8,
           1.628396732010418e-8,
           3.847763917069254e-9,
           7.503244079817953e-10,
           1.0175655150564163e-10,
           1.0977440966710258e-11,
           7.773940642654185e-13,
           0,
           0,
           0,
           0,
           0,
           0,
           0,
           0
          ],
          [
           0,
           0.00005995599906478692,
           0.00005995599906478692,
           0.00006244564977681999,
           0.00006327778854164437,
           0.000058252323410786796,
           0.00004718276738196312,
           0.00003380456185902454,
           0.000022170188976271537,
           0.000013891781400554011,
           0.000008464807309782985,
           0.000004934534427992234,
           0.0000027034107077644246,
           0.0000014076675715021858,
           7.219908138463492e-7,
           3.6970121825807766e-7,
           1.8224377495313894e-7,
           8.091206825292127e-8,
           3.0663353032571916e-8,
           9.656571462240607e-9,
           2.447166589264043e-9,
           4.958509767899861e-10,
           7.861513380914916e-11,
           4.508885572739427e-12,
           0,
           0,
           0,
           0,
           0,
           0,
           0,
           0,
           0,
           0
          ],
          [
           0,
           0.00005486947041556614,
           0.00005486947041556614,
           0.000057470747491668196,
           0.00005829553907411864,
           0.000053033134199528604,
           0.00004162574610088461,
           0.000028012905372443075,
           0.000016457431101973213,
           0.000008759944040290671,
           0.000004400754583184101,
           0.00000212678492013229,
           9.794805380954784e-7,
           4.2546704261328036e-7,
           1.7926383419605257e-7,
           7.624135822039995e-8,
           3.299421092980557e-8,
           1.3479651001541627e-8,
           4.817939982983407e-9,
           1.451064129200081e-9,
           3.468769128020941e-10,
           6.587813139567834e-11,
           9.74508693313749e-12,
           0,
           0,
           0,
           0,
           0,
           0,
           0,
           0,
           0,
           0,
           0
          ],
          [
           0,
           0.000050701118887557874,
           0.000050701118887557874,
           0.00005321650406336,
           0.00005388385159287297,
           0.00004854162633334828,
           0.00003732903511684078,
           0.000024214300931110762,
           0.000013329860928293676,
           0.0000063600088031856535,
           0.000002721489689896083,
           0.000001084564034316368,
           4.1085823128961e-7,
           1.465484280025693e-7,
           4.9952729190672596e-8,
           1.675301711208515e-8,
           6.05100899790233e-9,
           2.2131362704709617e-9,
           7.546638991630936e-10,
           2.2874624131268808e-10,
           5.4946473689289405e-11,
           1.066652421323285e-11,
           1.6357644670709504e-12,
           0,
           0,
           0,
           0,
           0,
           0,
           0,
           0,
           0,
           0,
           0
          ],
          [
           0,
           0.000050701118887557874,
           0.000050701118887557874,
           0.00005321650406336,
           0.00005388385159287297,
           0.00004854162633334828,
           0.00003732903511684078,
           0.000024214300931110762,
           0.000013329860928293676,
           0.0000063600088031856535,
           0.000002721489689896083,
           0.000001084564034316368,
           4.1085823128961e-7,
           1.465484280025693e-7,
           4.9952729190672596e-8,
           1.675301711208515e-8,
           6.05100899790233e-9,
           2.2131362704709617e-9,
           7.546638991630936e-10,
           2.2874624131268808e-10,
           5.4946473689289405e-11,
           1.066652421323285e-11,
           1.6357644670709504e-12,
           0,
           0,
           0,
           0,
           0,
           0,
           0,
           0,
           0,
           0,
           0
          ],
          [
           0,
           0,
           0,
           0,
           0,
           0,
           0,
           0,
           0,
           0,
           0,
           0,
           0,
           0,
           0,
           0,
           0,
           0,
           0,
           0,
           0,
           0,
           0,
           0,
           0,
           0,
           0,
           0,
           0,
           0,
           0,
           0,
           0,
           0
          ]
         ]
        },
        {
         "error_x": {
          "array": [
           0.01817327816148584
          ],
          "arrayminus": [
           0.01665305683303009
          ],
          "color": "#FF0092",
          "symmetric": false,
          "thickness": 2,
          "type": "data",
          "width": 0
         },
         "error_y": {
          "array": [
           0.006208233692108656
          ],
          "arrayminus": [
           0.006711509070196464
          ],
          "color": "#FF0092",
          "symmetric": false,
          "thickness": 2,
          "type": "data",
          "width": 0
         },
         "marker": {
          "color": "#FF0092",
          "size": 5,
          "symbol": "circle"
         },
         "mode": "markers",
         "name": "log$E_{c}$&log$A$",
         "showlegend": false,
         "type": "scatter",
         "x": [
          2.6900632043825765
         ],
         "xaxis": "x8",
         "y": [
          -0.7709938409899931
         ],
         "yaxis": "y8"
        }
       ],
       "layout": {
        "height": 600,
        "template": {
         "data": {
          "bar": [
           {
            "error_x": {
             "color": "#2a3f5f"
            },
            "error_y": {
             "color": "#2a3f5f"
            },
            "marker": {
             "line": {
              "color": "white",
              "width": 0.5
             },
             "pattern": {
              "fillmode": "overlay",
              "size": 10,
              "solidity": 0.2
             }
            },
            "type": "bar"
           }
          ],
          "barpolar": [
           {
            "marker": {
             "line": {
              "color": "white",
              "width": 0.5
             },
             "pattern": {
              "fillmode": "overlay",
              "size": 10,
              "solidity": 0.2
             }
            },
            "type": "barpolar"
           }
          ],
          "carpet": [
           {
            "aaxis": {
             "endlinecolor": "#2a3f5f",
             "gridcolor": "#C8D4E3",
             "linecolor": "#C8D4E3",
             "minorgridcolor": "#C8D4E3",
             "startlinecolor": "#2a3f5f"
            },
            "baxis": {
             "endlinecolor": "#2a3f5f",
             "gridcolor": "#C8D4E3",
             "linecolor": "#C8D4E3",
             "minorgridcolor": "#C8D4E3",
             "startlinecolor": "#2a3f5f"
            },
            "type": "carpet"
           }
          ],
          "choropleth": [
           {
            "colorbar": {
             "outlinewidth": 0,
             "ticks": ""
            },
            "type": "choropleth"
           }
          ],
          "contour": [
           {
            "colorbar": {
             "outlinewidth": 0,
             "ticks": ""
            },
            "colorscale": [
             [
              0,
              "#0d0887"
             ],
             [
              0.1111111111111111,
              "#46039f"
             ],
             [
              0.2222222222222222,
              "#7201a8"
             ],
             [
              0.3333333333333333,
              "#9c179e"
             ],
             [
              0.4444444444444444,
              "#bd3786"
             ],
             [
              0.5555555555555556,
              "#d8576b"
             ],
             [
              0.6666666666666666,
              "#ed7953"
             ],
             [
              0.7777777777777778,
              "#fb9f3a"
             ],
             [
              0.8888888888888888,
              "#fdca26"
             ],
             [
              1,
              "#f0f921"
             ]
            ],
            "type": "contour"
           }
          ],
          "contourcarpet": [
           {
            "colorbar": {
             "outlinewidth": 0,
             "ticks": ""
            },
            "type": "contourcarpet"
           }
          ],
          "heatmap": [
           {
            "colorbar": {
             "outlinewidth": 0,
             "ticks": ""
            },
            "colorscale": [
             [
              0,
              "#0d0887"
             ],
             [
              0.1111111111111111,
              "#46039f"
             ],
             [
              0.2222222222222222,
              "#7201a8"
             ],
             [
              0.3333333333333333,
              "#9c179e"
             ],
             [
              0.4444444444444444,
              "#bd3786"
             ],
             [
              0.5555555555555556,
              "#d8576b"
             ],
             [
              0.6666666666666666,
              "#ed7953"
             ],
             [
              0.7777777777777778,
              "#fb9f3a"
             ],
             [
              0.8888888888888888,
              "#fdca26"
             ],
             [
              1,
              "#f0f921"
             ]
            ],
            "type": "heatmap"
           }
          ],
          "heatmapgl": [
           {
            "colorbar": {
             "outlinewidth": 0,
             "ticks": ""
            },
            "colorscale": [
             [
              0,
              "#0d0887"
             ],
             [
              0.1111111111111111,
              "#46039f"
             ],
             [
              0.2222222222222222,
              "#7201a8"
             ],
             [
              0.3333333333333333,
              "#9c179e"
             ],
             [
              0.4444444444444444,
              "#bd3786"
             ],
             [
              0.5555555555555556,
              "#d8576b"
             ],
             [
              0.6666666666666666,
              "#ed7953"
             ],
             [
              0.7777777777777778,
              "#fb9f3a"
             ],
             [
              0.8888888888888888,
              "#fdca26"
             ],
             [
              1,
              "#f0f921"
             ]
            ],
            "type": "heatmapgl"
           }
          ],
          "histogram": [
           {
            "marker": {
             "pattern": {
              "fillmode": "overlay",
              "size": 10,
              "solidity": 0.2
             }
            },
            "type": "histogram"
           }
          ],
          "histogram2d": [
           {
            "colorbar": {
             "outlinewidth": 0,
             "ticks": ""
            },
            "colorscale": [
             [
              0,
              "#0d0887"
             ],
             [
              0.1111111111111111,
              "#46039f"
             ],
             [
              0.2222222222222222,
              "#7201a8"
             ],
             [
              0.3333333333333333,
              "#9c179e"
             ],
             [
              0.4444444444444444,
              "#bd3786"
             ],
             [
              0.5555555555555556,
              "#d8576b"
             ],
             [
              0.6666666666666666,
              "#ed7953"
             ],
             [
              0.7777777777777778,
              "#fb9f3a"
             ],
             [
              0.8888888888888888,
              "#fdca26"
             ],
             [
              1,
              "#f0f921"
             ]
            ],
            "type": "histogram2d"
           }
          ],
          "histogram2dcontour": [
           {
            "colorbar": {
             "outlinewidth": 0,
             "ticks": ""
            },
            "colorscale": [
             [
              0,
              "#0d0887"
             ],
             [
              0.1111111111111111,
              "#46039f"
             ],
             [
              0.2222222222222222,
              "#7201a8"
             ],
             [
              0.3333333333333333,
              "#9c179e"
             ],
             [
              0.4444444444444444,
              "#bd3786"
             ],
             [
              0.5555555555555556,
              "#d8576b"
             ],
             [
              0.6666666666666666,
              "#ed7953"
             ],
             [
              0.7777777777777778,
              "#fb9f3a"
             ],
             [
              0.8888888888888888,
              "#fdca26"
             ],
             [
              1,
              "#f0f921"
             ]
            ],
            "type": "histogram2dcontour"
           }
          ],
          "mesh3d": [
           {
            "colorbar": {
             "outlinewidth": 0,
             "ticks": ""
            },
            "type": "mesh3d"
           }
          ],
          "parcoords": [
           {
            "line": {
             "colorbar": {
              "outlinewidth": 0,
              "ticks": ""
             }
            },
            "type": "parcoords"
           }
          ],
          "pie": [
           {
            "automargin": true,
            "type": "pie"
           }
          ],
          "scatter": [
           {
            "fillpattern": {
             "fillmode": "overlay",
             "size": 10,
             "solidity": 0.2
            },
            "type": "scatter"
           }
          ],
          "scatter3d": [
           {
            "line": {
             "colorbar": {
              "outlinewidth": 0,
              "ticks": ""
             }
            },
            "marker": {
             "colorbar": {
              "outlinewidth": 0,
              "ticks": ""
             }
            },
            "type": "scatter3d"
           }
          ],
          "scattercarpet": [
           {
            "marker": {
             "colorbar": {
              "outlinewidth": 0,
              "ticks": ""
             }
            },
            "type": "scattercarpet"
           }
          ],
          "scattergeo": [
           {
            "marker": {
             "colorbar": {
              "outlinewidth": 0,
              "ticks": ""
             }
            },
            "type": "scattergeo"
           }
          ],
          "scattergl": [
           {
            "marker": {
             "colorbar": {
              "outlinewidth": 0,
              "ticks": ""
             }
            },
            "type": "scattergl"
           }
          ],
          "scattermapbox": [
           {
            "marker": {
             "colorbar": {
              "outlinewidth": 0,
              "ticks": ""
             }
            },
            "type": "scattermapbox"
           }
          ],
          "scatterpolar": [
           {
            "marker": {
             "colorbar": {
              "outlinewidth": 0,
              "ticks": ""
             }
            },
            "type": "scatterpolar"
           }
          ],
          "scatterpolargl": [
           {
            "marker": {
             "colorbar": {
              "outlinewidth": 0,
              "ticks": ""
             }
            },
            "type": "scatterpolargl"
           }
          ],
          "scatterternary": [
           {
            "marker": {
             "colorbar": {
              "outlinewidth": 0,
              "ticks": ""
             }
            },
            "type": "scatterternary"
           }
          ],
          "surface": [
           {
            "colorbar": {
             "outlinewidth": 0,
             "ticks": ""
            },
            "colorscale": [
             [
              0,
              "#0d0887"
             ],
             [
              0.1111111111111111,
              "#46039f"
             ],
             [
              0.2222222222222222,
              "#7201a8"
             ],
             [
              0.3333333333333333,
              "#9c179e"
             ],
             [
              0.4444444444444444,
              "#bd3786"
             ],
             [
              0.5555555555555556,
              "#d8576b"
             ],
             [
              0.6666666666666666,
              "#ed7953"
             ],
             [
              0.7777777777777778,
              "#fb9f3a"
             ],
             [
              0.8888888888888888,
              "#fdca26"
             ],
             [
              1,
              "#f0f921"
             ]
            ],
            "type": "surface"
           }
          ],
          "table": [
           {
            "cells": {
             "fill": {
              "color": "#EBF0F8"
             },
             "line": {
              "color": "white"
             }
            },
            "header": {
             "fill": {
              "color": "#C8D4E3"
             },
             "line": {
              "color": "white"
             }
            },
            "type": "table"
           }
          ]
         },
         "layout": {
          "annotationdefaults": {
           "arrowcolor": "#2a3f5f",
           "arrowhead": 0,
           "arrowwidth": 1
          },
          "autotypenumbers": "strict",
          "coloraxis": {
           "colorbar": {
            "outlinewidth": 0,
            "ticks": ""
           }
          },
          "colorscale": {
           "diverging": [
            [
             0,
             "#8e0152"
            ],
            [
             0.1,
             "#c51b7d"
            ],
            [
             0.2,
             "#de77ae"
            ],
            [
             0.3,
             "#f1b6da"
            ],
            [
             0.4,
             "#fde0ef"
            ],
            [
             0.5,
             "#f7f7f7"
            ],
            [
             0.6,
             "#e6f5d0"
            ],
            [
             0.7,
             "#b8e186"
            ],
            [
             0.8,
             "#7fbc41"
            ],
            [
             0.9,
             "#4d9221"
            ],
            [
             1,
             "#276419"
            ]
           ],
           "sequential": [
            [
             0,
             "#0d0887"
            ],
            [
             0.1111111111111111,
             "#46039f"
            ],
            [
             0.2222222222222222,
             "#7201a8"
            ],
            [
             0.3333333333333333,
             "#9c179e"
            ],
            [
             0.4444444444444444,
             "#bd3786"
            ],
            [
             0.5555555555555556,
             "#d8576b"
            ],
            [
             0.6666666666666666,
             "#ed7953"
            ],
            [
             0.7777777777777778,
             "#fb9f3a"
            ],
            [
             0.8888888888888888,
             "#fdca26"
            ],
            [
             1,
             "#f0f921"
            ]
           ],
           "sequentialminus": [
            [
             0,
             "#0d0887"
            ],
            [
             0.1111111111111111,
             "#46039f"
            ],
            [
             0.2222222222222222,
             "#7201a8"
            ],
            [
             0.3333333333333333,
             "#9c179e"
            ],
            [
             0.4444444444444444,
             "#bd3786"
            ],
            [
             0.5555555555555556,
             "#d8576b"
            ],
            [
             0.6666666666666666,
             "#ed7953"
            ],
            [
             0.7777777777777778,
             "#fb9f3a"
            ],
            [
             0.8888888888888888,
             "#fdca26"
            ],
            [
             1,
             "#f0f921"
            ]
           ]
          },
          "colorway": [
           "#636efa",
           "#EF553B",
           "#00cc96",
           "#ab63fa",
           "#FFA15A",
           "#19d3f3",
           "#FF6692",
           "#B6E880",
           "#FF97FF",
           "#FECB52"
          ],
          "font": {
           "color": "#2a3f5f"
          },
          "geo": {
           "bgcolor": "white",
           "lakecolor": "white",
           "landcolor": "white",
           "showlakes": true,
           "showland": true,
           "subunitcolor": "#C8D4E3"
          },
          "hoverlabel": {
           "align": "left"
          },
          "hovermode": "closest",
          "mapbox": {
           "style": "light"
          },
          "paper_bgcolor": "white",
          "plot_bgcolor": "white",
          "polar": {
           "angularaxis": {
            "gridcolor": "#EBF0F8",
            "linecolor": "#EBF0F8",
            "ticks": ""
           },
           "bgcolor": "white",
           "radialaxis": {
            "gridcolor": "#EBF0F8",
            "linecolor": "#EBF0F8",
            "ticks": ""
           }
          },
          "scene": {
           "xaxis": {
            "backgroundcolor": "white",
            "gridcolor": "#DFE8F3",
            "gridwidth": 2,
            "linecolor": "#EBF0F8",
            "showbackground": true,
            "ticks": "",
            "zerolinecolor": "#EBF0F8"
           },
           "yaxis": {
            "backgroundcolor": "white",
            "gridcolor": "#DFE8F3",
            "gridwidth": 2,
            "linecolor": "#EBF0F8",
            "showbackground": true,
            "ticks": "",
            "zerolinecolor": "#EBF0F8"
           },
           "zaxis": {
            "backgroundcolor": "white",
            "gridcolor": "#DFE8F3",
            "gridwidth": 2,
            "linecolor": "#EBF0F8",
            "showbackground": true,
            "ticks": "",
            "zerolinecolor": "#EBF0F8"
           }
          },
          "shapedefaults": {
           "line": {
            "color": "#2a3f5f"
           }
          },
          "ternary": {
           "aaxis": {
            "gridcolor": "#DFE8F3",
            "linecolor": "#A2B1C6",
            "ticks": ""
           },
           "baxis": {
            "gridcolor": "#DFE8F3",
            "linecolor": "#A2B1C6",
            "ticks": ""
           },
           "bgcolor": "white",
           "caxis": {
            "gridcolor": "#DFE8F3",
            "linecolor": "#A2B1C6",
            "ticks": ""
           }
          },
          "title": {
           "x": 0.05
          },
          "xaxis": {
           "automargin": true,
           "gridcolor": "#EBF0F8",
           "linecolor": "#EBF0F8",
           "ticks": "",
           "title": {
            "standoff": 15
           },
           "zerolinecolor": "#EBF0F8",
           "zerolinewidth": 2
          },
          "yaxis": {
           "automargin": true,
           "gridcolor": "#EBF0F8",
           "linecolor": "#EBF0F8",
           "ticks": "",
           "title": {
            "standoff": 15
           },
           "zerolinecolor": "#EBF0F8",
           "zerolinewidth": 2
          }
         }
        },
        "width": 600,
        "xaxis": {
         "anchor": "y",
         "domain": [
          0,
          0.32
         ],
         "showticklabels": false,
         "tickangle": -45
        },
        "xaxis2": {
         "anchor": "y2",
         "domain": [
          0.34,
          0.66
         ]
        },
        "xaxis3": {
         "anchor": "y3",
         "domain": [
          0.68,
          1
         ]
        },
        "xaxis4": {
         "anchor": "y4",
         "domain": [
          0,
          0.32
         ],
         "showticklabels": false,
         "tickangle": -45
        },
        "xaxis5": {
         "anchor": "y5",
         "domain": [
          0.34,
          0.66
         ],
         "showticklabels": false,
         "tickangle": -45
        },
        "xaxis6": {
         "anchor": "y6",
         "domain": [
          0.68,
          1
         ]
        },
        "xaxis7": {
         "anchor": "y7",
         "domain": [
          0,
          0.32
         ],
         "showticklabels": true,
         "tickangle": -45,
         "title": {
          "text": "$\\alpha$"
         }
        },
        "xaxis8": {
         "anchor": "y8",
         "domain": [
          0.34,
          0.66
         ],
         "showticklabels": true,
         "tickangle": -45,
         "title": {
          "text": "log$E_{c}$"
         }
        },
        "xaxis9": {
         "anchor": "y9",
         "domain": [
          0.68,
          1
         ],
         "showticklabels": true,
         "tickangle": -45,
         "title": {
          "text": "log$A$"
         }
        },
        "yaxis": {
         "anchor": "x",
         "domain": [
          0.68,
          1
         ],
         "showticklabels": false,
         "tickangle": -45
        },
        "yaxis2": {
         "anchor": "x2",
         "domain": [
          0.68,
          1
         ]
        },
        "yaxis3": {
         "anchor": "x3",
         "domain": [
          0.68,
          1
         ]
        },
        "yaxis4": {
         "anchor": "x4",
         "domain": [
          0.34,
          0.66
         ],
         "showticklabels": true,
         "tickangle": -45,
         "title": {
          "text": "log$E_{c}$"
         }
        },
        "yaxis5": {
         "anchor": "x5",
         "domain": [
          0.34,
          0.66
         ],
         "showticklabels": false,
         "tickangle": -45
        },
        "yaxis6": {
         "anchor": "x6",
         "domain": [
          0.34,
          0.66
         ]
        },
        "yaxis7": {
         "anchor": "x7",
         "domain": [
          0,
          0.32
         ],
         "showticklabels": true,
         "tickangle": -45,
         "title": {
          "text": "log$A$"
         }
        },
        "yaxis8": {
         "anchor": "x8",
         "domain": [
          0,
          0.32
         ],
         "showticklabels": false,
         "tickangle": -45
        },
        "yaxis9": {
         "anchor": "x9",
         "domain": [
          0,
          0.32
         ],
         "showticklabels": false,
         "tickangle": -45
        }
       }
      }
     },
     "metadata": {},
     "output_type": "display_data"
    }
   ],
   "source": [
    "fig = Plot.post_corner(post, show=True)\n",
    "fig.write_html('quickstart/corner.html')"
   ]
  },
  {
   "cell_type": "code",
   "execution_count": 10,
   "id": "7c737961-cc18-481f-9fd3-c7dd0e1f8bdf",
   "metadata": {},
   "outputs": [
    {
     "data": {
      "application/vnd.plotly.v1+json": {
       "config": {
        "plotlyServerURL": "https://plot.ly"
       },
       "data": [
        {
         "line": {
          "color": "#636EFA",
          "width": 2
         },
         "mode": "lines",
         "name": "cpl",
         "showlegend": true,
         "type": "scatter",
         "x": [
          0.5,
          0.5399005149129056,
          0.5829851320064411,
          0.6295079459136915,
          0.6797433282811352,
          0.7339875458951941,
          0.7925605079369504,
          0.855807652669587,
          0.9241019846854301,
          0.9978462747274034,
          1.0774754350584994,
          1.1634590843881816,
          1.2563043174825537,
          1.3565586957922742,
          1.4648134767356569,
          1.581707100681889,
          1.7079289561991018,
          1.8442234457731128,
          1.9913943759747132,
          2.1503096979668235,
          2.321906626309005,
          2.5071971662478383,
          2.7072740820907715,
          2.923317341862343,
          3.1566010762506105,
          3.4085010928846726,
          3.6805029902592725,
          3.97421091915894,
          4.291357043252806,
          4.633811754654629,
          5.003594704695015,
          5.402886714960652,
          5.834042638846706,
          6.299605249474366,
          6.802320235878507,
          7.345152395906567,
          7.931303121327435,
          8.564229278270034,
          9.247663594340342,
          9.985636672651363,
          10.78250076259533,
          11.642955427548031,
          12.57207526088238,
          13.575339813748398,
          14.658665911120856,
          15.828442546700813,
          17.09156856246622,
          18.455493335089486,
          19.92826070917302,
          21.518556436402267,
          23.235759400392006,
          25.089996929328063,
          27.09220452261488,
          29.254190343771047,
          31.588704859924277,
          34.10951603860984,
          36.83149054535093,
          39.77068142088956,
          42.9444227551508,
          46.37143191628681,
          50.07191993770399,
          54.067710714088335,
          58.38236970939663,
          63.04134293587772,
          68.07210702376288,
          73.504331266672,
          79.37005259841,
          85.70386453309192,
          92.54312118288446,
          99.92815755657348,
          107.90252743818397,
          116.5132602485589,
          125.81113840475663,
          135.85099681301386,
          146.69204626155536,
          158.39822262048287,
          171.0385639081755,
          184.68761744797573,
          199.42587951639962,
          215.34027007572647,
          232.52464539073773,
          251.08035155280015,
          271.1168221757403,
          292.7522237884657,
          316.1141527305816,
          341.3403876609958,
          368.5797021174849,
          397.99274191935086,
          429.7529725877134,
          464.04770237091645,
          501.0791869084171,
          541.065822047989,
          584.2434318509676,
          630.8666593816408,
          681.210468483065,
          735.5717653961369,
          794.2711497855386,
          857.6548054993548,
          926.0965422132591,
          1000
         ],
         "y": [
          2.671439214091724e-7,
          2.7624352781528666e-7,
          2.8563422759099684e-7,
          2.953551151904655e-7,
          3.0540222302544295e-7,
          3.1579174760647997e-7,
          3.2653763680361056e-7,
          3.3764847359890124e-7,
          3.4913638448776294e-7,
          3.61011489903227e-7,
          3.7327113941645816e-7,
          3.8594688848528765e-7,
          3.9904464364847573e-7,
          4.1258870382070983e-7,
          4.265800001927526e-7,
          4.410340607387963e-7,
          4.559806683499685e-7,
          4.714152629672733e-7,
          4.873436029392792e-7,
          5.038185882213421e-7,
          5.208411580168485e-7,
          5.38417199773275e-7,
          5.565841710219865e-7,
          5.753312441150942e-7,
          5.946928043273013e-7,
          6.146933016121007e-7,
          6.353238561161659e-7,
          6.566278076539043e-7,
          6.786126321365858e-7,
          7.012902005211024e-7,
          7.247006389011394e-7,
          7.488414220864067e-7,
          7.737387528540759e-7,
          7.993301604760918e-7,
          8.257651010273866e-7,
          8.529829784100525e-7,
          8.810871931928559e-7,
          9.099599366316232e-7,
          9.397532896580999e-7,
          9.703537647250194e-7,
          0.000001001851000783773,
          0.0000010342126130157604,
          0.0000010674755329195882,
          0.0000011016573854824571,
          0.0000011368225794067271,
          0.0000011728690419917384,
          0.0000012097522214610359,
          0.0000012475201455630804,
          0.0000012862328406187889,
          0.0000013258800409213028,
          0.0000013663131117507477,
          0.0000014075823125953639,
          0.000001449733380835984,
          0.000001492651936568538,
          0.0000015363392976399653,
          0.0000015807014936576709,
          0.0000016256335637908578,
          0.0000016711227663751593,
          0.000001717092376331506,
          0.000001763359337473735,
          0.0000018099471759666818,
          0.0000018565727590233956,
          0.0000019031313659054052,
          0.0000019495229459212553,
          0.0000019955243083657686,
          0.000002040937084863082,
          0.000002085504710840238,
          0.000002129066665718157,
          0.0000021712488227562843,
          0.000002211799112732531,
          0.000002250405415946538,
          0.0000022867279990953608,
          0.0000023204402297227054,
          0.000002351064839300264,
          0.0000023780477116880236,
          0.0000024012165126665825,
          0.0000024200887504518777,
          0.0000024341833554095593,
          0.0000024427349977179326,
          0.000002445350902717681,
          0.0000024418268566749075,
          0.0000024313470310762295,
          0.000002413618997362363,
          0.0000023883365097057155,
          0.0000023552949689162377,
          0.000002313809071229597,
          0.0000022636514021220724,
          0.0000022048371559168215,
          0.0000021376720115411436,
          0.000002061536048394641,
          0.000001977194762092383,
          0.000001884831814747226,
          0.00000178502193483199,
          0.00000167870700625736,
          0.0000015666085923867449,
          0.0000014502374109278732,
          0.0000013308486267499452,
          0.0000012097267883580497,
          0.0000010882137696361096,
          9.681295567489793e-7
         ]
        },
        {
         "line": {
          "color": "rgba(0,0,0,0)"
         },
         "mode": "lines",
         "name": "cpl lower",
         "showlegend": false,
         "type": "scatter",
         "x": [
          0.5,
          0.5399005149129056,
          0.5829851320064411,
          0.6295079459136915,
          0.6797433282811352,
          0.7339875458951941,
          0.7925605079369504,
          0.855807652669587,
          0.9241019846854301,
          0.9978462747274034,
          1.0774754350584994,
          1.1634590843881816,
          1.2563043174825537,
          1.3565586957922742,
          1.4648134767356569,
          1.581707100681889,
          1.7079289561991018,
          1.8442234457731128,
          1.9913943759747132,
          2.1503096979668235,
          2.321906626309005,
          2.5071971662478383,
          2.7072740820907715,
          2.923317341862343,
          3.1566010762506105,
          3.4085010928846726,
          3.6805029902592725,
          3.97421091915894,
          4.291357043252806,
          4.633811754654629,
          5.003594704695015,
          5.402886714960652,
          5.834042638846706,
          6.299605249474366,
          6.802320235878507,
          7.345152395906567,
          7.931303121327435,
          8.564229278270034,
          9.247663594340342,
          9.985636672651363,
          10.78250076259533,
          11.642955427548031,
          12.57207526088238,
          13.575339813748398,
          14.658665911120856,
          15.828442546700813,
          17.09156856246622,
          18.455493335089486,
          19.92826070917302,
          21.518556436402267,
          23.235759400392006,
          25.089996929328063,
          27.09220452261488,
          29.254190343771047,
          31.588704859924277,
          34.10951603860984,
          36.83149054535093,
          39.77068142088956,
          42.9444227551508,
          46.37143191628681,
          50.07191993770399,
          54.067710714088335,
          58.38236970939663,
          63.04134293587772,
          68.07210702376288,
          73.504331266672,
          79.37005259841,
          85.70386453309192,
          92.54312118288446,
          99.92815755657348,
          107.90252743818397,
          116.5132602485589,
          125.81113840475663,
          135.85099681301386,
          146.69204626155536,
          158.39822262048287,
          171.0385639081755,
          184.68761744797573,
          199.42587951639962,
          215.34027007572647,
          232.52464539073773,
          251.08035155280015,
          271.1168221757403,
          292.7522237884657,
          316.1141527305816,
          341.3403876609958,
          368.5797021174849,
          397.99274191935086,
          429.7529725877134,
          464.04770237091645,
          501.0791869084171,
          541.065822047989,
          584.2434318509676,
          630.8666593816408,
          681.210468483065,
          735.5717653961369,
          794.2711497855386,
          857.6548054993548,
          926.0965422132591,
          1000
         ],
         "y": [
          2.562214046067944e-7,
          2.651591673917868e-7,
          2.7440984718212305e-7,
          2.8398025302198765e-7,
          2.938644709098581e-7,
          3.0410016476629153e-7,
          3.147025976565084e-7,
          3.2565192631468376e-7,
          3.3698153618025814e-7,
          3.4870503070261036e-7,
          3.6082527259780233e-7,
          3.7337470704896913e-7,
          3.863647592078066e-7,
          3.9979361466782236e-7,
          4.1367648602250873e-7,
          4.2800837475103554e-7,
          4.4283025917820286e-7,
          4.581411111091231e-7,
          4.740029828558001e-7,
          4.903946230843594e-7,
          5.073267416380843e-7,
          5.248537787241471e-7,
          5.429564291217624e-7,
          5.616306732724556e-7,
          5.809673847084886e-7,
          6.009607756780831e-7,
          6.216046562524713e-7,
          6.42934699522922e-7,
          6.649330915964253e-7,
          6.876849408897736e-7,
          7.111258962221776e-7,
          7.353318408050118e-7,
          7.603108710686262e-7,
          7.860675617256482e-7,
          8.126417651981994e-7,
          8.400264627097805e-7,
          8.682080594554708e-7,
          8.972981278190609e-7,
          9.272520462793293e-7,
          9.58123564271955e-7,
          9.899881817729924e-7,
          0.0000010226836662747678,
          0.0000010563679598693248,
          0.000001090902973512024,
          0.0000011263294659110087,
          0.0000011627086246463224,
          0.0000011998732064616784,
          0.0000012379360526092875,
          0.0000012769266009562559,
          0.000001316788198877305,
          0.0000013574780231016814,
          0.00000139899813325586,
          0.0000014412652328005452,
          0.0000014842239821979278,
          0.0000015277993698001378,
          0.0000015719726173697373,
          0.000001616697073903983,
          0.000001661821421565645,
          0.0000017073159728306571,
          0.0000017531100688794143,
          0.00000179900271556519,
          0.0000018449302546923086,
          0.000001890882823376675,
          0.0000019365298090870174,
          0.0000019817616296779477,
          0.0000020263952786577975,
          0.0000020700806609537913,
          0.0000021127967266070936,
          0.0000021542178103836446,
          0.0000021940201861021046,
          0.000002231918599506437,
          0.0000022674923523138775,
          0.000002300555821584481,
          0.0000023306717196848926,
          0.0000023572740723400044,
          0.000002380189106917557,
          0.000002398699215258679,
          0.000002412323411280386,
          0.000002420579033485174,
          0.000002422924851137662,
          0.000002419079700782526,
          0.000002408300803097033,
          0.000002390035307318696,
          0.000002364005303121061,
          0.0000023295734408202467,
          0.0000022865434596270808,
          0.0000022345430157917016,
          0.000002173892031388556,
          0.000002104190748358733,
          0.0000020258051438206405,
          0.0000019387984702177236,
          0.0000018440325239938873,
          0.0000017416120426090853,
          0.0000016332104071870664,
          0.0000015195627333861124,
          0.0000014015611387795686,
          0.0000012811855858167179,
          0.0000011592153744195478,
          0.000001037969710086102,
          9.183587927601371e-7
         ]
        },
        {
         "fill": "tonexty",
         "fillcolor": "rgba(99, 110, 250, 0.500000)",
         "line": {
          "color": "rgba(0,0,0,0)"
         },
         "mode": "lines",
         "name": "cpl CI",
         "showlegend": true,
         "type": "scatter",
         "x": [
          0.5,
          0.5399005149129056,
          0.5829851320064411,
          0.6295079459136915,
          0.6797433282811352,
          0.7339875458951941,
          0.7925605079369504,
          0.855807652669587,
          0.9241019846854301,
          0.9978462747274034,
          1.0774754350584994,
          1.1634590843881816,
          1.2563043174825537,
          1.3565586957922742,
          1.4648134767356569,
          1.581707100681889,
          1.7079289561991018,
          1.8442234457731128,
          1.9913943759747132,
          2.1503096979668235,
          2.321906626309005,
          2.5071971662478383,
          2.7072740820907715,
          2.923317341862343,
          3.1566010762506105,
          3.4085010928846726,
          3.6805029902592725,
          3.97421091915894,
          4.291357043252806,
          4.633811754654629,
          5.003594704695015,
          5.402886714960652,
          5.834042638846706,
          6.299605249474366,
          6.802320235878507,
          7.345152395906567,
          7.931303121327435,
          8.564229278270034,
          9.247663594340342,
          9.985636672651363,
          10.78250076259533,
          11.642955427548031,
          12.57207526088238,
          13.575339813748398,
          14.658665911120856,
          15.828442546700813,
          17.09156856246622,
          18.455493335089486,
          19.92826070917302,
          21.518556436402267,
          23.235759400392006,
          25.089996929328063,
          27.09220452261488,
          29.254190343771047,
          31.588704859924277,
          34.10951603860984,
          36.83149054535093,
          39.77068142088956,
          42.9444227551508,
          46.37143191628681,
          50.07191993770399,
          54.067710714088335,
          58.38236970939663,
          63.04134293587772,
          68.07210702376288,
          73.504331266672,
          79.37005259841,
          85.70386453309192,
          92.54312118288446,
          99.92815755657348,
          107.90252743818397,
          116.5132602485589,
          125.81113840475663,
          135.85099681301386,
          146.69204626155536,
          158.39822262048287,
          171.0385639081755,
          184.68761744797573,
          199.42587951639962,
          215.34027007572647,
          232.52464539073773,
          251.08035155280015,
          271.1168221757403,
          292.7522237884657,
          316.1141527305816,
          341.3403876609958,
          368.5797021174849,
          397.99274191935086,
          429.7529725877134,
          464.04770237091645,
          501.0791869084171,
          541.065822047989,
          584.2434318509676,
          630.8666593816408,
          681.210468483065,
          735.5717653961369,
          794.2711497855386,
          857.6548054993548,
          926.0965422132591,
          1000
         ],
         "y": [
          2.782200444740599e-7,
          2.874693468267208e-7,
          2.9703428641349823e-7,
          3.0692750428535016e-7,
          3.171290719299856e-7,
          3.276899630673301e-7,
          3.3859769991663443e-7,
          3.498624233953324e-7,
          3.6148729113445897e-7,
          3.734853742262508e-7,
          3.858907360578273e-7,
          3.986748038343807e-7,
          4.1190799081603445e-7,
          4.2555932688369735e-7,
          4.396725750303919e-7,
          4.5420401181014437e-7,
          4.6927352564956923e-7,
          4.84829448373667e-7,
          5.008693269138955e-7,
          5.174289529624721e-7,
          5.345073712808634e-7,
          5.521422981839591e-7,
          5.703696139108809e-7,
          5.891382992503063e-7,
          6.085066923912401e-7,
          6.284933275666471e-7,
          6.491094884853676e-7,
          6.703670842383667e-7,
          6.922996273271027e-7,
          7.149511012784369e-7,
          7.382635080780296e-7,
          7.622752216297751e-7,
          7.871061558091373e-7,
          8.126294793806955e-7,
          8.390177942141683e-7,
          8.661197197561632e-7,
          8.939967318157798e-7,
          9.227251859905936e-7,
          9.522391455038403e-7,
          9.82602129791374e-7,
          0.0000010138685519172233,
          0.0000010460298545289273,
          0.0000010790288920749026,
          0.0000011129944055885544,
          0.0000011478180205282406,
          0.0000011835164191025045,
          0.0000012200845662501982,
          0.0000012576281654785199,
          0.0000012960807756745853,
          0.000001335476216156524,
          0.0000013757640608763834,
          0.000001416970874709658,
          0.0000014589821373126511,
          0.0000015018700625966257,
          0.0000015455565787336522,
          0.000001589993295013972,
          0.0000016352257890708798,
          0.000001680958973538319,
          0.0000017273539476921548,
          0.0000017741836286891697,
          0.000001821181986947069,
          0.0000018684639865367275,
          0.0000019157768083906953,
          0.0000019629149995090653,
          0.0000020097880790846142,
          0.000002056052520810097,
          0.000002101560920428565,
          0.000002145913301068118,
          0.0000021889278397862475,
          0.000002230264104241059,
          0.0000022696483728674274,
          0.0000023065405670253277,
          0.000002340803960924019,
          0.0000023718987808787695,
          0.0000023995681837661995,
          0.000002423315762097743,
          0.000002442777615070013,
          0.0000024571821013381027,
          0.000002466099398379136,
          0.000002469237110742673,
          0.0000024658994336989546,
          0.000002455918352382101,
          0.000002438594204441666,
          0.000002414041039354119,
          0.0000023816156618795613,
          0.000002341063176104874,
          0.0000022923422717745767,
          0.000002235274351974119,
          0.000002169863550571571,
          0.0000020958939402383375,
          0.000002013525769835702,
          0.0000019230598144136926,
          0.0000018255911218818981,
          0.0000017216016476152084,
          0.0000016116519609338815,
          0.000001497062355820888,
          0.0000013788834942278956,
          0.0000012584655886232538,
          0.0000011374098424152761,
          0.0000010167281013369594
         ]
        }
       ],
       "layout": {
        "height": 600,
        "legend": {
         "x": 1,
         "xanchor": "right",
         "y": 1,
         "yanchor": "bottom"
        },
        "template": {
         "data": {
          "bar": [
           {
            "error_x": {
             "color": "#2a3f5f"
            },
            "error_y": {
             "color": "#2a3f5f"
            },
            "marker": {
             "line": {
              "color": "white",
              "width": 0.5
             },
             "pattern": {
              "fillmode": "overlay",
              "size": 10,
              "solidity": 0.2
             }
            },
            "type": "bar"
           }
          ],
          "barpolar": [
           {
            "marker": {
             "line": {
              "color": "white",
              "width": 0.5
             },
             "pattern": {
              "fillmode": "overlay",
              "size": 10,
              "solidity": 0.2
             }
            },
            "type": "barpolar"
           }
          ],
          "carpet": [
           {
            "aaxis": {
             "endlinecolor": "#2a3f5f",
             "gridcolor": "#C8D4E3",
             "linecolor": "#C8D4E3",
             "minorgridcolor": "#C8D4E3",
             "startlinecolor": "#2a3f5f"
            },
            "baxis": {
             "endlinecolor": "#2a3f5f",
             "gridcolor": "#C8D4E3",
             "linecolor": "#C8D4E3",
             "minorgridcolor": "#C8D4E3",
             "startlinecolor": "#2a3f5f"
            },
            "type": "carpet"
           }
          ],
          "choropleth": [
           {
            "colorbar": {
             "outlinewidth": 0,
             "ticks": ""
            },
            "type": "choropleth"
           }
          ],
          "contour": [
           {
            "colorbar": {
             "outlinewidth": 0,
             "ticks": ""
            },
            "colorscale": [
             [
              0,
              "#0d0887"
             ],
             [
              0.1111111111111111,
              "#46039f"
             ],
             [
              0.2222222222222222,
              "#7201a8"
             ],
             [
              0.3333333333333333,
              "#9c179e"
             ],
             [
              0.4444444444444444,
              "#bd3786"
             ],
             [
              0.5555555555555556,
              "#d8576b"
             ],
             [
              0.6666666666666666,
              "#ed7953"
             ],
             [
              0.7777777777777778,
              "#fb9f3a"
             ],
             [
              0.8888888888888888,
              "#fdca26"
             ],
             [
              1,
              "#f0f921"
             ]
            ],
            "type": "contour"
           }
          ],
          "contourcarpet": [
           {
            "colorbar": {
             "outlinewidth": 0,
             "ticks": ""
            },
            "type": "contourcarpet"
           }
          ],
          "heatmap": [
           {
            "colorbar": {
             "outlinewidth": 0,
             "ticks": ""
            },
            "colorscale": [
             [
              0,
              "#0d0887"
             ],
             [
              0.1111111111111111,
              "#46039f"
             ],
             [
              0.2222222222222222,
              "#7201a8"
             ],
             [
              0.3333333333333333,
              "#9c179e"
             ],
             [
              0.4444444444444444,
              "#bd3786"
             ],
             [
              0.5555555555555556,
              "#d8576b"
             ],
             [
              0.6666666666666666,
              "#ed7953"
             ],
             [
              0.7777777777777778,
              "#fb9f3a"
             ],
             [
              0.8888888888888888,
              "#fdca26"
             ],
             [
              1,
              "#f0f921"
             ]
            ],
            "type": "heatmap"
           }
          ],
          "heatmapgl": [
           {
            "colorbar": {
             "outlinewidth": 0,
             "ticks": ""
            },
            "colorscale": [
             [
              0,
              "#0d0887"
             ],
             [
              0.1111111111111111,
              "#46039f"
             ],
             [
              0.2222222222222222,
              "#7201a8"
             ],
             [
              0.3333333333333333,
              "#9c179e"
             ],
             [
              0.4444444444444444,
              "#bd3786"
             ],
             [
              0.5555555555555556,
              "#d8576b"
             ],
             [
              0.6666666666666666,
              "#ed7953"
             ],
             [
              0.7777777777777778,
              "#fb9f3a"
             ],
             [
              0.8888888888888888,
              "#fdca26"
             ],
             [
              1,
              "#f0f921"
             ]
            ],
            "type": "heatmapgl"
           }
          ],
          "histogram": [
           {
            "marker": {
             "pattern": {
              "fillmode": "overlay",
              "size": 10,
              "solidity": 0.2
             }
            },
            "type": "histogram"
           }
          ],
          "histogram2d": [
           {
            "colorbar": {
             "outlinewidth": 0,
             "ticks": ""
            },
            "colorscale": [
             [
              0,
              "#0d0887"
             ],
             [
              0.1111111111111111,
              "#46039f"
             ],
             [
              0.2222222222222222,
              "#7201a8"
             ],
             [
              0.3333333333333333,
              "#9c179e"
             ],
             [
              0.4444444444444444,
              "#bd3786"
             ],
             [
              0.5555555555555556,
              "#d8576b"
             ],
             [
              0.6666666666666666,
              "#ed7953"
             ],
             [
              0.7777777777777778,
              "#fb9f3a"
             ],
             [
              0.8888888888888888,
              "#fdca26"
             ],
             [
              1,
              "#f0f921"
             ]
            ],
            "type": "histogram2d"
           }
          ],
          "histogram2dcontour": [
           {
            "colorbar": {
             "outlinewidth": 0,
             "ticks": ""
            },
            "colorscale": [
             [
              0,
              "#0d0887"
             ],
             [
              0.1111111111111111,
              "#46039f"
             ],
             [
              0.2222222222222222,
              "#7201a8"
             ],
             [
              0.3333333333333333,
              "#9c179e"
             ],
             [
              0.4444444444444444,
              "#bd3786"
             ],
             [
              0.5555555555555556,
              "#d8576b"
             ],
             [
              0.6666666666666666,
              "#ed7953"
             ],
             [
              0.7777777777777778,
              "#fb9f3a"
             ],
             [
              0.8888888888888888,
              "#fdca26"
             ],
             [
              1,
              "#f0f921"
             ]
            ],
            "type": "histogram2dcontour"
           }
          ],
          "mesh3d": [
           {
            "colorbar": {
             "outlinewidth": 0,
             "ticks": ""
            },
            "type": "mesh3d"
           }
          ],
          "parcoords": [
           {
            "line": {
             "colorbar": {
              "outlinewidth": 0,
              "ticks": ""
             }
            },
            "type": "parcoords"
           }
          ],
          "pie": [
           {
            "automargin": true,
            "type": "pie"
           }
          ],
          "scatter": [
           {
            "fillpattern": {
             "fillmode": "overlay",
             "size": 10,
             "solidity": 0.2
            },
            "type": "scatter"
           }
          ],
          "scatter3d": [
           {
            "line": {
             "colorbar": {
              "outlinewidth": 0,
              "ticks": ""
             }
            },
            "marker": {
             "colorbar": {
              "outlinewidth": 0,
              "ticks": ""
             }
            },
            "type": "scatter3d"
           }
          ],
          "scattercarpet": [
           {
            "marker": {
             "colorbar": {
              "outlinewidth": 0,
              "ticks": ""
             }
            },
            "type": "scattercarpet"
           }
          ],
          "scattergeo": [
           {
            "marker": {
             "colorbar": {
              "outlinewidth": 0,
              "ticks": ""
             }
            },
            "type": "scattergeo"
           }
          ],
          "scattergl": [
           {
            "marker": {
             "colorbar": {
              "outlinewidth": 0,
              "ticks": ""
             }
            },
            "type": "scattergl"
           }
          ],
          "scattermapbox": [
           {
            "marker": {
             "colorbar": {
              "outlinewidth": 0,
              "ticks": ""
             }
            },
            "type": "scattermapbox"
           }
          ],
          "scatterpolar": [
           {
            "marker": {
             "colorbar": {
              "outlinewidth": 0,
              "ticks": ""
             }
            },
            "type": "scatterpolar"
           }
          ],
          "scatterpolargl": [
           {
            "marker": {
             "colorbar": {
              "outlinewidth": 0,
              "ticks": ""
             }
            },
            "type": "scatterpolargl"
           }
          ],
          "scatterternary": [
           {
            "marker": {
             "colorbar": {
              "outlinewidth": 0,
              "ticks": ""
             }
            },
            "type": "scatterternary"
           }
          ],
          "surface": [
           {
            "colorbar": {
             "outlinewidth": 0,
             "ticks": ""
            },
            "colorscale": [
             [
              0,
              "#0d0887"
             ],
             [
              0.1111111111111111,
              "#46039f"
             ],
             [
              0.2222222222222222,
              "#7201a8"
             ],
             [
              0.3333333333333333,
              "#9c179e"
             ],
             [
              0.4444444444444444,
              "#bd3786"
             ],
             [
              0.5555555555555556,
              "#d8576b"
             ],
             [
              0.6666666666666666,
              "#ed7953"
             ],
             [
              0.7777777777777778,
              "#fb9f3a"
             ],
             [
              0.8888888888888888,
              "#fdca26"
             ],
             [
              1,
              "#f0f921"
             ]
            ],
            "type": "surface"
           }
          ],
          "table": [
           {
            "cells": {
             "fill": {
              "color": "#EBF0F8"
             },
             "line": {
              "color": "white"
             }
            },
            "header": {
             "fill": {
              "color": "#C8D4E3"
             },
             "line": {
              "color": "white"
             }
            },
            "type": "table"
           }
          ]
         },
         "layout": {
          "annotationdefaults": {
           "arrowcolor": "#2a3f5f",
           "arrowhead": 0,
           "arrowwidth": 1
          },
          "autotypenumbers": "strict",
          "coloraxis": {
           "colorbar": {
            "outlinewidth": 0,
            "ticks": ""
           }
          },
          "colorscale": {
           "diverging": [
            [
             0,
             "#8e0152"
            ],
            [
             0.1,
             "#c51b7d"
            ],
            [
             0.2,
             "#de77ae"
            ],
            [
             0.3,
             "#f1b6da"
            ],
            [
             0.4,
             "#fde0ef"
            ],
            [
             0.5,
             "#f7f7f7"
            ],
            [
             0.6,
             "#e6f5d0"
            ],
            [
             0.7,
             "#b8e186"
            ],
            [
             0.8,
             "#7fbc41"
            ],
            [
             0.9,
             "#4d9221"
            ],
            [
             1,
             "#276419"
            ]
           ],
           "sequential": [
            [
             0,
             "#0d0887"
            ],
            [
             0.1111111111111111,
             "#46039f"
            ],
            [
             0.2222222222222222,
             "#7201a8"
            ],
            [
             0.3333333333333333,
             "#9c179e"
            ],
            [
             0.4444444444444444,
             "#bd3786"
            ],
            [
             0.5555555555555556,
             "#d8576b"
            ],
            [
             0.6666666666666666,
             "#ed7953"
            ],
            [
             0.7777777777777778,
             "#fb9f3a"
            ],
            [
             0.8888888888888888,
             "#fdca26"
            ],
            [
             1,
             "#f0f921"
            ]
           ],
           "sequentialminus": [
            [
             0,
             "#0d0887"
            ],
            [
             0.1111111111111111,
             "#46039f"
            ],
            [
             0.2222222222222222,
             "#7201a8"
            ],
            [
             0.3333333333333333,
             "#9c179e"
            ],
            [
             0.4444444444444444,
             "#bd3786"
            ],
            [
             0.5555555555555556,
             "#d8576b"
            ],
            [
             0.6666666666666666,
             "#ed7953"
            ],
            [
             0.7777777777777778,
             "#fb9f3a"
            ],
            [
             0.8888888888888888,
             "#fdca26"
            ],
            [
             1,
             "#f0f921"
            ]
           ]
          },
          "colorway": [
           "#636efa",
           "#EF553B",
           "#00cc96",
           "#ab63fa",
           "#FFA15A",
           "#19d3f3",
           "#FF6692",
           "#B6E880",
           "#FF97FF",
           "#FECB52"
          ],
          "font": {
           "color": "#2a3f5f"
          },
          "geo": {
           "bgcolor": "white",
           "lakecolor": "white",
           "landcolor": "white",
           "showlakes": true,
           "showland": true,
           "subunitcolor": "#C8D4E3"
          },
          "hoverlabel": {
           "align": "left"
          },
          "hovermode": "closest",
          "mapbox": {
           "style": "light"
          },
          "paper_bgcolor": "white",
          "plot_bgcolor": "white",
          "polar": {
           "angularaxis": {
            "gridcolor": "#EBF0F8",
            "linecolor": "#EBF0F8",
            "ticks": ""
           },
           "bgcolor": "white",
           "radialaxis": {
            "gridcolor": "#EBF0F8",
            "linecolor": "#EBF0F8",
            "ticks": ""
           }
          },
          "scene": {
           "xaxis": {
            "backgroundcolor": "white",
            "gridcolor": "#DFE8F3",
            "gridwidth": 2,
            "linecolor": "#EBF0F8",
            "showbackground": true,
            "ticks": "",
            "zerolinecolor": "#EBF0F8"
           },
           "yaxis": {
            "backgroundcolor": "white",
            "gridcolor": "#DFE8F3",
            "gridwidth": 2,
            "linecolor": "#EBF0F8",
            "showbackground": true,
            "ticks": "",
            "zerolinecolor": "#EBF0F8"
           },
           "zaxis": {
            "backgroundcolor": "white",
            "gridcolor": "#DFE8F3",
            "gridwidth": 2,
            "linecolor": "#EBF0F8",
            "showbackground": true,
            "ticks": "",
            "zerolinecolor": "#EBF0F8"
           }
          },
          "shapedefaults": {
           "line": {
            "color": "#2a3f5f"
           }
          },
          "ternary": {
           "aaxis": {
            "gridcolor": "#DFE8F3",
            "linecolor": "#A2B1C6",
            "ticks": ""
           },
           "baxis": {
            "gridcolor": "#DFE8F3",
            "linecolor": "#A2B1C6",
            "ticks": ""
           },
           "bgcolor": "white",
           "caxis": {
            "gridcolor": "#DFE8F3",
            "linecolor": "#A2B1C6",
            "ticks": ""
           }
          },
          "title": {
           "x": 0.05
          },
          "xaxis": {
           "automargin": true,
           "gridcolor": "#EBF0F8",
           "linecolor": "#EBF0F8",
           "ticks": "",
           "title": {
            "standoff": 15
           },
           "zerolinecolor": "#EBF0F8",
           "zerolinewidth": 2
          },
          "yaxis": {
           "automargin": true,
           "gridcolor": "#EBF0F8",
           "linecolor": "#EBF0F8",
           "ticks": "",
           "title": {
            "standoff": 15
           },
           "zerolinecolor": "#EBF0F8",
           "zerolinewidth": 2
          }
         }
        },
        "width": 600,
        "xaxis": {
         "title": {
          "text": "Energy (keV)"
         },
         "type": "log"
        },
        "yaxis": {
         "title": {
          "text": "erg/cm^2/s"
         },
         "type": "log"
        }
       }
      }
     },
     "metadata": {},
     "output_type": "display_data"
    }
   ],
   "source": [
    "earr = np.logspace(np.log10(0.5), 3, 100)\n",
    "\n",
    "modelplot = Plot.model(ploter='plotly', style='vFv', CI=True)\n",
    "fig = modelplot.add_model(model, E=earr, show=True)\n",
    "fig.write_html('quickstart/model.html')"
   ]
  },
  {
   "cell_type": "code",
   "execution_count": 11,
   "id": "0eab7004-7a1a-48a9-a50e-90780fa44cfe",
   "metadata": {},
   "outputs": [
    {
     "name": "stdout",
     "output_type": "stream",
     "text": [
      "8.372559070853753e-06\n",
      "{'mean': np.float64(8.370170493341427e-06), 'median': np.float64(8.370485194756286e-06), 'Isigma': array([8.31018371e-06, 8.43161130e-06]), 'IIsigma': array([8.24553199e-06, 8.49107695e-06]), 'IIIsigma': array([8.14584946e-06, 8.54071562e-06])}\n"
     ]
    }
   ],
   "source": [
    "ergflux = model.best_ergflux(emin=10, emax=1000, ngrid=1000)\n",
    "ergflux_sample = model.ergflux_sample(emin=10, emax=1000, ngrid=1000)\n",
    "\n",
    "print(ergflux)\n",
    "print(ergflux_sample)"
   ]
  }
 ],
 "metadata": {
  "kernelspec": {
   "display_name": "base",
   "language": "python",
   "name": "python3"
  },
  "language_info": {
   "codemirror_mode": {
    "name": "ipython",
    "version": 3
   },
   "file_extension": ".py",
   "mimetype": "text/x-python",
   "name": "python",
   "nbconvert_exporter": "python",
   "pygments_lexer": "ipython3",
   "version": "3.12.8"
  }
 },
 "nbformat": 4,
 "nbformat_minor": 5
}
