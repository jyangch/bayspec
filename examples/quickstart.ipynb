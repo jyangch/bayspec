{
 "cells": [
  {
   "cell_type": "markdown",
   "id": "9b5d5b59",
   "metadata": {},
   "source": [
    "# A Quick Start Tutorial\n",
    "\n",
    "This tutorial offers a quick-start guide for using _BaySpec_ to fit a spectral model to gamma-ray data. It can be broadly divided into the following three sections:\n",
    "\n",
    "- Data: The spectra from Fermi/GBM's NaI detector and BGO detector.\n",
    "- Model: A simple cutoff power-law function.\n",
    "- Fitting: Bayesian inference implemented using _multinest_ (or _emcee_)."
   ]
  },
  {
   "cell_type": "code",
   "execution_count": 1,
   "id": "48405a8a-75f0-4a2c-939a-14bd87ec3b89",
   "metadata": {},
   "outputs": [],
   "source": [
    "import numpy as np\n",
    "from bayspec.model.local import *\n",
    "from bayspec import DataUnit, Data, Infer, Plot"
   ]
  },
  {
   "cell_type": "code",
   "execution_count": 2,
   "id": "fa18db4b",
   "metadata": {},
   "outputs": [],
   "source": [
    "savepath = 'quickstart'"
   ]
  },
  {
   "cell_type": "markdown",
   "id": "89bbf706",
   "metadata": {},
   "source": [
    "1. Load spectra and response data."
   ]
  },
  {
   "cell_type": "code",
   "execution_count": 3,
   "id": "d21b52f6-3546-4423-bca9-ad837f15b033",
   "metadata": {},
   "outputs": [
    {
     "name": "stdout",
     "output_type": "stream",
     "text": [
      "╒════════╤════════════════╤═════════════╤════════════╤════════╕\n",
      "│  Name  │    Noticing    │  Statistic  │  Grouping  │  Time  │\n",
      "╞════════╪════════════════╪═════════════╪════════════╪════════╡\n",
      "│  nai   │   [[8, 900]]   │   pgstat    │    None    │  None  │\n",
      "├────────┼────────────────┼─────────────┼────────────┼────────┤\n",
      "│  bgo   │ [[300, 38000]] │   pgstat    │    None    │  None  │\n",
      "╘════════╧════════════════╧═════════════╧════════════╧════════╛\n",
      "╒════════╤═════════════╤═════════════╤═════════╤═════════╤══════════╕\n",
      "│  par#  │  Component  │  Parameter  │  Value  │  Prior  │  Frozen  │\n",
      "╞════════╪═════════════╪═════════════╪═════════╪═════════╪══════════╡\n",
      "│   1    │     nai     │     sf      │    1    │  None   │   True   │\n",
      "├────────┼─────────────┼─────────────┼─────────┼─────────┼──────────┤\n",
      "│   2    │     nai     │     bf      │    1    │  None   │   True   │\n",
      "├────────┼─────────────┼─────────────┼─────────┼─────────┼──────────┤\n",
      "│   3    │     nai     │     rf      │    1    │  None   │   True   │\n",
      "├────────┼─────────────┼─────────────┼─────────┼─────────┼──────────┤\n",
      "│   4    │     nai     │     ra      │    0    │  None   │   True   │\n",
      "├────────┼─────────────┼─────────────┼─────────┼─────────┼──────────┤\n",
      "│   5    │     nai     │     dec     │    0    │  None   │   True   │\n",
      "├────────┼─────────────┼─────────────┼─────────┼─────────┼──────────┤\n",
      "│   6    │     bgo     │     sf      │    1    │  None   │   True   │\n",
      "├────────┼─────────────┼─────────────┼─────────┼─────────┼──────────┤\n",
      "│   7    │     bgo     │     bf      │    1    │  None   │   True   │\n",
      "├────────┼─────────────┼─────────────┼─────────┼─────────┼──────────┤\n",
      "│   8    │     bgo     │     rf      │    1    │  None   │   True   │\n",
      "├────────┼─────────────┼─────────────┼─────────┼─────────┼──────────┤\n",
      "│   9    │     bgo     │     ra      │    0    │  None   │   True   │\n",
      "├────────┼─────────────┼─────────────┼─────────┼─────────┼──────────┤\n",
      "│   10   │     bgo     │     dec     │    0    │  None   │   True   │\n",
      "╘════════╧═════════════╧═════════════╧═════════╧═════════╧══════════╛\n",
      "\n"
     ]
    }
   ],
   "source": [
    "nai = DataUnit(\n",
    "    src='./ME/me.src', \n",
    "    bkg='./ME/me.bkg', \n",
    "    rsp='./ME/me.rsp', \n",
    "    notc=[8, 900], \n",
    "    stat='pgstat', \n",
    "    rebn={'min_sigma': 2, 'max_bin': 10})\n",
    "\n",
    "bgo = DataUnit(\n",
    "    src='./HE/he.src', \n",
    "    bkg='./HE/he.bkg', \n",
    "    rsp='./HE/he.rsp', \n",
    "    notc=[300, 38000], \n",
    "    stat='pgstat', \n",
    "    rebn={'min_sigma': 2, 'max_bin': 10})\n",
    "\n",
    "data = Data([('nai', nai), \n",
    "             ('bgo', bgo)])\n",
    "\n",
    "data.save(savepath)\n",
    "print(data)"
   ]
  },
  {
   "cell_type": "markdown",
   "id": "707e5bda",
   "metadata": {},
   "source": [
    "2.Define spectral model."
   ]
  },
  {
   "cell_type": "code",
   "execution_count": 4,
   "id": "78047e9a",
   "metadata": {},
   "outputs": [
    {
     "name": "stdout",
     "output_type": "stream",
     "text": [
      "cpl [add]\n",
      "cutoff power law model\n",
      "╒════════╤═════════════╤═════════════╤═════════╕\n",
      "│  cfg#  │  Component  │  Parameter  │  Value  │\n",
      "╞════════╪═════════════╪═════════════╪═════════╡\n",
      "│   1    │     cpl     │  redshift   │    0    │\n",
      "╘════════╧═════════════╧═════════════╧═════════╛\n",
      "╒════════╤═════════════╤═════════════╤═════════╤═════════════╤══════════╕\n",
      "│  par#  │  Component  │  Parameter  │  Value  │    Prior    │  Frozen  │\n",
      "╞════════╪═════════════╪═════════════╪═════════╪═════════════╪══════════╡\n",
      "│   1    │     cpl     │  $\\alpha$   │   -1    │ unif(-8, 4) │  False   │\n",
      "├────────┼─────────────┼─────────────┼─────────┼─────────────┼──────────┤\n",
      "│   2    │     cpl     │ log$E_{c}$  │    2    │ unif(0, 4)  │  False   │\n",
      "├────────┼─────────────┼─────────────┼─────────┼─────────────┼──────────┤\n",
      "│   3    │     cpl     │   log$A$    │   -1    │ unif(-6, 5) │  False   │\n",
      "╘════════╧═════════════╧═════════════╧═════════╧═════════════╧══════════╛\n",
      "\n"
     ]
    }
   ],
   "source": [
    "model = cpl()\n",
    "model.save(savepath)\n",
    "print(model)"
   ]
  },
  {
   "cell_type": "markdown",
   "id": "ca1f97a8",
   "metadata": {},
   "source": [
    "3.Run Bayesian inference."
   ]
  },
  {
   "cell_type": "code",
   "execution_count": 5,
   "id": "ae57d6a0-d366-42e2-aaf6-46a0fdd15f9f",
   "metadata": {},
   "outputs": [
    {
     "name": "stdout",
     "output_type": "stream",
     "text": [
      "╒════════╤═════════╤══════════════╤═════════════╤═════════════╤═════════╕\n",
      "│  cfg#  │  Class  │  Expression  │  Component  │  Parameter  │  Value  │\n",
      "╞════════╪═════════╪══════════════╪═════════════╪═════════════╪═════════╡\n",
      "│   1    │  model  │     cpl      │     cpl     │  redshift   │    0    │\n",
      "╘════════╧═════════╧══════════════╧═════════════╧═════════════╧═════════╛\n",
      "╒════════╤═════════╤══════════════╤═════════════╤═════════════╤═════════╤═════════════╕\n",
      "│  par#  │  Class  │  Expression  │  Component  │  Parameter  │  Value  │    Prior    │\n",
      "╞════════╪═════════╪══════════════╪═════════════╪═════════════╪═════════╪═════════════╡\n",
      "│   1*   │  model  │     cpl      │     cpl     │  $\\alpha$   │   -1    │ unif(-8, 4) │\n",
      "├────────┼─────────┼──────────────┼─────────────┼─────────────┼─────────┼─────────────┤\n",
      "│   2*   │  model  │     cpl      │     cpl     │ log$E_{c}$  │    2    │ unif(0, 4)  │\n",
      "├────────┼─────────┼──────────────┼─────────────┼─────────────┼─────────┼─────────────┤\n",
      "│   3*   │  model  │     cpl      │     cpl     │   log$A$    │   -1    │ unif(-6, 5) │\n",
      "╘════════╧═════════╧══════════════╧═════════════╧═════════════╧═════════╧═════════════╛\n",
      "\n"
     ]
    }
   ],
   "source": [
    "infer = Infer([(data, model)])\n",
    "infer.save(savepath)\n",
    "print(infer)"
   ]
  },
  {
   "cell_type": "code",
   "execution_count": 6,
   "id": "c277472b-8b72-4860-84cb-37ae593ddfb7",
   "metadata": {},
   "outputs": [
    {
     "name": "stdout",
     "output_type": "stream",
     "text": [
      " *****************************************************\n",
      " MultiNest v3.10\n",
      " Copyright Farhan Feroz & Mike Hobson\n",
      " Release Jul 2015\n",
      "\n",
      " no. of live points =  400\n",
      " dimensionality =    3\n",
      " resuming from previous job\n",
      " *****************************************************\n",
      "  analysing data from quickstart/1-.txt\n",
      " ln(ev)=  -296.28570556179801      +/-  0.20874724397948941     \n",
      " Total Likelihood Evaluations:        12469\n",
      " Sampling finished. Exiting MultiNest\n",
      "╒════════╤═════════╤══════════════╤═════════════╤═════════════╤════════╤══════════╤════════╤══════════════════╕\n",
      "│  par#  │  Class  │  Expression  │  Component  │  Parameter  │  Mean  │  Median  │  Best  │    1sigma CI     │\n",
      "╞════════╪═════════╪══════════════╪═════════════╪═════════════╪════════╪══════════╪════════╪══════════════════╡\n",
      "│   1    │  model  │     cpl      │     cpl     │  $\\alpha$   │ -1.562 │  -1.562  │ -1.563 │ [-1.572, -1.552] │\n",
      "├────────┼─────────┼──────────────┼─────────────┼─────────────┼────────┼──────────┼────────┼──────────────────┤\n",
      "│   2    │  model  │     cpl      │     cpl     │ log$E_{c}$  │  2.69  │  2.689   │  2.69  │  [2.672, 2.708]  │\n",
      "├────────┼─────────┼──────────────┼─────────────┼─────────────┼────────┼──────────┼────────┼──────────────────┤\n",
      "│   3    │  model  │     cpl      │     cpl     │   log$A$    │ -0.771 │  -0.771  │ -0.771 │ [-0.777, -0.764] │\n",
      "╘════════╧═════════╧══════════════╧═════════════╧═════════════╧════════╧══════════╧════════╧══════════════════╛\n",
      "╒════════╤═════════╤═════════════╤════════════╤════════╕\n",
      "│  Data  │  Model  │  Statistic  │   Value    │  Bins  │\n",
      "╞════════╪═════════╪═════════════╪════════════╪════════╡\n",
      "│  nai   │   cpl   │   pgstat    │   405.02   │  119   │\n",
      "├────────┼─────────┼─────────────┼────────────┼────────┤\n",
      "│  bgo   │   cpl   │   pgstat    │   149.73   │  117   │\n",
      "├────────┼─────────┼─────────────┼────────────┼────────┤\n",
      "│ Total  │  Total  │  stat/dof   │ 554.75/233 │  236   │\n",
      "╘════════╧═════════╧═════════════╧════════════╧════════╛\n",
      "╒════════╤════════╤════════╤═════════╕\n",
      "│  AIC   │  AICc  │  BIC   │   lnZ   │\n",
      "╞════════╪════════╪════════╪═════════╡\n",
      "│ 560.75 │ 560.85 │ 571.14 │ -296.34 │\n",
      "╘════════╧════════╧════════╧═════════╛\n",
      "\n"
     ]
    }
   ],
   "source": [
    "post = infer.multinest(nlive=400, resume=True, verbose=False, savepath=savepath)\n",
    "post.save(savepath)\n",
    "print(post)"
   ]
  },
  {
   "cell_type": "code",
   "execution_count": 7,
   "id": "44e91f83-276a-4fcf-a89f-898a6e025481",
   "metadata": {},
   "outputs": [
    {
     "data": {
      "application/vnd.plotly.v1+json": {
       "config": {
        "plotlyServerURL": "https://plot.ly"
       },
       "data": [
        {
         "error_x": {
          "array": {
           "bdata": "AAAAAMa52j8AAAAAzIvaPwAAAABW0N8/AAAAAMr+3z8AAAAAVzXgPwAAAAAEiuA/AAAAAA/94D8AAAAANXzhPwAAAADC7OE/AAAAAH5h5T8AAAAAWsnlPwAAAAAOGeY/AAAAANJl5j8AAAAAvLrmPwAAAADsF+c/AAAAACzh6j8AAAAAAHLrPwAAAAAiD+w/AAAAAJy47D8AAAAAZJnzPwAAAADwneg/AAAAAEgJ6T8AAAAAXLDpPwAAAABQT+o/AAAAADDs7T8AAAAAQJvuPwAAAAAcP+8/AAAAANzX7z8AAAAAENXxPwAAAABKI/I/AAAAABhq8j8AAAAAfKnyPwAAAABcm/Q/AAAAAFLU9D8AAAAApgP1PwAAAAAo7vY/AAAAACgO9z8AAAAA3CH3PwAAAABk8fg/AAAAAMDq+D8AAAAADNb4PwAAAADogfo/AAAAAPxp+j8AAAAAdFX6PwAAAAAMBPw/AAAAAKz0+z8AAAAAZOn7PwAAAAA8oP0/AAAAABSd/T8AAAAAGF3/PwAAAAD0ZP8/AAAAAC6ZAEAAAAAAlqIAQAAAAADojAFAAAAAAEyXAUAAAAAAnKEBQAAAAABMjgJAAAAAAICZAkAAAAAALIgDQAAAAABkeARAAAAAAISFBEAAAAAAzHcFQAAAAADUhQVAAAAAADh6BkAAAAAALIkGQAAAAACsfwdAAAAAANR3CEAAAAAAwIgIQAAAAAAUgwlAAAAAACB/CkAAAAAABJIKQAAAAAA4kAtAAAAAACyQDEAAAAAA4JENQAAAAAC8pw1AAAAAAJyrDkAAAAAAKLEPQAAAAABEXBBAAAAAAJxoEEAAAAAASO0QQAAAAADYchFAAAAAADj5EUAAAAAAcIASQAAAAAB8CBNAAAAAAFiRE0AAAAAA/BoUQAAAAABkpRRAAAAAAIwwFUAAAAAAbLwVQAAAAAAESRZAAAAAADzWFkAAAAAAGGQXQAAAAADYbxhAAAAAAIz/GEAAAAAAwI8ZQAAAAABkIBpAAAAAAGSxGkAAAAAAzMEbQAAAAAAMVBxAAAAAAHjmHEAAAAAAEPkdQAAAAAA4jB5AAAAAAOifH0AAAAAAtBkgQAAAAADgoyBAAAAAAHztIEAAAAAAzLwxQAAAAAALGUNAAAAAAOgWU0A=",
           "dtype": "f8"
          },
          "arrayminus": {
           "bdata": "AAAAAMa52j8AAAAAzIvaPwAAAABW0N8/AAAAAMr+3z8AAAAAVzXgPwAAAAAEiuA/AAAAAA/94D8AAAAANXzhPwAAAADC7OE/AAAAAH5h5T8AAAAAWsnlPwAAAAAOGeY/AAAAANJl5j8AAAAAvLrmPwAAAADsF+c/AAAAACzh6j8AAAAAAHLrPwAAAAAiD+w/AAAAAJy47D8AAAAAZJnzPwAAAADwneg/AAAAAEgJ6T8AAAAAXLDpPwAAAABQT+o/AAAAADDs7T8AAAAAQJvuPwAAAAAcP+8/AAAAANzX7z8AAAAAENXxPwAAAABKI/I/AAAAABhq8j8AAAAAfKnyPwAAAABcm/Q/AAAAAFLU9D8AAAAApgP1PwAAAAAo7vY/AAAAACgO9z8AAAAA3CH3PwAAAABk8fg/AAAAAMDq+D8AAAAADNb4PwAAAADogfo/AAAAAPxp+j8AAAAAdFX6PwAAAAAMBPw/AAAAAKz0+z8AAAAAZOn7PwAAAAA8oP0/AAAAABSd/T8AAAAAGF3/PwAAAAD0ZP8/AAAAAC6ZAEAAAAAAlqIAQAAAAADojAFAAAAAAEyXAUAAAAAAnKEBQAAAAABMjgJAAAAAAICZAkAAAAAALIgDQAAAAABkeARAAAAAAISFBEAAAAAAzHcFQAAAAADUhQVAAAAAADh6BkAAAAAALIkGQAAAAACsfwdAAAAAANR3CEAAAAAAwIgIQAAAAAAUgwlAAAAAACB/CkAAAAAABJIKQAAAAAA4kAtAAAAAACyQDEAAAAAA4JENQAAAAAC8pw1AAAAAAJyrDkAAAAAAKLEPQAAAAABEXBBAAAAAAJxoEEAAAAAASO0QQAAAAADYchFAAAAAADj5EUAAAAAAcIASQAAAAAB8CBNAAAAAAFiRE0AAAAAA/BoUQAAAAABkpRRAAAAAAIwwFUAAAAAAbLwVQAAAAAAESRZAAAAAADzWFkAAAAAAGGQXQAAAAADYbxhAAAAAAIz/GEAAAAAAwI8ZQAAAAABkIBpAAAAAAGSxGkAAAAAAzMEbQAAAAAAMVBxAAAAAAHjmHEAAAAAAEPkdQAAAAAA4jB5AAAAAAOifH0AAAAAAtBkgQAAAAADgoyBAAAAAAHztIEAAAAAAzLwxQAAAAAALGUNAAAAAAOgWU0A=",
           "dtype": "f8"
          },
          "color": "#636EFA",
          "symmetric": false,
          "thickness": 1.5,
          "type": "data",
          "width": 0
         },
         "error_y": {
          "array": {
           "bdata": "1o7YW7/WAkCMcv+q6n4EQN3OSS4GXQVAiYopBn1rB0CEASdXhtEJQAv1shD0pwpA+6AUsJk1C0Apv55rE9ULQIa+0T74UwxAVgDDr8l2CkDuyvPOUJQJQI7yohWQ/AhAZz927SRNCUD3niKMG5MIQLycCfkVcQdAtaNAJGNuBEBj9sOCiN8DQNVkwPYEwgJArzBpw6dpAUAkhvEMW4X3PwGVG4fvagJAhIPz1gAoAEDvWePC06H+P2pFgyEmN/s/EKtq13hk+D+RF1T5tCz4P1l4TGVhfPY//6aG1yKV9j8VA+aQmPnzP02yXnawbPM/1c3oFBLc8j+iTLnQwOjxP7bCbnohpvA/BoaP4Z1q8D/YKPr/N3HwPxaSlGb1pu4/hDTMobA17D/G6gJTcbfsPzKkL7a66Ok/F78CefTf6T9sk2z8EHrpP2ChXVnXXec/oW9QzDof5z+OuSbJBczmP+A1OVH8KOY/TQicZi5B5D/sBgAELi3jP1jaKWeai+M/G+l67NNf4z85p35KsIPhP7HDzIn07eA/HVizeKBp4D/ZOglCbKTeP1TRfaP1KN0/Fv9cR5Jl3D/Bomwnv5jaPx+AFVtvbNo/OZ89cSiS2D+Xbbio/W7YPwPFZGuVutY/Fim6fesJ1T+Jr8XryVTUP+NymEJ7TdM/e2MYD6Rw0z/VzhDopSfRP2bU6ziZItA/BnVZG3XDzz+7kKI4I3fNP38HIa+GX80/j50W52dgyD+RTHGYxvPIP2xz+tdOScc/YnG7HpLQxT/v2LYgLIbDP5qtH5/KUMQ/kZE6TH+MwT/ek1NRJojBP3tIqIJFnb8/3kVA2s0xvz8pGp2V5Hq7PxleK4wz/Lo/tR4NMR1/uj/AJC4sqkO2PwcnNlw1Vrg/5MT/kaCVsz+m0hX13jyzPzN8fZzmDrM/rw6qi1dUsD85uHR4oXyxP+f0ye+Ln7E/OFXH/KUPqz+WJKOWoW+qP2sTTOmZkak//JdDB13tqj/HvzciZWakP4fTt1kfPqY/eauMig4dpj8mBRpuIOijP3VFKazkMKQ/i6xEXVFwoz/bQ+UaFQijPwh2htAOS6I/wuU+ACuDnz+7HzsJBNCcPwn5EUzqhZ4/pqmLxeg0nz+9HYVtaH+SP9w2fBFPpYQ/+Bkoi6kHeT8=",
           "dtype": "f8"
          },
          "color": "#636EFA",
          "thickness": 1.5,
          "type": "data",
          "width": 0
         },
         "marker": {
          "color": "#636EFA",
          "size": 0,
          "symbol": "cross-thin"
         },
         "mode": "markers",
         "name": "obs of nai",
         "showlegend": false,
         "type": "scatter",
         "x": {
          "bdata": "AAAAwO3+IEAAAABAGqkiQAAAAED7eyRAAAAAQHR6JkAAAAAAwH0oQAAAAMC1iSpAAAAAACeiLEAAAABAu8kuQAAAAEAlgDBAAAAAQJe6MUAAAAAA7hMzQAAAAEABczRAAAAAQPjWNUAAAADA/D83QAAAAACSrjhAAAAAwFo+OkAAAAAg9PA7QAAAAED9rD1AAAAAIDtzP0AAAAAgS8lAQAAAAACOyEFAAAAA4CqPQkAAAACAEVpDQAAAACAQKkRAAAAAIP4KRUAAAADgG/1FQAAAAECF9EZAAAAAQOHwR0AAAAAg6f5IQAAAAACsHkpAAAAAABdDS0AAAACgs2tMQAAAAGDapU1AAAAAwFfxTkAAAADACyBQQAAAAADTz1BAAAAAQMSHUUAAAABAhEBSQAAAAEDRAFNAAAAA4EHIU0AAAAAARY9UQAAAAOCkXFVAAAAAgFQwVkAAAABAUgNXQAAAAEC43FdAAAAAAJu8WEAAAABAE5xZQAAAAMA5glpAAAAAAC9vW0AAAADAF2NcQAAAAAAgXl1AAAAAQH1gXkAAAABAW2pfQAAAAKDrPWBAAAAAgHzKYEAAAAAAYFdhQAAAAMAf6GFAAAAA4L58YkAAAACARRVjQAAAAMBHtWNAAAAAgD9ZZEAAAADANAFlQAAAAEArrWVAAAAAYCtdZkAAAAAAORFnQAAAAEBcyWdAAAAAQDqJaEAAAACgPE1pQAAAAABsFWpAAAAAwHTlakAAAABAublrQAAAAEBCkmxAAAAAwMNybUAAAAAATFtuQAAAAIAySG9AAAAA4L8ccEAAAACAeZlwQAAAAMBMGnFAAAAAQGCdcUAAAADgtyJyQAAAAGA4rHJAAAAAoOg5c0AAAABAz8tzQAAAAADzYXRAAAAAQFr8dEAAAACAC5t1QAAAAAANPnZAAAAAwGTldkAAAADAGJF3QAAAAIAuQXhAAAAAgKv1eEAAAADAlK55QAAAAIDkbXpAAAAAAKIze0AAAABA3/17QAAAAMCfzHxAAAAAAOeffUAAAADAs3l+QAAAAAALWn9AAAAAgHofgEAAAACgOZWAQAAAAEBEDoFAAAAAgJyKgUAAAAAAQwqCQAAAAGA5jYJAAAAAwH4Tg0AAAAAgG+WDQAAAAECSpIVAAAAA4P84iUA=",
          "dtype": "f8"
         },
         "xaxis": "x",
         "y": {
          "bdata": "BCE5aXgTQkA5MktLk0VEQLT8XfNf70pA6krrygokUEDjbU0iKzFUQIZTK75oB1ZAdeCTJwhsV0B+mi3lsdBZQAJGV2RVi1tAL2umB/tdXUDzBr8mhdlbQEajH93eB1tAd/EOw6ZmXEDeJN1DnRtbQOwsz05dZFlAmf0ORbAmVkDwQsWQDZhVQAYeSsLWa1NANGG6Xu/wUEB3iBTCJAtFQBwR00fBhlBAHxcm6cznSUAw8FjvCXxIQNHP+jkmN0NAwr31zUrJQUAKWWGiNRBCQMqxqRqi8D9A4YlN7qy6QEAMpM2eJb48QG02CQrUdDtA9cl6H9plOkBA6O4KaFU4QLA5Vf7eRjdA1AbRmimpNkACMbgnE7U2QKdjxopgQTVAvq0+JBfWMUAKPErWQEEzQK1WUtUE/jBAta5N6/E/MUBPr3P+288wQJkSEYw11C1AJbdZCPocLUCh1e4aNHosQG5xm3OVpSxAsifX2p1dJ0CCUXy5CSMlQG853Lr7wSdAhqdXN35/J0AJGNP5rgokQHqnMnZ29iJAmG1tN6HNIkBo4lGPbkggQJY6rpUP9B5AQUsibcfaHUCU0kFGh6IZQNY+zkAQLxtAqLtEQkZfF0BQr252dEgYQIAH326HUhZAov45wWCiEkBInXFPyVwSQLufkZaRfRBAzaxTUrKJEUD68Ty70tgJQL8VA7MWjQdAMrtBZqrsB0DIY1wriLgEQBCUpwhGUQZA3XZV0fPd/j8Zp/WORbwAQAkvnp2AW/0/aotUfi5A+j9CVBnlGiP1Px12UMopU/c/vxNnugN08T/AJ/mhFWHyPxg0dIWo9+0/eRHDAVsK7T+iuOOLKt3lP00clQdYKuY/xr8XShkj5j8CxiOHtHbeP72i6hrMMOU/ngC17RTZ2j9CF+09xHDaPxhnniUQlto/BImSYIyJ0j+N0qkyToHXP5vDER4fENk/YvIYZZ8AyT8QxxUaeQLGPxoIGnuQwMc/7lmjyIEx0D8J1paBKmy1PzbiBXWdWMI/hjUo1rnIwT/2T10z62K6P89zEkmCdro/bl9MPadntz+7vQeTXjy5PwS/2+ei87s/8+7aX5+8sD9mFw+w1fesP77dP5B9trU/M9+oOK81tz9ihwg9gLOpP4RD94roE5k/+KZOad15jj8=",
          "dtype": "f8"
         },
         "yaxis": "y"
        },
        {
         "line": {
          "color": "#636EFA",
          "width": 2
         },
         "mode": "lines",
         "name": "nai",
         "showlegend": true,
         "type": "scatter",
         "x": {
          "bdata": "AAAAwO3+IEAAAABAGqkiQAAAAED7eyRAAAAAQHR6JkAAAAAAwH0oQAAAAMC1iSpAAAAAACeiLEAAAABAu8kuQAAAAEAlgDBAAAAAQJe6MUAAAAAA7hMzQAAAAEABczRAAAAAQPjWNUAAAADA/D83QAAAAACSrjhAAAAAwFo+OkAAAAAg9PA7QAAAAED9rD1AAAAAIDtzP0AAAAAgS8lAQAAAAACOyEFAAAAA4CqPQkAAAACAEVpDQAAAACAQKkRAAAAAIP4KRUAAAADgG/1FQAAAAECF9EZAAAAAQOHwR0AAAAAg6f5IQAAAAACsHkpAAAAAABdDS0AAAACgs2tMQAAAAGDapU1AAAAAwFfxTkAAAADACyBQQAAAAADTz1BAAAAAQMSHUUAAAABAhEBSQAAAAEDRAFNAAAAA4EHIU0AAAAAARY9UQAAAAOCkXFVAAAAAgFQwVkAAAABAUgNXQAAAAEC43FdAAAAAAJu8WEAAAABAE5xZQAAAAMA5glpAAAAAAC9vW0AAAADAF2NcQAAAAAAgXl1AAAAAQH1gXkAAAABAW2pfQAAAAKDrPWBAAAAAgHzKYEAAAAAAYFdhQAAAAMAf6GFAAAAA4L58YkAAAACARRVjQAAAAMBHtWNAAAAAgD9ZZEAAAADANAFlQAAAAEArrWVAAAAAYCtdZkAAAAAAORFnQAAAAEBcyWdAAAAAQDqJaEAAAACgPE1pQAAAAABsFWpAAAAAwHTlakAAAABAublrQAAAAEBCkmxAAAAAwMNybUAAAAAATFtuQAAAAIAySG9AAAAA4L8ccEAAAACAeZlwQAAAAMBMGnFAAAAAQGCdcUAAAADgtyJyQAAAAGA4rHJAAAAAoOg5c0AAAABAz8tzQAAAAADzYXRAAAAAQFr8dEAAAACAC5t1QAAAAAANPnZAAAAAwGTldkAAAADAGJF3QAAAAIAuQXhAAAAAgKv1eEAAAADAlK55QAAAAIDkbXpAAAAAAKIze0AAAABA3/17QAAAAMCfzHxAAAAAAOeffUAAAADAs3l+QAAAAAALWn9AAAAAgHofgEAAAACgOZWAQAAAAEBEDoFAAAAAgJyKgUAAAAAAQwqCQAAAAGA5jYJAAAAAwH4Tg0AAAAAgG+WDQAAAAECSpIVAAAAA4P84iUA=",
          "dtype": "f8"
         },
         "xaxis": "x",
         "y": {
          "bdata": "IXgKSyC8PUBcUaRlv01FQDSCKutnM01AWKG1clRtUkBc2Va9fdxVQCSpgnVpB1lA8q3HxTUoW0CQQW1nUflbQDEeZ/+cb1xAGuB5YdaJXEBPoI42kQ9cQMrWR1kCHltAtvzsqaHsWUAOgtLXqoZYQPzFBaftBldA8dJu7LuDVUAZdqNpGMZTQMDNyb3e2lFAz/92zDfBT0B5+OEsqP1KQIZXVR4iQEdAwWgT9o6IRUA6BcJKwnhEQPcsJC0sjENA2h6+5G+GQkDEPtOIm5dBQOT8devxxkBAu7zC0MXRP0AGDGL+Ixc+QKDyrkkwmzxAYBCWpGRKO0BWvsrQpxk6QPZPbusO4jhA7N8RvIGoN0BO32Xv2402QLUgLvVrfDVAlgFnI11pNEDIDoboLmczQP3UGxVbcjJA1RDFs+CJMUDni2H/IrEwQFP2a+d+si9AbsO2CygPLkB/0aKN94csQOoLId0xECtA6EPCQICrKUBZo8dHvVQoQBmEAjZf8iZAknfL5amWJUBfeGCzgFkkQPxiDVbFNyNA4n3ygIAfIkBxTO5elQwhQAp5iUfdBiBAm3RJRhAVHkA9NEn/Ui4cQFyucweoVRpAFiWj666ZGED+UALQTgEXQN41Z16fchVAsamtsc7uE0Dfq7ce6XASQLTsfYrCABFAUGA3Rn1KD0BruUfpiMsMQEVdf8sKfQpA0wAhg1hBCEDOmw4TkBsGQItNI/oTFQRA26dt3E44AkCxa+SgXJAAQIKNhkqhKP4/dbV9N6tl+z/fxXp5LMb4P2tf5wt8XvY/w/1AxEgz9D8Jr9HqYkXyP3ocwB0Cg/A/ySeNmOrV7T9Si9D6APDqP5gI/1v3Seg/cCSUrtvw5T/lwZUaaMnjP+p2RuZe0uE/CBmWfwz+3z+mb1CDP3/cP1cSGKQ9e9k/DE3I0+bM1j/ilknlR4zUP9gZB0LtitI/NNO7X8uw0D/OItM7GRLOP87taxSe9co/aQGhr/AsyD+n1Pgc+a/FPxtt7CEjaMM/PSAGjhNMwT9L0d0Lds6+P3wPnYdch7s/Z7sWq1GiuD8l0ZafdAi2PxVQKacKwrM/3FBCqy7MsT91tSP2DxGwP9FSbR0JBK0/7QMHCz4gqj+3+kknawOmP0sTjwjjVZ8/E4Zw88+skD8=",
          "dtype": "f8"
         },
         "yaxis": "y"
        },
        {
         "marker": {
          "color": "#636EFA",
          "line": {
           "color": "#636EFA",
           "width": 1.5
          },
          "size": 10,
          "symbol": "cross-thin"
         },
         "mode": "markers",
         "name": "res of nai",
         "showlegend": false,
         "type": "scatter",
         "x": {
          "bdata": "AAAAwO3+IEAAAABAGqkiQAAAAED7eyRAAAAAQHR6JkAAAAAAwH0oQAAAAMC1iSpAAAAAACeiLEAAAABAu8kuQAAAAEAlgDBAAAAAQJe6MUAAAAAA7hMzQAAAAEABczRAAAAAQPjWNUAAAADA/D83QAAAAACSrjhAAAAAwFo+OkAAAAAg9PA7QAAAAED9rD1AAAAAIDtzP0AAAAAgS8lAQAAAAACOyEFAAAAA4CqPQkAAAACAEVpDQAAAACAQKkRAAAAAIP4KRUAAAADgG/1FQAAAAECF9EZAAAAAQOHwR0AAAAAg6f5IQAAAAACsHkpAAAAAABdDS0AAAACgs2tMQAAAAGDapU1AAAAAwFfxTkAAAADACyBQQAAAAADTz1BAAAAAQMSHUUAAAABAhEBSQAAAAEDRAFNAAAAA4EHIU0AAAAAARY9UQAAAAOCkXFVAAAAAgFQwVkAAAABAUgNXQAAAAEC43FdAAAAAAJu8WEAAAABAE5xZQAAAAMA5glpAAAAAAC9vW0AAAADAF2NcQAAAAAAgXl1AAAAAQH1gXkAAAABAW2pfQAAAAKDrPWBAAAAAgHzKYEAAAAAAYFdhQAAAAMAf6GFAAAAA4L58YkAAAACARRVjQAAAAMBHtWNAAAAAgD9ZZEAAAADANAFlQAAAAEArrWVAAAAAYCtdZkAAAAAAORFnQAAAAEBcyWdAAAAAQDqJaEAAAACgPE1pQAAAAABsFWpAAAAAwHTlakAAAABAublrQAAAAEBCkmxAAAAAwMNybUAAAAAATFtuQAAAAIAySG9AAAAA4L8ccEAAAACAeZlwQAAAAMBMGnFAAAAAQGCdcUAAAADgtyJyQAAAAGA4rHJAAAAAoOg5c0AAAABAz8tzQAAAAADzYXRAAAAAQFr8dEAAAACAC5t1QAAAAAANPnZAAAAAwGTldkAAAADAGJF3QAAAAIAuQXhAAAAAgKv1eEAAAADAlK55QAAAAIDkbXpAAAAAAKIze0AAAABA3/17QAAAAMCfzHxAAAAAAOeffUAAAADAs3l+QAAAAAALWn9AAAAAgHofgEAAAACgOZWAQAAAAEBEDoFAAAAAgJyKgUAAAAAAQwqCQAAAAGA5jYJAAAAAwH4Tg0AAAAAgG+WDQAAAAECSpIVAAAAA4P84iUA=",
          "dtype": "f8"
         },
         "xaxis": "x2",
         "y": {
          "bdata": "EnfEXwbNBUCz5FfYOcfpv6PD9eGVJvu/00Wdm7b9CMCIlNXqEY0AwCy0ViXCzwzA74UljBySEcDbGxIM/toDwEHRpp/sHfC/Rjn931YI8D+k4gQsQufQvxZLBGZHWry/yJIo1QkPCUBS1fbVPuUKQDckU9/H0wlAlrt9Qy/n7z8cuoC/UXIHQOkfvztCYAVAL1gfq2tH/z+unLY3uy4gwFC+iGzvByFAYs3QuKpREUD5KuMsnMQQQBRD1Bgf/ti/VajNkFUE77+73lHZgvTjP/czsnvmYPK/3TALTWqU8j8rp4HvckXxv3Porx3cTu6/vUE4aWk86L/UhDC8mUD5vzj0tJyOsvi/h090hLkb779CrwzwlxTDP6L3Ys0H0s6/I662eNReB8DgwhfwJyLFv2PRuMvlvfy/1Nvufczb1r9OcAGtY0vDP3m6jfcFePS/c90YKbDy5L+H4Y5X2VGjv3leIFosS/I/8gAb0Jof/b+soJ4YB1IFwKz2RT19PuU/HDnwUBQ7+T8WxnHUQQDSv+GNIqR23M6/jMk5bwI45T/RnaKj+Jrpv9VYaeWbUeO/CaFg8IhrwL8PE39DtYH4v/O6sXCedOA/YmiUJYmX6b9gmY4QTMfqP1yeHzrRs+M/hgsrzQSa77//y8ZFnayvvxkzB+ymL9u/y0jDv5zr+D+BpymAO//1v7OXuXs9Tfe/dX/uD+FTxb8cjY6nIRnov3wSEP7vevM/9+Fsf1ND/b+LrMhv9ie8P5+EjIwqntG/ouB2lkHo2r/r9Jo0Fdj3v95XaVN4Ftg/pTZsI5sJ9L9M7WsAK0epP8IHwoI3v+i/us/eCCQayr+YTZs646H3v83CmAYuJeS/TOn7XINWrj/gLxruxS/6v4G8dYD2t/E/UfG8SrXP8L9ECPMU+F3bvxZ7rjUKrs0/gq2XW1a18L9N+7EBQ6XlP480v3DMrfc/2oJRMeHQ879YLV2Z54Pzv5V5MkNIDuC/2V6oEiqE8z/ITlbFrDcBwNi8LvMeasi/Byy7ABeMtj9KVCPiy2vcvxtIJ8DzBru/M8t/vQMwwL/o2KCLd4rVP3wX31WUquw/KAaRqzA8wb8zLnf9bx/Mv2wHDMPgNu4/hFjD5THP9D9A3+SV2ITZP8o6z5/+ZeO/SMejlStlzb8=",
          "dtype": "f8"
         },
         "yaxis": "y2"
        },
        {
         "error_x": {
          "array": {
           "bdata": "AAAAADg1MUAAAAAA2jExQAAAAADCLjFAAAAAAO8rMUAAAAAAXykxQAAAAAAXJzFAAAAAALDbNkAAAAAAvNg2QAAAAABu1jZAAAAAAMDUNkAAAAAAttM2QAAAAABQ0zZAAAAAAIzTNkAAAAAAbtQ2QAAAAADy1TZAAAAAABjYNkAAAAAAs7hJQAAAAAAcnTxAAAAAANizXEAAAABA4ix1QAAAAEDojXpAAAAAAAkRgUAAAADA8eWFQAAAAICh6YxAAAAAgILCk0AAAACAKuacQAAAAACHCqdAAAAAQMagwEA=",
           "dtype": "f8"
          },
          "arrayminus": {
           "bdata": "AAAAADg1MUAAAAAA2jExQAAAAADCLjFAAAAAAO8rMUAAAAAAXykxQAAAAAAXJzFAAAAAALDbNkAAAAAAvNg2QAAAAABu1jZAAAAAAMDUNkAAAAAAttM2QAAAAABQ0zZAAAAAAIzTNkAAAAAAbtQ2QAAAAADy1TZAAAAAABjYNkAAAAAAs7hJQAAAAAAcnTxAAAAAANizXEAAAABA4ix1QAAAAEDojXpAAAAAAAkRgUAAAADA8eWFQAAAAICh6YxAAAAAgILCk0AAAACAKuacQAAAAACHCqdAAAAAQMagwEA=",
           "dtype": "f8"
          },
          "color": "#EF553B",
          "symmetric": false,
          "thickness": 1.5,
          "type": "data",
          "width": 0
         },
         "error_y": {
          "array": {
           "bdata": "24HDQ3ytuD+Nl/+uyIq3P7rju2VtvbU/xFGt5UqQsj8Ca3WkSz6yP3ClzA7bNLE/BY5NSEcKrD+OZjffyxipP6hroOfk2qU/2lBzr9FLoj/BALAwsY+iPwnNjohzrqE/MBLvPB7foT8CDEOMpDmiP6ZI+7FYDaA/cneiGew/oD/3fHo8oTiXP1LkwUhpVp0/epLc1KbviD8KUtVceaJ5P3BiHISEo2w/HG7o92HxXz96D5FvgKZNP9xm4Hk2/0I/Ojt2PaLLOD8QbmDgPogwP9ElOxzXBCU/GBFXPXQZEz8=",
           "dtype": "f8"
          },
          "color": "#EF553B",
          "thickness": 1.5,
          "type": "data",
          "width": 0
         },
         "marker": {
          "color": "#EF553B",
          "size": 0,
          "symbol": "cross-thin"
         },
         "mode": "markers",
         "name": "obs of bgo",
         "showlegend": false,
         "type": "scatter",
         "x": {
          "bdata": "AAAAoJ2SdEAAAADADrl2QAAAAIAY33hAAAAAgMMEe0AAAACAGCp9QAAAAMAfT39AAAAAIKbngEAAAACASVWCQAAAAMDCwoNAAAAAQBwwhUAAAAAAYJ2GQAAAACCYCohAAAAAAM93iUAAAADADuWKQAAAAMBhUoxAAAAAINK/jUAAAAAADwmQQAAAAABJSZFAAAAAAPuGk0AAAAAAcZ2aQAAAAOARRqNAAAAAIBHcqkAAAADg50yyQAAAAEDaprhAAAAAgFeawEAAAABAba/GQAAAACBqB9BAAAAAIB4520A=",
          "dtype": "f8"
         },
         "xaxis": "x",
         "y": {
          "bdata": "/qv8nngfAUBA2Dc8GLP7P2Ce1Y5TBfc//795fB3b8D/oSPj/iYTwP2JOwFOpf+g/YybDdSIj4j9SXZMycojgP+CTWPSE7Ng/MGwJhQ6nyT8Ijz3s7SnOP6Y4itb3ucQ/YDx5IW9IxD+4ZuPw1k7FPwgm1aNc1bU/pHxNsMTksz9sjcu6Gu20PwCxpd/z6a4/kI/+7r87mj+gI5VMcxNzP8Cmo9iP02M/8EqLEoT1Yj9A/QSOIjxAP0Dkox4J2yw/mLXjSE4wMr9QPLIraacmv2jMg5C5HiG/MJtuOcOeG78=",
          "dtype": "f8"
         },
         "yaxis": "y"
        },
        {
         "line": {
          "color": "#EF553B",
          "width": 2
         },
         "mode": "lines",
         "name": "bgo",
         "showlegend": true,
         "type": "scatter",
         "x": {
          "bdata": "AAAAoJ2SdEAAAADADrl2QAAAAIAY33hAAAAAgMMEe0AAAACAGCp9QAAAAMAfT39AAAAAIKbngEAAAACASVWCQAAAAMDCwoNAAAAAQBwwhUAAAAAAYJ2GQAAAACCYCohAAAAAAM93iUAAAADADuWKQAAAAMBhUoxAAAAAINK/jUAAAAAADwmQQAAAAABJSZFAAAAAAPuGk0AAAAAAcZ2aQAAAAOARRqNAAAAAIBHcqkAAAADg50yyQAAAAEDaprhAAAAAgFeawEAAAABAba/GQAAAACBqB9BAAAAAIB4520A=",
          "dtype": "f8"
         },
         "xaxis": "x",
         "y": {
          "bdata": "bnG399VEAEAAGskD/6/5P7mJ1Ms6kPQ/gKLP4tHG8D/vtKMUvYLrP7RsaCDjj+Y/AljX7iBG4j/BUiujDAndP2x2EsdyLNc/4PqEIqjG0j8a85W0i5XOPz1hGJyeCsk/uQm3FImmxD/ESuvgZCbBP9/+Q6nCg7w/grRpHDPWtz+MLYoaEyOyP1l9bHpawqo/CQRTPGOGoD8gyg1fdtqBPyMZmNpJTlA/NGgimXhnFj8mc6PoPCXTPi8HWZjxkoE+ZeURr+7SGD7ETYbocSKQPWSzxFzdAM08KA+A5wdzlTs=",
          "dtype": "f8"
         },
         "yaxis": "y"
        },
        {
         "marker": {
          "color": "#EF553B",
          "line": {
           "color": "#EF553B",
           "width": 1.5
          },
          "size": 10,
          "symbol": "cross-thin"
         },
         "mode": "markers",
         "name": "res of bgo",
         "showlegend": false,
         "type": "scatter",
         "x": {
          "bdata": "AAAAoJ2SdEAAAADADrl2QAAAAIAY33hAAAAAgMMEe0AAAACAGCp9QAAAAMAfT39AAAAAIKbngEAAAACASVWCQAAAAMDCwoNAAAAAQBwwhUAAAAAAYJ2GQAAAACCYCohAAAAAAM93iUAAAADADuWKQAAAAMBhUoxAAAAAINK/jUAAAAAADwmQQAAAAABJSZFAAAAAAPuGk0AAAAAAcZ2aQAAAAOARRqNAAAAAIBHcqkAAAADg50yyQAAAAEDaprhAAAAAgFeawEAAAABAba/GQAAAACBqB9BAAAAAIB4520A=",
          "dtype": "f8"
         },
         "xaxis": "x2",
         "y": {
          "bdata": "sW3z4CK48T/622PaPuH1PwqPS6327/w/Yg7FOBZ+sT8iCo+Rr2EDQGu6RQkx0Ow/oIveI8z3s79WFPM3pY70P6FkRw1/gOQ/R9WMSufPBMB4vaPBCTG3v5jFUw/SPO+/HykHFMwPtb+y/c5x3zPtP9vTHq1fo+q/3ccRkFwP37+sH8i0wL/ePxk5dnh+INI/dCFPtbR+4b8Iz02EpcLkv8LOKmhSFto/oB9ZSqNK8j8fI2sZKFzhP0lozNb3Sdg/z9uHjEV557+U+c33tuzlvyPBvCxuEOq/LB39JVQj978=",
          "dtype": "f8"
         },
         "yaxis": "y2"
        }
       ],
       "layout": {
        "height": 700,
        "legend": {
         "x": 1,
         "xanchor": "right",
         "y": 1,
         "yanchor": "bottom"
        },
        "template": {
         "data": {
          "bar": [
           {
            "error_x": {
             "color": "#2a3f5f"
            },
            "error_y": {
             "color": "#2a3f5f"
            },
            "marker": {
             "line": {
              "color": "white",
              "width": 0.5
             },
             "pattern": {
              "fillmode": "overlay",
              "size": 10,
              "solidity": 0.2
             }
            },
            "type": "bar"
           }
          ],
          "barpolar": [
           {
            "marker": {
             "line": {
              "color": "white",
              "width": 0.5
             },
             "pattern": {
              "fillmode": "overlay",
              "size": 10,
              "solidity": 0.2
             }
            },
            "type": "barpolar"
           }
          ],
          "carpet": [
           {
            "aaxis": {
             "endlinecolor": "#2a3f5f",
             "gridcolor": "#C8D4E3",
             "linecolor": "#C8D4E3",
             "minorgridcolor": "#C8D4E3",
             "startlinecolor": "#2a3f5f"
            },
            "baxis": {
             "endlinecolor": "#2a3f5f",
             "gridcolor": "#C8D4E3",
             "linecolor": "#C8D4E3",
             "minorgridcolor": "#C8D4E3",
             "startlinecolor": "#2a3f5f"
            },
            "type": "carpet"
           }
          ],
          "choropleth": [
           {
            "colorbar": {
             "outlinewidth": 0,
             "ticks": ""
            },
            "type": "choropleth"
           }
          ],
          "contour": [
           {
            "colorbar": {
             "outlinewidth": 0,
             "ticks": ""
            },
            "colorscale": [
             [
              0,
              "#0d0887"
             ],
             [
              0.1111111111111111,
              "#46039f"
             ],
             [
              0.2222222222222222,
              "#7201a8"
             ],
             [
              0.3333333333333333,
              "#9c179e"
             ],
             [
              0.4444444444444444,
              "#bd3786"
             ],
             [
              0.5555555555555556,
              "#d8576b"
             ],
             [
              0.6666666666666666,
              "#ed7953"
             ],
             [
              0.7777777777777778,
              "#fb9f3a"
             ],
             [
              0.8888888888888888,
              "#fdca26"
             ],
             [
              1,
              "#f0f921"
             ]
            ],
            "type": "contour"
           }
          ],
          "contourcarpet": [
           {
            "colorbar": {
             "outlinewidth": 0,
             "ticks": ""
            },
            "type": "contourcarpet"
           }
          ],
          "heatmap": [
           {
            "colorbar": {
             "outlinewidth": 0,
             "ticks": ""
            },
            "colorscale": [
             [
              0,
              "#0d0887"
             ],
             [
              0.1111111111111111,
              "#46039f"
             ],
             [
              0.2222222222222222,
              "#7201a8"
             ],
             [
              0.3333333333333333,
              "#9c179e"
             ],
             [
              0.4444444444444444,
              "#bd3786"
             ],
             [
              0.5555555555555556,
              "#d8576b"
             ],
             [
              0.6666666666666666,
              "#ed7953"
             ],
             [
              0.7777777777777778,
              "#fb9f3a"
             ],
             [
              0.8888888888888888,
              "#fdca26"
             ],
             [
              1,
              "#f0f921"
             ]
            ],
            "type": "heatmap"
           }
          ],
          "histogram": [
           {
            "marker": {
             "pattern": {
              "fillmode": "overlay",
              "size": 10,
              "solidity": 0.2
             }
            },
            "type": "histogram"
           }
          ],
          "histogram2d": [
           {
            "colorbar": {
             "outlinewidth": 0,
             "ticks": ""
            },
            "colorscale": [
             [
              0,
              "#0d0887"
             ],
             [
              0.1111111111111111,
              "#46039f"
             ],
             [
              0.2222222222222222,
              "#7201a8"
             ],
             [
              0.3333333333333333,
              "#9c179e"
             ],
             [
              0.4444444444444444,
              "#bd3786"
             ],
             [
              0.5555555555555556,
              "#d8576b"
             ],
             [
              0.6666666666666666,
              "#ed7953"
             ],
             [
              0.7777777777777778,
              "#fb9f3a"
             ],
             [
              0.8888888888888888,
              "#fdca26"
             ],
             [
              1,
              "#f0f921"
             ]
            ],
            "type": "histogram2d"
           }
          ],
          "histogram2dcontour": [
           {
            "colorbar": {
             "outlinewidth": 0,
             "ticks": ""
            },
            "colorscale": [
             [
              0,
              "#0d0887"
             ],
             [
              0.1111111111111111,
              "#46039f"
             ],
             [
              0.2222222222222222,
              "#7201a8"
             ],
             [
              0.3333333333333333,
              "#9c179e"
             ],
             [
              0.4444444444444444,
              "#bd3786"
             ],
             [
              0.5555555555555556,
              "#d8576b"
             ],
             [
              0.6666666666666666,
              "#ed7953"
             ],
             [
              0.7777777777777778,
              "#fb9f3a"
             ],
             [
              0.8888888888888888,
              "#fdca26"
             ],
             [
              1,
              "#f0f921"
             ]
            ],
            "type": "histogram2dcontour"
           }
          ],
          "mesh3d": [
           {
            "colorbar": {
             "outlinewidth": 0,
             "ticks": ""
            },
            "type": "mesh3d"
           }
          ],
          "parcoords": [
           {
            "line": {
             "colorbar": {
              "outlinewidth": 0,
              "ticks": ""
             }
            },
            "type": "parcoords"
           }
          ],
          "pie": [
           {
            "automargin": true,
            "type": "pie"
           }
          ],
          "scatter": [
           {
            "fillpattern": {
             "fillmode": "overlay",
             "size": 10,
             "solidity": 0.2
            },
            "type": "scatter"
           }
          ],
          "scatter3d": [
           {
            "line": {
             "colorbar": {
              "outlinewidth": 0,
              "ticks": ""
             }
            },
            "marker": {
             "colorbar": {
              "outlinewidth": 0,
              "ticks": ""
             }
            },
            "type": "scatter3d"
           }
          ],
          "scattercarpet": [
           {
            "marker": {
             "colorbar": {
              "outlinewidth": 0,
              "ticks": ""
             }
            },
            "type": "scattercarpet"
           }
          ],
          "scattergeo": [
           {
            "marker": {
             "colorbar": {
              "outlinewidth": 0,
              "ticks": ""
             }
            },
            "type": "scattergeo"
           }
          ],
          "scattergl": [
           {
            "marker": {
             "colorbar": {
              "outlinewidth": 0,
              "ticks": ""
             }
            },
            "type": "scattergl"
           }
          ],
          "scattermap": [
           {
            "marker": {
             "colorbar": {
              "outlinewidth": 0,
              "ticks": ""
             }
            },
            "type": "scattermap"
           }
          ],
          "scattermapbox": [
           {
            "marker": {
             "colorbar": {
              "outlinewidth": 0,
              "ticks": ""
             }
            },
            "type": "scattermapbox"
           }
          ],
          "scatterpolar": [
           {
            "marker": {
             "colorbar": {
              "outlinewidth": 0,
              "ticks": ""
             }
            },
            "type": "scatterpolar"
           }
          ],
          "scatterpolargl": [
           {
            "marker": {
             "colorbar": {
              "outlinewidth": 0,
              "ticks": ""
             }
            },
            "type": "scatterpolargl"
           }
          ],
          "scatterternary": [
           {
            "marker": {
             "colorbar": {
              "outlinewidth": 0,
              "ticks": ""
             }
            },
            "type": "scatterternary"
           }
          ],
          "surface": [
           {
            "colorbar": {
             "outlinewidth": 0,
             "ticks": ""
            },
            "colorscale": [
             [
              0,
              "#0d0887"
             ],
             [
              0.1111111111111111,
              "#46039f"
             ],
             [
              0.2222222222222222,
              "#7201a8"
             ],
             [
              0.3333333333333333,
              "#9c179e"
             ],
             [
              0.4444444444444444,
              "#bd3786"
             ],
             [
              0.5555555555555556,
              "#d8576b"
             ],
             [
              0.6666666666666666,
              "#ed7953"
             ],
             [
              0.7777777777777778,
              "#fb9f3a"
             ],
             [
              0.8888888888888888,
              "#fdca26"
             ],
             [
              1,
              "#f0f921"
             ]
            ],
            "type": "surface"
           }
          ],
          "table": [
           {
            "cells": {
             "fill": {
              "color": "#EBF0F8"
             },
             "line": {
              "color": "white"
             }
            },
            "header": {
             "fill": {
              "color": "#C8D4E3"
             },
             "line": {
              "color": "white"
             }
            },
            "type": "table"
           }
          ]
         },
         "layout": {
          "annotationdefaults": {
           "arrowcolor": "#2a3f5f",
           "arrowhead": 0,
           "arrowwidth": 1
          },
          "autotypenumbers": "strict",
          "coloraxis": {
           "colorbar": {
            "outlinewidth": 0,
            "ticks": ""
           }
          },
          "colorscale": {
           "diverging": [
            [
             0,
             "#8e0152"
            ],
            [
             0.1,
             "#c51b7d"
            ],
            [
             0.2,
             "#de77ae"
            ],
            [
             0.3,
             "#f1b6da"
            ],
            [
             0.4,
             "#fde0ef"
            ],
            [
             0.5,
             "#f7f7f7"
            ],
            [
             0.6,
             "#e6f5d0"
            ],
            [
             0.7,
             "#b8e186"
            ],
            [
             0.8,
             "#7fbc41"
            ],
            [
             0.9,
             "#4d9221"
            ],
            [
             1,
             "#276419"
            ]
           ],
           "sequential": [
            [
             0,
             "#0d0887"
            ],
            [
             0.1111111111111111,
             "#46039f"
            ],
            [
             0.2222222222222222,
             "#7201a8"
            ],
            [
             0.3333333333333333,
             "#9c179e"
            ],
            [
             0.4444444444444444,
             "#bd3786"
            ],
            [
             0.5555555555555556,
             "#d8576b"
            ],
            [
             0.6666666666666666,
             "#ed7953"
            ],
            [
             0.7777777777777778,
             "#fb9f3a"
            ],
            [
             0.8888888888888888,
             "#fdca26"
            ],
            [
             1,
             "#f0f921"
            ]
           ],
           "sequentialminus": [
            [
             0,
             "#0d0887"
            ],
            [
             0.1111111111111111,
             "#46039f"
            ],
            [
             0.2222222222222222,
             "#7201a8"
            ],
            [
             0.3333333333333333,
             "#9c179e"
            ],
            [
             0.4444444444444444,
             "#bd3786"
            ],
            [
             0.5555555555555556,
             "#d8576b"
            ],
            [
             0.6666666666666666,
             "#ed7953"
            ],
            [
             0.7777777777777778,
             "#fb9f3a"
            ],
            [
             0.8888888888888888,
             "#fdca26"
            ],
            [
             1,
             "#f0f921"
            ]
           ]
          },
          "colorway": [
           "#636efa",
           "#EF553B",
           "#00cc96",
           "#ab63fa",
           "#FFA15A",
           "#19d3f3",
           "#FF6692",
           "#B6E880",
           "#FF97FF",
           "#FECB52"
          ],
          "font": {
           "color": "#2a3f5f"
          },
          "geo": {
           "bgcolor": "white",
           "lakecolor": "white",
           "landcolor": "white",
           "showlakes": true,
           "showland": true,
           "subunitcolor": "#C8D4E3"
          },
          "hoverlabel": {
           "align": "left"
          },
          "hovermode": "closest",
          "mapbox": {
           "style": "light"
          },
          "paper_bgcolor": "white",
          "plot_bgcolor": "white",
          "polar": {
           "angularaxis": {
            "gridcolor": "#EBF0F8",
            "linecolor": "#EBF0F8",
            "ticks": ""
           },
           "bgcolor": "white",
           "radialaxis": {
            "gridcolor": "#EBF0F8",
            "linecolor": "#EBF0F8",
            "ticks": ""
           }
          },
          "scene": {
           "xaxis": {
            "backgroundcolor": "white",
            "gridcolor": "#DFE8F3",
            "gridwidth": 2,
            "linecolor": "#EBF0F8",
            "showbackground": true,
            "ticks": "",
            "zerolinecolor": "#EBF0F8"
           },
           "yaxis": {
            "backgroundcolor": "white",
            "gridcolor": "#DFE8F3",
            "gridwidth": 2,
            "linecolor": "#EBF0F8",
            "showbackground": true,
            "ticks": "",
            "zerolinecolor": "#EBF0F8"
           },
           "zaxis": {
            "backgroundcolor": "white",
            "gridcolor": "#DFE8F3",
            "gridwidth": 2,
            "linecolor": "#EBF0F8",
            "showbackground": true,
            "ticks": "",
            "zerolinecolor": "#EBF0F8"
           }
          },
          "shapedefaults": {
           "line": {
            "color": "#2a3f5f"
           }
          },
          "ternary": {
           "aaxis": {
            "gridcolor": "#DFE8F3",
            "linecolor": "#A2B1C6",
            "ticks": ""
           },
           "baxis": {
            "gridcolor": "#DFE8F3",
            "linecolor": "#A2B1C6",
            "ticks": ""
           },
           "bgcolor": "white",
           "caxis": {
            "gridcolor": "#DFE8F3",
            "linecolor": "#A2B1C6",
            "ticks": ""
           }
          },
          "title": {
           "x": 0.05
          },
          "xaxis": {
           "automargin": true,
           "gridcolor": "#EBF0F8",
           "linecolor": "#EBF0F8",
           "ticks": "",
           "title": {
            "standoff": 15
           },
           "zerolinecolor": "#EBF0F8",
           "zerolinewidth": 2
          },
          "yaxis": {
           "automargin": true,
           "gridcolor": "#EBF0F8",
           "linecolor": "#EBF0F8",
           "ticks": "",
           "title": {
            "standoff": 15
           },
           "zerolinecolor": "#EBF0F8",
           "zerolinewidth": 2
          }
         }
        },
        "width": 600,
        "xaxis": {
         "anchor": "y",
         "domain": [
          0,
          1
         ],
         "matches": "x2",
         "showticklabels": false,
         "title": {
          "text": ""
         },
         "type": "log"
        },
        "xaxis2": {
         "anchor": "y2",
         "domain": [
          0,
          1
         ],
         "title": {
          "text": "Energy (keV)"
         },
         "type": "log"
        },
        "yaxis": {
         "anchor": "x",
         "domain": [
          0.265,
          1
         ],
         "range": [
          -3.958309693863913,
          2.3709512215322928
         ],
         "title": {
          "text": "Counts/s/keV"
         },
         "type": "log"
        },
        "yaxis2": {
         "anchor": "x2",
         "domain": [
          0,
          0.245
         ],
         "range": [
          -3.5,
          3.5
         ],
         "showgrid": false,
         "title": {
          "text": "Sigma"
         }
        }
       }
      }
     },
     "metadata": {},
     "output_type": "display_data"
    }
   ],
   "source": [
    "fig = Plot.infer(post, style='CE')\n",
    "fig.save(f'{savepath}/ctsspec')"
   ]
  },
  {
   "cell_type": "code",
   "execution_count": 8,
   "id": "0ea80bfc",
   "metadata": {},
   "outputs": [
    {
     "data": {
      "application/vnd.plotly.v1+json": {
       "config": {
        "plotlyServerURL": "https://plot.ly"
       },
       "data": [
        {
         "error_x": {
          "array": {
           "bdata": "AAAAAMa52j8AAAAAzIvaPwAAAABW0N8/AAAAAMr+3z8AAAAAVzXgPwAAAAAEiuA/AAAAAA/94D8AAAAANXzhPwAAAADC7OE/AAAAAH5h5T8AAAAAWsnlPwAAAAAOGeY/AAAAANJl5j8AAAAAvLrmPwAAAADsF+c/AAAAACzh6j8AAAAAAHLrPwAAAAAiD+w/AAAAAJy47D8AAAAAZJnzPwAAAADwneg/AAAAAEgJ6T8AAAAAXLDpPwAAAABQT+o/AAAAADDs7T8AAAAAQJvuPwAAAAAcP+8/AAAAANzX7z8AAAAAENXxPwAAAABKI/I/AAAAABhq8j8AAAAAfKnyPwAAAABcm/Q/AAAAAFLU9D8AAAAApgP1PwAAAAAo7vY/AAAAACgO9z8AAAAA3CH3PwAAAABk8fg/AAAAAMDq+D8AAAAADNb4PwAAAADogfo/AAAAAPxp+j8AAAAAdFX6PwAAAAAMBPw/AAAAAKz0+z8AAAAAZOn7PwAAAAA8oP0/AAAAABSd/T8AAAAAGF3/PwAAAAD0ZP8/AAAAAC6ZAEAAAAAAlqIAQAAAAADojAFAAAAAAEyXAUAAAAAAnKEBQAAAAABMjgJAAAAAAICZAkAAAAAALIgDQAAAAABkeARAAAAAAISFBEAAAAAAzHcFQAAAAADUhQVAAAAAADh6BkAAAAAALIkGQAAAAACsfwdAAAAAANR3CEAAAAAAwIgIQAAAAAAUgwlAAAAAACB/CkAAAAAABJIKQAAAAAA4kAtAAAAAACyQDEAAAAAA4JENQAAAAAC8pw1AAAAAAJyrDkAAAAAAKLEPQAAAAABEXBBAAAAAAJxoEEAAAAAASO0QQAAAAADYchFAAAAAADj5EUAAAAAAcIASQAAAAAB8CBNAAAAAAFiRE0AAAAAA/BoUQAAAAABkpRRAAAAAAIwwFUAAAAAAbLwVQAAAAAAESRZAAAAAADzWFkAAAAAAGGQXQAAAAADYbxhAAAAAAIz/GEAAAAAAwI8ZQAAAAABkIBpAAAAAAGSxGkAAAAAAzMEbQAAAAAAMVBxAAAAAAHjmHEAAAAAAEPkdQAAAAAA4jB5AAAAAAOifH0AAAAAAtBkgQAAAAADgoyBAAAAAAHztIEAAAAAAzLwxQAAAAAALGUNAAAAAAOgWU0A=",
           "dtype": "f8"
          },
          "arrayminus": {
           "bdata": "AAAAAMa52j8AAAAAzIvaPwAAAABW0N8/AAAAAMr+3z8AAAAAVzXgPwAAAAAEiuA/AAAAAA/94D8AAAAANXzhPwAAAADC7OE/AAAAAH5h5T8AAAAAWsnlPwAAAAAOGeY/AAAAANJl5j8AAAAAvLrmPwAAAADsF+c/AAAAACzh6j8AAAAAAHLrPwAAAAAiD+w/AAAAAJy47D8AAAAAZJnzPwAAAADwneg/AAAAAEgJ6T8AAAAAXLDpPwAAAABQT+o/AAAAADDs7T8AAAAAQJvuPwAAAAAcP+8/AAAAANzX7z8AAAAAENXxPwAAAABKI/I/AAAAABhq8j8AAAAAfKnyPwAAAABcm/Q/AAAAAFLU9D8AAAAApgP1PwAAAAAo7vY/AAAAACgO9z8AAAAA3CH3PwAAAABk8fg/AAAAAMDq+D8AAAAADNb4PwAAAADogfo/AAAAAPxp+j8AAAAAdFX6PwAAAAAMBPw/AAAAAKz0+z8AAAAAZOn7PwAAAAA8oP0/AAAAABSd/T8AAAAAGF3/PwAAAAD0ZP8/AAAAAC6ZAEAAAAAAlqIAQAAAAADojAFAAAAAAEyXAUAAAAAAnKEBQAAAAABMjgJAAAAAAICZAkAAAAAALIgDQAAAAABkeARAAAAAAISFBEAAAAAAzHcFQAAAAADUhQVAAAAAADh6BkAAAAAALIkGQAAAAACsfwdAAAAAANR3CEAAAAAAwIgIQAAAAAAUgwlAAAAAACB/CkAAAAAABJIKQAAAAAA4kAtAAAAAACyQDEAAAAAA4JENQAAAAAC8pw1AAAAAAJyrDkAAAAAAKLEPQAAAAABEXBBAAAAAAJxoEEAAAAAASO0QQAAAAADYchFAAAAAADj5EUAAAAAAcIASQAAAAAB8CBNAAAAAAFiRE0AAAAAA/BoUQAAAAABkpRRAAAAAAIwwFUAAAAAAbLwVQAAAAAAESRZAAAAAADzWFkAAAAAAGGQXQAAAAADYbxhAAAAAAIz/GEAAAAAAwI8ZQAAAAABkIBpAAAAAAGSxGkAAAAAAzMEbQAAAAAAMVBxAAAAAAHjmHEAAAAAAEPkdQAAAAAA4jB5AAAAAAOifH0AAAAAAtBkgQAAAAADgoyBAAAAAAHztIEAAAAAAzLwxQAAAAAALGUNAAAAAAOgWU0A=",
           "dtype": "f8"
          },
          "color": "#636EFA",
          "symmetric": false,
          "thickness": 1.5,
          "type": "data",
          "width": 0
         },
         "error_y": {
          "array": {
           "bdata": "nqtraDjg4z+8tQ0HWgnaP5RvU9YZFdE/6SXRWgqdyT/jMo+zyMXEP87o/vdKfcA/lIXywex9uz8OG2Jv9VG4PwDlb59UzLU/0GxryG0Xsj+RhUd6QKGvPzDVfMrKmqw/CIIeHpNCqz+HgNfGa06pP0pLsgaPWac/ORz3Zi+6oz9B57skLN2iP+ykS1tM4qE/XHYy5t78oD8aEe2Op0WYP0CsVL8tFKQ/dBXG0d27oT8QNzOg3YKgP6Sg2ebGt5w/vgnf6jVRmT+aoARwepKYP3lDcnXSUZY/8XE/rJ8Llj9wNAY6mzGTP0QoF6SzPpI/0KTe4zVJkT+th/kHsgGQP1sybQQVE40/iYGcsigOjD8O9OuBQXuLPxeDLt9JDYk/NJJH/YWZhj8usQBp1JaGP5PbFuw0AYQ//q/XMM+bgz+4jMG6u/qCPxCbnKH8J4E/QuY+/qzBgD/d15SQxlSAP/mzc4MKaX8/SqiouIxofD/l92jxMrB6Pw6GEFbkIHs/aH2J59riej9XJ7xvcEF4P4fbKpTvWnc/1+mrOYSWdj8NBVmcThZ1P8w70EqJFXQ/zCV/MrWbcz9pZvSLTnlyPysBrnwSgnI/8vFXGrNccT8uusdILmZxP28Z1T8KV3A/9HLH/Majbj/wfS2hnyFuP6N7DMr3Nm0/1PPHsMgcbj/lO56ZmDJrPyOu4RwoMmo/eOTb2dl/aj/dSZ1f0GJpP/AExCEyOmo/SxeHieWQZj+E+LHdn+dnP/XTJzJaD2c//ueOiCtcZj/gLEVsQstkP+8dJQeHhWY/xPMWPopAZD+h6mJloANlP0rz3kztrmM/NDvbNSMwZD/b5w3Av4BiPy7i++zm6mI/TYGIMhNLYz9GZcLnfttgP3dh1GS8LGM/K1YZB+UaYD9Nsh7xU6FgP08DwlWbPmE/VbxFIKjlXj+Zs5cRrCphP4Iagk7e62E/Tb1d8GiRXD891NFsRvBcP4IwS5ZzIV0/yxs9mdXjXz9VvdCW0hhZP3+q/4sBfVw/qka2c36YXT8/50WpodZbP5Jlf+wNYF0/ri1Ql85fXT8ajNonLtxdP+ojccnhsl0/iMdA3UdUWj8F4A/hsbRYP2SjrBJG1Vo/1PMD88svXD+7/OA54JlRPzCn3fcHlkU/EUChu+ejPj8=",
           "dtype": "f8"
          },
          "color": "#636EFA",
          "thickness": 1.5,
          "type": "data",
          "width": 0
         },
         "marker": {
          "color": "#636EFA",
          "size": 0,
          "symbol": "cross-thin"
         },
         "mode": "markers",
         "name": "obs of nai",
         "showlegend": false,
         "type": "scatter",
         "x": {
          "bdata": "AAAAwO3+IEAAAABAGqkiQAAAAED7eyRAAAAAQHR6JkAAAAAAwH0oQAAAAMC1iSpAAAAAACeiLEAAAABAu8kuQAAAAEAlgDBAAAAAQJe6MUAAAAAA7hMzQAAAAEABczRAAAAAQPjWNUAAAADA/D83QAAAAACSrjhAAAAAwFo+OkAAAAAg9PA7QAAAAED9rD1AAAAAIDtzP0AAAAAgS8lAQAAAAACOyEFAAAAA4CqPQkAAAACAEVpDQAAAACAQKkRAAAAAIP4KRUAAAADgG/1FQAAAAECF9EZAAAAAQOHwR0AAAAAg6f5IQAAAAACsHkpAAAAAABdDS0AAAACgs2tMQAAAAGDapU1AAAAAwFfxTkAAAADACyBQQAAAAADTz1BAAAAAQMSHUUAAAABAhEBSQAAAAEDRAFNAAAAA4EHIU0AAAAAARY9UQAAAAOCkXFVAAAAAgFQwVkAAAABAUgNXQAAAAEC43FdAAAAAAJu8WEAAAABAE5xZQAAAAMA5glpAAAAAAC9vW0AAAADAF2NcQAAAAAAgXl1AAAAAQH1gXkAAAABAW2pfQAAAAKDrPWBAAAAAgHzKYEAAAAAAYFdhQAAAAMAf6GFAAAAA4L58YkAAAACARRVjQAAAAMBHtWNAAAAAgD9ZZEAAAADANAFlQAAAAEArrWVAAAAAYCtdZkAAAAAAORFnQAAAAEBcyWdAAAAAQDqJaEAAAACgPE1pQAAAAABsFWpAAAAAwHTlakAAAABAublrQAAAAEBCkmxAAAAAwMNybUAAAAAATFtuQAAAAIAySG9AAAAA4L8ccEAAAACAeZlwQAAAAMBMGnFAAAAAQGCdcUAAAADgtyJyQAAAAGA4rHJAAAAAoOg5c0AAAABAz8tzQAAAAADzYXRAAAAAQFr8dEAAAACAC5t1QAAAAAANPnZAAAAAwGTldkAAAADAGJF3QAAAAIAuQXhAAAAAgKv1eEAAAADAlK55QAAAAIDkbXpAAAAAAKIze0AAAABA3/17QAAAAMCfzHxAAAAAAOeffUAAAADAs3l+QAAAAAALWn9AAAAAgHofgEAAAACgOZWAQAAAAEBEDoFAAAAAgJyKgUAAAAAAQwqCQAAAAGA5jYJAAAAAwH4Tg0AAAAAgG+WDQAAAAECSpIVAAAAA4P84iUA=",
          "dtype": "f8"
         },
         "xaxis": "x",
         "y": {
          "bdata": "L3faqDESI0DQJh9HgsAZQCVnMwShiRVAnnUJLw+nEUD1tAvx7D4QQOgrzrcRQQtAFv2KCkqqB0AGykN7vY4GQBVpPlXxMQVAqRTU3X4TBEAApKKU9zcBQBjWYRvg8f4//KCZ8IKZ/j8bgr+OPOr7P3G1hkPhSvk/BP2nGFFj9T9PtQw7Un/0Pxmio8A0hPI/9A1fshiH8D85Ti8rMLflP001O1lUBPI/0UqxHl5v7D+4NFiZI2XqP5cNvzC3RuQ/lplbT+p14j+uU5DQQFziP1n9hWwutN8/4E7vXM5U4D+OykLUX57bP7eiBBT5ydk/LeXv9fcx2D899e5Tob/VP3hsSwgTU9Q/KDDV7wNd0z9zs9Pc9vnSP/6R3Fo3X9E/BgmB6hOUzD9wZKAA80rOP7p1Gz1mPco/5Qxwjwolyj8yx/R4egzJPw3/lB6o5sU/M5VhTy8ZxT+895dkg2bEP0itN5poTcQ/+/cG/MxiwD9VOv0IpWq9P1x8+n3UfMA/jYGkZelNwD8HkNmWdcG7P9V5e14BKbo/b45SHsrguT8qQC3WMGm2P+Ib/MG+UbU/4klfQ2mdtD8uHKkNSc6xP7RETMZlCrM/7EfQI9qDsD/iVmpGvUqxP/xG1uw7DLA/9i9JZ1Ujqz+6LosErjarP7maZ+5f9ag/W8TlrIIqqz/eGx7DNn2kP41juiQ1HqM/tlUvzKP1oz/UuirdItqhP5TUwepj7aM//5pF7geTnD984IlMbAigPzlG6dlvEp0/0yQRCSvomj8fOJC+DIOWP0/5GRyN25k/NuDRMEkklD9GeTCjpgeWP6wDHHltqJI/Ow9fTELLkj97LAJDZHGNPx+Q03bYE48/L7zs5XQekD8CDU0+yBCHP+TN9IcospA/5VeYgv4Thj87dW3MStuGP02GLYtfDog/1c3QQ4uJgT9I1kHZIxOHPyLjibipfIk/U1defgllej+2PPRO2Rd4P+8ldrKhD3s/ICxt1Iktgz8m8npr3VpqP+cCQzNnf3c/aXz42ifNdz8JFyFQLXNyP15Q4JMBQHM/fGb4uAyvcT/OLckLFcxzPxLosUKKsHY/tScEuMb3az++zQib1tZoPxxmDiSDFnM/aHFgPbD2dD/amtBClXRoP/jHgHxOOFo/QmTwLk6nUj8=",
          "dtype": "f8"
         },
         "yaxis": "y"
        },
        {
         "line": {
          "color": "#636EFA",
          "width": 2
         },
         "mode": "lines",
         "name": "nai",
         "showlegend": true,
         "type": "scatter",
         "x": {
          "bdata": "AAAAwO3+IEAAAABAGqkiQAAAAED7eyRAAAAAQHR6JkAAAAAAwH0oQAAAAMC1iSpAAAAAACeiLEAAAABAu8kuQAAAAEAlgDBAAAAAQJe6MUAAAAAA7hMzQAAAAEABczRAAAAAQPjWNUAAAADA/D83QAAAAACSrjhAAAAAwFo+OkAAAAAg9PA7QAAAAED9rD1AAAAAIDtzP0AAAAAgS8lAQAAAAACOyEFAAAAA4CqPQkAAAACAEVpDQAAAACAQKkRAAAAAIP4KRUAAAADgG/1FQAAAAECF9EZAAAAAQOHwR0AAAAAg6f5IQAAAAACsHkpAAAAAABdDS0AAAACgs2tMQAAAAGDapU1AAAAAwFfxTkAAAADACyBQQAAAAADTz1BAAAAAQMSHUUAAAABAhEBSQAAAAEDRAFNAAAAA4EHIU0AAAAAARY9UQAAAAOCkXFVAAAAAgFQwVkAAAABAUgNXQAAAAEC43FdAAAAAAJu8WEAAAABAE5xZQAAAAMA5glpAAAAAAC9vW0AAAADAF2NcQAAAAAAgXl1AAAAAQH1gXkAAAABAW2pfQAAAAKDrPWBAAAAAgHzKYEAAAAAAYFdhQAAAAMAf6GFAAAAA4L58YkAAAACARRVjQAAAAMBHtWNAAAAAgD9ZZEAAAADANAFlQAAAAEArrWVAAAAAYCtdZkAAAAAAORFnQAAAAEBcyWdAAAAAQDqJaEAAAACgPE1pQAAAAABsFWpAAAAAwHTlakAAAABAublrQAAAAEBCkmxAAAAAwMNybUAAAAAATFtuQAAAAIAySG9AAAAA4L8ccEAAAACAeZlwQAAAAMBMGnFAAAAAQGCdcUAAAADgtyJyQAAAAGA4rHJAAAAAoOg5c0AAAABAz8tzQAAAAADzYXRAAAAAQFr8dEAAAACAC5t1QAAAAAANPnZAAAAAwGTldkAAAADAGJF3QAAAAIAuQXhAAAAAgKv1eEAAAADAlK55QAAAAIDkbXpAAAAAAKIze0AAAABA3/17QAAAAMCfzHxAAAAAAOeffUAAAADAs3l+QAAAAAALWn9AAAAAgHofgEAAAACgOZWAQAAAAEBEDoFAAAAAgJyKgUAAAAAAQwqCQAAAAGA5jYJAAAAAwH4Tg0AAAAAgG+WDQAAAAECSpIVAAAAA4P84iUA=",
          "dtype": "f8"
         },
         "xaxis": "x",
         "y": {
          "bdata": "AAAAoCRfH0AAAADAGBAbQAAAAOBtWRdAAAAAoConFEAAAADgu5YRQAAAAMA99w5AAAAAQGVwC0AAAACgoHEIQAAAACCa4QVAAAAAAHiCA0AAAAAAYlkBQAAAAEA4C/8/AAAAoGju+z8AAABAnEH5PwAAAEDR7/Y/AAAAAPrF9D8AAADABsXyPwAAAADrBfE/AAAAINX67j8AAAAgU9rrPwAAAMD1WOk/AAAAINai5z8AAAAgsxHmPwAAAMBuoOQ/AAAAIDs64z8AAAAAq+HhPwAAAAAxp+A/AAAAoAMQ3z8AAAAg4OncPwAAAAB13to/AAAAoHAD2T8AAADA1VPXPwAAAMAbutU/AAAAIDQ31D8AAAAgMdnSPwAAACB5j9E/AAAAIDRa0D8AAABgn4bOPwAAAOBefMw/AAAAABmVyj8AAAAgtN7IPwAAAADTRcc/AAAAYLHIxT8AAACAX3DEPwAAAKAaLsM/AAAA4HkAwj8AAADgU+7APwAAAACA2b8/AAAAAHf1vT8AAACgnS68PwAAAAAag7o/AAAAICXxuD8AAACgKXe3PwAAAOC+E7Y/AAAAQKjFtD8AAACgBJOzPwAAAAAecrI/AAAAYARisT8AAAAgx2GwPwAAAOCH1q4/AAAAgHcHrT8AAAAggVSrPwAAAADvu6k/AAAAABk8qD8AAAAAe9OmPwAAACCegKU/AAAAQEk8pD8AAACgAwyjPwAAAOB57qE/AAAAQN3doD8AAACAtryfPwAAAACS3Z0/AAAA4P0UnD8AAAAgrWKaPwAAAMBNzJg/AAAA4ONPlz8AAACAc+aVPwAAAICHj5Q/AAAAIP9Okz8AAABgOyOSPwAAAKAFB5E/AAAAoL/zjz8AAAAgifaNPwAAAEBRFYw/AAAAYPxOij8AAABgaaKIPwAAACB3Doc/AAAA4AWShT8AAACg+SuEPwAAAAA724I/AAAA4LiegT8AAABgaXWAPwAAAEAQt34/AAAAYJWhfD8AAADASK56PwAAAOAq23g/AAAAoFQmdz8AAADgX4p1PwAAAAB9BnQ/AAAAYMyccj8AAACg3khxPwAAAODUCXA/AAAAQJC9bT8AAADAoo1rPwAAAEALgmk/AAAA4P+YZz8AAAAAQ/JkPwAAAMCfYWA/AAAAwKRpVD8=",
          "dtype": "f8"
         },
         "yaxis": "y"
        },
        {
         "marker": {
          "color": "#636EFA",
          "line": {
           "color": "#636EFA",
           "width": 1.5
          },
          "size": 10,
          "symbol": "cross-thin"
         },
         "mode": "markers",
         "name": "res of nai",
         "showlegend": false,
         "type": "scatter",
         "x": {
          "bdata": "AAAAwO3+IEAAAABAGqkiQAAAAED7eyRAAAAAQHR6JkAAAAAAwH0oQAAAAMC1iSpAAAAAACeiLEAAAABAu8kuQAAAAEAlgDBAAAAAQJe6MUAAAAAA7hMzQAAAAEABczRAAAAAQPjWNUAAAADA/D83QAAAAACSrjhAAAAAwFo+OkAAAAAg9PA7QAAAAED9rD1AAAAAIDtzP0AAAAAgS8lAQAAAAACOyEFAAAAA4CqPQkAAAACAEVpDQAAAACAQKkRAAAAAIP4KRUAAAADgG/1FQAAAAECF9EZAAAAAQOHwR0AAAAAg6f5IQAAAAACsHkpAAAAAABdDS0AAAACgs2tMQAAAAGDapU1AAAAAwFfxTkAAAADACyBQQAAAAADTz1BAAAAAQMSHUUAAAABAhEBSQAAAAEDRAFNAAAAA4EHIU0AAAAAARY9UQAAAAOCkXFVAAAAAgFQwVkAAAABAUgNXQAAAAEC43FdAAAAAAJu8WEAAAABAE5xZQAAAAMA5glpAAAAAAC9vW0AAAADAF2NcQAAAAAAgXl1AAAAAQH1gXkAAAABAW2pfQAAAAKDrPWBAAAAAgHzKYEAAAAAAYFdhQAAAAMAf6GFAAAAA4L58YkAAAACARRVjQAAAAMBHtWNAAAAAgD9ZZEAAAADANAFlQAAAAEArrWVAAAAAYCtdZkAAAAAAORFnQAAAAEBcyWdAAAAAQDqJaEAAAACgPE1pQAAAAABsFWpAAAAAwHTlakAAAABAublrQAAAAEBCkmxAAAAAwMNybUAAAAAATFtuQAAAAIAySG9AAAAA4L8ccEAAAACAeZlwQAAAAMBMGnFAAAAAQGCdcUAAAADgtyJyQAAAAGA4rHJAAAAAoOg5c0AAAABAz8tzQAAAAADzYXRAAAAAQFr8dEAAAACAC5t1QAAAAAANPnZAAAAAwGTldkAAAADAGJF3QAAAAIAuQXhAAAAAgKv1eEAAAADAlK55QAAAAIDkbXpAAAAAAKIze0AAAABA3/17QAAAAMCfzHxAAAAAAOeffUAAAADAs3l+QAAAAAALWn9AAAAAgHofgEAAAACgOZWAQAAAAEBEDoFAAAAAgJyKgUAAAAAAQwqCQAAAAGA5jYJAAAAAwH4Tg0AAAAAgG+WDQAAAAECSpIVAAAAA4P84iUA=",
          "dtype": "f8"
         },
         "xaxis": "x2",
         "y": {
          "bdata": "EnfEXwbNBUC15FfYOcfpv6bD9eGVJvu/1UWdm7b9CMCFlNXqEY0AwC20ViXCzwzA8IUljBySEcDXGxIM/toDwDHRpp/sHfC/Sjn931YI8D+G4gQsQufQv1lLBGZHWry/ypIo1QkPCUBa1fbVPuUKQDokU9/H0wlAd7t9Qy/n7z8VuoC/UXIHQOMfvztCYAVAMVgfq2tH/z+vnLY3uy4gwFC+iGzvByFAYs3QuKpREUD6KuMsnMQQQOBC1Bgf/ti/U6jNkFUE77+r3lHZgvTjP/YzsnvmYPK/6TALTWqU8j80p4HvckXxv3norx3cTu6/rUE4aWk86L/PhDC8mUD5vzf0tJyOsvi/dE90hLkb779HrwzwlxTDP/L3Ys0H0s6/Iq62eNReB8DVwhfwJyLFv1vRuMvlvfy/3tvufczb1r+dcAGtY0vDP3a6jfcFePS/d90YKbDy5L+I4I5X2VGjv3heIFosS/I/8gAb0Jof/b+voJ4YB1IFwLD2RT19PuU/FDnwUBQ7+T/5xXHUQQDSv8WNIqR23M6/i8k5bwI45T/InaKj+Jrpv89YaeWbUeO/I6Fg8IhrwL8QE39DtYH4v/O6sXCedOA/YWiUJYmX6b9ZmY4QTMfqP0ieHzrRs+M/eAsrzQSa779kzMZFnayvvxIzB+ymL9u/yUjDv5zr+D+CpymAO//1v7KXuXs9Tfe/RX/uD+FTxb8YjY6nIRnov4ASEP7vevM/9uFsf1ND/b/srMhv9ie8P6OEjIwqntG/lOB2lkHo2r/s9Jo0Fdj3v9NXaVN4Ftg/ojZsI5sJ9L9Y7WsAK0epP8MHwoI3v+i/u8/eCCQayr+ZTZs646H3v8/CmAYuJeS/Ben7XINWrj/dLxruxS/6v4W8dYD2t/E/TvG8SrXP8L87CPMU+F3bvyp7rjUKrs0/g62XW1a18L9M+7EBQ6XlP5A0v3DMrfc/2oJRMeHQ879aLV2Z54Pzv5R5MkNIDuC/2V6oEiqE8z/JTlbFrDcBwNS8LvMeasi/GCy7ABeMtj9KVCPiy2vcvxBIJ8DzBru/OMt/vQMwwL/s2KCLd4rVP30X31WUquw/LQaRqzA8wb8yLnf9bx/Mv20HDMPgNu4/gljD5THP9D893+SV2ITZP8w6z5/+ZeO/UMejlStlzb8=",
          "dtype": "f8"
         },
         "yaxis": "y2"
        },
        {
         "error_x": {
          "array": {
           "bdata": "AAAAADg1MUAAAAAA2jExQAAAAADCLjFAAAAAAO8rMUAAAAAAXykxQAAAAAAXJzFAAAAAALDbNkAAAAAAvNg2QAAAAABu1jZAAAAAAMDUNkAAAAAAttM2QAAAAABQ0zZAAAAAAIzTNkAAAAAAbtQ2QAAAAADy1TZAAAAAABjYNkAAAAAAs7hJQAAAAAAcnTxAAAAAANizXEAAAABA4ix1QAAAAEDojXpAAAAAAAkRgUAAAADA8eWFQAAAAICh6YxAAAAAgILCk0AAAACAKuacQAAAAACHCqdAAAAAQMagwEA=",
           "dtype": "f8"
          },
          "arrayminus": {
           "bdata": "AAAAADg1MUAAAAAA2jExQAAAAADCLjFAAAAAAO8rMUAAAAAAXykxQAAAAAAXJzFAAAAAALDbNkAAAAAAvNg2QAAAAABu1jZAAAAAAMDUNkAAAAAAttM2QAAAAABQ0zZAAAAAAIzTNkAAAAAAbtQ2QAAAAADy1TZAAAAAABjYNkAAAAAAs7hJQAAAAAAcnTxAAAAAANizXEAAAABA4ix1QAAAAEDojXpAAAAAAAkRgUAAAADA8eWFQAAAAICh6YxAAAAAgILCk0AAAACAKuacQAAAAACHCqdAAAAAQMagwEA=",
           "dtype": "f8"
          },
          "color": "#EF553B",
          "symmetric": false,
          "thickness": 1.5,
          "type": "data",
          "width": 0
         },
         "error_y": {
          "array": {
           "bdata": "ua1vTcrcRD9qspTlTh5EP0Ah/KcXyUI/9QJjI8UaQD9gqDIGofA/P7/IVa7Kpj4/ccvcC30zOT+ajl6lcsg2PwQM5BnqIzQ/8SFUAN3/MD9l3pmsA2wxPwBkRkwdyDA/5YwfF6wfMT9d2+1oSZcxPxHt1T/aUS8/fZT3RHH+Lz/51uRRgvQmP1vi8PfPry0/eTUS088yGT/GqGcI/2gHP7XLFL7Z//o+sPvIPbi+7D7wSHm4SyXYPvgOkgUresg+jD+/6FTGtD771ILR/DGXPrJkE8YKYmE+XQCzAA3sVT0=",
           "dtype": "f8"
          },
          "color": "#EF553B",
          "thickness": 1.5,
          "type": "data",
          "width": 0
         },
         "marker": {
          "color": "#EF553B",
          "size": 0,
          "symbol": "cross-thin"
         },
         "mode": "markers",
         "name": "obs of bgo",
         "showlegend": false,
         "type": "scatter",
         "x": {
          "bdata": "AAAAoJ2SdEAAAADADrl2QAAAAIAY33hAAAAAgMMEe0AAAACAGCp9QAAAAMAfT39AAAAAIKbngEAAAACASVWCQAAAAMDCwoNAAAAAQBwwhUAAAAAAYJ2GQAAAACCYCohAAAAAAM93iUAAAADADuWKQAAAAMBhUoxAAAAAINK/jUAAAAAADwmQQAAAAABJSZFAAAAAAPuGk0AAAAAAcZ2aQAAAAOARRqNAAAAAIBHcqkAAAADg50yyQAAAAEDaprhAAAAAgFeawEAAAABAba/GQAAAACBqB9BAAAAAIB4520A=",
          "dtype": "f8"
         },
         "xaxis": "x",
         "y": {
          "bdata": "n/gzeI7zjD8fvq0M1quHP9iTaS1u5IM/8wVINQI/fT+fpUCwNut8P7cEZOcn0nU/L4keLwZNcD/FaV/RcwRuP5JW7x3m92Y/anCTY6HVVz/EGzQ17U9cP4yyeM/2q1M/Bz4cGChvUz9tmDteBZFUPwwa/0XGTEU/I+2Q7o6VQz/XhWtat69EP2nS3EcoSD8/qUB8XGeCKj+hNm+6rGsBP2eW0nMHsfI++YETj50P8T7M2H6iEHHKPritoyMJl7I+LNs/2IV6rr55hZZYxsiPvlyYST8rUVy+WsbDWLqzX70=",
          "dtype": "f8"
         },
         "yaxis": "y"
        },
        {
         "line": {
          "color": "#EF553B",
          "width": 2
         },
         "mode": "lines",
         "name": "bgo",
         "showlegend": true,
         "type": "scatter",
         "x": {
          "bdata": "AAAAoJ2SdEAAAADADrl2QAAAAIAY33hAAAAAgMMEe0AAAACAGCp9QAAAAMAfT39AAAAAIKbngEAAAACASVWCQAAAAMDCwoNAAAAAQBwwhUAAAAAAYJ2GQAAAACCYCohAAAAAAM93iUAAAADADuWKQAAAAMBhUoxAAAAAINK/jUAAAAAADwmQQAAAAABJSZFAAAAAAPuGk0AAAAAAcZ2aQAAAAOARRqNAAAAAIBHcqkAAAADg50yyQAAAAEDaprhAAAAAgFeawEAAAABAba/GQAAAACBqB9BAAAAAIB4520A=",
          "dtype": "f8"
         },
         "xaxis": "x",
         "y": {
          "bdata": "AAAAgOOBiz8AAAAApvOFPwAAAMDTxIE/AAAAgMsbfT8AAACgHhV4PwAAACCSGHQ/AAAAoHlscD8AAAAgvltqPwAAAOD7WmU/AAAAwP5xYT8AAADg77RcPwAAAEBnxFc/AAAAAFLJUz8AAADAnY1QPwAAAEBg0Us/AAAAIEp3Rz8AAABg3u1BPwAAAMDlEzs/AAAA4OSyMD8AAADg2E0QPwAAACCxvt4+AAAAgEYppD4AAADAmy5fPgAAAEDQpAY+AAAAYHLMlD0AAABgKKP2PAAAAMB7/Ac8AAAAYIie2Dk=",
          "dtype": "f8"
         },
         "yaxis": "y"
        },
        {
         "marker": {
          "color": "#EF553B",
          "line": {
           "color": "#EF553B",
           "width": 1.5
          },
          "size": 10,
          "symbol": "cross-thin"
         },
         "mode": "markers",
         "name": "res of bgo",
         "showlegend": false,
         "type": "scatter",
         "x": {
          "bdata": "AAAAoJ2SdEAAAADADrl2QAAAAIAY33hAAAAAgMMEe0AAAACAGCp9QAAAAMAfT39AAAAAIKbngEAAAACASVWCQAAAAMDCwoNAAAAAQBwwhUAAAAAAYJ2GQAAAACCYCohAAAAAAM93iUAAAADADuWKQAAAAMBhUoxAAAAAINK/jUAAAAAADwmQQAAAAABJSZFAAAAAAPuGk0AAAAAAcZ2aQAAAAOARRqNAAAAAIBHcqkAAAADg50yyQAAAAEDaprhAAAAAgFeawEAAAABAba/GQAAAACBqB9BAAAAAIB4520A=",
          "dtype": "f8"
         },
         "xaxis": "x2",
         "y": {
          "bdata": "r23z4CK48T/522PaPuH1PwyPS6327/w/TQ7FOBZ+sT8hCo+Rr2EDQHK6RQkx0Ow/foveI8z3s79TFPM3pY70P5xkRw1/gOQ/R9WMSufPBMByvaPBCTG3v5bFUw/SPO+/EikHFMwPtb+x/c5x3zPtP9vTHq1fo+q/4ccRkFwP37+lH8i0wL/ePxo5dnh+INI/dyFPtbR+4b8Iz02EpcLkv8HOKmhSFto/oB9ZSqNK8j8fI2sZKFzhP0lozNb3Sdg/0NuHjEV557+U+c33tuzlvyTBvCxuEOq/LB39JVQj978=",
          "dtype": "f8"
         },
         "yaxis": "y2"
        }
       ],
       "layout": {
        "height": 700,
        "legend": {
         "x": 1,
         "xanchor": "right",
         "y": 1,
         "yanchor": "bottom"
        },
        "template": {
         "data": {
          "bar": [
           {
            "error_x": {
             "color": "#2a3f5f"
            },
            "error_y": {
             "color": "#2a3f5f"
            },
            "marker": {
             "line": {
              "color": "white",
              "width": 0.5
             },
             "pattern": {
              "fillmode": "overlay",
              "size": 10,
              "solidity": 0.2
             }
            },
            "type": "bar"
           }
          ],
          "barpolar": [
           {
            "marker": {
             "line": {
              "color": "white",
              "width": 0.5
             },
             "pattern": {
              "fillmode": "overlay",
              "size": 10,
              "solidity": 0.2
             }
            },
            "type": "barpolar"
           }
          ],
          "carpet": [
           {
            "aaxis": {
             "endlinecolor": "#2a3f5f",
             "gridcolor": "#C8D4E3",
             "linecolor": "#C8D4E3",
             "minorgridcolor": "#C8D4E3",
             "startlinecolor": "#2a3f5f"
            },
            "baxis": {
             "endlinecolor": "#2a3f5f",
             "gridcolor": "#C8D4E3",
             "linecolor": "#C8D4E3",
             "minorgridcolor": "#C8D4E3",
             "startlinecolor": "#2a3f5f"
            },
            "type": "carpet"
           }
          ],
          "choropleth": [
           {
            "colorbar": {
             "outlinewidth": 0,
             "ticks": ""
            },
            "type": "choropleth"
           }
          ],
          "contour": [
           {
            "colorbar": {
             "outlinewidth": 0,
             "ticks": ""
            },
            "colorscale": [
             [
              0,
              "#0d0887"
             ],
             [
              0.1111111111111111,
              "#46039f"
             ],
             [
              0.2222222222222222,
              "#7201a8"
             ],
             [
              0.3333333333333333,
              "#9c179e"
             ],
             [
              0.4444444444444444,
              "#bd3786"
             ],
             [
              0.5555555555555556,
              "#d8576b"
             ],
             [
              0.6666666666666666,
              "#ed7953"
             ],
             [
              0.7777777777777778,
              "#fb9f3a"
             ],
             [
              0.8888888888888888,
              "#fdca26"
             ],
             [
              1,
              "#f0f921"
             ]
            ],
            "type": "contour"
           }
          ],
          "contourcarpet": [
           {
            "colorbar": {
             "outlinewidth": 0,
             "ticks": ""
            },
            "type": "contourcarpet"
           }
          ],
          "heatmap": [
           {
            "colorbar": {
             "outlinewidth": 0,
             "ticks": ""
            },
            "colorscale": [
             [
              0,
              "#0d0887"
             ],
             [
              0.1111111111111111,
              "#46039f"
             ],
             [
              0.2222222222222222,
              "#7201a8"
             ],
             [
              0.3333333333333333,
              "#9c179e"
             ],
             [
              0.4444444444444444,
              "#bd3786"
             ],
             [
              0.5555555555555556,
              "#d8576b"
             ],
             [
              0.6666666666666666,
              "#ed7953"
             ],
             [
              0.7777777777777778,
              "#fb9f3a"
             ],
             [
              0.8888888888888888,
              "#fdca26"
             ],
             [
              1,
              "#f0f921"
             ]
            ],
            "type": "heatmap"
           }
          ],
          "histogram": [
           {
            "marker": {
             "pattern": {
              "fillmode": "overlay",
              "size": 10,
              "solidity": 0.2
             }
            },
            "type": "histogram"
           }
          ],
          "histogram2d": [
           {
            "colorbar": {
             "outlinewidth": 0,
             "ticks": ""
            },
            "colorscale": [
             [
              0,
              "#0d0887"
             ],
             [
              0.1111111111111111,
              "#46039f"
             ],
             [
              0.2222222222222222,
              "#7201a8"
             ],
             [
              0.3333333333333333,
              "#9c179e"
             ],
             [
              0.4444444444444444,
              "#bd3786"
             ],
             [
              0.5555555555555556,
              "#d8576b"
             ],
             [
              0.6666666666666666,
              "#ed7953"
             ],
             [
              0.7777777777777778,
              "#fb9f3a"
             ],
             [
              0.8888888888888888,
              "#fdca26"
             ],
             [
              1,
              "#f0f921"
             ]
            ],
            "type": "histogram2d"
           }
          ],
          "histogram2dcontour": [
           {
            "colorbar": {
             "outlinewidth": 0,
             "ticks": ""
            },
            "colorscale": [
             [
              0,
              "#0d0887"
             ],
             [
              0.1111111111111111,
              "#46039f"
             ],
             [
              0.2222222222222222,
              "#7201a8"
             ],
             [
              0.3333333333333333,
              "#9c179e"
             ],
             [
              0.4444444444444444,
              "#bd3786"
             ],
             [
              0.5555555555555556,
              "#d8576b"
             ],
             [
              0.6666666666666666,
              "#ed7953"
             ],
             [
              0.7777777777777778,
              "#fb9f3a"
             ],
             [
              0.8888888888888888,
              "#fdca26"
             ],
             [
              1,
              "#f0f921"
             ]
            ],
            "type": "histogram2dcontour"
           }
          ],
          "mesh3d": [
           {
            "colorbar": {
             "outlinewidth": 0,
             "ticks": ""
            },
            "type": "mesh3d"
           }
          ],
          "parcoords": [
           {
            "line": {
             "colorbar": {
              "outlinewidth": 0,
              "ticks": ""
             }
            },
            "type": "parcoords"
           }
          ],
          "pie": [
           {
            "automargin": true,
            "type": "pie"
           }
          ],
          "scatter": [
           {
            "fillpattern": {
             "fillmode": "overlay",
             "size": 10,
             "solidity": 0.2
            },
            "type": "scatter"
           }
          ],
          "scatter3d": [
           {
            "line": {
             "colorbar": {
              "outlinewidth": 0,
              "ticks": ""
             }
            },
            "marker": {
             "colorbar": {
              "outlinewidth": 0,
              "ticks": ""
             }
            },
            "type": "scatter3d"
           }
          ],
          "scattercarpet": [
           {
            "marker": {
             "colorbar": {
              "outlinewidth": 0,
              "ticks": ""
             }
            },
            "type": "scattercarpet"
           }
          ],
          "scattergeo": [
           {
            "marker": {
             "colorbar": {
              "outlinewidth": 0,
              "ticks": ""
             }
            },
            "type": "scattergeo"
           }
          ],
          "scattergl": [
           {
            "marker": {
             "colorbar": {
              "outlinewidth": 0,
              "ticks": ""
             }
            },
            "type": "scattergl"
           }
          ],
          "scattermap": [
           {
            "marker": {
             "colorbar": {
              "outlinewidth": 0,
              "ticks": ""
             }
            },
            "type": "scattermap"
           }
          ],
          "scattermapbox": [
           {
            "marker": {
             "colorbar": {
              "outlinewidth": 0,
              "ticks": ""
             }
            },
            "type": "scattermapbox"
           }
          ],
          "scatterpolar": [
           {
            "marker": {
             "colorbar": {
              "outlinewidth": 0,
              "ticks": ""
             }
            },
            "type": "scatterpolar"
           }
          ],
          "scatterpolargl": [
           {
            "marker": {
             "colorbar": {
              "outlinewidth": 0,
              "ticks": ""
             }
            },
            "type": "scatterpolargl"
           }
          ],
          "scatterternary": [
           {
            "marker": {
             "colorbar": {
              "outlinewidth": 0,
              "ticks": ""
             }
            },
            "type": "scatterternary"
           }
          ],
          "surface": [
           {
            "colorbar": {
             "outlinewidth": 0,
             "ticks": ""
            },
            "colorscale": [
             [
              0,
              "#0d0887"
             ],
             [
              0.1111111111111111,
              "#46039f"
             ],
             [
              0.2222222222222222,
              "#7201a8"
             ],
             [
              0.3333333333333333,
              "#9c179e"
             ],
             [
              0.4444444444444444,
              "#bd3786"
             ],
             [
              0.5555555555555556,
              "#d8576b"
             ],
             [
              0.6666666666666666,
              "#ed7953"
             ],
             [
              0.7777777777777778,
              "#fb9f3a"
             ],
             [
              0.8888888888888888,
              "#fdca26"
             ],
             [
              1,
              "#f0f921"
             ]
            ],
            "type": "surface"
           }
          ],
          "table": [
           {
            "cells": {
             "fill": {
              "color": "#EBF0F8"
             },
             "line": {
              "color": "white"
             }
            },
            "header": {
             "fill": {
              "color": "#C8D4E3"
             },
             "line": {
              "color": "white"
             }
            },
            "type": "table"
           }
          ]
         },
         "layout": {
          "annotationdefaults": {
           "arrowcolor": "#2a3f5f",
           "arrowhead": 0,
           "arrowwidth": 1
          },
          "autotypenumbers": "strict",
          "coloraxis": {
           "colorbar": {
            "outlinewidth": 0,
            "ticks": ""
           }
          },
          "colorscale": {
           "diverging": [
            [
             0,
             "#8e0152"
            ],
            [
             0.1,
             "#c51b7d"
            ],
            [
             0.2,
             "#de77ae"
            ],
            [
             0.3,
             "#f1b6da"
            ],
            [
             0.4,
             "#fde0ef"
            ],
            [
             0.5,
             "#f7f7f7"
            ],
            [
             0.6,
             "#e6f5d0"
            ],
            [
             0.7,
             "#b8e186"
            ],
            [
             0.8,
             "#7fbc41"
            ],
            [
             0.9,
             "#4d9221"
            ],
            [
             1,
             "#276419"
            ]
           ],
           "sequential": [
            [
             0,
             "#0d0887"
            ],
            [
             0.1111111111111111,
             "#46039f"
            ],
            [
             0.2222222222222222,
             "#7201a8"
            ],
            [
             0.3333333333333333,
             "#9c179e"
            ],
            [
             0.4444444444444444,
             "#bd3786"
            ],
            [
             0.5555555555555556,
             "#d8576b"
            ],
            [
             0.6666666666666666,
             "#ed7953"
            ],
            [
             0.7777777777777778,
             "#fb9f3a"
            ],
            [
             0.8888888888888888,
             "#fdca26"
            ],
            [
             1,
             "#f0f921"
            ]
           ],
           "sequentialminus": [
            [
             0,
             "#0d0887"
            ],
            [
             0.1111111111111111,
             "#46039f"
            ],
            [
             0.2222222222222222,
             "#7201a8"
            ],
            [
             0.3333333333333333,
             "#9c179e"
            ],
            [
             0.4444444444444444,
             "#bd3786"
            ],
            [
             0.5555555555555556,
             "#d8576b"
            ],
            [
             0.6666666666666666,
             "#ed7953"
            ],
            [
             0.7777777777777778,
             "#fb9f3a"
            ],
            [
             0.8888888888888888,
             "#fdca26"
            ],
            [
             1,
             "#f0f921"
            ]
           ]
          },
          "colorway": [
           "#636efa",
           "#EF553B",
           "#00cc96",
           "#ab63fa",
           "#FFA15A",
           "#19d3f3",
           "#FF6692",
           "#B6E880",
           "#FF97FF",
           "#FECB52"
          ],
          "font": {
           "color": "#2a3f5f"
          },
          "geo": {
           "bgcolor": "white",
           "lakecolor": "white",
           "landcolor": "white",
           "showlakes": true,
           "showland": true,
           "subunitcolor": "#C8D4E3"
          },
          "hoverlabel": {
           "align": "left"
          },
          "hovermode": "closest",
          "mapbox": {
           "style": "light"
          },
          "paper_bgcolor": "white",
          "plot_bgcolor": "white",
          "polar": {
           "angularaxis": {
            "gridcolor": "#EBF0F8",
            "linecolor": "#EBF0F8",
            "ticks": ""
           },
           "bgcolor": "white",
           "radialaxis": {
            "gridcolor": "#EBF0F8",
            "linecolor": "#EBF0F8",
            "ticks": ""
           }
          },
          "scene": {
           "xaxis": {
            "backgroundcolor": "white",
            "gridcolor": "#DFE8F3",
            "gridwidth": 2,
            "linecolor": "#EBF0F8",
            "showbackground": true,
            "ticks": "",
            "zerolinecolor": "#EBF0F8"
           },
           "yaxis": {
            "backgroundcolor": "white",
            "gridcolor": "#DFE8F3",
            "gridwidth": 2,
            "linecolor": "#EBF0F8",
            "showbackground": true,
            "ticks": "",
            "zerolinecolor": "#EBF0F8"
           },
           "zaxis": {
            "backgroundcolor": "white",
            "gridcolor": "#DFE8F3",
            "gridwidth": 2,
            "linecolor": "#EBF0F8",
            "showbackground": true,
            "ticks": "",
            "zerolinecolor": "#EBF0F8"
           }
          },
          "shapedefaults": {
           "line": {
            "color": "#2a3f5f"
           }
          },
          "ternary": {
           "aaxis": {
            "gridcolor": "#DFE8F3",
            "linecolor": "#A2B1C6",
            "ticks": ""
           },
           "baxis": {
            "gridcolor": "#DFE8F3",
            "linecolor": "#A2B1C6",
            "ticks": ""
           },
           "bgcolor": "white",
           "caxis": {
            "gridcolor": "#DFE8F3",
            "linecolor": "#A2B1C6",
            "ticks": ""
           }
          },
          "title": {
           "x": 0.05
          },
          "xaxis": {
           "automargin": true,
           "gridcolor": "#EBF0F8",
           "linecolor": "#EBF0F8",
           "ticks": "",
           "title": {
            "standoff": 15
           },
           "zerolinecolor": "#EBF0F8",
           "zerolinewidth": 2
          },
          "yaxis": {
           "automargin": true,
           "gridcolor": "#EBF0F8",
           "linecolor": "#EBF0F8",
           "ticks": "",
           "title": {
            "standoff": 15
           },
           "zerolinecolor": "#EBF0F8",
           "zerolinewidth": 2
          }
         }
        },
        "width": 600,
        "xaxis": {
         "anchor": "y",
         "domain": [
          0,
          1
         ],
         "matches": "x2",
         "showticklabels": false,
         "title": {
          "text": ""
         },
         "type": "log"
        },
        "xaxis2": {
         "anchor": "y2",
         "domain": [
          0,
          1
         ],
         "title": {
          "text": "Energy (keV)"
         },
         "type": "log"
        },
        "yaxis": {
         "anchor": "x",
         "domain": [
          0.265,
          1
         ],
         "range": [
          -6.25647089422599,
          1.2803750658044328
         ],
         "title": {
          "text": "Photons/cm^2/s/keV"
         },
         "type": "log"
        },
        "yaxis2": {
         "anchor": "x2",
         "domain": [
          0,
          0.245
         ],
         "range": [
          -3.5,
          3.5
         ],
         "showgrid": false,
         "title": {
          "text": "Sigma"
         }
        }
       }
      }
     },
     "metadata": {},
     "output_type": "display_data"
    }
   ],
   "source": [
    "fig = Plot.infer(post, style='NE')\n",
    "fig.save(f'{savepath}/phtspec')"
   ]
  },
  {
   "cell_type": "code",
   "execution_count": 9,
   "id": "e1363099-45d7-424f-b5bf-b171ada18230",
   "metadata": {},
   "outputs": [
    {
     "data": {
      "application/vnd.plotly.v1+json": {
       "config": {
        "plotlyServerURL": "https://plot.ly"
       },
       "data": [
        {
         "line": {
          "color": "#08519c",
          "width": 2
         },
         "mode": "lines",
         "name": "p1($\\alpha$)",
         "showlegend": false,
         "type": "scatter",
         "x": {
          "bdata": "SCCN6gh9+b8xRZVV43P5vzFFlVXjc/m/GmqdwL1q+b8aap3AvWr5vwOPpSuYYfm/A4+lK5hh+b/ss62Wclj5v+yzrZZyWPm/1di1AU1P+b/V2LUBTU/5v779vWwnRvm/vv29bCdG+b+nIsbXAT35v6cixtcBPfm/kUfOQtwz+b+RR85C3DP5v3ps1q22Kvm/emzWrbYq+b9jkd4YkSH5v2OR3hiRIfm/TLbmg2sY+b9MtuaDaxj5vzXb7u5FD/m/Ndvu7kUP+b8eAPdZIAb5vx4A91kgBvm/ByX/xPr8+L8HJf/E+vz4v/BJBzDV8/i/8EkHMNXz+L/Zbg+br+r4v9luD5uv6vi/wpMXBorh+L/CkxcGiuH4v6u4H3Fk2Pi/q7gfcWTY+L+U3SfcPs/4v5TdJ9w+z/i/fQIwRxnG+L99AjBHGcb4v2YnOLLzvPi/Zic4svO8+L9PTEAdzrP4v09MQB3Os/i/OXFIiKiq+L85cUiIqKr4vyKWUPOCofi/IpZQ84Kh+L8Lu1heXZj4vwu7WF5dmPi/9N9gyTeP+L/032DJN4/4v90EaTQShvi/3QRpNBKG+L/GKXGf7Hz4v8YpcZ/sfPi/r055Csdz+L+vTnkKx3P4v5hzgXWhavi/",
          "dtype": "f8"
         },
         "xaxis": "x",
         "y": {
          "bdata": "qNFeMZU09D+o0V4xlTT0P0ECCFCOl/o/QQIIUI6X+j+F65UQ/jYEQIXrlRD+NgRAzlFfuLyeD0DOUV+4vJ4PQNZCs74IEhhA1kKzvggSGECq4AvBR38hQKrgC8FHfyFAhQD9jiM3KECFAP2OIzcoQCrfKqoJBDBAKt8qqgkEMEBJ+2NPy1s0QEn7Y0/LWzRAABfPLmDkOEAAF88uYOQ4QIhTz8PYHz1AiFPPw9gfPUDogWaD4zNAQOiBZoPjM0BAQhsAZDokQUBCGwBkOiRBQBVJRZM5ZkFAFUlFkzlmQUCRXvjxVCtBQJFe+PFUK0FApf4+fIqUQECl/j58ipRAQOeFHpIZJj9A54UekhkmP0DMwDLnfxM8QMzAMud/EzxAuMvXyV0GOEC4y9fJXQY4QCQ236BJezNAJDbfoEl7M0AhsWymzh0uQCGxbKbOHS5ArbUnieRaJkCttSeJ5FomQDfu5G9b8x9AN+7kb1vzH0Dx5PIpoucVQPHk8imi5xVADRldhmbHDEANGV2GZscMQGn8DfZLWwJAafwN9ktbAkB4JLjpHoT3P3gkuOkehPc/qh/wSxa27z+qH/BLFrbvP4Qailm1m+c/hBqKWbWb5z9lerpcjCrkP2V6ulyMKuQ/",
          "dtype": "f8"
         },
         "yaxis": "y"
        },
        {
         "line": {
          "color": "#08519c",
          "width": 2
         },
         "mode": "lines",
         "name": "p2(log$E_{c}$)",
         "showlegend": false,
         "type": "scatter",
         "x": {
          "bdata": "tHwEeSoSBUCk/D1q2hkFQKT8PWraGQVAlXx3W4ohBUCVfHdbiiEFQIX8sEw6KQVAhfywTDopBUB1fOo96jAFQHV86j3qMAVAZvwjL5o4BUBm/CMvmjgFQFZ8XSBKQAVAVnxdIEpABUBH/JYR+kcFQEf8lhH6RwVAN3zQAqpPBUA3fNACqk8FQCf8CfRZVwVAJ/wJ9FlXBUAYfEPlCV8FQBh8Q+UJXwVACPx81rlmBUAI/HzWuWYFQPh7tsdpbgVA+Hu2x2luBUDp+++4GXYFQOn777gZdgVA2Xspqsl9BUDZeymqyX0FQMr7Ypt5hQVAyvtim3mFBUC6e5yMKY0FQLp7nIwpjQVAqvvVfdmUBUCq+9V92ZQFQJt7D2+JnAVAm3sPb4mcBUCL+0hgOaQFQIv7SGA5pAVAe3uCUemrBUB7e4JR6asFQGz7u0KZswVAbPu7QpmzBUBce/UzSbsFQFx79TNJuwVATPsuJfnCBUBM+y4l+cIFQD17aBapygVAPXtoFqnKBUAt+6EHWdIFQC37oQdZ0gVAHnvb+AjaBUAee9v4CNoFQA77FOq44QVADvsU6rjhBUD+ek7baOkFQP56Ttto6QVA7/qHzBjxBUDv+ofMGPEFQN96wb3I+AVA",
          "dtype": "f8"
         },
         "xaxis": "x5",
         "y": {
          "bdata": "C2hJrVWf4D8LaEmtVZ/gP8KAQbUmqOU/woBBtSao5T/3KQw86oHwP/cpDDzqgfA/C2fHGhVO+j8LZ8caFU76P+zXJDh2ewRA7NckOHZ7BEDlUll1R2EOQOVSWXVHYQ5A35qb3AdwFUDfmpvcB3AVQB+hDU3K/BxAH6ENTcr8HECNElARgdsiQI0SUBGB2yJAWhIHvt6jJ0BaEge+3qMnQILzQKwmoSxAgvNArCahLECjAkL3FMswQKMCQvcUyzBAy5FBgfQIM0DLkUGB9AgzQLc98X/dqjRAtz3xf92qNEC83/eE7FI1QLzf94TsUjVAWzgNhjbkNEBbOA2GNuQ0QMmMsWdykjNAyYyxZ3KSM0AcrPNY67cxQBys81jrtzFAHPJ5gP1HL0Ac8nmA/UcvQPFZ4P2EBytA8Vng/YQHK0CVjs6j3MkmQJWOzqPcySZASBaVnPaTIkBIFpWc9pMiQHMAbHeL/BxAcwBsd4v8HEAMPh7r8nUVQAw+HuvydRVAHcnGxvLzDUAdycbG8vMNQKwadXVLlQNArBp1dUuVA0D/6qEfDwr4P//qoR8PCvg/k4ISK2CM7D+TghIrYIzsP5SXh8F41+E/lJeHwXjX4T85Dpvl58raPzkOm+Xnyto/",
          "dtype": "f8"
         },
         "yaxis": "y5"
        },
        {
         "colorscale": [
          [
           0,
           "rgb(247,251,255)"
          ],
          [
           0.125,
           "rgb(222,235,247)"
          ],
          [
           0.25,
           "rgb(198,219,239)"
          ],
          [
           0.375,
           "rgb(158,202,225)"
          ],
          [
           0.5,
           "rgb(107,174,214)"
          ],
          [
           0.625,
           "rgb(66,146,198)"
          ],
          [
           0.75,
           "rgb(33,113,181)"
          ],
          [
           0.875,
           "rgb(8,81,156)"
          ],
          [
           1,
           "rgb(8,48,107)"
          ]
         ],
         "contours": {
          "end": 0.005535453429445987,
          "size": 0.004268494693864928,
          "start": 0.0012669587355810588
         },
         "line": {
          "width": 2
         },
         "name": "p1($\\alpha$)&p2(log$E_{c}$)",
         "ncontours": 2,
         "showlegend": false,
         "showscale": false,
         "type": "contour",
         "x": {
          "bdata": "6OgASsGK+b/SDQm1m4H5v7wyESB2ePm/plcZi1Bv+b+OfCH2Kmb5v3ihKWEFXfm/YMYxzN9T+b9K6zk3ukr5vzIQQqKUQfm/HDVKDW84+b8GWlJ4SS/5v+5+WuMjJvm/2KNiTv4c+b/AyGq52BP5v6rtciSzCvm/khJ7j40B+b98N4P6Z/j4v2Rci2VC7/i/ToGT0Bzm+L82pps799z4vyDLo6bR0/i/CPCrEazK+L/yFLR8hsH4v9o5vOdguPi/xF7EUjuv+L+ug8y9Fab4v5ao1CjwnPi/gM3ck8qT+L9o8uT+pIr4v1IX7Wl/gfi/Ojz11Fl4+L8kYf0/NG/4vw6GBasOZvi/+KoNFulc+L8=",
          "dtype": "f8"
         },
         "xaxis": "x4",
         "y": {
          "bdata": "zDwuj6IGBUC8vGeAUg4FQKw8oXECFgVAnLzaYrIdBUCNPBRUYiUFQH28TUUSLQVAbjyHNsI0BUBevMAncjwFQE48+hgiRAVAP7wzCtJLBUAvPG37gVMFQCC8puwxWwVAEDzg3eFiBUAAvBnPkWoFQPA7U8BBcgVA4buMsfF5BUDSO8aioYEFQMK7/5NRiQVAsjs5hQGRBUCiu3J2sZgFQJM7rGdhoAVAg7vlWBGoBUB0Ox9Kwa8FQGS7WDtxtwVAVDuSLCG/BUBEu8sd0cYFQDU7BQ+BzgVAJrs+ADHWBUAWO3jx4N0FQAa7seKQ5QVA9jrr00DtBUDnuiTF8PQFQNg6Xrag/AVAybqXp1AEBkA=",
          "dtype": "f8"
         },
         "yaxis": "y4",
         "z": {
          "bdata": "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",
          "dtype": "f8",
          "shape": "34, 34"
         }
        },
        {
         "line": {
          "color": "#08519c",
          "width": 2
         },
         "mode": "lines",
         "name": "p3(log$A$)",
         "showlegend": false,
         "type": "scatter",
         "x": {
          "bdata": "qMh1Xo1E6b/J8ak/gDnpv8nxqT+AOem/6xreIHMu6b/rGt4gcy7pvwxEEgJmI+m/DEQSAmYj6b8tbUbjWBjpvy1tRuNYGOm/T5Z6xEsN6b9PlnrESw3pv3C/rqU+Aum/cL+upT4C6b+R6OKGMffov5Ho4oYx9+i/sxEXaCTs6L+zERdoJOzov9Q6S0kX4ei/1DpLSRfh6L/1Y38qCtbov/VjfyoK1ui/F42zC/3K6L8XjbML/crovzi25+zvv+i/OLbn7O+/6L9Z3xvO4rTov1nfG87itOi/ewhQr9Wp6L97CFCv1anov5wxhJDInui/nDGEkMie6L+9Wrhxu5Pov71auHG7k+i/34PsUq6I6L/fg+xSrojovwCtIDShfei/AK0gNKF96L8h1lQVlHLovyHWVBWUcui/Q/+I9oZn6L9D/4j2hmfov2Qovdd5XOi/ZCi913lc6L+FUfG4bFHov4VR8bhsUei/p3olml9G6L+neiWaX0bov8ijWXtSO+i/yKNZe1I76L/pzI1cRTDov+nMjVxFMOi/C/bBPTgl6L8L9sE9OCXovywf9h4rGui/LB/2Hisa6L9NSCoAHg/ov01IKgAeD+i/b3Fe4RAE6L9vcV7hEATov5CaksID+ee/",
          "dtype": "f8"
         },
         "xaxis": "x9",
         "y": {
          "bdata": "Rx4im211B0BHHiKbbXUHQNHzZtTOtg1A0fNm1M62DUAiEDCYF2QVQCIQMJgXZBVAGePVcc2QH0AZ49VxzZAfQCvurkcVwyZAK+6uRxXDJkAwL1aBMscvQDAvVoEyxy9ABZaBA614NUAFloEDrXg1QJBF/ggM9DtAkEX+CAz0O0Ahj5TcgGVBQCGPlNyAZUFArSIRf7OdRECtIhF/s51EQF/yHLW1VUdAX/IctbVVR0CygpOnnnVJQLKCk6eedUlAm9QdH+kDS0Cb1B0f6QNLQC7n9xnI7UtALuf3GcjtS0CXVOOJOPlLQJdU44k4+UtAJTNKWTr2SkAlM0pZOvZKQCAM8jVE7khAIAzyNUTuSEA2bkdHvx5GQDZuR0e/HkZALVasqf/YQkAtVqyp/9hCQKwiW9Oo4z5ArCJb06jjPkDcEsNkWnY4QNwSw2RadjhA5DFD1BrhMkDkMUPUGuEyQLwVLrfmjCxAvBUut+aMLEDJUqJX0gwlQMlSolfSDCVAMChZAJHqHUAwKFkAkeodQKDePth1VxRAoN4+2HVXFEBUpYNH/50KQFSlg0f/nQpAcKVFyS4WAUBwpUXJLhYBQJtlvKqngPY/m2W8qqeA9j8HIe3CwO/wPwch7cLA7/A/",
          "dtype": "f8"
         },
         "yaxis": "y9"
        },
        {
         "colorscale": [
          [
           0,
           "rgb(247,251,255)"
          ],
          [
           0.125,
           "rgb(222,235,247)"
          ],
          [
           0.25,
           "rgb(198,219,239)"
          ],
          [
           0.375,
           "rgb(158,202,225)"
          ],
          [
           0.5,
           "rgb(107,174,214)"
          ],
          [
           0.625,
           "rgb(66,146,198)"
          ],
          [
           0.75,
           "rgb(33,113,181)"
          ],
          [
           0.875,
           "rgb(8,81,156)"
          ],
          [
           1,
           "rgb(8,48,107)"
          ]
         ],
         "contours": {
          "end": 0.005871305978528889,
          "size": 0.00455580979936533,
          "start": 0.0013154961791635592
         },
         "line": {
          "width": 2
         },
         "name": "p1($\\alpha$)&p3(log$A$)",
         "ncontours": 2,
         "showlegend": false,
         "showscale": false,
         "type": "contour",
         "x": {
          "bdata": "6OgASsGK+b/SDQm1m4H5v7wyESB2ePm/plcZi1Bv+b+OfCH2Kmb5v3ihKWEFXfm/YMYxzN9T+b9K6zk3ukr5vzIQQqKUQfm/HDVKDW84+b8GWlJ4SS/5v+5+WuMjJvm/2KNiTv4c+b/AyGq52BP5v6rtciSzCvm/khJ7j40B+b98N4P6Z/j4v2Rci2VC7/i/ToGT0Bzm+L82pps799z4vyDLo6bR0/i/CPCrEazK+L/yFLR8hsH4v9o5vOdguPi/xF7EUjuv+L+ug8y9Fab4v5ao1CjwnPi/gM3ck8qT+L9o8uT+pIr4v1IX7Wl/gfi/Ojz11Fl4+L8kYf0/NG/4vw6GBasOZvi/+KoNFulc+L8=",
          "dtype": "f8"
         },
         "xaxis": "x7",
         "y": {
          "bdata": "9IqnDCFV6b8WtNvtE0rpvzjdD88GP+m/WgZEsPkz6b98L3iR7Cjpv5xYrHLfHem/voHgU9IS6b/gqhQ1xQfpvwDUSBa4/Oi/Iv1896rx6L9EJrHYnebov2RP5bmQ2+i/hngZm4PQ6L+ooU18dsXov8jKgV1puui/6vO1Plyv6L8MHeofT6TovyxGHgFCmei/Tm9S4jSO6L9wmIbDJ4Pov5DBuqQaeOi/suruhQ1t6L/UEyNnAGLov/Q8V0jzVui/FmaLKeZL6L84j78K2UDov1i48+vLNei/euEnzb4q6L+cClyusR/ov7wzkI+kFOi/3lzEcJcJ6L8AhvhRiv7nvyKvLDN98+e/RNhgFHDo578=",
          "dtype": "f8"
         },
         "yaxis": "y7",
         "z": {
          "bdata": "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",
          "dtype": "f8",
          "shape": "34, 34"
         }
        },
        {
         "colorscale": [
          [
           0,
           "rgb(247,251,255)"
          ],
          [
           0.125,
           "rgb(222,235,247)"
          ],
          [
           0.25,
           "rgb(198,219,239)"
          ],
          [
           0.375,
           "rgb(158,202,225)"
          ],
          [
           0.5,
           "rgb(107,174,214)"
          ],
          [
           0.625,
           "rgb(66,146,198)"
          ],
          [
           0.75,
           "rgb(33,113,181)"
          ],
          [
           0.875,
           "rgb(8,81,156)"
          ],
          [
           1,
           "rgb(8,48,107)"
          ]
         ],
         "contours": {
          "end": 0.0057973397098631555,
          "size": 0.0044515878370250585,
          "start": 0.001345751872838097
         },
         "line": {
          "width": 2
         },
         "name": "p2(log$E_{c}$)&p3(log$A$)",
         "ncontours": 2,
         "showlegend": false,
         "showscale": false,
         "type": "contour",
         "x": {
          "bdata": "zDwuj6IGBUC8vGeAUg4FQKw8oXECFgVAnLzaYrIdBUCNPBRUYiUFQH28TUUSLQVAbjyHNsI0BUBevMAncjwFQE48+hgiRAVAP7wzCtJLBUAvPG37gVMFQCC8puwxWwVAEDzg3eFiBUAAvBnPkWoFQPA7U8BBcgVA4buMsfF5BUDSO8aioYEFQMK7/5NRiQVAsjs5hQGRBUCiu3J2sZgFQJM7rGdhoAVAg7vlWBGoBUB0Ox9Kwa8FQGS7WDtxtwVAVDuSLCG/BUBEu8sd0cYFQDU7BQ+BzgVAJrs+ADHWBUAWO3jx4N0FQAa7seKQ5QVA9jrr00DtBUDnuiTF8PQFQNg6Xrag/AVAybqXp1AEBkA=",
          "dtype": "f8"
         },
         "xaxis": "x8",
         "y": {
          "bdata": "9IqnDCFV6b8WtNvtE0rpvzjdD88GP+m/WgZEsPkz6b98L3iR7Cjpv5xYrHLfHem/voHgU9IS6b/gqhQ1xQfpvwDUSBa4/Oi/Iv1896rx6L9EJrHYnebov2RP5bmQ2+i/hngZm4PQ6L+ooU18dsXov8jKgV1puui/6vO1Plyv6L8MHeofT6TovyxGHgFCmei/Tm9S4jSO6L9wmIbDJ4Pov5DBuqQaeOi/suruhQ1t6L/UEyNnAGLov/Q8V0jzVui/FmaLKeZL6L84j78K2UDov1i48+vLNei/euEnzb4q6L+cClyusR/ov7wzkI+kFOi/3lzEcJcJ6L8AhvhRiv7nvyKvLDN98+e/RNhgFHDo578=",
          "dtype": "f8"
         },
         "yaxis": "y8",
         "z": {
          "bdata": "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",
          "dtype": "f8",
          "shape": "34, 34"
         }
        },
        {
         "error_x": {
          "array": [
           0.010350447740949953
          ],
          "arrayminus": [
           0.009877686068767044
          ],
          "color": "#FF0092",
          "symmetric": false,
          "thickness": 1,
          "type": "data",
          "width": 0
         },
         "marker": {
          "color": "#FF0092",
          "size": 5,
          "symbol": "circle"
         },
         "mode": "markers",
         "name": "p1($\\alpha$)",
         "showlegend": false,
         "type": "scatter",
         "x": [
          -1.5621177080712423
         ],
         "xaxis": "x",
         "y": [
          0.01
         ],
         "yaxis": "y"
        },
        {
         "error_x": {
          "array": [
           0.018091536666219543
          ],
          "arrayminus": [
           0.017161054845408863
          ],
          "color": "#FF0092",
          "symmetric": false,
          "thickness": 1,
          "type": "data",
          "width": 0
         },
         "marker": {
          "color": "#FF0092",
          "size": 5,
          "symbol": "circle"
         },
         "mode": "markers",
         "name": "p2(log$E_{c}$)",
         "showlegend": false,
         "type": "scatter",
         "x": [
          2.689412726143561
         ],
         "xaxis": "x5",
         "y": [
          0.01
         ],
         "yaxis": "y5"
        },
        {
         "error_x": {
          "array": [
           0.006377812660173676
          ],
          "arrayminus": [
           0.006499261575663717
          ],
          "color": "#FF0092",
          "symmetric": false,
          "thickness": 1,
          "type": "data",
          "width": 0
         },
         "marker": {
          "color": "#FF0092",
          "size": 5,
          "symbol": "circle"
         },
         "mode": "markers",
         "name": "p3(log$A$)",
         "showlegend": false,
         "type": "scatter",
         "x": [
          -0.7708558145348885
         ],
         "xaxis": "x9",
         "y": [
          0.01
         ],
         "yaxis": "y9"
        },
        {
         "marker": {
          "color": "#FF0092",
          "size": 5,
          "symbol": "square"
         },
         "mode": "markers",
         "name": "p1($\\alpha$)&p2(log$E_{c}$)",
         "showlegend": false,
         "type": "scatter",
         "x": [
          -1.5628690932751077
         ],
         "xaxis": "x4",
         "y": [
          2.6899584349617665
         ],
         "yaxis": "y4"
        },
        {
         "marker": {
          "color": "#FF0092",
          "size": 5,
          "symbol": "square"
         },
         "mode": "markers",
         "name": "p1($\\alpha$)&p3(log$A$)",
         "showlegend": false,
         "type": "scatter",
         "x": [
          -1.5628690932751077
         ],
         "xaxis": "x7",
         "y": [
          -0.7713317345038222
         ],
         "yaxis": "y7"
        },
        {
         "marker": {
          "color": "#FF0092",
          "size": 5,
          "symbol": "square"
         },
         "mode": "markers",
         "name": "p2(log$E_{c}$)&p3(log$A$)",
         "showlegend": false,
         "type": "scatter",
         "x": [
          2.6899584349617665
         ],
         "xaxis": "x8",
         "y": [
          -0.7713317345038222
         ],
         "yaxis": "y8"
        }
       ],
       "layout": {
        "height": 600,
        "shapes": [
         {
          "line": {
           "color": "#FF0092",
           "width": 1
          },
          "type": "line",
          "x0": -1.5628690932751077,
          "x1": -1.5628690932751077,
          "xref": "x4",
          "y0": 0,
          "y1": 1,
          "yref": "y4 domain"
         },
         {
          "line": {
           "color": "#FF0092",
           "width": 1
          },
          "type": "line",
          "x0": 0,
          "x1": 1,
          "xref": "x4 domain",
          "y0": 2.6899584349617665,
          "y1": 2.6899584349617665,
          "yref": "y4"
         },
         {
          "line": {
           "color": "#FF0092",
           "width": 1
          },
          "type": "line",
          "x0": -1.5628690932751077,
          "x1": -1.5628690932751077,
          "xref": "x7",
          "y0": 0,
          "y1": 1,
          "yref": "y7 domain"
         },
         {
          "line": {
           "color": "#FF0092",
           "width": 1
          },
          "type": "line",
          "x0": 0,
          "x1": 1,
          "xref": "x7 domain",
          "y0": -0.7713317345038222,
          "y1": -0.7713317345038222,
          "yref": "y7"
         },
         {
          "line": {
           "color": "#FF0092",
           "width": 1
          },
          "type": "line",
          "x0": 2.6899584349617665,
          "x1": 2.6899584349617665,
          "xref": "x8",
          "y0": 0,
          "y1": 1,
          "yref": "y8 domain"
         },
         {
          "line": {
           "color": "#FF0092",
           "width": 1
          },
          "type": "line",
          "x0": 0,
          "x1": 1,
          "xref": "x8 domain",
          "y0": -0.7713317345038222,
          "y1": -0.7713317345038222,
          "yref": "y8"
         }
        ],
        "template": {
         "data": {
          "bar": [
           {
            "error_x": {
             "color": "#2a3f5f"
            },
            "error_y": {
             "color": "#2a3f5f"
            },
            "marker": {
             "line": {
              "color": "white",
              "width": 0.5
             },
             "pattern": {
              "fillmode": "overlay",
              "size": 10,
              "solidity": 0.2
             }
            },
            "type": "bar"
           }
          ],
          "barpolar": [
           {
            "marker": {
             "line": {
              "color": "white",
              "width": 0.5
             },
             "pattern": {
              "fillmode": "overlay",
              "size": 10,
              "solidity": 0.2
             }
            },
            "type": "barpolar"
           }
          ],
          "carpet": [
           {
            "aaxis": {
             "endlinecolor": "#2a3f5f",
             "gridcolor": "#C8D4E3",
             "linecolor": "#C8D4E3",
             "minorgridcolor": "#C8D4E3",
             "startlinecolor": "#2a3f5f"
            },
            "baxis": {
             "endlinecolor": "#2a3f5f",
             "gridcolor": "#C8D4E3",
             "linecolor": "#C8D4E3",
             "minorgridcolor": "#C8D4E3",
             "startlinecolor": "#2a3f5f"
            },
            "type": "carpet"
           }
          ],
          "choropleth": [
           {
            "colorbar": {
             "outlinewidth": 0,
             "ticks": ""
            },
            "type": "choropleth"
           }
          ],
          "contour": [
           {
            "colorbar": {
             "outlinewidth": 0,
             "ticks": ""
            },
            "colorscale": [
             [
              0,
              "#0d0887"
             ],
             [
              0.1111111111111111,
              "#46039f"
             ],
             [
              0.2222222222222222,
              "#7201a8"
             ],
             [
              0.3333333333333333,
              "#9c179e"
             ],
             [
              0.4444444444444444,
              "#bd3786"
             ],
             [
              0.5555555555555556,
              "#d8576b"
             ],
             [
              0.6666666666666666,
              "#ed7953"
             ],
             [
              0.7777777777777778,
              "#fb9f3a"
             ],
             [
              0.8888888888888888,
              "#fdca26"
             ],
             [
              1,
              "#f0f921"
             ]
            ],
            "type": "contour"
           }
          ],
          "contourcarpet": [
           {
            "colorbar": {
             "outlinewidth": 0,
             "ticks": ""
            },
            "type": "contourcarpet"
           }
          ],
          "heatmap": [
           {
            "colorbar": {
             "outlinewidth": 0,
             "ticks": ""
            },
            "colorscale": [
             [
              0,
              "#0d0887"
             ],
             [
              0.1111111111111111,
              "#46039f"
             ],
             [
              0.2222222222222222,
              "#7201a8"
             ],
             [
              0.3333333333333333,
              "#9c179e"
             ],
             [
              0.4444444444444444,
              "#bd3786"
             ],
             [
              0.5555555555555556,
              "#d8576b"
             ],
             [
              0.6666666666666666,
              "#ed7953"
             ],
             [
              0.7777777777777778,
              "#fb9f3a"
             ],
             [
              0.8888888888888888,
              "#fdca26"
             ],
             [
              1,
              "#f0f921"
             ]
            ],
            "type": "heatmap"
           }
          ],
          "histogram": [
           {
            "marker": {
             "pattern": {
              "fillmode": "overlay",
              "size": 10,
              "solidity": 0.2
             }
            },
            "type": "histogram"
           }
          ],
          "histogram2d": [
           {
            "colorbar": {
             "outlinewidth": 0,
             "ticks": ""
            },
            "colorscale": [
             [
              0,
              "#0d0887"
             ],
             [
              0.1111111111111111,
              "#46039f"
             ],
             [
              0.2222222222222222,
              "#7201a8"
             ],
             [
              0.3333333333333333,
              "#9c179e"
             ],
             [
              0.4444444444444444,
              "#bd3786"
             ],
             [
              0.5555555555555556,
              "#d8576b"
             ],
             [
              0.6666666666666666,
              "#ed7953"
             ],
             [
              0.7777777777777778,
              "#fb9f3a"
             ],
             [
              0.8888888888888888,
              "#fdca26"
             ],
             [
              1,
              "#f0f921"
             ]
            ],
            "type": "histogram2d"
           }
          ],
          "histogram2dcontour": [
           {
            "colorbar": {
             "outlinewidth": 0,
             "ticks": ""
            },
            "colorscale": [
             [
              0,
              "#0d0887"
             ],
             [
              0.1111111111111111,
              "#46039f"
             ],
             [
              0.2222222222222222,
              "#7201a8"
             ],
             [
              0.3333333333333333,
              "#9c179e"
             ],
             [
              0.4444444444444444,
              "#bd3786"
             ],
             [
              0.5555555555555556,
              "#d8576b"
             ],
             [
              0.6666666666666666,
              "#ed7953"
             ],
             [
              0.7777777777777778,
              "#fb9f3a"
             ],
             [
              0.8888888888888888,
              "#fdca26"
             ],
             [
              1,
              "#f0f921"
             ]
            ],
            "type": "histogram2dcontour"
           }
          ],
          "mesh3d": [
           {
            "colorbar": {
             "outlinewidth": 0,
             "ticks": ""
            },
            "type": "mesh3d"
           }
          ],
          "parcoords": [
           {
            "line": {
             "colorbar": {
              "outlinewidth": 0,
              "ticks": ""
             }
            },
            "type": "parcoords"
           }
          ],
          "pie": [
           {
            "automargin": true,
            "type": "pie"
           }
          ],
          "scatter": [
           {
            "fillpattern": {
             "fillmode": "overlay",
             "size": 10,
             "solidity": 0.2
            },
            "type": "scatter"
           }
          ],
          "scatter3d": [
           {
            "line": {
             "colorbar": {
              "outlinewidth": 0,
              "ticks": ""
             }
            },
            "marker": {
             "colorbar": {
              "outlinewidth": 0,
              "ticks": ""
             }
            },
            "type": "scatter3d"
           }
          ],
          "scattercarpet": [
           {
            "marker": {
             "colorbar": {
              "outlinewidth": 0,
              "ticks": ""
             }
            },
            "type": "scattercarpet"
           }
          ],
          "scattergeo": [
           {
            "marker": {
             "colorbar": {
              "outlinewidth": 0,
              "ticks": ""
             }
            },
            "type": "scattergeo"
           }
          ],
          "scattergl": [
           {
            "marker": {
             "colorbar": {
              "outlinewidth": 0,
              "ticks": ""
             }
            },
            "type": "scattergl"
           }
          ],
          "scattermap": [
           {
            "marker": {
             "colorbar": {
              "outlinewidth": 0,
              "ticks": ""
             }
            },
            "type": "scattermap"
           }
          ],
          "scattermapbox": [
           {
            "marker": {
             "colorbar": {
              "outlinewidth": 0,
              "ticks": ""
             }
            },
            "type": "scattermapbox"
           }
          ],
          "scatterpolar": [
           {
            "marker": {
             "colorbar": {
              "outlinewidth": 0,
              "ticks": ""
             }
            },
            "type": "scatterpolar"
           }
          ],
          "scatterpolargl": [
           {
            "marker": {
             "colorbar": {
              "outlinewidth": 0,
              "ticks": ""
             }
            },
            "type": "scatterpolargl"
           }
          ],
          "scatterternary": [
           {
            "marker": {
             "colorbar": {
              "outlinewidth": 0,
              "ticks": ""
             }
            },
            "type": "scatterternary"
           }
          ],
          "surface": [
           {
            "colorbar": {
             "outlinewidth": 0,
             "ticks": ""
            },
            "colorscale": [
             [
              0,
              "#0d0887"
             ],
             [
              0.1111111111111111,
              "#46039f"
             ],
             [
              0.2222222222222222,
              "#7201a8"
             ],
             [
              0.3333333333333333,
              "#9c179e"
             ],
             [
              0.4444444444444444,
              "#bd3786"
             ],
             [
              0.5555555555555556,
              "#d8576b"
             ],
             [
              0.6666666666666666,
              "#ed7953"
             ],
             [
              0.7777777777777778,
              "#fb9f3a"
             ],
             [
              0.8888888888888888,
              "#fdca26"
             ],
             [
              1,
              "#f0f921"
             ]
            ],
            "type": "surface"
           }
          ],
          "table": [
           {
            "cells": {
             "fill": {
              "color": "#EBF0F8"
             },
             "line": {
              "color": "white"
             }
            },
            "header": {
             "fill": {
              "color": "#C8D4E3"
             },
             "line": {
              "color": "white"
             }
            },
            "type": "table"
           }
          ]
         },
         "layout": {
          "annotationdefaults": {
           "arrowcolor": "#2a3f5f",
           "arrowhead": 0,
           "arrowwidth": 1
          },
          "autotypenumbers": "strict",
          "coloraxis": {
           "colorbar": {
            "outlinewidth": 0,
            "ticks": ""
           }
          },
          "colorscale": {
           "diverging": [
            [
             0,
             "#8e0152"
            ],
            [
             0.1,
             "#c51b7d"
            ],
            [
             0.2,
             "#de77ae"
            ],
            [
             0.3,
             "#f1b6da"
            ],
            [
             0.4,
             "#fde0ef"
            ],
            [
             0.5,
             "#f7f7f7"
            ],
            [
             0.6,
             "#e6f5d0"
            ],
            [
             0.7,
             "#b8e186"
            ],
            [
             0.8,
             "#7fbc41"
            ],
            [
             0.9,
             "#4d9221"
            ],
            [
             1,
             "#276419"
            ]
           ],
           "sequential": [
            [
             0,
             "#0d0887"
            ],
            [
             0.1111111111111111,
             "#46039f"
            ],
            [
             0.2222222222222222,
             "#7201a8"
            ],
            [
             0.3333333333333333,
             "#9c179e"
            ],
            [
             0.4444444444444444,
             "#bd3786"
            ],
            [
             0.5555555555555556,
             "#d8576b"
            ],
            [
             0.6666666666666666,
             "#ed7953"
            ],
            [
             0.7777777777777778,
             "#fb9f3a"
            ],
            [
             0.8888888888888888,
             "#fdca26"
            ],
            [
             1,
             "#f0f921"
            ]
           ],
           "sequentialminus": [
            [
             0,
             "#0d0887"
            ],
            [
             0.1111111111111111,
             "#46039f"
            ],
            [
             0.2222222222222222,
             "#7201a8"
            ],
            [
             0.3333333333333333,
             "#9c179e"
            ],
            [
             0.4444444444444444,
             "#bd3786"
            ],
            [
             0.5555555555555556,
             "#d8576b"
            ],
            [
             0.6666666666666666,
             "#ed7953"
            ],
            [
             0.7777777777777778,
             "#fb9f3a"
            ],
            [
             0.8888888888888888,
             "#fdca26"
            ],
            [
             1,
             "#f0f921"
            ]
           ]
          },
          "colorway": [
           "#636efa",
           "#EF553B",
           "#00cc96",
           "#ab63fa",
           "#FFA15A",
           "#19d3f3",
           "#FF6692",
           "#B6E880",
           "#FF97FF",
           "#FECB52"
          ],
          "font": {
           "color": "#2a3f5f"
          },
          "geo": {
           "bgcolor": "white",
           "lakecolor": "white",
           "landcolor": "white",
           "showlakes": true,
           "showland": true,
           "subunitcolor": "#C8D4E3"
          },
          "hoverlabel": {
           "align": "left"
          },
          "hovermode": "closest",
          "mapbox": {
           "style": "light"
          },
          "paper_bgcolor": "white",
          "plot_bgcolor": "white",
          "polar": {
           "angularaxis": {
            "gridcolor": "#EBF0F8",
            "linecolor": "#EBF0F8",
            "ticks": ""
           },
           "bgcolor": "white",
           "radialaxis": {
            "gridcolor": "#EBF0F8",
            "linecolor": "#EBF0F8",
            "ticks": ""
           }
          },
          "scene": {
           "xaxis": {
            "backgroundcolor": "white",
            "gridcolor": "#DFE8F3",
            "gridwidth": 2,
            "linecolor": "#EBF0F8",
            "showbackground": true,
            "ticks": "",
            "zerolinecolor": "#EBF0F8"
           },
           "yaxis": {
            "backgroundcolor": "white",
            "gridcolor": "#DFE8F3",
            "gridwidth": 2,
            "linecolor": "#EBF0F8",
            "showbackground": true,
            "ticks": "",
            "zerolinecolor": "#EBF0F8"
           },
           "zaxis": {
            "backgroundcolor": "white",
            "gridcolor": "#DFE8F3",
            "gridwidth": 2,
            "linecolor": "#EBF0F8",
            "showbackground": true,
            "ticks": "",
            "zerolinecolor": "#EBF0F8"
           }
          },
          "shapedefaults": {
           "line": {
            "color": "#2a3f5f"
           }
          },
          "ternary": {
           "aaxis": {
            "gridcolor": "#DFE8F3",
            "linecolor": "#A2B1C6",
            "ticks": ""
           },
           "baxis": {
            "gridcolor": "#DFE8F3",
            "linecolor": "#A2B1C6",
            "ticks": ""
           },
           "bgcolor": "white",
           "caxis": {
            "gridcolor": "#DFE8F3",
            "linecolor": "#A2B1C6",
            "ticks": ""
           }
          },
          "title": {
           "x": 0.05
          },
          "xaxis": {
           "automargin": true,
           "gridcolor": "#EBF0F8",
           "linecolor": "#EBF0F8",
           "ticks": "",
           "title": {
            "standoff": 15
           },
           "zerolinecolor": "#EBF0F8",
           "zerolinewidth": 2
          },
          "yaxis": {
           "automargin": true,
           "gridcolor": "#EBF0F8",
           "linecolor": "#EBF0F8",
           "ticks": "",
           "title": {
            "standoff": 15
           },
           "zerolinecolor": "#EBF0F8",
           "zerolinewidth": 2
          }
         }
        },
        "width": 600,
        "xaxis": {
         "anchor": "y",
         "domain": [
          0,
          0.32
         ],
         "showticklabels": false,
         "tickangle": -45
        },
        "xaxis2": {
         "anchor": "y2",
         "domain": [
          0.34,
          0.66
         ]
        },
        "xaxis3": {
         "anchor": "y3",
         "domain": [
          0.68,
          1
         ]
        },
        "xaxis4": {
         "anchor": "y4",
         "domain": [
          0,
          0.32
         ],
         "showticklabels": false,
         "tickangle": -45
        },
        "xaxis5": {
         "anchor": "y5",
         "domain": [
          0.34,
          0.66
         ],
         "showticklabels": false,
         "tickangle": -45
        },
        "xaxis6": {
         "anchor": "y6",
         "domain": [
          0.68,
          1
         ]
        },
        "xaxis7": {
         "anchor": "y7",
         "domain": [
          0,
          0.32
         ],
         "showticklabels": true,
         "tickangle": -45,
         "title": {
          "text": "p1($\\alpha$)"
         }
        },
        "xaxis8": {
         "anchor": "y8",
         "domain": [
          0.34,
          0.66
         ],
         "showticklabels": true,
         "tickangle": -45,
         "title": {
          "text": "p2(log$E_{c}$)"
         }
        },
        "xaxis9": {
         "anchor": "y9",
         "domain": [
          0.68,
          1
         ],
         "showticklabels": true,
         "tickangle": -45,
         "title": {
          "text": "p3(log$A$)"
         }
        },
        "yaxis": {
         "anchor": "x",
         "domain": [
          0.68,
          1
         ],
         "showticklabels": false,
         "tickangle": -45
        },
        "yaxis2": {
         "anchor": "x2",
         "domain": [
          0.68,
          1
         ]
        },
        "yaxis3": {
         "anchor": "x3",
         "domain": [
          0.68,
          1
         ]
        },
        "yaxis4": {
         "anchor": "x4",
         "domain": [
          0.34,
          0.66
         ],
         "showticklabels": true,
         "tickangle": -45,
         "title": {
          "text": "p2(log$E_{c}$)"
         }
        },
        "yaxis5": {
         "anchor": "x5",
         "domain": [
          0.34,
          0.66
         ],
         "showticklabels": false,
         "tickangle": -45
        },
        "yaxis6": {
         "anchor": "x6",
         "domain": [
          0.34,
          0.66
         ]
        },
        "yaxis7": {
         "anchor": "x7",
         "domain": [
          0,
          0.32
         ],
         "showticklabels": true,
         "tickangle": -45,
         "title": {
          "text": "p3(log$A$)"
         }
        },
        "yaxis8": {
         "anchor": "x8",
         "domain": [
          0,
          0.32
         ],
         "showticklabels": false,
         "tickangle": -45
        },
        "yaxis9": {
         "anchor": "x9",
         "domain": [
          0,
          0.32
         ],
         "showticklabels": false,
         "tickangle": -45
        }
       }
      }
     },
     "metadata": {},
     "output_type": "display_data"
    }
   ],
   "source": [
    "fig = Plot.post_corner(post, ploter='plotly')\n",
    "fig.save(f'{savepath}/corner')"
   ]
  },
  {
   "cell_type": "code",
   "execution_count": 10,
   "id": "7c737961-cc18-481f-9fd3-c7dd0e1f8bdf",
   "metadata": {},
   "outputs": [
    {
     "data": {
      "application/vnd.plotly.v1+json": {
       "config": {
        "plotlyServerURL": "https://plot.ly"
       },
       "data": [
        {
         "line": {
          "color": "#636EFA",
          "width": 2
         },
         "mode": "lines",
         "name": "cpl",
         "showlegend": true,
         "type": "scatter",
         "x": {
          "bdata": "AAAAAAAAJEDgHmTryvMkQGrc95Qx8yVAJZwvfcH+JkDFjVrhDhcoQGUFxA21PClAKve9s1ZwKkCDQcRDnrIrQLm26ks+BC1ARDfK2vFlLkCcqyPnfNgvQJIkOV5WrjBAYKRUNqx5MUDzCa6jsE4yQB92SavZLTNAjJvI8KIXNECb8Or6jQw1QO7gUHsiDTZAL8Gpme4ZN0DGK3ZChzM4QIRpinmIWjlAlpx+sJWPOkCwkTwhWtM7QEBj3SyJJj1AVn0Lv96JPkCrEiC2H/4/QJ7YGigNwkBAkzK2TlOOQUARXM97U2RCQB/w5D+ERENAg0y30GEvREA8uBlObiVFQKRkCgoyJ0ZAdzo51Ds1R0AISydJIVBIQMy7CiV/eElA4xilmvmuSkA/KzyuPPRLQAe555T8SE1AmP1oGPatTkAUleF/9xFQQBFxZz7b1VBAXLSCzxKjUUCyjOHlD3pSQCjmIZ5JW1NAtXnPwDxHVEASSIYHbD5VQKTOX2VgQVZA3hbTUqlQV0DMqTEd3WxYQMtx7TmZlllAgK3VnYLOWkBPSXsYRhVcQHdB77OYa11AABkQGTjSXkDI+0589SRgQLvSp7zA6WBA7bGS1eq3YUDQwhwA5o9iQA7cqOUpcmNA+o074jNfZEAMUu9Jh1dlQPRXt7GtW2ZAJEGZOzdsZ0D3BIjmuoloQJA8DOLWtGlAfi/o5TDuakBNL+iNdjZsQN8gErpdjm1AnX1p86T2bkAZ0L/qCThwQPFshb69/XBAxMrgfdvMcUAp3Nzo1aVyQLe/RzYliXNAdSZNVkd3dEAQmDw4wHB1QBc+ohMadnZA3bTatOWHd0CgT0zNuqZ4QPRCckc403lAgETongQOe0DZaKc8zld8QJBZp9dLsX1Ac2wZ2jwbf0BG2brlNEuAQBlgyl/SEYFA0N2J5eThgUBul6G+37uCQHcV8q87oINAnEB9PnePhECLHH/1FoqFQPj13K+lkIZAvbMT5bSjh0D06s/53MOIQOJbXJS98YlA/J8V9f0ti0AEChRTTXmMQNQOPz1j1I1AAAAAAABAj0A=",
          "dtype": "f8"
         },
         "y": {
          "bdata": "DbbStfZLsD4w6d3ohp2wPkO1fu178LA+fPZEPthEsT5KbP0QnpqxPi2xGlDP8bE+Yimuk21Ksj7O5OoZeqSyPu8+LL/1/7I+C9h59eBcsz4dV4K7O7uzPl89BpMFG7Q+vfKrdj18tD6MGDbP4d60PvkdFWjwQrU+8glNY2aotT5ocqgsQA+2PsqqMWx5d7Y+dFXr9wzhtj6tuMHE9Eu3PtWBrtYpuLc+wQMJMKQluD6ie/2/WpS4PpKGJlBDBLk+b7JEcVJ1uT4sABFne+e5PvxDKBOwWro+YJoO3+DOuj67qkul/EO7Pnkxopnwubs+uVFnMKgwvD4fgQAFDai8Po2Hkb8GIL0+gA/n+XqYvT7Aq60jTRG+PowMCWZeir4+j2qjho0Dvz6Z+lHKtny/PmiScNez9b8+MUgOzC03wD5Rzj4OQXPAPigCqT78rsA+ZyN+X0bqwD7q+6vaBCXBPm+vUnQbX8E+yp7yPWyYwT5EdYSK19DBPnw1s+M7CMI+4jd2AHY+wj4HgE+9YHPCPvOReRbVpsI+LPpWJKrYwj4e/HwatQjDPt1AuknJNsM+IdSBJbhiwz42IipNUYzDPuHbdplis8M+9nrrLrjXwz6FaGqVHPnDPgJCqtVYF8Q+WykPnTQyxD5HHXlodknEPji0mbbjXMQ+PdhiQkFsxD5z3hxGU3fEPugQrMfdfcQ+rviD7qR/xD6h3LhjbXzEPu1pjbz8c8Q+D77C7xlmxD6gc9PVjVLEPodLHrQjOcQ+5APa0qkZxD5PZHkd8vPDPicS7MzSx8M+ABfmGieVwz7oCg39z1vDPnqmlua0G8M+7YKJjsTUwj5Kt2649YbCPhby2vxHMsI+HzzJjsTWwT6a1lL6fnTBPk5Y4diVC8E+rZyNdjOcwD6AQftjjibAPkP9U9/TVb8+Z8niAi1Tvj4I3lyl40W9PvZpNvvNLrw+oUy9vNwOuz6v2EaBGue5Pnjs8KmquLg+oOHS08eEtz6oJk3LwUy2Ppy3evz6EbU+qymhX+XVsz6LYtjj/pmyPtiM+V3NX7E+HPMkBtoosD4=",
          "dtype": "f8"
         }
        },
        {
         "line": {
          "color": "rgba(0,0,0,0)"
         },
         "mode": "lines",
         "name": "cpl lower",
         "showlegend": false,
         "type": "scatter",
         "x": {
          "bdata": "AAAAAAAAJEDgHmTryvMkQGrc95Qx8yVAJZwvfcH+JkDFjVrhDhcoQGUFxA21PClAKve9s1ZwKkCDQcRDnrIrQLm26ks+BC1ARDfK2vFlLkCcqyPnfNgvQJIkOV5WrjBAYKRUNqx5MUDzCa6jsE4yQB92SavZLTNAjJvI8KIXNECb8Or6jQw1QO7gUHsiDTZAL8Gpme4ZN0DGK3ZChzM4QIRpinmIWjlAlpx+sJWPOkCwkTwhWtM7QEBj3SyJJj1AVn0Lv96JPkCrEiC2H/4/QJ7YGigNwkBAkzK2TlOOQUARXM97U2RCQB/w5D+ERENAg0y30GEvREA8uBlObiVFQKRkCgoyJ0ZAdzo51Ds1R0AISydJIVBIQMy7CiV/eElA4xilmvmuSkA/KzyuPPRLQAe555T8SE1AmP1oGPatTkAUleF/9xFQQBFxZz7b1VBAXLSCzxKjUUCyjOHlD3pSQCjmIZ5JW1NAtXnPwDxHVEASSIYHbD5VQKTOX2VgQVZA3hbTUqlQV0DMqTEd3WxYQMtx7TmZlllAgK3VnYLOWkBPSXsYRhVcQHdB77OYa11AABkQGTjSXkDI+0589SRgQLvSp7zA6WBA7bGS1eq3YUDQwhwA5o9iQA7cqOUpcmNA+o074jNfZEAMUu9Jh1dlQPRXt7GtW2ZAJEGZOzdsZ0D3BIjmuoloQJA8DOLWtGlAfi/o5TDuakBNL+iNdjZsQN8gErpdjm1AnX1p86T2bkAZ0L/qCThwQPFshb69/XBAxMrgfdvMcUAp3Nzo1aVyQLe/RzYliXNAdSZNVkd3dEAQmDw4wHB1QBc+ohMadnZA3bTatOWHd0CgT0zNuqZ4QPRCckc403lAgETongQOe0DZaKc8zld8QJBZp9dLsX1Ac2wZ2jwbf0BG2brlNEuAQBlgyl/SEYFA0N2J5eThgUBul6G+37uCQHcV8q87oINAnEB9PnePhECLHH/1FoqFQPj13K+lkIZAvbMT5bSjh0D06s/53MOIQOJbXJS98YlA/J8V9f0ti0AEChRTTXmMQNQOPz1j1I1AAAAAAABAj0A=",
          "dtype": "f8"
         },
         "y": {
          "bdata": "FHkZcRwSsD5HisG+tmSwPoV8PpShuLA+r0o3Ns0NsT4HDqWdu2SxPqdd4PZpvLE+Ou1HAj0Wsj64xWyZPHGyPlUyrvqWzbI+4ZBTwZArsz7CLj24/YqzPnHKrEFs67M+s6W6q5NNtD7b76xzErG0Pr4ZRCMVFrU+BRClcDR8tT52I8D/9+O1PoS5HnoxTbY+1jhwvpW3tj4CFm0xoyO3PgPaVQpKkLc+ba6RN2P+tz7jRcBgrW24Ph2tqhGv3bg+m3IP1lNOuT7Hfls6PcC5PjeVWLp+M7o+29QTNtumuj6y8ncPthu7PrTITr1ykbs+tG7Lpn8HvD7uUKV7vH68PvtK9boY9rw+yZ/wMeFtvT4LXbgFxeW9PgerbSdDXb4+if25HhvVvj7XpV72hEy/PvQBxOmpw78+I+UXWFUdwD65EktJ+ljAPtYCVVfuk8A+/00bMZjOwD4RNiF4LgjBPs5Htg/mQcE+At59HF16wT7WYzBTe7HBPrQItvAh6ME+ZLMTiUgdwj4l9P3kjFHCPjuIO/gXhMI+y9zaPYW0wj4gOvsmmOPCPrd4dlWxEMM+uU0+5FU7wz4vW63qCGTDProm58J4isM+R5oWa8Cuwz4ubgZtGtDDPjUkZpzj7cM+ctsT7lQIxD7smWNO5h/EPn+cBwg/M8Q+tmGC8YlCxD6OBdSF2E3EPkH81vxbVMQ+yjMP/fFVxD6BaWiq2FLEPiUShoVwSsQ+PkYqk7A7xD7omYBViijEPnigeF9BDsQ+Ru9zsAnuwz5Ai9ueUMfDPsWdOD3qmcM+n6sqWS1mwz7BkSM+JCzDPg+g/VI56sI+uuoI7wOhwj6lZLFzZFLCPi2x+R0A+8E+ub/99XmcwT789s8XoDbBPpfP0XTPycA+z9qpKx1YwD5fLdOZKL2/Pi5NZp24vb4+Yw2bVry0vT6F9BKqt568Pmah/QIBgLs+WOeCvblbuj61py+eQi25Pohn9MmM+Lc+9jO+f4y/tj7S6JKpGYW1PgzxGO9vR7Q+J4q7VysJsz5QYEZhIs2xPtiCdVXokLA+ChoHMV61rj4=",
          "dtype": "f8"
         }
        },
        {
         "fill": "tonexty",
         "fillcolor": "rgba(99, 110, 250, 0.500000)",
         "line": {
          "color": "rgba(0,0,0,0)"
         },
         "mode": "lines",
         "name": "cpl CI",
         "showlegend": true,
         "type": "scatter",
         "x": {
          "bdata": "AAAAAAAAJEDgHmTryvMkQGrc95Qx8yVAJZwvfcH+JkDFjVrhDhcoQGUFxA21PClAKve9s1ZwKkCDQcRDnrIrQLm26ks+BC1ARDfK2vFlLkCcqyPnfNgvQJIkOV5WrjBAYKRUNqx5MUDzCa6jsE4yQB92SavZLTNAjJvI8KIXNECb8Or6jQw1QO7gUHsiDTZAL8Gpme4ZN0DGK3ZChzM4QIRpinmIWjlAlpx+sJWPOkCwkTwhWtM7QEBj3SyJJj1AVn0Lv96JPkCrEiC2H/4/QJ7YGigNwkBAkzK2TlOOQUARXM97U2RCQB/w5D+ERENAg0y30GEvREA8uBlObiVFQKRkCgoyJ0ZAdzo51Ds1R0AISydJIVBIQMy7CiV/eElA4xilmvmuSkA/KzyuPPRLQAe555T8SE1AmP1oGPatTkAUleF/9xFQQBFxZz7b1VBAXLSCzxKjUUCyjOHlD3pSQCjmIZ5JW1NAtXnPwDxHVEASSIYHbD5VQKTOX2VgQVZA3hbTUqlQV0DMqTEd3WxYQMtx7TmZlllAgK3VnYLOWkBPSXsYRhVcQHdB77OYa11AABkQGTjSXkDI+0589SRgQLvSp7zA6WBA7bGS1eq3YUDQwhwA5o9iQA7cqOUpcmNA+o074jNfZEAMUu9Jh1dlQPRXt7GtW2ZAJEGZOzdsZ0D3BIjmuoloQJA8DOLWtGlAfi/o5TDuakBNL+iNdjZsQN8gErpdjm1AnX1p86T2bkAZ0L/qCThwQPFshb69/XBAxMrgfdvMcUAp3Nzo1aVyQLe/RzYliXNAdSZNVkd3dEAQmDw4wHB1QBc+ohMadnZA3bTatOWHd0CgT0zNuqZ4QPRCckc403lAgETongQOe0DZaKc8zld8QJBZp9dLsX1Ac2wZ2jwbf0BG2brlNEuAQBlgyl/SEYFA0N2J5eThgUBul6G+37uCQHcV8q87oINAnEB9PnePhECLHH/1FoqFQPj13K+lkIZAvbMT5bSjh0D06s/53MOIQOJbXJS98YlA/J8V9f0ti0AEChRTTXmMQNQOPz1j1I1AAAAAAABAj0A=",
          "dtype": "f8"
         },
         "y": {
          "bdata": "ACXHhWl7sD723bPj7MywPt5i4kF2H7E+FRVnK2dzsT5uJk4aYcixPnAbFn5qHrI+SlHgtmR2sj7xhLmHxs+yPtOYdFPaKrM+lP58i5OGsz58IlpEtOSzPqfVIVceRLQ+7h3VcV2ktD7HQDrAfga1Po/aA3kXarU+pZOH+WzPtT50VW5wUzW2PninKwdEnbY+kGaJnqIGtz5F9vpNc3G3PnOa9nCo3Lc+1FbWfBNKuD7Q3sIVELm4PgvJ2dpxKbk+yMN5pd+auT7+SC5eUgy6PrW7nTeXgLo+SykXiRz2uj7vjzIK/Wu7Pm6Tw/gJ47s+FGWPbcRavD6WzmSwKNO8PrJgz5kbTL0+OY2jBrfFvT6q3EMFQUC+PiymyFiXu74+2IlHY+o2vz5KefqjjLK/Pv74pqmRFsA+kRam2oRUwD50y2UhApLAPrTcKT/NzsA+7KcRoCgMwT4+G0vhTkjBPjeLdb+rg8E+y7cUjBa+wT6QYGt7tPfBPj9Hl/BmMMI+SgkS/LNnwj4zFz3TLJ7CPnUBnA6e0sI+AgfTg2EFwz5BYoeI0TbDPp+KOYXtZcM+0dQkJ72Swz57fzns+7zDPizWaqum5MM+EugBLekJxD5+sZkBsCvEPjjXKTGoSsQ+a0tgSeNlxD5ubA066n3EPnUsVPzrkcQ+i6mTgrKhxD5s/ewWqq3EPpRvX8hltMQ+q8hn1fC2xD5OHPr727PEPvN5A1KLrMQ+yekb6f6exD6zYteqiozEPmoRcY7kcsQ+NugdAitUxD4pqFKlzS/EPlBSbr3QBMQ+OPHSbI3Twz7zJIYiL5zDPrRPd8RsXMM+0xkroDQYwz5a14L1zMzCPli5rzoKe8I+uDrOy+chwj5Xw5dPg8HBPtJUy16yXcE+hyrIojHywD4/Unzii3/APt2Y9F7+BsA+2GFW7aQPvz48oEOmzQW+Pi9UnjQo9Lw+5gqSvrnZuz50832bx7a6PjFVtqzQi7k+jUjzXQpcuD5viWun+Ca3Pt1jnbKx8LU+0cWnBBy1tD5E0qPum3mzPpS/WHh0PrI+tOpceVoDsT4=",
          "dtype": "f8"
         }
        }
       ],
       "layout": {
        "height": 600,
        "legend": {
         "x": 1,
         "xanchor": "right",
         "y": 1,
         "yanchor": "bottom"
        },
        "template": {
         "data": {
          "bar": [
           {
            "error_x": {
             "color": "#2a3f5f"
            },
            "error_y": {
             "color": "#2a3f5f"
            },
            "marker": {
             "line": {
              "color": "white",
              "width": 0.5
             },
             "pattern": {
              "fillmode": "overlay",
              "size": 10,
              "solidity": 0.2
             }
            },
            "type": "bar"
           }
          ],
          "barpolar": [
           {
            "marker": {
             "line": {
              "color": "white",
              "width": 0.5
             },
             "pattern": {
              "fillmode": "overlay",
              "size": 10,
              "solidity": 0.2
             }
            },
            "type": "barpolar"
           }
          ],
          "carpet": [
           {
            "aaxis": {
             "endlinecolor": "#2a3f5f",
             "gridcolor": "#C8D4E3",
             "linecolor": "#C8D4E3",
             "minorgridcolor": "#C8D4E3",
             "startlinecolor": "#2a3f5f"
            },
            "baxis": {
             "endlinecolor": "#2a3f5f",
             "gridcolor": "#C8D4E3",
             "linecolor": "#C8D4E3",
             "minorgridcolor": "#C8D4E3",
             "startlinecolor": "#2a3f5f"
            },
            "type": "carpet"
           }
          ],
          "choropleth": [
           {
            "colorbar": {
             "outlinewidth": 0,
             "ticks": ""
            },
            "type": "choropleth"
           }
          ],
          "contour": [
           {
            "colorbar": {
             "outlinewidth": 0,
             "ticks": ""
            },
            "colorscale": [
             [
              0,
              "#0d0887"
             ],
             [
              0.1111111111111111,
              "#46039f"
             ],
             [
              0.2222222222222222,
              "#7201a8"
             ],
             [
              0.3333333333333333,
              "#9c179e"
             ],
             [
              0.4444444444444444,
              "#bd3786"
             ],
             [
              0.5555555555555556,
              "#d8576b"
             ],
             [
              0.6666666666666666,
              "#ed7953"
             ],
             [
              0.7777777777777778,
              "#fb9f3a"
             ],
             [
              0.8888888888888888,
              "#fdca26"
             ],
             [
              1,
              "#f0f921"
             ]
            ],
            "type": "contour"
           }
          ],
          "contourcarpet": [
           {
            "colorbar": {
             "outlinewidth": 0,
             "ticks": ""
            },
            "type": "contourcarpet"
           }
          ],
          "heatmap": [
           {
            "colorbar": {
             "outlinewidth": 0,
             "ticks": ""
            },
            "colorscale": [
             [
              0,
              "#0d0887"
             ],
             [
              0.1111111111111111,
              "#46039f"
             ],
             [
              0.2222222222222222,
              "#7201a8"
             ],
             [
              0.3333333333333333,
              "#9c179e"
             ],
             [
              0.4444444444444444,
              "#bd3786"
             ],
             [
              0.5555555555555556,
              "#d8576b"
             ],
             [
              0.6666666666666666,
              "#ed7953"
             ],
             [
              0.7777777777777778,
              "#fb9f3a"
             ],
             [
              0.8888888888888888,
              "#fdca26"
             ],
             [
              1,
              "#f0f921"
             ]
            ],
            "type": "heatmap"
           }
          ],
          "histogram": [
           {
            "marker": {
             "pattern": {
              "fillmode": "overlay",
              "size": 10,
              "solidity": 0.2
             }
            },
            "type": "histogram"
           }
          ],
          "histogram2d": [
           {
            "colorbar": {
             "outlinewidth": 0,
             "ticks": ""
            },
            "colorscale": [
             [
              0,
              "#0d0887"
             ],
             [
              0.1111111111111111,
              "#46039f"
             ],
             [
              0.2222222222222222,
              "#7201a8"
             ],
             [
              0.3333333333333333,
              "#9c179e"
             ],
             [
              0.4444444444444444,
              "#bd3786"
             ],
             [
              0.5555555555555556,
              "#d8576b"
             ],
             [
              0.6666666666666666,
              "#ed7953"
             ],
             [
              0.7777777777777778,
              "#fb9f3a"
             ],
             [
              0.8888888888888888,
              "#fdca26"
             ],
             [
              1,
              "#f0f921"
             ]
            ],
            "type": "histogram2d"
           }
          ],
          "histogram2dcontour": [
           {
            "colorbar": {
             "outlinewidth": 0,
             "ticks": ""
            },
            "colorscale": [
             [
              0,
              "#0d0887"
             ],
             [
              0.1111111111111111,
              "#46039f"
             ],
             [
              0.2222222222222222,
              "#7201a8"
             ],
             [
              0.3333333333333333,
              "#9c179e"
             ],
             [
              0.4444444444444444,
              "#bd3786"
             ],
             [
              0.5555555555555556,
              "#d8576b"
             ],
             [
              0.6666666666666666,
              "#ed7953"
             ],
             [
              0.7777777777777778,
              "#fb9f3a"
             ],
             [
              0.8888888888888888,
              "#fdca26"
             ],
             [
              1,
              "#f0f921"
             ]
            ],
            "type": "histogram2dcontour"
           }
          ],
          "mesh3d": [
           {
            "colorbar": {
             "outlinewidth": 0,
             "ticks": ""
            },
            "type": "mesh3d"
           }
          ],
          "parcoords": [
           {
            "line": {
             "colorbar": {
              "outlinewidth": 0,
              "ticks": ""
             }
            },
            "type": "parcoords"
           }
          ],
          "pie": [
           {
            "automargin": true,
            "type": "pie"
           }
          ],
          "scatter": [
           {
            "fillpattern": {
             "fillmode": "overlay",
             "size": 10,
             "solidity": 0.2
            },
            "type": "scatter"
           }
          ],
          "scatter3d": [
           {
            "line": {
             "colorbar": {
              "outlinewidth": 0,
              "ticks": ""
             }
            },
            "marker": {
             "colorbar": {
              "outlinewidth": 0,
              "ticks": ""
             }
            },
            "type": "scatter3d"
           }
          ],
          "scattercarpet": [
           {
            "marker": {
             "colorbar": {
              "outlinewidth": 0,
              "ticks": ""
             }
            },
            "type": "scattercarpet"
           }
          ],
          "scattergeo": [
           {
            "marker": {
             "colorbar": {
              "outlinewidth": 0,
              "ticks": ""
             }
            },
            "type": "scattergeo"
           }
          ],
          "scattergl": [
           {
            "marker": {
             "colorbar": {
              "outlinewidth": 0,
              "ticks": ""
             }
            },
            "type": "scattergl"
           }
          ],
          "scattermap": [
           {
            "marker": {
             "colorbar": {
              "outlinewidth": 0,
              "ticks": ""
             }
            },
            "type": "scattermap"
           }
          ],
          "scattermapbox": [
           {
            "marker": {
             "colorbar": {
              "outlinewidth": 0,
              "ticks": ""
             }
            },
            "type": "scattermapbox"
           }
          ],
          "scatterpolar": [
           {
            "marker": {
             "colorbar": {
              "outlinewidth": 0,
              "ticks": ""
             }
            },
            "type": "scatterpolar"
           }
          ],
          "scatterpolargl": [
           {
            "marker": {
             "colorbar": {
              "outlinewidth": 0,
              "ticks": ""
             }
            },
            "type": "scatterpolargl"
           }
          ],
          "scatterternary": [
           {
            "marker": {
             "colorbar": {
              "outlinewidth": 0,
              "ticks": ""
             }
            },
            "type": "scatterternary"
           }
          ],
          "surface": [
           {
            "colorbar": {
             "outlinewidth": 0,
             "ticks": ""
            },
            "colorscale": [
             [
              0,
              "#0d0887"
             ],
             [
              0.1111111111111111,
              "#46039f"
             ],
             [
              0.2222222222222222,
              "#7201a8"
             ],
             [
              0.3333333333333333,
              "#9c179e"
             ],
             [
              0.4444444444444444,
              "#bd3786"
             ],
             [
              0.5555555555555556,
              "#d8576b"
             ],
             [
              0.6666666666666666,
              "#ed7953"
             ],
             [
              0.7777777777777778,
              "#fb9f3a"
             ],
             [
              0.8888888888888888,
              "#fdca26"
             ],
             [
              1,
              "#f0f921"
             ]
            ],
            "type": "surface"
           }
          ],
          "table": [
           {
            "cells": {
             "fill": {
              "color": "#EBF0F8"
             },
             "line": {
              "color": "white"
             }
            },
            "header": {
             "fill": {
              "color": "#C8D4E3"
             },
             "line": {
              "color": "white"
             }
            },
            "type": "table"
           }
          ]
         },
         "layout": {
          "annotationdefaults": {
           "arrowcolor": "#2a3f5f",
           "arrowhead": 0,
           "arrowwidth": 1
          },
          "autotypenumbers": "strict",
          "coloraxis": {
           "colorbar": {
            "outlinewidth": 0,
            "ticks": ""
           }
          },
          "colorscale": {
           "diverging": [
            [
             0,
             "#8e0152"
            ],
            [
             0.1,
             "#c51b7d"
            ],
            [
             0.2,
             "#de77ae"
            ],
            [
             0.3,
             "#f1b6da"
            ],
            [
             0.4,
             "#fde0ef"
            ],
            [
             0.5,
             "#f7f7f7"
            ],
            [
             0.6,
             "#e6f5d0"
            ],
            [
             0.7,
             "#b8e186"
            ],
            [
             0.8,
             "#7fbc41"
            ],
            [
             0.9,
             "#4d9221"
            ],
            [
             1,
             "#276419"
            ]
           ],
           "sequential": [
            [
             0,
             "#0d0887"
            ],
            [
             0.1111111111111111,
             "#46039f"
            ],
            [
             0.2222222222222222,
             "#7201a8"
            ],
            [
             0.3333333333333333,
             "#9c179e"
            ],
            [
             0.4444444444444444,
             "#bd3786"
            ],
            [
             0.5555555555555556,
             "#d8576b"
            ],
            [
             0.6666666666666666,
             "#ed7953"
            ],
            [
             0.7777777777777778,
             "#fb9f3a"
            ],
            [
             0.8888888888888888,
             "#fdca26"
            ],
            [
             1,
             "#f0f921"
            ]
           ],
           "sequentialminus": [
            [
             0,
             "#0d0887"
            ],
            [
             0.1111111111111111,
             "#46039f"
            ],
            [
             0.2222222222222222,
             "#7201a8"
            ],
            [
             0.3333333333333333,
             "#9c179e"
            ],
            [
             0.4444444444444444,
             "#bd3786"
            ],
            [
             0.5555555555555556,
             "#d8576b"
            ],
            [
             0.6666666666666666,
             "#ed7953"
            ],
            [
             0.7777777777777778,
             "#fb9f3a"
            ],
            [
             0.8888888888888888,
             "#fdca26"
            ],
            [
             1,
             "#f0f921"
            ]
           ]
          },
          "colorway": [
           "#636efa",
           "#EF553B",
           "#00cc96",
           "#ab63fa",
           "#FFA15A",
           "#19d3f3",
           "#FF6692",
           "#B6E880",
           "#FF97FF",
           "#FECB52"
          ],
          "font": {
           "color": "#2a3f5f"
          },
          "geo": {
           "bgcolor": "white",
           "lakecolor": "white",
           "landcolor": "white",
           "showlakes": true,
           "showland": true,
           "subunitcolor": "#C8D4E3"
          },
          "hoverlabel": {
           "align": "left"
          },
          "hovermode": "closest",
          "mapbox": {
           "style": "light"
          },
          "paper_bgcolor": "white",
          "plot_bgcolor": "white",
          "polar": {
           "angularaxis": {
            "gridcolor": "#EBF0F8",
            "linecolor": "#EBF0F8",
            "ticks": ""
           },
           "bgcolor": "white",
           "radialaxis": {
            "gridcolor": "#EBF0F8",
            "linecolor": "#EBF0F8",
            "ticks": ""
           }
          },
          "scene": {
           "xaxis": {
            "backgroundcolor": "white",
            "gridcolor": "#DFE8F3",
            "gridwidth": 2,
            "linecolor": "#EBF0F8",
            "showbackground": true,
            "ticks": "",
            "zerolinecolor": "#EBF0F8"
           },
           "yaxis": {
            "backgroundcolor": "white",
            "gridcolor": "#DFE8F3",
            "gridwidth": 2,
            "linecolor": "#EBF0F8",
            "showbackground": true,
            "ticks": "",
            "zerolinecolor": "#EBF0F8"
           },
           "zaxis": {
            "backgroundcolor": "white",
            "gridcolor": "#DFE8F3",
            "gridwidth": 2,
            "linecolor": "#EBF0F8",
            "showbackground": true,
            "ticks": "",
            "zerolinecolor": "#EBF0F8"
           }
          },
          "shapedefaults": {
           "line": {
            "color": "#2a3f5f"
           }
          },
          "ternary": {
           "aaxis": {
            "gridcolor": "#DFE8F3",
            "linecolor": "#A2B1C6",
            "ticks": ""
           },
           "baxis": {
            "gridcolor": "#DFE8F3",
            "linecolor": "#A2B1C6",
            "ticks": ""
           },
           "bgcolor": "white",
           "caxis": {
            "gridcolor": "#DFE8F3",
            "linecolor": "#A2B1C6",
            "ticks": ""
           }
          },
          "title": {
           "x": 0.05
          },
          "xaxis": {
           "automargin": true,
           "gridcolor": "#EBF0F8",
           "linecolor": "#EBF0F8",
           "ticks": "",
           "title": {
            "standoff": 15
           },
           "zerolinecolor": "#EBF0F8",
           "zerolinewidth": 2
          },
          "yaxis": {
           "automargin": true,
           "gridcolor": "#EBF0F8",
           "linecolor": "#EBF0F8",
           "ticks": "",
           "title": {
            "standoff": 15
           },
           "zerolinecolor": "#EBF0F8",
           "zerolinewidth": 2
          }
         }
        },
        "width": 600,
        "xaxis": {
         "title": {
          "text": "Energy (keV)"
         },
         "type": "log"
        },
        "yaxis": {
         "title": {
          "text": "erg/cm^2/s"
         },
         "type": "log"
        }
       }
      }
     },
     "metadata": {},
     "output_type": "display_data"
    }
   ],
   "source": [
    "earr = np.logspace(1, 3, 100)\n",
    "\n",
    "modelplot = Plot.model(ploter='plotly', style='vFv', CI=True)\n",
    "modelplot.add_model(model, E=earr)\n",
    "fig = modelplot.get_fig()\n",
    "fig.save(f'{savepath}/model')"
   ]
  },
  {
   "cell_type": "code",
   "execution_count": 11,
   "id": "0eab7004-7a1a-48a9-a50e-90780fa44cfe",
   "metadata": {},
   "outputs": [
    {
     "name": "stdout",
     "output_type": "stream",
     "text": [
      "8.364073671737029e-06\n",
      "{'mean': 8.370509833416337e-06, 'median': 8.370525717671357e-06, 'Isigma': array([8.31300014e-06, 8.42928731e-06]), 'IIsigma': array([8.25616620e-06, 8.48290234e-06]), 'IIIsigma': array([8.19526046e-06, 8.53830033e-06])}\n"
     ]
    }
   ],
   "source": [
    "ergflux = model.best_ergflux(emin=10, emax=1000, ngrid=1000)\n",
    "ergflux_sample = model.ergflux_sample(emin=10, emax=1000, ngrid=1000)\n",
    "\n",
    "print(ergflux)\n",
    "print(ergflux_sample)"
   ]
  }
 ],
 "metadata": {
  "kernelspec": {
   "display_name": "base",
   "language": "python",
   "name": "python3"
  },
  "language_info": {
   "codemirror_mode": {
    "name": "ipython",
    "version": 3
   },
   "file_extension": ".py",
   "mimetype": "text/x-python",
   "name": "python",
   "nbconvert_exporter": "python",
   "pygments_lexer": "ipython3",
   "version": "3.12.8"
  }
 },
 "nbformat": 4,
 "nbformat_minor": 5
}
