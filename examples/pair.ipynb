{
 "cells": [
  {
   "cell_type": "code",
   "execution_count": 1,
   "id": "c0a2a451-15d6-4bc2-bf36-209526443194",
   "metadata": {},
   "outputs": [],
   "source": [
    "from bayspec.model.local import *\n",
    "from bayspec import DataUnit, Data, Pair, Plot"
   ]
  },
  {
   "cell_type": "code",
   "execution_count": 2,
   "id": "d1bf9f57-978d-490d-b0dd-1aa1975ed1cc",
   "metadata": {},
   "outputs": [
    {
     "name": "stdout",
     "output_type": "stream",
     "text": [
      "cpl [add]\n",
      "cutoff power law model\n",
      "╒════════╤═════════════╤═════════════╤═════════╕\n",
      "│  cfg#  │  Component  │  Parameter  │  Value  │\n",
      "╞════════╪═════════════╪═════════════╪═════════╡\n",
      "│   1    │     cpl     │  redshift   │    0    │\n",
      "╘════════╧═════════════╧═════════════╧═════════╛\n",
      "╒════════╤═════════════╤═════════════╤═════════╤═════════════╤══════════╕\n",
      "│  par#  │  Component  │  Parameter  │  Value  │    Prior    │  Frozen  │\n",
      "╞════════╪═════════════╪═════════════╪═════════╪═════════════╪══════════╡\n",
      "│   1    │     cpl     │  $\\alpha$   │   -1    │ unif(-8, 4) │  False   │\n",
      "├────────┼─────────────┼─────────────┼─────────┼─────────────┼──────────┤\n",
      "│   2    │     cpl     │ log$E_{c}$  │    2    │ unif(0, 4)  │  False   │\n",
      "├────────┼─────────────┼─────────────┼─────────┼─────────────┼──────────┤\n",
      "│   3    │     cpl     │   log$A$    │   -1    │ unif(-6, 5) │  False   │\n",
      "╘════════╧═════════════╧═════════════╧═════════╧═════════════╧══════════╛\n",
      "\n"
     ]
    }
   ],
   "source": [
    "model = cpl()\n",
    "print(model)"
   ]
  },
  {
   "cell_type": "code",
   "execution_count": 3,
   "id": "b2606e2d-d492-45c1-bb43-d2445140066e",
   "metadata": {},
   "outputs": [
    {
     "name": "stdout",
     "output_type": "stream",
     "text": [
      "cpl [add]\n",
      "cutoff power law model\n",
      "╒════════╤═════════════╤═════════════╤═════════╕\n",
      "│  cfg#  │  Component  │  Parameter  │  Value  │\n",
      "╞════════╪═════════════╪═════════════╪═════════╡\n",
      "│   1    │     cpl     │  redshift   │    0    │\n",
      "╘════════╧═════════════╧═════════════╧═════════╛\n",
      "╒════════╤═════════════╤═════════════╤═════════╤═════════════╤══════════╕\n",
      "│  par#  │  Component  │  Parameter  │  Value  │    Prior    │  Frozen  │\n",
      "╞════════╪═════════════╪═════════════╪═════════╪═════════════╪══════════╡\n",
      "│   1    │     cpl     │  $\\alpha$   │  -1.56  │ unif(-8, 4) │  False   │\n",
      "├────────┼─────────────┼─────────────┼─────────┼─────────────┼──────────┤\n",
      "│   2    │     cpl     │ log$E_{c}$  │  2.689  │ unif(0, 4)  │  False   │\n",
      "├────────┼─────────────┼─────────────┼─────────┼─────────────┼──────────┤\n",
      "│   3    │     cpl     │   log$A$    │  -0.77  │ unif(-6, 5) │  False   │\n",
      "╘════════╧═════════════╧═════════════╧═════════╧═════════════╧══════════╛\n",
      "\n"
     ]
    }
   ],
   "source": [
    "model.cfg[1].val = 0\n",
    "model.par[1].val = -1.56\n",
    "model.par[2].val = 2.689\n",
    "model.par[3].val = -0.77\n",
    "\n",
    "print(model)"
   ]
  },
  {
   "cell_type": "code",
   "execution_count": 4,
   "id": "e113d24c-0488-49a1-abe0-0757883858e8",
   "metadata": {},
   "outputs": [
    {
     "name": "stdout",
     "output_type": "stream",
     "text": [
      "╒════════╤════════════════╤═════════════╤═════════════════════════════════╤════════╕\n",
      "│  Name  │    Noticing    │  Statistic  │            Grouping             │  Time  │\n",
      "╞════════╪════════════════╪═════════════╪═════════════════════════════════╪════════╡\n",
      "│  nai   │   [[8, 900]]   │   pgstat    │ {'min_sigma': 2, 'max_bin': 10} │  None  │\n",
      "├────────┼────────────────┼─────────────┼─────────────────────────────────┼────────┤\n",
      "│  bgo   │ [[300, 38000]] │   pgstat    │ {'min_sigma': 2, 'max_bin': 10} │  None  │\n",
      "╘════════╧════════════════╧═════════════╧═════════════════════════════════╧════════╛\n",
      "╒════════╤═════════════╤═════════════╤═════════╤═════════╤══════════╕\n",
      "│  par#  │  Component  │  Parameter  │  Value  │  Prior  │  Frozen  │\n",
      "╞════════╪═════════════╪═════════════╪═════════╪═════════╪══════════╡\n",
      "│   1    │     nai     │     sf      │    1    │  None   │   True   │\n",
      "├────────┼─────────────┼─────────────┼─────────┼─────────┼──────────┤\n",
      "│   2    │     nai     │     bf      │    1    │  None   │   True   │\n",
      "├────────┼─────────────┼─────────────┼─────────┼─────────┼──────────┤\n",
      "│   3    │     nai     │     rf      │    1    │  None   │   True   │\n",
      "├────────┼─────────────┼─────────────┼─────────┼─────────┼──────────┤\n",
      "│   4    │     nai     │     ra      │    0    │  None   │   True   │\n",
      "├────────┼─────────────┼─────────────┼─────────┼─────────┼──────────┤\n",
      "│   5    │     nai     │     dec     │    0    │  None   │   True   │\n",
      "├────────┼─────────────┼─────────────┼─────────┼─────────┼──────────┤\n",
      "│   6    │     bgo     │     sf      │    1    │  None   │   True   │\n",
      "├────────┼─────────────┼─────────────┼─────────┼─────────┼──────────┤\n",
      "│   7    │     bgo     │     bf      │    1    │  None   │   True   │\n",
      "├────────┼─────────────┼─────────────┼─────────┼─────────┼──────────┤\n",
      "│   8    │     bgo     │     rf      │    1    │  None   │   True   │\n",
      "├────────┼─────────────┼─────────────┼─────────┼─────────┼──────────┤\n",
      "│   9    │     bgo     │     ra      │    0    │  None   │   True   │\n",
      "├────────┼─────────────┼─────────────┼─────────┼─────────┼──────────┤\n",
      "│   10   │     bgo     │     dec     │    0    │  None   │   True   │\n",
      "╘════════╧═════════════╧═════════════╧═════════╧═════════╧══════════╛\n",
      "\n"
     ]
    }
   ],
   "source": [
    "nai = DataUnit(\n",
    "    src='./ME/me.src', \n",
    "    bkg='./ME/me.bkg', \n",
    "    rsp='./ME/me.rsp', \n",
    "    notc=[8, 900], \n",
    "    stat='pgstat', \n",
    "    grpg={'min_sigma': 2, 'max_bin': 10})\n",
    "\n",
    "bgo = DataUnit(\n",
    "    src='./HE/he.src', \n",
    "    bkg='./HE/he.bkg', \n",
    "    rsp='./HE/he.rsp', \n",
    "    notc=[300, 38000], \n",
    "    stat='pgstat', \n",
    "    grpg={'min_sigma': 2, 'max_bin': 10})\n",
    "\n",
    "data = Data([('nai', nai), \n",
    "             ('bgo', bgo)])\n",
    "\n",
    "print(data)"
   ]
  },
  {
   "cell_type": "code",
   "execution_count": 5,
   "id": "37b46fe9-7c0e-4938-aed8-c8b327f8065c",
   "metadata": {},
   "outputs": [
    {
     "name": "stdout",
     "output_type": "stream",
     "text": [
      "loglike: -209.83709198391588\n",
      "stat/npt: 419.67418396783177/137\n"
     ]
    }
   ],
   "source": [
    "pair = Pair(data, model)\n",
    "print('loglike:', pair.loglike)\n",
    "print('stat/npt:', f'{pair.stat}/{pair.npoint}')"
   ]
  },
  {
   "cell_type": "code",
   "execution_count": 6,
   "id": "a8792b07",
   "metadata": {},
   "outputs": [
    {
     "data": {
      "application/vnd.plotly.v1+json": {
       "config": {
        "plotlyServerURL": "https://plot.ly"
       },
       "data": [
        {
         "error_x": {
          "array": {
           "bdata": "AAAAAMa52j8AAAAAzIvaPwAAAABW0N8/AAAAAMr+3z8AAAAAVzXgPwAAAAAEiuA/AAAAAA/94D8AAAAANXzhPwAAAADC7OE/AAAAAH5h5T8AAAAAWsnlPwAAAAAOGeY/AAAAANJl5j8AAAAAvLrmPwAAAADsF+c/AAAAACzh6j8AAAAAAHLrPwAAAAAiD+w/AAAAAJy47D8AAAAAZJnzPwAAAADwneg/AAAAAEgJ6T8AAAAAXLDpPwAAAABQT+o/AAAAADDs7T8AAAAAQJvuPwAAAAAcP+8/AAAAANzX7z8AAAAAENXxPwAAAABKI/I/AAAAABhq8j8AAAAAfKnyPwAAAABcm/Q/AAAAAFLU9D8AAAAApgP1PwAAAAAo7vY/AAAAACgO9z8AAAAA3CH3PwAAAABk8fg/AAAAAMDq+D8AAAAADNb4PwAAAADogfo/AAAAAPxp+j8AAAAAdFX6PwAAAAAMBPw/AAAAAKz0+z8AAAAAZOn7PwAAAAA8oP0/AAAAABSd/T8AAAAAGF3/PwAAAAD0ZP8/AAAAAC6ZAEAAAAAAlqIAQAAAAADojAFAAAAAAEyXAUAAAAAAnKEBQAAAAABMjgJAAAAAAICZAkAAAAAALIgDQAAAAABkeARAAAAAAISFBEAAAAAAzHcFQAAAAADUhQVAAAAAADh6BkAAAAAALIkGQAAAAACsfwdAAAAAANR3CEAAAAAAwIgIQAAAAAAUgwlAAAAAACB/CkAAAAAABJIKQAAAAAA4kAtAAAAAACyQDEAAAAAA4JENQAAAAAC8pw1AAAAAAJyrDkAAAAAAKLEPQAAAAABEXBBAAAAAAJxoEEAAAAAASO0QQAAAAADYchFAAAAAADj5EUAAAAAAcIASQAAAAAB8CBNAAAAAAFiRE0AAAAAA/BoUQAAAAABkpRRAAAAAAIwwFUAAAAAAbLwVQAAAAAAESRZAAAAAADzWFkAAAAAAGGQXQAAAAADYbxhAAAAAAIz/GEAAAAAAwI8ZQAAAAABkIBpAAAAAAGSxGkAAAAAAzMEbQAAAAAAMVBxAAAAAAHjmHEAAAAAAEPkdQAAAAAA4jB5AAAAAAOifH0AAAAAAtBkgQAAAAADgoyBAAAAAAHztIEAAAAAAzLwxQAAAAAALGUNAAAAAAOgWU0A=",
           "dtype": "f8"
          },
          "arrayminus": {
           "bdata": "AAAAAMa52j8AAAAAzIvaPwAAAABW0N8/AAAAAMr+3z8AAAAAVzXgPwAAAAAEiuA/AAAAAA/94D8AAAAANXzhPwAAAADC7OE/AAAAAH5h5T8AAAAAWsnlPwAAAAAOGeY/AAAAANJl5j8AAAAAvLrmPwAAAADsF+c/AAAAACzh6j8AAAAAAHLrPwAAAAAiD+w/AAAAAJy47D8AAAAAZJnzPwAAAADwneg/AAAAAEgJ6T8AAAAAXLDpPwAAAABQT+o/AAAAADDs7T8AAAAAQJvuPwAAAAAcP+8/AAAAANzX7z8AAAAAENXxPwAAAABKI/I/AAAAABhq8j8AAAAAfKnyPwAAAABcm/Q/AAAAAFLU9D8AAAAApgP1PwAAAAAo7vY/AAAAACgO9z8AAAAA3CH3PwAAAABk8fg/AAAAAMDq+D8AAAAADNb4PwAAAADogfo/AAAAAPxp+j8AAAAAdFX6PwAAAAAMBPw/AAAAAKz0+z8AAAAAZOn7PwAAAAA8oP0/AAAAABSd/T8AAAAAGF3/PwAAAAD0ZP8/AAAAAC6ZAEAAAAAAlqIAQAAAAADojAFAAAAAAEyXAUAAAAAAnKEBQAAAAABMjgJAAAAAAICZAkAAAAAALIgDQAAAAABkeARAAAAAAISFBEAAAAAAzHcFQAAAAADUhQVAAAAAADh6BkAAAAAALIkGQAAAAACsfwdAAAAAANR3CEAAAAAAwIgIQAAAAAAUgwlAAAAAACB/CkAAAAAABJIKQAAAAAA4kAtAAAAAACyQDEAAAAAA4JENQAAAAAC8pw1AAAAAAJyrDkAAAAAAKLEPQAAAAABEXBBAAAAAAJxoEEAAAAAASO0QQAAAAADYchFAAAAAADj5EUAAAAAAcIASQAAAAAB8CBNAAAAAAFiRE0AAAAAA/BoUQAAAAABkpRRAAAAAAIwwFUAAAAAAbLwVQAAAAAAESRZAAAAAADzWFkAAAAAAGGQXQAAAAADYbxhAAAAAAIz/GEAAAAAAwI8ZQAAAAABkIBpAAAAAAGSxGkAAAAAAzMEbQAAAAAAMVBxAAAAAAHjmHEAAAAAAEPkdQAAAAAA4jB5AAAAAAOifH0AAAAAAtBkgQAAAAADgoyBAAAAAAHztIEAAAAAAzLwxQAAAAAALGUNAAAAAAOgWU0A=",
           "dtype": "f8"
          },
          "color": "#636EFA",
          "symmetric": false,
          "thickness": 1.5,
          "type": "data",
          "width": 0
         },
         "error_y": {
          "array": {
           "bdata": "pvBVG7N3/z/IVF6fqAABQI38BA80PQVA1l7eJJpqB0CeLHLHmCcKQLkAwFPjjQtAP/yEwPLjDEDiDasqdGoOQNhpf8plvA9AYeNuopSuEUCNLoeUSGoRQIf3700zQRFAJx8R6oq1EUDRLbhginQRQDf0y/TN6hBAW71TznQpEUABMqeEZwsRQJZIYTijchBAIwBjZc5BD0DEpYNX2s8MQMYIEN00VgxAvy1ZhOBHCUAAUTKOP5cIQEK4PCtDYAZA06AiFRfPBkATeMCPMh8HQMa7tubW9AVAOAwyBM94BkA26pXSMEMGQDOb3R0eBQZAQI1rmaK0BUAMbUMrjuMEQF4EnfhScQVAODlJKB5fBUBIVB1RWZgFQKfVY8jo9gVAVVmutBFTBEB0zrINPMIEQEdLF779MQRAd8kxRsglBEBU46+c9sUDQHicFa0aWwNAmsveVPQVA0DMvmJGpcICQMHU+jWqZgNAR3S7Bt2xAUCK8py3+7kAQJJAQ5diGAJAFRL0UfLtAUDzaUejhioBQDCYFZjtmwBAG+bitsEGAUBkw5xPzNv/P/L99TRS/P8/qB/L4nA4/z924qdu7079P5t/0SX9pP4/T7pjsyeQ/D/Csa7Vv9P9Pz9JCTVAFP0/EZyEZPb7+j/Ggkvcgkf7P2ncopol9/k/ldfygWBP+z9+arLIlin4PyD19VV8svc/oaHoHolJ+D9D8/2KRZf2P4fq4qPyavc/3GiHaCsv9D8xZmy07Lf0P2AyUSnNDvQ/9jg3a8h48z8f1s6gmAryP4CJSZy00/I/D9WirNPR8D8xs+oc9FzxP7N9XxfKKfA/l/fhucH97z+A4omYbBLtP0Kt7ACobe0/fXhP98XD7T/Bj7yc2L7pPw/0SxRH8+w/tvp9Y5bz5z/dHmGbiCzoP2H76wqhl+g/gTfwzz6g5T9UeqJggsHnPx22DsDMi+g/lrkqge1P4z8ZMfXQ7FLjPzU1qRORhuM/aZQ7EQ8J5T9CRAv9okvgPw8MYRr9KOI/XxbOozFy4j8tv0xIakThP6zJPQHQ3+E/U5KbX0eO4T/pmqOIc9PhP9dHqEeGduE/4ujd3Ikk3z/287YzTf7cPx4ZyeGJvt8/seTCKw2C4D8YwNfXo4HkP0Av9WGepOg/wFd5ze7c7T8=",
           "dtype": "f8"
          },
          "color": "#636EFA",
          "thickness": 1.5,
          "type": "data",
          "width": 0
         },
         "marker": {
          "color": "#636EFA",
          "size": 0,
          "symbol": "cross-thin"
         },
         "mode": "markers",
         "name": "obs of nai",
         "showlegend": false,
         "type": "scatter",
         "x": {
          "bdata": "AAAAwO3+IEAAAABAGqkiQAAAAED7eyRAAAAAQHR6JkAAAAAAwH0oQAAAAMC1iSpAAAAAACeiLEAAAABAu8kuQAAAAEAlgDBAAAAAQJe6MUAAAAAA7hMzQAAAAEABczRAAAAAQPjWNUAAAADA/D83QAAAAACSrjhAAAAAwFo+OkAAAAAg9PA7QAAAAED9rD1AAAAAIDtzP0AAAAAgS8lAQAAAAACOyEFAAAAA4CqPQkAAAACAEVpDQAAAACAQKkRAAAAAIP4KRUAAAADgG/1FQAAAAECF9EZAAAAAQOHwR0AAAAAg6f5IQAAAAACsHkpAAAAAABdDS0AAAACgs2tMQAAAAGDapU1AAAAAwFfxTkAAAADACyBQQAAAAADTz1BAAAAAQMSHUUAAAABAhEBSQAAAAEDRAFNAAAAA4EHIU0AAAAAARY9UQAAAAOCkXFVAAAAAgFQwVkAAAABAUgNXQAAAAEC43FdAAAAAAJu8WEAAAABAE5xZQAAAAMA5glpAAAAAAC9vW0AAAADAF2NcQAAAAAAgXl1AAAAAQH1gXkAAAABAW2pfQAAAAKDrPWBAAAAAgHzKYEAAAAAAYFdhQAAAAMAf6GFAAAAA4L58YkAAAACARRVjQAAAAMBHtWNAAAAAgD9ZZEAAAADANAFlQAAAAEArrWVAAAAAYCtdZkAAAAAAORFnQAAAAEBcyWdAAAAAQDqJaEAAAACgPE1pQAAAAABsFWpAAAAAwHTlakAAAABAublrQAAAAEBCkmxAAAAAwMNybUAAAAAATFtuQAAAAIAySG9AAAAA4L8ccEAAAACAeZlwQAAAAMBMGnFAAAAAQGCdcUAAAADgtyJyQAAAAGA4rHJAAAAAoOg5c0AAAABAz8tzQAAAAADzYXRAAAAAQFr8dEAAAACAC5t1QAAAAAANPnZAAAAAwGTldkAAAADAGJF3QAAAAIAuQXhAAAAAgKv1eEAAAADAlK55QAAAAIDkbXpAAAAAAKIze0AAAABA3/17QAAAAMCfzHxAAAAAAOeffUAAAADAs3l+QAAAAAALWn9AAAAAgHofgEAAAACgOZWAQAAAAEBEDoFAAAAAgJyKgUAAAAAAQwqCQAAAAGA5jYJAAAAAwH4Tg0AAAAAgG+WDQAAAAECSpIVAAAAA4P84iUA=",
          "dtype": "f8"
         },
         "xaxis": "x",
         "y": {
          "bdata": "VpAvfIQxPkBwJ4cgF9FAQMTNwkZBx0pAIr3CbW4jUEDkmInMe3RUQMK4bSduxVZA3FfNXXreWEC63H3pIzZcQE4ikN+f215A69QAQCWfY0BtOY8B/PViQLYBlDGTqmJAPk0YBvHgY0Bybf7iK0FjQGqy5XceU2JAaB60tE2bYkA6L3oiOYViQHIbQBmLB2FAEWWl0xppXkBnA567+cZZQCCWoBlEbVlAXWFUkZtEVEDvdD5e2KdTQPz5tH7emE9AQN1FALOhUEDDD3Hs1EZRQKe5hrsaME9A3RwhxLClUEBaF9kFZARQQM3/dBf9H09A5t9BwZ9hTkB4lSa912FMQCaYrCWb+k1Ak9O9iymATUDy7l+u1tJNQAFrUl5Gdk5ANquTL4mzSUDnMQCLjNZLQH/fZpxjfUpAz91cEgHdSkAV0f23shhKQGu7LjyDtUhA8Uxlf/cHSECceUYrVm9HQAiC7jWCFElAUqp6m6RpRECc2c1guW9CQInftZfC/kVAd9gVleK+RUAlyI2Wp6RDQMy1+YuVmkJAWvM+nKWBQ0Acf8mV5O1AQI9mJHX0+UBA/9SeNmFpQEAV038cnT88QPJgtBi1hj9AhRaZFGkrO0CwYtLxtKQ9QArHJMYfjzxAfepscXjmN0BZsIpwRKM4QC/Hm1+9LjZAxOvWgkyjOEC8RA2x3DMyQBCuGtleSzFASXZGZhZLMkBRL91s5cUvQBwfQmDpyjFAGg2w1/WOKUDbFBkyq8orQFnT46eDSSlAJWQCmG1uJ0DSUjlnK4gjQIxDBuqgnSVADOY+iFy6IEAeU+ztzDMiQHLH/+p3pB5AmNZFdjnIHUBBS1v1aCEXQNja6HYWLBhArtAikxreGEB3h5j9Cp0RQC3nMQAvNRlAOyLy6NVqEEDX5i9+xpwQQMJut+8yJxFAclhuF8eMCEC+BSKihO4PQMSyrE1FdBFABxugoNDXAUCy/gtHnxYAQFDHTaVwIwJA5E2SYuVMCUDM+i8cvRzxP8G268Ij9f0/Ru5bqlmr/T+07X9EQ+P2PyzRYAIzbfc/TI5eHEMj9T+yYVYTIKP3Pzh6cYzjrvo/QtZD9FyK8D+kKxbSXibtP+BLS6rglPY/uxsuTC6O+D88PkkU/X38Pw6iDn7k7v0/sFREMiwuAkA=",
          "dtype": "f8"
         },
         "yaxis": "y"
        },
        {
         "line": {
          "color": "#636EFA",
          "width": 2
         },
         "mode": "lines",
         "name": "nai",
         "showlegend": true,
         "type": "scatter",
         "x": {
          "bdata": "AAAAwO3+IEAAAABAGqkiQAAAAED7eyRAAAAAQHR6JkAAAAAAwH0oQAAAAMC1iSpAAAAAACeiLEAAAABAu8kuQAAAAEAlgDBAAAAAQJe6MUAAAAAA7hMzQAAAAEABczRAAAAAQPjWNUAAAADA/D83QAAAAACSrjhAAAAAwFo+OkAAAAAg9PA7QAAAAED9rD1AAAAAIDtzP0AAAAAgS8lAQAAAAACOyEFAAAAA4CqPQkAAAACAEVpDQAAAACAQKkRAAAAAIP4KRUAAAADgG/1FQAAAAECF9EZAAAAAQOHwR0AAAAAg6f5IQAAAAACsHkpAAAAAABdDS0AAAACgs2tMQAAAAGDapU1AAAAAwFfxTkAAAADACyBQQAAAAADTz1BAAAAAQMSHUUAAAABAhEBSQAAAAEDRAFNAAAAA4EHIU0AAAAAARY9UQAAAAOCkXFVAAAAAgFQwVkAAAABAUgNXQAAAAEC43FdAAAAAAJu8WEAAAABAE5xZQAAAAMA5glpAAAAAAC9vW0AAAADAF2NcQAAAAAAgXl1AAAAAQH1gXkAAAABAW2pfQAAAAKDrPWBAAAAAgHzKYEAAAAAAYFdhQAAAAMAf6GFAAAAA4L58YkAAAACARRVjQAAAAMBHtWNAAAAAgD9ZZEAAAADANAFlQAAAAEArrWVAAAAAYCtdZkAAAAAAORFnQAAAAEBcyWdAAAAAQDqJaEAAAACgPE1pQAAAAABsFWpAAAAAwHTlakAAAABAublrQAAAAEBCkmxAAAAAwMNybUAAAAAATFtuQAAAAIAySG9AAAAA4L8ccEAAAACAeZlwQAAAAMBMGnFAAAAAQGCdcUAAAADgtyJyQAAAAGA4rHJAAAAAoOg5c0AAAABAz8tzQAAAAADzYXRAAAAAQFr8dEAAAACAC5t1QAAAAAANPnZAAAAAwGTldkAAAADAGJF3QAAAAIAuQXhAAAAAgKv1eEAAAADAlK55QAAAAIDkbXpAAAAAAKIze0AAAABA3/17QAAAAMCfzHxAAAAAAOeffUAAAADAs3l+QAAAAAALWn9AAAAAgHofgEAAAACgOZWAQAAAAEBEDoFAAAAAgJyKgUAAAAAAQwqCQAAAAGA5jYJAAAAAwH4Tg0AAAAAgG+WDQAAAAECSpIVAAAAA4P84iUA=",
          "dtype": "f8"
         },
         "xaxis": "x",
         "y": {
          "bdata": "aABYhiDIOECcEhhU3aFBQKC4CBK+9UxAh+31kbNgUkBQh/IcVRdWQJC3wU3Sz1lAB8vxgYTFXEAOx1lB5YFeQD6X1Ze2y19AKuM6zeYIY0DZf7J7KBNjQAxsFs02s2JAYWQSN4cfYkBYqXZNCGdhQKYu7JJimmBA/BHCMwMPYkCX0m00HvNgQPVSsGKpTF9Aissu23Z+XEDFAuETvYdgQAfwvPxi41FAHBU5m/LZUEC4nXv3nnBQQPlqRnc0FFBAptAo1BRVUUBMXHyibdZQQMj/wgQoZVBA9vqEEDWxT0A8RWhgBMlQQK5VdzONO1BAxCnG9rByT0Cyrnoa7XtOQEkpjG4iDFBAB+YCQB3ZTkBonDNXP6xNQCNWSt422U5A7Ufyxg94TUBSa/LlCRxMQBWXcTOk0UxA7oXBrOJfS0BK+fDam/hJQM4k6+crUkpA/Nw+hQvgSEDETU9chopHQLIv69QowkdAFgaU9yx9RkBeSXntwUhFQAbXXRLWTkVAYFohq0IKREB5n0k6DgJEQK47FD5R6kJAVLOtvwLdQkBnxEdERslBQA6KelEXpEFAFCbBS3SYQEAKZPjHpio/QK6E6jltpz5A2Voo9Wy0PEDU7AUG2jA8QIZ1zbf/iztAH0jSqrmqOUC0MrUltNc4QOfm6MsS9zZAe2l3//gRNkBwgto0GV00QIry8MqpiDNApE086DSgMkAcul2a/AUxQAj57p+6FDBApG8tW5FOLkDiqMy8W6ErQGSXDvVcGCpADikhMhWRKEBmJjD2qf8mQFb8NU6x0yRAV6gvis1zI0AYzHxTby4iQCb2u74A9yBACuP1Q/q+HkDj7mH9LaMcQJILL3pgnhpAOGHwBwrFGEA2rrnww/4WQKBOrJWoThVA7kqKc5qpE0CpaDsZA/8RQNmdmpNlhhBAM5hu1ylaDkCmLFV8Vg8MQEJczFRI9glAKXtnea/yB0DJrHqc1RgGQLKROhdxsgRARxIu+Y78AkA6yqfzpWoBQAsN89MW3P8/Tq9BtjED/T+0sZqut936PwtL7aiDgPg/IAe871Ne9j/aNz1g1b/0PwricE269vI/trQUBTev8T/8EJnyYEHwP07Oao06V+4/FDh/pXrK6z+G6JdtRIn4P/X6t/1KzQJA0S7P/eH/A0A=",
          "dtype": "f8"
         },
         "yaxis": "y"
        },
        {
         "marker": {
          "color": "#636EFA",
          "line": {
           "color": "#636EFA",
           "width": 1.5
          },
          "size": 10,
          "symbol": "cross-thin"
         },
         "mode": "markers",
         "name": "res of nai",
         "showlegend": false,
         "type": "scatter",
         "x": {
          "bdata": "AAAAwO3+IEAAAABAGqkiQAAAAED7eyRAAAAAQHR6JkAAAAAAwH0oQAAAAMC1iSpAAAAAACeiLEAAAABAu8kuQAAAAEAlgDBAAAAAQJe6MUAAAAAA7hMzQAAAAEABczRAAAAAQPjWNUAAAADA/D83QAAAAACSrjhAAAAAwFo+OkAAAAAg9PA7QAAAAED9rD1AAAAAIDtzP0AAAAAgS8lAQAAAAACOyEFAAAAA4CqPQkAAAACAEVpDQAAAACAQKkRAAAAAIP4KRUAAAADgG/1FQAAAAECF9EZAAAAAQOHwR0AAAAAg6f5IQAAAAACsHkpAAAAAABdDS0AAAACgs2tMQAAAAGDapU1AAAAAwFfxTkAAAADACyBQQAAAAADTz1BAAAAAQMSHUUAAAABAhEBSQAAAAEDRAFNAAAAA4EHIU0AAAAAARY9UQAAAAOCkXFVAAAAAgFQwVkAAAABAUgNXQAAAAEC43FdAAAAAAJu8WEAAAABAE5xZQAAAAMA5glpAAAAAAC9vW0AAAADAF2NcQAAAAAAgXl1AAAAAQH1gXkAAAABAW2pfQAAAAKDrPWBAAAAAgHzKYEAAAAAAYFdhQAAAAMAf6GFAAAAA4L58YkAAAACARRVjQAAAAMBHtWNAAAAAgD9ZZEAAAADANAFlQAAAAEArrWVAAAAAYCtdZkAAAAAAORFnQAAAAEBcyWdAAAAAQDqJaEAAAACgPE1pQAAAAABsFWpAAAAAwHTlakAAAABAublrQAAAAEBCkmxAAAAAwMNybUAAAAAATFtuQAAAAIAySG9AAAAA4L8ccEAAAACAeZlwQAAAAMBMGnFAAAAAQGCdcUAAAADgtyJyQAAAAGA4rHJAAAAAoOg5c0AAAABAz8tzQAAAAADzYXRAAAAAQFr8dEAAAACAC5t1QAAAAAANPnZAAAAAwGTldkAAAADAGJF3QAAAAIAuQXhAAAAAgKv1eEAAAADAlK55QAAAAIDkbXpAAAAAAKIze0AAAABA3/17QAAAAMCfzHxAAAAAAOeffUAAAADAs3l+QAAAAAALWn9AAAAAgHofgEAAAACgOZWAQAAAAEBEDoFAAAAAgJyKgUAAAAAAQwqCQAAAAGA5jYJAAAAAwH4Tg0AAAAAgG+WDQAAAAECSpIVAAAAA4P84iUA=",
          "dtype": "f8"
         },
         "xaxis": "x2",
         "y": {
          "bdata": "Mcy53FIDBkCjAdo91o7ov3GlaJWXS/q/0k2uv0Z7CMD8nTpYqQMAwEzubBvZPwzAzqdpaUdKEcBH9P3o8FIDwMayWajEQu6/+BaueXn+8D9ZUNY8lc3KvxIluMCTBbC//166Y6FgCUACcHlswykLQB4QGbxqDQpA78Gg5F1Z8D/Q53SsZ5cHQOxUK3mJeQVALwml7dZk/z9ss/w+ny0gwLRzaW+7BiFAq8Pg/4VMEUAHYJMVC70QQIYkjv/kqNm/9BkdGE1177++1GamBXLjP3sZg07PrvK/X8YY97JA8j+4zM87Farxv88spO/1Ke+/P9lBXTYp6b+38a19YsL5v92wfbTPQvm/C1iyTwUk8L8ensymr5e8P0JF3ImgBNK/eGJJLGm6B8B8j6ijqcfKvzcCMU47hv2/7i+iagj82b+L+884Pfe5P8q37BLPUfW/2aYpVJOk5r/TSGt3FzC3v7hOGEKTcPE/AqDf6vgJ/r9iKW7y8soFwL47HVy3ceM/Ue9zlzJa+D9OOJ3vlsPVv2EHL6/JM9O/80wMm8RW4z8l/rcYX4vrvw4c1rvNRuW/5cjzZf0fyL9coohyKX35vzAaDgEIJd0/vOb+MOKE67+m/qk0G+/oP2Kz0YZ00uE/bTFMNY3C8L8j3aspVcG+v8C8GNeS3N6/wH1EjaoR+D/05lzkguX2v/rD0SpCMfi/4mo0nJgJzL8eoSqdGMTpv5GegfsntvI/8UBfF94c/r96zR9Z/OavP5wkKuUQoNS/S/xvHZna3b8f7UWHl5j4v5w+Hj6nc9U/1sEWx6K79L+k4LgyEseDP0rnvXtOCOq/09S0ZEPazr++KRENBz/4v0ZpUzEmSOW/oYHZKGnymj8TENz0rsH6v1MLK0LZPvE/nPSeEbtX8b+rPDU2q07dv3EPvWKmJ8o/whCHLtwr8b8rcbA8ndzkP/n6OpB7U/c/xblzCEw79L+YlBXpfebzv5VOyarZxeC/JtwRy7E18z8X8YL+TWYBwByXk5Vx0Mq/bWciZXA7sj/4z9pfrn3dv7OXNCBFzr6/YlJbfFHywb92gOnPgbzUP/WMvPJrSuw/ECp7epzOwr9OHmXk4KzNvwwXsUwv4u0/RbI8UOyp9D8PxyaGW7HYP0mdd2Df6+O/f1sl25Mwz78=",
          "dtype": "f8"
         },
         "yaxis": "y2"
        },
        {
         "error_x": {
          "array": {
           "bdata": "AAAAADg1MUAAAAAA2jExQAAAAADCLjFAAAAAAO8rMUAAAAAAXykxQAAAAAAXJzFAAAAAALDbNkAAAAAAvNg2QAAAAABu1jZAAAAAAMDUNkAAAAAAttM2QAAAAABQ0zZAAAAAAIzTNkAAAAAAbtQ2QAAAAADy1TZAAAAAABjYNkAAAAAAs7hJQAAAAAAcnTxAAAAAANizXEAAAABA4ix1QAAAAEDojXpAAAAAAAkRgUAAAADA8eWFQAAAAICh6YxAAAAAgILCk0AAAACAKuacQAAAAACHCqdAAAAAQMagwEA=",
           "dtype": "f8"
          },
          "arrayminus": {
           "bdata": "AAAAADg1MUAAAAAA2jExQAAAAADCLjFAAAAAAO8rMUAAAAAAXykxQAAAAAAXJzFAAAAAALDbNkAAAAAAvNg2QAAAAABu1jZAAAAAAMDUNkAAAAAAttM2QAAAAABQ0zZAAAAAAIzTNkAAAAAAbtQ2QAAAAADy1TZAAAAAABjYNkAAAAAAs7hJQAAAAAAcnTxAAAAAANizXEAAAABA4ix1QAAAAEDojXpAAAAAAAkRgUAAAADA8eWFQAAAAICh6YxAAAAAgILCk0AAAACAKuacQAAAAACHCqdAAAAAQMagwEA=",
           "dtype": "f8"
          },
          "color": "#EF553B",
          "symmetric": false,
          "thickness": 1.5,
          "type": "data",
          "width": 0
         },
         "error_y": {
          "array": {
           "bdata": "wx7TEmmKCkAg0HUDz0wJQKqPam/MWAdAeC+wqEjsA0ANT3NSXJEDQOFnqFEycgJAEjIUkpEHBEDci0b7BusBQBZO/LTgMf8/hIBneYgb+j/mmyO2LXv6P+XfntdjOfk/7d7UUhR/+T8w7WlROwH6PxRpWGv+6PY//Zt79lsz9z89XCF7RaoCQLq+0r+lO/o/z84d2dZdBkCEtYlKlPYQQOPzBAbcwwdAsruiQz0JAUAZ4zPQU0r0PwazUs8BKvE/L+UI9T+f7j/KLml6QNztP4ep3ZfJRO4/zr8gb1/Z8z8=",
           "dtype": "f8"
          },
          "color": "#EF553B",
          "thickness": 1.5,
          "type": "data",
          "width": 0
         },
         "marker": {
          "color": "#EF553B",
          "size": 0,
          "symbol": "cross-thin"
         },
         "mode": "markers",
         "name": "obs of bgo",
         "showlegend": false,
         "type": "scatter",
         "x": {
          "bdata": "AAAAoJ2SdEAAAADADrl2QAAAAIAY33hAAAAAgMMEe0AAAACAGCp9QAAAAMAfT39AAAAAIKbngEAAAACASVWCQAAAAMDCwoNAAAAAQBwwhUAAAAAAYJ2GQAAAACCYCohAAAAAAM93iUAAAADADuWKQAAAAMBhUoxAAAAAINK/jUAAAAAADwmQQAAAAABJSZFAAAAAAPuGk0AAAAAAcZ2aQAAAAOARRqNAAAAAIBHcqkAAAADg50yyQAAAAEDaprhAAAAAgFeawEAAAABAba/GQAAAACBqB9BAAAAAIB4520A=",
          "dtype": "f8"
         },
         "xaxis": "x",
         "y": {
          "bdata": "LEihVmRqUkBE9V2il8RNQEvCkjjvuEhAjVaI/BcXQkCCGYtUiLdBQGvgO01+QzpASEMTzFfpOUABOHNOkZs3QPf9J86eyTFABvf+pWZNIkDaN7GZY4QlQGJ9Mt1wkR1AtIZcgcXvHEBoKjapTmceQMhHo/1RKQ9A6KndqDxnDEDMne5JBdIgQICj50R8pAtAwCoPPreHF0DAv6CQCj8JQACLUffQcwBAAP4h2gs5BECgTZFVPzjmP8CHqHZUEto/ILPABXt25r/gs31gbXXkv5B79WZup+i/4ODXFE20/L8=",
          "dtype": "f8"
         },
         "yaxis": "y"
        },
        {
         "line": {
          "color": "#EF553B",
          "width": 2
         },
         "mode": "lines",
         "name": "bgo",
         "showlegend": true,
         "type": "scatter",
         "x": {
          "bdata": "AAAAoJ2SdEAAAADADrl2QAAAAIAY33hAAAAAgMMEe0AAAACAGCp9QAAAAMAfT39AAAAAIKbngEAAAACASVWCQAAAAMDCwoNAAAAAQBwwhUAAAAAAYJ2GQAAAACCYCohAAAAAAM93iUAAAADADuWKQAAAAMBhUoxAAAAAINK/jUAAAAAADwmQQAAAAABJSZFAAAAAAPuGk0AAAAAAcZ2aQAAAAOARRqNAAAAAIBHcqkAAAADg50yyQAAAAEDaprhAAAAAgFeawEAAAABAba/GQAAAACBqB9BAAAAAIB4520A=",
          "dtype": "f8"
         },
         "xaxis": "x",
         "y": {
          "bdata": "dzA9w9uVUUAn55RWf79LQPqIwEEGM0ZAyd7k7tkZQkAyh69krqo9QL6tqXeQUThAzzht1cg/OkDEw7ib79c0QPr79S0MoTBAbwGsglfwKkBXFKqll+8lQOv39ylu9SFA8Z9NZoyeHUDWYCSk1JkYQM9heNukdBRAkA/IjdwaEUBgLLGEEE4dQPUidmWaCwhAeKoZsznIHUCedYL/eLcXQMAbDDSVGus/VoUmOmDctz+G3f2fig16P/KiTtIUZi8/ggdUEP8Vzj6QFSCsYE5MPuBiCt98+5M97nV6u63SdDw=",
          "dtype": "f8"
         },
         "yaxis": "y"
        },
        {
         "marker": {
          "color": "#EF553B",
          "line": {
           "color": "#EF553B",
           "width": 1.5
          },
          "size": 10,
          "symbol": "cross-thin"
         },
         "mode": "markers",
         "name": "res of bgo",
         "showlegend": false,
         "type": "scatter",
         "x": {
          "bdata": "AAAAoJ2SdEAAAADADrl2QAAAAIAY33hAAAAAgMMEe0AAAACAGCp9QAAAAMAfT39AAAAAIKbngEAAAACASVWCQAAAAMDCwoNAAAAAQBwwhUAAAAAAYJ2GQAAAACCYCohAAAAAAM93iUAAAADADuWKQAAAAMBhUoxAAAAAINK/jUAAAAAADwmQQAAAAABJSZFAAAAAAPuGk0AAAAAAcZ2aQAAAAOARRqNAAAAAIBHcqkAAAADg50yyQAAAAEDaprhAAAAAgFeawEAAAABAba/GQAAAACBqB9BAAAAAIB4520A=",
          "dtype": "f8"
         },
         "xaxis": "x2",
         "y": {
          "bdata": "USJfEQQE8D8Eslf3QXD0P0gyH2tyqvs/yJj1RYa3gb+UG25IxtwCQPUfwPdm/uo/YLLERkZDwb9HWgr7Db/zP7s/QgukA+M/xZGAaOUrBcDBLGKecTHAvyHQeNYXHPC/vGF/r3tru7/cKI1Aw4/sP4qgxI+LPOu/0+gXnIoE4L+drNon5rvdP2/N/NFOjdE/9RTStbjj4b/ZoHedY+3kvyj/o44WD9o/1A0pCepK8j+0r13KZFzhP7d9uIUCStg/W4dRZkV5578EpJT3tuzlv4i5vCxuEOq/LR39JVQj978=",
          "dtype": "f8"
         },
         "yaxis": "y2"
        }
       ],
       "layout": {
        "height": 700,
        "legend": {
         "x": 1,
         "xanchor": "right",
         "y": 1,
         "yanchor": "bottom"
        },
        "template": {
         "data": {
          "bar": [
           {
            "error_x": {
             "color": "#2a3f5f"
            },
            "error_y": {
             "color": "#2a3f5f"
            },
            "marker": {
             "line": {
              "color": "white",
              "width": 0.5
             },
             "pattern": {
              "fillmode": "overlay",
              "size": 10,
              "solidity": 0.2
             }
            },
            "type": "bar"
           }
          ],
          "barpolar": [
           {
            "marker": {
             "line": {
              "color": "white",
              "width": 0.5
             },
             "pattern": {
              "fillmode": "overlay",
              "size": 10,
              "solidity": 0.2
             }
            },
            "type": "barpolar"
           }
          ],
          "carpet": [
           {
            "aaxis": {
             "endlinecolor": "#2a3f5f",
             "gridcolor": "#C8D4E3",
             "linecolor": "#C8D4E3",
             "minorgridcolor": "#C8D4E3",
             "startlinecolor": "#2a3f5f"
            },
            "baxis": {
             "endlinecolor": "#2a3f5f",
             "gridcolor": "#C8D4E3",
             "linecolor": "#C8D4E3",
             "minorgridcolor": "#C8D4E3",
             "startlinecolor": "#2a3f5f"
            },
            "type": "carpet"
           }
          ],
          "choropleth": [
           {
            "colorbar": {
             "outlinewidth": 0,
             "ticks": ""
            },
            "type": "choropleth"
           }
          ],
          "contour": [
           {
            "colorbar": {
             "outlinewidth": 0,
             "ticks": ""
            },
            "colorscale": [
             [
              0,
              "#0d0887"
             ],
             [
              0.1111111111111111,
              "#46039f"
             ],
             [
              0.2222222222222222,
              "#7201a8"
             ],
             [
              0.3333333333333333,
              "#9c179e"
             ],
             [
              0.4444444444444444,
              "#bd3786"
             ],
             [
              0.5555555555555556,
              "#d8576b"
             ],
             [
              0.6666666666666666,
              "#ed7953"
             ],
             [
              0.7777777777777778,
              "#fb9f3a"
             ],
             [
              0.8888888888888888,
              "#fdca26"
             ],
             [
              1,
              "#f0f921"
             ]
            ],
            "type": "contour"
           }
          ],
          "contourcarpet": [
           {
            "colorbar": {
             "outlinewidth": 0,
             "ticks": ""
            },
            "type": "contourcarpet"
           }
          ],
          "heatmap": [
           {
            "colorbar": {
             "outlinewidth": 0,
             "ticks": ""
            },
            "colorscale": [
             [
              0,
              "#0d0887"
             ],
             [
              0.1111111111111111,
              "#46039f"
             ],
             [
              0.2222222222222222,
              "#7201a8"
             ],
             [
              0.3333333333333333,
              "#9c179e"
             ],
             [
              0.4444444444444444,
              "#bd3786"
             ],
             [
              0.5555555555555556,
              "#d8576b"
             ],
             [
              0.6666666666666666,
              "#ed7953"
             ],
             [
              0.7777777777777778,
              "#fb9f3a"
             ],
             [
              0.8888888888888888,
              "#fdca26"
             ],
             [
              1,
              "#f0f921"
             ]
            ],
            "type": "heatmap"
           }
          ],
          "histogram": [
           {
            "marker": {
             "pattern": {
              "fillmode": "overlay",
              "size": 10,
              "solidity": 0.2
             }
            },
            "type": "histogram"
           }
          ],
          "histogram2d": [
           {
            "colorbar": {
             "outlinewidth": 0,
             "ticks": ""
            },
            "colorscale": [
             [
              0,
              "#0d0887"
             ],
             [
              0.1111111111111111,
              "#46039f"
             ],
             [
              0.2222222222222222,
              "#7201a8"
             ],
             [
              0.3333333333333333,
              "#9c179e"
             ],
             [
              0.4444444444444444,
              "#bd3786"
             ],
             [
              0.5555555555555556,
              "#d8576b"
             ],
             [
              0.6666666666666666,
              "#ed7953"
             ],
             [
              0.7777777777777778,
              "#fb9f3a"
             ],
             [
              0.8888888888888888,
              "#fdca26"
             ],
             [
              1,
              "#f0f921"
             ]
            ],
            "type": "histogram2d"
           }
          ],
          "histogram2dcontour": [
           {
            "colorbar": {
             "outlinewidth": 0,
             "ticks": ""
            },
            "colorscale": [
             [
              0,
              "#0d0887"
             ],
             [
              0.1111111111111111,
              "#46039f"
             ],
             [
              0.2222222222222222,
              "#7201a8"
             ],
             [
              0.3333333333333333,
              "#9c179e"
             ],
             [
              0.4444444444444444,
              "#bd3786"
             ],
             [
              0.5555555555555556,
              "#d8576b"
             ],
             [
              0.6666666666666666,
              "#ed7953"
             ],
             [
              0.7777777777777778,
              "#fb9f3a"
             ],
             [
              0.8888888888888888,
              "#fdca26"
             ],
             [
              1,
              "#f0f921"
             ]
            ],
            "type": "histogram2dcontour"
           }
          ],
          "mesh3d": [
           {
            "colorbar": {
             "outlinewidth": 0,
             "ticks": ""
            },
            "type": "mesh3d"
           }
          ],
          "parcoords": [
           {
            "line": {
             "colorbar": {
              "outlinewidth": 0,
              "ticks": ""
             }
            },
            "type": "parcoords"
           }
          ],
          "pie": [
           {
            "automargin": true,
            "type": "pie"
           }
          ],
          "scatter": [
           {
            "fillpattern": {
             "fillmode": "overlay",
             "size": 10,
             "solidity": 0.2
            },
            "type": "scatter"
           }
          ],
          "scatter3d": [
           {
            "line": {
             "colorbar": {
              "outlinewidth": 0,
              "ticks": ""
             }
            },
            "marker": {
             "colorbar": {
              "outlinewidth": 0,
              "ticks": ""
             }
            },
            "type": "scatter3d"
           }
          ],
          "scattercarpet": [
           {
            "marker": {
             "colorbar": {
              "outlinewidth": 0,
              "ticks": ""
             }
            },
            "type": "scattercarpet"
           }
          ],
          "scattergeo": [
           {
            "marker": {
             "colorbar": {
              "outlinewidth": 0,
              "ticks": ""
             }
            },
            "type": "scattergeo"
           }
          ],
          "scattergl": [
           {
            "marker": {
             "colorbar": {
              "outlinewidth": 0,
              "ticks": ""
             }
            },
            "type": "scattergl"
           }
          ],
          "scattermap": [
           {
            "marker": {
             "colorbar": {
              "outlinewidth": 0,
              "ticks": ""
             }
            },
            "type": "scattermap"
           }
          ],
          "scattermapbox": [
           {
            "marker": {
             "colorbar": {
              "outlinewidth": 0,
              "ticks": ""
             }
            },
            "type": "scattermapbox"
           }
          ],
          "scatterpolar": [
           {
            "marker": {
             "colorbar": {
              "outlinewidth": 0,
              "ticks": ""
             }
            },
            "type": "scatterpolar"
           }
          ],
          "scatterpolargl": [
           {
            "marker": {
             "colorbar": {
              "outlinewidth": 0,
              "ticks": ""
             }
            },
            "type": "scatterpolargl"
           }
          ],
          "scatterternary": [
           {
            "marker": {
             "colorbar": {
              "outlinewidth": 0,
              "ticks": ""
             }
            },
            "type": "scatterternary"
           }
          ],
          "surface": [
           {
            "colorbar": {
             "outlinewidth": 0,
             "ticks": ""
            },
            "colorscale": [
             [
              0,
              "#0d0887"
             ],
             [
              0.1111111111111111,
              "#46039f"
             ],
             [
              0.2222222222222222,
              "#7201a8"
             ],
             [
              0.3333333333333333,
              "#9c179e"
             ],
             [
              0.4444444444444444,
              "#bd3786"
             ],
             [
              0.5555555555555556,
              "#d8576b"
             ],
             [
              0.6666666666666666,
              "#ed7953"
             ],
             [
              0.7777777777777778,
              "#fb9f3a"
             ],
             [
              0.8888888888888888,
              "#fdca26"
             ],
             [
              1,
              "#f0f921"
             ]
            ],
            "type": "surface"
           }
          ],
          "table": [
           {
            "cells": {
             "fill": {
              "color": "#EBF0F8"
             },
             "line": {
              "color": "white"
             }
            },
            "header": {
             "fill": {
              "color": "#C8D4E3"
             },
             "line": {
              "color": "white"
             }
            },
            "type": "table"
           }
          ]
         },
         "layout": {
          "annotationdefaults": {
           "arrowcolor": "#2a3f5f",
           "arrowhead": 0,
           "arrowwidth": 1
          },
          "autotypenumbers": "strict",
          "coloraxis": {
           "colorbar": {
            "outlinewidth": 0,
            "ticks": ""
           }
          },
          "colorscale": {
           "diverging": [
            [
             0,
             "#8e0152"
            ],
            [
             0.1,
             "#c51b7d"
            ],
            [
             0.2,
             "#de77ae"
            ],
            [
             0.3,
             "#f1b6da"
            ],
            [
             0.4,
             "#fde0ef"
            ],
            [
             0.5,
             "#f7f7f7"
            ],
            [
             0.6,
             "#e6f5d0"
            ],
            [
             0.7,
             "#b8e186"
            ],
            [
             0.8,
             "#7fbc41"
            ],
            [
             0.9,
             "#4d9221"
            ],
            [
             1,
             "#276419"
            ]
           ],
           "sequential": [
            [
             0,
             "#0d0887"
            ],
            [
             0.1111111111111111,
             "#46039f"
            ],
            [
             0.2222222222222222,
             "#7201a8"
            ],
            [
             0.3333333333333333,
             "#9c179e"
            ],
            [
             0.4444444444444444,
             "#bd3786"
            ],
            [
             0.5555555555555556,
             "#d8576b"
            ],
            [
             0.6666666666666666,
             "#ed7953"
            ],
            [
             0.7777777777777778,
             "#fb9f3a"
            ],
            [
             0.8888888888888888,
             "#fdca26"
            ],
            [
             1,
             "#f0f921"
            ]
           ],
           "sequentialminus": [
            [
             0,
             "#0d0887"
            ],
            [
             0.1111111111111111,
             "#46039f"
            ],
            [
             0.2222222222222222,
             "#7201a8"
            ],
            [
             0.3333333333333333,
             "#9c179e"
            ],
            [
             0.4444444444444444,
             "#bd3786"
            ],
            [
             0.5555555555555556,
             "#d8576b"
            ],
            [
             0.6666666666666666,
             "#ed7953"
            ],
            [
             0.7777777777777778,
             "#fb9f3a"
            ],
            [
             0.8888888888888888,
             "#fdca26"
            ],
            [
             1,
             "#f0f921"
            ]
           ]
          },
          "colorway": [
           "#636efa",
           "#EF553B",
           "#00cc96",
           "#ab63fa",
           "#FFA15A",
           "#19d3f3",
           "#FF6692",
           "#B6E880",
           "#FF97FF",
           "#FECB52"
          ],
          "font": {
           "color": "#2a3f5f"
          },
          "geo": {
           "bgcolor": "white",
           "lakecolor": "white",
           "landcolor": "white",
           "showlakes": true,
           "showland": true,
           "subunitcolor": "#C8D4E3"
          },
          "hoverlabel": {
           "align": "left"
          },
          "hovermode": "closest",
          "mapbox": {
           "style": "light"
          },
          "paper_bgcolor": "white",
          "plot_bgcolor": "white",
          "polar": {
           "angularaxis": {
            "gridcolor": "#EBF0F8",
            "linecolor": "#EBF0F8",
            "ticks": ""
           },
           "bgcolor": "white",
           "radialaxis": {
            "gridcolor": "#EBF0F8",
            "linecolor": "#EBF0F8",
            "ticks": ""
           }
          },
          "scene": {
           "xaxis": {
            "backgroundcolor": "white",
            "gridcolor": "#DFE8F3",
            "gridwidth": 2,
            "linecolor": "#EBF0F8",
            "showbackground": true,
            "ticks": "",
            "zerolinecolor": "#EBF0F8"
           },
           "yaxis": {
            "backgroundcolor": "white",
            "gridcolor": "#DFE8F3",
            "gridwidth": 2,
            "linecolor": "#EBF0F8",
            "showbackground": true,
            "ticks": "",
            "zerolinecolor": "#EBF0F8"
           },
           "zaxis": {
            "backgroundcolor": "white",
            "gridcolor": "#DFE8F3",
            "gridwidth": 2,
            "linecolor": "#EBF0F8",
            "showbackground": true,
            "ticks": "",
            "zerolinecolor": "#EBF0F8"
           }
          },
          "shapedefaults": {
           "line": {
            "color": "#2a3f5f"
           }
          },
          "ternary": {
           "aaxis": {
            "gridcolor": "#DFE8F3",
            "linecolor": "#A2B1C6",
            "ticks": ""
           },
           "baxis": {
            "gridcolor": "#DFE8F3",
            "linecolor": "#A2B1C6",
            "ticks": ""
           },
           "bgcolor": "white",
           "caxis": {
            "gridcolor": "#DFE8F3",
            "linecolor": "#A2B1C6",
            "ticks": ""
           }
          },
          "title": {
           "x": 0.05
          },
          "xaxis": {
           "automargin": true,
           "gridcolor": "#EBF0F8",
           "linecolor": "#EBF0F8",
           "ticks": "",
           "title": {
            "standoff": 15
           },
           "zerolinecolor": "#EBF0F8",
           "zerolinewidth": 2
          },
          "yaxis": {
           "automargin": true,
           "gridcolor": "#EBF0F8",
           "linecolor": "#EBF0F8",
           "ticks": "",
           "title": {
            "standoff": 15
           },
           "zerolinecolor": "#EBF0F8",
           "zerolinewidth": 2
          }
         }
        },
        "width": 600,
        "xaxis": {
         "anchor": "y",
         "domain": [
          0,
          1
         ],
         "matches": "x2",
         "showticklabels": false,
         "title": {
          "text": ""
         },
         "type": "log"
        },
        "xaxis2": {
         "anchor": "y2",
         "domain": [
          0,
          1
         ],
         "title": {
          "text": "Energy (keV)"
         },
         "type": "log"
        },
        "yaxis": {
         "anchor": "x",
         "domain": [
          0.265,
          1
         ],
         "range": [
          -0.6910422634079395,
          2.5025074757437187
         ],
         "title": {
          "text": "Counts/s/channel"
         },
         "type": "log"
        },
        "yaxis2": {
         "anchor": "x2",
         "domain": [
          0,
          0.245
         ],
         "range": [
          -3.5,
          3.5
         ],
         "showgrid": false,
         "title": {
          "text": "Sigma"
         }
        }
       }
      }
     },
     "metadata": {},
     "output_type": "display_data"
    }
   ],
   "source": [
    "fig = Plot.pair(pair, style='CC')"
   ]
  },
  {
   "cell_type": "code",
   "execution_count": 7,
   "id": "c4f532af-a15f-4546-b960-de8c568fc315",
   "metadata": {},
   "outputs": [
    {
     "data": {
      "application/vnd.plotly.v1+json": {
       "config": {
        "plotlyServerURL": "https://plot.ly"
       },
       "data": [
        {
         "error_x": {
          "array": {
           "bdata": "AAAAAMa52j8AAAAAzIvaPwAAAABW0N8/AAAAAMr+3z8AAAAAVzXgPwAAAAAEiuA/AAAAAA/94D8AAAAANXzhPwAAAADC7OE/AAAAAH5h5T8AAAAAWsnlPwAAAAAOGeY/AAAAANJl5j8AAAAAvLrmPwAAAADsF+c/AAAAACzh6j8AAAAAAHLrPwAAAAAiD+w/AAAAAJy47D8AAAAAZJnzPwAAAADwneg/AAAAAEgJ6T8AAAAAXLDpPwAAAABQT+o/AAAAADDs7T8AAAAAQJvuPwAAAAAcP+8/AAAAANzX7z8AAAAAENXxPwAAAABKI/I/AAAAABhq8j8AAAAAfKnyPwAAAABcm/Q/AAAAAFLU9D8AAAAApgP1PwAAAAAo7vY/AAAAACgO9z8AAAAA3CH3PwAAAABk8fg/AAAAAMDq+D8AAAAADNb4PwAAAADogfo/AAAAAPxp+j8AAAAAdFX6PwAAAAAMBPw/AAAAAKz0+z8AAAAAZOn7PwAAAAA8oP0/AAAAABSd/T8AAAAAGF3/PwAAAAD0ZP8/AAAAAC6ZAEAAAAAAlqIAQAAAAADojAFAAAAAAEyXAUAAAAAAnKEBQAAAAABMjgJAAAAAAICZAkAAAAAALIgDQAAAAABkeARAAAAAAISFBEAAAAAAzHcFQAAAAADUhQVAAAAAADh6BkAAAAAALIkGQAAAAACsfwdAAAAAANR3CEAAAAAAwIgIQAAAAAAUgwlAAAAAACB/CkAAAAAABJIKQAAAAAA4kAtAAAAAACyQDEAAAAAA4JENQAAAAAC8pw1AAAAAAJyrDkAAAAAAKLEPQAAAAABEXBBAAAAAAJxoEEAAAAAASO0QQAAAAADYchFAAAAAADj5EUAAAAAAcIASQAAAAAB8CBNAAAAAAFiRE0AAAAAA/BoUQAAAAABkpRRAAAAAAIwwFUAAAAAAbLwVQAAAAAAESRZAAAAAADzWFkAAAAAAGGQXQAAAAADYbxhAAAAAAIz/GEAAAAAAwI8ZQAAAAABkIBpAAAAAAGSxGkAAAAAAzMEbQAAAAAAMVBxAAAAAAHjmHEAAAAAAEPkdQAAAAAA4jB5AAAAAAOifH0AAAAAAtBkgQAAAAADgoyBAAAAAAHztIEAAAAAAzLwxQAAAAAALGUNAAAAAAOgWU0A=",
           "dtype": "f8"
          },
          "arrayminus": {
           "bdata": "AAAAAMa52j8AAAAAzIvaPwAAAABW0N8/AAAAAMr+3z8AAAAAVzXgPwAAAAAEiuA/AAAAAA/94D8AAAAANXzhPwAAAADC7OE/AAAAAH5h5T8AAAAAWsnlPwAAAAAOGeY/AAAAANJl5j8AAAAAvLrmPwAAAADsF+c/AAAAACzh6j8AAAAAAHLrPwAAAAAiD+w/AAAAAJy47D8AAAAAZJnzPwAAAADwneg/AAAAAEgJ6T8AAAAAXLDpPwAAAABQT+o/AAAAADDs7T8AAAAAQJvuPwAAAAAcP+8/AAAAANzX7z8AAAAAENXxPwAAAABKI/I/AAAAABhq8j8AAAAAfKnyPwAAAABcm/Q/AAAAAFLU9D8AAAAApgP1PwAAAAAo7vY/AAAAACgO9z8AAAAA3CH3PwAAAABk8fg/AAAAAMDq+D8AAAAADNb4PwAAAADogfo/AAAAAPxp+j8AAAAAdFX6PwAAAAAMBPw/AAAAAKz0+z8AAAAAZOn7PwAAAAA8oP0/AAAAABSd/T8AAAAAGF3/PwAAAAD0ZP8/AAAAAC6ZAEAAAAAAlqIAQAAAAADojAFAAAAAAEyXAUAAAAAAnKEBQAAAAABMjgJAAAAAAICZAkAAAAAALIgDQAAAAABkeARAAAAAAISFBEAAAAAAzHcFQAAAAADUhQVAAAAAADh6BkAAAAAALIkGQAAAAACsfwdAAAAAANR3CEAAAAAAwIgIQAAAAAAUgwlAAAAAACB/CkAAAAAABJIKQAAAAAA4kAtAAAAAACyQDEAAAAAA4JENQAAAAAC8pw1AAAAAAJyrDkAAAAAAKLEPQAAAAABEXBBAAAAAAJxoEEAAAAAASO0QQAAAAADYchFAAAAAADj5EUAAAAAAcIASQAAAAAB8CBNAAAAAAFiRE0AAAAAA/BoUQAAAAABkpRRAAAAAAIwwFUAAAAAAbLwVQAAAAAAESRZAAAAAADzWFkAAAAAAGGQXQAAAAADYbxhAAAAAAIz/GEAAAAAAwI8ZQAAAAABkIBpAAAAAAGSxGkAAAAAAzMEbQAAAAAAMVBxAAAAAAHjmHEAAAAAAEPkdQAAAAAA4jB5AAAAAAOifH0AAAAAAtBkgQAAAAADgoyBAAAAAAHztIEAAAAAAzLwxQAAAAAALGUNAAAAAAOgWU0A=",
           "dtype": "f8"
          },
          "color": "#636EFA",
          "symmetric": false,
          "thickness": 1.5,
          "type": "data",
          "width": 0
         },
         "error_y": {
          "array": {
           "bdata": "1o7YW7/WAkCMcv+q6n4EQN3OSS4GXQVAiYopBn1rB0CEASdXhtEJQAv1shD0pwpA+6AUsJk1C0Apv55rE9ULQIa+0T74UwxAVgDDr8l2CkDuyvPOUJQJQI7yohWQ/AhAZz927SRNCUD3niKMG5MIQLycCfkVcQdAtaNAJGNuBEBj9sOCiN8DQNVkwPYEwgJArzBpw6dpAUAkhvEMW4X3PwGVG4fvagJAhIPz1gAoAEDvWePC06H+P2pFgyEmN/s/EKtq13hk+D+RF1T5tCz4P1l4TGVhfPY//6aG1yKV9j8VA+aQmPnzP02yXnawbPM/1c3oFBLc8j+iTLnQwOjxP7bCbnohpvA/BoaP4Z1q8D/YKPr/N3HwPxaSlGb1pu4/hDTMobA17D/G6gJTcbfsPzKkL7a66Ok/F78CefTf6T9sk2z8EHrpP2ChXVnXXec/oW9QzDof5z+OuSbJBczmP+A1OVH8KOY/TQicZi5B5D/sBgAELi3jP1jaKWeai+M/G+l67NNf4z85p35KsIPhP7HDzIn07eA/HVizeKBp4D/ZOglCbKTeP1TRfaP1KN0/Fv9cR5Jl3D/Bomwnv5jaPx+AFVtvbNo/OZ89cSiS2D+Xbbio/W7YPwPFZGuVutY/Fim6fesJ1T+Jr8XryVTUP+NymEJ7TdM/e2MYD6Rw0z/VzhDopSfRP2bU6ziZItA/BnVZG3XDzz+7kKI4I3fNP38HIa+GX80/j50W52dgyD+RTHGYxvPIP2xz+tdOScc/YnG7HpLQxT/v2LYgLIbDP5qtH5/KUMQ/kZE6TH+MwT/ek1NRJojBP3tIqIJFnb8/3kVA2s0xvz8pGp2V5Hq7PxleK4wz/Lo/tR4NMR1/uj/AJC4sqkO2PwcnNlw1Vrg/5MT/kaCVsz+m0hX13jyzPzN8fZzmDrM/rw6qi1dUsD85uHR4oXyxP+f0ye+Ln7E/OFXH/KUPqz+WJKOWoW+qP2sTTOmZkak//JdDB13tqj/HvzciZWakP4fTt1kfPqY/eauMig4dpj8mBRpuIOijP3VFKazkMKQ/i6xEXVFwoz/bQ+UaFQijPwh2htAOS6I/wuU+ACuDnz+7HzsJBNCcPwn5EUzqhZ4/pqmLxeg0nz+9HYVtaH+SP9w2fBFPpYQ/+Bkoi6kHeT8=",
           "dtype": "f8"
          },
          "color": "#636EFA",
          "thickness": 1.5,
          "type": "data",
          "width": 0
         },
         "marker": {
          "color": "#636EFA",
          "size": 0,
          "symbol": "cross-thin"
         },
         "mode": "markers",
         "name": "obs of nai",
         "showlegend": false,
         "type": "scatter",
         "x": {
          "bdata": "AAAAwO3+IEAAAABAGqkiQAAAAED7eyRAAAAAQHR6JkAAAAAAwH0oQAAAAMC1iSpAAAAAACeiLEAAAABAu8kuQAAAAEAlgDBAAAAAQJe6MUAAAAAA7hMzQAAAAEABczRAAAAAQPjWNUAAAADA/D83QAAAAACSrjhAAAAAwFo+OkAAAAAg9PA7QAAAAED9rD1AAAAAIDtzP0AAAAAgS8lAQAAAAACOyEFAAAAA4CqPQkAAAACAEVpDQAAAACAQKkRAAAAAIP4KRUAAAADgG/1FQAAAAECF9EZAAAAAQOHwR0AAAAAg6f5IQAAAAACsHkpAAAAAABdDS0AAAACgs2tMQAAAAGDapU1AAAAAwFfxTkAAAADACyBQQAAAAADTz1BAAAAAQMSHUUAAAABAhEBSQAAAAEDRAFNAAAAA4EHIU0AAAAAARY9UQAAAAOCkXFVAAAAAgFQwVkAAAABAUgNXQAAAAEC43FdAAAAAAJu8WEAAAABAE5xZQAAAAMA5glpAAAAAAC9vW0AAAADAF2NcQAAAAAAgXl1AAAAAQH1gXkAAAABAW2pfQAAAAKDrPWBAAAAAgHzKYEAAAAAAYFdhQAAAAMAf6GFAAAAA4L58YkAAAACARRVjQAAAAMBHtWNAAAAAgD9ZZEAAAADANAFlQAAAAEArrWVAAAAAYCtdZkAAAAAAORFnQAAAAEBcyWdAAAAAQDqJaEAAAACgPE1pQAAAAABsFWpAAAAAwHTlakAAAABAublrQAAAAEBCkmxAAAAAwMNybUAAAAAATFtuQAAAAIAySG9AAAAA4L8ccEAAAACAeZlwQAAAAMBMGnFAAAAAQGCdcUAAAADgtyJyQAAAAGA4rHJAAAAAoOg5c0AAAABAz8tzQAAAAADzYXRAAAAAQFr8dEAAAACAC5t1QAAAAAANPnZAAAAAwGTldkAAAADAGJF3QAAAAIAuQXhAAAAAgKv1eEAAAADAlK55QAAAAIDkbXpAAAAAAKIze0AAAABA3/17QAAAAMCfzHxAAAAAAOeffUAAAADAs3l+QAAAAAALWn9AAAAAgHofgEAAAACgOZWAQAAAAEBEDoFAAAAAgJyKgUAAAAAAQwqCQAAAAGA5jYJAAAAAwH4Tg0AAAAAgG+WDQAAAAECSpIVAAAAA4P84iUA=",
          "dtype": "f8"
         },
         "xaxis": "x",
         "y": {
          "bdata": "BCE5aXgTQkA5MktLk0VEQLT8XfNf70pA6krrygokUEDjbU0iKzFUQIZTK75oB1ZAdeCTJwhsV0B+mi3lsdBZQAJGV2RVi1tAL2umB/tdXUDzBr8mhdlbQEajH93eB1tAd/EOw6ZmXEDeJN1DnRtbQOwsz05dZFlAmf0ORbAmVkDwQsWQDZhVQAYeSsLWa1NANGG6Xu/wUEB3iBTCJAtFQBwR00fBhlBAHxcm6cznSUAw8FjvCXxIQNHP+jkmN0NAwr31zUrJQUAKWWGiNRBCQMqxqRqi8D9A4YlN7qy6QEAMpM2eJb48QG02CQrUdDtA9cl6H9plOkBA6O4KaFU4QLA5Vf7eRjdA1AbRmimpNkACMbgnE7U2QKdjxopgQTVAvq0+JBfWMUAKPErWQEEzQK1WUtUE/jBAta5N6/E/MUBPr3P+288wQJkSEYw11C1AJbdZCPocLUCh1e4aNHosQG5xm3OVpSxAsifX2p1dJ0CCUXy5CSMlQG853Lr7wSdAhqdXN35/J0AJGNP5rgokQHqnMnZ29iJAmG1tN6HNIkBo4lGPbkggQJY6rpUP9B5AQUsibcfaHUCU0kFGh6IZQNY+zkAQLxtAqLtEQkZfF0BQr252dEgYQIAH326HUhZAov45wWCiEkBInXFPyVwSQLufkZaRfRBAzaxTUrKJEUD68Ty70tgJQL8VA7MWjQdAMrtBZqrsB0DIY1wriLgEQBCUpwhGUQZA3XZV0fPd/j8Zp/WORbwAQAkvnp2AW/0/aotUfi5A+j9CVBnlGiP1Px12UMopU/c/vxNnugN08T/AJ/mhFWHyPxg0dIWo9+0/eRHDAVsK7T+iuOOLKt3lP00clQdYKuY/xr8XShkj5j8CxiOHtHbeP72i6hrMMOU/ngC17RTZ2j9CF+09xHDaPxhnniUQlto/BImSYIyJ0j+N0qkyToHXP5vDER4fENk/YvIYZZ8AyT8QxxUaeQLGPxoIGnuQwMc/7lmjyIEx0D8J1paBKmy1PzbiBXWdWMI/hjUo1rnIwT/2T10z62K6P89zEkmCdro/bl9MPadntz+7vQeTXjy5PwS/2+ei87s/8+7aX5+8sD9mFw+w1fesP77dP5B9trU/M9+oOK81tz9ihwg9gLOpP4RD94roE5k/+KZOad15jj8=",
          "dtype": "f8"
         },
         "yaxis": "y"
        },
        {
         "line": {
          "color": "#636EFA",
          "width": 2
         },
         "mode": "lines",
         "name": "nai",
         "showlegend": true,
         "type": "scatter",
         "x": {
          "bdata": "AAAAwO3+IEAAAABAGqkiQAAAAED7eyRAAAAAQHR6JkAAAAAAwH0oQAAAAMC1iSpAAAAAACeiLEAAAABAu8kuQAAAAEAlgDBAAAAAQJe6MUAAAAAA7hMzQAAAAEABczRAAAAAQPjWNUAAAADA/D83QAAAAACSrjhAAAAAwFo+OkAAAAAg9PA7QAAAAED9rD1AAAAAIDtzP0AAAAAgS8lAQAAAAACOyEFAAAAA4CqPQkAAAACAEVpDQAAAACAQKkRAAAAAIP4KRUAAAADgG/1FQAAAAECF9EZAAAAAQOHwR0AAAAAg6f5IQAAAAACsHkpAAAAAABdDS0AAAACgs2tMQAAAAGDapU1AAAAAwFfxTkAAAADACyBQQAAAAADTz1BAAAAAQMSHUUAAAABAhEBSQAAAAEDRAFNAAAAA4EHIU0AAAAAARY9UQAAAAOCkXFVAAAAAgFQwVkAAAABAUgNXQAAAAEC43FdAAAAAAJu8WEAAAABAE5xZQAAAAMA5glpAAAAAAC9vW0AAAADAF2NcQAAAAAAgXl1AAAAAQH1gXkAAAABAW2pfQAAAAKDrPWBAAAAAgHzKYEAAAAAAYFdhQAAAAMAf6GFAAAAA4L58YkAAAACARRVjQAAAAMBHtWNAAAAAgD9ZZEAAAADANAFlQAAAAEArrWVAAAAAYCtdZkAAAAAAORFnQAAAAEBcyWdAAAAAQDqJaEAAAACgPE1pQAAAAABsFWpAAAAAwHTlakAAAABAublrQAAAAEBCkmxAAAAAwMNybUAAAAAATFtuQAAAAIAySG9AAAAA4L8ccEAAAACAeZlwQAAAAMBMGnFAAAAAQGCdcUAAAADgtyJyQAAAAGA4rHJAAAAAoOg5c0AAAABAz8tzQAAAAADzYXRAAAAAQFr8dEAAAACAC5t1QAAAAAANPnZAAAAAwGTldkAAAADAGJF3QAAAAIAuQXhAAAAAgKv1eEAAAADAlK55QAAAAIDkbXpAAAAAAKIze0AAAABA3/17QAAAAMCfzHxAAAAAAOeffUAAAADAs3l+QAAAAAALWn9AAAAAgHofgEAAAACgOZWAQAAAAEBEDoFAAAAAgJyKgUAAAAAAQwqCQAAAAGA5jYJAAAAAwH4Tg0AAAAAgG+WDQAAAAECSpIVAAAAA4P84iUA=",
          "dtype": "f8"
         },
         "xaxis": "x",
         "y": {
          "bdata": "cXLJlSSsPUD5huoRPkFFQNSQN3shIU1AAHp+oWVhUkCOgooQos5VQO/yR2Bt+FhAJBf0u/AYW0AoxnnHhupbQJw9aQSkYVxALWW9hB19XEAIIvHUXgRcQC+p/39hFFtA396lRpHkWUDoWDQKF4BYQL4cWo+mAVdAx5aEPKx/VUCbVi1nN8NTQJsr/pIE2VFACGnGiDe/T0A3R8rPP/1KQATI7mHTQEdAkkdUW9uJRUDuvDzdkXpEQPhpTSJxjkNA3vdqxyCJQkC1uHUqsJpBQFoLutldykBAZWw/VyjZP0DYY+En/h4+QFZU70GAozxAFSOYoR1TO0BnzlMlvCI6QGup/Zlw6zhASyNPziKyN0AG/rUksZc2QGJIg+1phjVAtlcEnHRzNECT8XlIUXEzQEQryFF+fDJAk5MV8fyTMUCAcj3KL7swQCZdJM5fxi9AjAA7N8AiLkBYx8DoPZssQHmNkQQeIytAaUU5Rwu+KUBGjn/42mYoQMqDijD2AydAHU591K6nJUBM4A/A+mkkQLHCSe+7RyNAeLKWt+0uIkCd/j8UcBshQKKfCP0iFSBAhEwFsWkwHkD3gs7UckgcQHQBlHmJbhpAzHaI7VuxGEAiBcB21xcXQBAkQ8X9hxVASO1imPwCFEBPwAb13YMSQNl0Gh1/EhFAAGb6BJdrD0BDltC4ZeoMQKzkkwPJmQpAohfzmfxbCEAVJb1pIjQGQP6yLRCoKwRAEH7wxgVNAkDrVqlJZaMAQAEhaF+lS/4/E/9dGc+F+z+xsYycieP4PznZdbJCefY/K0FmMbFL9D9HrkWuqlvyP0xJDBhUl/A/koGOsfb67T+Ke/lnvRHrP8HONjejaOg/YzcASskM5j+Xd7RJyeLjP1+uF/Rl6eE/DHusHNYT4D+rAVvpkqTcP8dzmZvUnNk/YJBJeiTr1j/k+CdHsafUP0oMEuTLo9I/LiKi60rH0D+6fNJB0jrOP+EdGUpJGss/7e8ulPRNyD9bsfkVs83FP3UThjjTgsM/343Feu5jwT/1H29aDvm+P+0VBhWCrbs/6C5jAYPEuD9ZW8UaFCe2P31WociG3bM/QS6rSvPksT9vlcSbbSewP71rv4NtLK0/5gITFJdEqj/15SBA+yGmP4hlmhETgZ8/0RTjakXDkD8=",
          "dtype": "f8"
         },
         "yaxis": "y"
        },
        {
         "marker": {
          "color": "#636EFA",
          "line": {
           "color": "#636EFA",
           "width": 1.5
          },
          "size": 10,
          "symbol": "cross-thin"
         },
         "mode": "markers",
         "name": "res of nai",
         "showlegend": false,
         "type": "scatter",
         "x": {
          "bdata": "AAAAwO3+IEAAAABAGqkiQAAAAED7eyRAAAAAQHR6JkAAAAAAwH0oQAAAAMC1iSpAAAAAACeiLEAAAABAu8kuQAAAAEAlgDBAAAAAQJe6MUAAAAAA7hMzQAAAAEABczRAAAAAQPjWNUAAAADA/D83QAAAAACSrjhAAAAAwFo+OkAAAAAg9PA7QAAAAED9rD1AAAAAIDtzP0AAAAAgS8lAQAAAAACOyEFAAAAA4CqPQkAAAACAEVpDQAAAACAQKkRAAAAAIP4KRUAAAADgG/1FQAAAAECF9EZAAAAAQOHwR0AAAAAg6f5IQAAAAACsHkpAAAAAABdDS0AAAACgs2tMQAAAAGDapU1AAAAAwFfxTkAAAADACyBQQAAAAADTz1BAAAAAQMSHUUAAAABAhEBSQAAAAEDRAFNAAAAA4EHIU0AAAAAARY9UQAAAAOCkXFVAAAAAgFQwVkAAAABAUgNXQAAAAEC43FdAAAAAAJu8WEAAAABAE5xZQAAAAMA5glpAAAAAAC9vW0AAAADAF2NcQAAAAAAgXl1AAAAAQH1gXkAAAABAW2pfQAAAAKDrPWBAAAAAgHzKYEAAAAAAYFdhQAAAAMAf6GFAAAAA4L58YkAAAACARRVjQAAAAMBHtWNAAAAAgD9ZZEAAAADANAFlQAAAAEArrWVAAAAAYCtdZkAAAAAAORFnQAAAAEBcyWdAAAAAQDqJaEAAAACgPE1pQAAAAABsFWpAAAAAwHTlakAAAABAublrQAAAAEBCkmxAAAAAwMNybUAAAAAATFtuQAAAAIAySG9AAAAA4L8ccEAAAACAeZlwQAAAAMBMGnFAAAAAQGCdcUAAAADgtyJyQAAAAGA4rHJAAAAAoOg5c0AAAABAz8tzQAAAAADzYXRAAAAAQFr8dEAAAACAC5t1QAAAAAANPnZAAAAAwGTldkAAAADAGJF3QAAAAIAuQXhAAAAAgKv1eEAAAADAlK55QAAAAIDkbXpAAAAAAKIze0AAAABA3/17QAAAAMCfzHxAAAAAAOeffUAAAADAs3l+QAAAAAALWn9AAAAAgHofgEAAAACgOZWAQAAAAEBEDoFAAAAAgJyKgUAAAAAAQwqCQAAAAGA5jYJAAAAAwH4Tg0AAAAAgG+WDQAAAAECSpIVAAAAA4P84iUA=",
          "dtype": "f8"
         },
         "xaxis": "x2",
         "y": {
          "bdata": "Nsy53FIDBkCfAdo91o7ov2ClaJWXS/q/yE2uv0Z7CMD5nTpYqQMAwFbubBvZPwzAyadpaUdKEcBB9P3o8FIDwPqyWajEQu6/+RaueXn+8D8YUdY8lc3Kv5UmuMCTBbC/+166Y6FgCUAGcHlswykLQB8QGbxqDQpA7MGg5F1Z8D+753SsZ5cHQPNUK3mJeQVAPAml7dZk/z9vs/w+ny0gwLRzaW+7BiFAqMPg/4VMEUAFYJMVC70QQHAkjv/kqNm/6BkdGE1177/X1GamBXLjP4wZg07PrvK/aMYY97JA8j/OzM87Farxv+MspO/1Ke+/SdlBXTYp6b+p8a19YsL5v+SwfbTPQvm/D1iyTwUk8L/2nsymr5e8P5JF3ImgBNK/e2JJLGm6B8Cej6ijqcfKvysCMU47hv2/6i+iagj82b/B/M84Pfe5P8q37BLPUfW/0KYpVJOk5r+lSGt3FzC3v8BOGEKTcPE/B6Df6vgJ/r9iKW7y8soFwL07HVy3ceM/R+9zlzJa+D9qOJ3vlsPVv4EHL6/JM9O/CU0Mm8RW4z8i/rcYX4vrvwgc1rvNRuW/u8jzZf0fyL9SoohyKX35vyUaDgEIJd0/uub+MOKE67+//qk0G+/oP2Sz0YZ00uE/YzFMNY3C8L9B3aspVcG+v768GNeS3N6/w31EjaoR+D/55lzkguX2v/nD0SpCMfi/z2o0nJgJzL8loSqdGMTpv42egfsntvI/90BfF94c/r/WzR9Z/OavP6gkKuUQoNS/VPxvHZna3b8b7UWHl5j4v5Y+Hj6nc9U/3cEWx6K79L+k3rgyEseDP0nnvXtOCOq/uNS0ZEPazr+6KRENBz/4v0NpUzEmSOW/tYHZKGnymj8VENz0rsH6v1ELK0LZPvE/oPSeEbtX8b+kPDU2q07dv2UPvWKmJ8o/wBCHLtwr8b8qcbA8ndzkP/L6OpB7U/c/wrlzCEw79L+alBXpfebzv5lOyarZxeC/JdwRy7E18z8W8YL+TWYBwByXk5Vx0Mq/R2ciZXA7sj/yz9pfrn3dv7eXNCBFzr6/WlJbfFHywb9zgOnPgbzUP/WMvPJrSuw/Dyp7epzOwr9MHmXk4KzNvwgXsUwv4u0/Q7I8UOyp9D8OxyaGW7HYP0Odd2Df6+O/g1sl25Mwz78=",
          "dtype": "f8"
         },
         "yaxis": "y2"
        },
        {
         "error_x": {
          "array": {
           "bdata": "AAAAADg1MUAAAAAA2jExQAAAAADCLjFAAAAAAO8rMUAAAAAAXykxQAAAAAAXJzFAAAAAALDbNkAAAAAAvNg2QAAAAABu1jZAAAAAAMDUNkAAAAAAttM2QAAAAABQ0zZAAAAAAIzTNkAAAAAAbtQ2QAAAAADy1TZAAAAAABjYNkAAAAAAs7hJQAAAAAAcnTxAAAAAANizXEAAAABA4ix1QAAAAEDojXpAAAAAAAkRgUAAAADA8eWFQAAAAICh6YxAAAAAgILCk0AAAACAKuacQAAAAACHCqdAAAAAQMagwEA=",
           "dtype": "f8"
          },
          "arrayminus": {
           "bdata": "AAAAADg1MUAAAAAA2jExQAAAAADCLjFAAAAAAO8rMUAAAAAAXykxQAAAAAAXJzFAAAAAALDbNkAAAAAAvNg2QAAAAABu1jZAAAAAAMDUNkAAAAAAttM2QAAAAABQ0zZAAAAAAIzTNkAAAAAAbtQ2QAAAAADy1TZAAAAAABjYNkAAAAAAs7hJQAAAAAAcnTxAAAAAANizXEAAAABA4ix1QAAAAEDojXpAAAAAAAkRgUAAAADA8eWFQAAAAICh6YxAAAAAgILCk0AAAACAKuacQAAAAACHCqdAAAAAQMagwEA=",
           "dtype": "f8"
          },
          "color": "#EF553B",
          "symmetric": false,
          "thickness": 1.5,
          "type": "data",
          "width": 0
         },
         "error_y": {
          "array": {
           "bdata": "24HDQ3ytuD+Nl/+uyIq3P7rju2VtvbU/xFGt5UqQsj8Ca3WkSz6yP3ClzA7bNLE/BY5NSEcKrD+OZjffyxipP6hroOfk2qU/2lBzr9FLoj/BALAwsY+iPwnNjohzrqE/MBLvPB7foT8CDEOMpDmiP6ZI+7FYDaA/cneiGew/oD/3fHo8oTiXP1LkwUhpVp0/epLc1KbviD8KUtVceaJ5P3BiHISEo2w/HG7o92HxXz96D5FvgKZNP9xm4Hk2/0I/Ojt2PaLLOD8QbmDgPogwP9ElOxzXBCU/GBFXPXQZEz8=",
           "dtype": "f8"
          },
          "color": "#EF553B",
          "thickness": 1.5,
          "type": "data",
          "width": 0
         },
         "marker": {
          "color": "#EF553B",
          "size": 0,
          "symbol": "cross-thin"
         },
         "mode": "markers",
         "name": "obs of bgo",
         "showlegend": false,
         "type": "scatter",
         "x": {
          "bdata": "AAAAoJ2SdEAAAADADrl2QAAAAIAY33hAAAAAgMMEe0AAAACAGCp9QAAAAMAfT39AAAAAIKbngEAAAACASVWCQAAAAMDCwoNAAAAAQBwwhUAAAAAAYJ2GQAAAACCYCohAAAAAAM93iUAAAADADuWKQAAAAMBhUoxAAAAAINK/jUAAAAAADwmQQAAAAABJSZFAAAAAAPuGk0AAAAAAcZ2aQAAAAOARRqNAAAAAIBHcqkAAAADg50yyQAAAAEDaprhAAAAAgFeawEAAAABAba/GQAAAACBqB9BAAAAAIB4520A=",
          "dtype": "f8"
         },
         "xaxis": "x",
         "y": {
          "bdata": "/qv8nngfAUBA2Dc8GLP7P2Ce1Y5TBfc//795fB3b8D/oSPj/iYTwP2JOwFOpf+g/YybDdSIj4j9SXZMycojgP+CTWPSE7Ng/MGwJhQ6nyT8Ijz3s7SnOP6Y4itb3ucQ/YDx5IW9IxD+4ZuPw1k7FPwgm1aNc1bU/pHxNsMTksz9sjcu6Gu20PwCxpd/z6a4/kI/+7r87mj+gI5VMcxNzP8Cmo9iP02M/8EqLEoT1Yj9A/QSOIjxAP0Dkox4J2yw/mLXjSE4wMr9QPLIraacmv2jMg5C5HiG/MJtuOcOeG78=",
          "dtype": "f8"
         },
         "yaxis": "y"
        },
        {
         "line": {
          "color": "#EF553B",
          "width": 2
         },
         "mode": "lines",
         "name": "bgo",
         "showlegend": true,
         "type": "scatter",
         "x": {
          "bdata": "AAAAoJ2SdEAAAADADrl2QAAAAIAY33hAAAAAgMMEe0AAAACAGCp9QAAAAMAfT39AAAAAIKbngEAAAACASVWCQAAAAMDCwoNAAAAAQBwwhUAAAAAAYJ2GQAAAACCYCohAAAAAAM93iUAAAADADuWKQAAAAMBhUoxAAAAAINK/jUAAAAAADwmQQAAAAABJSZFAAAAAAPuGk0AAAAAAcZ2aQAAAAOARRqNAAAAAIBHcqkAAAADg50yyQAAAAEDaprhAAAAAgFeawEAAAABAba/GQAAAACBqB9BAAAAAIB4520A=",
          "dtype": "f8"
         },
         "xaxis": "x",
         "y": {
          "bdata": "aLe0L9tZAED/Y8PF7dH5P1m0AYPfq/Q/MIkwRK/d8D9Cu0oQoKjrP32lMLcxr+Y/0MOjGaRf4j+qEBBkwDHdP+hASGX2TNc/76silvTg0j/yuaxUNsDOP17iK6FXLck/cmSaZvHCxD/qb16/wj3BPx7KHZMtqrw/g63u5ub1tz8DLaw4pTqyP6aZOKMW5Ko/jbONHRGaoD85OR8jleuBP1HUvi/DVFA/IABAyaReFj9e8frVHgnTPpORL9E0YIE+7YUfCH9cGD5NOr+r7FePPVZ7vn5/wMs8EZppB1gJlDs=",
          "dtype": "f8"
         },
         "yaxis": "y"
        },
        {
         "marker": {
          "color": "#EF553B",
          "line": {
           "color": "#EF553B",
           "width": 1.5
          },
          "size": 10,
          "symbol": "cross-thin"
         },
         "mode": "markers",
         "name": "res of bgo",
         "showlegend": false,
         "type": "scatter",
         "x": {
          "bdata": "AAAAoJ2SdEAAAADADrl2QAAAAIAY33hAAAAAgMMEe0AAAACAGCp9QAAAAMAfT39AAAAAIKbngEAAAACASVWCQAAAAMDCwoNAAAAAQBwwhUAAAAAAYJ2GQAAAACCYCohAAAAAAM93iUAAAADADuWKQAAAAMBhUoxAAAAAINK/jUAAAAAADwmQQAAAAABJSZFAAAAAAPuGk0AAAAAAcZ2aQAAAAOARRqNAAAAAIBHcqkAAAADg50yyQAAAAEDaprhAAAAAgFeawEAAAABAba/GQAAAACBqB9BAAAAAIB4520A=",
          "dtype": "f8"
         },
         "xaxis": "x2",
         "y": {
          "bdata": "WSJfEQQE8D/4sVf3QXD0P08yH2tyqvs/L5P1RYa3gb+eG25IxtwCQPwfwPdm/uo/dbLERkZDwb9DWgr7Db/zP8M/QgukA+M/xZGAaOUrBcCfLGKecTHAvx/QeNYXHPC/d2F/r3tru7/lKI1Aw4/sP32gxI+LPOu/0+gXnIoE4L+crNon5rvdP2TN/NFOjdE/4RTStbjj4b/JoHedY+3kv+P+o44WD9o/4A0pCepK8j+zr13KZFzhP6l9uIUCStg/WodRZkV5578EpJT3tuzlv4W5vCxuEOq/LB39JVQj978=",
          "dtype": "f8"
         },
         "yaxis": "y2"
        }
       ],
       "layout": {
        "height": 700,
        "legend": {
         "x": 1,
         "xanchor": "right",
         "y": 1,
         "yanchor": "bottom"
        },
        "template": {
         "data": {
          "bar": [
           {
            "error_x": {
             "color": "#2a3f5f"
            },
            "error_y": {
             "color": "#2a3f5f"
            },
            "marker": {
             "line": {
              "color": "white",
              "width": 0.5
             },
             "pattern": {
              "fillmode": "overlay",
              "size": 10,
              "solidity": 0.2
             }
            },
            "type": "bar"
           }
          ],
          "barpolar": [
           {
            "marker": {
             "line": {
              "color": "white",
              "width": 0.5
             },
             "pattern": {
              "fillmode": "overlay",
              "size": 10,
              "solidity": 0.2
             }
            },
            "type": "barpolar"
           }
          ],
          "carpet": [
           {
            "aaxis": {
             "endlinecolor": "#2a3f5f",
             "gridcolor": "#C8D4E3",
             "linecolor": "#C8D4E3",
             "minorgridcolor": "#C8D4E3",
             "startlinecolor": "#2a3f5f"
            },
            "baxis": {
             "endlinecolor": "#2a3f5f",
             "gridcolor": "#C8D4E3",
             "linecolor": "#C8D4E3",
             "minorgridcolor": "#C8D4E3",
             "startlinecolor": "#2a3f5f"
            },
            "type": "carpet"
           }
          ],
          "choropleth": [
           {
            "colorbar": {
             "outlinewidth": 0,
             "ticks": ""
            },
            "type": "choropleth"
           }
          ],
          "contour": [
           {
            "colorbar": {
             "outlinewidth": 0,
             "ticks": ""
            },
            "colorscale": [
             [
              0,
              "#0d0887"
             ],
             [
              0.1111111111111111,
              "#46039f"
             ],
             [
              0.2222222222222222,
              "#7201a8"
             ],
             [
              0.3333333333333333,
              "#9c179e"
             ],
             [
              0.4444444444444444,
              "#bd3786"
             ],
             [
              0.5555555555555556,
              "#d8576b"
             ],
             [
              0.6666666666666666,
              "#ed7953"
             ],
             [
              0.7777777777777778,
              "#fb9f3a"
             ],
             [
              0.8888888888888888,
              "#fdca26"
             ],
             [
              1,
              "#f0f921"
             ]
            ],
            "type": "contour"
           }
          ],
          "contourcarpet": [
           {
            "colorbar": {
             "outlinewidth": 0,
             "ticks": ""
            },
            "type": "contourcarpet"
           }
          ],
          "heatmap": [
           {
            "colorbar": {
             "outlinewidth": 0,
             "ticks": ""
            },
            "colorscale": [
             [
              0,
              "#0d0887"
             ],
             [
              0.1111111111111111,
              "#46039f"
             ],
             [
              0.2222222222222222,
              "#7201a8"
             ],
             [
              0.3333333333333333,
              "#9c179e"
             ],
             [
              0.4444444444444444,
              "#bd3786"
             ],
             [
              0.5555555555555556,
              "#d8576b"
             ],
             [
              0.6666666666666666,
              "#ed7953"
             ],
             [
              0.7777777777777778,
              "#fb9f3a"
             ],
             [
              0.8888888888888888,
              "#fdca26"
             ],
             [
              1,
              "#f0f921"
             ]
            ],
            "type": "heatmap"
           }
          ],
          "histogram": [
           {
            "marker": {
             "pattern": {
              "fillmode": "overlay",
              "size": 10,
              "solidity": 0.2
             }
            },
            "type": "histogram"
           }
          ],
          "histogram2d": [
           {
            "colorbar": {
             "outlinewidth": 0,
             "ticks": ""
            },
            "colorscale": [
             [
              0,
              "#0d0887"
             ],
             [
              0.1111111111111111,
              "#46039f"
             ],
             [
              0.2222222222222222,
              "#7201a8"
             ],
             [
              0.3333333333333333,
              "#9c179e"
             ],
             [
              0.4444444444444444,
              "#bd3786"
             ],
             [
              0.5555555555555556,
              "#d8576b"
             ],
             [
              0.6666666666666666,
              "#ed7953"
             ],
             [
              0.7777777777777778,
              "#fb9f3a"
             ],
             [
              0.8888888888888888,
              "#fdca26"
             ],
             [
              1,
              "#f0f921"
             ]
            ],
            "type": "histogram2d"
           }
          ],
          "histogram2dcontour": [
           {
            "colorbar": {
             "outlinewidth": 0,
             "ticks": ""
            },
            "colorscale": [
             [
              0,
              "#0d0887"
             ],
             [
              0.1111111111111111,
              "#46039f"
             ],
             [
              0.2222222222222222,
              "#7201a8"
             ],
             [
              0.3333333333333333,
              "#9c179e"
             ],
             [
              0.4444444444444444,
              "#bd3786"
             ],
             [
              0.5555555555555556,
              "#d8576b"
             ],
             [
              0.6666666666666666,
              "#ed7953"
             ],
             [
              0.7777777777777778,
              "#fb9f3a"
             ],
             [
              0.8888888888888888,
              "#fdca26"
             ],
             [
              1,
              "#f0f921"
             ]
            ],
            "type": "histogram2dcontour"
           }
          ],
          "mesh3d": [
           {
            "colorbar": {
             "outlinewidth": 0,
             "ticks": ""
            },
            "type": "mesh3d"
           }
          ],
          "parcoords": [
           {
            "line": {
             "colorbar": {
              "outlinewidth": 0,
              "ticks": ""
             }
            },
            "type": "parcoords"
           }
          ],
          "pie": [
           {
            "automargin": true,
            "type": "pie"
           }
          ],
          "scatter": [
           {
            "fillpattern": {
             "fillmode": "overlay",
             "size": 10,
             "solidity": 0.2
            },
            "type": "scatter"
           }
          ],
          "scatter3d": [
           {
            "line": {
             "colorbar": {
              "outlinewidth": 0,
              "ticks": ""
             }
            },
            "marker": {
             "colorbar": {
              "outlinewidth": 0,
              "ticks": ""
             }
            },
            "type": "scatter3d"
           }
          ],
          "scattercarpet": [
           {
            "marker": {
             "colorbar": {
              "outlinewidth": 0,
              "ticks": ""
             }
            },
            "type": "scattercarpet"
           }
          ],
          "scattergeo": [
           {
            "marker": {
             "colorbar": {
              "outlinewidth": 0,
              "ticks": ""
             }
            },
            "type": "scattergeo"
           }
          ],
          "scattergl": [
           {
            "marker": {
             "colorbar": {
              "outlinewidth": 0,
              "ticks": ""
             }
            },
            "type": "scattergl"
           }
          ],
          "scattermap": [
           {
            "marker": {
             "colorbar": {
              "outlinewidth": 0,
              "ticks": ""
             }
            },
            "type": "scattermap"
           }
          ],
          "scattermapbox": [
           {
            "marker": {
             "colorbar": {
              "outlinewidth": 0,
              "ticks": ""
             }
            },
            "type": "scattermapbox"
           }
          ],
          "scatterpolar": [
           {
            "marker": {
             "colorbar": {
              "outlinewidth": 0,
              "ticks": ""
             }
            },
            "type": "scatterpolar"
           }
          ],
          "scatterpolargl": [
           {
            "marker": {
             "colorbar": {
              "outlinewidth": 0,
              "ticks": ""
             }
            },
            "type": "scatterpolargl"
           }
          ],
          "scatterternary": [
           {
            "marker": {
             "colorbar": {
              "outlinewidth": 0,
              "ticks": ""
             }
            },
            "type": "scatterternary"
           }
          ],
          "surface": [
           {
            "colorbar": {
             "outlinewidth": 0,
             "ticks": ""
            },
            "colorscale": [
             [
              0,
              "#0d0887"
             ],
             [
              0.1111111111111111,
              "#46039f"
             ],
             [
              0.2222222222222222,
              "#7201a8"
             ],
             [
              0.3333333333333333,
              "#9c179e"
             ],
             [
              0.4444444444444444,
              "#bd3786"
             ],
             [
              0.5555555555555556,
              "#d8576b"
             ],
             [
              0.6666666666666666,
              "#ed7953"
             ],
             [
              0.7777777777777778,
              "#fb9f3a"
             ],
             [
              0.8888888888888888,
              "#fdca26"
             ],
             [
              1,
              "#f0f921"
             ]
            ],
            "type": "surface"
           }
          ],
          "table": [
           {
            "cells": {
             "fill": {
              "color": "#EBF0F8"
             },
             "line": {
              "color": "white"
             }
            },
            "header": {
             "fill": {
              "color": "#C8D4E3"
             },
             "line": {
              "color": "white"
             }
            },
            "type": "table"
           }
          ]
         },
         "layout": {
          "annotationdefaults": {
           "arrowcolor": "#2a3f5f",
           "arrowhead": 0,
           "arrowwidth": 1
          },
          "autotypenumbers": "strict",
          "coloraxis": {
           "colorbar": {
            "outlinewidth": 0,
            "ticks": ""
           }
          },
          "colorscale": {
           "diverging": [
            [
             0,
             "#8e0152"
            ],
            [
             0.1,
             "#c51b7d"
            ],
            [
             0.2,
             "#de77ae"
            ],
            [
             0.3,
             "#f1b6da"
            ],
            [
             0.4,
             "#fde0ef"
            ],
            [
             0.5,
             "#f7f7f7"
            ],
            [
             0.6,
             "#e6f5d0"
            ],
            [
             0.7,
             "#b8e186"
            ],
            [
             0.8,
             "#7fbc41"
            ],
            [
             0.9,
             "#4d9221"
            ],
            [
             1,
             "#276419"
            ]
           ],
           "sequential": [
            [
             0,
             "#0d0887"
            ],
            [
             0.1111111111111111,
             "#46039f"
            ],
            [
             0.2222222222222222,
             "#7201a8"
            ],
            [
             0.3333333333333333,
             "#9c179e"
            ],
            [
             0.4444444444444444,
             "#bd3786"
            ],
            [
             0.5555555555555556,
             "#d8576b"
            ],
            [
             0.6666666666666666,
             "#ed7953"
            ],
            [
             0.7777777777777778,
             "#fb9f3a"
            ],
            [
             0.8888888888888888,
             "#fdca26"
            ],
            [
             1,
             "#f0f921"
            ]
           ],
           "sequentialminus": [
            [
             0,
             "#0d0887"
            ],
            [
             0.1111111111111111,
             "#46039f"
            ],
            [
             0.2222222222222222,
             "#7201a8"
            ],
            [
             0.3333333333333333,
             "#9c179e"
            ],
            [
             0.4444444444444444,
             "#bd3786"
            ],
            [
             0.5555555555555556,
             "#d8576b"
            ],
            [
             0.6666666666666666,
             "#ed7953"
            ],
            [
             0.7777777777777778,
             "#fb9f3a"
            ],
            [
             0.8888888888888888,
             "#fdca26"
            ],
            [
             1,
             "#f0f921"
            ]
           ]
          },
          "colorway": [
           "#636efa",
           "#EF553B",
           "#00cc96",
           "#ab63fa",
           "#FFA15A",
           "#19d3f3",
           "#FF6692",
           "#B6E880",
           "#FF97FF",
           "#FECB52"
          ],
          "font": {
           "color": "#2a3f5f"
          },
          "geo": {
           "bgcolor": "white",
           "lakecolor": "white",
           "landcolor": "white",
           "showlakes": true,
           "showland": true,
           "subunitcolor": "#C8D4E3"
          },
          "hoverlabel": {
           "align": "left"
          },
          "hovermode": "closest",
          "mapbox": {
           "style": "light"
          },
          "paper_bgcolor": "white",
          "plot_bgcolor": "white",
          "polar": {
           "angularaxis": {
            "gridcolor": "#EBF0F8",
            "linecolor": "#EBF0F8",
            "ticks": ""
           },
           "bgcolor": "white",
           "radialaxis": {
            "gridcolor": "#EBF0F8",
            "linecolor": "#EBF0F8",
            "ticks": ""
           }
          },
          "scene": {
           "xaxis": {
            "backgroundcolor": "white",
            "gridcolor": "#DFE8F3",
            "gridwidth": 2,
            "linecolor": "#EBF0F8",
            "showbackground": true,
            "ticks": "",
            "zerolinecolor": "#EBF0F8"
           },
           "yaxis": {
            "backgroundcolor": "white",
            "gridcolor": "#DFE8F3",
            "gridwidth": 2,
            "linecolor": "#EBF0F8",
            "showbackground": true,
            "ticks": "",
            "zerolinecolor": "#EBF0F8"
           },
           "zaxis": {
            "backgroundcolor": "white",
            "gridcolor": "#DFE8F3",
            "gridwidth": 2,
            "linecolor": "#EBF0F8",
            "showbackground": true,
            "ticks": "",
            "zerolinecolor": "#EBF0F8"
           }
          },
          "shapedefaults": {
           "line": {
            "color": "#2a3f5f"
           }
          },
          "ternary": {
           "aaxis": {
            "gridcolor": "#DFE8F3",
            "linecolor": "#A2B1C6",
            "ticks": ""
           },
           "baxis": {
            "gridcolor": "#DFE8F3",
            "linecolor": "#A2B1C6",
            "ticks": ""
           },
           "bgcolor": "white",
           "caxis": {
            "gridcolor": "#DFE8F3",
            "linecolor": "#A2B1C6",
            "ticks": ""
           }
          },
          "title": {
           "x": 0.05
          },
          "xaxis": {
           "automargin": true,
           "gridcolor": "#EBF0F8",
           "linecolor": "#EBF0F8",
           "ticks": "",
           "title": {
            "standoff": 15
           },
           "zerolinecolor": "#EBF0F8",
           "zerolinewidth": 2
          },
          "yaxis": {
           "automargin": true,
           "gridcolor": "#EBF0F8",
           "linecolor": "#EBF0F8",
           "ticks": "",
           "title": {
            "standoff": 15
           },
           "zerolinecolor": "#EBF0F8",
           "zerolinewidth": 2
          }
         }
        },
        "width": 600,
        "xaxis": {
         "anchor": "y",
         "domain": [
          0,
          1
         ],
         "matches": "x2",
         "showticklabels": false,
         "title": {
          "text": ""
         },
         "type": "log"
        },
        "xaxis2": {
         "anchor": "y2",
         "domain": [
          0,
          1
         ],
         "title": {
          "text": "Energy (keV)"
         },
         "type": "log"
        },
        "yaxis": {
         "anchor": "x",
         "domain": [
          0.265,
          1
         ],
         "range": [
          -3.958309693863913,
          2.3709512215322928
         ],
         "title": {
          "text": "Counts/s/keV"
         },
         "type": "log"
        },
        "yaxis2": {
         "anchor": "x2",
         "domain": [
          0,
          0.245
         ],
         "range": [
          -3.5,
          3.5
         ],
         "showgrid": false,
         "title": {
          "text": "Sigma"
         }
        }
       }
      }
     },
     "metadata": {},
     "output_type": "display_data"
    }
   ],
   "source": [
    "fig = Plot.pair(pair, style='CE')"
   ]
  },
  {
   "cell_type": "code",
   "execution_count": 8,
   "id": "d8960790-994f-48a5-8849-c1957334f80e",
   "metadata": {},
   "outputs": [
    {
     "data": {
      "application/vnd.plotly.v1+json": {
       "config": {
        "plotlyServerURL": "https://plot.ly"
       },
       "data": [
        {
         "error_x": {
          "array": {
           "bdata": "AAAAAMa52j8AAAAAzIvaPwAAAABW0N8/AAAAAMr+3z8AAAAAVzXgPwAAAAAEiuA/AAAAAA/94D8AAAAANXzhPwAAAADC7OE/AAAAAH5h5T8AAAAAWsnlPwAAAAAOGeY/AAAAANJl5j8AAAAAvLrmPwAAAADsF+c/AAAAACzh6j8AAAAAAHLrPwAAAAAiD+w/AAAAAJy47D8AAAAAZJnzPwAAAADwneg/AAAAAEgJ6T8AAAAAXLDpPwAAAABQT+o/AAAAADDs7T8AAAAAQJvuPwAAAAAcP+8/AAAAANzX7z8AAAAAENXxPwAAAABKI/I/AAAAABhq8j8AAAAAfKnyPwAAAABcm/Q/AAAAAFLU9D8AAAAApgP1PwAAAAAo7vY/AAAAACgO9z8AAAAA3CH3PwAAAABk8fg/AAAAAMDq+D8AAAAADNb4PwAAAADogfo/AAAAAPxp+j8AAAAAdFX6PwAAAAAMBPw/AAAAAKz0+z8AAAAAZOn7PwAAAAA8oP0/AAAAABSd/T8AAAAAGF3/PwAAAAD0ZP8/AAAAAC6ZAEAAAAAAlqIAQAAAAADojAFAAAAAAEyXAUAAAAAAnKEBQAAAAABMjgJAAAAAAICZAkAAAAAALIgDQAAAAABkeARAAAAAAISFBEAAAAAAzHcFQAAAAADUhQVAAAAAADh6BkAAAAAALIkGQAAAAACsfwdAAAAAANR3CEAAAAAAwIgIQAAAAAAUgwlAAAAAACB/CkAAAAAABJIKQAAAAAA4kAtAAAAAACyQDEAAAAAA4JENQAAAAAC8pw1AAAAAAJyrDkAAAAAAKLEPQAAAAABEXBBAAAAAAJxoEEAAAAAASO0QQAAAAADYchFAAAAAADj5EUAAAAAAcIASQAAAAAB8CBNAAAAAAFiRE0AAAAAA/BoUQAAAAABkpRRAAAAAAIwwFUAAAAAAbLwVQAAAAAAESRZAAAAAADzWFkAAAAAAGGQXQAAAAADYbxhAAAAAAIz/GEAAAAAAwI8ZQAAAAABkIBpAAAAAAGSxGkAAAAAAzMEbQAAAAAAMVBxAAAAAAHjmHEAAAAAAEPkdQAAAAAA4jB5AAAAAAOifH0AAAAAAtBkgQAAAAADgoyBAAAAAAHztIEAAAAAAzLwxQAAAAAALGUNAAAAAAOgWU0A=",
           "dtype": "f8"
          },
          "arrayminus": {
           "bdata": "AAAAAMa52j8AAAAAzIvaPwAAAABW0N8/AAAAAMr+3z8AAAAAVzXgPwAAAAAEiuA/AAAAAA/94D8AAAAANXzhPwAAAADC7OE/AAAAAH5h5T8AAAAAWsnlPwAAAAAOGeY/AAAAANJl5j8AAAAAvLrmPwAAAADsF+c/AAAAACzh6j8AAAAAAHLrPwAAAAAiD+w/AAAAAJy47D8AAAAAZJnzPwAAAADwneg/AAAAAEgJ6T8AAAAAXLDpPwAAAABQT+o/AAAAADDs7T8AAAAAQJvuPwAAAAAcP+8/AAAAANzX7z8AAAAAENXxPwAAAABKI/I/AAAAABhq8j8AAAAAfKnyPwAAAABcm/Q/AAAAAFLU9D8AAAAApgP1PwAAAAAo7vY/AAAAACgO9z8AAAAA3CH3PwAAAABk8fg/AAAAAMDq+D8AAAAADNb4PwAAAADogfo/AAAAAPxp+j8AAAAAdFX6PwAAAAAMBPw/AAAAAKz0+z8AAAAAZOn7PwAAAAA8oP0/AAAAABSd/T8AAAAAGF3/PwAAAAD0ZP8/AAAAAC6ZAEAAAAAAlqIAQAAAAADojAFAAAAAAEyXAUAAAAAAnKEBQAAAAABMjgJAAAAAAICZAkAAAAAALIgDQAAAAABkeARAAAAAAISFBEAAAAAAzHcFQAAAAADUhQVAAAAAADh6BkAAAAAALIkGQAAAAACsfwdAAAAAANR3CEAAAAAAwIgIQAAAAAAUgwlAAAAAACB/CkAAAAAABJIKQAAAAAA4kAtAAAAAACyQDEAAAAAA4JENQAAAAAC8pw1AAAAAAJyrDkAAAAAAKLEPQAAAAABEXBBAAAAAAJxoEEAAAAAASO0QQAAAAADYchFAAAAAADj5EUAAAAAAcIASQAAAAAB8CBNAAAAAAFiRE0AAAAAA/BoUQAAAAABkpRRAAAAAAIwwFUAAAAAAbLwVQAAAAAAESRZAAAAAADzWFkAAAAAAGGQXQAAAAADYbxhAAAAAAIz/GEAAAAAAwI8ZQAAAAABkIBpAAAAAAGSxGkAAAAAAzMEbQAAAAAAMVBxAAAAAAHjmHEAAAAAAEPkdQAAAAAA4jB5AAAAAAOifH0AAAAAAtBkgQAAAAADgoyBAAAAAAHztIEAAAAAAzLwxQAAAAAALGUNAAAAAAOgWU0A=",
           "dtype": "f8"
          },
          "color": "#636EFA",
          "symmetric": false,
          "thickness": 1.5,
          "type": "data",
          "width": 0
         },
         "error_y": {
          "array": {
           "bdata": "tIW1gVfW4z/PNH52df/ZP1NFf8xsENE/ueBAlU2YyT/h/cHR8MLEP7204R5oe8A/hrN9GEd7uz+Z9qzuEFC4P8Bv/qTmyrU/F40FP1gWsj9x/elnh5+vP0vvlQ9jmaw/D5595k5Bqz+PAvT0R02pP2r6qi6VWKc/YJAWUWq5oz+qsHETdNyiPx3DXCef4aE/acsX8zn8oD8khVDZrESYP8tj6qxFE6Q//kovvgy7oT9wkvP6HYKgP78SG8h+tpw/IJgljRVQmT85maRkZJGYP+Kl0BfZUJY/UlrD+qsKlj8/Pb/5yDCTP0tlKH7sPZI/hOBhJHhIkT86t98LAQGQP5g1A7rMEY0/gA7rLuEMjD9zT4DU9XmLP/joPXwRDIk/W+PQSGGYhj8edmHYppWGPxk7BYAkAIQ/40NZhL+agz8Q2f+9sPmCP+QjaMMIJ4E/vmLPL7zAgD+Vr28b2VOAP7I7tOc6Z38/+p3AOeRmfD/8P1NQn656P7njzAhFH3s//OnIzDnhej/8QQJr9D94P5yb151+WXc/A39zxB2Vdj+TRbNc/xR1PwPgXzFMFHQ/m4Vmc4Oacz9uUB1AMnhyP1v4CKv4gHI/adaOH61bcT8+Op82K2VxP079iLMbVnA/g+ifSRSibj9d2ME2ASBuP0YgvzJzNW0/NDWwX0cbbj8wkAqdTDFrPxtTklD6MGo/FLhpvLp+aj/WpA0nzWFpP90GJiI2OWo/B/NRMBuQZj+CPa212OZnPyRazASoDmc/KKqilopbZj934QyltspkPwQUT+v5hGY/o2XDHRVAZD9BCmB5MANlP69vdgyMrmM/ws5QiMUvZD+lVPlzb4BiPyfkE2+a6mI/ilcgzcpKYz/qznnMRNtgP2MVqYyALGM/eteUMrgaYD/Ho7r/KqFgPw3yvkp2PmE/FzpmY27lXj8mCk4pkSphP6d+ggHI62E/VXaLtU6RXD9wpoBYNvBcP9J7KkxtIV0/G/NWvtrjXz/k181z3xhZPwmiuVQbfVw/m63J86SYXT8FYy4L0dZbP1GWFrBLYF0/Pnq+QxpgXT8AtQILidxdP+ySgipLs10/nUWarLNUWj/KehzsIbVYP0LcTSHL1Vo/0Na8umUwXD9wtFWcT5pRP+6xhC25lkU/KicwSTylPj8=",
           "dtype": "f8"
          },
          "color": "#636EFA",
          "thickness": 1.5,
          "type": "data",
          "width": 0
         },
         "marker": {
          "color": "#636EFA",
          "size": 0,
          "symbol": "cross-thin"
         },
         "mode": "markers",
         "name": "obs of nai",
         "showlegend": false,
         "type": "scatter",
         "x": {
          "bdata": "AAAAwO3+IEAAAABAGqkiQAAAAED7eyRAAAAAQHR6JkAAAAAAwH0oQAAAAMC1iSpAAAAAACeiLEAAAABAu8kuQAAAAEAlgDBAAAAAQJe6MUAAAAAA7hMzQAAAAEABczRAAAAAQPjWNUAAAADA/D83QAAAAACSrjhAAAAAwFo+OkAAAAAg9PA7QAAAAED9rD1AAAAAIDtzP0AAAAAgS8lAQAAAAACOyEFAAAAA4CqPQkAAAACAEVpDQAAAACAQKkRAAAAAIP4KRUAAAADgG/1FQAAAAECF9EZAAAAAQOHwR0AAAAAg6f5IQAAAAACsHkpAAAAAABdDS0AAAACgs2tMQAAAAGDapU1AAAAAwFfxTkAAAADACyBQQAAAAADTz1BAAAAAQMSHUUAAAABAhEBSQAAAAEDRAFNAAAAA4EHIU0AAAAAARY9UQAAAAOCkXFVAAAAAgFQwVkAAAABAUgNXQAAAAEC43FdAAAAAAJu8WEAAAABAE5xZQAAAAMA5glpAAAAAAC9vW0AAAADAF2NcQAAAAAAgXl1AAAAAQH1gXkAAAABAW2pfQAAAAKDrPWBAAAAAgHzKYEAAAAAAYFdhQAAAAMAf6GFAAAAA4L58YkAAAACARRVjQAAAAMBHtWNAAAAAgD9ZZEAAAADANAFlQAAAAEArrWVAAAAAYCtdZkAAAAAAORFnQAAAAEBcyWdAAAAAQDqJaEAAAACgPE1pQAAAAABsFWpAAAAAwHTlakAAAABAublrQAAAAEBCkmxAAAAAwMNybUAAAAAATFtuQAAAAIAySG9AAAAA4L8ccEAAAACAeZlwQAAAAMBMGnFAAAAAQGCdcUAAAADgtyJyQAAAAGA4rHJAAAAAoOg5c0AAAABAz8tzQAAAAADzYXRAAAAAQFr8dEAAAACAC5t1QAAAAAANPnZAAAAAwGTldkAAAADAGJF3QAAAAIAuQXhAAAAAgKv1eEAAAADAlK55QAAAAIDkbXpAAAAAAKIze0AAAABA3/17QAAAAMCfzHxAAAAAAOeffUAAAADAs3l+QAAAAAALWn9AAAAAgHofgEAAAACgOZWAQAAAAEBEDoFAAAAAgJyKgUAAAAAAQwqCQAAAAGA5jYJAAAAAwH4Tg0AAAAAgG+WDQAAAAECSpIVAAAAA4P84iUA=",
          "dtype": "f8"
         },
         "xaxis": "x",
         "y": {
          "bdata": "LH7dJ7cII0CnHvRjubYZQAh0tci7gxVAxe7rWcujEUCgrDiuszwQQD7aQKfzPQtAbuahtAKoB0DeKKwX/IwGQDaR4XqNMAVAUblT4koSBEDLMoV4BzcBQKPec/Ja8P4/k2vJABeY/j/kYfKn+uj7Px7YJaLSSfk/bF+Aa3ti9T+2HZ45in70P/gNqWyBg/I/fN7XNniG8D9RTKPdT7blP3mOuBuEA/I/9W5A4Q5u7D+C2DM78WPqP7LsgYXPReQ/k4SlChh14j8FCT8PcVviP4aKjTbMst8/yDep1RlU4D9VJXhKMZ3bP+8HwZXfyNk/AsDPXu4w2D+6Y87asL7VP2czlYotUtQ/BGY15CFc0z/CI2zVEfnSP4+4/rteXtE/JYS7xqGSzD8pE0OYXknOP78cQOgAPMo/XiGjVKAjyj9Kp1wbGgvJPy/wXc5w5cU/1sKTGwAYxT/012rEWmXEPzFhxfE8TMQ/47i8IthhwD9dRLkk6Gi9P5QxjxbYe8A/+5G0dOxMwD9a3/e7wr+7P/oqNBhkJ7o/OV22ci/fuT8G8N6KzGe2PwaAEChuULU/BBz40SectD+fZrAJN82xP+wB29hDCbM/Zy0T8eCCsD9gStvMu0mxP2UwoqRRC7A/gl1gYtQhqz/8M1K7NzWrPy/lAfQT9Kg/lFlwDycpqz/t7q2pPHykP1TUhuNYHaM/Nkltisv0oz/6qa6SbNmhP96RXXOk7KM/BWKstAeSnD8EFqK55gegP3hQhziPEZ0/36jRXGnnmj9M9wxrdYKWP6QLZBnr2pk/egjms9QjlD+8TkhOMQeWPzlyqUkRqJI/MLXXFuvKkj9SGfl85HCNP5tF+M1aE48/nGPKaTgekD9u7NS8eBCHPyLqTWz0sZA/MmiqDcEThj9iw8CGEtuGP8oQYt4rDog/aD8mfmqJgT8h2kyu/xKHP5xDdAGKfIk/BMVhQvFkej+IU93ryxd4P3n2udqbD3s/UQOA7Iwtgz+BbYft6lpqP2EAqXd8f3c/6W5o0UbNdz9qsDq3THNyP9TLcw0qQHM/h3x/RzqvcT8x6uFNUcxzP1Gz9MTasHY/I70RPTn4az/CX+1AR9doP60Yx8rhFnM/bnnKnCL3dD8Fuo0FMHVoP0XO0bwlOVo/ZgBcgh2oUj8=",
          "dtype": "f8"
         },
         "yaxis": "y"
        },
        {
         "line": {
          "color": "#636EFA",
          "width": 2
         },
         "mode": "lines",
         "name": "nai",
         "showlegend": true,
         "type": "scatter",
         "x": {
          "bdata": "AAAAwO3+IEAAAABAGqkiQAAAAED7eyRAAAAAQHR6JkAAAAAAwH0oQAAAAMC1iSpAAAAAACeiLEAAAABAu8kuQAAAAEAlgDBAAAAAQJe6MUAAAAAA7hMzQAAAAEABczRAAAAAQPjWNUAAAADA/D83QAAAAACSrjhAAAAAwFo+OkAAAAAg9PA7QAAAAED9rD1AAAAAIDtzP0AAAAAgS8lAQAAAAACOyEFAAAAA4CqPQkAAAACAEVpDQAAAACAQKkRAAAAAIP4KRUAAAADgG/1FQAAAAECF9EZAAAAAQOHwR0AAAAAg6f5IQAAAAACsHkpAAAAAABdDS0AAAACgs2tMQAAAAGDapU1AAAAAwFfxTkAAAADACyBQQAAAAADTz1BAAAAAQMSHUUAAAABAhEBSQAAAAEDRAFNAAAAA4EHIU0AAAAAARY9UQAAAAOCkXFVAAAAAgFQwVkAAAABAUgNXQAAAAEC43FdAAAAAAJu8WEAAAABAE5xZQAAAAMA5glpAAAAAAC9vW0AAAADAF2NcQAAAAAAgXl1AAAAAQH1gXkAAAABAW2pfQAAAAKDrPWBAAAAAgHzKYEAAAAAAYFdhQAAAAMAf6GFAAAAA4L58YkAAAACARRVjQAAAAMBHtWNAAAAAgD9ZZEAAAADANAFlQAAAAEArrWVAAAAAYCtdZkAAAAAAORFnQAAAAEBcyWdAAAAAQDqJaEAAAACgPE1pQAAAAABsFWpAAAAAwHTlakAAAABAublrQAAAAEBCkmxAAAAAwMNybUAAAAAATFtuQAAAAIAySG9AAAAA4L8ccEAAAACAeZlwQAAAAMBMGnFAAAAAQGCdcUAAAADgtyJyQAAAAGA4rHJAAAAAoOg5c0AAAABAz8tzQAAAAADzYXRAAAAAQFr8dEAAAACAC5t1QAAAAAANPnZAAAAAwGTldkAAAADAGJF3QAAAAIAuQXhAAAAAgKv1eEAAAADAlK55QAAAAIDkbXpAAAAAAKIze0AAAABA3/17QAAAAMCfzHxAAAAAAOeffUAAAADAs3l+QAAAAAALWn9AAAAAgHofgEAAAACgOZWAQAAAAEBEDoFAAAAAgJyKgUAAAAAAQwqCQAAAAGA5jYJAAAAAwH4Tg0AAAAAgG+WDQAAAAECSpIVAAAAA4P84iUA=",
          "dtype": "f8"
         },
         "xaxis": "x",
         "y": {
          "bdata": "AAAAgLg+H0AAAACg8/UaQAAAAMBwRBdAAAAA4GUWFEAAAADALokRQAAAACAr4Q5AAAAAwFReC0AAAADgzWIIQAAAAABr1QVAAAAAwJp4A0AAAABAhFEBQAAAAKCs/v4/AAAAoGzk+z8AAABgszn5PwAAAECa6fY/AAAAwD7B9D8AAAAglMHyPwAAACCCA/E/AAAAoLT37j8AAADAx9jrPwAAAACSWOk/AAAAQCyj5z8AAACgphLmPwAAAADooeQ/AAAAACs84z8AAAAgAuThPwAAAEDcqeA/AAAAgOEV3z8AAACgLvDcPwAAACAe5do/AAAAYFwK2T8AAADg8FrXPwAAACBXwdU/AAAAIII+1D8AAADghODSPwAAAGDIltE/AAAAoHVh0D8AAACg+JTOPwAAAMCBisw/AAAAwPqiyj8AAADATuzIPwAAAMAfU8c/AAAAwKrVxT8AAABgBH3EPwAAAOBnOsM/AAAAIG0Mwj8AAABA7vnAPwAAAAAB8L8/AAAAAEMLvj8AAABAtEO8PwAAAIB7l7o/AAAAINMEuT8AAAAgJYq3PwAAACAKJrY/AAAAwEXXtD8AAACg+6OzPwAAAIBxgrI/AAAA4LdxsT8AAAAg3nCwPwAAAGB9864/AAAAYD0jrT8AAADAH2+rPwAAAIBv1ak/AAAAgIRUqD8AAABA2uqmPwAAAID6lqU/AAAA4KZRpD8AAADAayCjPwAAAOD1AaI/AAAAYHLwoD8AAAAgJeCfPwAAACBX/50/AAAAYCQ1nD8AAAAAQYGaPwAAAKBg6Zg/AAAAYIdrlz8AAAAAswCWPwAAAABvqJQ/AAAA4J5mkz8AAABgozmSPwAAAOBAHJE/AAAAgPkNkD8AAAAAkByOPwAAAIBCOYw/AAAAYO1wij8AAACgcMKIPwAAAACqLIc/AAAAYHmuhT8AAADAwkaEPwAAAMBt9II/AAAA4Gi2gT8AAAAgqouAPwAAAIDQ4H4/AAAAoLPIfD8AAACg6NJ6PwAAAABw/Xg/AAAAIGBGdz8AAABATah1PwAAACBnInQ/AAAAQNK2cj8AAACAGWFxPwAAAKBdIHA/AAAAIG7nbT8AAACAe7RrPwAAAMAMpmk/AAAA4FW6Zz8AAAAg3Q9lPwAAAMC6eGA/AAAAAAeGVD8=",
          "dtype": "f8"
         },
         "yaxis": "y"
        },
        {
         "marker": {
          "color": "#636EFA",
          "line": {
           "color": "#636EFA",
           "width": 1.5
          },
          "size": 10,
          "symbol": "cross-thin"
         },
         "mode": "markers",
         "name": "res of nai",
         "showlegend": false,
         "type": "scatter",
         "x": {
          "bdata": "AAAAwO3+IEAAAABAGqkiQAAAAED7eyRAAAAAQHR6JkAAAAAAwH0oQAAAAMC1iSpAAAAAACeiLEAAAABAu8kuQAAAAEAlgDBAAAAAQJe6MUAAAAAA7hMzQAAAAEABczRAAAAAQPjWNUAAAADA/D83QAAAAACSrjhAAAAAwFo+OkAAAAAg9PA7QAAAAED9rD1AAAAAIDtzP0AAAAAgS8lAQAAAAACOyEFAAAAA4CqPQkAAAACAEVpDQAAAACAQKkRAAAAAIP4KRUAAAADgG/1FQAAAAECF9EZAAAAAQOHwR0AAAAAg6f5IQAAAAACsHkpAAAAAABdDS0AAAACgs2tMQAAAAGDapU1AAAAAwFfxTkAAAADACyBQQAAAAADTz1BAAAAAQMSHUUAAAABAhEBSQAAAAEDRAFNAAAAA4EHIU0AAAAAARY9UQAAAAOCkXFVAAAAAgFQwVkAAAABAUgNXQAAAAEC43FdAAAAAAJu8WEAAAABAE5xZQAAAAMA5glpAAAAAAC9vW0AAAADAF2NcQAAAAAAgXl1AAAAAQH1gXkAAAABAW2pfQAAAAKDrPWBAAAAAgHzKYEAAAAAAYFdhQAAAAMAf6GFAAAAA4L58YkAAAACARRVjQAAAAMBHtWNAAAAAgD9ZZEAAAADANAFlQAAAAEArrWVAAAAAYCtdZkAAAAAAORFnQAAAAEBcyWdAAAAAQDqJaEAAAACgPE1pQAAAAABsFWpAAAAAwHTlakAAAABAublrQAAAAEBCkmxAAAAAwMNybUAAAAAATFtuQAAAAIAySG9AAAAA4L8ccEAAAACAeZlwQAAAAMBMGnFAAAAAQGCdcUAAAADgtyJyQAAAAGA4rHJAAAAAoOg5c0AAAABAz8tzQAAAAADzYXRAAAAAQFr8dEAAAACAC5t1QAAAAAANPnZAAAAAwGTldkAAAADAGJF3QAAAAIAuQXhAAAAAgKv1eEAAAADAlK55QAAAAIDkbXpAAAAAAKIze0AAAABA3/17QAAAAMCfzHxAAAAAAOeffUAAAADAs3l+QAAAAAALWn9AAAAAgHofgEAAAACgOZWAQAAAAEBEDoFAAAAAgJyKgUAAAAAAQwqCQAAAAGA5jYJAAAAAwH4Tg0AAAAAgG+WDQAAAAECSpIVAAAAA4P84iUA=",
          "dtype": "f8"
         },
         "xaxis": "x2",
         "y": {
          "bdata": "OMy53FIDBkCPAdo91o7ov2ClaJWXS/q/yE2uv0Z7CMD/nTpYqQMAwFfubBvZPwzAyqdpaUdKEcBB9P3o8FIDwAazWajEQu6/9BaueXn+8D9xUNY8lc3KvwgmuMCTBbC//F66Y6FgCUAFcHlswykLQCUQGbxqDQpA+cGg5F1Z8D/B53SsZ5cHQOtUK3mJeQVARgml7dZk/z9ts/w+ny0gwLNzaW+7BiFApsPg/4VMEUAFYJMVC70QQJ0kjv/kqNm/0hkdGE1177+41GamBXLjP4MZg07PrvK/Y8YY97JA8j/PzM87Farxv/AspO/1Ke+/MtlBXTYp6b+28a19YsL5v+OwfbTPQvm/CFiyTwUk8L+Unsymr5e8P4pF3ImgBNK/e2JJLGm6B8Cpj6ijqcfKvycCMU47hv2/6S+iagj82b/V/M84Pfe5P9G37BLPUfW/z6YpVJOk5r8oSGt3FzC3v7JOGEKTcPE/BqDf6vgJ/r9jKW7y8soFwL47HVy3ceM/S+9zlzJa+D9+OJ3vlsPVv2kHL6/JM9O/EU0Mm8RW4z8a/rcYX4vrvwoc1rvNRuW/j8jzZf0fyL9ToohyKX35vx4aDgEIJd0/0ub+MOKE67/A/qk0G+/oP1Gz0YZ00uE/ZjFMNY3C8L/z3KspVcG+v7u8GNeS3N6/wH1EjaoR+D/95lzkguX2v/TD0SpCMfi/2Go0nJgJzL8toSqdGMTpv5CegfsntvI/9UBfF94c/r9uzh9Z/OavP50kKuUQoNS/aPxvHZna3b8e7UWHl5j4v48+Hj6nc9U/2MEWx6K79L/R3rgyEseDP0vnvXtOCOq/z9S0ZEPazr+7KRENBz/4vz9pUzEmSOW/Q4LZKGnymj8TENz0rsH6v1ILK0LZPvE/nvSeEbtX8b+tPDU2q07dv24PvWKmJ8o/whCHLtwr8b8ocbA8ndzkP/D6OpB7U/c/wrlzCEw79L+alBXpfebzv5pOyarZxeC/JtwRy7E18z8V8YL+TWYBwBiXk5Vx0Mq/UWciZXA7sj/1z9pfrn3dv8KXNCBFzr6/WFJbfFHywb9ugOnPgbzUP/OMvPJrSuw/Dip7epzOwr9RHmXk4KzNvwcXsUwv4u0/RLI8UOyp9D8RxyaGW7HYP0Kdd2Df6+O/fFsl25Mwz78=",
          "dtype": "f8"
         },
         "yaxis": "y2"
        },
        {
         "error_x": {
          "array": {
           "bdata": "AAAAADg1MUAAAAAA2jExQAAAAADCLjFAAAAAAO8rMUAAAAAAXykxQAAAAAAXJzFAAAAAALDbNkAAAAAAvNg2QAAAAABu1jZAAAAAAMDUNkAAAAAAttM2QAAAAABQ0zZAAAAAAIzTNkAAAAAAbtQ2QAAAAADy1TZAAAAAABjYNkAAAAAAs7hJQAAAAAAcnTxAAAAAANizXEAAAABA4ix1QAAAAEDojXpAAAAAAAkRgUAAAADA8eWFQAAAAICh6YxAAAAAgILCk0AAAACAKuacQAAAAACHCqdAAAAAQMagwEA=",
           "dtype": "f8"
          },
          "arrayminus": {
           "bdata": "AAAAADg1MUAAAAAA2jExQAAAAADCLjFAAAAAAO8rMUAAAAAAXykxQAAAAAAXJzFAAAAAALDbNkAAAAAAvNg2QAAAAABu1jZAAAAAAMDUNkAAAAAAttM2QAAAAABQ0zZAAAAAAIzTNkAAAAAAbtQ2QAAAAADy1TZAAAAAABjYNkAAAAAAs7hJQAAAAAAcnTxAAAAAANizXEAAAABA4ix1QAAAAEDojXpAAAAAAAkRgUAAAADA8eWFQAAAAICh6YxAAAAAgILCk0AAAACAKuacQAAAAACHCqdAAAAAQMagwEA=",
           "dtype": "f8"
          },
          "color": "#EF553B",
          "symmetric": false,
          "thickness": 1.5,
          "type": "data",
          "width": 0
         },
         "error_y": {
          "array": {
           "bdata": "K3HqGpvcRD+ALFR/OB5EP6Wf11ETyUI/527kSswaQD8tCMYFwvA/PzeZGev6pj4/zERTVLAzOT8U79g6p8g2P5UdtDweJDQ/aX8NzQwAMT9Fi3HLN2wxP0McGUdSyDA/O3HfP+QfMT8Cky4LhZcxPxZjmVxHUi8/2drSUuX+Lz+T+b5n0/QmP8CXn8pDsC0/dg98AwczGT9X4zmqqmcHP2lEcuz6/Po+ihUHZC657D7b11cFaB3YPt75EMiXbMg+C2XB55OytD5JjxUmBguXPuTHVHDsK2E+aR/qJqcYVT0=",
           "dtype": "f8"
          },
          "color": "#EF553B",
          "thickness": 1.5,
          "type": "data",
          "width": 0
         },
         "marker": {
          "color": "#EF553B",
          "size": 0,
          "symbol": "cross-thin"
         },
         "mode": "markers",
         "name": "obs of bgo",
         "showlegend": false,
         "type": "scatter",
         "x": {
          "bdata": "AAAAoJ2SdEAAAADADrl2QAAAAIAY33hAAAAAgMMEe0AAAACAGCp9QAAAAMAfT39AAAAAIKbngEAAAACASVWCQAAAAMDCwoNAAAAAQBwwhUAAAAAAYJ2GQAAAACCYCohAAAAAAM93iUAAAADADuWKQAAAAMBhUoxAAAAAINK/jUAAAAAADwmQQAAAAABJSZFAAAAAAPuGk0AAAAAAcZ2aQAAAAOARRqNAAAAAIBHcqkAAAADg50yyQAAAAEDaprhAAAAAgFeawEAAAABAba/GQAAAACBqB9BAAAAAIB4520A=",
          "dtype": "f8"
         },
         "xaxis": "x",
         "y": {
          "bdata": "H+b3+EzzjD9nrcaxu6uHP5YG3ZVp5IM/wD5SMw8/fT9hzciQVOt8P+X5gz5K0nU/B9YEWydNcD/XTlYZuQRuP9I24pIh+GY/mYdbaOTVVz9ubofoQVBcPxqL/+k0rFM/5y+z1GdvUz9HhsgWS5FUP6i1fHoQTUU/Ri+n+NWVQz8nQrZsALBEP8gmtFOiSD8/XH7na6GCKj8c+rpxr2oBP2GM+r0Kr/I+t3bnBVQM8T7XpJbibGjKPlMGncK5jLI+SAVBt4pdrr4RPrgjYpOPvuo99mAC+Vu+bfgZKQWCXr0=",
          "dtype": "f8"
         },
         "yaxis": "y"
        },
        {
         "line": {
          "color": "#EF553B",
          "width": 2
         },
         "mode": "lines",
         "name": "bgo",
         "showlegend": true,
         "type": "scatter",
         "x": {
          "bdata": "AAAAoJ2SdEAAAADADrl2QAAAAIAY33hAAAAAgMMEe0AAAACAGCp9QAAAAMAfT39AAAAAIKbngEAAAACASVWCQAAAAMDCwoNAAAAAQBwwhUAAAAAAYJ2GQAAAACCYCohAAAAAAM93iUAAAADADuWKQAAAAMBhUoxAAAAAINK/jUAAAAAADwmQQAAAAABJSZFAAAAAAPuGk0AAAAAAcZ2aQAAAAOARRqNAAAAAIBHcqkAAAADg50yyQAAAAEDaprhAAAAAgFeawEAAAABAba/GQAAAACBqB9BAAAAAIB4520A=",
          "dtype": "f8"
         },
         "xaxis": "x",
         "y": {
          "bdata": "AAAAgC+liz8AAADgjBCGPwAAAKCy3IE/AAAAgIRDfT8AAAAAYjZ4PwAAAICUNHQ/AAAAIImDcD8AAABg7oBqPwAAAAAqeWU/AAAAYJ+KYT8AAABgUt1cPwAAAGCn5Vc/AAAAQMvkUz8AAADgY6RQPwAAAEA890s/AAAAQNWWRz8AAAAAawVCPwAAAOByNjs/AAAAgOzGMD8AAABgjVwQPwAAAACgx94+AAAAAHQdpD4AAAAAr/ZePgAAAMAFVwY+AAAAwM5VlD0AAACg/Nf1PAAAAKAUrAY8AAAAoJ8h1jk=",
          "dtype": "f8"
         },
         "yaxis": "y"
        },
        {
         "marker": {
          "color": "#EF553B",
          "line": {
           "color": "#EF553B",
           "width": 1.5
          },
          "size": 10,
          "symbol": "cross-thin"
         },
         "mode": "markers",
         "name": "res of bgo",
         "showlegend": false,
         "type": "scatter",
         "x": {
          "bdata": "AAAAoJ2SdEAAAADADrl2QAAAAIAY33hAAAAAgMMEe0AAAACAGCp9QAAAAMAfT39AAAAAIKbngEAAAACASVWCQAAAAMDCwoNAAAAAQBwwhUAAAAAAYJ2GQAAAACCYCohAAAAAAM93iUAAAADADuWKQAAAAMBhUoxAAAAAINK/jUAAAAAADwmQQAAAAABJSZFAAAAAAPuGk0AAAAAAcZ2aQAAAAOARRqNAAAAAIBHcqkAAAADg50yyQAAAAEDaprhAAAAAgFeawEAAAABAba/GQAAAACBqB9BAAAAAIB4520A=",
          "dtype": "f8"
         },
         "xaxis": "x2",
         "y": {
          "bdata": "WSJfEQQE8D8Bslf3QXD0P04yH2tyqvs/55X1RYa3gb+eG25IxtwCQPIfwPdm/uo/gbLERkZDwb9CWgr7Db/zP74/QgukA+M/xZGAaOUrBcCnLGKecTHAvyLQeNYXHPC/amF/r3tru7/oKI1Aw4/sP36gxI+LPOu/0ugXnIoE4L+erNon5rvdP2XN/NFOjdE/4BTStbjj4b/IoHedY+3kv+L+o44WD9o/4A0pCepK8j+zr13KZFzhP6l9uIUCStg/W4dRZkV5578DpJT3tuzlv4W5vCxuEOq/LB39JVQj978=",
          "dtype": "f8"
         },
         "yaxis": "y2"
        }
       ],
       "layout": {
        "height": 700,
        "legend": {
         "x": 1,
         "xanchor": "right",
         "y": 1,
         "yanchor": "bottom"
        },
        "template": {
         "data": {
          "bar": [
           {
            "error_x": {
             "color": "#2a3f5f"
            },
            "error_y": {
             "color": "#2a3f5f"
            },
            "marker": {
             "line": {
              "color": "white",
              "width": 0.5
             },
             "pattern": {
              "fillmode": "overlay",
              "size": 10,
              "solidity": 0.2
             }
            },
            "type": "bar"
           }
          ],
          "barpolar": [
           {
            "marker": {
             "line": {
              "color": "white",
              "width": 0.5
             },
             "pattern": {
              "fillmode": "overlay",
              "size": 10,
              "solidity": 0.2
             }
            },
            "type": "barpolar"
           }
          ],
          "carpet": [
           {
            "aaxis": {
             "endlinecolor": "#2a3f5f",
             "gridcolor": "#C8D4E3",
             "linecolor": "#C8D4E3",
             "minorgridcolor": "#C8D4E3",
             "startlinecolor": "#2a3f5f"
            },
            "baxis": {
             "endlinecolor": "#2a3f5f",
             "gridcolor": "#C8D4E3",
             "linecolor": "#C8D4E3",
             "minorgridcolor": "#C8D4E3",
             "startlinecolor": "#2a3f5f"
            },
            "type": "carpet"
           }
          ],
          "choropleth": [
           {
            "colorbar": {
             "outlinewidth": 0,
             "ticks": ""
            },
            "type": "choropleth"
           }
          ],
          "contour": [
           {
            "colorbar": {
             "outlinewidth": 0,
             "ticks": ""
            },
            "colorscale": [
             [
              0,
              "#0d0887"
             ],
             [
              0.1111111111111111,
              "#46039f"
             ],
             [
              0.2222222222222222,
              "#7201a8"
             ],
             [
              0.3333333333333333,
              "#9c179e"
             ],
             [
              0.4444444444444444,
              "#bd3786"
             ],
             [
              0.5555555555555556,
              "#d8576b"
             ],
             [
              0.6666666666666666,
              "#ed7953"
             ],
             [
              0.7777777777777778,
              "#fb9f3a"
             ],
             [
              0.8888888888888888,
              "#fdca26"
             ],
             [
              1,
              "#f0f921"
             ]
            ],
            "type": "contour"
           }
          ],
          "contourcarpet": [
           {
            "colorbar": {
             "outlinewidth": 0,
             "ticks": ""
            },
            "type": "contourcarpet"
           }
          ],
          "heatmap": [
           {
            "colorbar": {
             "outlinewidth": 0,
             "ticks": ""
            },
            "colorscale": [
             [
              0,
              "#0d0887"
             ],
             [
              0.1111111111111111,
              "#46039f"
             ],
             [
              0.2222222222222222,
              "#7201a8"
             ],
             [
              0.3333333333333333,
              "#9c179e"
             ],
             [
              0.4444444444444444,
              "#bd3786"
             ],
             [
              0.5555555555555556,
              "#d8576b"
             ],
             [
              0.6666666666666666,
              "#ed7953"
             ],
             [
              0.7777777777777778,
              "#fb9f3a"
             ],
             [
              0.8888888888888888,
              "#fdca26"
             ],
             [
              1,
              "#f0f921"
             ]
            ],
            "type": "heatmap"
           }
          ],
          "histogram": [
           {
            "marker": {
             "pattern": {
              "fillmode": "overlay",
              "size": 10,
              "solidity": 0.2
             }
            },
            "type": "histogram"
           }
          ],
          "histogram2d": [
           {
            "colorbar": {
             "outlinewidth": 0,
             "ticks": ""
            },
            "colorscale": [
             [
              0,
              "#0d0887"
             ],
             [
              0.1111111111111111,
              "#46039f"
             ],
             [
              0.2222222222222222,
              "#7201a8"
             ],
             [
              0.3333333333333333,
              "#9c179e"
             ],
             [
              0.4444444444444444,
              "#bd3786"
             ],
             [
              0.5555555555555556,
              "#d8576b"
             ],
             [
              0.6666666666666666,
              "#ed7953"
             ],
             [
              0.7777777777777778,
              "#fb9f3a"
             ],
             [
              0.8888888888888888,
              "#fdca26"
             ],
             [
              1,
              "#f0f921"
             ]
            ],
            "type": "histogram2d"
           }
          ],
          "histogram2dcontour": [
           {
            "colorbar": {
             "outlinewidth": 0,
             "ticks": ""
            },
            "colorscale": [
             [
              0,
              "#0d0887"
             ],
             [
              0.1111111111111111,
              "#46039f"
             ],
             [
              0.2222222222222222,
              "#7201a8"
             ],
             [
              0.3333333333333333,
              "#9c179e"
             ],
             [
              0.4444444444444444,
              "#bd3786"
             ],
             [
              0.5555555555555556,
              "#d8576b"
             ],
             [
              0.6666666666666666,
              "#ed7953"
             ],
             [
              0.7777777777777778,
              "#fb9f3a"
             ],
             [
              0.8888888888888888,
              "#fdca26"
             ],
             [
              1,
              "#f0f921"
             ]
            ],
            "type": "histogram2dcontour"
           }
          ],
          "mesh3d": [
           {
            "colorbar": {
             "outlinewidth": 0,
             "ticks": ""
            },
            "type": "mesh3d"
           }
          ],
          "parcoords": [
           {
            "line": {
             "colorbar": {
              "outlinewidth": 0,
              "ticks": ""
             }
            },
            "type": "parcoords"
           }
          ],
          "pie": [
           {
            "automargin": true,
            "type": "pie"
           }
          ],
          "scatter": [
           {
            "fillpattern": {
             "fillmode": "overlay",
             "size": 10,
             "solidity": 0.2
            },
            "type": "scatter"
           }
          ],
          "scatter3d": [
           {
            "line": {
             "colorbar": {
              "outlinewidth": 0,
              "ticks": ""
             }
            },
            "marker": {
             "colorbar": {
              "outlinewidth": 0,
              "ticks": ""
             }
            },
            "type": "scatter3d"
           }
          ],
          "scattercarpet": [
           {
            "marker": {
             "colorbar": {
              "outlinewidth": 0,
              "ticks": ""
             }
            },
            "type": "scattercarpet"
           }
          ],
          "scattergeo": [
           {
            "marker": {
             "colorbar": {
              "outlinewidth": 0,
              "ticks": ""
             }
            },
            "type": "scattergeo"
           }
          ],
          "scattergl": [
           {
            "marker": {
             "colorbar": {
              "outlinewidth": 0,
              "ticks": ""
             }
            },
            "type": "scattergl"
           }
          ],
          "scattermap": [
           {
            "marker": {
             "colorbar": {
              "outlinewidth": 0,
              "ticks": ""
             }
            },
            "type": "scattermap"
           }
          ],
          "scattermapbox": [
           {
            "marker": {
             "colorbar": {
              "outlinewidth": 0,
              "ticks": ""
             }
            },
            "type": "scattermapbox"
           }
          ],
          "scatterpolar": [
           {
            "marker": {
             "colorbar": {
              "outlinewidth": 0,
              "ticks": ""
             }
            },
            "type": "scatterpolar"
           }
          ],
          "scatterpolargl": [
           {
            "marker": {
             "colorbar": {
              "outlinewidth": 0,
              "ticks": ""
             }
            },
            "type": "scatterpolargl"
           }
          ],
          "scatterternary": [
           {
            "marker": {
             "colorbar": {
              "outlinewidth": 0,
              "ticks": ""
             }
            },
            "type": "scatterternary"
           }
          ],
          "surface": [
           {
            "colorbar": {
             "outlinewidth": 0,
             "ticks": ""
            },
            "colorscale": [
             [
              0,
              "#0d0887"
             ],
             [
              0.1111111111111111,
              "#46039f"
             ],
             [
              0.2222222222222222,
              "#7201a8"
             ],
             [
              0.3333333333333333,
              "#9c179e"
             ],
             [
              0.4444444444444444,
              "#bd3786"
             ],
             [
              0.5555555555555556,
              "#d8576b"
             ],
             [
              0.6666666666666666,
              "#ed7953"
             ],
             [
              0.7777777777777778,
              "#fb9f3a"
             ],
             [
              0.8888888888888888,
              "#fdca26"
             ],
             [
              1,
              "#f0f921"
             ]
            ],
            "type": "surface"
           }
          ],
          "table": [
           {
            "cells": {
             "fill": {
              "color": "#EBF0F8"
             },
             "line": {
              "color": "white"
             }
            },
            "header": {
             "fill": {
              "color": "#C8D4E3"
             },
             "line": {
              "color": "white"
             }
            },
            "type": "table"
           }
          ]
         },
         "layout": {
          "annotationdefaults": {
           "arrowcolor": "#2a3f5f",
           "arrowhead": 0,
           "arrowwidth": 1
          },
          "autotypenumbers": "strict",
          "coloraxis": {
           "colorbar": {
            "outlinewidth": 0,
            "ticks": ""
           }
          },
          "colorscale": {
           "diverging": [
            [
             0,
             "#8e0152"
            ],
            [
             0.1,
             "#c51b7d"
            ],
            [
             0.2,
             "#de77ae"
            ],
            [
             0.3,
             "#f1b6da"
            ],
            [
             0.4,
             "#fde0ef"
            ],
            [
             0.5,
             "#f7f7f7"
            ],
            [
             0.6,
             "#e6f5d0"
            ],
            [
             0.7,
             "#b8e186"
            ],
            [
             0.8,
             "#7fbc41"
            ],
            [
             0.9,
             "#4d9221"
            ],
            [
             1,
             "#276419"
            ]
           ],
           "sequential": [
            [
             0,
             "#0d0887"
            ],
            [
             0.1111111111111111,
             "#46039f"
            ],
            [
             0.2222222222222222,
             "#7201a8"
            ],
            [
             0.3333333333333333,
             "#9c179e"
            ],
            [
             0.4444444444444444,
             "#bd3786"
            ],
            [
             0.5555555555555556,
             "#d8576b"
            ],
            [
             0.6666666666666666,
             "#ed7953"
            ],
            [
             0.7777777777777778,
             "#fb9f3a"
            ],
            [
             0.8888888888888888,
             "#fdca26"
            ],
            [
             1,
             "#f0f921"
            ]
           ],
           "sequentialminus": [
            [
             0,
             "#0d0887"
            ],
            [
             0.1111111111111111,
             "#46039f"
            ],
            [
             0.2222222222222222,
             "#7201a8"
            ],
            [
             0.3333333333333333,
             "#9c179e"
            ],
            [
             0.4444444444444444,
             "#bd3786"
            ],
            [
             0.5555555555555556,
             "#d8576b"
            ],
            [
             0.6666666666666666,
             "#ed7953"
            ],
            [
             0.7777777777777778,
             "#fb9f3a"
            ],
            [
             0.8888888888888888,
             "#fdca26"
            ],
            [
             1,
             "#f0f921"
            ]
           ]
          },
          "colorway": [
           "#636efa",
           "#EF553B",
           "#00cc96",
           "#ab63fa",
           "#FFA15A",
           "#19d3f3",
           "#FF6692",
           "#B6E880",
           "#FF97FF",
           "#FECB52"
          ],
          "font": {
           "color": "#2a3f5f"
          },
          "geo": {
           "bgcolor": "white",
           "lakecolor": "white",
           "landcolor": "white",
           "showlakes": true,
           "showland": true,
           "subunitcolor": "#C8D4E3"
          },
          "hoverlabel": {
           "align": "left"
          },
          "hovermode": "closest",
          "mapbox": {
           "style": "light"
          },
          "paper_bgcolor": "white",
          "plot_bgcolor": "white",
          "polar": {
           "angularaxis": {
            "gridcolor": "#EBF0F8",
            "linecolor": "#EBF0F8",
            "ticks": ""
           },
           "bgcolor": "white",
           "radialaxis": {
            "gridcolor": "#EBF0F8",
            "linecolor": "#EBF0F8",
            "ticks": ""
           }
          },
          "scene": {
           "xaxis": {
            "backgroundcolor": "white",
            "gridcolor": "#DFE8F3",
            "gridwidth": 2,
            "linecolor": "#EBF0F8",
            "showbackground": true,
            "ticks": "",
            "zerolinecolor": "#EBF0F8"
           },
           "yaxis": {
            "backgroundcolor": "white",
            "gridcolor": "#DFE8F3",
            "gridwidth": 2,
            "linecolor": "#EBF0F8",
            "showbackground": true,
            "ticks": "",
            "zerolinecolor": "#EBF0F8"
           },
           "zaxis": {
            "backgroundcolor": "white",
            "gridcolor": "#DFE8F3",
            "gridwidth": 2,
            "linecolor": "#EBF0F8",
            "showbackground": true,
            "ticks": "",
            "zerolinecolor": "#EBF0F8"
           }
          },
          "shapedefaults": {
           "line": {
            "color": "#2a3f5f"
           }
          },
          "ternary": {
           "aaxis": {
            "gridcolor": "#DFE8F3",
            "linecolor": "#A2B1C6",
            "ticks": ""
           },
           "baxis": {
            "gridcolor": "#DFE8F3",
            "linecolor": "#A2B1C6",
            "ticks": ""
           },
           "bgcolor": "white",
           "caxis": {
            "gridcolor": "#DFE8F3",
            "linecolor": "#A2B1C6",
            "ticks": ""
           }
          },
          "title": {
           "x": 0.05
          },
          "xaxis": {
           "automargin": true,
           "gridcolor": "#EBF0F8",
           "linecolor": "#EBF0F8",
           "ticks": "",
           "title": {
            "standoff": 15
           },
           "zerolinecolor": "#EBF0F8",
           "zerolinewidth": 2
          },
          "yaxis": {
           "automargin": true,
           "gridcolor": "#EBF0F8",
           "linecolor": "#EBF0F8",
           "ticks": "",
           "title": {
            "standoff": 15
           },
           "zerolinecolor": "#EBF0F8",
           "zerolinewidth": 2
          }
         }
        },
        "width": 600,
        "xaxis": {
         "anchor": "y",
         "domain": [
          0,
          1
         ],
         "matches": "x2",
         "showticklabels": false,
         "title": {
          "text": ""
         },
         "type": "log"
        },
        "xaxis2": {
         "anchor": "y2",
         "domain": [
          0,
          1
         ],
         "title": {
          "text": "Energy (keV)"
         },
         "type": "log"
        },
        "yaxis": {
         "anchor": "x",
         "domain": [
          0.265,
          1
         ],
         "range": [
          -6.257412779482888,
          1.2795310856723694
         ],
         "title": {
          "text": "Photons/cm^2/s/keV"
         },
         "type": "log"
        },
        "yaxis2": {
         "anchor": "x2",
         "domain": [
          0,
          0.245
         ],
         "range": [
          -3.5,
          3.5
         ],
         "showgrid": false,
         "title": {
          "text": "Sigma"
         }
        }
       }
      }
     },
     "metadata": {},
     "output_type": "display_data"
    }
   ],
   "source": [
    "fig = Plot.pair(pair, style='NE')"
   ]
  }
 ],
 "metadata": {
  "kernelspec": {
   "display_name": "base",
   "language": "python",
   "name": "python3"
  },
  "language_info": {
   "codemirror_mode": {
    "name": "ipython",
    "version": 3
   },
   "file_extension": ".py",
   "mimetype": "text/x-python",
   "name": "python",
   "nbconvert_exporter": "python",
   "pygments_lexer": "ipython3",
   "version": "3.12.8"
  }
 },
 "nbformat": 4,
 "nbformat_minor": 5
}
