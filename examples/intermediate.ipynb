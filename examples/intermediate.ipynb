{
 "cells": [
  {
   "cell_type": "code",
   "execution_count": 2,
   "id": "ef3f631b",
   "metadata": {},
   "outputs": [],
   "source": [
    "import numpy as np\n",
    "from bayspec.model.local import *\n",
    "from bayspec.model.astro import *\n",
    "from bayspec import DataUnit, Data, Infer, Plot"
   ]
  },
  {
   "cell_type": "code",
   "execution_count": 3,
   "id": "9db8aaec",
   "metadata": {},
   "outputs": [],
   "source": [
    "savepath = 'intermediate'"
   ]
  },
  {
   "cell_type": "code",
   "execution_count": 4,
   "id": "924bd0cf",
   "metadata": {},
   "outputs": [
    {
     "name": "stdout",
     "output_type": "stream",
     "text": [
      "╒════════╤════════════╤═════════════╤═════════════════╤════════╕\n",
      "│  Name  │  Noticing  │  Statistic  │    Grouping     │  Time  │\n",
      "╞════════╪════════════╪═════════════╪═════════════════╪════════╡\n",
      "│   LE   │ [[0.5, 4]] │    cstat    │ {'min_nevt': 5} │  None  │\n",
      "├────────┼────────────┼─────────────┼─────────────────┼────────┤\n",
      "│   ME   │ [[8, 900]] │   pgstat    │      None       │  None  │\n",
      "╘════════╧════════════╧═════════════╧═════════════════╧════════╛\n",
      "╒════════╤═════════════╤═════════════╤═════════╤═════════╤══════════╕\n",
      "│  par#  │  Component  │  Parameter  │  Value  │  Prior  │  Frozen  │\n",
      "╞════════╪═════════════╪═════════════╪═════════╪═════════╪══════════╡\n",
      "│   1    │     LE      │     sf      │    1    │  None   │   True   │\n",
      "├────────┼─────────────┼─────────────┼─────────┼─────────┼──────────┤\n",
      "│   2    │     LE      │     bf      │    1    │  None   │   True   │\n",
      "├────────┼─────────────┼─────────────┼─────────┼─────────┼──────────┤\n",
      "│   3    │     LE      │     rf      │    1    │  None   │   True   │\n",
      "├────────┼─────────────┼─────────────┼─────────┼─────────┼──────────┤\n",
      "│   4    │     LE      │     ra      │    0    │  None   │   True   │\n",
      "├────────┼─────────────┼─────────────┼─────────┼─────────┼──────────┤\n",
      "│   5    │     LE      │     dec     │    0    │  None   │   True   │\n",
      "├────────┼─────────────┼─────────────┼─────────┼─────────┼──────────┤\n",
      "│   6    │     ME      │     sf      │    1    │  None   │   True   │\n",
      "├────────┼─────────────┼─────────────┼─────────┼─────────┼──────────┤\n",
      "│   7    │     ME      │     bf      │    1    │  None   │   True   │\n",
      "├────────┼─────────────┼─────────────┼─────────┼─────────┼──────────┤\n",
      "│   8    │     ME      │     rf      │    1    │  None   │   True   │\n",
      "├────────┼─────────────┼─────────────┼─────────┼─────────┼──────────┤\n",
      "│   9    │     ME      │     ra      │    0    │  None   │   True   │\n",
      "├────────┼─────────────┼─────────────┼─────────┼─────────┼──────────┤\n",
      "│   10   │     ME      │     dec     │    0    │  None   │   True   │\n",
      "╘════════╧═════════════╧═════════════╧═════════╧═════════╧══════════╛\n",
      "\n"
     ]
    }
   ],
   "source": [
    "le = DataUnit(\n",
    "    src='./LE/le2.src', \n",
    "    bkg='./LE/le2.bkg', \n",
    "    rmf='./LE/le2.rmf', \n",
    "    arf='./LE/le2.arf', \n",
    "    notc=[0.5, 4], \n",
    "    stat='cstat', \n",
    "    grpg={'min_nevt': 5})\n",
    "\n",
    "me = DataUnit(\n",
    "    src='./ME/me2.src', \n",
    "    bkg='./ME/me2.bkg', \n",
    "    rsp='./ME/me2.rsp', \n",
    "    notc=[8, 900], \n",
    "    stat='pgstat', \n",
    "    rebn={'min_nevt': 50})\n",
    "\n",
    "data = Data([('LE', le), ('ME', me)])\n",
    "\n",
    "data.save(savepath)\n",
    "print(data)"
   ]
  },
  {
   "cell_type": "code",
   "execution_count": 5,
   "id": "56536419",
   "metadata": {},
   "outputs": [
    {
     "name": "stdout",
     "output_type": "stream",
     "text": [
      "(AS_TbAbs*cpl) [add]\n",
      "AS_TbAbs: Photometric absorption (Tbabs implementation), f(E) = exp(- NH * sigma(E)) contributed by Dominique Eckert\n",
      "cpl: cutoff power law model\n",
      "╒════════╤═════════════╤═════════════╤═════════╕\n",
      "│  cfg#  │  Component  │  Parameter  │  Value  │\n",
      "╞════════╪═════════════╪═════════════╪═════════╡\n",
      "│   1    │  AS_TbAbs   │  redshift   │    0    │\n",
      "├────────┼─────────────┼─────────────┼─────────┤\n",
      "│   2    │     cpl     │  redshift   │    0    │\n",
      "╘════════╧═════════════╧═════════════╧═════════╛\n",
      "╒════════╤═════════════╤═════════════╤═════════╤══════════════════╤══════════╕\n",
      "│  par#  │  Component  │  Parameter  │  Value  │      Prior       │  Frozen  │\n",
      "╞════════╪═════════════╪═════════════╪═════════╪══════════════════╪══════════╡\n",
      "│   1    │  AS_TbAbs   │     NH      │    1    │ unif(0.0001, 20) │  False   │\n",
      "├────────┼─────────────┼─────────────┼─────────┼──────────────────┼──────────┤\n",
      "│   2    │     cpl     │  $\\alpha$   │   -1    │   unif(-8, 4)    │  False   │\n",
      "├────────┼─────────────┼─────────────┼─────────┼──────────────────┼──────────┤\n",
      "│   3    │     cpl     │ log$E_{c}$  │    2    │    unif(0, 4)    │  False   │\n",
      "├────────┼─────────────┼─────────────┼─────────┼──────────────────┼──────────┤\n",
      "│   4    │     cpl     │   log$A$    │   -1    │   unif(-6, 5)    │  False   │\n",
      "╘════════╧═════════════╧═════════════╧═════════╧══════════════════╧══════════╛\n",
      "\n"
     ]
    }
   ],
   "source": [
    "tbabs_ins = AS_TbAbs()\n",
    "\n",
    "cpl_ins = cpl()\n",
    "\n",
    "model = tbabs_ins * cpl_ins\n",
    "\n",
    "model.save(savepath)\n",
    "print(model)"
   ]
  },
  {
   "cell_type": "code",
   "execution_count": 6,
   "id": "056c1021",
   "metadata": {},
   "outputs": [
    {
     "name": "stdout",
     "output_type": "stream",
     "text": [
      "╒════════╤═════════╤════════════════╤═════════════╤═════════════╤═════════╕\n",
      "│  cfg#  │  Class  │   Expression   │  Component  │  Parameter  │  Value  │\n",
      "╞════════╪═════════╪════════════════╪═════════════╪═════════════╪═════════╡\n",
      "│   1    │  model  │ (AS_TbAbs*cpl) │  AS_TbAbs   │  redshift   │    0    │\n",
      "├────────┼─────────┼────────────────┼─────────────┼─────────────┼─────────┤\n",
      "│   2    │  model  │ (AS_TbAbs*cpl) │     cpl     │  redshift   │    0    │\n",
      "╘════════╧═════════╧════════════════╧═════════════╧═════════════╧═════════╛\n",
      "╒════════╤═════════╤════════════════╤═════════════╤═════════════╤═════════╤══════════════════╕\n",
      "│  par#  │  Class  │   Expression   │  Component  │  Parameter  │  Value  │      Prior       │\n",
      "╞════════╪═════════╪════════════════╪═════════════╪═════════════╪═════════╪══════════════════╡\n",
      "│   1*   │  model  │ (AS_TbAbs*cpl) │  AS_TbAbs   │     NH      │    1    │ unif(0.0001, 20) │\n",
      "├────────┼─────────┼────────────────┼─────────────┼─────────────┼─────────┼──────────────────┤\n",
      "│   2*   │  model  │ (AS_TbAbs*cpl) │     cpl     │  $\\alpha$   │   -1    │   unif(-8, 4)    │\n",
      "├────────┼─────────┼────────────────┼─────────────┼─────────────┼─────────┼──────────────────┤\n",
      "│   3*   │  model  │ (AS_TbAbs*cpl) │     cpl     │ log$E_{c}$  │    2    │    unif(0, 4)    │\n",
      "├────────┼─────────┼────────────────┼─────────────┼─────────────┼─────────┼──────────────────┤\n",
      "│   4*   │  model  │ (AS_TbAbs*cpl) │     cpl     │   log$A$    │   -1    │   unif(-6, 5)    │\n",
      "╘════════╧═════════╧════════════════╧═════════════╧═════════════╧═════════╧══════════════════╛\n",
      "\n"
     ]
    }
   ],
   "source": [
    "infer = Infer([(data, model)])\n",
    "infer.save(savepath)\n",
    "print(infer)"
   ]
  },
  {
   "cell_type": "code",
   "execution_count": 7,
   "id": "b54204d1",
   "metadata": {},
   "outputs": [
    {
     "name": "stdout",
     "output_type": "stream",
     "text": [
      "╒════════╤═════════╤════════════════╤═════════════╤═════════════╤════════╤══════════╤════════╤══════════════════╕\n",
      "│  par#  │  Class  │   Expression   │  Component  │  Parameter  │  Mean  │  Median  │  Best  │    1sigma CI     │\n",
      "╞════════╪═════════╪════════════════╪═════════════╪═════════════╪════════╪══════════╪════════╪══════════════════╡\n",
      "│   1    │  model  │ (AS_TbAbs*cpl) │  AS_TbAbs   │     NH      │ 1.141  │  1.135   │ 1.079  │  [0.946, 1.335]  │\n",
      "├────────┼─────────┼────────────────┼─────────────┼─────────────┼────────┼──────────┼────────┼──────────────────┤\n",
      "│   2    │  model  │ (AS_TbAbs*cpl) │     cpl     │  $\\alpha$   │ -1.685 │  -1.695  │ -1.656 │ [-1.759, -1.609] │\n",
      "├────────┼─────────┼────────────────┼─────────────┼─────────────┼────────┼──────────┼────────┼──────────────────┤\n",
      "│   3    │  model  │ (AS_TbAbs*cpl) │     cpl     │ log$E_{c}$  │  3.07  │  3.027   │ 2.716  │  [2.529, 3.679]  │\n",
      "├────────┼─────────┼────────────────┼─────────────┼─────────────┼────────┼──────────┼────────┼──────────────────┤\n",
      "│   4    │  model  │ (AS_TbAbs*cpl) │     cpl     │   log$A$    │ -3.081 │  -3.094  │ -3.049 │ [-3.156, -3.000] │\n",
      "╘════════╧═════════╧════════════════╧═════════════╧═════════════╧════════╧══════════╧════════╧══════════════════╛\n",
      "╒════════╤════════════════╤═════════════╤════════════╤════════╕\n",
      "│  Data  │     Model      │  Statistic  │   Value    │  Bins  │\n",
      "╞════════╪════════════════╪═════════════╪════════════╪════════╡\n",
      "│   LE   │ (AS_TbAbs*cpl) │    cstat    │   16.55    │   14   │\n",
      "├────────┼────────────────┼─────────────┼────────────┼────────┤\n",
      "│   ME   │ (AS_TbAbs*cpl) │   pgstat    │   111.83   │  119   │\n",
      "├────────┼────────────────┼─────────────┼────────────┼────────┤\n",
      "│ Total  │     Total      │  stat/dof   │ 128.38/129 │  133   │\n",
      "╘════════╧════════════════╧═════════════╧════════════╧════════╛\n",
      "╒════════╤════════╤════════╤═══════╕\n",
      "│  AIC   │  AICc  │  BIC   │  lnZ  │\n",
      "╞════════╪════════╪════════╪═══════╡\n",
      "│ 136.38 │ 136.69 │ 147.94 │ None  │\n",
      "╘════════╧════════╧════════╧═══════╛\n",
      "\n"
     ]
    }
   ],
   "source": [
    "post = infer.emcee(nstep=1000, discard=200, resume=True, savepath=savepath)\n",
    "print(post)"
   ]
  },
  {
   "cell_type": "code",
   "execution_count": 8,
   "id": "22fceebb",
   "metadata": {},
   "outputs": [
    {
     "data": {
      "application/vnd.plotly.v1+json": {
       "config": {
        "plotlyServerURL": "https://plot.ly"
       },
       "data": [
        {
         "error_x": {
          "array": {
           "bdata": "AAAAwPUozD8AAACAmZm5PwAAAACG66E/AAAAAFC4nj8AAAAAkMK1PwAAAACYmZk/AAAAAJqZqT8AAAAAR+G6PwAAAACG67E/AAAAADwKpz8AAAAAkMK1PwAAAABmZsY/AAAAAEjhyj8AAABA4XrgPw==",
           "dtype": "f8"
          },
          "arrayminus": {
           "bdata": "AAAAwPUozD8AAACAmZm5PwAAAACG66E/AAAAAFC4nj8AAAAAkMK1PwAAAACYmZk/AAAAAJqZqT8AAAAAR+G6PwAAAACG67E/AAAAADwKpz8AAAAAkMK1PwAAAABmZsY/AAAAAEjhyj8AAABA4XrgPw==",
           "dtype": "f8"
          },
          "color": "#636EFA",
          "symmetric": false,
          "thickness": 1.5,
          "type": "data",
          "width": 0
         },
         "error_y": {
          "array": {
           "bdata": "KQJ9nBN9tD8LEF6ar3/GP5gdcTU/BuA/iakpf/ax4j+xo1gk0IPMP1MCw4elM+g/VYMcCyZv1j/V6I4zq13FP5gdcTU/BtA/AOCqrKP02D9PIsUJimjKP57tlW7yrrk/Gr1GavhjtT860VAm7+OiPw==",
           "dtype": "f8"
          },
          "color": "#636EFA",
          "thickness": 1.5,
          "type": "data",
          "width": 0
         },
         "marker": {
          "color": "#636EFA",
          "size": 0,
          "symbol": "cross-thin"
         },
         "mode": "markers",
         "name": "obs of LE",
         "showlegend": false,
         "type": "scatter",
         "x": {
          "bdata": "AAAAgD0K5z8AAAAA16PwPwAAAMDMzPI/AAAAQArX8z8AAACAFK71PwAAAOCjcPc/AAAAANej+D8AAABAuB77PwAAACCF6/0/AAAAYI/C/z8AAAAghesAQAAAAAAAAANAAAAA4HoUBkAAAADAR+ELQA==",
          "dtype": "f8"
         },
         "xaxis": "x",
         "y": {
          "bdata": "rXDd2CogxT+kGXQXjGHYPy2I0X6IxvI/1gt5sKHn9T8rW0RHXO3hP7xkXJ58nv8/4O2mXyZJ6j/BcEPbtwjZPy2I0X6IxuI/vzbg9SBc7D8UcqYx6nneP7dvHXgavMw/bjQp3/VOyD/eP9yzh5m1Pw==",
          "dtype": "f8"
         },
         "yaxis": "y"
        },
        {
         "line": {
          "color": "#636EFA",
          "width": 2
         },
         "mode": "lines",
         "name": "LE",
         "showlegend": true,
         "type": "scatter",
         "x": {
          "bdata": "AAAAgD0K5z8AAAAA16PwPwAAAMDMzPI/AAAAQArX8z8AAACAFK71PwAAAOCjcPc/AAAAANej+D8AAABAuB77PwAAACCF6/0/AAAAYI/C/z8AAAAghesAQAAAAAAAAANAAAAA4HoUBkAAAADAR+ELQA==",
          "dtype": "f8"
         },
         "xaxis": "x",
         "y": {
          "bdata": "6bha8rovxj/yDHcL+XbkPyvmGkad/ek/TJaiKqb06j+oeApafvvpP1P+y7/7++c/QD8FmcYk5D/X42MFZgHdP/K5iyiuVt8/Cj00cWh52T/CPW2mARHOP6Z/1OPwXNE/JQoqz3snzj+gBxZ3ppfCPw==",
          "dtype": "f8"
         },
         "yaxis": "y"
        },
        {
         "marker": {
          "color": "#636EFA",
          "line": {
           "color": "#636EFA",
           "width": 1.5
          },
          "size": 10,
          "symbol": "cross-thin"
         },
         "mode": "markers",
         "name": "res of LE",
         "showlegend": false,
         "type": "scatter",
         "x": {
          "bdata": "AAAAgD0K5z8AAAAA16PwPwAAAMDMzPI/AAAAQArX8z8AAACAFK71PwAAAOCjcPc/AAAAANej+D8AAABAuB77PwAAACCF6/0/AAAAYI/C/z8AAAAghesAQAAAAAAAAANAAAAA4HoUBkAAAADAR+ELQA==",
          "dtype": "f8"
         },
         "xaxis": "x2",
         "y": {
          "bdata": "3VbLnzqCur/t1OqybYn3v/ZqQAbkFec/sI62kzTZ7D8FuVMOVhTyv4BR7UV78/k/BtoYbqeF4T/GnIEtycrXv6jfylzbz9g/RwYQ+F0I9D+Vi8trf7byP7+OUnr+292/kJ3Ls5F94b+zxN18nGb6vw==",
          "dtype": "f8"
         },
         "yaxis": "y2"
        },
        {
         "error_x": {
          "array": {
           "bdata": "AAAAAA066z8AAAAA5WTgPwAAAACGm+A/AAAAgHo08T8AAAAA5THyPwAAAAD1V/Q/AAAAAL4D5j8AAAAAWBbmPwAAAAAqZuY/AAAAAFr05j8AAAAA8MDnPwAAAAAucOw/AAAAAPwp7j8AAAAAdyDwPwAAAACgbO8/AAAAAPiz+D8AAAAAiLHqPwAAAAC4JOs/AAAAAK5X/T8AAAAAOJbvPwAAAACrHgBAAAAAABctAkAAAAAAndQMQAAAAABmsPQ/AAAAACzT9D8AAAAAVj0XQAAAAADGoAhAAAAAAMJTCkAAAAAAz5YUQAAAAAAa6QxAAAAAAMC0DkAAAAAA36gYQAAAAACDoyZAAAAAAExwHkAAAABAJlN2QA==",
           "dtype": "f8"
          },
          "arrayminus": {
           "bdata": "AAAAAA066z8AAAAA5WTgPwAAAACGm+A/AAAAgHo08T8AAAAA5THyPwAAAAD1V/Q/AAAAAL4D5j8AAAAAWBbmPwAAAAAqZuY/AAAAAFr05j8AAAAA8MDnPwAAAAAucOw/AAAAAPwp7j8AAAAAdyDwPwAAAACgbO8/AAAAAPiz+D8AAAAAiLHqPwAAAAC4JOs/AAAAAK5X/T8AAAAAOJbvPwAAAACrHgBAAAAAABctAkAAAAAAndQMQAAAAABmsPQ/AAAAACzT9D8AAAAAVj0XQAAAAADGoAhAAAAAAMJTCkAAAAAAz5YUQAAAAAAa6QxAAAAAAMC0DkAAAAAA36gYQAAAAACDoyZAAAAAAExwHkAAAABAJlN2QA==",
           "dtype": "f8"
          },
          "color": "#EF553B",
          "symmetric": false,
          "thickness": 1.5,
          "type": "data",
          "width": 0
         },
         "error_y": {
          "array": {
           "bdata": "9gHJE3iN1T+Om/ovZg7hP/ArPN7/IOI/GAM7jYB92z+ykv9Ngs/bP9oSWybfmNk/Gl5mlvrs4D8MspMzZyLgP2UV1SNMI+A/6ivGlWBs3j/BKdm00hvcPzYe226w8tg/sGaMk40i1z9Elob9jujUP9QttBsXatM/9MudywZjzz9KGdsP63jSPxFtIpqZ3NA/7MiyEQX2xT8Fg3raY2PMP10RmgA3kMI/6/uBAhG8wD8t6zpjTJ24PwwbXvsNecQ/QxhdJ2I3xD8Nx7IC/MawP8iXtO7zhrQ/idVvcGHtsj/Q3i8V4NSrPxzrMACBpK8/HuRFJuUnrT8CdYk2rzqlP2ifvaY8Vpw/cLmxt+xznz+KqAoXdZ9gPw==",
           "dtype": "f8"
          },
          "color": "#EF553B",
          "thickness": 1.5,
          "type": "data",
          "width": 0
         },
         "marker": {
          "color": "#EF553B",
          "size": 0,
          "symbol": "cross-thin"
         },
         "mode": "markers",
         "name": "obs of ME",
         "showlegend": false,
         "type": "scatter",
         "x": {
          "bdata": "AAAAAJ1iI0AAAAAAjBwmQAAAAMCSLChAAAAAgNpcK0AAAABgpskvQAAAAMBwTTJAAAAAAA5DNEAAAADA3qM1QAAAAMDCBzdAAAAAAJdyOEAAAABAQeg5QAAAAEDKiTtAAAAAgJtePUAAAADA8lE/QAAAAKCvp0BAAAAA4AHrQUAAAADAZxtDQAAAAMDA8kNAAAAAABFKRUAAAABgJ7NGQAAAAABrM0hAAAAAACdYSkAAAABAQkhNQAAAAEAPu09AAAAAAJaDUEAAAAAAuEpSQAAAAICTg1RAAAAAwDcbVkAAAADAQjdYQAAAAID4Z1pAAAAAYOdEXEAAAABAG8VeQAAAAMAMkmFAAAAAYMfvY0AAAACgZWKAQA==",
          "dtype": "f8"
         },
         "xaxis": "x",
         "y": {
          "bdata": "0OYP1EF+6D8wmE8gMUz3P8A9CLjCruc/IFuYMvgU6j9w1k5OTSb9P6CX2umsvPQ/QNpS3B1Y6j+gRweIQp3iP0ATd3hXD+o/QNjGT3CR+D8QdmiPi6r1P2A9OgkdVek/4FE7dmCR4T8gQFHwOFXiP+D0mHEYNeU/cAh4PtlX4T/Q4+22vA7xP/hHlEaHVeM/gIST/eDA3D+wA5vnTrDgP4CYRFuoJNM/QKaQP+34xT/gLG6F3uDIPxDAWngI4dM/8OuNWmIw0j+gTziTNzCwP2C0BqJ/u8I/kDQXwe2dwz/wihAuyA2+P4jdgAUySME/2NFqD17jwj/g4Wig18S0P4DAyHkgp6c/yO0FkYCnsT+AzKcIGnNQPw==",
          "dtype": "f8"
         },
         "yaxis": "y"
        },
        {
         "line": {
          "color": "#EF553B",
          "width": 2
         },
         "mode": "lines",
         "name": "ME",
         "showlegend": true,
         "type": "scatter",
         "x": {
          "bdata": "AAAAAJ1iI0AAAAAAjBwmQAAAAMCSLChAAAAAgNpcK0AAAABgpskvQAAAAMBwTTJAAAAAAA5DNEAAAADA3qM1QAAAAMDCBzdAAAAAAJdyOEAAAABAQeg5QAAAAEDKiTtAAAAAgJtePUAAAADA8lE/QAAAAKCvp0BAAAAA4AHrQUAAAADAZxtDQAAAAMDA8kNAAAAAABFKRUAAAABgJ7NGQAAAAABrM0hAAAAAACdYSkAAAABAQkhNQAAAAEAPu09AAAAAAJaDUEAAAAAAuEpSQAAAAICTg1RAAAAAwDcbVkAAAADAQjdYQAAAAID4Z1pAAAAAYOdEXEAAAABAG8VeQAAAAMAMkmFAAAAAYMfvY0AAAACgZWKAQA==",
          "dtype": "f8"
         },
         "xaxis": "x",
         "y": {
          "bdata": "8Ow7I7Ss7D9HkMnq4qvyP/igXrZPI/U/4ZhGVP3b9j9C/iGTUpv2P9FW0JH+L/U/uVTSG+5Y8z8FYv2pEgPyP4NpnZnW0vA/T7DpODcu7z8aZlF5DbnsP0D3dRiKOeo/so7eHaWA5z97gfll6sHkPzmts0Eb9eE/hTiLoQs+3j+95sv3N/3aPzOMLXcQX9k/wUgYuCsy1z/hbaFvAWHVP3/JFB/hpNM/QtqFsyyI0T8PvfK4ysHOP7Goc35nlss/cNSYnnokyj/YIJP8HK7GPxV58To97sI/wQdJ72bIwD8Gu7nt/LC8PyHBWRStcrg/LaScwsi7tT9j05ZURnGyP7LvSyCAjqs/BmCOeAjboz+W/3E77XFpPw==",
          "dtype": "f8"
         },
         "yaxis": "y"
        },
        {
         "marker": {
          "color": "#EF553B",
          "line": {
           "color": "#EF553B",
           "width": 1.5
          },
          "size": 10,
          "symbol": "cross-thin"
         },
         "mode": "markers",
         "name": "res of ME",
         "showlegend": false,
         "type": "scatter",
         "x": {
          "bdata": "AAAAAJ1iI0AAAAAAjBwmQAAAAMCSLChAAAAAgNpcK0AAAABgpskvQAAAAMBwTTJAAAAAAA5DNEAAAADA3qM1QAAAAMDCBzdAAAAAAJdyOEAAAABAQeg5QAAAAEDKiTtAAAAAgJtePUAAAADA8lE/QAAAAKCvp0BAAAAA4AHrQUAAAADAZxtDQAAAAMDA8kNAAAAAABFKRUAAAABgJ7NGQAAAAABrM0hAAAAAACdYSkAAAABAQkhNQAAAAEAPu09AAAAAAJaDUEAAAAAAuEpSQAAAAICTg1RAAAAAwDcbVkAAAADAQjdYQAAAAID4Z1pAAAAAYOdEXEAAAABAG8VeQAAAAMAMkmFAAAAAYMfvY0AAAACgZWKAQA==",
          "dtype": "f8"
         },
         "xaxis": "x2",
         "y": {
          "bdata": "5GUhaVXV2L8/B2va21vhPx+RtYjnaPC/LkX5+a/b9r+LcaZxMx3uP5930n1FBbK/ae0pxKRZ57/aW8Jww0Pxv1Z0koH1Ft6/5RzTuuDi8j89/B5FzaHwPxiMEy3qT7K/lc02Zt1q4L8u+yPqrq/Nv4noxg9WbdU/+aD8KoIf0j+5QyuKV9wBQIqxxg0QPOk/K/s+ZCIy4D8pCQSJzgzrP/z2TrwHoau/1WPVr5gI6b8Q4Thf5ZHevyQQ19DqBeM/atUuIpkz4D/vL/s0BdL7v4izbHhnxpO/RhfpZooq0z9U93vejBC5PyStdX/udeQ/h8zPr5Wb8T+gjO7k2g3MPynsbUdBotG/yKgzMpVx7z83UJ47MJPwvw==",
          "dtype": "f8"
         },
         "yaxis": "y2"
        }
       ],
       "layout": {
        "height": 700,
        "legend": {
         "x": 1,
         "xanchor": "right",
         "y": 1,
         "yanchor": "bottom"
        },
        "template": {
         "data": {
          "bar": [
           {
            "error_x": {
             "color": "#2a3f5f"
            },
            "error_y": {
             "color": "#2a3f5f"
            },
            "marker": {
             "line": {
              "color": "white",
              "width": 0.5
             },
             "pattern": {
              "fillmode": "overlay",
              "size": 10,
              "solidity": 0.2
             }
            },
            "type": "bar"
           }
          ],
          "barpolar": [
           {
            "marker": {
             "line": {
              "color": "white",
              "width": 0.5
             },
             "pattern": {
              "fillmode": "overlay",
              "size": 10,
              "solidity": 0.2
             }
            },
            "type": "barpolar"
           }
          ],
          "carpet": [
           {
            "aaxis": {
             "endlinecolor": "#2a3f5f",
             "gridcolor": "#C8D4E3",
             "linecolor": "#C8D4E3",
             "minorgridcolor": "#C8D4E3",
             "startlinecolor": "#2a3f5f"
            },
            "baxis": {
             "endlinecolor": "#2a3f5f",
             "gridcolor": "#C8D4E3",
             "linecolor": "#C8D4E3",
             "minorgridcolor": "#C8D4E3",
             "startlinecolor": "#2a3f5f"
            },
            "type": "carpet"
           }
          ],
          "choropleth": [
           {
            "colorbar": {
             "outlinewidth": 0,
             "ticks": ""
            },
            "type": "choropleth"
           }
          ],
          "contour": [
           {
            "colorbar": {
             "outlinewidth": 0,
             "ticks": ""
            },
            "colorscale": [
             [
              0,
              "#0d0887"
             ],
             [
              0.1111111111111111,
              "#46039f"
             ],
             [
              0.2222222222222222,
              "#7201a8"
             ],
             [
              0.3333333333333333,
              "#9c179e"
             ],
             [
              0.4444444444444444,
              "#bd3786"
             ],
             [
              0.5555555555555556,
              "#d8576b"
             ],
             [
              0.6666666666666666,
              "#ed7953"
             ],
             [
              0.7777777777777778,
              "#fb9f3a"
             ],
             [
              0.8888888888888888,
              "#fdca26"
             ],
             [
              1,
              "#f0f921"
             ]
            ],
            "type": "contour"
           }
          ],
          "contourcarpet": [
           {
            "colorbar": {
             "outlinewidth": 0,
             "ticks": ""
            },
            "type": "contourcarpet"
           }
          ],
          "heatmap": [
           {
            "colorbar": {
             "outlinewidth": 0,
             "ticks": ""
            },
            "colorscale": [
             [
              0,
              "#0d0887"
             ],
             [
              0.1111111111111111,
              "#46039f"
             ],
             [
              0.2222222222222222,
              "#7201a8"
             ],
             [
              0.3333333333333333,
              "#9c179e"
             ],
             [
              0.4444444444444444,
              "#bd3786"
             ],
             [
              0.5555555555555556,
              "#d8576b"
             ],
             [
              0.6666666666666666,
              "#ed7953"
             ],
             [
              0.7777777777777778,
              "#fb9f3a"
             ],
             [
              0.8888888888888888,
              "#fdca26"
             ],
             [
              1,
              "#f0f921"
             ]
            ],
            "type": "heatmap"
           }
          ],
          "histogram": [
           {
            "marker": {
             "pattern": {
              "fillmode": "overlay",
              "size": 10,
              "solidity": 0.2
             }
            },
            "type": "histogram"
           }
          ],
          "histogram2d": [
           {
            "colorbar": {
             "outlinewidth": 0,
             "ticks": ""
            },
            "colorscale": [
             [
              0,
              "#0d0887"
             ],
             [
              0.1111111111111111,
              "#46039f"
             ],
             [
              0.2222222222222222,
              "#7201a8"
             ],
             [
              0.3333333333333333,
              "#9c179e"
             ],
             [
              0.4444444444444444,
              "#bd3786"
             ],
             [
              0.5555555555555556,
              "#d8576b"
             ],
             [
              0.6666666666666666,
              "#ed7953"
             ],
             [
              0.7777777777777778,
              "#fb9f3a"
             ],
             [
              0.8888888888888888,
              "#fdca26"
             ],
             [
              1,
              "#f0f921"
             ]
            ],
            "type": "histogram2d"
           }
          ],
          "histogram2dcontour": [
           {
            "colorbar": {
             "outlinewidth": 0,
             "ticks": ""
            },
            "colorscale": [
             [
              0,
              "#0d0887"
             ],
             [
              0.1111111111111111,
              "#46039f"
             ],
             [
              0.2222222222222222,
              "#7201a8"
             ],
             [
              0.3333333333333333,
              "#9c179e"
             ],
             [
              0.4444444444444444,
              "#bd3786"
             ],
             [
              0.5555555555555556,
              "#d8576b"
             ],
             [
              0.6666666666666666,
              "#ed7953"
             ],
             [
              0.7777777777777778,
              "#fb9f3a"
             ],
             [
              0.8888888888888888,
              "#fdca26"
             ],
             [
              1,
              "#f0f921"
             ]
            ],
            "type": "histogram2dcontour"
           }
          ],
          "mesh3d": [
           {
            "colorbar": {
             "outlinewidth": 0,
             "ticks": ""
            },
            "type": "mesh3d"
           }
          ],
          "parcoords": [
           {
            "line": {
             "colorbar": {
              "outlinewidth": 0,
              "ticks": ""
             }
            },
            "type": "parcoords"
           }
          ],
          "pie": [
           {
            "automargin": true,
            "type": "pie"
           }
          ],
          "scatter": [
           {
            "fillpattern": {
             "fillmode": "overlay",
             "size": 10,
             "solidity": 0.2
            },
            "type": "scatter"
           }
          ],
          "scatter3d": [
           {
            "line": {
             "colorbar": {
              "outlinewidth": 0,
              "ticks": ""
             }
            },
            "marker": {
             "colorbar": {
              "outlinewidth": 0,
              "ticks": ""
             }
            },
            "type": "scatter3d"
           }
          ],
          "scattercarpet": [
           {
            "marker": {
             "colorbar": {
              "outlinewidth": 0,
              "ticks": ""
             }
            },
            "type": "scattercarpet"
           }
          ],
          "scattergeo": [
           {
            "marker": {
             "colorbar": {
              "outlinewidth": 0,
              "ticks": ""
             }
            },
            "type": "scattergeo"
           }
          ],
          "scattergl": [
           {
            "marker": {
             "colorbar": {
              "outlinewidth": 0,
              "ticks": ""
             }
            },
            "type": "scattergl"
           }
          ],
          "scattermap": [
           {
            "marker": {
             "colorbar": {
              "outlinewidth": 0,
              "ticks": ""
             }
            },
            "type": "scattermap"
           }
          ],
          "scattermapbox": [
           {
            "marker": {
             "colorbar": {
              "outlinewidth": 0,
              "ticks": ""
             }
            },
            "type": "scattermapbox"
           }
          ],
          "scatterpolar": [
           {
            "marker": {
             "colorbar": {
              "outlinewidth": 0,
              "ticks": ""
             }
            },
            "type": "scatterpolar"
           }
          ],
          "scatterpolargl": [
           {
            "marker": {
             "colorbar": {
              "outlinewidth": 0,
              "ticks": ""
             }
            },
            "type": "scatterpolargl"
           }
          ],
          "scatterternary": [
           {
            "marker": {
             "colorbar": {
              "outlinewidth": 0,
              "ticks": ""
             }
            },
            "type": "scatterternary"
           }
          ],
          "surface": [
           {
            "colorbar": {
             "outlinewidth": 0,
             "ticks": ""
            },
            "colorscale": [
             [
              0,
              "#0d0887"
             ],
             [
              0.1111111111111111,
              "#46039f"
             ],
             [
              0.2222222222222222,
              "#7201a8"
             ],
             [
              0.3333333333333333,
              "#9c179e"
             ],
             [
              0.4444444444444444,
              "#bd3786"
             ],
             [
              0.5555555555555556,
              "#d8576b"
             ],
             [
              0.6666666666666666,
              "#ed7953"
             ],
             [
              0.7777777777777778,
              "#fb9f3a"
             ],
             [
              0.8888888888888888,
              "#fdca26"
             ],
             [
              1,
              "#f0f921"
             ]
            ],
            "type": "surface"
           }
          ],
          "table": [
           {
            "cells": {
             "fill": {
              "color": "#EBF0F8"
             },
             "line": {
              "color": "white"
             }
            },
            "header": {
             "fill": {
              "color": "#C8D4E3"
             },
             "line": {
              "color": "white"
             }
            },
            "type": "table"
           }
          ]
         },
         "layout": {
          "annotationdefaults": {
           "arrowcolor": "#2a3f5f",
           "arrowhead": 0,
           "arrowwidth": 1
          },
          "autotypenumbers": "strict",
          "coloraxis": {
           "colorbar": {
            "outlinewidth": 0,
            "ticks": ""
           }
          },
          "colorscale": {
           "diverging": [
            [
             0,
             "#8e0152"
            ],
            [
             0.1,
             "#c51b7d"
            ],
            [
             0.2,
             "#de77ae"
            ],
            [
             0.3,
             "#f1b6da"
            ],
            [
             0.4,
             "#fde0ef"
            ],
            [
             0.5,
             "#f7f7f7"
            ],
            [
             0.6,
             "#e6f5d0"
            ],
            [
             0.7,
             "#b8e186"
            ],
            [
             0.8,
             "#7fbc41"
            ],
            [
             0.9,
             "#4d9221"
            ],
            [
             1,
             "#276419"
            ]
           ],
           "sequential": [
            [
             0,
             "#0d0887"
            ],
            [
             0.1111111111111111,
             "#46039f"
            ],
            [
             0.2222222222222222,
             "#7201a8"
            ],
            [
             0.3333333333333333,
             "#9c179e"
            ],
            [
             0.4444444444444444,
             "#bd3786"
            ],
            [
             0.5555555555555556,
             "#d8576b"
            ],
            [
             0.6666666666666666,
             "#ed7953"
            ],
            [
             0.7777777777777778,
             "#fb9f3a"
            ],
            [
             0.8888888888888888,
             "#fdca26"
            ],
            [
             1,
             "#f0f921"
            ]
           ],
           "sequentialminus": [
            [
             0,
             "#0d0887"
            ],
            [
             0.1111111111111111,
             "#46039f"
            ],
            [
             0.2222222222222222,
             "#7201a8"
            ],
            [
             0.3333333333333333,
             "#9c179e"
            ],
            [
             0.4444444444444444,
             "#bd3786"
            ],
            [
             0.5555555555555556,
             "#d8576b"
            ],
            [
             0.6666666666666666,
             "#ed7953"
            ],
            [
             0.7777777777777778,
             "#fb9f3a"
            ],
            [
             0.8888888888888888,
             "#fdca26"
            ],
            [
             1,
             "#f0f921"
            ]
           ]
          },
          "colorway": [
           "#636efa",
           "#EF553B",
           "#00cc96",
           "#ab63fa",
           "#FFA15A",
           "#19d3f3",
           "#FF6692",
           "#B6E880",
           "#FF97FF",
           "#FECB52"
          ],
          "font": {
           "color": "#2a3f5f"
          },
          "geo": {
           "bgcolor": "white",
           "lakecolor": "white",
           "landcolor": "white",
           "showlakes": true,
           "showland": true,
           "subunitcolor": "#C8D4E3"
          },
          "hoverlabel": {
           "align": "left"
          },
          "hovermode": "closest",
          "mapbox": {
           "style": "light"
          },
          "paper_bgcolor": "white",
          "plot_bgcolor": "white",
          "polar": {
           "angularaxis": {
            "gridcolor": "#EBF0F8",
            "linecolor": "#EBF0F8",
            "ticks": ""
           },
           "bgcolor": "white",
           "radialaxis": {
            "gridcolor": "#EBF0F8",
            "linecolor": "#EBF0F8",
            "ticks": ""
           }
          },
          "scene": {
           "xaxis": {
            "backgroundcolor": "white",
            "gridcolor": "#DFE8F3",
            "gridwidth": 2,
            "linecolor": "#EBF0F8",
            "showbackground": true,
            "ticks": "",
            "zerolinecolor": "#EBF0F8"
           },
           "yaxis": {
            "backgroundcolor": "white",
            "gridcolor": "#DFE8F3",
            "gridwidth": 2,
            "linecolor": "#EBF0F8",
            "showbackground": true,
            "ticks": "",
            "zerolinecolor": "#EBF0F8"
           },
           "zaxis": {
            "backgroundcolor": "white",
            "gridcolor": "#DFE8F3",
            "gridwidth": 2,
            "linecolor": "#EBF0F8",
            "showbackground": true,
            "ticks": "",
            "zerolinecolor": "#EBF0F8"
           }
          },
          "shapedefaults": {
           "line": {
            "color": "#2a3f5f"
           }
          },
          "ternary": {
           "aaxis": {
            "gridcolor": "#DFE8F3",
            "linecolor": "#A2B1C6",
            "ticks": ""
           },
           "baxis": {
            "gridcolor": "#DFE8F3",
            "linecolor": "#A2B1C6",
            "ticks": ""
           },
           "bgcolor": "white",
           "caxis": {
            "gridcolor": "#DFE8F3",
            "linecolor": "#A2B1C6",
            "ticks": ""
           }
          },
          "title": {
           "x": 0.05
          },
          "xaxis": {
           "automargin": true,
           "gridcolor": "#EBF0F8",
           "linecolor": "#EBF0F8",
           "ticks": "",
           "title": {
            "standoff": 15
           },
           "zerolinecolor": "#EBF0F8",
           "zerolinewidth": 2
          },
          "yaxis": {
           "automargin": true,
           "gridcolor": "#EBF0F8",
           "linecolor": "#EBF0F8",
           "ticks": "",
           "title": {
            "standoff": 15
           },
           "zerolinecolor": "#EBF0F8",
           "zerolinewidth": 2
          }
         }
        },
        "width": 600,
        "xaxis": {
         "anchor": "y",
         "domain": [
          0,
          1
         ],
         "matches": "x2",
         "showticklabels": false,
         "title": {
          "text": ""
         },
         "type": "log"
        },
        "xaxis2": {
         "anchor": "y2",
         "domain": [
          0,
          1
         ],
         "title": {
          "text": "Energy (keV)"
         },
         "type": "log"
        },
        "yaxis": {
         "anchor": "x",
         "domain": [
          0.265,
          1
         ],
         "range": [
          -3.299294170877393,
          0.5968593664149505
         ],
         "title": {
          "text": "Counts/s/keV"
         },
         "type": "log"
        },
        "yaxis2": {
         "anchor": "x2",
         "domain": [
          0,
          0.245
         ],
         "range": [
          -3.5,
          3.5
         ],
         "showgrid": false,
         "title": {
          "text": "Sigma"
         }
        }
       }
      }
     },
     "metadata": {},
     "output_type": "display_data"
    }
   ],
   "source": [
    "fig = Plot.infer(post, style='CE')\n",
    "fig.save(f'{savepath}/ctsspec')"
   ]
  },
  {
   "cell_type": "code",
   "execution_count": 9,
   "id": "a629bcf5",
   "metadata": {},
   "outputs": [
    {
     "data": {
      "application/vnd.plotly.v1+json": {
       "config": {
        "plotlyServerURL": "https://plot.ly"
       },
       "data": [
        {
         "error_x": {
          "array": {
           "bdata": "AAAAwPUozD8AAACAmZm5PwAAAACG66E/AAAAAFC4nj8AAAAAkMK1PwAAAACYmZk/AAAAAJqZqT8AAAAAR+G6PwAAAACG67E/AAAAADwKpz8AAAAAkMK1PwAAAABmZsY/AAAAAEjhyj8AAABA4XrgPw==",
           "dtype": "f8"
          },
          "arrayminus": {
           "bdata": "AAAAwPUozD8AAACAmZm5PwAAAACG66E/AAAAAFC4nj8AAAAAkMK1PwAAAACYmZk/AAAAAJqZqT8AAAAAR+G6PwAAAACG67E/AAAAADwKpz8AAAAAkMK1PwAAAABmZsY/AAAAAEjhyj8AAABA4XrgPw==",
           "dtype": "f8"
          },
          "color": "#636EFA",
          "symmetric": false,
          "thickness": 1.5,
          "type": "data",
          "width": 0
         },
         "error_y": {
          "array": {
           "bdata": "Wn/yJP6hlT/REg7eIEK2PxU0DfBnYtA/lpaAq07s0z98LMKXWkXAP/r91zGfHt8/JYR3FflP0T/C1miytXrGP9PXqeAD8Mw/3/2NRvqe2j81uI9RDKXWP2QdNcJp9sA/U1isuaDcuj9vhkpx19mrPw==",
           "dtype": "f8"
          },
          "color": "#636EFA",
          "thickness": 1.5,
          "type": "data",
          "width": 0
         },
         "marker": {
          "color": "#636EFA",
          "size": 0,
          "symbol": "cross-thin"
         },
         "mode": "markers",
         "name": "obs of LE",
         "showlegend": false,
         "type": "scatter",
         "x": {
          "bdata": "AAAAgD0K5z8AAAAA16PwPwAAAMDMzPI/AAAAQArX8z8AAACAFK71PwAAAOCjcPc/AAAAANej+D8AAABAuB77PwAAACCF6/0/AAAAYI/C/z8AAAAghesAQAAAAAAAAANAAAAA4HoUBkAAAADAR+ELQA==",
          "dtype": "f8"
         },
         "xaxis": "x",
         "y": {
          "bdata": "Hdc3BDFOpj9nNML21h7IP+MMMrKDMuM/Gi4rkvFX5z9WRK+8enXUP4+4cnMdVPQ/fV6XHd5I5D+WtEUmslbaP288cUPs8+A/RHs69p9A7j+YiDOWAiLqP4/e9JtT+tI/MnYxVa+Gzj+QB/Uucdi/Pw==",
          "dtype": "f8"
         },
         "yaxis": "y"
        },
        {
         "line": {
          "color": "#636EFA",
          "width": 2
         },
         "mode": "lines",
         "name": "LE",
         "showlegend": true,
         "type": "scatter",
         "x": {
          "bdata": "AAAAgD0K5z8AAAAA16PwPwAAAMDMzPI/AAAAQArX8z8AAACAFK71PwAAAOCjcPc/AAAAANej+D8AAABAuB77PwAAACCF6/0/AAAAYI/C/z8AAAAghesAQAAAAAAAAANAAAAA4HoUBkAAAADAR+ELQA==",
          "dtype": "f8"
         },
         "xaxis": "x",
         "y": {
          "bdata": "Kbm5h+tspz+GEGMA+z7UPz0WTVsXk9o/ic/THOO53D8quFfM1KbdPzfzujoM194/2sOZ7/AW3z/dUcHHW4TePzlL3A7aS9w/Z6dWPpss2z/FAeSNDcjZPw3ZFuRO79Y/M0fgC//u0j+SEDFmX2nLPw==",
          "dtype": "f8"
         },
         "yaxis": "y"
        },
        {
         "marker": {
          "color": "#636EFA",
          "line": {
           "color": "#636EFA",
           "width": 1.5
          },
          "size": 10,
          "symbol": "cross-thin"
         },
         "mode": "markers",
         "name": "res of LE",
         "showlegend": false,
         "type": "scatter",
         "x": {
          "bdata": "AAAAgD0K5z8AAAAA16PwPwAAAMDMzPI/AAAAQArX8z8AAACAFK71PwAAAOCjcPc/AAAAANej+D8AAABAuB77PwAAACCF6/0/AAAAYI/C/z8AAAAghesAQAAAAAAAAANAAAAA4HoUBkAAAADAR+ELQA==",
          "dtype": "f8"
         },
         "xaxis": "x2",
         "y": {
          "bdata": "5VbLnzqCur/t1OqybYn3v/hqQAbkFec/sI62kzTZ7D8EuVMOVhTyv39R7UV78/k/BNoYbqeF4T/InIEtycrXv6jfylzbz9g/RwYQ+F0I9D+Wi8trf7byP8COUnr+292/kJ3Ls5F94b+0xN18nGb6vw==",
          "dtype": "f8"
         },
         "yaxis": "y2"
        },
        {
         "error_x": {
          "array": {
           "bdata": "AAAAAA066z8AAAAA5WTgPwAAAACGm+A/AAAAgHo08T8AAAAA5THyPwAAAAD1V/Q/AAAAAL4D5j8AAAAAWBbmPwAAAAAqZuY/AAAAAFr05j8AAAAA8MDnPwAAAAAucOw/AAAAAPwp7j8AAAAAdyDwPwAAAACgbO8/AAAAAPiz+D8AAAAAiLHqPwAAAAC4JOs/AAAAAK5X/T8AAAAAOJbvPwAAAACrHgBAAAAAABctAkAAAAAAndQMQAAAAABmsPQ/AAAAACzT9D8AAAAAVj0XQAAAAADGoAhAAAAAAMJTCkAAAAAAz5YUQAAAAAAa6QxAAAAAAMC0DkAAAAAA36gYQAAAAACDoyZAAAAAAExwHkAAAABAJlN2QA==",
           "dtype": "f8"
          },
          "arrayminus": {
           "bdata": "AAAAAA066z8AAAAA5WTgPwAAAACGm+A/AAAAgHo08T8AAAAA5THyPwAAAAD1V/Q/AAAAAL4D5j8AAAAAWBbmPwAAAAAqZuY/AAAAAFr05j8AAAAA8MDnPwAAAAAucOw/AAAAAPwp7j8AAAAAdyDwPwAAAACgbO8/AAAAAPiz+D8AAAAAiLHqPwAAAAC4JOs/AAAAAK5X/T8AAAAAOJbvPwAAAACrHgBAAAAAABctAkAAAAAAndQMQAAAAABmsPQ/AAAAACzT9D8AAAAAVj0XQAAAAADGoAhAAAAAAMJTCkAAAAAAz5YUQAAAAAAa6QxAAAAAAMC0DkAAAAAA36gYQAAAAACDoyZAAAAAAExwHkAAAABAJlN2QA==",
           "dtype": "f8"
          },
          "color": "#EF553B",
          "symmetric": false,
          "thickness": 1.5,
          "type": "data",
          "width": 0
         },
         "error_y": {
          "array": {
           "bdata": "tkEFsEvnjz88cVF7sS6PP3Ey7RdiPYk/mZij+Q3HfD94HHpQb+V2P6unbwMou3E/82cYuuWfdT/3PfznyM1zP7WKVY5EFHM/qvWArjKIcT8rSaXHAtxvP1YJW2jR52s/kSUnVUHdaT8dKfmeW7RnP3ROTSJn42Y/yUchNoxfYz/T8Jr5g95mPw6JAE5cnGQ/lQRe5jg6Wj9cX7nFIXNgPyzmgxHn71Q/R2Jrmr85Uj9dVddGoV1JP0G+136LZlQ/B25w8oHLUz+w2S5WE4o/P9GNlF+zy0I/ahWLTxQQQT8ZgJrpz9U4P6FiZ+liOzw/fv2G4G7EOT/1kvHIYtkyP2kUhru8Iio/zlkPzt5+Lz/FawKpTL/sPg==",
           "dtype": "f8"
          },
          "color": "#EF553B",
          "thickness": 1.5,
          "type": "data",
          "width": 0
         },
         "marker": {
          "color": "#EF553B",
          "size": 0,
          "symbol": "cross-thin"
         },
         "mode": "markers",
         "name": "obs of ME",
         "showlegend": false,
         "type": "scatter",
         "x": {
          "bdata": "AAAAAJ1iI0AAAAAAjBwmQAAAAMCSLChAAAAAgNpcK0AAAABgpskvQAAAAMBwTTJAAAAAAA5DNEAAAADA3qM1QAAAAMDCBzdAAAAAAJdyOEAAAABAQeg5QAAAAEDKiTtAAAAAgJtePUAAAADA8lE/QAAAAKCvp0BAAAAA4AHrQUAAAADAZxtDQAAAAMDA8kNAAAAAABFKRUAAAABgJ7NGQAAAAABrM0hAAAAAACdYSkAAAABAQkhNQAAAAEAPu09AAAAAAJaDUEAAAAAAuEpSQAAAAICTg1RAAAAAwDcbVkAAAADAQjdYQAAAAID4Z1pAAAAAYOdEXEAAAABAG8VeQAAAAMAMkmFAAAAAYMfvY0AAAACgZWKAQA==",
          "dtype": "f8"
         },
         "xaxis": "x",
         "y": {
          "bdata": "3rFyMc8goj/BT5iP5UulP/fF7VtofJA/aUNPkKNNiz98eRVOp/+XPxQwFyWcuow/AuAa7jTUgD/muswTB9l2P3yDALZCz34/3fM3L9BQjD9IyLmVqI6IPx2MEATpVXw/d3tuS/Kjcz8UuAQ52ch0P7sE2AmKAHk/tbRRvulodT8ZuRRpIB6FP7wtBfIDonc/lJUZW3IrcT8QzuNvOldzP914/9RTl2U/sCZsDxLuVz+9rqhkQ6NZP5L2g20Pz2M/bm0hkFPPYT82Jt58pm4+PwxQ5UYAJ1E/V+YxfzyvUT/IvVxqeNFKP1st9W2p1k4/A8rrUGWxUD9eCjhgwXBCP5/6iMHF0DU/mk72XKWtQT81nVd2l3LcPg==",
          "dtype": "f8"
         },
         "yaxis": "y"
        },
        {
         "line": {
          "color": "#EF553B",
          "width": 2
         },
         "mode": "lines",
         "name": "ME",
         "showlegend": true,
         "type": "scatter",
         "x": {
          "bdata": "AAAAAJ1iI0AAAAAAjBwmQAAAAMCSLChAAAAAgNpcK0AAAABgpskvQAAAAMBwTTJAAAAAAA5DNEAAAADA3qM1QAAAAMDCBzdAAAAAAJdyOEAAAABAQeg5QAAAAEDKiTtAAAAAgJtePUAAAADA8lE/QAAAAKCvp0BAAAAA4AHrQUAAAADAZxtDQAAAAMDA8kNAAAAAABFKRUAAAABgJ7NGQAAAAABrM0hAAAAAACdYSkAAAABAQkhNQAAAAEAPu09AAAAAAJaDUEAAAAAAuEpSQAAAAICTg1RAAAAAwDcbVkAAAADAQjdYQAAAAID4Z1pAAAAAYOdEXEAAAABAG8VeQAAAAMAMkmFAAAAAYMfvY0AAAACgZWKAQA==",
          "dtype": "f8"
         },
         "xaxis": "x",
         "y": {
          "bdata": "Z83SYBQ5pT/BkPA7URGhP1xVooXXbZ0/f9h62gbulz/08kEIqJySPzSFLklfWo0/XfZ2hPW3iD+/45IVxhuGP/E+QIDN44M/5uRgp+b3gT8Cs7A9HEeAP9P+8mhqVX0/oK1BjnJGej/HFO0WjIh3P42dyBSuK3U/GO0zL7Wqcj+RGeLi47RwPxAJ+kIwA28/8K0k6Mqzaz+dqbAIu8ZoP0mxRw3yJ2Y/cQ41kwoYYz+usla2HrJfP/JM7E52fVs/377FFfuYWT+zkutnaVFVP85imTV2VVE/bL5Wg1tCTj9Q07M/OppJP1iYIL8U0EU/UnhKuSc1Qz95HkBq9V9AP76shx2Eajk/pBimYPHhMz/Ea8FOhgD2Pg==",
          "dtype": "f8"
         },
         "yaxis": "y"
        },
        {
         "marker": {
          "color": "#EF553B",
          "line": {
           "color": "#EF553B",
           "width": 1.5
          },
          "size": 10,
          "symbol": "cross-thin"
         },
         "mode": "markers",
         "name": "res of ME",
         "showlegend": false,
         "type": "scatter",
         "x": {
          "bdata": "AAAAAJ1iI0AAAAAAjBwmQAAAAMCSLChAAAAAgNpcK0AAAABgpskvQAAAAMBwTTJAAAAAAA5DNEAAAADA3qM1QAAAAMDCBzdAAAAAAJdyOEAAAABAQeg5QAAAAEDKiTtAAAAAgJtePUAAAADA8lE/QAAAAKCvp0BAAAAA4AHrQUAAAADAZxtDQAAAAMDA8kNAAAAAABFKRUAAAABgJ7NGQAAAAABrM0hAAAAAACdYSkAAAABAQkhNQAAAAEAPu09AAAAAAJaDUEAAAAAAuEpSQAAAAICTg1RAAAAAwDcbVkAAAADAQjdYQAAAAID4Z1pAAAAAYOdEXEAAAABAG8VeQAAAAMAMkmFAAAAAYMfvY0AAAACgZWKAQA==",
          "dtype": "f8"
         },
         "xaxis": "x2",
         "y": {
          "bdata": "42UhaVXV2L8/B2va21vhPyCRtYjnaPC/LUX5+a/b9r+LcaZxMx3uP6930n1FBbK/ae0pxKRZ57/aW8Jww0Pxv1d0koH1Ft6/5hzTuuDi8j8+/B5FzaHwPxSMEy3qT7K/lM02Zt1q4L8y+yPqrq/Nv4noxg9WbdU//aD8KoIf0j+4QyuKV9wBQImxxg0QPOk/K/s+ZCIy4D8pCQSJzgzrP+v2TrwHoau/1WPVr5gI6b8S4Thf5ZHevyQQ19DqBeM/atUuIpkz4D/wL/s0BdL7v1OzbHhnxpO/RBfpZooq0z9L93vejBC5PyOtdX/udeQ/hczPr5Wb8T+ojO7k2g3MPynsbUdBotG/yKgzMpVx7z83UJ47MJPwvw==",
          "dtype": "f8"
         },
         "yaxis": "y2"
        }
       ],
       "layout": {
        "height": 700,
        "legend": {
         "x": 1,
         "xanchor": "right",
         "y": 1,
         "yanchor": "bottom"
        },
        "template": {
         "data": {
          "bar": [
           {
            "error_x": {
             "color": "#2a3f5f"
            },
            "error_y": {
             "color": "#2a3f5f"
            },
            "marker": {
             "line": {
              "color": "white",
              "width": 0.5
             },
             "pattern": {
              "fillmode": "overlay",
              "size": 10,
              "solidity": 0.2
             }
            },
            "type": "bar"
           }
          ],
          "barpolar": [
           {
            "marker": {
             "line": {
              "color": "white",
              "width": 0.5
             },
             "pattern": {
              "fillmode": "overlay",
              "size": 10,
              "solidity": 0.2
             }
            },
            "type": "barpolar"
           }
          ],
          "carpet": [
           {
            "aaxis": {
             "endlinecolor": "#2a3f5f",
             "gridcolor": "#C8D4E3",
             "linecolor": "#C8D4E3",
             "minorgridcolor": "#C8D4E3",
             "startlinecolor": "#2a3f5f"
            },
            "baxis": {
             "endlinecolor": "#2a3f5f",
             "gridcolor": "#C8D4E3",
             "linecolor": "#C8D4E3",
             "minorgridcolor": "#C8D4E3",
             "startlinecolor": "#2a3f5f"
            },
            "type": "carpet"
           }
          ],
          "choropleth": [
           {
            "colorbar": {
             "outlinewidth": 0,
             "ticks": ""
            },
            "type": "choropleth"
           }
          ],
          "contour": [
           {
            "colorbar": {
             "outlinewidth": 0,
             "ticks": ""
            },
            "colorscale": [
             [
              0,
              "#0d0887"
             ],
             [
              0.1111111111111111,
              "#46039f"
             ],
             [
              0.2222222222222222,
              "#7201a8"
             ],
             [
              0.3333333333333333,
              "#9c179e"
             ],
             [
              0.4444444444444444,
              "#bd3786"
             ],
             [
              0.5555555555555556,
              "#d8576b"
             ],
             [
              0.6666666666666666,
              "#ed7953"
             ],
             [
              0.7777777777777778,
              "#fb9f3a"
             ],
             [
              0.8888888888888888,
              "#fdca26"
             ],
             [
              1,
              "#f0f921"
             ]
            ],
            "type": "contour"
           }
          ],
          "contourcarpet": [
           {
            "colorbar": {
             "outlinewidth": 0,
             "ticks": ""
            },
            "type": "contourcarpet"
           }
          ],
          "heatmap": [
           {
            "colorbar": {
             "outlinewidth": 0,
             "ticks": ""
            },
            "colorscale": [
             [
              0,
              "#0d0887"
             ],
             [
              0.1111111111111111,
              "#46039f"
             ],
             [
              0.2222222222222222,
              "#7201a8"
             ],
             [
              0.3333333333333333,
              "#9c179e"
             ],
             [
              0.4444444444444444,
              "#bd3786"
             ],
             [
              0.5555555555555556,
              "#d8576b"
             ],
             [
              0.6666666666666666,
              "#ed7953"
             ],
             [
              0.7777777777777778,
              "#fb9f3a"
             ],
             [
              0.8888888888888888,
              "#fdca26"
             ],
             [
              1,
              "#f0f921"
             ]
            ],
            "type": "heatmap"
           }
          ],
          "histogram": [
           {
            "marker": {
             "pattern": {
              "fillmode": "overlay",
              "size": 10,
              "solidity": 0.2
             }
            },
            "type": "histogram"
           }
          ],
          "histogram2d": [
           {
            "colorbar": {
             "outlinewidth": 0,
             "ticks": ""
            },
            "colorscale": [
             [
              0,
              "#0d0887"
             ],
             [
              0.1111111111111111,
              "#46039f"
             ],
             [
              0.2222222222222222,
              "#7201a8"
             ],
             [
              0.3333333333333333,
              "#9c179e"
             ],
             [
              0.4444444444444444,
              "#bd3786"
             ],
             [
              0.5555555555555556,
              "#d8576b"
             ],
             [
              0.6666666666666666,
              "#ed7953"
             ],
             [
              0.7777777777777778,
              "#fb9f3a"
             ],
             [
              0.8888888888888888,
              "#fdca26"
             ],
             [
              1,
              "#f0f921"
             ]
            ],
            "type": "histogram2d"
           }
          ],
          "histogram2dcontour": [
           {
            "colorbar": {
             "outlinewidth": 0,
             "ticks": ""
            },
            "colorscale": [
             [
              0,
              "#0d0887"
             ],
             [
              0.1111111111111111,
              "#46039f"
             ],
             [
              0.2222222222222222,
              "#7201a8"
             ],
             [
              0.3333333333333333,
              "#9c179e"
             ],
             [
              0.4444444444444444,
              "#bd3786"
             ],
             [
              0.5555555555555556,
              "#d8576b"
             ],
             [
              0.6666666666666666,
              "#ed7953"
             ],
             [
              0.7777777777777778,
              "#fb9f3a"
             ],
             [
              0.8888888888888888,
              "#fdca26"
             ],
             [
              1,
              "#f0f921"
             ]
            ],
            "type": "histogram2dcontour"
           }
          ],
          "mesh3d": [
           {
            "colorbar": {
             "outlinewidth": 0,
             "ticks": ""
            },
            "type": "mesh3d"
           }
          ],
          "parcoords": [
           {
            "line": {
             "colorbar": {
              "outlinewidth": 0,
              "ticks": ""
             }
            },
            "type": "parcoords"
           }
          ],
          "pie": [
           {
            "automargin": true,
            "type": "pie"
           }
          ],
          "scatter": [
           {
            "fillpattern": {
             "fillmode": "overlay",
             "size": 10,
             "solidity": 0.2
            },
            "type": "scatter"
           }
          ],
          "scatter3d": [
           {
            "line": {
             "colorbar": {
              "outlinewidth": 0,
              "ticks": ""
             }
            },
            "marker": {
             "colorbar": {
              "outlinewidth": 0,
              "ticks": ""
             }
            },
            "type": "scatter3d"
           }
          ],
          "scattercarpet": [
           {
            "marker": {
             "colorbar": {
              "outlinewidth": 0,
              "ticks": ""
             }
            },
            "type": "scattercarpet"
           }
          ],
          "scattergeo": [
           {
            "marker": {
             "colorbar": {
              "outlinewidth": 0,
              "ticks": ""
             }
            },
            "type": "scattergeo"
           }
          ],
          "scattergl": [
           {
            "marker": {
             "colorbar": {
              "outlinewidth": 0,
              "ticks": ""
             }
            },
            "type": "scattergl"
           }
          ],
          "scattermap": [
           {
            "marker": {
             "colorbar": {
              "outlinewidth": 0,
              "ticks": ""
             }
            },
            "type": "scattermap"
           }
          ],
          "scattermapbox": [
           {
            "marker": {
             "colorbar": {
              "outlinewidth": 0,
              "ticks": ""
             }
            },
            "type": "scattermapbox"
           }
          ],
          "scatterpolar": [
           {
            "marker": {
             "colorbar": {
              "outlinewidth": 0,
              "ticks": ""
             }
            },
            "type": "scatterpolar"
           }
          ],
          "scatterpolargl": [
           {
            "marker": {
             "colorbar": {
              "outlinewidth": 0,
              "ticks": ""
             }
            },
            "type": "scatterpolargl"
           }
          ],
          "scatterternary": [
           {
            "marker": {
             "colorbar": {
              "outlinewidth": 0,
              "ticks": ""
             }
            },
            "type": "scatterternary"
           }
          ],
          "surface": [
           {
            "colorbar": {
             "outlinewidth": 0,
             "ticks": ""
            },
            "colorscale": [
             [
              0,
              "#0d0887"
             ],
             [
              0.1111111111111111,
              "#46039f"
             ],
             [
              0.2222222222222222,
              "#7201a8"
             ],
             [
              0.3333333333333333,
              "#9c179e"
             ],
             [
              0.4444444444444444,
              "#bd3786"
             ],
             [
              0.5555555555555556,
              "#d8576b"
             ],
             [
              0.6666666666666666,
              "#ed7953"
             ],
             [
              0.7777777777777778,
              "#fb9f3a"
             ],
             [
              0.8888888888888888,
              "#fdca26"
             ],
             [
              1,
              "#f0f921"
             ]
            ],
            "type": "surface"
           }
          ],
          "table": [
           {
            "cells": {
             "fill": {
              "color": "#EBF0F8"
             },
             "line": {
              "color": "white"
             }
            },
            "header": {
             "fill": {
              "color": "#C8D4E3"
             },
             "line": {
              "color": "white"
             }
            },
            "type": "table"
           }
          ]
         },
         "layout": {
          "annotationdefaults": {
           "arrowcolor": "#2a3f5f",
           "arrowhead": 0,
           "arrowwidth": 1
          },
          "autotypenumbers": "strict",
          "coloraxis": {
           "colorbar": {
            "outlinewidth": 0,
            "ticks": ""
           }
          },
          "colorscale": {
           "diverging": [
            [
             0,
             "#8e0152"
            ],
            [
             0.1,
             "#c51b7d"
            ],
            [
             0.2,
             "#de77ae"
            ],
            [
             0.3,
             "#f1b6da"
            ],
            [
             0.4,
             "#fde0ef"
            ],
            [
             0.5,
             "#f7f7f7"
            ],
            [
             0.6,
             "#e6f5d0"
            ],
            [
             0.7,
             "#b8e186"
            ],
            [
             0.8,
             "#7fbc41"
            ],
            [
             0.9,
             "#4d9221"
            ],
            [
             1,
             "#276419"
            ]
           ],
           "sequential": [
            [
             0,
             "#0d0887"
            ],
            [
             0.1111111111111111,
             "#46039f"
            ],
            [
             0.2222222222222222,
             "#7201a8"
            ],
            [
             0.3333333333333333,
             "#9c179e"
            ],
            [
             0.4444444444444444,
             "#bd3786"
            ],
            [
             0.5555555555555556,
             "#d8576b"
            ],
            [
             0.6666666666666666,
             "#ed7953"
            ],
            [
             0.7777777777777778,
             "#fb9f3a"
            ],
            [
             0.8888888888888888,
             "#fdca26"
            ],
            [
             1,
             "#f0f921"
            ]
           ],
           "sequentialminus": [
            [
             0,
             "#0d0887"
            ],
            [
             0.1111111111111111,
             "#46039f"
            ],
            [
             0.2222222222222222,
             "#7201a8"
            ],
            [
             0.3333333333333333,
             "#9c179e"
            ],
            [
             0.4444444444444444,
             "#bd3786"
            ],
            [
             0.5555555555555556,
             "#d8576b"
            ],
            [
             0.6666666666666666,
             "#ed7953"
            ],
            [
             0.7777777777777778,
             "#fb9f3a"
            ],
            [
             0.8888888888888888,
             "#fdca26"
            ],
            [
             1,
             "#f0f921"
            ]
           ]
          },
          "colorway": [
           "#636efa",
           "#EF553B",
           "#00cc96",
           "#ab63fa",
           "#FFA15A",
           "#19d3f3",
           "#FF6692",
           "#B6E880",
           "#FF97FF",
           "#FECB52"
          ],
          "font": {
           "color": "#2a3f5f"
          },
          "geo": {
           "bgcolor": "white",
           "lakecolor": "white",
           "landcolor": "white",
           "showlakes": true,
           "showland": true,
           "subunitcolor": "#C8D4E3"
          },
          "hoverlabel": {
           "align": "left"
          },
          "hovermode": "closest",
          "mapbox": {
           "style": "light"
          },
          "paper_bgcolor": "white",
          "plot_bgcolor": "white",
          "polar": {
           "angularaxis": {
            "gridcolor": "#EBF0F8",
            "linecolor": "#EBF0F8",
            "ticks": ""
           },
           "bgcolor": "white",
           "radialaxis": {
            "gridcolor": "#EBF0F8",
            "linecolor": "#EBF0F8",
            "ticks": ""
           }
          },
          "scene": {
           "xaxis": {
            "backgroundcolor": "white",
            "gridcolor": "#DFE8F3",
            "gridwidth": 2,
            "linecolor": "#EBF0F8",
            "showbackground": true,
            "ticks": "",
            "zerolinecolor": "#EBF0F8"
           },
           "yaxis": {
            "backgroundcolor": "white",
            "gridcolor": "#DFE8F3",
            "gridwidth": 2,
            "linecolor": "#EBF0F8",
            "showbackground": true,
            "ticks": "",
            "zerolinecolor": "#EBF0F8"
           },
           "zaxis": {
            "backgroundcolor": "white",
            "gridcolor": "#DFE8F3",
            "gridwidth": 2,
            "linecolor": "#EBF0F8",
            "showbackground": true,
            "ticks": "",
            "zerolinecolor": "#EBF0F8"
           }
          },
          "shapedefaults": {
           "line": {
            "color": "#2a3f5f"
           }
          },
          "ternary": {
           "aaxis": {
            "gridcolor": "#DFE8F3",
            "linecolor": "#A2B1C6",
            "ticks": ""
           },
           "baxis": {
            "gridcolor": "#DFE8F3",
            "linecolor": "#A2B1C6",
            "ticks": ""
           },
           "bgcolor": "white",
           "caxis": {
            "gridcolor": "#DFE8F3",
            "linecolor": "#A2B1C6",
            "ticks": ""
           }
          },
          "title": {
           "x": 0.05
          },
          "xaxis": {
           "automargin": true,
           "gridcolor": "#EBF0F8",
           "linecolor": "#EBF0F8",
           "ticks": "",
           "title": {
            "standoff": 15
           },
           "zerolinecolor": "#EBF0F8",
           "zerolinewidth": 2
          },
          "yaxis": {
           "automargin": true,
           "gridcolor": "#EBF0F8",
           "linecolor": "#EBF0F8",
           "ticks": "",
           "title": {
            "standoff": 15
           },
           "zerolinecolor": "#EBF0F8",
           "zerolinewidth": 2
          }
         }
        },
        "width": 600,
        "xaxis": {
         "anchor": "y",
         "domain": [
          0,
          1
         ],
         "matches": "x2",
         "showticklabels": false,
         "title": {
          "text": ""
         },
         "type": "log"
        },
        "xaxis2": {
         "anchor": "y2",
         "domain": [
          0,
          1
         ],
         "title": {
          "text": "Energy (keV)"
         },
         "type": "log"
        },
        "yaxis": {
         "anchor": "x",
         "domain": [
          0.265,
          1
         ],
         "range": [
          -5.469643906766965,
          0.4050169362625628
         ],
         "title": {
          "text": "Photons/cm^2/s/keV"
         },
         "type": "log"
        },
        "yaxis2": {
         "anchor": "x2",
         "domain": [
          0,
          0.245
         ],
         "range": [
          -3.5,
          3.5
         ],
         "showgrid": false,
         "title": {
          "text": "Sigma"
         }
        }
       }
      }
     },
     "metadata": {},
     "output_type": "display_data"
    }
   ],
   "source": [
    "fig = Plot.infer(post, style='NE')\n",
    "fig.save(f'{savepath}/phtspec')"
   ]
  },
  {
   "cell_type": "code",
   "execution_count": 10,
   "id": "4259e4a5",
   "metadata": {},
   "outputs": [
    {
     "data": {
      "image/png": "[encoded data removed]",
      "text/plain": [
       "<Figure size 970x970 with 16 Axes>"
      ]
     },
     "metadata": {},
     "output_type": "display_data"
    }
   ],
   "source": [
    "fig = Plot.post_corner(post, ploter='cornerpy')\n",
    "fig.save(f'{savepath}/corner')"
   ]
  },
  {
   "cell_type": "code",
   "execution_count": 11,
   "id": "85b9fbf9",
   "metadata": {},
   "outputs": [
    {
     "data": {
      "application/vnd.plotly.v1+json": {
       "config": {
        "plotlyServerURL": "https://plot.ly"
       },
       "data": [
        {
         "line": {
          "color": "#636EFA",
          "width": 2
         },
         "mode": "lines",
         "name": "(AS_TbAbs*cpl)",
         "showlegend": true,
         "type": "scatter",
         "x": {
          "bdata": "AAAAAAAA4D9y6XaG8K7hP8EQSds3i+M/WmnzJJuZ5T+hnBIEYN/nP759wBdaYuo/DAAC7vko7T9epknDLh3wP/6cM0kxz/E/yMpRT92u8z8E7WevAMH1P6RPrqfqCvg//6vWd3mS+j8fkLlsKV79P+/jn8CSOgBAKyCV36zvAUDFlmvHw9IDQMssDBWu6AVAUpXUtcQ2CECeknCd8MIKQOKA+Oy5kw1AEYAXWSxYEEAr/Oa0YxASQOfYK7rr9hNAaHLv2KMQFkB0pF6/7mIYQHO3pCjA8xpAGRytH6zJHUCHU3bu+3UgQLRsODVWMSJAtj4An1UbJEBVEhB/4jgmQN7kLVZpjyhAKJ2tuugkK0CMYAi3AAAuQHOLNOMBlDBA58RdzYRSMkCSSTDuAUA0QM8fXYxqYTZAS9EtDTW8OECP1+v1alY7QJ1OgGa4Nj5Ake59mj6yQEDV1vHq73NCQAHc3iDxZERA3yO4hjyKRkCv3FV4UulIQCok6H1HiEtAEDnS4tNtTkDSJDN4stBQQHddV/yXlVJAzMkLsSOKVECq1/b0WLNWQPNaqyzCFllAQ4ZV9366W0ANGgXiU6VeQDcB6+Bd72BAYWm6cH23YkD+apUZmq9kQNfh5F7A3GZAKm1DwIREaUD4ZhMIEu1rQGPsaxs53W5AJc7zOUEOcUDwzxG4oNlyQLwxOtZU1XRA7ZZFTXMGd0Bi8UTKmnJ5QB65L1cBIHxAFQmoR4QVf0D7m1TpXC2BQB2dIEMC/IJAA0OaY1T7hEBMvdVJcjCHQNt16uIEoYlAFSHpjE1TjEA8iasgNk6PQBiSzlWxTJFA+od3g6Iek0BREjk/mSGVQAZUTd+9WpdA5C+Eo8PPmUB9ILFS94acQBqsu2FPh59AQ0Le5j5soUDOaXbrgUGjQEMAf+cjSKVAF11hmVaFp0A/9nmm1/6pQO1FLlP/uqxA5EFzx9DAr0CA/rwEBoyxQOG3Te6gZLNAA/y62/RutUDhqsUEPbC3QC0/TYdBLrpAoGA+OmbvvECQGsUPu/q/QFsxYhgHrMFAAAAAAACIw0A=",
          "dtype": "f8"
         },
         "y": {
          "bdata": "o4fK4grChj1uLBbgMAhuPWqi+do9oaI96+WPKImKwj3a3Yj51SHTPdmWhslT2uc9LiRdDjal8T1fomAaswQAPqmz9o6Khwk+eqXwRb2CEj7XIw/936EXPhNwPBlQHh4+pF2HS2Y2Ij74+FDly0klPqFEMXiDpCc+Ip1hu9RaKj79bYU4tX0sPiCfbsf91i4+Q6ZvwwiCMD4QG59f8n4xPhoJAWWSdjI+QvSKIjNeMz5qolQgr0M0PnubpP++IzU+BTSr7qsANj6yZGHDl9s2PoNTl7nDtzc+DSHKs9FeOD5/BYFg1Ek5Pmt72JiJNDo+vRC8ecQjOz7Fiflp+hU8Pj7zcdu3Cz0+nitM720FPj5DPO6jZwM/PhAAiOnkAkA+IMXPPE+GQD4hbX/LvAtBPqgqDJZAkkE+IdaZquoaQj6vY9nHdaVCPmgDPAmPMUM+xoY+MtS+Qz446EXV0UxEPuVwWlcB20Q+jeqt08ZoRT49EPjjbvVFPiZDbVUsgEY+2hqD1RUIRz5+7fqlI4xHPtfb4WwtC0g+q0t7O+iDSD47+nHu5PRIPqD2OxKPXEk+WNVIgCy5ST41ZCn03QhKPt9gCeOgSUo+aozz6lJ5Sj4a/4A5t5VKPp4yblF+nEo+xs1CmlCLSj5xM1ki3F9KPtYeF+/lF0o+i+9yHV+xST6ZyuTpfSpJPgdVeHbagUg+K94uzI62Rz7gAfcfWchGPvXWitO+t0U+vgo0BC6GRD6+96zHGjZDPvZFKo0Uy0E+QtK/ks9JQD6AWLhIPHA9PhA7pi+rOTo+5ArUwjf/Nj6DcYGtONEzPkP1lalJwDA+NbFhp7+4Kz4dz6cwkmcmPptjwr1epCE+RMDE5vb+Gj7Kg71XHgIUPhvorfBuogw+QQ1Sk5q1Az7tdmzoCv75Pf0X6P1TWPA99BDnv72B4z2xdp+YM/jVPYe0l7xQNcc9qO0tAm7Xtj1b4otM/cmkPXSY23+UWpE9wb2pGhBVej0x0By/y/lhPWtTnT+11kU9liZoDiFSJz0O74fuM5gFPQGkrIq8FOE87MW8D/Sztjw=",
          "dtype": "f8"
         }
        },
        {
         "line": {
          "color": "rgba(0,0,0,0)"
         },
         "mode": "lines",
         "name": "(AS_TbAbs*cpl) lower",
         "showlegend": false,
         "type": "scatter",
         "x": {
          "bdata": "AAAAAAAA4D9y6XaG8K7hP8EQSds3i+M/WmnzJJuZ5T+hnBIEYN/nP759wBdaYuo/DAAC7vko7T9epknDLh3wP/6cM0kxz/E/yMpRT92u8z8E7WevAMH1P6RPrqfqCvg//6vWd3mS+j8fkLlsKV79P+/jn8CSOgBAKyCV36zvAUDFlmvHw9IDQMssDBWu6AVAUpXUtcQ2CECeknCd8MIKQOKA+Oy5kw1AEYAXWSxYEEAr/Oa0YxASQOfYK7rr9hNAaHLv2KMQFkB0pF6/7mIYQHO3pCjA8xpAGRytH6zJHUCHU3bu+3UgQLRsODVWMSJAtj4An1UbJEBVEhB/4jgmQN7kLVZpjyhAKJ2tuugkK0CMYAi3AAAuQHOLNOMBlDBA58RdzYRSMkCSSTDuAUA0QM8fXYxqYTZAS9EtDTW8OECP1+v1alY7QJ1OgGa4Nj5Ake59mj6yQEDV1vHq73NCQAHc3iDxZERA3yO4hjyKRkCv3FV4UulIQCok6H1HiEtAEDnS4tNtTkDSJDN4stBQQHddV/yXlVJAzMkLsSOKVECq1/b0WLNWQPNaqyzCFllAQ4ZV9366W0ANGgXiU6VeQDcB6+Bd72BAYWm6cH23YkD+apUZmq9kQNfh5F7A3GZAKm1DwIREaUD4ZhMIEu1rQGPsaxs53W5AJc7zOUEOcUDwzxG4oNlyQLwxOtZU1XRA7ZZFTXMGd0Bi8UTKmnJ5QB65L1cBIHxAFQmoR4QVf0D7m1TpXC2BQB2dIEMC/IJAA0OaY1T7hEBMvdVJcjCHQNt16uIEoYlAFSHpjE1TjEA8iasgNk6PQBiSzlWxTJFA+od3g6Iek0BREjk/mSGVQAZUTd+9WpdA5C+Eo8PPmUB9ILFS94acQBqsu2FPh59AQ0Le5j5soUDOaXbrgUGjQEMAf+cjSKVAF11hmVaFp0A/9nmm1/6pQO1FLlP/uqxA5EFzx9DAr0CA/rwEBoyxQOG3Te6gZLNAA/y62/RutUDhqsUEPbC3QC0/TYdBLrpAoGA+OmbvvECQGsUPu/q/QFsxYhgHrMFAAAAAAACIw0A=",
          "dtype": "f8"
         },
         "y": {
          "bdata": "+iUbzEJGZz1MFT+3ujBHPSjzkiL7fog9qYF0ZeuqsD3CUahBUAbEPQFZLEZdUN49OOV9PpQi6D0x3QDUzYn4PU3OkoRxOgU+Nd1z3g0rED7wJkCbKRsVPvRrcyuhLhs+wLKNNWl6ID6vDsHoH0gjPo8pRndaayU+e75mhKrcJz72/pDD7c8pPvDZGep78Cs+Ipdw3ePsLT6pApfQ8sAvPhUaEz5oxDA+dsfxDZOcMT4JDzeWVHUyPv/tYqRGRzM+ns+Uc/8XND5u293Q5uI0PpLYIcmUszU+Y0hgG0FVNj7+qTd9ai03PjmgTrLuADg+v/NmffvVOD74E18i4q85PtjM2PY4iDo+wqDDK4tgOz5ViX05Ozs8PlsHmSkKGD0+nVToMvz4PT4nHrbOl9c+Pgb/cOpyuT8+oSWnCVpMQD5D+R2A67lAPpRy8FGwLUE+ZBPTghqeQT7oUfScHAxCPlK8RpeZe0I+D4KZPRXrQj4d8Z1GPllDPgHho7MQwEM++WTI5VwpRD4TtaFkQI1EPkKNvVK770Q+khR+19xKRT60L790951FPjhanFu93kU+c9ozwIMcRj5MFQh8OEZGPiIvg8enW0Y+ZWrfTrNkRj4I9QETdFJGPlS3Q9a2EUY+l61WfzbLRT520tAfSltFPrjRi+anz0Q+6AenL2cSRD75aDLGsC9DPgaXcC7VN0I+/OH2SrYfQT6Nl66vpMw/PopwYQvBGD0+jHlNRpsyOj5FZf50V0M3PvZZsiY3VTQ+VpQWs5GBMT6r8oGbdIAtPpGzy3xcMig+Fc6gXkuhIz4DBBFG98AePvysGUecexc+com8M61CET4xIKsdsKEIPmv6sfzL0AA+2zIFUncB9j3CSbOGNkvrPfBVWrx0HeA9GBjo0EH/0T3eKMXw3bzCPR0F9l8TAbI9grNHLqADoD0ikKcX/gKKPeuxtn8qJ3M9qDWDS+k3WT1KjskXHr09PUaXZo9kfx49P5igZRob+zyr4BX5rdTTPBjakVUDDKk8YtoBx/S3eTz/k98bdCxFPKe22w/isws86uAoKDhoyzs=",
          "dtype": "f8"
         }
        },
        {
         "fill": "tonexty",
         "fillcolor": "rgba(99, 110, 250, 0.500000)",
         "line": {
          "color": "rgba(0,0,0,0)"
         },
         "mode": "lines",
         "name": "(AS_TbAbs*cpl) CI",
         "showlegend": true,
         "type": "scatter",
         "x": {
          "bdata": "AAAAAAAA4D9y6XaG8K7hP8EQSds3i+M/WmnzJJuZ5T+hnBIEYN/nP759wBdaYuo/DAAC7vko7T9epknDLh3wP/6cM0kxz/E/yMpRT92u8z8E7WevAMH1P6RPrqfqCvg//6vWd3mS+j8fkLlsKV79P+/jn8CSOgBAKyCV36zvAUDFlmvHw9IDQMssDBWu6AVAUpXUtcQ2CECeknCd8MIKQOKA+Oy5kw1AEYAXWSxYEEAr/Oa0YxASQOfYK7rr9hNAaHLv2KMQFkB0pF6/7mIYQHO3pCjA8xpAGRytH6zJHUCHU3bu+3UgQLRsODVWMSJAtj4An1UbJEBVEhB/4jgmQN7kLVZpjyhAKJ2tuugkK0CMYAi3AAAuQHOLNOMBlDBA58RdzYRSMkCSSTDuAUA0QM8fXYxqYTZAS9EtDTW8OECP1+v1alY7QJ1OgGa4Nj5Ake59mj6yQEDV1vHq73NCQAHc3iDxZERA3yO4hjyKRkCv3FV4UulIQCok6H1HiEtAEDnS4tNtTkDSJDN4stBQQHddV/yXlVJAzMkLsSOKVECq1/b0WLNWQPNaqyzCFllAQ4ZV9366W0ANGgXiU6VeQDcB6+Bd72BAYWm6cH23YkD+apUZmq9kQNfh5F7A3GZAKm1DwIREaUD4ZhMIEu1rQGPsaxs53W5AJc7zOUEOcUDwzxG4oNlyQLwxOtZU1XRA7ZZFTXMGd0Bi8UTKmnJ5QB65L1cBIHxAFQmoR4QVf0D7m1TpXC2BQB2dIEMC/IJAA0OaY1T7hEBMvdVJcjCHQNt16uIEoYlAFSHpjE1TjEA8iasgNk6PQBiSzlWxTJFA+od3g6Iek0BREjk/mSGVQAZUTd+9WpdA5C+Eo8PPmUB9ILFS94acQBqsu2FPh59AQ0Le5j5soUDOaXbrgUGjQEMAf+cjSKVAF11hmVaFp0A/9nmm1/6pQO1FLlP/uqxA5EFzx9DAr0CA/rwEBoyxQOG3Te6gZLNAA/y62/RutUDhqsUEPbC3QC0/TYdBLrpAoGA+OmbvvECQGsUPu/q/QFsxYhgHrMFAAAAAAACIw0A=",
          "dtype": "f8"
         },
         "y": {
          "bdata": "yV9zH9rXlz0GXFNxuC2CPbngHfRaF7E9b/2qGvYMzT0W+hTyOK3bPeATrnmRO+89sYEFo7Ey9j26Cj+i/QsDPo+QzJijUw0+cxwoVcn4FD7Man8EnMIaPpogmtxoGyE+E96VvgXcJD4P8j+G3ZcoPtFa89daWis+TlGiQbSkLj6SN/3yyoowPiXQjk+R5jE+frscz/QfMz4ag4zvvzI0Ppjvl09EOjU+QyMV3j4lNj6Pi8t/0Aw3PrTJJLi06jc+VTeGKCu8OD4vjvt27IU5PjgpRRBvVjo+bWxn1O3gOj6xgPi8XLs7Pv2GAhSNmjw+F3TtyQN8PT4tudaT7Fw+Ptnr63P+TD8+wH4CQX4eQD4mEMVaYJpAPj2W3B1JHUE+BMFzIX2gQT5pYpfhHCdCPvFRnw/Cr0I+I4tMZ3I7Qz7b51H2kspDPppz1vBbXkQ+DfLAP7n2RD7sY5FMVo1FPs4rwxU5IkY+9Nf/cpO2Rj4NfVKHy0tHPkFELRIy5kc+V9mBLiCBSD7jeHq09xJJPrDE8MIlqEk+iRmmYwI7Sj7axryqh9RKPnDPzD3Laks+AhjXiRMBTD7+Mh+L0pdMPlIlKx7BKU0+fhiaoEe6TT4zvkQEP01OPnjoBNFl4E4+fSZytyByTz4QcUr4bQhQPgU14sapU1A+qbqtFxubUD4Du0s1xuBQPrFKjUQbIFE+y9uS1slnUT7t9/26kKdRPuWXGJYR5lE+Rjb5h48ZUj7RCAkfCklSPh+cPFHLdVI+gjOym8SlUj7Wf8QLP85SPkJi6toj6VI+JjJuXKvuUj662HdgXP9SPorQhGn//1I+HBZdmvvzUj5p2zhRfONSPg+oj4u7uVI+X/6NwG2GUj5TaAKVXkVSPn1vc9qZ+FE+y8sDveqGUT5JEDKpyRxRPnZKntpcpVA+y7J5BVkSUD7Z62ArFeROPtG4TgIRbk0+U/lOxoXgSz7JVzqHIidKPp2VTSPXbUg+GnrCu/6JRj7R7Ao9SZBEPia9bkgbbUI+lWsJsLVkQD6fSaVBYZo8PlzjWUOEszg+xOjYxR7FND4=",
          "dtype": "f8"
         }
        },
        {
         "line": {
          "color": "#EF553B",
          "width": 2
         },
         "mode": "lines",
         "name": "cpl",
         "showlegend": true,
         "type": "scatter",
         "x": {
          "bdata": "AAAAAAAA4D9y6XaG8K7hP8EQSds3i+M/WmnzJJuZ5T+hnBIEYN/nP759wBdaYuo/DAAC7vko7T9epknDLh3wP/6cM0kxz/E/yMpRT92u8z8E7WevAMH1P6RPrqfqCvg//6vWd3mS+j8fkLlsKV79P+/jn8CSOgBAKyCV36zvAUDFlmvHw9IDQMssDBWu6AVAUpXUtcQ2CECeknCd8MIKQOKA+Oy5kw1AEYAXWSxYEEAr/Oa0YxASQOfYK7rr9hNAaHLv2KMQFkB0pF6/7mIYQHO3pCjA8xpAGRytH6zJHUCHU3bu+3UgQLRsODVWMSJAtj4An1UbJEBVEhB/4jgmQN7kLVZpjyhAKJ2tuugkK0CMYAi3AAAuQHOLNOMBlDBA58RdzYRSMkCSSTDuAUA0QM8fXYxqYTZAS9EtDTW8OECP1+v1alY7QJ1OgGa4Nj5Ake59mj6yQEDV1vHq73NCQAHc3iDxZERA3yO4hjyKRkCv3FV4UulIQCok6H1HiEtAEDnS4tNtTkDSJDN4stBQQHddV/yXlVJAzMkLsSOKVECq1/b0WLNWQPNaqyzCFllAQ4ZV9366W0ANGgXiU6VeQDcB6+Bd72BAYWm6cH23YkD+apUZmq9kQNfh5F7A3GZAKm1DwIREaUD4ZhMIEu1rQGPsaxs53W5AJc7zOUEOcUDwzxG4oNlyQLwxOtZU1XRA7ZZFTXMGd0Bi8UTKmnJ5QB65L1cBIHxAFQmoR4QVf0D7m1TpXC2BQB2dIEMC/IJAA0OaY1T7hEBMvdVJcjCHQNt16uIEoYlAFSHpjE1TjEA8iasgNk6PQBiSzlWxTJFA+od3g6Iek0BREjk/mSGVQAZUTd+9WpdA5C+Eo8PPmUB9ILFS94acQBqsu2FPh59AQ0Le5j5soUDOaXbrgUGjQEMAf+cjSKVAF11hmVaFp0A/9nmm1/6pQO1FLlP/uqxA5EFzx9DAr0CA/rwEBoyxQOG3Te6gZLNAA/y62/RutUDhqsUEPbC3QC0/TYdBLrpAoGA+OmbvvECQGsUPu/q/QFsxYhgHrMFAAAAAAACIw0A=",
          "dtype": "f8"
         },
         "y": {
          "bdata": "FfdmmHHQIz4/IVHTuYEkPjtfeXElOSU+HEF3uej2JT6QcctfObsmPtfM64ROhic+bY0isWBYKD4ixuDNqTEpPpVpFhxlEio+cDoSJ8/6Kj5r8FmzJesrPhBc1qin4yw+4RCY95TkLT6/wl52Lu4uPlXZ99xaADA+AesScjaOMD4TMcA0yyAxPiXN5GU6uDE+l9IfJKVUMj48obk7LPYyPr/zae7vnDM+QsXOsQ9JND5b0kjjqfo0PigbyW/bsTU+qzTtbb9uNj6YPpaobjE3Pkjj7xf/+Tc+pe6hRoPIOD72/qegCZ05PikOCKmbdzo++9taEz1YOz42zdG96j48PitlHoiZKz0+6YtaAzUePj53vtH2nRY/PhdKq1pUCkA+SNVVnw2MQD7EYT2UVRBBPrRNNaX9lkE+KiKUlMwfQj6Qs10OfapCPv+SqBe8NkM+FK9zWSfEQz6/QwNHS1JEPvbuEiGh4EQ+ECLK2IxuRT68fn/XWvtFPv08EbM9hkY+qjYJ2ksORz4e4QhHfZJHPttUMlCpEUg+wZKKrYSKSD6adLrYn/tIPhksJvFlY0k+R9AAWRzAST6FSpxK4w9KPhcyYrC3UEo+DP0ElXaASj6bM6SL4pxKPvYDenero0o+qihcHnmSSj7JQ3nu+GZKPtG7PFPvHko+hZCG20y4ST5EiVxIRzFJPn5evlp2iEg+yG2p3fO8Rz4kMk70fc5GPpP0XiSavUU+M5vg7baLRD4WOe4PSTtDPmidhu/gz0E+FTd+DzROQD42m1CbLHg9PpL2MK+9QDo+9nksY2sFNz6+OnfKkNYzPuShjBnOxDA+l75idTnAKz5BmdrrnG0mPkMTta8gqSE+B4Hmmj4GGz5032GkgwcUPu9/b8Mnqgw+GmepPeu6Az4HU5hTDQX6PTKp3mS8XPA92hvWbQCH4z34YkVLIP7VPYCco/OSO8c9kqOy55bdtj1c445/mM+kPYXsm4tCX5E95xxn/Slcej2u+Yy6pP5hPfQe/emY3EU9F6KmCmtYJz1JXsa9Bp4FPTP9rMBXGeE8roUYZBO6tjw=",
          "dtype": "f8"
         }
        },
        {
         "line": {
          "color": "rgba(0,0,0,0)"
         },
         "mode": "lines",
         "name": "cpl lower",
         "showlegend": false,
         "type": "scatter",
         "x": {
          "bdata": "AAAAAAAA4D9y6XaG8K7hP8EQSds3i+M/WmnzJJuZ5T+hnBIEYN/nP759wBdaYuo/DAAC7vko7T9epknDLh3wP/6cM0kxz/E/yMpRT92u8z8E7WevAMH1P6RPrqfqCvg//6vWd3mS+j8fkLlsKV79P+/jn8CSOgBAKyCV36zvAUDFlmvHw9IDQMssDBWu6AVAUpXUtcQ2CECeknCd8MIKQOKA+Oy5kw1AEYAXWSxYEEAr/Oa0YxASQOfYK7rr9hNAaHLv2KMQFkB0pF6/7mIYQHO3pCjA8xpAGRytH6zJHUCHU3bu+3UgQLRsODVWMSJAtj4An1UbJEBVEhB/4jgmQN7kLVZpjyhAKJ2tuugkK0CMYAi3AAAuQHOLNOMBlDBA58RdzYRSMkCSSTDuAUA0QM8fXYxqYTZAS9EtDTW8OECP1+v1alY7QJ1OgGa4Nj5Ake59mj6yQEDV1vHq73NCQAHc3iDxZERA3yO4hjyKRkCv3FV4UulIQCok6H1HiEtAEDnS4tNtTkDSJDN4stBQQHddV/yXlVJAzMkLsSOKVECq1/b0WLNWQPNaqyzCFllAQ4ZV9366W0ANGgXiU6VeQDcB6+Bd72BAYWm6cH23YkD+apUZmq9kQNfh5F7A3GZAKm1DwIREaUD4ZhMIEu1rQGPsaxs53W5AJc7zOUEOcUDwzxG4oNlyQLwxOtZU1XRA7ZZFTXMGd0Bi8UTKmnJ5QB65L1cBIHxAFQmoR4QVf0D7m1TpXC2BQB2dIEMC/IJAA0OaY1T7hEBMvdVJcjCHQNt16uIEoYlAFSHpjE1TjEA8iasgNk6PQBiSzlWxTJFA+od3g6Iek0BREjk/mSGVQAZUTd+9WpdA5C+Eo8PPmUB9ILFS94acQBqsu2FPh59AQ0Le5j5soUDOaXbrgUGjQEMAf+cjSKVAF11hmVaFp0A/9nmm1/6pQO1FLlP/uqxA5EFzx9DAr0CA/rwEBoyxQOG3Te6gZLNAA/y62/RutUDhqsUEPbC3QC0/TYdBLrpAoGA+OmbvvECQGsUPu/q/QFsxYhgHrMFAAAAAAACIw0A=",
          "dtype": "f8"
         },
         "y": {
          "bdata": "9J5pu9ybID4NLBEorUIhPrHDB34K8SE+2PfbvTeiIj6X7DI8FV8jPj0444v2IiQ+2hAe/JvwJD61JBy+wr8lPiIxws4OlSY+hf9Artl3Jz70uxGQaGMoPvROfFfqWik+tYSfatBUKj5rfH9W11crPuuZgsbKYSw+vJYcNcd4LT7fC6rYXZsuPpY18soSxC8+7BDvdt97MD4Sd4SGxBoxPrRJWFmTuDE+RmrkYk1fMj4PMC39RA0zPp0GNqDMvzM+vnsz+Xh2ND7pP/U/iyw1PvuCwflT6zU+vQJyxlawNj40tPPK5nY3PgL4DIYGOjg+Ty+8ObEEOT6ny2RZPtQ5Pl294MsqpTo+KI0S03V2Oz5q0kn0NU08PgnTKS/9JD0+n9HSOhsDPj6CDpBwaN8+PuYQGxk7wT8+sEb5uJ5RQD7D/poH9b5APqO7BxJ1MkE+oRSZLnKjQT5EyxlcxBBCPqajEHz2gEI+r7yAjm7wQj6niPzosl5DPlew6Zx4xUM+WL/QODcvRD5cH8H2mpNEPmyvPgnE9UQ+9DEs6PhQRT5szstYaKNFPtAan5WR5kU+QPFyy64iRj4Tesoj6kxGPi9Wygr3YUY+HbL70ytsRj4Wj9pV81hGPhoBcwn5F0Y+bl0ar3nSRT73FTlC9V9FPv00S8WH1UQ+JMDQtdwXRD7KU1r+xTVDPmUoEiTuO0I+Praa7zglQT7hdwBvOtQ/PmP+eyLFID0+jvr+UVU4Oj5vci4mvkg3PgnHCgXEWjQ+0TbrabuGMT4fNEoXYoctPuqzImYYOig+tFWkq5GmIz4QvmEOlMkePslzF1xggRc+JfRGs+ZHET5sFTxMeagIPq4MRO9t1QA+ohDltukH9j1TRp9rnFLrPXJbo/q5IeA9MzqBX20E0j03oWeacMLCPVA6FPFXBbI9GGWR/kgHoD2adxa79AiKPYapGNdILHM9o+nf8DQ/WT1WVQHVpcU9PQy+dPsNiR49zpcHoQEj+zxfXBnO9NfTPLwfaMIMEak8fR16Yl6+eTymxA1LkTFFPC4lykxiuws8y+dXIx9vyzs=",
          "dtype": "f8"
         }
        },
        {
         "fill": "tonexty",
         "fillcolor": "rgba(239, 85, 59, 0.500000)",
         "line": {
          "color": "rgba(0,0,0,0)"
         },
         "mode": "lines",
         "name": "cpl CI",
         "showlegend": true,
         "type": "scatter",
         "x": {
          "bdata": "AAAAAAAA4D9y6XaG8K7hP8EQSds3i+M/WmnzJJuZ5T+hnBIEYN/nP759wBdaYuo/DAAC7vko7T9epknDLh3wP/6cM0kxz/E/yMpRT92u8z8E7WevAMH1P6RPrqfqCvg//6vWd3mS+j8fkLlsKV79P+/jn8CSOgBAKyCV36zvAUDFlmvHw9IDQMssDBWu6AVAUpXUtcQ2CECeknCd8MIKQOKA+Oy5kw1AEYAXWSxYEEAr/Oa0YxASQOfYK7rr9hNAaHLv2KMQFkB0pF6/7mIYQHO3pCjA8xpAGRytH6zJHUCHU3bu+3UgQLRsODVWMSJAtj4An1UbJEBVEhB/4jgmQN7kLVZpjyhAKJ2tuugkK0CMYAi3AAAuQHOLNOMBlDBA58RdzYRSMkCSSTDuAUA0QM8fXYxqYTZAS9EtDTW8OECP1+v1alY7QJ1OgGa4Nj5Ake59mj6yQEDV1vHq73NCQAHc3iDxZERA3yO4hjyKRkCv3FV4UulIQCok6H1HiEtAEDnS4tNtTkDSJDN4stBQQHddV/yXlVJAzMkLsSOKVECq1/b0WLNWQPNaqyzCFllAQ4ZV9366W0ANGgXiU6VeQDcB6+Bd72BAYWm6cH23YkD+apUZmq9kQNfh5F7A3GZAKm1DwIREaUD4ZhMIEu1rQGPsaxs53W5AJc7zOUEOcUDwzxG4oNlyQLwxOtZU1XRA7ZZFTXMGd0Bi8UTKmnJ5QB65L1cBIHxAFQmoR4QVf0D7m1TpXC2BQB2dIEMC/IJAA0OaY1T7hEBMvdVJcjCHQNt16uIEoYlAFSHpjE1TjEA8iasgNk6PQBiSzlWxTJFA+od3g6Iek0BREjk/mSGVQAZUTd+9WpdA5C+Eo8PPmUB9ILFS94acQBqsu2FPh59AQ0Le5j5soUDOaXbrgUGjQEMAf+cjSKVAF11hmVaFp0A/9nmm1/6pQO1FLlP/uqxA5EFzx9DAr0CA/rwEBoyxQOG3Te6gZLNAA/y62/RutUDhqsUEPbC3QC0/TYdBLrpAoGA+OmbvvECQGsUPu/q/QFsxYhgHrMFAAAAAAACIw0A=",
          "dtype": "f8"
         },
         "y": {
          "bdata": "1ICSG1mkKz5pEWN2jlYsPrN9WnaYDy0++ZRnJ9rLLT5v7XI/eYsuPqQNmWGlTy8+Y99HRRIMMD4nJceqHnQwPnCD63nL3DA+kvkFq9RIMT7aecHLQrYxPgrTPZbTJzI+n+lOOAKeMj4U7jwE+RUzPq/61bM3kzM+/fBNNcAVND5120ngVpc0PlfZdPDAGjU+A3Gw802jNT61D8TpRDQ2PnIe/WMwzDY+kLHvR/VmNz5EM+A+tQM4PuchLcoApzg+1fFGklZNOT6rAavED/o5PtAzA9eerDo+YGjQKXNpOz4vQuCo5iU8PuiQR3uJ7jw+c/cqeha7PT6z1rzETJA+Pl13Cy1Qcz8+tXzlrmIsQD4xvn2jYqZAPujqZGbFJUE+FfLJmoGmQT7+VM4xfixCPoX7mMJ5tEI+dk/0G4tBQz6n70jjKNBDPi/gUr/vY0Q+Ri3w7AT9RD5+5k16MpNFPsOFgaFMKEY+j9K/HZq8Rj4VTjKiPVFHPmBhkHmC7Ec+aTYpCHGHSD7CKhvmWBlJPk1MB7nZrkk+Dy1IV3VCSj6XRkhhtttKPtdob3E+cks+ahDh84QHTD4uqX+o3p9MPl+RNe/0MU0+0q7+Jz3CTT7oiq4jFlZOPhrPncFp6U4+J5FK6WV6Tz78pLiq+wxQPs+tqrP+V1A+wVzmUQmgUD4FzSSFluVQPmNedg9PJVE++08qNyVtUT6fBJkrtKxRPohz1m6/6lE+ft9Kx2geUj48VUWzFk5SPmT4NkEBe1I+Q8IRz56rUj79elzM6tNSPnRlozK+7lI+Q7j8bu/yUj7hAhoPywRTPqmKuRQ6BlM+Jjiqddn5Uj7JuyTm0uhSPkTefUr1vlI+XPeKC8GLUj6mdjRJQkpSPj4LbpDw/VE+/dGFBM+MUT4yln1uByFRPhIFrqCLqlA+eAK3llQXUD6mu4Tp4e1OPqTR9Odld00+14CeDr7qSz7h35m/8i5KPui+lPnGdEg+HGaqXNqQRj48sajyCpZEPtTeR07NckI+88K5Ia1qQD5JUT9TKqI8PoCVd5KBujg+KSkyPArLND4=",
          "dtype": "f8"
         }
        }
       ],
       "layout": {
        "height": 600,
        "legend": {
         "x": 1,
         "xanchor": "right",
         "y": 1,
         "yanchor": "bottom"
        },
        "template": {
         "data": {
          "bar": [
           {
            "error_x": {
             "color": "#2a3f5f"
            },
            "error_y": {
             "color": "#2a3f5f"
            },
            "marker": {
             "line": {
              "color": "white",
              "width": 0.5
             },
             "pattern": {
              "fillmode": "overlay",
              "size": 10,
              "solidity": 0.2
             }
            },
            "type": "bar"
           }
          ],
          "barpolar": [
           {
            "marker": {
             "line": {
              "color": "white",
              "width": 0.5
             },
             "pattern": {
              "fillmode": "overlay",
              "size": 10,
              "solidity": 0.2
             }
            },
            "type": "barpolar"
           }
          ],
          "carpet": [
           {
            "aaxis": {
             "endlinecolor": "#2a3f5f",
             "gridcolor": "#C8D4E3",
             "linecolor": "#C8D4E3",
             "minorgridcolor": "#C8D4E3",
             "startlinecolor": "#2a3f5f"
            },
            "baxis": {
             "endlinecolor": "#2a3f5f",
             "gridcolor": "#C8D4E3",
             "linecolor": "#C8D4E3",
             "minorgridcolor": "#C8D4E3",
             "startlinecolor": "#2a3f5f"
            },
            "type": "carpet"
           }
          ],
          "choropleth": [
           {
            "colorbar": {
             "outlinewidth": 0,
             "ticks": ""
            },
            "type": "choropleth"
           }
          ],
          "contour": [
           {
            "colorbar": {
             "outlinewidth": 0,
             "ticks": ""
            },
            "colorscale": [
             [
              0,
              "#0d0887"
             ],
             [
              0.1111111111111111,
              "#46039f"
             ],
             [
              0.2222222222222222,
              "#7201a8"
             ],
             [
              0.3333333333333333,
              "#9c179e"
             ],
             [
              0.4444444444444444,
              "#bd3786"
             ],
             [
              0.5555555555555556,
              "#d8576b"
             ],
             [
              0.6666666666666666,
              "#ed7953"
             ],
             [
              0.7777777777777778,
              "#fb9f3a"
             ],
             [
              0.8888888888888888,
              "#fdca26"
             ],
             [
              1,
              "#f0f921"
             ]
            ],
            "type": "contour"
           }
          ],
          "contourcarpet": [
           {
            "colorbar": {
             "outlinewidth": 0,
             "ticks": ""
            },
            "type": "contourcarpet"
           }
          ],
          "heatmap": [
           {
            "colorbar": {
             "outlinewidth": 0,
             "ticks": ""
            },
            "colorscale": [
             [
              0,
              "#0d0887"
             ],
             [
              0.1111111111111111,
              "#46039f"
             ],
             [
              0.2222222222222222,
              "#7201a8"
             ],
             [
              0.3333333333333333,
              "#9c179e"
             ],
             [
              0.4444444444444444,
              "#bd3786"
             ],
             [
              0.5555555555555556,
              "#d8576b"
             ],
             [
              0.6666666666666666,
              "#ed7953"
             ],
             [
              0.7777777777777778,
              "#fb9f3a"
             ],
             [
              0.8888888888888888,
              "#fdca26"
             ],
             [
              1,
              "#f0f921"
             ]
            ],
            "type": "heatmap"
           }
          ],
          "histogram": [
           {
            "marker": {
             "pattern": {
              "fillmode": "overlay",
              "size": 10,
              "solidity": 0.2
             }
            },
            "type": "histogram"
           }
          ],
          "histogram2d": [
           {
            "colorbar": {
             "outlinewidth": 0,
             "ticks": ""
            },
            "colorscale": [
             [
              0,
              "#0d0887"
             ],
             [
              0.1111111111111111,
              "#46039f"
             ],
             [
              0.2222222222222222,
              "#7201a8"
             ],
             [
              0.3333333333333333,
              "#9c179e"
             ],
             [
              0.4444444444444444,
              "#bd3786"
             ],
             [
              0.5555555555555556,
              "#d8576b"
             ],
             [
              0.6666666666666666,
              "#ed7953"
             ],
             [
              0.7777777777777778,
              "#fb9f3a"
             ],
             [
              0.8888888888888888,
              "#fdca26"
             ],
             [
              1,
              "#f0f921"
             ]
            ],
            "type": "histogram2d"
           }
          ],
          "histogram2dcontour": [
           {
            "colorbar": {
             "outlinewidth": 0,
             "ticks": ""
            },
            "colorscale": [
             [
              0,
              "#0d0887"
             ],
             [
              0.1111111111111111,
              "#46039f"
             ],
             [
              0.2222222222222222,
              "#7201a8"
             ],
             [
              0.3333333333333333,
              "#9c179e"
             ],
             [
              0.4444444444444444,
              "#bd3786"
             ],
             [
              0.5555555555555556,
              "#d8576b"
             ],
             [
              0.6666666666666666,
              "#ed7953"
             ],
             [
              0.7777777777777778,
              "#fb9f3a"
             ],
             [
              0.8888888888888888,
              "#fdca26"
             ],
             [
              1,
              "#f0f921"
             ]
            ],
            "type": "histogram2dcontour"
           }
          ],
          "mesh3d": [
           {
            "colorbar": {
             "outlinewidth": 0,
             "ticks": ""
            },
            "type": "mesh3d"
           }
          ],
          "parcoords": [
           {
            "line": {
             "colorbar": {
              "outlinewidth": 0,
              "ticks": ""
             }
            },
            "type": "parcoords"
           }
          ],
          "pie": [
           {
            "automargin": true,
            "type": "pie"
           }
          ],
          "scatter": [
           {
            "fillpattern": {
             "fillmode": "overlay",
             "size": 10,
             "solidity": 0.2
            },
            "type": "scatter"
           }
          ],
          "scatter3d": [
           {
            "line": {
             "colorbar": {
              "outlinewidth": 0,
              "ticks": ""
             }
            },
            "marker": {
             "colorbar": {
              "outlinewidth": 0,
              "ticks": ""
             }
            },
            "type": "scatter3d"
           }
          ],
          "scattercarpet": [
           {
            "marker": {
             "colorbar": {
              "outlinewidth": 0,
              "ticks": ""
             }
            },
            "type": "scattercarpet"
           }
          ],
          "scattergeo": [
           {
            "marker": {
             "colorbar": {
              "outlinewidth": 0,
              "ticks": ""
             }
            },
            "type": "scattergeo"
           }
          ],
          "scattergl": [
           {
            "marker": {
             "colorbar": {
              "outlinewidth": 0,
              "ticks": ""
             }
            },
            "type": "scattergl"
           }
          ],
          "scattermap": [
           {
            "marker": {
             "colorbar": {
              "outlinewidth": 0,
              "ticks": ""
             }
            },
            "type": "scattermap"
           }
          ],
          "scattermapbox": [
           {
            "marker": {
             "colorbar": {
              "outlinewidth": 0,
              "ticks": ""
             }
            },
            "type": "scattermapbox"
           }
          ],
          "scatterpolar": [
           {
            "marker": {
             "colorbar": {
              "outlinewidth": 0,
              "ticks": ""
             }
            },
            "type": "scatterpolar"
           }
          ],
          "scatterpolargl": [
           {
            "marker": {
             "colorbar": {
              "outlinewidth": 0,
              "ticks": ""
             }
            },
            "type": "scatterpolargl"
           }
          ],
          "scatterternary": [
           {
            "marker": {
             "colorbar": {
              "outlinewidth": 0,
              "ticks": ""
             }
            },
            "type": "scatterternary"
           }
          ],
          "surface": [
           {
            "colorbar": {
             "outlinewidth": 0,
             "ticks": ""
            },
            "colorscale": [
             [
              0,
              "#0d0887"
             ],
             [
              0.1111111111111111,
              "#46039f"
             ],
             [
              0.2222222222222222,
              "#7201a8"
             ],
             [
              0.3333333333333333,
              "#9c179e"
             ],
             [
              0.4444444444444444,
              "#bd3786"
             ],
             [
              0.5555555555555556,
              "#d8576b"
             ],
             [
              0.6666666666666666,
              "#ed7953"
             ],
             [
              0.7777777777777778,
              "#fb9f3a"
             ],
             [
              0.8888888888888888,
              "#fdca26"
             ],
             [
              1,
              "#f0f921"
             ]
            ],
            "type": "surface"
           }
          ],
          "table": [
           {
            "cells": {
             "fill": {
              "color": "#EBF0F8"
             },
             "line": {
              "color": "white"
             }
            },
            "header": {
             "fill": {
              "color": "#C8D4E3"
             },
             "line": {
              "color": "white"
             }
            },
            "type": "table"
           }
          ]
         },
         "layout": {
          "annotationdefaults": {
           "arrowcolor": "#2a3f5f",
           "arrowhead": 0,
           "arrowwidth": 1
          },
          "autotypenumbers": "strict",
          "coloraxis": {
           "colorbar": {
            "outlinewidth": 0,
            "ticks": ""
           }
          },
          "colorscale": {
           "diverging": [
            [
             0,
             "#8e0152"
            ],
            [
             0.1,
             "#c51b7d"
            ],
            [
             0.2,
             "#de77ae"
            ],
            [
             0.3,
             "#f1b6da"
            ],
            [
             0.4,
             "#fde0ef"
            ],
            [
             0.5,
             "#f7f7f7"
            ],
            [
             0.6,
             "#e6f5d0"
            ],
            [
             0.7,
             "#b8e186"
            ],
            [
             0.8,
             "#7fbc41"
            ],
            [
             0.9,
             "#4d9221"
            ],
            [
             1,
             "#276419"
            ]
           ],
           "sequential": [
            [
             0,
             "#0d0887"
            ],
            [
             0.1111111111111111,
             "#46039f"
            ],
            [
             0.2222222222222222,
             "#7201a8"
            ],
            [
             0.3333333333333333,
             "#9c179e"
            ],
            [
             0.4444444444444444,
             "#bd3786"
            ],
            [
             0.5555555555555556,
             "#d8576b"
            ],
            [
             0.6666666666666666,
             "#ed7953"
            ],
            [
             0.7777777777777778,
             "#fb9f3a"
            ],
            [
             0.8888888888888888,
             "#fdca26"
            ],
            [
             1,
             "#f0f921"
            ]
           ],
           "sequentialminus": [
            [
             0,
             "#0d0887"
            ],
            [
             0.1111111111111111,
             "#46039f"
            ],
            [
             0.2222222222222222,
             "#7201a8"
            ],
            [
             0.3333333333333333,
             "#9c179e"
            ],
            [
             0.4444444444444444,
             "#bd3786"
            ],
            [
             0.5555555555555556,
             "#d8576b"
            ],
            [
             0.6666666666666666,
             "#ed7953"
            ],
            [
             0.7777777777777778,
             "#fb9f3a"
            ],
            [
             0.8888888888888888,
             "#fdca26"
            ],
            [
             1,
             "#f0f921"
            ]
           ]
          },
          "colorway": [
           "#636efa",
           "#EF553B",
           "#00cc96",
           "#ab63fa",
           "#FFA15A",
           "#19d3f3",
           "#FF6692",
           "#B6E880",
           "#FF97FF",
           "#FECB52"
          ],
          "font": {
           "color": "#2a3f5f"
          },
          "geo": {
           "bgcolor": "white",
           "lakecolor": "white",
           "landcolor": "white",
           "showlakes": true,
           "showland": true,
           "subunitcolor": "#C8D4E3"
          },
          "hoverlabel": {
           "align": "left"
          },
          "hovermode": "closest",
          "mapbox": {
           "style": "light"
          },
          "paper_bgcolor": "white",
          "plot_bgcolor": "white",
          "polar": {
           "angularaxis": {
            "gridcolor": "#EBF0F8",
            "linecolor": "#EBF0F8",
            "ticks": ""
           },
           "bgcolor": "white",
           "radialaxis": {
            "gridcolor": "#EBF0F8",
            "linecolor": "#EBF0F8",
            "ticks": ""
           }
          },
          "scene": {
           "xaxis": {
            "backgroundcolor": "white",
            "gridcolor": "#DFE8F3",
            "gridwidth": 2,
            "linecolor": "#EBF0F8",
            "showbackground": true,
            "ticks": "",
            "zerolinecolor": "#EBF0F8"
           },
           "yaxis": {
            "backgroundcolor": "white",
            "gridcolor": "#DFE8F3",
            "gridwidth": 2,
            "linecolor": "#EBF0F8",
            "showbackground": true,
            "ticks": "",
            "zerolinecolor": "#EBF0F8"
           },
           "zaxis": {
            "backgroundcolor": "white",
            "gridcolor": "#DFE8F3",
            "gridwidth": 2,
            "linecolor": "#EBF0F8",
            "showbackground": true,
            "ticks": "",
            "zerolinecolor": "#EBF0F8"
           }
          },
          "shapedefaults": {
           "line": {
            "color": "#2a3f5f"
           }
          },
          "ternary": {
           "aaxis": {
            "gridcolor": "#DFE8F3",
            "linecolor": "#A2B1C6",
            "ticks": ""
           },
           "baxis": {
            "gridcolor": "#DFE8F3",
            "linecolor": "#A2B1C6",
            "ticks": ""
           },
           "bgcolor": "white",
           "caxis": {
            "gridcolor": "#DFE8F3",
            "linecolor": "#A2B1C6",
            "ticks": ""
           }
          },
          "title": {
           "x": 0.05
          },
          "xaxis": {
           "automargin": true,
           "gridcolor": "#EBF0F8",
           "linecolor": "#EBF0F8",
           "ticks": "",
           "title": {
            "standoff": 15
           },
           "zerolinecolor": "#EBF0F8",
           "zerolinewidth": 2
          },
          "yaxis": {
           "automargin": true,
           "gridcolor": "#EBF0F8",
           "linecolor": "#EBF0F8",
           "ticks": "",
           "title": {
            "standoff": 15
           },
           "zerolinecolor": "#EBF0F8",
           "zerolinewidth": 2
          }
         }
        },
        "width": 600,
        "xaxis": {
         "title": {
          "text": "Energy (keV)"
         },
         "type": "log"
        },
        "yaxis": {
         "title": {
          "text": "erg/cm^2/s"
         },
         "type": "log"
        }
       }
      }
     },
     "metadata": {},
     "output_type": "display_data"
    }
   ],
   "source": [
    "earr = np.logspace(np.log10(0.5), 4, 100)\n",
    "\n",
    "modelplot = Plot.model(ploter='plotly', style='vFv', CI=True)\n",
    "modelplot.add_model(model, E=earr)\n",
    "modelplot.add_model(cpl_ins, E=earr)\n",
    "fig = modelplot.get_fig()\n",
    "fig.save(f'{savepath}/model')"
   ]
  }
 ],
 "metadata": {
  "kernelspec": {
   "display_name": "base",
   "language": "python",
   "name": "python3"
  },
  "language_info": {
   "codemirror_mode": {
    "name": "ipython",
    "version": 3
   },
   "file_extension": ".py",
   "mimetype": "text/x-python",
   "name": "python",
   "nbconvert_exporter": "python",
   "pygments_lexer": "ipython3",
   "version": "3.12.8"
  }
 },
 "nbformat": 4,
 "nbformat_minor": 5
}
