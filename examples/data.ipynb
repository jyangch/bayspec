{
 "cells": [
  {
   "cell_type": "code",
   "execution_count": 1,
   "id": "e083a499-97f8-41c1-b438-0b74e37e9e63",
   "metadata": {},
   "outputs": [],
   "source": [
    "from bayspec import DataUnit, Data, Plot"
   ]
  },
  {
   "cell_type": "code",
   "execution_count": 2,
   "id": "a48c31b9-2cc3-4804-a0e7-6feb10d3966d",
   "metadata": {},
   "outputs": [
    {
     "name": "stdout",
     "output_type": "stream",
     "text": [
      "╒════════════╤═════════════════════════════════╕\n",
      "│  property  │               me                │\n",
      "╞════════════╪═════════════════════════════════╡\n",
      "│    src     │             me.src              │\n",
      "├────────────┼─────────────────────────────────┤\n",
      "│    bkg     │             me.bkg              │\n",
      "├────────────┼─────────────────────────────────┤\n",
      "│    rmf     │              None               │\n",
      "├────────────┼─────────────────────────────────┤\n",
      "│    arf     │              None               │\n",
      "├────────────┼─────────────────────────────────┤\n",
      "│    rsp     │             me.rsp              │\n",
      "├────────────┼─────────────────────────────────┤\n",
      "│    notc    │           [[8, 900]]            │\n",
      "├────────────┼─────────────────────────────────┤\n",
      "│    stat    │             pgstat              │\n",
      "├────────────┼─────────────────────────────────┤\n",
      "│    grpg    │ {'min_sigma': 3, 'max_bin': 10} │\n",
      "├────────────┼─────────────────────────────────┤\n",
      "│    time    │              None               │\n",
      "├────────────┼─────────────────────────────────┤\n",
      "│   weight   │                1                │\n",
      "╘════════════╧═════════════════════════════════╛\n",
      "\n"
     ]
    }
   ],
   "source": [
    "me = DataUnit(\n",
    "    src='./ME/me.src', \n",
    "    bkg='./ME/me.bkg', \n",
    "    rsp='./ME/me.rsp', \n",
    "    notc=[8, 900], \n",
    "    stat='pgstat', \n",
    "    grpg={'min_sigma': 3, 'max_bin': 10}\n",
    "    )\n",
    "print(me)"
   ]
  },
  {
   "cell_type": "code",
   "execution_count": 3,
   "id": "2b0cfec3-dacf-4b2f-9f65-65b0017028f2",
   "metadata": {},
   "outputs": [
    {
     "data": {
      "application/vnd.plotly.v1+json": {
       "config": {
        "plotlyServerURL": "https://plot.ly"
       },
       "data": [
        {
         "error_x": {
          "array": {
           "bdata": "AAAAAMa52j8AAAAAzIvaPwAAAABW0N8/AAAAAMr+3z8AAAAAVzXgPwAAAAAEiuA/AAAAAA/94D8AAAAANXzhPwAAAADC7OE/AAAAAH5h5T8AAAAAWsnlPwAAAAAOGeY/AAAAANJl5j8AAAAAvLrmPwAAAADsF+c/AAAAACzh6j8AAAAAAHLrPwAAAAAiD+w/AAAAAJy47D8AAAAAZJnzPwAAAADwneg/AAAAAEgJ6T8AAAAAXLDpPwAAAABQT+o/AAAAADDs7T8AAAAAQJvuPwAAAAAcP+8/AAAAANzX7z8AAAAAENXxPwAAAABKI/I/AAAAABhq8j8AAAAAfKnyPwAAAABcm/Q/AAAAAFLU9D8AAAAApgP1PwAAAAAo7vY/AAAAACgO9z8AAAAA3CH3PwAAAABk8fg/AAAAAMDq+D8AAAAADNb4PwAAAADogfo/AAAAAPxp+j8AAAAAdFX6PwAAAAAMBPw/AAAAAKz0+z8AAAAAZOn7PwAAAAA8oP0/AAAAABSd/T8AAAAAGF3/PwAAAAD0ZP8/AAAAAC6ZAEAAAAAAlqIAQAAAAADojAFAAAAAAEyXAUAAAAAAnKEBQAAAAABMjgJAAAAAAICZAkAAAAAALIgDQAAAAABkeARAAAAAAISFBEAAAAAAzHcFQAAAAADUhQVAAAAAADh6BkAAAAAALIkGQAAAAACsfwdAAAAAANR3CEAAAAAAwIgIQAAAAAAUgwlAAAAAACB/CkAAAAAABJIKQAAAAAA4kAtAAAAAACyQDEAAAAAA4JENQAAAAAC8pw1AAAAAAJyrDkAAAAAAKLEPQAAAAABEXBBAAAAAAJxoEEAAAAAASO0QQAAAAADYchFAAAAAADj5EUAAAAAAcIASQAAAAAB8CBNAAAAAAFiRE0AAAAAA/BoUQAAAAABkpRRAAAAAAIwwFUAAAAAAbLwVQAAAAAAESRZAAAAAADzWFkAAAAAAGGQXQAAAAADYbxhAAAAAAIz/GEAAAAAAEtgpQAAAAABksRpAAAAAAMzBG0AAAAAADFQcQAAAAADEby1AAAAAADiMHkAAAAAAqOkvQAAAAADgoyBAAAAAAHztIEAAAAAAzLwxQAAAAACVEFRAAAAAALElQUA=",
           "dtype": "f8"
          },
          "arrayminus": {
           "bdata": "AAAAAMa52j8AAAAAzIvaPwAAAABW0N8/AAAAAMr+3z8AAAAAVzXgPwAAAAAEiuA/AAAAAA/94D8AAAAANXzhPwAAAADC7OE/AAAAAH5h5T8AAAAAWsnlPwAAAAAOGeY/AAAAANJl5j8AAAAAvLrmPwAAAADsF+c/AAAAACzh6j8AAAAAAHLrPwAAAAAiD+w/AAAAAJy47D8AAAAAZJnzPwAAAADwneg/AAAAAEgJ6T8AAAAAXLDpPwAAAABQT+o/AAAAADDs7T8AAAAAQJvuPwAAAAAcP+8/AAAAANzX7z8AAAAAENXxPwAAAABKI/I/AAAAABhq8j8AAAAAfKnyPwAAAABcm/Q/AAAAAFLU9D8AAAAApgP1PwAAAAAo7vY/AAAAACgO9z8AAAAA3CH3PwAAAABk8fg/AAAAAMDq+D8AAAAADNb4PwAAAADogfo/AAAAAPxp+j8AAAAAdFX6PwAAAAAMBPw/AAAAAKz0+z8AAAAAZOn7PwAAAAA8oP0/AAAAABSd/T8AAAAAGF3/PwAAAAD0ZP8/AAAAAC6ZAEAAAAAAlqIAQAAAAADojAFAAAAAAEyXAUAAAAAAnKEBQAAAAABMjgJAAAAAAICZAkAAAAAALIgDQAAAAABkeARAAAAAAISFBEAAAAAAzHcFQAAAAADUhQVAAAAAADh6BkAAAAAALIkGQAAAAACsfwdAAAAAANR3CEAAAAAAwIgIQAAAAAAUgwlAAAAAACB/CkAAAAAABJIKQAAAAAA4kAtAAAAAACyQDEAAAAAA4JENQAAAAAC8pw1AAAAAAJyrDkAAAAAAKLEPQAAAAABEXBBAAAAAAJxoEEAAAAAASO0QQAAAAADYchFAAAAAADj5EUAAAAAAcIASQAAAAAB8CBNAAAAAAFiRE0AAAAAA/BoUQAAAAABkpRRAAAAAAIwwFUAAAAAAbLwVQAAAAAAESRZAAAAAADzWFkAAAAAAGGQXQAAAAADYbxhAAAAAAIz/GEAAAAAAEtgpQAAAAABksRpAAAAAAMzBG0AAAAAADFQcQAAAAADEby1AAAAAADiMHkAAAAAAqOkvQAAAAADgoyBAAAAAAHztIEAAAAAAzLwxQAAAAACVEFRAAAAAALElQUA=",
           "dtype": "f8"
          },
          "symmetric": false,
          "thickness": 1.5,
          "type": "data",
          "width": 0
         },
         "error_y": {
          "array": {
           "bdata": "cbTxg40p/z8+0TmlstIAQBc7D+QhCgVAKlyErbgoB0CCtkyLK90JQKBSrn6kTQtAeNvYK+acDECnB0G8bikOQOSXSJrAdw9AR+SWB8iJEUAUsuP1TUgRQBeeWbAKIRFAuBtp+JeOEUCBmvVfaE4RQGjyEbmlyBBAUwF+YBUHEUBmXuD1uOsQQN/vAupTUxBAugVdTub1DkDY8fqmFZEMQJ18CcLfGQxAtjq+ZkoWCUDO2pl7o3IIQDzHr676MgZAnPwSSbOnBkDIZ3o3IfkGQNJz6dwzzwVAsSV9lhxVBkDobgcsHBwGQN00dCar3gVAEqPtphGJBUBxT/71ZcEEQOvVQXL4SQVAJkbH/hk2BUBBZ8ZvjW0FQNanfxt0xwVAV3zg4nokBED7MZ6BjpgEQDCWebxDCwRApbFXzAwHBECN1E25b6kDQHknr77lPANApHQpzij2AkDBqn1eU6UCQF/6yk8MSgNAOzcgqwCXAUA6NL8dNaAAQNrA2ANo/wFASqWr+PvUAUDWQ/QchA4BQIzMCnu8hgBA4x7LxrXwAEBCNEoGlKr/PzNGAquDyv8/3Hyo+fcI/z/nlYuJuBr9P6kuZFEzev4/Sn0Nxqhe/D93xkhgtaT9P3FktR4n7Pw/5E0dS4TK+j8BWweONSL7P6ENPUKNyfk/AVsHjjUi+z9l+ScU++33P49wwrr/e/c/HF9HRC4Y+D8M4hNiN2T2PwRVRrQwQvc/pbFXzAwH9D/ybuEPPoz0P24aEzY15fM/pfrKTwxK8z/ItPMFct7xP2T4qzXaqfI/iLOxkkil8D+jdCnOCDHxP0Wvq0d3/+8/QjRKBpSq7z9Go2RAh7HsP/UCOjAbD+0/UFH1cYVr7T/hSd2U61/pP0ajZECHsew/IFUuYf6m5z8ALuRu2d/nP/T8Ab0AUOg/v070a+9N5T+tfnlZmW3nP/T8Ab0AUOg/Z2RmI7Tx4j9nZGYjtPHiP5mDe6CBOOM/EA547pbN5D97liJ82d/nPwGSr17OFuI/sltu3Lrh4D+lUClX737hPyPSiABUh+g/BXQpzggx4T/Tm63zls3kPya38YONKd8/5NL0M5Y+4D90Zn/UDAfkP5TxIkl3/+8/KIpp0E1+4z8=",
           "dtype": "f8"
          },
          "thickness": 1.5,
          "type": "data",
          "width": 0
         },
         "marker": {
          "size": 3,
          "symbol": "circle"
         },
         "mode": "markers",
         "name": "src",
         "showlegend": true,
         "type": "scatter",
         "x": {
          "bdata": "AAAAwO3+IEAAAABAGqkiQAAAAED7eyRAAAAAQHR6JkAAAAAAwH0oQAAAAMC1iSpAAAAAACeiLEAAAABAu8kuQAAAAEAlgDBAAAAAQJe6MUAAAAAA7hMzQAAAAEABczRAAAAAQPjWNUAAAADA/D83QAAAAACSrjhAAAAAwFo+OkAAAAAg9PA7QAAAAED9rD1AAAAAIDtzP0AAAAAgS8lAQAAAAACOyEFAAAAA4CqPQkAAAACAEVpDQAAAACAQKkRAAAAAIP4KRUAAAADgG/1FQAAAAECF9EZAAAAAQOHwR0AAAAAg6f5IQAAAAACsHkpAAAAAABdDS0AAAACgs2tMQAAAAGDapU1AAAAAwFfxTkAAAADACyBQQAAAAADTz1BAAAAAQMSHUUAAAABAhEBSQAAAAEDRAFNAAAAA4EHIU0AAAAAARY9UQAAAAOCkXFVAAAAAgFQwVkAAAABAUgNXQAAAAEC43FdAAAAAAJu8WEAAAABAE5xZQAAAAMA5glpAAAAAAC9vW0AAAADAF2NcQAAAAAAgXl1AAAAAQH1gXkAAAABAW2pfQAAAAKDrPWBAAAAAgHzKYEAAAAAAYFdhQAAAAMAf6GFAAAAA4L58YkAAAACARRVjQAAAAMBHtWNAAAAAgD9ZZEAAAADANAFlQAAAAEArrWVAAAAAYCtdZkAAAAAAORFnQAAAAEBcyWdAAAAAQDqJaEAAAACgPE1pQAAAAABsFWpAAAAAwHTlakAAAABAublrQAAAAEBCkmxAAAAAwMNybUAAAAAATFtuQAAAAIAySG9AAAAA4L8ccEAAAACAeZlwQAAAAMBMGnFAAAAAQGCdcUAAAADgtyJyQAAAAGA4rHJAAAAAoOg5c0AAAABAz8tzQAAAAADzYXRAAAAAQFr8dEAAAACAC5t1QAAAAAANPnZAAAAAwGTldkAAAADAGJF3QAAAAIAuQXhAAAAAgKv1eEAAAADAlK55QAAAAIDkbXpAAAAAAKIze0AAAADAYGZ8QAAAAADnn31AAAAAwLN5fkAAAAAAC1p/QAAAAMBsW4BAAAAAQEQOgUAAAABAA8uBQAAAAGA5jYJAAAAAwH4Tg0AAAAAgG+WDQAAAACAU9YZAAAAAwIGJikA=",
          "dtype": "f8"
         },
         "y": {
          "bdata": "uSXz7l+uQkBTBEH3GsdFQE5IrK0ECFFAf82ZZ7SiVEDuSh7HwrxZQFtEvDOBrlxAIVTyc8J/X0Ca9V84OoBhQOfkhryXDGNARrez2TCrZ0D6LxwdwPtmQIF3nCjJk2ZAVa5DuC+4Z0DNJFCz/gtnQDUWITodrWVAcqYoGI9PZkCf1xBQFQhmQNrjMTs3gmRAMlDHTaVwYkADZtK2xGVfQNUYk1PbYV5AKVc/suQ2WEC+LcDU//5WQI30CrfZ9VJA92nCMEi/U0CdB/LAO05UQMhou2noTFJAUcySoFQwU0BfD1sb3c5SQOZW2ybmZlJAQLmrlvLXUUDGmJzaDpNQQMcALKL7b1FAIRfEdX5PUUCL2LOLdqpRQLlxK4vpP1JAToXaq0g4T0B7xcyBFFJQQPS6enRP6k5A5cPqlVDdTkCYiIt1ab9NQB5ofLmFekxALPd80JeqS0AcmF0qrMBKQExNLFWCoUxAsJ6/ve3OR0C8XaFFJkVFQPzZHt7U7EhAdCoPC993SEAJmQBmDWNGQHGK0ewrBEVArs6gLhQVRkBvurJdUkpDQJyfYvlOcUNAjEBDU2OHQkDzyYQSlUtAQMi08wVy3kFAA7IKU073PkCpXkSBh+dAQLftRJiZF0BAHQDt8ZidO0DxgswdiVM8QMFlbivGlTlA8YLMHYlTPECf1xBQFQg2QK1mEWcnODVA+qFwhw5WNkBvurJdUkozQDSukXIw0DRA5cPqlVDdLkDk0vQzlj4wQGwLa6FZdS5ATE0sVYKhLECTGC/I3JEoQCuP7QirzSpAy1QxJCVSJUByWvB7Bb4mQOhyMlJJsiNAb7qyXVJKI0DWNOp+Pq0fQOTS9DOWPiBAXYt0KI2mIEDP9G5C2MUYQNY06n4+rR9ACDFxniCGFUCB6fCSF+4VQHJa8HsFvhZAT/xzEXt2EUCPePGpKR4VQHJa8HsFvhZAHQDt8ZidC0AdAO3xmJ0LQA9x7NqGbQxAXYt0KI2mEECB6fCSF+4VQEit7jbPLQlAgenwkhfuBUBky+9k840HQOsScHD8JRdAclrwewW+BkBdi3QojaYQQLkl8+5frgJAnQfywDtOBEDlw+qVUN0OQOhyMlJJsiNAAeLrw3Q9DUA=",
          "dtype": "f8"
         }
        },
        {
         "error_x": {
          "array": {
           "bdata": "AAAAAMa52j8AAAAAzIvaPwAAAABW0N8/AAAAAMr+3z8AAAAAVzXgPwAAAAAEiuA/AAAAAA/94D8AAAAANXzhPwAAAADC7OE/AAAAAH5h5T8AAAAAWsnlPwAAAAAOGeY/AAAAANJl5j8AAAAAvLrmPwAAAADsF+c/AAAAACzh6j8AAAAAAHLrPwAAAAAiD+w/AAAAAJy47D8AAAAAZJnzPwAAAADwneg/AAAAAEgJ6T8AAAAAXLDpPwAAAABQT+o/AAAAADDs7T8AAAAAQJvuPwAAAAAcP+8/AAAAANzX7z8AAAAAENXxPwAAAABKI/I/AAAAABhq8j8AAAAAfKnyPwAAAABcm/Q/AAAAAFLU9D8AAAAApgP1PwAAAAAo7vY/AAAAACgO9z8AAAAA3CH3PwAAAABk8fg/AAAAAMDq+D8AAAAADNb4PwAAAADogfo/AAAAAPxp+j8AAAAAdFX6PwAAAAAMBPw/AAAAAKz0+z8AAAAAZOn7PwAAAAA8oP0/AAAAABSd/T8AAAAAGF3/PwAAAAD0ZP8/AAAAAC6ZAEAAAAAAlqIAQAAAAADojAFAAAAAAEyXAUAAAAAAnKEBQAAAAABMjgJAAAAAAICZAkAAAAAALIgDQAAAAABkeARAAAAAAISFBEAAAAAAzHcFQAAAAADUhQVAAAAAADh6BkAAAAAALIkGQAAAAACsfwdAAAAAANR3CEAAAAAAwIgIQAAAAAAUgwlAAAAAACB/CkAAAAAABJIKQAAAAAA4kAtAAAAAACyQDEAAAAAA4JENQAAAAAC8pw1AAAAAAJyrDkAAAAAAKLEPQAAAAABEXBBAAAAAAJxoEEAAAAAASO0QQAAAAADYchFAAAAAADj5EUAAAAAAcIASQAAAAAB8CBNAAAAAAFiRE0AAAAAA/BoUQAAAAABkpRRAAAAAAIwwFUAAAAAAbLwVQAAAAAAESRZAAAAAADzWFkAAAAAAGGQXQAAAAADYbxhAAAAAAIz/GEAAAAAAEtgpQAAAAABksRpAAAAAAMzBG0AAAAAADFQcQAAAAADEby1AAAAAADiMHkAAAAAAqOkvQAAAAADgoyBAAAAAAHztIEAAAAAAzLwxQAAAAACVEFRAAAAAALElQUA=",
           "dtype": "f8"
          },
          "arrayminus": {
           "bdata": "AAAAAMa52j8AAAAAzIvaPwAAAABW0N8/AAAAAMr+3z8AAAAAVzXgPwAAAAAEiuA/AAAAAA/94D8AAAAANXzhPwAAAADC7OE/AAAAAH5h5T8AAAAAWsnlPwAAAAAOGeY/AAAAANJl5j8AAAAAvLrmPwAAAADsF+c/AAAAACzh6j8AAAAAAHLrPwAAAAAiD+w/AAAAAJy47D8AAAAAZJnzPwAAAADwneg/AAAAAEgJ6T8AAAAAXLDpPwAAAABQT+o/AAAAADDs7T8AAAAAQJvuPwAAAAAcP+8/AAAAANzX7z8AAAAAENXxPwAAAABKI/I/AAAAABhq8j8AAAAAfKnyPwAAAABcm/Q/AAAAAFLU9D8AAAAApgP1PwAAAAAo7vY/AAAAACgO9z8AAAAA3CH3PwAAAABk8fg/AAAAAMDq+D8AAAAADNb4PwAAAADogfo/AAAAAPxp+j8AAAAAdFX6PwAAAAAMBPw/AAAAAKz0+z8AAAAAZOn7PwAAAAA8oP0/AAAAABSd/T8AAAAAGF3/PwAAAAD0ZP8/AAAAAC6ZAEAAAAAAlqIAQAAAAADojAFAAAAAAEyXAUAAAAAAnKEBQAAAAABMjgJAAAAAAICZAkAAAAAALIgDQAAAAABkeARAAAAAAISFBEAAAAAAzHcFQAAAAADUhQVAAAAAADh6BkAAAAAALIkGQAAAAACsfwdAAAAAANR3CEAAAAAAwIgIQAAAAAAUgwlAAAAAACB/CkAAAAAABJIKQAAAAAA4kAtAAAAAACyQDEAAAAAA4JENQAAAAAC8pw1AAAAAAJyrDkAAAAAAKLEPQAAAAABEXBBAAAAAAJxoEEAAAAAASO0QQAAAAADYchFAAAAAADj5EUAAAAAAcIASQAAAAAB8CBNAAAAAAFiRE0AAAAAA/BoUQAAAAABkpRRAAAAAAIwwFUAAAAAAbLwVQAAAAAAESRZAAAAAADzWFkAAAAAAGGQXQAAAAADYbxhAAAAAAIz/GEAAAAAAEtgpQAAAAABksRpAAAAAAMzBG0AAAAAADFQcQAAAAADEby1AAAAAADiMHkAAAAAAqOkvQAAAAADgoyBAAAAAAHztIEAAAAAAzLwxQAAAAACVEFRAAAAAALElQUA=",
           "dtype": "f8"
          },
          "symmetric": false,
          "thickness": 1.5,
          "type": "data",
          "width": 0
         },
         "error_y": {
          "array": {
           "bdata": "axk0DWh90T+XWOWw7LbTP6ZSOCbRO9c/lrWpT1qy2z/705iwaRzfP7ld3PHfrt0/FmJs5I313z/XhWcWTGHfP6/8xI6Sd+A/mqelNyIA4j8y3TGxDyvhP6Sn9DJVoOA/T/xzEeuH4j+gFwLlPjTiP4N/pLrS9uA/EoH8/vkj4T+MAZPw4GbgP6e4RYk/BOA/xxL51jYu4T83t+6FqgHePzv+V38jLd0/s/3KFOD82D9n8I9Udy/VP/uoN+fAdtY/HOLsBLco1T8Z0Zuu3PHUPylYWYf7StQ/H6RphQL/0z8b2uRyPdLUP+CVAeIritQ/ezsltZ+z1T9i0G8MkdvSP++wKyoBgdQ/q5MI5Gfl1D8Gva4ebXTVPzS1bCHsx9Y/PCm5SMy11T+ww5pZC8LUPxw1E17jvNM/HFsvLKiR0T/W5EsQLsXQP2vxldpkEtE/mSXfn/Zj0T8dZBbn/o7QP/fKipgio9A/0BUMqjHJzj9wbkBWAVLNP6il/balBs4/qrlLD73gzT//jGuk/PXOP8XhEeDCf8o/u/URfnldyz++3YNvWfXLP7i3aOImLsw/g70T640uyz8T998aBJ3LP+ZXHFntkck/sLCM8siKyj8iQiU/J3LKPxhujI7tHMg/i2Jvp1TIyT8DJyJUsobGP6HWf+HIScg/d671/W7LyD97BUn/TMXKP3P+vEv0Wck/vuReHtVuyD9NuhRnHPbHP/FZ7bjuzsU/XZoaOzQVxD+P3b3agDrFPw2dLQ7vYcQ/22OznOJHxT8HRFiosujDP28iG8hOzsM/9V7OKPRNwz/QoxqKb3rDP6Nlb2yYY8I/c3JD3gsxwj9C7pZWI7TCP5wAK2FJl8I/yguVwWARwj/+aerOSmrBP32EXw4ayL4/9wH5/RMxvj93AfX5qlm+PyS2bWKul70/rt6xk9m4vT+h9e3jD3a/P7R7V3ygBrs/zdEWTPsEvj+qAHZYc3++P5HUoLh7f7s/8L6+LsHwuD88AM2MGiPEPywzgu825Lw/TFI35Z4GvT8TggPGuUS9P0OKN1ufucM/VQM+NFSJuD9hvFhwl9LBP0oqI1rYM7g/aQpPSt6Atz+PULXNdJ/BP17Xw7oLu9A/ozp6PMgYxD8=",
           "dtype": "f8"
          },
          "thickness": 1.5,
          "type": "data",
          "width": 0
         },
         "marker": {
          "size": 3,
          "symbol": "circle"
         },
         "mode": "markers",
         "name": "bkg",
         "showlegend": true,
         "type": "scatter",
         "x": {
          "bdata": "AAAAwO3+IEAAAABAGqkiQAAAAED7eyRAAAAAQHR6JkAAAAAAwH0oQAAAAMC1iSpAAAAAACeiLEAAAABAu8kuQAAAAEAlgDBAAAAAQJe6MUAAAAAA7hMzQAAAAEABczRAAAAAQPjWNUAAAADA/D83QAAAAACSrjhAAAAAwFo+OkAAAAAg9PA7QAAAAED9rD1AAAAAIDtzP0AAAAAgS8lAQAAAAACOyEFAAAAA4CqPQkAAAACAEVpDQAAAACAQKkRAAAAAIP4KRUAAAADgG/1FQAAAAECF9EZAAAAAQOHwR0AAAAAg6f5IQAAAAACsHkpAAAAAABdDS0AAAACgs2tMQAAAAGDapU1AAAAAwFfxTkAAAADACyBQQAAAAADTz1BAAAAAQMSHUUAAAABAhEBSQAAAAEDRAFNAAAAA4EHIU0AAAAAARY9UQAAAAOCkXFVAAAAAgFQwVkAAAABAUgNXQAAAAEC43FdAAAAAAJu8WEAAAABAE5xZQAAAAMA5glpAAAAAAC9vW0AAAADAF2NcQAAAAAAgXl1AAAAAQH1gXkAAAABAW2pfQAAAAKDrPWBAAAAAgHzKYEAAAAAAYFdhQAAAAMAf6GFAAAAA4L58YkAAAACARRVjQAAAAMBHtWNAAAAAgD9ZZEAAAADANAFlQAAAAEArrWVAAAAAYCtdZkAAAAAAORFnQAAAAEBcyWdAAAAAQDqJaEAAAACgPE1pQAAAAABsFWpAAAAAwHTlakAAAABAublrQAAAAEBCkmxAAAAAwMNybUAAAAAATFtuQAAAAIAySG9AAAAA4L8ccEAAAACAeZlwQAAAAMBMGnFAAAAAQGCdcUAAAADgtyJyQAAAAGA4rHJAAAAAoOg5c0AAAABAz8tzQAAAAADzYXRAAAAAQFr8dEAAAACAC5t1QAAAAAANPnZAAAAAwGTldkAAAADAGJF3QAAAAIAuQXhAAAAAgKv1eEAAAADAlK55QAAAAIDkbXpAAAAAAKIze0AAAADAYGZ8QAAAAADnn31AAAAAwLN5fkAAAAAAC1p/QAAAAMBsW4BAAAAAQEQOgUAAAABAA8uBQAAAAGA5jYJAAAAAwH4Tg0AAAAAgG+WDQAAAACAU9YZAAAAAwIGJikA=",
          "dtype": "f8"
         },
         "y": {
          "bdata": "cOzahu2sHECLc+daD9gjQF4LV1IgIy1AckFc5xf9MUAoyFLqGyE1QGQuOjFMpDdAFPGTWCCFOkDoOQgdQik7QP+d9mU+9jxAbYnLZi4wQEA12jNuEBdAQFWuQ7ivST9AuAhbkfW5PkDWuo2CllY+QFge2xH2zzpATUCkGwuiPUAsQ7Vs4RY8QD1Djg9h1TtATO2kH7/gOUBxitHsK3s2QNYKyudc0jNAY65XB0mSL0B7xg20O7kqQHm8g71TSylAumXkg6nsKEDQvgekNjsoQKVfwF/YpiVAoHuN4x5VJEAqwA+syFMmQP23Btk8tyZAaUpWsBU5JUBOcErgFxEjQKClrXpwlSNAu2opf017JECQCB+kWQgmQMXhEeAyJihAXmgb8f0SJkA8ZGXicTYjQNNtT2CvsyFAWZg3Dj4BIEAVvG3stTUdQJVlbeoTKB5A1VG9iAIVHUAB9Lj4r4oaQBxa7vkAaBxA86InEkkqG0ACIZwmZ6sWQJvTRzOScBdA6Y/Kr+PHFUAgh5Z7LvMVQCylvgazTBNAnNoOk3SbFECZ2kk/buMSQGfI8SHUuhNAaVwj5RDwEEBDAyciNF4RQHYizMy72BBA79uM8ylfDkCGatlCaKkQQB6jKFObAA1A/6wABAS5DUC/lA5qJYINQJP0lF5GOAtAa7ms1+SBDUAclxz4xKEOQOvEtW9EZg9Aw66ohOArEEA1FiE6/ToLQMF4fJI4KghALtvq+Go5BUC1Q0LXBMoCQE3gHOZXrwRAnaSn9FLMBEADF9eDxSYEQHwunXsowARA/rrJbyJfAkBRHRA44igCQL08ynI1gAFAizw/itaYAUAq0x0TqxcBQOCVAeIrogBAF4yMe//dAEBgtVkTNaP8P6U24fo94Pk/NTv81Spt9D+oCgRTREX1P8Cu4zBKW/Y/V0DzFl7A9D/A1oFjnZv0P7qeDrkAJ/U/LMqZopCL8z/VAsJV8w33P39TPWsslPQ/q5Gt3GkA8D86+lO2PlMEQEpsgcNEsPQ/TuVh4ev49D+cxX7Hs673P9etBUnH6AdArDpvayfN8j+woEEiVL4BQCT/NWe+j+0/f/O1NUkO8D/HJMYLUp4AQOZqKsDd+RtAHzIVG0DtAkA=",
          "dtype": "f8"
         }
        },
        {
         "error_x": {
          "array": {
           "bdata": "AAAAAMa52j8AAAAAzIvaPwAAAABW0N8/AAAAAMr+3z8AAAAAVzXgPwAAAAAEiuA/AAAAAA/94D8AAAAANXzhPwAAAADC7OE/AAAAAH5h5T8AAAAAWsnlPwAAAAAOGeY/AAAAANJl5j8AAAAAvLrmPwAAAADsF+c/AAAAACzh6j8AAAAAAHLrPwAAAAAiD+w/AAAAAJy47D8AAAAAZJnzPwAAAADwneg/AAAAAEgJ6T8AAAAAXLDpPwAAAABQT+o/AAAAADDs7T8AAAAAQJvuPwAAAAAcP+8/AAAAANzX7z8AAAAAENXxPwAAAABKI/I/AAAAABhq8j8AAAAAfKnyPwAAAABcm/Q/AAAAAFLU9D8AAAAApgP1PwAAAAAo7vY/AAAAACgO9z8AAAAA3CH3PwAAAABk8fg/AAAAAMDq+D8AAAAADNb4PwAAAADogfo/AAAAAPxp+j8AAAAAdFX6PwAAAAAMBPw/AAAAAKz0+z8AAAAAZOn7PwAAAAA8oP0/AAAAABSd/T8AAAAAGF3/PwAAAAD0ZP8/AAAAAC6ZAEAAAAAAlqIAQAAAAADojAFAAAAAAEyXAUAAAAAAnKEBQAAAAABMjgJAAAAAAICZAkAAAAAALIgDQAAAAABkeARAAAAAAISFBEAAAAAAzHcFQAAAAADUhQVAAAAAADh6BkAAAAAALIkGQAAAAACsfwdAAAAAANR3CEAAAAAAwIgIQAAAAAAUgwlAAAAAACB/CkAAAAAABJIKQAAAAAA4kAtAAAAAACyQDEAAAAAA4JENQAAAAAC8pw1AAAAAAJyrDkAAAAAAKLEPQAAAAABEXBBAAAAAAJxoEEAAAAAASO0QQAAAAADYchFAAAAAADj5EUAAAAAAcIASQAAAAAB8CBNAAAAAAFiRE0AAAAAA/BoUQAAAAABkpRRAAAAAAIwwFUAAAAAAbLwVQAAAAAAESRZAAAAAADzWFkAAAAAAGGQXQAAAAADYbxhAAAAAAIz/GEAAAAAAEtgpQAAAAABksRpAAAAAAMzBG0AAAAAADFQcQAAAAADEby1AAAAAADiMHkAAAAAAqOkvQAAAAADgoyBAAAAAAHztIEAAAAAAzLwxQAAAAACVEFRAAAAAALElQUA=",
           "dtype": "f8"
          },
          "arrayminus": {
           "bdata": "AAAAAMa52j8AAAAAzIvaPwAAAABW0N8/AAAAAMr+3z8AAAAAVzXgPwAAAAAEiuA/AAAAAA/94D8AAAAANXzhPwAAAADC7OE/AAAAAH5h5T8AAAAAWsnlPwAAAAAOGeY/AAAAANJl5j8AAAAAvLrmPwAAAADsF+c/AAAAACzh6j8AAAAAAHLrPwAAAAAiD+w/AAAAAJy47D8AAAAAZJnzPwAAAADwneg/AAAAAEgJ6T8AAAAAXLDpPwAAAABQT+o/AAAAADDs7T8AAAAAQJvuPwAAAAAcP+8/AAAAANzX7z8AAAAAENXxPwAAAABKI/I/AAAAABhq8j8AAAAAfKnyPwAAAABcm/Q/AAAAAFLU9D8AAAAApgP1PwAAAAAo7vY/AAAAACgO9z8AAAAA3CH3PwAAAABk8fg/AAAAAMDq+D8AAAAADNb4PwAAAADogfo/AAAAAPxp+j8AAAAAdFX6PwAAAAAMBPw/AAAAAKz0+z8AAAAAZOn7PwAAAAA8oP0/AAAAABSd/T8AAAAAGF3/PwAAAAD0ZP8/AAAAAC6ZAEAAAAAAlqIAQAAAAADojAFAAAAAAEyXAUAAAAAAnKEBQAAAAABMjgJAAAAAAICZAkAAAAAALIgDQAAAAABkeARAAAAAAISFBEAAAAAAzHcFQAAAAADUhQVAAAAAADh6BkAAAAAALIkGQAAAAACsfwdAAAAAANR3CEAAAAAAwIgIQAAAAAAUgwlAAAAAACB/CkAAAAAABJIKQAAAAAA4kAtAAAAAACyQDEAAAAAA4JENQAAAAAC8pw1AAAAAAJyrDkAAAAAAKLEPQAAAAABEXBBAAAAAAJxoEEAAAAAASO0QQAAAAADYchFAAAAAADj5EUAAAAAAcIASQAAAAAB8CBNAAAAAAFiRE0AAAAAA/BoUQAAAAABkpRRAAAAAAIwwFUAAAAAAbLwVQAAAAAAESRZAAAAAADzWFkAAAAAAGGQXQAAAAADYbxhAAAAAAIz/GEAAAAAAEtgpQAAAAABksRpAAAAAAMzBG0AAAAAADFQcQAAAAADEby1AAAAAADiMHkAAAAAAqOkvQAAAAADgoyBAAAAAAHztIEAAAAAAzLwxQAAAAACVEFRAAAAAALElQUA=",
           "dtype": "f8"
          },
          "symmetric": false,
          "thickness": 1.5,
          "type": "data",
          "width": 0
         },
         "error_y": {
          "array": {
           "bdata": "pvBVG7N3/z/IVF6fqAABQI38BA80PQVA1l7eJJpqB0CeLHLHmCcKQLkAwFPjjQtAP/yEwPLjDEDiDasqdGoOQNhpf8plvA9AYeNuopSuEUCNLoeUSGoRQIf3700zQRFAJx8R6oq1EUDRLbhginQRQDf0y/TN6hBAW71TznQpEUABMqeEZwsRQJZIYTijchBAIwBjZc5BD0DEpYNX2s8MQMYIEN00VgxAvy1ZhOBHCUAAUTKOP5cIQEK4PCtDYAZA06AiFRfPBkATeMCPMh8HQMa7tubW9AVAOAwyBM94BkA26pXSMEMGQDOb3R0eBQZAQI1rmaK0BUAMbUMrjuMEQF4EnfhScQVAODlJKB5fBUBIVB1RWZgFQKfVY8jo9gVAVVmutBFTBEB0zrINPMIEQEdLF779MQRAd8kxRsglBEBU46+c9sUDQHicFa0aWwNAmsveVPQVA0DMvmJGpcICQMHU+jWqZgNAR3S7Bt2xAUCK8py3+7kAQJJAQ5diGAJAFRL0UfLtAUDzaUejhioBQDCYFZjtmwBAG+bitsEGAUBkw5xPzNv/P/L99TRS/P8/qB/L4nA4/z924qdu7079P5t/0SX9pP4/T7pjsyeQ/D/Csa7Vv9P9Pz9JCTVAFP0/EZyEZPb7+j/Ggkvcgkf7P2ncopol9/k/ldfygWBP+z9+arLIlin4PyD19VV8svc/oaHoHolJ+D9D8/2KRZf2P4fq4qPyavc/3GiHaCsv9D8xZmy07Lf0P2AyUSnNDvQ/9jg3a8h48z8f1s6gmAryP4CJSZy00/I/D9WirNPR8D8xs+oc9FzxP7N9XxfKKfA/l/fhucH97z+A4omYbBLtP0Kt7ACobe0/fXhP98XD7T/Bj7yc2L7pPw/0SxRH8+w/tvp9Y5bz5z/dHmGbiCzoP2H76wqhl+g/gTfwzz6g5T9UeqJggsHnPx22DsDMi+g/lrkqge1P4z8ZMfXQ7FLjPzU1qRORhuM/aZQ7EQ8J5T+43I4wQGboP18WzqMxcuI/Lb9MSGpE4T+syT0B0N/hP/f57Rn4BOk/10eoR4Z24T9Qu5iUX0blPx4ZyeGJvt8/seTCKw2C4D8YwNfXo4HkP2L0Id5iifA/VZws8WMh5D8=",
           "dtype": "f8"
          },
          "thickness": 1.5,
          "type": "data",
          "width": 0
         },
         "marker": {
          "size": 3,
          "symbol": "circle"
         },
         "mode": "markers",
         "name": "net",
         "showlegend": true,
         "type": "scatter",
         "x": {
          "bdata": "AAAAwO3+IEAAAABAGqkiQAAAAED7eyRAAAAAQHR6JkAAAAAAwH0oQAAAAMC1iSpAAAAAACeiLEAAAABAu8kuQAAAAEAlgDBAAAAAQJe6MUAAAAAA7hMzQAAAAEABczRAAAAAQPjWNUAAAADA/D83QAAAAACSrjhAAAAAwFo+OkAAAAAg9PA7QAAAAED9rD1AAAAAIDtzP0AAAAAgS8lAQAAAAACOyEFAAAAA4CqPQkAAAACAEVpDQAAAACAQKkRAAAAAIP4KRUAAAADgG/1FQAAAAECF9EZAAAAAQOHwR0AAAAAg6f5IQAAAAACsHkpAAAAAABdDS0AAAACgs2tMQAAAAGDapU1AAAAAwFfxTkAAAADACyBQQAAAAADTz1BAAAAAQMSHUUAAAABAhEBSQAAAAEDRAFNAAAAA4EHIU0AAAAAARY9UQAAAAOCkXFVAAAAAgFQwVkAAAABAUgNXQAAAAEC43FdAAAAAAJu8WEAAAABAE5xZQAAAAMA5glpAAAAAAC9vW0AAAADAF2NcQAAAAAAgXl1AAAAAQH1gXkAAAABAW2pfQAAAAKDrPWBAAAAAgHzKYEAAAAAAYFdhQAAAAMAf6GFAAAAA4L58YkAAAACARRVjQAAAAMBHtWNAAAAAgD9ZZEAAAADANAFlQAAAAEArrWVAAAAAYCtdZkAAAAAAORFnQAAAAEBcyWdAAAAAQDqJaEAAAACgPE1pQAAAAABsFWpAAAAAwHTlakAAAABAublrQAAAAEBCkmxAAAAAwMNybUAAAAAATFtuQAAAAIAySG9AAAAA4L8ccEAAAACAeZlwQAAAAMBMGnFAAAAAQGCdcUAAAADgtyJyQAAAAGA4rHJAAAAAoOg5c0AAAABAz8tzQAAAAADzYXRAAAAAQFr8dEAAAACAC5t1QAAAAAANPnZAAAAAwGTldkAAAADAGJF3QAAAAIAuQXhAAAAAgKv1eEAAAADAlK55QAAAAIDkbXpAAAAAAKIze0AAAADAYGZ8QAAAAADnn31AAAAAwLN5fkAAAAAAC1p/QAAAAMBsW4BAAAAAQEQOgUAAAABAA8uBQAAAAGA5jYJAAAAAwH4Tg0AAAAAgG+WDQAAAACAU9YZAAAAAwIGJikA=",
          "dtype": "f8"
         },
         "y": {
          "bdata": "VpAvfIQxPkBwJ4cgF9FAQMTNwkZBx0pAIr3CbW4jUEDkmInMe3RUQMK4bSduxVZA3FfNXXreWEC63H3pIzZcQE4ikN+f215A69QAQCWfY0BtOY8B/PViQLYBlDGTqmJAPk0YBvHgY0Bybf7iK0FjQGqy5XceU2JAaB60tE2bYkA6L3oiOYViQHIbQBmLB2FAEWWl0xppXkBnA567+cZZQCCWoBlEbVlAXWFUkZtEVEDvdD5e2KdTQPz5tH7emE9AQN1FALOhUEDDD3Hs1EZRQKe5hrsaME9A3RwhxLClUEBaF9kFZARQQM3/dBf9H09A5t9BwZ9hTkB4lSa912FMQCaYrCWb+k1Ak9O9iymATUDy7l+u1tJNQAFrUl5Gdk5ANquTL4mzSUDnMQCLjNZLQH/fZpxjfUpAz91cEgHdSkAV0f23shhKQGu7LjyDtUhA8Uxlf/cHSECceUYrVm9HQAiC7jWCFElAUqp6m6RpRECc2c1guW9CQInftZfC/kVAd9gVleK+RUAlyI2Wp6RDQMy1+YuVmkJAWvM+nKWBQ0Acf8mV5O1AQI9mJHX0+UBA/9SeNmFpQEAV038cnT88QPJgtBi1hj9AhRaZFGkrO0CwYtLxtKQ9QArHJMYfjzxAfepscXjmN0BZsIpwRKM4QC/Hm1+9LjZAxOvWgkyjOEC8RA2x3DMyQBCuGtleSzFASXZGZhZLMkBRL91s5cUvQBwfQmDpyjFAGg2w1/WOKUDbFBkyq8orQFnT46eDSSlAJWQCmG1uJ0DSUjlnK4gjQIxDBuqgnSVADOY+iFy6IEAeU+ztzDMiQHLH/+p3pB5AmNZFdjnIHUBBS1v1aCEXQNja6HYWLBhArtAikxreGEB3h5j9Cp0RQC3nMQAvNRlAOyLy6NVqEEDX5i9+xpwQQMJut+8yJxFAclhuF8eMCEC+BSKihO4PQMSyrE1FdBFABxugoNDXAUCy/gtHnxYAQFDHTaVwIwJA5E2SYuVMCUDI2I1v8IgHQEbuW6pZq/0/tO1/REPj9j8s0WACM233P/932pcxYwZAOHpxjOOu+j8U7E5djB3/P+BLS6rglPY/uxsuTC6O+D88PkkU/X38P9T1dMhp1QZAxF+tUWmg9D8=",
          "dtype": "f8"
         }
        }
       ],
       "layout": {
        "height": 600,
        "legend": {
         "x": 1,
         "xanchor": "right",
         "y": 1,
         "yanchor": "bottom"
        },
        "template": {
         "data": {
          "bar": [
           {
            "error_x": {
             "color": "#2a3f5f"
            },
            "error_y": {
             "color": "#2a3f5f"
            },
            "marker": {
             "line": {
              "color": "white",
              "width": 0.5
             },
             "pattern": {
              "fillmode": "overlay",
              "size": 10,
              "solidity": 0.2
             }
            },
            "type": "bar"
           }
          ],
          "barpolar": [
           {
            "marker": {
             "line": {
              "color": "white",
              "width": 0.5
             },
             "pattern": {
              "fillmode": "overlay",
              "size": 10,
              "solidity": 0.2
             }
            },
            "type": "barpolar"
           }
          ],
          "carpet": [
           {
            "aaxis": {
             "endlinecolor": "#2a3f5f",
             "gridcolor": "#C8D4E3",
             "linecolor": "#C8D4E3",
             "minorgridcolor": "#C8D4E3",
             "startlinecolor": "#2a3f5f"
            },
            "baxis": {
             "endlinecolor": "#2a3f5f",
             "gridcolor": "#C8D4E3",
             "linecolor": "#C8D4E3",
             "minorgridcolor": "#C8D4E3",
             "startlinecolor": "#2a3f5f"
            },
            "type": "carpet"
           }
          ],
          "choropleth": [
           {
            "colorbar": {
             "outlinewidth": 0,
             "ticks": ""
            },
            "type": "choropleth"
           }
          ],
          "contour": [
           {
            "colorbar": {
             "outlinewidth": 0,
             "ticks": ""
            },
            "colorscale": [
             [
              0,
              "#0d0887"
             ],
             [
              0.1111111111111111,
              "#46039f"
             ],
             [
              0.2222222222222222,
              "#7201a8"
             ],
             [
              0.3333333333333333,
              "#9c179e"
             ],
             [
              0.4444444444444444,
              "#bd3786"
             ],
             [
              0.5555555555555556,
              "#d8576b"
             ],
             [
              0.6666666666666666,
              "#ed7953"
             ],
             [
              0.7777777777777778,
              "#fb9f3a"
             ],
             [
              0.8888888888888888,
              "#fdca26"
             ],
             [
              1,
              "#f0f921"
             ]
            ],
            "type": "contour"
           }
          ],
          "contourcarpet": [
           {
            "colorbar": {
             "outlinewidth": 0,
             "ticks": ""
            },
            "type": "contourcarpet"
           }
          ],
          "heatmap": [
           {
            "colorbar": {
             "outlinewidth": 0,
             "ticks": ""
            },
            "colorscale": [
             [
              0,
              "#0d0887"
             ],
             [
              0.1111111111111111,
              "#46039f"
             ],
             [
              0.2222222222222222,
              "#7201a8"
             ],
             [
              0.3333333333333333,
              "#9c179e"
             ],
             [
              0.4444444444444444,
              "#bd3786"
             ],
             [
              0.5555555555555556,
              "#d8576b"
             ],
             [
              0.6666666666666666,
              "#ed7953"
             ],
             [
              0.7777777777777778,
              "#fb9f3a"
             ],
             [
              0.8888888888888888,
              "#fdca26"
             ],
             [
              1,
              "#f0f921"
             ]
            ],
            "type": "heatmap"
           }
          ],
          "histogram": [
           {
            "marker": {
             "pattern": {
              "fillmode": "overlay",
              "size": 10,
              "solidity": 0.2
             }
            },
            "type": "histogram"
           }
          ],
          "histogram2d": [
           {
            "colorbar": {
             "outlinewidth": 0,
             "ticks": ""
            },
            "colorscale": [
             [
              0,
              "#0d0887"
             ],
             [
              0.1111111111111111,
              "#46039f"
             ],
             [
              0.2222222222222222,
              "#7201a8"
             ],
             [
              0.3333333333333333,
              "#9c179e"
             ],
             [
              0.4444444444444444,
              "#bd3786"
             ],
             [
              0.5555555555555556,
              "#d8576b"
             ],
             [
              0.6666666666666666,
              "#ed7953"
             ],
             [
              0.7777777777777778,
              "#fb9f3a"
             ],
             [
              0.8888888888888888,
              "#fdca26"
             ],
             [
              1,
              "#f0f921"
             ]
            ],
            "type": "histogram2d"
           }
          ],
          "histogram2dcontour": [
           {
            "colorbar": {
             "outlinewidth": 0,
             "ticks": ""
            },
            "colorscale": [
             [
              0,
              "#0d0887"
             ],
             [
              0.1111111111111111,
              "#46039f"
             ],
             [
              0.2222222222222222,
              "#7201a8"
             ],
             [
              0.3333333333333333,
              "#9c179e"
             ],
             [
              0.4444444444444444,
              "#bd3786"
             ],
             [
              0.5555555555555556,
              "#d8576b"
             ],
             [
              0.6666666666666666,
              "#ed7953"
             ],
             [
              0.7777777777777778,
              "#fb9f3a"
             ],
             [
              0.8888888888888888,
              "#fdca26"
             ],
             [
              1,
              "#f0f921"
             ]
            ],
            "type": "histogram2dcontour"
           }
          ],
          "mesh3d": [
           {
            "colorbar": {
             "outlinewidth": 0,
             "ticks": ""
            },
            "type": "mesh3d"
           }
          ],
          "parcoords": [
           {
            "line": {
             "colorbar": {
              "outlinewidth": 0,
              "ticks": ""
             }
            },
            "type": "parcoords"
           }
          ],
          "pie": [
           {
            "automargin": true,
            "type": "pie"
           }
          ],
          "scatter": [
           {
            "fillpattern": {
             "fillmode": "overlay",
             "size": 10,
             "solidity": 0.2
            },
            "type": "scatter"
           }
          ],
          "scatter3d": [
           {
            "line": {
             "colorbar": {
              "outlinewidth": 0,
              "ticks": ""
             }
            },
            "marker": {
             "colorbar": {
              "outlinewidth": 0,
              "ticks": ""
             }
            },
            "type": "scatter3d"
           }
          ],
          "scattercarpet": [
           {
            "marker": {
             "colorbar": {
              "outlinewidth": 0,
              "ticks": ""
             }
            },
            "type": "scattercarpet"
           }
          ],
          "scattergeo": [
           {
            "marker": {
             "colorbar": {
              "outlinewidth": 0,
              "ticks": ""
             }
            },
            "type": "scattergeo"
           }
          ],
          "scattergl": [
           {
            "marker": {
             "colorbar": {
              "outlinewidth": 0,
              "ticks": ""
             }
            },
            "type": "scattergl"
           }
          ],
          "scattermap": [
           {
            "marker": {
             "colorbar": {
              "outlinewidth": 0,
              "ticks": ""
             }
            },
            "type": "scattermap"
           }
          ],
          "scattermapbox": [
           {
            "marker": {
             "colorbar": {
              "outlinewidth": 0,
              "ticks": ""
             }
            },
            "type": "scattermapbox"
           }
          ],
          "scatterpolar": [
           {
            "marker": {
             "colorbar": {
              "outlinewidth": 0,
              "ticks": ""
             }
            },
            "type": "scatterpolar"
           }
          ],
          "scatterpolargl": [
           {
            "marker": {
             "colorbar": {
              "outlinewidth": 0,
              "ticks": ""
             }
            },
            "type": "scatterpolargl"
           }
          ],
          "scatterternary": [
           {
            "marker": {
             "colorbar": {
              "outlinewidth": 0,
              "ticks": ""
             }
            },
            "type": "scatterternary"
           }
          ],
          "surface": [
           {
            "colorbar": {
             "outlinewidth": 0,
             "ticks": ""
            },
            "colorscale": [
             [
              0,
              "#0d0887"
             ],
             [
              0.1111111111111111,
              "#46039f"
             ],
             [
              0.2222222222222222,
              "#7201a8"
             ],
             [
              0.3333333333333333,
              "#9c179e"
             ],
             [
              0.4444444444444444,
              "#bd3786"
             ],
             [
              0.5555555555555556,
              "#d8576b"
             ],
             [
              0.6666666666666666,
              "#ed7953"
             ],
             [
              0.7777777777777778,
              "#fb9f3a"
             ],
             [
              0.8888888888888888,
              "#fdca26"
             ],
             [
              1,
              "#f0f921"
             ]
            ],
            "type": "surface"
           }
          ],
          "table": [
           {
            "cells": {
             "fill": {
              "color": "#EBF0F8"
             },
             "line": {
              "color": "white"
             }
            },
            "header": {
             "fill": {
              "color": "#C8D4E3"
             },
             "line": {
              "color": "white"
             }
            },
            "type": "table"
           }
          ]
         },
         "layout": {
          "annotationdefaults": {
           "arrowcolor": "#2a3f5f",
           "arrowhead": 0,
           "arrowwidth": 1
          },
          "autotypenumbers": "strict",
          "coloraxis": {
           "colorbar": {
            "outlinewidth": 0,
            "ticks": ""
           }
          },
          "colorscale": {
           "diverging": [
            [
             0,
             "#8e0152"
            ],
            [
             0.1,
             "#c51b7d"
            ],
            [
             0.2,
             "#de77ae"
            ],
            [
             0.3,
             "#f1b6da"
            ],
            [
             0.4,
             "#fde0ef"
            ],
            [
             0.5,
             "#f7f7f7"
            ],
            [
             0.6,
             "#e6f5d0"
            ],
            [
             0.7,
             "#b8e186"
            ],
            [
             0.8,
             "#7fbc41"
            ],
            [
             0.9,
             "#4d9221"
            ],
            [
             1,
             "#276419"
            ]
           ],
           "sequential": [
            [
             0,
             "#0d0887"
            ],
            [
             0.1111111111111111,
             "#46039f"
            ],
            [
             0.2222222222222222,
             "#7201a8"
            ],
            [
             0.3333333333333333,
             "#9c179e"
            ],
            [
             0.4444444444444444,
             "#bd3786"
            ],
            [
             0.5555555555555556,
             "#d8576b"
            ],
            [
             0.6666666666666666,
             "#ed7953"
            ],
            [
             0.7777777777777778,
             "#fb9f3a"
            ],
            [
             0.8888888888888888,
             "#fdca26"
            ],
            [
             1,
             "#f0f921"
            ]
           ],
           "sequentialminus": [
            [
             0,
             "#0d0887"
            ],
            [
             0.1111111111111111,
             "#46039f"
            ],
            [
             0.2222222222222222,
             "#7201a8"
            ],
            [
             0.3333333333333333,
             "#9c179e"
            ],
            [
             0.4444444444444444,
             "#bd3786"
            ],
            [
             0.5555555555555556,
             "#d8576b"
            ],
            [
             0.6666666666666666,
             "#ed7953"
            ],
            [
             0.7777777777777778,
             "#fb9f3a"
            ],
            [
             0.8888888888888888,
             "#fdca26"
            ],
            [
             1,
             "#f0f921"
            ]
           ]
          },
          "colorway": [
           "#636efa",
           "#EF553B",
           "#00cc96",
           "#ab63fa",
           "#FFA15A",
           "#19d3f3",
           "#FF6692",
           "#B6E880",
           "#FF97FF",
           "#FECB52"
          ],
          "font": {
           "color": "#2a3f5f"
          },
          "geo": {
           "bgcolor": "white",
           "lakecolor": "white",
           "landcolor": "white",
           "showlakes": true,
           "showland": true,
           "subunitcolor": "#C8D4E3"
          },
          "hoverlabel": {
           "align": "left"
          },
          "hovermode": "closest",
          "mapbox": {
           "style": "light"
          },
          "paper_bgcolor": "white",
          "plot_bgcolor": "white",
          "polar": {
           "angularaxis": {
            "gridcolor": "#EBF0F8",
            "linecolor": "#EBF0F8",
            "ticks": ""
           },
           "bgcolor": "white",
           "radialaxis": {
            "gridcolor": "#EBF0F8",
            "linecolor": "#EBF0F8",
            "ticks": ""
           }
          },
          "scene": {
           "xaxis": {
            "backgroundcolor": "white",
            "gridcolor": "#DFE8F3",
            "gridwidth": 2,
            "linecolor": "#EBF0F8",
            "showbackground": true,
            "ticks": "",
            "zerolinecolor": "#EBF0F8"
           },
           "yaxis": {
            "backgroundcolor": "white",
            "gridcolor": "#DFE8F3",
            "gridwidth": 2,
            "linecolor": "#EBF0F8",
            "showbackground": true,
            "ticks": "",
            "zerolinecolor": "#EBF0F8"
           },
           "zaxis": {
            "backgroundcolor": "white",
            "gridcolor": "#DFE8F3",
            "gridwidth": 2,
            "linecolor": "#EBF0F8",
            "showbackground": true,
            "ticks": "",
            "zerolinecolor": "#EBF0F8"
           }
          },
          "shapedefaults": {
           "line": {
            "color": "#2a3f5f"
           }
          },
          "ternary": {
           "aaxis": {
            "gridcolor": "#DFE8F3",
            "linecolor": "#A2B1C6",
            "ticks": ""
           },
           "baxis": {
            "gridcolor": "#DFE8F3",
            "linecolor": "#A2B1C6",
            "ticks": ""
           },
           "bgcolor": "white",
           "caxis": {
            "gridcolor": "#DFE8F3",
            "linecolor": "#A2B1C6",
            "ticks": ""
           }
          },
          "title": {
           "x": 0.05
          },
          "xaxis": {
           "automargin": true,
           "gridcolor": "#EBF0F8",
           "linecolor": "#EBF0F8",
           "ticks": "",
           "title": {
            "standoff": 15
           },
           "zerolinecolor": "#EBF0F8",
           "zerolinewidth": 2
          },
          "yaxis": {
           "automargin": true,
           "gridcolor": "#EBF0F8",
           "linecolor": "#EBF0F8",
           "ticks": "",
           "title": {
            "standoff": 15
           },
           "zerolinecolor": "#EBF0F8",
           "zerolinewidth": 2
          }
         }
        },
        "width": 600,
        "xaxis": {
         "title": {
          "text": "Energy (keV)"
         },
         "type": "log"
        },
        "yaxis": {
         "title": {
          "text": "Counts/s/channel"
         },
         "type": "log"
        }
       }
      }
     },
     "metadata": {},
     "output_type": "display_data"
    }
   ],
   "source": [
    "fig = Plot.dataunit(me, style='CC')"
   ]
  },
  {
   "cell_type": "code",
   "execution_count": 4,
   "id": "b20a1541-0d9e-461b-a5e4-9749f39db417",
   "metadata": {},
   "outputs": [
    {
     "data": {
      "application/vnd.plotly.v1+json": {
       "config": {
        "plotlyServerURL": "https://plot.ly"
       },
       "data": [
        {
         "error_x": {
          "array": {
           "bdata": "AAAAAMa52j8AAAAAzIvaPwAAAABW0N8/AAAAAMr+3z8AAAAAVzXgPwAAAAAEiuA/AAAAAA/94D8AAAAANXzhPwAAAADC7OE/AAAAAH5h5T8AAAAAWsnlPwAAAAAOGeY/AAAAANJl5j8AAAAAvLrmPwAAAADsF+c/AAAAACzh6j8AAAAAAHLrPwAAAAAiD+w/AAAAAJy47D8AAAAAZJnzPwAAAADwneg/AAAAAEgJ6T8AAAAAXLDpPwAAAABQT+o/AAAAADDs7T8AAAAAQJvuPwAAAAAcP+8/AAAAANzX7z8AAAAAENXxPwAAAABKI/I/AAAAABhq8j8AAAAAfKnyPwAAAABcm/Q/AAAAAFLU9D8AAAAApgP1PwAAAAAo7vY/AAAAACgO9z8AAAAA3CH3PwAAAABk8fg/AAAAAMDq+D8AAAAADNb4PwAAAADogfo/AAAAAPxp+j8AAAAAdFX6PwAAAAAMBPw/AAAAAKz0+z8AAAAAZOn7PwAAAAA8oP0/AAAAABSd/T8AAAAAGF3/PwAAAAD0ZP8/AAAAAC6ZAEAAAAAAlqIAQAAAAADojAFAAAAAAEyXAUAAAAAAnKEBQAAAAABMjgJAAAAAAICZAkAAAAAALIgDQAAAAABkeARAAAAAAISFBEAAAAAAzHcFQAAAAADUhQVAAAAAADh6BkAAAAAALIkGQAAAAACsfwdAAAAAANR3CEAAAAAAwIgIQAAAAAAUgwlAAAAAACB/CkAAAAAABJIKQAAAAAA4kAtAAAAAACyQDEAAAAAA4JENQAAAAAC8pw1AAAAAAJyrDkAAAAAAKLEPQAAAAABEXBBAAAAAAJxoEEAAAAAASO0QQAAAAADYchFAAAAAADj5EUAAAAAAcIASQAAAAAB8CBNAAAAAAFiRE0AAAAAA/BoUQAAAAABkpRRAAAAAAIwwFUAAAAAAbLwVQAAAAAAESRZAAAAAADzWFkAAAAAAGGQXQAAAAADYbxhAAAAAAIz/GEAAAAAAEtgpQAAAAABksRpAAAAAAMzBG0AAAAAADFQcQAAAAADEby1AAAAAADiMHkAAAAAAqOkvQAAAAADgoyBAAAAAAHztIEAAAAAAzLwxQAAAAACVEFRAAAAAALElQUA=",
           "dtype": "f8"
          },
          "arrayminus": {
           "bdata": "AAAAAMa52j8AAAAAzIvaPwAAAABW0N8/AAAAAMr+3z8AAAAAVzXgPwAAAAAEiuA/AAAAAA/94D8AAAAANXzhPwAAAADC7OE/AAAAAH5h5T8AAAAAWsnlPwAAAAAOGeY/AAAAANJl5j8AAAAAvLrmPwAAAADsF+c/AAAAACzh6j8AAAAAAHLrPwAAAAAiD+w/AAAAAJy47D8AAAAAZJnzPwAAAADwneg/AAAAAEgJ6T8AAAAAXLDpPwAAAABQT+o/AAAAADDs7T8AAAAAQJvuPwAAAAAcP+8/AAAAANzX7z8AAAAAENXxPwAAAABKI/I/AAAAABhq8j8AAAAAfKnyPwAAAABcm/Q/AAAAAFLU9D8AAAAApgP1PwAAAAAo7vY/AAAAACgO9z8AAAAA3CH3PwAAAABk8fg/AAAAAMDq+D8AAAAADNb4PwAAAADogfo/AAAAAPxp+j8AAAAAdFX6PwAAAAAMBPw/AAAAAKz0+z8AAAAAZOn7PwAAAAA8oP0/AAAAABSd/T8AAAAAGF3/PwAAAAD0ZP8/AAAAAC6ZAEAAAAAAlqIAQAAAAADojAFAAAAAAEyXAUAAAAAAnKEBQAAAAABMjgJAAAAAAICZAkAAAAAALIgDQAAAAABkeARAAAAAAISFBEAAAAAAzHcFQAAAAADUhQVAAAAAADh6BkAAAAAALIkGQAAAAACsfwdAAAAAANR3CEAAAAAAwIgIQAAAAAAUgwlAAAAAACB/CkAAAAAABJIKQAAAAAA4kAtAAAAAACyQDEAAAAAA4JENQAAAAAC8pw1AAAAAAJyrDkAAAAAAKLEPQAAAAABEXBBAAAAAAJxoEEAAAAAASO0QQAAAAADYchFAAAAAADj5EUAAAAAAcIASQAAAAAB8CBNAAAAAAFiRE0AAAAAA/BoUQAAAAABkpRRAAAAAAIwwFUAAAAAAbLwVQAAAAAAESRZAAAAAADzWFkAAAAAAGGQXQAAAAADYbxhAAAAAAIz/GEAAAAAAEtgpQAAAAABksRpAAAAAAMzBG0AAAAAADFQcQAAAAADEby1AAAAAADiMHkAAAAAAqOkvQAAAAADgoyBAAAAAAHztIEAAAAAAzLwxQAAAAACVEFRAAAAAALElQUA=",
           "dtype": "f8"
          },
          "symmetric": false,
          "thickness": 1.5,
          "type": "data",
          "width": 0
         },
         "error_y": {
          "array": {
           "bdata": "vajxgfanAkAxHfxbg0cEQP4eXH+nKQVA+it/EJkpB0ARjQIJDogJQA54GlnNaQpA/kAYcq/yCkBFFzjYk5kLQIShkCGyFgxA1qB2K7Y/CkACczBMaGIJQAb19Wf+zQhA3vclSH8VCUCjidTza10IQBNwj0/BQQdA0rFbd3dFBEBZfBz3l7oDQCzIielPngJAKQ42g14/AUBUVZ80HVL3P3IPR9i4QwJAIFDMXlAIAEBEysI2OXT+P5jGSHcSAPs/8ju0+Fg6+D8//ejo5wT4PzzwmQTWVfY/SLYtakNx9j+uT/rlh9bzP2rgWKfFSvM/zOA8dze28j9H6M3sd8vxP3aY2TaTh/A/fYB9ORxL8D+ch91SolDwP6VNQoS7ZO4/lWyjmAb16z97LBmdyX3sP8FI9L8Lt+k/IIQmjny46T/fKuebT1XpP/X2zBdgOec/h5x+77X45j9JvNjYZKjmP5dR1pVMCOY/mXNNRG8i5D8QmDPloA/jP1p8MGWfcOM/waWvm9pE4z/nIqxHHGfhP+lT0cNa2OA/P5dH/l9U4D+077YHFXXeP/4Emn2N+9w/YvEdh2Q63D9kxJX+XGnaP7l3JUmKR9o/YDS/fZRn2D+fi+vQdEjYP0JOsQI+m9Y/SKcWX17j1D+Jt4ra/DjUPy8ARQ2WK9M/PS3qQH1Q0z/ZyebPU/3QP3ku1o//+s8/lREn6eiCzz9IW1jGizTNP91n1klnLM0/TIaCDvQvyD+BqMPKKr/IP7LkHPsEGcc/E7ZGcjacxT8udEOgZFbDP2GwFw2hI8Q/AXyL1gVewT9UqFi/zVvBP4IwzvcCS78/PKuob7Lgvj/44SWHTR+7P8XDKkCApbo/JJ6MWo0wuj+WbZgBk/G1P1bl5t7vHrg/bOecpv9Wsz/YjwBb2P+yP6aujpdk17I/JCrL1DAWsD+beHUs3T6xP5599FKddLE/f7w0Ep6Lqj8KAFWuoOqpP+dW0KthK6k/RLE4wTyhqj/RgMvcrI+dP9avidd/r6U/Q/z1M1t2oz8OCqaKdcOjP2mMewsmqpo/l5EqnEMCoj+1OGGsJ9yUP5FnSCup9p0/l5MXz1+1nj+hgjCP0xCSP2R0woUEhHk/rLzyvm0wgj8=",
           "dtype": "f8"
          },
          "thickness": 1.5,
          "type": "data",
          "width": 0
         },
         "marker": {
          "size": 3,
          "symbol": "circle"
         },
         "mode": "markers",
         "name": "src",
         "showlegend": true,
         "type": "scatter",
         "x": {
          "bdata": "AAAAwO3+IEAAAABAGqkiQAAAAED7eyRAAAAAQHR6JkAAAAAAwH0oQAAAAMC1iSpAAAAAACeiLEAAAABAu8kuQAAAAEAlgDBAAAAAQJe6MUAAAAAA7hMzQAAAAEABczRAAAAAQPjWNUAAAADA/D83QAAAAACSrjhAAAAAwFo+OkAAAAAg9PA7QAAAAED9rD1AAAAAIDtzP0AAAAAgS8lAQAAAAACOyEFAAAAA4CqPQkAAAACAEVpDQAAAACAQKkRAAAAAIP4KRUAAAADgG/1FQAAAAECF9EZAAAAAQOHwR0AAAAAg6f5IQAAAAACsHkpAAAAAABdDS0AAAACgs2tMQAAAAGDapU1AAAAAwFfxTkAAAADACyBQQAAAAADTz1BAAAAAQMSHUUAAAABAhEBSQAAAAEDRAFNAAAAA4EHIU0AAAAAARY9UQAAAAOCkXFVAAAAAgFQwVkAAAABAUgNXQAAAAEC43FdAAAAAAJu8WEAAAABAE5xZQAAAAMA5glpAAAAAAC9vW0AAAADAF2NcQAAAAAAgXl1AAAAAQH1gXkAAAABAW2pfQAAAAKDrPWBAAAAAgHzKYEAAAAAAYFdhQAAAAMAf6GFAAAAA4L58YkAAAACARRVjQAAAAMBHtWNAAAAAgD9ZZEAAAADANAFlQAAAAEArrWVAAAAAYCtdZkAAAAAAORFnQAAAAEBcyWdAAAAAQDqJaEAAAACgPE1pQAAAAABsFWpAAAAAwHTlakAAAABAublrQAAAAEBCkmxAAAAAwMNybUAAAAAATFtuQAAAAIAySG9AAAAA4L8ccEAAAACAeZlwQAAAAMBMGnFAAAAAQGCdcUAAAADgtyJyQAAAAGA4rHJAAAAAoOg5c0AAAABAz8tzQAAAAADzYXRAAAAAQFr8dEAAAACAC5t1QAAAAAANPnZAAAAAwGTldkAAAADAGJF3QAAAAIAuQXhAAAAAgKv1eEAAAADAlK55QAAAAIDkbXpAAAAAAKIze0AAAADAYGZ8QAAAAADnn31AAAAAwLN5fkAAAAAAC1p/QAAAAMBsW4BAAAAAQEQOgUAAAABAA8uBQAAAAGA5jYJAAAAAwH4Tg0AAAAAgG+WDQAAAACAU9YZAAAAAwIGJikA=",
          "dtype": "f8"
         },
         "y": {
          "bdata": "L6klni1eRkB8guAkhEBKQESx9fCIIVFA4VteV3yjVEClMYjsD2hZQBqFEn4pv1tAsEB6wo2qXUC6G3jMrQNgQOvXzhbtAGFAnY/VVEy2YUCueznaBOFgQJJ/SRjdWGBANCOM6bbxYECm89u1MzlgQHCvPj5ECV5AQpOd8JSPWkCa6BJaFbBZQPHuDRObY1dA63PAvJCLVECvaE6ot6FJQGqOSGlJv1NA4EA87BfzTkCOAsM4SKVMQLnTpGCfD0dATxQRYT8eRUCXdCGU6jpFQEEO/DnhvUJATdpe+IRIQ0CFLbNNIuBAQHLb7xikO0BAOpJOLggCP0ABmhIjnWs8QHLrdZ8HFDtA7XqCYRGYOkAxUKrYsuY6QBMwOHLPdzlA9z7usIOqNUAyrDiCvpM2QIPk4FW/1DNA+PugDLDRM0DT07gDBiozQGhHSpqWMDFAd6TbjDTCMEDJSu0RJUEwQAl4fXrtWTBA/kPqk6hAK0CUQiwGuGIoQJIoKXcp7CpAFuXSWaVwKkDP7REeVdcmQBwXSOn2ayVA3SvYJkpJJUC8OtDayI0iQN40IR6cuSFAdYqpU2DaIEAlDB5yPJMdQMO9hm290B5AzQgjxVSjGkCqEtX1+rEbQKW4g8buJxlAkwg2CvGHFUDcd5ToixwVQHFdzDsYBRNAs/4lE9QpFED29dH8skgPQH55EAdh5QxAd8JXzDk2DUB8jH8oESkJQBD3BS40GwpAtRq9dTijAkCeeUirY5ADQISayGs2rgFAaNRQL7YJAEC/v1xcypb6P9zfQWg17Pw/Hdvzm8U+9j9429KSmfb2P+6ruwM1Q/M/G6r5QFfP8j/Mmy/+MvHtP0Bhb3qryu0/gXxNkQml7T9Lt40DVWzlP2jwVjvyoOo/+uKmDXqZ4T+GIT0eunPhP6hQOO7en+E/ExMvITJf2j8d7ARfAhffP8X/jYsBVOA/0DoDcB1Z0z/tTUtGxuPSP1rGjtnxnNI/G36PvXNQ1T9O74dzWifLP0x9NzdcL84/G/v/WUVIyT/3PmdjgZvKP4hBZV8JKsk/TZOeas7Sxz+j/V+XNbLAP4RYi0Nm9sE/Prxu4Vsxwz9OaeoIVte7P9xw7jKdaa8/uxX4qKRIqz8=",
          "dtype": "f8"
         }
        },
        {
         "error_x": {
          "array": {
           "bdata": "AAAAAMa52j8AAAAAzIvaPwAAAABW0N8/AAAAAMr+3z8AAAAAVzXgPwAAAAAEiuA/AAAAAA/94D8AAAAANXzhPwAAAADC7OE/AAAAAH5h5T8AAAAAWsnlPwAAAAAOGeY/AAAAANJl5j8AAAAAvLrmPwAAAADsF+c/AAAAACzh6j8AAAAAAHLrPwAAAAAiD+w/AAAAAJy47D8AAAAAZJnzPwAAAADwneg/AAAAAEgJ6T8AAAAAXLDpPwAAAABQT+o/AAAAADDs7T8AAAAAQJvuPwAAAAAcP+8/AAAAANzX7z8AAAAAENXxPwAAAABKI/I/AAAAABhq8j8AAAAAfKnyPwAAAABcm/Q/AAAAAFLU9D8AAAAApgP1PwAAAAAo7vY/AAAAACgO9z8AAAAA3CH3PwAAAABk8fg/AAAAAMDq+D8AAAAADNb4PwAAAADogfo/AAAAAPxp+j8AAAAAdFX6PwAAAAAMBPw/AAAAAKz0+z8AAAAAZOn7PwAAAAA8oP0/AAAAABSd/T8AAAAAGF3/PwAAAAD0ZP8/AAAAAC6ZAEAAAAAAlqIAQAAAAADojAFAAAAAAEyXAUAAAAAAnKEBQAAAAABMjgJAAAAAAICZAkAAAAAALIgDQAAAAABkeARAAAAAAISFBEAAAAAAzHcFQAAAAADUhQVAAAAAADh6BkAAAAAALIkGQAAAAACsfwdAAAAAANR3CEAAAAAAwIgIQAAAAAAUgwlAAAAAACB/CkAAAAAABJIKQAAAAAA4kAtAAAAAACyQDEAAAAAA4JENQAAAAAC8pw1AAAAAAJyrDkAAAAAAKLEPQAAAAABEXBBAAAAAAJxoEEAAAAAASO0QQAAAAADYchFAAAAAADj5EUAAAAAAcIASQAAAAAB8CBNAAAAAAFiRE0AAAAAA/BoUQAAAAABkpRRAAAAAAIwwFUAAAAAAbLwVQAAAAAAESRZAAAAAADzWFkAAAAAAGGQXQAAAAADYbxhAAAAAAIz/GEAAAAAAEtgpQAAAAABksRpAAAAAAMzBG0AAAAAADFQcQAAAAADEby1AAAAAADiMHkAAAAAAqOkvQAAAAADgoyBAAAAAAHztIEAAAAAAzLwxQAAAAACVEFRAAAAAALElQUA=",
           "dtype": "f8"
          },
          "arrayminus": {
           "bdata": "AAAAAMa52j8AAAAAzIvaPwAAAABW0N8/AAAAAMr+3z8AAAAAVzXgPwAAAAAEiuA/AAAAAA/94D8AAAAANXzhPwAAAADC7OE/AAAAAH5h5T8AAAAAWsnlPwAAAAAOGeY/AAAAANJl5j8AAAAAvLrmPwAAAADsF+c/AAAAACzh6j8AAAAAAHLrPwAAAAAiD+w/AAAAAJy47D8AAAAAZJnzPwAAAADwneg/AAAAAEgJ6T8AAAAAXLDpPwAAAABQT+o/AAAAADDs7T8AAAAAQJvuPwAAAAAcP+8/AAAAANzX7z8AAAAAENXxPwAAAABKI/I/AAAAABhq8j8AAAAAfKnyPwAAAABcm/Q/AAAAAFLU9D8AAAAApgP1PwAAAAAo7vY/AAAAACgO9z8AAAAA3CH3PwAAAABk8fg/AAAAAMDq+D8AAAAADNb4PwAAAADogfo/AAAAAPxp+j8AAAAAdFX6PwAAAAAMBPw/AAAAAKz0+z8AAAAAZOn7PwAAAAA8oP0/AAAAABSd/T8AAAAAGF3/PwAAAAD0ZP8/AAAAAC6ZAEAAAAAAlqIAQAAAAADojAFAAAAAAEyXAUAAAAAAnKEBQAAAAABMjgJAAAAAAICZAkAAAAAALIgDQAAAAABkeARAAAAAAISFBEAAAAAAzHcFQAAAAADUhQVAAAAAADh6BkAAAAAALIkGQAAAAACsfwdAAAAAANR3CEAAAAAAwIgIQAAAAAAUgwlAAAAAACB/CkAAAAAABJIKQAAAAAA4kAtAAAAAACyQDEAAAAAA4JENQAAAAAC8pw1AAAAAAJyrDkAAAAAAKLEPQAAAAABEXBBAAAAAAJxoEEAAAAAASO0QQAAAAADYchFAAAAAADj5EUAAAAAAcIASQAAAAAB8CBNAAAAAAFiRE0AAAAAA/BoUQAAAAABkpRRAAAAAAIwwFUAAAAAAbLwVQAAAAAAESRZAAAAAADzWFkAAAAAAGGQXQAAAAADYbxhAAAAAAIz/GEAAAAAAEtgpQAAAAABksRpAAAAAAMzBG0AAAAAADFQcQAAAAADEby1AAAAAADiMHkAAAAAAqOkvQAAAAADgoyBAAAAAAHztIEAAAAAAzLwxQAAAAACVEFRAAAAAALElQUA=",
           "dtype": "f8"
          },
          "symmetric": false,
          "thickness": 1.5,
          "type": "data",
          "width": 0
         },
         "error_y": {
          "array": {
           "bdata": "sMN+OAbx1D8Mcsj20cPXP1kRVkigXtc/sECcqWaz2z8YRzm5B7beP4Ci/OAst9w/k3GHi34Z3j/rMf7Y87bcP7+TyAPHZd0/h5aUftjw2j87lkV8dDfZPzQXeyOcE9g/CC+OEbZ52j+QM564AKHZP5jW92C9gdc/6JGCGt1n1D/mzIUktB/TP7aA5TggRNI/yAahCVMk0z8mNdlvAn/IP2nMpfmh9tI/dTPytSTwzz8i/bjv3mPKP2nDNyCBUss/QuZe7sWgxj9qyeLE/uXFP7z87iBByMQ/8VfnZTcYxD+Vc3kejq7CPzbnroBoHsI/2w2GIjHbwj+1WJYw8CrAP7nBevkS178/z4hIyR8NwD/wmR4g3lXAPytoJrOkyr8/T9pCvwoivj+vTkjzLbe8PzfnHZl+Urk/Fvw7+S2Qtj8MFBLNh5u1P5X/EG/5m7Q/q2R5cnURtT+93HDXFx+0P/7AqyHWALM/lVVaAKuesT/JJwmvt86wP2MdRFdPN7A/xvSAcI4ksD+sDwQYzZavPxcsi8ChAqs/0095vO5gqj+8vkbjF+SqPzD9llrZsKk/StpVnTG5qD9BXhGC+Q6pP+20M7ZNDKY/vLjKWxnVpj8tDTNA66mlP1ZsZhDk2KI/8wELsREapD+hRoqU5smgP51t2EpLDqI/4Suz9UOmoT9jEejgtQGjP3NsWezuQqE/OcIaOzz0nz8oFjj/vECfPwUMeiG7Wps/sqtCFgxBmD9rUSfACZGZP/HU707SqZc/73iSM2XXlz9L1t4GkYuVPyaB01o1X5U/cqrFvzMklD/lbXXZ5KqTP7r/CaHj+5E/+ssU9hG9kT8BYCsm862RP1Hc4/IpDJE/A5LPqYEVkD83cL+j7R6OP4N1tPtR4Ik/OBrnvdmviD/Xu0iQJSeIP0j1g+7l7oY/Ts3rPVZxhj+NwUAcoyiHP5W/s4BUZ4M/T375QkQIhT+kNdTYe9yEP/TQ1BUWAYI/YDfQhxDtfz+0G/kBCe94P3WXLrJcUYE/Kj1xCj27gD925BvV74eAP5AECGFbcXU/jBHVI/OzeT+bjCDyEd9xP29FtpN+RXc/auPjfiE3dj8+rcoiEctvPxrjYi7Arlo/65CeUpLAYj8=",
           "dtype": "f8"
          },
          "thickness": 1.5,
          "type": "data",
          "width": 0
         },
         "marker": {
          "size": 3,
          "symbol": "circle"
         },
         "mode": "markers",
         "name": "bkg",
         "showlegend": true,
         "type": "scatter",
         "x": {
          "bdata": "AAAAwO3+IEAAAABAGqkiQAAAAED7eyRAAAAAQHR6JkAAAAAAwH0oQAAAAMC1iSpAAAAAACeiLEAAAABAu8kuQAAAAEAlgDBAAAAAQJe6MUAAAAAA7hMzQAAAAEABczRAAAAAQPjWNUAAAADA/D83QAAAAACSrjhAAAAAwFo+OkAAAAAg9PA7QAAAAED9rD1AAAAAIDtzP0AAAAAgS8lAQAAAAACOyEFAAAAA4CqPQkAAAACAEVpDQAAAACAQKkRAAAAAIP4KRUAAAADgG/1FQAAAAECF9EZAAAAAQOHwR0AAAAAg6f5IQAAAAACsHkpAAAAAABdDS0AAAACgs2tMQAAAAGDapU1AAAAAwFfxTkAAAADACyBQQAAAAADTz1BAAAAAQMSHUUAAAABAhEBSQAAAAEDRAFNAAAAA4EHIU0AAAAAARY9UQAAAAOCkXFVAAAAAgFQwVkAAAABAUgNXQAAAAEC43FdAAAAAAJu8WEAAAABAE5xZQAAAAMA5glpAAAAAAC9vW0AAAADAF2NcQAAAAAAgXl1AAAAAQH1gXkAAAABAW2pfQAAAAKDrPWBAAAAAgHzKYEAAAAAAYFdhQAAAAMAf6GFAAAAA4L58YkAAAACARRVjQAAAAMBHtWNAAAAAgD9ZZEAAAADANAFlQAAAAEArrWVAAAAAYCtdZkAAAAAAORFnQAAAAEBcyWdAAAAAQDqJaEAAAACgPE1pQAAAAABsFWpAAAAAwHTlakAAAABAublrQAAAAEBCkmxAAAAAwMNybUAAAAAATFtuQAAAAIAySG9AAAAA4L8ccEAAAACAeZlwQAAAAMBMGnFAAAAAQGCdcUAAAADgtyJyQAAAAGA4rHJAAAAAoOg5c0AAAABAz8tzQAAAAADzYXRAAAAAQFr8dEAAAACAC5t1QAAAAAANPnZAAAAAwGTldkAAAADAGJF3QAAAAIAuQXhAAAAAgKv1eEAAAADAlK55QAAAAIDkbXpAAAAAAKIze0AAAADAYGZ8QAAAAADnn31AAAAAwLN5fkAAAAAAC1p/QAAAAMBsW4BAAAAAQEQOgUAAAABAA8uBQAAAAGA5jYJAAAAAwH4Tg0AAAAAgG+WDQAAAACAU9YZAAAAAwIGJikA=",
          "dtype": "f8"
         },
         "y": {
          "bdata": "rSCy09QqIUALQVVmw+snQFGXNbrHTi1A3UPMMcb9MUAID+sok9s0QE7GnP8C3zZA7YCZaxb6OEDWcwrPpto4QE+nGSUT2jlAK9ASiHY6OEClwc82EqI3QHdvzU1tpzZAxFMlQBzzNUC3CWufKFs1QBAKvr2bkzJApFY6rpKjMUCnljYlH2AwQFiHHoYivi9AuZUw8ArVLEDggOeYS1oiQHPqqwtBxClABKdYDCwtJEB4Sagl+aQgQD8fUDXJwx5AabTamKSnGkBp3ACOp1UZQOGqOWWBLBZAYIOKUMBuFED322LyewgUQN0BWp/QCRRAFSFPO7hwEkAFx45g1FgQQA2OBQlFaQ5Ax6CLNT53D0C9fMjDfsYQQK8xx5272RBAxol8ZWSjDkA+gXNf7ZMKQLJudATUtQZAGWqaCvGNBEAiJCkqUNECQNzwDaLeMwJAJEd2RbydAUDD/64jWCAAQJL6fQUWOQBAXuKYyFUY/z+QiH9lcv35PxZ5Z+JtUfk/fOzZEzmJ9z8urvYhMWX2PxJ9q5gDrPM/KfJVe0fd8z+iwvJb0iryP5m8UJqi/PE/Rk2G0cnP7j+KzOFeqYXvP2j3w2VpDe0/KWnyFnQg6j/UGjP7M0zrPyWJJb06q+Y/jE/gR4Is5z+d1BbJFP7lP7Ht1Sk1POQ/M4+SBg4B5T/yD1QGgb/lP/2ONVApYeU/FB1YmD0m5T/Oooz0I8LhP/8X8ypxT94/NPqSaPSh2T8llJbi8KDWP/sXzOewA9g/l3U0gfdM1z/2rQ3dvc7VP/umxXcuZNY/dx0zhgcr0z/fzmbDD1bSP4dHBgSDHdE/eoVgAKco0T9VxpfkECjQP8wTactNgc4/6/LWHMEHzj8nUe//6sPIP6w2sYGYwMU/rIoxW76zwD+VVxr9X+3AP3B0pG1bU8E/PChyApdWvz8/Zmyx0Fa+P73vKOSPX74/fQbb9TZjuz+TqQHlJoq/PzUJB3Cm8ro/spCw08d7tD9VSljApCq5P4uPHsJEzbg/QKaigJ8tuD8fCrx9gMC6P5HcXcHK/bk/lmdh7fmxsz/utyJ0wMqxP5Smre2dbKw/kjJpFBFarj86S8zUK/utP9sRPjT/TqY/BenydRSpoT8=",
          "dtype": "f8"
         }
        },
        {
         "error_x": {
          "array": {
           "bdata": "AAAAAMa52j8AAAAAzIvaPwAAAABW0N8/AAAAAMr+3z8AAAAAVzXgPwAAAAAEiuA/AAAAAA/94D8AAAAANXzhPwAAAADC7OE/AAAAAH5h5T8AAAAAWsnlPwAAAAAOGeY/AAAAANJl5j8AAAAAvLrmPwAAAADsF+c/AAAAACzh6j8AAAAAAHLrPwAAAAAiD+w/AAAAAJy47D8AAAAAZJnzPwAAAADwneg/AAAAAEgJ6T8AAAAAXLDpPwAAAABQT+o/AAAAADDs7T8AAAAAQJvuPwAAAAAcP+8/AAAAANzX7z8AAAAAENXxPwAAAABKI/I/AAAAABhq8j8AAAAAfKnyPwAAAABcm/Q/AAAAAFLU9D8AAAAApgP1PwAAAAAo7vY/AAAAACgO9z8AAAAA3CH3PwAAAABk8fg/AAAAAMDq+D8AAAAADNb4PwAAAADogfo/AAAAAPxp+j8AAAAAdFX6PwAAAAAMBPw/AAAAAKz0+z8AAAAAZOn7PwAAAAA8oP0/AAAAABSd/T8AAAAAGF3/PwAAAAD0ZP8/AAAAAC6ZAEAAAAAAlqIAQAAAAADojAFAAAAAAEyXAUAAAAAAnKEBQAAAAABMjgJAAAAAAICZAkAAAAAALIgDQAAAAABkeARAAAAAAISFBEAAAAAAzHcFQAAAAADUhQVAAAAAADh6BkAAAAAALIkGQAAAAACsfwdAAAAAANR3CEAAAAAAwIgIQAAAAAAUgwlAAAAAACB/CkAAAAAABJIKQAAAAAA4kAtAAAAAACyQDEAAAAAA4JENQAAAAAC8pw1AAAAAAJyrDkAAAAAAKLEPQAAAAABEXBBAAAAAAJxoEEAAAAAASO0QQAAAAADYchFAAAAAADj5EUAAAAAAcIASQAAAAAB8CBNAAAAAAFiRE0AAAAAA/BoUQAAAAABkpRRAAAAAAIwwFUAAAAAAbLwVQAAAAAAESRZAAAAAADzWFkAAAAAAGGQXQAAAAADYbxhAAAAAAIz/GEAAAAAAEtgpQAAAAABksRpAAAAAAMzBG0AAAAAADFQcQAAAAADEby1AAAAAADiMHkAAAAAAqOkvQAAAAADgoyBAAAAAAHztIEAAAAAAzLwxQAAAAACVEFRAAAAAALElQUA=",
           "dtype": "f8"
          },
          "arrayminus": {
           "bdata": "AAAAAMa52j8AAAAAzIvaPwAAAABW0N8/AAAAAMr+3z8AAAAAVzXgPwAAAAAEiuA/AAAAAA/94D8AAAAANXzhPwAAAADC7OE/AAAAAH5h5T8AAAAAWsnlPwAAAAAOGeY/AAAAANJl5j8AAAAAvLrmPwAAAADsF+c/AAAAACzh6j8AAAAAAHLrPwAAAAAiD+w/AAAAAJy47D8AAAAAZJnzPwAAAADwneg/AAAAAEgJ6T8AAAAAXLDpPwAAAABQT+o/AAAAADDs7T8AAAAAQJvuPwAAAAAcP+8/AAAAANzX7z8AAAAAENXxPwAAAABKI/I/AAAAABhq8j8AAAAAfKnyPwAAAABcm/Q/AAAAAFLU9D8AAAAApgP1PwAAAAAo7vY/AAAAACgO9z8AAAAA3CH3PwAAAABk8fg/AAAAAMDq+D8AAAAADNb4PwAAAADogfo/AAAAAPxp+j8AAAAAdFX6PwAAAAAMBPw/AAAAAKz0+z8AAAAAZOn7PwAAAAA8oP0/AAAAABSd/T8AAAAAGF3/PwAAAAD0ZP8/AAAAAC6ZAEAAAAAAlqIAQAAAAADojAFAAAAAAEyXAUAAAAAAnKEBQAAAAABMjgJAAAAAAICZAkAAAAAALIgDQAAAAABkeARAAAAAAISFBEAAAAAAzHcFQAAAAADUhQVAAAAAADh6BkAAAAAALIkGQAAAAACsfwdAAAAAANR3CEAAAAAAwIgIQAAAAAAUgwlAAAAAACB/CkAAAAAABJIKQAAAAAA4kAtAAAAAACyQDEAAAAAA4JENQAAAAAC8pw1AAAAAAJyrDkAAAAAAKLEPQAAAAABEXBBAAAAAAJxoEEAAAAAASO0QQAAAAADYchFAAAAAADj5EUAAAAAAcIASQAAAAAB8CBNAAAAAAFiRE0AAAAAA/BoUQAAAAABkpRRAAAAAAIwwFUAAAAAAbLwVQAAAAAAESRZAAAAAADzWFkAAAAAAGGQXQAAAAADYbxhAAAAAAIz/GEAAAAAAEtgpQAAAAABksRpAAAAAAMzBG0AAAAAADFQcQAAAAADEby1AAAAAADiMHkAAAAAAqOkvQAAAAADgoyBAAAAAAHztIEAAAAAAzLwxQAAAAACVEFRAAAAAALElQUA=",
           "dtype": "f8"
          },
          "symmetric": false,
          "thickness": 1.5,
          "type": "data",
          "width": 0
         },
         "error_y": {
          "array": {
           "bdata": "1o7YW7/WAkCMcv+q6n4EQN3OSS4GXQVAiYopBn1rB0CEASdXhtEJQAv1shD0pwpA+6AUsJk1C0Apv55rE9ULQIa+0T74UwxAVgDDr8l2CkDuyvPOUJQJQI7yohWQ/AhAZz927SRNCUD3niKMG5MIQLycCfkVcQdAtaNAJGNuBEBj9sOCiN8DQNVkwPYEwgJArzBpw6dpAUAkhvEMW4X3PwGVG4fvagJAhIPz1gAoAEDvWePC06H+P2pFgyEmN/s/EKtq13hk+D+RF1T5tCz4P1l4TGVhfPY//6aG1yKV9j8VA+aQmPnzP02yXnawbPM/1c3oFBLc8j+iTLnQwOjxP7bCbnohpvA/BoaP4Z1q8D/YKPr/N3HwPxaSlGb1pu4/hDTMobA17D/G6gJTcbfsPzKkL7a66Ok/F78CefTf6T9sk2z8EHrpP2ChXVnXXec/oW9QzDof5z+OuSbJBczmP+A1OVH8KOY/TQicZi5B5D/sBgAELi3jP1jaKWeai+M/G+l67NNf4z85p35KsIPhP7HDzIn07eA/HVizeKBp4D/ZOglCbKTeP1TRfaP1KN0/Fv9cR5Jl3D/Bomwnv5jaPx+AFVtvbNo/OZ89cSiS2D+Xbbio/W7YPwPFZGuVutY/Fim6fesJ1T+Jr8XryVTUP+NymEJ7TdM/e2MYD6Rw0z/VzhDopSfRP2bU6ziZItA/BnVZG3XDzz+7kKI4I3fNP38HIa+GX80/j50W52dgyD+RTHGYxvPIP2xz+tdOScc/YnG7HpLQxT/v2LYgLIbDP5qtH5/KUMQ/kZE6TH+MwT/ek1NRJojBP3tIqIJFnb8/3kVA2s0xvz8pGp2V5Hq7PxleK4wz/Lo/tR4NMR1/uj/AJC4sqkO2PwcnNlw1Vrg/5MT/kaCVsz+m0hX13jyzPzN8fZzmDrM/rw6qi1dUsD85uHR4oXyxP+f0ye+Ln7E/OFXH/KUPqz+WJKOWoW+qP2sTTOmZkak//JdDB13tqj8YGD0mFzaeP3mrjIoOHaY/JgUabiDooz91RSms5DCkP0cfKhS7Mps/CHaG0A5Loj9ZC2/eRFWVPwn5EUzqhZ4/pqmLxeg0nz+9HYVtaH+SP0ViI0SNX3o/DB4Ql5rIgj8=",
           "dtype": "f8"
          },
          "thickness": 1.5,
          "type": "data",
          "width": 0
         },
         "marker": {
          "size": 3,
          "symbol": "circle"
         },
         "mode": "markers",
         "name": "net",
         "showlegend": true,
         "type": "scatter",
         "x": {
          "bdata": "AAAAwO3+IEAAAABAGqkiQAAAAED7eyRAAAAAQHR6JkAAAAAAwH0oQAAAAMC1iSpAAAAAACeiLEAAAABAu8kuQAAAAEAlgDBAAAAAQJe6MUAAAAAA7hMzQAAAAEABczRAAAAAQPjWNUAAAADA/D83QAAAAACSrjhAAAAAwFo+OkAAAAAg9PA7QAAAAED9rD1AAAAAIDtzP0AAAAAgS8lAQAAAAACOyEFAAAAA4CqPQkAAAACAEVpDQAAAACAQKkRAAAAAIP4KRUAAAADgG/1FQAAAAECF9EZAAAAAQOHwR0AAAAAg6f5IQAAAAACsHkpAAAAAABdDS0AAAACgs2tMQAAAAGDapU1AAAAAwFfxTkAAAADACyBQQAAAAADTz1BAAAAAQMSHUUAAAABAhEBSQAAAAEDRAFNAAAAA4EHIU0AAAAAARY9UQAAAAOCkXFVAAAAAgFQwVkAAAABAUgNXQAAAAEC43FdAAAAAAJu8WEAAAABAE5xZQAAAAMA5glpAAAAAAC9vW0AAAADAF2NcQAAAAAAgXl1AAAAAQH1gXkAAAABAW2pfQAAAAKDrPWBAAAAAgHzKYEAAAAAAYFdhQAAAAMAf6GFAAAAA4L58YkAAAACARRVjQAAAAMBHtWNAAAAAgD9ZZEAAAADANAFlQAAAAEArrWVAAAAAYCtdZkAAAAAAORFnQAAAAEBcyWdAAAAAQDqJaEAAAACgPE1pQAAAAABsFWpAAAAAwHTlakAAAABAublrQAAAAEBCkmxAAAAAwMNybUAAAAAATFtuQAAAAIAySG9AAAAA4L8ccEAAAACAeZlwQAAAAMBMGnFAAAAAQGCdcUAAAADgtyJyQAAAAGA4rHJAAAAAoOg5c0AAAABAz8tzQAAAAADzYXRAAAAAQFr8dEAAAACAC5t1QAAAAAANPnZAAAAAwGTldkAAAADAGJF3QAAAAIAuQXhAAAAAgKv1eEAAAADAlK55QAAAAIDkbXpAAAAAAKIze0AAAADAYGZ8QAAAAADnn31AAAAAwLN5fkAAAAAAC1p/QAAAAMBsW4BAAAAAQEQOgUAAAABAA8uBQAAAAGA5jYJAAAAAwH4Tg0AAAAAgG+WDQAAAACAU9YZAAAAAwIGJikA=",
          "dtype": "f8"
         },
         "y": {
          "bdata": "BCE5aXgTQkA5MktLk0VEQLT8XfNf70pA6krrygokUEDjbU0iKzFUQIZTK75oB1ZAdeCTJwhsV0B+mi3lsdBZQAJGV2RVi1tAL2umB/tdXUDzBr8mhdlbQEajH93eB1tAd/EOw6ZmXEDeJN1DnRtbQOwsz05dZFlAmf0ORbAmVkDwQsWQDZhVQAYeSsLWa1NANGG6Xu/wUEB3iBTCJAtFQBwR00fBhlBAHxcm6cznSUAw8FjvCXxIQNHP+jkmN0NAwr31zUrJQUAKWWGiNRBCQMqxqRqi8D9A4YlN7qy6QEAMpM2eJb48QG02CQrUdDtA9cl6H9plOkBA6O4KaFU4QLA5Vf7eRjdA1AbRmimpNkACMbgnE7U2QKdjxopgQTVAvq0+JBfWMUAKPErWQEEzQK1WUtUE/jBAta5N6/E/MUBPr3P+288wQJkSEYw11C1AJbdZCPocLUCh1e4aNHosQG5xm3OVpSxAsifX2p1dJ0CCUXy5CSMlQG853Lr7wSdAhqdXN35/J0AJGNP5rgokQHqnMnZ29iJAmG1tN6HNIkBo4lGPbkggQJY6rpUP9B5AQUsibcfaHUCU0kFGh6IZQNY+zkAQLxtAqLtEQkZfF0BQr252dEgYQIAH326HUhZAov45wWCiEkBInXFPyVwSQLufkZaRfRBAzaxTUrKJEUD68Ty70tgJQL8VA7MWjQdAMrtBZqrsB0DIY1wriLgEQBCUpwhGUQZA3XZV0fPd/j8Zp/WORbwAQAkvnp2AW/0/aotUfi5A+j9CVBnlGiP1Px12UMopU/c/vxNnugN08T/AJ/mhFWHyPxg0dIWo9+0/eRHDAVsK7T+iuOOLKt3lP00clQdYKuY/xr8XShkj5j8CxiOHtHbeP72i6hrMMOU/ngC17RTZ2j9CF+09xHDaPxhnniUQlto/BImSYIyJ0j+N0qkyToHXP5vDER4fENk/YvIYZZ8AyT8QxxUaeQLGPxoIGnuQwMc/7lmjyIEx0D9HlLcmECS9P4Y1KNa5yME/9k9dM+tiuj/PcxJJgna6P3+mbP1HVrg/BL/b56Lzuz+whjp1VTOvP77dP5B9trU/M9+oOK81tz9ihwg9gLOpPwK+YP07NZI/bFkKZiA/kz8=",
          "dtype": "f8"
         }
        }
       ],
       "layout": {
        "height": 600,
        "legend": {
         "x": 1,
         "xanchor": "right",
         "y": 1,
         "yanchor": "bottom"
        },
        "template": {
         "data": {
          "bar": [
           {
            "error_x": {
             "color": "#2a3f5f"
            },
            "error_y": {
             "color": "#2a3f5f"
            },
            "marker": {
             "line": {
              "color": "white",
              "width": 0.5
             },
             "pattern": {
              "fillmode": "overlay",
              "size": 10,
              "solidity": 0.2
             }
            },
            "type": "bar"
           }
          ],
          "barpolar": [
           {
            "marker": {
             "line": {
              "color": "white",
              "width": 0.5
             },
             "pattern": {
              "fillmode": "overlay",
              "size": 10,
              "solidity": 0.2
             }
            },
            "type": "barpolar"
           }
          ],
          "carpet": [
           {
            "aaxis": {
             "endlinecolor": "#2a3f5f",
             "gridcolor": "#C8D4E3",
             "linecolor": "#C8D4E3",
             "minorgridcolor": "#C8D4E3",
             "startlinecolor": "#2a3f5f"
            },
            "baxis": {
             "endlinecolor": "#2a3f5f",
             "gridcolor": "#C8D4E3",
             "linecolor": "#C8D4E3",
             "minorgridcolor": "#C8D4E3",
             "startlinecolor": "#2a3f5f"
            },
            "type": "carpet"
           }
          ],
          "choropleth": [
           {
            "colorbar": {
             "outlinewidth": 0,
             "ticks": ""
            },
            "type": "choropleth"
           }
          ],
          "contour": [
           {
            "colorbar": {
             "outlinewidth": 0,
             "ticks": ""
            },
            "colorscale": [
             [
              0,
              "#0d0887"
             ],
             [
              0.1111111111111111,
              "#46039f"
             ],
             [
              0.2222222222222222,
              "#7201a8"
             ],
             [
              0.3333333333333333,
              "#9c179e"
             ],
             [
              0.4444444444444444,
              "#bd3786"
             ],
             [
              0.5555555555555556,
              "#d8576b"
             ],
             [
              0.6666666666666666,
              "#ed7953"
             ],
             [
              0.7777777777777778,
              "#fb9f3a"
             ],
             [
              0.8888888888888888,
              "#fdca26"
             ],
             [
              1,
              "#f0f921"
             ]
            ],
            "type": "contour"
           }
          ],
          "contourcarpet": [
           {
            "colorbar": {
             "outlinewidth": 0,
             "ticks": ""
            },
            "type": "contourcarpet"
           }
          ],
          "heatmap": [
           {
            "colorbar": {
             "outlinewidth": 0,
             "ticks": ""
            },
            "colorscale": [
             [
              0,
              "#0d0887"
             ],
             [
              0.1111111111111111,
              "#46039f"
             ],
             [
              0.2222222222222222,
              "#7201a8"
             ],
             [
              0.3333333333333333,
              "#9c179e"
             ],
             [
              0.4444444444444444,
              "#bd3786"
             ],
             [
              0.5555555555555556,
              "#d8576b"
             ],
             [
              0.6666666666666666,
              "#ed7953"
             ],
             [
              0.7777777777777778,
              "#fb9f3a"
             ],
             [
              0.8888888888888888,
              "#fdca26"
             ],
             [
              1,
              "#f0f921"
             ]
            ],
            "type": "heatmap"
           }
          ],
          "histogram": [
           {
            "marker": {
             "pattern": {
              "fillmode": "overlay",
              "size": 10,
              "solidity": 0.2
             }
            },
            "type": "histogram"
           }
          ],
          "histogram2d": [
           {
            "colorbar": {
             "outlinewidth": 0,
             "ticks": ""
            },
            "colorscale": [
             [
              0,
              "#0d0887"
             ],
             [
              0.1111111111111111,
              "#46039f"
             ],
             [
              0.2222222222222222,
              "#7201a8"
             ],
             [
              0.3333333333333333,
              "#9c179e"
             ],
             [
              0.4444444444444444,
              "#bd3786"
             ],
             [
              0.5555555555555556,
              "#d8576b"
             ],
             [
              0.6666666666666666,
              "#ed7953"
             ],
             [
              0.7777777777777778,
              "#fb9f3a"
             ],
             [
              0.8888888888888888,
              "#fdca26"
             ],
             [
              1,
              "#f0f921"
             ]
            ],
            "type": "histogram2d"
           }
          ],
          "histogram2dcontour": [
           {
            "colorbar": {
             "outlinewidth": 0,
             "ticks": ""
            },
            "colorscale": [
             [
              0,
              "#0d0887"
             ],
             [
              0.1111111111111111,
              "#46039f"
             ],
             [
              0.2222222222222222,
              "#7201a8"
             ],
             [
              0.3333333333333333,
              "#9c179e"
             ],
             [
              0.4444444444444444,
              "#bd3786"
             ],
             [
              0.5555555555555556,
              "#d8576b"
             ],
             [
              0.6666666666666666,
              "#ed7953"
             ],
             [
              0.7777777777777778,
              "#fb9f3a"
             ],
             [
              0.8888888888888888,
              "#fdca26"
             ],
             [
              1,
              "#f0f921"
             ]
            ],
            "type": "histogram2dcontour"
           }
          ],
          "mesh3d": [
           {
            "colorbar": {
             "outlinewidth": 0,
             "ticks": ""
            },
            "type": "mesh3d"
           }
          ],
          "parcoords": [
           {
            "line": {
             "colorbar": {
              "outlinewidth": 0,
              "ticks": ""
             }
            },
            "type": "parcoords"
           }
          ],
          "pie": [
           {
            "automargin": true,
            "type": "pie"
           }
          ],
          "scatter": [
           {
            "fillpattern": {
             "fillmode": "overlay",
             "size": 10,
             "solidity": 0.2
            },
            "type": "scatter"
           }
          ],
          "scatter3d": [
           {
            "line": {
             "colorbar": {
              "outlinewidth": 0,
              "ticks": ""
             }
            },
            "marker": {
             "colorbar": {
              "outlinewidth": 0,
              "ticks": ""
             }
            },
            "type": "scatter3d"
           }
          ],
          "scattercarpet": [
           {
            "marker": {
             "colorbar": {
              "outlinewidth": 0,
              "ticks": ""
             }
            },
            "type": "scattercarpet"
           }
          ],
          "scattergeo": [
           {
            "marker": {
             "colorbar": {
              "outlinewidth": 0,
              "ticks": ""
             }
            },
            "type": "scattergeo"
           }
          ],
          "scattergl": [
           {
            "marker": {
             "colorbar": {
              "outlinewidth": 0,
              "ticks": ""
             }
            },
            "type": "scattergl"
           }
          ],
          "scattermap": [
           {
            "marker": {
             "colorbar": {
              "outlinewidth": 0,
              "ticks": ""
             }
            },
            "type": "scattermap"
           }
          ],
          "scattermapbox": [
           {
            "marker": {
             "colorbar": {
              "outlinewidth": 0,
              "ticks": ""
             }
            },
            "type": "scattermapbox"
           }
          ],
          "scatterpolar": [
           {
            "marker": {
             "colorbar": {
              "outlinewidth": 0,
              "ticks": ""
             }
            },
            "type": "scatterpolar"
           }
          ],
          "scatterpolargl": [
           {
            "marker": {
             "colorbar": {
              "outlinewidth": 0,
              "ticks": ""
             }
            },
            "type": "scatterpolargl"
           }
          ],
          "scatterternary": [
           {
            "marker": {
             "colorbar": {
              "outlinewidth": 0,
              "ticks": ""
             }
            },
            "type": "scatterternary"
           }
          ],
          "surface": [
           {
            "colorbar": {
             "outlinewidth": 0,
             "ticks": ""
            },
            "colorscale": [
             [
              0,
              "#0d0887"
             ],
             [
              0.1111111111111111,
              "#46039f"
             ],
             [
              0.2222222222222222,
              "#7201a8"
             ],
             [
              0.3333333333333333,
              "#9c179e"
             ],
             [
              0.4444444444444444,
              "#bd3786"
             ],
             [
              0.5555555555555556,
              "#d8576b"
             ],
             [
              0.6666666666666666,
              "#ed7953"
             ],
             [
              0.7777777777777778,
              "#fb9f3a"
             ],
             [
              0.8888888888888888,
              "#fdca26"
             ],
             [
              1,
              "#f0f921"
             ]
            ],
            "type": "surface"
           }
          ],
          "table": [
           {
            "cells": {
             "fill": {
              "color": "#EBF0F8"
             },
             "line": {
              "color": "white"
             }
            },
            "header": {
             "fill": {
              "color": "#C8D4E3"
             },
             "line": {
              "color": "white"
             }
            },
            "type": "table"
           }
          ]
         },
         "layout": {
          "annotationdefaults": {
           "arrowcolor": "#2a3f5f",
           "arrowhead": 0,
           "arrowwidth": 1
          },
          "autotypenumbers": "strict",
          "coloraxis": {
           "colorbar": {
            "outlinewidth": 0,
            "ticks": ""
           }
          },
          "colorscale": {
           "diverging": [
            [
             0,
             "#8e0152"
            ],
            [
             0.1,
             "#c51b7d"
            ],
            [
             0.2,
             "#de77ae"
            ],
            [
             0.3,
             "#f1b6da"
            ],
            [
             0.4,
             "#fde0ef"
            ],
            [
             0.5,
             "#f7f7f7"
            ],
            [
             0.6,
             "#e6f5d0"
            ],
            [
             0.7,
             "#b8e186"
            ],
            [
             0.8,
             "#7fbc41"
            ],
            [
             0.9,
             "#4d9221"
            ],
            [
             1,
             "#276419"
            ]
           ],
           "sequential": [
            [
             0,
             "#0d0887"
            ],
            [
             0.1111111111111111,
             "#46039f"
            ],
            [
             0.2222222222222222,
             "#7201a8"
            ],
            [
             0.3333333333333333,
             "#9c179e"
            ],
            [
             0.4444444444444444,
             "#bd3786"
            ],
            [
             0.5555555555555556,
             "#d8576b"
            ],
            [
             0.6666666666666666,
             "#ed7953"
            ],
            [
             0.7777777777777778,
             "#fb9f3a"
            ],
            [
             0.8888888888888888,
             "#fdca26"
            ],
            [
             1,
             "#f0f921"
            ]
           ],
           "sequentialminus": [
            [
             0,
             "#0d0887"
            ],
            [
             0.1111111111111111,
             "#46039f"
            ],
            [
             0.2222222222222222,
             "#7201a8"
            ],
            [
             0.3333333333333333,
             "#9c179e"
            ],
            [
             0.4444444444444444,
             "#bd3786"
            ],
            [
             0.5555555555555556,
             "#d8576b"
            ],
            [
             0.6666666666666666,
             "#ed7953"
            ],
            [
             0.7777777777777778,
             "#fb9f3a"
            ],
            [
             0.8888888888888888,
             "#fdca26"
            ],
            [
             1,
             "#f0f921"
            ]
           ]
          },
          "colorway": [
           "#636efa",
           "#EF553B",
           "#00cc96",
           "#ab63fa",
           "#FFA15A",
           "#19d3f3",
           "#FF6692",
           "#B6E880",
           "#FF97FF",
           "#FECB52"
          ],
          "font": {
           "color": "#2a3f5f"
          },
          "geo": {
           "bgcolor": "white",
           "lakecolor": "white",
           "landcolor": "white",
           "showlakes": true,
           "showland": true,
           "subunitcolor": "#C8D4E3"
          },
          "hoverlabel": {
           "align": "left"
          },
          "hovermode": "closest",
          "mapbox": {
           "style": "light"
          },
          "paper_bgcolor": "white",
          "plot_bgcolor": "white",
          "polar": {
           "angularaxis": {
            "gridcolor": "#EBF0F8",
            "linecolor": "#EBF0F8",
            "ticks": ""
           },
           "bgcolor": "white",
           "radialaxis": {
            "gridcolor": "#EBF0F8",
            "linecolor": "#EBF0F8",
            "ticks": ""
           }
          },
          "scene": {
           "xaxis": {
            "backgroundcolor": "white",
            "gridcolor": "#DFE8F3",
            "gridwidth": 2,
            "linecolor": "#EBF0F8",
            "showbackground": true,
            "ticks": "",
            "zerolinecolor": "#EBF0F8"
           },
           "yaxis": {
            "backgroundcolor": "white",
            "gridcolor": "#DFE8F3",
            "gridwidth": 2,
            "linecolor": "#EBF0F8",
            "showbackground": true,
            "ticks": "",
            "zerolinecolor": "#EBF0F8"
           },
           "zaxis": {
            "backgroundcolor": "white",
            "gridcolor": "#DFE8F3",
            "gridwidth": 2,
            "linecolor": "#EBF0F8",
            "showbackground": true,
            "ticks": "",
            "zerolinecolor": "#EBF0F8"
           }
          },
          "shapedefaults": {
           "line": {
            "color": "#2a3f5f"
           }
          },
          "ternary": {
           "aaxis": {
            "gridcolor": "#DFE8F3",
            "linecolor": "#A2B1C6",
            "ticks": ""
           },
           "baxis": {
            "gridcolor": "#DFE8F3",
            "linecolor": "#A2B1C6",
            "ticks": ""
           },
           "bgcolor": "white",
           "caxis": {
            "gridcolor": "#DFE8F3",
            "linecolor": "#A2B1C6",
            "ticks": ""
           }
          },
          "title": {
           "x": 0.05
          },
          "xaxis": {
           "automargin": true,
           "gridcolor": "#EBF0F8",
           "linecolor": "#EBF0F8",
           "ticks": "",
           "title": {
            "standoff": 15
           },
           "zerolinecolor": "#EBF0F8",
           "zerolinewidth": 2
          },
          "yaxis": {
           "automargin": true,
           "gridcolor": "#EBF0F8",
           "linecolor": "#EBF0F8",
           "ticks": "",
           "title": {
            "standoff": 15
           },
           "zerolinecolor": "#EBF0F8",
           "zerolinewidth": 2
          }
         }
        },
        "width": 600,
        "xaxis": {
         "title": {
          "text": "Energy (keV)"
         },
         "type": "log"
        },
        "yaxis": {
         "title": {
          "text": "Counts/s/keV"
         },
         "type": "log"
        }
       }
      }
     },
     "metadata": {},
     "output_type": "display_data"
    }
   ],
   "source": [
    "fig = Plot.dataunit(me, style='CE')"
   ]
  },
  {
   "cell_type": "code",
   "execution_count": 5,
   "id": "08605f1f-913e-45f4-addc-d00175a89806",
   "metadata": {},
   "outputs": [
    {
     "name": "stdout",
     "output_type": "stream",
     "text": [
      "╒════════════╤═════════════════════════════════╕\n",
      "│  property  │               me2               │\n",
      "╞════════════╪═════════════════════════════════╡\n",
      "│    src     │            me.src2:4            │\n",
      "├────────────┼─────────────────────────────────┤\n",
      "│    bkg     │            me.bkg2:4            │\n",
      "├────────────┼─────────────────────────────────┤\n",
      "│    rmf     │              None               │\n",
      "├────────────┼─────────────────────────────────┤\n",
      "│    arf     │              None               │\n",
      "├────────────┼─────────────────────────────────┤\n",
      "│    rsp     │             me.rsp2             │\n",
      "├────────────┼─────────────────────────────────┤\n",
      "│    notc    │      [[15, 35], [42, 100]]      │\n",
      "├────────────┼─────────────────────────────────┤\n",
      "│    stat    │             pgstat              │\n",
      "├────────────┼─────────────────────────────────┤\n",
      "│    grpg    │ {'min_sigma': 3, 'max_bin': 10} │\n",
      "├────────────┼─────────────────────────────────┤\n",
      "│    time    │              None               │\n",
      "├────────────┼─────────────────────────────────┤\n",
      "│   weight   │                1                │\n",
      "╘════════════╧═════════════════════════════════╛\n",
      "\n"
     ]
    }
   ],
   "source": [
    "me2 = DataUnit(\n",
    "    src='./ME/me.src2:4', \n",
    "    bkg='./ME/me.bkg2:4', \n",
    "    rsp='./ME/me.rsp2', \n",
    "    notc=[[15, 35], [42, 100]], \n",
    "    stat='pgstat', \n",
    "    grpg={'min_sigma': 3, 'max_bin': 10}\n",
    "    )\n",
    "print(me2)"
   ]
  },
  {
   "cell_type": "code",
   "execution_count": 6,
   "id": "53e51862-2fbe-4670-a2cb-15eeb368a2ca",
   "metadata": {},
   "outputs": [
    {
     "name": "stdout",
     "output_type": "stream",
     "text": [
      "╒════════════╤═════════════════════════════════╕\n",
      "│  property  │               he                │\n",
      "╞════════════╪═════════════════════════════════╡\n",
      "│    src     │             he.src              │\n",
      "├────────────┼─────────────────────────────────┤\n",
      "│    bkg     │             he.bkg              │\n",
      "├────────────┼─────────────────────────────────┤\n",
      "│    rmf     │              None               │\n",
      "├────────────┼─────────────────────────────────┤\n",
      "│    arf     │              None               │\n",
      "├────────────┼─────────────────────────────────┤\n",
      "│    rsp     │             he.rsp              │\n",
      "├────────────┼─────────────────────────────────┤\n",
      "│    notc    │         [[300, 38000]]          │\n",
      "├────────────┼─────────────────────────────────┤\n",
      "│    stat    │             pgstat              │\n",
      "├────────────┼─────────────────────────────────┤\n",
      "│    grpg    │ {'min_sigma': 3, 'max_bin': 10} │\n",
      "├────────────┼─────────────────────────────────┤\n",
      "│    time    │              None               │\n",
      "├────────────┼─────────────────────────────────┤\n",
      "│   weight   │                1                │\n",
      "╘════════════╧═════════════════════════════════╛\n",
      "\n"
     ]
    }
   ],
   "source": [
    "he = DataUnit(\n",
    "    src='./HE/he.src', \n",
    "    bkg='./HE/he.bkg', \n",
    "    rsp='./HE/he.rsp', \n",
    "    notc=[300, 38000], \n",
    "    stat='pgstat', \n",
    "    grpg={'min_sigma': 3, 'max_bin': 10}\n",
    "    )\n",
    "print(he)"
   ]
  },
  {
   "cell_type": "code",
   "execution_count": 7,
   "id": "2b603012-b9c0-4bf1-a49e-946c6e8b3fed",
   "metadata": {},
   "outputs": [
    {
     "name": "stdout",
     "output_type": "stream",
     "text": [
      "╒════════════╤═════════════════╕\n",
      "│  property  │       le        │\n",
      "╞════════════╪═════════════════╡\n",
      "│    src     │     le.src      │\n",
      "├────────────┼─────────────────┤\n",
      "│    bkg     │     le.bkg      │\n",
      "├────────────┼─────────────────┤\n",
      "│    rmf     │     le.rmf      │\n",
      "├────────────┼─────────────────┤\n",
      "│    arf     │     le.arf      │\n",
      "├────────────┼─────────────────┤\n",
      "│    rsp     │      None       │\n",
      "├────────────┼─────────────────┤\n",
      "│    notc    │   [[0.5, 4]]    │\n",
      "├────────────┼─────────────────┤\n",
      "│    stat    │      cstat      │\n",
      "├────────────┼─────────────────┤\n",
      "│    grpg    │ {'min_evt': 10} │\n",
      "├────────────┼─────────────────┤\n",
      "│    time    │      None       │\n",
      "├────────────┼─────────────────┤\n",
      "│   weight   │        1        │\n",
      "╘════════════╧═════════════════╛\n",
      "\n"
     ]
    }
   ],
   "source": [
    "le = DataUnit(\n",
    "    src='./LE/le.src', \n",
    "    bkg='./LE/le.bkg', \n",
    "    rmf='./LE/le.rmf', \n",
    "    arf='./LE/le.arf', \n",
    "    notc=[0.5, 4], \n",
    "    stat='cstat', \n",
    "    grpg={'min_evt': 10}\n",
    "    )\n",
    "print(le)"
   ]
  },
  {
   "cell_type": "code",
   "execution_count": 8,
   "id": "976a7228-f0cb-43fb-9bce-3e7ad03f1646",
   "metadata": {},
   "outputs": [
    {
     "name": "stdout",
     "output_type": "stream",
     "text": [
      "╒════════╤════════════╤═════════════╤═════════════════════════════════╤════════╕\n",
      "│  Name  │  Noticing  │  Statistic  │            Grouping             │  Time  │\n",
      "╞════════╪════════════╪═════════════╪═════════════════════════════════╪════════╡\n",
      "│   LE   │ [[0.5, 4]] │    cstat    │         {'min_evt': 10}         │  None  │\n",
      "├────────┼────────────┼─────────────┼─────────────────────────────────┼────────┤\n",
      "│   ME   │ [[8, 900]] │   pgstat    │ {'min_sigma': 3, 'max_bin': 10} │  None  │\n",
      "╘════════╧════════════╧═════════════╧═════════════════════════════════╧════════╛\n",
      "╒════════╤═════════════╤═════════════╤═════════╤═════════╤══════════╕\n",
      "│  par#  │  Component  │  Parameter  │  Value  │  Prior  │  Frozen  │\n",
      "╞════════╪═════════════╪═════════════╪═════════╪═════════╪══════════╡\n",
      "│   1    │     LE      │     sf      │    1    │  None   │   True   │\n",
      "├────────┼─────────────┼─────────────┼─────────┼─────────┼──────────┤\n",
      "│   2    │     LE      │     bf      │    1    │  None   │   True   │\n",
      "├────────┼─────────────┼─────────────┼─────────┼─────────┼──────────┤\n",
      "│   3    │     LE      │     rf      │    1    │  None   │   True   │\n",
      "├────────┼─────────────┼─────────────┼─────────┼─────────┼──────────┤\n",
      "│   4    │     LE      │     ra      │    0    │  None   │   True   │\n",
      "├────────┼─────────────┼─────────────┼─────────┼─────────┼──────────┤\n",
      "│   5    │     LE      │     dec     │    0    │  None   │   True   │\n",
      "├────────┼─────────────┼─────────────┼─────────┼─────────┼──────────┤\n",
      "│   6    │     ME      │     sf      │    1    │  None   │   True   │\n",
      "├────────┼─────────────┼─────────────┼─────────┼─────────┼──────────┤\n",
      "│   7    │     ME      │     bf      │    1    │  None   │   True   │\n",
      "├────────┼─────────────┼─────────────┼─────────┼─────────┼──────────┤\n",
      "│   8    │     ME      │     rf      │    1    │  None   │   True   │\n",
      "├────────┼─────────────┼─────────────┼─────────┼─────────┼──────────┤\n",
      "│   9    │     ME      │     ra      │    0    │  None   │   True   │\n",
      "├────────┼─────────────┼─────────────┼─────────┼─────────┼──────────┤\n",
      "│   10   │     ME      │     dec     │    0    │  None   │   True   │\n",
      "╘════════╧═════════════╧═════════════╧═════════╧═════════╧══════════╛\n",
      "\n"
     ]
    }
   ],
   "source": [
    "data = Data([('LE', le), ('ME', me)])\n",
    "print(data)"
   ]
  },
  {
   "cell_type": "code",
   "execution_count": 9,
   "id": "9805c14a-90b3-40f3-9d1d-e0800bdd8bf0",
   "metadata": {},
   "outputs": [
    {
     "data": {
      "text/plain": [
       "False"
      ]
     },
     "execution_count": 9,
     "metadata": {},
     "output_type": "execute_result"
    }
   ],
   "source": [
    "del data['ME']\n",
    "'ME' in data"
   ]
  },
  {
   "cell_type": "code",
   "execution_count": 10,
   "id": "7f0c42cc-0e16-4c49-84de-e0a5d2db1b15",
   "metadata": {},
   "outputs": [
    {
     "name": "stdout",
     "output_type": "stream",
     "text": [
      "╒════════╤════════════════╤═════════════╤═════════════════════════════════╤════════╕\n",
      "│  Name  │    Noticing    │  Statistic  │            Grouping             │  Time  │\n",
      "╞════════╪════════════════╪═════════════╪═════════════════════════════════╪════════╡\n",
      "│   LE   │   [[0.5, 4]]   │    cstat    │         {'min_evt': 10}         │  None  │\n",
      "├────────┼────────────────┼─────────────┼─────────────────────────────────┼────────┤\n",
      "│   ME   │   [[8, 900]]   │   pgstat    │ {'min_sigma': 3, 'max_bin': 10} │  None  │\n",
      "├────────┼────────────────┼─────────────┼─────────────────────────────────┼────────┤\n",
      "│   HE   │ [[300, 38000]] │   pgstat    │ {'min_sigma': 3, 'max_bin': 10} │  None  │\n",
      "╘════════╧════════════════╧═════════════╧═════════════════════════════════╧════════╛\n",
      "╒════════╤═════════════╤═════════════╤═════════╤═════════╤══════════╕\n",
      "│  par#  │  Component  │  Parameter  │  Value  │  Prior  │  Frozen  │\n",
      "╞════════╪═════════════╪═════════════╪═════════╪═════════╪══════════╡\n",
      "│   1    │     LE      │     sf      │    1    │  None   │   True   │\n",
      "├────────┼─────────────┼─────────────┼─────────┼─────────┼──────────┤\n",
      "│   2    │     LE      │     bf      │    1    │  None   │   True   │\n",
      "├────────┼─────────────┼─────────────┼─────────┼─────────┼──────────┤\n",
      "│   3    │     LE      │     rf      │    1    │  None   │   True   │\n",
      "├────────┼─────────────┼─────────────┼─────────┼─────────┼──────────┤\n",
      "│   4    │     LE      │     ra      │    0    │  None   │   True   │\n",
      "├────────┼─────────────┼─────────────┼─────────┼─────────┼──────────┤\n",
      "│   5    │     LE      │     dec     │    0    │  None   │   True   │\n",
      "├────────┼─────────────┼─────────────┼─────────┼─────────┼──────────┤\n",
      "│   6    │     ME      │     sf      │    1    │  None   │   True   │\n",
      "├────────┼─────────────┼─────────────┼─────────┼─────────┼──────────┤\n",
      "│   7    │     ME      │     bf      │    1    │  None   │   True   │\n",
      "├────────┼─────────────┼─────────────┼─────────┼─────────┼──────────┤\n",
      "│   8    │     ME      │     rf      │    1    │  None   │   True   │\n",
      "├────────┼─────────────┼─────────────┼─────────┼─────────┼──────────┤\n",
      "│   9    │     ME      │     ra      │    0    │  None   │   True   │\n",
      "├────────┼─────────────┼─────────────┼─────────┼─────────┼──────────┤\n",
      "│   10   │     ME      │     dec     │    0    │  None   │   True   │\n",
      "├────────┼─────────────┼─────────────┼─────────┼─────────┼──────────┤\n",
      "│   11   │     HE      │     sf      │    1    │  None   │   True   │\n",
      "├────────┼─────────────┼─────────────┼─────────┼─────────┼──────────┤\n",
      "│   12   │     HE      │     bf      │    1    │  None   │   True   │\n",
      "├────────┼─────────────┼─────────────┼─────────┼─────────┼──────────┤\n",
      "│   13   │     HE      │     rf      │    1    │  None   │   True   │\n",
      "├────────┼─────────────┼─────────────┼─────────┼─────────┼──────────┤\n",
      "│   14   │     HE      │     ra      │    0    │  None   │   True   │\n",
      "├────────┼─────────────┼─────────────┼─────────┼─────────┼──────────┤\n",
      "│   15   │     HE      │     dec     │    0    │  None   │   True   │\n",
      "╘════════╧═════════════╧═════════════╧═════════╧═════════╧══════════╛\n",
      "\n"
     ]
    }
   ],
   "source": [
    "data['ME'] = me\n",
    "data['HE'] = he\n",
    "print(data)"
   ]
  },
  {
   "cell_type": "code",
   "execution_count": 11,
   "id": "43bd2ed2-f6f7-413d-a42a-5a8e1ba4fb6b",
   "metadata": {},
   "outputs": [
    {
     "data": {
      "application/vnd.plotly.v1+json": {
       "config": {
        "plotlyServerURL": "https://plot.ly"
       },
       "data": [
        {
         "error_x": {
          "array": {
           "bdata": "AAAAgI/CtT8AAAAA4XqkPwAAAAD2KKw/AAAAAJqZmT8AAAAAheuhPwAAAADgepQ/AAAAAOB6lD8AAAAA5HqUPwAAAACYmZk/AAAAAJyZmT8AAAAA4HqkPwAAAACamak/AAAAAIbroT8AAAAAmJmZPwAAAAA+Cqc/AAAAAOtRuD8AAAAAPgq3PwAAAABcj8I/AAAAAOF6xD8AAAAAexTWPwAAAIAUrtc/",
           "dtype": "f8"
          },
          "arrayminus": {
           "bdata": "AAAAgI/CtT8AAAAA4XqkPwAAAAD2KKw/AAAAAJqZmT8AAAAAheuhPwAAAADgepQ/AAAAAOB6lD8AAAAA5HqUPwAAAACYmZk/AAAAAJyZmT8AAAAA4HqkPwAAAACamak/AAAAAIbroT8AAAAAmJmZPwAAAAA+Cqc/AAAAAOtRuD8AAAAAPgq3PwAAAABcj8I/AAAAAOF6xD8AAAAAexTWPwAAAIAUrtc/",
           "dtype": "f8"
          },
          "color": "#636EFA",
          "symmetric": false,
          "thickness": 1.5,
          "type": "data",
          "width": 0
         },
         "error_y": {
          "array": {
           "bdata": "kOFN0FUT1z8PSUhiEz3UPw9JSGITPdQ/D0lIYhM91D/DJTFD9TnVP8MlMUP1OdU/D0lIYhM91D/DJTFD9TnVP8QlMUP1OdU/wyUxQ/U51T8iCq2GlSvWPw9JSGITPdQ/xCUxQ/U51T8iCq2GlSvWP8MlMUP1OdU/xCUxQ/U51T8iCq2GlSvWP8MlMUP1OdU/xCUxQ/U51T/EJTFD9TnVP0hyP/R+ydg/",
           "dtype": "f8"
          },
          "color": "#636EFA",
          "thickness": 1.5,
          "type": "data",
          "width": 0
         },
         "marker": {
          "color": "#636EFA",
          "size": 3,
          "symbol": "circle"
         },
         "mode": "markers",
         "name": "obs of LE",
         "showlegend": true,
         "type": "scatter",
         "x": {
          "bdata": "AAAAAFK44j8AAAAAUrjmPwAAAGCPwuk/AAAAgOtR7D8AAADAcD3uPwAAAAAAAPA/AAAAANej8D8AAAAArkfxPwAAAAAAAPI/AAAAwMzM8j8AAABACtfzPwAAAACuR/U/AAAAANej9j8AAACgmZn3PwAAAABSuPg/AAAAgML1+j8AAAAghev9PwAAAEAK1wBAAAAAAK5HA0AAAACA61EHQAAAAIA9Cg1A",
          "dtype": "f8"
         },
         "y": {
          "bdata": "mZmZmZmZ8T8AAAAAAADwPwAAAAAAAPA/AAAAAAAA8D+amZmZmZnxP5qZmZmZmfE/AAAAAAAA8D+amZmZmZnxP83MzMzMzOw/mpmZmZmZ8T8zMzMzMzPzPwAAAAAAAPA/zczMzMzM7D+amZmZmZnpP5qZmZmZmfE/zczMzMzM7D8AAAAAAADwP5qZmZmZmfE/zczMzMzM7D/NzMzMzMzsP8zMzMzMzPQ/",
          "dtype": "f8"
         }
        },
        {
         "error_x": {
          "array": {
           "bdata": "AAAAAMa52j8AAAAAzIvaPwAAAABW0N8/AAAAAMr+3z8AAAAAVzXgPwAAAAAEiuA/AAAAAA/94D8AAAAANXzhPwAAAADC7OE/AAAAAH5h5T8AAAAAWsnlPwAAAAAOGeY/AAAAANJl5j8AAAAAvLrmPwAAAADsF+c/AAAAACzh6j8AAAAAAHLrPwAAAAAiD+w/AAAAAJy47D8AAAAAZJnzPwAAAADwneg/AAAAAEgJ6T8AAAAAXLDpPwAAAABQT+o/AAAAADDs7T8AAAAAQJvuPwAAAAAcP+8/AAAAANzX7z8AAAAAENXxPwAAAABKI/I/AAAAABhq8j8AAAAAfKnyPwAAAABcm/Q/AAAAAFLU9D8AAAAApgP1PwAAAAAo7vY/AAAAACgO9z8AAAAA3CH3PwAAAABk8fg/AAAAAMDq+D8AAAAADNb4PwAAAADogfo/AAAAAPxp+j8AAAAAdFX6PwAAAAAMBPw/AAAAAKz0+z8AAAAAZOn7PwAAAAA8oP0/AAAAABSd/T8AAAAAGF3/PwAAAAD0ZP8/AAAAAC6ZAEAAAAAAlqIAQAAAAADojAFAAAAAAEyXAUAAAAAAnKEBQAAAAABMjgJAAAAAAICZAkAAAAAALIgDQAAAAABkeARAAAAAAISFBEAAAAAAzHcFQAAAAADUhQVAAAAAADh6BkAAAAAALIkGQAAAAACsfwdAAAAAANR3CEAAAAAAwIgIQAAAAAAUgwlAAAAAACB/CkAAAAAABJIKQAAAAAA4kAtAAAAAACyQDEAAAAAA4JENQAAAAAC8pw1AAAAAAJyrDkAAAAAAKLEPQAAAAABEXBBAAAAAAJxoEEAAAAAASO0QQAAAAADYchFAAAAAADj5EUAAAAAAcIASQAAAAAB8CBNAAAAAAFiRE0AAAAAA/BoUQAAAAABkpRRAAAAAAIwwFUAAAAAAbLwVQAAAAAAESRZAAAAAADzWFkAAAAAAGGQXQAAAAADYbxhAAAAAAIz/GEAAAAAAEtgpQAAAAABksRpAAAAAAMzBG0AAAAAADFQcQAAAAADEby1AAAAAADiMHkAAAAAAqOkvQAAAAADgoyBAAAAAAHztIEAAAAAAzLwxQAAAAACVEFRAAAAAALElQUA=",
           "dtype": "f8"
          },
          "arrayminus": {
           "bdata": "AAAAAMa52j8AAAAAzIvaPwAAAABW0N8/AAAAAMr+3z8AAAAAVzXgPwAAAAAEiuA/AAAAAA/94D8AAAAANXzhPwAAAADC7OE/AAAAAH5h5T8AAAAAWsnlPwAAAAAOGeY/AAAAANJl5j8AAAAAvLrmPwAAAADsF+c/AAAAACzh6j8AAAAAAHLrPwAAAAAiD+w/AAAAAJy47D8AAAAAZJnzPwAAAADwneg/AAAAAEgJ6T8AAAAAXLDpPwAAAABQT+o/AAAAADDs7T8AAAAAQJvuPwAAAAAcP+8/AAAAANzX7z8AAAAAENXxPwAAAABKI/I/AAAAABhq8j8AAAAAfKnyPwAAAABcm/Q/AAAAAFLU9D8AAAAApgP1PwAAAAAo7vY/AAAAACgO9z8AAAAA3CH3PwAAAABk8fg/AAAAAMDq+D8AAAAADNb4PwAAAADogfo/AAAAAPxp+j8AAAAAdFX6PwAAAAAMBPw/AAAAAKz0+z8AAAAAZOn7PwAAAAA8oP0/AAAAABSd/T8AAAAAGF3/PwAAAAD0ZP8/AAAAAC6ZAEAAAAAAlqIAQAAAAADojAFAAAAAAEyXAUAAAAAAnKEBQAAAAABMjgJAAAAAAICZAkAAAAAALIgDQAAAAABkeARAAAAAAISFBEAAAAAAzHcFQAAAAADUhQVAAAAAADh6BkAAAAAALIkGQAAAAACsfwdAAAAAANR3CEAAAAAAwIgIQAAAAAAUgwlAAAAAACB/CkAAAAAABJIKQAAAAAA4kAtAAAAAACyQDEAAAAAA4JENQAAAAAC8pw1AAAAAAJyrDkAAAAAAKLEPQAAAAABEXBBAAAAAAJxoEEAAAAAASO0QQAAAAADYchFAAAAAADj5EUAAAAAAcIASQAAAAAB8CBNAAAAAAFiRE0AAAAAA/BoUQAAAAABkpRRAAAAAAIwwFUAAAAAAbLwVQAAAAAAESRZAAAAAADzWFkAAAAAAGGQXQAAAAADYbxhAAAAAAIz/GEAAAAAAEtgpQAAAAABksRpAAAAAAMzBG0AAAAAADFQcQAAAAADEby1AAAAAADiMHkAAAAAAqOkvQAAAAADgoyBAAAAAAHztIEAAAAAAzLwxQAAAAACVEFRAAAAAALElQUA=",
           "dtype": "f8"
          },
          "color": "#EF553B",
          "symmetric": false,
          "thickness": 1.5,
          "type": "data",
          "width": 0
         },
         "error_y": {
          "array": {
           "bdata": "pvBVG7N3/z/IVF6fqAABQI38BA80PQVA1l7eJJpqB0CeLHLHmCcKQLkAwFPjjQtAP/yEwPLjDEDiDasqdGoOQNhpf8plvA9AYeNuopSuEUCNLoeUSGoRQIf3700zQRFAJx8R6oq1EUDRLbhginQRQDf0y/TN6hBAW71TznQpEUABMqeEZwsRQJZIYTijchBAIwBjZc5BD0DEpYNX2s8MQMYIEN00VgxAvy1ZhOBHCUAAUTKOP5cIQEK4PCtDYAZA06AiFRfPBkATeMCPMh8HQMa7tubW9AVAOAwyBM94BkA26pXSMEMGQDOb3R0eBQZAQI1rmaK0BUAMbUMrjuMEQF4EnfhScQVAODlJKB5fBUBIVB1RWZgFQKfVY8jo9gVAVVmutBFTBEB0zrINPMIEQEdLF779MQRAd8kxRsglBEBU46+c9sUDQHicFa0aWwNAmsveVPQVA0DMvmJGpcICQMHU+jWqZgNAR3S7Bt2xAUCK8py3+7kAQJJAQ5diGAJAFRL0UfLtAUDzaUejhioBQDCYFZjtmwBAG+bitsEGAUBkw5xPzNv/P/L99TRS/P8/qB/L4nA4/z924qdu7079P5t/0SX9pP4/T7pjsyeQ/D/Csa7Vv9P9Pz9JCTVAFP0/EZyEZPb7+j/Ggkvcgkf7P2ncopol9/k/ldfygWBP+z9+arLIlin4PyD19VV8svc/oaHoHolJ+D9D8/2KRZf2P4fq4qPyavc/3GiHaCsv9D8xZmy07Lf0P2AyUSnNDvQ/9jg3a8h48z8f1s6gmAryP4CJSZy00/I/D9WirNPR8D8xs+oc9FzxP7N9XxfKKfA/l/fhucH97z+A4omYbBLtP0Kt7ACobe0/fXhP98XD7T/Bj7yc2L7pPw/0SxRH8+w/tvp9Y5bz5z/dHmGbiCzoP2H76wqhl+g/gTfwzz6g5T9UeqJggsHnPx22DsDMi+g/lrkqge1P4z8ZMfXQ7FLjPzU1qRORhuM/aZQ7EQ8J5T+43I4wQGboP18WzqMxcuI/Lb9MSGpE4T+syT0B0N/hP/f57Rn4BOk/10eoR4Z24T9Qu5iUX0blPx4ZyeGJvt8/seTCKw2C4D8YwNfXo4HkP2L0Id5iifA/VZws8WMh5D8=",
           "dtype": "f8"
          },
          "color": "#EF553B",
          "thickness": 1.5,
          "type": "data",
          "width": 0
         },
         "marker": {
          "color": "#EF553B",
          "size": 3,
          "symbol": "circle"
         },
         "mode": "markers",
         "name": "obs of ME",
         "showlegend": true,
         "type": "scatter",
         "x": {
          "bdata": "AAAAwO3+IEAAAABAGqkiQAAAAED7eyRAAAAAQHR6JkAAAAAAwH0oQAAAAMC1iSpAAAAAACeiLEAAAABAu8kuQAAAAEAlgDBAAAAAQJe6MUAAAAAA7hMzQAAAAEABczRAAAAAQPjWNUAAAADA/D83QAAAAACSrjhAAAAAwFo+OkAAAAAg9PA7QAAAAED9rD1AAAAAIDtzP0AAAAAgS8lAQAAAAACOyEFAAAAA4CqPQkAAAACAEVpDQAAAACAQKkRAAAAAIP4KRUAAAADgG/1FQAAAAECF9EZAAAAAQOHwR0AAAAAg6f5IQAAAAACsHkpAAAAAABdDS0AAAACgs2tMQAAAAGDapU1AAAAAwFfxTkAAAADACyBQQAAAAADTz1BAAAAAQMSHUUAAAABAhEBSQAAAAEDRAFNAAAAA4EHIU0AAAAAARY9UQAAAAOCkXFVAAAAAgFQwVkAAAABAUgNXQAAAAEC43FdAAAAAAJu8WEAAAABAE5xZQAAAAMA5glpAAAAAAC9vW0AAAADAF2NcQAAAAAAgXl1AAAAAQH1gXkAAAABAW2pfQAAAAKDrPWBAAAAAgHzKYEAAAAAAYFdhQAAAAMAf6GFAAAAA4L58YkAAAACARRVjQAAAAMBHtWNAAAAAgD9ZZEAAAADANAFlQAAAAEArrWVAAAAAYCtdZkAAAAAAORFnQAAAAEBcyWdAAAAAQDqJaEAAAACgPE1pQAAAAABsFWpAAAAAwHTlakAAAABAublrQAAAAEBCkmxAAAAAwMNybUAAAAAATFtuQAAAAIAySG9AAAAA4L8ccEAAAACAeZlwQAAAAMBMGnFAAAAAQGCdcUAAAADgtyJyQAAAAGA4rHJAAAAAoOg5c0AAAABAz8tzQAAAAADzYXRAAAAAQFr8dEAAAACAC5t1QAAAAAANPnZAAAAAwGTldkAAAADAGJF3QAAAAIAuQXhAAAAAgKv1eEAAAADAlK55QAAAAIDkbXpAAAAAAKIze0AAAADAYGZ8QAAAAADnn31AAAAAwLN5fkAAAAAAC1p/QAAAAMBsW4BAAAAAQEQOgUAAAABAA8uBQAAAAGA5jYJAAAAAwH4Tg0AAAAAgG+WDQAAAACAU9YZAAAAAwIGJikA=",
          "dtype": "f8"
         },
         "y": {
          "bdata": "VpAvfIQxPkBwJ4cgF9FAQMTNwkZBx0pAIr3CbW4jUEDkmInMe3RUQMK4bSduxVZA3FfNXXreWEC63H3pIzZcQE4ikN+f215A69QAQCWfY0BtOY8B/PViQLYBlDGTqmJAPk0YBvHgY0Bybf7iK0FjQGqy5XceU2JAaB60tE2bYkA6L3oiOYViQHIbQBmLB2FAEWWl0xppXkBnA567+cZZQCCWoBlEbVlAXWFUkZtEVEDvdD5e2KdTQPz5tH7emE9AQN1FALOhUEDDD3Hs1EZRQKe5hrsaME9A3RwhxLClUEBaF9kFZARQQM3/dBf9H09A5t9BwZ9hTkB4lSa912FMQCaYrCWb+k1Ak9O9iymATUDy7l+u1tJNQAFrUl5Gdk5ANquTL4mzSUDnMQCLjNZLQH/fZpxjfUpAz91cEgHdSkAV0f23shhKQGu7LjyDtUhA8Uxlf/cHSECceUYrVm9HQAiC7jWCFElAUqp6m6RpRECc2c1guW9CQInftZfC/kVAd9gVleK+RUAlyI2Wp6RDQMy1+YuVmkJAWvM+nKWBQ0Acf8mV5O1AQI9mJHX0+UBA/9SeNmFpQEAV038cnT88QPJgtBi1hj9AhRaZFGkrO0CwYtLxtKQ9QArHJMYfjzxAfepscXjmN0BZsIpwRKM4QC/Hm1+9LjZAxOvWgkyjOEC8RA2x3DMyQBCuGtleSzFASXZGZhZLMkBRL91s5cUvQBwfQmDpyjFAGg2w1/WOKUDbFBkyq8orQFnT46eDSSlAJWQCmG1uJ0DSUjlnK4gjQIxDBuqgnSVADOY+iFy6IEAeU+ztzDMiQHLH/+p3pB5AmNZFdjnIHUBBS1v1aCEXQNja6HYWLBhArtAikxreGEB3h5j9Cp0RQC3nMQAvNRlAOyLy6NVqEEDX5i9+xpwQQMJut+8yJxFAclhuF8eMCEC+BSKihO4PQMSyrE1FdBFABxugoNDXAUCy/gtHnxYAQFDHTaVwIwJA5E2SYuVMCUDI2I1v8IgHQEbuW6pZq/0/tO1/REPj9j8s0WACM233P/932pcxYwZAOHpxjOOu+j8U7E5djB3/P+BLS6rglPY/uxsuTC6O+D88PkkU/X38P9T1dMhp1QZAxF+tUWmg9D8=",
          "dtype": "f8"
         }
        },
        {
         "error_x": {
          "array": {
           "bdata": "AAAAADg1MUAAAAAA2jExQAAAAADCLjFAAAAAAO8rMUAAAAAAXykxQAAAAAAXJzFAAAAAALDbNkAAAAAAvNg2QAAAAABu1jZAAAAAAMDUNkAAAAAAttM2QAAAAABQ0zZAAAAAAIzTNkAAAAAAbtQ2QAAAAAAF10ZAAAAAALO4SUAAAACAqYdlQAAAAIA91nVAAAAAgNvzekAAAACAfZ2BQAAAAADRbIZAAAAAgDrJjUAAAABA13OUQAAAAADzL55AAAAAwM87qEAAAACA/b2/QA==",
           "dtype": "f8"
          },
          "arrayminus": {
           "bdata": "AAAAADg1MUAAAAAA2jExQAAAAADCLjFAAAAAAO8rMUAAAAAAXykxQAAAAAAXJzFAAAAAALDbNkAAAAAAvNg2QAAAAABu1jZAAAAAAMDUNkAAAAAAttM2QAAAAABQ0zZAAAAAAIzTNkAAAAAAbtQ2QAAAAAAF10ZAAAAAALO4SUAAAACAqYdlQAAAAIA91nVAAAAAgNvzekAAAACAfZ2BQAAAAADRbIZAAAAAgDrJjUAAAABA13OUQAAAAADzL55AAAAAwM87qEAAAACA/b2/QA==",
           "dtype": "f8"
          },
          "color": "#00CC96",
          "symmetric": false,
          "thickness": 1.5,
          "type": "data",
          "width": 0
         },
         "error_y": {
          "array": {
           "bdata": "wx7TEmmKCkAg0HUDz0wJQKqPam/MWAdAeC+wqEjsA0ANT3NSXJEDQOFnqFEycgJAEjIUkpEHBEDci0b7BusBQBZO/LTgMf8/hIBneYgb+j/mmyO2LXv6P+XfntdjOfk/7d7UUhR/+T8w7WlROwH6P9IH70aNTQBAPVwhe0WqAkA2+LSxrFUMQKBSo7RTYxBAxBcgsS5lB0B2pVq58T0AQGHwWhJB3PM/z7cQsJoD8T9HbT5cEHPvPzJ05f9knOw/waoG9ULW7z+u0FSFjOnyPw==",
           "dtype": "f8"
          },
          "color": "#00CC96",
          "thickness": 1.5,
          "type": "data",
          "width": 0
         },
         "marker": {
          "color": "#00CC96",
          "size": 3,
          "symbol": "circle"
         },
         "mode": "markers",
         "name": "obs of HE",
         "showlegend": true,
         "type": "scatter",
         "x": {
          "bdata": "AAAAoJ2SdEAAAADADrl2QAAAAIAY33hAAAAAgMMEe0AAAACAGCp9QAAAAMAfT39AAAAAIKbngEAAAACASVWCQAAAAMDCwoNAAAAAQBwwhUAAAAAAYJ2GQAAAACCYCohAAAAAAM93iUAAAADADuWKQAAAAIAiCY1AAAAAAA8JkEAAAADAyYeTQAAAAGBOrptAAAAAQGrwo0AAAAAgRbarQAAAAGBs3LJAAAAAwC1juUAAAACApRzBQAAAAMAeccdAAAAAgAij0EAAAADgAZrbQA==",
          "dtype": "f8"
         },
         "y": {
          "bdata": "LEihVmRqUkBE9V2il8RNQEvCkjjvuEhAjVaI/BcXQkCCGYtUiLdBQGvgO01+QzpASEMTzFfpOUABOHNOkZs3QPf9J86eyTFABvf+pWZNIkDaN7GZY4QlQGJ9Mt1wkR1AtIZcgcXvHEBoKjapTmceQNh4QFNHyB1AzJ3uSQXSIEBg+bDqiLMkQADtamQznew/QJ0gWIa5DUBgTYEgLCj8P+Buu6zfMOo/4DZYBbop0z+AdhVkQt+3v0BEJ9wPhPK/AC9uNXKdzb/A2fOpcqgAwA==",
          "dtype": "f8"
         }
        }
       ],
       "layout": {
        "height": 600,
        "legend": {
         "x": 1,
         "xanchor": "right",
         "y": 1,
         "yanchor": "bottom"
        },
        "template": {
         "data": {
          "bar": [
           {
            "error_x": {
             "color": "#2a3f5f"
            },
            "error_y": {
             "color": "#2a3f5f"
            },
            "marker": {
             "line": {
              "color": "white",
              "width": 0.5
             },
             "pattern": {
              "fillmode": "overlay",
              "size": 10,
              "solidity": 0.2
             }
            },
            "type": "bar"
           }
          ],
          "barpolar": [
           {
            "marker": {
             "line": {
              "color": "white",
              "width": 0.5
             },
             "pattern": {
              "fillmode": "overlay",
              "size": 10,
              "solidity": 0.2
             }
            },
            "type": "barpolar"
           }
          ],
          "carpet": [
           {
            "aaxis": {
             "endlinecolor": "#2a3f5f",
             "gridcolor": "#C8D4E3",
             "linecolor": "#C8D4E3",
             "minorgridcolor": "#C8D4E3",
             "startlinecolor": "#2a3f5f"
            },
            "baxis": {
             "endlinecolor": "#2a3f5f",
             "gridcolor": "#C8D4E3",
             "linecolor": "#C8D4E3",
             "minorgridcolor": "#C8D4E3",
             "startlinecolor": "#2a3f5f"
            },
            "type": "carpet"
           }
          ],
          "choropleth": [
           {
            "colorbar": {
             "outlinewidth": 0,
             "ticks": ""
            },
            "type": "choropleth"
           }
          ],
          "contour": [
           {
            "colorbar": {
             "outlinewidth": 0,
             "ticks": ""
            },
            "colorscale": [
             [
              0,
              "#0d0887"
             ],
             [
              0.1111111111111111,
              "#46039f"
             ],
             [
              0.2222222222222222,
              "#7201a8"
             ],
             [
              0.3333333333333333,
              "#9c179e"
             ],
             [
              0.4444444444444444,
              "#bd3786"
             ],
             [
              0.5555555555555556,
              "#d8576b"
             ],
             [
              0.6666666666666666,
              "#ed7953"
             ],
             [
              0.7777777777777778,
              "#fb9f3a"
             ],
             [
              0.8888888888888888,
              "#fdca26"
             ],
             [
              1,
              "#f0f921"
             ]
            ],
            "type": "contour"
           }
          ],
          "contourcarpet": [
           {
            "colorbar": {
             "outlinewidth": 0,
             "ticks": ""
            },
            "type": "contourcarpet"
           }
          ],
          "heatmap": [
           {
            "colorbar": {
             "outlinewidth": 0,
             "ticks": ""
            },
            "colorscale": [
             [
              0,
              "#0d0887"
             ],
             [
              0.1111111111111111,
              "#46039f"
             ],
             [
              0.2222222222222222,
              "#7201a8"
             ],
             [
              0.3333333333333333,
              "#9c179e"
             ],
             [
              0.4444444444444444,
              "#bd3786"
             ],
             [
              0.5555555555555556,
              "#d8576b"
             ],
             [
              0.6666666666666666,
              "#ed7953"
             ],
             [
              0.7777777777777778,
              "#fb9f3a"
             ],
             [
              0.8888888888888888,
              "#fdca26"
             ],
             [
              1,
              "#f0f921"
             ]
            ],
            "type": "heatmap"
           }
          ],
          "histogram": [
           {
            "marker": {
             "pattern": {
              "fillmode": "overlay",
              "size": 10,
              "solidity": 0.2
             }
            },
            "type": "histogram"
           }
          ],
          "histogram2d": [
           {
            "colorbar": {
             "outlinewidth": 0,
             "ticks": ""
            },
            "colorscale": [
             [
              0,
              "#0d0887"
             ],
             [
              0.1111111111111111,
              "#46039f"
             ],
             [
              0.2222222222222222,
              "#7201a8"
             ],
             [
              0.3333333333333333,
              "#9c179e"
             ],
             [
              0.4444444444444444,
              "#bd3786"
             ],
             [
              0.5555555555555556,
              "#d8576b"
             ],
             [
              0.6666666666666666,
              "#ed7953"
             ],
             [
              0.7777777777777778,
              "#fb9f3a"
             ],
             [
              0.8888888888888888,
              "#fdca26"
             ],
             [
              1,
              "#f0f921"
             ]
            ],
            "type": "histogram2d"
           }
          ],
          "histogram2dcontour": [
           {
            "colorbar": {
             "outlinewidth": 0,
             "ticks": ""
            },
            "colorscale": [
             [
              0,
              "#0d0887"
             ],
             [
              0.1111111111111111,
              "#46039f"
             ],
             [
              0.2222222222222222,
              "#7201a8"
             ],
             [
              0.3333333333333333,
              "#9c179e"
             ],
             [
              0.4444444444444444,
              "#bd3786"
             ],
             [
              0.5555555555555556,
              "#d8576b"
             ],
             [
              0.6666666666666666,
              "#ed7953"
             ],
             [
              0.7777777777777778,
              "#fb9f3a"
             ],
             [
              0.8888888888888888,
              "#fdca26"
             ],
             [
              1,
              "#f0f921"
             ]
            ],
            "type": "histogram2dcontour"
           }
          ],
          "mesh3d": [
           {
            "colorbar": {
             "outlinewidth": 0,
             "ticks": ""
            },
            "type": "mesh3d"
           }
          ],
          "parcoords": [
           {
            "line": {
             "colorbar": {
              "outlinewidth": 0,
              "ticks": ""
             }
            },
            "type": "parcoords"
           }
          ],
          "pie": [
           {
            "automargin": true,
            "type": "pie"
           }
          ],
          "scatter": [
           {
            "fillpattern": {
             "fillmode": "overlay",
             "size": 10,
             "solidity": 0.2
            },
            "type": "scatter"
           }
          ],
          "scatter3d": [
           {
            "line": {
             "colorbar": {
              "outlinewidth": 0,
              "ticks": ""
             }
            },
            "marker": {
             "colorbar": {
              "outlinewidth": 0,
              "ticks": ""
             }
            },
            "type": "scatter3d"
           }
          ],
          "scattercarpet": [
           {
            "marker": {
             "colorbar": {
              "outlinewidth": 0,
              "ticks": ""
             }
            },
            "type": "scattercarpet"
           }
          ],
          "scattergeo": [
           {
            "marker": {
             "colorbar": {
              "outlinewidth": 0,
              "ticks": ""
             }
            },
            "type": "scattergeo"
           }
          ],
          "scattergl": [
           {
            "marker": {
             "colorbar": {
              "outlinewidth": 0,
              "ticks": ""
             }
            },
            "type": "scattergl"
           }
          ],
          "scattermap": [
           {
            "marker": {
             "colorbar": {
              "outlinewidth": 0,
              "ticks": ""
             }
            },
            "type": "scattermap"
           }
          ],
          "scattermapbox": [
           {
            "marker": {
             "colorbar": {
              "outlinewidth": 0,
              "ticks": ""
             }
            },
            "type": "scattermapbox"
           }
          ],
          "scatterpolar": [
           {
            "marker": {
             "colorbar": {
              "outlinewidth": 0,
              "ticks": ""
             }
            },
            "type": "scatterpolar"
           }
          ],
          "scatterpolargl": [
           {
            "marker": {
             "colorbar": {
              "outlinewidth": 0,
              "ticks": ""
             }
            },
            "type": "scatterpolargl"
           }
          ],
          "scatterternary": [
           {
            "marker": {
             "colorbar": {
              "outlinewidth": 0,
              "ticks": ""
             }
            },
            "type": "scatterternary"
           }
          ],
          "surface": [
           {
            "colorbar": {
             "outlinewidth": 0,
             "ticks": ""
            },
            "colorscale": [
             [
              0,
              "#0d0887"
             ],
             [
              0.1111111111111111,
              "#46039f"
             ],
             [
              0.2222222222222222,
              "#7201a8"
             ],
             [
              0.3333333333333333,
              "#9c179e"
             ],
             [
              0.4444444444444444,
              "#bd3786"
             ],
             [
              0.5555555555555556,
              "#d8576b"
             ],
             [
              0.6666666666666666,
              "#ed7953"
             ],
             [
              0.7777777777777778,
              "#fb9f3a"
             ],
             [
              0.8888888888888888,
              "#fdca26"
             ],
             [
              1,
              "#f0f921"
             ]
            ],
            "type": "surface"
           }
          ],
          "table": [
           {
            "cells": {
             "fill": {
              "color": "#EBF0F8"
             },
             "line": {
              "color": "white"
             }
            },
            "header": {
             "fill": {
              "color": "#C8D4E3"
             },
             "line": {
              "color": "white"
             }
            },
            "type": "table"
           }
          ]
         },
         "layout": {
          "annotationdefaults": {
           "arrowcolor": "#2a3f5f",
           "arrowhead": 0,
           "arrowwidth": 1
          },
          "autotypenumbers": "strict",
          "coloraxis": {
           "colorbar": {
            "outlinewidth": 0,
            "ticks": ""
           }
          },
          "colorscale": {
           "diverging": [
            [
             0,
             "#8e0152"
            ],
            [
             0.1,
             "#c51b7d"
            ],
            [
             0.2,
             "#de77ae"
            ],
            [
             0.3,
             "#f1b6da"
            ],
            [
             0.4,
             "#fde0ef"
            ],
            [
             0.5,
             "#f7f7f7"
            ],
            [
             0.6,
             "#e6f5d0"
            ],
            [
             0.7,
             "#b8e186"
            ],
            [
             0.8,
             "#7fbc41"
            ],
            [
             0.9,
             "#4d9221"
            ],
            [
             1,
             "#276419"
            ]
           ],
           "sequential": [
            [
             0,
             "#0d0887"
            ],
            [
             0.1111111111111111,
             "#46039f"
            ],
            [
             0.2222222222222222,
             "#7201a8"
            ],
            [
             0.3333333333333333,
             "#9c179e"
            ],
            [
             0.4444444444444444,
             "#bd3786"
            ],
            [
             0.5555555555555556,
             "#d8576b"
            ],
            [
             0.6666666666666666,
             "#ed7953"
            ],
            [
             0.7777777777777778,
             "#fb9f3a"
            ],
            [
             0.8888888888888888,
             "#fdca26"
            ],
            [
             1,
             "#f0f921"
            ]
           ],
           "sequentialminus": [
            [
             0,
             "#0d0887"
            ],
            [
             0.1111111111111111,
             "#46039f"
            ],
            [
             0.2222222222222222,
             "#7201a8"
            ],
            [
             0.3333333333333333,
             "#9c179e"
            ],
            [
             0.4444444444444444,
             "#bd3786"
            ],
            [
             0.5555555555555556,
             "#d8576b"
            ],
            [
             0.6666666666666666,
             "#ed7953"
            ],
            [
             0.7777777777777778,
             "#fb9f3a"
            ],
            [
             0.8888888888888888,
             "#fdca26"
            ],
            [
             1,
             "#f0f921"
            ]
           ]
          },
          "colorway": [
           "#636efa",
           "#EF553B",
           "#00cc96",
           "#ab63fa",
           "#FFA15A",
           "#19d3f3",
           "#FF6692",
           "#B6E880",
           "#FF97FF",
           "#FECB52"
          ],
          "font": {
           "color": "#2a3f5f"
          },
          "geo": {
           "bgcolor": "white",
           "lakecolor": "white",
           "landcolor": "white",
           "showlakes": true,
           "showland": true,
           "subunitcolor": "#C8D4E3"
          },
          "hoverlabel": {
           "align": "left"
          },
          "hovermode": "closest",
          "mapbox": {
           "style": "light"
          },
          "paper_bgcolor": "white",
          "plot_bgcolor": "white",
          "polar": {
           "angularaxis": {
            "gridcolor": "#EBF0F8",
            "linecolor": "#EBF0F8",
            "ticks": ""
           },
           "bgcolor": "white",
           "radialaxis": {
            "gridcolor": "#EBF0F8",
            "linecolor": "#EBF0F8",
            "ticks": ""
           }
          },
          "scene": {
           "xaxis": {
            "backgroundcolor": "white",
            "gridcolor": "#DFE8F3",
            "gridwidth": 2,
            "linecolor": "#EBF0F8",
            "showbackground": true,
            "ticks": "",
            "zerolinecolor": "#EBF0F8"
           },
           "yaxis": {
            "backgroundcolor": "white",
            "gridcolor": "#DFE8F3",
            "gridwidth": 2,
            "linecolor": "#EBF0F8",
            "showbackground": true,
            "ticks": "",
            "zerolinecolor": "#EBF0F8"
           },
           "zaxis": {
            "backgroundcolor": "white",
            "gridcolor": "#DFE8F3",
            "gridwidth": 2,
            "linecolor": "#EBF0F8",
            "showbackground": true,
            "ticks": "",
            "zerolinecolor": "#EBF0F8"
           }
          },
          "shapedefaults": {
           "line": {
            "color": "#2a3f5f"
           }
          },
          "ternary": {
           "aaxis": {
            "gridcolor": "#DFE8F3",
            "linecolor": "#A2B1C6",
            "ticks": ""
           },
           "baxis": {
            "gridcolor": "#DFE8F3",
            "linecolor": "#A2B1C6",
            "ticks": ""
           },
           "bgcolor": "white",
           "caxis": {
            "gridcolor": "#DFE8F3",
            "linecolor": "#A2B1C6",
            "ticks": ""
           }
          },
          "title": {
           "x": 0.05
          },
          "xaxis": {
           "automargin": true,
           "gridcolor": "#EBF0F8",
           "linecolor": "#EBF0F8",
           "ticks": "",
           "title": {
            "standoff": 15
           },
           "zerolinecolor": "#EBF0F8",
           "zerolinewidth": 2
          },
          "yaxis": {
           "automargin": true,
           "gridcolor": "#EBF0F8",
           "linecolor": "#EBF0F8",
           "ticks": "",
           "title": {
            "standoff": 15
           },
           "zerolinecolor": "#EBF0F8",
           "zerolinewidth": 2
          }
         }
        },
        "width": 600,
        "xaxis": {
         "title": {
          "text": "Energy (keV)"
         },
         "type": "log"
        },
        "yaxis": {
         "title": {
          "text": "Counts/s/channel"
         },
         "type": "log"
        }
       }
      }
     },
     "metadata": {},
     "output_type": "display_data"
    }
   ],
   "source": [
    "fig = Plot.data(data, style='CC')"
   ]
  },
  {
   "cell_type": "code",
   "execution_count": 12,
   "id": "e75fa0a4-32f3-41bd-a316-456dfdf58848",
   "metadata": {},
   "outputs": [
    {
     "data": {
      "application/vnd.plotly.v1+json": {
       "config": {
        "plotlyServerURL": "https://plot.ly"
       },
       "data": [
        {
         "error_x": {
          "array": {
           "bdata": "AAAAgI/CtT8AAAAA4XqkPwAAAAD2KKw/AAAAAJqZmT8AAAAAheuhPwAAAADgepQ/AAAAAOB6lD8AAAAA5HqUPwAAAACYmZk/AAAAAJyZmT8AAAAA4HqkPwAAAACamak/AAAAAIbroT8AAAAAmJmZPwAAAAA+Cqc/AAAAAOtRuD8AAAAAPgq3PwAAAABcj8I/AAAAAOF6xD8AAAAAexTWPwAAAIAUrtc/",
           "dtype": "f8"
          },
          "arrayminus": {
           "bdata": "AAAAgI/CtT8AAAAA4XqkPwAAAAD2KKw/AAAAAJqZmT8AAAAAheuhPwAAAADgepQ/AAAAAOB6lD8AAAAA5HqUPwAAAACYmZk/AAAAAJyZmT8AAAAA4HqkPwAAAACamak/AAAAAIbroT8AAAAAmJmZPwAAAAA+Cqc/AAAAAOtRuD8AAAAAPgq3PwAAAABcj8I/AAAAAOF6xD8AAAAAexTWPwAAAIAUrtc/",
           "dtype": "f8"
          },
          "color": "#636EFA",
          "symmetric": false,
          "thickness": 1.5,
          "type": "data",
          "width": 0
         },
         "error_y": {
          "array": {
           "bdata": "p+AZ36D3AECs9T64bp8PQDVpx9SV/wZA/Puo1VdMGUAHmMSuv/MSQN7v0qVIlSBAYPaHQ3CfH0CaLatoRZUgQP2yhDx0iBpAB+0yF3CIGkBQDljmDVIRQPz7qNVXTAlAAPMFoL7zEkDnFsCjfLYbQIAlVEIpew1A8EUGePLt+z/pF1i0wMr+P4dAynxyTPI/7+CI1keV8D+J5VgGTcPePwUWd0d/v+A/",
           "dtype": "f8"
          },
          "color": "#636EFA",
          "thickness": 1.5,
          "type": "data",
          "width": 0
         },
         "marker": {
          "color": "#636EFA",
          "size": 3,
          "symbol": "circle"
         },
         "mode": "markers",
         "name": "obs of LE",
         "showlegend": true,
         "type": "scatter",
         "x": {
          "bdata": "AAAAAFK44j8AAAAAUrjmPwAAAGCPwuk/AAAAgOtR7D8AAADAcD3uPwAAAAAAAPA/AAAAANej8D8AAAAArkfxPwAAAAAAAPI/AAAAwMzM8j8AAABACtfzPwAAAACuR/U/AAAAANej9j8AAACgmZn3PwAAAABSuPg/AAAAgML1+j8AAAAghev9PwAAAEAK1wBAAAAAAK5HA0AAAACA61EHQAAAAIA9Cg1A",
          "dtype": "f8"
         },
         "y": {
          "bdata": "WqpAt+HhGUAyAYBXAAApQFBbPXuLLiJAQAEAsP//M0BoXk4Rt20vQIEbALgBgDtAABkAkAEAOUAvfABZ/H87QAASACABADJAgDEA8P3/NUAAHgDgAQAuQEABALD//yNANABzKtq2KUAAEAAAAQAwQB6CWITGcShAMvFXJIfyEkAEX/MD4zgWQPxM3eFGWA5AEwHATgCABkCePXG2m970P1zvAPOsG/w/",
          "dtype": "f8"
         }
        },
        {
         "error_x": {
          "array": {
           "bdata": "AAAAAMa52j8AAAAAzIvaPwAAAABW0N8/AAAAAMr+3z8AAAAAVzXgPwAAAAAEiuA/AAAAAA/94D8AAAAANXzhPwAAAADC7OE/AAAAAH5h5T8AAAAAWsnlPwAAAAAOGeY/AAAAANJl5j8AAAAAvLrmPwAAAADsF+c/AAAAACzh6j8AAAAAAHLrPwAAAAAiD+w/AAAAAJy47D8AAAAAZJnzPwAAAADwneg/AAAAAEgJ6T8AAAAAXLDpPwAAAABQT+o/AAAAADDs7T8AAAAAQJvuPwAAAAAcP+8/AAAAANzX7z8AAAAAENXxPwAAAABKI/I/AAAAABhq8j8AAAAAfKnyPwAAAABcm/Q/AAAAAFLU9D8AAAAApgP1PwAAAAAo7vY/AAAAACgO9z8AAAAA3CH3PwAAAABk8fg/AAAAAMDq+D8AAAAADNb4PwAAAADogfo/AAAAAPxp+j8AAAAAdFX6PwAAAAAMBPw/AAAAAKz0+z8AAAAAZOn7PwAAAAA8oP0/AAAAABSd/T8AAAAAGF3/PwAAAAD0ZP8/AAAAAC6ZAEAAAAAAlqIAQAAAAADojAFAAAAAAEyXAUAAAAAAnKEBQAAAAABMjgJAAAAAAICZAkAAAAAALIgDQAAAAABkeARAAAAAAISFBEAAAAAAzHcFQAAAAADUhQVAAAAAADh6BkAAAAAALIkGQAAAAACsfwdAAAAAANR3CEAAAAAAwIgIQAAAAAAUgwlAAAAAACB/CkAAAAAABJIKQAAAAAA4kAtAAAAAACyQDEAAAAAA4JENQAAAAAC8pw1AAAAAAJyrDkAAAAAAKLEPQAAAAABEXBBAAAAAAJxoEEAAAAAASO0QQAAAAADYchFAAAAAADj5EUAAAAAAcIASQAAAAAB8CBNAAAAAAFiRE0AAAAAA/BoUQAAAAABkpRRAAAAAAIwwFUAAAAAAbLwVQAAAAAAESRZAAAAAADzWFkAAAAAAGGQXQAAAAADYbxhAAAAAAIz/GEAAAAAAEtgpQAAAAABksRpAAAAAAMzBG0AAAAAADFQcQAAAAADEby1AAAAAADiMHkAAAAAAqOkvQAAAAADgoyBAAAAAAHztIEAAAAAAzLwxQAAAAACVEFRAAAAAALElQUA=",
           "dtype": "f8"
          },
          "arrayminus": {
           "bdata": "AAAAAMa52j8AAAAAzIvaPwAAAABW0N8/AAAAAMr+3z8AAAAAVzXgPwAAAAAEiuA/AAAAAA/94D8AAAAANXzhPwAAAADC7OE/AAAAAH5h5T8AAAAAWsnlPwAAAAAOGeY/AAAAANJl5j8AAAAAvLrmPwAAAADsF+c/AAAAACzh6j8AAAAAAHLrPwAAAAAiD+w/AAAAAJy47D8AAAAAZJnzPwAAAADwneg/AAAAAEgJ6T8AAAAAXLDpPwAAAABQT+o/AAAAADDs7T8AAAAAQJvuPwAAAAAcP+8/AAAAANzX7z8AAAAAENXxPwAAAABKI/I/AAAAABhq8j8AAAAAfKnyPwAAAABcm/Q/AAAAAFLU9D8AAAAApgP1PwAAAAAo7vY/AAAAACgO9z8AAAAA3CH3PwAAAABk8fg/AAAAAMDq+D8AAAAADNb4PwAAAADogfo/AAAAAPxp+j8AAAAAdFX6PwAAAAAMBPw/AAAAAKz0+z8AAAAAZOn7PwAAAAA8oP0/AAAAABSd/T8AAAAAGF3/PwAAAAD0ZP8/AAAAAC6ZAEAAAAAAlqIAQAAAAADojAFAAAAAAEyXAUAAAAAAnKEBQAAAAABMjgJAAAAAAICZAkAAAAAALIgDQAAAAABkeARAAAAAAISFBEAAAAAAzHcFQAAAAADUhQVAAAAAADh6BkAAAAAALIkGQAAAAACsfwdAAAAAANR3CEAAAAAAwIgIQAAAAAAUgwlAAAAAACB/CkAAAAAABJIKQAAAAAA4kAtAAAAAACyQDEAAAAAA4JENQAAAAAC8pw1AAAAAAJyrDkAAAAAAKLEPQAAAAABEXBBAAAAAAJxoEEAAAAAASO0QQAAAAADYchFAAAAAADj5EUAAAAAAcIASQAAAAAB8CBNAAAAAAFiRE0AAAAAA/BoUQAAAAABkpRRAAAAAAIwwFUAAAAAAbLwVQAAAAAAESRZAAAAAADzWFkAAAAAAGGQXQAAAAADYbxhAAAAAAIz/GEAAAAAAEtgpQAAAAABksRpAAAAAAMzBG0AAAAAADFQcQAAAAADEby1AAAAAADiMHkAAAAAAqOkvQAAAAADgoyBAAAAAAHztIEAAAAAAzLwxQAAAAACVEFRAAAAAALElQUA=",
           "dtype": "f8"
          },
          "color": "#EF553B",
          "symmetric": false,
          "thickness": 1.5,
          "type": "data",
          "width": 0
         },
         "error_y": {
          "array": {
           "bdata": "1o7YW7/WAkCMcv+q6n4EQN3OSS4GXQVAiYopBn1rB0CEASdXhtEJQAv1shD0pwpA+6AUsJk1C0Apv55rE9ULQIa+0T74UwxAVgDDr8l2CkDuyvPOUJQJQI7yohWQ/AhAZz927SRNCUD3niKMG5MIQLycCfkVcQdAtaNAJGNuBEBj9sOCiN8DQNVkwPYEwgJArzBpw6dpAUAkhvEMW4X3PwGVG4fvagJAhIPz1gAoAEDvWePC06H+P2pFgyEmN/s/EKtq13hk+D+RF1T5tCz4P1l4TGVhfPY//6aG1yKV9j8VA+aQmPnzP02yXnawbPM/1c3oFBLc8j+iTLnQwOjxP7bCbnohpvA/BoaP4Z1q8D/YKPr/N3HwPxaSlGb1pu4/hDTMobA17D/G6gJTcbfsPzKkL7a66Ok/F78CefTf6T9sk2z8EHrpP2ChXVnXXec/oW9QzDof5z+OuSbJBczmP+A1OVH8KOY/TQicZi5B5D/sBgAELi3jP1jaKWeai+M/G+l67NNf4z85p35KsIPhP7HDzIn07eA/HVizeKBp4D/ZOglCbKTeP1TRfaP1KN0/Fv9cR5Jl3D/Bomwnv5jaPx+AFVtvbNo/OZ89cSiS2D+Xbbio/W7YPwPFZGuVutY/Fim6fesJ1T+Jr8XryVTUP+NymEJ7TdM/e2MYD6Rw0z/VzhDopSfRP2bU6ziZItA/BnVZG3XDzz+7kKI4I3fNP38HIa+GX80/j50W52dgyD+RTHGYxvPIP2xz+tdOScc/YnG7HpLQxT/v2LYgLIbDP5qtH5/KUMQ/kZE6TH+MwT/ek1NRJojBP3tIqIJFnb8/3kVA2s0xvz8pGp2V5Hq7PxleK4wz/Lo/tR4NMR1/uj/AJC4sqkO2PwcnNlw1Vrg/5MT/kaCVsz+m0hX13jyzPzN8fZzmDrM/rw6qi1dUsD85uHR4oXyxP+f0ye+Ln7E/OFXH/KUPqz+WJKOWoW+qP2sTTOmZkak//JdDB13tqj8YGD0mFzaeP3mrjIoOHaY/JgUabiDooz91RSms5DCkP0cfKhS7Mps/CHaG0A5Loj9ZC2/eRFWVPwn5EUzqhZ4/pqmLxeg0nz+9HYVtaH+SP0ViI0SNX3o/DB4Ql5rIgj8=",
           "dtype": "f8"
          },
          "color": "#EF553B",
          "thickness": 1.5,
          "type": "data",
          "width": 0
         },
         "marker": {
          "color": "#EF553B",
          "size": 3,
          "symbol": "circle"
         },
         "mode": "markers",
         "name": "obs of ME",
         "showlegend": true,
         "type": "scatter",
         "x": {
          "bdata": "AAAAwO3+IEAAAABAGqkiQAAAAED7eyRAAAAAQHR6JkAAAAAAwH0oQAAAAMC1iSpAAAAAACeiLEAAAABAu8kuQAAAAEAlgDBAAAAAQJe6MUAAAAAA7hMzQAAAAEABczRAAAAAQPjWNUAAAADA/D83QAAAAACSrjhAAAAAwFo+OkAAAAAg9PA7QAAAAED9rD1AAAAAIDtzP0AAAAAgS8lAQAAAAACOyEFAAAAA4CqPQkAAAACAEVpDQAAAACAQKkRAAAAAIP4KRUAAAADgG/1FQAAAAECF9EZAAAAAQOHwR0AAAAAg6f5IQAAAAACsHkpAAAAAABdDS0AAAACgs2tMQAAAAGDapU1AAAAAwFfxTkAAAADACyBQQAAAAADTz1BAAAAAQMSHUUAAAABAhEBSQAAAAEDRAFNAAAAA4EHIU0AAAAAARY9UQAAAAOCkXFVAAAAAgFQwVkAAAABAUgNXQAAAAEC43FdAAAAAAJu8WEAAAABAE5xZQAAAAMA5glpAAAAAAC9vW0AAAADAF2NcQAAAAAAgXl1AAAAAQH1gXkAAAABAW2pfQAAAAKDrPWBAAAAAgHzKYEAAAAAAYFdhQAAAAMAf6GFAAAAA4L58YkAAAACARRVjQAAAAMBHtWNAAAAAgD9ZZEAAAADANAFlQAAAAEArrWVAAAAAYCtdZkAAAAAAORFnQAAAAEBcyWdAAAAAQDqJaEAAAACgPE1pQAAAAABsFWpAAAAAwHTlakAAAABAublrQAAAAEBCkmxAAAAAwMNybUAAAAAATFtuQAAAAIAySG9AAAAA4L8ccEAAAACAeZlwQAAAAMBMGnFAAAAAQGCdcUAAAADgtyJyQAAAAGA4rHJAAAAAoOg5c0AAAABAz8tzQAAAAADzYXRAAAAAQFr8dEAAAACAC5t1QAAAAAANPnZAAAAAwGTldkAAAADAGJF3QAAAAIAuQXhAAAAAgKv1eEAAAADAlK55QAAAAIDkbXpAAAAAAKIze0AAAADAYGZ8QAAAAADnn31AAAAAwLN5fkAAAAAAC1p/QAAAAMBsW4BAAAAAQEQOgUAAAABAA8uBQAAAAGA5jYJAAAAAwH4Tg0AAAAAgG+WDQAAAACAU9YZAAAAAwIGJikA=",
          "dtype": "f8"
         },
         "y": {
          "bdata": "BCE5aXgTQkA5MktLk0VEQLT8XfNf70pA6krrygokUEDjbU0iKzFUQIZTK75oB1ZAdeCTJwhsV0B+mi3lsdBZQAJGV2RVi1tAL2umB/tdXUDzBr8mhdlbQEajH93eB1tAd/EOw6ZmXEDeJN1DnRtbQOwsz05dZFlAmf0ORbAmVkDwQsWQDZhVQAYeSsLWa1NANGG6Xu/wUEB3iBTCJAtFQBwR00fBhlBAHxcm6cznSUAw8FjvCXxIQNHP+jkmN0NAwr31zUrJQUAKWWGiNRBCQMqxqRqi8D9A4YlN7qy6QEAMpM2eJb48QG02CQrUdDtA9cl6H9plOkBA6O4KaFU4QLA5Vf7eRjdA1AbRmimpNkACMbgnE7U2QKdjxopgQTVAvq0+JBfWMUAKPErWQEEzQK1WUtUE/jBAta5N6/E/MUBPr3P+288wQJkSEYw11C1AJbdZCPocLUCh1e4aNHosQG5xm3OVpSxAsifX2p1dJ0CCUXy5CSMlQG853Lr7wSdAhqdXN35/J0AJGNP5rgokQHqnMnZ29iJAmG1tN6HNIkBo4lGPbkggQJY6rpUP9B5AQUsibcfaHUCU0kFGh6IZQNY+zkAQLxtAqLtEQkZfF0BQr252dEgYQIAH326HUhZAov45wWCiEkBInXFPyVwSQLufkZaRfRBAzaxTUrKJEUD68Ty70tgJQL8VA7MWjQdAMrtBZqrsB0DIY1wriLgEQBCUpwhGUQZA3XZV0fPd/j8Zp/WORbwAQAkvnp2AW/0/aotUfi5A+j9CVBnlGiP1Px12UMopU/c/vxNnugN08T/AJ/mhFWHyPxg0dIWo9+0/eRHDAVsK7T+iuOOLKt3lP00clQdYKuY/xr8XShkj5j8CxiOHtHbeP72i6hrMMOU/ngC17RTZ2j9CF+09xHDaPxhnniUQlto/BImSYIyJ0j+N0qkyToHXP5vDER4fENk/YvIYZZ8AyT8QxxUaeQLGPxoIGnuQwMc/7lmjyIEx0D9HlLcmECS9P4Y1KNa5yME/9k9dM+tiuj/PcxJJgna6P3+mbP1HVrg/BL/b56Lzuz+whjp1VTOvP77dP5B9trU/M9+oOK81tz9ihwg9gLOpPwK+YP07NZI/bFkKZiA/kz8=",
          "dtype": "f8"
         }
        },
        {
         "error_x": {
          "array": {
           "bdata": "AAAAADg1MUAAAAAA2jExQAAAAADCLjFAAAAAAO8rMUAAAAAAXykxQAAAAAAXJzFAAAAAALDbNkAAAAAAvNg2QAAAAABu1jZAAAAAAMDUNkAAAAAAttM2QAAAAABQ0zZAAAAAAIzTNkAAAAAAbtQ2QAAAAAAF10ZAAAAAALO4SUAAAACAqYdlQAAAAIA91nVAAAAAgNvzekAAAACAfZ2BQAAAAADRbIZAAAAAgDrJjUAAAABA13OUQAAAAADzL55AAAAAwM87qEAAAACA/b2/QA==",
           "dtype": "f8"
          },
          "arrayminus": {
           "bdata": "AAAAADg1MUAAAAAA2jExQAAAAADCLjFAAAAAAO8rMUAAAAAAXykxQAAAAAAXJzFAAAAAALDbNkAAAAAAvNg2QAAAAABu1jZAAAAAAMDUNkAAAAAAttM2QAAAAABQ0zZAAAAAAIzTNkAAAAAAbtQ2QAAAAAAF10ZAAAAAALO4SUAAAACAqYdlQAAAAIA91nVAAAAAgNvzekAAAACAfZ2BQAAAAADRbIZAAAAAgDrJjUAAAABA13OUQAAAAADzL55AAAAAwM87qEAAAACA/b2/QA==",
           "dtype": "f8"
          },
          "color": "#00CC96",
          "symmetric": false,
          "thickness": 1.5,
          "type": "data",
          "width": 0
         },
         "error_y": {
          "array": {
           "bdata": "24HDQ3ytuD+Nl/+uyIq3P7rju2VtvbU/xFGt5UqQsj8Ca3WkSz6yP3ClzA7bNLE/BY5NSEcKrD+OZjffyxipP6hroOfk2qU/2lBzr9FLoj/BALAwsY+iPwnNjohzrqE/MBLvPB7foT8CDEOMpDmiP6SFxetg15Y/93x6PKE4lz93Gz5GlA6FPxc4JO/gA3g/vP7iMsjGaz+5pqR5YIFdP+BAHzAaV0w/08Zqf1lHQj+0QkeWWZo4P0wo8GY2VC4/FY9sbB8FJT8PN1jS4BATPw==",
           "dtype": "f8"
          },
          "color": "#00CC96",
          "thickness": 1.5,
          "type": "data",
          "width": 0
         },
         "marker": {
          "color": "#00CC96",
          "size": 3,
          "symbol": "circle"
         },
         "mode": "markers",
         "name": "obs of HE",
         "showlegend": true,
         "type": "scatter",
         "x": {
          "bdata": "AAAAoJ2SdEAAAADADrl2QAAAAIAY33hAAAAAgMMEe0AAAACAGCp9QAAAAMAfT39AAAAAIKbngEAAAACASVWCQAAAAMDCwoNAAAAAQBwwhUAAAAAAYJ2GQAAAACCYCohAAAAAAM93iUAAAADADuWKQAAAAIAiCY1AAAAAAA8JkEAAAADAyYeTQAAAAGBOrptAAAAAQGrwo0AAAAAgRbarQAAAAGBs3LJAAAAAwC1juUAAAACApRzBQAAAAMAeccdAAAAAgAij0EAAAADgAZrbQA==",
          "dtype": "f8"
         },
         "y": {
          "bdata": "/qv8nngfAUBA2Dc8GLP7P2Ce1Y5TBfc//795fB3b8D/oSPj/iYTwP2JOwFOpf+g/YybDdSIj4j9SXZMycojgP+CTWPSE7Ng/MGwJhQ6nyT8Ijz3s7SnOP6Y4itb3ucQ/YDx5IW9IxD+4ZuPw1k7FP3yPfvwE3bQ/bI3LuhrttD/wIy/vtsSeP4BWZBY391Q/sK/6oEilcT/AUYsfO5NZP8A1xbzXr0I/AF9Xm1yWJD9AARsX16wCvzgWJOmxoDO/AFQUh5GNA7/sE/HYFssgvw==",
          "dtype": "f8"
         }
        }
       ],
       "layout": {
        "height": 600,
        "legend": {
         "x": 1,
         "xanchor": "right",
         "y": 1,
         "yanchor": "bottom"
        },
        "template": {
         "data": {
          "bar": [
           {
            "error_x": {
             "color": "#2a3f5f"
            },
            "error_y": {
             "color": "#2a3f5f"
            },
            "marker": {
             "line": {
              "color": "white",
              "width": 0.5
             },
             "pattern": {
              "fillmode": "overlay",
              "size": 10,
              "solidity": 0.2
             }
            },
            "type": "bar"
           }
          ],
          "barpolar": [
           {
            "marker": {
             "line": {
              "color": "white",
              "width": 0.5
             },
             "pattern": {
              "fillmode": "overlay",
              "size": 10,
              "solidity": 0.2
             }
            },
            "type": "barpolar"
           }
          ],
          "carpet": [
           {
            "aaxis": {
             "endlinecolor": "#2a3f5f",
             "gridcolor": "#C8D4E3",
             "linecolor": "#C8D4E3",
             "minorgridcolor": "#C8D4E3",
             "startlinecolor": "#2a3f5f"
            },
            "baxis": {
             "endlinecolor": "#2a3f5f",
             "gridcolor": "#C8D4E3",
             "linecolor": "#C8D4E3",
             "minorgridcolor": "#C8D4E3",
             "startlinecolor": "#2a3f5f"
            },
            "type": "carpet"
           }
          ],
          "choropleth": [
           {
            "colorbar": {
             "outlinewidth": 0,
             "ticks": ""
            },
            "type": "choropleth"
           }
          ],
          "contour": [
           {
            "colorbar": {
             "outlinewidth": 0,
             "ticks": ""
            },
            "colorscale": [
             [
              0,
              "#0d0887"
             ],
             [
              0.1111111111111111,
              "#46039f"
             ],
             [
              0.2222222222222222,
              "#7201a8"
             ],
             [
              0.3333333333333333,
              "#9c179e"
             ],
             [
              0.4444444444444444,
              "#bd3786"
             ],
             [
              0.5555555555555556,
              "#d8576b"
             ],
             [
              0.6666666666666666,
              "#ed7953"
             ],
             [
              0.7777777777777778,
              "#fb9f3a"
             ],
             [
              0.8888888888888888,
              "#fdca26"
             ],
             [
              1,
              "#f0f921"
             ]
            ],
            "type": "contour"
           }
          ],
          "contourcarpet": [
           {
            "colorbar": {
             "outlinewidth": 0,
             "ticks": ""
            },
            "type": "contourcarpet"
           }
          ],
          "heatmap": [
           {
            "colorbar": {
             "outlinewidth": 0,
             "ticks": ""
            },
            "colorscale": [
             [
              0,
              "#0d0887"
             ],
             [
              0.1111111111111111,
              "#46039f"
             ],
             [
              0.2222222222222222,
              "#7201a8"
             ],
             [
              0.3333333333333333,
              "#9c179e"
             ],
             [
              0.4444444444444444,
              "#bd3786"
             ],
             [
              0.5555555555555556,
              "#d8576b"
             ],
             [
              0.6666666666666666,
              "#ed7953"
             ],
             [
              0.7777777777777778,
              "#fb9f3a"
             ],
             [
              0.8888888888888888,
              "#fdca26"
             ],
             [
              1,
              "#f0f921"
             ]
            ],
            "type": "heatmap"
           }
          ],
          "histogram": [
           {
            "marker": {
             "pattern": {
              "fillmode": "overlay",
              "size": 10,
              "solidity": 0.2
             }
            },
            "type": "histogram"
           }
          ],
          "histogram2d": [
           {
            "colorbar": {
             "outlinewidth": 0,
             "ticks": ""
            },
            "colorscale": [
             [
              0,
              "#0d0887"
             ],
             [
              0.1111111111111111,
              "#46039f"
             ],
             [
              0.2222222222222222,
              "#7201a8"
             ],
             [
              0.3333333333333333,
              "#9c179e"
             ],
             [
              0.4444444444444444,
              "#bd3786"
             ],
             [
              0.5555555555555556,
              "#d8576b"
             ],
             [
              0.6666666666666666,
              "#ed7953"
             ],
             [
              0.7777777777777778,
              "#fb9f3a"
             ],
             [
              0.8888888888888888,
              "#fdca26"
             ],
             [
              1,
              "#f0f921"
             ]
            ],
            "type": "histogram2d"
           }
          ],
          "histogram2dcontour": [
           {
            "colorbar": {
             "outlinewidth": 0,
             "ticks": ""
            },
            "colorscale": [
             [
              0,
              "#0d0887"
             ],
             [
              0.1111111111111111,
              "#46039f"
             ],
             [
              0.2222222222222222,
              "#7201a8"
             ],
             [
              0.3333333333333333,
              "#9c179e"
             ],
             [
              0.4444444444444444,
              "#bd3786"
             ],
             [
              0.5555555555555556,
              "#d8576b"
             ],
             [
              0.6666666666666666,
              "#ed7953"
             ],
             [
              0.7777777777777778,
              "#fb9f3a"
             ],
             [
              0.8888888888888888,
              "#fdca26"
             ],
             [
              1,
              "#f0f921"
             ]
            ],
            "type": "histogram2dcontour"
           }
          ],
          "mesh3d": [
           {
            "colorbar": {
             "outlinewidth": 0,
             "ticks": ""
            },
            "type": "mesh3d"
           }
          ],
          "parcoords": [
           {
            "line": {
             "colorbar": {
              "outlinewidth": 0,
              "ticks": ""
             }
            },
            "type": "parcoords"
           }
          ],
          "pie": [
           {
            "automargin": true,
            "type": "pie"
           }
          ],
          "scatter": [
           {
            "fillpattern": {
             "fillmode": "overlay",
             "size": 10,
             "solidity": 0.2
            },
            "type": "scatter"
           }
          ],
          "scatter3d": [
           {
            "line": {
             "colorbar": {
              "outlinewidth": 0,
              "ticks": ""
             }
            },
            "marker": {
             "colorbar": {
              "outlinewidth": 0,
              "ticks": ""
             }
            },
            "type": "scatter3d"
           }
          ],
          "scattercarpet": [
           {
            "marker": {
             "colorbar": {
              "outlinewidth": 0,
              "ticks": ""
             }
            },
            "type": "scattercarpet"
           }
          ],
          "scattergeo": [
           {
            "marker": {
             "colorbar": {
              "outlinewidth": 0,
              "ticks": ""
             }
            },
            "type": "scattergeo"
           }
          ],
          "scattergl": [
           {
            "marker": {
             "colorbar": {
              "outlinewidth": 0,
              "ticks": ""
             }
            },
            "type": "scattergl"
           }
          ],
          "scattermap": [
           {
            "marker": {
             "colorbar": {
              "outlinewidth": 0,
              "ticks": ""
             }
            },
            "type": "scattermap"
           }
          ],
          "scattermapbox": [
           {
            "marker": {
             "colorbar": {
              "outlinewidth": 0,
              "ticks": ""
             }
            },
            "type": "scattermapbox"
           }
          ],
          "scatterpolar": [
           {
            "marker": {
             "colorbar": {
              "outlinewidth": 0,
              "ticks": ""
             }
            },
            "type": "scatterpolar"
           }
          ],
          "scatterpolargl": [
           {
            "marker": {
             "colorbar": {
              "outlinewidth": 0,
              "ticks": ""
             }
            },
            "type": "scatterpolargl"
           }
          ],
          "scatterternary": [
           {
            "marker": {
             "colorbar": {
              "outlinewidth": 0,
              "ticks": ""
             }
            },
            "type": "scatterternary"
           }
          ],
          "surface": [
           {
            "colorbar": {
             "outlinewidth": 0,
             "ticks": ""
            },
            "colorscale": [
             [
              0,
              "#0d0887"
             ],
             [
              0.1111111111111111,
              "#46039f"
             ],
             [
              0.2222222222222222,
              "#7201a8"
             ],
             [
              0.3333333333333333,
              "#9c179e"
             ],
             [
              0.4444444444444444,
              "#bd3786"
             ],
             [
              0.5555555555555556,
              "#d8576b"
             ],
             [
              0.6666666666666666,
              "#ed7953"
             ],
             [
              0.7777777777777778,
              "#fb9f3a"
             ],
             [
              0.8888888888888888,
              "#fdca26"
             ],
             [
              1,
              "#f0f921"
             ]
            ],
            "type": "surface"
           }
          ],
          "table": [
           {
            "cells": {
             "fill": {
              "color": "#EBF0F8"
             },
             "line": {
              "color": "white"
             }
            },
            "header": {
             "fill": {
              "color": "#C8D4E3"
             },
             "line": {
              "color": "white"
             }
            },
            "type": "table"
           }
          ]
         },
         "layout": {
          "annotationdefaults": {
           "arrowcolor": "#2a3f5f",
           "arrowhead": 0,
           "arrowwidth": 1
          },
          "autotypenumbers": "strict",
          "coloraxis": {
           "colorbar": {
            "outlinewidth": 0,
            "ticks": ""
           }
          },
          "colorscale": {
           "diverging": [
            [
             0,
             "#8e0152"
            ],
            [
             0.1,
             "#c51b7d"
            ],
            [
             0.2,
             "#de77ae"
            ],
            [
             0.3,
             "#f1b6da"
            ],
            [
             0.4,
             "#fde0ef"
            ],
            [
             0.5,
             "#f7f7f7"
            ],
            [
             0.6,
             "#e6f5d0"
            ],
            [
             0.7,
             "#b8e186"
            ],
            [
             0.8,
             "#7fbc41"
            ],
            [
             0.9,
             "#4d9221"
            ],
            [
             1,
             "#276419"
            ]
           ],
           "sequential": [
            [
             0,
             "#0d0887"
            ],
            [
             0.1111111111111111,
             "#46039f"
            ],
            [
             0.2222222222222222,
             "#7201a8"
            ],
            [
             0.3333333333333333,
             "#9c179e"
            ],
            [
             0.4444444444444444,
             "#bd3786"
            ],
            [
             0.5555555555555556,
             "#d8576b"
            ],
            [
             0.6666666666666666,
             "#ed7953"
            ],
            [
             0.7777777777777778,
             "#fb9f3a"
            ],
            [
             0.8888888888888888,
             "#fdca26"
            ],
            [
             1,
             "#f0f921"
            ]
           ],
           "sequentialminus": [
            [
             0,
             "#0d0887"
            ],
            [
             0.1111111111111111,
             "#46039f"
            ],
            [
             0.2222222222222222,
             "#7201a8"
            ],
            [
             0.3333333333333333,
             "#9c179e"
            ],
            [
             0.4444444444444444,
             "#bd3786"
            ],
            [
             0.5555555555555556,
             "#d8576b"
            ],
            [
             0.6666666666666666,
             "#ed7953"
            ],
            [
             0.7777777777777778,
             "#fb9f3a"
            ],
            [
             0.8888888888888888,
             "#fdca26"
            ],
            [
             1,
             "#f0f921"
            ]
           ]
          },
          "colorway": [
           "#636efa",
           "#EF553B",
           "#00cc96",
           "#ab63fa",
           "#FFA15A",
           "#19d3f3",
           "#FF6692",
           "#B6E880",
           "#FF97FF",
           "#FECB52"
          ],
          "font": {
           "color": "#2a3f5f"
          },
          "geo": {
           "bgcolor": "white",
           "lakecolor": "white",
           "landcolor": "white",
           "showlakes": true,
           "showland": true,
           "subunitcolor": "#C8D4E3"
          },
          "hoverlabel": {
           "align": "left"
          },
          "hovermode": "closest",
          "mapbox": {
           "style": "light"
          },
          "paper_bgcolor": "white",
          "plot_bgcolor": "white",
          "polar": {
           "angularaxis": {
            "gridcolor": "#EBF0F8",
            "linecolor": "#EBF0F8",
            "ticks": ""
           },
           "bgcolor": "white",
           "radialaxis": {
            "gridcolor": "#EBF0F8",
            "linecolor": "#EBF0F8",
            "ticks": ""
           }
          },
          "scene": {
           "xaxis": {
            "backgroundcolor": "white",
            "gridcolor": "#DFE8F3",
            "gridwidth": 2,
            "linecolor": "#EBF0F8",
            "showbackground": true,
            "ticks": "",
            "zerolinecolor": "#EBF0F8"
           },
           "yaxis": {
            "backgroundcolor": "white",
            "gridcolor": "#DFE8F3",
            "gridwidth": 2,
            "linecolor": "#EBF0F8",
            "showbackground": true,
            "ticks": "",
            "zerolinecolor": "#EBF0F8"
           },
           "zaxis": {
            "backgroundcolor": "white",
            "gridcolor": "#DFE8F3",
            "gridwidth": 2,
            "linecolor": "#EBF0F8",
            "showbackground": true,
            "ticks": "",
            "zerolinecolor": "#EBF0F8"
           }
          },
          "shapedefaults": {
           "line": {
            "color": "#2a3f5f"
           }
          },
          "ternary": {
           "aaxis": {
            "gridcolor": "#DFE8F3",
            "linecolor": "#A2B1C6",
            "ticks": ""
           },
           "baxis": {
            "gridcolor": "#DFE8F3",
            "linecolor": "#A2B1C6",
            "ticks": ""
           },
           "bgcolor": "white",
           "caxis": {
            "gridcolor": "#DFE8F3",
            "linecolor": "#A2B1C6",
            "ticks": ""
           }
          },
          "title": {
           "x": 0.05
          },
          "xaxis": {
           "automargin": true,
           "gridcolor": "#EBF0F8",
           "linecolor": "#EBF0F8",
           "ticks": "",
           "title": {
            "standoff": 15
           },
           "zerolinecolor": "#EBF0F8",
           "zerolinewidth": 2
          },
          "yaxis": {
           "automargin": true,
           "gridcolor": "#EBF0F8",
           "linecolor": "#EBF0F8",
           "ticks": "",
           "title": {
            "standoff": 15
           },
           "zerolinecolor": "#EBF0F8",
           "zerolinewidth": 2
          }
         }
        },
        "width": 600,
        "xaxis": {
         "title": {
          "text": "Energy (keV)"
         },
         "type": "log"
        },
        "yaxis": {
         "title": {
          "text": "Counts/s/keV"
         },
         "type": "log"
        }
       }
      }
     },
     "metadata": {},
     "output_type": "display_data"
    }
   ],
   "source": [
    "fig = Plot.data(data, style='CE')"
   ]
  },
  {
   "cell_type": "code",
   "execution_count": null,
   "id": "c22bb7d2-eab7-41c7-b2c1-3cb7cf8f350e",
   "metadata": {},
   "outputs": [],
   "source": []
  }
 ],
 "metadata": {
  "kernelspec": {
   "display_name": "base",
   "language": "python",
   "name": "python3"
  },
  "language_info": {
   "codemirror_mode": {
    "name": "ipython",
    "version": 3
   },
   "file_extension": ".py",
   "mimetype": "text/x-python",
   "name": "python",
   "nbconvert_exporter": "python",
   "pygments_lexer": "ipython3",
   "version": "3.12.8"
  }
 },
 "nbformat": 4,
 "nbformat_minor": 5
}
