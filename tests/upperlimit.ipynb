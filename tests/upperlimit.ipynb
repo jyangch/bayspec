{
 "cells": [
  {
   "cell_type": "code",
   "execution_count": 1,
   "id": "ee3be15e-f2d8-448c-9541-262bf7665fb5",
   "metadata": {},
   "outputs": [],
   "source": [
    "import numpy as np\n",
    "from bayspec.model.local import *\n",
    "from bayspec import DataUnit, Data, Infer\n",
    "from bayspec.util.significance import pgsig"
   ]
  },
  {
   "cell_type": "code",
   "execution_count": 2,
   "id": "e1a1b4c8-aa06-4b06-bd98-98a66e7a8db4",
   "metadata": {},
   "outputs": [
    {
     "name": "stdout",
     "output_type": "stream",
     "text": [
      "ppl [add]\n",
      "cutoff power law model with peak energy\n",
      "╒════════╤═════════════╤═════════════╤═════════╕\n",
      "│  cfg#  │  Component  │  Parameter  │  Value  │\n",
      "╞════════╪═════════════╪═════════════╪═════════╡\n",
      "│   1    │     ppl     │  redshift   │    0    │\n",
      "╘════════╧═════════════╧═════════════╧═════════╛\n",
      "╒════════╤═════════════╤═════════════╤═════════╤═════════════╤══════════╕\n",
      "│  par#  │  Component  │  Parameter  │  Value  │    Prior    │  Frozen  │\n",
      "╞════════╪═════════════╪═════════════╪═════════╪═════════════╪══════════╡\n",
      "│   1    │     ppl     │  $\\alpha$   │   -1    │ unif(-2, 2) │  False   │\n",
      "├────────┼─────────────┼─────────────┼─────────┼─────────────┼──────────┤\n",
      "│   2    │     ppl     │ log$E_{p}$  │    2    │ unif(0, 4)  │  False   │\n",
      "├────────┼─────────────┼─────────────┼─────────┼─────────────┼──────────┤\n",
      "│   3    │     ppl     │   log$A$    │   -1    │ unif(-6, 5) │  False   │\n",
      "╘════════╧═════════════╧═════════════╧═════════╧═════════════╧══════════╛\n",
      "\n"
     ]
    }
   ],
   "source": [
    "model = ppl()\n",
    "print(model)"
   ]
  },
  {
   "cell_type": "code",
   "execution_count": 3,
   "id": "f00ecc1c-6c27-4687-8b53-20b96535ecfa",
   "metadata": {},
   "outputs": [],
   "source": [
    "me = DataUnit(\n",
    "    src='./ME/me.src', \n",
    "    bkg='./ME/me.bkg', \n",
    "    rsp='./ME/me.rsp', \n",
    "    notc=[8, 900], \n",
    "    stat='ULpgstat', \n",
    "    grpg={'min_sigma': 3, 'max_bin': 10})\n",
    "\n",
    "data = Data([('ME', me)])"
   ]
  },
  {
   "cell_type": "code",
   "execution_count": 4,
   "id": "de3594de-0d96-4c1d-8d42-2569c5b9cec4",
   "metadata": {},
   "outputs": [
    {
     "name": "stdout",
     "output_type": "stream",
     "text": [
      "╒════════╤══════════════╤═════════════╤═════════════╤═════════╕\n",
      "│  cfg#  │  Expression  │  Component  │  Parameter  │  Value  │\n",
      "╞════════╪══════════════╪═════════════╪═════════════╪═════════╡\n",
      "│   1    │     ppl      │     ppl     │  redshift   │    0    │\n",
      "╘════════╧══════════════╧═════════════╧═════════════╧═════════╛\n",
      "╒════════╤══════════════╤═════════════╤═════════════╤═════════╤═════════════╕\n",
      "│  par#  │  Expression  │  Component  │  Parameter  │  Value  │    Prior    │\n",
      "╞════════╪══════════════╪═════════════╪═════════════╪═════════╪═════════════╡\n",
      "│   1*   │     ppl      │     ppl     │  $\\alpha$   │   -1    │ unif(-2, 2) │\n",
      "├────────┼──────────────┼─────────────┼─────────────┼─────────┼─────────────┤\n",
      "│   2*   │     ppl      │     ppl     │ log$E_{p}$  │    2    │ unif(0, 4)  │\n",
      "├────────┼──────────────┼─────────────┼─────────────┼─────────┼─────────────┤\n",
      "│   3*   │     ppl      │     ppl     │   log$A$    │   -1    │ unif(-6, 5) │\n",
      "╘════════╧══════════════╧═════════════╧═════════════╧═════════╧═════════════╛\n",
      "\n"
     ]
    }
   ],
   "source": [
    "infer = Infer([(data, model)])\n",
    "print(infer)"
   ]
  },
  {
   "cell_type": "code",
   "execution_count": 5,
   "id": "b5755f35-c2e9-4344-a8a2-d00da4f6a614",
   "metadata": {},
   "outputs": [
    {
     "name": "stdout",
     "output_type": "stream",
     "text": [
      "╒════════╤══════════════╤═════════════╤═════════════╤═════════╤═════════════╕\n",
      "│  par#  │  Expression  │  Component  │  Parameter  │  Value  │    Prior    │\n",
      "╞════════╪══════════════╪═════════════╪═════════════╪═════════╪═════════════╡\n",
      "│   3    │     ppl      │     ppl     │   log$A$    │   -1    │ unif(-6, 5) │\n",
      "╘════════╧══════════════╧═════════════╧═════════════╧═════════╧═════════════╛\n",
      "\n"
     ]
    }
   ],
   "source": [
    "infer.par[1].frozen_at(-1.6)\n",
    "infer.par[2].frozen_at(2.4)\n",
    "\n",
    "print(infer.free_par_info)"
   ]
  },
  {
   "cell_type": "code",
   "execution_count": 6,
   "id": "90b42ea7-100b-4e46-bcbe-2ed45aecaa5e",
   "metadata": {},
   "outputs": [
    {
     "data": {
      "text/plain": [
       "4.352600856650524e-09"
      ]
     },
     "execution_count": 6,
     "metadata": {},
     "output_type": "execute_result"
    }
   ],
   "source": [
    "par_best = infer.minimize(method='Nelder-Mead')\n",
    "infer.at_par(par_best)\n",
    "infer.stat"
   ]
  },
  {
   "cell_type": "code",
   "execution_count": 7,
   "id": "391f0d29-172e-4af7-a450-a4dcef8e6431",
   "metadata": {},
   "outputs": [
    {
     "name": "stdout",
     "output_type": "stream",
     "text": [
      "sigma: 2.9999340257561116\n",
      "stat: 4.352600856650524e-08\n"
     ]
    }
   ],
   "source": [
    "pair = infer.Pair[0]\n",
    "\n",
    "bkg_cts = np.sum(pair.data.bkg_counts[0])\n",
    "bkg_err = np.sqrt(np.sum(pair.data.bkg_errors[0] ** 2))\n",
    "mo_cts = np.sum(pair.model.ctsrate[0] * pair.data.corr_src_exposure[0])\n",
    "\n",
    "sigma = pgsig(mo_cts + bkg_cts, bkg_cts, bkg_err)\n",
    "stat = (sigma - 3) ** 2 / 0.1\n",
    "\n",
    "print('sigma:', sigma)\n",
    "print('stat:', stat)"
   ]
  },
  {
   "cell_type": "code",
   "execution_count": 8,
   "id": "b6cf7de1-67f1-4546-88f5-4620069c1af4",
   "metadata": {},
   "outputs": [
    {
     "name": "stdout",
     "output_type": "stream",
     "text": [
      "╒════════╤═════════════╤═════════════╤══════════╤═════════════╤══════════╕\n",
      "│  par#  │  Component  │  Parameter  │  Value   │    Prior    │  Frozen  │\n",
      "╞════════╪═════════════╪═════════════╪══════════╪═════════════╪══════════╡\n",
      "│   1    │     ppl     │  $\\alpha$   │   -1.6   │ unif(-2, 2) │   True   │\n",
      "├────────┼─────────────┼─────────────┼──────────┼─────────────┼──────────┤\n",
      "│   2    │     ppl     │ log$E_{p}$  │   2.4    │ unif(0, 4)  │   True   │\n",
      "├────────┼─────────────┼─────────────┼──────────┼─────────────┼──────────┤\n",
      "│   3    │     ppl     │   log$A$    │ -2.98188 │ unif(-6, 5) │  False   │\n",
      "╘════════╧═════════════╧═════════════╧══════════╧═════════════╧══════════╛\n",
      "\n"
     ]
    }
   ],
   "source": [
    "print(model.par_info)"
   ]
  },
  {
   "cell_type": "code",
   "execution_count": 9,
   "id": "4e43bd46-8b44-4b28-88f9-c81082883090",
   "metadata": {},
   "outputs": [
    {
     "data": {
      "text/plain": [
       "5.64988540706935e-08"
      ]
     },
     "execution_count": 9,
     "metadata": {},
     "output_type": "execute_result"
    }
   ],
   "source": [
    "model.ergflux(emin=10, emax=1000, ngrid=1000)"
   ]
  },
  {
   "cell_type": "code",
   "execution_count": null,
   "id": "caab417b-4de3-459a-a80e-d7de4101ffcf",
   "metadata": {},
   "outputs": [],
   "source": []
  }
 ],
 "metadata": {
  "kernelspec": {
   "display_name": "Python 3 (ipykernel)",
   "language": "python",
   "name": "python3"
  },
  "language_info": {
   "codemirror_mode": {
    "name": "ipython",
    "version": 3
   },
   "file_extension": ".py",
   "mimetype": "text/x-python",
   "name": "python",
   "nbconvert_exporter": "python",
   "pygments_lexer": "ipython3",
   "version": "3.10.12"
  }
 },
 "nbformat": 4,
 "nbformat_minor": 5
}
